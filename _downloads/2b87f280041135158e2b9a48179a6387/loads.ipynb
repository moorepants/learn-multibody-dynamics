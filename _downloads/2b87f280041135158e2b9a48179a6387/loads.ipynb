{
 "cells": [
  {
   "cell_type": "code",
   "execution_count": 1,
   "id": "a1420acc",
   "metadata": {
    "execution": {
     "iopub.execute_input": "2025-01-22T13:09:35.384794Z",
     "iopub.status.busy": "2025-01-22T13:09:35.384639Z",
     "iopub.status.idle": "2025-01-22T13:09:35.726521Z",
     "shell.execute_reply": "2025-01-22T13:09:35.725993Z"
    }
   },
   "outputs": [],
   "source": [
    "import sympy as sm\n",
    "import sympy.physics.mechanics as me\n",
    "me.init_vprinting(use_latex='mathjax')"
   ]
  },
  {
   "cell_type": "code",
   "execution_count": 2,
   "id": "1cc9248d",
   "metadata": {
    "execution": {
     "iopub.execute_input": "2025-01-22T13:09:35.728263Z",
     "iopub.status.busy": "2025-01-22T13:09:35.728068Z",
     "iopub.status.idle": "2025-01-22T13:09:35.731808Z",
     "shell.execute_reply": "2025-01-22T13:09:35.731314Z"
    }
   },
   "outputs": [],
   "source": [
    "class ReferenceFrame(me.ReferenceFrame):\n",
    "\n",
    "    def __init__(self, *args, **kwargs):\n",
    "\n",
    "        kwargs.pop('latexs', None)\n",
    "\n",
    "        lab = args[0].lower()\n",
    "        tex = r'\\hat{{{}}}_{}'\n",
    "\n",
    "        super(ReferenceFrame, self).__init__(*args,\n",
    "                                             latexs=(tex.format(lab, 'x'),\n",
    "                                                     tex.format(lab, 'y'),\n",
    "                                                     tex.format(lab, 'z')),\n",
    "                                             **kwargs)\n",
    "me.ReferenceFrame = ReferenceFrame"
   ]
  },
  {
   "cell_type": "code",
   "execution_count": 3,
   "id": "6dc346a0",
   "metadata": {
    "execution": {
     "iopub.execute_input": "2025-01-22T13:09:35.733468Z",
     "iopub.status.busy": "2025-01-22T13:09:35.733005Z",
     "iopub.status.idle": "2025-01-22T13:09:35.737156Z",
     "shell.execute_reply": "2025-01-22T13:09:35.736661Z"
    }
   },
   "outputs": [],
   "source": [
    "N = me.ReferenceFrame('N')\n",
    "\n",
    "F1 = 2*N.x + 3*N.y\n",
    "F2 = -4*N.x + 5*N.y\n",
    "\n",
    "r_O_P1 = 2*N.x\n",
    "r_O_P2 = 3*N.x"
   ]
  },
  {
   "cell_type": "code",
   "execution_count": 4,
   "id": "767ae449",
   "metadata": {
    "execution": {
     "iopub.execute_input": "2025-01-22T13:09:35.738623Z",
     "iopub.status.busy": "2025-01-22T13:09:35.738322Z",
     "iopub.status.idle": "2025-01-22T13:09:35.745884Z",
     "shell.execute_reply": "2025-01-22T13:09:35.745390Z"
    }
   },
   "outputs": [
    {
     "data": {
      "text/latex": [
       "$\\displaystyle 61\\hat{n}_z$"
      ],
      "text/plain": [
       "61 n_z"
      ]
     },
     "execution_count": 4,
     "metadata": {},
     "output_type": "execute_result"
    }
   ],
   "source": [
    "r_O_P = -5*N.x\n",
    "\n",
    "M_S_P = me.cross(r_O_P1 - r_O_P, F1) + me.cross(r_O_P2 - r_O_P, F2)\n",
    "M_S_P"
   ]
  },
  {
   "cell_type": "code",
   "execution_count": 5,
   "id": "2f5c1c06",
   "metadata": {
    "execution": {
     "iopub.execute_input": "2025-01-22T13:09:35.747172Z",
     "iopub.status.busy": "2025-01-22T13:09:35.746990Z",
     "iopub.status.idle": "2025-01-22T13:09:35.755055Z",
     "shell.execute_reply": "2025-01-22T13:09:35.754628Z"
    }
   },
   "outputs": [
    {
     "data": {
      "text/latex": [
       "$\\displaystyle 61\\hat{n}_z$"
      ],
      "text/plain": [
       "61 n_z"
      ]
     },
     "execution_count": 5,
     "metadata": {},
     "output_type": "execute_result"
    }
   ],
   "source": [
    "r_O_Q = 5*N.y\n",
    "M_S_Q = me.cross(r_O_P1 - r_O_Q, F1) + me.cross(r_O_P2 - r_O_Q, F2)\n",
    "\n",
    "M_S_P = M_S_Q + me.cross(r_O_Q - r_O_P, F1 + F2)\n",
    "M_S_P"
   ]
  },
  {
   "cell_type": "code",
   "execution_count": 6,
   "id": "f37ffac7",
   "metadata": {
    "execution": {
     "iopub.execute_input": "2025-01-22T13:09:35.756549Z",
     "iopub.status.busy": "2025-01-22T13:09:35.756178Z",
     "iopub.status.idle": "2025-01-22T13:09:35.760611Z",
     "shell.execute_reply": "2025-01-22T13:09:35.760108Z"
    }
   },
   "outputs": [],
   "source": [
    "l, w = sm.symbols('l, w')\n",
    "Ffl, Ffr, Frl, Frr = me.dynamicsymbols('F_{fl}, F_{fr}, F_{rl}, F_{rr}')\n",
    "alphafl, alphafr = me.dynamicsymbols(r'\\alpha_{fl}, \\alpha_{fr}')\n",
    "alpharl, alpharr = me.dynamicsymbols(r'\\alpha_{rl}, \\alpha_{rr}')\n",
    "delta = me.dynamicsymbols('delta')"
   ]
  },
  {
   "cell_type": "code",
   "execution_count": 7,
   "id": "420e2a60",
   "metadata": {
    "execution": {
     "iopub.execute_input": "2025-01-22T13:09:35.761997Z",
     "iopub.status.busy": "2025-01-22T13:09:35.761840Z",
     "iopub.status.idle": "2025-01-22T13:09:35.779659Z",
     "shell.execute_reply": "2025-01-22T13:09:35.779261Z"
    }
   },
   "outputs": [],
   "source": [
    "B = me.ReferenceFrame('B')\n",
    "W = me.ReferenceFrame('W')\n",
    "FR = me.ReferenceFrame('F_R')\n",
    "FL = me.ReferenceFrame('F_L')\n",
    "RR = me.ReferenceFrame('R_R')\n",
    "RL = me.ReferenceFrame('R_L')\n",
    "\n",
    "W.orient_axis(B, delta, B.z)\n",
    "FR.orient_axis(W, alphafr, W.z)\n",
    "FL.orient_axis(W, alphafl, W.z)\n",
    "RR.orient_axis(B, alpharr, B.z)\n",
    "RL.orient_axis(B, alpharl, B.z)"
   ]
  },
  {
   "cell_type": "code",
   "execution_count": 8,
   "id": "d766a4cc",
   "metadata": {
    "execution": {
     "iopub.execute_input": "2025-01-22T13:09:35.781078Z",
     "iopub.status.busy": "2025-01-22T13:09:35.780899Z",
     "iopub.status.idle": "2025-01-22T13:09:36.337446Z",
     "shell.execute_reply": "2025-01-22T13:09:36.336964Z"
    }
   },
   "outputs": [
    {
     "data": {
      "text/latex": [
       "$\\displaystyle (F_{fl} \\cos{\\left(\\alpha_{fl} + \\delta \\right)} + F_{fr} \\cos{\\left(\\alpha_{fr} + \\delta \\right)} + F_{rl} \\cos{\\left(\\alpha_{rl} \\right)} + F_{rr} \\cos{\\left(\\alpha_{rr} \\right)})\\hat{b}_x + (F_{fl} \\sin{\\left(\\alpha_{fl} + \\delta \\right)} + F_{fr} \\sin{\\left(\\alpha_{fr} + \\delta \\right)} + F_{rl} \\sin{\\left(\\alpha_{rl} \\right)} + F_{rr} \\sin{\\left(\\alpha_{rr} \\right)})\\hat{b}_y$"
      ],
      "text/plain": [
       "(F_{fl}⋅cos(\\alpha_{fl} + δ) + F_{fr}⋅cos(\\alpha_{fr} + δ) + F_{rl}⋅cos(\\alpha\n",
       "_{rl}) + F_{rr}⋅cos(\\alpha_{rr})) b_x + (F_{fl}⋅sin(\\alpha_{fl} + δ) + F_{fr}⋅\n",
       "sin(\\alpha_{fr} + δ) + F_{rl}⋅sin(\\alpha_{rl}) + F_{rr}⋅sin(\\alpha_{rr})) b_y"
      ]
     },
     "execution_count": 8,
     "metadata": {},
     "output_type": "execute_result"
    }
   ],
   "source": [
    "R = Ffl*FL.x + Ffr*FR.x + Frl*RL.x + Frr*RR.x\n",
    "R.express(B).simplify()"
   ]
  },
  {
   "cell_type": "code",
   "execution_count": 9,
   "id": "90c53813",
   "metadata": {
    "execution": {
     "iopub.execute_input": "2025-01-22T13:09:36.339003Z",
     "iopub.status.busy": "2025-01-22T13:09:36.338841Z",
     "iopub.status.idle": "2025-01-22T13:09:38.679614Z",
     "shell.execute_reply": "2025-01-22T13:09:38.679155Z"
    }
   },
   "outputs": [
    {
     "data": {
      "text/latex": [
       "$\\displaystyle (\\frac{\\left(l \\sin{\\left(\\alpha_{fl} + \\delta \\right)} + w \\cos{\\left(\\alpha_{fl} + \\delta \\right)}\\right) F_{fl}}{2} + \\frac{\\left(l \\sin{\\left(\\alpha_{fr} + \\delta \\right)} - w \\cos{\\left(\\alpha_{fr} + \\delta \\right)}\\right) F_{fr}}{2} - \\frac{\\left(l \\sin{\\left(\\alpha_{rl} \\right)} - w \\cos{\\left(\\alpha_{rl} \\right)}\\right) F_{rl}}{2} - \\frac{\\left(l \\sin{\\left(\\alpha_{rr} \\right)} + w \\cos{\\left(\\alpha_{rr} \\right)}\\right) F_{rr}}{2})\\hat{b}_z$"
      ],
      "text/plain": [
       "⎛(l⋅sin(\\alpha_{fl} + δ) + w⋅cos(\\alpha_{fl} + δ))⋅F_{fl}   (l⋅sin(\\alpha_{fr}\n",
       "⎜──────────────────────────────────────────────────────── + ──────────────────\n",
       "⎝                           2\n",
       "\n",
       " + δ) - w⋅cos(\\alpha_{fr} + δ))⋅F_{fr}   (l⋅sin(\\alpha_{rl}) - w⋅cos(\\alpha_{r\n",
       "────────────────────────────────────── - ─────────────────────────────────────\n",
       "         2                                                      2\n",
       "\n",
       "l}))⋅F_{rl}   (l⋅sin(\\alpha_{rr}) + w⋅cos(\\alpha_{rr}))⋅F_{rr}⎞\n",
       "─────────── - ────────────────────────────────────────────────⎟ b_z\n",
       "                                     2                        ⎠"
      ]
     },
     "execution_count": 9,
     "metadata": {},
     "output_type": "execute_result"
    }
   ],
   "source": [
    "T = (me.cross(l/2*B.x - w/2*B.y, Ffl*FL.x) +\n",
    "     me.cross(l/2*B.x + w/2*B.y, Ffr*FR.x) +\n",
    "     me.cross(-l/2*B.x - w/2*B.y, Frl*RL.x) +\n",
    "     me.cross(-l/2*B.x + w/2*B.y, Frr*RR.x))\n",
    "T = T.express(B).simplify()\n",
    "T"
   ]
  },
  {
   "cell_type": "code",
   "execution_count": 10,
   "id": "766119ae",
   "metadata": {
    "execution": {
     "iopub.execute_input": "2025-01-22T13:09:38.681030Z",
     "iopub.status.busy": "2025-01-22T13:09:38.680870Z",
     "iopub.status.idle": "2025-01-22T13:09:38.684690Z",
     "shell.execute_reply": "2025-01-22T13:09:38.684202Z"
    }
   },
   "outputs": [
    {
     "data": {
      "text/plain": [
       "(Bo, F_{fr}(t)*F_R.x + F_{fl}(t)*F_L.x + F_{rr}(t)*R_R.x + F_{rl}(t)*R_L.x)"
      ]
     },
     "execution_count": 10,
     "metadata": {},
     "output_type": "execute_result"
    }
   ],
   "source": [
    "Bo = me.Point('Bo')\n",
    "force = (Bo, R)\n",
    "force"
   ]
  },
  {
   "cell_type": "code",
   "execution_count": 11,
   "id": "bed141e3",
   "metadata": {
    "execution": {
     "iopub.execute_input": "2025-01-22T13:09:38.686100Z",
     "iopub.status.busy": "2025-01-22T13:09:38.685932Z",
     "iopub.status.idle": "2025-01-22T13:09:38.691253Z",
     "shell.execute_reply": "2025-01-22T13:09:38.690733Z"
    }
   },
   "outputs": [
    {
     "data": {
      "text/plain": [
       "(B,\n",
       " ((l*sin(\\alpha_{fl}(t) + delta(t)) + w*cos(\\alpha_{fl}(t) + delta(t)))*F_{fl}(t)/2 + (l*sin(\\alpha_{fr}(t) + delta(t)) - w*cos(\\alpha_{fr}(t) + delta(t)))*F_{fr}(t)/2 - (l*sin(\\alpha_{rl}(t)) - w*cos(\\alpha_{rl}(t)))*F_{rl}(t)/2 - (l*sin(\\alpha_{rr}(t)) + w*cos(\\alpha_{rr}(t)))*F_{rr}(t)/2)*B.z)"
      ]
     },
     "execution_count": 11,
     "metadata": {},
     "output_type": "execute_result"
    }
   ],
   "source": [
    "torque = (B, T)\n",
    "torque"
   ]
  },
  {
   "cell_type": "code",
   "execution_count": 12,
   "id": "24b37f3f",
   "metadata": {
    "execution": {
     "iopub.execute_input": "2025-01-22T13:09:38.692537Z",
     "iopub.status.busy": "2025-01-22T13:09:38.692391Z",
     "iopub.status.idle": "2025-01-22T13:09:38.696413Z",
     "shell.execute_reply": "2025-01-22T13:09:38.695903Z"
    }
   },
   "outputs": [],
   "source": [
    "T, q = me.dynamicsymbols('T, q')\n",
    "\n",
    "N = me.ReferenceFrame('N')\n",
    "B = me.ReferenceFrame('B')\n",
    "\n",
    "Tm = T*N.z"
   ]
  },
  {
   "cell_type": "code",
   "execution_count": 13,
   "id": "3bcfe73a",
   "metadata": {
    "execution": {
     "iopub.execute_input": "2025-01-22T13:09:38.697924Z",
     "iopub.status.busy": "2025-01-22T13:09:38.697525Z",
     "iopub.status.idle": "2025-01-22T13:09:38.701625Z",
     "shell.execute_reply": "2025-01-22T13:09:38.701139Z"
    }
   },
   "outputs": [
    {
     "data": {
      "text/plain": [
       "((B, T(t)*N.z), (N, - T(t)*N.z))"
      ]
     },
     "execution_count": 13,
     "metadata": {},
     "output_type": "execute_result"
    }
   ],
   "source": [
    "(B, Tm), (N, -Tm)"
   ]
  },
  {
   "cell_type": "code",
   "execution_count": 14,
   "id": "5878ee08",
   "metadata": {
    "execution": {
     "iopub.execute_input": "2025-01-22T13:09:38.703294Z",
     "iopub.status.busy": "2025-01-22T13:09:38.702881Z",
     "iopub.status.idle": "2025-01-22T13:09:38.707793Z",
     "shell.execute_reply": "2025-01-22T13:09:38.707402Z"
    }
   },
   "outputs": [
    {
     "data": {
      "text/latex": [
       "$\\displaystyle -  g m\\hat{n}_y$"
      ],
      "text/plain": [
       "-g⋅m n_y"
      ]
     },
     "execution_count": 14,
     "metadata": {},
     "output_type": "execute_result"
    }
   ],
   "source": [
    "m, g = sm.symbols('m, g')\n",
    "Fg = -m*g*N.y\n",
    "Fg"
   ]
  },
  {
   "cell_type": "code",
   "execution_count": 15,
   "id": "cd221f93",
   "metadata": {
    "execution": {
     "iopub.execute_input": "2025-01-22T13:09:38.709189Z",
     "iopub.status.busy": "2025-01-22T13:09:38.708881Z",
     "iopub.status.idle": "2025-01-22T13:09:38.713851Z",
     "shell.execute_reply": "2025-01-22T13:09:38.713382Z"
    }
   },
   "outputs": [
    {
     "data": {
      "text/latex": [
       "$\\displaystyle - q_{0} - q_{1} + q_{2}$"
      ],
      "text/plain": [
       "-q₀ - q₁ + q₂"
      ]
     },
     "execution_count": 15,
     "metadata": {},
     "output_type": "execute_result"
    }
   ],
   "source": [
    "q0, k = sm.symbols('q0, k')\n",
    "q1, q2 = me.dynamicsymbols('q1, q2')\n",
    "\n",
    "displacement = q2 - q1 - q0\n",
    "displacement"
   ]
  },
  {
   "cell_type": "code",
   "execution_count": 16,
   "id": "dd6a467b",
   "metadata": {
    "execution": {
     "iopub.execute_input": "2025-01-22T13:09:38.715366Z",
     "iopub.status.busy": "2025-01-22T13:09:38.715122Z",
     "iopub.status.idle": "2025-01-22T13:09:38.720499Z",
     "shell.execute_reply": "2025-01-22T13:09:38.720007Z"
    }
   },
   "outputs": [
    {
     "data": {
      "text/latex": [
       "$\\displaystyle -  k \\left(- q_{0} - q_{1} + q_{2}\\right)\\hat{n}_x$"
      ],
      "text/plain": [
       "-k⋅(-q₀ - q₁ + q₂) n_x"
      ]
     },
     "execution_count": 16,
     "metadata": {},
     "output_type": "execute_result"
    }
   ],
   "source": [
    "Fs = -k*displacement*N.x\n",
    "Fs"
   ]
  },
  {
   "cell_type": "code",
   "execution_count": 17,
   "id": "d5fff06f",
   "metadata": {
    "execution": {
     "iopub.execute_input": "2025-01-22T13:09:38.721987Z",
     "iopub.status.busy": "2025-01-22T13:09:38.721627Z",
     "iopub.status.idle": "2025-01-22T13:09:38.730149Z",
     "shell.execute_reply": "2025-01-22T13:09:38.729634Z"
    }
   },
   "outputs": [
    {
     "data": {
      "text/latex": [
       "$\\displaystyle -  c \\left(- \\dot{q}_{1} + \\dot{q}_{2}\\right)\\hat{n}_x$"
      ],
      "text/plain": [
       "-c⋅(-q₁̇ + q₂̇) n_x"
      ]
     },
     "execution_count": 17,
     "metadata": {},
     "output_type": "execute_result"
    }
   ],
   "source": [
    "c = sm.symbols('c')\n",
    "t = me.dynamicsymbols._t\n",
    "\n",
    "Fc = -c*displacement.diff(t)*N.x\n",
    "Fc"
   ]
  },
  {
   "cell_type": "code",
   "execution_count": 18,
   "id": "d4eac1b4",
   "metadata": {
    "execution": {
     "iopub.execute_input": "2025-01-22T13:09:38.731789Z",
     "iopub.status.busy": "2025-01-22T13:09:38.731391Z",
     "iopub.status.idle": "2025-01-22T13:09:38.742642Z",
     "shell.execute_reply": "2025-01-22T13:09:38.742250Z"
    }
   },
   "outputs": [
    {
     "data": {
      "text/latex": [
       "$\\displaystyle \\begin{cases} g m \\mu & \\text{for}\\: \\dot{q}_{1} - \\dot{q}_{2} > 0 \\\\- g m \\mu & \\text{for}\\: \\dot{q}_{1} - \\dot{q}_{2} < 0 \\\\0 & \\text{otherwise} \\end{cases}\\hat{n}_x$"
      ],
      "text/plain": [
       "⎧g⋅m⋅μ   for q₁̇ - q₂̇ > 0\n",
       "⎪\n",
       "⎨-g⋅m⋅μ  for q₁̇ - q₂̇ < 0 n_x\n",
       "⎪\n",
       "⎩  0        otherwise"
      ]
     },
     "execution_count": 18,
     "metadata": {},
     "output_type": "execute_result"
    }
   ],
   "source": [
    "mu, m, g = sm.symbols('mu, m, g')\n",
    "\n",
    "Fn = m*g\n",
    "\n",
    "displacement = q2 - q1\n",
    "\n",
    "Ff = sm.Piecewise((mu*Fn, displacement.diff(t) < 0),\n",
    "                  (-mu*Fn, displacement.diff(t) > 0),\n",
    "                  (0, True))*N.x\n",
    "Ff"
   ]
  },
  {
   "cell_type": "code",
   "execution_count": 19,
   "id": "7d85f055",
   "metadata": {
    "execution": {
     "iopub.execute_input": "2025-01-22T13:09:38.744249Z",
     "iopub.status.busy": "2025-01-22T13:09:38.743759Z",
     "iopub.status.idle": "2025-01-22T13:09:38.750019Z",
     "shell.execute_reply": "2025-01-22T13:09:38.749643Z"
    }
   },
   "outputs": [
    {
     "data": {
      "text/latex": [
       "$\\displaystyle -  g m \\mu \\operatorname{sign}{\\left(- \\dot{q}_{1} + \\dot{q}_{2} \\right)}\\hat{n}_x$"
      ],
      "text/plain": [
       "-g⋅m⋅μ⋅sign(-q₁̇ + q₂̇) n_x"
      ]
     },
     "execution_count": 19,
     "metadata": {},
     "output_type": "execute_result"
    }
   ],
   "source": [
    "Ff = -mu*Fn*sm.sign(displacement.diff(t))*N.x\n",
    "Ff"
   ]
  },
  {
   "cell_type": "code",
   "execution_count": 20,
   "id": "3a09a471",
   "metadata": {
    "execution": {
     "iopub.execute_input": "2025-01-22T13:09:38.751317Z",
     "iopub.status.busy": "2025-01-22T13:09:38.751168Z",
     "iopub.status.idle": "2025-01-22T13:09:38.768429Z",
     "shell.execute_reply": "2025-01-22T13:09:38.767918Z"
    }
   },
   "outputs": [
    {
     "data": {
      "text/latex": [
       "$\\displaystyle -  \\frac{A C_{d} \\rho \\sqrt{u_{x}^{2} + u_{y}^{2} + u_{z}^{2}} u_{x}}{2}\\hat{n}_x -  \\frac{A C_{d} \\rho \\sqrt{u_{x}^{2} + u_{y}^{2} + u_{z}^{2}} u_{y}}{2}\\hat{n}_y -  \\frac{A C_{d} \\rho \\sqrt{u_{x}^{2} + u_{y}^{2} + u_{z}^{2}} u_{z}}{2}\\hat{n}_z$"
      ],
      "text/plain": [
       "            ___________________                       ___________________\n",
       "           ╱   2      2      2                       ╱   2      2      2\n",
       "-A⋅C_d⋅ρ⋅╲╱  uₓ  + u_y  + u_z  ⋅uₓ        -A⋅C_d⋅ρ⋅╲╱  uₓ  + u_y  + u_z  ⋅u_y\n",
       "─────────────────────────────────── n_x + ────────────────────────────────────\n",
       "                 2                                         2\n",
       "\n",
       "                   ___________________\n",
       "                  ╱   2      2      2\n",
       "       -A⋅C_d⋅ρ⋅╲╱  uₓ  + u_y  + u_z  ⋅u_z\n",
       " n_y + ──────────────────────────────────── n_z\n",
       "                        2"
      ]
     },
     "execution_count": 20,
     "metadata": {},
     "output_type": "execute_result"
    }
   ],
   "source": [
    "A, Cd, rho = sm.symbols('A, C_d, rho')\n",
    "ux, uy, uz = me.dynamicsymbols('u_x, u_y, u_z', real=True)\n",
    "\n",
    "N_v_P = ux*N.x + uy*N.y + uz*N.z\n",
    "\n",
    "Fd = -N_v_P.normalize()*Cd*A*rho/2*N_v_P.dot(N_v_P)\n",
    "Fd"
   ]
  },
  {
   "cell_type": "code",
   "execution_count": 21,
   "id": "5f896365",
   "metadata": {
    "execution": {
     "iopub.execute_input": "2025-01-22T13:09:38.769740Z",
     "iopub.status.busy": "2025-01-22T13:09:38.769589Z",
     "iopub.status.idle": "2025-01-22T13:09:38.774681Z",
     "shell.execute_reply": "2025-01-22T13:09:38.774211Z"
    }
   },
   "outputs": [
    {
     "data": {
      "text/latex": [
       "$\\displaystyle -  \\frac{A C_{d} \\rho u_{x} \\left|{u_{x}}\\right|}{2}\\hat{n}_x$"
      ],
      "text/plain": [
       "-A⋅C_d⋅ρ⋅uₓ⋅│uₓ│\n",
       "───────────────── n_x\n",
       "        2"
      ]
     },
     "execution_count": 21,
     "metadata": {},
     "output_type": "execute_result"
    }
   ],
   "source": [
    "Fd.xreplace({uy: 0, uz:0})"
   ]
  },
  {
   "cell_type": "code",
   "execution_count": 22,
   "id": "20b8ebac",
   "metadata": {
    "execution": {
     "iopub.execute_input": "2025-01-22T13:09:38.776244Z",
     "iopub.status.busy": "2025-01-22T13:09:38.775936Z",
     "iopub.status.idle": "2025-01-22T13:09:38.783526Z",
     "shell.execute_reply": "2025-01-22T13:09:38.783063Z"
    }
   },
   "outputs": [
    {
     "data": {
      "text/latex": [
       "$\\displaystyle - \\frac{z}{2} + \\frac{\\left|{z}\\right|}{2}$"
      ],
      "text/plain": [
       "  z   │z│\n",
       "- ─ + ───\n",
       "  2    2 "
      ]
     },
     "execution_count": 22,
     "metadata": {},
     "output_type": "execute_result"
    }
   ],
   "source": [
    "x, y, z, zd = me.dynamicsymbols('x, y, z, \\dot{z}', real=True)\n",
    "\n",
    "r_O_P = x*N.x + y*N.y + z*N.z\n",
    "\n",
    "zh = r_O_P.dot(N.z)\n",
    "\n",
    "zp = (sm.Abs(zh) - zh)/2\n",
    "zp"
   ]
  },
  {
   "cell_type": "code",
   "execution_count": 23,
   "id": "6bb9ea84",
   "metadata": {
    "execution": {
     "iopub.execute_input": "2025-01-22T13:09:38.784927Z",
     "iopub.status.busy": "2025-01-22T13:09:38.784638Z",
     "iopub.status.idle": "2025-01-22T13:09:38.791852Z",
     "shell.execute_reply": "2025-01-22T13:09:38.791384Z"
    }
   },
   "outputs": [
    {
     "data": {
      "text/latex": [
       "$\\displaystyle (c \\left(- \\frac{z}{2} + \\frac{\\left|{z}\\right|}{2}\\right)^{\\frac{3}{2}} \\dot{z} + k \\left(- \\frac{z}{2} + \\frac{\\left|{z}\\right|}{2}\\right)^{\\frac{3}{2}})\\hat{n}_z$"
      ],
      "text/plain": [
       "⎛             3/2                        3/2⎞\n",
       "⎜  ⎛  z   │z│⎞                ⎛  z   │z│⎞   ⎟\n",
       "⎜c⋅⎜- ─ + ───⎟   ⋅\\dot{z} + k⋅⎜- ─ + ───⎟   ⎟ n_z\n",
       "⎝  ⎝  2    2 ⎠                ⎝  2    2 ⎠   ⎠"
      ]
     },
     "execution_count": 23,
     "metadata": {},
     "output_type": "execute_result"
    }
   ],
   "source": [
    "k, c = sm.symbols('k, c')\n",
    "\n",
    "Fz = (k*zp**(sm.S(3)/2) + c*zp**(sm.S(3)/2)*zd)*N.z\n",
    "Fz"
   ]
  },
  {
   "cell_type": "code",
   "execution_count": 24,
   "id": "24f67882",
   "metadata": {
    "execution": {
     "iopub.execute_input": "2025-01-22T13:09:38.793296Z",
     "iopub.status.busy": "2025-01-22T13:09:38.793143Z",
     "iopub.status.idle": "2025-01-22T13:09:38.797252Z",
     "shell.execute_reply": "2025-01-22T13:09:38.796734Z"
    }
   },
   "outputs": [
    {
     "data": {
      "text/latex": [
       "$\\displaystyle 0$"
      ],
      "text/plain": [
       "0"
      ]
     },
     "execution_count": 24,
     "metadata": {},
     "output_type": "execute_result"
    }
   ],
   "source": [
    "Fz.xreplace({z: sm.Symbol('z', positive=True)})"
   ]
  },
  {
   "cell_type": "code",
   "execution_count": 25,
   "id": "691154bd",
   "metadata": {
    "execution": {
     "iopub.execute_input": "2025-01-22T13:09:38.798730Z",
     "iopub.status.busy": "2025-01-22T13:09:38.798489Z",
     "iopub.status.idle": "2025-01-22T13:09:38.804063Z",
     "shell.execute_reply": "2025-01-22T13:09:38.803585Z"
    }
   },
   "outputs": [
    {
     "data": {
      "text/latex": [
       "$\\displaystyle (c \\left(- z\\right)^{\\frac{3}{2}} \\dot{z} + k \\left(- z\\right)^{\\frac{3}{2}})\\hat{n}_z$"
      ],
      "text/plain": [
       "⎛      3/2                 3/2⎞\n",
       "⎝c⋅(-z)   ⋅\\dot{z} + k⋅(-z)   ⎠ n_z"
      ]
     },
     "execution_count": 25,
     "metadata": {},
     "output_type": "execute_result"
    }
   ],
   "source": [
    "Fz.xreplace({z: sm.Symbol('z', negative=True)})"
   ]
  },
  {
   "cell_type": "code",
   "execution_count": 26,
   "id": "8653fb01",
   "metadata": {
    "execution": {
     "iopub.execute_input": "2025-01-22T13:09:38.805624Z",
     "iopub.status.busy": "2025-01-22T13:09:38.805153Z",
     "iopub.status.idle": "2025-01-22T13:09:38.817784Z",
     "shell.execute_reply": "2025-01-22T13:09:38.817283Z"
    }
   },
   "outputs": [
    {
     "data": {
      "text/latex": [
       "$\\displaystyle -  \\frac{\\mu \\left(c \\left(- \\frac{z}{2} + \\frac{\\left|{z}\\right|}{2}\\right)^{\\frac{3}{2}} \\dot{z} + k \\left(- \\frac{z}{2} + \\frac{\\left|{z}\\right|}{2}\\right)^{\\frac{3}{2}}\\right) \\left|{\\dot{x}}\\right|}{\\dot{x}}\\hat{n}_x$"
      ],
      "text/plain": [
       "   ⎛             3/2                        3/2⎞\n",
       "   ⎜  ⎛  z   │z│⎞                ⎛  z   │z│⎞   ⎟\n",
       "-μ⋅⎜c⋅⎜- ─ + ───⎟   ⋅\\dot{z} + k⋅⎜- ─ + ───⎟   ⎟⋅│ẋ│\n",
       "   ⎝  ⎝  2    2 ⎠                ⎝  2    2 ⎠   ⎠\n",
       "───────────────────────────────────────────────────── n_x\n",
       "                          ẋ"
      ]
     },
     "execution_count": 26,
     "metadata": {},
     "output_type": "execute_result"
    }
   ],
   "source": [
    "mu = sm.symbols('mu')\n",
    "\n",
    "vx = r_O_P.dot(N.x).diff(t)\n",
    "vy = r_O_P.dot(N.y).diff(t)\n",
    "\n",
    "Fx = -sm.Abs(vx)/vx*mu*Fz.dot(N.z)*N.x\n",
    "Fx"
   ]
  },
  {
   "cell_type": "code",
   "execution_count": 27,
   "id": "690ca75c",
   "metadata": {
    "execution": {
     "iopub.execute_input": "2025-01-22T13:09:38.819449Z",
     "iopub.status.busy": "2025-01-22T13:09:38.819022Z",
     "iopub.status.idle": "2025-01-22T13:09:38.829435Z",
     "shell.execute_reply": "2025-01-22T13:09:38.829065Z"
    }
   },
   "outputs": [
    {
     "data": {
      "text/latex": [
       "$\\displaystyle -  \\frac{\\mu \\left(c \\left(- \\frac{z}{2} + \\frac{\\left|{z}\\right|}{2}\\right)^{\\frac{3}{2}} \\dot{z} + k \\left(- \\frac{z}{2} + \\frac{\\left|{z}\\right|}{2}\\right)^{\\frac{3}{2}}\\right) \\left|{\\dot{y}}\\right|}{\\dot{y}}\\hat{n}_y$"
      ],
      "text/plain": [
       "   ⎛             3/2                        3/2⎞\n",
       "   ⎜  ⎛  z   │z│⎞                ⎛  z   │z│⎞   ⎟\n",
       "-μ⋅⎜c⋅⎜- ─ + ───⎟   ⋅\\dot{z} + k⋅⎜- ─ + ───⎟   ⎟⋅│ẏ│\n",
       "   ⎝  ⎝  2    2 ⎠                ⎝  2    2 ⎠   ⎠\n",
       "───────────────────────────────────────────────────── n_y\n",
       "                          ẏ"
      ]
     },
     "execution_count": 27,
     "metadata": {},
     "output_type": "execute_result"
    }
   ],
   "source": [
    "Fy = -sm.Abs(vy)/vy*mu*Fz.dot(N.z)*N.y\n",
    "Fy"
   ]
  },
  {
   "cell_type": "code",
   "execution_count": 28,
   "id": "5b4a595a",
   "metadata": {
    "execution": {
     "iopub.execute_input": "2025-01-22T13:09:38.830759Z",
     "iopub.status.busy": "2025-01-22T13:09:38.830619Z",
     "iopub.status.idle": "2025-01-22T13:09:38.835874Z",
     "shell.execute_reply": "2025-01-22T13:09:38.835378Z"
    }
   },
   "outputs": [
    {
     "data": {
      "text/latex": [
       "$\\displaystyle \\left( 0, \\  0, \\  0\\right)$"
      ],
      "text/plain": [
       "(0, 0, 0)"
      ]
     },
     "execution_count": 28,
     "metadata": {},
     "output_type": "execute_result"
    }
   ],
   "source": [
    "vz = me.dynamicsymbols('v_z', negative=True)\n",
    "\n",
    "repl = {zd: vz, z: sm.Symbol('z', positive=True)}\n",
    "\n",
    "Fx.xreplace(repl), Fy.xreplace(repl), Fz.xreplace(repl)"
   ]
  },
  {
   "cell_type": "code",
   "execution_count": 29,
   "id": "090cc328",
   "metadata": {
    "execution": {
     "iopub.execute_input": "2025-01-22T13:09:38.837295Z",
     "iopub.status.busy": "2025-01-22T13:09:38.837145Z",
     "iopub.status.idle": "2025-01-22T13:09:38.848065Z",
     "shell.execute_reply": "2025-01-22T13:09:38.847693Z"
    }
   },
   "outputs": [
    {
     "data": {
      "text/latex": [
       "$\\displaystyle \\left( -  \\frac{\\mu \\left(c \\left(- z\\right)^{\\frac{3}{2}} v_{z} + k \\left(- z\\right)^{\\frac{3}{2}}\\right) \\left|{\\dot{x}}\\right|}{\\dot{x}}\\hat{n}_x, \\  -  \\frac{\\mu \\left(c \\left(- z\\right)^{\\frac{3}{2}} v_{z} + k \\left(- z\\right)^{\\frac{3}{2}}\\right) \\left|{\\dot{y}}\\right|}{\\dot{y}}\\hat{n}_y, \\  (c \\left(- z\\right)^{\\frac{3}{2}} v_{z} + k \\left(- z\\right)^{\\frac{3}{2}})\\hat{n}_z\\right)$"
      ],
      "text/plain": [
       "⎛        ⎛      3/2             3/2⎞    ,         ⎛      3/2             3/2⎞ \n",
       "⎜  -μ⋅⎝c⋅(-z)   ⋅v_z + k⋅(-z)   ⎠⋅│ẋ│      -μ⋅⎝c⋅(-z)   ⋅v_z + k⋅(-z)   ⎠⋅│ẏ\n",
       "⎜─────────────────────────────────── n_x  ─────────────────────────────────── \n",
       "⎝                           ẋ                                       ẏ       \n",
       "\n",
       "   ,   ⎛      3/2             3/2⎞  ⎞\n",
       "│    ⎝c⋅(-z)   ⋅v_z + k⋅(-z)   ⎠ n_z⎟\n",
       "n_y                                 ⎟\n",
       "                                    ⎠"
      ]
     },
     "execution_count": 29,
     "metadata": {},
     "output_type": "execute_result"
    }
   ],
   "source": [
    "vz = me.dynamicsymbols('v_z', negative=True)\n",
    "\n",
    "repl = {zd: vz, z: sm.Symbol('z', negative=True)}\n",
    "\n",
    "Fx.xreplace(repl), Fy.xreplace(repl), Fz.xreplace(repl)"
   ]
  },
  {
   "cell_type": "code",
   "execution_count": 30,
   "id": "c239becf",
   "metadata": {
    "execution": {
     "iopub.execute_input": "2025-01-22T13:09:38.849353Z",
     "iopub.status.busy": "2025-01-22T13:09:38.849207Z",
     "iopub.status.idle": "2025-01-22T13:09:38.860661Z",
     "shell.execute_reply": "2025-01-22T13:09:38.860265Z"
    }
   },
   "outputs": [
    {
     "data": {
      "text/latex": [
       "$\\displaystyle -  \\frac{\\mu \\left(c \\left(- \\frac{z}{2} + \\frac{\\left|{z}\\right|}{2}\\right)^{\\frac{3}{2}} \\dot{z} + k \\left(- \\frac{z}{2} + \\frac{\\left|{z}\\right|}{2}\\right)^{\\frac{3}{2}}\\right) \\left|{\\dot{x}}\\right|}{\\dot{x}}\\hat{n}_x -  \\frac{\\mu \\left(c \\left(- \\frac{z}{2} + \\frac{\\left|{z}\\right|}{2}\\right)^{\\frac{3}{2}} \\dot{z} + k \\left(- \\frac{z}{2} + \\frac{\\left|{z}\\right|}{2}\\right)^{\\frac{3}{2}}\\right) \\left|{\\dot{y}}\\right|}{\\dot{y}}\\hat{n}_y + (c \\left(- \\frac{z}{2} + \\frac{\\left|{z}\\right|}{2}\\right)^{\\frac{3}{2}} \\dot{z} + k \\left(- \\frac{z}{2} + \\frac{\\left|{z}\\right|}{2}\\right)^{\\frac{3}{2}})\\hat{n}_z$"
      ],
      "text/plain": [
       "   ⎛             3/2                        3/2⎞               ⎛             3\n",
       "   ⎜  ⎛  z   │z│⎞                ⎛  z   │z│⎞   ⎟               ⎜  ⎛  z   │z│⎞\n",
       "-μ⋅⎜c⋅⎜- ─ + ───⎟   ⋅\\dot{z} + k⋅⎜- ─ + ───⎟   ⎟⋅│ẋ│        -μ⋅⎜c⋅⎜- ─ + ───⎟\n",
       "   ⎝  ⎝  2    2 ⎠                ⎝  2    2 ⎠   ⎠               ⎝  ⎝  2    2 ⎠\n",
       "───────────────────────────────────────────────────── n_x + ──────────────────\n",
       "                          ẋ\n",
       "\n",
       "/2                        3/2⎞\n",
       "               ⎛  z   │z│⎞   ⎟\n",
       "   ⋅\\dot{z} + k⋅⎜- ─ + ───⎟   ⎟⋅│ẏ│        ⎛             3/2\n",
       "               ⎝  2    2 ⎠   ⎠            ⎜  ⎛  z   │z│⎞                ⎛  z\n",
       "─────────────────────────────────── n_y + ⎜c⋅⎜- ─ + ───⎟   ⋅\\dot{z} + k⋅⎜- ─ +\n",
       "        ẏ                                ⎝  ⎝  2    2 ⎠                ⎝  2\n",
       "\n",
       "\n",
       "\n",
       "       3/2⎞\n",
       " │z│⎞   ⎟\n",
       " ───⎟   ⎟ n_z\n",
       "  2 ⎠   ⎠"
      ]
     },
     "execution_count": 30,
     "metadata": {},
     "output_type": "execute_result"
    }
   ],
   "source": [
    "Fx + Fy + Fz"
   ]
  }
 ],
 "metadata": {
  "kernelspec": {
   "display_name": "Python 3 (ipykernel)",
   "language": "python",
   "name": "python3"
  },
  "language_info": {
   "codemirror_mode": {
    "name": "ipython",
    "version": 3
   },
   "file_extension": ".py",
   "mimetype": "text/x-python",
   "name": "python",
   "nbconvert_exporter": "python",
   "pygments_lexer": "ipython3",
   "version": "3.11.11"
  }
 },
 "nbformat": 4,
 "nbformat_minor": 5
}