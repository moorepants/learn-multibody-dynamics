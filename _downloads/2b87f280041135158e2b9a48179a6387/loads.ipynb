{
 "cells": [
  {
   "cell_type": "code",
   "execution_count": 1,
   "id": "15f72a2d",
   "metadata": {
    "execution": {
     "iopub.execute_input": "2025-09-11T11:36:46.809896Z",
     "iopub.status.busy": "2025-09-11T11:36:46.809752Z",
     "iopub.status.idle": "2025-09-11T11:36:47.146882Z",
     "shell.execute_reply": "2025-09-11T11:36:47.146319Z"
    }
   },
   "outputs": [],
   "source": [
    "import sympy as sm\n",
    "import sympy.physics.mechanics as me\n",
    "me.init_vprinting(use_latex='mathjax')"
   ]
  },
  {
   "cell_type": "code",
   "execution_count": 2,
   "id": "0773b862",
   "metadata": {
    "execution": {
     "iopub.execute_input": "2025-09-11T11:36:47.148598Z",
     "iopub.status.busy": "2025-09-11T11:36:47.148392Z",
     "iopub.status.idle": "2025-09-11T11:36:47.151785Z",
     "shell.execute_reply": "2025-09-11T11:36:47.151390Z"
    }
   },
   "outputs": [],
   "source": [
    "class ReferenceFrame(me.ReferenceFrame):\n",
    "\n",
    "    def __init__(self, *args, **kwargs):\n",
    "\n",
    "        kwargs.pop('latexs', None)\n",
    "\n",
    "        lab = args[0].lower()\n",
    "        tex = r'\\hat{{{}}}_{}'\n",
    "\n",
    "        super(ReferenceFrame, self).__init__(*args,\n",
    "                                             latexs=(tex.format(lab, 'x'),\n",
    "                                                     tex.format(lab, 'y'),\n",
    "                                                     tex.format(lab, 'z')),\n",
    "                                             **kwargs)\n",
    "me.ReferenceFrame = ReferenceFrame"
   ]
  },
  {
   "cell_type": "code",
   "execution_count": 3,
   "id": "04c35c0c",
   "metadata": {
    "execution": {
     "iopub.execute_input": "2025-09-11T11:36:47.153090Z",
     "iopub.status.busy": "2025-09-11T11:36:47.152946Z",
     "iopub.status.idle": "2025-09-11T11:36:47.156536Z",
     "shell.execute_reply": "2025-09-11T11:36:47.156133Z"
    }
   },
   "outputs": [],
   "source": [
    "N = me.ReferenceFrame('N')\n",
    "\n",
    "F1 = 2*N.x + 3*N.y\n",
    "F2 = -4*N.x + 5*N.y\n",
    "\n",
    "r_O_P1 = 2*N.x\n",
    "r_O_P2 = 3*N.x"
   ]
  },
  {
   "cell_type": "code",
   "execution_count": 4,
   "id": "edf3c064",
   "metadata": {
    "execution": {
     "iopub.execute_input": "2025-09-11T11:36:47.157785Z",
     "iopub.status.busy": "2025-09-11T11:36:47.157646Z",
     "iopub.status.idle": "2025-09-11T11:36:47.165022Z",
     "shell.execute_reply": "2025-09-11T11:36:47.164630Z"
    }
   },
   "outputs": [
    {
     "data": {
      "text/latex": [
       "$\\displaystyle 61\\hat{n}_z$"
      ],
      "text/plain": [
       "61 n_z"
      ]
     },
     "execution_count": 4,
     "metadata": {},
     "output_type": "execute_result"
    }
   ],
   "source": [
    "r_O_P = -5*N.x\n",
    "\n",
    "M_S_P = me.cross(r_O_P1 - r_O_P, F1) + me.cross(r_O_P2 - r_O_P, F2)\n",
    "M_S_P"
   ]
  },
  {
   "cell_type": "code",
   "execution_count": 5,
   "id": "56b289d2",
   "metadata": {
    "execution": {
     "iopub.execute_input": "2025-09-11T11:36:47.166266Z",
     "iopub.status.busy": "2025-09-11T11:36:47.166105Z",
     "iopub.status.idle": "2025-09-11T11:36:47.173764Z",
     "shell.execute_reply": "2025-09-11T11:36:47.173385Z"
    }
   },
   "outputs": [
    {
     "data": {
      "text/latex": [
       "$\\displaystyle 61\\hat{n}_z$"
      ],
      "text/plain": [
       "61 n_z"
      ]
     },
     "execution_count": 5,
     "metadata": {},
     "output_type": "execute_result"
    }
   ],
   "source": [
    "r_O_Q = 5*N.y\n",
    "M_S_Q = me.cross(r_O_P1 - r_O_Q, F1) + me.cross(r_O_P2 - r_O_Q, F2)\n",
    "\n",
    "M_S_P = M_S_Q + me.cross(r_O_Q - r_O_P, F1 + F2)\n",
    "M_S_P"
   ]
  },
  {
   "cell_type": "code",
   "execution_count": 6,
   "id": "f16537ee",
   "metadata": {
    "execution": {
     "iopub.execute_input": "2025-09-11T11:36:47.175030Z",
     "iopub.status.busy": "2025-09-11T11:36:47.174887Z",
     "iopub.status.idle": "2025-09-11T11:36:47.180150Z",
     "shell.execute_reply": "2025-09-11T11:36:47.179649Z"
    }
   },
   "outputs": [],
   "source": [
    "l, w = sm.symbols('l, w')\n",
    "Ffl, Ffr, Frl, Frr = me.dynamicsymbols('F_{fl}, F_{fr}, F_{rl}, F_{rr}')\n",
    "alphafl, alphafr = me.dynamicsymbols(r'\\alpha_{fl}, \\alpha_{fr}')\n",
    "alpharl, alpharr = me.dynamicsymbols(r'\\alpha_{rl}, \\alpha_{rr}')\n",
    "delta = me.dynamicsymbols('delta')"
   ]
  },
  {
   "cell_type": "code",
   "execution_count": 7,
   "id": "43d24089",
   "metadata": {
    "execution": {
     "iopub.execute_input": "2025-09-11T11:36:47.181519Z",
     "iopub.status.busy": "2025-09-11T11:36:47.181361Z",
     "iopub.status.idle": "2025-09-11T11:36:47.198827Z",
     "shell.execute_reply": "2025-09-11T11:36:47.198332Z"
    }
   },
   "outputs": [],
   "source": [
    "B = me.ReferenceFrame('B')\n",
    "W = me.ReferenceFrame('W')\n",
    "FR = me.ReferenceFrame('F_R')\n",
    "FL = me.ReferenceFrame('F_L')\n",
    "RR = me.ReferenceFrame('R_R')\n",
    "RL = me.ReferenceFrame('R_L')\n",
    "\n",
    "W.orient_axis(B, delta, B.z)\n",
    "FR.orient_axis(W, alphafr, W.z)\n",
    "FL.orient_axis(W, alphafl, W.z)\n",
    "RR.orient_axis(B, alpharr, B.z)\n",
    "RL.orient_axis(B, alpharl, B.z)"
   ]
  },
  {
   "cell_type": "code",
   "execution_count": 8,
   "id": "046899a0",
   "metadata": {
    "execution": {
     "iopub.execute_input": "2025-09-11T11:36:47.200224Z",
     "iopub.status.busy": "2025-09-11T11:36:47.200077Z",
     "iopub.status.idle": "2025-09-11T11:36:47.759323Z",
     "shell.execute_reply": "2025-09-11T11:36:47.758761Z"
    }
   },
   "outputs": [
    {
     "data": {
      "text/latex": [
       "$\\displaystyle (F_{fl} \\cos{\\left(\\alpha_{fl} + \\delta \\right)} + F_{fr} \\cos{\\left(\\alpha_{fr} + \\delta \\right)} + F_{rl} \\cos{\\left(\\alpha_{rl} \\right)} + F_{rr} \\cos{\\left(\\alpha_{rr} \\right)})\\hat{b}_x + (F_{fl} \\sin{\\left(\\alpha_{fl} + \\delta \\right)} + F_{fr} \\sin{\\left(\\alpha_{fr} + \\delta \\right)} + F_{rl} \\sin{\\left(\\alpha_{rl} \\right)} + F_{rr} \\sin{\\left(\\alpha_{rr} \\right)})\\hat{b}_y$"
      ],
      "text/plain": [
       "(F_{fl}⋅cos(\\alpha_{fl} + δ) + F_{fr}⋅cos(\\alpha_{fr} + δ) + F_{rl}⋅cos(\\alpha\n",
       "_{rl}) + F_{rr}⋅cos(\\alpha_{rr})) b_x + (F_{fl}⋅sin(\\alpha_{fl} + δ) + F_{fr}⋅\n",
       "sin(\\alpha_{fr} + δ) + F_{rl}⋅sin(\\alpha_{rl}) + F_{rr}⋅sin(\\alpha_{rr})) b_y"
      ]
     },
     "execution_count": 8,
     "metadata": {},
     "output_type": "execute_result"
    }
   ],
   "source": [
    "R = Ffl*FL.x + Ffr*FR.x + Frl*RL.x + Frr*RR.x\n",
    "R.express(B).simplify()"
   ]
  },
  {
   "cell_type": "code",
   "execution_count": 9,
   "id": "713581c9",
   "metadata": {
    "execution": {
     "iopub.execute_input": "2025-09-11T11:36:47.760727Z",
     "iopub.status.busy": "2025-09-11T11:36:47.760577Z",
     "iopub.status.idle": "2025-09-11T11:36:50.104566Z",
     "shell.execute_reply": "2025-09-11T11:36:50.104043Z"
    }
   },
   "outputs": [
    {
     "data": {
      "text/latex": [
       "$\\displaystyle (\\frac{\\left(l \\sin{\\left(\\alpha_{fl} + \\delta \\right)} + w \\cos{\\left(\\alpha_{fl} + \\delta \\right)}\\right) F_{fl}}{2} + \\frac{\\left(l \\sin{\\left(\\alpha_{fr} + \\delta \\right)} - w \\cos{\\left(\\alpha_{fr} + \\delta \\right)}\\right) F_{fr}}{2} - \\frac{\\left(l \\sin{\\left(\\alpha_{rl} \\right)} - w \\cos{\\left(\\alpha_{rl} \\right)}\\right) F_{rl}}{2} - \\frac{\\left(l \\sin{\\left(\\alpha_{rr} \\right)} + w \\cos{\\left(\\alpha_{rr} \\right)}\\right) F_{rr}}{2})\\hat{b}_z$"
      ],
      "text/plain": [
       "⎛(l⋅sin(\\alpha_{fl} + δ) + w⋅cos(\\alpha_{fl} + δ))⋅F_{fl}   (l⋅sin(\\alpha_{fr}\n",
       "⎜──────────────────────────────────────────────────────── + ──────────────────\n",
       "⎝                           2\n",
       "\n",
       " + δ) - w⋅cos(\\alpha_{fr} + δ))⋅F_{fr}   (l⋅sin(\\alpha_{rl}) - w⋅cos(\\alpha_{r\n",
       "────────────────────────────────────── - ─────────────────────────────────────\n",
       "         2                                                      2\n",
       "\n",
       "l}))⋅F_{rl}   (l⋅sin(\\alpha_{rr}) + w⋅cos(\\alpha_{rr}))⋅F_{rr}⎞\n",
       "─────────── - ────────────────────────────────────────────────⎟ b_z\n",
       "                                     2                        ⎠"
      ]
     },
     "execution_count": 9,
     "metadata": {},
     "output_type": "execute_result"
    }
   ],
   "source": [
    "T = (me.cross(l/2*B.x - w/2*B.y, Ffl*FL.x) +\n",
    "     me.cross(l/2*B.x + w/2*B.y, Ffr*FR.x) +\n",
    "     me.cross(-l/2*B.x - w/2*B.y, Frl*RL.x) +\n",
    "     me.cross(-l/2*B.x + w/2*B.y, Frr*RR.x))\n",
    "T = T.express(B).simplify()\n",
    "T"
   ]
  },
  {
   "cell_type": "code",
   "execution_count": 10,
   "id": "30b033ff",
   "metadata": {
    "execution": {
     "iopub.execute_input": "2025-09-11T11:36:50.106037Z",
     "iopub.status.busy": "2025-09-11T11:36:50.105882Z",
     "iopub.status.idle": "2025-09-11T11:36:50.109634Z",
     "shell.execute_reply": "2025-09-11T11:36:50.109149Z"
    }
   },
   "outputs": [
    {
     "data": {
      "text/plain": [
       "(Bo, F_{fr}(t)*F_R.x + F_{fl}(t)*F_L.x + F_{rr}(t)*R_R.x + F_{rl}(t)*R_L.x)"
      ]
     },
     "execution_count": 10,
     "metadata": {},
     "output_type": "execute_result"
    }
   ],
   "source": [
    "Bo = me.Point('Bo')\n",
    "force = (Bo, R)\n",
    "force"
   ]
  },
  {
   "cell_type": "code",
   "execution_count": 11,
   "id": "fe7981dc",
   "metadata": {
    "execution": {
     "iopub.execute_input": "2025-09-11T11:36:50.110916Z",
     "iopub.status.busy": "2025-09-11T11:36:50.110773Z",
     "iopub.status.idle": "2025-09-11T11:36:50.115848Z",
     "shell.execute_reply": "2025-09-11T11:36:50.115455Z"
    }
   },
   "outputs": [
    {
     "data": {
      "text/plain": [
       "(B,\n",
       " ((l*sin(\\alpha_{fl}(t) + delta(t)) + w*cos(\\alpha_{fl}(t) + delta(t)))*F_{fl}(t)/2 + (l*sin(\\alpha_{fr}(t) + delta(t)) - w*cos(\\alpha_{fr}(t) + delta(t)))*F_{fr}(t)/2 - (l*sin(\\alpha_{rl}(t)) - w*cos(\\alpha_{rl}(t)))*F_{rl}(t)/2 - (l*sin(\\alpha_{rr}(t)) + w*cos(\\alpha_{rr}(t)))*F_{rr}(t)/2)*B.z)"
      ]
     },
     "execution_count": 11,
     "metadata": {},
     "output_type": "execute_result"
    }
   ],
   "source": [
    "torque = (B, T)\n",
    "torque"
   ]
  },
  {
   "cell_type": "code",
   "execution_count": 12,
   "id": "9f23185b",
   "metadata": {
    "execution": {
     "iopub.execute_input": "2025-09-11T11:36:50.117059Z",
     "iopub.status.busy": "2025-09-11T11:36:50.116920Z",
     "iopub.status.idle": "2025-09-11T11:36:50.120856Z",
     "shell.execute_reply": "2025-09-11T11:36:50.120457Z"
    }
   },
   "outputs": [],
   "source": [
    "T, q = me.dynamicsymbols('T, q')\n",
    "\n",
    "N = me.ReferenceFrame('N')\n",
    "B = me.ReferenceFrame('B')\n",
    "\n",
    "Tm = T*N.z"
   ]
  },
  {
   "cell_type": "code",
   "execution_count": 13,
   "id": "a3e78e5b",
   "metadata": {
    "execution": {
     "iopub.execute_input": "2025-09-11T11:36:50.122104Z",
     "iopub.status.busy": "2025-09-11T11:36:50.121953Z",
     "iopub.status.idle": "2025-09-11T11:36:50.125617Z",
     "shell.execute_reply": "2025-09-11T11:36:50.125119Z"
    }
   },
   "outputs": [
    {
     "data": {
      "text/plain": [
       "((B, T(t)*N.z), (N, - T(t)*N.z))"
      ]
     },
     "execution_count": 13,
     "metadata": {},
     "output_type": "execute_result"
    }
   ],
   "source": [
    "(B, Tm), (N, -Tm)"
   ]
  },
  {
   "cell_type": "code",
   "execution_count": 14,
   "id": "a1c2e536",
   "metadata": {
    "execution": {
     "iopub.execute_input": "2025-09-11T11:36:50.126914Z",
     "iopub.status.busy": "2025-09-11T11:36:50.126773Z",
     "iopub.status.idle": "2025-09-11T11:36:50.131720Z",
     "shell.execute_reply": "2025-09-11T11:36:50.131211Z"
    }
   },
   "outputs": [
    {
     "data": {
      "text/latex": [
       "$\\displaystyle -  g m\\hat{n}_y$"
      ],
      "text/plain": [
       "-g⋅m n_y"
      ]
     },
     "execution_count": 14,
     "metadata": {},
     "output_type": "execute_result"
    }
   ],
   "source": [
    "m, g = sm.symbols('m, g')\n",
    "Fg = -m*g*N.y\n",
    "Fg"
   ]
  },
  {
   "cell_type": "code",
   "execution_count": 15,
   "id": "9e08f4fe",
   "metadata": {
    "execution": {
     "iopub.execute_input": "2025-09-11T11:36:50.133050Z",
     "iopub.status.busy": "2025-09-11T11:36:50.132909Z",
     "iopub.status.idle": "2025-09-11T11:36:50.137779Z",
     "shell.execute_reply": "2025-09-11T11:36:50.137308Z"
    }
   },
   "outputs": [
    {
     "data": {
      "text/latex": [
       "$\\displaystyle - q_{0} - q_{1} + q_{2}$"
      ],
      "text/plain": [
       "-q₀ - q₁ + q₂"
      ]
     },
     "execution_count": 15,
     "metadata": {},
     "output_type": "execute_result"
    }
   ],
   "source": [
    "q0, k = sm.symbols('q0, k')\n",
    "q1, q2 = me.dynamicsymbols('q1, q2')\n",
    "\n",
    "displacement = q2 - q1 - q0\n",
    "displacement"
   ]
  },
  {
   "cell_type": "code",
   "execution_count": 16,
   "id": "18f794bd",
   "metadata": {
    "execution": {
     "iopub.execute_input": "2025-09-11T11:36:50.139046Z",
     "iopub.status.busy": "2025-09-11T11:36:50.138905Z",
     "iopub.status.idle": "2025-09-11T11:36:50.143975Z",
     "shell.execute_reply": "2025-09-11T11:36:50.143565Z"
    }
   },
   "outputs": [
    {
     "data": {
      "text/latex": [
       "$\\displaystyle -  k \\left(- q_{0} - q_{1} + q_{2}\\right)\\hat{n}_x$"
      ],
      "text/plain": [
       "-k⋅(-q₀ - q₁ + q₂) n_x"
      ]
     },
     "execution_count": 16,
     "metadata": {},
     "output_type": "execute_result"
    }
   ],
   "source": [
    "Fs = -k*displacement*N.x\n",
    "Fs"
   ]
  },
  {
   "cell_type": "code",
   "execution_count": 17,
   "id": "72451942",
   "metadata": {
    "execution": {
     "iopub.execute_input": "2025-09-11T11:36:50.145207Z",
     "iopub.status.busy": "2025-09-11T11:36:50.145068Z",
     "iopub.status.idle": "2025-09-11T11:36:50.153395Z",
     "shell.execute_reply": "2025-09-11T11:36:50.152973Z"
    }
   },
   "outputs": [
    {
     "data": {
      "text/latex": [
       "$\\displaystyle -  c \\left(- \\dot{q}_{1} + \\dot{q}_{2}\\right)\\hat{n}_x$"
      ],
      "text/plain": [
       "-c⋅(-q₁̇ + q₂̇) n_x"
      ]
     },
     "execution_count": 17,
     "metadata": {},
     "output_type": "execute_result"
    }
   ],
   "source": [
    "c = sm.symbols('c')\n",
    "t = me.dynamicsymbols._t\n",
    "\n",
    "Fc = -c*displacement.diff(t)*N.x\n",
    "Fc"
   ]
  },
  {
   "cell_type": "code",
   "execution_count": 18,
   "id": "60738ca5",
   "metadata": {
    "execution": {
     "iopub.execute_input": "2025-09-11T11:36:50.154584Z",
     "iopub.status.busy": "2025-09-11T11:36:50.154444Z",
     "iopub.status.idle": "2025-09-11T11:36:50.165568Z",
     "shell.execute_reply": "2025-09-11T11:36:50.165173Z"
    }
   },
   "outputs": [
    {
     "data": {
      "text/latex": [
       "$\\displaystyle \\begin{cases} g m \\mu & \\text{for}\\: \\dot{q}_{1} - \\dot{q}_{2} > 0 \\\\- g m \\mu & \\text{for}\\: \\dot{q}_{1} - \\dot{q}_{2} < 0 \\\\0 & \\text{otherwise} \\end{cases}\\hat{n}_x$"
      ],
      "text/plain": [
       "⎧g⋅m⋅μ   for q₁̇ - q₂̇ > 0\n",
       "⎪\n",
       "⎨-g⋅m⋅μ  for q₁̇ - q₂̇ < 0 n_x\n",
       "⎪\n",
       "⎩  0        otherwise"
      ]
     },
     "execution_count": 18,
     "metadata": {},
     "output_type": "execute_result"
    }
   ],
   "source": [
    "mu, m, g = sm.symbols('mu, m, g')\n",
    "\n",
    "Fn = m*g\n",
    "\n",
    "displacement = q2 - q1\n",
    "\n",
    "Ff = sm.Piecewise((mu*Fn, displacement.diff(t) < 0),\n",
    "                  (-mu*Fn, displacement.diff(t) > 0),\n",
    "                  (0, True))*N.x\n",
    "Ff"
   ]
  },
  {
   "cell_type": "code",
   "execution_count": 19,
   "id": "f39222e6",
   "metadata": {
    "execution": {
     "iopub.execute_input": "2025-09-11T11:36:50.166829Z",
     "iopub.status.busy": "2025-09-11T11:36:50.166677Z",
     "iopub.status.idle": "2025-09-11T11:36:50.172832Z",
     "shell.execute_reply": "2025-09-11T11:36:50.172352Z"
    }
   },
   "outputs": [
    {
     "data": {
      "text/latex": [
       "$\\displaystyle -  g m \\mu \\operatorname{sign}{\\left(- \\dot{q}_{1} + \\dot{q}_{2} \\right)}\\hat{n}_x$"
      ],
      "text/plain": [
       "-g⋅m⋅μ⋅sign(-q₁̇ + q₂̇) n_x"
      ]
     },
     "execution_count": 19,
     "metadata": {},
     "output_type": "execute_result"
    }
   ],
   "source": [
    "Ff = -mu*Fn*sm.sign(displacement.diff(t))*N.x\n",
    "Ff"
   ]
  },
  {
   "cell_type": "code",
   "execution_count": 20,
   "id": "9f404fc0",
   "metadata": {
    "execution": {
     "iopub.execute_input": "2025-09-11T11:36:50.174032Z",
     "iopub.status.busy": "2025-09-11T11:36:50.173888Z",
     "iopub.status.idle": "2025-09-11T11:36:50.191111Z",
     "shell.execute_reply": "2025-09-11T11:36:50.190638Z"
    }
   },
   "outputs": [
    {
     "data": {
      "text/latex": [
       "$\\displaystyle -  \\frac{A C_{d} \\rho \\sqrt{u_{x}^{2} + u_{y}^{2} + u_{z}^{2}} u_{x}}{2}\\hat{n}_x -  \\frac{A C_{d} \\rho \\sqrt{u_{x}^{2} + u_{y}^{2} + u_{z}^{2}} u_{y}}{2}\\hat{n}_y -  \\frac{A C_{d} \\rho \\sqrt{u_{x}^{2} + u_{y}^{2} + u_{z}^{2}} u_{z}}{2}\\hat{n}_z$"
      ],
      "text/plain": [
       "            ___________________                       ___________________\n",
       "           ╱   2      2      2                       ╱   2      2      2\n",
       "-A⋅C_d⋅ρ⋅╲╱  uₓ  + u_y  + u_z  ⋅uₓ        -A⋅C_d⋅ρ⋅╲╱  uₓ  + u_y  + u_z  ⋅u_y\n",
       "─────────────────────────────────── n_x + ────────────────────────────────────\n",
       "                 2                                         2\n",
       "\n",
       "                   ___________________\n",
       "                  ╱   2      2      2\n",
       "       -A⋅C_d⋅ρ⋅╲╱  uₓ  + u_y  + u_z  ⋅u_z\n",
       " n_y + ──────────────────────────────────── n_z\n",
       "                        2"
      ]
     },
     "execution_count": 20,
     "metadata": {},
     "output_type": "execute_result"
    }
   ],
   "source": [
    "A, Cd, rho = sm.symbols('A, C_d, rho')\n",
    "ux, uy, uz = me.dynamicsymbols('u_x, u_y, u_z', real=True)\n",
    "\n",
    "N_v_P = ux*N.x + uy*N.y + uz*N.z\n",
    "\n",
    "Fd = -N_v_P.normalize()*Cd*A*rho/2*N_v_P.dot(N_v_P)\n",
    "Fd"
   ]
  },
  {
   "cell_type": "code",
   "execution_count": 21,
   "id": "1ef18e1e",
   "metadata": {
    "execution": {
     "iopub.execute_input": "2025-09-11T11:36:50.192428Z",
     "iopub.status.busy": "2025-09-11T11:36:50.192283Z",
     "iopub.status.idle": "2025-09-11T11:36:50.197086Z",
     "shell.execute_reply": "2025-09-11T11:36:50.196614Z"
    }
   },
   "outputs": [
    {
     "data": {
      "text/latex": [
       "$\\displaystyle -  \\frac{A C_{d} \\rho u_{x} \\left|{u_{x}}\\right|}{2}\\hat{n}_x$"
      ],
      "text/plain": [
       "-A⋅C_d⋅ρ⋅uₓ⋅│uₓ│\n",
       "───────────────── n_x\n",
       "        2"
      ]
     },
     "execution_count": 21,
     "metadata": {},
     "output_type": "execute_result"
    }
   ],
   "source": [
    "Fd.xreplace({uy: 0, uz:0})"
   ]
  },
  {
   "cell_type": "code",
   "execution_count": 22,
   "id": "d9798617",
   "metadata": {
    "execution": {
     "iopub.execute_input": "2025-09-11T11:36:50.198463Z",
     "iopub.status.busy": "2025-09-11T11:36:50.198310Z",
     "iopub.status.idle": "2025-09-11T11:36:50.206567Z",
     "shell.execute_reply": "2025-09-11T11:36:50.206093Z"
    }
   },
   "outputs": [
    {
     "data": {
      "text/latex": [
       "$\\displaystyle - \\frac{z}{2} + \\frac{\\left|{z}\\right|}{2}$"
      ],
      "text/plain": [
       "  z   │z│\n",
       "- ─ + ───\n",
       "  2    2 "
      ]
     },
     "execution_count": 22,
     "metadata": {},
     "output_type": "execute_result"
    }
   ],
   "source": [
    "x, y, z, zd = me.dynamicsymbols('x, y, z, \\dot{z}', real=True)\n",
    "\n",
    "r_O_P = x*N.x + y*N.y + z*N.z\n",
    "\n",
    "zh = r_O_P.dot(N.z)\n",
    "\n",
    "zp = (sm.Abs(zh) - zh)/2\n",
    "zp"
   ]
  },
  {
   "cell_type": "code",
   "execution_count": 23,
   "id": "49500380",
   "metadata": {
    "execution": {
     "iopub.execute_input": "2025-09-11T11:36:50.207804Z",
     "iopub.status.busy": "2025-09-11T11:36:50.207658Z",
     "iopub.status.idle": "2025-09-11T11:36:50.214910Z",
     "shell.execute_reply": "2025-09-11T11:36:50.214446Z"
    }
   },
   "outputs": [
    {
     "data": {
      "text/latex": [
       "$\\displaystyle (c \\left(- \\frac{z}{2} + \\frac{\\left|{z}\\right|}{2}\\right)^{\\frac{3}{2}} \\dot{z} + k \\left(- \\frac{z}{2} + \\frac{\\left|{z}\\right|}{2}\\right)^{\\frac{3}{2}})\\hat{n}_z$"
      ],
      "text/plain": [
       "⎛             3/2                        3/2⎞\n",
       "⎜  ⎛  z   │z│⎞                ⎛  z   │z│⎞   ⎟\n",
       "⎜c⋅⎜- ─ + ───⎟   ⋅\\dot{z} + k⋅⎜- ─ + ───⎟   ⎟ n_z\n",
       "⎝  ⎝  2    2 ⎠                ⎝  2    2 ⎠   ⎠"
      ]
     },
     "execution_count": 23,
     "metadata": {},
     "output_type": "execute_result"
    }
   ],
   "source": [
    "k, c = sm.symbols('k, c')\n",
    "\n",
    "Fz = (k*zp**(sm.S(3)/2) + c*zp**(sm.S(3)/2)*zd)*N.z\n",
    "Fz"
   ]
  },
  {
   "cell_type": "code",
   "execution_count": 24,
   "id": "25e702ab",
   "metadata": {
    "execution": {
     "iopub.execute_input": "2025-09-11T11:36:50.216142Z",
     "iopub.status.busy": "2025-09-11T11:36:50.215996Z",
     "iopub.status.idle": "2025-09-11T11:36:50.219795Z",
     "shell.execute_reply": "2025-09-11T11:36:50.219334Z"
    }
   },
   "outputs": [
    {
     "data": {
      "text/latex": [
       "$\\displaystyle 0$"
      ],
      "text/plain": [
       "0"
      ]
     },
     "execution_count": 24,
     "metadata": {},
     "output_type": "execute_result"
    }
   ],
   "source": [
    "Fz.xreplace({z: sm.Symbol('z', positive=True)})"
   ]
  },
  {
   "cell_type": "code",
   "execution_count": 25,
   "id": "3eb6b42c",
   "metadata": {
    "execution": {
     "iopub.execute_input": "2025-09-11T11:36:50.221128Z",
     "iopub.status.busy": "2025-09-11T11:36:50.220967Z",
     "iopub.status.idle": "2025-09-11T11:36:50.226481Z",
     "shell.execute_reply": "2025-09-11T11:36:50.225995Z"
    }
   },
   "outputs": [
    {
     "data": {
      "text/latex": [
       "$\\displaystyle (c \\left(- z\\right)^{\\frac{3}{2}} \\dot{z} + k \\left(- z\\right)^{\\frac{3}{2}})\\hat{n}_z$"
      ],
      "text/plain": [
       "⎛      3/2                 3/2⎞\n",
       "⎝c⋅(-z)   ⋅\\dot{z} + k⋅(-z)   ⎠ n_z"
      ]
     },
     "execution_count": 25,
     "metadata": {},
     "output_type": "execute_result"
    }
   ],
   "source": [
    "Fz.xreplace({z: sm.Symbol('z', negative=True)})"
   ]
  },
  {
   "cell_type": "code",
   "execution_count": 26,
   "id": "e5359e97",
   "metadata": {
    "execution": {
     "iopub.execute_input": "2025-09-11T11:36:50.227782Z",
     "iopub.status.busy": "2025-09-11T11:36:50.227640Z",
     "iopub.status.idle": "2025-09-11T11:36:50.240352Z",
     "shell.execute_reply": "2025-09-11T11:36:50.239896Z"
    }
   },
   "outputs": [
    {
     "data": {
      "text/latex": [
       "$\\displaystyle -  \\frac{\\mu \\left(c \\left(- \\frac{z}{2} + \\frac{\\left|{z}\\right|}{2}\\right)^{\\frac{3}{2}} \\dot{z} + k \\left(- \\frac{z}{2} + \\frac{\\left|{z}\\right|}{2}\\right)^{\\frac{3}{2}}\\right) \\left|{\\dot{x}}\\right|}{\\dot{x}}\\hat{n}_x$"
      ],
      "text/plain": [
       "   ⎛             3/2                        3/2⎞\n",
       "   ⎜  ⎛  z   │z│⎞                ⎛  z   │z│⎞   ⎟\n",
       "-μ⋅⎜c⋅⎜- ─ + ───⎟   ⋅\\dot{z} + k⋅⎜- ─ + ───⎟   ⎟⋅│ẋ│\n",
       "   ⎝  ⎝  2    2 ⎠                ⎝  2    2 ⎠   ⎠\n",
       "───────────────────────────────────────────────────── n_x\n",
       "                          ẋ"
      ]
     },
     "execution_count": 26,
     "metadata": {},
     "output_type": "execute_result"
    }
   ],
   "source": [
    "mu = sm.symbols('mu')\n",
    "\n",
    "vx = r_O_P.dot(N.x).diff(t)\n",
    "vy = r_O_P.dot(N.y).diff(t)\n",
    "\n",
    "Fx = -sm.Abs(vx)/vx*mu*Fz.dot(N.z)*N.x\n",
    "Fx"
   ]
  },
  {
   "cell_type": "code",
   "execution_count": 27,
   "id": "e74b0508",
   "metadata": {
    "execution": {
     "iopub.execute_input": "2025-09-11T11:36:50.241724Z",
     "iopub.status.busy": "2025-09-11T11:36:50.241584Z",
     "iopub.status.idle": "2025-09-11T11:36:50.251399Z",
     "shell.execute_reply": "2025-09-11T11:36:50.250993Z"
    }
   },
   "outputs": [
    {
     "data": {
      "text/latex": [
       "$\\displaystyle -  \\frac{\\mu \\left(c \\left(- \\frac{z}{2} + \\frac{\\left|{z}\\right|}{2}\\right)^{\\frac{3}{2}} \\dot{z} + k \\left(- \\frac{z}{2} + \\frac{\\left|{z}\\right|}{2}\\right)^{\\frac{3}{2}}\\right) \\left|{\\dot{y}}\\right|}{\\dot{y}}\\hat{n}_y$"
      ],
      "text/plain": [
       "   ⎛             3/2                        3/2⎞\n",
       "   ⎜  ⎛  z   │z│⎞                ⎛  z   │z│⎞   ⎟\n",
       "-μ⋅⎜c⋅⎜- ─ + ───⎟   ⋅\\dot{z} + k⋅⎜- ─ + ───⎟   ⎟⋅│ẏ│\n",
       "   ⎝  ⎝  2    2 ⎠                ⎝  2    2 ⎠   ⎠\n",
       "───────────────────────────────────────────────────── n_y\n",
       "                          ẏ"
      ]
     },
     "execution_count": 27,
     "metadata": {},
     "output_type": "execute_result"
    }
   ],
   "source": [
    "Fy = -sm.Abs(vy)/vy*mu*Fz.dot(N.z)*N.y\n",
    "Fy"
   ]
  },
  {
   "cell_type": "code",
   "execution_count": 28,
   "id": "914d4f11",
   "metadata": {
    "execution": {
     "iopub.execute_input": "2025-09-11T11:36:50.252610Z",
     "iopub.status.busy": "2025-09-11T11:36:50.252473Z",
     "iopub.status.idle": "2025-09-11T11:36:50.257508Z",
     "shell.execute_reply": "2025-09-11T11:36:50.257003Z"
    }
   },
   "outputs": [
    {
     "data": {
      "text/latex": [
       "$\\displaystyle \\left( 0, \\  0, \\  0\\right)$"
      ],
      "text/plain": [
       "(0, 0, 0)"
      ]
     },
     "execution_count": 28,
     "metadata": {},
     "output_type": "execute_result"
    }
   ],
   "source": [
    "vz = me.dynamicsymbols('v_z', negative=True)\n",
    "\n",
    "repl = {zd: vz, z: sm.Symbol('z', positive=True)}\n",
    "\n",
    "Fx.xreplace(repl), Fy.xreplace(repl), Fz.xreplace(repl)"
   ]
  },
  {
   "cell_type": "code",
   "execution_count": 29,
   "id": "5fa3435e",
   "metadata": {
    "execution": {
     "iopub.execute_input": "2025-09-11T11:36:50.258835Z",
     "iopub.status.busy": "2025-09-11T11:36:50.258684Z",
     "iopub.status.idle": "2025-09-11T11:36:50.269292Z",
     "shell.execute_reply": "2025-09-11T11:36:50.268858Z"
    }
   },
   "outputs": [
    {
     "data": {
      "text/latex": [
       "$\\displaystyle \\left( -  \\frac{\\mu \\left(c \\left(- z\\right)^{\\frac{3}{2}} v_{z} + k \\left(- z\\right)^{\\frac{3}{2}}\\right) \\left|{\\dot{x}}\\right|}{\\dot{x}}\\hat{n}_x, \\  -  \\frac{\\mu \\left(c \\left(- z\\right)^{\\frac{3}{2}} v_{z} + k \\left(- z\\right)^{\\frac{3}{2}}\\right) \\left|{\\dot{y}}\\right|}{\\dot{y}}\\hat{n}_y, \\  (c \\left(- z\\right)^{\\frac{3}{2}} v_{z} + k \\left(- z\\right)^{\\frac{3}{2}})\\hat{n}_z\\right)$"
      ],
      "text/plain": [
       "⎛        ⎛      3/2             3/2⎞    ,         ⎛      3/2             3/2⎞ \n",
       "⎜  -μ⋅⎝c⋅(-z)   ⋅v_z + k⋅(-z)   ⎠⋅│ẋ│      -μ⋅⎝c⋅(-z)   ⋅v_z + k⋅(-z)   ⎠⋅│ẏ\n",
       "⎜─────────────────────────────────── n_x  ─────────────────────────────────── \n",
       "⎝                           ẋ                                       ẏ       \n",
       "\n",
       "   ,   ⎛      3/2             3/2⎞  ⎞\n",
       "│    ⎝c⋅(-z)   ⋅v_z + k⋅(-z)   ⎠ n_z⎟\n",
       "n_y                                 ⎟\n",
       "                                    ⎠"
      ]
     },
     "execution_count": 29,
     "metadata": {},
     "output_type": "execute_result"
    }
   ],
   "source": [
    "vz = me.dynamicsymbols('v_z', negative=True)\n",
    "\n",
    "repl = {zd: vz, z: sm.Symbol('z', negative=True)}\n",
    "\n",
    "Fx.xreplace(repl), Fy.xreplace(repl), Fz.xreplace(repl)"
   ]
  },
  {
   "cell_type": "code",
   "execution_count": 30,
   "id": "c39f4684",
   "metadata": {
    "execution": {
     "iopub.execute_input": "2025-09-11T11:36:50.270542Z",
     "iopub.status.busy": "2025-09-11T11:36:50.270408Z",
     "iopub.status.idle": "2025-09-11T11:36:50.281693Z",
     "shell.execute_reply": "2025-09-11T11:36:50.281173Z"
    }
   },
   "outputs": [
    {
     "data": {
      "text/latex": [
       "$\\displaystyle -  \\frac{\\mu \\left(c \\left(- \\frac{z}{2} + \\frac{\\left|{z}\\right|}{2}\\right)^{\\frac{3}{2}} \\dot{z} + k \\left(- \\frac{z}{2} + \\frac{\\left|{z}\\right|}{2}\\right)^{\\frac{3}{2}}\\right) \\left|{\\dot{x}}\\right|}{\\dot{x}}\\hat{n}_x -  \\frac{\\mu \\left(c \\left(- \\frac{z}{2} + \\frac{\\left|{z}\\right|}{2}\\right)^{\\frac{3}{2}} \\dot{z} + k \\left(- \\frac{z}{2} + \\frac{\\left|{z}\\right|}{2}\\right)^{\\frac{3}{2}}\\right) \\left|{\\dot{y}}\\right|}{\\dot{y}}\\hat{n}_y + (c \\left(- \\frac{z}{2} + \\frac{\\left|{z}\\right|}{2}\\right)^{\\frac{3}{2}} \\dot{z} + k \\left(- \\frac{z}{2} + \\frac{\\left|{z}\\right|}{2}\\right)^{\\frac{3}{2}})\\hat{n}_z$"
      ],
      "text/plain": [
       "   ⎛             3/2                        3/2⎞               ⎛             3\n",
       "   ⎜  ⎛  z   │z│⎞                ⎛  z   │z│⎞   ⎟               ⎜  ⎛  z   │z│⎞\n",
       "-μ⋅⎜c⋅⎜- ─ + ───⎟   ⋅\\dot{z} + k⋅⎜- ─ + ───⎟   ⎟⋅│ẋ│        -μ⋅⎜c⋅⎜- ─ + ───⎟\n",
       "   ⎝  ⎝  2    2 ⎠                ⎝  2    2 ⎠   ⎠               ⎝  ⎝  2    2 ⎠\n",
       "───────────────────────────────────────────────────── n_x + ──────────────────\n",
       "                          ẋ\n",
       "\n",
       "/2                        3/2⎞\n",
       "               ⎛  z   │z│⎞   ⎟\n",
       "   ⋅\\dot{z} + k⋅⎜- ─ + ───⎟   ⎟⋅│ẏ│        ⎛             3/2\n",
       "               ⎝  2    2 ⎠   ⎠            ⎜  ⎛  z   │z│⎞                ⎛  z\n",
       "─────────────────────────────────── n_y + ⎜c⋅⎜- ─ + ───⎟   ⋅\\dot{z} + k⋅⎜- ─ +\n",
       "        ẏ                                ⎝  ⎝  2    2 ⎠                ⎝  2\n",
       "\n",
       "\n",
       "\n",
       "       3/2⎞\n",
       " │z│⎞   ⎟\n",
       " ───⎟   ⎟ n_z\n",
       "  2 ⎠   ⎠"
      ]
     },
     "execution_count": 30,
     "metadata": {},
     "output_type": "execute_result"
    }
   ],
   "source": [
    "Fx + Fy + Fz"
   ]
  }
 ],
 "metadata": {
  "kernelspec": {
   "display_name": "Python 3 (ipykernel)",
   "language": "python",
   "name": "python3"
  },
  "language_info": {
   "codemirror_mode": {
    "name": "ipython",
    "version": 3
   },
   "file_extension": ".py",
   "mimetype": "text/x-python",
   "name": "python",
   "nbconvert_exporter": "python",
   "pygments_lexer": "ipython3",
   "version": "3.11.13"
  }
 },
 "nbformat": 4,
 "nbformat_minor": 5
}