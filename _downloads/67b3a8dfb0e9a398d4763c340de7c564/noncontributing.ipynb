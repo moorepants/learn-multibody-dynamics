{
 "cells": [
  {
   "cell_type": "code",
   "execution_count": 1,
   "id": "322af59c",
   "metadata": {
    "execution": {
     "iopub.execute_input": "2025-09-25T05:55:10.222893Z",
     "iopub.status.busy": "2025-09-25T05:55:10.222686Z",
     "iopub.status.idle": "2025-09-25T05:55:10.628828Z",
     "shell.execute_reply": "2025-09-25T05:55:10.628317Z"
    }
   },
   "outputs": [],
   "source": [
    "import numpy as np\n",
    "import sympy as sm\n",
    "import sympy.physics.mechanics as me\n",
    "me.init_vprinting(use_latex='mathjax')"
   ]
  },
  {
   "cell_type": "code",
   "execution_count": 2,
   "id": "b0ca7bc9",
   "metadata": {
    "execution": {
     "iopub.execute_input": "2025-09-25T05:55:10.630492Z",
     "iopub.status.busy": "2025-09-25T05:55:10.630298Z",
     "iopub.status.idle": "2025-09-25T05:55:10.633515Z",
     "shell.execute_reply": "2025-09-25T05:55:10.633074Z"
    }
   },
   "outputs": [],
   "source": [
    "class ReferenceFrame(me.ReferenceFrame):\n",
    "\n",
    "    def __init__(self, *args, **kwargs):\n",
    "\n",
    "        kwargs.pop('latexs', None)\n",
    "\n",
    "        lab = args[0].lower()\n",
    "        tex = r'\\hat{{{}}}_{}'\n",
    "\n",
    "        super(ReferenceFrame, self).__init__(*args,\n",
    "                                             latexs=(tex.format(lab, 'x'),\n",
    "                                                     tex.format(lab, 'y'),\n",
    "                                                     tex.format(lab, 'z')),\n",
    "                                             **kwargs)\n",
    "me.ReferenceFrame = ReferenceFrame"
   ]
  },
  {
   "cell_type": "code",
   "execution_count": 3,
   "id": "c8d80114",
   "metadata": {
    "execution": {
     "iopub.execute_input": "2025-09-25T05:55:10.634759Z",
     "iopub.status.busy": "2025-09-25T05:55:10.634614Z",
     "iopub.status.idle": "2025-09-25T05:55:10.650526Z",
     "shell.execute_reply": "2025-09-25T05:55:10.650019Z"
    }
   },
   "outputs": [
    {
     "data": {
      "text/latex": [
       "$\\displaystyle \\left( \\left[\\begin{matrix}m_{1}\\\\m_{2}\\\\l_{1}\\\\l_{2}\\\\g\\end{matrix}\\right], \\  \\left[\\begin{matrix}q_{1}\\\\q_{2}\\end{matrix}\\right], \\  \\left[\\begin{matrix}u_{1}\\\\u_{2}\\end{matrix}\\right], \\  \\left[\\begin{matrix}T_{1}\\\\T_{2}\\end{matrix}\\right], \\  \\left[\\begin{matrix}\\dot{u}_{1}\\\\\\dot{u}_{2}\\end{matrix}\\right]\\right)$"
      ],
      "text/plain": [
       "⎛⎡m₁⎤                        ⎞\n",
       "⎜⎢  ⎥                        ⎟\n",
       "⎜⎢m₂⎥                        ⎟\n",
       "⎜⎢  ⎥  ⎡q₁⎤  ⎡u₁⎤  ⎡T₁⎤  ⎡u₁̇⎤⎟\n",
       "⎜⎢l₁⎥, ⎢  ⎥, ⎢  ⎥, ⎢  ⎥, ⎢  ⎥⎟\n",
       "⎜⎢  ⎥  ⎣q₂⎦  ⎣u₂⎦  ⎣T₂⎦  ⎣u₂̇⎦⎟\n",
       "⎜⎢l₂⎥                        ⎟\n",
       "⎜⎢  ⎥                        ⎟\n",
       "⎝⎣g ⎦                        ⎠"
      ]
     },
     "execution_count": 3,
     "metadata": {},
     "output_type": "execute_result"
    }
   ],
   "source": [
    "m1, m2, l1, l2, g = sm.symbols('m1, m2, l1, l2, g')\n",
    "q1, q2, u1, u2, T1, T2 = me.dynamicsymbols('q1, q2, u1, u2, T1, T2')\n",
    "t = me.dynamicsymbols._t\n",
    "\n",
    "p = sm.Matrix([m1, m2, l1, l2, g])\n",
    "q = sm.Matrix([q1, q2])\n",
    "u = sm.Matrix([u1, u2])\n",
    "r = sm.Matrix([T1, T2])\n",
    "\n",
    "ud = u.diff(t)\n",
    "\n",
    "p, q, u, r, ud"
   ]
  },
  {
   "cell_type": "code",
   "execution_count": 4,
   "id": "c2104210",
   "metadata": {
    "execution": {
     "iopub.execute_input": "2025-09-25T05:55:10.651832Z",
     "iopub.status.busy": "2025-09-25T05:55:10.651670Z",
     "iopub.status.idle": "2025-09-25T05:55:10.662111Z",
     "shell.execute_reply": "2025-09-25T05:55:10.661586Z"
    }
   },
   "outputs": [],
   "source": [
    "N = me.ReferenceFrame('N')\n",
    "A = me.ReferenceFrame('A')\n",
    "B = me.ReferenceFrame('B')\n",
    "\n",
    "A.orient_axis(N, q1, N.z)\n",
    "B.orient_axis(N, q2, N.z)\n",
    "\n",
    "A.set_ang_vel(N, u1*N.z)\n",
    "B.set_ang_vel(N, u2*N.z)"
   ]
  },
  {
   "cell_type": "code",
   "execution_count": 5,
   "id": "29e5a69f",
   "metadata": {
    "execution": {
     "iopub.execute_input": "2025-09-25T05:55:10.663538Z",
     "iopub.status.busy": "2025-09-25T05:55:10.663385Z",
     "iopub.status.idle": "2025-09-25T05:55:10.671270Z",
     "shell.execute_reply": "2025-09-25T05:55:10.670744Z"
    }
   },
   "outputs": [
    {
     "data": {
      "text/latex": [
       "$\\displaystyle l_{1} u_{1}\\hat{a}_x$"
      ],
      "text/plain": [
       "l₁⋅u₁ a_x"
      ]
     },
     "execution_count": 5,
     "metadata": {},
     "output_type": "execute_result"
    }
   ],
   "source": [
    "O = me.Point('O')\n",
    "P1 = O.locatenew('P1', -l1*A.y)\n",
    "P2 = P1.locatenew('P2', -l2*B.y)\n",
    "\n",
    "O.set_vel(N, 0)\n",
    "P1.v2pt_theory(O, N, A)"
   ]
  },
  {
   "cell_type": "code",
   "execution_count": 6,
   "id": "fe83e910",
   "metadata": {
    "execution": {
     "iopub.execute_input": "2025-09-25T05:55:10.672624Z",
     "iopub.status.busy": "2025-09-25T05:55:10.672471Z",
     "iopub.status.idle": "2025-09-25T05:55:10.678870Z",
     "shell.execute_reply": "2025-09-25T05:55:10.678391Z"
    }
   },
   "outputs": [
    {
     "data": {
      "text/latex": [
       "$\\displaystyle l_{1} u_{1}\\hat{a}_x + l_{2} u_{2}\\hat{b}_x$"
      ],
      "text/plain": [
       "l₁⋅u₁ a_x + l₂⋅u₂ b_x"
      ]
     },
     "execution_count": 6,
     "metadata": {},
     "output_type": "execute_result"
    }
   ],
   "source": [
    "P2.v2pt_theory(P1, N, B)"
   ]
  },
  {
   "cell_type": "code",
   "execution_count": 7,
   "id": "11fa23c9",
   "metadata": {
    "execution": {
     "iopub.execute_input": "2025-09-25T05:55:10.680080Z",
     "iopub.status.busy": "2025-09-25T05:55:10.679930Z",
     "iopub.status.idle": "2025-09-25T05:55:10.689650Z",
     "shell.execute_reply": "2025-09-25T05:55:10.689138Z"
    }
   },
   "outputs": [
    {
     "data": {
      "text/latex": [
       "$\\displaystyle l_{1} \\dot{u}_{1}\\hat{a}_x + l_{1} u_{1}^{2}\\hat{a}_y$"
      ],
      "text/plain": [
       "                 2\n",
       "l₁⋅u₁̇ a_x + l₁⋅u₁  a_y"
      ]
     },
     "execution_count": 7,
     "metadata": {},
     "output_type": "execute_result"
    }
   ],
   "source": [
    "P1.a2pt_theory(O, N, A)"
   ]
  },
  {
   "cell_type": "code",
   "execution_count": 8,
   "id": "877b9c9b",
   "metadata": {
    "execution": {
     "iopub.execute_input": "2025-09-25T05:55:10.690891Z",
     "iopub.status.busy": "2025-09-25T05:55:10.690737Z",
     "iopub.status.idle": "2025-09-25T05:55:10.701067Z",
     "shell.execute_reply": "2025-09-25T05:55:10.700577Z"
    }
   },
   "outputs": [
    {
     "data": {
      "text/latex": [
       "$\\displaystyle l_{1} \\dot{u}_{1}\\hat{a}_x + l_{1} u_{1}^{2}\\hat{a}_y + l_{2} \\dot{u}_{2}\\hat{b}_x + l_{2} u_{2}^{2}\\hat{b}_y$"
      ],
      "text/plain": [
       "                 2                        2\n",
       "l₁⋅u₁̇ a_x + l₁⋅u₁  a_y + l₂⋅u₂̇ b_x + l₂⋅u₂  b_y"
      ]
     },
     "execution_count": 8,
     "metadata": {},
     "output_type": "execute_result"
    }
   ],
   "source": [
    "P2.a2pt_theory(P1, N, B)"
   ]
  },
  {
   "cell_type": "code",
   "execution_count": 9,
   "id": "3c4f75cb",
   "metadata": {
    "execution": {
     "iopub.execute_input": "2025-09-25T05:55:10.702444Z",
     "iopub.status.busy": "2025-09-25T05:55:10.702291Z",
     "iopub.status.idle": "2025-09-25T05:55:10.712936Z",
     "shell.execute_reply": "2025-09-25T05:55:10.712450Z"
    }
   },
   "outputs": [
    {
     "data": {
      "text/latex": [
       "$\\displaystyle (- T_{1} \\sin{\\left(q_{1} \\right)} + T_{2} \\sin{\\left(q_{2} \\right)})\\hat{n}_x + (- g m_{1} + T_{1} \\cos{\\left(q_{1} \\right)} - T_{2} \\cos{\\left(q_{2} \\right)})\\hat{n}_y$"
      ],
      "text/plain": [
       "(-T₁⋅sin(q₁) + T₂⋅sin(q₂)) n_x + (-g⋅m₁ + T₁⋅cos(q₁) - T₂⋅cos(q₂)) n_y"
      ]
     },
     "execution_count": 9,
     "metadata": {},
     "output_type": "execute_result"
    }
   ],
   "source": [
    "F_P1 = T1*A.y - T2*B.y - m1*g*N.y\n",
    "F_P1.express(N)"
   ]
  },
  {
   "cell_type": "code",
   "execution_count": 10,
   "id": "c4d78a0e",
   "metadata": {
    "execution": {
     "iopub.execute_input": "2025-09-25T05:55:10.714210Z",
     "iopub.status.busy": "2025-09-25T05:55:10.714037Z",
     "iopub.status.idle": "2025-09-25T05:55:10.719952Z",
     "shell.execute_reply": "2025-09-25T05:55:10.719573Z"
    }
   },
   "outputs": [
    {
     "data": {
      "text/latex": [
       "$\\displaystyle -  T_{2} \\sin{\\left(q_{2} \\right)}\\hat{n}_x + (- g m_{2} + T_{2} \\cos{\\left(q_{2} \\right)})\\hat{n}_y$"
      ],
      "text/plain": [
       "-T₂⋅sin(q₂) n_x + (-g⋅m₂ + T₂⋅cos(q₂)) n_y"
      ]
     },
     "execution_count": 10,
     "metadata": {},
     "output_type": "execute_result"
    }
   ],
   "source": [
    "F_P2 = T2*B.y - m2*g*N.y\n",
    "F_P2.express(N)"
   ]
  },
  {
   "cell_type": "code",
   "execution_count": 11,
   "id": "81218ee6",
   "metadata": {
    "execution": {
     "iopub.execute_input": "2025-09-25T05:55:10.721225Z",
     "iopub.status.busy": "2025-09-25T05:55:10.721059Z",
     "iopub.status.idle": "2025-09-25T05:55:10.725187Z",
     "shell.execute_reply": "2025-09-25T05:55:10.724766Z"
    }
   },
   "outputs": [],
   "source": [
    "zero_P1 = F_P1 - m1*P1.acc(N)\n",
    "zero_P2 = F_P2 - m2*P2.acc(N)"
   ]
  },
  {
   "cell_type": "code",
   "execution_count": 12,
   "id": "2fdb9533",
   "metadata": {
    "execution": {
     "iopub.execute_input": "2025-09-25T05:55:10.726431Z",
     "iopub.status.busy": "2025-09-25T05:55:10.726296Z",
     "iopub.status.idle": "2025-09-25T05:55:10.751009Z",
     "shell.execute_reply": "2025-09-25T05:55:10.750610Z"
    }
   },
   "outputs": [
    {
     "data": {
      "text/latex": [
       "$\\displaystyle \\left[\\begin{matrix}- l_{1} m_{1} \\cos{\\left(q_{1} \\right)} \\dot{u}_{1} - \\left(- l_{1} m_{1} u_{1}^{2} + T_{1}\\right) \\sin{\\left(q_{1} \\right)} + T_{2} \\sin{\\left(q_{2} \\right)}\\\\- g m_{1} - l_{1} m_{1} \\sin{\\left(q_{1} \\right)} \\dot{u}_{1} + \\left(- l_{1} m_{1} u_{1}^{2} + T_{1}\\right) \\cos{\\left(q_{1} \\right)} - T_{2} \\cos{\\left(q_{2} \\right)}\\\\l_{1} m_{2} u_{1}^{2} \\sin{\\left(q_{1} \\right)} - l_{1} m_{2} \\cos{\\left(q_{1} \\right)} \\dot{u}_{1} - l_{2} m_{2} \\cos{\\left(q_{2} \\right)} \\dot{u}_{2} - \\left(- l_{2} m_{2} u_{2}^{2} + T_{2}\\right) \\sin{\\left(q_{2} \\right)}\\\\- g m_{2} - l_{1} m_{2} u_{1}^{2} \\cos{\\left(q_{1} \\right)} - l_{1} m_{2} \\sin{\\left(q_{1} \\right)} \\dot{u}_{1} - l_{2} m_{2} \\sin{\\left(q_{2} \\right)} \\dot{u}_{2} + \\left(- l_{2} m_{2} u_{2}^{2} + T_{2}\\right) \\cos{\\left(q_{2} \\right)}\\end{matrix}\\right]$"
      ],
      "text/plain": [
       "⎡                                    ⎛          2     ⎞                       \n",
       "⎢                -l₁⋅m₁⋅cos(q₁)⋅u₁̇ - ⎝- l₁⋅m₁⋅u₁  + T₁⎠⋅sin(q₁) + T₂⋅sin(q₂) \n",
       "⎢                                                                             \n",
       "⎢                                        ⎛          2     ⎞                   \n",
       "⎢             -g⋅m₁ - l₁⋅m₁⋅sin(q₁)⋅u₁̇ + ⎝- l₁⋅m₁⋅u₁  + T₁⎠⋅cos(q₁) - T₂⋅cos(\n",
       "⎢                                                                             \n",
       "⎢            2                                                 ⎛          2   \n",
       "⎢    l₁⋅m₂⋅u₁ ⋅sin(q₁) - l₁⋅m₂⋅cos(q₁)⋅u₁̇ - l₂⋅m₂⋅cos(q₂)⋅u₂̇ - ⎝- l₂⋅m₂⋅u₂  \n",
       "⎢                                                                             \n",
       "⎢                2                                                 ⎛          \n",
       "⎣-g⋅m₂ - l₁⋅m₂⋅u₁ ⋅cos(q₁) - l₁⋅m₂⋅sin(q₁)⋅u₁̇ - l₂⋅m₂⋅sin(q₂)⋅u₂̇ + ⎝- l₂⋅m₂⋅\n",
       "\n",
       "               ⎤\n",
       "                ⎥\n",
       "               ⎥\n",
       "               ⎥\n",
       "q₂)             ⎥\n",
       "               ⎥\n",
       "  ⎞            ⎥\n",
       "+ T₂⎠⋅sin(q₂)    ⎥\n",
       "               ⎥\n",
       "2     ⎞        ⎥\n",
       "u₂  + T₂⎠⋅cos(q₂)⎦"
      ]
     },
     "execution_count": 12,
     "metadata": {},
     "output_type": "execute_result"
    }
   ],
   "source": [
    "fd = sm.Matrix([\n",
    "    zero_P1.dot(N.x),\n",
    "    zero_P1.dot(N.y),\n",
    "    zero_P2.dot(N.x),\n",
    "    zero_P2.dot(N.y),\n",
    "])\n",
    "fd"
   ]
  },
  {
   "cell_type": "code",
   "execution_count": 13,
   "id": "74586b1f",
   "metadata": {
    "execution": {
     "iopub.execute_input": "2025-09-25T05:55:10.752221Z",
     "iopub.status.busy": "2025-09-25T05:55:10.752061Z",
     "iopub.status.idle": "2025-09-25T05:55:10.758800Z",
     "shell.execute_reply": "2025-09-25T05:55:10.758415Z"
    }
   },
   "outputs": [
    {
     "data": {
      "text/latex": [
       "$\\displaystyle \\left( \\left\\{T_{1}, T_{2}, q_{1}, q_{2}, u_{1}, \\dot{u}_{1}\\right\\}, \\  \\left\\{T_{1}, T_{2}, q_{1}, q_{2}, u_{1}, \\dot{u}_{1}\\right\\}, \\  \\left\\{T_{2}, q_{1}, q_{2}, u_{1}, u_{2}, \\dot{u}_{1}, \\dot{u}_{2}\\right\\}, \\  \\left\\{T_{2}, q_{1}, q_{2}, u_{1}, u_{2}, \\dot{u}_{1}, \\dot{u}_{2}\\right\\}\\right)$"
      ],
      "text/plain": [
       "({T₁, T₂, q₁, q₂, u₁, u₁̇}, {T₁, T₂, q₁, q₂, u₁, u₁̇}, {T₂, q₁, q₂, u₁, u₂, u₁\n",
       "̇, u₂̇}, {T₂, q₁, q₂, u₁, u₂, u₁̇, u₂̇})"
      ]
     },
     "execution_count": 13,
     "metadata": {},
     "output_type": "execute_result"
    }
   ],
   "source": [
    "(me.find_dynamicsymbols(fd[0]), me.find_dynamicsymbols(fd[1]),\n",
    " me.find_dynamicsymbols(fd[2]), me.find_dynamicsymbols(fd[3]))"
   ]
  },
  {
   "cell_type": "code",
   "execution_count": 14,
   "id": "a58771fe",
   "metadata": {
    "execution": {
     "iopub.execute_input": "2025-09-25T05:55:10.760066Z",
     "iopub.status.busy": "2025-09-25T05:55:10.759913Z",
     "iopub.status.idle": "2025-09-25T05:55:10.764269Z",
     "shell.execute_reply": "2025-09-25T05:55:10.763749Z"
    }
   },
   "outputs": [
    {
     "data": {
      "text/latex": [
       "$\\displaystyle \\left( \\left[\\begin{matrix}\\dot{u}_{1}\\\\\\dot{u}_{2}\\end{matrix}\\right], \\  \\left[\\begin{matrix}T_{1}\\\\T_{2}\\end{matrix}\\right]\\right)$"
      ],
      "text/plain": [
       "⎛⎡u₁̇⎤  ⎡T₁⎤⎞\n",
       "⎜⎢  ⎥, ⎢  ⎥⎟\n",
       "⎝⎣u₂̇⎦  ⎣T₂⎦⎠"
      ]
     },
     "execution_count": 14,
     "metadata": {},
     "output_type": "execute_result"
    }
   ],
   "source": [
    "ud, r"
   ]
  },
  {
   "cell_type": "code",
   "execution_count": 15,
   "id": "fd7a15e7",
   "metadata": {
    "execution": {
     "iopub.execute_input": "2025-09-25T05:55:10.765508Z",
     "iopub.status.busy": "2025-09-25T05:55:10.765373Z",
     "iopub.status.idle": "2025-09-25T05:55:10.804727Z",
     "shell.execute_reply": "2025-09-25T05:55:10.804325Z"
    }
   },
   "outputs": [
    {
     "data": {
      "text/latex": [
       "$\\displaystyle \\left( \\left[\\begin{matrix}- l_{1} m_{1} \\cos{\\left(q_{1} \\right)} & 0 & - \\sin{\\left(q_{1} \\right)} & \\sin{\\left(q_{2} \\right)}\\\\- l_{1} m_{1} \\sin{\\left(q_{1} \\right)} & 0 & \\cos{\\left(q_{1} \\right)} & - \\cos{\\left(q_{2} \\right)}\\\\- l_{1} m_{2} \\cos{\\left(q_{1} \\right)} & - l_{2} m_{2} \\cos{\\left(q_{2} \\right)} & 0 & - \\sin{\\left(q_{2} \\right)}\\\\- l_{1} m_{2} \\sin{\\left(q_{1} \\right)} & - l_{2} m_{2} \\sin{\\left(q_{2} \\right)} & 0 & \\cos{\\left(q_{2} \\right)}\\end{matrix}\\right], \\  \\left[\\begin{matrix}\\dot{u}_{1}\\\\\\dot{u}_{2}\\\\T_{1}\\\\T_{2}\\end{matrix}\\right], \\  \\left[\\begin{matrix}l_{1} m_{1} u_{1}^{2} \\sin{\\left(q_{1} \\right)}\\\\- g m_{1} - l_{1} m_{1} u_{1}^{2} \\cos{\\left(q_{1} \\right)}\\\\l_{1} m_{2} u_{1}^{2} \\sin{\\left(q_{1} \\right)} + l_{2} m_{2} u_{2}^{2} \\sin{\\left(q_{2} \\right)}\\\\- g m_{2} - l_{1} m_{2} u_{1}^{2} \\cos{\\left(q_{1} \\right)} - l_{2} m_{2} u_{2}^{2} \\cos{\\left(q_{2} \\right)}\\end{matrix}\\right]\\right)$"
      ],
      "text/plain": [
       "⎛                                                            ⎡                \n",
       "⎜                                                            ⎢              l₁\n",
       "⎜⎡-l₁⋅m₁⋅cos(q₁)        0         -sin(q₁)  sin(q₂) ⎤  ⎡u₁̇⎤  ⎢               \n",
       "⎜⎢                                                  ⎥  ⎢  ⎥  ⎢                \n",
       "⎜⎢-l₁⋅m₁⋅sin(q₁)        0         cos(q₁)   -cos(q₂)⎥  ⎢u₂̇⎥  ⎢          -g⋅m₁\n",
       "⎜⎢                                                  ⎥, ⎢  ⎥, ⎢                \n",
       "⎜⎢-l₁⋅m₂⋅cos(q₁)  -l₂⋅m₂⋅cos(q₂)     0      -sin(q₂)⎥  ⎢T₁⎥  ⎢            2   \n",
       "⎜⎢                                                  ⎥  ⎢  ⎥  ⎢    l₁⋅m₂⋅u₁ ⋅si\n",
       "⎜⎣-l₁⋅m₂⋅sin(q₁)  -l₂⋅m₂⋅sin(q₂)     0      cos(q₂) ⎦  ⎣T₂⎦  ⎢                \n",
       "⎜                                                            ⎢                \n",
       "⎝                                                            ⎣-g⋅m₂ - l₁⋅m₂⋅u₁\n",
       "\n",
       "      2                      ⎤⎞\n",
       "⋅m₁⋅u₁ ⋅sin(q₁)              ⎥⎟\n",
       "                              ⎥⎟\n",
       "          2                  ⎥⎟\n",
       " - l₁⋅m₁⋅u₁ ⋅cos(q₁)          ⎥⎟\n",
       "                             ⎥⎟\n",
       "                2            ⎥⎟\n",
       "n(q₁) + l₂⋅m₂⋅u₂ ⋅sin(q₂)    ⎥⎟\n",
       "                             ⎥⎟\n",
       "2                   2        ⎥⎟\n",
       " ⋅cos(q₁) - l₂⋅m₂⋅u₂ ⋅cos(q₂)⎦⎠"
      ]
     },
     "execution_count": 15,
     "metadata": {},
     "output_type": "execute_result"
    }
   ],
   "source": [
    "udr = ud.col_join(r)\n",
    "udr_zero = {v: 0 for v in udr}\n",
    "\n",
    "Md = fd.jacobian(udr)\n",
    "gd = fd.xreplace(udr_zero)\n",
    "\n",
    "Md, udr, gd"
   ]
  },
  {
   "cell_type": "code",
   "execution_count": 16,
   "id": "a66d95f8",
   "metadata": {
    "execution": {
     "iopub.execute_input": "2025-09-25T05:55:10.805944Z",
     "iopub.status.busy": "2025-09-25T05:55:10.805807Z",
     "iopub.status.idle": "2025-09-25T05:55:10.810768Z",
     "shell.execute_reply": "2025-09-25T05:55:10.810368Z"
    }
   },
   "outputs": [
    {
     "data": {
      "text/latex": [
       "$\\displaystyle l_{1} u_{1}\\hat{a}_x -  u_{3}\\hat{a}_y$"
      ],
      "text/plain": [
       "l₁⋅u₁ a_x + -u₃ a_y"
      ]
     },
     "execution_count": 16,
     "metadata": {},
     "output_type": "execute_result"
    }
   ],
   "source": [
    "u3, u4 = me.dynamicsymbols('u3, u4')\n",
    "\n",
    "N_v_P1a = P1.vel(N) - u3*A.y\n",
    "N_v_P1a"
   ]
  },
  {
   "cell_type": "code",
   "execution_count": 17,
   "id": "7e71a17c",
   "metadata": {
    "execution": {
     "iopub.execute_input": "2025-09-25T05:55:10.811987Z",
     "iopub.status.busy": "2025-09-25T05:55:10.811836Z",
     "iopub.status.idle": "2025-09-25T05:55:10.818351Z",
     "shell.execute_reply": "2025-09-25T05:55:10.817837Z"
    }
   },
   "outputs": [
    {
     "data": {
      "text/latex": [
       "$\\displaystyle l_{1} u_{1}\\hat{a}_x -  u_{3}\\hat{a}_y + l_{2} u_{2}\\hat{b}_x -  u_{4}\\hat{b}_y$"
      ],
      "text/plain": [
       "l₁⋅u₁ a_x + -u₃ a_y + l₂⋅u₂ b_x + -u₄ b_y"
      ]
     },
     "execution_count": 17,
     "metadata": {},
     "output_type": "execute_result"
    }
   ],
   "source": [
    "N_v_P2a = N_v_P1a + me.cross(B.ang_vel_in(N), P2.pos_from(P1)) - u4*B.y\n",
    "N_v_P2a"
   ]
  },
  {
   "cell_type": "code",
   "execution_count": 18,
   "id": "c50394b1",
   "metadata": {
    "execution": {
     "iopub.execute_input": "2025-09-25T05:55:10.819542Z",
     "iopub.status.busy": "2025-09-25T05:55:10.819406Z",
     "iopub.status.idle": "2025-09-25T05:55:10.823086Z",
     "shell.execute_reply": "2025-09-25T05:55:10.822697Z"
    }
   },
   "outputs": [],
   "source": [
    "R_P1 = -m1*g*N.y\n",
    "R_P2 = -m2*g*N.y"
   ]
  },
  {
   "cell_type": "code",
   "execution_count": 19,
   "id": "b5b23e00",
   "metadata": {
    "execution": {
     "iopub.execute_input": "2025-09-25T05:55:10.824400Z",
     "iopub.status.busy": "2025-09-25T05:55:10.824258Z",
     "iopub.status.idle": "2025-09-25T05:55:10.834332Z",
     "shell.execute_reply": "2025-09-25T05:55:10.833911Z"
    }
   },
   "outputs": [
    {
     "data": {
      "text/latex": [
       "$\\displaystyle - g l_{1} m_{1} \\sin{\\left(q_{1} \\right)} - g l_{1} m_{2} \\sin{\\left(q_{1} \\right)}$"
      ],
      "text/plain": [
       "-g⋅l₁⋅m₁⋅sin(q₁) - g⋅l₁⋅m₂⋅sin(q₁)"
      ]
     },
     "execution_count": 19,
     "metadata": {},
     "output_type": "execute_result"
    }
   ],
   "source": [
    "F1 = P1.vel(N).diff(u1, N).dot(R_P1) + P2.vel(N).diff(u1, N).dot(R_P2)\n",
    "F1"
   ]
  },
  {
   "cell_type": "code",
   "execution_count": 20,
   "id": "df143386",
   "metadata": {
    "execution": {
     "iopub.execute_input": "2025-09-25T05:55:10.835521Z",
     "iopub.status.busy": "2025-09-25T05:55:10.835374Z",
     "iopub.status.idle": "2025-09-25T05:55:10.842222Z",
     "shell.execute_reply": "2025-09-25T05:55:10.841704Z"
    }
   },
   "outputs": [
    {
     "data": {
      "text/latex": [
       "$\\displaystyle - g l_{2} m_{2} \\sin{\\left(q_{2} \\right)}$"
      ],
      "text/plain": [
       "-g⋅l₂⋅m₂⋅sin(q₂)"
      ]
     },
     "execution_count": 20,
     "metadata": {},
     "output_type": "execute_result"
    }
   ],
   "source": [
    "F2 = P1.vel(N).diff(u2, N).dot(R_P1) + P2.vel(N).diff(u2, N).dot(R_P2)\n",
    "F2"
   ]
  },
  {
   "cell_type": "code",
   "execution_count": 21,
   "id": "9e2698bf",
   "metadata": {
    "execution": {
     "iopub.execute_input": "2025-09-25T05:55:10.843597Z",
     "iopub.status.busy": "2025-09-25T05:55:10.843443Z",
     "iopub.status.idle": "2025-09-25T05:55:10.846623Z",
     "shell.execute_reply": "2025-09-25T05:55:10.846212Z"
    }
   },
   "outputs": [],
   "source": [
    "R_P1_aux = R_P1 + T1*A.y - T2*B.y\n",
    "R_P2_aux = R_P2 + T2*B.y"
   ]
  },
  {
   "cell_type": "code",
   "execution_count": 22,
   "id": "ed06511b",
   "metadata": {
    "execution": {
     "iopub.execute_input": "2025-09-25T05:55:10.847796Z",
     "iopub.status.busy": "2025-09-25T05:55:10.847651Z",
     "iopub.status.idle": "2025-09-25T05:55:10.862490Z",
     "shell.execute_reply": "2025-09-25T05:55:10.861978Z"
    }
   },
   "outputs": [
    {
     "data": {
      "text/latex": [
       "$\\displaystyle g m_{1} \\cos{\\left(q_{1} \\right)} + g m_{2} \\cos{\\left(q_{1} \\right)} - T_{1}$"
      ],
      "text/plain": [
       "g⋅m₁⋅cos(q₁) + g⋅m₂⋅cos(q₁) - T₁"
      ]
     },
     "execution_count": 22,
     "metadata": {},
     "output_type": "execute_result"
    }
   ],
   "source": [
    "F3 = N_v_P1a.diff(u3, N).dot(R_P1_aux) + N_v_P2a.diff(u3, N).dot(R_P2_aux)\n",
    "F3"
   ]
  },
  {
   "cell_type": "code",
   "execution_count": 23,
   "id": "e7baab1d",
   "metadata": {
    "execution": {
     "iopub.execute_input": "2025-09-25T05:55:10.863890Z",
     "iopub.status.busy": "2025-09-25T05:55:10.863736Z",
     "iopub.status.idle": "2025-09-25T05:55:10.870747Z",
     "shell.execute_reply": "2025-09-25T05:55:10.870251Z"
    }
   },
   "outputs": [
    {
     "data": {
      "text/latex": [
       "$\\displaystyle g m_{2} \\cos{\\left(q_{2} \\right)} - T_{2}$"
      ],
      "text/plain": [
       "g⋅m₂⋅cos(q₂) - T₂"
      ]
     },
     "execution_count": 23,
     "metadata": {},
     "output_type": "execute_result"
    }
   ],
   "source": [
    "F4 = N_v_P1a.diff(u4, N).dot(R_P1_aux) + N_v_P2a.diff(u4, N).dot(R_P2_aux)\n",
    "F4"
   ]
  },
  {
   "cell_type": "code",
   "execution_count": 24,
   "id": "b6313fe1",
   "metadata": {
    "execution": {
     "iopub.execute_input": "2025-09-25T05:55:10.871990Z",
     "iopub.status.busy": "2025-09-25T05:55:10.871840Z",
     "iopub.status.idle": "2025-09-25T05:55:10.878925Z",
     "shell.execute_reply": "2025-09-25T05:55:10.878442Z"
    }
   },
   "outputs": [
    {
     "data": {
      "text/latex": [
       "$\\displaystyle \\left[\\begin{matrix}- g l_{1} m_{1} \\sin{\\left(q_{1} \\right)} - g l_{1} m_{2} \\sin{\\left(q_{1} \\right)}\\\\- g l_{2} m_{2} \\sin{\\left(q_{2} \\right)}\\\\g m_{1} \\cos{\\left(q_{1} \\right)} + g m_{2} \\cos{\\left(q_{1} \\right)} - T_{1}\\\\g m_{2} \\cos{\\left(q_{2} \\right)} - T_{2}\\end{matrix}\\right]$"
      ],
      "text/plain": [
       "⎡-g⋅l₁⋅m₁⋅sin(q₁) - g⋅l₁⋅m₂⋅sin(q₁)⎤\n",
       "⎢                                  ⎥\n",
       "⎢         -g⋅l₂⋅m₂⋅sin(q₂)         ⎥\n",
       "⎢                                  ⎥\n",
       "⎢ g⋅m₁⋅cos(q₁) + g⋅m₂⋅cos(q₁) - T₁ ⎥\n",
       "⎢                                  ⎥\n",
       "⎣        g⋅m₂⋅cos(q₂) - T₂         ⎦"
      ]
     },
     "execution_count": 24,
     "metadata": {},
     "output_type": "execute_result"
    }
   ],
   "source": [
    "Fr = sm.Matrix([F1, F2, F3, F4])\n",
    "Fr"
   ]
  },
  {
   "cell_type": "code",
   "execution_count": 25,
   "id": "b8c9b17b",
   "metadata": {
    "execution": {
     "iopub.execute_input": "2025-09-25T05:55:10.880298Z",
     "iopub.status.busy": "2025-09-25T05:55:10.880117Z",
     "iopub.status.idle": "2025-09-25T05:55:10.883522Z",
     "shell.execute_reply": "2025-09-25T05:55:10.883008Z"
    }
   },
   "outputs": [],
   "source": [
    "Rs_P1 = -m1*P1.acc(N)\n",
    "Rs_P2 = -m2*P2.acc(N)"
   ]
  },
  {
   "cell_type": "code",
   "execution_count": 26,
   "id": "71aff446",
   "metadata": {
    "execution": {
     "iopub.execute_input": "2025-09-25T05:55:10.884874Z",
     "iopub.status.busy": "2025-09-25T05:55:10.884735Z",
     "iopub.status.idle": "2025-09-25T05:55:10.903528Z",
     "shell.execute_reply": "2025-09-25T05:55:10.903117Z"
    }
   },
   "outputs": [
    {
     "data": {
      "text/latex": [
       "$\\displaystyle - l_{1}^{2} m_{1} \\dot{u}_{1} - l_{1}^{2} m_{2} \\dot{u}_{1} + l_{1} \\left(- l_{2} m_{2} \\left(\\sin{\\left(q_{1} \\right)} \\sin{\\left(q_{2} \\right)} + \\cos{\\left(q_{1} \\right)} \\cos{\\left(q_{2} \\right)}\\right) \\dot{u}_{2} - l_{2} m_{2} \\left(\\sin{\\left(q_{1} \\right)} \\cos{\\left(q_{2} \\right)} - \\sin{\\left(q_{2} \\right)} \\cos{\\left(q_{1} \\right)}\\right) u_{2}^{2}\\right)$"
      ],
      "text/plain": [
       "    2           2            ⎛                                                \n",
       "- l₁ ⋅m₁⋅u₁̇ - l₁ ⋅m₂⋅u₁̇ + l₁⋅⎝-l₂⋅m₂⋅(sin(q₁)⋅sin(q₂) + cos(q₁)⋅cos(q₂))⋅u₂̇\n",
       "\n",
       "                                            2⎞\n",
       " - l₂⋅m₂⋅(sin(q₁)⋅cos(q₂) - sin(q₂)⋅cos(q₁))⋅u₂ ⎠"
      ]
     },
     "execution_count": 26,
     "metadata": {},
     "output_type": "execute_result"
    }
   ],
   "source": [
    "F1s = P1.vel(N).diff(u1, N).dot(Rs_P1) + P2.vel(N).diff(u1, N).dot(Rs_P2)\n",
    "F1s"
   ]
  },
  {
   "cell_type": "code",
   "execution_count": 27,
   "id": "09950709",
   "metadata": {
    "execution": {
     "iopub.execute_input": "2025-09-25T05:55:10.904813Z",
     "iopub.status.busy": "2025-09-25T05:55:10.904673Z",
     "iopub.status.idle": "2025-09-25T05:55:10.920053Z",
     "shell.execute_reply": "2025-09-25T05:55:10.919671Z"
    }
   },
   "outputs": [
    {
     "data": {
      "text/latex": [
       "$\\displaystyle - l_{2}^{2} m_{2} \\dot{u}_{2} + l_{2} \\left(- l_{1} m_{2} \\left(\\sin{\\left(q_{1} \\right)} \\sin{\\left(q_{2} \\right)} + \\cos{\\left(q_{1} \\right)} \\cos{\\left(q_{2} \\right)}\\right) \\dot{u}_{1} - l_{1} m_{2} \\left(- \\sin{\\left(q_{1} \\right)} \\cos{\\left(q_{2} \\right)} + \\sin{\\left(q_{2} \\right)} \\cos{\\left(q_{1} \\right)}\\right) u_{1}^{2}\\right)$"
      ],
      "text/plain": [
       "    2            ⎛                                                            \n",
       "- l₂ ⋅m₂⋅u₂̇ + l₂⋅⎝-l₁⋅m₂⋅(sin(q₁)⋅sin(q₂) + cos(q₁)⋅cos(q₂))⋅u₁̇ - l₁⋅m₂⋅(-si\n",
       "\n",
       "                                 2⎞\n",
       "n(q₁)⋅cos(q₂) + sin(q₂)⋅cos(q₁))⋅u₁ ⎠"
      ]
     },
     "execution_count": 27,
     "metadata": {},
     "output_type": "execute_result"
    }
   ],
   "source": [
    "F2s = P1.vel(N).diff(u2, N).dot(Rs_P1) + P2.vel(N).diff(u2, N).dot(Rs_P2)\n",
    "F2s"
   ]
  },
  {
   "cell_type": "code",
   "execution_count": 28,
   "id": "6b825888",
   "metadata": {
    "execution": {
     "iopub.execute_input": "2025-09-25T05:55:10.921362Z",
     "iopub.status.busy": "2025-09-25T05:55:10.921221Z",
     "iopub.status.idle": "2025-09-25T05:55:10.933122Z",
     "shell.execute_reply": "2025-09-25T05:55:10.932718Z"
    }
   },
   "outputs": [
    {
     "data": {
      "text/latex": [
       "$\\displaystyle l_{1} m_{1} u_{1}^{2} + l_{1} m_{2} u_{1}^{2} + l_{2} m_{2} \\left(\\sin{\\left(q_{1} \\right)} \\sin{\\left(q_{2} \\right)} + \\cos{\\left(q_{1} \\right)} \\cos{\\left(q_{2} \\right)}\\right) u_{2}^{2} + l_{2} m_{2} \\left(- \\sin{\\left(q_{1} \\right)} \\cos{\\left(q_{2} \\right)} + \\sin{\\left(q_{2} \\right)} \\cos{\\left(q_{1} \\right)}\\right) \\dot{u}_{2}$"
      ],
      "text/plain": [
       "        2           2                                               2         \n",
       "l₁⋅m₁⋅u₁  + l₁⋅m₂⋅u₁  + l₂⋅m₂⋅(sin(q₁)⋅sin(q₂) + cos(q₁)⋅cos(q₂))⋅u₂  + l₂⋅m₂⋅\n",
       "\n",
       "                                       \n",
       "(-sin(q₁)⋅cos(q₂) + sin(q₂)⋅cos(q₁))⋅u₂̇"
      ]
     },
     "execution_count": 28,
     "metadata": {},
     "output_type": "execute_result"
    }
   ],
   "source": [
    "F3s = N_v_P1a.diff(u3, N).dot(Rs_P1) + N_v_P2a.diff(u3, N).dot(Rs_P2)\n",
    "F3s"
   ]
  },
  {
   "cell_type": "code",
   "execution_count": 29,
   "id": "2d06552c",
   "metadata": {
    "execution": {
     "iopub.execute_input": "2025-09-25T05:55:10.934377Z",
     "iopub.status.busy": "2025-09-25T05:55:10.934239Z",
     "iopub.status.idle": "2025-09-25T05:55:10.944630Z",
     "shell.execute_reply": "2025-09-25T05:55:10.944228Z"
    }
   },
   "outputs": [
    {
     "data": {
      "text/latex": [
       "$\\displaystyle l_{1} m_{2} \\left(\\sin{\\left(q_{1} \\right)} \\sin{\\left(q_{2} \\right)} + \\cos{\\left(q_{1} \\right)} \\cos{\\left(q_{2} \\right)}\\right) u_{1}^{2} + l_{1} m_{2} \\left(\\sin{\\left(q_{1} \\right)} \\cos{\\left(q_{2} \\right)} - \\sin{\\left(q_{2} \\right)} \\cos{\\left(q_{1} \\right)}\\right) \\dot{u}_{1} + l_{2} m_{2} u_{2}^{2}$"
      ],
      "text/plain": [
       "                                            2                                 \n",
       "l₁⋅m₂⋅(sin(q₁)⋅sin(q₂) + cos(q₁)⋅cos(q₂))⋅u₁  + l₁⋅m₂⋅(sin(q₁)⋅cos(q₂) - sin(q\n",
       "\n",
       "                         2\n",
       "₂)⋅cos(q₁))⋅u₁̇ + l₂⋅m₂⋅u₂ "
      ]
     },
     "execution_count": 29,
     "metadata": {},
     "output_type": "execute_result"
    }
   ],
   "source": [
    "F4s = N_v_P1a.diff(u4, N).dot(Rs_P1) + N_v_P2a.diff(u4, N).dot(Rs_P2)\n",
    "F4s"
   ]
  },
  {
   "cell_type": "code",
   "execution_count": 30,
   "id": "de20feee",
   "metadata": {
    "execution": {
     "iopub.execute_input": "2025-09-25T05:55:10.945871Z",
     "iopub.status.busy": "2025-09-25T05:55:10.945737Z",
     "iopub.status.idle": "2025-09-25T05:55:12.012649Z",
     "shell.execute_reply": "2025-09-25T05:55:12.012167Z"
    }
   },
   "outputs": [
    {
     "data": {
      "text/latex": [
       "$\\displaystyle \\left[\\begin{matrix}- l_{1} \\left(l_{1} m_{1} \\dot{u}_{1} + l_{1} m_{2} \\dot{u}_{1} + l_{2} m_{2} u_{2}^{2} \\sin{\\left(q_{1} - q_{2} \\right)} + l_{2} m_{2} \\cos{\\left(q_{1} - q_{2} \\right)} \\dot{u}_{2}\\right)\\\\l_{2} m_{2} \\left(l_{1} u_{1}^{2} \\sin{\\left(q_{1} - q_{2} \\right)} - l_{1} \\cos{\\left(q_{1} - q_{2} \\right)} \\dot{u}_{1} - l_{2} \\dot{u}_{2}\\right)\\\\l_{1} m_{1} u_{1}^{2} + l_{1} m_{2} u_{1}^{2} + l_{2} m_{2} u_{2}^{2} \\cos{\\left(q_{1} - q_{2} \\right)} - l_{2} m_{2} \\sin{\\left(q_{1} - q_{2} \\right)} \\dot{u}_{2}\\\\m_{2} \\left(l_{1} u_{1}^{2} \\cos{\\left(q_{1} - q_{2} \\right)} + l_{1} \\sin{\\left(q_{1} - q_{2} \\right)} \\dot{u}_{1} + l_{2} u_{2}^{2}\\right)\\end{matrix}\\right]$"
      ],
      "text/plain": [
       "⎡    ⎛                              2                                     ⎞⎤\n",
       "⎢-l₁⋅⎝l₁⋅m₁⋅u₁̇ + l₁⋅m₂⋅u₁̇ + l₂⋅m₂⋅u₂ ⋅sin(q₁ - q₂) + l₂⋅m₂⋅cos(q₁ - q₂)⋅u₂̇⎠⎥\n",
       "⎢                                                                          ⎥\n",
       "⎢               ⎛     2                                          ⎞         ⎥\n",
       "⎢         l₂⋅m₂⋅⎝l₁⋅u₁ ⋅sin(q₁ - q₂) - l₁⋅cos(q₁ - q₂)⋅u₁̇ - l₂⋅u₂̇⎠         ⎥\n",
       "⎢                                                                          ⎥\n",
       "⎢          2           2           2                                       ⎥\n",
       "⎢  l₁⋅m₁⋅u₁  + l₁⋅m₂⋅u₁  + l₂⋅m₂⋅u₂ ⋅cos(q₁ - q₂) - l₂⋅m₂⋅sin(q₁ - q₂)⋅u₂̇  ⎥\n",
       "⎢                                                                          ⎥\n",
       "⎢             ⎛     2                                          2⎞          ⎥\n",
       "⎣          m₂⋅⎝l₁⋅u₁ ⋅cos(q₁ - q₂) + l₁⋅sin(q₁ - q₂)⋅u₁̇ + l₂⋅u₂ ⎠          ⎦"
      ]
     },
     "execution_count": 30,
     "metadata": {},
     "output_type": "execute_result"
    }
   ],
   "source": [
    "Frs = sm.Matrix([F1s, F2s, F3s, F4s])\n",
    "Frs = sm.trigsimp(Frs)\n",
    "Frs"
   ]
  },
  {
   "cell_type": "code",
   "execution_count": 31,
   "id": "0d6f513f",
   "metadata": {
    "execution": {
     "iopub.execute_input": "2025-09-25T05:55:12.014084Z",
     "iopub.status.busy": "2025-09-25T05:55:12.013916Z",
     "iopub.status.idle": "2025-09-25T05:55:12.018919Z",
     "shell.execute_reply": "2025-09-25T05:55:12.018436Z"
    }
   },
   "outputs": [
    {
     "data": {
      "text/latex": [
       "$\\displaystyle \\left\\{T_{1}, T_{2}, q_{1}, q_{2}, u_{1}, u_{2}, \\dot{u}_{1}, \\dot{u}_{2}\\right\\}$"
      ],
      "text/plain": [
       "{T₁, T₂, q₁, q₂, u₁, u₂, u₁̇, u₂̇}"
      ]
     },
     "execution_count": 31,
     "metadata": {},
     "output_type": "execute_result"
    }
   ],
   "source": [
    "fa = Frs + Fr\n",
    "me.find_dynamicsymbols(fa)"
   ]
  },
  {
   "cell_type": "code",
   "execution_count": 32,
   "id": "56a29bed",
   "metadata": {
    "execution": {
     "iopub.execute_input": "2025-09-25T05:55:12.020253Z",
     "iopub.status.busy": "2025-09-25T05:55:12.020081Z",
     "iopub.status.idle": "2025-09-25T05:55:12.064949Z",
     "shell.execute_reply": "2025-09-25T05:55:12.064502Z"
    }
   },
   "outputs": [
    {
     "data": {
      "text/latex": [
       "$\\displaystyle \\left( \\left[\\begin{matrix}- l_{1} \\left(l_{1} m_{1} + l_{1} m_{2}\\right) & - l_{1} l_{2} m_{2} \\cos{\\left(q_{1} - q_{2} \\right)} & 0 & 0\\\\- l_{1} l_{2} m_{2} \\cos{\\left(q_{1} - q_{2} \\right)} & - l_{2}^{2} m_{2} & 0 & 0\\\\0 & - l_{2} m_{2} \\sin{\\left(q_{1} - q_{2} \\right)} & -1 & 0\\\\l_{1} m_{2} \\sin{\\left(q_{1} - q_{2} \\right)} & 0 & 0 & -1\\end{matrix}\\right], \\  \\left[\\begin{matrix}\\dot{u}_{1}\\\\\\dot{u}_{2}\\\\T_{1}\\\\T_{2}\\end{matrix}\\right], \\  \\left[\\begin{matrix}- g l_{1} m_{1} \\sin{\\left(q_{1} \\right)} - g l_{1} m_{2} \\sin{\\left(q_{1} \\right)} - l_{1} l_{2} m_{2} u_{2}^{2} \\sin{\\left(q_{1} - q_{2} \\right)}\\\\- g l_{2} m_{2} \\sin{\\left(q_{2} \\right)} + l_{1} l_{2} m_{2} u_{1}^{2} \\sin{\\left(q_{1} - q_{2} \\right)}\\\\g m_{1} \\cos{\\left(q_{1} \\right)} + g m_{2} \\cos{\\left(q_{1} \\right)} + l_{1} m_{1} u_{1}^{2} + l_{1} m_{2} u_{1}^{2} + l_{2} m_{2} u_{2}^{2} \\cos{\\left(q_{1} - q_{2} \\right)}\\\\g m_{2} \\cos{\\left(q_{2} \\right)} + m_{2} \\left(l_{1} u_{1}^{2} \\cos{\\left(q_{1} - q_{2} \\right)} + l_{2} u_{2}^{2}\\right)\\end{matrix}\\right]\\right)$"
      ],
      "text/plain": [
       "⎛                                                                ⎡            \n",
       "⎜⎡ -l₁⋅(l₁⋅m₁ + l₁⋅m₂)    -l₁⋅l₂⋅m₂⋅cos(q₁ - q₂)  0   0 ⎤        ⎢       -g⋅l₁\n",
       "⎜⎢                                                      ⎥  ⎡u₁̇⎤  ⎢           \n",
       "⎜⎢                                  2                   ⎥  ⎢  ⎥  ⎢            \n",
       "⎜⎢-l₁⋅l₂⋅m₂⋅cos(q₁ - q₂)         -l₂ ⋅m₂          0   0 ⎥  ⎢u₂̇⎥  ⎢           \n",
       "⎜⎢                                                      ⎥, ⎢  ⎥, ⎢            \n",
       "⎜⎢          0              -l₂⋅m₂⋅sin(q₁ - q₂)    -1  0 ⎥  ⎢T₁⎥  ⎢            \n",
       "⎜⎢                                                      ⎥  ⎢  ⎥  ⎢g⋅m₁⋅cos(q₁)\n",
       "⎜⎣  l₁⋅m₂⋅sin(q₁ - q₂)              0             0   -1⎦  ⎣T₂⎦  ⎢            \n",
       "⎜                                                                ⎢            \n",
       "⎝                                                                ⎣            \n",
       "\n",
       "                                           2                    ⎤⎞\n",
       "⋅m₁⋅sin(q₁) - g⋅l₁⋅m₂⋅sin(q₁) - l₁⋅l₂⋅m₂⋅u₂ ⋅sin(q₁ - q₂)       ⎥⎟\n",
       "                                                                 ⎥⎟\n",
       "                                  2                             ⎥⎟\n",
       "     -g⋅l₂⋅m₂⋅sin(q₂) + l₁⋅l₂⋅m₂⋅u₁ ⋅sin(q₁ - q₂)                ⎥⎟\n",
       "                                                                ⎥⎟\n",
       "                          2           2           2             ⎥⎟\n",
       " + g⋅m₂⋅cos(q₁) + l₁⋅m₁⋅u₁  + l₁⋅m₂⋅u₁  + l₂⋅m₂⋅u₂ ⋅cos(q₁ - q₂)⎥⎟\n",
       "                                                                ⎥⎟\n",
       "                    ⎛     2                     2⎞              ⎥⎟\n",
       "  g⋅m₂⋅cos(q₂) + m₂⋅⎝l₁⋅u₁ ⋅cos(q₁ - q₂) + l₂⋅u₂ ⎠              ⎦⎠"
      ]
     },
     "execution_count": 32,
     "metadata": {},
     "output_type": "execute_result"
    }
   ],
   "source": [
    "Ma = fa.jacobian(udr)\n",
    "ga = fa.xreplace(udr_zero)\n",
    "\n",
    "Ma, udr, ga"
   ]
  },
  {
   "cell_type": "code",
   "execution_count": 33,
   "id": "6767bf21",
   "metadata": {
    "execution": {
     "iopub.execute_input": "2025-09-25T05:55:12.066250Z",
     "iopub.status.busy": "2025-09-25T05:55:12.066083Z",
     "iopub.status.idle": "2025-09-25T05:55:12.088968Z",
     "shell.execute_reply": "2025-09-25T05:55:12.088468Z"
    }
   },
   "outputs": [],
   "source": [
    "udr_sol = -Ma.LUsolve(ga)"
   ]
  },
  {
   "cell_type": "code",
   "execution_count": 34,
   "id": "ea804a4a",
   "metadata": {
    "execution": {
     "iopub.execute_input": "2025-09-25T05:55:12.090267Z",
     "iopub.status.busy": "2025-09-25T05:55:12.090115Z",
     "iopub.status.idle": "2025-09-25T05:55:15.341205Z",
     "shell.execute_reply": "2025-09-25T05:55:15.340767Z"
    }
   },
   "outputs": [
    {
     "data": {
      "text/latex": [
       "$\\displaystyle g m_{1} \\cos{\\left(q_{1} \\right)} + g m_{2} \\cos{\\left(q_{1} \\right)} + l_{1} m_{1} u_{1}^{2} + l_{1} m_{2} u_{1}^{2} + l_{2} m_{2} u_{2}^{2} \\cos{\\left(q_{1} - q_{2} \\right)} + \\frac{l_{2} m_{2} \\left(- g l_{2} m_{2} \\sin{\\left(q_{2} \\right)} + l_{1} l_{2} m_{2} u_{1}^{2} \\sin{\\left(q_{1} - q_{2} \\right)} + \\frac{l_{1} l_{2} m_{2} \\left(g m_{1} \\sin{\\left(q_{1} \\right)} + g m_{2} \\sin{\\left(q_{1} \\right)} + l_{2} m_{2} u_{2}^{2} \\sin{\\left(q_{1} - q_{2} \\right)}\\right) \\cos{\\left(q_{1} - q_{2} \\right)}}{l_{1} m_{1} + l_{1} m_{2}}\\right) \\sin{\\left(q_{1} - q_{2} \\right)}}{\\frac{l_{1} l_{2}^{2} m_{2}^{2} \\cos^{2}{\\left(q_{1} - q_{2} \\right)}}{l_{1} m_{1} + l_{1} m_{2}} - l_{2}^{2} m_{2}}$"
      ],
      "text/plain": [
       "                                                                              \n",
       "                                                                              \n",
       "                                                                              \n",
       "                                      2           2           2               \n",
       "g⋅m₁⋅cos(q₁) + g⋅m₂⋅cos(q₁) + l₁⋅m₁⋅u₁  + l₁⋅m₂⋅u₁  + l₂⋅m₂⋅u₂ ⋅cos(q₁ - q₂) +\n",
       "                                                                              \n",
       "                                                                              \n",
       "                                                                              \n",
       "                                                                              \n",
       "\n",
       "       ⎛                                                        ⎛             \n",
       "       ⎜                              2                l₁⋅l₂⋅m₂⋅⎝g⋅m₁⋅sin(q₁) \n",
       " l₂⋅m₂⋅⎜-g⋅l₂⋅m₂⋅sin(q₂) + l₁⋅l₂⋅m₂⋅u₁ ⋅sin(q₁ - q₂) + ───────────────────────\n",
       "       ⎝                                                                      \n",
       " ─────────────────────────────────────────────────────────────────────────────\n",
       "                                                             2   2    2       \n",
       "                                                        l₁⋅l₂ ⋅m₂ ⋅cos (q₁ - q\n",
       "                                                        ──────────────────────\n",
       "                                                             l₁⋅m₁ + l₁⋅m₂    \n",
       "\n",
       "                         2             ⎞             ⎞             \n",
       "+ g⋅m₂⋅sin(q₁) + l₂⋅m₂⋅u₂ ⋅sin(q₁ - q₂)⎠⋅cos(q₁ - q₂)⎟             \n",
       "─────────────────────────────────────────────────────⎟⋅sin(q₁ - q₂)\n",
       "        l₁⋅m₁ + l₁⋅m₂                                ⎠             \n",
       "───────────────────────────────────────────────────────────────────\n",
       "                                                                   \n",
       "₂)     2                                                           \n",
       "── - l₂ ⋅m₂                                                        \n",
       "                                                                   "
      ]
     },
     "execution_count": 34,
     "metadata": {},
     "output_type": "execute_result"
    }
   ],
   "source": [
    "T1_sol = sm.trigsimp(udr_sol[2])\n",
    "T1_sol"
   ]
  },
  {
   "cell_type": "code",
   "execution_count": 35,
   "id": "0a500c29",
   "metadata": {
    "execution": {
     "iopub.execute_input": "2025-09-25T05:55:15.342628Z",
     "iopub.status.busy": "2025-09-25T05:55:15.342472Z",
     "iopub.status.idle": "2025-09-25T05:55:18.338533Z",
     "shell.execute_reply": "2025-09-25T05:55:18.338024Z"
    }
   },
   "outputs": [
    {
     "data": {
      "text/latex": [
       "$\\displaystyle g m_{2} \\cos{\\left(q_{2} \\right)} + \\frac{l_{1} l_{2} m_{2}^{2} \\left(- g l_{2} m_{2} \\sin{\\left(q_{2} \\right)} + l_{1} l_{2} m_{2} u_{1}^{2} \\sin{\\left(q_{1} - q_{2} \\right)} + \\frac{l_{1} l_{2} m_{2} \\left(g m_{1} \\sin{\\left(q_{1} \\right)} + g m_{2} \\sin{\\left(q_{1} \\right)} + l_{2} m_{2} u_{2}^{2} \\sin{\\left(q_{1} - q_{2} \\right)}\\right) \\cos{\\left(q_{1} - q_{2} \\right)}}{l_{1} m_{1} + l_{1} m_{2}}\\right) \\sin{\\left(q_{1} - q_{2} \\right)} \\cos{\\left(q_{1} - q_{2} \\right)}}{\\left(l_{1} m_{1} + l_{1} m_{2}\\right) \\left(\\frac{l_{1} l_{2}^{2} m_{2}^{2} \\cos^{2}{\\left(q_{1} - q_{2} \\right)}}{l_{1} m_{1} + l_{1} m_{2}} - l_{2}^{2} m_{2}\\right)} - \\frac{l_{1} m_{2} \\left(g m_{1} \\sin{\\left(q_{1} \\right)} + g m_{2} \\sin{\\left(q_{1} \\right)} + l_{2} m_{2} u_{2}^{2} \\sin{\\left(q_{1} - q_{2} \\right)}\\right) \\sin{\\left(q_{1} - q_{2} \\right)}}{l_{1} m_{1} + l_{1} m_{2}} + m_{2} \\left(l_{1} u_{1}^{2} \\cos{\\left(q_{1} - q_{2} \\right)} + l_{2} u_{2}^{2}\\right)$"
      ],
      "text/plain": [
       "                         ⎛                                                    \n",
       "                       2 ⎜                              2                l₁⋅l₂\n",
       "               l₁⋅l₂⋅m₂ ⋅⎜-g⋅l₂⋅m₂⋅sin(q₂) + l₁⋅l₂⋅m₂⋅u₁ ⋅sin(q₁ - q₂) + ─────\n",
       "                         ⎝                                                    \n",
       "g⋅m₂⋅cos(q₂) + ───────────────────────────────────────────────────────────────\n",
       "                                                                              \n",
       "                                                                              \n",
       "                                                                      (l₁⋅m₁ +\n",
       "                                                                              \n",
       "\n",
       "    ⎛                                      2             ⎞             ⎞      \n",
       "⋅m₂⋅⎝g⋅m₁⋅sin(q₁) + g⋅m₂⋅sin(q₁) + l₂⋅m₂⋅u₂ ⋅sin(q₁ - q₂)⎠⋅cos(q₁ - q₂)⎟      \n",
       "───────────────────────────────────────────────────────────────────────⎟⋅sin(q\n",
       "                          l₁⋅m₁ + l₁⋅m₂                                ⎠      \n",
       "──────────────────────────────────────────────────────────────────────────────\n",
       "        ⎛     2   2    2                  ⎞                                   \n",
       "        ⎜l₁⋅l₂ ⋅m₂ ⋅cos (q₁ - q₂)     2   ⎟                                   \n",
       " l₁⋅m₂)⋅⎜──────────────────────── - l₂ ⋅m₂⎟                                   \n",
       "        ⎝     l₁⋅m₁ + l₁⋅m₂               ⎠                                   \n",
       "\n",
       "                                                                              \n",
       "                                                                              \n",
       "₁ - q₂)⋅cos(q₁ - q₂)         ⎛                                      2         \n",
       "                       l₁⋅m₂⋅⎝g⋅m₁⋅sin(q₁) + g⋅m₂⋅sin(q₁) + l₂⋅m₂⋅u₂ ⋅sin(q₁ -\n",
       "──────────────────── - ───────────────────────────────────────────────────────\n",
       "                                                     l₁⋅m₁ + l₁⋅m₂            \n",
       "                                                                              \n",
       "                                                                              \n",
       "                                                                              \n",
       "\n",
       "                                                      \n",
       "                                                      \n",
       "    ⎞                                                 \n",
       " q₂)⎠⋅sin(q₁ - q₂)      ⎛     2                     2⎞\n",
       "────────────────── + m₂⋅⎝l₁⋅u₁ ⋅cos(q₁ - q₂) + l₂⋅u₂ ⎠\n",
       "                                                      \n",
       "                                                      \n",
       "                                                      \n",
       "                                                      "
      ]
     },
     "execution_count": 35,
     "metadata": {},
     "output_type": "execute_result"
    }
   ],
   "source": [
    "T2_sol = sm.trigsimp(udr_sol[3])\n",
    "T2_sol"
   ]
  },
  {
   "cell_type": "code",
   "execution_count": 36,
   "id": "39915be8",
   "metadata": {
    "execution": {
     "iopub.execute_input": "2025-09-25T05:55:18.339947Z",
     "iopub.status.busy": "2025-09-25T05:55:18.339779Z",
     "iopub.status.idle": "2025-09-25T05:55:18.342672Z",
     "shell.execute_reply": "2025-09-25T05:55:18.342281Z"
    }
   },
   "outputs": [],
   "source": [
    "q0 = np.array([\n",
    "    np.deg2rad(15.0),  # q1 [rad]\n",
    "    np.deg2rad(25.0),  # q2 [rad]\n",
    "])\n",
    "\n",
    "u0 = np.array([\n",
    "    np.deg2rad(123.0),  # u1 [rad/s]\n",
    "    np.deg2rad(-41.0),  # u2 [rad/s]\n",
    "])\n",
    "\n",
    "p_vals = np.array([\n",
    "    1.2,  # m1 [kg]\n",
    "    5.6,  # m2 [kg]\n",
    "    1.34,  # l1 [m]\n",
    "    6.7,  # l2 [m]\n",
    "    9.81,  # g [m/2^2]\n",
    "])"
   ]
  },
  {
   "cell_type": "code",
   "execution_count": 37,
   "id": "943f482f",
   "metadata": {
    "execution": {
     "iopub.execute_input": "2025-09-25T05:55:18.343896Z",
     "iopub.status.busy": "2025-09-25T05:55:18.343753Z",
     "iopub.status.idle": "2025-09-25T05:55:18.421748Z",
     "shell.execute_reply": "2025-09-25T05:55:18.421249Z"
    }
   },
   "outputs": [],
   "source": [
    "eval_d = sm.lambdify((q, u, p), (Md, gd))\n",
    "eval_a = sm.lambdify((q, u, p), (Ma, ga))\n",
    "\n",
    "Md_vals, gd_vals = eval_d(q0, u0, p_vals)\n",
    "Ma_vals, ga_vals = eval_a(q0, u0, p_vals)"
   ]
  },
  {
   "cell_type": "code",
   "execution_count": 38,
   "id": "5fcfae85",
   "metadata": {
    "execution": {
     "iopub.execute_input": "2025-09-25T05:55:18.423342Z",
     "iopub.status.busy": "2025-09-25T05:55:18.423103Z",
     "iopub.status.idle": "2025-09-25T05:55:18.426633Z",
     "shell.execute_reply": "2025-09-25T05:55:18.426263Z"
    }
   },
   "outputs": [
    {
     "data": {
      "text/plain": [
       "array([  8.09538007,  -2.37332094, 109.88598116,  92.50997719])"
      ]
     },
     "execution_count": 38,
     "metadata": {},
     "output_type": "execute_result"
    }
   ],
   "source": [
    "-np.linalg.solve(Md_vals, np.squeeze(gd_vals))"
   ]
  },
  {
   "cell_type": "code",
   "execution_count": 39,
   "id": "ab18a689",
   "metadata": {
    "execution": {
     "iopub.execute_input": "2025-09-25T05:55:18.427839Z",
     "iopub.status.busy": "2025-09-25T05:55:18.427689Z",
     "iopub.status.idle": "2025-09-25T05:55:18.431167Z",
     "shell.execute_reply": "2025-09-25T05:55:18.430666Z"
    }
   },
   "outputs": [
    {
     "data": {
      "text/plain": [
       "array([  8.09538007,  -2.37332094, 109.88598116,  92.50997719])"
      ]
     },
     "execution_count": 39,
     "metadata": {},
     "output_type": "execute_result"
    }
   ],
   "source": [
    "-np.linalg.solve(Ma_vals, np.squeeze(ga_vals))"
   ]
  },
  {
   "cell_type": "code",
   "execution_count": 40,
   "id": "530c5b16",
   "metadata": {
    "execution": {
     "iopub.execute_input": "2025-09-25T05:55:18.432525Z",
     "iopub.status.busy": "2025-09-25T05:55:18.432374Z",
     "iopub.status.idle": "2025-09-25T05:55:18.461469Z",
     "shell.execute_reply": "2025-09-25T05:55:18.460951Z"
    }
   },
   "outputs": [
    {
     "data": {
      "text/latex": [
       "$\\displaystyle \\left( 109.885981161619, \\  92.5099771909879\\right)$"
      ],
      "text/plain": [
       "(109.88598116161896, 92.50997719098791)"
      ]
     },
     "execution_count": 40,
     "metadata": {},
     "output_type": "execute_result"
    }
   ],
   "source": [
    "eval_forces = sm.lambdify((q, u, p), (T1_sol, T2_sol))\n",
    "eval_forces(q0, u0, p_vals)"
   ]
  },
  {
   "cell_type": "code",
   "execution_count": 41,
   "id": "ecfe2f25",
   "metadata": {
    "execution": {
     "iopub.execute_input": "2025-09-25T05:55:18.462753Z",
     "iopub.status.busy": "2025-09-25T05:55:18.462602Z",
     "iopub.status.idle": "2025-09-25T05:55:18.465602Z",
     "shell.execute_reply": "2025-09-25T05:55:18.465191Z"
    }
   },
   "outputs": [],
   "source": [
    "def eval_rhs_newton(t, x, p):\n",
    "\n",
    "    q = x[:2]\n",
    "    u = x[2:]\n",
    "\n",
    "    Md, gd = eval_d(q, u, p)\n",
    "    udr = -np.linalg.solve(Md, np.squeeze(gd))\n",
    "\n",
    "    qd = u\n",
    "    ud = sol[:2]\n",
    "    r = sol[2:]\n",
    "\n",
    "    return np.hstack((qd, ud))"
   ]
  }
 ],
 "metadata": {
  "kernelspec": {
   "display_name": "Python 3 (ipykernel)",
   "language": "python",
   "name": "python3"
  },
  "language_info": {
   "codemirror_mode": {
    "name": "ipython",
    "version": 3
   },
   "file_extension": ".py",
   "mimetype": "text/x-python",
   "name": "python",
   "nbconvert_exporter": "python",
   "pygments_lexer": "ipython3",
   "version": "3.11.13"
  }
 },
 "nbformat": 4,
 "nbformat_minor": 5
}