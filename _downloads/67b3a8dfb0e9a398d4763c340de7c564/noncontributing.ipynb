{
 "cells": [
  {
   "cell_type": "code",
   "execution_count": 1,
   "id": "9b01598a",
   "metadata": {
    "execution": {
     "iopub.execute_input": "2025-09-11T11:37:02.954937Z",
     "iopub.status.busy": "2025-09-11T11:37:02.954785Z",
     "iopub.status.idle": "2025-09-11T11:37:03.357833Z",
     "shell.execute_reply": "2025-09-11T11:37:03.357274Z"
    }
   },
   "outputs": [],
   "source": [
    "import numpy as np\n",
    "import sympy as sm\n",
    "import sympy.physics.mechanics as me\n",
    "me.init_vprinting(use_latex='mathjax')"
   ]
  },
  {
   "cell_type": "code",
   "execution_count": 2,
   "id": "68c33b5d",
   "metadata": {
    "execution": {
     "iopub.execute_input": "2025-09-11T11:37:03.359635Z",
     "iopub.status.busy": "2025-09-11T11:37:03.359440Z",
     "iopub.status.idle": "2025-09-11T11:37:03.362954Z",
     "shell.execute_reply": "2025-09-11T11:37:03.362526Z"
    }
   },
   "outputs": [],
   "source": [
    "class ReferenceFrame(me.ReferenceFrame):\n",
    "\n",
    "    def __init__(self, *args, **kwargs):\n",
    "\n",
    "        kwargs.pop('latexs', None)\n",
    "\n",
    "        lab = args[0].lower()\n",
    "        tex = r'\\hat{{{}}}_{}'\n",
    "\n",
    "        super(ReferenceFrame, self).__init__(*args,\n",
    "                                             latexs=(tex.format(lab, 'x'),\n",
    "                                                     tex.format(lab, 'y'),\n",
    "                                                     tex.format(lab, 'z')),\n",
    "                                             **kwargs)\n",
    "me.ReferenceFrame = ReferenceFrame"
   ]
  },
  {
   "cell_type": "code",
   "execution_count": 3,
   "id": "0574198f",
   "metadata": {
    "execution": {
     "iopub.execute_input": "2025-09-11T11:37:03.364256Z",
     "iopub.status.busy": "2025-09-11T11:37:03.364082Z",
     "iopub.status.idle": "2025-09-11T11:37:03.379787Z",
     "shell.execute_reply": "2025-09-11T11:37:03.379362Z"
    }
   },
   "outputs": [
    {
     "data": {
      "text/latex": [
       "$\\displaystyle \\left( \\left[\\begin{matrix}m_{1}\\\\m_{2}\\\\l_{1}\\\\l_{2}\\\\g\\end{matrix}\\right], \\  \\left[\\begin{matrix}q_{1}\\\\q_{2}\\end{matrix}\\right], \\  \\left[\\begin{matrix}u_{1}\\\\u_{2}\\end{matrix}\\right], \\  \\left[\\begin{matrix}T_{1}\\\\T_{2}\\end{matrix}\\right], \\  \\left[\\begin{matrix}\\dot{u}_{1}\\\\\\dot{u}_{2}\\end{matrix}\\right]\\right)$"
      ],
      "text/plain": [
       "⎛⎡m₁⎤                        ⎞\n",
       "⎜⎢  ⎥                        ⎟\n",
       "⎜⎢m₂⎥                        ⎟\n",
       "⎜⎢  ⎥  ⎡q₁⎤  ⎡u₁⎤  ⎡T₁⎤  ⎡u₁̇⎤⎟\n",
       "⎜⎢l₁⎥, ⎢  ⎥, ⎢  ⎥, ⎢  ⎥, ⎢  ⎥⎟\n",
       "⎜⎢  ⎥  ⎣q₂⎦  ⎣u₂⎦  ⎣T₂⎦  ⎣u₂̇⎦⎟\n",
       "⎜⎢l₂⎥                        ⎟\n",
       "⎜⎢  ⎥                        ⎟\n",
       "⎝⎣g ⎦                        ⎠"
      ]
     },
     "execution_count": 3,
     "metadata": {},
     "output_type": "execute_result"
    }
   ],
   "source": [
    "m1, m2, l1, l2, g = sm.symbols('m1, m2, l1, l2, g')\n",
    "q1, q2, u1, u2, T1, T2 = me.dynamicsymbols('q1, q2, u1, u2, T1, T2')\n",
    "t = me.dynamicsymbols._t\n",
    "\n",
    "p = sm.Matrix([m1, m2, l1, l2, g])\n",
    "q = sm.Matrix([q1, q2])\n",
    "u = sm.Matrix([u1, u2])\n",
    "r = sm.Matrix([T1, T2])\n",
    "\n",
    "ud = u.diff(t)\n",
    "\n",
    "p, q, u, r, ud"
   ]
  },
  {
   "cell_type": "code",
   "execution_count": 4,
   "id": "dd2cd90e",
   "metadata": {
    "execution": {
     "iopub.execute_input": "2025-09-11T11:37:03.381128Z",
     "iopub.status.busy": "2025-09-11T11:37:03.380968Z",
     "iopub.status.idle": "2025-09-11T11:37:03.391673Z",
     "shell.execute_reply": "2025-09-11T11:37:03.391142Z"
    }
   },
   "outputs": [],
   "source": [
    "N = me.ReferenceFrame('N')\n",
    "A = me.ReferenceFrame('A')\n",
    "B = me.ReferenceFrame('B')\n",
    "\n",
    "A.orient_axis(N, q1, N.z)\n",
    "B.orient_axis(N, q2, N.z)\n",
    "\n",
    "A.set_ang_vel(N, u1*N.z)\n",
    "B.set_ang_vel(N, u2*N.z)"
   ]
  },
  {
   "cell_type": "code",
   "execution_count": 5,
   "id": "a2ec3947",
   "metadata": {
    "execution": {
     "iopub.execute_input": "2025-09-11T11:37:03.392965Z",
     "iopub.status.busy": "2025-09-11T11:37:03.392808Z",
     "iopub.status.idle": "2025-09-11T11:37:03.400776Z",
     "shell.execute_reply": "2025-09-11T11:37:03.400283Z"
    }
   },
   "outputs": [
    {
     "data": {
      "text/latex": [
       "$\\displaystyle l_{1} u_{1}\\hat{a}_x$"
      ],
      "text/plain": [
       "l₁⋅u₁ a_x"
      ]
     },
     "execution_count": 5,
     "metadata": {},
     "output_type": "execute_result"
    }
   ],
   "source": [
    "O = me.Point('O')\n",
    "P1 = O.locatenew('P1', -l1*A.y)\n",
    "P2 = P1.locatenew('P2', -l2*B.y)\n",
    "\n",
    "O.set_vel(N, 0)\n",
    "P1.v2pt_theory(O, N, A)"
   ]
  },
  {
   "cell_type": "code",
   "execution_count": 6,
   "id": "2941856c",
   "metadata": {
    "execution": {
     "iopub.execute_input": "2025-09-11T11:37:03.402162Z",
     "iopub.status.busy": "2025-09-11T11:37:03.402001Z",
     "iopub.status.idle": "2025-09-11T11:37:03.408433Z",
     "shell.execute_reply": "2025-09-11T11:37:03.408014Z"
    }
   },
   "outputs": [
    {
     "data": {
      "text/latex": [
       "$\\displaystyle l_{1} u_{1}\\hat{a}_x + l_{2} u_{2}\\hat{b}_x$"
      ],
      "text/plain": [
       "l₁⋅u₁ a_x + l₂⋅u₂ b_x"
      ]
     },
     "execution_count": 6,
     "metadata": {},
     "output_type": "execute_result"
    }
   ],
   "source": [
    "P2.v2pt_theory(P1, N, B)"
   ]
  },
  {
   "cell_type": "code",
   "execution_count": 7,
   "id": "67bc71fa",
   "metadata": {
    "execution": {
     "iopub.execute_input": "2025-09-11T11:37:03.409614Z",
     "iopub.status.busy": "2025-09-11T11:37:03.409474Z",
     "iopub.status.idle": "2025-09-11T11:37:03.419097Z",
     "shell.execute_reply": "2025-09-11T11:37:03.418712Z"
    }
   },
   "outputs": [
    {
     "data": {
      "text/latex": [
       "$\\displaystyle l_{1} \\dot{u}_{1}\\hat{a}_x + l_{1} u_{1}^{2}\\hat{a}_y$"
      ],
      "text/plain": [
       "                 2\n",
       "l₁⋅u₁̇ a_x + l₁⋅u₁  a_y"
      ]
     },
     "execution_count": 7,
     "metadata": {},
     "output_type": "execute_result"
    }
   ],
   "source": [
    "P1.a2pt_theory(O, N, A)"
   ]
  },
  {
   "cell_type": "code",
   "execution_count": 8,
   "id": "bb2d4050",
   "metadata": {
    "execution": {
     "iopub.execute_input": "2025-09-11T11:37:03.420301Z",
     "iopub.status.busy": "2025-09-11T11:37:03.420143Z",
     "iopub.status.idle": "2025-09-11T11:37:03.430651Z",
     "shell.execute_reply": "2025-09-11T11:37:03.430274Z"
    }
   },
   "outputs": [
    {
     "data": {
      "text/latex": [
       "$\\displaystyle l_{1} \\dot{u}_{1}\\hat{a}_x + l_{1} u_{1}^{2}\\hat{a}_y + l_{2} \\dot{u}_{2}\\hat{b}_x + l_{2} u_{2}^{2}\\hat{b}_y$"
      ],
      "text/plain": [
       "                 2                        2\n",
       "l₁⋅u₁̇ a_x + l₁⋅u₁  a_y + l₂⋅u₂̇ b_x + l₂⋅u₂  b_y"
      ]
     },
     "execution_count": 8,
     "metadata": {},
     "output_type": "execute_result"
    }
   ],
   "source": [
    "P2.a2pt_theory(P1, N, B)"
   ]
  },
  {
   "cell_type": "code",
   "execution_count": 9,
   "id": "c346152d",
   "metadata": {
    "execution": {
     "iopub.execute_input": "2025-09-11T11:37:03.431937Z",
     "iopub.status.busy": "2025-09-11T11:37:03.431788Z",
     "iopub.status.idle": "2025-09-11T11:37:03.442392Z",
     "shell.execute_reply": "2025-09-11T11:37:03.441987Z"
    }
   },
   "outputs": [
    {
     "data": {
      "text/latex": [
       "$\\displaystyle (- T_{1} \\sin{\\left(q_{1} \\right)} + T_{2} \\sin{\\left(q_{2} \\right)})\\hat{n}_x + (- g m_{1} + T_{1} \\cos{\\left(q_{1} \\right)} - T_{2} \\cos{\\left(q_{2} \\right)})\\hat{n}_y$"
      ],
      "text/plain": [
       "(-T₁⋅sin(q₁) + T₂⋅sin(q₂)) n_x + (-g⋅m₁ + T₁⋅cos(q₁) - T₂⋅cos(q₂)) n_y"
      ]
     },
     "execution_count": 9,
     "metadata": {},
     "output_type": "execute_result"
    }
   ],
   "source": [
    "F_P1 = T1*A.y - T2*B.y - m1*g*N.y\n",
    "F_P1.express(N)"
   ]
  },
  {
   "cell_type": "code",
   "execution_count": 10,
   "id": "95b45f32",
   "metadata": {
    "execution": {
     "iopub.execute_input": "2025-09-11T11:37:03.443609Z",
     "iopub.status.busy": "2025-09-11T11:37:03.443469Z",
     "iopub.status.idle": "2025-09-11T11:37:03.449269Z",
     "shell.execute_reply": "2025-09-11T11:37:03.448853Z"
    }
   },
   "outputs": [
    {
     "data": {
      "text/latex": [
       "$\\displaystyle -  T_{2} \\sin{\\left(q_{2} \\right)}\\hat{n}_x + (- g m_{2} + T_{2} \\cos{\\left(q_{2} \\right)})\\hat{n}_y$"
      ],
      "text/plain": [
       "-T₂⋅sin(q₂) n_x + (-g⋅m₂ + T₂⋅cos(q₂)) n_y"
      ]
     },
     "execution_count": 10,
     "metadata": {},
     "output_type": "execute_result"
    }
   ],
   "source": [
    "F_P2 = T2*B.y - m2*g*N.y\n",
    "F_P2.express(N)"
   ]
  },
  {
   "cell_type": "code",
   "execution_count": 11,
   "id": "f10c57fa",
   "metadata": {
    "execution": {
     "iopub.execute_input": "2025-09-11T11:37:03.450450Z",
     "iopub.status.busy": "2025-09-11T11:37:03.450316Z",
     "iopub.status.idle": "2025-09-11T11:37:03.454317Z",
     "shell.execute_reply": "2025-09-11T11:37:03.453925Z"
    }
   },
   "outputs": [],
   "source": [
    "zero_P1 = F_P1 - m1*P1.acc(N)\n",
    "zero_P2 = F_P2 - m2*P2.acc(N)"
   ]
  },
  {
   "cell_type": "code",
   "execution_count": 12,
   "id": "5adb317d",
   "metadata": {
    "execution": {
     "iopub.execute_input": "2025-09-11T11:37:03.455467Z",
     "iopub.status.busy": "2025-09-11T11:37:03.455322Z",
     "iopub.status.idle": "2025-09-11T11:37:03.479730Z",
     "shell.execute_reply": "2025-09-11T11:37:03.479233Z"
    }
   },
   "outputs": [
    {
     "data": {
      "text/latex": [
       "$\\displaystyle \\left[\\begin{matrix}- l_{1} m_{1} \\cos{\\left(q_{1} \\right)} \\dot{u}_{1} - \\left(- l_{1} m_{1} u_{1}^{2} + T_{1}\\right) \\sin{\\left(q_{1} \\right)} + T_{2} \\sin{\\left(q_{2} \\right)}\\\\- g m_{1} - l_{1} m_{1} \\sin{\\left(q_{1} \\right)} \\dot{u}_{1} + \\left(- l_{1} m_{1} u_{1}^{2} + T_{1}\\right) \\cos{\\left(q_{1} \\right)} - T_{2} \\cos{\\left(q_{2} \\right)}\\\\l_{1} m_{2} u_{1}^{2} \\sin{\\left(q_{1} \\right)} - l_{1} m_{2} \\cos{\\left(q_{1} \\right)} \\dot{u}_{1} - l_{2} m_{2} \\cos{\\left(q_{2} \\right)} \\dot{u}_{2} - \\left(- l_{2} m_{2} u_{2}^{2} + T_{2}\\right) \\sin{\\left(q_{2} \\right)}\\\\- g m_{2} - l_{1} m_{2} u_{1}^{2} \\cos{\\left(q_{1} \\right)} - l_{1} m_{2} \\sin{\\left(q_{1} \\right)} \\dot{u}_{1} - l_{2} m_{2} \\sin{\\left(q_{2} \\right)} \\dot{u}_{2} + \\left(- l_{2} m_{2} u_{2}^{2} + T_{2}\\right) \\cos{\\left(q_{2} \\right)}\\end{matrix}\\right]$"
      ],
      "text/plain": [
       "⎡                                    ⎛          2     ⎞                       \n",
       "⎢                -l₁⋅m₁⋅cos(q₁)⋅u₁̇ - ⎝- l₁⋅m₁⋅u₁  + T₁⎠⋅sin(q₁) + T₂⋅sin(q₂) \n",
       "⎢                                                                             \n",
       "⎢                                        ⎛          2     ⎞                   \n",
       "⎢             -g⋅m₁ - l₁⋅m₁⋅sin(q₁)⋅u₁̇ + ⎝- l₁⋅m₁⋅u₁  + T₁⎠⋅cos(q₁) - T₂⋅cos(\n",
       "⎢                                                                             \n",
       "⎢            2                                                 ⎛          2   \n",
       "⎢    l₁⋅m₂⋅u₁ ⋅sin(q₁) - l₁⋅m₂⋅cos(q₁)⋅u₁̇ - l₂⋅m₂⋅cos(q₂)⋅u₂̇ - ⎝- l₂⋅m₂⋅u₂  \n",
       "⎢                                                                             \n",
       "⎢                2                                                 ⎛          \n",
       "⎣-g⋅m₂ - l₁⋅m₂⋅u₁ ⋅cos(q₁) - l₁⋅m₂⋅sin(q₁)⋅u₁̇ - l₂⋅m₂⋅sin(q₂)⋅u₂̇ + ⎝- l₂⋅m₂⋅\n",
       "\n",
       "               ⎤\n",
       "                ⎥\n",
       "               ⎥\n",
       "               ⎥\n",
       "q₂)             ⎥\n",
       "               ⎥\n",
       "  ⎞            ⎥\n",
       "+ T₂⎠⋅sin(q₂)    ⎥\n",
       "               ⎥\n",
       "2     ⎞        ⎥\n",
       "u₂  + T₂⎠⋅cos(q₂)⎦"
      ]
     },
     "execution_count": 12,
     "metadata": {},
     "output_type": "execute_result"
    }
   ],
   "source": [
    "fd = sm.Matrix([\n",
    "    zero_P1.dot(N.x),\n",
    "    zero_P1.dot(N.y),\n",
    "    zero_P2.dot(N.x),\n",
    "    zero_P2.dot(N.y),\n",
    "])\n",
    "fd"
   ]
  },
  {
   "cell_type": "code",
   "execution_count": 13,
   "id": "880de625",
   "metadata": {
    "execution": {
     "iopub.execute_input": "2025-09-11T11:37:03.480971Z",
     "iopub.status.busy": "2025-09-11T11:37:03.480826Z",
     "iopub.status.idle": "2025-09-11T11:37:03.487641Z",
     "shell.execute_reply": "2025-09-11T11:37:03.487137Z"
    }
   },
   "outputs": [
    {
     "data": {
      "text/latex": [
       "$\\displaystyle \\left( \\left\\{T_{1}, T_{2}, q_{1}, q_{2}, u_{1}, \\dot{u}_{1}\\right\\}, \\  \\left\\{T_{1}, T_{2}, q_{1}, q_{2}, u_{1}, \\dot{u}_{1}\\right\\}, \\  \\left\\{T_{2}, q_{1}, q_{2}, u_{1}, u_{2}, \\dot{u}_{1}, \\dot{u}_{2}\\right\\}, \\  \\left\\{T_{2}, q_{1}, q_{2}, u_{1}, u_{2}, \\dot{u}_{1}, \\dot{u}_{2}\\right\\}\\right)$"
      ],
      "text/plain": [
       "({T₁, T₂, q₁, q₂, u₁, u₁̇}, {T₁, T₂, q₁, q₂, u₁, u₁̇}, {T₂, q₁, q₂, u₁, u₂, u₁\n",
       "̇, u₂̇}, {T₂, q₁, q₂, u₁, u₂, u₁̇, u₂̇})"
      ]
     },
     "execution_count": 13,
     "metadata": {},
     "output_type": "execute_result"
    }
   ],
   "source": [
    "(me.find_dynamicsymbols(fd[0]), me.find_dynamicsymbols(fd[1]),\n",
    " me.find_dynamicsymbols(fd[2]), me.find_dynamicsymbols(fd[3]))"
   ]
  },
  {
   "cell_type": "code",
   "execution_count": 14,
   "id": "fc83e9a2",
   "metadata": {
    "execution": {
     "iopub.execute_input": "2025-09-11T11:37:03.488828Z",
     "iopub.status.busy": "2025-09-11T11:37:03.488684Z",
     "iopub.status.idle": "2025-09-11T11:37:03.492890Z",
     "shell.execute_reply": "2025-09-11T11:37:03.492399Z"
    }
   },
   "outputs": [
    {
     "data": {
      "text/latex": [
       "$\\displaystyle \\left( \\left[\\begin{matrix}\\dot{u}_{1}\\\\\\dot{u}_{2}\\end{matrix}\\right], \\  \\left[\\begin{matrix}T_{1}\\\\T_{2}\\end{matrix}\\right]\\right)$"
      ],
      "text/plain": [
       "⎛⎡u₁̇⎤  ⎡T₁⎤⎞\n",
       "⎜⎢  ⎥, ⎢  ⎥⎟\n",
       "⎝⎣u₂̇⎦  ⎣T₂⎦⎠"
      ]
     },
     "execution_count": 14,
     "metadata": {},
     "output_type": "execute_result"
    }
   ],
   "source": [
    "ud, r"
   ]
  },
  {
   "cell_type": "code",
   "execution_count": 15,
   "id": "06dc86fc",
   "metadata": {
    "execution": {
     "iopub.execute_input": "2025-09-11T11:37:03.494085Z",
     "iopub.status.busy": "2025-09-11T11:37:03.493938Z",
     "iopub.status.idle": "2025-09-11T11:37:03.533543Z",
     "shell.execute_reply": "2025-09-11T11:37:03.533044Z"
    }
   },
   "outputs": [
    {
     "data": {
      "text/latex": [
       "$\\displaystyle \\left( \\left[\\begin{matrix}- l_{1} m_{1} \\cos{\\left(q_{1} \\right)} & 0 & - \\sin{\\left(q_{1} \\right)} & \\sin{\\left(q_{2} \\right)}\\\\- l_{1} m_{1} \\sin{\\left(q_{1} \\right)} & 0 & \\cos{\\left(q_{1} \\right)} & - \\cos{\\left(q_{2} \\right)}\\\\- l_{1} m_{2} \\cos{\\left(q_{1} \\right)} & - l_{2} m_{2} \\cos{\\left(q_{2} \\right)} & 0 & - \\sin{\\left(q_{2} \\right)}\\\\- l_{1} m_{2} \\sin{\\left(q_{1} \\right)} & - l_{2} m_{2} \\sin{\\left(q_{2} \\right)} & 0 & \\cos{\\left(q_{2} \\right)}\\end{matrix}\\right], \\  \\left[\\begin{matrix}\\dot{u}_{1}\\\\\\dot{u}_{2}\\\\T_{1}\\\\T_{2}\\end{matrix}\\right], \\  \\left[\\begin{matrix}l_{1} m_{1} u_{1}^{2} \\sin{\\left(q_{1} \\right)}\\\\- g m_{1} - l_{1} m_{1} u_{1}^{2} \\cos{\\left(q_{1} \\right)}\\\\l_{1} m_{2} u_{1}^{2} \\sin{\\left(q_{1} \\right)} + l_{2} m_{2} u_{2}^{2} \\sin{\\left(q_{2} \\right)}\\\\- g m_{2} - l_{1} m_{2} u_{1}^{2} \\cos{\\left(q_{1} \\right)} - l_{2} m_{2} u_{2}^{2} \\cos{\\left(q_{2} \\right)}\\end{matrix}\\right]\\right)$"
      ],
      "text/plain": [
       "⎛                                                            ⎡                \n",
       "⎜                                                            ⎢              l₁\n",
       "⎜⎡-l₁⋅m₁⋅cos(q₁)        0         -sin(q₁)  sin(q₂) ⎤  ⎡u₁̇⎤  ⎢               \n",
       "⎜⎢                                                  ⎥  ⎢  ⎥  ⎢                \n",
       "⎜⎢-l₁⋅m₁⋅sin(q₁)        0         cos(q₁)   -cos(q₂)⎥  ⎢u₂̇⎥  ⎢          -g⋅m₁\n",
       "⎜⎢                                                  ⎥, ⎢  ⎥, ⎢                \n",
       "⎜⎢-l₁⋅m₂⋅cos(q₁)  -l₂⋅m₂⋅cos(q₂)     0      -sin(q₂)⎥  ⎢T₁⎥  ⎢            2   \n",
       "⎜⎢                                                  ⎥  ⎢  ⎥  ⎢    l₁⋅m₂⋅u₁ ⋅si\n",
       "⎜⎣-l₁⋅m₂⋅sin(q₁)  -l₂⋅m₂⋅sin(q₂)     0      cos(q₂) ⎦  ⎣T₂⎦  ⎢                \n",
       "⎜                                                            ⎢                \n",
       "⎝                                                            ⎣-g⋅m₂ - l₁⋅m₂⋅u₁\n",
       "\n",
       "      2                      ⎤⎞\n",
       "⋅m₁⋅u₁ ⋅sin(q₁)              ⎥⎟\n",
       "                              ⎥⎟\n",
       "          2                  ⎥⎟\n",
       " - l₁⋅m₁⋅u₁ ⋅cos(q₁)          ⎥⎟\n",
       "                             ⎥⎟\n",
       "                2            ⎥⎟\n",
       "n(q₁) + l₂⋅m₂⋅u₂ ⋅sin(q₂)    ⎥⎟\n",
       "                             ⎥⎟\n",
       "2                   2        ⎥⎟\n",
       " ⋅cos(q₁) - l₂⋅m₂⋅u₂ ⋅cos(q₂)⎦⎠"
      ]
     },
     "execution_count": 15,
     "metadata": {},
     "output_type": "execute_result"
    }
   ],
   "source": [
    "udr = ud.col_join(r)\n",
    "udr_zero = {v: 0 for v in udr}\n",
    "\n",
    "Md = fd.jacobian(udr)\n",
    "gd = fd.xreplace(udr_zero)\n",
    "\n",
    "Md, udr, gd"
   ]
  },
  {
   "cell_type": "code",
   "execution_count": 16,
   "id": "ef27d61b",
   "metadata": {
    "execution": {
     "iopub.execute_input": "2025-09-11T11:37:03.534846Z",
     "iopub.status.busy": "2025-09-11T11:37:03.534694Z",
     "iopub.status.idle": "2025-09-11T11:37:03.539570Z",
     "shell.execute_reply": "2025-09-11T11:37:03.539157Z"
    }
   },
   "outputs": [
    {
     "data": {
      "text/latex": [
       "$\\displaystyle l_{1} u_{1}\\hat{a}_x -  u_{3}\\hat{a}_y$"
      ],
      "text/plain": [
       "l₁⋅u₁ a_x + -u₃ a_y"
      ]
     },
     "execution_count": 16,
     "metadata": {},
     "output_type": "execute_result"
    }
   ],
   "source": [
    "u3, u4 = me.dynamicsymbols('u3, u4')\n",
    "\n",
    "N_v_P1a = P1.vel(N) - u3*A.y\n",
    "N_v_P1a"
   ]
  },
  {
   "cell_type": "code",
   "execution_count": 17,
   "id": "53b85471",
   "metadata": {
    "execution": {
     "iopub.execute_input": "2025-09-11T11:37:03.540784Z",
     "iopub.status.busy": "2025-09-11T11:37:03.540635Z",
     "iopub.status.idle": "2025-09-11T11:37:03.547112Z",
     "shell.execute_reply": "2025-09-11T11:37:03.546605Z"
    }
   },
   "outputs": [
    {
     "data": {
      "text/latex": [
       "$\\displaystyle l_{1} u_{1}\\hat{a}_x -  u_{3}\\hat{a}_y + l_{2} u_{2}\\hat{b}_x -  u_{4}\\hat{b}_y$"
      ],
      "text/plain": [
       "l₁⋅u₁ a_x + -u₃ a_y + l₂⋅u₂ b_x + -u₄ b_y"
      ]
     },
     "execution_count": 17,
     "metadata": {},
     "output_type": "execute_result"
    }
   ],
   "source": [
    "N_v_P2a = N_v_P1a + me.cross(B.ang_vel_in(N), P2.pos_from(P1)) - u4*B.y\n",
    "N_v_P2a"
   ]
  },
  {
   "cell_type": "code",
   "execution_count": 18,
   "id": "9a464ba6",
   "metadata": {
    "execution": {
     "iopub.execute_input": "2025-09-11T11:37:03.548321Z",
     "iopub.status.busy": "2025-09-11T11:37:03.548155Z",
     "iopub.status.idle": "2025-09-11T11:37:03.551841Z",
     "shell.execute_reply": "2025-09-11T11:37:03.551462Z"
    }
   },
   "outputs": [],
   "source": [
    "R_P1 = -m1*g*N.y\n",
    "R_P2 = -m2*g*N.y"
   ]
  },
  {
   "cell_type": "code",
   "execution_count": 19,
   "id": "16d438af",
   "metadata": {
    "execution": {
     "iopub.execute_input": "2025-09-11T11:37:03.553018Z",
     "iopub.status.busy": "2025-09-11T11:37:03.552883Z",
     "iopub.status.idle": "2025-09-11T11:37:03.562924Z",
     "shell.execute_reply": "2025-09-11T11:37:03.562529Z"
    }
   },
   "outputs": [
    {
     "data": {
      "text/latex": [
       "$\\displaystyle - g l_{1} m_{1} \\sin{\\left(q_{1} \\right)} - g l_{1} m_{2} \\sin{\\left(q_{1} \\right)}$"
      ],
      "text/plain": [
       "-g⋅l₁⋅m₁⋅sin(q₁) - g⋅l₁⋅m₂⋅sin(q₁)"
      ]
     },
     "execution_count": 19,
     "metadata": {},
     "output_type": "execute_result"
    }
   ],
   "source": [
    "F1 = P1.vel(N).diff(u1, N).dot(R_P1) + P2.vel(N).diff(u1, N).dot(R_P2)\n",
    "F1"
   ]
  },
  {
   "cell_type": "code",
   "execution_count": 20,
   "id": "12140f0c",
   "metadata": {
    "execution": {
     "iopub.execute_input": "2025-09-11T11:37:03.564130Z",
     "iopub.status.busy": "2025-09-11T11:37:03.563994Z",
     "iopub.status.idle": "2025-09-11T11:37:03.570765Z",
     "shell.execute_reply": "2025-09-11T11:37:03.570364Z"
    }
   },
   "outputs": [
    {
     "data": {
      "text/latex": [
       "$\\displaystyle - g l_{2} m_{2} \\sin{\\left(q_{2} \\right)}$"
      ],
      "text/plain": [
       "-g⋅l₂⋅m₂⋅sin(q₂)"
      ]
     },
     "execution_count": 20,
     "metadata": {},
     "output_type": "execute_result"
    }
   ],
   "source": [
    "F2 = P1.vel(N).diff(u2, N).dot(R_P1) + P2.vel(N).diff(u2, N).dot(R_P2)\n",
    "F2"
   ]
  },
  {
   "cell_type": "code",
   "execution_count": 21,
   "id": "b6e51c9f",
   "metadata": {
    "execution": {
     "iopub.execute_input": "2025-09-11T11:37:03.571996Z",
     "iopub.status.busy": "2025-09-11T11:37:03.571832Z",
     "iopub.status.idle": "2025-09-11T11:37:03.574817Z",
     "shell.execute_reply": "2025-09-11T11:37:03.574432Z"
    }
   },
   "outputs": [],
   "source": [
    "R_P1_aux = R_P1 + T1*A.y - T2*B.y\n",
    "R_P2_aux = R_P2 + T2*B.y"
   ]
  },
  {
   "cell_type": "code",
   "execution_count": 22,
   "id": "6ca161f5",
   "metadata": {
    "execution": {
     "iopub.execute_input": "2025-09-11T11:37:03.575989Z",
     "iopub.status.busy": "2025-09-11T11:37:03.575846Z",
     "iopub.status.idle": "2025-09-11T11:37:03.591034Z",
     "shell.execute_reply": "2025-09-11T11:37:03.590536Z"
    }
   },
   "outputs": [
    {
     "data": {
      "text/latex": [
       "$\\displaystyle g m_{1} \\cos{\\left(q_{1} \\right)} + g m_{2} \\cos{\\left(q_{1} \\right)} - T_{1}$"
      ],
      "text/plain": [
       "g⋅m₁⋅cos(q₁) + g⋅m₂⋅cos(q₁) - T₁"
      ]
     },
     "execution_count": 22,
     "metadata": {},
     "output_type": "execute_result"
    }
   ],
   "source": [
    "F3 = N_v_P1a.diff(u3, N).dot(R_P1_aux) + N_v_P2a.diff(u3, N).dot(R_P2_aux)\n",
    "F3"
   ]
  },
  {
   "cell_type": "code",
   "execution_count": 23,
   "id": "0616c5ab",
   "metadata": {
    "execution": {
     "iopub.execute_input": "2025-09-11T11:37:03.592312Z",
     "iopub.status.busy": "2025-09-11T11:37:03.592144Z",
     "iopub.status.idle": "2025-09-11T11:37:03.599077Z",
     "shell.execute_reply": "2025-09-11T11:37:03.598604Z"
    }
   },
   "outputs": [
    {
     "data": {
      "text/latex": [
       "$\\displaystyle g m_{2} \\cos{\\left(q_{2} \\right)} - T_{2}$"
      ],
      "text/plain": [
       "g⋅m₂⋅cos(q₂) - T₂"
      ]
     },
     "execution_count": 23,
     "metadata": {},
     "output_type": "execute_result"
    }
   ],
   "source": [
    "F4 = N_v_P1a.diff(u4, N).dot(R_P1_aux) + N_v_P2a.diff(u4, N).dot(R_P2_aux)\n",
    "F4"
   ]
  },
  {
   "cell_type": "code",
   "execution_count": 24,
   "id": "9b8d0cd5",
   "metadata": {
    "execution": {
     "iopub.execute_input": "2025-09-11T11:37:03.600327Z",
     "iopub.status.busy": "2025-09-11T11:37:03.600166Z",
     "iopub.status.idle": "2025-09-11T11:37:03.607266Z",
     "shell.execute_reply": "2025-09-11T11:37:03.606771Z"
    }
   },
   "outputs": [
    {
     "data": {
      "text/latex": [
       "$\\displaystyle \\left[\\begin{matrix}- g l_{1} m_{1} \\sin{\\left(q_{1} \\right)} - g l_{1} m_{2} \\sin{\\left(q_{1} \\right)}\\\\- g l_{2} m_{2} \\sin{\\left(q_{2} \\right)}\\\\g m_{1} \\cos{\\left(q_{1} \\right)} + g m_{2} \\cos{\\left(q_{1} \\right)} - T_{1}\\\\g m_{2} \\cos{\\left(q_{2} \\right)} - T_{2}\\end{matrix}\\right]$"
      ],
      "text/plain": [
       "⎡-g⋅l₁⋅m₁⋅sin(q₁) - g⋅l₁⋅m₂⋅sin(q₁)⎤\n",
       "⎢                                  ⎥\n",
       "⎢         -g⋅l₂⋅m₂⋅sin(q₂)         ⎥\n",
       "⎢                                  ⎥\n",
       "⎢ g⋅m₁⋅cos(q₁) + g⋅m₂⋅cos(q₁) - T₁ ⎥\n",
       "⎢                                  ⎥\n",
       "⎣        g⋅m₂⋅cos(q₂) - T₂         ⎦"
      ]
     },
     "execution_count": 24,
     "metadata": {},
     "output_type": "execute_result"
    }
   ],
   "source": [
    "Fr = sm.Matrix([F1, F2, F3, F4])\n",
    "Fr"
   ]
  },
  {
   "cell_type": "code",
   "execution_count": 25,
   "id": "0bc7eabc",
   "metadata": {
    "execution": {
     "iopub.execute_input": "2025-09-11T11:37:03.608606Z",
     "iopub.status.busy": "2025-09-11T11:37:03.608454Z",
     "iopub.status.idle": "2025-09-11T11:37:03.611775Z",
     "shell.execute_reply": "2025-09-11T11:37:03.611299Z"
    }
   },
   "outputs": [],
   "source": [
    "Rs_P1 = -m1*P1.acc(N)\n",
    "Rs_P2 = -m2*P2.acc(N)"
   ]
  },
  {
   "cell_type": "code",
   "execution_count": 26,
   "id": "84bd2255",
   "metadata": {
    "execution": {
     "iopub.execute_input": "2025-09-11T11:37:03.613031Z",
     "iopub.status.busy": "2025-09-11T11:37:03.612892Z",
     "iopub.status.idle": "2025-09-11T11:37:03.631564Z",
     "shell.execute_reply": "2025-09-11T11:37:03.631152Z"
    }
   },
   "outputs": [
    {
     "data": {
      "text/latex": [
       "$\\displaystyle - l_{1}^{2} m_{1} \\dot{u}_{1} - l_{1}^{2} m_{2} \\dot{u}_{1} + l_{1} \\left(- l_{2} m_{2} \\left(\\sin{\\left(q_{1} \\right)} \\sin{\\left(q_{2} \\right)} + \\cos{\\left(q_{1} \\right)} \\cos{\\left(q_{2} \\right)}\\right) \\dot{u}_{2} - l_{2} m_{2} \\left(\\sin{\\left(q_{1} \\right)} \\cos{\\left(q_{2} \\right)} - \\sin{\\left(q_{2} \\right)} \\cos{\\left(q_{1} \\right)}\\right) u_{2}^{2}\\right)$"
      ],
      "text/plain": [
       "    2           2            ⎛                                                \n",
       "- l₁ ⋅m₁⋅u₁̇ - l₁ ⋅m₂⋅u₁̇ + l₁⋅⎝-l₂⋅m₂⋅(sin(q₁)⋅sin(q₂) + cos(q₁)⋅cos(q₂))⋅u₂̇\n",
       "\n",
       "                                            2⎞\n",
       " - l₂⋅m₂⋅(sin(q₁)⋅cos(q₂) - sin(q₂)⋅cos(q₁))⋅u₂ ⎠"
      ]
     },
     "execution_count": 26,
     "metadata": {},
     "output_type": "execute_result"
    }
   ],
   "source": [
    "F1s = P1.vel(N).diff(u1, N).dot(Rs_P1) + P2.vel(N).diff(u1, N).dot(Rs_P2)\n",
    "F1s"
   ]
  },
  {
   "cell_type": "code",
   "execution_count": 27,
   "id": "5fe3de61",
   "metadata": {
    "execution": {
     "iopub.execute_input": "2025-09-11T11:37:03.632767Z",
     "iopub.status.busy": "2025-09-11T11:37:03.632632Z",
     "iopub.status.idle": "2025-09-11T11:37:03.647834Z",
     "shell.execute_reply": "2025-09-11T11:37:03.647363Z"
    }
   },
   "outputs": [
    {
     "data": {
      "text/latex": [
       "$\\displaystyle - l_{2}^{2} m_{2} \\dot{u}_{2} + l_{2} \\left(- l_{1} m_{2} \\left(\\sin{\\left(q_{1} \\right)} \\sin{\\left(q_{2} \\right)} + \\cos{\\left(q_{1} \\right)} \\cos{\\left(q_{2} \\right)}\\right) \\dot{u}_{1} - l_{1} m_{2} \\left(- \\sin{\\left(q_{1} \\right)} \\cos{\\left(q_{2} \\right)} + \\sin{\\left(q_{2} \\right)} \\cos{\\left(q_{1} \\right)}\\right) u_{1}^{2}\\right)$"
      ],
      "text/plain": [
       "    2            ⎛                                                            \n",
       "- l₂ ⋅m₂⋅u₂̇ + l₂⋅⎝-l₁⋅m₂⋅(sin(q₁)⋅sin(q₂) + cos(q₁)⋅cos(q₂))⋅u₁̇ - l₁⋅m₂⋅(-si\n",
       "\n",
       "                                 2⎞\n",
       "n(q₁)⋅cos(q₂) + sin(q₂)⋅cos(q₁))⋅u₁ ⎠"
      ]
     },
     "execution_count": 27,
     "metadata": {},
     "output_type": "execute_result"
    }
   ],
   "source": [
    "F2s = P1.vel(N).diff(u2, N).dot(Rs_P1) + P2.vel(N).diff(u2, N).dot(Rs_P2)\n",
    "F2s"
   ]
  },
  {
   "cell_type": "code",
   "execution_count": 28,
   "id": "7928ab02",
   "metadata": {
    "execution": {
     "iopub.execute_input": "2025-09-11T11:37:03.649163Z",
     "iopub.status.busy": "2025-09-11T11:37:03.649024Z",
     "iopub.status.idle": "2025-09-11T11:37:03.660811Z",
     "shell.execute_reply": "2025-09-11T11:37:03.660424Z"
    }
   },
   "outputs": [
    {
     "data": {
      "text/latex": [
       "$\\displaystyle l_{1} m_{1} u_{1}^{2} + l_{1} m_{2} u_{1}^{2} + l_{2} m_{2} \\left(\\sin{\\left(q_{1} \\right)} \\sin{\\left(q_{2} \\right)} + \\cos{\\left(q_{1} \\right)} \\cos{\\left(q_{2} \\right)}\\right) u_{2}^{2} + l_{2} m_{2} \\left(- \\sin{\\left(q_{1} \\right)} \\cos{\\left(q_{2} \\right)} + \\sin{\\left(q_{2} \\right)} \\cos{\\left(q_{1} \\right)}\\right) \\dot{u}_{2}$"
      ],
      "text/plain": [
       "        2           2                                               2         \n",
       "l₁⋅m₁⋅u₁  + l₁⋅m₂⋅u₁  + l₂⋅m₂⋅(sin(q₁)⋅sin(q₂) + cos(q₁)⋅cos(q₂))⋅u₂  + l₂⋅m₂⋅\n",
       "\n",
       "                                       \n",
       "(-sin(q₁)⋅cos(q₂) + sin(q₂)⋅cos(q₁))⋅u₂̇"
      ]
     },
     "execution_count": 28,
     "metadata": {},
     "output_type": "execute_result"
    }
   ],
   "source": [
    "F3s = N_v_P1a.diff(u3, N).dot(Rs_P1) + N_v_P2a.diff(u3, N).dot(Rs_P2)\n",
    "F3s"
   ]
  },
  {
   "cell_type": "code",
   "execution_count": 29,
   "id": "1c7801d9",
   "metadata": {
    "execution": {
     "iopub.execute_input": "2025-09-11T11:37:03.661978Z",
     "iopub.status.busy": "2025-09-11T11:37:03.661834Z",
     "iopub.status.idle": "2025-09-11T11:37:03.672022Z",
     "shell.execute_reply": "2025-09-11T11:37:03.671564Z"
    }
   },
   "outputs": [
    {
     "data": {
      "text/latex": [
       "$\\displaystyle l_{1} m_{2} \\left(\\sin{\\left(q_{1} \\right)} \\sin{\\left(q_{2} \\right)} + \\cos{\\left(q_{1} \\right)} \\cos{\\left(q_{2} \\right)}\\right) u_{1}^{2} + l_{1} m_{2} \\left(\\sin{\\left(q_{1} \\right)} \\cos{\\left(q_{2} \\right)} - \\sin{\\left(q_{2} \\right)} \\cos{\\left(q_{1} \\right)}\\right) \\dot{u}_{1} + l_{2} m_{2} u_{2}^{2}$"
      ],
      "text/plain": [
       "                                            2                                 \n",
       "l₁⋅m₂⋅(sin(q₁)⋅sin(q₂) + cos(q₁)⋅cos(q₂))⋅u₁  + l₁⋅m₂⋅(sin(q₁)⋅cos(q₂) - sin(q\n",
       "\n",
       "                         2\n",
       "₂)⋅cos(q₁))⋅u₁̇ + l₂⋅m₂⋅u₂ "
      ]
     },
     "execution_count": 29,
     "metadata": {},
     "output_type": "execute_result"
    }
   ],
   "source": [
    "F4s = N_v_P1a.diff(u4, N).dot(Rs_P1) + N_v_P2a.diff(u4, N).dot(Rs_P2)\n",
    "F4s"
   ]
  },
  {
   "cell_type": "code",
   "execution_count": 30,
   "id": "d3a16c84",
   "metadata": {
    "execution": {
     "iopub.execute_input": "2025-09-11T11:37:03.673362Z",
     "iopub.status.busy": "2025-09-11T11:37:03.673188Z",
     "iopub.status.idle": "2025-09-11T11:37:04.733182Z",
     "shell.execute_reply": "2025-09-11T11:37:04.732718Z"
    }
   },
   "outputs": [
    {
     "data": {
      "text/latex": [
       "$\\displaystyle \\left[\\begin{matrix}- l_{1} \\left(l_{1} m_{1} \\dot{u}_{1} + l_{1} m_{2} \\dot{u}_{1} + l_{2} m_{2} u_{2}^{2} \\sin{\\left(q_{1} - q_{2} \\right)} + l_{2} m_{2} \\cos{\\left(q_{1} - q_{2} \\right)} \\dot{u}_{2}\\right)\\\\l_{2} m_{2} \\left(l_{1} u_{1}^{2} \\sin{\\left(q_{1} - q_{2} \\right)} - l_{1} \\cos{\\left(q_{1} - q_{2} \\right)} \\dot{u}_{1} - l_{2} \\dot{u}_{2}\\right)\\\\l_{1} m_{1} u_{1}^{2} + l_{1} m_{2} u_{1}^{2} + l_{2} m_{2} u_{2}^{2} \\cos{\\left(q_{1} - q_{2} \\right)} - l_{2} m_{2} \\sin{\\left(q_{1} - q_{2} \\right)} \\dot{u}_{2}\\\\m_{2} \\left(l_{1} u_{1}^{2} \\cos{\\left(q_{1} - q_{2} \\right)} + l_{1} \\sin{\\left(q_{1} - q_{2} \\right)} \\dot{u}_{1} + l_{2} u_{2}^{2}\\right)\\end{matrix}\\right]$"
      ],
      "text/plain": [
       "⎡    ⎛                              2                                     ⎞⎤\n",
       "⎢-l₁⋅⎝l₁⋅m₁⋅u₁̇ + l₁⋅m₂⋅u₁̇ + l₂⋅m₂⋅u₂ ⋅sin(q₁ - q₂) + l₂⋅m₂⋅cos(q₁ - q₂)⋅u₂̇⎠⎥\n",
       "⎢                                                                          ⎥\n",
       "⎢               ⎛     2                                          ⎞         ⎥\n",
       "⎢         l₂⋅m₂⋅⎝l₁⋅u₁ ⋅sin(q₁ - q₂) - l₁⋅cos(q₁ - q₂)⋅u₁̇ - l₂⋅u₂̇⎠         ⎥\n",
       "⎢                                                                          ⎥\n",
       "⎢          2           2           2                                       ⎥\n",
       "⎢  l₁⋅m₁⋅u₁  + l₁⋅m₂⋅u₁  + l₂⋅m₂⋅u₂ ⋅cos(q₁ - q₂) - l₂⋅m₂⋅sin(q₁ - q₂)⋅u₂̇  ⎥\n",
       "⎢                                                                          ⎥\n",
       "⎢             ⎛     2                                          2⎞          ⎥\n",
       "⎣          m₂⋅⎝l₁⋅u₁ ⋅cos(q₁ - q₂) + l₁⋅sin(q₁ - q₂)⋅u₁̇ + l₂⋅u₂ ⎠          ⎦"
      ]
     },
     "execution_count": 30,
     "metadata": {},
     "output_type": "execute_result"
    }
   ],
   "source": [
    "Frs = sm.Matrix([F1s, F2s, F3s, F4s])\n",
    "Frs = sm.trigsimp(Frs)\n",
    "Frs"
   ]
  },
  {
   "cell_type": "code",
   "execution_count": 31,
   "id": "8d6db808",
   "metadata": {
    "execution": {
     "iopub.execute_input": "2025-09-11T11:37:04.734525Z",
     "iopub.status.busy": "2025-09-11T11:37:04.734381Z",
     "iopub.status.idle": "2025-09-11T11:37:04.739259Z",
     "shell.execute_reply": "2025-09-11T11:37:04.738856Z"
    }
   },
   "outputs": [
    {
     "data": {
      "text/latex": [
       "$\\displaystyle \\left\\{T_{1}, T_{2}, q_{1}, q_{2}, u_{1}, u_{2}, \\dot{u}_{1}, \\dot{u}_{2}\\right\\}$"
      ],
      "text/plain": [
       "{T₁, T₂, q₁, q₂, u₁, u₂, u₁̇, u₂̇}"
      ]
     },
     "execution_count": 31,
     "metadata": {},
     "output_type": "execute_result"
    }
   ],
   "source": [
    "fa = Frs + Fr\n",
    "me.find_dynamicsymbols(fa)"
   ]
  },
  {
   "cell_type": "code",
   "execution_count": 32,
   "id": "7b4f8d54",
   "metadata": {
    "execution": {
     "iopub.execute_input": "2025-09-11T11:37:04.740500Z",
     "iopub.status.busy": "2025-09-11T11:37:04.740346Z",
     "iopub.status.idle": "2025-09-11T11:37:04.785394Z",
     "shell.execute_reply": "2025-09-11T11:37:04.784937Z"
    }
   },
   "outputs": [
    {
     "data": {
      "text/latex": [
       "$\\displaystyle \\left( \\left[\\begin{matrix}- l_{1} \\left(l_{1} m_{1} + l_{1} m_{2}\\right) & - l_{1} l_{2} m_{2} \\cos{\\left(q_{1} - q_{2} \\right)} & 0 & 0\\\\- l_{1} l_{2} m_{2} \\cos{\\left(q_{1} - q_{2} \\right)} & - l_{2}^{2} m_{2} & 0 & 0\\\\0 & - l_{2} m_{2} \\sin{\\left(q_{1} - q_{2} \\right)} & -1 & 0\\\\l_{1} m_{2} \\sin{\\left(q_{1} - q_{2} \\right)} & 0 & 0 & -1\\end{matrix}\\right], \\  \\left[\\begin{matrix}\\dot{u}_{1}\\\\\\dot{u}_{2}\\\\T_{1}\\\\T_{2}\\end{matrix}\\right], \\  \\left[\\begin{matrix}- g l_{1} m_{1} \\sin{\\left(q_{1} \\right)} - g l_{1} m_{2} \\sin{\\left(q_{1} \\right)} - l_{1} l_{2} m_{2} u_{2}^{2} \\sin{\\left(q_{1} - q_{2} \\right)}\\\\- g l_{2} m_{2} \\sin{\\left(q_{2} \\right)} + l_{1} l_{2} m_{2} u_{1}^{2} \\sin{\\left(q_{1} - q_{2} \\right)}\\\\g m_{1} \\cos{\\left(q_{1} \\right)} + g m_{2} \\cos{\\left(q_{1} \\right)} + l_{1} m_{1} u_{1}^{2} + l_{1} m_{2} u_{1}^{2} + l_{2} m_{2} u_{2}^{2} \\cos{\\left(q_{1} - q_{2} \\right)}\\\\g m_{2} \\cos{\\left(q_{2} \\right)} + m_{2} \\left(l_{1} u_{1}^{2} \\cos{\\left(q_{1} - q_{2} \\right)} + l_{2} u_{2}^{2}\\right)\\end{matrix}\\right]\\right)$"
      ],
      "text/plain": [
       "⎛                                                                ⎡            \n",
       "⎜⎡ -l₁⋅(l₁⋅m₁ + l₁⋅m₂)    -l₁⋅l₂⋅m₂⋅cos(q₁ - q₂)  0   0 ⎤        ⎢       -g⋅l₁\n",
       "⎜⎢                                                      ⎥  ⎡u₁̇⎤  ⎢           \n",
       "⎜⎢                                  2                   ⎥  ⎢  ⎥  ⎢            \n",
       "⎜⎢-l₁⋅l₂⋅m₂⋅cos(q₁ - q₂)         -l₂ ⋅m₂          0   0 ⎥  ⎢u₂̇⎥  ⎢           \n",
       "⎜⎢                                                      ⎥, ⎢  ⎥, ⎢            \n",
       "⎜⎢          0              -l₂⋅m₂⋅sin(q₁ - q₂)    -1  0 ⎥  ⎢T₁⎥  ⎢            \n",
       "⎜⎢                                                      ⎥  ⎢  ⎥  ⎢g⋅m₁⋅cos(q₁)\n",
       "⎜⎣  l₁⋅m₂⋅sin(q₁ - q₂)              0             0   -1⎦  ⎣T₂⎦  ⎢            \n",
       "⎜                                                                ⎢            \n",
       "⎝                                                                ⎣            \n",
       "\n",
       "                                           2                    ⎤⎞\n",
       "⋅m₁⋅sin(q₁) - g⋅l₁⋅m₂⋅sin(q₁) - l₁⋅l₂⋅m₂⋅u₂ ⋅sin(q₁ - q₂)       ⎥⎟\n",
       "                                                                 ⎥⎟\n",
       "                                  2                             ⎥⎟\n",
       "     -g⋅l₂⋅m₂⋅sin(q₂) + l₁⋅l₂⋅m₂⋅u₁ ⋅sin(q₁ - q₂)                ⎥⎟\n",
       "                                                                ⎥⎟\n",
       "                          2           2           2             ⎥⎟\n",
       " + g⋅m₂⋅cos(q₁) + l₁⋅m₁⋅u₁  + l₁⋅m₂⋅u₁  + l₂⋅m₂⋅u₂ ⋅cos(q₁ - q₂)⎥⎟\n",
       "                                                                ⎥⎟\n",
       "                    ⎛     2                     2⎞              ⎥⎟\n",
       "  g⋅m₂⋅cos(q₂) + m₂⋅⎝l₁⋅u₁ ⋅cos(q₁ - q₂) + l₂⋅u₂ ⎠              ⎦⎠"
      ]
     },
     "execution_count": 32,
     "metadata": {},
     "output_type": "execute_result"
    }
   ],
   "source": [
    "Ma = fa.jacobian(udr)\n",
    "ga = fa.xreplace(udr_zero)\n",
    "\n",
    "Ma, udr, ga"
   ]
  },
  {
   "cell_type": "code",
   "execution_count": 33,
   "id": "28a530dc",
   "metadata": {
    "execution": {
     "iopub.execute_input": "2025-09-11T11:37:04.786678Z",
     "iopub.status.busy": "2025-09-11T11:37:04.786538Z",
     "iopub.status.idle": "2025-09-11T11:37:04.809478Z",
     "shell.execute_reply": "2025-09-11T11:37:04.808970Z"
    }
   },
   "outputs": [],
   "source": [
    "udr_sol = -Ma.LUsolve(ga)"
   ]
  },
  {
   "cell_type": "code",
   "execution_count": 34,
   "id": "91ee8a1f",
   "metadata": {
    "execution": {
     "iopub.execute_input": "2025-09-11T11:37:04.810728Z",
     "iopub.status.busy": "2025-09-11T11:37:04.810586Z",
     "iopub.status.idle": "2025-09-11T11:37:08.040146Z",
     "shell.execute_reply": "2025-09-11T11:37:08.039724Z"
    }
   },
   "outputs": [
    {
     "data": {
      "text/latex": [
       "$\\displaystyle g m_{1} \\cos{\\left(q_{1} \\right)} + g m_{2} \\cos{\\left(q_{1} \\right)} + l_{1} m_{1} u_{1}^{2} + l_{1} m_{2} u_{1}^{2} + l_{2} m_{2} u_{2}^{2} \\cos{\\left(q_{1} - q_{2} \\right)} + \\frac{l_{2} m_{2} \\left(- g l_{2} m_{2} \\sin{\\left(q_{2} \\right)} + l_{1} l_{2} m_{2} u_{1}^{2} \\sin{\\left(q_{1} - q_{2} \\right)} + \\frac{l_{1} l_{2} m_{2} \\left(g m_{1} \\sin{\\left(q_{1} \\right)} + g m_{2} \\sin{\\left(q_{1} \\right)} + l_{2} m_{2} u_{2}^{2} \\sin{\\left(q_{1} - q_{2} \\right)}\\right) \\cos{\\left(q_{1} - q_{2} \\right)}}{l_{1} m_{1} + l_{1} m_{2}}\\right) \\sin{\\left(q_{1} - q_{2} \\right)}}{\\frac{l_{1} l_{2}^{2} m_{2}^{2} \\cos^{2}{\\left(q_{1} - q_{2} \\right)}}{l_{1} m_{1} + l_{1} m_{2}} - l_{2}^{2} m_{2}}$"
      ],
      "text/plain": [
       "                                                                              \n",
       "                                                                              \n",
       "                                                                              \n",
       "                                      2           2           2               \n",
       "g⋅m₁⋅cos(q₁) + g⋅m₂⋅cos(q₁) + l₁⋅m₁⋅u₁  + l₁⋅m₂⋅u₁  + l₂⋅m₂⋅u₂ ⋅cos(q₁ - q₂) +\n",
       "                                                                              \n",
       "                                                                              \n",
       "                                                                              \n",
       "                                                                              \n",
       "\n",
       "       ⎛                                                        ⎛             \n",
       "       ⎜                              2                l₁⋅l₂⋅m₂⋅⎝g⋅m₁⋅sin(q₁) \n",
       " l₂⋅m₂⋅⎜-g⋅l₂⋅m₂⋅sin(q₂) + l₁⋅l₂⋅m₂⋅u₁ ⋅sin(q₁ - q₂) + ───────────────────────\n",
       "       ⎝                                                                      \n",
       " ─────────────────────────────────────────────────────────────────────────────\n",
       "                                                             2   2    2       \n",
       "                                                        l₁⋅l₂ ⋅m₂ ⋅cos (q₁ - q\n",
       "                                                        ──────────────────────\n",
       "                                                             l₁⋅m₁ + l₁⋅m₂    \n",
       "\n",
       "                         2             ⎞             ⎞             \n",
       "+ g⋅m₂⋅sin(q₁) + l₂⋅m₂⋅u₂ ⋅sin(q₁ - q₂)⎠⋅cos(q₁ - q₂)⎟             \n",
       "─────────────────────────────────────────────────────⎟⋅sin(q₁ - q₂)\n",
       "        l₁⋅m₁ + l₁⋅m₂                                ⎠             \n",
       "───────────────────────────────────────────────────────────────────\n",
       "                                                                   \n",
       "₂)     2                                                           \n",
       "── - l₂ ⋅m₂                                                        \n",
       "                                                                   "
      ]
     },
     "execution_count": 34,
     "metadata": {},
     "output_type": "execute_result"
    }
   ],
   "source": [
    "T1_sol = sm.trigsimp(udr_sol[2])\n",
    "T1_sol"
   ]
  },
  {
   "cell_type": "code",
   "execution_count": 35,
   "id": "8fb310a3",
   "metadata": {
    "execution": {
     "iopub.execute_input": "2025-09-11T11:37:08.041521Z",
     "iopub.status.busy": "2025-09-11T11:37:08.041369Z",
     "iopub.status.idle": "2025-09-11T11:37:11.054701Z",
     "shell.execute_reply": "2025-09-11T11:37:11.054182Z"
    }
   },
   "outputs": [
    {
     "data": {
      "text/latex": [
       "$\\displaystyle g m_{2} \\cos{\\left(q_{2} \\right)} + \\frac{l_{1} l_{2} m_{2}^{2} \\left(- g l_{2} m_{2} \\sin{\\left(q_{2} \\right)} + l_{1} l_{2} m_{2} u_{1}^{2} \\sin{\\left(q_{1} - q_{2} \\right)} + \\frac{l_{1} l_{2} m_{2} \\left(g m_{1} \\sin{\\left(q_{1} \\right)} + g m_{2} \\sin{\\left(q_{1} \\right)} + l_{2} m_{2} u_{2}^{2} \\sin{\\left(q_{1} - q_{2} \\right)}\\right) \\cos{\\left(q_{1} - q_{2} \\right)}}{l_{1} m_{1} + l_{1} m_{2}}\\right) \\sin{\\left(q_{1} - q_{2} \\right)} \\cos{\\left(q_{1} - q_{2} \\right)}}{\\left(l_{1} m_{1} + l_{1} m_{2}\\right) \\left(\\frac{l_{1} l_{2}^{2} m_{2}^{2} \\cos^{2}{\\left(q_{1} - q_{2} \\right)}}{l_{1} m_{1} + l_{1} m_{2}} - l_{2}^{2} m_{2}\\right)} - \\frac{l_{1} m_{2} \\left(g m_{1} \\sin{\\left(q_{1} \\right)} + g m_{2} \\sin{\\left(q_{1} \\right)} + l_{2} m_{2} u_{2}^{2} \\sin{\\left(q_{1} - q_{2} \\right)}\\right) \\sin{\\left(q_{1} - q_{2} \\right)}}{l_{1} m_{1} + l_{1} m_{2}} + m_{2} \\left(l_{1} u_{1}^{2} \\cos{\\left(q_{1} - q_{2} \\right)} + l_{2} u_{2}^{2}\\right)$"
      ],
      "text/plain": [
       "                         ⎛                                                    \n",
       "                       2 ⎜                              2                l₁⋅l₂\n",
       "               l₁⋅l₂⋅m₂ ⋅⎜-g⋅l₂⋅m₂⋅sin(q₂) + l₁⋅l₂⋅m₂⋅u₁ ⋅sin(q₁ - q₂) + ─────\n",
       "                         ⎝                                                    \n",
       "g⋅m₂⋅cos(q₂) + ───────────────────────────────────────────────────────────────\n",
       "                                                                              \n",
       "                                                                              \n",
       "                                                                      (l₁⋅m₁ +\n",
       "                                                                              \n",
       "\n",
       "    ⎛                                      2             ⎞             ⎞      \n",
       "⋅m₂⋅⎝g⋅m₁⋅sin(q₁) + g⋅m₂⋅sin(q₁) + l₂⋅m₂⋅u₂ ⋅sin(q₁ - q₂)⎠⋅cos(q₁ - q₂)⎟      \n",
       "───────────────────────────────────────────────────────────────────────⎟⋅sin(q\n",
       "                          l₁⋅m₁ + l₁⋅m₂                                ⎠      \n",
       "──────────────────────────────────────────────────────────────────────────────\n",
       "        ⎛     2   2    2                  ⎞                                   \n",
       "        ⎜l₁⋅l₂ ⋅m₂ ⋅cos (q₁ - q₂)     2   ⎟                                   \n",
       " l₁⋅m₂)⋅⎜──────────────────────── - l₂ ⋅m₂⎟                                   \n",
       "        ⎝     l₁⋅m₁ + l₁⋅m₂               ⎠                                   \n",
       "\n",
       "                                                                              \n",
       "                                                                              \n",
       "₁ - q₂)⋅cos(q₁ - q₂)         ⎛                                      2         \n",
       "                       l₁⋅m₂⋅⎝g⋅m₁⋅sin(q₁) + g⋅m₂⋅sin(q₁) + l₂⋅m₂⋅u₂ ⋅sin(q₁ -\n",
       "──────────────────── - ───────────────────────────────────────────────────────\n",
       "                                                     l₁⋅m₁ + l₁⋅m₂            \n",
       "                                                                              \n",
       "                                                                              \n",
       "                                                                              \n",
       "\n",
       "                                                      \n",
       "                                                      \n",
       "    ⎞                                                 \n",
       " q₂)⎠⋅sin(q₁ - q₂)      ⎛     2                     2⎞\n",
       "────────────────── + m₂⋅⎝l₁⋅u₁ ⋅cos(q₁ - q₂) + l₂⋅u₂ ⎠\n",
       "                                                      \n",
       "                                                      \n",
       "                                                      \n",
       "                                                      "
      ]
     },
     "execution_count": 35,
     "metadata": {},
     "output_type": "execute_result"
    }
   ],
   "source": [
    "T2_sol = sm.trigsimp(udr_sol[3])\n",
    "T2_sol"
   ]
  },
  {
   "cell_type": "code",
   "execution_count": 36,
   "id": "d1b94ed5",
   "metadata": {
    "execution": {
     "iopub.execute_input": "2025-09-11T11:37:11.056141Z",
     "iopub.status.busy": "2025-09-11T11:37:11.055982Z",
     "iopub.status.idle": "2025-09-11T11:37:11.059016Z",
     "shell.execute_reply": "2025-09-11T11:37:11.058529Z"
    }
   },
   "outputs": [],
   "source": [
    "q0 = np.array([\n",
    "    np.deg2rad(15.0),  # q1 [rad]\n",
    "    np.deg2rad(25.0),  # q2 [rad]\n",
    "])\n",
    "\n",
    "u0 = np.array([\n",
    "    np.deg2rad(123.0),  # u1 [rad/s]\n",
    "    np.deg2rad(-41.0),  # u2 [rad/s]\n",
    "])\n",
    "\n",
    "p_vals = np.array([\n",
    "    1.2,  # m1 [kg]\n",
    "    5.6,  # m2 [kg]\n",
    "    1.34,  # l1 [m]\n",
    "    6.7,  # l2 [m]\n",
    "    9.81,  # g [m/2^2]\n",
    "])"
   ]
  },
  {
   "cell_type": "code",
   "execution_count": 37,
   "id": "f2c05275",
   "metadata": {
    "execution": {
     "iopub.execute_input": "2025-09-11T11:37:11.060291Z",
     "iopub.status.busy": "2025-09-11T11:37:11.060128Z",
     "iopub.status.idle": "2025-09-11T11:37:11.137383Z",
     "shell.execute_reply": "2025-09-11T11:37:11.136804Z"
    }
   },
   "outputs": [],
   "source": [
    "eval_d = sm.lambdify((q, u, p), (Md, gd))\n",
    "eval_a = sm.lambdify((q, u, p), (Ma, ga))\n",
    "\n",
    "Md_vals, gd_vals = eval_d(q0, u0, p_vals)\n",
    "Ma_vals, ga_vals = eval_a(q0, u0, p_vals)"
   ]
  },
  {
   "cell_type": "code",
   "execution_count": 38,
   "id": "add2b4ad",
   "metadata": {
    "execution": {
     "iopub.execute_input": "2025-09-11T11:37:11.139070Z",
     "iopub.status.busy": "2025-09-11T11:37:11.138849Z",
     "iopub.status.idle": "2025-09-11T11:37:11.142739Z",
     "shell.execute_reply": "2025-09-11T11:37:11.142263Z"
    }
   },
   "outputs": [
    {
     "data": {
      "text/plain": [
       "array([  8.09538007,  -2.37332094, 109.88598116,  92.50997719])"
      ]
     },
     "execution_count": 38,
     "metadata": {},
     "output_type": "execute_result"
    }
   ],
   "source": [
    "-np.linalg.solve(Md_vals, np.squeeze(gd_vals))"
   ]
  },
  {
   "cell_type": "code",
   "execution_count": 39,
   "id": "3c295233",
   "metadata": {
    "execution": {
     "iopub.execute_input": "2025-09-11T11:37:11.143977Z",
     "iopub.status.busy": "2025-09-11T11:37:11.143831Z",
     "iopub.status.idle": "2025-09-11T11:37:11.147162Z",
     "shell.execute_reply": "2025-09-11T11:37:11.146699Z"
    }
   },
   "outputs": [
    {
     "data": {
      "text/plain": [
       "array([  8.09538007,  -2.37332094, 109.88598116,  92.50997719])"
      ]
     },
     "execution_count": 39,
     "metadata": {},
     "output_type": "execute_result"
    }
   ],
   "source": [
    "-np.linalg.solve(Ma_vals, np.squeeze(ga_vals))"
   ]
  },
  {
   "cell_type": "code",
   "execution_count": 40,
   "id": "aed13a35",
   "metadata": {
    "execution": {
     "iopub.execute_input": "2025-09-11T11:37:11.148394Z",
     "iopub.status.busy": "2025-09-11T11:37:11.148218Z",
     "iopub.status.idle": "2025-09-11T11:37:11.177460Z",
     "shell.execute_reply": "2025-09-11T11:37:11.176973Z"
    }
   },
   "outputs": [
    {
     "data": {
      "text/latex": [
       "$\\displaystyle \\left( 109.885981161619, \\  92.5099771909879\\right)$"
      ],
      "text/plain": [
       "(109.88598116161896, 92.50997719098791)"
      ]
     },
     "execution_count": 40,
     "metadata": {},
     "output_type": "execute_result"
    }
   ],
   "source": [
    "eval_forces = sm.lambdify((q, u, p), (T1_sol, T2_sol))\n",
    "eval_forces(q0, u0, p_vals)"
   ]
  },
  {
   "cell_type": "code",
   "execution_count": 41,
   "id": "c5446dd0",
   "metadata": {
    "execution": {
     "iopub.execute_input": "2025-09-11T11:37:11.178766Z",
     "iopub.status.busy": "2025-09-11T11:37:11.178615Z",
     "iopub.status.idle": "2025-09-11T11:37:11.181661Z",
     "shell.execute_reply": "2025-09-11T11:37:11.181160Z"
    }
   },
   "outputs": [],
   "source": [
    "def eval_rhs_newton(t, x, p):\n",
    "\n",
    "    q = x[:2]\n",
    "    u = x[2:]\n",
    "\n",
    "    Md, gd = eval_d(q, u, p)\n",
    "    udr = -np.linalg.solve(Md, np.squeeze(gd))\n",
    "\n",
    "    qd = u\n",
    "    ud = sol[:2]\n",
    "    r = sol[2:]\n",
    "\n",
    "    return np.hstack((qd, ud))"
   ]
  }
 ],
 "metadata": {
  "kernelspec": {
   "display_name": "Python 3 (ipykernel)",
   "language": "python",
   "name": "python3"
  },
  "language_info": {
   "codemirror_mode": {
    "name": "ipython",
    "version": 3
   },
   "file_extension": ".py",
   "mimetype": "text/x-python",
   "name": "python",
   "nbconvert_exporter": "python",
   "pygments_lexer": "ipython3",
   "version": "3.11.13"
  }
 },
 "nbformat": 4,
 "nbformat_minor": 5
}