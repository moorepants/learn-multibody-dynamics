{
 "cells": [
  {
   "cell_type": "code",
   "execution_count": 1,
   "id": "d8371f27",
   "metadata": {
    "execution": {
     "iopub.execute_input": "2025-01-22T13:10:37.331015Z",
     "iopub.status.busy": "2025-01-22T13:10:37.330689Z",
     "iopub.status.idle": "2025-01-22T13:10:37.540588Z",
     "shell.execute_reply": "2025-01-22T13:10:37.540074Z"
    }
   },
   "outputs": [],
   "source": [
    "import sympy as sm"
   ]
  },
  {
   "cell_type": "code",
   "execution_count": 2,
   "id": "4ab2e2a7",
   "metadata": {
    "execution": {
     "iopub.execute_input": "2025-01-22T13:10:37.542223Z",
     "iopub.status.busy": "2025-01-22T13:10:37.542012Z",
     "iopub.status.idle": "2025-01-22T13:10:37.546319Z",
     "shell.execute_reply": "2025-01-22T13:10:37.545899Z"
    }
   },
   "outputs": [],
   "source": [
    "sm.init_printing(use_latex='mathjax')"
   ]
  },
  {
   "cell_type": "code",
   "execution_count": 3,
   "id": "d221ac69",
   "metadata": {
    "execution": {
     "iopub.execute_input": "2025-01-22T13:10:37.547610Z",
     "iopub.status.busy": "2025-01-22T13:10:37.547464Z",
     "iopub.status.idle": "2025-01-22T13:10:37.551431Z",
     "shell.execute_reply": "2025-01-22T13:10:37.551059Z"
    }
   },
   "outputs": [
    {
     "data": {
      "text/latex": [
       "$\\displaystyle a$"
      ],
      "text/plain": [
       "a"
      ]
     },
     "execution_count": 3,
     "metadata": {},
     "output_type": "execute_result"
    }
   ],
   "source": [
    "a = sm.symbols('a')\n",
    "a"
   ]
  },
  {
   "cell_type": "code",
   "execution_count": 4,
   "id": "2c9ffd57",
   "metadata": {
    "execution": {
     "iopub.execute_input": "2025-01-22T13:10:37.552710Z",
     "iopub.status.busy": "2025-01-22T13:10:37.552569Z",
     "iopub.status.idle": "2025-01-22T13:10:37.555592Z",
     "shell.execute_reply": "2025-01-22T13:10:37.555220Z"
    }
   },
   "outputs": [
    {
     "data": {
      "text/plain": [
       "sympy.core.symbol.Symbol"
      ]
     },
     "execution_count": 4,
     "metadata": {},
     "output_type": "execute_result"
    }
   ],
   "source": [
    "type(a)"
   ]
  },
  {
   "cell_type": "code",
   "execution_count": 5,
   "id": "be2d3f2f",
   "metadata": {
    "execution": {
     "iopub.execute_input": "2025-01-22T13:10:37.556889Z",
     "iopub.status.busy": "2025-01-22T13:10:37.556751Z",
     "iopub.status.idle": "2025-01-22T13:10:37.560170Z",
     "shell.execute_reply": "2025-01-22T13:10:37.559795Z"
    }
   },
   "outputs": [
    {
     "data": {
      "text/latex": [
       "$\\displaystyle \\left( b, \\  t, \\  \\omega, \\  \\Omega\\right)$"
      ],
      "text/plain": [
       "(b, t, ω, Ω)"
      ]
     },
     "execution_count": 5,
     "metadata": {},
     "output_type": "execute_result"
    }
   ],
   "source": [
    "b, t, omega, Omega = sm.symbols('b, t, omega, Omega')\n",
    "b, t, omega, Omega"
   ]
  },
  {
   "cell_type": "code",
   "execution_count": 6,
   "id": "6906e8e2",
   "metadata": {
    "execution": {
     "iopub.execute_input": "2025-01-22T13:10:37.561442Z",
     "iopub.status.busy": "2025-01-22T13:10:37.561301Z",
     "iopub.status.idle": "2025-01-22T13:10:37.564554Z",
     "shell.execute_reply": "2025-01-22T13:10:37.564183Z"
    }
   },
   "outputs": [
    {
     "data": {
      "text/latex": [
       "$\\displaystyle \\left( \\alpha_{1}, \\  \\omega_{2}\\right)$"
      ],
      "text/plain": [
       "(α₁, ω₂)"
      ]
     },
     "execution_count": 6,
     "metadata": {},
     "output_type": "execute_result"
    }
   ],
   "source": [
    "pivot_angle, w2 = sm.symbols('alpha1, omega2')\n",
    "pivot_angle, w2"
   ]
  },
  {
   "cell_type": "code",
   "execution_count": 7,
   "id": "4ec358b2",
   "metadata": {
    "execution": {
     "iopub.execute_input": "2025-01-22T13:10:37.565827Z",
     "iopub.status.busy": "2025-01-22T13:10:37.565688Z",
     "iopub.status.idle": "2025-01-22T13:10:37.569455Z",
     "shell.execute_reply": "2025-01-22T13:10:37.568934Z"
    }
   },
   "outputs": [
    {
     "data": {
      "text/latex": [
       "$\\displaystyle \\left( q_{1}, \\  q_{2}, \\  q_{3}, \\  q_{4}, \\  q_{5}, \\  q_{6}, \\  q_{7}, \\  q_{8}, \\  q_{9}, \\  q_{10}\\right)$"
      ],
      "text/plain": [
       "(q₁, q₂, q₃, q₄, q₅, q₆, q₇, q₈, q₉, q₁₀)"
      ]
     },
     "execution_count": 7,
     "metadata": {},
     "output_type": "execute_result"
    }
   ],
   "source": [
    "sm.symbols('q1:11')"
   ]
  },
  {
   "cell_type": "code",
   "execution_count": 8,
   "id": "fbd2bc8c",
   "metadata": {
    "execution": {
     "iopub.execute_input": "2025-01-22T13:10:37.570743Z",
     "iopub.status.busy": "2025-01-22T13:10:37.570599Z",
     "iopub.status.idle": "2025-01-22T13:10:37.574243Z",
     "shell.execute_reply": "2025-01-22T13:10:37.573728Z"
    }
   },
   "outputs": [
    {
     "data": {
      "text/plain": [
       "f"
      ]
     },
     "execution_count": 8,
     "metadata": {},
     "output_type": "execute_result"
    }
   ],
   "source": [
    "f = sm.Function('f')\n",
    "f"
   ]
  },
  {
   "cell_type": "code",
   "execution_count": 9,
   "id": "6be7d9e5",
   "metadata": {
    "execution": {
     "iopub.execute_input": "2025-01-22T13:10:37.575781Z",
     "iopub.status.busy": "2025-01-22T13:10:37.575407Z",
     "iopub.status.idle": "2025-01-22T13:10:37.578671Z",
     "shell.execute_reply": "2025-01-22T13:10:37.578211Z"
    }
   },
   "outputs": [
    {
     "data": {
      "text/plain": [
       "sympy.core.function.UndefinedFunction"
      ]
     },
     "execution_count": 9,
     "metadata": {},
     "output_type": "execute_result"
    }
   ],
   "source": [
    "type(f)"
   ]
  },
  {
   "cell_type": "code",
   "execution_count": 10,
   "id": "2d3632a6",
   "metadata": {
    "execution": {
     "iopub.execute_input": "2025-01-22T13:10:37.580291Z",
     "iopub.status.busy": "2025-01-22T13:10:37.579871Z",
     "iopub.status.idle": "2025-01-22T13:10:37.583525Z",
     "shell.execute_reply": "2025-01-22T13:10:37.583066Z"
    }
   },
   "outputs": [
    {
     "data": {
      "text/latex": [
       "$\\displaystyle f{\\left(t \\right)}$"
      ],
      "text/plain": [
       "f(t)"
      ]
     },
     "execution_count": 10,
     "metadata": {},
     "output_type": "execute_result"
    }
   ],
   "source": [
    "f(t)"
   ]
  },
  {
   "cell_type": "code",
   "execution_count": 11,
   "id": "a8e69098",
   "metadata": {
    "execution": {
     "iopub.execute_input": "2025-01-22T13:10:37.584899Z",
     "iopub.status.busy": "2025-01-22T13:10:37.584616Z",
     "iopub.status.idle": "2025-01-22T13:10:37.587843Z",
     "shell.execute_reply": "2025-01-22T13:10:37.587382Z"
    }
   },
   "outputs": [
    {
     "data": {
      "text/plain": [
       "f"
      ]
     },
     "execution_count": 11,
     "metadata": {},
     "output_type": "execute_result"
    }
   ],
   "source": [
    "type(f(t))"
   ]
  },
  {
   "cell_type": "code",
   "execution_count": 12,
   "id": "5031e88d",
   "metadata": {
    "execution": {
     "iopub.execute_input": "2025-01-22T13:10:37.589381Z",
     "iopub.status.busy": "2025-01-22T13:10:37.588973Z",
     "iopub.status.idle": "2025-01-22T13:10:37.592840Z",
     "shell.execute_reply": "2025-01-22T13:10:37.592353Z"
    }
   },
   "outputs": [
    {
     "data": {
      "text/latex": [
       "$\\displaystyle f{\\left(a,b,\\omega,t \\right)}$"
      ],
      "text/plain": [
       "f(a, b, ω, t)"
      ]
     },
     "execution_count": 12,
     "metadata": {},
     "output_type": "execute_result"
    }
   ],
   "source": [
    "f(a, b, omega, t)"
   ]
  },
  {
   "cell_type": "code",
   "execution_count": 13,
   "id": "60120851",
   "metadata": {
    "execution": {
     "iopub.execute_input": "2025-01-22T13:10:37.594335Z",
     "iopub.status.busy": "2025-01-22T13:10:37.593948Z",
     "iopub.status.idle": "2025-01-22T13:10:37.597857Z",
     "shell.execute_reply": "2025-01-22T13:10:37.597473Z"
    }
   },
   "outputs": [
    {
     "data": {
      "text/latex": [
       "$\\displaystyle H{\\left(x,y,z \\right)}$"
      ],
      "text/plain": [
       "H(x, y, z)"
      ]
     },
     "execution_count": 13,
     "metadata": {},
     "output_type": "execute_result"
    }
   ],
   "source": [
    "x, y, z = sm.symbols('x, y, z')\n",
    "sm.Function('H')(x, y, z)"
   ]
  },
  {
   "cell_type": "code",
   "execution_count": 14,
   "id": "1d68c058",
   "metadata": {
    "execution": {
     "iopub.execute_input": "2025-01-22T13:10:37.599244Z",
     "iopub.status.busy": "2025-01-22T13:10:37.598943Z",
     "iopub.status.idle": "2025-01-22T13:10:37.727892Z",
     "shell.execute_reply": "2025-01-22T13:10:37.727455Z"
    }
   },
   "outputs": [
    {
     "data": {
      "text/latex": [
       "$\\displaystyle a + \\frac{b}{\\omega^{2}}$"
      ],
      "text/plain": [
       "    b \n",
       "a + ──\n",
       "     2\n",
       "    ω "
      ]
     },
     "execution_count": 14,
     "metadata": {},
     "output_type": "execute_result"
    }
   ],
   "source": [
    "expr1 = a + b/omega**2\n",
    "expr1"
   ]
  },
  {
   "cell_type": "code",
   "execution_count": 15,
   "id": "fc5d859e",
   "metadata": {
    "execution": {
     "iopub.execute_input": "2025-01-22T13:10:37.729557Z",
     "iopub.status.busy": "2025-01-22T13:10:37.729225Z",
     "iopub.status.idle": "2025-01-22T13:10:37.732656Z",
     "shell.execute_reply": "2025-01-22T13:10:37.732150Z"
    }
   },
   "outputs": [
    {
     "data": {
      "text/plain": [
       "sympy.core.add.Add"
      ]
     },
     "execution_count": 15,
     "metadata": {},
     "output_type": "execute_result"
    }
   ],
   "source": [
    "type(expr1)"
   ]
  },
  {
   "cell_type": "code",
   "execution_count": 16,
   "id": "0af11e96",
   "metadata": {
    "execution": {
     "iopub.execute_input": "2025-01-22T13:10:37.734097Z",
     "iopub.status.busy": "2025-01-22T13:10:37.733925Z",
     "iopub.status.idle": "2025-01-22T13:10:37.737498Z",
     "shell.execute_reply": "2025-01-22T13:10:37.737002Z"
    }
   },
   "outputs": [
    {
     "data": {
      "text/plain": [
       "\"Add(Symbol('a'), Mul(Symbol('b'), Pow(Symbol('omega'), Integer(-2))))\""
      ]
     },
     "execution_count": 16,
     "metadata": {},
     "output_type": "execute_result"
    }
   ],
   "source": [
    "sm.srepr(expr1)"
   ]
  },
  {
   "cell_type": "code",
   "execution_count": 17,
   "id": "0267d182",
   "metadata": {
    "execution": {
     "iopub.execute_input": "2025-01-22T13:10:37.738909Z",
     "iopub.status.busy": "2025-01-22T13:10:37.738617Z",
     "iopub.status.idle": "2025-01-22T13:10:37.742966Z",
     "shell.execute_reply": "2025-01-22T13:10:37.742499Z"
    }
   },
   "outputs": [
    {
     "data": {
      "text/latex": [
       "$\\displaystyle a \\omega + f{\\left(t \\right)}$"
      ],
      "text/plain": [
       "a⋅ω + f(t)"
      ]
     },
     "execution_count": 17,
     "metadata": {},
     "output_type": "execute_result"
    }
   ],
   "source": [
    "expr2 = f(t) + a*omega\n",
    "expr2"
   ]
  },
  {
   "cell_type": "code",
   "execution_count": 18,
   "id": "304bde94",
   "metadata": {
    "execution": {
     "iopub.execute_input": "2025-01-22T13:10:37.744379Z",
     "iopub.status.busy": "2025-01-22T13:10:37.744093Z",
     "iopub.status.idle": "2025-01-22T13:10:37.750169Z",
     "shell.execute_reply": "2025-01-22T13:10:37.749694Z"
    }
   },
   "outputs": [
    {
     "data": {
      "text/latex": [
       "$\\displaystyle a \\sin{\\left(\\omega \\right)} + \\frac{\\left|{f{\\left(t \\right)}}\\right|}{\\sqrt{b}}$"
      ],
      "text/plain": [
       "           │f(t)│\n",
       "a⋅sin(ω) + ──────\n",
       "             √b  "
      ]
     },
     "execution_count": 18,
     "metadata": {},
     "output_type": "execute_result"
    }
   ],
   "source": [
    "expr3 = a*sm.sin(omega) + sm.Abs(f(t))/sm.sqrt(b)\n",
    "expr3"
   ]
  },
  {
   "cell_type": "code",
   "execution_count": 19,
   "id": "6ad40906",
   "metadata": {
    "execution": {
     "iopub.execute_input": "2025-01-22T13:10:37.751531Z",
     "iopub.status.busy": "2025-01-22T13:10:37.751379Z",
     "iopub.status.idle": "2025-01-22T13:10:37.756475Z",
     "shell.execute_reply": "2025-01-22T13:10:37.755956Z"
    }
   },
   "outputs": [
    {
     "data": {
      "text/latex": [
       "$\\displaystyle 5 \\sin{\\left(12 \\right)} + 105.986768359379$"
      ],
      "text/plain": [
       "5⋅sin(12) + 105.986768359379"
      ]
     },
     "execution_count": 19,
     "metadata": {},
     "output_type": "execute_result"
    }
   ],
   "source": [
    "expr4 = 5*sm.sin(12) + sm.Abs(-1001)/sm.sqrt(89.2)\n",
    "expr4"
   ]
  },
  {
   "cell_type": "code",
   "execution_count": 20,
   "id": "95803a24",
   "metadata": {
    "execution": {
     "iopub.execute_input": "2025-01-22T13:10:37.758087Z",
     "iopub.status.busy": "2025-01-22T13:10:37.757713Z",
     "iopub.status.idle": "2025-01-22T13:10:37.761525Z",
     "shell.execute_reply": "2025-01-22T13:10:37.761126Z"
    }
   },
   "outputs": [
    {
     "data": {
      "text/latex": [
       "$\\displaystyle 0.5 a$"
      ],
      "text/plain": [
       "0.5⋅a"
      ]
     },
     "execution_count": 20,
     "metadata": {},
     "output_type": "execute_result"
    }
   ],
   "source": [
    "1/2*a"
   ]
  },
  {
   "cell_type": "code",
   "execution_count": 21,
   "id": "7f669824",
   "metadata": {
    "execution": {
     "iopub.execute_input": "2025-01-22T13:10:37.763014Z",
     "iopub.status.busy": "2025-01-22T13:10:37.762722Z",
     "iopub.status.idle": "2025-01-22T13:10:37.766275Z",
     "shell.execute_reply": "2025-01-22T13:10:37.765788Z"
    }
   },
   "outputs": [
    {
     "data": {
      "text/latex": [
       "$\\displaystyle \\frac{a}{2}$"
      ],
      "text/plain": [
       "a\n",
       "─\n",
       "2"
      ]
     },
     "execution_count": 21,
     "metadata": {},
     "output_type": "execute_result"
    }
   ],
   "source": [
    "sm.S(1)/2*a"
   ]
  },
  {
   "cell_type": "code",
   "execution_count": 22,
   "id": "433d08f4",
   "metadata": {
    "execution": {
     "iopub.execute_input": "2025-01-22T13:10:37.767591Z",
     "iopub.status.busy": "2025-01-22T13:10:37.767450Z",
     "iopub.status.idle": "2025-01-22T13:10:37.770852Z",
     "shell.execute_reply": "2025-01-22T13:10:37.770372Z"
    }
   },
   "outputs": [
    {
     "data": {
      "text/latex": [
       "$\\displaystyle \\frac{a}{2}$"
      ],
      "text/plain": [
       "a\n",
       "─\n",
       "2"
      ]
     },
     "execution_count": 22,
     "metadata": {},
     "output_type": "execute_result"
    }
   ],
   "source": [
    "a/2"
   ]
  },
  {
   "cell_type": "code",
   "execution_count": 23,
   "id": "540b55e9",
   "metadata": {
    "execution": {
     "iopub.execute_input": "2025-01-22T13:10:37.772261Z",
     "iopub.status.busy": "2025-01-22T13:10:37.772111Z",
     "iopub.status.idle": "2025-01-22T13:10:37.778060Z",
     "shell.execute_reply": "2025-01-22T13:10:37.777670Z"
    }
   },
   "outputs": [
    {
     "data": {
      "text/latex": [
       "$\\displaystyle t \\sin{\\left(\\omega f{\\left(t \\right)} \\right)} + \\frac{f{\\left(t \\right)}}{\\sqrt{t}}$"
      ],
      "text/plain": [
       "                f(t)\n",
       "t⋅sin(ω⋅f(t)) + ────\n",
       "                 √t "
      ]
     },
     "execution_count": 23,
     "metadata": {},
     "output_type": "execute_result"
    }
   ],
   "source": [
    "expr5 = t*sm.sin(omega*f(t)) + f(t)/sm.sqrt(t)\n",
    "expr5"
   ]
  },
  {
   "cell_type": "code",
   "execution_count": 24,
   "id": "a160c18b",
   "metadata": {
    "execution": {
     "iopub.execute_input": "2025-01-22T13:10:37.779399Z",
     "iopub.status.busy": "2025-01-22T13:10:37.779258Z",
     "iopub.status.idle": "2025-01-22T13:10:37.793100Z",
     "shell.execute_reply": "2025-01-22T13:10:37.792600Z"
    }
   },
   "outputs": [
    {
     "data": {
      "text/latex": [
       "$\\displaystyle \\frac{\\sqrt{2} e^{\\frac{\\left(- \\mu + x\\right)^{2}}{2 \\sigma^{2}}}}{2 \\sqrt{\\pi} \\sqrt{\\sigma}}$"
      ],
      "text/plain": [
       "            2\n",
       "    (-μ + x) \n",
       "    ─────────\n",
       "          2  \n",
       "       2⋅σ   \n",
       "√2⋅ℯ         \n",
       "─────────────\n",
       "   2⋅√π⋅√σ   "
      ]
     },
     "execution_count": 24,
     "metadata": {},
     "output_type": "execute_result"
    }
   ],
   "source": [
    "x, s, m = sm.symbols('x, sigma, mu')\n",
    "sm.exp((x-m)**2/2/s**2)/sm.sqrt(2*sm.pi*s)"
   ]
  },
  {
   "cell_type": "code",
   "execution_count": 25,
   "id": "0906b029",
   "metadata": {
    "execution": {
     "iopub.execute_input": "2025-01-22T13:10:37.794644Z",
     "iopub.status.busy": "2025-01-22T13:10:37.794263Z",
     "iopub.status.idle": "2025-01-22T13:10:37.797865Z",
     "shell.execute_reply": "2025-01-22T13:10:37.797397Z"
    }
   },
   "outputs": [
    {
     "data": {
      "text/plain": [
       "\"Add(Mul(Symbol('a'), sin(Symbol('omega'))), Mul(Pow(Symbol('b'), Rational(-1, 2)), Abs(Function('f')(Symbol('t')))))\""
      ]
     },
     "execution_count": 25,
     "metadata": {},
     "output_type": "execute_result"
    }
   ],
   "source": [
    "sm.srepr(expr3)"
   ]
  },
  {
   "cell_type": "code",
   "execution_count": 26,
   "id": "fbcb8fad",
   "metadata": {
    "execution": {
     "iopub.execute_input": "2025-01-22T13:10:37.799425Z",
     "iopub.status.busy": "2025-01-22T13:10:37.799012Z",
     "iopub.status.idle": "2025-01-22T13:10:37.802582Z",
     "shell.execute_reply": "2025-01-22T13:10:37.802114Z"
    }
   },
   "outputs": [
    {
     "data": {
      "text/plain": [
       "'a*sin(omega) + Abs(f(t))/sqrt(b)'"
      ]
     },
     "execution_count": 26,
     "metadata": {},
     "output_type": "execute_result"
    }
   ],
   "source": [
    "repr(expr3)"
   ]
  },
  {
   "cell_type": "code",
   "execution_count": 27,
   "id": "61812f0a",
   "metadata": {
    "execution": {
     "iopub.execute_input": "2025-01-22T13:10:37.804294Z",
     "iopub.status.busy": "2025-01-22T13:10:37.803820Z",
     "iopub.status.idle": "2025-01-22T13:10:37.806705Z",
     "shell.execute_reply": "2025-01-22T13:10:37.806309Z"
    }
   },
   "outputs": [
    {
     "name": "stdout",
     "output_type": "stream",
     "text": [
      "a*sin(omega) + Abs(f(t))/sqrt(b)\n"
     ]
    }
   ],
   "source": [
    "print(expr3)"
   ]
  },
  {
   "cell_type": "code",
   "execution_count": 28,
   "id": "6736b52d",
   "metadata": {
    "execution": {
     "iopub.execute_input": "2025-01-22T13:10:37.808138Z",
     "iopub.status.busy": "2025-01-22T13:10:37.807799Z",
     "iopub.status.idle": "2025-01-22T13:10:37.811089Z",
     "shell.execute_reply": "2025-01-22T13:10:37.810577Z"
    }
   },
   "outputs": [
    {
     "name": "stdout",
     "output_type": "stream",
     "text": [
      "           │f(t)│\n",
      "a⋅sin(ω) + ──────\n",
      "             √b  \n"
     ]
    }
   ],
   "source": [
    "sm.pprint(expr3)"
   ]
  },
  {
   "cell_type": "code",
   "execution_count": 29,
   "id": "0879f26e",
   "metadata": {
    "execution": {
     "iopub.execute_input": "2025-01-22T13:10:37.812708Z",
     "iopub.status.busy": "2025-01-22T13:10:37.812326Z",
     "iopub.status.idle": "2025-01-22T13:10:37.816118Z",
     "shell.execute_reply": "2025-01-22T13:10:37.815609Z"
    }
   },
   "outputs": [
    {
     "data": {
      "text/plain": [
       "'a \\\\sin{\\\\left(\\\\omega \\\\right)} + \\\\frac{\\\\left|{f{\\\\left(t \\\\right)}}\\\\right|}{\\\\sqrt{b}}'"
      ]
     },
     "execution_count": 29,
     "metadata": {},
     "output_type": "execute_result"
    }
   ],
   "source": [
    "sm.latex(expr3)"
   ]
  },
  {
   "cell_type": "code",
   "execution_count": 30,
   "id": "ee612d72",
   "metadata": {
    "execution": {
     "iopub.execute_input": "2025-01-22T13:10:37.817559Z",
     "iopub.status.busy": "2025-01-22T13:10:37.817407Z",
     "iopub.status.idle": "2025-01-22T13:10:37.820304Z",
     "shell.execute_reply": "2025-01-22T13:10:37.819898Z"
    }
   },
   "outputs": [
    {
     "name": "stdout",
     "output_type": "stream",
     "text": [
      "a \\sin{\\left(\\omega \\right)} + \\frac{\\left|{f{\\left(t \\right)}}\\right|}{\\sqrt{b}}\n"
     ]
    }
   ],
   "source": [
    "print(sm.latex(expr3))"
   ]
  },
  {
   "cell_type": "code",
   "execution_count": 31,
   "id": "84835324",
   "metadata": {
    "execution": {
     "iopub.execute_input": "2025-01-22T13:10:37.821572Z",
     "iopub.status.busy": "2025-01-22T13:10:37.821437Z",
     "iopub.status.idle": "2025-01-22T13:10:37.825136Z",
     "shell.execute_reply": "2025-01-22T13:10:37.824738Z"
    }
   },
   "outputs": [
    {
     "name": "stdout",
     "output_type": "stream",
     "text": [
      "\\begin{equation}\\frac{\\sqrt{2} e^{\\frac{\\left(- \\mu + x\\right)^{2}}{2 \\sigma^{2}}}}{2 \\sqrt{\\pi} \\sqrt{\\sigma}}\\end{equation}\n"
     ]
    }
   ],
   "source": [
    "x, s, m = sm.symbols('x, sigma, mu')\n",
    "print(sm.latex(sm.exp((x-m)**2/2/s**2)/sm.sqrt(2*sm.pi*s),\n",
    "               mode='equation'))"
   ]
  },
  {
   "cell_type": "code",
   "execution_count": 32,
   "id": "3ea0ee39",
   "metadata": {
    "execution": {
     "iopub.execute_input": "2025-01-22T13:10:37.826550Z",
     "iopub.status.busy": "2025-01-22T13:10:37.826248Z",
     "iopub.status.idle": "2025-01-22T13:10:37.830473Z",
     "shell.execute_reply": "2025-01-22T13:10:37.830064Z"
    }
   },
   "outputs": [
    {
     "data": {
      "text/latex": [
       "$\\displaystyle \\frac{d}{d t} f{\\left(t \\right)}$"
      ],
      "text/plain": [
       "d       \n",
       "──(f(t))\n",
       "dt      "
      ]
     },
     "execution_count": 32,
     "metadata": {},
     "output_type": "execute_result"
    }
   ],
   "source": [
    "sm.diff(f(t), t)"
   ]
  },
  {
   "cell_type": "code",
   "execution_count": 33,
   "id": "fc44ae64",
   "metadata": {
    "execution": {
     "iopub.execute_input": "2025-01-22T13:10:37.831760Z",
     "iopub.status.busy": "2025-01-22T13:10:37.831562Z",
     "iopub.status.idle": "2025-01-22T13:10:37.835575Z",
     "shell.execute_reply": "2025-01-22T13:10:37.835098Z"
    }
   },
   "outputs": [
    {
     "data": {
      "text/latex": [
       "$\\displaystyle \\frac{d}{d t} f{\\left(t \\right)}$"
      ],
      "text/plain": [
       "d       \n",
       "──(f(t))\n",
       "dt      "
      ]
     },
     "execution_count": 33,
     "metadata": {},
     "output_type": "execute_result"
    }
   ],
   "source": [
    "f(t).diff(t)"
   ]
  },
  {
   "cell_type": "code",
   "execution_count": 34,
   "id": "e766b878",
   "metadata": {
    "execution": {
     "iopub.execute_input": "2025-01-22T13:10:37.836952Z",
     "iopub.status.busy": "2025-01-22T13:10:37.836805Z",
     "iopub.status.idle": "2025-01-22T13:10:37.840889Z",
     "shell.execute_reply": "2025-01-22T13:10:37.840427Z"
    }
   },
   "outputs": [
    {
     "data": {
      "text/latex": [
       "$\\displaystyle a \\sin{\\left(\\omega \\right)} + \\frac{\\left|{f{\\left(t \\right)}}\\right|}{\\sqrt{b}}$"
      ],
      "text/plain": [
       "           │f(t)│\n",
       "a⋅sin(ω) + ──────\n",
       "             √b  "
      ]
     },
     "execution_count": 34,
     "metadata": {},
     "output_type": "execute_result"
    }
   ],
   "source": [
    "expr3"
   ]
  },
  {
   "cell_type": "code",
   "execution_count": 35,
   "id": "124a4e41",
   "metadata": {
    "execution": {
     "iopub.execute_input": "2025-01-22T13:10:37.842196Z",
     "iopub.status.busy": "2025-01-22T13:10:37.842032Z",
     "iopub.status.idle": "2025-01-22T13:10:37.849324Z",
     "shell.execute_reply": "2025-01-22T13:10:37.848856Z"
    }
   },
   "outputs": [
    {
     "data": {
      "text/latex": [
       "$\\displaystyle - \\frac{\\left|{f{\\left(t \\right)}}\\right|}{2 b^{\\frac{3}{2}}}$"
      ],
      "text/plain": [
       "-│f(t)│ \n",
       "────────\n",
       "    3/2 \n",
       " 2⋅b    "
      ]
     },
     "execution_count": 35,
     "metadata": {},
     "output_type": "execute_result"
    }
   ],
   "source": [
    "expr3.diff(b)"
   ]
  },
  {
   "cell_type": "code",
   "execution_count": 36,
   "id": "9d175856",
   "metadata": {
    "execution": {
     "iopub.execute_input": "2025-01-22T13:10:37.850702Z",
     "iopub.status.busy": "2025-01-22T13:10:37.850410Z",
     "iopub.status.idle": "2025-01-22T13:10:37.867933Z",
     "shell.execute_reply": "2025-01-22T13:10:37.867439Z"
    }
   },
   "outputs": [
    {
     "data": {
      "text/latex": [
       "$\\displaystyle - \\frac{\\left(\\operatorname{re}{\\left(f{\\left(t \\right)}\\right)} \\frac{d}{d t} \\operatorname{re}{\\left(f{\\left(t \\right)}\\right)} + \\operatorname{im}{\\left(f{\\left(t \\right)}\\right)} \\frac{d}{d t} \\operatorname{im}{\\left(f{\\left(t \\right)}\\right)}\\right) \\operatorname{sign}{\\left(f{\\left(t \\right)} \\right)}}{2 b^{\\frac{3}{2}} f{\\left(t \\right)}}$"
      ],
      "text/plain": [
       " ⎛         d                       d           ⎞            \n",
       "-⎜re(f(t))⋅──(re(f(t))) + im(f(t))⋅──(im(f(t)))⎟⋅sign(f(t)) \n",
       " ⎝         dt                      dt          ⎠            \n",
       "────────────────────────────────────────────────────────────\n",
       "                           3/2                              \n",
       "                        2⋅b   ⋅f(t)                         "
      ]
     },
     "execution_count": 36,
     "metadata": {},
     "output_type": "execute_result"
    }
   ],
   "source": [
    "expr3.diff(b, t)"
   ]
  },
  {
   "cell_type": "code",
   "execution_count": 37,
   "id": "a98cabfd",
   "metadata": {
    "execution": {
     "iopub.execute_input": "2025-01-22T13:10:37.869462Z",
     "iopub.status.busy": "2025-01-22T13:10:37.869300Z",
     "iopub.status.idle": "2025-01-22T13:10:37.884880Z",
     "shell.execute_reply": "2025-01-22T13:10:37.884387Z"
    }
   },
   "outputs": [
    {
     "data": {
      "text/latex": [
       "$\\displaystyle \\frac{\\left(\\operatorname{re}{\\left(h{\\left(t \\right)}\\right)} \\frac{d}{d t} \\operatorname{re}{\\left(h{\\left(t \\right)}\\right)} + \\operatorname{im}{\\left(h{\\left(t \\right)}\\right)} \\frac{d}{d t} \\operatorname{im}{\\left(h{\\left(t \\right)}\\right)}\\right) \\operatorname{sign}{\\left(h{\\left(t \\right)} \\right)}}{h{\\left(t \\right)}}$"
      ],
      "text/plain": [
       "⎛         d                       d           ⎞           \n",
       "⎜re(h(t))⋅──(re(h(t))) + im(h(t))⋅──(im(h(t)))⎟⋅sign(h(t))\n",
       "⎝         dt                      dt          ⎠           \n",
       "──────────────────────────────────────────────────────────\n",
       "                           h(t)                           "
      ]
     },
     "execution_count": 37,
     "metadata": {},
     "output_type": "execute_result"
    }
   ],
   "source": [
    "h = sm.Function('h')\n",
    "sm.Abs(h(t)).diff(t)"
   ]
  },
  {
   "cell_type": "code",
   "execution_count": 38,
   "id": "35af0292",
   "metadata": {
    "execution": {
     "iopub.execute_input": "2025-01-22T13:10:37.886441Z",
     "iopub.status.busy": "2025-01-22T13:10:37.886152Z",
     "iopub.status.idle": "2025-01-22T13:10:37.892013Z",
     "shell.execute_reply": "2025-01-22T13:10:37.891524Z"
    }
   },
   "outputs": [
    {
     "data": {
      "text/latex": [
       "$\\displaystyle \\operatorname{sign}{\\left(h{\\left(t \\right)} \\right)} \\frac{d}{d t} h{\\left(t \\right)}$"
      ],
      "text/plain": [
       "           d       \n",
       "sign(h(t))⋅──(h(t))\n",
       "           dt      "
      ]
     },
     "execution_count": 38,
     "metadata": {},
     "output_type": "execute_result"
    }
   ],
   "source": [
    "h = sm.Function('h', real=True)\n",
    "sm.Abs(h(t)).diff(t)"
   ]
  },
  {
   "cell_type": "code",
   "execution_count": 39,
   "id": "5bb9610b",
   "metadata": {
    "execution": {
     "iopub.execute_input": "2025-01-22T13:10:37.893421Z",
     "iopub.status.busy": "2025-01-22T13:10:37.893138Z",
     "iopub.status.idle": "2025-01-22T13:10:37.897630Z",
     "shell.execute_reply": "2025-01-22T13:10:37.897147Z"
    }
   },
   "outputs": [
    {
     "data": {
      "text/latex": [
       "$\\displaystyle \\frac{d}{d t} h{\\left(t \\right)}$"
      ],
      "text/plain": [
       "d       \n",
       "──(h(t))\n",
       "dt      "
      ]
     },
     "execution_count": 39,
     "metadata": {},
     "output_type": "execute_result"
    }
   ],
   "source": [
    "h = sm.Function('h', real=True, positive=True)\n",
    "sm.Abs(h(t)).diff(t)"
   ]
  },
  {
   "cell_type": "code",
   "execution_count": 40,
   "id": "5086c6b4",
   "metadata": {
    "execution": {
     "iopub.execute_input": "2025-01-22T13:10:37.898976Z",
     "iopub.status.busy": "2025-01-22T13:10:37.898835Z",
     "iopub.status.idle": "2025-01-22T13:10:37.903288Z",
     "shell.execute_reply": "2025-01-22T13:10:37.902879Z"
    }
   },
   "outputs": [
    {
     "data": {
      "text/latex": [
       "$\\displaystyle t \\sin{\\left(\\omega f{\\left(t \\right)} \\right)} + \\frac{f{\\left(t \\right)}}{\\sqrt{t}}$"
      ],
      "text/plain": [
       "                f(t)\n",
       "t⋅sin(ω⋅f(t)) + ────\n",
       "                 √t "
      ]
     },
     "execution_count": 40,
     "metadata": {},
     "output_type": "execute_result"
    }
   ],
   "source": [
    "expr5"
   ]
  },
  {
   "cell_type": "code",
   "execution_count": 41,
   "id": "7856365a",
   "metadata": {
    "execution": {
     "iopub.execute_input": "2025-01-22T13:10:37.904562Z",
     "iopub.status.busy": "2025-01-22T13:10:37.904425Z",
     "iopub.status.idle": "2025-01-22T13:10:37.920268Z",
     "shell.execute_reply": "2025-01-22T13:10:37.919783Z"
    }
   },
   "outputs": [
    {
     "data": {
      "text/latex": [
       "$\\displaystyle - \\omega t f{\\left(t \\right)} \\sin{\\left(\\omega f{\\left(t \\right)} \\right)} \\frac{d}{d t} f{\\left(t \\right)} + t \\cos{\\left(\\omega f{\\left(t \\right)} \\right)} \\frac{d}{d t} f{\\left(t \\right)} + f{\\left(t \\right)} \\cos{\\left(\\omega f{\\left(t \\right)} \\right)}$"
      ],
      "text/plain": [
       "                       d                        d                          \n",
       "- ω⋅t⋅f(t)⋅sin(ω⋅f(t))⋅──(f(t)) + t⋅cos(ω⋅f(t))⋅──(f(t)) + f(t)⋅cos(ω⋅f(t))\n",
       "                       dt                       dt                         "
      ]
     },
     "execution_count": 41,
     "metadata": {},
     "output_type": "execute_result"
    }
   ],
   "source": [
    "expr5.diff(t, omega)"
   ]
  },
  {
   "cell_type": "code",
   "execution_count": 42,
   "id": "5cdafb47",
   "metadata": {
    "execution": {
     "iopub.execute_input": "2025-01-22T13:10:37.921740Z",
     "iopub.status.busy": "2025-01-22T13:10:37.921497Z",
     "iopub.status.idle": "2025-01-22T13:10:37.937010Z",
     "shell.execute_reply": "2025-01-22T13:10:37.936519Z"
    }
   },
   "outputs": [
    {
     "data": {
      "text/latex": [
       "$\\displaystyle - \\omega t f{\\left(t \\right)} \\sin{\\left(\\omega f{\\left(t \\right)} \\right)} \\frac{d}{d t} f{\\left(t \\right)} + t \\cos{\\left(\\omega f{\\left(t \\right)} \\right)} \\frac{d}{d t} f{\\left(t \\right)} + f{\\left(t \\right)} \\cos{\\left(\\omega f{\\left(t \\right)} \\right)}$"
      ],
      "text/plain": [
       "                       d                        d                          \n",
       "- ω⋅t⋅f(t)⋅sin(ω⋅f(t))⋅──(f(t)) + t⋅cos(ω⋅f(t))⋅──(f(t)) + f(t)⋅cos(ω⋅f(t))\n",
       "                       dt                       dt                         "
      ]
     },
     "execution_count": 42,
     "metadata": {},
     "output_type": "execute_result"
    }
   ],
   "source": [
    "expr5.diff(t).diff(omega)"
   ]
  },
  {
   "cell_type": "code",
   "execution_count": 43,
   "id": "6658eddd",
   "metadata": {
    "execution": {
     "iopub.execute_input": "2025-01-22T13:10:37.938361Z",
     "iopub.status.busy": "2025-01-22T13:10:37.938212Z",
     "iopub.status.idle": "2025-01-22T13:10:37.940609Z",
     "shell.execute_reply": "2025-01-22T13:10:37.940229Z"
    }
   },
   "outputs": [],
   "source": [
    "repl = {omega: sm.pi/4, a: 2, f(t): -12, b: 25}"
   ]
  },
  {
   "cell_type": "code",
   "execution_count": 44,
   "id": "cded9b60",
   "metadata": {
    "execution": {
     "iopub.execute_input": "2025-01-22T13:10:37.941950Z",
     "iopub.status.busy": "2025-01-22T13:10:37.941814Z",
     "iopub.status.idle": "2025-01-22T13:10:37.948370Z",
     "shell.execute_reply": "2025-01-22T13:10:37.947872Z"
    }
   },
   "outputs": [
    {
     "data": {
      "text/latex": [
       "$\\displaystyle \\sqrt{2} + \\frac{12}{5}$"
      ],
      "text/plain": [
       "√2 + 12/5"
      ]
     },
     "execution_count": 44,
     "metadata": {},
     "output_type": "execute_result"
    }
   ],
   "source": [
    "expr3.xreplace(repl)"
   ]
  },
  {
   "cell_type": "code",
   "execution_count": 45,
   "id": "71650707",
   "metadata": {
    "execution": {
     "iopub.execute_input": "2025-01-22T13:10:37.949758Z",
     "iopub.status.busy": "2025-01-22T13:10:37.949617Z",
     "iopub.status.idle": "2025-01-22T13:10:37.954016Z",
     "shell.execute_reply": "2025-01-22T13:10:37.953589Z"
    }
   },
   "outputs": [
    {
     "data": {
      "text/latex": [
       "$\\displaystyle 3.814213562$"
      ],
      "text/plain": [
       "3.814213562"
      ]
     },
     "execution_count": 45,
     "metadata": {},
     "output_type": "execute_result"
    }
   ],
   "source": [
    "expr3.evalf(n=10, subs=repl)"
   ]
  },
  {
   "cell_type": "code",
   "execution_count": 46,
   "id": "1f806662",
   "metadata": {
    "execution": {
     "iopub.execute_input": "2025-01-22T13:10:37.955502Z",
     "iopub.status.busy": "2025-01-22T13:10:37.955143Z",
     "iopub.status.idle": "2025-01-22T13:10:37.959337Z",
     "shell.execute_reply": "2025-01-22T13:10:37.958836Z"
    }
   },
   "outputs": [
    {
     "data": {
      "text/plain": [
       "sympy.core.numbers.Float"
      ]
     },
     "execution_count": 46,
     "metadata": {},
     "output_type": "execute_result"
    }
   ],
   "source": [
    "type(expr3.evalf(n=10, subs=repl))"
   ]
  },
  {
   "cell_type": "code",
   "execution_count": 47,
   "id": "95e926e9",
   "metadata": {
    "execution": {
     "iopub.execute_input": "2025-01-22T13:10:37.960921Z",
     "iopub.status.busy": "2025-01-22T13:10:37.960634Z",
     "iopub.status.idle": "2025-01-22T13:10:37.964971Z",
     "shell.execute_reply": "2025-01-22T13:10:37.964502Z"
    }
   },
   "outputs": [
    {
     "data": {
      "text/latex": [
       "$\\displaystyle 3.814213562373095048801688724209698078569671875376948073176679737990732478462107$"
      ],
      "text/plain": [
       "3.8142135623730950488016887242096980785696718753769480731766797379907324784621\n",
       "070"
      ]
     },
     "execution_count": 47,
     "metadata": {},
     "output_type": "execute_result"
    }
   ],
   "source": [
    "expr3.evalf(n=80, subs=repl)"
   ]
  },
  {
   "cell_type": "code",
   "execution_count": 48,
   "id": "99643d52",
   "metadata": {
    "execution": {
     "iopub.execute_input": "2025-01-22T13:10:37.966681Z",
     "iopub.status.busy": "2025-01-22T13:10:37.966232Z",
     "iopub.status.idle": "2025-01-22T13:10:37.970794Z",
     "shell.execute_reply": "2025-01-22T13:10:37.970400Z"
    }
   },
   "outputs": [
    {
     "data": {
      "text/latex": [
       "$\\displaystyle 3.81421356237309$"
      ],
      "text/plain": [
       "3.814213562373095"
      ]
     },
     "execution_count": 48,
     "metadata": {},
     "output_type": "execute_result"
    }
   ],
   "source": [
    "float(expr3.evalf(n=300, subs=repl))"
   ]
  },
  {
   "cell_type": "code",
   "execution_count": 49,
   "id": "d78a18d0",
   "metadata": {
    "execution": {
     "iopub.execute_input": "2025-01-22T13:10:37.972034Z",
     "iopub.status.busy": "2025-01-22T13:10:37.971898Z",
     "iopub.status.idle": "2025-01-22T13:10:37.976171Z",
     "shell.execute_reply": "2025-01-22T13:10:37.975677Z"
    }
   },
   "outputs": [
    {
     "data": {
      "text/plain": [
       "float"
      ]
     },
     "execution_count": 49,
     "metadata": {},
     "output_type": "execute_result"
    }
   ],
   "source": [
    "type(float(expr3.evalf(n=300, subs=repl)))"
   ]
  },
  {
   "cell_type": "code",
   "execution_count": 50,
   "id": "895c6d47",
   "metadata": {
    "execution": {
     "iopub.execute_input": "2025-01-22T13:10:37.977695Z",
     "iopub.status.busy": "2025-01-22T13:10:37.977405Z",
     "iopub.status.idle": "2025-01-22T13:10:37.981540Z",
     "shell.execute_reply": "2025-01-22T13:10:37.981075Z"
    }
   },
   "outputs": [
    {
     "data": {
      "text/latex": [
       "$\\displaystyle a \\sin{\\left(\\omega \\right)} + \\frac{\\left|{f{\\left(t \\right)}}\\right|}{\\sqrt{b}}$"
      ],
      "text/plain": [
       "           │f(t)│\n",
       "a⋅sin(ω) + ──────\n",
       "             √b  "
      ]
     },
     "execution_count": 50,
     "metadata": {},
     "output_type": "execute_result"
    }
   ],
   "source": [
    "expr3"
   ]
  },
  {
   "cell_type": "code",
   "execution_count": 51,
   "id": "838324f3",
   "metadata": {
    "execution": {
     "iopub.execute_input": "2025-01-22T13:10:37.983085Z",
     "iopub.status.busy": "2025-01-22T13:10:37.982776Z",
     "iopub.status.idle": "2025-01-22T13:10:38.097573Z",
     "shell.execute_reply": "2025-01-22T13:10:38.097079Z"
    }
   },
   "outputs": [],
   "source": [
    "eval_expr3 = sm.lambdify((omega, a, f(t), b), expr3)"
   ]
  },
  {
   "cell_type": "code",
   "execution_count": 52,
   "id": "ea29bd83",
   "metadata": {
    "execution": {
     "iopub.execute_input": "2025-01-22T13:10:38.099984Z",
     "iopub.status.busy": "2025-01-22T13:10:38.099518Z",
     "iopub.status.idle": "2025-01-22T13:10:38.102693Z",
     "shell.execute_reply": "2025-01-22T13:10:38.102211Z"
    }
   },
   "outputs": [
    {
     "name": "stdout",
     "output_type": "stream",
     "text": [
      "Help on function _lambdifygenerated:\n",
      "\n",
      "_lambdifygenerated(omega, a, _Dummy_38, b)\n",
      "    Created with lambdify. Signature:\n",
      "    \n",
      "    func(omega, a, f, b)\n",
      "    \n",
      "    Expression:\n",
      "    \n",
      "    a*sin(omega) + Abs(f(t))/sqrt(b)\n",
      "    \n",
      "    Source code:\n",
      "    \n",
      "    def _lambdifygenerated(omega, a, _Dummy_38, b):\n",
      "        return a*sin(omega) + abs(_Dummy_38)/sqrt(b)\n",
      "    \n",
      "    \n",
      "    Imported modules:\n",
      "\n"
     ]
    }
   ],
   "source": [
    "help(eval_expr3)"
   ]
  },
  {
   "cell_type": "code",
   "execution_count": 53,
   "id": "d992a886",
   "metadata": {
    "execution": {
     "iopub.execute_input": "2025-01-22T13:10:38.104154Z",
     "iopub.status.busy": "2025-01-22T13:10:38.103829Z",
     "iopub.status.idle": "2025-01-22T13:10:38.107335Z",
     "shell.execute_reply": "2025-01-22T13:10:38.106934Z"
    }
   },
   "outputs": [
    {
     "data": {
      "text/latex": [
       "$\\displaystyle 3.81365036221073$"
      ],
      "text/plain": [
       "3.8136503622107316"
      ]
     },
     "execution_count": 53,
     "metadata": {},
     "output_type": "execute_result"
    }
   ],
   "source": [
    "eval_expr3(3.14/4, 2, -12, 25)"
   ]
  },
  {
   "cell_type": "code",
   "execution_count": 54,
   "id": "eaaf59f7",
   "metadata": {
    "execution": {
     "iopub.execute_input": "2025-01-22T13:10:38.108865Z",
     "iopub.status.busy": "2025-01-22T13:10:38.108568Z",
     "iopub.status.idle": "2025-01-22T13:10:38.111927Z",
     "shell.execute_reply": "2025-01-22T13:10:38.111440Z"
    }
   },
   "outputs": [
    {
     "data": {
      "text/plain": [
       "numpy.float64"
      ]
     },
     "execution_count": 54,
     "metadata": {},
     "output_type": "execute_result"
    }
   ],
   "source": [
    "type(eval_expr3(3.14/4, 2, -12, 25))"
   ]
  },
  {
   "cell_type": "code",
   "execution_count": 55,
   "id": "17f4c5e4",
   "metadata": {
    "execution": {
     "iopub.execute_input": "2025-01-22T13:10:38.113289Z",
     "iopub.status.busy": "2025-01-22T13:10:38.113148Z",
     "iopub.status.idle": "2025-01-22T13:10:38.116717Z",
     "shell.execute_reply": "2025-01-22T13:10:38.116228Z"
    }
   },
   "outputs": [
    {
     "data": {
      "text/plain": [
       "array([3.81365036, 3.76704398, 3.72305144])"
      ]
     },
     "execution_count": 55,
     "metadata": {},
     "output_type": "execute_result"
    }
   ],
   "source": [
    "eval_expr3(3.14/4, 2, -12, [25, 26, 27])"
   ]
  },
  {
   "cell_type": "code",
   "execution_count": 56,
   "id": "32389d38",
   "metadata": {
    "execution": {
     "iopub.execute_input": "2025-01-22T13:10:38.118085Z",
     "iopub.status.busy": "2025-01-22T13:10:38.117920Z",
     "iopub.status.idle": "2025-01-22T13:10:38.121382Z",
     "shell.execute_reply": "2025-01-22T13:10:38.120958Z"
    }
   },
   "outputs": [
    {
     "data": {
      "text/plain": [
       "numpy.ndarray"
      ]
     },
     "execution_count": 56,
     "metadata": {},
     "output_type": "execute_result"
    }
   ],
   "source": [
    "type(eval_expr3(3.14/4, 2, -12, [25, 26, 27]))"
   ]
  },
  {
   "cell_type": "code",
   "execution_count": 57,
   "id": "924a58cd",
   "metadata": {
    "execution": {
     "iopub.execute_input": "2025-01-22T13:10:38.122714Z",
     "iopub.status.busy": "2025-01-22T13:10:38.122559Z",
     "iopub.status.idle": "2025-01-22T13:10:38.161508Z",
     "shell.execute_reply": "2025-01-22T13:10:38.161069Z"
    }
   },
   "outputs": [
    {
     "data": {
      "text/latex": [
       "$\\displaystyle 785.597874097975$"
      ],
      "text/plain": [
       "785.5978740979749"
      ]
     },
     "execution_count": 57,
     "metadata": {},
     "output_type": "execute_result"
    }
   ],
   "source": [
    "G, m1, m2, r = sm.symbols('G, m1, m2, r')\n",
    "F = G*m1*m2/r**2\n",
    "eval_F = sm.lambdify((G, m1, m2, r), F)\n",
    "eval_F(6.67430E-11, 5.972E24, 80, 6371E3)"
   ]
  },
  {
   "cell_type": "code",
   "execution_count": 58,
   "id": "43273295",
   "metadata": {
    "execution": {
     "iopub.execute_input": "2025-01-22T13:10:38.162878Z",
     "iopub.status.busy": "2025-01-22T13:10:38.162720Z",
     "iopub.status.idle": "2025-01-22T13:10:38.167682Z",
     "shell.execute_reply": "2025-01-22T13:10:38.167290Z"
    }
   },
   "outputs": [
    {
     "data": {
      "text/latex": [
       "$\\displaystyle \\left[\\begin{matrix}a & 2 a\\\\\\frac{b}{\\omega} & f{\\left(t \\right)}\\end{matrix}\\right]$"
      ],
      "text/plain": [
       "⎡a  2⋅a ⎤\n",
       "⎢       ⎥\n",
       "⎢b      ⎥\n",
       "⎢─  f(t)⎥\n",
       "⎣ω      ⎦"
      ]
     },
     "execution_count": 58,
     "metadata": {},
     "output_type": "execute_result"
    }
   ],
   "source": [
    "mat1 = sm.Matrix([[a, 2*a], [b/omega, f(t)]])\n",
    "mat1"
   ]
  },
  {
   "cell_type": "code",
   "execution_count": 59,
   "id": "dbf2a01b",
   "metadata": {
    "execution": {
     "iopub.execute_input": "2025-01-22T13:10:38.169083Z",
     "iopub.status.busy": "2025-01-22T13:10:38.168912Z",
     "iopub.status.idle": "2025-01-22T13:10:38.173072Z",
     "shell.execute_reply": "2025-01-22T13:10:38.172544Z"
    }
   },
   "outputs": [
    {
     "data": {
      "text/latex": [
       "$\\displaystyle \\left[\\begin{matrix}1 & 2\\\\3 & 4\\end{matrix}\\right]$"
      ],
      "text/plain": [
       "⎡1  2⎤\n",
       "⎢    ⎥\n",
       "⎣3  4⎦"
      ]
     },
     "execution_count": 59,
     "metadata": {},
     "output_type": "execute_result"
    }
   ],
   "source": [
    "mat2 = sm.Matrix([[1, 2], [3, 4]])\n",
    "mat2"
   ]
  },
  {
   "cell_type": "code",
   "execution_count": 60,
   "id": "5a78e1ae",
   "metadata": {
    "execution": {
     "iopub.execute_input": "2025-01-22T13:10:38.174611Z",
     "iopub.status.busy": "2025-01-22T13:10:38.174308Z",
     "iopub.status.idle": "2025-01-22T13:10:38.177674Z",
     "shell.execute_reply": "2025-01-22T13:10:38.177269Z"
    }
   },
   "outputs": [
    {
     "data": {
      "text/latex": [
       "$\\displaystyle \\left( 2, \\  2\\right)$"
      ],
      "text/plain": [
       "(2, 2)"
      ]
     },
     "execution_count": 60,
     "metadata": {},
     "output_type": "execute_result"
    }
   ],
   "source": [
    "mat1.shape"
   ]
  },
  {
   "cell_type": "code",
   "execution_count": 61,
   "id": "633606f4",
   "metadata": {
    "execution": {
     "iopub.execute_input": "2025-01-22T13:10:38.179146Z",
     "iopub.status.busy": "2025-01-22T13:10:38.178758Z",
     "iopub.status.idle": "2025-01-22T13:10:38.182227Z",
     "shell.execute_reply": "2025-01-22T13:10:38.181817Z"
    }
   },
   "outputs": [
    {
     "data": {
      "text/latex": [
       "$\\displaystyle 2 a$"
      ],
      "text/plain": [
       "2⋅a"
      ]
     },
     "execution_count": 61,
     "metadata": {},
     "output_type": "execute_result"
    }
   ],
   "source": [
    "mat1[0, 1]"
   ]
  },
  {
   "cell_type": "code",
   "execution_count": 62,
   "id": "11244fb7",
   "metadata": {
    "execution": {
     "iopub.execute_input": "2025-01-22T13:10:38.183741Z",
     "iopub.status.busy": "2025-01-22T13:10:38.183371Z",
     "iopub.status.idle": "2025-01-22T13:10:38.187378Z",
     "shell.execute_reply": "2025-01-22T13:10:38.186874Z"
    }
   },
   "outputs": [
    {
     "data": {
      "text/latex": [
       "$\\displaystyle \\left[\\begin{matrix}a & 2 a\\end{matrix}\\right]$"
      ],
      "text/plain": [
       "[a  2⋅a]"
      ]
     },
     "execution_count": 62,
     "metadata": {},
     "output_type": "execute_result"
    }
   ],
   "source": [
    "mat1[0, 0:2]"
   ]
  },
  {
   "cell_type": "code",
   "execution_count": 63,
   "id": "0396809c",
   "metadata": {
    "execution": {
     "iopub.execute_input": "2025-01-22T13:10:38.188963Z",
     "iopub.status.busy": "2025-01-22T13:10:38.188588Z",
     "iopub.status.idle": "2025-01-22T13:10:38.192464Z",
     "shell.execute_reply": "2025-01-22T13:10:38.192071Z"
    }
   },
   "outputs": [
    {
     "data": {
      "text/latex": [
       "$\\displaystyle \\left[\\begin{matrix}2 a\\\\f{\\left(t \\right)}\\end{matrix}\\right]$"
      ],
      "text/plain": [
       "⎡2⋅a ⎤\n",
       "⎢    ⎥\n",
       "⎣f(t)⎦"
      ]
     },
     "execution_count": 63,
     "metadata": {},
     "output_type": "execute_result"
    }
   ],
   "source": [
    "mat1[0:2, 1]"
   ]
  },
  {
   "cell_type": "code",
   "execution_count": 64,
   "id": "bbbdb1e8",
   "metadata": {
    "execution": {
     "iopub.execute_input": "2025-01-22T13:10:38.193895Z",
     "iopub.status.busy": "2025-01-22T13:10:38.193605Z",
     "iopub.status.idle": "2025-01-22T13:10:38.199192Z",
     "shell.execute_reply": "2025-01-22T13:10:38.198759Z"
    }
   },
   "outputs": [
    {
     "data": {
      "text/latex": [
       "$\\displaystyle \\left[\\begin{matrix}a + 1 & 2 a + 2\\\\\\frac{b}{\\omega} + 3 & f{\\left(t \\right)} + 4\\end{matrix}\\right]$"
      ],
      "text/plain": [
       "⎡a + 1  2⋅a + 2 ⎤\n",
       "⎢               ⎥\n",
       "⎢b              ⎥\n",
       "⎢─ + 3  f(t) + 4⎥\n",
       "⎣ω              ⎦"
      ]
     },
     "execution_count": 64,
     "metadata": {},
     "output_type": "execute_result"
    }
   ],
   "source": [
    "mat1 + mat2"
   ]
  },
  {
   "cell_type": "code",
   "execution_count": 65,
   "id": "040af732",
   "metadata": {
    "execution": {
     "iopub.execute_input": "2025-01-22T13:10:38.200498Z",
     "iopub.status.busy": "2025-01-22T13:10:38.200359Z",
     "iopub.status.idle": "2025-01-22T13:10:38.207529Z",
     "shell.execute_reply": "2025-01-22T13:10:38.207130Z"
    }
   },
   "outputs": [
    {
     "data": {
      "text/latex": [
       "$\\displaystyle \\left[\\begin{matrix}7 a & 10 a\\\\\\frac{b}{\\omega} + 3 f{\\left(t \\right)} & \\frac{2 b}{\\omega} + 4 f{\\left(t \\right)}\\end{matrix}\\right]$"
      ],
      "text/plain": [
       "⎡   7⋅a          10⋅a    ⎤\n",
       "⎢                        ⎥\n",
       "⎢b           2⋅b         ⎥\n",
       "⎢─ + 3⋅f(t)  ─── + 4⋅f(t)⎥\n",
       "⎣ω            ω          ⎦"
      ]
     },
     "execution_count": 65,
     "metadata": {},
     "output_type": "execute_result"
    }
   ],
   "source": [
    "mat1*mat2"
   ]
  },
  {
   "cell_type": "code",
   "execution_count": 66,
   "id": "c7ac3507",
   "metadata": {
    "execution": {
     "iopub.execute_input": "2025-01-22T13:10:38.208787Z",
     "iopub.status.busy": "2025-01-22T13:10:38.208649Z",
     "iopub.status.idle": "2025-01-22T13:10:38.214461Z",
     "shell.execute_reply": "2025-01-22T13:10:38.214066Z"
    }
   },
   "outputs": [
    {
     "data": {
      "text/latex": [
       "$\\displaystyle \\left[\\begin{matrix}7 a & 10 a\\\\\\frac{b}{\\omega} + 3 f{\\left(t \\right)} & \\frac{2 b}{\\omega} + 4 f{\\left(t \\right)}\\end{matrix}\\right]$"
      ],
      "text/plain": [
       "⎡   7⋅a          10⋅a    ⎤\n",
       "⎢                        ⎥\n",
       "⎢b           2⋅b         ⎥\n",
       "⎢─ + 3⋅f(t)  ─── + 4⋅f(t)⎥\n",
       "⎣ω            ω          ⎦"
      ]
     },
     "execution_count": 66,
     "metadata": {},
     "output_type": "execute_result"
    }
   ],
   "source": [
    "mat1@mat2"
   ]
  },
  {
   "cell_type": "code",
   "execution_count": 67,
   "id": "7b0345d5",
   "metadata": {
    "execution": {
     "iopub.execute_input": "2025-01-22T13:10:38.215717Z",
     "iopub.status.busy": "2025-01-22T13:10:38.215579Z",
     "iopub.status.idle": "2025-01-22T13:10:38.221095Z",
     "shell.execute_reply": "2025-01-22T13:10:38.220692Z"
    }
   },
   "outputs": [
    {
     "data": {
      "text/latex": [
       "$\\displaystyle \\left[\\begin{matrix}a & 4 a\\\\\\frac{3 b}{\\omega} & 4 f{\\left(t \\right)}\\end{matrix}\\right]$"
      ],
      "text/plain": [
       "⎡ a    4⋅a  ⎤\n",
       "⎢           ⎥\n",
       "⎢3⋅b        ⎥\n",
       "⎢───  4⋅f(t)⎥\n",
       "⎣ ω         ⎦"
      ]
     },
     "execution_count": 67,
     "metadata": {},
     "output_type": "execute_result"
    }
   ],
   "source": [
    "sm.hadamard_product(mat1, mat2)"
   ]
  },
  {
   "cell_type": "code",
   "execution_count": 68,
   "id": "3339e627",
   "metadata": {
    "execution": {
     "iopub.execute_input": "2025-01-22T13:10:38.222375Z",
     "iopub.status.busy": "2025-01-22T13:10:38.222239Z",
     "iopub.status.idle": "2025-01-22T13:10:38.229927Z",
     "shell.execute_reply": "2025-01-22T13:10:38.229431Z"
    }
   },
   "outputs": [
    {
     "data": {
      "text/latex": [
       "$\\displaystyle \\left[\\begin{matrix}a + \\frac{b}{\\omega^{2}}\\\\a \\omega + f{\\left(t \\right)}\\\\a \\sin{\\left(\\omega \\right)} + \\frac{\\left|{f{\\left(t \\right)}}\\right|}{\\sqrt{b}}\\\\5 \\sin{\\left(12 \\right)} + 105.986768359379\\\\t \\sin{\\left(\\omega f{\\left(t \\right)} \\right)} + \\frac{f{\\left(t \\right)}}{\\sqrt{t}}\\end{matrix}\\right]$"
      ],
      "text/plain": [
       "⎡               b            ⎤\n",
       "⎢           a + ──           ⎥\n",
       "⎢                2           ⎥\n",
       "⎢               ω            ⎥\n",
       "⎢                            ⎥\n",
       "⎢         a⋅ω + f(t)         ⎥\n",
       "⎢                            ⎥\n",
       "⎢                │f(t)│      ⎥\n",
       "⎢     a⋅sin(ω) + ──────      ⎥\n",
       "⎢                  √b        ⎥\n",
       "⎢                            ⎥\n",
       "⎢5⋅sin(12) + 105.986768359379⎥\n",
       "⎢                            ⎥\n",
       "⎢                    f(t)    ⎥\n",
       "⎢    t⋅sin(ω⋅f(t)) + ────    ⎥\n",
       "⎣                     √t     ⎦"
      ]
     },
     "execution_count": 68,
     "metadata": {},
     "output_type": "execute_result"
    }
   ],
   "source": [
    "mat3 = sm.Matrix([expr1, expr2, expr3, expr4, expr5])\n",
    "mat3"
   ]
  },
  {
   "cell_type": "code",
   "execution_count": 69,
   "id": "4d08b197",
   "metadata": {
    "execution": {
     "iopub.execute_input": "2025-01-22T13:10:38.231246Z",
     "iopub.status.busy": "2025-01-22T13:10:38.231097Z",
     "iopub.status.idle": "2025-01-22T13:10:38.243022Z",
     "shell.execute_reply": "2025-01-22T13:10:38.242525Z"
    }
   },
   "outputs": [
    {
     "data": {
      "text/latex": [
       "$\\displaystyle \\left[\\begin{matrix}1\\\\\\omega\\\\\\sin{\\left(\\omega \\right)}\\\\0\\\\0\\end{matrix}\\right]$"
      ],
      "text/plain": [
       "⎡  1   ⎤\n",
       "⎢      ⎥\n",
       "⎢  ω   ⎥\n",
       "⎢      ⎥\n",
       "⎢sin(ω)⎥\n",
       "⎢      ⎥\n",
       "⎢  0   ⎥\n",
       "⎢      ⎥\n",
       "⎣  0   ⎦"
      ]
     },
     "execution_count": 69,
     "metadata": {},
     "output_type": "execute_result"
    }
   ],
   "source": [
    "mat3.diff(a)"
   ]
  },
  {
   "cell_type": "code",
   "execution_count": 70,
   "id": "2532d74d",
   "metadata": {
    "execution": {
     "iopub.execute_input": "2025-01-22T13:10:38.244353Z",
     "iopub.status.busy": "2025-01-22T13:10:38.244209Z",
     "iopub.status.idle": "2025-01-22T13:10:38.256673Z",
     "shell.execute_reply": "2025-01-22T13:10:38.256289Z"
    }
   },
   "outputs": [
    {
     "data": {
      "text/latex": [
       "$\\displaystyle \\left[\\begin{matrix}0\\\\\\frac{d}{d t} f{\\left(t \\right)}\\\\\\frac{\\left(\\operatorname{re}{\\left(f{\\left(t \\right)}\\right)} \\frac{d}{d t} \\operatorname{re}{\\left(f{\\left(t \\right)}\\right)} + \\operatorname{im}{\\left(f{\\left(t \\right)}\\right)} \\frac{d}{d t} \\operatorname{im}{\\left(f{\\left(t \\right)}\\right)}\\right) \\operatorname{sign}{\\left(f{\\left(t \\right)} \\right)}}{\\sqrt{b} f{\\left(t \\right)}}\\\\0\\\\\\omega t \\cos{\\left(\\omega f{\\left(t \\right)} \\right)} \\frac{d}{d t} f{\\left(t \\right)} + \\sin{\\left(\\omega f{\\left(t \\right)} \\right)} + \\frac{\\frac{d}{d t} f{\\left(t \\right)}}{\\sqrt{t}} - \\frac{f{\\left(t \\right)}}{2 t^{\\frac{3}{2}}}\\end{matrix}\\right]$"
      ],
      "text/plain": [
       "⎡                            0                             ⎤\n",
       "⎢                                                          ⎥\n",
       "⎢                         d                                ⎥\n",
       "⎢                         ──(f(t))                         ⎥\n",
       "⎢                         dt                               ⎥\n",
       "⎢                                                          ⎥\n",
       "⎢⎛         d                       d           ⎞           ⎥\n",
       "⎢⎜re(f(t))⋅──(re(f(t))) + im(f(t))⋅──(im(f(t)))⎟⋅sign(f(t))⎥\n",
       "⎢⎝         dt                      dt          ⎠           ⎥\n",
       "⎢──────────────────────────────────────────────────────────⎥\n",
       "⎢                         √b⋅f(t)                          ⎥\n",
       "⎢                                                          ⎥\n",
       "⎢                            0                             ⎥\n",
       "⎢                                                          ⎥\n",
       "⎢                                         d                ⎥\n",
       "⎢                                         ──(f(t))         ⎥\n",
       "⎢                d                        dt          f(t) ⎥\n",
       "⎢ω⋅t⋅cos(ω⋅f(t))⋅──(f(t)) + sin(ω⋅f(t)) + ──────── - ──────⎥\n",
       "⎢                dt                          √t         3/2⎥\n",
       "⎣                                                    2⋅t   ⎦"
      ]
     },
     "execution_count": 70,
     "metadata": {},
     "output_type": "execute_result"
    }
   ],
   "source": [
    "mat3.diff(t)"
   ]
  },
  {
   "cell_type": "code",
   "execution_count": 71,
   "id": "e9d8925f",
   "metadata": {
    "execution": {
     "iopub.execute_input": "2025-01-22T13:10:38.257974Z",
     "iopub.status.busy": "2025-01-22T13:10:38.257821Z",
     "iopub.status.idle": "2025-01-22T13:10:38.261986Z",
     "shell.execute_reply": "2025-01-22T13:10:38.261554Z"
    }
   },
   "outputs": [
    {
     "data": {
      "text/latex": [
       "$\\displaystyle \\left[\\begin{matrix}a\\\\b\\\\\\omega\\\\t\\end{matrix}\\right]$"
      ],
      "text/plain": [
       "⎡a⎤\n",
       "⎢ ⎥\n",
       "⎢b⎥\n",
       "⎢ ⎥\n",
       "⎢ω⎥\n",
       "⎢ ⎥\n",
       "⎣t⎦"
      ]
     },
     "execution_count": 71,
     "metadata": {},
     "output_type": "execute_result"
    }
   ],
   "source": [
    "mat4 = sm.Matrix([a, b, omega, t])\n",
    "mat4"
   ]
  },
  {
   "cell_type": "code",
   "execution_count": 72,
   "id": "e8d667c6",
   "metadata": {
    "execution": {
     "iopub.execute_input": "2025-01-22T13:10:38.263327Z",
     "iopub.status.busy": "2025-01-22T13:10:38.263173Z",
     "iopub.status.idle": "2025-01-22T13:10:38.280379Z",
     "shell.execute_reply": "2025-01-22T13:10:38.279865Z"
    }
   },
   "outputs": [
    {
     "data": {
      "text/latex": [
       "$\\displaystyle \\left[\\begin{matrix}1 & \\frac{1}{\\omega^{2}} & - \\frac{2 b}{\\omega^{3}} & 0\\\\\\omega & 0 & a & \\frac{d}{d t} f{\\left(t \\right)}\\\\\\sin{\\left(\\omega \\right)} & - \\frac{\\left|{f{\\left(t \\right)}}\\right|}{2 b^{\\frac{3}{2}}} & a \\cos{\\left(\\omega \\right)} & \\frac{\\left(\\operatorname{re}{\\left(f{\\left(t \\right)}\\right)} \\frac{d}{d t} \\operatorname{re}{\\left(f{\\left(t \\right)}\\right)} + \\operatorname{im}{\\left(f{\\left(t \\right)}\\right)} \\frac{d}{d t} \\operatorname{im}{\\left(f{\\left(t \\right)}\\right)}\\right) \\operatorname{sign}{\\left(f{\\left(t \\right)} \\right)}}{\\sqrt{b} f{\\left(t \\right)}}\\\\0 & 0 & 0 & 0\\\\0 & 0 & t f{\\left(t \\right)} \\cos{\\left(\\omega f{\\left(t \\right)} \\right)} & \\omega t \\cos{\\left(\\omega f{\\left(t \\right)} \\right)} \\frac{d}{d t} f{\\left(t \\right)} + \\sin{\\left(\\omega f{\\left(t \\right)} \\right)} + \\frac{\\frac{d}{d t} f{\\left(t \\right)}}{\\sqrt{t}} - \\frac{f{\\left(t \\right)}}{2 t^{\\frac{3}{2}}}\\end{matrix}\\right]$"
      ],
      "text/plain": [
       "⎡           1            -2⋅b                                                 \n",
       "⎢  1        ──           ─────                                     0          \n",
       "⎢            2              3                                                 \n",
       "⎢           ω              ω                                                  \n",
       "⎢                                                                             \n",
       "⎢                                                               d             \n",
       "⎢  ω        0              a                                    ──(f(t))      \n",
       "⎢                                                               dt            \n",
       "⎢                                                                             \n",
       "⎢                                      ⎛         d                       d    \n",
       "⎢                                      ⎜re(f(t))⋅──(re(f(t))) + im(f(t))⋅──(im\n",
       "⎢        -│f(t)│                       ⎝         dt                      dt   \n",
       "⎢sin(ω)  ────────       a⋅cos(ω)       ───────────────────────────────────────\n",
       "⎢            3/2                                                √b⋅f(t)       \n",
       "⎢         2⋅b                                                                 \n",
       "⎢                                                                             \n",
       "⎢  0        0              0                                       0          \n",
       "⎢                                                                             \n",
       "⎢                                                                             \n",
       "⎢                                                                             \n",
       "⎢                                                      d                      \n",
       "⎢  0        0      t⋅f(t)⋅cos(ω⋅f(t))  ω⋅t⋅cos(ω⋅f(t))⋅──(f(t)) + sin(ω⋅f(t)) \n",
       "⎢                                                      dt                     \n",
       "⎣                                                                             \n",
       "\n",
       "                   ⎤\n",
       "                   ⎥\n",
       "                   ⎥\n",
       "                   ⎥\n",
       "                   ⎥\n",
       "                   ⎥\n",
       "                   ⎥\n",
       "                   ⎥\n",
       "                   ⎥\n",
       "       ⎞           ⎥\n",
       "(f(t)))⎟⋅sign(f(t))⎥\n",
       "       ⎠           ⎥\n",
       "───────────────────⎥\n",
       "                   ⎥\n",
       "                   ⎥\n",
       "                   ⎥\n",
       "                   ⎥\n",
       "                   ⎥\n",
       "  d                ⎥\n",
       "  ──(f(t))         ⎥\n",
       "  dt          f(t) ⎥\n",
       "+ ──────── - ──────⎥\n",
       "     √t         3/2⎥\n",
       "             2⋅t   ⎦"
      ]
     },
     "execution_count": 72,
     "metadata": {},
     "output_type": "execute_result"
    }
   ],
   "source": [
    "mat3.jacobian(mat4)"
   ]
  },
  {
   "cell_type": "code",
   "execution_count": 73,
   "id": "084acc8d",
   "metadata": {
    "execution": {
     "iopub.execute_input": "2025-01-22T13:10:38.281893Z",
     "iopub.status.busy": "2025-01-22T13:10:38.281649Z",
     "iopub.status.idle": "2025-01-22T13:10:38.295713Z",
     "shell.execute_reply": "2025-01-22T13:10:38.295219Z"
    }
   },
   "outputs": [
    {
     "data": {
      "text/latex": [
       "$\\displaystyle \\left[\\begin{matrix}1 & \\frac{1}{\\omega^{2}} & - \\frac{2 b}{\\omega^{3}} & 0\\\\\\omega & 0 & a & \\frac{d}{d t} f{\\left(t \\right)}\\\\\\sin{\\left(\\omega \\right)} & - \\frac{\\left|{f{\\left(t \\right)}}\\right|}{2 b^{\\frac{3}{2}}} & a \\cos{\\left(\\omega \\right)} & \\frac{\\left(\\operatorname{re}{\\left(f{\\left(t \\right)}\\right)} \\frac{d}{d t} \\operatorname{re}{\\left(f{\\left(t \\right)}\\right)} + \\operatorname{im}{\\left(f{\\left(t \\right)}\\right)} \\frac{d}{d t} \\operatorname{im}{\\left(f{\\left(t \\right)}\\right)}\\right) \\operatorname{sign}{\\left(f{\\left(t \\right)} \\right)}}{\\sqrt{b} f{\\left(t \\right)}}\\\\0 & 0 & 0 & 0\\\\0 & 0 & t f{\\left(t \\right)} \\cos{\\left(\\omega f{\\left(t \\right)} \\right)} & \\omega t \\cos{\\left(\\omega f{\\left(t \\right)} \\right)} \\frac{d}{d t} f{\\left(t \\right)} + \\sin{\\left(\\omega f{\\left(t \\right)} \\right)} + \\frac{\\frac{d}{d t} f{\\left(t \\right)}}{\\sqrt{t}} - \\frac{f{\\left(t \\right)}}{2 t^{\\frac{3}{2}}}\\end{matrix}\\right]$"
      ],
      "text/plain": [
       "⎡           1            -2⋅b                                                 \n",
       "⎢  1        ──           ─────                                     0          \n",
       "⎢            2              3                                                 \n",
       "⎢           ω              ω                                                  \n",
       "⎢                                                                             \n",
       "⎢                                                               d             \n",
       "⎢  ω        0              a                                    ──(f(t))      \n",
       "⎢                                                               dt            \n",
       "⎢                                                                             \n",
       "⎢                                      ⎛         d                       d    \n",
       "⎢                                      ⎜re(f(t))⋅──(re(f(t))) + im(f(t))⋅──(im\n",
       "⎢        -│f(t)│                       ⎝         dt                      dt   \n",
       "⎢sin(ω)  ────────       a⋅cos(ω)       ───────────────────────────────────────\n",
       "⎢            3/2                                                √b⋅f(t)       \n",
       "⎢         2⋅b                                                                 \n",
       "⎢                                                                             \n",
       "⎢  0        0              0                                       0          \n",
       "⎢                                                                             \n",
       "⎢                                                                             \n",
       "⎢                                                                             \n",
       "⎢                                                      d                      \n",
       "⎢  0        0      t⋅f(t)⋅cos(ω⋅f(t))  ω⋅t⋅cos(ω⋅f(t))⋅──(f(t)) + sin(ω⋅f(t)) \n",
       "⎢                                                      dt                     \n",
       "⎣                                                                             \n",
       "\n",
       "                   ⎤\n",
       "                   ⎥\n",
       "                   ⎥\n",
       "                   ⎥\n",
       "                   ⎥\n",
       "                   ⎥\n",
       "                   ⎥\n",
       "                   ⎥\n",
       "                   ⎥\n",
       "       ⎞           ⎥\n",
       "(f(t)))⎟⋅sign(f(t))⎥\n",
       "       ⎠           ⎥\n",
       "───────────────────⎥\n",
       "                   ⎥\n",
       "                   ⎥\n",
       "                   ⎥\n",
       "                   ⎥\n",
       "                   ⎥\n",
       "  d                ⎥\n",
       "  ──(f(t))         ⎥\n",
       "  dt          f(t) ⎥\n",
       "+ ──────── - ──────⎥\n",
       "     √t         3/2⎥\n",
       "             2⋅t   ⎦"
      ]
     },
     "execution_count": 73,
     "metadata": {},
     "output_type": "execute_result"
    }
   ],
   "source": [
    "def jacobian(v, x):\n",
    "    \"\"\"Returns the Jacobian of the vector function v with respect to the\n",
    "    vector of variables x.\"\"\"\n",
    "    diffs = []\n",
    "    for expr in v:\n",
    "      for var in x:\n",
    "         diffs.append(expr.diff(var))\n",
    "    J_v_x = sm.Matrix(diffs).reshape(len(v), len(x))\n",
    "    return J_v_x\n",
    "\n",
    "jacobian(mat3, mat4)"
   ]
  },
  {
   "cell_type": "code",
   "execution_count": 74,
   "id": "0b993275",
   "metadata": {
    "execution": {
     "iopub.execute_input": "2025-01-22T13:10:38.297180Z",
     "iopub.status.busy": "2025-01-22T13:10:38.297008Z",
     "iopub.status.idle": "2025-01-22T13:10:38.311450Z",
     "shell.execute_reply": "2025-01-22T13:10:38.311037Z"
    }
   },
   "outputs": [
    {
     "data": {
      "text/latex": [
       "$\\displaystyle \\left[\\begin{matrix}a_{1} \\sin{\\left(f{\\left(t \\right)} \\right)} \\cos{\\left(2 f{\\left(t \\right)} \\right)} + a_{2} + \\frac{\\omega \\log{\\left(t \\right)}}{\\log{\\left(f{\\left(t \\right)} \\right)}} + 100\\\\a_{1} \\omega^{2} + a_{2} f{\\left(t \\right)} + \\omega + f^{3}{\\left(t \\right)}\\end{matrix}\\right]$"
      ],
      "text/plain": [
       "⎡                                 ω⋅log(t)      ⎤\n",
       "⎢a₁⋅sin(f(t))⋅cos(2⋅f(t)) + a₂ + ───────── + 100⎥\n",
       "⎢                                log(f(t))      ⎥\n",
       "⎢                                               ⎥\n",
       "⎢              2                  3             ⎥\n",
       "⎣          a₁⋅ω  + a₂⋅f(t) + ω + f (t)          ⎦"
      ]
     },
     "execution_count": 74,
     "metadata": {},
     "output_type": "execute_result"
    }
   ],
   "source": [
    "a1, a2 = sm.symbols('a1, a2')\n",
    "\n",
    "exprs = sm.Matrix([\n",
    "    [a1*sm.sin(f(t))*sm.cos(2*f(t)) + a2 + omega/sm.log(f(t), t) + 100],\n",
    "    [a1*omega**2 + f(t)*a2 + omega + f(t)**3],\n",
    "])\n",
    "exprs"
   ]
  },
  {
   "cell_type": "code",
   "execution_count": 75,
   "id": "179a744e",
   "metadata": {
    "execution": {
     "iopub.execute_input": "2025-01-22T13:10:38.312774Z",
     "iopub.status.busy": "2025-01-22T13:10:38.312623Z",
     "iopub.status.idle": "2025-01-22T13:10:38.320849Z",
     "shell.execute_reply": "2025-01-22T13:10:38.320449Z"
    }
   },
   "outputs": [
    {
     "data": {
      "text/latex": [
       "$\\displaystyle \\left[\\begin{matrix}\\sin{\\left(f{\\left(t \\right)} \\right)} \\cos{\\left(2 f{\\left(t \\right)} \\right)} & 1\\\\\\omega^{2} & f{\\left(t \\right)}\\end{matrix}\\right]$"
      ],
      "text/plain": [
       "⎡sin(f(t))⋅cos(2⋅f(t))   1  ⎤\n",
       "⎢                           ⎥\n",
       "⎢          2                ⎥\n",
       "⎣         ω             f(t)⎦"
      ]
     },
     "execution_count": 75,
     "metadata": {},
     "output_type": "execute_result"
    }
   ],
   "source": [
    "A = exprs.jacobian([a1, a2])\n",
    "A"
   ]
  },
  {
   "cell_type": "code",
   "execution_count": 76,
   "id": "0121149c",
   "metadata": {
    "execution": {
     "iopub.execute_input": "2025-01-22T13:10:38.322377Z",
     "iopub.status.busy": "2025-01-22T13:10:38.321973Z",
     "iopub.status.idle": "2025-01-22T13:10:38.327994Z",
     "shell.execute_reply": "2025-01-22T13:10:38.327513Z"
    }
   },
   "outputs": [
    {
     "data": {
      "text/latex": [
       "$\\displaystyle \\left[\\begin{matrix}- \\frac{\\omega \\log{\\left(t \\right)}}{\\log{\\left(f{\\left(t \\right)} \\right)}} - 100\\\\- \\omega - f^{3}{\\left(t \\right)}\\end{matrix}\\right]$"
      ],
      "text/plain": [
       "⎡   ω⋅log(t)      ⎤\n",
       "⎢- ───────── - 100⎥\n",
       "⎢  log(f(t))      ⎥\n",
       "⎢                 ⎥\n",
       "⎢         3       ⎥\n",
       "⎣   -ω - f (t)    ⎦"
      ]
     },
     "execution_count": 76,
     "metadata": {},
     "output_type": "execute_result"
    }
   ],
   "source": [
    "b = -exprs.xreplace({a1: 0, a2: 0})\n",
    "b"
   ]
  },
  {
   "cell_type": "code",
   "execution_count": 77,
   "id": "442f78a3",
   "metadata": {
    "execution": {
     "iopub.execute_input": "2025-01-22T13:10:38.329561Z",
     "iopub.status.busy": "2025-01-22T13:10:38.329261Z",
     "iopub.status.idle": "2025-01-22T13:10:38.810972Z",
     "shell.execute_reply": "2025-01-22T13:10:38.810443Z"
    }
   },
   "outputs": [
    {
     "data": {
      "text/latex": [
       "$\\displaystyle \\left[\\begin{matrix}- \\frac{- \\omega - f^{3}{\\left(t \\right)}}{- \\omega^{2} + f{\\left(t \\right)} \\sin{\\left(f{\\left(t \\right)} \\right)} \\cos{\\left(2 f{\\left(t \\right)} \\right)}} + \\frac{\\left(- \\frac{\\omega \\log{\\left(t \\right)}}{\\log{\\left(f{\\left(t \\right)} \\right)}} - 100\\right) f{\\left(t \\right)}}{- \\omega^{2} + f{\\left(t \\right)} \\sin{\\left(f{\\left(t \\right)} \\right)} \\cos{\\left(2 f{\\left(t \\right)} \\right)}}\\\\- \\frac{\\omega^{2} \\left(- \\frac{\\omega \\log{\\left(t \\right)}}{\\log{\\left(f{\\left(t \\right)} \\right)}} - 100\\right)}{- \\omega^{2} + f{\\left(t \\right)} \\sin{\\left(f{\\left(t \\right)} \\right)} \\cos{\\left(2 f{\\left(t \\right)} \\right)}} + \\frac{\\left(- \\omega - f^{3}{\\left(t \\right)}\\right) \\sin{\\left(f{\\left(t \\right)} \\right)} \\cos{\\left(2 f{\\left(t \\right)} \\right)}}{- \\omega^{2} + f{\\left(t \\right)} \\sin{\\left(f{\\left(t \\right)} \\right)} \\cos{\\left(2 f{\\left(t \\right)} \\right)}}\\end{matrix}\\right]$"
      ],
      "text/plain": [
       "⎡                                           ⎛   ω⋅log(t)      ⎞          ⎤\n",
       "⎢                    3                      ⎜- ───────── - 100⎟⋅f(t)     ⎥\n",
       "⎢              -ω - f (t)                   ⎝  log(f(t))      ⎠          ⎥\n",
       "⎢- ───────────────────────────────── + ───────────────────────────────── ⎥\n",
       "⎢     2                                   2                              ⎥\n",
       "⎢  - ω  + f(t)⋅sin(f(t))⋅cos(2⋅f(t))   - ω  + f(t)⋅sin(f(t))⋅cos(2⋅f(t)) ⎥\n",
       "⎢                                                                        ⎥\n",
       "⎢         2 ⎛   ω⋅log(t)      ⎞                                          ⎥\n",
       "⎢        ω ⋅⎜- ───────── - 100⎟        ⎛      3   ⎞                      ⎥\n",
       "⎢           ⎝  log(f(t))      ⎠        ⎝-ω - f (t)⎠⋅sin(f(t))⋅cos(2⋅f(t))⎥\n",
       "⎢- ───────────────────────────────── + ──────────────────────────────────⎥\n",
       "⎢     2                                   2                              ⎥\n",
       "⎣  - ω  + f(t)⋅sin(f(t))⋅cos(2⋅f(t))   - ω  + f(t)⋅sin(f(t))⋅cos(2⋅f(t)) ⎦"
      ]
     },
     "execution_count": 77,
     "metadata": {},
     "output_type": "execute_result"
    }
   ],
   "source": [
    "A.inv() @ b"
   ]
  },
  {
   "cell_type": "code",
   "execution_count": 78,
   "id": "1b2e3a66",
   "metadata": {
    "execution": {
     "iopub.execute_input": "2025-01-22T13:10:38.812577Z",
     "iopub.status.busy": "2025-01-22T13:10:38.812263Z",
     "iopub.status.idle": "2025-01-22T13:10:38.834528Z",
     "shell.execute_reply": "2025-01-22T13:10:38.834014Z"
    }
   },
   "outputs": [
    {
     "data": {
      "text/latex": [
       "$\\displaystyle \\left[\\begin{matrix}\\frac{- \\frac{\\omega \\log{\\left(t \\right)}}{\\log{\\left(f{\\left(t \\right)} \\right)}} - 100 - \\frac{- \\frac{\\omega^{2} \\left(- \\frac{\\omega \\log{\\left(t \\right)}}{\\log{\\left(f{\\left(t \\right)} \\right)}} - 100\\right)}{\\sin{\\left(f{\\left(t \\right)} \\right)} \\cos{\\left(2 f{\\left(t \\right)} \\right)}} - \\omega - f^{3}{\\left(t \\right)}}{- \\frac{\\omega^{2}}{\\sin{\\left(f{\\left(t \\right)} \\right)} \\cos{\\left(2 f{\\left(t \\right)} \\right)}} + f{\\left(t \\right)}}}{\\sin{\\left(f{\\left(t \\right)} \\right)} \\cos{\\left(2 f{\\left(t \\right)} \\right)}}\\\\\\frac{- \\frac{\\omega^{2} \\left(- \\frac{\\omega \\log{\\left(t \\right)}}{\\log{\\left(f{\\left(t \\right)} \\right)}} - 100\\right)}{\\sin{\\left(f{\\left(t \\right)} \\right)} \\cos{\\left(2 f{\\left(t \\right)} \\right)}} - \\omega - f^{3}{\\left(t \\right)}}{- \\frac{\\omega^{2}}{\\sin{\\left(f{\\left(t \\right)} \\right)} \\cos{\\left(2 f{\\left(t \\right)} \\right)}} + f{\\left(t \\right)}}\\end{matrix}\\right]$"
      ],
      "text/plain": [
       "⎡                       2 ⎛   ω⋅log(t)      ⎞            ⎤\n",
       "⎢                      ω ⋅⎜- ───────── - 100⎟            ⎥\n",
       "⎢                         ⎝  log(f(t))      ⎠        3   ⎥\n",
       "⎢                    - ────────────────────── - ω - f (t)⎥\n",
       "⎢   ω⋅log(t)           sin(f(t))⋅cos(2⋅f(t))             ⎥\n",
       "⎢- ───────── - 100 - ────────────────────────────────────⎥\n",
       "⎢  log(f(t))                         2                   ⎥\n",
       "⎢                                   ω                    ⎥\n",
       "⎢                       - ───────────────────── + f(t)   ⎥\n",
       "⎢                         sin(f(t))⋅cos(2⋅f(t))          ⎥\n",
       "⎢────────────────────────────────────────────────────────⎥\n",
       "⎢                 sin(f(t))⋅cos(2⋅f(t))                  ⎥\n",
       "⎢                                                        ⎥\n",
       "⎢             2 ⎛   ω⋅log(t)      ⎞                      ⎥\n",
       "⎢            ω ⋅⎜- ───────── - 100⎟                      ⎥\n",
       "⎢               ⎝  log(f(t))      ⎠        3             ⎥\n",
       "⎢          - ────────────────────── - ω - f (t)          ⎥\n",
       "⎢            sin(f(t))⋅cos(2⋅f(t))                       ⎥\n",
       "⎢          ────────────────────────────────────          ⎥\n",
       "⎢                          2                             ⎥\n",
       "⎢                         ω                              ⎥\n",
       "⎢             - ───────────────────── + f(t)             ⎥\n",
       "⎣               sin(f(t))⋅cos(2⋅f(t))                    ⎦"
      ]
     },
     "execution_count": 78,
     "metadata": {},
     "output_type": "execute_result"
    }
   ],
   "source": [
    "A.LUsolve(b)"
   ]
  },
  {
   "cell_type": "code",
   "execution_count": 79,
   "id": "22bd3e00",
   "metadata": {
    "execution": {
     "iopub.execute_input": "2025-01-22T13:10:38.836154Z",
     "iopub.status.busy": "2025-01-22T13:10:38.835730Z",
     "iopub.status.idle": "2025-01-22T13:10:38.845847Z",
     "shell.execute_reply": "2025-01-22T13:10:38.845461Z"
    }
   },
   "outputs": [
    {
     "data": {
      "text/latex": [
       "$\\displaystyle \\left[\\begin{matrix}- L_{1} + L_{2} - \\frac{\\sqrt{2} L_{3}}{2}\\\\- F_{1} + \\frac{\\sqrt{2} L_{3}}{2} + L_{4}\\\\- L_{2} - \\frac{\\sqrt{2} L_{5}}{2}\\\\- F_{2} + \\frac{\\sqrt{2} L_{5}}{2}\\\\\\frac{\\sqrt{2} L_{5}}{2} + L_{6}\\\\- L_{4} - \\frac{\\sqrt{2} L_{5}}{2}\\end{matrix}\\right]$"
      ],
      "text/plain": [
       "⎡           √2⋅L₃⎤\n",
       "⎢-L₁ + L₂ - ─────⎥\n",
       "⎢             2  ⎥\n",
       "⎢                ⎥\n",
       "⎢      √2⋅L₃     ⎥\n",
       "⎢-F₁ + ───── + L₄⎥\n",
       "⎢        2       ⎥\n",
       "⎢                ⎥\n",
       "⎢        √2⋅L₅   ⎥\n",
       "⎢  -L₂ - ─────   ⎥\n",
       "⎢          2     ⎥\n",
       "⎢                ⎥\n",
       "⎢        √2⋅L₅   ⎥\n",
       "⎢  -F₂ + ─────   ⎥\n",
       "⎢          2     ⎥\n",
       "⎢                ⎥\n",
       "⎢   √2⋅L₅        ⎥\n",
       "⎢   ───── + L₆   ⎥\n",
       "⎢     2          ⎥\n",
       "⎢                ⎥\n",
       "⎢        √2⋅L₅   ⎥\n",
       "⎢  -L₄ - ─────   ⎥\n",
       "⎣          2     ⎦"
      ]
     },
     "execution_count": 79,
     "metadata": {},
     "output_type": "execute_result"
    }
   ],
   "source": [
    "L1, L2, L3, L4, L5, L6, F1, F2 = sm.symbols('L1, L2, L3, L4, L5, L6, F1, F2')\n",
    "\n",
    "exprs = sm.Matrix([\n",
    "    -L1 + L2 - L3/sm.sqrt(2),\n",
    "    L3/sm.sqrt(2) + L4 - F1,\n",
    "    -L2 - L5/sm.sqrt(2),\n",
    "    L5/sm.sqrt(2) - F2,\n",
    "    L5/sm.sqrt(2) + L6,\n",
    "    -L4 -L5/sm.sqrt(2),\n",
    "])\n",
    "exprs"
   ]
  },
  {
   "cell_type": "code",
   "execution_count": 80,
   "id": "79e141da",
   "metadata": {
    "execution": {
     "iopub.execute_input": "2025-01-22T13:10:38.847275Z",
     "iopub.status.busy": "2025-01-22T13:10:38.846908Z",
     "iopub.status.idle": "2025-01-22T13:10:38.875375Z",
     "shell.execute_reply": "2025-01-22T13:10:38.874863Z"
    }
   },
   "outputs": [
    {
     "data": {
      "text/latex": [
       "$\\displaystyle \\left[\\begin{matrix}L_{1}\\\\L_{2}\\\\L_{3}\\\\L_{4}\\\\L_{5}\\\\L_{6}\\end{matrix}\\right] = \\left[\\begin{matrix}- F_{1} - 2 F_{2}\\\\- F_{2}\\\\\\sqrt{2} \\left(F_{1} + F_{2}\\right)\\\\- F_{2}\\\\\\sqrt{2} F_{2}\\\\- F_{2}\\end{matrix}\\right]$"
      ],
      "text/plain": [
       "⎡L₁⎤   ⎡ -F₁ - 2⋅F₂ ⎤\n",
       "⎢  ⎥   ⎢            ⎥\n",
       "⎢L₂⎥   ⎢    -F₂     ⎥\n",
       "⎢  ⎥   ⎢            ⎥\n",
       "⎢L₃⎥   ⎢√2⋅(F₁ + F₂)⎥\n",
       "⎢  ⎥ = ⎢            ⎥\n",
       "⎢L₄⎥   ⎢    -F₂     ⎥\n",
       "⎢  ⎥   ⎢            ⎥\n",
       "⎢L₅⎥   ⎢   √2⋅F₂    ⎥\n",
       "⎢  ⎥   ⎢            ⎥\n",
       "⎣L₆⎦   ⎣    -F₂     ⎦"
      ]
     },
     "execution_count": 80,
     "metadata": {},
     "output_type": "execute_result"
    }
   ],
   "source": [
    "unknowns = sm.Matrix([L1, L2, L3, L4, L5, L6])\n",
    "\n",
    "coef_mat = exprs.jacobian(unknowns)\n",
    "rhs = -exprs.xreplace(dict(zip(unknowns, [0]*6)))\n",
    "\n",
    "sol = coef_mat.LUsolve(rhs)\n",
    "\n",
    "sm.Eq(unknowns, sol)"
   ]
  },
  {
   "cell_type": "code",
   "execution_count": 81,
   "id": "65963574",
   "metadata": {
    "execution": {
     "iopub.execute_input": "2025-01-22T13:10:38.877137Z",
     "iopub.status.busy": "2025-01-22T13:10:38.876655Z",
     "iopub.status.idle": "2025-01-22T13:10:38.882290Z",
     "shell.execute_reply": "2025-01-22T13:10:38.881886Z"
    }
   },
   "outputs": [
    {
     "data": {
      "text/plain": [
       "array([[-77.        ],\n",
       "       [-32.        ],\n",
       "       [ 63.63961031],\n",
       "       [-32.        ],\n",
       "       [ 45.254834  ],\n",
       "       [-32.        ]])"
      ]
     },
     "execution_count": 81,
     "metadata": {},
     "output_type": "execute_result"
    }
   ],
   "source": [
    "eval_sol = sm.lambdify((F1, F2), sol)\n",
    "eval_sol(13, 32)"
   ]
  },
  {
   "cell_type": "code",
   "execution_count": 82,
   "id": "0aea435b",
   "metadata": {
    "execution": {
     "iopub.execute_input": "2025-01-22T13:10:38.883645Z",
     "iopub.status.busy": "2025-01-22T13:10:38.883503Z",
     "iopub.status.idle": "2025-01-22T13:10:38.888971Z",
     "shell.execute_reply": "2025-01-22T13:10:38.888575Z"
    }
   },
   "outputs": [],
   "source": [
    "a1, a2 = sm.symbols('a1, a2')\n",
    "exprs = sm.Matrix([\n",
    "    [a1*sm.sin(f(t))*sm.cos(2*f(t)) + a2 + omega/sm.log(f(t), t) + 100],\n",
    "    [a1*omega**2 + f(t)*a2 + omega + f(t)**3],\n",
    "])\n",
    "A = exprs.jacobian([a1, a2])\n",
    "b = -exprs.xreplace({a1: 0, a2: 0})\n",
    "sol = A.LUsolve(b)"
   ]
  },
  {
   "cell_type": "code",
   "execution_count": 83,
   "id": "48738c49",
   "metadata": {
    "execution": {
     "iopub.execute_input": "2025-01-22T13:10:38.890430Z",
     "iopub.status.busy": "2025-01-22T13:10:38.890289Z",
     "iopub.status.idle": "2025-01-22T13:10:39.459410Z",
     "shell.execute_reply": "2025-01-22T13:10:39.458953Z"
    }
   },
   "outputs": [
    {
     "data": {
      "text/latex": [
       "$\\displaystyle \\left[\\begin{matrix}\\frac{- \\omega f{\\left(t \\right)} \\log{\\left(t \\right)} + \\omega \\log{\\left(f{\\left(t \\right)} \\right)} + f^{3}{\\left(t \\right)} \\log{\\left(f{\\left(t \\right)} \\right)} - 100 f{\\left(t \\right)} \\log{\\left(f{\\left(t \\right)} \\right)}}{\\left(- \\omega^{2} + f{\\left(t \\right)} \\sin{\\left(f{\\left(t \\right)} \\right)} \\cos{\\left(2 f{\\left(t \\right)} \\right)}\\right) \\log{\\left(f{\\left(t \\right)} \\right)}}\\\\\\frac{- \\omega^{2} \\left(\\omega \\log{\\left(t \\right)} + 100 \\log{\\left(f{\\left(t \\right)} \\right)}\\right) + \\left(\\omega + f^{3}{\\left(t \\right)}\\right) \\log{\\left(f{\\left(t \\right)} \\right)} \\sin{\\left(f{\\left(t \\right)} \\right)} \\cos{\\left(2 f{\\left(t \\right)} \\right)}}{\\left(\\omega^{2} - f{\\left(t \\right)} \\sin{\\left(f{\\left(t \\right)} \\right)} \\cos{\\left(2 f{\\left(t \\right)} \\right)}\\right) \\log{\\left(f{\\left(t \\right)} \\right)}}\\end{matrix}\\right]$"
      ],
      "text/plain": [
       "⎡                                     3                                       \n",
       "⎢     -ω⋅f(t)⋅log(t) + ω⋅log(f(t)) + f (t)⋅log(f(t)) - 100⋅f(t)⋅log(f(t))     \n",
       "⎢     ───────────────────────────────────────────────────────────────────     \n",
       "⎢                ⎛   2                             ⎞                          \n",
       "⎢                ⎝- ω  + f(t)⋅sin(f(t))⋅cos(2⋅f(t))⎠⋅log(f(t))                \n",
       "⎢                                                                             \n",
       "⎢   2                              ⎛     3   ⎞                                \n",
       "⎢- ω ⋅(ω⋅log(t) + 100⋅log(f(t))) + ⎝ω + f (t)⎠⋅log(f(t))⋅sin(f(t))⋅cos(2⋅f(t))\n",
       "⎢─────────────────────────────────────────────────────────────────────────────\n",
       "⎢                 ⎛ 2                             ⎞                           \n",
       "⎣                 ⎝ω  - f(t)⋅sin(f(t))⋅cos(2⋅f(t))⎠⋅log(f(t))                 \n",
       "\n",
       "⎤\n",
       "⎥\n",
       "⎥\n",
       "⎥\n",
       "⎥\n",
       "⎥\n",
       "⎥\n",
       "⎥\n",
       "⎥\n",
       "⎥\n",
       "⎦"
      ]
     },
     "execution_count": 83,
     "metadata": {},
     "output_type": "execute_result"
    }
   ],
   "source": [
    "sm.simplify(sol)"
   ]
  },
  {
   "cell_type": "code",
   "execution_count": 84,
   "id": "de0ac103",
   "metadata": {
    "execution": {
     "iopub.execute_input": "2025-01-22T13:10:39.460819Z",
     "iopub.status.busy": "2025-01-22T13:10:39.460670Z",
     "iopub.status.idle": "2025-01-22T13:10:39.465324Z",
     "shell.execute_reply": "2025-01-22T13:10:39.464817Z"
    }
   },
   "outputs": [
    {
     "data": {
      "text/latex": [
       "$\\displaystyle \\sin^{2}{\\left(\\omega \\right)} + \\cos^{2}{\\left(\\omega \\right)}$"
      ],
      "text/plain": [
       "   2         2   \n",
       "sin (ω) + cos (ω)"
      ]
     },
     "execution_count": 84,
     "metadata": {},
     "output_type": "execute_result"
    }
   ],
   "source": [
    "trig_expr = sm.cos(omega)**2 + sm.sin(omega)**2\n",
    "trig_expr"
   ]
  },
  {
   "cell_type": "code",
   "execution_count": 85,
   "id": "e2582dac",
   "metadata": {
    "execution": {
     "iopub.execute_input": "2025-01-22T13:10:39.466859Z",
     "iopub.status.busy": "2025-01-22T13:10:39.466568Z",
     "iopub.status.idle": "2025-01-22T13:10:39.486537Z",
     "shell.execute_reply": "2025-01-22T13:10:39.486067Z"
    }
   },
   "outputs": [
    {
     "data": {
      "text/latex": [
       "$\\displaystyle 1$"
      ],
      "text/plain": [
       "1"
      ]
     },
     "execution_count": 85,
     "metadata": {},
     "output_type": "execute_result"
    }
   ],
   "source": [
    "sm.trigsimp(trig_expr)"
   ]
  },
  {
   "cell_type": "code",
   "execution_count": 86,
   "id": "2af0408a",
   "metadata": {
    "execution": {
     "iopub.execute_input": "2025-01-22T13:10:39.487992Z",
     "iopub.status.busy": "2025-01-22T13:10:39.487704Z",
     "iopub.status.idle": "2025-01-22T13:10:39.492206Z",
     "shell.execute_reply": "2025-01-22T13:10:39.491700Z"
    }
   },
   "outputs": [
    {
     "data": {
      "text/latex": [
       "$\\displaystyle 79$"
      ],
      "text/plain": [
       "79"
      ]
     },
     "execution_count": 86,
     "metadata": {},
     "output_type": "execute_result"
    }
   ],
   "source": [
    "sm.count_ops(sol)"
   ]
  },
  {
   "cell_type": "code",
   "execution_count": 87,
   "id": "983430d7",
   "metadata": {
    "execution": {
     "iopub.execute_input": "2025-01-22T13:10:39.493522Z",
     "iopub.status.busy": "2025-01-22T13:10:39.493381Z",
     "iopub.status.idle": "2025-01-22T13:10:39.504758Z",
     "shell.execute_reply": "2025-01-22T13:10:39.504370Z"
    }
   },
   "outputs": [],
   "source": [
    "substitutions, simplified = sm.cse(sol)"
   ]
  },
  {
   "cell_type": "code",
   "execution_count": 88,
   "id": "bd8faadf",
   "metadata": {
    "execution": {
     "iopub.execute_input": "2025-01-22T13:10:39.506028Z",
     "iopub.status.busy": "2025-01-22T13:10:39.505888Z",
     "iopub.status.idle": "2025-01-22T13:10:39.509345Z",
     "shell.execute_reply": "2025-01-22T13:10:39.508919Z"
    }
   },
   "outputs": [
    {
     "data": {
      "text/latex": [
       "$\\displaystyle \\left( x_{0}, \\  f{\\left(t \\right)}\\right)$"
      ],
      "text/plain": [
       "(x₀, f(t))"
      ]
     },
     "execution_count": 88,
     "metadata": {},
     "output_type": "execute_result"
    }
   ],
   "source": [
    "substitutions[0]"
   ]
  },
  {
   "cell_type": "code",
   "execution_count": 89,
   "id": "68c1df82",
   "metadata": {
    "execution": {
     "iopub.execute_input": "2025-01-22T13:10:39.510619Z",
     "iopub.status.busy": "2025-01-22T13:10:39.510482Z",
     "iopub.status.idle": "2025-01-22T13:10:39.514561Z",
     "shell.execute_reply": "2025-01-22T13:10:39.514066Z"
    }
   },
   "outputs": [
    {
     "data": {
      "text/latex": [
       "$\\displaystyle x_{0} = f{\\left(t \\right)}$"
      ],
      "text/plain": [
       "x₀ = f(t)"
      ]
     },
     "execution_count": 89,
     "metadata": {},
     "output_type": "execute_result"
    }
   ],
   "source": [
    "sm.Eq(*substitutions[0])"
   ]
  },
  {
   "cell_type": "code",
   "execution_count": 90,
   "id": "5175d9ea",
   "metadata": {
    "execution": {
     "iopub.execute_input": "2025-01-22T13:10:39.516101Z",
     "iopub.status.busy": "2025-01-22T13:10:39.515789Z",
     "iopub.status.idle": "2025-01-22T13:10:39.523964Z",
     "shell.execute_reply": "2025-01-22T13:10:39.523500Z"
    }
   },
   "outputs": [
    {
     "data": {
      "text/latex": [
       "$\\displaystyle x_{1} = \\frac{1}{\\sin{\\left(x_{0} \\right)} \\cos{\\left(2 x_{0} \\right)}}$"
      ],
      "text/plain": [
       "             1        \n",
       "x₁ = ─────────────────\n",
       "     sin(x₀)⋅cos(2⋅x₀)"
      ]
     },
     "execution_count": 90,
     "metadata": {},
     "output_type": "execute_result"
    }
   ],
   "source": [
    "sm.Eq(*substitutions[1])"
   ]
  },
  {
   "cell_type": "code",
   "execution_count": 91,
   "id": "7fa5ab1f",
   "metadata": {
    "execution": {
     "iopub.execute_input": "2025-01-22T13:10:39.525593Z",
     "iopub.status.busy": "2025-01-22T13:10:39.525215Z",
     "iopub.status.idle": "2025-01-22T13:10:39.529909Z",
     "shell.execute_reply": "2025-01-22T13:10:39.529449Z"
    }
   },
   "outputs": [
    {
     "data": {
      "text/latex": [
       "$\\displaystyle x_{2} = \\omega^{2} x_{1}$"
      ],
      "text/plain": [
       "      2   \n",
       "x₂ = ω ⋅x₁"
      ]
     },
     "execution_count": 91,
     "metadata": {},
     "output_type": "execute_result"
    }
   ],
   "source": [
    "sm.Eq(*substitutions[2])"
   ]
  },
  {
   "cell_type": "code",
   "execution_count": 92,
   "id": "780ef27e",
   "metadata": {
    "execution": {
     "iopub.execute_input": "2025-01-22T13:10:39.531454Z",
     "iopub.status.busy": "2025-01-22T13:10:39.531165Z",
     "iopub.status.idle": "2025-01-22T13:10:39.540092Z",
     "shell.execute_reply": "2025-01-22T13:10:39.539559Z"
    }
   },
   "outputs": [
    {
     "data": {
      "text/latex": [
       "$\\displaystyle x_{4} = \\frac{- \\omega - x_{0}^{3} + x_{2} x_{3}}{x_{0} - x_{2}}$"
      ],
      "text/plain": [
       "            3        \n",
       "     -ω - x₀  + x₂⋅x₃\n",
       "x₄ = ────────────────\n",
       "         x₀ - x₂     "
      ]
     },
     "execution_count": 92,
     "metadata": {},
     "output_type": "execute_result"
    }
   ],
   "source": [
    "sm.Eq(*substitutions[4])"
   ]
  },
  {
   "cell_type": "code",
   "execution_count": 93,
   "id": "007a0ec4",
   "metadata": {
    "execution": {
     "iopub.execute_input": "2025-01-22T13:10:39.541470Z",
     "iopub.status.busy": "2025-01-22T13:10:39.541312Z",
     "iopub.status.idle": "2025-01-22T13:10:39.545937Z",
     "shell.execute_reply": "2025-01-22T13:10:39.545540Z"
    }
   },
   "outputs": [
    {
     "data": {
      "text/latex": [
       "$\\displaystyle \\left[\\begin{matrix}x_{1} \\left(- x_{3} - x_{4}\\right)\\\\x_{4}\\end{matrix}\\right]$"
      ],
      "text/plain": [
       "⎡x₁⋅(-x₃ - x₄)⎤\n",
       "⎢             ⎥\n",
       "⎣     x₄      ⎦"
      ]
     },
     "execution_count": 93,
     "metadata": {},
     "output_type": "execute_result"
    }
   ],
   "source": [
    "simplified[0]"
   ]
  },
  {
   "cell_type": "code",
   "execution_count": 94,
   "id": "dd535ea6",
   "metadata": {
    "execution": {
     "iopub.execute_input": "2025-01-22T13:10:39.547446Z",
     "iopub.status.busy": "2025-01-22T13:10:39.547037Z",
     "iopub.status.idle": "2025-01-22T13:10:39.551471Z",
     "shell.execute_reply": "2025-01-22T13:10:39.550963Z"
    }
   },
   "outputs": [
    {
     "data": {
      "text/latex": [
       "$\\displaystyle 22$"
      ],
      "text/plain": [
       "22"
      ]
     },
     "execution_count": 94,
     "metadata": {},
     "output_type": "execute_result"
    }
   ],
   "source": [
    "num_ops = sm.count_ops(simplified[0])\n",
    "for sub in substitutions:\n",
    "    num_ops += sm.count_ops(sub[1])\n",
    "num_ops"
   ]
  },
  {
   "cell_type": "code",
   "execution_count": 95,
   "id": "d2a42d1d",
   "metadata": {
    "execution": {
     "iopub.execute_input": "2025-01-22T13:10:39.553011Z",
     "iopub.status.busy": "2025-01-22T13:10:39.552720Z",
     "iopub.status.idle": "2025-01-22T13:10:39.560208Z",
     "shell.execute_reply": "2025-01-22T13:10:39.559681Z"
    }
   },
   "outputs": [],
   "source": [
    "a, b, c, x, y, z = sm.symbols('a, b, c, x, y, z')\n",
    "base_expr = a*sm.sin(x*x + b*sm.cos(x*y) + c*sm.sin(x*z))"
   ]
  },
  {
   "cell_type": "code",
   "execution_count": 96,
   "id": "9afa7e47",
   "metadata": {
    "execution": {
     "iopub.execute_input": "2025-01-22T13:10:39.561526Z",
     "iopub.status.busy": "2025-01-22T13:10:39.561286Z",
     "iopub.status.idle": "2025-01-22T13:10:44.516945Z",
     "shell.execute_reply": "2025-01-22T13:10:44.516451Z"
    }
   },
   "outputs": [],
   "source": [
    "long_expr = base_expr.diff(x, 10)"
   ]
  },
  {
   "cell_type": "code",
   "execution_count": 97,
   "id": "bc4186c6",
   "metadata": {
    "execution": {
     "iopub.execute_input": "2025-01-22T13:10:44.518552Z",
     "iopub.status.busy": "2025-01-22T13:10:44.518408Z",
     "iopub.status.idle": "2025-01-22T13:10:44.609522Z",
     "shell.execute_reply": "2025-01-22T13:10:44.608997Z"
    }
   },
   "outputs": [],
   "source": [
    "eval_long_expr = sm.lambdify((a, b, c, x, y, z), long_expr)\n",
    "eval_long_expr_cse = sm.lambdify((a, b, c, x, y, z), long_expr, cse=True)"
   ]
  },
  {
   "cell_type": "code",
   "execution_count": 98,
   "id": "7bc052a0",
   "metadata": {
    "execution": {
     "iopub.execute_input": "2025-01-22T13:10:44.611202Z",
     "iopub.status.busy": "2025-01-22T13:10:44.610891Z",
     "iopub.status.idle": "2025-01-22T13:10:46.756164Z",
     "shell.execute_reply": "2025-01-22T13:10:46.755688Z"
    }
   },
   "outputs": [
    {
     "name": "stdout",
     "output_type": "stream",
     "text": [
      "264 μs ± 497 ns per loop (mean ± std. dev. of 7 runs, 1,000 loops each)\n"
     ]
    }
   ],
   "source": [
    "%%timeit\n",
    "eval_long_expr(1.0, 2.0, 3.0, 4.0, 5.0, 6.0)"
   ]
  },
  {
   "cell_type": "code",
   "execution_count": 99,
   "id": "12bb4263",
   "metadata": {
    "execution": {
     "iopub.execute_input": "2025-01-22T13:10:46.757771Z",
     "iopub.status.busy": "2025-01-22T13:10:46.757381Z",
     "iopub.status.idle": "2025-01-22T13:11:00.401106Z",
     "shell.execute_reply": "2025-01-22T13:11:00.400635Z"
    }
   },
   "outputs": [
    {
     "name": "stdout",
     "output_type": "stream",
     "text": [
      "16.8 μs ± 36.2 ns per loop (mean ± std. dev. of 7 runs, 100,000 loops each)\n"
     ]
    }
   ],
   "source": [
    "%%timeit\n",
    "eval_long_expr_cse(1.0, 2.0, 3.0, 4.0, 5.0, 6.0)"
   ]
  }
 ],
 "metadata": {
  "kernelspec": {
   "display_name": "Python 3 (ipykernel)",
   "language": "python",
   "name": "python3"
  },
  "language_info": {
   "codemirror_mode": {
    "name": "ipython",
    "version": 3
   },
   "file_extension": ".py",
   "mimetype": "text/x-python",
   "name": "python",
   "nbconvert_exporter": "python",
   "pygments_lexer": "ipython3",
   "version": "3.11.11"
  }
 },
 "nbformat": 4,
 "nbformat_minor": 5
}