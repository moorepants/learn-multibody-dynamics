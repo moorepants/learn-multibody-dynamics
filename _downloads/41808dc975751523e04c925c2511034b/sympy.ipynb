{
 "cells": [
  {
   "cell_type": "code",
   "execution_count": 1,
   "id": "c5c5fd74",
   "metadata": {
    "execution": {
     "iopub.execute_input": "2025-09-25T05:55:54.078108Z",
     "iopub.status.busy": "2025-09-25T05:55:54.077968Z",
     "iopub.status.idle": "2025-09-25T05:55:54.295019Z",
     "shell.execute_reply": "2025-09-25T05:55:54.294441Z"
    }
   },
   "outputs": [],
   "source": [
    "import sympy as sm"
   ]
  },
  {
   "cell_type": "code",
   "execution_count": 2,
   "id": "1e21ad57",
   "metadata": {
    "execution": {
     "iopub.execute_input": "2025-09-25T05:55:54.296984Z",
     "iopub.status.busy": "2025-09-25T05:55:54.296777Z",
     "iopub.status.idle": "2025-09-25T05:55:54.301195Z",
     "shell.execute_reply": "2025-09-25T05:55:54.300773Z"
    }
   },
   "outputs": [],
   "source": [
    "sm.init_printing(use_latex='mathjax')"
   ]
  },
  {
   "cell_type": "code",
   "execution_count": 3,
   "id": "1c0b47ed",
   "metadata": {
    "execution": {
     "iopub.execute_input": "2025-09-25T05:55:54.302544Z",
     "iopub.status.busy": "2025-09-25T05:55:54.302393Z",
     "iopub.status.idle": "2025-09-25T05:55:54.306562Z",
     "shell.execute_reply": "2025-09-25T05:55:54.306029Z"
    }
   },
   "outputs": [
    {
     "data": {
      "text/latex": [
       "$\\displaystyle a$"
      ],
      "text/plain": [
       "a"
      ]
     },
     "execution_count": 3,
     "metadata": {},
     "output_type": "execute_result"
    }
   ],
   "source": [
    "a = sm.symbols('a')\n",
    "a"
   ]
  },
  {
   "cell_type": "code",
   "execution_count": 4,
   "id": "2e8da008",
   "metadata": {
    "execution": {
     "iopub.execute_input": "2025-09-25T05:55:54.307872Z",
     "iopub.status.busy": "2025-09-25T05:55:54.307722Z",
     "iopub.status.idle": "2025-09-25T05:55:54.310693Z",
     "shell.execute_reply": "2025-09-25T05:55:54.310312Z"
    }
   },
   "outputs": [
    {
     "data": {
      "text/plain": [
       "sympy.core.symbol.Symbol"
      ]
     },
     "execution_count": 4,
     "metadata": {},
     "output_type": "execute_result"
    }
   ],
   "source": [
    "type(a)"
   ]
  },
  {
   "cell_type": "code",
   "execution_count": 5,
   "id": "8d136036",
   "metadata": {
    "execution": {
     "iopub.execute_input": "2025-09-25T05:55:54.311993Z",
     "iopub.status.busy": "2025-09-25T05:55:54.311849Z",
     "iopub.status.idle": "2025-09-25T05:55:54.315646Z",
     "shell.execute_reply": "2025-09-25T05:55:54.315124Z"
    }
   },
   "outputs": [
    {
     "data": {
      "text/latex": [
       "$\\displaystyle \\left( b, \\  t, \\  \\omega, \\  \\Omega\\right)$"
      ],
      "text/plain": [
       "(b, t, ω, Ω)"
      ]
     },
     "execution_count": 5,
     "metadata": {},
     "output_type": "execute_result"
    }
   ],
   "source": [
    "b, t, omega, Omega = sm.symbols('b, t, omega, Omega')\n",
    "b, t, omega, Omega"
   ]
  },
  {
   "cell_type": "code",
   "execution_count": 6,
   "id": "2a1997ca",
   "metadata": {
    "execution": {
     "iopub.execute_input": "2025-09-25T05:55:54.316978Z",
     "iopub.status.busy": "2025-09-25T05:55:54.316833Z",
     "iopub.status.idle": "2025-09-25T05:55:54.320211Z",
     "shell.execute_reply": "2025-09-25T05:55:54.319703Z"
    }
   },
   "outputs": [
    {
     "data": {
      "text/latex": [
       "$\\displaystyle \\left( \\alpha_{1}, \\  \\omega_{2}\\right)$"
      ],
      "text/plain": [
       "(α₁, ω₂)"
      ]
     },
     "execution_count": 6,
     "metadata": {},
     "output_type": "execute_result"
    }
   ],
   "source": [
    "pivot_angle, w2 = sm.symbols('alpha1, omega2')\n",
    "pivot_angle, w2"
   ]
  },
  {
   "cell_type": "code",
   "execution_count": 7,
   "id": "b90d85b6",
   "metadata": {
    "execution": {
     "iopub.execute_input": "2025-09-25T05:55:54.321540Z",
     "iopub.status.busy": "2025-09-25T05:55:54.321395Z",
     "iopub.status.idle": "2025-09-25T05:55:54.324921Z",
     "shell.execute_reply": "2025-09-25T05:55:54.324545Z"
    }
   },
   "outputs": [
    {
     "data": {
      "text/latex": [
       "$\\displaystyle \\left( q_{1}, \\  q_{2}, \\  q_{3}, \\  q_{4}, \\  q_{5}, \\  q_{6}, \\  q_{7}, \\  q_{8}, \\  q_{9}, \\  q_{10}\\right)$"
      ],
      "text/plain": [
       "(q₁, q₂, q₃, q₄, q₅, q₆, q₇, q₈, q₉, q₁₀)"
      ]
     },
     "execution_count": 7,
     "metadata": {},
     "output_type": "execute_result"
    }
   ],
   "source": [
    "sm.symbols('q1:11')"
   ]
  },
  {
   "cell_type": "code",
   "execution_count": 8,
   "id": "addccdae",
   "metadata": {
    "execution": {
     "iopub.execute_input": "2025-09-25T05:55:54.326135Z",
     "iopub.status.busy": "2025-09-25T05:55:54.325992Z",
     "iopub.status.idle": "2025-09-25T05:55:54.329197Z",
     "shell.execute_reply": "2025-09-25T05:55:54.328802Z"
    }
   },
   "outputs": [
    {
     "data": {
      "text/plain": [
       "f"
      ]
     },
     "execution_count": 8,
     "metadata": {},
     "output_type": "execute_result"
    }
   ],
   "source": [
    "f = sm.Function('f')\n",
    "f"
   ]
  },
  {
   "cell_type": "code",
   "execution_count": 9,
   "id": "9ceebc18",
   "metadata": {
    "execution": {
     "iopub.execute_input": "2025-09-25T05:55:54.330394Z",
     "iopub.status.busy": "2025-09-25T05:55:54.330259Z",
     "iopub.status.idle": "2025-09-25T05:55:54.334637Z",
     "shell.execute_reply": "2025-09-25T05:55:54.333953Z"
    }
   },
   "outputs": [
    {
     "data": {
      "text/plain": [
       "sympy.core.function.UndefinedFunction"
      ]
     },
     "execution_count": 9,
     "metadata": {},
     "output_type": "execute_result"
    }
   ],
   "source": [
    "type(f)"
   ]
  },
  {
   "cell_type": "code",
   "execution_count": 10,
   "id": "5f9d38dc",
   "metadata": {
    "execution": {
     "iopub.execute_input": "2025-09-25T05:55:54.335931Z",
     "iopub.status.busy": "2025-09-25T05:55:54.335788Z",
     "iopub.status.idle": "2025-09-25T05:55:54.339530Z",
     "shell.execute_reply": "2025-09-25T05:55:54.339126Z"
    }
   },
   "outputs": [
    {
     "data": {
      "text/latex": [
       "$\\displaystyle f{\\left(t \\right)}$"
      ],
      "text/plain": [
       "f(t)"
      ]
     },
     "execution_count": 10,
     "metadata": {},
     "output_type": "execute_result"
    }
   ],
   "source": [
    "f(t)"
   ]
  },
  {
   "cell_type": "code",
   "execution_count": 11,
   "id": "577dba46",
   "metadata": {
    "execution": {
     "iopub.execute_input": "2025-09-25T05:55:54.340770Z",
     "iopub.status.busy": "2025-09-25T05:55:54.340635Z",
     "iopub.status.idle": "2025-09-25T05:55:54.343848Z",
     "shell.execute_reply": "2025-09-25T05:55:54.343452Z"
    }
   },
   "outputs": [
    {
     "data": {
      "text/plain": [
       "f"
      ]
     },
     "execution_count": 11,
     "metadata": {},
     "output_type": "execute_result"
    }
   ],
   "source": [
    "type(f(t))"
   ]
  },
  {
   "cell_type": "code",
   "execution_count": 12,
   "id": "9d7a3575",
   "metadata": {
    "execution": {
     "iopub.execute_input": "2025-09-25T05:55:54.345110Z",
     "iopub.status.busy": "2025-09-25T05:55:54.344972Z",
     "iopub.status.idle": "2025-09-25T05:55:54.348414Z",
     "shell.execute_reply": "2025-09-25T05:55:54.348012Z"
    }
   },
   "outputs": [
    {
     "data": {
      "text/latex": [
       "$\\displaystyle f{\\left(a,b,\\omega,t \\right)}$"
      ],
      "text/plain": [
       "f(a, b, ω, t)"
      ]
     },
     "execution_count": 12,
     "metadata": {},
     "output_type": "execute_result"
    }
   ],
   "source": [
    "f(a, b, omega, t)"
   ]
  },
  {
   "cell_type": "code",
   "execution_count": 13,
   "id": "00601a41",
   "metadata": {
    "execution": {
     "iopub.execute_input": "2025-09-25T05:55:54.349640Z",
     "iopub.status.busy": "2025-09-25T05:55:54.349505Z",
     "iopub.status.idle": "2025-09-25T05:55:54.353557Z",
     "shell.execute_reply": "2025-09-25T05:55:54.353044Z"
    }
   },
   "outputs": [
    {
     "data": {
      "text/latex": [
       "$\\displaystyle H{\\left(x,y,z \\right)}$"
      ],
      "text/plain": [
       "H(x, y, z)"
      ]
     },
     "execution_count": 13,
     "metadata": {},
     "output_type": "execute_result"
    }
   ],
   "source": [
    "x, y, z = sm.symbols('x, y, z')\n",
    "sm.Function('H')(x, y, z)"
   ]
  },
  {
   "cell_type": "code",
   "execution_count": 14,
   "id": "65af7551",
   "metadata": {
    "execution": {
     "iopub.execute_input": "2025-09-25T05:55:54.354833Z",
     "iopub.status.busy": "2025-09-25T05:55:54.354694Z",
     "iopub.status.idle": "2025-09-25T05:55:54.488018Z",
     "shell.execute_reply": "2025-09-25T05:55:54.487593Z"
    }
   },
   "outputs": [
    {
     "data": {
      "text/latex": [
       "$\\displaystyle a + \\frac{b}{\\omega^{2}}$"
      ],
      "text/plain": [
       "    b \n",
       "a + ──\n",
       "     2\n",
       "    ω "
      ]
     },
     "execution_count": 14,
     "metadata": {},
     "output_type": "execute_result"
    }
   ],
   "source": [
    "expr1 = a + b/omega**2\n",
    "expr1"
   ]
  },
  {
   "cell_type": "code",
   "execution_count": 15,
   "id": "5dcd3922",
   "metadata": {
    "execution": {
     "iopub.execute_input": "2025-09-25T05:55:54.489463Z",
     "iopub.status.busy": "2025-09-25T05:55:54.489310Z",
     "iopub.status.idle": "2025-09-25T05:55:54.492466Z",
     "shell.execute_reply": "2025-09-25T05:55:54.492053Z"
    }
   },
   "outputs": [
    {
     "data": {
      "text/plain": [
       "sympy.core.add.Add"
      ]
     },
     "execution_count": 15,
     "metadata": {},
     "output_type": "execute_result"
    }
   ],
   "source": [
    "type(expr1)"
   ]
  },
  {
   "cell_type": "code",
   "execution_count": 16,
   "id": "6697d48b",
   "metadata": {
    "execution": {
     "iopub.execute_input": "2025-09-25T05:55:54.493755Z",
     "iopub.status.busy": "2025-09-25T05:55:54.493606Z",
     "iopub.status.idle": "2025-09-25T05:55:54.496969Z",
     "shell.execute_reply": "2025-09-25T05:55:54.496483Z"
    }
   },
   "outputs": [
    {
     "data": {
      "text/plain": [
       "\"Add(Symbol('a'), Mul(Symbol('b'), Pow(Symbol('omega'), Integer(-2))))\""
      ]
     },
     "execution_count": 16,
     "metadata": {},
     "output_type": "execute_result"
    }
   ],
   "source": [
    "sm.srepr(expr1)"
   ]
  },
  {
   "cell_type": "code",
   "execution_count": 17,
   "id": "3bb3fc89",
   "metadata": {
    "execution": {
     "iopub.execute_input": "2025-09-25T05:55:54.498291Z",
     "iopub.status.busy": "2025-09-25T05:55:54.498125Z",
     "iopub.status.idle": "2025-09-25T05:55:54.502382Z",
     "shell.execute_reply": "2025-09-25T05:55:54.501979Z"
    }
   },
   "outputs": [
    {
     "data": {
      "text/latex": [
       "$\\displaystyle a \\omega + f{\\left(t \\right)}$"
      ],
      "text/plain": [
       "a⋅ω + f(t)"
      ]
     },
     "execution_count": 17,
     "metadata": {},
     "output_type": "execute_result"
    }
   ],
   "source": [
    "expr2 = f(t) + a*omega\n",
    "expr2"
   ]
  },
  {
   "cell_type": "code",
   "execution_count": 18,
   "id": "98ebaa36",
   "metadata": {
    "execution": {
     "iopub.execute_input": "2025-09-25T05:55:54.503647Z",
     "iopub.status.busy": "2025-09-25T05:55:54.503507Z",
     "iopub.status.idle": "2025-09-25T05:55:54.509678Z",
     "shell.execute_reply": "2025-09-25T05:55:54.509192Z"
    }
   },
   "outputs": [
    {
     "data": {
      "text/latex": [
       "$\\displaystyle a \\sin{\\left(\\omega \\right)} + \\frac{\\left|{f{\\left(t \\right)}}\\right|}{\\sqrt{b}}$"
      ],
      "text/plain": [
       "           │f(t)│\n",
       "a⋅sin(ω) + ──────\n",
       "             √b  "
      ]
     },
     "execution_count": 18,
     "metadata": {},
     "output_type": "execute_result"
    }
   ],
   "source": [
    "expr3 = a*sm.sin(omega) + sm.Abs(f(t))/sm.sqrt(b)\n",
    "expr3"
   ]
  },
  {
   "cell_type": "code",
   "execution_count": 19,
   "id": "9d23820d",
   "metadata": {
    "execution": {
     "iopub.execute_input": "2025-09-25T05:55:54.510963Z",
     "iopub.status.busy": "2025-09-25T05:55:54.510818Z",
     "iopub.status.idle": "2025-09-25T05:55:54.515901Z",
     "shell.execute_reply": "2025-09-25T05:55:54.515521Z"
    }
   },
   "outputs": [
    {
     "data": {
      "text/latex": [
       "$\\displaystyle 5 \\sin{\\left(12 \\right)} + 105.986768359379$"
      ],
      "text/plain": [
       "5⋅sin(12) + 105.986768359379"
      ]
     },
     "execution_count": 19,
     "metadata": {},
     "output_type": "execute_result"
    }
   ],
   "source": [
    "expr4 = 5*sm.sin(12) + sm.Abs(-1001)/sm.sqrt(89.2)\n",
    "expr4"
   ]
  },
  {
   "cell_type": "code",
   "execution_count": 20,
   "id": "77992336",
   "metadata": {
    "execution": {
     "iopub.execute_input": "2025-09-25T05:55:54.517205Z",
     "iopub.status.busy": "2025-09-25T05:55:54.517046Z",
     "iopub.status.idle": "2025-09-25T05:55:54.520849Z",
     "shell.execute_reply": "2025-09-25T05:55:54.520369Z"
    }
   },
   "outputs": [
    {
     "data": {
      "text/latex": [
       "$\\displaystyle 0.5 a$"
      ],
      "text/plain": [
       "0.5⋅a"
      ]
     },
     "execution_count": 20,
     "metadata": {},
     "output_type": "execute_result"
    }
   ],
   "source": [
    "1/2*a"
   ]
  },
  {
   "cell_type": "code",
   "execution_count": 21,
   "id": "b7bbcfba",
   "metadata": {
    "execution": {
     "iopub.execute_input": "2025-09-25T05:55:54.522096Z",
     "iopub.status.busy": "2025-09-25T05:55:54.521947Z",
     "iopub.status.idle": "2025-09-25T05:55:54.525396Z",
     "shell.execute_reply": "2025-09-25T05:55:54.524908Z"
    }
   },
   "outputs": [
    {
     "data": {
      "text/latex": [
       "$\\displaystyle \\frac{a}{2}$"
      ],
      "text/plain": [
       "a\n",
       "─\n",
       "2"
      ]
     },
     "execution_count": 21,
     "metadata": {},
     "output_type": "execute_result"
    }
   ],
   "source": [
    "sm.S(1)/2*a"
   ]
  },
  {
   "cell_type": "code",
   "execution_count": 22,
   "id": "9258d11e",
   "metadata": {
    "execution": {
     "iopub.execute_input": "2025-09-25T05:55:54.526780Z",
     "iopub.status.busy": "2025-09-25T05:55:54.526633Z",
     "iopub.status.idle": "2025-09-25T05:55:54.529941Z",
     "shell.execute_reply": "2025-09-25T05:55:54.529464Z"
    }
   },
   "outputs": [
    {
     "data": {
      "text/latex": [
       "$\\displaystyle \\frac{a}{2}$"
      ],
      "text/plain": [
       "a\n",
       "─\n",
       "2"
      ]
     },
     "execution_count": 22,
     "metadata": {},
     "output_type": "execute_result"
    }
   ],
   "source": [
    "a/2"
   ]
  },
  {
   "cell_type": "code",
   "execution_count": 23,
   "id": "545f041e",
   "metadata": {
    "execution": {
     "iopub.execute_input": "2025-09-25T05:55:54.531227Z",
     "iopub.status.busy": "2025-09-25T05:55:54.531063Z",
     "iopub.status.idle": "2025-09-25T05:55:54.537011Z",
     "shell.execute_reply": "2025-09-25T05:55:54.536530Z"
    }
   },
   "outputs": [
    {
     "data": {
      "text/latex": [
       "$\\displaystyle t \\sin{\\left(\\omega f{\\left(t \\right)} \\right)} + \\frac{f{\\left(t \\right)}}{\\sqrt{t}}$"
      ],
      "text/plain": [
       "                f(t)\n",
       "t⋅sin(ω⋅f(t)) + ────\n",
       "                 √t "
      ]
     },
     "execution_count": 23,
     "metadata": {},
     "output_type": "execute_result"
    }
   ],
   "source": [
    "expr5 = t*sm.sin(omega*f(t)) + f(t)/sm.sqrt(t)\n",
    "expr5"
   ]
  },
  {
   "cell_type": "code",
   "execution_count": 24,
   "id": "5ff5afbc",
   "metadata": {
    "execution": {
     "iopub.execute_input": "2025-09-25T05:55:54.538390Z",
     "iopub.status.busy": "2025-09-25T05:55:54.538235Z",
     "iopub.status.idle": "2025-09-25T05:55:54.552441Z",
     "shell.execute_reply": "2025-09-25T05:55:54.551926Z"
    }
   },
   "outputs": [
    {
     "data": {
      "text/latex": [
       "$\\displaystyle \\frac{\\sqrt{2} e^{\\frac{\\left(- \\mu + x\\right)^{2}}{2 \\sigma^{2}}}}{2 \\sqrt{\\pi} \\sqrt{\\sigma}}$"
      ],
      "text/plain": [
       "            2\n",
       "    (-μ + x) \n",
       "    ─────────\n",
       "          2  \n",
       "       2⋅σ   \n",
       "√2⋅ℯ         \n",
       "─────────────\n",
       "   2⋅√π⋅√σ   "
      ]
     },
     "execution_count": 24,
     "metadata": {},
     "output_type": "execute_result"
    }
   ],
   "source": [
    "x, s, m = sm.symbols('x, sigma, mu')\n",
    "sm.exp((x-m)**2/2/s**2)/sm.sqrt(2*sm.pi*s)"
   ]
  },
  {
   "cell_type": "code",
   "execution_count": 25,
   "id": "ce7644bb",
   "metadata": {
    "execution": {
     "iopub.execute_input": "2025-09-25T05:55:54.553777Z",
     "iopub.status.busy": "2025-09-25T05:55:54.553621Z",
     "iopub.status.idle": "2025-09-25T05:55:54.557066Z",
     "shell.execute_reply": "2025-09-25T05:55:54.556587Z"
    }
   },
   "outputs": [
    {
     "data": {
      "text/plain": [
       "\"Add(Mul(Symbol('a'), sin(Symbol('omega'))), Mul(Pow(Symbol('b'), Rational(-1, 2)), Abs(Function('f')(Symbol('t')))))\""
      ]
     },
     "execution_count": 25,
     "metadata": {},
     "output_type": "execute_result"
    }
   ],
   "source": [
    "sm.srepr(expr3)"
   ]
  },
  {
   "cell_type": "code",
   "execution_count": 26,
   "id": "9b2552ba",
   "metadata": {
    "execution": {
     "iopub.execute_input": "2025-09-25T05:55:54.558299Z",
     "iopub.status.busy": "2025-09-25T05:55:54.558126Z",
     "iopub.status.idle": "2025-09-25T05:55:54.561475Z",
     "shell.execute_reply": "2025-09-25T05:55:54.560992Z"
    }
   },
   "outputs": [
    {
     "data": {
      "text/plain": [
       "'a*sin(omega) + Abs(f(t))/sqrt(b)'"
      ]
     },
     "execution_count": 26,
     "metadata": {},
     "output_type": "execute_result"
    }
   ],
   "source": [
    "repr(expr3)"
   ]
  },
  {
   "cell_type": "code",
   "execution_count": 27,
   "id": "14cb1a26",
   "metadata": {
    "execution": {
     "iopub.execute_input": "2025-09-25T05:55:54.562835Z",
     "iopub.status.busy": "2025-09-25T05:55:54.562688Z",
     "iopub.status.idle": "2025-09-25T05:55:54.565688Z",
     "shell.execute_reply": "2025-09-25T05:55:54.565266Z"
    }
   },
   "outputs": [
    {
     "name": "stdout",
     "output_type": "stream",
     "text": [
      "a*sin(omega) + Abs(f(t))/sqrt(b)\n"
     ]
    }
   ],
   "source": [
    "print(expr3)"
   ]
  },
  {
   "cell_type": "code",
   "execution_count": 28,
   "id": "847d873f",
   "metadata": {
    "execution": {
     "iopub.execute_input": "2025-09-25T05:55:54.566936Z",
     "iopub.status.busy": "2025-09-25T05:55:54.566786Z",
     "iopub.status.idle": "2025-09-25T05:55:54.569779Z",
     "shell.execute_reply": "2025-09-25T05:55:54.569374Z"
    }
   },
   "outputs": [
    {
     "name": "stdout",
     "output_type": "stream",
     "text": [
      "           │f(t)│\n",
      "a⋅sin(ω) + ──────\n",
      "             √b  \n"
     ]
    }
   ],
   "source": [
    "sm.pprint(expr3)"
   ]
  },
  {
   "cell_type": "code",
   "execution_count": 29,
   "id": "9ba21cb4",
   "metadata": {
    "execution": {
     "iopub.execute_input": "2025-09-25T05:55:54.571015Z",
     "iopub.status.busy": "2025-09-25T05:55:54.570866Z",
     "iopub.status.idle": "2025-09-25T05:55:54.574266Z",
     "shell.execute_reply": "2025-09-25T05:55:54.573782Z"
    }
   },
   "outputs": [
    {
     "data": {
      "text/plain": [
       "'a \\\\sin{\\\\left(\\\\omega \\\\right)} + \\\\frac{\\\\left|{f{\\\\left(t \\\\right)}}\\\\right|}{\\\\sqrt{b}}'"
      ]
     },
     "execution_count": 29,
     "metadata": {},
     "output_type": "execute_result"
    }
   ],
   "source": [
    "sm.latex(expr3)"
   ]
  },
  {
   "cell_type": "code",
   "execution_count": 30,
   "id": "c93c83ee",
   "metadata": {
    "execution": {
     "iopub.execute_input": "2025-09-25T05:55:54.575491Z",
     "iopub.status.busy": "2025-09-25T05:55:54.575346Z",
     "iopub.status.idle": "2025-09-25T05:55:54.578336Z",
     "shell.execute_reply": "2025-09-25T05:55:54.577854Z"
    }
   },
   "outputs": [
    {
     "name": "stdout",
     "output_type": "stream",
     "text": [
      "a \\sin{\\left(\\omega \\right)} + \\frac{\\left|{f{\\left(t \\right)}}\\right|}{\\sqrt{b}}\n"
     ]
    }
   ],
   "source": [
    "print(sm.latex(expr3))"
   ]
  },
  {
   "cell_type": "code",
   "execution_count": 31,
   "id": "c1ba956a",
   "metadata": {
    "execution": {
     "iopub.execute_input": "2025-09-25T05:55:54.579602Z",
     "iopub.status.busy": "2025-09-25T05:55:54.579457Z",
     "iopub.status.idle": "2025-09-25T05:55:54.583177Z",
     "shell.execute_reply": "2025-09-25T05:55:54.582681Z"
    }
   },
   "outputs": [
    {
     "name": "stdout",
     "output_type": "stream",
     "text": [
      "\\begin{equation}\\frac{\\sqrt{2} e^{\\frac{\\left(- \\mu + x\\right)^{2}}{2 \\sigma^{2}}}}{2 \\sqrt{\\pi} \\sqrt{\\sigma}}\\end{equation}\n"
     ]
    }
   ],
   "source": [
    "x, s, m = sm.symbols('x, sigma, mu')\n",
    "print(sm.latex(sm.exp((x-m)**2/2/s**2)/sm.sqrt(2*sm.pi*s),\n",
    "               mode='equation'))"
   ]
  },
  {
   "cell_type": "code",
   "execution_count": 32,
   "id": "15e4377b",
   "metadata": {
    "execution": {
     "iopub.execute_input": "2025-09-25T05:55:54.584449Z",
     "iopub.status.busy": "2025-09-25T05:55:54.584307Z",
     "iopub.status.idle": "2025-09-25T05:55:54.588465Z",
     "shell.execute_reply": "2025-09-25T05:55:54.587960Z"
    }
   },
   "outputs": [
    {
     "data": {
      "text/latex": [
       "$\\displaystyle \\frac{d}{d t} f{\\left(t \\right)}$"
      ],
      "text/plain": [
       "d       \n",
       "──(f(t))\n",
       "dt      "
      ]
     },
     "execution_count": 32,
     "metadata": {},
     "output_type": "execute_result"
    }
   ],
   "source": [
    "sm.diff(f(t), t)"
   ]
  },
  {
   "cell_type": "code",
   "execution_count": 33,
   "id": "c0c1721d",
   "metadata": {
    "execution": {
     "iopub.execute_input": "2025-09-25T05:55:54.589834Z",
     "iopub.status.busy": "2025-09-25T05:55:54.589684Z",
     "iopub.status.idle": "2025-09-25T05:55:54.593443Z",
     "shell.execute_reply": "2025-09-25T05:55:54.592956Z"
    }
   },
   "outputs": [
    {
     "data": {
      "text/latex": [
       "$\\displaystyle \\frac{d}{d t} f{\\left(t \\right)}$"
      ],
      "text/plain": [
       "d       \n",
       "──(f(t))\n",
       "dt      "
      ]
     },
     "execution_count": 33,
     "metadata": {},
     "output_type": "execute_result"
    }
   ],
   "source": [
    "f(t).diff(t)"
   ]
  },
  {
   "cell_type": "code",
   "execution_count": 34,
   "id": "1585b110",
   "metadata": {
    "execution": {
     "iopub.execute_input": "2025-09-25T05:55:54.594646Z",
     "iopub.status.busy": "2025-09-25T05:55:54.594500Z",
     "iopub.status.idle": "2025-09-25T05:55:54.598467Z",
     "shell.execute_reply": "2025-09-25T05:55:54.597969Z"
    }
   },
   "outputs": [
    {
     "data": {
      "text/latex": [
       "$\\displaystyle a \\sin{\\left(\\omega \\right)} + \\frac{\\left|{f{\\left(t \\right)}}\\right|}{\\sqrt{b}}$"
      ],
      "text/plain": [
       "           │f(t)│\n",
       "a⋅sin(ω) + ──────\n",
       "             √b  "
      ]
     },
     "execution_count": 34,
     "metadata": {},
     "output_type": "execute_result"
    }
   ],
   "source": [
    "expr3"
   ]
  },
  {
   "cell_type": "code",
   "execution_count": 35,
   "id": "d6f81345",
   "metadata": {
    "execution": {
     "iopub.execute_input": "2025-09-25T05:55:54.599813Z",
     "iopub.status.busy": "2025-09-25T05:55:54.599663Z",
     "iopub.status.idle": "2025-09-25T05:55:54.607062Z",
     "shell.execute_reply": "2025-09-25T05:55:54.606591Z"
    }
   },
   "outputs": [
    {
     "data": {
      "text/latex": [
       "$\\displaystyle - \\frac{\\left|{f{\\left(t \\right)}}\\right|}{2 b^{\\frac{3}{2}}}$"
      ],
      "text/plain": [
       "-│f(t)│ \n",
       "────────\n",
       "    3/2 \n",
       " 2⋅b    "
      ]
     },
     "execution_count": 35,
     "metadata": {},
     "output_type": "execute_result"
    }
   ],
   "source": [
    "expr3.diff(b)"
   ]
  },
  {
   "cell_type": "code",
   "execution_count": 36,
   "id": "b7fe8e72",
   "metadata": {
    "execution": {
     "iopub.execute_input": "2025-09-25T05:55:54.608431Z",
     "iopub.status.busy": "2025-09-25T05:55:54.608281Z",
     "iopub.status.idle": "2025-09-25T05:55:54.625915Z",
     "shell.execute_reply": "2025-09-25T05:55:54.625431Z"
    }
   },
   "outputs": [
    {
     "data": {
      "text/latex": [
       "$\\displaystyle - \\frac{\\left(\\operatorname{re}{\\left(f{\\left(t \\right)}\\right)} \\frac{d}{d t} \\operatorname{re}{\\left(f{\\left(t \\right)}\\right)} + \\operatorname{im}{\\left(f{\\left(t \\right)}\\right)} \\frac{d}{d t} \\operatorname{im}{\\left(f{\\left(t \\right)}\\right)}\\right) \\operatorname{sign}{\\left(f{\\left(t \\right)} \\right)}}{2 b^{\\frac{3}{2}} f{\\left(t \\right)}}$"
      ],
      "text/plain": [
       " ⎛         d                       d           ⎞            \n",
       "-⎜re(f(t))⋅──(re(f(t))) + im(f(t))⋅──(im(f(t)))⎟⋅sign(f(t)) \n",
       " ⎝         dt                      dt          ⎠            \n",
       "────────────────────────────────────────────────────────────\n",
       "                           3/2                              \n",
       "                        2⋅b   ⋅f(t)                         "
      ]
     },
     "execution_count": 36,
     "metadata": {},
     "output_type": "execute_result"
    }
   ],
   "source": [
    "expr3.diff(b, t)"
   ]
  },
  {
   "cell_type": "code",
   "execution_count": 37,
   "id": "43b1dce6",
   "metadata": {
    "execution": {
     "iopub.execute_input": "2025-09-25T05:55:54.627310Z",
     "iopub.status.busy": "2025-09-25T05:55:54.627129Z",
     "iopub.status.idle": "2025-09-25T05:55:54.643893Z",
     "shell.execute_reply": "2025-09-25T05:55:54.643417Z"
    }
   },
   "outputs": [
    {
     "data": {
      "text/latex": [
       "$\\displaystyle \\frac{\\left(\\operatorname{re}{\\left(h{\\left(t \\right)}\\right)} \\frac{d}{d t} \\operatorname{re}{\\left(h{\\left(t \\right)}\\right)} + \\operatorname{im}{\\left(h{\\left(t \\right)}\\right)} \\frac{d}{d t} \\operatorname{im}{\\left(h{\\left(t \\right)}\\right)}\\right) \\operatorname{sign}{\\left(h{\\left(t \\right)} \\right)}}{h{\\left(t \\right)}}$"
      ],
      "text/plain": [
       "⎛         d                       d           ⎞           \n",
       "⎜re(h(t))⋅──(re(h(t))) + im(h(t))⋅──(im(h(t)))⎟⋅sign(h(t))\n",
       "⎝         dt                      dt          ⎠           \n",
       "──────────────────────────────────────────────────────────\n",
       "                           h(t)                           "
      ]
     },
     "execution_count": 37,
     "metadata": {},
     "output_type": "execute_result"
    }
   ],
   "source": [
    "h = sm.Function('h')\n",
    "sm.Abs(h(t)).diff(t)"
   ]
  },
  {
   "cell_type": "code",
   "execution_count": 38,
   "id": "57e27cb5",
   "metadata": {
    "execution": {
     "iopub.execute_input": "2025-09-25T05:55:54.645220Z",
     "iopub.status.busy": "2025-09-25T05:55:54.645047Z",
     "iopub.status.idle": "2025-09-25T05:55:54.650902Z",
     "shell.execute_reply": "2025-09-25T05:55:54.650421Z"
    }
   },
   "outputs": [
    {
     "data": {
      "text/latex": [
       "$\\displaystyle \\operatorname{sign}{\\left(h{\\left(t \\right)} \\right)} \\frac{d}{d t} h{\\left(t \\right)}$"
      ],
      "text/plain": [
       "           d       \n",
       "sign(h(t))⋅──(h(t))\n",
       "           dt      "
      ]
     },
     "execution_count": 38,
     "metadata": {},
     "output_type": "execute_result"
    }
   ],
   "source": [
    "h = sm.Function('h', real=True)\n",
    "sm.Abs(h(t)).diff(t)"
   ]
  },
  {
   "cell_type": "code",
   "execution_count": 39,
   "id": "10978974",
   "metadata": {
    "execution": {
     "iopub.execute_input": "2025-09-25T05:55:54.652166Z",
     "iopub.status.busy": "2025-09-25T05:55:54.652002Z",
     "iopub.status.idle": "2025-09-25T05:55:54.656442Z",
     "shell.execute_reply": "2025-09-25T05:55:54.655952Z"
    }
   },
   "outputs": [
    {
     "data": {
      "text/latex": [
       "$\\displaystyle \\frac{d}{d t} h{\\left(t \\right)}$"
      ],
      "text/plain": [
       "d       \n",
       "──(h(t))\n",
       "dt      "
      ]
     },
     "execution_count": 39,
     "metadata": {},
     "output_type": "execute_result"
    }
   ],
   "source": [
    "h = sm.Function('h', real=True, positive=True)\n",
    "sm.Abs(h(t)).diff(t)"
   ]
  },
  {
   "cell_type": "code",
   "execution_count": 40,
   "id": "c62d9b31",
   "metadata": {
    "execution": {
     "iopub.execute_input": "2025-09-25T05:55:54.657650Z",
     "iopub.status.busy": "2025-09-25T05:55:54.657505Z",
     "iopub.status.idle": "2025-09-25T05:55:54.661646Z",
     "shell.execute_reply": "2025-09-25T05:55:54.661177Z"
    }
   },
   "outputs": [
    {
     "data": {
      "text/latex": [
       "$\\displaystyle t \\sin{\\left(\\omega f{\\left(t \\right)} \\right)} + \\frac{f{\\left(t \\right)}}{\\sqrt{t}}$"
      ],
      "text/plain": [
       "                f(t)\n",
       "t⋅sin(ω⋅f(t)) + ────\n",
       "                 √t "
      ]
     },
     "execution_count": 40,
     "metadata": {},
     "output_type": "execute_result"
    }
   ],
   "source": [
    "expr5"
   ]
  },
  {
   "cell_type": "code",
   "execution_count": 41,
   "id": "9b91891f",
   "metadata": {
    "execution": {
     "iopub.execute_input": "2025-09-25T05:55:54.662971Z",
     "iopub.status.busy": "2025-09-25T05:55:54.662831Z",
     "iopub.status.idle": "2025-09-25T05:55:54.677787Z",
     "shell.execute_reply": "2025-09-25T05:55:54.677305Z"
    }
   },
   "outputs": [
    {
     "data": {
      "text/latex": [
       "$\\displaystyle - \\omega t f{\\left(t \\right)} \\sin{\\left(\\omega f{\\left(t \\right)} \\right)} \\frac{d}{d t} f{\\left(t \\right)} + t \\cos{\\left(\\omega f{\\left(t \\right)} \\right)} \\frac{d}{d t} f{\\left(t \\right)} + f{\\left(t \\right)} \\cos{\\left(\\omega f{\\left(t \\right)} \\right)}$"
      ],
      "text/plain": [
       "                       d                        d                          \n",
       "- ω⋅t⋅f(t)⋅sin(ω⋅f(t))⋅──(f(t)) + t⋅cos(ω⋅f(t))⋅──(f(t)) + f(t)⋅cos(ω⋅f(t))\n",
       "                       dt                       dt                         "
      ]
     },
     "execution_count": 41,
     "metadata": {},
     "output_type": "execute_result"
    }
   ],
   "source": [
    "expr5.diff(t, omega)"
   ]
  },
  {
   "cell_type": "code",
   "execution_count": 42,
   "id": "fa2c930f",
   "metadata": {
    "execution": {
     "iopub.execute_input": "2025-09-25T05:55:54.679121Z",
     "iopub.status.busy": "2025-09-25T05:55:54.678970Z",
     "iopub.status.idle": "2025-09-25T05:55:54.695469Z",
     "shell.execute_reply": "2025-09-25T05:55:54.694941Z"
    }
   },
   "outputs": [
    {
     "data": {
      "text/latex": [
       "$\\displaystyle - \\omega t f{\\left(t \\right)} \\sin{\\left(\\omega f{\\left(t \\right)} \\right)} \\frac{d}{d t} f{\\left(t \\right)} + t \\cos{\\left(\\omega f{\\left(t \\right)} \\right)} \\frac{d}{d t} f{\\left(t \\right)} + f{\\left(t \\right)} \\cos{\\left(\\omega f{\\left(t \\right)} \\right)}$"
      ],
      "text/plain": [
       "                       d                        d                          \n",
       "- ω⋅t⋅f(t)⋅sin(ω⋅f(t))⋅──(f(t)) + t⋅cos(ω⋅f(t))⋅──(f(t)) + f(t)⋅cos(ω⋅f(t))\n",
       "                       dt                       dt                         "
      ]
     },
     "execution_count": 42,
     "metadata": {},
     "output_type": "execute_result"
    }
   ],
   "source": [
    "expr5.diff(t).diff(omega)"
   ]
  },
  {
   "cell_type": "code",
   "execution_count": 43,
   "id": "abfb050b",
   "metadata": {
    "execution": {
     "iopub.execute_input": "2025-09-25T05:55:54.696792Z",
     "iopub.status.busy": "2025-09-25T05:55:54.696640Z",
     "iopub.status.idle": "2025-09-25T05:55:54.699310Z",
     "shell.execute_reply": "2025-09-25T05:55:54.698816Z"
    }
   },
   "outputs": [],
   "source": [
    "repl = {omega: sm.pi/4, a: 2, f(t): -12, b: 25}"
   ]
  },
  {
   "cell_type": "code",
   "execution_count": 44,
   "id": "08d366d8",
   "metadata": {
    "execution": {
     "iopub.execute_input": "2025-09-25T05:55:54.700714Z",
     "iopub.status.busy": "2025-09-25T05:55:54.700563Z",
     "iopub.status.idle": "2025-09-25T05:55:54.707130Z",
     "shell.execute_reply": "2025-09-25T05:55:54.706621Z"
    }
   },
   "outputs": [
    {
     "data": {
      "text/latex": [
       "$\\displaystyle \\sqrt{2} + \\frac{12}{5}$"
      ],
      "text/plain": [
       "√2 + 12/5"
      ]
     },
     "execution_count": 44,
     "metadata": {},
     "output_type": "execute_result"
    }
   ],
   "source": [
    "expr3.xreplace(repl)"
   ]
  },
  {
   "cell_type": "code",
   "execution_count": 45,
   "id": "29eddbf2",
   "metadata": {
    "execution": {
     "iopub.execute_input": "2025-09-25T05:55:54.708521Z",
     "iopub.status.busy": "2025-09-25T05:55:54.708369Z",
     "iopub.status.idle": "2025-09-25T05:55:54.712645Z",
     "shell.execute_reply": "2025-09-25T05:55:54.712174Z"
    }
   },
   "outputs": [
    {
     "data": {
      "text/latex": [
       "$\\displaystyle 3.814213562$"
      ],
      "text/plain": [
       "3.814213562"
      ]
     },
     "execution_count": 45,
     "metadata": {},
     "output_type": "execute_result"
    }
   ],
   "source": [
    "expr3.evalf(n=10, subs=repl)"
   ]
  },
  {
   "cell_type": "code",
   "execution_count": 46,
   "id": "bbdc71c5",
   "metadata": {
    "execution": {
     "iopub.execute_input": "2025-09-25T05:55:54.713995Z",
     "iopub.status.busy": "2025-09-25T05:55:54.713850Z",
     "iopub.status.idle": "2025-09-25T05:55:54.717765Z",
     "shell.execute_reply": "2025-09-25T05:55:54.717300Z"
    }
   },
   "outputs": [
    {
     "data": {
      "text/plain": [
       "sympy.core.numbers.Float"
      ]
     },
     "execution_count": 46,
     "metadata": {},
     "output_type": "execute_result"
    }
   ],
   "source": [
    "type(expr3.evalf(n=10, subs=repl))"
   ]
  },
  {
   "cell_type": "code",
   "execution_count": 47,
   "id": "23d7f092",
   "metadata": {
    "execution": {
     "iopub.execute_input": "2025-09-25T05:55:54.719071Z",
     "iopub.status.busy": "2025-09-25T05:55:54.718926Z",
     "iopub.status.idle": "2025-09-25T05:55:54.723016Z",
     "shell.execute_reply": "2025-09-25T05:55:54.722544Z"
    }
   },
   "outputs": [
    {
     "data": {
      "text/latex": [
       "$\\displaystyle 3.814213562373095048801688724209698078569671875376948073176679737990732478462107$"
      ],
      "text/plain": [
       "3.8142135623730950488016887242096980785696718753769480731766797379907324784621\n",
       "070"
      ]
     },
     "execution_count": 47,
     "metadata": {},
     "output_type": "execute_result"
    }
   ],
   "source": [
    "expr3.evalf(n=80, subs=repl)"
   ]
  },
  {
   "cell_type": "code",
   "execution_count": 48,
   "id": "1f62a109",
   "metadata": {
    "execution": {
     "iopub.execute_input": "2025-09-25T05:55:54.724225Z",
     "iopub.status.busy": "2025-09-25T05:55:54.724064Z",
     "iopub.status.idle": "2025-09-25T05:55:54.728173Z",
     "shell.execute_reply": "2025-09-25T05:55:54.727688Z"
    }
   },
   "outputs": [
    {
     "data": {
      "text/latex": [
       "$\\displaystyle 3.81421356237309$"
      ],
      "text/plain": [
       "3.814213562373095"
      ]
     },
     "execution_count": 48,
     "metadata": {},
     "output_type": "execute_result"
    }
   ],
   "source": [
    "float(expr3.evalf(n=300, subs=repl))"
   ]
  },
  {
   "cell_type": "code",
   "execution_count": 49,
   "id": "1f0d0eb1",
   "metadata": {
    "execution": {
     "iopub.execute_input": "2025-09-25T05:55:54.729551Z",
     "iopub.status.busy": "2025-09-25T05:55:54.729399Z",
     "iopub.status.idle": "2025-09-25T05:55:54.733393Z",
     "shell.execute_reply": "2025-09-25T05:55:54.732874Z"
    }
   },
   "outputs": [
    {
     "data": {
      "text/plain": [
       "float"
      ]
     },
     "execution_count": 49,
     "metadata": {},
     "output_type": "execute_result"
    }
   ],
   "source": [
    "type(float(expr3.evalf(n=300, subs=repl)))"
   ]
  },
  {
   "cell_type": "code",
   "execution_count": 50,
   "id": "30b15ea2",
   "metadata": {
    "execution": {
     "iopub.execute_input": "2025-09-25T05:55:54.734589Z",
     "iopub.status.busy": "2025-09-25T05:55:54.734455Z",
     "iopub.status.idle": "2025-09-25T05:55:54.738542Z",
     "shell.execute_reply": "2025-09-25T05:55:54.738044Z"
    }
   },
   "outputs": [
    {
     "data": {
      "text/latex": [
       "$\\displaystyle a \\sin{\\left(\\omega \\right)} + \\frac{\\left|{f{\\left(t \\right)}}\\right|}{\\sqrt{b}}$"
      ],
      "text/plain": [
       "           │f(t)│\n",
       "a⋅sin(ω) + ──────\n",
       "             √b  "
      ]
     },
     "execution_count": 50,
     "metadata": {},
     "output_type": "execute_result"
    }
   ],
   "source": [
    "expr3"
   ]
  },
  {
   "cell_type": "code",
   "execution_count": 51,
   "id": "d6464adc",
   "metadata": {
    "execution": {
     "iopub.execute_input": "2025-09-25T05:55:54.739880Z",
     "iopub.status.busy": "2025-09-25T05:55:54.739730Z",
     "iopub.status.idle": "2025-09-25T05:55:54.895916Z",
     "shell.execute_reply": "2025-09-25T05:55:54.895476Z"
    }
   },
   "outputs": [],
   "source": [
    "eval_expr3 = sm.lambdify((omega, a, f(t), b), expr3)"
   ]
  },
  {
   "cell_type": "code",
   "execution_count": 52,
   "id": "c3a5dd3e",
   "metadata": {
    "execution": {
     "iopub.execute_input": "2025-09-25T05:55:54.897569Z",
     "iopub.status.busy": "2025-09-25T05:55:54.897386Z",
     "iopub.status.idle": "2025-09-25T05:55:54.900081Z",
     "shell.execute_reply": "2025-09-25T05:55:54.899698Z"
    }
   },
   "outputs": [
    {
     "name": "stdout",
     "output_type": "stream",
     "text": [
      "Help on function _lambdifygenerated:\n",
      "\n",
      "_lambdifygenerated(omega, a, _Dummy_38, b)\n",
      "    Created with lambdify. Signature:\n",
      "    \n",
      "    func(omega, a, f, b)\n",
      "    \n",
      "    Expression:\n",
      "    \n",
      "    a*sin(omega) + Abs(f(t))/sqrt(b)\n",
      "    \n",
      "    Source code:\n",
      "    \n",
      "    def _lambdifygenerated(omega, a, _Dummy_38, b):\n",
      "        return a*sin(omega) + abs(_Dummy_38)/sqrt(b)\n",
      "    \n",
      "    \n",
      "    Imported modules:\n",
      "\n"
     ]
    }
   ],
   "source": [
    "help(eval_expr3)"
   ]
  },
  {
   "cell_type": "code",
   "execution_count": 53,
   "id": "42f9d711",
   "metadata": {
    "execution": {
     "iopub.execute_input": "2025-09-25T05:55:54.901348Z",
     "iopub.status.busy": "2025-09-25T05:55:54.901210Z",
     "iopub.status.idle": "2025-09-25T05:55:54.904703Z",
     "shell.execute_reply": "2025-09-25T05:55:54.904305Z"
    }
   },
   "outputs": [
    {
     "data": {
      "text/latex": [
       "$\\displaystyle 3.81365036221073$"
      ],
      "text/plain": [
       "3.8136503622107316"
      ]
     },
     "execution_count": 53,
     "metadata": {},
     "output_type": "execute_result"
    }
   ],
   "source": [
    "eval_expr3(3.14/4, 2, -12, 25)"
   ]
  },
  {
   "cell_type": "code",
   "execution_count": 54,
   "id": "9d4e519f",
   "metadata": {
    "execution": {
     "iopub.execute_input": "2025-09-25T05:55:54.905927Z",
     "iopub.status.busy": "2025-09-25T05:55:54.905793Z",
     "iopub.status.idle": "2025-09-25T05:55:54.909028Z",
     "shell.execute_reply": "2025-09-25T05:55:54.908522Z"
    }
   },
   "outputs": [
    {
     "data": {
      "text/plain": [
       "numpy.float64"
      ]
     },
     "execution_count": 54,
     "metadata": {},
     "output_type": "execute_result"
    }
   ],
   "source": [
    "type(eval_expr3(3.14/4, 2, -12, 25))"
   ]
  },
  {
   "cell_type": "code",
   "execution_count": 55,
   "id": "03e6b6b8",
   "metadata": {
    "execution": {
     "iopub.execute_input": "2025-09-25T05:55:54.910383Z",
     "iopub.status.busy": "2025-09-25T05:55:54.910241Z",
     "iopub.status.idle": "2025-09-25T05:55:54.913682Z",
     "shell.execute_reply": "2025-09-25T05:55:54.913195Z"
    }
   },
   "outputs": [
    {
     "data": {
      "text/plain": [
       "array([3.81365036, 3.76704398, 3.72305144])"
      ]
     },
     "execution_count": 55,
     "metadata": {},
     "output_type": "execute_result"
    }
   ],
   "source": [
    "eval_expr3(3.14/4, 2, -12, [25, 26, 27])"
   ]
  },
  {
   "cell_type": "code",
   "execution_count": 56,
   "id": "86934750",
   "metadata": {
    "execution": {
     "iopub.execute_input": "2025-09-25T05:55:54.914981Z",
     "iopub.status.busy": "2025-09-25T05:55:54.914840Z",
     "iopub.status.idle": "2025-09-25T05:55:54.918067Z",
     "shell.execute_reply": "2025-09-25T05:55:54.917581Z"
    }
   },
   "outputs": [
    {
     "data": {
      "text/plain": [
       "numpy.ndarray"
      ]
     },
     "execution_count": 56,
     "metadata": {},
     "output_type": "execute_result"
    }
   ],
   "source": [
    "type(eval_expr3(3.14/4, 2, -12, [25, 26, 27]))"
   ]
  },
  {
   "cell_type": "code",
   "execution_count": 57,
   "id": "e8f6be09",
   "metadata": {
    "execution": {
     "iopub.execute_input": "2025-09-25T05:55:54.919364Z",
     "iopub.status.busy": "2025-09-25T05:55:54.919216Z",
     "iopub.status.idle": "2025-09-25T05:55:54.925280Z",
     "shell.execute_reply": "2025-09-25T05:55:54.924759Z"
    }
   },
   "outputs": [
    {
     "data": {
      "text/latex": [
       "$\\displaystyle 785.597874097975$"
      ],
      "text/plain": [
       "785.5978740979749"
      ]
     },
     "execution_count": 57,
     "metadata": {},
     "output_type": "execute_result"
    }
   ],
   "source": [
    "G, m1, m2, r = sm.symbols('G, m1, m2, r')\n",
    "F = G*m1*m2/r**2\n",
    "eval_F = sm.lambdify((G, m1, m2, r), F)\n",
    "eval_F(6.67430E-11, 5.972E24, 80, 6371E3)"
   ]
  },
  {
   "cell_type": "code",
   "execution_count": 58,
   "id": "c8906692",
   "metadata": {
    "execution": {
     "iopub.execute_input": "2025-09-25T05:55:54.926563Z",
     "iopub.status.busy": "2025-09-25T05:55:54.926414Z",
     "iopub.status.idle": "2025-09-25T05:55:54.931139Z",
     "shell.execute_reply": "2025-09-25T05:55:54.930668Z"
    }
   },
   "outputs": [
    {
     "data": {
      "text/latex": [
       "$\\displaystyle \\left[\\begin{matrix}a & 2 a\\\\\\frac{b}{\\omega} & f{\\left(t \\right)}\\end{matrix}\\right]$"
      ],
      "text/plain": [
       "⎡a  2⋅a ⎤\n",
       "⎢       ⎥\n",
       "⎢b      ⎥\n",
       "⎢─  f(t)⎥\n",
       "⎣ω      ⎦"
      ]
     },
     "execution_count": 58,
     "metadata": {},
     "output_type": "execute_result"
    }
   ],
   "source": [
    "mat1 = sm.Matrix([[a, 2*a], [b/omega, f(t)]])\n",
    "mat1"
   ]
  },
  {
   "cell_type": "code",
   "execution_count": 59,
   "id": "a6857634",
   "metadata": {
    "execution": {
     "iopub.execute_input": "2025-09-25T05:55:54.932401Z",
     "iopub.status.busy": "2025-09-25T05:55:54.932256Z",
     "iopub.status.idle": "2025-09-25T05:55:54.936244Z",
     "shell.execute_reply": "2025-09-25T05:55:54.935685Z"
    }
   },
   "outputs": [
    {
     "data": {
      "text/latex": [
       "$\\displaystyle \\left[\\begin{matrix}1 & 2\\\\3 & 4\\end{matrix}\\right]$"
      ],
      "text/plain": [
       "⎡1  2⎤\n",
       "⎢    ⎥\n",
       "⎣3  4⎦"
      ]
     },
     "execution_count": 59,
     "metadata": {},
     "output_type": "execute_result"
    }
   ],
   "source": [
    "mat2 = sm.Matrix([[1, 2], [3, 4]])\n",
    "mat2"
   ]
  },
  {
   "cell_type": "code",
   "execution_count": 60,
   "id": "eeef0fc7",
   "metadata": {
    "execution": {
     "iopub.execute_input": "2025-09-25T05:55:54.937606Z",
     "iopub.status.busy": "2025-09-25T05:55:54.937445Z",
     "iopub.status.idle": "2025-09-25T05:55:54.940842Z",
     "shell.execute_reply": "2025-09-25T05:55:54.940366Z"
    }
   },
   "outputs": [
    {
     "data": {
      "text/latex": [
       "$\\displaystyle \\left( 2, \\  2\\right)$"
      ],
      "text/plain": [
       "(2, 2)"
      ]
     },
     "execution_count": 60,
     "metadata": {},
     "output_type": "execute_result"
    }
   ],
   "source": [
    "mat1.shape"
   ]
  },
  {
   "cell_type": "code",
   "execution_count": 61,
   "id": "0940067d",
   "metadata": {
    "execution": {
     "iopub.execute_input": "2025-09-25T05:55:54.942219Z",
     "iopub.status.busy": "2025-09-25T05:55:54.942042Z",
     "iopub.status.idle": "2025-09-25T05:55:54.945670Z",
     "shell.execute_reply": "2025-09-25T05:55:54.945220Z"
    }
   },
   "outputs": [
    {
     "data": {
      "text/latex": [
       "$\\displaystyle 2 a$"
      ],
      "text/plain": [
       "2⋅a"
      ]
     },
     "execution_count": 61,
     "metadata": {},
     "output_type": "execute_result"
    }
   ],
   "source": [
    "mat1[0, 1]"
   ]
  },
  {
   "cell_type": "code",
   "execution_count": 62,
   "id": "d50948e8",
   "metadata": {
    "execution": {
     "iopub.execute_input": "2025-09-25T05:55:54.946956Z",
     "iopub.status.busy": "2025-09-25T05:55:54.946811Z",
     "iopub.status.idle": "2025-09-25T05:55:54.950788Z",
     "shell.execute_reply": "2025-09-25T05:55:54.950322Z"
    }
   },
   "outputs": [
    {
     "data": {
      "text/latex": [
       "$\\displaystyle \\left[\\begin{matrix}a & 2 a\\end{matrix}\\right]$"
      ],
      "text/plain": [
       "[a  2⋅a]"
      ]
     },
     "execution_count": 62,
     "metadata": {},
     "output_type": "execute_result"
    }
   ],
   "source": [
    "mat1[0, 0:2]"
   ]
  },
  {
   "cell_type": "code",
   "execution_count": 63,
   "id": "5ff790bd",
   "metadata": {
    "execution": {
     "iopub.execute_input": "2025-09-25T05:55:54.952029Z",
     "iopub.status.busy": "2025-09-25T05:55:54.951882Z",
     "iopub.status.idle": "2025-09-25T05:55:54.955627Z",
     "shell.execute_reply": "2025-09-25T05:55:54.955238Z"
    }
   },
   "outputs": [
    {
     "data": {
      "text/latex": [
       "$\\displaystyle \\left[\\begin{matrix}2 a\\\\f{\\left(t \\right)}\\end{matrix}\\right]$"
      ],
      "text/plain": [
       "⎡2⋅a ⎤\n",
       "⎢    ⎥\n",
       "⎣f(t)⎦"
      ]
     },
     "execution_count": 63,
     "metadata": {},
     "output_type": "execute_result"
    }
   ],
   "source": [
    "mat1[0:2, 1]"
   ]
  },
  {
   "cell_type": "code",
   "execution_count": 64,
   "id": "a770748a",
   "metadata": {
    "execution": {
     "iopub.execute_input": "2025-09-25T05:55:54.956911Z",
     "iopub.status.busy": "2025-09-25T05:55:54.956769Z",
     "iopub.status.idle": "2025-09-25T05:55:54.962176Z",
     "shell.execute_reply": "2025-09-25T05:55:54.961765Z"
    }
   },
   "outputs": [
    {
     "data": {
      "text/latex": [
       "$\\displaystyle \\left[\\begin{matrix}a + 1 & 2 a + 2\\\\\\frac{b}{\\omega} + 3 & f{\\left(t \\right)} + 4\\end{matrix}\\right]$"
      ],
      "text/plain": [
       "⎡a + 1  2⋅a + 2 ⎤\n",
       "⎢               ⎥\n",
       "⎢b              ⎥\n",
       "⎢─ + 3  f(t) + 4⎥\n",
       "⎣ω              ⎦"
      ]
     },
     "execution_count": 64,
     "metadata": {},
     "output_type": "execute_result"
    }
   ],
   "source": [
    "mat1 + mat2"
   ]
  },
  {
   "cell_type": "code",
   "execution_count": 65,
   "id": "1da24c92",
   "metadata": {
    "execution": {
     "iopub.execute_input": "2025-09-25T05:55:54.963389Z",
     "iopub.status.busy": "2025-09-25T05:55:54.963250Z",
     "iopub.status.idle": "2025-09-25T05:55:54.970383Z",
     "shell.execute_reply": "2025-09-25T05:55:54.969864Z"
    }
   },
   "outputs": [
    {
     "data": {
      "text/latex": [
       "$\\displaystyle \\left[\\begin{matrix}7 a & 10 a\\\\\\frac{b}{\\omega} + 3 f{\\left(t \\right)} & \\frac{2 b}{\\omega} + 4 f{\\left(t \\right)}\\end{matrix}\\right]$"
      ],
      "text/plain": [
       "⎡   7⋅a          10⋅a    ⎤\n",
       "⎢                        ⎥\n",
       "⎢b           2⋅b         ⎥\n",
       "⎢─ + 3⋅f(t)  ─── + 4⋅f(t)⎥\n",
       "⎣ω            ω          ⎦"
      ]
     },
     "execution_count": 65,
     "metadata": {},
     "output_type": "execute_result"
    }
   ],
   "source": [
    "mat1*mat2"
   ]
  },
  {
   "cell_type": "code",
   "execution_count": 66,
   "id": "1fe63a59",
   "metadata": {
    "execution": {
     "iopub.execute_input": "2025-09-25T05:55:54.971733Z",
     "iopub.status.busy": "2025-09-25T05:55:54.971582Z",
     "iopub.status.idle": "2025-09-25T05:55:54.976916Z",
     "shell.execute_reply": "2025-09-25T05:55:54.976524Z"
    }
   },
   "outputs": [
    {
     "data": {
      "text/latex": [
       "$\\displaystyle \\left[\\begin{matrix}7 a & 10 a\\\\\\frac{b}{\\omega} + 3 f{\\left(t \\right)} & \\frac{2 b}{\\omega} + 4 f{\\left(t \\right)}\\end{matrix}\\right]$"
      ],
      "text/plain": [
       "⎡   7⋅a          10⋅a    ⎤\n",
       "⎢                        ⎥\n",
       "⎢b           2⋅b         ⎥\n",
       "⎢─ + 3⋅f(t)  ─── + 4⋅f(t)⎥\n",
       "⎣ω            ω          ⎦"
      ]
     },
     "execution_count": 66,
     "metadata": {},
     "output_type": "execute_result"
    }
   ],
   "source": [
    "mat1@mat2"
   ]
  },
  {
   "cell_type": "code",
   "execution_count": 67,
   "id": "a42a4dc9",
   "metadata": {
    "execution": {
     "iopub.execute_input": "2025-09-25T05:55:54.978129Z",
     "iopub.status.busy": "2025-09-25T05:55:54.977993Z",
     "iopub.status.idle": "2025-09-25T05:55:54.983509Z",
     "shell.execute_reply": "2025-09-25T05:55:54.982982Z"
    }
   },
   "outputs": [
    {
     "data": {
      "text/latex": [
       "$\\displaystyle \\left[\\begin{matrix}a & 4 a\\\\\\frac{3 b}{\\omega} & 4 f{\\left(t \\right)}\\end{matrix}\\right]$"
      ],
      "text/plain": [
       "⎡ a    4⋅a  ⎤\n",
       "⎢           ⎥\n",
       "⎢3⋅b        ⎥\n",
       "⎢───  4⋅f(t)⎥\n",
       "⎣ ω         ⎦"
      ]
     },
     "execution_count": 67,
     "metadata": {},
     "output_type": "execute_result"
    }
   ],
   "source": [
    "sm.hadamard_product(mat1, mat2)"
   ]
  },
  {
   "cell_type": "code",
   "execution_count": 68,
   "id": "911fee8b",
   "metadata": {
    "execution": {
     "iopub.execute_input": "2025-09-25T05:55:54.984795Z",
     "iopub.status.busy": "2025-09-25T05:55:54.984645Z",
     "iopub.status.idle": "2025-09-25T05:55:54.992361Z",
     "shell.execute_reply": "2025-09-25T05:55:54.991840Z"
    }
   },
   "outputs": [
    {
     "data": {
      "text/latex": [
       "$\\displaystyle \\left[\\begin{matrix}a + \\frac{b}{\\omega^{2}}\\\\a \\omega + f{\\left(t \\right)}\\\\a \\sin{\\left(\\omega \\right)} + \\frac{\\left|{f{\\left(t \\right)}}\\right|}{\\sqrt{b}}\\\\5 \\sin{\\left(12 \\right)} + 105.986768359379\\\\t \\sin{\\left(\\omega f{\\left(t \\right)} \\right)} + \\frac{f{\\left(t \\right)}}{\\sqrt{t}}\\end{matrix}\\right]$"
      ],
      "text/plain": [
       "⎡               b            ⎤\n",
       "⎢           a + ──           ⎥\n",
       "⎢                2           ⎥\n",
       "⎢               ω            ⎥\n",
       "⎢                            ⎥\n",
       "⎢         a⋅ω + f(t)         ⎥\n",
       "⎢                            ⎥\n",
       "⎢                │f(t)│      ⎥\n",
       "⎢     a⋅sin(ω) + ──────      ⎥\n",
       "⎢                  √b        ⎥\n",
       "⎢                            ⎥\n",
       "⎢5⋅sin(12) + 105.986768359379⎥\n",
       "⎢                            ⎥\n",
       "⎢                    f(t)    ⎥\n",
       "⎢    t⋅sin(ω⋅f(t)) + ────    ⎥\n",
       "⎣                     √t     ⎦"
      ]
     },
     "execution_count": 68,
     "metadata": {},
     "output_type": "execute_result"
    }
   ],
   "source": [
    "mat3 = sm.Matrix([expr1, expr2, expr3, expr4, expr5])\n",
    "mat3"
   ]
  },
  {
   "cell_type": "code",
   "execution_count": 69,
   "id": "9f3f7184",
   "metadata": {
    "execution": {
     "iopub.execute_input": "2025-09-25T05:55:54.993604Z",
     "iopub.status.busy": "2025-09-25T05:55:54.993459Z",
     "iopub.status.idle": "2025-09-25T05:55:55.005018Z",
     "shell.execute_reply": "2025-09-25T05:55:55.004617Z"
    }
   },
   "outputs": [
    {
     "data": {
      "text/latex": [
       "$\\displaystyle \\left[\\begin{matrix}1\\\\\\omega\\\\\\sin{\\left(\\omega \\right)}\\\\0\\\\0\\end{matrix}\\right]$"
      ],
      "text/plain": [
       "⎡  1   ⎤\n",
       "⎢      ⎥\n",
       "⎢  ω   ⎥\n",
       "⎢      ⎥\n",
       "⎢sin(ω)⎥\n",
       "⎢      ⎥\n",
       "⎢  0   ⎥\n",
       "⎢      ⎥\n",
       "⎣  0   ⎦"
      ]
     },
     "execution_count": 69,
     "metadata": {},
     "output_type": "execute_result"
    }
   ],
   "source": [
    "mat3.diff(a)"
   ]
  },
  {
   "cell_type": "code",
   "execution_count": 70,
   "id": "61bb4964",
   "metadata": {
    "execution": {
     "iopub.execute_input": "2025-09-25T05:55:55.006308Z",
     "iopub.status.busy": "2025-09-25T05:55:55.006129Z",
     "iopub.status.idle": "2025-09-25T05:55:55.018055Z",
     "shell.execute_reply": "2025-09-25T05:55:55.017660Z"
    }
   },
   "outputs": [
    {
     "data": {
      "text/latex": [
       "$\\displaystyle \\left[\\begin{matrix}0\\\\\\frac{d}{d t} f{\\left(t \\right)}\\\\\\frac{\\left(\\operatorname{re}{\\left(f{\\left(t \\right)}\\right)} \\frac{d}{d t} \\operatorname{re}{\\left(f{\\left(t \\right)}\\right)} + \\operatorname{im}{\\left(f{\\left(t \\right)}\\right)} \\frac{d}{d t} \\operatorname{im}{\\left(f{\\left(t \\right)}\\right)}\\right) \\operatorname{sign}{\\left(f{\\left(t \\right)} \\right)}}{\\sqrt{b} f{\\left(t \\right)}}\\\\0\\\\\\omega t \\cos{\\left(\\omega f{\\left(t \\right)} \\right)} \\frac{d}{d t} f{\\left(t \\right)} + \\sin{\\left(\\omega f{\\left(t \\right)} \\right)} + \\frac{\\frac{d}{d t} f{\\left(t \\right)}}{\\sqrt{t}} - \\frac{f{\\left(t \\right)}}{2 t^{\\frac{3}{2}}}\\end{matrix}\\right]$"
      ],
      "text/plain": [
       "⎡                            0                             ⎤\n",
       "⎢                                                          ⎥\n",
       "⎢                         d                                ⎥\n",
       "⎢                         ──(f(t))                         ⎥\n",
       "⎢                         dt                               ⎥\n",
       "⎢                                                          ⎥\n",
       "⎢⎛         d                       d           ⎞           ⎥\n",
       "⎢⎜re(f(t))⋅──(re(f(t))) + im(f(t))⋅──(im(f(t)))⎟⋅sign(f(t))⎥\n",
       "⎢⎝         dt                      dt          ⎠           ⎥\n",
       "⎢──────────────────────────────────────────────────────────⎥\n",
       "⎢                         √b⋅f(t)                          ⎥\n",
       "⎢                                                          ⎥\n",
       "⎢                            0                             ⎥\n",
       "⎢                                                          ⎥\n",
       "⎢                                         d                ⎥\n",
       "⎢                                         ──(f(t))         ⎥\n",
       "⎢                d                        dt          f(t) ⎥\n",
       "⎢ω⋅t⋅cos(ω⋅f(t))⋅──(f(t)) + sin(ω⋅f(t)) + ──────── - ──────⎥\n",
       "⎢                dt                          √t         3/2⎥\n",
       "⎣                                                    2⋅t   ⎦"
      ]
     },
     "execution_count": 70,
     "metadata": {},
     "output_type": "execute_result"
    }
   ],
   "source": [
    "mat3.diff(t)"
   ]
  },
  {
   "cell_type": "code",
   "execution_count": 71,
   "id": "3c0c95ab",
   "metadata": {
    "execution": {
     "iopub.execute_input": "2025-09-25T05:55:55.019358Z",
     "iopub.status.busy": "2025-09-25T05:55:55.019202Z",
     "iopub.status.idle": "2025-09-25T05:55:55.023104Z",
     "shell.execute_reply": "2025-09-25T05:55:55.022634Z"
    }
   },
   "outputs": [
    {
     "data": {
      "text/latex": [
       "$\\displaystyle \\left[\\begin{matrix}a\\\\b\\\\\\omega\\\\t\\end{matrix}\\right]$"
      ],
      "text/plain": [
       "⎡a⎤\n",
       "⎢ ⎥\n",
       "⎢b⎥\n",
       "⎢ ⎥\n",
       "⎢ω⎥\n",
       "⎢ ⎥\n",
       "⎣t⎦"
      ]
     },
     "execution_count": 71,
     "metadata": {},
     "output_type": "execute_result"
    }
   ],
   "source": [
    "mat4 = sm.Matrix([a, b, omega, t])\n",
    "mat4"
   ]
  },
  {
   "cell_type": "code",
   "execution_count": 72,
   "id": "8332565f",
   "metadata": {
    "execution": {
     "iopub.execute_input": "2025-09-25T05:55:55.024347Z",
     "iopub.status.busy": "2025-09-25T05:55:55.024197Z",
     "iopub.status.idle": "2025-09-25T05:55:55.041216Z",
     "shell.execute_reply": "2025-09-25T05:55:55.040792Z"
    }
   },
   "outputs": [
    {
     "data": {
      "text/latex": [
       "$\\displaystyle \\left[\\begin{matrix}1 & \\frac{1}{\\omega^{2}} & - \\frac{2 b}{\\omega^{3}} & 0\\\\\\omega & 0 & a & \\frac{d}{d t} f{\\left(t \\right)}\\\\\\sin{\\left(\\omega \\right)} & - \\frac{\\left|{f{\\left(t \\right)}}\\right|}{2 b^{\\frac{3}{2}}} & a \\cos{\\left(\\omega \\right)} & \\frac{\\left(\\operatorname{re}{\\left(f{\\left(t \\right)}\\right)} \\frac{d}{d t} \\operatorname{re}{\\left(f{\\left(t \\right)}\\right)} + \\operatorname{im}{\\left(f{\\left(t \\right)}\\right)} \\frac{d}{d t} \\operatorname{im}{\\left(f{\\left(t \\right)}\\right)}\\right) \\operatorname{sign}{\\left(f{\\left(t \\right)} \\right)}}{\\sqrt{b} f{\\left(t \\right)}}\\\\0 & 0 & 0 & 0\\\\0 & 0 & t f{\\left(t \\right)} \\cos{\\left(\\omega f{\\left(t \\right)} \\right)} & \\omega t \\cos{\\left(\\omega f{\\left(t \\right)} \\right)} \\frac{d}{d t} f{\\left(t \\right)} + \\sin{\\left(\\omega f{\\left(t \\right)} \\right)} + \\frac{\\frac{d}{d t} f{\\left(t \\right)}}{\\sqrt{t}} - \\frac{f{\\left(t \\right)}}{2 t^{\\frac{3}{2}}}\\end{matrix}\\right]$"
      ],
      "text/plain": [
       "⎡           1            -2⋅b                                                 \n",
       "⎢  1        ──           ─────                                     0          \n",
       "⎢            2              3                                                 \n",
       "⎢           ω              ω                                                  \n",
       "⎢                                                                             \n",
       "⎢                                                               d             \n",
       "⎢  ω        0              a                                    ──(f(t))      \n",
       "⎢                                                               dt            \n",
       "⎢                                                                             \n",
       "⎢                                      ⎛         d                       d    \n",
       "⎢                                      ⎜re(f(t))⋅──(re(f(t))) + im(f(t))⋅──(im\n",
       "⎢        -│f(t)│                       ⎝         dt                      dt   \n",
       "⎢sin(ω)  ────────       a⋅cos(ω)       ───────────────────────────────────────\n",
       "⎢            3/2                                                √b⋅f(t)       \n",
       "⎢         2⋅b                                                                 \n",
       "⎢                                                                             \n",
       "⎢  0        0              0                                       0          \n",
       "⎢                                                                             \n",
       "⎢                                                                             \n",
       "⎢                                                                             \n",
       "⎢                                                      d                      \n",
       "⎢  0        0      t⋅f(t)⋅cos(ω⋅f(t))  ω⋅t⋅cos(ω⋅f(t))⋅──(f(t)) + sin(ω⋅f(t)) \n",
       "⎢                                                      dt                     \n",
       "⎣                                                                             \n",
       "\n",
       "                   ⎤\n",
       "                   ⎥\n",
       "                   ⎥\n",
       "                   ⎥\n",
       "                   ⎥\n",
       "                   ⎥\n",
       "                   ⎥\n",
       "                   ⎥\n",
       "                   ⎥\n",
       "       ⎞           ⎥\n",
       "(f(t)))⎟⋅sign(f(t))⎥\n",
       "       ⎠           ⎥\n",
       "───────────────────⎥\n",
       "                   ⎥\n",
       "                   ⎥\n",
       "                   ⎥\n",
       "                   ⎥\n",
       "                   ⎥\n",
       "  d                ⎥\n",
       "  ──(f(t))         ⎥\n",
       "  dt          f(t) ⎥\n",
       "+ ──────── - ──────⎥\n",
       "     √t         3/2⎥\n",
       "             2⋅t   ⎦"
      ]
     },
     "execution_count": 72,
     "metadata": {},
     "output_type": "execute_result"
    }
   ],
   "source": [
    "mat3.jacobian(mat4)"
   ]
  },
  {
   "cell_type": "code",
   "execution_count": 73,
   "id": "af3beb8d",
   "metadata": {
    "execution": {
     "iopub.execute_input": "2025-09-25T05:55:55.042420Z",
     "iopub.status.busy": "2025-09-25T05:55:55.042264Z",
     "iopub.status.idle": "2025-09-25T05:55:55.056303Z",
     "shell.execute_reply": "2025-09-25T05:55:55.055796Z"
    }
   },
   "outputs": [
    {
     "data": {
      "text/latex": [
       "$\\displaystyle \\left[\\begin{matrix}1 & \\frac{1}{\\omega^{2}} & - \\frac{2 b}{\\omega^{3}} & 0\\\\\\omega & 0 & a & \\frac{d}{d t} f{\\left(t \\right)}\\\\\\sin{\\left(\\omega \\right)} & - \\frac{\\left|{f{\\left(t \\right)}}\\right|}{2 b^{\\frac{3}{2}}} & a \\cos{\\left(\\omega \\right)} & \\frac{\\left(\\operatorname{re}{\\left(f{\\left(t \\right)}\\right)} \\frac{d}{d t} \\operatorname{re}{\\left(f{\\left(t \\right)}\\right)} + \\operatorname{im}{\\left(f{\\left(t \\right)}\\right)} \\frac{d}{d t} \\operatorname{im}{\\left(f{\\left(t \\right)}\\right)}\\right) \\operatorname{sign}{\\left(f{\\left(t \\right)} \\right)}}{\\sqrt{b} f{\\left(t \\right)}}\\\\0 & 0 & 0 & 0\\\\0 & 0 & t f{\\left(t \\right)} \\cos{\\left(\\omega f{\\left(t \\right)} \\right)} & \\omega t \\cos{\\left(\\omega f{\\left(t \\right)} \\right)} \\frac{d}{d t} f{\\left(t \\right)} + \\sin{\\left(\\omega f{\\left(t \\right)} \\right)} + \\frac{\\frac{d}{d t} f{\\left(t \\right)}}{\\sqrt{t}} - \\frac{f{\\left(t \\right)}}{2 t^{\\frac{3}{2}}}\\end{matrix}\\right]$"
      ],
      "text/plain": [
       "⎡           1            -2⋅b                                                 \n",
       "⎢  1        ──           ─────                                     0          \n",
       "⎢            2              3                                                 \n",
       "⎢           ω              ω                                                  \n",
       "⎢                                                                             \n",
       "⎢                                                               d             \n",
       "⎢  ω        0              a                                    ──(f(t))      \n",
       "⎢                                                               dt            \n",
       "⎢                                                                             \n",
       "⎢                                      ⎛         d                       d    \n",
       "⎢                                      ⎜re(f(t))⋅──(re(f(t))) + im(f(t))⋅──(im\n",
       "⎢        -│f(t)│                       ⎝         dt                      dt   \n",
       "⎢sin(ω)  ────────       a⋅cos(ω)       ───────────────────────────────────────\n",
       "⎢            3/2                                                √b⋅f(t)       \n",
       "⎢         2⋅b                                                                 \n",
       "⎢                                                                             \n",
       "⎢  0        0              0                                       0          \n",
       "⎢                                                                             \n",
       "⎢                                                                             \n",
       "⎢                                                                             \n",
       "⎢                                                      d                      \n",
       "⎢  0        0      t⋅f(t)⋅cos(ω⋅f(t))  ω⋅t⋅cos(ω⋅f(t))⋅──(f(t)) + sin(ω⋅f(t)) \n",
       "⎢                                                      dt                     \n",
       "⎣                                                                             \n",
       "\n",
       "                   ⎤\n",
       "                   ⎥\n",
       "                   ⎥\n",
       "                   ⎥\n",
       "                   ⎥\n",
       "                   ⎥\n",
       "                   ⎥\n",
       "                   ⎥\n",
       "                   ⎥\n",
       "       ⎞           ⎥\n",
       "(f(t)))⎟⋅sign(f(t))⎥\n",
       "       ⎠           ⎥\n",
       "───────────────────⎥\n",
       "                   ⎥\n",
       "                   ⎥\n",
       "                   ⎥\n",
       "                   ⎥\n",
       "                   ⎥\n",
       "  d                ⎥\n",
       "  ──(f(t))         ⎥\n",
       "  dt          f(t) ⎥\n",
       "+ ──────── - ──────⎥\n",
       "     √t         3/2⎥\n",
       "             2⋅t   ⎦"
      ]
     },
     "execution_count": 73,
     "metadata": {},
     "output_type": "execute_result"
    }
   ],
   "source": [
    "def jacobian(v, x):\n",
    "    \"\"\"Returns the Jacobian of the vector function v with respect to the\n",
    "    vector of variables x.\"\"\"\n",
    "    diffs = []\n",
    "    for expr in v:\n",
    "      for var in x:\n",
    "         diffs.append(expr.diff(var))\n",
    "    J_v_x = sm.Matrix(diffs).reshape(len(v), len(x))\n",
    "    return J_v_x\n",
    "\n",
    "jacobian(mat3, mat4)"
   ]
  },
  {
   "cell_type": "code",
   "execution_count": 74,
   "id": "308f3a53",
   "metadata": {
    "execution": {
     "iopub.execute_input": "2025-09-25T05:55:55.057721Z",
     "iopub.status.busy": "2025-09-25T05:55:55.057567Z",
     "iopub.status.idle": "2025-09-25T05:55:55.072341Z",
     "shell.execute_reply": "2025-09-25T05:55:55.071833Z"
    }
   },
   "outputs": [
    {
     "data": {
      "text/latex": [
       "$\\displaystyle \\left[\\begin{matrix}a_{1} \\sin{\\left(f{\\left(t \\right)} \\right)} \\cos{\\left(2 f{\\left(t \\right)} \\right)} + a_{2} + \\frac{\\omega \\log{\\left(t \\right)}}{\\log{\\left(f{\\left(t \\right)} \\right)}} + 100\\\\a_{1} \\omega^{2} + a_{2} f{\\left(t \\right)} + \\omega + f^{3}{\\left(t \\right)}\\end{matrix}\\right]$"
      ],
      "text/plain": [
       "⎡                                 ω⋅log(t)      ⎤\n",
       "⎢a₁⋅sin(f(t))⋅cos(2⋅f(t)) + a₂ + ───────── + 100⎥\n",
       "⎢                                log(f(t))      ⎥\n",
       "⎢                                               ⎥\n",
       "⎢              2                  3             ⎥\n",
       "⎣          a₁⋅ω  + a₂⋅f(t) + ω + f (t)          ⎦"
      ]
     },
     "execution_count": 74,
     "metadata": {},
     "output_type": "execute_result"
    }
   ],
   "source": [
    "a1, a2 = sm.symbols('a1, a2')\n",
    "\n",
    "exprs = sm.Matrix([\n",
    "    [a1*sm.sin(f(t))*sm.cos(2*f(t)) + a2 + omega/sm.log(f(t), t) + 100],\n",
    "    [a1*omega**2 + f(t)*a2 + omega + f(t)**3],\n",
    "])\n",
    "exprs"
   ]
  },
  {
   "cell_type": "code",
   "execution_count": 75,
   "id": "b7b44bee",
   "metadata": {
    "execution": {
     "iopub.execute_input": "2025-09-25T05:55:55.073577Z",
     "iopub.status.busy": "2025-09-25T05:55:55.073426Z",
     "iopub.status.idle": "2025-09-25T05:55:55.081341Z",
     "shell.execute_reply": "2025-09-25T05:55:55.080832Z"
    }
   },
   "outputs": [
    {
     "data": {
      "text/latex": [
       "$\\displaystyle \\left[\\begin{matrix}\\sin{\\left(f{\\left(t \\right)} \\right)} \\cos{\\left(2 f{\\left(t \\right)} \\right)} & 1\\\\\\omega^{2} & f{\\left(t \\right)}\\end{matrix}\\right]$"
      ],
      "text/plain": [
       "⎡sin(f(t))⋅cos(2⋅f(t))   1  ⎤\n",
       "⎢                           ⎥\n",
       "⎢          2                ⎥\n",
       "⎣         ω             f(t)⎦"
      ]
     },
     "execution_count": 75,
     "metadata": {},
     "output_type": "execute_result"
    }
   ],
   "source": [
    "A = exprs.jacobian([a1, a2])\n",
    "A"
   ]
  },
  {
   "cell_type": "code",
   "execution_count": 76,
   "id": "f8b87601",
   "metadata": {
    "execution": {
     "iopub.execute_input": "2025-09-25T05:55:55.082605Z",
     "iopub.status.busy": "2025-09-25T05:55:55.082459Z",
     "iopub.status.idle": "2025-09-25T05:55:55.088444Z",
     "shell.execute_reply": "2025-09-25T05:55:55.087929Z"
    }
   },
   "outputs": [
    {
     "data": {
      "text/latex": [
       "$\\displaystyle \\left[\\begin{matrix}- \\frac{\\omega \\log{\\left(t \\right)}}{\\log{\\left(f{\\left(t \\right)} \\right)}} - 100\\\\- \\omega - f^{3}{\\left(t \\right)}\\end{matrix}\\right]$"
      ],
      "text/plain": [
       "⎡   ω⋅log(t)      ⎤\n",
       "⎢- ───────── - 100⎥\n",
       "⎢  log(f(t))      ⎥\n",
       "⎢                 ⎥\n",
       "⎢         3       ⎥\n",
       "⎣   -ω - f (t)    ⎦"
      ]
     },
     "execution_count": 76,
     "metadata": {},
     "output_type": "execute_result"
    }
   ],
   "source": [
    "b = -exprs.xreplace({a1: 0, a2: 0})\n",
    "b"
   ]
  },
  {
   "cell_type": "code",
   "execution_count": 77,
   "id": "fdec3edb",
   "metadata": {
    "execution": {
     "iopub.execute_input": "2025-09-25T05:55:55.089826Z",
     "iopub.status.busy": "2025-09-25T05:55:55.089674Z",
     "iopub.status.idle": "2025-09-25T05:55:55.577466Z",
     "shell.execute_reply": "2025-09-25T05:55:55.576898Z"
    }
   },
   "outputs": [
    {
     "data": {
      "text/latex": [
       "$\\displaystyle \\left[\\begin{matrix}- \\frac{- \\omega - f^{3}{\\left(t \\right)}}{- \\omega^{2} + f{\\left(t \\right)} \\sin{\\left(f{\\left(t \\right)} \\right)} \\cos{\\left(2 f{\\left(t \\right)} \\right)}} + \\frac{\\left(- \\frac{\\omega \\log{\\left(t \\right)}}{\\log{\\left(f{\\left(t \\right)} \\right)}} - 100\\right) f{\\left(t \\right)}}{- \\omega^{2} + f{\\left(t \\right)} \\sin{\\left(f{\\left(t \\right)} \\right)} \\cos{\\left(2 f{\\left(t \\right)} \\right)}}\\\\- \\frac{\\omega^{2} \\left(- \\frac{\\omega \\log{\\left(t \\right)}}{\\log{\\left(f{\\left(t \\right)} \\right)}} - 100\\right)}{- \\omega^{2} + f{\\left(t \\right)} \\sin{\\left(f{\\left(t \\right)} \\right)} \\cos{\\left(2 f{\\left(t \\right)} \\right)}} + \\frac{\\left(- \\omega - f^{3}{\\left(t \\right)}\\right) \\sin{\\left(f{\\left(t \\right)} \\right)} \\cos{\\left(2 f{\\left(t \\right)} \\right)}}{- \\omega^{2} + f{\\left(t \\right)} \\sin{\\left(f{\\left(t \\right)} \\right)} \\cos{\\left(2 f{\\left(t \\right)} \\right)}}\\end{matrix}\\right]$"
      ],
      "text/plain": [
       "⎡                                           ⎛   ω⋅log(t)      ⎞          ⎤\n",
       "⎢                    3                      ⎜- ───────── - 100⎟⋅f(t)     ⎥\n",
       "⎢              -ω - f (t)                   ⎝  log(f(t))      ⎠          ⎥\n",
       "⎢- ───────────────────────────────── + ───────────────────────────────── ⎥\n",
       "⎢     2                                   2                              ⎥\n",
       "⎢  - ω  + f(t)⋅sin(f(t))⋅cos(2⋅f(t))   - ω  + f(t)⋅sin(f(t))⋅cos(2⋅f(t)) ⎥\n",
       "⎢                                                                        ⎥\n",
       "⎢         2 ⎛   ω⋅log(t)      ⎞                                          ⎥\n",
       "⎢        ω ⋅⎜- ───────── - 100⎟        ⎛      3   ⎞                      ⎥\n",
       "⎢           ⎝  log(f(t))      ⎠        ⎝-ω - f (t)⎠⋅sin(f(t))⋅cos(2⋅f(t))⎥\n",
       "⎢- ───────────────────────────────── + ──────────────────────────────────⎥\n",
       "⎢     2                                   2                              ⎥\n",
       "⎣  - ω  + f(t)⋅sin(f(t))⋅cos(2⋅f(t))   - ω  + f(t)⋅sin(f(t))⋅cos(2⋅f(t)) ⎦"
      ]
     },
     "execution_count": 77,
     "metadata": {},
     "output_type": "execute_result"
    }
   ],
   "source": [
    "A.inv() @ b"
   ]
  },
  {
   "cell_type": "code",
   "execution_count": 78,
   "id": "6ca0758b",
   "metadata": {
    "execution": {
     "iopub.execute_input": "2025-09-25T05:55:55.578886Z",
     "iopub.status.busy": "2025-09-25T05:55:55.578727Z",
     "iopub.status.idle": "2025-09-25T05:55:55.601450Z",
     "shell.execute_reply": "2025-09-25T05:55:55.600905Z"
    }
   },
   "outputs": [
    {
     "data": {
      "text/latex": [
       "$\\displaystyle \\left[\\begin{matrix}\\frac{- \\frac{\\omega \\log{\\left(t \\right)}}{\\log{\\left(f{\\left(t \\right)} \\right)}} - 100 - \\frac{- \\frac{\\omega^{2} \\left(- \\frac{\\omega \\log{\\left(t \\right)}}{\\log{\\left(f{\\left(t \\right)} \\right)}} - 100\\right)}{\\sin{\\left(f{\\left(t \\right)} \\right)} \\cos{\\left(2 f{\\left(t \\right)} \\right)}} - \\omega - f^{3}{\\left(t \\right)}}{- \\frac{\\omega^{2}}{\\sin{\\left(f{\\left(t \\right)} \\right)} \\cos{\\left(2 f{\\left(t \\right)} \\right)}} + f{\\left(t \\right)}}}{\\sin{\\left(f{\\left(t \\right)} \\right)} \\cos{\\left(2 f{\\left(t \\right)} \\right)}}\\\\\\frac{- \\frac{\\omega^{2} \\left(- \\frac{\\omega \\log{\\left(t \\right)}}{\\log{\\left(f{\\left(t \\right)} \\right)}} - 100\\right)}{\\sin{\\left(f{\\left(t \\right)} \\right)} \\cos{\\left(2 f{\\left(t \\right)} \\right)}} - \\omega - f^{3}{\\left(t \\right)}}{- \\frac{\\omega^{2}}{\\sin{\\left(f{\\left(t \\right)} \\right)} \\cos{\\left(2 f{\\left(t \\right)} \\right)}} + f{\\left(t \\right)}}\\end{matrix}\\right]$"
      ],
      "text/plain": [
       "⎡                       2 ⎛   ω⋅log(t)      ⎞            ⎤\n",
       "⎢                      ω ⋅⎜- ───────── - 100⎟            ⎥\n",
       "⎢                         ⎝  log(f(t))      ⎠        3   ⎥\n",
       "⎢                    - ────────────────────── - ω - f (t)⎥\n",
       "⎢   ω⋅log(t)           sin(f(t))⋅cos(2⋅f(t))             ⎥\n",
       "⎢- ───────── - 100 - ────────────────────────────────────⎥\n",
       "⎢  log(f(t))                         2                   ⎥\n",
       "⎢                                   ω                    ⎥\n",
       "⎢                       - ───────────────────── + f(t)   ⎥\n",
       "⎢                         sin(f(t))⋅cos(2⋅f(t))          ⎥\n",
       "⎢────────────────────────────────────────────────────────⎥\n",
       "⎢                 sin(f(t))⋅cos(2⋅f(t))                  ⎥\n",
       "⎢                                                        ⎥\n",
       "⎢             2 ⎛   ω⋅log(t)      ⎞                      ⎥\n",
       "⎢            ω ⋅⎜- ───────── - 100⎟                      ⎥\n",
       "⎢               ⎝  log(f(t))      ⎠        3             ⎥\n",
       "⎢          - ────────────────────── - ω - f (t)          ⎥\n",
       "⎢            sin(f(t))⋅cos(2⋅f(t))                       ⎥\n",
       "⎢          ────────────────────────────────────          ⎥\n",
       "⎢                          2                             ⎥\n",
       "⎢                         ω                              ⎥\n",
       "⎢             - ───────────────────── + f(t)             ⎥\n",
       "⎣               sin(f(t))⋅cos(2⋅f(t))                    ⎦"
      ]
     },
     "execution_count": 78,
     "metadata": {},
     "output_type": "execute_result"
    }
   ],
   "source": [
    "A.LUsolve(b)"
   ]
  },
  {
   "cell_type": "code",
   "execution_count": 79,
   "id": "28fdf37d",
   "metadata": {
    "execution": {
     "iopub.execute_input": "2025-09-25T05:55:55.602807Z",
     "iopub.status.busy": "2025-09-25T05:55:55.602653Z",
     "iopub.status.idle": "2025-09-25T05:55:55.613911Z",
     "shell.execute_reply": "2025-09-25T05:55:55.613405Z"
    }
   },
   "outputs": [
    {
     "data": {
      "text/latex": [
       "$\\displaystyle \\left[\\begin{matrix}- L_{1} + L_{2} - \\frac{\\sqrt{2} L_{3}}{2}\\\\- F_{1} + \\frac{\\sqrt{2} L_{3}}{2} + L_{4}\\\\- L_{2} - \\frac{\\sqrt{2} L_{5}}{2}\\\\- F_{2} + \\frac{\\sqrt{2} L_{5}}{2}\\\\\\frac{\\sqrt{2} L_{5}}{2} + L_{6}\\\\- L_{4} - \\frac{\\sqrt{2} L_{5}}{2}\\end{matrix}\\right]$"
      ],
      "text/plain": [
       "⎡           √2⋅L₃⎤\n",
       "⎢-L₁ + L₂ - ─────⎥\n",
       "⎢             2  ⎥\n",
       "⎢                ⎥\n",
       "⎢      √2⋅L₃     ⎥\n",
       "⎢-F₁ + ───── + L₄⎥\n",
       "⎢        2       ⎥\n",
       "⎢                ⎥\n",
       "⎢        √2⋅L₅   ⎥\n",
       "⎢  -L₂ - ─────   ⎥\n",
       "⎢          2     ⎥\n",
       "⎢                ⎥\n",
       "⎢        √2⋅L₅   ⎥\n",
       "⎢  -F₂ + ─────   ⎥\n",
       "⎢          2     ⎥\n",
       "⎢                ⎥\n",
       "⎢   √2⋅L₅        ⎥\n",
       "⎢   ───── + L₆   ⎥\n",
       "⎢     2          ⎥\n",
       "⎢                ⎥\n",
       "⎢        √2⋅L₅   ⎥\n",
       "⎢  -L₄ - ─────   ⎥\n",
       "⎣          2     ⎦"
      ]
     },
     "execution_count": 79,
     "metadata": {},
     "output_type": "execute_result"
    }
   ],
   "source": [
    "L1, L2, L3, L4, L5, L6, F1, F2 = sm.symbols('L1, L2, L3, L4, L5, L6, F1, F2')\n",
    "\n",
    "exprs = sm.Matrix([\n",
    "    -L1 + L2 - L3/sm.sqrt(2),\n",
    "    L3/sm.sqrt(2) + L4 - F1,\n",
    "    -L2 - L5/sm.sqrt(2),\n",
    "    L5/sm.sqrt(2) - F2,\n",
    "    L5/sm.sqrt(2) + L6,\n",
    "    -L4 -L5/sm.sqrt(2),\n",
    "])\n",
    "exprs"
   ]
  },
  {
   "cell_type": "code",
   "execution_count": 80,
   "id": "c086367d",
   "metadata": {
    "execution": {
     "iopub.execute_input": "2025-09-25T05:55:55.615332Z",
     "iopub.status.busy": "2025-09-25T05:55:55.615174Z",
     "iopub.status.idle": "2025-09-25T05:55:55.644429Z",
     "shell.execute_reply": "2025-09-25T05:55:55.643918Z"
    }
   },
   "outputs": [
    {
     "data": {
      "text/latex": [
       "$\\displaystyle \\left[\\begin{matrix}L_{1}\\\\L_{2}\\\\L_{3}\\\\L_{4}\\\\L_{5}\\\\L_{6}\\end{matrix}\\right] = \\left[\\begin{matrix}- F_{1} - 2 F_{2}\\\\- F_{2}\\\\\\sqrt{2} \\left(F_{1} + F_{2}\\right)\\\\- F_{2}\\\\\\sqrt{2} F_{2}\\\\- F_{2}\\end{matrix}\\right]$"
      ],
      "text/plain": [
       "⎡L₁⎤   ⎡ -F₁ - 2⋅F₂ ⎤\n",
       "⎢  ⎥   ⎢            ⎥\n",
       "⎢L₂⎥   ⎢    -F₂     ⎥\n",
       "⎢  ⎥   ⎢            ⎥\n",
       "⎢L₃⎥   ⎢√2⋅(F₁ + F₂)⎥\n",
       "⎢  ⎥ = ⎢            ⎥\n",
       "⎢L₄⎥   ⎢    -F₂     ⎥\n",
       "⎢  ⎥   ⎢            ⎥\n",
       "⎢L₅⎥   ⎢   √2⋅F₂    ⎥\n",
       "⎢  ⎥   ⎢            ⎥\n",
       "⎣L₆⎦   ⎣    -F₂     ⎦"
      ]
     },
     "execution_count": 80,
     "metadata": {},
     "output_type": "execute_result"
    }
   ],
   "source": [
    "unknowns = sm.Matrix([L1, L2, L3, L4, L5, L6])\n",
    "\n",
    "coef_mat = exprs.jacobian(unknowns)\n",
    "rhs = -exprs.xreplace(dict(zip(unknowns, [0]*6)))\n",
    "\n",
    "sol = coef_mat.LUsolve(rhs)\n",
    "\n",
    "sm.Eq(unknowns, sol)"
   ]
  },
  {
   "cell_type": "code",
   "execution_count": 81,
   "id": "cdda9eaf",
   "metadata": {
    "execution": {
     "iopub.execute_input": "2025-09-25T05:55:55.645721Z",
     "iopub.status.busy": "2025-09-25T05:55:55.645569Z",
     "iopub.status.idle": "2025-09-25T05:55:55.651001Z",
     "shell.execute_reply": "2025-09-25T05:55:55.650511Z"
    }
   },
   "outputs": [
    {
     "data": {
      "text/plain": [
       "array([[-77.        ],\n",
       "       [-32.        ],\n",
       "       [ 63.63961031],\n",
       "       [-32.        ],\n",
       "       [ 45.254834  ],\n",
       "       [-32.        ]])"
      ]
     },
     "execution_count": 81,
     "metadata": {},
     "output_type": "execute_result"
    }
   ],
   "source": [
    "eval_sol = sm.lambdify((F1, F2), sol)\n",
    "eval_sol(13, 32)"
   ]
  },
  {
   "cell_type": "code",
   "execution_count": 82,
   "id": "9f8b90de",
   "metadata": {
    "execution": {
     "iopub.execute_input": "2025-09-25T05:55:55.652410Z",
     "iopub.status.busy": "2025-09-25T05:55:55.652248Z",
     "iopub.status.idle": "2025-09-25T05:55:55.657855Z",
     "shell.execute_reply": "2025-09-25T05:55:55.657436Z"
    }
   },
   "outputs": [],
   "source": [
    "a1, a2 = sm.symbols('a1, a2')\n",
    "exprs = sm.Matrix([\n",
    "    [a1*sm.sin(f(t))*sm.cos(2*f(t)) + a2 + omega/sm.log(f(t), t) + 100],\n",
    "    [a1*omega**2 + f(t)*a2 + omega + f(t)**3],\n",
    "])\n",
    "A = exprs.jacobian([a1, a2])\n",
    "b = -exprs.xreplace({a1: 0, a2: 0})\n",
    "sol = A.LUsolve(b)"
   ]
  },
  {
   "cell_type": "code",
   "execution_count": 83,
   "id": "37298900",
   "metadata": {
    "execution": {
     "iopub.execute_input": "2025-09-25T05:55:55.659033Z",
     "iopub.status.busy": "2025-09-25T05:55:55.658896Z",
     "iopub.status.idle": "2025-09-25T05:55:56.243993Z",
     "shell.execute_reply": "2025-09-25T05:55:56.243508Z"
    }
   },
   "outputs": [
    {
     "data": {
      "text/latex": [
       "$\\displaystyle \\left[\\begin{matrix}\\frac{- \\omega f{\\left(t \\right)} \\log{\\left(t \\right)} + \\omega \\log{\\left(f{\\left(t \\right)} \\right)} + f^{3}{\\left(t \\right)} \\log{\\left(f{\\left(t \\right)} \\right)} - 100 f{\\left(t \\right)} \\log{\\left(f{\\left(t \\right)} \\right)}}{\\left(- \\omega^{2} + f{\\left(t \\right)} \\sin{\\left(f{\\left(t \\right)} \\right)} \\cos{\\left(2 f{\\left(t \\right)} \\right)}\\right) \\log{\\left(f{\\left(t \\right)} \\right)}}\\\\\\frac{- \\omega^{2} \\left(\\omega \\log{\\left(t \\right)} + 100 \\log{\\left(f{\\left(t \\right)} \\right)}\\right) + \\left(\\omega + f^{3}{\\left(t \\right)}\\right) \\log{\\left(f{\\left(t \\right)} \\right)} \\sin{\\left(f{\\left(t \\right)} \\right)} \\cos{\\left(2 f{\\left(t \\right)} \\right)}}{\\left(\\omega^{2} - f{\\left(t \\right)} \\sin{\\left(f{\\left(t \\right)} \\right)} \\cos{\\left(2 f{\\left(t \\right)} \\right)}\\right) \\log{\\left(f{\\left(t \\right)} \\right)}}\\end{matrix}\\right]$"
      ],
      "text/plain": [
       "⎡                                     3                                       \n",
       "⎢     -ω⋅f(t)⋅log(t) + ω⋅log(f(t)) + f (t)⋅log(f(t)) - 100⋅f(t)⋅log(f(t))     \n",
       "⎢     ───────────────────────────────────────────────────────────────────     \n",
       "⎢                ⎛   2                             ⎞                          \n",
       "⎢                ⎝- ω  + f(t)⋅sin(f(t))⋅cos(2⋅f(t))⎠⋅log(f(t))                \n",
       "⎢                                                                             \n",
       "⎢   2                              ⎛     3   ⎞                                \n",
       "⎢- ω ⋅(ω⋅log(t) + 100⋅log(f(t))) + ⎝ω + f (t)⎠⋅log(f(t))⋅sin(f(t))⋅cos(2⋅f(t))\n",
       "⎢─────────────────────────────────────────────────────────────────────────────\n",
       "⎢                 ⎛ 2                             ⎞                           \n",
       "⎣                 ⎝ω  - f(t)⋅sin(f(t))⋅cos(2⋅f(t))⎠⋅log(f(t))                 \n",
       "\n",
       "⎤\n",
       "⎥\n",
       "⎥\n",
       "⎥\n",
       "⎥\n",
       "⎥\n",
       "⎥\n",
       "⎥\n",
       "⎥\n",
       "⎥\n",
       "⎦"
      ]
     },
     "execution_count": 83,
     "metadata": {},
     "output_type": "execute_result"
    }
   ],
   "source": [
    "sm.simplify(sol)"
   ]
  },
  {
   "cell_type": "code",
   "execution_count": 84,
   "id": "dee72679",
   "metadata": {
    "execution": {
     "iopub.execute_input": "2025-09-25T05:55:56.245409Z",
     "iopub.status.busy": "2025-09-25T05:55:56.245249Z",
     "iopub.status.idle": "2025-09-25T05:55:56.249425Z",
     "shell.execute_reply": "2025-09-25T05:55:56.248926Z"
    }
   },
   "outputs": [
    {
     "data": {
      "text/latex": [
       "$\\displaystyle \\sin^{2}{\\left(\\omega \\right)} + \\cos^{2}{\\left(\\omega \\right)}$"
      ],
      "text/plain": [
       "   2         2   \n",
       "sin (ω) + cos (ω)"
      ]
     },
     "execution_count": 84,
     "metadata": {},
     "output_type": "execute_result"
    }
   ],
   "source": [
    "trig_expr = sm.cos(omega)**2 + sm.sin(omega)**2\n",
    "trig_expr"
   ]
  },
  {
   "cell_type": "code",
   "execution_count": 85,
   "id": "4bd6627c",
   "metadata": {
    "execution": {
     "iopub.execute_input": "2025-09-25T05:55:56.250723Z",
     "iopub.status.busy": "2025-09-25T05:55:56.250576Z",
     "iopub.status.idle": "2025-09-25T05:55:56.270645Z",
     "shell.execute_reply": "2025-09-25T05:55:56.270120Z"
    }
   },
   "outputs": [
    {
     "data": {
      "text/latex": [
       "$\\displaystyle 1$"
      ],
      "text/plain": [
       "1"
      ]
     },
     "execution_count": 85,
     "metadata": {},
     "output_type": "execute_result"
    }
   ],
   "source": [
    "sm.trigsimp(trig_expr)"
   ]
  },
  {
   "cell_type": "code",
   "execution_count": 86,
   "id": "b91193b3",
   "metadata": {
    "execution": {
     "iopub.execute_input": "2025-09-25T05:55:56.271980Z",
     "iopub.status.busy": "2025-09-25T05:55:56.271827Z",
     "iopub.status.idle": "2025-09-25T05:55:56.276172Z",
     "shell.execute_reply": "2025-09-25T05:55:56.275756Z"
    }
   },
   "outputs": [
    {
     "data": {
      "text/latex": [
       "$\\displaystyle 79$"
      ],
      "text/plain": [
       "79"
      ]
     },
     "execution_count": 86,
     "metadata": {},
     "output_type": "execute_result"
    }
   ],
   "source": [
    "sm.count_ops(sol)"
   ]
  },
  {
   "cell_type": "code",
   "execution_count": 87,
   "id": "b962dea7",
   "metadata": {
    "execution": {
     "iopub.execute_input": "2025-09-25T05:55:56.277521Z",
     "iopub.status.busy": "2025-09-25T05:55:56.277366Z",
     "iopub.status.idle": "2025-09-25T05:55:56.289080Z",
     "shell.execute_reply": "2025-09-25T05:55:56.288622Z"
    }
   },
   "outputs": [],
   "source": [
    "substitutions, simplified = sm.cse(sol)"
   ]
  },
  {
   "cell_type": "code",
   "execution_count": 88,
   "id": "34c5c27a",
   "metadata": {
    "execution": {
     "iopub.execute_input": "2025-09-25T05:55:56.290437Z",
     "iopub.status.busy": "2025-09-25T05:55:56.290292Z",
     "iopub.status.idle": "2025-09-25T05:55:56.293794Z",
     "shell.execute_reply": "2025-09-25T05:55:56.293288Z"
    }
   },
   "outputs": [
    {
     "data": {
      "text/latex": [
       "$\\displaystyle \\left( x_{0}, \\  f{\\left(t \\right)}\\right)$"
      ],
      "text/plain": [
       "(x₀, f(t))"
      ]
     },
     "execution_count": 88,
     "metadata": {},
     "output_type": "execute_result"
    }
   ],
   "source": [
    "substitutions[0]"
   ]
  },
  {
   "cell_type": "code",
   "execution_count": 89,
   "id": "823047d7",
   "metadata": {
    "execution": {
     "iopub.execute_input": "2025-09-25T05:55:56.295123Z",
     "iopub.status.busy": "2025-09-25T05:55:56.294973Z",
     "iopub.status.idle": "2025-09-25T05:55:56.299200Z",
     "shell.execute_reply": "2025-09-25T05:55:56.298683Z"
    }
   },
   "outputs": [
    {
     "data": {
      "text/latex": [
       "$\\displaystyle x_{0} = f{\\left(t \\right)}$"
      ],
      "text/plain": [
       "x₀ = f(t)"
      ]
     },
     "execution_count": 89,
     "metadata": {},
     "output_type": "execute_result"
    }
   ],
   "source": [
    "sm.Eq(*substitutions[0])"
   ]
  },
  {
   "cell_type": "code",
   "execution_count": 90,
   "id": "906d333f",
   "metadata": {
    "execution": {
     "iopub.execute_input": "2025-09-25T05:55:56.300545Z",
     "iopub.status.busy": "2025-09-25T05:55:56.300390Z",
     "iopub.status.idle": "2025-09-25T05:55:56.308901Z",
     "shell.execute_reply": "2025-09-25T05:55:56.308412Z"
    }
   },
   "outputs": [
    {
     "data": {
      "text/latex": [
       "$\\displaystyle x_{1} = \\frac{1}{\\sin{\\left(x_{0} \\right)} \\cos{\\left(2 x_{0} \\right)}}$"
      ],
      "text/plain": [
       "             1        \n",
       "x₁ = ─────────────────\n",
       "     sin(x₀)⋅cos(2⋅x₀)"
      ]
     },
     "execution_count": 90,
     "metadata": {},
     "output_type": "execute_result"
    }
   ],
   "source": [
    "sm.Eq(*substitutions[1])"
   ]
  },
  {
   "cell_type": "code",
   "execution_count": 91,
   "id": "4adf5ea8",
   "metadata": {
    "execution": {
     "iopub.execute_input": "2025-09-25T05:55:56.310195Z",
     "iopub.status.busy": "2025-09-25T05:55:56.310026Z",
     "iopub.status.idle": "2025-09-25T05:55:56.314518Z",
     "shell.execute_reply": "2025-09-25T05:55:56.314079Z"
    }
   },
   "outputs": [
    {
     "data": {
      "text/latex": [
       "$\\displaystyle x_{2} = \\omega^{2} x_{1}$"
      ],
      "text/plain": [
       "      2   \n",
       "x₂ = ω ⋅x₁"
      ]
     },
     "execution_count": 91,
     "metadata": {},
     "output_type": "execute_result"
    }
   ],
   "source": [
    "sm.Eq(*substitutions[2])"
   ]
  },
  {
   "cell_type": "code",
   "execution_count": 92,
   "id": "adbfeb9e",
   "metadata": {
    "execution": {
     "iopub.execute_input": "2025-09-25T05:55:56.315761Z",
     "iopub.status.busy": "2025-09-25T05:55:56.315625Z",
     "iopub.status.idle": "2025-09-25T05:55:56.324034Z",
     "shell.execute_reply": "2025-09-25T05:55:56.323627Z"
    }
   },
   "outputs": [
    {
     "data": {
      "text/latex": [
       "$\\displaystyle x_{4} = \\frac{- \\omega - x_{0}^{3} + x_{2} x_{3}}{x_{0} - x_{2}}$"
      ],
      "text/plain": [
       "            3        \n",
       "     -ω - x₀  + x₂⋅x₃\n",
       "x₄ = ────────────────\n",
       "         x₀ - x₂     "
      ]
     },
     "execution_count": 92,
     "metadata": {},
     "output_type": "execute_result"
    }
   ],
   "source": [
    "sm.Eq(*substitutions[4])"
   ]
  },
  {
   "cell_type": "code",
   "execution_count": 93,
   "id": "8fbea8a2",
   "metadata": {
    "execution": {
     "iopub.execute_input": "2025-09-25T05:55:56.325395Z",
     "iopub.status.busy": "2025-09-25T05:55:56.325243Z",
     "iopub.status.idle": "2025-09-25T05:55:56.329865Z",
     "shell.execute_reply": "2025-09-25T05:55:56.329369Z"
    }
   },
   "outputs": [
    {
     "data": {
      "text/latex": [
       "$\\displaystyle \\left[\\begin{matrix}x_{1} \\left(- x_{3} - x_{4}\\right)\\\\x_{4}\\end{matrix}\\right]$"
      ],
      "text/plain": [
       "⎡x₁⋅(-x₃ - x₄)⎤\n",
       "⎢             ⎥\n",
       "⎣     x₄      ⎦"
      ]
     },
     "execution_count": 93,
     "metadata": {},
     "output_type": "execute_result"
    }
   ],
   "source": [
    "simplified[0]"
   ]
  },
  {
   "cell_type": "code",
   "execution_count": 94,
   "id": "ccc9b94b",
   "metadata": {
    "execution": {
     "iopub.execute_input": "2025-09-25T05:55:56.331276Z",
     "iopub.status.busy": "2025-09-25T05:55:56.331096Z",
     "iopub.status.idle": "2025-09-25T05:55:56.335811Z",
     "shell.execute_reply": "2025-09-25T05:55:56.335309Z"
    }
   },
   "outputs": [
    {
     "data": {
      "text/latex": [
       "$\\displaystyle 22$"
      ],
      "text/plain": [
       "22"
      ]
     },
     "execution_count": 94,
     "metadata": {},
     "output_type": "execute_result"
    }
   ],
   "source": [
    "num_ops = sm.count_ops(simplified[0])\n",
    "for sub in substitutions:\n",
    "    num_ops += sm.count_ops(sub[1])\n",
    "num_ops"
   ]
  },
  {
   "cell_type": "code",
   "execution_count": 95,
   "id": "0772677d",
   "metadata": {
    "execution": {
     "iopub.execute_input": "2025-09-25T05:55:56.337236Z",
     "iopub.status.busy": "2025-09-25T05:55:56.337060Z",
     "iopub.status.idle": "2025-09-25T05:55:56.344987Z",
     "shell.execute_reply": "2025-09-25T05:55:56.344475Z"
    }
   },
   "outputs": [],
   "source": [
    "a, b, c, x, y, z = sm.symbols('a, b, c, x, y, z')\n",
    "base_expr = a*sm.sin(x*x + b*sm.cos(x*y) + c*sm.sin(x*z))"
   ]
  },
  {
   "cell_type": "code",
   "execution_count": 96,
   "id": "cbe3d8bf",
   "metadata": {
    "execution": {
     "iopub.execute_input": "2025-09-25T05:55:56.346398Z",
     "iopub.status.busy": "2025-09-25T05:55:56.346240Z",
     "iopub.status.idle": "2025-09-25T05:56:01.379021Z",
     "shell.execute_reply": "2025-09-25T05:56:01.378495Z"
    }
   },
   "outputs": [],
   "source": [
    "long_expr = base_expr.diff(x, 10)"
   ]
  },
  {
   "cell_type": "code",
   "execution_count": 97,
   "id": "e98fbf56",
   "metadata": {
    "execution": {
     "iopub.execute_input": "2025-09-25T05:56:01.380613Z",
     "iopub.status.busy": "2025-09-25T05:56:01.380452Z",
     "iopub.status.idle": "2025-09-25T05:56:01.471667Z",
     "shell.execute_reply": "2025-09-25T05:56:01.471141Z"
    }
   },
   "outputs": [],
   "source": [
    "eval_long_expr = sm.lambdify((a, b, c, x, y, z), long_expr)\n",
    "eval_long_expr_cse = sm.lambdify((a, b, c, x, y, z), long_expr, cse=True)"
   ]
  },
  {
   "cell_type": "code",
   "execution_count": 98,
   "id": "a21a3149",
   "metadata": {
    "execution": {
     "iopub.execute_input": "2025-09-25T05:56:01.473258Z",
     "iopub.status.busy": "2025-09-25T05:56:01.473086Z",
     "iopub.status.idle": "2025-09-25T05:56:03.582116Z",
     "shell.execute_reply": "2025-09-25T05:56:03.581569Z"
    }
   },
   "outputs": [
    {
     "name": "stdout",
     "output_type": "stream",
     "text": [
      "260 μs ± 443 ns per loop (mean ± std. dev. of 7 runs, 1,000 loops each)\n"
     ]
    }
   ],
   "source": [
    "%%timeit\n",
    "eval_long_expr(1.0, 2.0, 3.0, 4.0, 5.0, 6.0)"
   ]
  },
  {
   "cell_type": "code",
   "execution_count": 99,
   "id": "17c24b7b",
   "metadata": {
    "execution": {
     "iopub.execute_input": "2025-09-25T05:56:03.583671Z",
     "iopub.status.busy": "2025-09-25T05:56:03.583504Z",
     "iopub.status.idle": "2025-09-25T05:56:17.103909Z",
     "shell.execute_reply": "2025-09-25T05:56:17.103387Z"
    }
   },
   "outputs": [
    {
     "name": "stdout",
     "output_type": "stream",
     "text": [
      "16.7 μs ± 31.3 ns per loop (mean ± std. dev. of 7 runs, 100,000 loops each)\n"
     ]
    }
   ],
   "source": [
    "%%timeit\n",
    "eval_long_expr_cse(1.0, 2.0, 3.0, 4.0, 5.0, 6.0)"
   ]
  }
 ],
 "metadata": {
  "kernelspec": {
   "display_name": "Python 3 (ipykernel)",
   "language": "python",
   "name": "python3"
  },
  "language_info": {
   "codemirror_mode": {
    "name": "ipython",
    "version": 3
   },
   "file_extension": ".py",
   "mimetype": "text/x-python",
   "name": "python",
   "nbconvert_exporter": "python",
   "pygments_lexer": "ipython3",
   "version": "3.11.13"
  }
 },
 "nbformat": 4,
 "nbformat_minor": 5
}