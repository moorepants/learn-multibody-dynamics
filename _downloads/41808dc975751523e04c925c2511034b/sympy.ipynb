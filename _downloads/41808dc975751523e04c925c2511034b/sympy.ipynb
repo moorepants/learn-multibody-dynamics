{
 "cells": [
  {
   "cell_type": "code",
   "execution_count": 1,
   "id": "35c700e9",
   "metadata": {
    "execution": {
     "iopub.execute_input": "2025-09-11T11:37:46.688399Z",
     "iopub.status.busy": "2025-09-11T11:37:46.688223Z",
     "iopub.status.idle": "2025-09-11T11:37:46.898003Z",
     "shell.execute_reply": "2025-09-11T11:37:46.897480Z"
    }
   },
   "outputs": [],
   "source": [
    "import sympy as sm"
   ]
  },
  {
   "cell_type": "code",
   "execution_count": 2,
   "id": "01985a3b",
   "metadata": {
    "execution": {
     "iopub.execute_input": "2025-09-11T11:37:46.899659Z",
     "iopub.status.busy": "2025-09-11T11:37:46.899464Z",
     "iopub.status.idle": "2025-09-11T11:37:46.903542Z",
     "shell.execute_reply": "2025-09-11T11:37:46.903139Z"
    }
   },
   "outputs": [],
   "source": [
    "sm.init_printing(use_latex='mathjax')"
   ]
  },
  {
   "cell_type": "code",
   "execution_count": 3,
   "id": "a3400f62",
   "metadata": {
    "execution": {
     "iopub.execute_input": "2025-09-11T11:37:46.904856Z",
     "iopub.status.busy": "2025-09-11T11:37:46.904702Z",
     "iopub.status.idle": "2025-09-11T11:37:46.908641Z",
     "shell.execute_reply": "2025-09-11T11:37:46.908276Z"
    }
   },
   "outputs": [
    {
     "data": {
      "text/latex": [
       "$\\displaystyle a$"
      ],
      "text/plain": [
       "a"
      ]
     },
     "execution_count": 3,
     "metadata": {},
     "output_type": "execute_result"
    }
   ],
   "source": [
    "a = sm.symbols('a')\n",
    "a"
   ]
  },
  {
   "cell_type": "code",
   "execution_count": 4,
   "id": "f795badb",
   "metadata": {
    "execution": {
     "iopub.execute_input": "2025-09-11T11:37:46.909895Z",
     "iopub.status.busy": "2025-09-11T11:37:46.909746Z",
     "iopub.status.idle": "2025-09-11T11:37:46.912914Z",
     "shell.execute_reply": "2025-09-11T11:37:46.912418Z"
    }
   },
   "outputs": [
    {
     "data": {
      "text/plain": [
       "sympy.core.symbol.Symbol"
      ]
     },
     "execution_count": 4,
     "metadata": {},
     "output_type": "execute_result"
    }
   ],
   "source": [
    "type(a)"
   ]
  },
  {
   "cell_type": "code",
   "execution_count": 5,
   "id": "6e258824",
   "metadata": {
    "execution": {
     "iopub.execute_input": "2025-09-11T11:37:46.914211Z",
     "iopub.status.busy": "2025-09-11T11:37:46.914072Z",
     "iopub.status.idle": "2025-09-11T11:37:46.917483Z",
     "shell.execute_reply": "2025-09-11T11:37:46.917087Z"
    }
   },
   "outputs": [
    {
     "data": {
      "text/latex": [
       "$\\displaystyle \\left( b, \\  t, \\  \\omega, \\  \\Omega\\right)$"
      ],
      "text/plain": [
       "(b, t, ω, Ω)"
      ]
     },
     "execution_count": 5,
     "metadata": {},
     "output_type": "execute_result"
    }
   ],
   "source": [
    "b, t, omega, Omega = sm.symbols('b, t, omega, Omega')\n",
    "b, t, omega, Omega"
   ]
  },
  {
   "cell_type": "code",
   "execution_count": 6,
   "id": "ce679ada",
   "metadata": {
    "execution": {
     "iopub.execute_input": "2025-09-11T11:37:46.918718Z",
     "iopub.status.busy": "2025-09-11T11:37:46.918582Z",
     "iopub.status.idle": "2025-09-11T11:37:46.921758Z",
     "shell.execute_reply": "2025-09-11T11:37:46.921359Z"
    }
   },
   "outputs": [
    {
     "data": {
      "text/latex": [
       "$\\displaystyle \\left( \\alpha_{1}, \\  \\omega_{2}\\right)$"
      ],
      "text/plain": [
       "(α₁, ω₂)"
      ]
     },
     "execution_count": 6,
     "metadata": {},
     "output_type": "execute_result"
    }
   ],
   "source": [
    "pivot_angle, w2 = sm.symbols('alpha1, omega2')\n",
    "pivot_angle, w2"
   ]
  },
  {
   "cell_type": "code",
   "execution_count": 7,
   "id": "38de2398",
   "metadata": {
    "execution": {
     "iopub.execute_input": "2025-09-11T11:37:46.922944Z",
     "iopub.status.busy": "2025-09-11T11:37:46.922801Z",
     "iopub.status.idle": "2025-09-11T11:37:46.926565Z",
     "shell.execute_reply": "2025-09-11T11:37:46.926064Z"
    }
   },
   "outputs": [
    {
     "data": {
      "text/latex": [
       "$\\displaystyle \\left( q_{1}, \\  q_{2}, \\  q_{3}, \\  q_{4}, \\  q_{5}, \\  q_{6}, \\  q_{7}, \\  q_{8}, \\  q_{9}, \\  q_{10}\\right)$"
      ],
      "text/plain": [
       "(q₁, q₂, q₃, q₄, q₅, q₆, q₇, q₈, q₉, q₁₀)"
      ]
     },
     "execution_count": 7,
     "metadata": {},
     "output_type": "execute_result"
    }
   ],
   "source": [
    "sm.symbols('q1:11')"
   ]
  },
  {
   "cell_type": "code",
   "execution_count": 8,
   "id": "9de940f4",
   "metadata": {
    "execution": {
     "iopub.execute_input": "2025-09-11T11:37:46.927887Z",
     "iopub.status.busy": "2025-09-11T11:37:46.927733Z",
     "iopub.status.idle": "2025-09-11T11:37:46.931114Z",
     "shell.execute_reply": "2025-09-11T11:37:46.930627Z"
    }
   },
   "outputs": [
    {
     "data": {
      "text/plain": [
       "f"
      ]
     },
     "execution_count": 8,
     "metadata": {},
     "output_type": "execute_result"
    }
   ],
   "source": [
    "f = sm.Function('f')\n",
    "f"
   ]
  },
  {
   "cell_type": "code",
   "execution_count": 9,
   "id": "c20e5693",
   "metadata": {
    "execution": {
     "iopub.execute_input": "2025-09-11T11:37:46.932436Z",
     "iopub.status.busy": "2025-09-11T11:37:46.932292Z",
     "iopub.status.idle": "2025-09-11T11:37:46.935226Z",
     "shell.execute_reply": "2025-09-11T11:37:46.934763Z"
    }
   },
   "outputs": [
    {
     "data": {
      "text/plain": [
       "sympy.core.function.UndefinedFunction"
      ]
     },
     "execution_count": 9,
     "metadata": {},
     "output_type": "execute_result"
    }
   ],
   "source": [
    "type(f)"
   ]
  },
  {
   "cell_type": "code",
   "execution_count": 10,
   "id": "499988e9",
   "metadata": {
    "execution": {
     "iopub.execute_input": "2025-09-11T11:37:46.936549Z",
     "iopub.status.busy": "2025-09-11T11:37:46.936402Z",
     "iopub.status.idle": "2025-09-11T11:37:46.939818Z",
     "shell.execute_reply": "2025-09-11T11:37:46.939341Z"
    }
   },
   "outputs": [
    {
     "data": {
      "text/latex": [
       "$\\displaystyle f{\\left(t \\right)}$"
      ],
      "text/plain": [
       "f(t)"
      ]
     },
     "execution_count": 10,
     "metadata": {},
     "output_type": "execute_result"
    }
   ],
   "source": [
    "f(t)"
   ]
  },
  {
   "cell_type": "code",
   "execution_count": 11,
   "id": "1ceecaeb",
   "metadata": {
    "execution": {
     "iopub.execute_input": "2025-09-11T11:37:46.941104Z",
     "iopub.status.busy": "2025-09-11T11:37:46.940964Z",
     "iopub.status.idle": "2025-09-11T11:37:46.944090Z",
     "shell.execute_reply": "2025-09-11T11:37:46.943683Z"
    }
   },
   "outputs": [
    {
     "data": {
      "text/plain": [
       "f"
      ]
     },
     "execution_count": 11,
     "metadata": {},
     "output_type": "execute_result"
    }
   ],
   "source": [
    "type(f(t))"
   ]
  },
  {
   "cell_type": "code",
   "execution_count": 12,
   "id": "802d7d38",
   "metadata": {
    "execution": {
     "iopub.execute_input": "2025-09-11T11:37:46.945292Z",
     "iopub.status.busy": "2025-09-11T11:37:46.945122Z",
     "iopub.status.idle": "2025-09-11T11:37:46.948734Z",
     "shell.execute_reply": "2025-09-11T11:37:46.948216Z"
    }
   },
   "outputs": [
    {
     "data": {
      "text/latex": [
       "$\\displaystyle f{\\left(a,b,\\omega,t \\right)}$"
      ],
      "text/plain": [
       "f(a, b, ω, t)"
      ]
     },
     "execution_count": 12,
     "metadata": {},
     "output_type": "execute_result"
    }
   ],
   "source": [
    "f(a, b, omega, t)"
   ]
  },
  {
   "cell_type": "code",
   "execution_count": 13,
   "id": "4455c1be",
   "metadata": {
    "execution": {
     "iopub.execute_input": "2025-09-11T11:37:46.950107Z",
     "iopub.status.busy": "2025-09-11T11:37:46.949959Z",
     "iopub.status.idle": "2025-09-11T11:37:46.953817Z",
     "shell.execute_reply": "2025-09-11T11:37:46.953333Z"
    }
   },
   "outputs": [
    {
     "data": {
      "text/latex": [
       "$\\displaystyle H{\\left(x,y,z \\right)}$"
      ],
      "text/plain": [
       "H(x, y, z)"
      ]
     },
     "execution_count": 13,
     "metadata": {},
     "output_type": "execute_result"
    }
   ],
   "source": [
    "x, y, z = sm.symbols('x, y, z')\n",
    "sm.Function('H')(x, y, z)"
   ]
  },
  {
   "cell_type": "code",
   "execution_count": 14,
   "id": "936bc960",
   "metadata": {
    "execution": {
     "iopub.execute_input": "2025-09-11T11:37:46.955052Z",
     "iopub.status.busy": "2025-09-11T11:37:46.954906Z",
     "iopub.status.idle": "2025-09-11T11:37:47.083963Z",
     "shell.execute_reply": "2025-09-11T11:37:47.083482Z"
    }
   },
   "outputs": [
    {
     "data": {
      "text/latex": [
       "$\\displaystyle a + \\frac{b}{\\omega^{2}}$"
      ],
      "text/plain": [
       "    b \n",
       "a + ──\n",
       "     2\n",
       "    ω "
      ]
     },
     "execution_count": 14,
     "metadata": {},
     "output_type": "execute_result"
    }
   ],
   "source": [
    "expr1 = a + b/omega**2\n",
    "expr1"
   ]
  },
  {
   "cell_type": "code",
   "execution_count": 15,
   "id": "ebf629da",
   "metadata": {
    "execution": {
     "iopub.execute_input": "2025-09-11T11:37:47.085291Z",
     "iopub.status.busy": "2025-09-11T11:37:47.085105Z",
     "iopub.status.idle": "2025-09-11T11:37:47.088352Z",
     "shell.execute_reply": "2025-09-11T11:37:47.087870Z"
    }
   },
   "outputs": [
    {
     "data": {
      "text/plain": [
       "sympy.core.add.Add"
      ]
     },
     "execution_count": 15,
     "metadata": {},
     "output_type": "execute_result"
    }
   ],
   "source": [
    "type(expr1)"
   ]
  },
  {
   "cell_type": "code",
   "execution_count": 16,
   "id": "7c4e8d6f",
   "metadata": {
    "execution": {
     "iopub.execute_input": "2025-09-11T11:37:47.089533Z",
     "iopub.status.busy": "2025-09-11T11:37:47.089390Z",
     "iopub.status.idle": "2025-09-11T11:37:47.092663Z",
     "shell.execute_reply": "2025-09-11T11:37:47.092159Z"
    }
   },
   "outputs": [
    {
     "data": {
      "text/plain": [
       "\"Add(Symbol('a'), Mul(Symbol('b'), Pow(Symbol('omega'), Integer(-2))))\""
      ]
     },
     "execution_count": 16,
     "metadata": {},
     "output_type": "execute_result"
    }
   ],
   "source": [
    "sm.srepr(expr1)"
   ]
  },
  {
   "cell_type": "code",
   "execution_count": 17,
   "id": "e1a380cb",
   "metadata": {
    "execution": {
     "iopub.execute_input": "2025-09-11T11:37:47.093940Z",
     "iopub.status.busy": "2025-09-11T11:37:47.093795Z",
     "iopub.status.idle": "2025-09-11T11:37:47.097932Z",
     "shell.execute_reply": "2025-09-11T11:37:47.097470Z"
    }
   },
   "outputs": [
    {
     "data": {
      "text/latex": [
       "$\\displaystyle a \\omega + f{\\left(t \\right)}$"
      ],
      "text/plain": [
       "a⋅ω + f(t)"
      ]
     },
     "execution_count": 17,
     "metadata": {},
     "output_type": "execute_result"
    }
   ],
   "source": [
    "expr2 = f(t) + a*omega\n",
    "expr2"
   ]
  },
  {
   "cell_type": "code",
   "execution_count": 18,
   "id": "41421d25",
   "metadata": {
    "execution": {
     "iopub.execute_input": "2025-09-11T11:37:47.099192Z",
     "iopub.status.busy": "2025-09-11T11:37:47.099046Z",
     "iopub.status.idle": "2025-09-11T11:37:47.105047Z",
     "shell.execute_reply": "2025-09-11T11:37:47.104580Z"
    }
   },
   "outputs": [
    {
     "data": {
      "text/latex": [
       "$\\displaystyle a \\sin{\\left(\\omega \\right)} + \\frac{\\left|{f{\\left(t \\right)}}\\right|}{\\sqrt{b}}$"
      ],
      "text/plain": [
       "           │f(t)│\n",
       "a⋅sin(ω) + ──────\n",
       "             √b  "
      ]
     },
     "execution_count": 18,
     "metadata": {},
     "output_type": "execute_result"
    }
   ],
   "source": [
    "expr3 = a*sm.sin(omega) + sm.Abs(f(t))/sm.sqrt(b)\n",
    "expr3"
   ]
  },
  {
   "cell_type": "code",
   "execution_count": 19,
   "id": "1af3e93b",
   "metadata": {
    "execution": {
     "iopub.execute_input": "2025-09-11T11:37:47.106402Z",
     "iopub.status.busy": "2025-09-11T11:37:47.106226Z",
     "iopub.status.idle": "2025-09-11T11:37:47.111287Z",
     "shell.execute_reply": "2025-09-11T11:37:47.110777Z"
    }
   },
   "outputs": [
    {
     "data": {
      "text/latex": [
       "$\\displaystyle 5 \\sin{\\left(12 \\right)} + 105.986768359379$"
      ],
      "text/plain": [
       "5⋅sin(12) + 105.986768359379"
      ]
     },
     "execution_count": 19,
     "metadata": {},
     "output_type": "execute_result"
    }
   ],
   "source": [
    "expr4 = 5*sm.sin(12) + sm.Abs(-1001)/sm.sqrt(89.2)\n",
    "expr4"
   ]
  },
  {
   "cell_type": "code",
   "execution_count": 20,
   "id": "eead7f12",
   "metadata": {
    "execution": {
     "iopub.execute_input": "2025-09-11T11:37:47.112507Z",
     "iopub.status.busy": "2025-09-11T11:37:47.112362Z",
     "iopub.status.idle": "2025-09-11T11:37:47.116064Z",
     "shell.execute_reply": "2025-09-11T11:37:47.115582Z"
    }
   },
   "outputs": [
    {
     "data": {
      "text/latex": [
       "$\\displaystyle 0.5 a$"
      ],
      "text/plain": [
       "0.5⋅a"
      ]
     },
     "execution_count": 20,
     "metadata": {},
     "output_type": "execute_result"
    }
   ],
   "source": [
    "1/2*a"
   ]
  },
  {
   "cell_type": "code",
   "execution_count": 21,
   "id": "5403016a",
   "metadata": {
    "execution": {
     "iopub.execute_input": "2025-09-11T11:37:47.117267Z",
     "iopub.status.busy": "2025-09-11T11:37:47.117102Z",
     "iopub.status.idle": "2025-09-11T11:37:47.120548Z",
     "shell.execute_reply": "2025-09-11T11:37:47.120060Z"
    }
   },
   "outputs": [
    {
     "data": {
      "text/latex": [
       "$\\displaystyle \\frac{a}{2}$"
      ],
      "text/plain": [
       "a\n",
       "─\n",
       "2"
      ]
     },
     "execution_count": 21,
     "metadata": {},
     "output_type": "execute_result"
    }
   ],
   "source": [
    "sm.S(1)/2*a"
   ]
  },
  {
   "cell_type": "code",
   "execution_count": 22,
   "id": "91940b2c",
   "metadata": {
    "execution": {
     "iopub.execute_input": "2025-09-11T11:37:47.121758Z",
     "iopub.status.busy": "2025-09-11T11:37:47.121615Z",
     "iopub.status.idle": "2025-09-11T11:37:47.124657Z",
     "shell.execute_reply": "2025-09-11T11:37:47.124284Z"
    }
   },
   "outputs": [
    {
     "data": {
      "text/latex": [
       "$\\displaystyle \\frac{a}{2}$"
      ],
      "text/plain": [
       "a\n",
       "─\n",
       "2"
      ]
     },
     "execution_count": 22,
     "metadata": {},
     "output_type": "execute_result"
    }
   ],
   "source": [
    "a/2"
   ]
  },
  {
   "cell_type": "code",
   "execution_count": 23,
   "id": "b50dd2cf",
   "metadata": {
    "execution": {
     "iopub.execute_input": "2025-09-11T11:37:47.125847Z",
     "iopub.status.busy": "2025-09-11T11:37:47.125716Z",
     "iopub.status.idle": "2025-09-11T11:37:47.131608Z",
     "shell.execute_reply": "2025-09-11T11:37:47.131191Z"
    }
   },
   "outputs": [
    {
     "data": {
      "text/latex": [
       "$\\displaystyle t \\sin{\\left(\\omega f{\\left(t \\right)} \\right)} + \\frac{f{\\left(t \\right)}}{\\sqrt{t}}$"
      ],
      "text/plain": [
       "                f(t)\n",
       "t⋅sin(ω⋅f(t)) + ────\n",
       "                 √t "
      ]
     },
     "execution_count": 23,
     "metadata": {},
     "output_type": "execute_result"
    }
   ],
   "source": [
    "expr5 = t*sm.sin(omega*f(t)) + f(t)/sm.sqrt(t)\n",
    "expr5"
   ]
  },
  {
   "cell_type": "code",
   "execution_count": 24,
   "id": "cef1537d",
   "metadata": {
    "execution": {
     "iopub.execute_input": "2025-09-11T11:37:47.132812Z",
     "iopub.status.busy": "2025-09-11T11:37:47.132680Z",
     "iopub.status.idle": "2025-09-11T11:37:47.145813Z",
     "shell.execute_reply": "2025-09-11T11:37:47.145438Z"
    }
   },
   "outputs": [
    {
     "data": {
      "text/latex": [
       "$\\displaystyle \\frac{\\sqrt{2} e^{\\frac{\\left(- \\mu + x\\right)^{2}}{2 \\sigma^{2}}}}{2 \\sqrt{\\pi} \\sqrt{\\sigma}}$"
      ],
      "text/plain": [
       "            2\n",
       "    (-μ + x) \n",
       "    ─────────\n",
       "          2  \n",
       "       2⋅σ   \n",
       "√2⋅ℯ         \n",
       "─────────────\n",
       "   2⋅√π⋅√σ   "
      ]
     },
     "execution_count": 24,
     "metadata": {},
     "output_type": "execute_result"
    }
   ],
   "source": [
    "x, s, m = sm.symbols('x, sigma, mu')\n",
    "sm.exp((x-m)**2/2/s**2)/sm.sqrt(2*sm.pi*s)"
   ]
  },
  {
   "cell_type": "code",
   "execution_count": 25,
   "id": "d140e4d5",
   "metadata": {
    "execution": {
     "iopub.execute_input": "2025-09-11T11:37:47.147027Z",
     "iopub.status.busy": "2025-09-11T11:37:47.146881Z",
     "iopub.status.idle": "2025-09-11T11:37:47.149962Z",
     "shell.execute_reply": "2025-09-11T11:37:47.149588Z"
    }
   },
   "outputs": [
    {
     "data": {
      "text/plain": [
       "\"Add(Mul(Symbol('a'), sin(Symbol('omega'))), Mul(Pow(Symbol('b'), Rational(-1, 2)), Abs(Function('f')(Symbol('t')))))\""
      ]
     },
     "execution_count": 25,
     "metadata": {},
     "output_type": "execute_result"
    }
   ],
   "source": [
    "sm.srepr(expr3)"
   ]
  },
  {
   "cell_type": "code",
   "execution_count": 26,
   "id": "ef6d3a61",
   "metadata": {
    "execution": {
     "iopub.execute_input": "2025-09-11T11:37:47.151165Z",
     "iopub.status.busy": "2025-09-11T11:37:47.151033Z",
     "iopub.status.idle": "2025-09-11T11:37:47.154336Z",
     "shell.execute_reply": "2025-09-11T11:37:47.153927Z"
    }
   },
   "outputs": [
    {
     "data": {
      "text/plain": [
       "'a*sin(omega) + Abs(f(t))/sqrt(b)'"
      ]
     },
     "execution_count": 26,
     "metadata": {},
     "output_type": "execute_result"
    }
   ],
   "source": [
    "repr(expr3)"
   ]
  },
  {
   "cell_type": "code",
   "execution_count": 27,
   "id": "9f0e409b",
   "metadata": {
    "execution": {
     "iopub.execute_input": "2025-09-11T11:37:47.155518Z",
     "iopub.status.busy": "2025-09-11T11:37:47.155387Z",
     "iopub.status.idle": "2025-09-11T11:37:47.158147Z",
     "shell.execute_reply": "2025-09-11T11:37:47.157748Z"
    }
   },
   "outputs": [
    {
     "name": "stdout",
     "output_type": "stream",
     "text": [
      "a*sin(omega) + Abs(f(t))/sqrt(b)\n"
     ]
    }
   ],
   "source": [
    "print(expr3)"
   ]
  },
  {
   "cell_type": "code",
   "execution_count": 28,
   "id": "065a6c6d",
   "metadata": {
    "execution": {
     "iopub.execute_input": "2025-09-11T11:37:47.159312Z",
     "iopub.status.busy": "2025-09-11T11:37:47.159151Z",
     "iopub.status.idle": "2025-09-11T11:37:47.161845Z",
     "shell.execute_reply": "2025-09-11T11:37:47.161475Z"
    }
   },
   "outputs": [
    {
     "name": "stdout",
     "output_type": "stream",
     "text": [
      "           │f(t)│\n",
      "a⋅sin(ω) + ──────\n",
      "             √b  \n"
     ]
    }
   ],
   "source": [
    "sm.pprint(expr3)"
   ]
  },
  {
   "cell_type": "code",
   "execution_count": 29,
   "id": "33915119",
   "metadata": {
    "execution": {
     "iopub.execute_input": "2025-09-11T11:37:47.163056Z",
     "iopub.status.busy": "2025-09-11T11:37:47.162910Z",
     "iopub.status.idle": "2025-09-11T11:37:47.166363Z",
     "shell.execute_reply": "2025-09-11T11:37:47.165943Z"
    }
   },
   "outputs": [
    {
     "data": {
      "text/plain": [
       "'a \\\\sin{\\\\left(\\\\omega \\\\right)} + \\\\frac{\\\\left|{f{\\\\left(t \\\\right)}}\\\\right|}{\\\\sqrt{b}}'"
      ]
     },
     "execution_count": 29,
     "metadata": {},
     "output_type": "execute_result"
    }
   ],
   "source": [
    "sm.latex(expr3)"
   ]
  },
  {
   "cell_type": "code",
   "execution_count": 30,
   "id": "559a85e6",
   "metadata": {
    "execution": {
     "iopub.execute_input": "2025-09-11T11:37:47.167583Z",
     "iopub.status.busy": "2025-09-11T11:37:47.167443Z",
     "iopub.status.idle": "2025-09-11T11:37:47.169902Z",
     "shell.execute_reply": "2025-09-11T11:37:47.169531Z"
    }
   },
   "outputs": [
    {
     "name": "stdout",
     "output_type": "stream",
     "text": [
      "a \\sin{\\left(\\omega \\right)} + \\frac{\\left|{f{\\left(t \\right)}}\\right|}{\\sqrt{b}}\n"
     ]
    }
   ],
   "source": [
    "print(sm.latex(expr3))"
   ]
  },
  {
   "cell_type": "code",
   "execution_count": 31,
   "id": "d837d2cf",
   "metadata": {
    "execution": {
     "iopub.execute_input": "2025-09-11T11:37:47.171081Z",
     "iopub.status.busy": "2025-09-11T11:37:47.170938Z",
     "iopub.status.idle": "2025-09-11T11:37:47.174652Z",
     "shell.execute_reply": "2025-09-11T11:37:47.174140Z"
    }
   },
   "outputs": [
    {
     "name": "stdout",
     "output_type": "stream",
     "text": [
      "\\begin{equation}\\frac{\\sqrt{2} e^{\\frac{\\left(- \\mu + x\\right)^{2}}{2 \\sigma^{2}}}}{2 \\sqrt{\\pi} \\sqrt{\\sigma}}\\end{equation}\n"
     ]
    }
   ],
   "source": [
    "x, s, m = sm.symbols('x, sigma, mu')\n",
    "print(sm.latex(sm.exp((x-m)**2/2/s**2)/sm.sqrt(2*sm.pi*s),\n",
    "               mode='equation'))"
   ]
  },
  {
   "cell_type": "code",
   "execution_count": 32,
   "id": "b1ee4813",
   "metadata": {
    "execution": {
     "iopub.execute_input": "2025-09-11T11:37:47.175859Z",
     "iopub.status.busy": "2025-09-11T11:37:47.175712Z",
     "iopub.status.idle": "2025-09-11T11:37:47.179765Z",
     "shell.execute_reply": "2025-09-11T11:37:47.179280Z"
    }
   },
   "outputs": [
    {
     "data": {
      "text/latex": [
       "$\\displaystyle \\frac{d}{d t} f{\\left(t \\right)}$"
      ],
      "text/plain": [
       "d       \n",
       "──(f(t))\n",
       "dt      "
      ]
     },
     "execution_count": 32,
     "metadata": {},
     "output_type": "execute_result"
    }
   ],
   "source": [
    "sm.diff(f(t), t)"
   ]
  },
  {
   "cell_type": "code",
   "execution_count": 33,
   "id": "2c4f0b7a",
   "metadata": {
    "execution": {
     "iopub.execute_input": "2025-09-11T11:37:47.180954Z",
     "iopub.status.busy": "2025-09-11T11:37:47.180811Z",
     "iopub.status.idle": "2025-09-11T11:37:47.184478Z",
     "shell.execute_reply": "2025-09-11T11:37:47.184012Z"
    }
   },
   "outputs": [
    {
     "data": {
      "text/latex": [
       "$\\displaystyle \\frac{d}{d t} f{\\left(t \\right)}$"
      ],
      "text/plain": [
       "d       \n",
       "──(f(t))\n",
       "dt      "
      ]
     },
     "execution_count": 33,
     "metadata": {},
     "output_type": "execute_result"
    }
   ],
   "source": [
    "f(t).diff(t)"
   ]
  },
  {
   "cell_type": "code",
   "execution_count": 34,
   "id": "bfcce8b9",
   "metadata": {
    "execution": {
     "iopub.execute_input": "2025-09-11T11:37:47.185838Z",
     "iopub.status.busy": "2025-09-11T11:37:47.185689Z",
     "iopub.status.idle": "2025-09-11T11:37:47.189705Z",
     "shell.execute_reply": "2025-09-11T11:37:47.189313Z"
    }
   },
   "outputs": [
    {
     "data": {
      "text/latex": [
       "$\\displaystyle a \\sin{\\left(\\omega \\right)} + \\frac{\\left|{f{\\left(t \\right)}}\\right|}{\\sqrt{b}}$"
      ],
      "text/plain": [
       "           │f(t)│\n",
       "a⋅sin(ω) + ──────\n",
       "             √b  "
      ]
     },
     "execution_count": 34,
     "metadata": {},
     "output_type": "execute_result"
    }
   ],
   "source": [
    "expr3"
   ]
  },
  {
   "cell_type": "code",
   "execution_count": 35,
   "id": "1b8a3971",
   "metadata": {
    "execution": {
     "iopub.execute_input": "2025-09-11T11:37:47.190909Z",
     "iopub.status.busy": "2025-09-11T11:37:47.190779Z",
     "iopub.status.idle": "2025-09-11T11:37:47.197931Z",
     "shell.execute_reply": "2025-09-11T11:37:47.197541Z"
    }
   },
   "outputs": [
    {
     "data": {
      "text/latex": [
       "$\\displaystyle - \\frac{\\left|{f{\\left(t \\right)}}\\right|}{2 b^{\\frac{3}{2}}}$"
      ],
      "text/plain": [
       "-│f(t)│ \n",
       "────────\n",
       "    3/2 \n",
       " 2⋅b    "
      ]
     },
     "execution_count": 35,
     "metadata": {},
     "output_type": "execute_result"
    }
   ],
   "source": [
    "expr3.diff(b)"
   ]
  },
  {
   "cell_type": "code",
   "execution_count": 36,
   "id": "a6d3743d",
   "metadata": {
    "execution": {
     "iopub.execute_input": "2025-09-11T11:37:47.199097Z",
     "iopub.status.busy": "2025-09-11T11:37:47.198963Z",
     "iopub.status.idle": "2025-09-11T11:37:47.216487Z",
     "shell.execute_reply": "2025-09-11T11:37:47.215999Z"
    }
   },
   "outputs": [
    {
     "data": {
      "text/latex": [
       "$\\displaystyle - \\frac{\\left(\\operatorname{re}{\\left(f{\\left(t \\right)}\\right)} \\frac{d}{d t} \\operatorname{re}{\\left(f{\\left(t \\right)}\\right)} + \\operatorname{im}{\\left(f{\\left(t \\right)}\\right)} \\frac{d}{d t} \\operatorname{im}{\\left(f{\\left(t \\right)}\\right)}\\right) \\operatorname{sign}{\\left(f{\\left(t \\right)} \\right)}}{2 b^{\\frac{3}{2}} f{\\left(t \\right)}}$"
      ],
      "text/plain": [
       " ⎛         d                       d           ⎞            \n",
       "-⎜re(f(t))⋅──(re(f(t))) + im(f(t))⋅──(im(f(t)))⎟⋅sign(f(t)) \n",
       " ⎝         dt                      dt          ⎠            \n",
       "────────────────────────────────────────────────────────────\n",
       "                           3/2                              \n",
       "                        2⋅b   ⋅f(t)                         "
      ]
     },
     "execution_count": 36,
     "metadata": {},
     "output_type": "execute_result"
    }
   ],
   "source": [
    "expr3.diff(b, t)"
   ]
  },
  {
   "cell_type": "code",
   "execution_count": 37,
   "id": "68362a36",
   "metadata": {
    "execution": {
     "iopub.execute_input": "2025-09-11T11:37:47.217704Z",
     "iopub.status.busy": "2025-09-11T11:37:47.217560Z",
     "iopub.status.idle": "2025-09-11T11:37:47.233665Z",
     "shell.execute_reply": "2025-09-11T11:37:47.233259Z"
    }
   },
   "outputs": [
    {
     "data": {
      "text/latex": [
       "$\\displaystyle \\frac{\\left(\\operatorname{re}{\\left(h{\\left(t \\right)}\\right)} \\frac{d}{d t} \\operatorname{re}{\\left(h{\\left(t \\right)}\\right)} + \\operatorname{im}{\\left(h{\\left(t \\right)}\\right)} \\frac{d}{d t} \\operatorname{im}{\\left(h{\\left(t \\right)}\\right)}\\right) \\operatorname{sign}{\\left(h{\\left(t \\right)} \\right)}}{h{\\left(t \\right)}}$"
      ],
      "text/plain": [
       "⎛         d                       d           ⎞           \n",
       "⎜re(h(t))⋅──(re(h(t))) + im(h(t))⋅──(im(h(t)))⎟⋅sign(h(t))\n",
       "⎝         dt                      dt          ⎠           \n",
       "──────────────────────────────────────────────────────────\n",
       "                           h(t)                           "
      ]
     },
     "execution_count": 37,
     "metadata": {},
     "output_type": "execute_result"
    }
   ],
   "source": [
    "h = sm.Function('h')\n",
    "sm.Abs(h(t)).diff(t)"
   ]
  },
  {
   "cell_type": "code",
   "execution_count": 38,
   "id": "ac4addcc",
   "metadata": {
    "execution": {
     "iopub.execute_input": "2025-09-11T11:37:47.234890Z",
     "iopub.status.busy": "2025-09-11T11:37:47.234745Z",
     "iopub.status.idle": "2025-09-11T11:37:47.240563Z",
     "shell.execute_reply": "2025-09-11T11:37:47.240059Z"
    }
   },
   "outputs": [
    {
     "data": {
      "text/latex": [
       "$\\displaystyle \\operatorname{sign}{\\left(h{\\left(t \\right)} \\right)} \\frac{d}{d t} h{\\left(t \\right)}$"
      ],
      "text/plain": [
       "           d       \n",
       "sign(h(t))⋅──(h(t))\n",
       "           dt      "
      ]
     },
     "execution_count": 38,
     "metadata": {},
     "output_type": "execute_result"
    }
   ],
   "source": [
    "h = sm.Function('h', real=True)\n",
    "sm.Abs(h(t)).diff(t)"
   ]
  },
  {
   "cell_type": "code",
   "execution_count": 39,
   "id": "9bd75f97",
   "metadata": {
    "execution": {
     "iopub.execute_input": "2025-09-11T11:37:47.241770Z",
     "iopub.status.busy": "2025-09-11T11:37:47.241611Z",
     "iopub.status.idle": "2025-09-11T11:37:47.246022Z",
     "shell.execute_reply": "2025-09-11T11:37:47.245537Z"
    }
   },
   "outputs": [
    {
     "data": {
      "text/latex": [
       "$\\displaystyle \\frac{d}{d t} h{\\left(t \\right)}$"
      ],
      "text/plain": [
       "d       \n",
       "──(h(t))\n",
       "dt      "
      ]
     },
     "execution_count": 39,
     "metadata": {},
     "output_type": "execute_result"
    }
   ],
   "source": [
    "h = sm.Function('h', real=True, positive=True)\n",
    "sm.Abs(h(t)).diff(t)"
   ]
  },
  {
   "cell_type": "code",
   "execution_count": 40,
   "id": "bf3e0aa4",
   "metadata": {
    "execution": {
     "iopub.execute_input": "2025-09-11T11:37:47.247322Z",
     "iopub.status.busy": "2025-09-11T11:37:47.247159Z",
     "iopub.status.idle": "2025-09-11T11:37:47.251441Z",
     "shell.execute_reply": "2025-09-11T11:37:47.250927Z"
    }
   },
   "outputs": [
    {
     "data": {
      "text/latex": [
       "$\\displaystyle t \\sin{\\left(\\omega f{\\left(t \\right)} \\right)} + \\frac{f{\\left(t \\right)}}{\\sqrt{t}}$"
      ],
      "text/plain": [
       "                f(t)\n",
       "t⋅sin(ω⋅f(t)) + ────\n",
       "                 √t "
      ]
     },
     "execution_count": 40,
     "metadata": {},
     "output_type": "execute_result"
    }
   ],
   "source": [
    "expr5"
   ]
  },
  {
   "cell_type": "code",
   "execution_count": 41,
   "id": "7f4a2c57",
   "metadata": {
    "execution": {
     "iopub.execute_input": "2025-09-11T11:37:47.252703Z",
     "iopub.status.busy": "2025-09-11T11:37:47.252571Z",
     "iopub.status.idle": "2025-09-11T11:37:47.266794Z",
     "shell.execute_reply": "2025-09-11T11:37:47.266400Z"
    }
   },
   "outputs": [
    {
     "data": {
      "text/latex": [
       "$\\displaystyle - \\omega t f{\\left(t \\right)} \\sin{\\left(\\omega f{\\left(t \\right)} \\right)} \\frac{d}{d t} f{\\left(t \\right)} + t \\cos{\\left(\\omega f{\\left(t \\right)} \\right)} \\frac{d}{d t} f{\\left(t \\right)} + f{\\left(t \\right)} \\cos{\\left(\\omega f{\\left(t \\right)} \\right)}$"
      ],
      "text/plain": [
       "                       d                        d                          \n",
       "- ω⋅t⋅f(t)⋅sin(ω⋅f(t))⋅──(f(t)) + t⋅cos(ω⋅f(t))⋅──(f(t)) + f(t)⋅cos(ω⋅f(t))\n",
       "                       dt                       dt                         "
      ]
     },
     "execution_count": 41,
     "metadata": {},
     "output_type": "execute_result"
    }
   ],
   "source": [
    "expr5.diff(t, omega)"
   ]
  },
  {
   "cell_type": "code",
   "execution_count": 42,
   "id": "c52e65d8",
   "metadata": {
    "execution": {
     "iopub.execute_input": "2025-09-11T11:37:47.267972Z",
     "iopub.status.busy": "2025-09-11T11:37:47.267816Z",
     "iopub.status.idle": "2025-09-11T11:37:47.284098Z",
     "shell.execute_reply": "2025-09-11T11:37:47.283620Z"
    }
   },
   "outputs": [
    {
     "data": {
      "text/latex": [
       "$\\displaystyle - \\omega t f{\\left(t \\right)} \\sin{\\left(\\omega f{\\left(t \\right)} \\right)} \\frac{d}{d t} f{\\left(t \\right)} + t \\cos{\\left(\\omega f{\\left(t \\right)} \\right)} \\frac{d}{d t} f{\\left(t \\right)} + f{\\left(t \\right)} \\cos{\\left(\\omega f{\\left(t \\right)} \\right)}$"
      ],
      "text/plain": [
       "                       d                        d                          \n",
       "- ω⋅t⋅f(t)⋅sin(ω⋅f(t))⋅──(f(t)) + t⋅cos(ω⋅f(t))⋅──(f(t)) + f(t)⋅cos(ω⋅f(t))\n",
       "                       dt                       dt                         "
      ]
     },
     "execution_count": 42,
     "metadata": {},
     "output_type": "execute_result"
    }
   ],
   "source": [
    "expr5.diff(t).diff(omega)"
   ]
  },
  {
   "cell_type": "code",
   "execution_count": 43,
   "id": "d3e5e25c",
   "metadata": {
    "execution": {
     "iopub.execute_input": "2025-09-11T11:37:47.285347Z",
     "iopub.status.busy": "2025-09-11T11:37:47.285179Z",
     "iopub.status.idle": "2025-09-11T11:37:47.287732Z",
     "shell.execute_reply": "2025-09-11T11:37:47.287286Z"
    }
   },
   "outputs": [],
   "source": [
    "repl = {omega: sm.pi/4, a: 2, f(t): -12, b: 25}"
   ]
  },
  {
   "cell_type": "code",
   "execution_count": 44,
   "id": "80ba3379",
   "metadata": {
    "execution": {
     "iopub.execute_input": "2025-09-11T11:37:47.288958Z",
     "iopub.status.busy": "2025-09-11T11:37:47.288810Z",
     "iopub.status.idle": "2025-09-11T11:37:47.295268Z",
     "shell.execute_reply": "2025-09-11T11:37:47.294757Z"
    }
   },
   "outputs": [
    {
     "data": {
      "text/latex": [
       "$\\displaystyle \\sqrt{2} + \\frac{12}{5}$"
      ],
      "text/plain": [
       "√2 + 12/5"
      ]
     },
     "execution_count": 44,
     "metadata": {},
     "output_type": "execute_result"
    }
   ],
   "source": [
    "expr3.xreplace(repl)"
   ]
  },
  {
   "cell_type": "code",
   "execution_count": 45,
   "id": "f97d8e6a",
   "metadata": {
    "execution": {
     "iopub.execute_input": "2025-09-11T11:37:47.296458Z",
     "iopub.status.busy": "2025-09-11T11:37:47.296313Z",
     "iopub.status.idle": "2025-09-11T11:37:47.300462Z",
     "shell.execute_reply": "2025-09-11T11:37:47.300046Z"
    }
   },
   "outputs": [
    {
     "data": {
      "text/latex": [
       "$\\displaystyle 3.814213562$"
      ],
      "text/plain": [
       "3.814213562"
      ]
     },
     "execution_count": 45,
     "metadata": {},
     "output_type": "execute_result"
    }
   ],
   "source": [
    "expr3.evalf(n=10, subs=repl)"
   ]
  },
  {
   "cell_type": "code",
   "execution_count": 46,
   "id": "356be960",
   "metadata": {
    "execution": {
     "iopub.execute_input": "2025-09-11T11:37:47.301610Z",
     "iopub.status.busy": "2025-09-11T11:37:47.301463Z",
     "iopub.status.idle": "2025-09-11T11:37:47.305426Z",
     "shell.execute_reply": "2025-09-11T11:37:47.304918Z"
    }
   },
   "outputs": [
    {
     "data": {
      "text/plain": [
       "sympy.core.numbers.Float"
      ]
     },
     "execution_count": 46,
     "metadata": {},
     "output_type": "execute_result"
    }
   ],
   "source": [
    "type(expr3.evalf(n=10, subs=repl))"
   ]
  },
  {
   "cell_type": "code",
   "execution_count": 47,
   "id": "fca74d9b",
   "metadata": {
    "execution": {
     "iopub.execute_input": "2025-09-11T11:37:47.306653Z",
     "iopub.status.busy": "2025-09-11T11:37:47.306507Z",
     "iopub.status.idle": "2025-09-11T11:37:47.310695Z",
     "shell.execute_reply": "2025-09-11T11:37:47.310180Z"
    }
   },
   "outputs": [
    {
     "data": {
      "text/latex": [
       "$\\displaystyle 3.814213562373095048801688724209698078569671875376948073176679737990732478462107$"
      ],
      "text/plain": [
       "3.8142135623730950488016887242096980785696718753769480731766797379907324784621\n",
       "070"
      ]
     },
     "execution_count": 47,
     "metadata": {},
     "output_type": "execute_result"
    }
   ],
   "source": [
    "expr3.evalf(n=80, subs=repl)"
   ]
  },
  {
   "cell_type": "code",
   "execution_count": 48,
   "id": "ca27e791",
   "metadata": {
    "execution": {
     "iopub.execute_input": "2025-09-11T11:37:47.312026Z",
     "iopub.status.busy": "2025-09-11T11:37:47.311875Z",
     "iopub.status.idle": "2025-09-11T11:37:47.316052Z",
     "shell.execute_reply": "2025-09-11T11:37:47.315579Z"
    }
   },
   "outputs": [
    {
     "data": {
      "text/latex": [
       "$\\displaystyle 3.81421356237309$"
      ],
      "text/plain": [
       "3.814213562373095"
      ]
     },
     "execution_count": 48,
     "metadata": {},
     "output_type": "execute_result"
    }
   ],
   "source": [
    "float(expr3.evalf(n=300, subs=repl))"
   ]
  },
  {
   "cell_type": "code",
   "execution_count": 49,
   "id": "e9792674",
   "metadata": {
    "execution": {
     "iopub.execute_input": "2025-09-11T11:37:47.317349Z",
     "iopub.status.busy": "2025-09-11T11:37:47.317183Z",
     "iopub.status.idle": "2025-09-11T11:37:47.321068Z",
     "shell.execute_reply": "2025-09-11T11:37:47.320593Z"
    }
   },
   "outputs": [
    {
     "data": {
      "text/plain": [
       "float"
      ]
     },
     "execution_count": 49,
     "metadata": {},
     "output_type": "execute_result"
    }
   ],
   "source": [
    "type(float(expr3.evalf(n=300, subs=repl)))"
   ]
  },
  {
   "cell_type": "code",
   "execution_count": 50,
   "id": "4270ef26",
   "metadata": {
    "execution": {
     "iopub.execute_input": "2025-09-11T11:37:47.322312Z",
     "iopub.status.busy": "2025-09-11T11:37:47.322148Z",
     "iopub.status.idle": "2025-09-11T11:37:47.326058Z",
     "shell.execute_reply": "2025-09-11T11:37:47.325600Z"
    }
   },
   "outputs": [
    {
     "data": {
      "text/latex": [
       "$\\displaystyle a \\sin{\\left(\\omega \\right)} + \\frac{\\left|{f{\\left(t \\right)}}\\right|}{\\sqrt{b}}$"
      ],
      "text/plain": [
       "           │f(t)│\n",
       "a⋅sin(ω) + ──────\n",
       "             √b  "
      ]
     },
     "execution_count": 50,
     "metadata": {},
     "output_type": "execute_result"
    }
   ],
   "source": [
    "expr3"
   ]
  },
  {
   "cell_type": "code",
   "execution_count": 51,
   "id": "f26ac555",
   "metadata": {
    "execution": {
     "iopub.execute_input": "2025-09-11T11:37:47.327406Z",
     "iopub.status.busy": "2025-09-11T11:37:47.327233Z",
     "iopub.status.idle": "2025-09-11T11:37:47.473223Z",
     "shell.execute_reply": "2025-09-11T11:37:47.472800Z"
    }
   },
   "outputs": [],
   "source": [
    "eval_expr3 = sm.lambdify((omega, a, f(t), b), expr3)"
   ]
  },
  {
   "cell_type": "code",
   "execution_count": 52,
   "id": "6e1b8655",
   "metadata": {
    "execution": {
     "iopub.execute_input": "2025-09-11T11:37:47.474916Z",
     "iopub.status.busy": "2025-09-11T11:37:47.474638Z",
     "iopub.status.idle": "2025-09-11T11:37:47.477510Z",
     "shell.execute_reply": "2025-09-11T11:37:47.477067Z"
    }
   },
   "outputs": [
    {
     "name": "stdout",
     "output_type": "stream",
     "text": [
      "Help on function _lambdifygenerated:\n",
      "\n",
      "_lambdifygenerated(omega, a, _Dummy_38, b)\n",
      "    Created with lambdify. Signature:\n",
      "    \n",
      "    func(omega, a, f, b)\n",
      "    \n",
      "    Expression:\n",
      "    \n",
      "    a*sin(omega) + Abs(f(t))/sqrt(b)\n",
      "    \n",
      "    Source code:\n",
      "    \n",
      "    def _lambdifygenerated(omega, a, _Dummy_38, b):\n",
      "        return a*sin(omega) + abs(_Dummy_38)/sqrt(b)\n",
      "    \n",
      "    \n",
      "    Imported modules:\n",
      "\n"
     ]
    }
   ],
   "source": [
    "help(eval_expr3)"
   ]
  },
  {
   "cell_type": "code",
   "execution_count": 53,
   "id": "ba0ccf5d",
   "metadata": {
    "execution": {
     "iopub.execute_input": "2025-09-11T11:37:47.478749Z",
     "iopub.status.busy": "2025-09-11T11:37:47.478616Z",
     "iopub.status.idle": "2025-09-11T11:37:47.481841Z",
     "shell.execute_reply": "2025-09-11T11:37:47.481465Z"
    }
   },
   "outputs": [
    {
     "data": {
      "text/latex": [
       "$\\displaystyle 3.81365036221073$"
      ],
      "text/plain": [
       "3.8136503622107316"
      ]
     },
     "execution_count": 53,
     "metadata": {},
     "output_type": "execute_result"
    }
   ],
   "source": [
    "eval_expr3(3.14/4, 2, -12, 25)"
   ]
  },
  {
   "cell_type": "code",
   "execution_count": 54,
   "id": "8aeae1bc",
   "metadata": {
    "execution": {
     "iopub.execute_input": "2025-09-11T11:37:47.483016Z",
     "iopub.status.busy": "2025-09-11T11:37:47.482869Z",
     "iopub.status.idle": "2025-09-11T11:37:47.486147Z",
     "shell.execute_reply": "2025-09-11T11:37:47.485666Z"
    }
   },
   "outputs": [
    {
     "data": {
      "text/plain": [
       "numpy.float64"
      ]
     },
     "execution_count": 54,
     "metadata": {},
     "output_type": "execute_result"
    }
   ],
   "source": [
    "type(eval_expr3(3.14/4, 2, -12, 25))"
   ]
  },
  {
   "cell_type": "code",
   "execution_count": 55,
   "id": "624b5ac5",
   "metadata": {
    "execution": {
     "iopub.execute_input": "2025-09-11T11:37:47.487393Z",
     "iopub.status.busy": "2025-09-11T11:37:47.487217Z",
     "iopub.status.idle": "2025-09-11T11:37:47.490828Z",
     "shell.execute_reply": "2025-09-11T11:37:47.490342Z"
    }
   },
   "outputs": [
    {
     "data": {
      "text/plain": [
       "array([3.81365036, 3.76704398, 3.72305144])"
      ]
     },
     "execution_count": 55,
     "metadata": {},
     "output_type": "execute_result"
    }
   ],
   "source": [
    "eval_expr3(3.14/4, 2, -12, [25, 26, 27])"
   ]
  },
  {
   "cell_type": "code",
   "execution_count": 56,
   "id": "dfa95933",
   "metadata": {
    "execution": {
     "iopub.execute_input": "2025-09-11T11:37:47.492041Z",
     "iopub.status.busy": "2025-09-11T11:37:47.491896Z",
     "iopub.status.idle": "2025-09-11T11:37:47.495322Z",
     "shell.execute_reply": "2025-09-11T11:37:47.494800Z"
    }
   },
   "outputs": [
    {
     "data": {
      "text/plain": [
       "numpy.ndarray"
      ]
     },
     "execution_count": 56,
     "metadata": {},
     "output_type": "execute_result"
    }
   ],
   "source": [
    "type(eval_expr3(3.14/4, 2, -12, [25, 26, 27]))"
   ]
  },
  {
   "cell_type": "code",
   "execution_count": 57,
   "id": "bf536639",
   "metadata": {
    "execution": {
     "iopub.execute_input": "2025-09-11T11:37:47.496606Z",
     "iopub.status.busy": "2025-09-11T11:37:47.496463Z",
     "iopub.status.idle": "2025-09-11T11:37:47.502395Z",
     "shell.execute_reply": "2025-09-11T11:37:47.501895Z"
    }
   },
   "outputs": [
    {
     "data": {
      "text/latex": [
       "$\\displaystyle 785.597874097975$"
      ],
      "text/plain": [
       "785.5978740979749"
      ]
     },
     "execution_count": 57,
     "metadata": {},
     "output_type": "execute_result"
    }
   ],
   "source": [
    "G, m1, m2, r = sm.symbols('G, m1, m2, r')\n",
    "F = G*m1*m2/r**2\n",
    "eval_F = sm.lambdify((G, m1, m2, r), F)\n",
    "eval_F(6.67430E-11, 5.972E24, 80, 6371E3)"
   ]
  },
  {
   "cell_type": "code",
   "execution_count": 58,
   "id": "89807671",
   "metadata": {
    "execution": {
     "iopub.execute_input": "2025-09-11T11:37:47.503691Z",
     "iopub.status.busy": "2025-09-11T11:37:47.503546Z",
     "iopub.status.idle": "2025-09-11T11:37:47.508265Z",
     "shell.execute_reply": "2025-09-11T11:37:47.507761Z"
    }
   },
   "outputs": [
    {
     "data": {
      "text/latex": [
       "$\\displaystyle \\left[\\begin{matrix}a & 2 a\\\\\\frac{b}{\\omega} & f{\\left(t \\right)}\\end{matrix}\\right]$"
      ],
      "text/plain": [
       "⎡a  2⋅a ⎤\n",
       "⎢       ⎥\n",
       "⎢b      ⎥\n",
       "⎢─  f(t)⎥\n",
       "⎣ω      ⎦"
      ]
     },
     "execution_count": 58,
     "metadata": {},
     "output_type": "execute_result"
    }
   ],
   "source": [
    "mat1 = sm.Matrix([[a, 2*a], [b/omega, f(t)]])\n",
    "mat1"
   ]
  },
  {
   "cell_type": "code",
   "execution_count": 59,
   "id": "3bc5de93",
   "metadata": {
    "execution": {
     "iopub.execute_input": "2025-09-11T11:37:47.509620Z",
     "iopub.status.busy": "2025-09-11T11:37:47.509471Z",
     "iopub.status.idle": "2025-09-11T11:37:47.513420Z",
     "shell.execute_reply": "2025-09-11T11:37:47.512913Z"
    }
   },
   "outputs": [
    {
     "data": {
      "text/latex": [
       "$\\displaystyle \\left[\\begin{matrix}1 & 2\\\\3 & 4\\end{matrix}\\right]$"
      ],
      "text/plain": [
       "⎡1  2⎤\n",
       "⎢    ⎥\n",
       "⎣3  4⎦"
      ]
     },
     "execution_count": 59,
     "metadata": {},
     "output_type": "execute_result"
    }
   ],
   "source": [
    "mat2 = sm.Matrix([[1, 2], [3, 4]])\n",
    "mat2"
   ]
  },
  {
   "cell_type": "code",
   "execution_count": 60,
   "id": "19359c01",
   "metadata": {
    "execution": {
     "iopub.execute_input": "2025-09-11T11:37:47.514758Z",
     "iopub.status.busy": "2025-09-11T11:37:47.514608Z",
     "iopub.status.idle": "2025-09-11T11:37:47.517800Z",
     "shell.execute_reply": "2025-09-11T11:37:47.517309Z"
    }
   },
   "outputs": [
    {
     "data": {
      "text/latex": [
       "$\\displaystyle \\left( 2, \\  2\\right)$"
      ],
      "text/plain": [
       "(2, 2)"
      ]
     },
     "execution_count": 60,
     "metadata": {},
     "output_type": "execute_result"
    }
   ],
   "source": [
    "mat1.shape"
   ]
  },
  {
   "cell_type": "code",
   "execution_count": 61,
   "id": "520d5cfd",
   "metadata": {
    "execution": {
     "iopub.execute_input": "2025-09-11T11:37:47.519174Z",
     "iopub.status.busy": "2025-09-11T11:37:47.519032Z",
     "iopub.status.idle": "2025-09-11T11:37:47.522177Z",
     "shell.execute_reply": "2025-09-11T11:37:47.521795Z"
    }
   },
   "outputs": [
    {
     "data": {
      "text/latex": [
       "$\\displaystyle 2 a$"
      ],
      "text/plain": [
       "2⋅a"
      ]
     },
     "execution_count": 61,
     "metadata": {},
     "output_type": "execute_result"
    }
   ],
   "source": [
    "mat1[0, 1]"
   ]
  },
  {
   "cell_type": "code",
   "execution_count": 62,
   "id": "8121d1d3",
   "metadata": {
    "execution": {
     "iopub.execute_input": "2025-09-11T11:37:47.523412Z",
     "iopub.status.busy": "2025-09-11T11:37:47.523276Z",
     "iopub.status.idle": "2025-09-11T11:37:47.526827Z",
     "shell.execute_reply": "2025-09-11T11:37:47.526448Z"
    }
   },
   "outputs": [
    {
     "data": {
      "text/latex": [
       "$\\displaystyle \\left[\\begin{matrix}a & 2 a\\end{matrix}\\right]$"
      ],
      "text/plain": [
       "[a  2⋅a]"
      ]
     },
     "execution_count": 62,
     "metadata": {},
     "output_type": "execute_result"
    }
   ],
   "source": [
    "mat1[0, 0:2]"
   ]
  },
  {
   "cell_type": "code",
   "execution_count": 63,
   "id": "ec012f4a",
   "metadata": {
    "execution": {
     "iopub.execute_input": "2025-09-11T11:37:47.528033Z",
     "iopub.status.busy": "2025-09-11T11:37:47.527895Z",
     "iopub.status.idle": "2025-09-11T11:37:47.531695Z",
     "shell.execute_reply": "2025-09-11T11:37:47.531190Z"
    }
   },
   "outputs": [
    {
     "data": {
      "text/latex": [
       "$\\displaystyle \\left[\\begin{matrix}2 a\\\\f{\\left(t \\right)}\\end{matrix}\\right]$"
      ],
      "text/plain": [
       "⎡2⋅a ⎤\n",
       "⎢    ⎥\n",
       "⎣f(t)⎦"
      ]
     },
     "execution_count": 63,
     "metadata": {},
     "output_type": "execute_result"
    }
   ],
   "source": [
    "mat1[0:2, 1]"
   ]
  },
  {
   "cell_type": "code",
   "execution_count": 64,
   "id": "c1d3e4fb",
   "metadata": {
    "execution": {
     "iopub.execute_input": "2025-09-11T11:37:47.533001Z",
     "iopub.status.busy": "2025-09-11T11:37:47.532858Z",
     "iopub.status.idle": "2025-09-11T11:37:47.538106Z",
     "shell.execute_reply": "2025-09-11T11:37:47.537720Z"
    }
   },
   "outputs": [
    {
     "data": {
      "text/latex": [
       "$\\displaystyle \\left[\\begin{matrix}a + 1 & 2 a + 2\\\\\\frac{b}{\\omega} + 3 & f{\\left(t \\right)} + 4\\end{matrix}\\right]$"
      ],
      "text/plain": [
       "⎡a + 1  2⋅a + 2 ⎤\n",
       "⎢               ⎥\n",
       "⎢b              ⎥\n",
       "⎢─ + 3  f(t) + 4⎥\n",
       "⎣ω              ⎦"
      ]
     },
     "execution_count": 64,
     "metadata": {},
     "output_type": "execute_result"
    }
   ],
   "source": [
    "mat1 + mat2"
   ]
  },
  {
   "cell_type": "code",
   "execution_count": 65,
   "id": "15476ad1",
   "metadata": {
    "execution": {
     "iopub.execute_input": "2025-09-11T11:37:47.539388Z",
     "iopub.status.busy": "2025-09-11T11:37:47.539227Z",
     "iopub.status.idle": "2025-09-11T11:37:47.546047Z",
     "shell.execute_reply": "2025-09-11T11:37:47.545647Z"
    }
   },
   "outputs": [
    {
     "data": {
      "text/latex": [
       "$\\displaystyle \\left[\\begin{matrix}7 a & 10 a\\\\\\frac{b}{\\omega} + 3 f{\\left(t \\right)} & \\frac{2 b}{\\omega} + 4 f{\\left(t \\right)}\\end{matrix}\\right]$"
      ],
      "text/plain": [
       "⎡   7⋅a          10⋅a    ⎤\n",
       "⎢                        ⎥\n",
       "⎢b           2⋅b         ⎥\n",
       "⎢─ + 3⋅f(t)  ─── + 4⋅f(t)⎥\n",
       "⎣ω            ω          ⎦"
      ]
     },
     "execution_count": 65,
     "metadata": {},
     "output_type": "execute_result"
    }
   ],
   "source": [
    "mat1*mat2"
   ]
  },
  {
   "cell_type": "code",
   "execution_count": 66,
   "id": "c8351478",
   "metadata": {
    "execution": {
     "iopub.execute_input": "2025-09-11T11:37:47.547272Z",
     "iopub.status.busy": "2025-09-11T11:37:47.547116Z",
     "iopub.status.idle": "2025-09-11T11:37:47.552322Z",
     "shell.execute_reply": "2025-09-11T11:37:47.551911Z"
    }
   },
   "outputs": [
    {
     "data": {
      "text/latex": [
       "$\\displaystyle \\left[\\begin{matrix}7 a & 10 a\\\\\\frac{b}{\\omega} + 3 f{\\left(t \\right)} & \\frac{2 b}{\\omega} + 4 f{\\left(t \\right)}\\end{matrix}\\right]$"
      ],
      "text/plain": [
       "⎡   7⋅a          10⋅a    ⎤\n",
       "⎢                        ⎥\n",
       "⎢b           2⋅b         ⎥\n",
       "⎢─ + 3⋅f(t)  ─── + 4⋅f(t)⎥\n",
       "⎣ω            ω          ⎦"
      ]
     },
     "execution_count": 66,
     "metadata": {},
     "output_type": "execute_result"
    }
   ],
   "source": [
    "mat1@mat2"
   ]
  },
  {
   "cell_type": "code",
   "execution_count": 67,
   "id": "b40574c1",
   "metadata": {
    "execution": {
     "iopub.execute_input": "2025-09-11T11:37:47.553517Z",
     "iopub.status.busy": "2025-09-11T11:37:47.553383Z",
     "iopub.status.idle": "2025-09-11T11:37:47.558768Z",
     "shell.execute_reply": "2025-09-11T11:37:47.558229Z"
    }
   },
   "outputs": [
    {
     "data": {
      "text/latex": [
       "$\\displaystyle \\left[\\begin{matrix}a & 4 a\\\\\\frac{3 b}{\\omega} & 4 f{\\left(t \\right)}\\end{matrix}\\right]$"
      ],
      "text/plain": [
       "⎡ a    4⋅a  ⎤\n",
       "⎢           ⎥\n",
       "⎢3⋅b        ⎥\n",
       "⎢───  4⋅f(t)⎥\n",
       "⎣ ω         ⎦"
      ]
     },
     "execution_count": 67,
     "metadata": {},
     "output_type": "execute_result"
    }
   ],
   "source": [
    "sm.hadamard_product(mat1, mat2)"
   ]
  },
  {
   "cell_type": "code",
   "execution_count": 68,
   "id": "4a4db14a",
   "metadata": {
    "execution": {
     "iopub.execute_input": "2025-09-11T11:37:47.560002Z",
     "iopub.status.busy": "2025-09-11T11:37:47.559854Z",
     "iopub.status.idle": "2025-09-11T11:37:47.567357Z",
     "shell.execute_reply": "2025-09-11T11:37:47.566825Z"
    }
   },
   "outputs": [
    {
     "data": {
      "text/latex": [
       "$\\displaystyle \\left[\\begin{matrix}a + \\frac{b}{\\omega^{2}}\\\\a \\omega + f{\\left(t \\right)}\\\\a \\sin{\\left(\\omega \\right)} + \\frac{\\left|{f{\\left(t \\right)}}\\right|}{\\sqrt{b}}\\\\5 \\sin{\\left(12 \\right)} + 105.986768359379\\\\t \\sin{\\left(\\omega f{\\left(t \\right)} \\right)} + \\frac{f{\\left(t \\right)}}{\\sqrt{t}}\\end{matrix}\\right]$"
      ],
      "text/plain": [
       "⎡               b            ⎤\n",
       "⎢           a + ──           ⎥\n",
       "⎢                2           ⎥\n",
       "⎢               ω            ⎥\n",
       "⎢                            ⎥\n",
       "⎢         a⋅ω + f(t)         ⎥\n",
       "⎢                            ⎥\n",
       "⎢                │f(t)│      ⎥\n",
       "⎢     a⋅sin(ω) + ──────      ⎥\n",
       "⎢                  √b        ⎥\n",
       "⎢                            ⎥\n",
       "⎢5⋅sin(12) + 105.986768359379⎥\n",
       "⎢                            ⎥\n",
       "⎢                    f(t)    ⎥\n",
       "⎢    t⋅sin(ω⋅f(t)) + ────    ⎥\n",
       "⎣                     √t     ⎦"
      ]
     },
     "execution_count": 68,
     "metadata": {},
     "output_type": "execute_result"
    }
   ],
   "source": [
    "mat3 = sm.Matrix([expr1, expr2, expr3, expr4, expr5])\n",
    "mat3"
   ]
  },
  {
   "cell_type": "code",
   "execution_count": 69,
   "id": "d2fae9c8",
   "metadata": {
    "execution": {
     "iopub.execute_input": "2025-09-11T11:37:47.568587Z",
     "iopub.status.busy": "2025-09-11T11:37:47.568446Z",
     "iopub.status.idle": "2025-09-11T11:37:47.579954Z",
     "shell.execute_reply": "2025-09-11T11:37:47.579463Z"
    }
   },
   "outputs": [
    {
     "data": {
      "text/latex": [
       "$\\displaystyle \\left[\\begin{matrix}1\\\\\\omega\\\\\\sin{\\left(\\omega \\right)}\\\\0\\\\0\\end{matrix}\\right]$"
      ],
      "text/plain": [
       "⎡  1   ⎤\n",
       "⎢      ⎥\n",
       "⎢  ω   ⎥\n",
       "⎢      ⎥\n",
       "⎢sin(ω)⎥\n",
       "⎢      ⎥\n",
       "⎢  0   ⎥\n",
       "⎢      ⎥\n",
       "⎣  0   ⎦"
      ]
     },
     "execution_count": 69,
     "metadata": {},
     "output_type": "execute_result"
    }
   ],
   "source": [
    "mat3.diff(a)"
   ]
  },
  {
   "cell_type": "code",
   "execution_count": 70,
   "id": "42bea590",
   "metadata": {
    "execution": {
     "iopub.execute_input": "2025-09-11T11:37:47.581231Z",
     "iopub.status.busy": "2025-09-11T11:37:47.581090Z",
     "iopub.status.idle": "2025-09-11T11:37:47.593130Z",
     "shell.execute_reply": "2025-09-11T11:37:47.592746Z"
    }
   },
   "outputs": [
    {
     "data": {
      "text/latex": [
       "$\\displaystyle \\left[\\begin{matrix}0\\\\\\frac{d}{d t} f{\\left(t \\right)}\\\\\\frac{\\left(\\operatorname{re}{\\left(f{\\left(t \\right)}\\right)} \\frac{d}{d t} \\operatorname{re}{\\left(f{\\left(t \\right)}\\right)} + \\operatorname{im}{\\left(f{\\left(t \\right)}\\right)} \\frac{d}{d t} \\operatorname{im}{\\left(f{\\left(t \\right)}\\right)}\\right) \\operatorname{sign}{\\left(f{\\left(t \\right)} \\right)}}{\\sqrt{b} f{\\left(t \\right)}}\\\\0\\\\\\omega t \\cos{\\left(\\omega f{\\left(t \\right)} \\right)} \\frac{d}{d t} f{\\left(t \\right)} + \\sin{\\left(\\omega f{\\left(t \\right)} \\right)} + \\frac{\\frac{d}{d t} f{\\left(t \\right)}}{\\sqrt{t}} - \\frac{f{\\left(t \\right)}}{2 t^{\\frac{3}{2}}}\\end{matrix}\\right]$"
      ],
      "text/plain": [
       "⎡                            0                             ⎤\n",
       "⎢                                                          ⎥\n",
       "⎢                         d                                ⎥\n",
       "⎢                         ──(f(t))                         ⎥\n",
       "⎢                         dt                               ⎥\n",
       "⎢                                                          ⎥\n",
       "⎢⎛         d                       d           ⎞           ⎥\n",
       "⎢⎜re(f(t))⋅──(re(f(t))) + im(f(t))⋅──(im(f(t)))⎟⋅sign(f(t))⎥\n",
       "⎢⎝         dt                      dt          ⎠           ⎥\n",
       "⎢──────────────────────────────────────────────────────────⎥\n",
       "⎢                         √b⋅f(t)                          ⎥\n",
       "⎢                                                          ⎥\n",
       "⎢                            0                             ⎥\n",
       "⎢                                                          ⎥\n",
       "⎢                                         d                ⎥\n",
       "⎢                                         ──(f(t))         ⎥\n",
       "⎢                d                        dt          f(t) ⎥\n",
       "⎢ω⋅t⋅cos(ω⋅f(t))⋅──(f(t)) + sin(ω⋅f(t)) + ──────── - ──────⎥\n",
       "⎢                dt                          √t         3/2⎥\n",
       "⎣                                                    2⋅t   ⎦"
      ]
     },
     "execution_count": 70,
     "metadata": {},
     "output_type": "execute_result"
    }
   ],
   "source": [
    "mat3.diff(t)"
   ]
  },
  {
   "cell_type": "code",
   "execution_count": 71,
   "id": "e7f38de9",
   "metadata": {
    "execution": {
     "iopub.execute_input": "2025-09-11T11:37:47.594361Z",
     "iopub.status.busy": "2025-09-11T11:37:47.594196Z",
     "iopub.status.idle": "2025-09-11T11:37:47.598119Z",
     "shell.execute_reply": "2025-09-11T11:37:47.597719Z"
    }
   },
   "outputs": [
    {
     "data": {
      "text/latex": [
       "$\\displaystyle \\left[\\begin{matrix}a\\\\b\\\\\\omega\\\\t\\end{matrix}\\right]$"
      ],
      "text/plain": [
       "⎡a⎤\n",
       "⎢ ⎥\n",
       "⎢b⎥\n",
       "⎢ ⎥\n",
       "⎢ω⎥\n",
       "⎢ ⎥\n",
       "⎣t⎦"
      ]
     },
     "execution_count": 71,
     "metadata": {},
     "output_type": "execute_result"
    }
   ],
   "source": [
    "mat4 = sm.Matrix([a, b, omega, t])\n",
    "mat4"
   ]
  },
  {
   "cell_type": "code",
   "execution_count": 72,
   "id": "c94ca6a4",
   "metadata": {
    "execution": {
     "iopub.execute_input": "2025-09-11T11:37:47.599352Z",
     "iopub.status.busy": "2025-09-11T11:37:47.599189Z",
     "iopub.status.idle": "2025-09-11T11:37:47.616269Z",
     "shell.execute_reply": "2025-09-11T11:37:47.615850Z"
    }
   },
   "outputs": [
    {
     "data": {
      "text/latex": [
       "$\\displaystyle \\left[\\begin{matrix}1 & \\frac{1}{\\omega^{2}} & - \\frac{2 b}{\\omega^{3}} & 0\\\\\\omega & 0 & a & \\frac{d}{d t} f{\\left(t \\right)}\\\\\\sin{\\left(\\omega \\right)} & - \\frac{\\left|{f{\\left(t \\right)}}\\right|}{2 b^{\\frac{3}{2}}} & a \\cos{\\left(\\omega \\right)} & \\frac{\\left(\\operatorname{re}{\\left(f{\\left(t \\right)}\\right)} \\frac{d}{d t} \\operatorname{re}{\\left(f{\\left(t \\right)}\\right)} + \\operatorname{im}{\\left(f{\\left(t \\right)}\\right)} \\frac{d}{d t} \\operatorname{im}{\\left(f{\\left(t \\right)}\\right)}\\right) \\operatorname{sign}{\\left(f{\\left(t \\right)} \\right)}}{\\sqrt{b} f{\\left(t \\right)}}\\\\0 & 0 & 0 & 0\\\\0 & 0 & t f{\\left(t \\right)} \\cos{\\left(\\omega f{\\left(t \\right)} \\right)} & \\omega t \\cos{\\left(\\omega f{\\left(t \\right)} \\right)} \\frac{d}{d t} f{\\left(t \\right)} + \\sin{\\left(\\omega f{\\left(t \\right)} \\right)} + \\frac{\\frac{d}{d t} f{\\left(t \\right)}}{\\sqrt{t}} - \\frac{f{\\left(t \\right)}}{2 t^{\\frac{3}{2}}}\\end{matrix}\\right]$"
      ],
      "text/plain": [
       "⎡           1            -2⋅b                                                 \n",
       "⎢  1        ──           ─────                                     0          \n",
       "⎢            2              3                                                 \n",
       "⎢           ω              ω                                                  \n",
       "⎢                                                                             \n",
       "⎢                                                               d             \n",
       "⎢  ω        0              a                                    ──(f(t))      \n",
       "⎢                                                               dt            \n",
       "⎢                                                                             \n",
       "⎢                                      ⎛         d                       d    \n",
       "⎢                                      ⎜re(f(t))⋅──(re(f(t))) + im(f(t))⋅──(im\n",
       "⎢        -│f(t)│                       ⎝         dt                      dt   \n",
       "⎢sin(ω)  ────────       a⋅cos(ω)       ───────────────────────────────────────\n",
       "⎢            3/2                                                √b⋅f(t)       \n",
       "⎢         2⋅b                                                                 \n",
       "⎢                                                                             \n",
       "⎢  0        0              0                                       0          \n",
       "⎢                                                                             \n",
       "⎢                                                                             \n",
       "⎢                                                                             \n",
       "⎢                                                      d                      \n",
       "⎢  0        0      t⋅f(t)⋅cos(ω⋅f(t))  ω⋅t⋅cos(ω⋅f(t))⋅──(f(t)) + sin(ω⋅f(t)) \n",
       "⎢                                                      dt                     \n",
       "⎣                                                                             \n",
       "\n",
       "                   ⎤\n",
       "                   ⎥\n",
       "                   ⎥\n",
       "                   ⎥\n",
       "                   ⎥\n",
       "                   ⎥\n",
       "                   ⎥\n",
       "                   ⎥\n",
       "                   ⎥\n",
       "       ⎞           ⎥\n",
       "(f(t)))⎟⋅sign(f(t))⎥\n",
       "       ⎠           ⎥\n",
       "───────────────────⎥\n",
       "                   ⎥\n",
       "                   ⎥\n",
       "                   ⎥\n",
       "                   ⎥\n",
       "                   ⎥\n",
       "  d                ⎥\n",
       "  ──(f(t))         ⎥\n",
       "  dt          f(t) ⎥\n",
       "+ ──────── - ──────⎥\n",
       "     √t         3/2⎥\n",
       "             2⋅t   ⎦"
      ]
     },
     "execution_count": 72,
     "metadata": {},
     "output_type": "execute_result"
    }
   ],
   "source": [
    "mat3.jacobian(mat4)"
   ]
  },
  {
   "cell_type": "code",
   "execution_count": 73,
   "id": "7899ba98",
   "metadata": {
    "execution": {
     "iopub.execute_input": "2025-09-11T11:37:47.617526Z",
     "iopub.status.busy": "2025-09-11T11:37:47.617383Z",
     "iopub.status.idle": "2025-09-11T11:37:47.631369Z",
     "shell.execute_reply": "2025-09-11T11:37:47.630948Z"
    }
   },
   "outputs": [
    {
     "data": {
      "text/latex": [
       "$\\displaystyle \\left[\\begin{matrix}1 & \\frac{1}{\\omega^{2}} & - \\frac{2 b}{\\omega^{3}} & 0\\\\\\omega & 0 & a & \\frac{d}{d t} f{\\left(t \\right)}\\\\\\sin{\\left(\\omega \\right)} & - \\frac{\\left|{f{\\left(t \\right)}}\\right|}{2 b^{\\frac{3}{2}}} & a \\cos{\\left(\\omega \\right)} & \\frac{\\left(\\operatorname{re}{\\left(f{\\left(t \\right)}\\right)} \\frac{d}{d t} \\operatorname{re}{\\left(f{\\left(t \\right)}\\right)} + \\operatorname{im}{\\left(f{\\left(t \\right)}\\right)} \\frac{d}{d t} \\operatorname{im}{\\left(f{\\left(t \\right)}\\right)}\\right) \\operatorname{sign}{\\left(f{\\left(t \\right)} \\right)}}{\\sqrt{b} f{\\left(t \\right)}}\\\\0 & 0 & 0 & 0\\\\0 & 0 & t f{\\left(t \\right)} \\cos{\\left(\\omega f{\\left(t \\right)} \\right)} & \\omega t \\cos{\\left(\\omega f{\\left(t \\right)} \\right)} \\frac{d}{d t} f{\\left(t \\right)} + \\sin{\\left(\\omega f{\\left(t \\right)} \\right)} + \\frac{\\frac{d}{d t} f{\\left(t \\right)}}{\\sqrt{t}} - \\frac{f{\\left(t \\right)}}{2 t^{\\frac{3}{2}}}\\end{matrix}\\right]$"
      ],
      "text/plain": [
       "⎡           1            -2⋅b                                                 \n",
       "⎢  1        ──           ─────                                     0          \n",
       "⎢            2              3                                                 \n",
       "⎢           ω              ω                                                  \n",
       "⎢                                                                             \n",
       "⎢                                                               d             \n",
       "⎢  ω        0              a                                    ──(f(t))      \n",
       "⎢                                                               dt            \n",
       "⎢                                                                             \n",
       "⎢                                      ⎛         d                       d    \n",
       "⎢                                      ⎜re(f(t))⋅──(re(f(t))) + im(f(t))⋅──(im\n",
       "⎢        -│f(t)│                       ⎝         dt                      dt   \n",
       "⎢sin(ω)  ────────       a⋅cos(ω)       ───────────────────────────────────────\n",
       "⎢            3/2                                                √b⋅f(t)       \n",
       "⎢         2⋅b                                                                 \n",
       "⎢                                                                             \n",
       "⎢  0        0              0                                       0          \n",
       "⎢                                                                             \n",
       "⎢                                                                             \n",
       "⎢                                                                             \n",
       "⎢                                                      d                      \n",
       "⎢  0        0      t⋅f(t)⋅cos(ω⋅f(t))  ω⋅t⋅cos(ω⋅f(t))⋅──(f(t)) + sin(ω⋅f(t)) \n",
       "⎢                                                      dt                     \n",
       "⎣                                                                             \n",
       "\n",
       "                   ⎤\n",
       "                   ⎥\n",
       "                   ⎥\n",
       "                   ⎥\n",
       "                   ⎥\n",
       "                   ⎥\n",
       "                   ⎥\n",
       "                   ⎥\n",
       "                   ⎥\n",
       "       ⎞           ⎥\n",
       "(f(t)))⎟⋅sign(f(t))⎥\n",
       "       ⎠           ⎥\n",
       "───────────────────⎥\n",
       "                   ⎥\n",
       "                   ⎥\n",
       "                   ⎥\n",
       "                   ⎥\n",
       "                   ⎥\n",
       "  d                ⎥\n",
       "  ──(f(t))         ⎥\n",
       "  dt          f(t) ⎥\n",
       "+ ──────── - ──────⎥\n",
       "     √t         3/2⎥\n",
       "             2⋅t   ⎦"
      ]
     },
     "execution_count": 73,
     "metadata": {},
     "output_type": "execute_result"
    }
   ],
   "source": [
    "def jacobian(v, x):\n",
    "    \"\"\"Returns the Jacobian of the vector function v with respect to the\n",
    "    vector of variables x.\"\"\"\n",
    "    diffs = []\n",
    "    for expr in v:\n",
    "      for var in x:\n",
    "         diffs.append(expr.diff(var))\n",
    "    J_v_x = sm.Matrix(diffs).reshape(len(v), len(x))\n",
    "    return J_v_x\n",
    "\n",
    "jacobian(mat3, mat4)"
   ]
  },
  {
   "cell_type": "code",
   "execution_count": 74,
   "id": "55ab8e2f",
   "metadata": {
    "execution": {
     "iopub.execute_input": "2025-09-11T11:37:47.632590Z",
     "iopub.status.busy": "2025-09-11T11:37:47.632438Z",
     "iopub.status.idle": "2025-09-11T11:37:47.646581Z",
     "shell.execute_reply": "2025-09-11T11:37:47.646064Z"
    }
   },
   "outputs": [
    {
     "data": {
      "text/latex": [
       "$\\displaystyle \\left[\\begin{matrix}a_{1} \\sin{\\left(f{\\left(t \\right)} \\right)} \\cos{\\left(2 f{\\left(t \\right)} \\right)} + a_{2} + \\frac{\\omega \\log{\\left(t \\right)}}{\\log{\\left(f{\\left(t \\right)} \\right)}} + 100\\\\a_{1} \\omega^{2} + a_{2} f{\\left(t \\right)} + \\omega + f^{3}{\\left(t \\right)}\\end{matrix}\\right]$"
      ],
      "text/plain": [
       "⎡                                 ω⋅log(t)      ⎤\n",
       "⎢a₁⋅sin(f(t))⋅cos(2⋅f(t)) + a₂ + ───────── + 100⎥\n",
       "⎢                                log(f(t))      ⎥\n",
       "⎢                                               ⎥\n",
       "⎢              2                  3             ⎥\n",
       "⎣          a₁⋅ω  + a₂⋅f(t) + ω + f (t)          ⎦"
      ]
     },
     "execution_count": 74,
     "metadata": {},
     "output_type": "execute_result"
    }
   ],
   "source": [
    "a1, a2 = sm.symbols('a1, a2')\n",
    "\n",
    "exprs = sm.Matrix([\n",
    "    [a1*sm.sin(f(t))*sm.cos(2*f(t)) + a2 + omega/sm.log(f(t), t) + 100],\n",
    "    [a1*omega**2 + f(t)*a2 + omega + f(t)**3],\n",
    "])\n",
    "exprs"
   ]
  },
  {
   "cell_type": "code",
   "execution_count": 75,
   "id": "11825cf2",
   "metadata": {
    "execution": {
     "iopub.execute_input": "2025-09-11T11:37:47.647868Z",
     "iopub.status.busy": "2025-09-11T11:37:47.647711Z",
     "iopub.status.idle": "2025-09-11T11:37:47.655623Z",
     "shell.execute_reply": "2025-09-11T11:37:47.655128Z"
    }
   },
   "outputs": [
    {
     "data": {
      "text/latex": [
       "$\\displaystyle \\left[\\begin{matrix}\\sin{\\left(f{\\left(t \\right)} \\right)} \\cos{\\left(2 f{\\left(t \\right)} \\right)} & 1\\\\\\omega^{2} & f{\\left(t \\right)}\\end{matrix}\\right]$"
      ],
      "text/plain": [
       "⎡sin(f(t))⋅cos(2⋅f(t))   1  ⎤\n",
       "⎢                           ⎥\n",
       "⎢          2                ⎥\n",
       "⎣         ω             f(t)⎦"
      ]
     },
     "execution_count": 75,
     "metadata": {},
     "output_type": "execute_result"
    }
   ],
   "source": [
    "A = exprs.jacobian([a1, a2])\n",
    "A"
   ]
  },
  {
   "cell_type": "code",
   "execution_count": 76,
   "id": "d483ac01",
   "metadata": {
    "execution": {
     "iopub.execute_input": "2025-09-11T11:37:47.656848Z",
     "iopub.status.busy": "2025-09-11T11:37:47.656703Z",
     "iopub.status.idle": "2025-09-11T11:37:47.662415Z",
     "shell.execute_reply": "2025-09-11T11:37:47.661987Z"
    }
   },
   "outputs": [
    {
     "data": {
      "text/latex": [
       "$\\displaystyle \\left[\\begin{matrix}- \\frac{\\omega \\log{\\left(t \\right)}}{\\log{\\left(f{\\left(t \\right)} \\right)}} - 100\\\\- \\omega - f^{3}{\\left(t \\right)}\\end{matrix}\\right]$"
      ],
      "text/plain": [
       "⎡   ω⋅log(t)      ⎤\n",
       "⎢- ───────── - 100⎥\n",
       "⎢  log(f(t))      ⎥\n",
       "⎢                 ⎥\n",
       "⎢         3       ⎥\n",
       "⎣   -ω - f (t)    ⎦"
      ]
     },
     "execution_count": 76,
     "metadata": {},
     "output_type": "execute_result"
    }
   ],
   "source": [
    "b = -exprs.xreplace({a1: 0, a2: 0})\n",
    "b"
   ]
  },
  {
   "cell_type": "code",
   "execution_count": 77,
   "id": "fed89889",
   "metadata": {
    "execution": {
     "iopub.execute_input": "2025-09-11T11:37:47.663656Z",
     "iopub.status.busy": "2025-09-11T11:37:47.663505Z",
     "iopub.status.idle": "2025-09-11T11:37:48.134408Z",
     "shell.execute_reply": "2025-09-11T11:37:48.133946Z"
    }
   },
   "outputs": [
    {
     "data": {
      "text/latex": [
       "$\\displaystyle \\left[\\begin{matrix}- \\frac{- \\omega - f^{3}{\\left(t \\right)}}{- \\omega^{2} + f{\\left(t \\right)} \\sin{\\left(f{\\left(t \\right)} \\right)} \\cos{\\left(2 f{\\left(t \\right)} \\right)}} + \\frac{\\left(- \\frac{\\omega \\log{\\left(t \\right)}}{\\log{\\left(f{\\left(t \\right)} \\right)}} - 100\\right) f{\\left(t \\right)}}{- \\omega^{2} + f{\\left(t \\right)} \\sin{\\left(f{\\left(t \\right)} \\right)} \\cos{\\left(2 f{\\left(t \\right)} \\right)}}\\\\- \\frac{\\omega^{2} \\left(- \\frac{\\omega \\log{\\left(t \\right)}}{\\log{\\left(f{\\left(t \\right)} \\right)}} - 100\\right)}{- \\omega^{2} + f{\\left(t \\right)} \\sin{\\left(f{\\left(t \\right)} \\right)} \\cos{\\left(2 f{\\left(t \\right)} \\right)}} + \\frac{\\left(- \\omega - f^{3}{\\left(t \\right)}\\right) \\sin{\\left(f{\\left(t \\right)} \\right)} \\cos{\\left(2 f{\\left(t \\right)} \\right)}}{- \\omega^{2} + f{\\left(t \\right)} \\sin{\\left(f{\\left(t \\right)} \\right)} \\cos{\\left(2 f{\\left(t \\right)} \\right)}}\\end{matrix}\\right]$"
      ],
      "text/plain": [
       "⎡                                           ⎛   ω⋅log(t)      ⎞          ⎤\n",
       "⎢                    3                      ⎜- ───────── - 100⎟⋅f(t)     ⎥\n",
       "⎢              -ω - f (t)                   ⎝  log(f(t))      ⎠          ⎥\n",
       "⎢- ───────────────────────────────── + ───────────────────────────────── ⎥\n",
       "⎢     2                                   2                              ⎥\n",
       "⎢  - ω  + f(t)⋅sin(f(t))⋅cos(2⋅f(t))   - ω  + f(t)⋅sin(f(t))⋅cos(2⋅f(t)) ⎥\n",
       "⎢                                                                        ⎥\n",
       "⎢         2 ⎛   ω⋅log(t)      ⎞                                          ⎥\n",
       "⎢        ω ⋅⎜- ───────── - 100⎟        ⎛      3   ⎞                      ⎥\n",
       "⎢           ⎝  log(f(t))      ⎠        ⎝-ω - f (t)⎠⋅sin(f(t))⋅cos(2⋅f(t))⎥\n",
       "⎢- ───────────────────────────────── + ──────────────────────────────────⎥\n",
       "⎢     2                                   2                              ⎥\n",
       "⎣  - ω  + f(t)⋅sin(f(t))⋅cos(2⋅f(t))   - ω  + f(t)⋅sin(f(t))⋅cos(2⋅f(t)) ⎦"
      ]
     },
     "execution_count": 77,
     "metadata": {},
     "output_type": "execute_result"
    }
   ],
   "source": [
    "A.inv() @ b"
   ]
  },
  {
   "cell_type": "code",
   "execution_count": 78,
   "id": "b01d9836",
   "metadata": {
    "execution": {
     "iopub.execute_input": "2025-09-11T11:37:48.135715Z",
     "iopub.status.busy": "2025-09-11T11:37:48.135572Z",
     "iopub.status.idle": "2025-09-11T11:37:48.157629Z",
     "shell.execute_reply": "2025-09-11T11:37:48.157234Z"
    }
   },
   "outputs": [
    {
     "data": {
      "text/latex": [
       "$\\displaystyle \\left[\\begin{matrix}\\frac{- \\frac{\\omega \\log{\\left(t \\right)}}{\\log{\\left(f{\\left(t \\right)} \\right)}} - 100 - \\frac{- \\frac{\\omega^{2} \\left(- \\frac{\\omega \\log{\\left(t \\right)}}{\\log{\\left(f{\\left(t \\right)} \\right)}} - 100\\right)}{\\sin{\\left(f{\\left(t \\right)} \\right)} \\cos{\\left(2 f{\\left(t \\right)} \\right)}} - \\omega - f^{3}{\\left(t \\right)}}{- \\frac{\\omega^{2}}{\\sin{\\left(f{\\left(t \\right)} \\right)} \\cos{\\left(2 f{\\left(t \\right)} \\right)}} + f{\\left(t \\right)}}}{\\sin{\\left(f{\\left(t \\right)} \\right)} \\cos{\\left(2 f{\\left(t \\right)} \\right)}}\\\\\\frac{- \\frac{\\omega^{2} \\left(- \\frac{\\omega \\log{\\left(t \\right)}}{\\log{\\left(f{\\left(t \\right)} \\right)}} - 100\\right)}{\\sin{\\left(f{\\left(t \\right)} \\right)} \\cos{\\left(2 f{\\left(t \\right)} \\right)}} - \\omega - f^{3}{\\left(t \\right)}}{- \\frac{\\omega^{2}}{\\sin{\\left(f{\\left(t \\right)} \\right)} \\cos{\\left(2 f{\\left(t \\right)} \\right)}} + f{\\left(t \\right)}}\\end{matrix}\\right]$"
      ],
      "text/plain": [
       "⎡                       2 ⎛   ω⋅log(t)      ⎞            ⎤\n",
       "⎢                      ω ⋅⎜- ───────── - 100⎟            ⎥\n",
       "⎢                         ⎝  log(f(t))      ⎠        3   ⎥\n",
       "⎢                    - ────────────────────── - ω - f (t)⎥\n",
       "⎢   ω⋅log(t)           sin(f(t))⋅cos(2⋅f(t))             ⎥\n",
       "⎢- ───────── - 100 - ────────────────────────────────────⎥\n",
       "⎢  log(f(t))                         2                   ⎥\n",
       "⎢                                   ω                    ⎥\n",
       "⎢                       - ───────────────────── + f(t)   ⎥\n",
       "⎢                         sin(f(t))⋅cos(2⋅f(t))          ⎥\n",
       "⎢────────────────────────────────────────────────────────⎥\n",
       "⎢                 sin(f(t))⋅cos(2⋅f(t))                  ⎥\n",
       "⎢                                                        ⎥\n",
       "⎢             2 ⎛   ω⋅log(t)      ⎞                      ⎥\n",
       "⎢            ω ⋅⎜- ───────── - 100⎟                      ⎥\n",
       "⎢               ⎝  log(f(t))      ⎠        3             ⎥\n",
       "⎢          - ────────────────────── - ω - f (t)          ⎥\n",
       "⎢            sin(f(t))⋅cos(2⋅f(t))                       ⎥\n",
       "⎢          ────────────────────────────────────          ⎥\n",
       "⎢                          2                             ⎥\n",
       "⎢                         ω                              ⎥\n",
       "⎢             - ───────────────────── + f(t)             ⎥\n",
       "⎣               sin(f(t))⋅cos(2⋅f(t))                    ⎦"
      ]
     },
     "execution_count": 78,
     "metadata": {},
     "output_type": "execute_result"
    }
   ],
   "source": [
    "A.LUsolve(b)"
   ]
  },
  {
   "cell_type": "code",
   "execution_count": 79,
   "id": "e3a80552",
   "metadata": {
    "execution": {
     "iopub.execute_input": "2025-09-11T11:37:48.158848Z",
     "iopub.status.busy": "2025-09-11T11:37:48.158710Z",
     "iopub.status.idle": "2025-09-11T11:37:48.169750Z",
     "shell.execute_reply": "2025-09-11T11:37:48.169376Z"
    }
   },
   "outputs": [
    {
     "data": {
      "text/latex": [
       "$\\displaystyle \\left[\\begin{matrix}- L_{1} + L_{2} - \\frac{\\sqrt{2} L_{3}}{2}\\\\- F_{1} + \\frac{\\sqrt{2} L_{3}}{2} + L_{4}\\\\- L_{2} - \\frac{\\sqrt{2} L_{5}}{2}\\\\- F_{2} + \\frac{\\sqrt{2} L_{5}}{2}\\\\\\frac{\\sqrt{2} L_{5}}{2} + L_{6}\\\\- L_{4} - \\frac{\\sqrt{2} L_{5}}{2}\\end{matrix}\\right]$"
      ],
      "text/plain": [
       "⎡           √2⋅L₃⎤\n",
       "⎢-L₁ + L₂ - ─────⎥\n",
       "⎢             2  ⎥\n",
       "⎢                ⎥\n",
       "⎢      √2⋅L₃     ⎥\n",
       "⎢-F₁ + ───── + L₄⎥\n",
       "⎢        2       ⎥\n",
       "⎢                ⎥\n",
       "⎢        √2⋅L₅   ⎥\n",
       "⎢  -L₂ - ─────   ⎥\n",
       "⎢          2     ⎥\n",
       "⎢                ⎥\n",
       "⎢        √2⋅L₅   ⎥\n",
       "⎢  -F₂ + ─────   ⎥\n",
       "⎢          2     ⎥\n",
       "⎢                ⎥\n",
       "⎢   √2⋅L₅        ⎥\n",
       "⎢   ───── + L₆   ⎥\n",
       "⎢     2          ⎥\n",
       "⎢                ⎥\n",
       "⎢        √2⋅L₅   ⎥\n",
       "⎢  -L₄ - ─────   ⎥\n",
       "⎣          2     ⎦"
      ]
     },
     "execution_count": 79,
     "metadata": {},
     "output_type": "execute_result"
    }
   ],
   "source": [
    "L1, L2, L3, L4, L5, L6, F1, F2 = sm.symbols('L1, L2, L3, L4, L5, L6, F1, F2')\n",
    "\n",
    "exprs = sm.Matrix([\n",
    "    -L1 + L2 - L3/sm.sqrt(2),\n",
    "    L3/sm.sqrt(2) + L4 - F1,\n",
    "    -L2 - L5/sm.sqrt(2),\n",
    "    L5/sm.sqrt(2) - F2,\n",
    "    L5/sm.sqrt(2) + L6,\n",
    "    -L4 -L5/sm.sqrt(2),\n",
    "])\n",
    "exprs"
   ]
  },
  {
   "cell_type": "code",
   "execution_count": 80,
   "id": "4c1245e9",
   "metadata": {
    "execution": {
     "iopub.execute_input": "2025-09-11T11:37:48.171004Z",
     "iopub.status.busy": "2025-09-11T11:37:48.170855Z",
     "iopub.status.idle": "2025-09-11T11:37:48.198549Z",
     "shell.execute_reply": "2025-09-11T11:37:48.198114Z"
    }
   },
   "outputs": [
    {
     "data": {
      "text/latex": [
       "$\\displaystyle \\left[\\begin{matrix}L_{1}\\\\L_{2}\\\\L_{3}\\\\L_{4}\\\\L_{5}\\\\L_{6}\\end{matrix}\\right] = \\left[\\begin{matrix}- F_{1} - 2 F_{2}\\\\- F_{2}\\\\\\sqrt{2} \\left(F_{1} + F_{2}\\right)\\\\- F_{2}\\\\\\sqrt{2} F_{2}\\\\- F_{2}\\end{matrix}\\right]$"
      ],
      "text/plain": [
       "⎡L₁⎤   ⎡ -F₁ - 2⋅F₂ ⎤\n",
       "⎢  ⎥   ⎢            ⎥\n",
       "⎢L₂⎥   ⎢    -F₂     ⎥\n",
       "⎢  ⎥   ⎢            ⎥\n",
       "⎢L₃⎥   ⎢√2⋅(F₁ + F₂)⎥\n",
       "⎢  ⎥ = ⎢            ⎥\n",
       "⎢L₄⎥   ⎢    -F₂     ⎥\n",
       "⎢  ⎥   ⎢            ⎥\n",
       "⎢L₅⎥   ⎢   √2⋅F₂    ⎥\n",
       "⎢  ⎥   ⎢            ⎥\n",
       "⎣L₆⎦   ⎣    -F₂     ⎦"
      ]
     },
     "execution_count": 80,
     "metadata": {},
     "output_type": "execute_result"
    }
   ],
   "source": [
    "unknowns = sm.Matrix([L1, L2, L3, L4, L5, L6])\n",
    "\n",
    "coef_mat = exprs.jacobian(unknowns)\n",
    "rhs = -exprs.xreplace(dict(zip(unknowns, [0]*6)))\n",
    "\n",
    "sol = coef_mat.LUsolve(rhs)\n",
    "\n",
    "sm.Eq(unknowns, sol)"
   ]
  },
  {
   "cell_type": "code",
   "execution_count": 81,
   "id": "68b5c491",
   "metadata": {
    "execution": {
     "iopub.execute_input": "2025-09-11T11:37:48.199783Z",
     "iopub.status.busy": "2025-09-11T11:37:48.199648Z",
     "iopub.status.idle": "2025-09-11T11:37:48.204930Z",
     "shell.execute_reply": "2025-09-11T11:37:48.204446Z"
    }
   },
   "outputs": [
    {
     "data": {
      "text/plain": [
       "array([[-77.        ],\n",
       "       [-32.        ],\n",
       "       [ 63.63961031],\n",
       "       [-32.        ],\n",
       "       [ 45.254834  ],\n",
       "       [-32.        ]])"
      ]
     },
     "execution_count": 81,
     "metadata": {},
     "output_type": "execute_result"
    }
   ],
   "source": [
    "eval_sol = sm.lambdify((F1, F2), sol)\n",
    "eval_sol(13, 32)"
   ]
  },
  {
   "cell_type": "code",
   "execution_count": 82,
   "id": "0d4a24ef",
   "metadata": {
    "execution": {
     "iopub.execute_input": "2025-09-11T11:37:48.206186Z",
     "iopub.status.busy": "2025-09-11T11:37:48.206047Z",
     "iopub.status.idle": "2025-09-11T11:37:48.211184Z",
     "shell.execute_reply": "2025-09-11T11:37:48.210796Z"
    }
   },
   "outputs": [],
   "source": [
    "a1, a2 = sm.symbols('a1, a2')\n",
    "exprs = sm.Matrix([\n",
    "    [a1*sm.sin(f(t))*sm.cos(2*f(t)) + a2 + omega/sm.log(f(t), t) + 100],\n",
    "    [a1*omega**2 + f(t)*a2 + omega + f(t)**3],\n",
    "])\n",
    "A = exprs.jacobian([a1, a2])\n",
    "b = -exprs.xreplace({a1: 0, a2: 0})\n",
    "sol = A.LUsolve(b)"
   ]
  },
  {
   "cell_type": "code",
   "execution_count": 83,
   "id": "1930c389",
   "metadata": {
    "execution": {
     "iopub.execute_input": "2025-09-11T11:37:48.212411Z",
     "iopub.status.busy": "2025-09-11T11:37:48.212275Z",
     "iopub.status.idle": "2025-09-11T11:37:48.795309Z",
     "shell.execute_reply": "2025-09-11T11:37:48.794809Z"
    }
   },
   "outputs": [
    {
     "data": {
      "text/latex": [
       "$\\displaystyle \\left[\\begin{matrix}\\frac{- \\omega f{\\left(t \\right)} \\log{\\left(t \\right)} + \\omega \\log{\\left(f{\\left(t \\right)} \\right)} + f^{3}{\\left(t \\right)} \\log{\\left(f{\\left(t \\right)} \\right)} - 100 f{\\left(t \\right)} \\log{\\left(f{\\left(t \\right)} \\right)}}{\\left(- \\omega^{2} + f{\\left(t \\right)} \\sin{\\left(f{\\left(t \\right)} \\right)} \\cos{\\left(2 f{\\left(t \\right)} \\right)}\\right) \\log{\\left(f{\\left(t \\right)} \\right)}}\\\\\\frac{- \\omega^{2} \\left(\\omega \\log{\\left(t \\right)} + 100 \\log{\\left(f{\\left(t \\right)} \\right)}\\right) + \\left(\\omega + f^{3}{\\left(t \\right)}\\right) \\log{\\left(f{\\left(t \\right)} \\right)} \\sin{\\left(f{\\left(t \\right)} \\right)} \\cos{\\left(2 f{\\left(t \\right)} \\right)}}{\\left(\\omega^{2} - f{\\left(t \\right)} \\sin{\\left(f{\\left(t \\right)} \\right)} \\cos{\\left(2 f{\\left(t \\right)} \\right)}\\right) \\log{\\left(f{\\left(t \\right)} \\right)}}\\end{matrix}\\right]$"
      ],
      "text/plain": [
       "⎡                                     3                                       \n",
       "⎢     -ω⋅f(t)⋅log(t) + ω⋅log(f(t)) + f (t)⋅log(f(t)) - 100⋅f(t)⋅log(f(t))     \n",
       "⎢     ───────────────────────────────────────────────────────────────────     \n",
       "⎢                ⎛   2                             ⎞                          \n",
       "⎢                ⎝- ω  + f(t)⋅sin(f(t))⋅cos(2⋅f(t))⎠⋅log(f(t))                \n",
       "⎢                                                                             \n",
       "⎢   2                              ⎛     3   ⎞                                \n",
       "⎢- ω ⋅(ω⋅log(t) + 100⋅log(f(t))) + ⎝ω + f (t)⎠⋅log(f(t))⋅sin(f(t))⋅cos(2⋅f(t))\n",
       "⎢─────────────────────────────────────────────────────────────────────────────\n",
       "⎢                 ⎛ 2                             ⎞                           \n",
       "⎣                 ⎝ω  - f(t)⋅sin(f(t))⋅cos(2⋅f(t))⎠⋅log(f(t))                 \n",
       "\n",
       "⎤\n",
       "⎥\n",
       "⎥\n",
       "⎥\n",
       "⎥\n",
       "⎥\n",
       "⎥\n",
       "⎥\n",
       "⎥\n",
       "⎥\n",
       "⎦"
      ]
     },
     "execution_count": 83,
     "metadata": {},
     "output_type": "execute_result"
    }
   ],
   "source": [
    "sm.simplify(sol)"
   ]
  },
  {
   "cell_type": "code",
   "execution_count": 84,
   "id": "35bb9561",
   "metadata": {
    "execution": {
     "iopub.execute_input": "2025-09-11T11:37:48.796625Z",
     "iopub.status.busy": "2025-09-11T11:37:48.796482Z",
     "iopub.status.idle": "2025-09-11T11:37:48.800555Z",
     "shell.execute_reply": "2025-09-11T11:37:48.800049Z"
    }
   },
   "outputs": [
    {
     "data": {
      "text/latex": [
       "$\\displaystyle \\sin^{2}{\\left(\\omega \\right)} + \\cos^{2}{\\left(\\omega \\right)}$"
      ],
      "text/plain": [
       "   2         2   \n",
       "sin (ω) + cos (ω)"
      ]
     },
     "execution_count": 84,
     "metadata": {},
     "output_type": "execute_result"
    }
   ],
   "source": [
    "trig_expr = sm.cos(omega)**2 + sm.sin(omega)**2\n",
    "trig_expr"
   ]
  },
  {
   "cell_type": "code",
   "execution_count": 85,
   "id": "4421a712",
   "metadata": {
    "execution": {
     "iopub.execute_input": "2025-09-11T11:37:48.801782Z",
     "iopub.status.busy": "2025-09-11T11:37:48.801637Z",
     "iopub.status.idle": "2025-09-11T11:37:48.820920Z",
     "shell.execute_reply": "2025-09-11T11:37:48.820551Z"
    }
   },
   "outputs": [
    {
     "data": {
      "text/latex": [
       "$\\displaystyle 1$"
      ],
      "text/plain": [
       "1"
      ]
     },
     "execution_count": 85,
     "metadata": {},
     "output_type": "execute_result"
    }
   ],
   "source": [
    "sm.trigsimp(trig_expr)"
   ]
  },
  {
   "cell_type": "code",
   "execution_count": 86,
   "id": "527bdf37",
   "metadata": {
    "execution": {
     "iopub.execute_input": "2025-09-11T11:37:48.822143Z",
     "iopub.status.busy": "2025-09-11T11:37:48.821988Z",
     "iopub.status.idle": "2025-09-11T11:37:48.826181Z",
     "shell.execute_reply": "2025-09-11T11:37:48.825697Z"
    }
   },
   "outputs": [
    {
     "data": {
      "text/latex": [
       "$\\displaystyle 79$"
      ],
      "text/plain": [
       "79"
      ]
     },
     "execution_count": 86,
     "metadata": {},
     "output_type": "execute_result"
    }
   ],
   "source": [
    "sm.count_ops(sol)"
   ]
  },
  {
   "cell_type": "code",
   "execution_count": 87,
   "id": "5c83d5eb",
   "metadata": {
    "execution": {
     "iopub.execute_input": "2025-09-11T11:37:48.827448Z",
     "iopub.status.busy": "2025-09-11T11:37:48.827304Z",
     "iopub.status.idle": "2025-09-11T11:37:48.838473Z",
     "shell.execute_reply": "2025-09-11T11:37:48.837954Z"
    }
   },
   "outputs": [],
   "source": [
    "substitutions, simplified = sm.cse(sol)"
   ]
  },
  {
   "cell_type": "code",
   "execution_count": 88,
   "id": "52e5b75b",
   "metadata": {
    "execution": {
     "iopub.execute_input": "2025-09-11T11:37:48.839646Z",
     "iopub.status.busy": "2025-09-11T11:37:48.839501Z",
     "iopub.status.idle": "2025-09-11T11:37:48.842837Z",
     "shell.execute_reply": "2025-09-11T11:37:48.842373Z"
    }
   },
   "outputs": [
    {
     "data": {
      "text/latex": [
       "$\\displaystyle \\left( x_{0}, \\  f{\\left(t \\right)}\\right)$"
      ],
      "text/plain": [
       "(x₀, f(t))"
      ]
     },
     "execution_count": 88,
     "metadata": {},
     "output_type": "execute_result"
    }
   ],
   "source": [
    "substitutions[0]"
   ]
  },
  {
   "cell_type": "code",
   "execution_count": 89,
   "id": "c1a72ba2",
   "metadata": {
    "execution": {
     "iopub.execute_input": "2025-09-11T11:37:48.844168Z",
     "iopub.status.busy": "2025-09-11T11:37:48.844020Z",
     "iopub.status.idle": "2025-09-11T11:37:48.848100Z",
     "shell.execute_reply": "2025-09-11T11:37:48.847625Z"
    }
   },
   "outputs": [
    {
     "data": {
      "text/latex": [
       "$\\displaystyle x_{0} = f{\\left(t \\right)}$"
      ],
      "text/plain": [
       "x₀ = f(t)"
      ]
     },
     "execution_count": 89,
     "metadata": {},
     "output_type": "execute_result"
    }
   ],
   "source": [
    "sm.Eq(*substitutions[0])"
   ]
  },
  {
   "cell_type": "code",
   "execution_count": 90,
   "id": "44ad7139",
   "metadata": {
    "execution": {
     "iopub.execute_input": "2025-09-11T11:37:48.849295Z",
     "iopub.status.busy": "2025-09-11T11:37:48.849129Z",
     "iopub.status.idle": "2025-09-11T11:37:48.857113Z",
     "shell.execute_reply": "2025-09-11T11:37:48.856621Z"
    }
   },
   "outputs": [
    {
     "data": {
      "text/latex": [
       "$\\displaystyle x_{1} = \\frac{1}{\\sin{\\left(x_{0} \\right)} \\cos{\\left(2 x_{0} \\right)}}$"
      ],
      "text/plain": [
       "             1        \n",
       "x₁ = ─────────────────\n",
       "     sin(x₀)⋅cos(2⋅x₀)"
      ]
     },
     "execution_count": 90,
     "metadata": {},
     "output_type": "execute_result"
    }
   ],
   "source": [
    "sm.Eq(*substitutions[1])"
   ]
  },
  {
   "cell_type": "code",
   "execution_count": 91,
   "id": "12814cda",
   "metadata": {
    "execution": {
     "iopub.execute_input": "2025-09-11T11:37:48.858312Z",
     "iopub.status.busy": "2025-09-11T11:37:48.858140Z",
     "iopub.status.idle": "2025-09-11T11:37:48.862537Z",
     "shell.execute_reply": "2025-09-11T11:37:48.862036Z"
    }
   },
   "outputs": [
    {
     "data": {
      "text/latex": [
       "$\\displaystyle x_{2} = \\omega^{2} x_{1}$"
      ],
      "text/plain": [
       "      2   \n",
       "x₂ = ω ⋅x₁"
      ]
     },
     "execution_count": 91,
     "metadata": {},
     "output_type": "execute_result"
    }
   ],
   "source": [
    "sm.Eq(*substitutions[2])"
   ]
  },
  {
   "cell_type": "code",
   "execution_count": 92,
   "id": "bdef0c7b",
   "metadata": {
    "execution": {
     "iopub.execute_input": "2025-09-11T11:37:48.863785Z",
     "iopub.status.busy": "2025-09-11T11:37:48.863642Z",
     "iopub.status.idle": "2025-09-11T11:37:48.871726Z",
     "shell.execute_reply": "2025-09-11T11:37:48.871268Z"
    }
   },
   "outputs": [
    {
     "data": {
      "text/latex": [
       "$\\displaystyle x_{4} = \\frac{- \\omega - x_{0}^{3} + x_{2} x_{3}}{x_{0} - x_{2}}$"
      ],
      "text/plain": [
       "            3        \n",
       "     -ω - x₀  + x₂⋅x₃\n",
       "x₄ = ────────────────\n",
       "         x₀ - x₂     "
      ]
     },
     "execution_count": 92,
     "metadata": {},
     "output_type": "execute_result"
    }
   ],
   "source": [
    "sm.Eq(*substitutions[4])"
   ]
  },
  {
   "cell_type": "code",
   "execution_count": 93,
   "id": "32c9220e",
   "metadata": {
    "execution": {
     "iopub.execute_input": "2025-09-11T11:37:48.873001Z",
     "iopub.status.busy": "2025-09-11T11:37:48.872862Z",
     "iopub.status.idle": "2025-09-11T11:37:48.877151Z",
     "shell.execute_reply": "2025-09-11T11:37:48.876674Z"
    }
   },
   "outputs": [
    {
     "data": {
      "text/latex": [
       "$\\displaystyle \\left[\\begin{matrix}x_{1} \\left(- x_{3} - x_{4}\\right)\\\\x_{4}\\end{matrix}\\right]$"
      ],
      "text/plain": [
       "⎡x₁⋅(-x₃ - x₄)⎤\n",
       "⎢             ⎥\n",
       "⎣     x₄      ⎦"
      ]
     },
     "execution_count": 93,
     "metadata": {},
     "output_type": "execute_result"
    }
   ],
   "source": [
    "simplified[0]"
   ]
  },
  {
   "cell_type": "code",
   "execution_count": 94,
   "id": "4caa3820",
   "metadata": {
    "execution": {
     "iopub.execute_input": "2025-09-11T11:37:48.878487Z",
     "iopub.status.busy": "2025-09-11T11:37:48.878348Z",
     "iopub.status.idle": "2025-09-11T11:37:48.882729Z",
     "shell.execute_reply": "2025-09-11T11:37:48.882344Z"
    }
   },
   "outputs": [
    {
     "data": {
      "text/latex": [
       "$\\displaystyle 22$"
      ],
      "text/plain": [
       "22"
      ]
     },
     "execution_count": 94,
     "metadata": {},
     "output_type": "execute_result"
    }
   ],
   "source": [
    "num_ops = sm.count_ops(simplified[0])\n",
    "for sub in substitutions:\n",
    "    num_ops += sm.count_ops(sub[1])\n",
    "num_ops"
   ]
  },
  {
   "cell_type": "code",
   "execution_count": 95,
   "id": "1b30e4d4",
   "metadata": {
    "execution": {
     "iopub.execute_input": "2025-09-11T11:37:48.883971Z",
     "iopub.status.busy": "2025-09-11T11:37:48.883837Z",
     "iopub.status.idle": "2025-09-11T11:37:48.890866Z",
     "shell.execute_reply": "2025-09-11T11:37:48.890468Z"
    }
   },
   "outputs": [],
   "source": [
    "a, b, c, x, y, z = sm.symbols('a, b, c, x, y, z')\n",
    "base_expr = a*sm.sin(x*x + b*sm.cos(x*y) + c*sm.sin(x*z))"
   ]
  },
  {
   "cell_type": "code",
   "execution_count": 96,
   "id": "419906cd",
   "metadata": {
    "execution": {
     "iopub.execute_input": "2025-09-11T11:37:48.892028Z",
     "iopub.status.busy": "2025-09-11T11:37:48.891884Z",
     "iopub.status.idle": "2025-09-11T11:37:53.850945Z",
     "shell.execute_reply": "2025-09-11T11:37:53.850424Z"
    }
   },
   "outputs": [],
   "source": [
    "long_expr = base_expr.diff(x, 10)"
   ]
  },
  {
   "cell_type": "code",
   "execution_count": 97,
   "id": "c6e7cefa",
   "metadata": {
    "execution": {
     "iopub.execute_input": "2025-09-11T11:37:53.852550Z",
     "iopub.status.busy": "2025-09-11T11:37:53.852404Z",
     "iopub.status.idle": "2025-09-11T11:37:53.943120Z",
     "shell.execute_reply": "2025-09-11T11:37:53.942614Z"
    }
   },
   "outputs": [],
   "source": [
    "eval_long_expr = sm.lambdify((a, b, c, x, y, z), long_expr)\n",
    "eval_long_expr_cse = sm.lambdify((a, b, c, x, y, z), long_expr, cse=True)"
   ]
  },
  {
   "cell_type": "code",
   "execution_count": 98,
   "id": "7b472b27",
   "metadata": {
    "execution": {
     "iopub.execute_input": "2025-09-11T11:37:53.944662Z",
     "iopub.status.busy": "2025-09-11T11:37:53.944517Z",
     "iopub.status.idle": "2025-09-11T11:37:56.058865Z",
     "shell.execute_reply": "2025-09-11T11:37:56.058376Z"
    }
   },
   "outputs": [
    {
     "name": "stdout",
     "output_type": "stream",
     "text": [
      "260 μs ± 294 ns per loop (mean ± std. dev. of 7 runs, 1,000 loops each)\n"
     ]
    }
   ],
   "source": [
    "%%timeit\n",
    "eval_long_expr(1.0, 2.0, 3.0, 4.0, 5.0, 6.0)"
   ]
  },
  {
   "cell_type": "code",
   "execution_count": 99,
   "id": "d85cedf2",
   "metadata": {
    "execution": {
     "iopub.execute_input": "2025-09-11T11:37:56.060204Z",
     "iopub.status.busy": "2025-09-11T11:37:56.060057Z",
     "iopub.status.idle": "2025-09-11T11:38:09.615038Z",
     "shell.execute_reply": "2025-09-11T11:38:09.614562Z"
    }
   },
   "outputs": [
    {
     "name": "stdout",
     "output_type": "stream",
     "text": [
      "16.7 μs ± 20.9 ns per loop (mean ± std. dev. of 7 runs, 100,000 loops each)\n"
     ]
    }
   ],
   "source": [
    "%%timeit\n",
    "eval_long_expr_cse(1.0, 2.0, 3.0, 4.0, 5.0, 6.0)"
   ]
  }
 ],
 "metadata": {
  "kernelspec": {
   "display_name": "Python 3 (ipykernel)",
   "language": "python",
   "name": "python3"
  },
  "language_info": {
   "codemirror_mode": {
    "name": "ipython",
    "version": 3
   },
   "file_extension": ".py",
   "mimetype": "text/x-python",
   "name": "python",
   "nbconvert_exporter": "python",
   "pygments_lexer": "ipython3",
   "version": "3.11.13"
  }
 },
 "nbformat": 4,
 "nbformat_minor": 5
}