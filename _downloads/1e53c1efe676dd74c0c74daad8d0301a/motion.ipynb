{
 "cells": [
  {
   "cell_type": "code",
   "execution_count": 1,
   "id": "994ea954",
   "metadata": {
    "execution": {
     "iopub.execute_input": "2025-09-25T05:55:03.770549Z",
     "iopub.status.busy": "2025-09-25T05:55:03.770391Z",
     "iopub.status.idle": "2025-09-25T05:55:04.110087Z",
     "shell.execute_reply": "2025-09-25T05:55:04.109569Z"
    }
   },
   "outputs": [],
   "source": [
    "import sympy as sm\n",
    "import sympy.physics.mechanics as me\n",
    "me.init_vprinting(use_latex='mathjax')"
   ]
  },
  {
   "cell_type": "code",
   "execution_count": 2,
   "id": "b6428e61",
   "metadata": {
    "execution": {
     "iopub.execute_input": "2025-09-25T05:55:04.111790Z",
     "iopub.status.busy": "2025-09-25T05:55:04.111591Z",
     "iopub.status.idle": "2025-09-25T05:55:04.114972Z",
     "shell.execute_reply": "2025-09-25T05:55:04.114578Z"
    }
   },
   "outputs": [],
   "source": [
    "class ReferenceFrame(me.ReferenceFrame):\n",
    "\n",
    "    def __init__(self, *args, **kwargs):\n",
    "\n",
    "        kwargs.pop('latexs', None)\n",
    "\n",
    "        lab = args[0].lower()\n",
    "        tex = r'\\hat{{{}}}_{}'\n",
    "\n",
    "        super(ReferenceFrame, self).__init__(*args,\n",
    "                                             latexs=(tex.format(lab, 'x'),\n",
    "                                                     tex.format(lab, 'y'),\n",
    "                                                     tex.format(lab, 'z')),\n",
    "                                             **kwargs)\n",
    "me.ReferenceFrame = ReferenceFrame"
   ]
  },
  {
   "cell_type": "code",
   "execution_count": 3,
   "id": "f5709cf1",
   "metadata": {
    "execution": {
     "iopub.execute_input": "2025-09-25T05:55:04.116293Z",
     "iopub.status.busy": "2025-09-25T05:55:04.116117Z",
     "iopub.status.idle": "2025-09-25T05:55:04.139059Z",
     "shell.execute_reply": "2025-09-25T05:55:04.138673Z"
    }
   },
   "outputs": [
    {
     "data": {
      "text/latex": [
       "$\\displaystyle (\\sin{\\left(\\theta \\right)} \\dot{y} + \\cos{\\left(\\theta \\right)} \\dot{x})\\hat{a}_x + (- \\sin{\\left(\\theta \\right)} \\dot{x} + \\cos{\\left(\\theta \\right)} \\dot{y})\\hat{a}_y$"
      ],
      "text/plain": [
       "(sin(θ)⋅ẏ + cos(θ)⋅ẋ) a_x + (-sin(θ)⋅ẋ + cos(θ)⋅ẏ) a_y"
      ]
     },
     "execution_count": 3,
     "metadata": {},
     "output_type": "execute_result"
    }
   ],
   "source": [
    "x, y, theta = me.dynamicsymbols('x, y, theta')\n",
    "\n",
    "N = me.ReferenceFrame('N')\n",
    "A = me.ReferenceFrame('A')\n",
    "\n",
    "A.orient_axis(N, theta, N.z)\n",
    "\n",
    "O = me.Point('O')\n",
    "P = me.Point('P')\n",
    "\n",
    "P.set_pos(O, x*N.x + y*N.y)\n",
    "\n",
    "O.set_vel(N, 0)\n",
    "\n",
    "P.vel(N).express(A)"
   ]
  },
  {
   "cell_type": "code",
   "execution_count": 4,
   "id": "464b3640",
   "metadata": {
    "execution": {
     "iopub.execute_input": "2025-09-25T05:55:04.140416Z",
     "iopub.status.busy": "2025-09-25T05:55:04.140270Z",
     "iopub.status.idle": "2025-09-25T05:55:04.145322Z",
     "shell.execute_reply": "2025-09-25T05:55:04.144808Z"
    }
   },
   "outputs": [
    {
     "data": {
      "text/latex": [
       "$\\displaystyle - \\sin{\\left(\\theta \\right)} \\dot{x} + \\cos{\\left(\\theta \\right)} \\dot{y}$"
      ],
      "text/plain": [
       "-sin(θ)⋅ẋ + cos(θ)⋅ẏ"
      ]
     },
     "execution_count": 4,
     "metadata": {},
     "output_type": "execute_result"
    }
   ],
   "source": [
    "fn = P.vel(N).dot(A.y)\n",
    "fn"
   ]
  },
  {
   "cell_type": "code",
   "execution_count": 5,
   "id": "0647fbd9",
   "metadata": {
    "execution": {
     "iopub.execute_input": "2025-09-25T05:55:04.146709Z",
     "iopub.status.busy": "2025-09-25T05:55:04.146562Z",
     "iopub.status.idle": "2025-09-25T05:55:04.630273Z",
     "shell.execute_reply": "2025-09-25T05:55:04.629739Z"
    }
   },
   "outputs": [
    {
     "data": {
      "text/latex": [
       "$\\displaystyle - l_{a} \\sin{\\left(q_{1} \\right)} \\dot{q}_{1} - l_{b} \\left(\\dot{q}_{1} + \\dot{q}_{2}\\right) \\sin{\\left(q_{1} + q_{2} \\right)} - l_{c} \\left(\\dot{q}_{1} + \\dot{q}_{2} + \\dot{q}_{3}\\right) \\sin{\\left(q_{1} + q_{2} + q_{3} \\right)}$"
      ],
      "text/plain": [
       "-lₐ⋅sin(q₁)⋅q₁̇ - l_b⋅(q₁̇ + q₂̇)⋅sin(q₁ + q₂) - l_c⋅(q₁̇ + q₂̇ + q₃̇)⋅sin(q₁ \n",
       "+ q₂ + q₃)"
      ]
     },
     "execution_count": 5,
     "metadata": {},
     "output_type": "execute_result"
    }
   ],
   "source": [
    "t = me.dynamicsymbols._t\n",
    "\n",
    "q1, q2, q3 = me.dynamicsymbols('q1, q2, q3')\n",
    "la, lb, lc, ln = sm.symbols('l_a, l_b, l_c, l_n')\n",
    "\n",
    "fhx = la*sm.cos(q1) + lb*sm.cos(q1 + q2) + lc*sm.cos(q1 + q2 + q3) - ln\n",
    "sm.trigsimp(fhx.diff(t))"
   ]
  },
  {
   "cell_type": "code",
   "execution_count": 6,
   "id": "982d6e38",
   "metadata": {
    "execution": {
     "iopub.execute_input": "2025-09-25T05:55:04.631791Z",
     "iopub.status.busy": "2025-09-25T05:55:04.631631Z",
     "iopub.status.idle": "2025-09-25T05:55:04.636600Z",
     "shell.execute_reply": "2025-09-25T05:55:04.636082Z"
    }
   },
   "outputs": [
    {
     "data": {
      "text/latex": [
       "$\\displaystyle \\left( - \\sin{\\left(\\theta \\right)}, \\  \\cos{\\left(\\theta \\right)}, \\  0\\right)$"
      ],
      "text/plain": [
       "(-sin(θ), cos(θ), 0)"
      ]
     },
     "execution_count": 6,
     "metadata": {},
     "output_type": "execute_result"
    }
   ],
   "source": [
    "dfdx = fn.coeff(x.diff(t))\n",
    "dfdy = fn.coeff(y.diff(t))\n",
    "dfdth = fn.coeff(theta.diff(t))\n",
    "\n",
    "dfdx, dfdy, dfdth"
   ]
  },
  {
   "cell_type": "code",
   "execution_count": 7,
   "id": "51534d54",
   "metadata": {
    "execution": {
     "iopub.execute_input": "2025-09-25T05:55:04.637857Z",
     "iopub.status.busy": "2025-09-25T05:55:04.637709Z",
     "iopub.status.idle": "2025-09-25T05:55:04.641267Z",
     "shell.execute_reply": "2025-09-25T05:55:04.640759Z"
    }
   },
   "outputs": [
    {
     "data": {
      "text/latex": [
       "$\\displaystyle \\left( 0, \\  0\\right)$"
      ],
      "text/plain": [
       "(0, 0)"
      ]
     },
     "execution_count": 7,
     "metadata": {},
     "output_type": "execute_result"
    }
   ],
   "source": [
    "dfdx.diff(y), dfdy.diff(x)"
   ]
  },
  {
   "cell_type": "code",
   "execution_count": 8,
   "id": "6614a433",
   "metadata": {
    "execution": {
     "iopub.execute_input": "2025-09-25T05:55:04.642496Z",
     "iopub.status.busy": "2025-09-25T05:55:04.642347Z",
     "iopub.status.idle": "2025-09-25T05:55:04.648281Z",
     "shell.execute_reply": "2025-09-25T05:55:04.647783Z"
    }
   },
   "outputs": [
    {
     "data": {
      "text/latex": [
       "$\\displaystyle \\left( - \\cos{\\left(\\theta \\right)}, \\  0\\right)$"
      ],
      "text/plain": [
       "(-cos(θ), 0)"
      ]
     },
     "execution_count": 8,
     "metadata": {},
     "output_type": "execute_result"
    }
   ],
   "source": [
    "dfdx.diff(theta), dfdth.diff(x)"
   ]
  },
  {
   "cell_type": "code",
   "execution_count": 9,
   "id": "d0022a58",
   "metadata": {
    "execution": {
     "iopub.execute_input": "2025-09-25T05:55:04.649542Z",
     "iopub.status.busy": "2025-09-25T05:55:04.649400Z",
     "iopub.status.idle": "2025-09-25T05:55:04.654597Z",
     "shell.execute_reply": "2025-09-25T05:55:04.654203Z"
    }
   },
   "outputs": [
    {
     "data": {
      "text/latex": [
       "$\\displaystyle \\left( - \\sin{\\left(\\theta \\right)}, \\  0\\right)$"
      ],
      "text/plain": [
       "(-sin(θ), 0)"
      ]
     },
     "execution_count": 9,
     "metadata": {},
     "output_type": "execute_result"
    }
   ],
   "source": [
    "dfdy.diff(theta), dfdth.diff(y)"
   ]
  },
  {
   "cell_type": "code",
   "execution_count": 10,
   "id": "377313b3",
   "metadata": {
    "execution": {
     "iopub.execute_input": "2025-09-25T05:55:04.655826Z",
     "iopub.status.busy": "2025-09-25T05:55:04.655689Z",
     "iopub.status.idle": "2025-09-25T05:55:04.685722Z",
     "shell.execute_reply": "2025-09-25T05:55:04.685337Z"
    }
   },
   "outputs": [],
   "source": [
    "fnx = fhx.diff(t)\n",
    "dfdq1 = fnx.diff(q1)\n",
    "dfdq2 = fnx.diff(q2)\n",
    "dfdq3 = fnx.diff(q3)"
   ]
  },
  {
   "cell_type": "code",
   "execution_count": 11,
   "id": "d9411ab2",
   "metadata": {
    "execution": {
     "iopub.execute_input": "2025-09-25T05:55:04.686991Z",
     "iopub.status.busy": "2025-09-25T05:55:04.686840Z",
     "iopub.status.idle": "2025-09-25T05:55:04.711718Z",
     "shell.execute_reply": "2025-09-25T05:55:04.711222Z"
    }
   },
   "outputs": [
    {
     "data": {
      "text/latex": [
       "$\\displaystyle 0$"
      ],
      "text/plain": [
       "0"
      ]
     },
     "execution_count": 11,
     "metadata": {},
     "output_type": "execute_result"
    }
   ],
   "source": [
    "dfdq1.diff(q2) -  dfdq2.diff(q1)"
   ]
  },
  {
   "cell_type": "code",
   "execution_count": 12,
   "id": "99a41816",
   "metadata": {
    "execution": {
     "iopub.execute_input": "2025-09-25T05:55:04.713041Z",
     "iopub.status.busy": "2025-09-25T05:55:04.712892Z",
     "iopub.status.idle": "2025-09-25T05:55:04.727780Z",
     "shell.execute_reply": "2025-09-25T05:55:04.727294Z"
    }
   },
   "outputs": [
    {
     "data": {
      "text/latex": [
       "$\\displaystyle 0$"
      ],
      "text/plain": [
       "0"
      ]
     },
     "execution_count": 12,
     "metadata": {},
     "output_type": "execute_result"
    }
   ],
   "source": [
    "dfdq2.diff(q3) - dfdq3.diff(q2)"
   ]
  },
  {
   "cell_type": "code",
   "execution_count": 13,
   "id": "3d05d680",
   "metadata": {
    "execution": {
     "iopub.execute_input": "2025-09-25T05:55:04.729139Z",
     "iopub.status.busy": "2025-09-25T05:55:04.728991Z",
     "iopub.status.idle": "2025-09-25T05:55:04.744132Z",
     "shell.execute_reply": "2025-09-25T05:55:04.743631Z"
    }
   },
   "outputs": [
    {
     "data": {
      "text/latex": [
       "$\\displaystyle 0$"
      ],
      "text/plain": [
       "0"
      ]
     },
     "execution_count": 13,
     "metadata": {},
     "output_type": "execute_result"
    }
   ],
   "source": [
    "dfdq3.diff(q1) - dfdq1.diff(q3)"
   ]
  },
  {
   "cell_type": "code",
   "execution_count": 14,
   "id": "a6ff83e0",
   "metadata": {
    "execution": {
     "iopub.execute_input": "2025-09-25T05:55:04.745536Z",
     "iopub.status.busy": "2025-09-25T05:55:04.745383Z",
     "iopub.status.idle": "2025-09-25T05:55:04.912023Z",
     "shell.execute_reply": "2025-09-25T05:55:04.911526Z"
    }
   },
   "outputs": [
    {
     "data": {
      "text/latex": [
       "$\\displaystyle (- \\sin{\\left(q_{3} \\right)} \\cos{\\left(q_{2} \\right)} \\dot{q}_{1} + \\cos{\\left(q_{3} \\right)} \\dot{q}_{2})\\hat{b}_x + (\\sin{\\left(q_{2} \\right)} \\dot{q}_{1} + \\dot{q}_{3})\\hat{b}_y + (\\sin{\\left(q_{3} \\right)} \\dot{q}_{2} + \\cos{\\left(q_{2} \\right)} \\cos{\\left(q_{3} \\right)} \\dot{q}_{1})\\hat{b}_z$"
      ],
      "text/plain": [
       "(-sin(q₃)⋅cos(q₂)⋅q₁̇ + cos(q₃)⋅q₂̇) b_x + (sin(q₂)⋅q₁̇ + q₃̇) b_y + (sin(q₃)⋅\n",
       "q₂̇ + cos(q₂)⋅cos(q₃)⋅q₁̇) b_z"
      ]
     },
     "execution_count": 14,
     "metadata": {},
     "output_type": "execute_result"
    }
   ],
   "source": [
    "q1, q2, q3 = me.dynamicsymbols('q1, q2, q3')\n",
    "\n",
    "A = me.ReferenceFrame('A')\n",
    "B = me.ReferenceFrame('B')\n",
    "\n",
    "B.orient_body_fixed(A, (q1, q2, q3), 'ZXY')\n",
    "\n",
    "A_w_B = B.ang_vel_in(A).simplify()\n",
    "A_w_B"
   ]
  },
  {
   "cell_type": "code",
   "execution_count": 15,
   "id": "f96614e9",
   "metadata": {
    "execution": {
     "iopub.execute_input": "2025-09-25T05:55:04.913494Z",
     "iopub.status.busy": "2025-09-25T05:55:04.913335Z",
     "iopub.status.idle": "2025-09-25T05:55:04.922855Z",
     "shell.execute_reply": "2025-09-25T05:55:04.922354Z"
    }
   },
   "outputs": [
    {
     "data": {
      "text/latex": [
       "$\\displaystyle (- u_{1} \\sin{\\left(q_{3} \\right)} \\cos{\\left(q_{2} \\right)} + u_{2} \\cos{\\left(q_{3} \\right)})\\hat{b}_x + (u_{1} \\sin{\\left(q_{2} \\right)} + u_{3})\\hat{b}_y + (u_{1} \\cos{\\left(q_{2} \\right)} \\cos{\\left(q_{3} \\right)} + u_{2} \\sin{\\left(q_{3} \\right)})\\hat{b}_z$"
      ],
      "text/plain": [
       "(-u₁⋅sin(q₃)⋅cos(q₂) + u₂⋅cos(q₃)) b_x + (u₁⋅sin(q₂) + u₃) b_y + (u₁⋅cos(q₂)⋅c\n",
       "os(q₃) + u₂⋅sin(q₃)) b_z"
      ]
     },
     "execution_count": 15,
     "metadata": {},
     "output_type": "execute_result"
    }
   ],
   "source": [
    "u1, u2, u3 = me.dynamicsymbols('u1, u2, u3')\n",
    "\n",
    "t = me.dynamicsymbols._t\n",
    "qdot = sm.Matrix([q1.diff(t), q2.diff(t), q3.diff(t)])\n",
    "u = sm.Matrix([u1, u2, u3])\n",
    "\n",
    "A_w_B = A_w_B.xreplace(dict(zip(qdot, u)))\n",
    "A_w_B"
   ]
  },
  {
   "cell_type": "code",
   "execution_count": 16,
   "id": "9a2af1c9",
   "metadata": {
    "execution": {
     "iopub.execute_input": "2025-09-25T05:55:04.924083Z",
     "iopub.status.busy": "2025-09-25T05:55:04.923937Z",
     "iopub.status.idle": "2025-09-25T05:55:04.928487Z",
     "shell.execute_reply": "2025-09-25T05:55:04.927981Z"
    }
   },
   "outputs": [
    {
     "data": {
      "text/latex": [
       "$\\displaystyle \\left[\\begin{matrix}\\dot{q}_{1}\\\\\\dot{q}_{2}\\\\\\dot{q}_{3}\\end{matrix}\\right]$"
      ],
      "text/plain": [
       "⎡q₁̇⎤\n",
       "⎢  ⎥\n",
       "⎢q₂̇⎥\n",
       "⎢  ⎥\n",
       "⎣q₃̇⎦"
      ]
     },
     "execution_count": 16,
     "metadata": {},
     "output_type": "execute_result"
    }
   ],
   "source": [
    "Yk_plus_zk = qdot\n",
    "Yk_plus_zk"
   ]
  },
  {
   "cell_type": "code",
   "execution_count": 17,
   "id": "c2b28c67",
   "metadata": {
    "execution": {
     "iopub.execute_input": "2025-09-25T05:55:04.929765Z",
     "iopub.status.busy": "2025-09-25T05:55:04.929620Z",
     "iopub.status.idle": "2025-09-25T05:55:04.940723Z",
     "shell.execute_reply": "2025-09-25T05:55:04.940235Z"
    }
   },
   "outputs": [
    {
     "data": {
      "text/latex": [
       "$\\displaystyle \\left[\\begin{matrix}1 & 0 & 0\\\\0 & 1 & 0\\\\0 & 0 & 1\\end{matrix}\\right]$"
      ],
      "text/plain": [
       "⎡1  0  0⎤\n",
       "⎢       ⎥\n",
       "⎢0  1  0⎥\n",
       "⎢       ⎥\n",
       "⎣0  0  1⎦"
      ]
     },
     "execution_count": 17,
     "metadata": {},
     "output_type": "execute_result"
    }
   ],
   "source": [
    "Yk = Yk_plus_zk.jacobian(qdot)\n",
    "Yk"
   ]
  },
  {
   "cell_type": "code",
   "execution_count": 18,
   "id": "7d7aed92",
   "metadata": {
    "execution": {
     "iopub.execute_input": "2025-09-25T05:55:04.941979Z",
     "iopub.status.busy": "2025-09-25T05:55:04.941833Z",
     "iopub.status.idle": "2025-09-25T05:55:04.946253Z",
     "shell.execute_reply": "2025-09-25T05:55:04.945756Z"
    }
   },
   "outputs": [
    {
     "data": {
      "text/latex": [
       "$\\displaystyle \\left\\{ \\dot{q}_{1} : 0, \\  \\dot{q}_{2} : 0, \\  \\dot{q}_{3} : 0\\right\\}$"
      ],
      "text/plain": [
       "{q₁̇: 0, q₂̇: 0, q₃̇: 0}"
      ]
     },
     "execution_count": 18,
     "metadata": {},
     "output_type": "execute_result"
    }
   ],
   "source": [
    "qd_zero_repl = dict(zip(qdot, sm.zeros(3, 1)))\n",
    "qd_zero_repl"
   ]
  },
  {
   "cell_type": "code",
   "execution_count": 19,
   "id": "c78930ec",
   "metadata": {
    "execution": {
     "iopub.execute_input": "2025-09-25T05:55:04.947515Z",
     "iopub.status.busy": "2025-09-25T05:55:04.947367Z",
     "iopub.status.idle": "2025-09-25T05:55:04.951035Z",
     "shell.execute_reply": "2025-09-25T05:55:04.950548Z"
    }
   },
   "outputs": [
    {
     "data": {
      "text/latex": [
       "$\\displaystyle \\left[\\begin{matrix}0\\\\0\\\\0\\end{matrix}\\right]$"
      ],
      "text/plain": [
       "⎡0⎤\n",
       "⎢ ⎥\n",
       "⎢0⎥\n",
       "⎢ ⎥\n",
       "⎣0⎦"
      ]
     },
     "execution_count": 19,
     "metadata": {},
     "output_type": "execute_result"
    }
   ],
   "source": [
    "zk = Yk_plus_zk.xreplace(qd_zero_repl)\n",
    "zk"
   ]
  },
  {
   "cell_type": "code",
   "execution_count": 20,
   "id": "7f5e4495",
   "metadata": {
    "execution": {
     "iopub.execute_input": "2025-09-25T05:55:04.952282Z",
     "iopub.status.busy": "2025-09-25T05:55:04.952117Z",
     "iopub.status.idle": "2025-09-25T05:55:04.966653Z",
     "shell.execute_reply": "2025-09-25T05:55:04.966164Z"
    }
   },
   "outputs": [
    {
     "data": {
      "text/latex": [
       "$\\displaystyle \\left[\\begin{matrix}\\dot{q}_{1}\\\\\\dot{q}_{2}\\\\\\dot{q}_{3}\\end{matrix}\\right] = \\left[\\begin{matrix}u_{1}\\\\u_{2}\\\\u_{3}\\end{matrix}\\right]$"
      ],
      "text/plain": [
       "⎡q₁̇⎤   ⎡u₁⎤\n",
       "⎢  ⎥   ⎢  ⎥\n",
       "⎢q₂̇⎥ = ⎢u₂⎥\n",
       "⎢  ⎥   ⎢  ⎥\n",
       "⎣q₃̇⎦   ⎣u₃⎦"
      ]
     },
     "execution_count": 20,
     "metadata": {},
     "output_type": "execute_result"
    }
   ],
   "source": [
    "sm.Eq(qdot, Yk.LUsolve(u - zk))"
   ]
  },
  {
   "cell_type": "code",
   "execution_count": 21,
   "id": "394fe4cb",
   "metadata": {
    "execution": {
     "iopub.execute_input": "2025-09-25T05:55:04.967934Z",
     "iopub.status.busy": "2025-09-25T05:55:04.967787Z",
     "iopub.status.idle": "2025-09-25T05:55:05.083137Z",
     "shell.execute_reply": "2025-09-25T05:55:05.082624Z"
    }
   },
   "outputs": [
    {
     "data": {
      "text/latex": [
       "$\\displaystyle (- \\sin{\\left(q_{3} \\right)} \\cos{\\left(q_{2} \\right)} \\dot{q}_{1} + \\cos{\\left(q_{3} \\right)} \\dot{q}_{2})\\hat{b}_x + (\\sin{\\left(q_{2} \\right)} \\dot{q}_{1} + \\dot{q}_{3})\\hat{b}_y + (\\sin{\\left(q_{3} \\right)} \\dot{q}_{2} + \\cos{\\left(q_{2} \\right)} \\cos{\\left(q_{3} \\right)} \\dot{q}_{1})\\hat{b}_z$"
      ],
      "text/plain": [
       "(-sin(q₃)⋅cos(q₂)⋅q₁̇ + cos(q₃)⋅q₂̇) b_x + (sin(q₂)⋅q₁̇ + q₃̇) b_y + (sin(q₃)⋅\n",
       "q₂̇ + cos(q₂)⋅cos(q₃)⋅q₁̇) b_z"
      ]
     },
     "execution_count": 21,
     "metadata": {},
     "output_type": "execute_result"
    }
   ],
   "source": [
    "A_w_B = B.ang_vel_in(A).simplify()\n",
    "A_w_B"
   ]
  },
  {
   "cell_type": "code",
   "execution_count": 22,
   "id": "f328db78",
   "metadata": {
    "execution": {
     "iopub.execute_input": "2025-09-25T05:55:05.084573Z",
     "iopub.status.busy": "2025-09-25T05:55:05.084420Z",
     "iopub.status.idle": "2025-09-25T05:55:05.096348Z",
     "shell.execute_reply": "2025-09-25T05:55:05.095845Z"
    }
   },
   "outputs": [
    {
     "data": {
      "text/latex": [
       "$\\displaystyle \\left[\\begin{matrix}- \\sin{\\left(q_{3} \\right)} \\cos{\\left(q_{2} \\right)} \\dot{q}_{1} + \\cos{\\left(q_{3} \\right)} \\dot{q}_{2}\\\\\\sin{\\left(q_{2} \\right)} \\dot{q}_{1} + \\dot{q}_{3}\\\\\\sin{\\left(q_{3} \\right)} \\dot{q}_{2} + \\cos{\\left(q_{2} \\right)} \\cos{\\left(q_{3} \\right)} \\dot{q}_{1}\\end{matrix}\\right]$"
      ],
      "text/plain": [
       "⎡-sin(q₃)⋅cos(q₂)⋅q₁̇ + cos(q₃)⋅q₂̇⎤\n",
       "⎢                                ⎥\n",
       "⎢        sin(q₂)⋅q₁̇ + q₃̇         ⎥\n",
       "⎢                                ⎥\n",
       "⎣sin(q₃)⋅q₂̇ + cos(q₂)⋅cos(q₃)⋅q₁̇ ⎦"
      ]
     },
     "execution_count": 22,
     "metadata": {},
     "output_type": "execute_result"
    }
   ],
   "source": [
    "u1_expr = A_w_B.dot(B.x)\n",
    "u2_expr = A_w_B.dot(B.y)\n",
    "u3_expr = A_w_B.dot(B.z)\n",
    "\n",
    "Yk_plus_zk = sm.Matrix([u1_expr, u2_expr, u3_expr])\n",
    "Yk_plus_zk"
   ]
  },
  {
   "cell_type": "code",
   "execution_count": 23,
   "id": "cac97d12",
   "metadata": {
    "execution": {
     "iopub.execute_input": "2025-09-25T05:55:05.097702Z",
     "iopub.status.busy": "2025-09-25T05:55:05.097549Z",
     "iopub.status.idle": "2025-09-25T05:55:05.109827Z",
     "shell.execute_reply": "2025-09-25T05:55:05.109440Z"
    }
   },
   "outputs": [
    {
     "data": {
      "text/latex": [
       "$\\displaystyle \\left[\\begin{matrix}- \\sin{\\left(q_{3} \\right)} \\cos{\\left(q_{2} \\right)} & \\cos{\\left(q_{3} \\right)} & 0\\\\\\sin{\\left(q_{2} \\right)} & 0 & 1\\\\\\cos{\\left(q_{2} \\right)} \\cos{\\left(q_{3} \\right)} & \\sin{\\left(q_{3} \\right)} & 0\\end{matrix}\\right]$"
      ],
      "text/plain": [
       "⎡-sin(q₃)⋅cos(q₂)  cos(q₃)  0⎤\n",
       "⎢                            ⎥\n",
       "⎢    sin(q₂)          0     1⎥\n",
       "⎢                            ⎥\n",
       "⎣cos(q₂)⋅cos(q₃)   sin(q₃)  0⎦"
      ]
     },
     "execution_count": 23,
     "metadata": {},
     "output_type": "execute_result"
    }
   ],
   "source": [
    "Yk = Yk_plus_zk.jacobian(qdot)\n",
    "Yk"
   ]
  },
  {
   "cell_type": "code",
   "execution_count": 24,
   "id": "67da3d59",
   "metadata": {
    "execution": {
     "iopub.execute_input": "2025-09-25T05:55:05.111010Z",
     "iopub.status.busy": "2025-09-25T05:55:05.110865Z",
     "iopub.status.idle": "2025-09-25T05:55:05.114692Z",
     "shell.execute_reply": "2025-09-25T05:55:05.114285Z"
    }
   },
   "outputs": [
    {
     "data": {
      "text/latex": [
       "$\\displaystyle \\left[\\begin{matrix}0\\\\0\\\\0\\end{matrix}\\right]$"
      ],
      "text/plain": [
       "⎡0⎤\n",
       "⎢ ⎥\n",
       "⎢0⎥\n",
       "⎢ ⎥\n",
       "⎣0⎦"
      ]
     },
     "execution_count": 24,
     "metadata": {},
     "output_type": "execute_result"
    }
   ],
   "source": [
    "zk = Yk_plus_zk.xreplace(qd_zero_repl)\n",
    "zk"
   ]
  },
  {
   "cell_type": "code",
   "execution_count": 25,
   "id": "430f5eb7",
   "metadata": {
    "execution": {
     "iopub.execute_input": "2025-09-25T05:55:05.115901Z",
     "iopub.status.busy": "2025-09-25T05:55:05.115753Z",
     "iopub.status.idle": "2025-09-25T05:55:06.526805Z",
     "shell.execute_reply": "2025-09-25T05:55:06.526258Z"
    }
   },
   "outputs": [
    {
     "data": {
      "text/latex": [
       "$\\displaystyle \\left[\\begin{matrix}\\dot{q}_{1}\\\\\\dot{q}_{2}\\\\\\dot{q}_{3}\\end{matrix}\\right] = \\left[\\begin{matrix}- \\frac{u_{1} \\sin{\\left(q_{3} \\right)} - u_{3} \\cos{\\left(q_{3} \\right)}}{\\cos{\\left(q_{2} \\right)}}\\\\\\frac{u_{1} \\cos{\\left(2 q_{3} \\right)} + u_{1} + u_{3} \\sin{\\left(2 q_{3} \\right)}}{2 \\cos{\\left(q_{3} \\right)}}\\\\u_{1} \\sin{\\left(q_{3} \\right)} \\tan{\\left(q_{2} \\right)} + u_{2} - u_{3} \\cos{\\left(q_{3} \\right)} \\tan{\\left(q_{2} \\right)}\\end{matrix}\\right]$"
      ],
      "text/plain": [
       "       ⎡        -(u₁⋅sin(q₃) - u₃⋅cos(q₃))          ⎤\n",
       "       ⎢        ───────────────────────────         ⎥\n",
       "⎡q₁̇⎤   ⎢                  cos(q₂)                   ⎥\n",
       "⎢  ⎥   ⎢                                            ⎥\n",
       "⎢q₂̇⎥ = ⎢      u₁⋅cos(2⋅q₃) + u₁ + u₃⋅sin(2⋅q₃)      ⎥\n",
       "⎢  ⎥   ⎢      ────────────────────────────────      ⎥\n",
       "⎣q₃̇⎦   ⎢                 2⋅cos(q₃)                  ⎥\n",
       "       ⎢                                            ⎥\n",
       "       ⎣u₁⋅sin(q₃)⋅tan(q₂) + u₂ - u₃⋅cos(q₃)⋅tan(q₂)⎦"
      ]
     },
     "execution_count": 25,
     "metadata": {},
     "output_type": "execute_result"
    }
   ],
   "source": [
    "sm.Eq(qdot, sm.trigsimp(Yk.LUsolve(u - zk)))"
   ]
  },
  {
   "cell_type": "code",
   "execution_count": 26,
   "id": "31150d83",
   "metadata": {
    "execution": {
     "iopub.execute_input": "2025-09-25T05:55:06.528164Z",
     "iopub.status.busy": "2025-09-25T05:55:06.528007Z",
     "iopub.status.idle": "2025-09-25T05:55:07.534670Z",
     "shell.execute_reply": "2025-09-25T05:55:07.534142Z"
    }
   },
   "outputs": [
    {
     "data": {
      "text/latex": [
       "$\\displaystyle (- \\sin{\\left(q_{1} \\right)} \\cos{\\left(q_{2} \\right)} \\dot{q}_{3} + \\cos{\\left(q_{1} \\right)} \\dot{q}_{2})\\hat{a}_x + (\\sin{\\left(q_{1} \\right)} \\dot{q}_{2} + \\cos{\\left(q_{1} \\right)} \\cos{\\left(q_{2} \\right)} \\dot{q}_{3})\\hat{a}_y + (\\sin{\\left(q_{2} \\right)} \\dot{q}_{3} + \\dot{q}_{1})\\hat{a}_z$"
      ],
      "text/plain": [
       "(-sin(q₁)⋅cos(q₂)⋅q₃̇ + cos(q₁)⋅q₂̇) a_x + (sin(q₁)⋅q₂̇ + cos(q₁)⋅cos(q₂)⋅q₃̇)\n",
       " a_y + (sin(q₂)⋅q₃̇ + q₁̇) a_z"
      ]
     },
     "execution_count": 26,
     "metadata": {},
     "output_type": "execute_result"
    }
   ],
   "source": [
    "A_w_B = B.ang_vel_in(A).express(A).simplify()\n",
    "A_w_B"
   ]
  },
  {
   "cell_type": "code",
   "execution_count": 27,
   "id": "449cbf1d",
   "metadata": {
    "execution": {
     "iopub.execute_input": "2025-09-25T05:55:07.536143Z",
     "iopub.status.busy": "2025-09-25T05:55:07.535986Z",
     "iopub.status.idle": "2025-09-25T05:55:07.547959Z",
     "shell.execute_reply": "2025-09-25T05:55:07.547451Z"
    }
   },
   "outputs": [
    {
     "data": {
      "text/latex": [
       "$\\displaystyle \\left[\\begin{matrix}- \\sin{\\left(q_{1} \\right)} \\cos{\\left(q_{2} \\right)} \\dot{q}_{3} + \\cos{\\left(q_{1} \\right)} \\dot{q}_{2}\\\\\\sin{\\left(q_{1} \\right)} \\dot{q}_{2} + \\cos{\\left(q_{1} \\right)} \\cos{\\left(q_{2} \\right)} \\dot{q}_{3}\\\\\\sin{\\left(q_{2} \\right)} \\dot{q}_{3} + \\dot{q}_{1}\\end{matrix}\\right]$"
      ],
      "text/plain": [
       "⎡-sin(q₁)⋅cos(q₂)⋅q₃̇ + cos(q₁)⋅q₂̇⎤\n",
       "⎢                                ⎥\n",
       "⎢sin(q₁)⋅q₂̇ + cos(q₁)⋅cos(q₂)⋅q₃̇ ⎥\n",
       "⎢                                ⎥\n",
       "⎣        sin(q₂)⋅q₃̇ + q₁̇         ⎦"
      ]
     },
     "execution_count": 27,
     "metadata": {},
     "output_type": "execute_result"
    }
   ],
   "source": [
    "u1_expr = A_w_B.dot(A.x)\n",
    "u2_expr = A_w_B.dot(A.y)\n",
    "u3_expr = A_w_B.dot(A.z)\n",
    "\n",
    "Yk_plus_zk = sm.Matrix([u1_expr, u2_expr, u3_expr])\n",
    "Yk_plus_zk"
   ]
  },
  {
   "cell_type": "code",
   "execution_count": 28,
   "id": "2f7226c6",
   "metadata": {
    "execution": {
     "iopub.execute_input": "2025-09-25T05:55:07.549337Z",
     "iopub.status.busy": "2025-09-25T05:55:07.549193Z",
     "iopub.status.idle": "2025-09-25T05:55:07.561547Z",
     "shell.execute_reply": "2025-09-25T05:55:07.561054Z"
    }
   },
   "outputs": [
    {
     "data": {
      "text/latex": [
       "$\\displaystyle \\left[\\begin{matrix}0 & \\cos{\\left(q_{1} \\right)} & - \\sin{\\left(q_{1} \\right)} \\cos{\\left(q_{2} \\right)}\\\\0 & \\sin{\\left(q_{1} \\right)} & \\cos{\\left(q_{1} \\right)} \\cos{\\left(q_{2} \\right)}\\\\1 & 0 & \\sin{\\left(q_{2} \\right)}\\end{matrix}\\right]$"
      ],
      "text/plain": [
       "⎡0  cos(q₁)  -sin(q₁)⋅cos(q₂)⎤\n",
       "⎢                            ⎥\n",
       "⎢0  sin(q₁)  cos(q₁)⋅cos(q₂) ⎥\n",
       "⎢                            ⎥\n",
       "⎣1     0         sin(q₂)     ⎦"
      ]
     },
     "execution_count": 28,
     "metadata": {},
     "output_type": "execute_result"
    }
   ],
   "source": [
    "Yk = Yk_plus_zk.jacobian(qdot)\n",
    "Yk"
   ]
  },
  {
   "cell_type": "code",
   "execution_count": 29,
   "id": "e1ecfcbf",
   "metadata": {
    "execution": {
     "iopub.execute_input": "2025-09-25T05:55:07.562855Z",
     "iopub.status.busy": "2025-09-25T05:55:07.562711Z",
     "iopub.status.idle": "2025-09-25T05:55:07.566711Z",
     "shell.execute_reply": "2025-09-25T05:55:07.566225Z"
    }
   },
   "outputs": [
    {
     "data": {
      "text/latex": [
       "$\\displaystyle \\left[\\begin{matrix}0\\\\0\\\\0\\end{matrix}\\right]$"
      ],
      "text/plain": [
       "⎡0⎤\n",
       "⎢ ⎥\n",
       "⎢0⎥\n",
       "⎢ ⎥\n",
       "⎣0⎦"
      ]
     },
     "execution_count": 29,
     "metadata": {},
     "output_type": "execute_result"
    }
   ],
   "source": [
    "zk = Yk_plus_zk.xreplace(qd_zero_repl)\n",
    "zk"
   ]
  },
  {
   "cell_type": "code",
   "execution_count": 30,
   "id": "09f0b659",
   "metadata": {
    "execution": {
     "iopub.execute_input": "2025-09-25T05:55:07.568047Z",
     "iopub.status.busy": "2025-09-25T05:55:07.567895Z",
     "iopub.status.idle": "2025-09-25T05:55:07.915822Z",
     "shell.execute_reply": "2025-09-25T05:55:07.915300Z"
    }
   },
   "outputs": [
    {
     "data": {
      "text/latex": [
       "$\\displaystyle \\left[\\begin{matrix}\\dot{q}_{1}\\\\\\dot{q}_{2}\\\\\\dot{q}_{3}\\end{matrix}\\right] = \\left[\\begin{matrix}\\left(u_{1} \\sin{\\left(q_{1} \\right)} - u_{2} \\cos{\\left(q_{1} \\right)}\\right) \\tan{\\left(q_{2} \\right)} + u_{3}\\\\u_{1} \\cos{\\left(q_{1} \\right)} + u_{2} \\sin{\\left(q_{1} \\right)}\\\\- \\frac{u_{1} \\sin{\\left(q_{1} \\right)} - u_{2} \\cos{\\left(q_{1} \\right)}}{\\cos{\\left(q_{2} \\right)}}\\end{matrix}\\right]$"
      ],
      "text/plain": [
       "       ⎡(u₁⋅sin(q₁) - u₂⋅cos(q₁))⋅tan(q₂) + u₃⎤\n",
       "⎡q₁̇⎤   ⎢                                      ⎥\n",
       "⎢  ⎥   ⎢       u₁⋅cos(q₁) + u₂⋅sin(q₁)        ⎥\n",
       "⎢q₂̇⎥ = ⎢                                      ⎥\n",
       "⎢  ⎥   ⎢     -(u₁⋅sin(q₁) - u₂⋅cos(q₁))       ⎥\n",
       "⎣q₃̇⎦   ⎢     ───────────────────────────      ⎥\n",
       "       ⎣               cos(q₂)                ⎦"
      ]
     },
     "execution_count": 30,
     "metadata": {},
     "output_type": "execute_result"
    }
   ],
   "source": [
    "sm.Eq(qdot, sm.trigsimp(Yk.LUsolve(u - zk)))"
   ]
  },
  {
   "cell_type": "code",
   "execution_count": 31,
   "id": "da933640",
   "metadata": {
    "execution": {
     "iopub.execute_input": "2025-09-25T05:55:07.917227Z",
     "iopub.status.busy": "2025-09-25T05:55:07.917047Z",
     "iopub.status.idle": "2025-09-25T05:55:07.919984Z",
     "shell.execute_reply": "2025-09-25T05:55:07.919481Z"
    }
   },
   "outputs": [],
   "source": [
    "q1, q2, q3, q4, q5 = me.dynamicsymbols('q1, q2, q3, q4, q5')\n",
    "l = sm.symbols('l')"
   ]
  },
  {
   "cell_type": "code",
   "execution_count": 32,
   "id": "34019d00",
   "metadata": {
    "execution": {
     "iopub.execute_input": "2025-09-25T05:55:07.921353Z",
     "iopub.status.busy": "2025-09-25T05:55:07.921212Z",
     "iopub.status.idle": "2025-09-25T05:55:07.931832Z",
     "shell.execute_reply": "2025-09-25T05:55:07.931461Z"
    }
   },
   "outputs": [],
   "source": [
    "N = me.ReferenceFrame('N')\n",
    "A = me.ReferenceFrame('A')\n",
    "B = me.ReferenceFrame('B')\n",
    "C = me.ReferenceFrame('C')\n",
    "\n",
    "A.orient_axis(N, q3, N.z)\n",
    "B.orient_axis(A, q4, A.z)\n",
    "C.orient_axis(A, q5, A.z)"
   ]
  },
  {
   "cell_type": "code",
   "execution_count": 33,
   "id": "c1e3c17a",
   "metadata": {
    "execution": {
     "iopub.execute_input": "2025-09-25T05:55:07.933067Z",
     "iopub.status.busy": "2025-09-25T05:55:07.932931Z",
     "iopub.status.idle": "2025-09-25T05:55:07.936439Z",
     "shell.execute_reply": "2025-09-25T05:55:07.936052Z"
    }
   },
   "outputs": [
    {
     "data": {
      "text/latex": [
       "$\\displaystyle \\dot{q}_{3}\\hat{n}_z$"
      ],
      "text/plain": [
       "q₃̇ n_z"
      ]
     },
     "execution_count": 33,
     "metadata": {},
     "output_type": "execute_result"
    }
   ],
   "source": [
    "A.ang_vel_in(N)"
   ]
  },
  {
   "cell_type": "code",
   "execution_count": 34,
   "id": "4ba48a57",
   "metadata": {
    "execution": {
     "iopub.execute_input": "2025-09-25T05:55:07.937637Z",
     "iopub.status.busy": "2025-09-25T05:55:07.937506Z",
     "iopub.status.idle": "2025-09-25T05:55:07.941704Z",
     "shell.execute_reply": "2025-09-25T05:55:07.941315Z"
    }
   },
   "outputs": [
    {
     "data": {
      "text/latex": [
       "$\\displaystyle \\dot{q}_{4}\\hat{a}_z + \\dot{q}_{3}\\hat{n}_z$"
      ],
      "text/plain": [
       "q₄̇ a_z + q₃̇ n_z"
      ]
     },
     "execution_count": 34,
     "metadata": {},
     "output_type": "execute_result"
    }
   ],
   "source": [
    "B.ang_vel_in(N)"
   ]
  },
  {
   "cell_type": "code",
   "execution_count": 35,
   "id": "6f8e4033",
   "metadata": {
    "execution": {
     "iopub.execute_input": "2025-09-25T05:55:07.942905Z",
     "iopub.status.busy": "2025-09-25T05:55:07.942770Z",
     "iopub.status.idle": "2025-09-25T05:55:07.946993Z",
     "shell.execute_reply": "2025-09-25T05:55:07.946520Z"
    }
   },
   "outputs": [
    {
     "data": {
      "text/latex": [
       "$\\displaystyle \\dot{q}_{5}\\hat{a}_z + \\dot{q}_{3}\\hat{n}_z$"
      ],
      "text/plain": [
       "q₅̇ a_z + q₃̇ n_z"
      ]
     },
     "execution_count": 35,
     "metadata": {},
     "output_type": "execute_result"
    }
   ],
   "source": [
    "C.ang_vel_in(N)"
   ]
  },
  {
   "cell_type": "code",
   "execution_count": 36,
   "id": "a70ec5ab",
   "metadata": {
    "execution": {
     "iopub.execute_input": "2025-09-25T05:55:07.948261Z",
     "iopub.status.busy": "2025-09-25T05:55:07.948097Z",
     "iopub.status.idle": "2025-09-25T05:55:07.952298Z",
     "shell.execute_reply": "2025-09-25T05:55:07.951882Z"
    }
   },
   "outputs": [],
   "source": [
    "O = me.Point('O')\n",
    "Ao = me.Point('A_o')\n",
    "Bo = me.Point('B_o')\n",
    "Co = me.Point('C_o')\n",
    "\n",
    "Ao.set_pos(O, q1*N.x + q2*N.y)\n",
    "Bo.set_pos(Ao, l/2*A.x)\n",
    "Co.set_pos(Ao, -l/2*A.x)"
   ]
  },
  {
   "cell_type": "code",
   "execution_count": 37,
   "id": "a032bf35",
   "metadata": {
    "execution": {
     "iopub.execute_input": "2025-09-25T05:55:07.953500Z",
     "iopub.status.busy": "2025-09-25T05:55:07.953347Z",
     "iopub.status.idle": "2025-09-25T05:55:07.959427Z",
     "shell.execute_reply": "2025-09-25T05:55:07.958913Z"
    }
   },
   "outputs": [
    {
     "data": {
      "text/latex": [
       "$\\displaystyle \\dot{q}_{1}\\hat{n}_x + \\dot{q}_{2}\\hat{n}_y$"
      ],
      "text/plain": [
       "q₁̇ n_x + q₂̇ n_y"
      ]
     },
     "execution_count": 37,
     "metadata": {},
     "output_type": "execute_result"
    }
   ],
   "source": [
    "O.set_vel(N, 0)\n",
    "Ao.vel(N)"
   ]
  },
  {
   "cell_type": "code",
   "execution_count": 38,
   "id": "626c05dc",
   "metadata": {
    "execution": {
     "iopub.execute_input": "2025-09-25T05:55:07.960641Z",
     "iopub.status.busy": "2025-09-25T05:55:07.960495Z",
     "iopub.status.idle": "2025-09-25T05:55:07.967096Z",
     "shell.execute_reply": "2025-09-25T05:55:07.966582Z"
    }
   },
   "outputs": [
    {
     "data": {
      "text/latex": [
       "$\\displaystyle \\dot{q}_{1}\\hat{n}_x + \\dot{q}_{2}\\hat{n}_y + \\frac{l \\dot{q}_{3}}{2}\\hat{a}_y$"
      ],
      "text/plain": [
       "                  l⋅q₃̇\n",
       "q₁̇ n_x + q₂̇ n_y + ──── a_y\n",
       "                   2"
      ]
     },
     "execution_count": 38,
     "metadata": {},
     "output_type": "execute_result"
    }
   ],
   "source": [
    "Bo.v2pt_theory(Ao, N, A)"
   ]
  },
  {
   "cell_type": "code",
   "execution_count": 39,
   "id": "836b404f",
   "metadata": {
    "execution": {
     "iopub.execute_input": "2025-09-25T05:55:07.968473Z",
     "iopub.status.busy": "2025-09-25T05:55:07.968323Z",
     "iopub.status.idle": "2025-09-25T05:55:07.974566Z",
     "shell.execute_reply": "2025-09-25T05:55:07.974047Z"
    }
   },
   "outputs": [
    {
     "data": {
      "text/latex": [
       "$\\displaystyle \\dot{q}_{1}\\hat{n}_x + \\dot{q}_{2}\\hat{n}_y -  \\frac{l \\dot{q}_{3}}{2}\\hat{a}_y$"
      ],
      "text/plain": [
       "                  -l⋅q₃̇\n",
       "q₁̇ n_x + q₂̇ n_y + ────── a_y\n",
       "                    2"
      ]
     },
     "execution_count": 39,
     "metadata": {},
     "output_type": "execute_result"
    }
   ],
   "source": [
    "Co.v2pt_theory(Ao, N, A)"
   ]
  },
  {
   "cell_type": "code",
   "execution_count": 40,
   "id": "10868d76",
   "metadata": {
    "execution": {
     "iopub.execute_input": "2025-09-25T05:55:07.975772Z",
     "iopub.status.busy": "2025-09-25T05:55:07.975625Z",
     "iopub.status.idle": "2025-09-25T05:55:08.308306Z",
     "shell.execute_reply": "2025-09-25T05:55:08.307766Z"
    }
   },
   "outputs": [
    {
     "data": {
      "text/latex": [
       "$\\displaystyle \\left[\\begin{matrix}\\frac{l \\cos{\\left(q_{4} \\right)} \\dot{q}_{3}}{2} - \\sin{\\left(q_{3} + q_{4} \\right)} \\dot{q}_{1} + \\cos{\\left(q_{3} + q_{4} \\right)} \\dot{q}_{2}\\\\- \\frac{l \\cos{\\left(q_{5} \\right)} \\dot{q}_{3}}{2} - \\sin{\\left(q_{3} + q_{5} \\right)} \\dot{q}_{1} + \\cos{\\left(q_{3} + q_{5} \\right)} \\dot{q}_{2}\\end{matrix}\\right]$"
      ],
      "text/plain": [
       "⎡ l⋅cos(q₄)⋅q₃̇                                     ⎤\n",
       "⎢ ──────────── - sin(q₃ + q₄)⋅q₁̇ + cos(q₃ + q₄)⋅q₂̇ ⎥\n",
       "⎢      2                                           ⎥\n",
       "⎢                                                  ⎥\n",
       "⎢  l⋅cos(q₅)⋅q₃̇                                    ⎥\n",
       "⎢- ──────────── - sin(q₃ + q₅)⋅q₁̇ + cos(q₃ + q₅)⋅q₂̇⎥\n",
       "⎣       2                                          ⎦"
      ]
     },
     "execution_count": 40,
     "metadata": {},
     "output_type": "execute_result"
    }
   ],
   "source": [
    "fn = sm.Matrix([Bo.vel(N).dot(B.y),\n",
    "                Co.vel(N).dot(C.y)])\n",
    "fn = sm.trigsimp(fn)\n",
    "fn"
   ]
  },
  {
   "cell_type": "code",
   "execution_count": 41,
   "id": "40e732a1",
   "metadata": {
    "execution": {
     "iopub.execute_input": "2025-09-25T05:55:08.309815Z",
     "iopub.status.busy": "2025-09-25T05:55:08.309654Z",
     "iopub.status.idle": "2025-09-25T05:55:08.327772Z",
     "shell.execute_reply": "2025-09-25T05:55:08.327269Z"
    }
   },
   "outputs": [
    {
     "data": {
      "text/latex": [
       "$\\displaystyle \\left[\\begin{matrix}- u_{1} \\sin{\\left(q_{3} + q_{4} \\right)} + u_{2} \\cos{\\left(q_{3} + q_{4} \\right)} + u_{3} \\cos{\\left(q_{4} \\right)}\\\\- u_{1} \\sin{\\left(q_{3} + q_{5} \\right)} + u_{2} \\cos{\\left(q_{3} + q_{5} \\right)} - u_{3} \\cos{\\left(q_{5} \\right)}\\end{matrix}\\right]$"
      ],
      "text/plain": [
       "⎡-u₁⋅sin(q₃ + q₄) + u₂⋅cos(q₃ + q₄) + u₃⋅cos(q₄)⎤\n",
       "⎢                                               ⎥\n",
       "⎣-u₁⋅sin(q₃ + q₅) + u₂⋅cos(q₃ + q₅) - u₃⋅cos(q₅)⎦"
      ]
     },
     "execution_count": 41,
     "metadata": {},
     "output_type": "execute_result"
    }
   ],
   "source": [
    "u1, u2, u3, u4, u5 = me.dynamicsymbols('u1, u2, u3, u4, u5')\n",
    "\n",
    "u_repl = {\n",
    "    q1.diff(): u1,\n",
    "    q2.diff(): u2,\n",
    "    l*q3.diff()/2: u3,\n",
    "    q4.diff(): u4,\n",
    "    q5.diff(): u5\n",
    "}\n",
    "\n",
    "fn = fn.subs(u_repl)\n",
    "fn"
   ]
  },
  {
   "cell_type": "code",
   "execution_count": 42,
   "id": "fbdda754",
   "metadata": {
    "execution": {
     "iopub.execute_input": "2025-09-25T05:55:08.329041Z",
     "iopub.status.busy": "2025-09-25T05:55:08.328891Z",
     "iopub.status.idle": "2025-09-25T05:55:08.331461Z",
     "shell.execute_reply": "2025-09-25T05:55:08.331036Z"
    }
   },
   "outputs": [],
   "source": [
    "us = sm.Matrix([u3, u4, u5])\n",
    "ur = sm.Matrix([u1, u2])"
   ]
  },
  {
   "cell_type": "code",
   "execution_count": 43,
   "id": "1e395cdb",
   "metadata": {
    "execution": {
     "iopub.execute_input": "2025-09-25T05:55:08.332676Z",
     "iopub.status.busy": "2025-09-25T05:55:08.332545Z",
     "iopub.status.idle": "2025-09-25T05:55:08.342804Z",
     "shell.execute_reply": "2025-09-25T05:55:08.342316Z"
    }
   },
   "outputs": [
    {
     "data": {
      "text/latex": [
       "$\\displaystyle \\left[\\begin{matrix}- \\sin{\\left(q_{3} + q_{4} \\right)} & \\cos{\\left(q_{3} + q_{4} \\right)}\\\\- \\sin{\\left(q_{3} + q_{5} \\right)} & \\cos{\\left(q_{3} + q_{5} \\right)}\\end{matrix}\\right]$"
      ],
      "text/plain": [
       "⎡-sin(q₃ + q₄)  cos(q₃ + q₄)⎤\n",
       "⎢                           ⎥\n",
       "⎣-sin(q₃ + q₅)  cos(q₃ + q₅)⎦"
      ]
     },
     "execution_count": 43,
     "metadata": {},
     "output_type": "execute_result"
    }
   ],
   "source": [
    "Ar = fn.jacobian(ur)\n",
    "Ar"
   ]
  },
  {
   "cell_type": "code",
   "execution_count": 44,
   "id": "97d71fbf",
   "metadata": {
    "execution": {
     "iopub.execute_input": "2025-09-25T05:55:08.344070Z",
     "iopub.status.busy": "2025-09-25T05:55:08.343920Z",
     "iopub.status.idle": "2025-09-25T05:55:08.351263Z",
     "shell.execute_reply": "2025-09-25T05:55:08.350744Z"
    }
   },
   "outputs": [
    {
     "data": {
      "text/latex": [
       "$\\displaystyle \\left[\\begin{matrix}\\cos{\\left(q_{4} \\right)} & 0 & 0\\\\- \\cos{\\left(q_{5} \\right)} & 0 & 0\\end{matrix}\\right]$"
      ],
      "text/plain": [
       "⎡cos(q₄)   0  0⎤\n",
       "⎢              ⎥\n",
       "⎣-cos(q₅)  0  0⎦"
      ]
     },
     "execution_count": 44,
     "metadata": {},
     "output_type": "execute_result"
    }
   ],
   "source": [
    "As = fn.jacobian(us)\n",
    "As"
   ]
  },
  {
   "cell_type": "code",
   "execution_count": 45,
   "id": "6932cd24",
   "metadata": {
    "execution": {
     "iopub.execute_input": "2025-09-25T05:55:08.352596Z",
     "iopub.status.busy": "2025-09-25T05:55:08.352444Z",
     "iopub.status.idle": "2025-09-25T05:55:08.356823Z",
     "shell.execute_reply": "2025-09-25T05:55:08.356415Z"
    }
   },
   "outputs": [
    {
     "data": {
      "text/latex": [
       "$\\displaystyle \\left[\\begin{matrix}0\\\\0\\end{matrix}\\right]$"
      ],
      "text/plain": [
       "⎡0⎤\n",
       "⎢ ⎥\n",
       "⎣0⎦"
      ]
     },
     "execution_count": 45,
     "metadata": {},
     "output_type": "execute_result"
    }
   ],
   "source": [
    "brs = fn.xreplace(dict(zip([u1, u2, u3, u4, u5], [0, 0, 0, 0, 0])))\n",
    "brs"
   ]
  },
  {
   "cell_type": "code",
   "execution_count": 46,
   "id": "cdad4001",
   "metadata": {
    "execution": {
     "iopub.execute_input": "2025-09-25T05:55:08.358076Z",
     "iopub.status.busy": "2025-09-25T05:55:08.357923Z",
     "iopub.status.idle": "2025-09-25T05:55:09.032366Z",
     "shell.execute_reply": "2025-09-25T05:55:09.031817Z"
    }
   },
   "outputs": [
    {
     "data": {
      "text/latex": [
       "$\\displaystyle \\left[\\begin{matrix}\\frac{\\frac{\\cos{\\left(q_{3} - q_{4} + q_{5} \\right)}}{2} + \\frac{\\cos{\\left(q_{3} + q_{4} - q_{5} \\right)}}{2} + \\cos{\\left(q_{3} + q_{4} + q_{5} \\right)}}{\\sin{\\left(q_{4} - q_{5} \\right)}} & 0 & 0\\\\\\frac{\\frac{\\sin{\\left(q_{3} - q_{4} + q_{5} \\right)}}{2} + \\frac{\\sin{\\left(q_{3} + q_{4} - q_{5} \\right)}}{2} + \\sin{\\left(q_{3} + q_{4} + q_{5} \\right)}}{\\sin{\\left(q_{4} - q_{5} \\right)}} & 0 & 0\\end{matrix}\\right]$"
      ],
      "text/plain": [
       "⎡cos(q₃ - q₄ + q₅)   cos(q₃ + q₄ - q₅)                          ⎤\n",
       "⎢───────────────── + ───────────────── + cos(q₃ + q₄ + q₅)      ⎥\n",
       "⎢        2                   2                                  ⎥\n",
       "⎢─────────────────────────────────────────────────────────  0  0⎥\n",
       "⎢                       sin(q₄ - q₅)                            ⎥\n",
       "⎢                                                               ⎥\n",
       "⎢sin(q₃ - q₄ + q₅)   sin(q₃ + q₄ - q₅)                          ⎥\n",
       "⎢───────────────── + ───────────────── + sin(q₃ + q₄ + q₅)      ⎥\n",
       "⎢        2                   2                                  ⎥\n",
       "⎢─────────────────────────────────────────────────────────  0  0⎥\n",
       "⎣                       sin(q₄ - q₅)                            ⎦"
      ]
     },
     "execution_count": 46,
     "metadata": {},
     "output_type": "execute_result"
    }
   ],
   "source": [
    "An = Ar.LUsolve(-As)\n",
    "An = sm.simplify(An)\n",
    "An"
   ]
  },
  {
   "cell_type": "code",
   "execution_count": 47,
   "id": "5e571ab3",
   "metadata": {
    "execution": {
     "iopub.execute_input": "2025-09-25T05:55:09.033890Z",
     "iopub.status.busy": "2025-09-25T05:55:09.033729Z",
     "iopub.status.idle": "2025-09-25T05:55:09.039488Z",
     "shell.execute_reply": "2025-09-25T05:55:09.038972Z"
    }
   },
   "outputs": [
    {
     "data": {
      "text/latex": [
       "$\\displaystyle \\left[\\begin{matrix}0\\\\0\\end{matrix}\\right]$"
      ],
      "text/plain": [
       "⎡0⎤\n",
       "⎢ ⎥\n",
       "⎣0⎦"
      ]
     },
     "execution_count": 47,
     "metadata": {},
     "output_type": "execute_result"
    }
   ],
   "source": [
    "bn = Ar.LUsolve(-brs)\n",
    "bn"
   ]
  },
  {
   "cell_type": "code",
   "execution_count": 48,
   "id": "638d379f",
   "metadata": {
    "execution": {
     "iopub.execute_input": "2025-09-25T05:55:09.040838Z",
     "iopub.status.busy": "2025-09-25T05:55:09.040686Z",
     "iopub.status.idle": "2025-09-25T05:55:09.057846Z",
     "shell.execute_reply": "2025-09-25T05:55:09.057373Z"
    }
   },
   "outputs": [
    {
     "data": {
      "text/latex": [
       "$\\displaystyle \\left[\\begin{matrix}u_{1}\\\\u_{2}\\end{matrix}\\right] = \\left[\\begin{matrix}\\frac{\\left(\\frac{\\cos{\\left(q_{3} - q_{4} + q_{5} \\right)}}{2} + \\frac{\\cos{\\left(q_{3} + q_{4} - q_{5} \\right)}}{2} + \\cos{\\left(q_{3} + q_{4} + q_{5} \\right)}\\right) u_{3}}{\\sin{\\left(q_{4} - q_{5} \\right)}}\\\\\\frac{\\left(\\frac{\\sin{\\left(q_{3} - q_{4} + q_{5} \\right)}}{2} + \\frac{\\sin{\\left(q_{3} + q_{4} - q_{5} \\right)}}{2} + \\sin{\\left(q_{3} + q_{4} + q_{5} \\right)}\\right) u_{3}}{\\sin{\\left(q_{4} - q_{5} \\right)}}\\end{matrix}\\right]$"
      ],
      "text/plain": [
       "       ⎡⎛cos(q₃ - q₄ + q₅)   cos(q₃ + q₄ - q₅)                    ⎞   ⎤\n",
       "       ⎢⎜───────────────── + ───────────────── + cos(q₃ + q₄ + q₅)⎟⋅u₃⎥\n",
       "       ⎢⎝        2                   2                            ⎠   ⎥\n",
       "       ⎢──────────────────────────────────────────────────────────────⎥\n",
       "⎡u₁⎤   ⎢                         sin(q₄ - q₅)                         ⎥\n",
       "⎢  ⎥ = ⎢                                                              ⎥\n",
       "⎣u₂⎦   ⎢⎛sin(q₃ - q₄ + q₅)   sin(q₃ + q₄ - q₅)                    ⎞   ⎥\n",
       "       ⎢⎜───────────────── + ───────────────── + sin(q₃ + q₄ + q₅)⎟⋅u₃⎥\n",
       "       ⎢⎝        2                   2                            ⎠   ⎥\n",
       "       ⎢──────────────────────────────────────────────────────────────⎥\n",
       "       ⎣                         sin(q₄ - q₅)                         ⎦"
      ]
     },
     "execution_count": 48,
     "metadata": {},
     "output_type": "execute_result"
    }
   ],
   "source": [
    "sm.Eq(ur, An*us + bn)"
   ]
  }
 ],
 "metadata": {
  "kernelspec": {
   "display_name": "Python 3 (ipykernel)",
   "language": "python",
   "name": "python3"
  },
  "language_info": {
   "codemirror_mode": {
    "name": "ipython",
    "version": 3
   },
   "file_extension": ".py",
   "mimetype": "text/x-python",
   "name": "python",
   "nbconvert_exporter": "python",
   "pygments_lexer": "ipython3",
   "version": "3.11.13"
  }
 },
 "nbformat": 4,
 "nbformat_minor": 5
}