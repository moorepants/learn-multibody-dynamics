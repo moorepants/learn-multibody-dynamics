{
 "cells": [
  {
   "cell_type": "code",
   "execution_count": 1,
   "id": "efc11add",
   "metadata": {
    "execution": {
     "iopub.execute_input": "2025-09-11T11:36:56.304442Z",
     "iopub.status.busy": "2025-09-11T11:36:56.304289Z",
     "iopub.status.idle": "2025-09-11T11:36:56.639813Z",
     "shell.execute_reply": "2025-09-11T11:36:56.639320Z"
    }
   },
   "outputs": [],
   "source": [
    "import sympy as sm\n",
    "import sympy.physics.mechanics as me\n",
    "me.init_vprinting(use_latex='mathjax')"
   ]
  },
  {
   "cell_type": "code",
   "execution_count": 2,
   "id": "525fbd73",
   "metadata": {
    "execution": {
     "iopub.execute_input": "2025-09-11T11:36:56.641455Z",
     "iopub.status.busy": "2025-09-11T11:36:56.641261Z",
     "iopub.status.idle": "2025-09-11T11:36:56.644706Z",
     "shell.execute_reply": "2025-09-11T11:36:56.644312Z"
    }
   },
   "outputs": [],
   "source": [
    "class ReferenceFrame(me.ReferenceFrame):\n",
    "\n",
    "    def __init__(self, *args, **kwargs):\n",
    "\n",
    "        kwargs.pop('latexs', None)\n",
    "\n",
    "        lab = args[0].lower()\n",
    "        tex = r'\\hat{{{}}}_{}'\n",
    "\n",
    "        super(ReferenceFrame, self).__init__(*args,\n",
    "                                             latexs=(tex.format(lab, 'x'),\n",
    "                                                     tex.format(lab, 'y'),\n",
    "                                                     tex.format(lab, 'z')),\n",
    "                                             **kwargs)\n",
    "me.ReferenceFrame = ReferenceFrame"
   ]
  },
  {
   "cell_type": "code",
   "execution_count": 3,
   "id": "42a8df5b",
   "metadata": {
    "execution": {
     "iopub.execute_input": "2025-09-11T11:36:56.646025Z",
     "iopub.status.busy": "2025-09-11T11:36:56.645874Z",
     "iopub.status.idle": "2025-09-11T11:36:56.669215Z",
     "shell.execute_reply": "2025-09-11T11:36:56.668729Z"
    }
   },
   "outputs": [
    {
     "data": {
      "text/latex": [
       "$\\displaystyle (\\sin{\\left(\\theta \\right)} \\dot{y} + \\cos{\\left(\\theta \\right)} \\dot{x})\\hat{a}_x + (- \\sin{\\left(\\theta \\right)} \\dot{x} + \\cos{\\left(\\theta \\right)} \\dot{y})\\hat{a}_y$"
      ],
      "text/plain": [
       "(sin(θ)⋅ẏ + cos(θ)⋅ẋ) a_x + (-sin(θ)⋅ẋ + cos(θ)⋅ẏ) a_y"
      ]
     },
     "execution_count": 3,
     "metadata": {},
     "output_type": "execute_result"
    }
   ],
   "source": [
    "x, y, theta = me.dynamicsymbols('x, y, theta')\n",
    "\n",
    "N = me.ReferenceFrame('N')\n",
    "A = me.ReferenceFrame('A')\n",
    "\n",
    "A.orient_axis(N, theta, N.z)\n",
    "\n",
    "O = me.Point('O')\n",
    "P = me.Point('P')\n",
    "\n",
    "P.set_pos(O, x*N.x + y*N.y)\n",
    "\n",
    "O.set_vel(N, 0)\n",
    "\n",
    "P.vel(N).express(A)"
   ]
  },
  {
   "cell_type": "code",
   "execution_count": 4,
   "id": "087276ff",
   "metadata": {
    "execution": {
     "iopub.execute_input": "2025-09-11T11:36:56.670582Z",
     "iopub.status.busy": "2025-09-11T11:36:56.670436Z",
     "iopub.status.idle": "2025-09-11T11:36:56.675496Z",
     "shell.execute_reply": "2025-09-11T11:36:56.675078Z"
    }
   },
   "outputs": [
    {
     "data": {
      "text/latex": [
       "$\\displaystyle - \\sin{\\left(\\theta \\right)} \\dot{x} + \\cos{\\left(\\theta \\right)} \\dot{y}$"
      ],
      "text/plain": [
       "-sin(θ)⋅ẋ + cos(θ)⋅ẏ"
      ]
     },
     "execution_count": 4,
     "metadata": {},
     "output_type": "execute_result"
    }
   ],
   "source": [
    "fn = P.vel(N).dot(A.y)\n",
    "fn"
   ]
  },
  {
   "cell_type": "code",
   "execution_count": 5,
   "id": "32ff596a",
   "metadata": {
    "execution": {
     "iopub.execute_input": "2025-09-11T11:36:56.676705Z",
     "iopub.status.busy": "2025-09-11T11:36:56.676568Z",
     "iopub.status.idle": "2025-09-11T11:36:57.158522Z",
     "shell.execute_reply": "2025-09-11T11:36:57.158078Z"
    }
   },
   "outputs": [
    {
     "data": {
      "text/latex": [
       "$\\displaystyle - l_{a} \\sin{\\left(q_{1} \\right)} \\dot{q}_{1} - l_{b} \\left(\\dot{q}_{1} + \\dot{q}_{2}\\right) \\sin{\\left(q_{1} + q_{2} \\right)} - l_{c} \\left(\\dot{q}_{1} + \\dot{q}_{2} + \\dot{q}_{3}\\right) \\sin{\\left(q_{1} + q_{2} + q_{3} \\right)}$"
      ],
      "text/plain": [
       "-lₐ⋅sin(q₁)⋅q₁̇ - l_b⋅(q₁̇ + q₂̇)⋅sin(q₁ + q₂) - l_c⋅(q₁̇ + q₂̇ + q₃̇)⋅sin(q₁ \n",
       "+ q₂ + q₃)"
      ]
     },
     "execution_count": 5,
     "metadata": {},
     "output_type": "execute_result"
    }
   ],
   "source": [
    "t = me.dynamicsymbols._t\n",
    "\n",
    "q1, q2, q3 = me.dynamicsymbols('q1, q2, q3')\n",
    "la, lb, lc, ln = sm.symbols('l_a, l_b, l_c, l_n')\n",
    "\n",
    "fhx = la*sm.cos(q1) + lb*sm.cos(q1 + q2) + lc*sm.cos(q1 + q2 + q3) - ln\n",
    "sm.trigsimp(fhx.diff(t))"
   ]
  },
  {
   "cell_type": "code",
   "execution_count": 6,
   "id": "f75182a5",
   "metadata": {
    "execution": {
     "iopub.execute_input": "2025-09-11T11:36:57.159953Z",
     "iopub.status.busy": "2025-09-11T11:36:57.159796Z",
     "iopub.status.idle": "2025-09-11T11:36:57.164805Z",
     "shell.execute_reply": "2025-09-11T11:36:57.164324Z"
    }
   },
   "outputs": [
    {
     "data": {
      "text/latex": [
       "$\\displaystyle \\left( - \\sin{\\left(\\theta \\right)}, \\  \\cos{\\left(\\theta \\right)}, \\  0\\right)$"
      ],
      "text/plain": [
       "(-sin(θ), cos(θ), 0)"
      ]
     },
     "execution_count": 6,
     "metadata": {},
     "output_type": "execute_result"
    }
   ],
   "source": [
    "dfdx = fn.coeff(x.diff(t))\n",
    "dfdy = fn.coeff(y.diff(t))\n",
    "dfdth = fn.coeff(theta.diff(t))\n",
    "\n",
    "dfdx, dfdy, dfdth"
   ]
  },
  {
   "cell_type": "code",
   "execution_count": 7,
   "id": "a2d06413",
   "metadata": {
    "execution": {
     "iopub.execute_input": "2025-09-11T11:36:57.166099Z",
     "iopub.status.busy": "2025-09-11T11:36:57.165957Z",
     "iopub.status.idle": "2025-09-11T11:36:57.169350Z",
     "shell.execute_reply": "2025-09-11T11:36:57.168869Z"
    }
   },
   "outputs": [
    {
     "data": {
      "text/latex": [
       "$\\displaystyle \\left( 0, \\  0\\right)$"
      ],
      "text/plain": [
       "(0, 0)"
      ]
     },
     "execution_count": 7,
     "metadata": {},
     "output_type": "execute_result"
    }
   ],
   "source": [
    "dfdx.diff(y), dfdy.diff(x)"
   ]
  },
  {
   "cell_type": "code",
   "execution_count": 8,
   "id": "7b39f774",
   "metadata": {
    "execution": {
     "iopub.execute_input": "2025-09-11T11:36:57.170628Z",
     "iopub.status.busy": "2025-09-11T11:36:57.170480Z",
     "iopub.status.idle": "2025-09-11T11:36:57.176456Z",
     "shell.execute_reply": "2025-09-11T11:36:57.176054Z"
    }
   },
   "outputs": [
    {
     "data": {
      "text/latex": [
       "$\\displaystyle \\left( - \\cos{\\left(\\theta \\right)}, \\  0\\right)$"
      ],
      "text/plain": [
       "(-cos(θ), 0)"
      ]
     },
     "execution_count": 8,
     "metadata": {},
     "output_type": "execute_result"
    }
   ],
   "source": [
    "dfdx.diff(theta), dfdth.diff(x)"
   ]
  },
  {
   "cell_type": "code",
   "execution_count": 9,
   "id": "90d9b6fd",
   "metadata": {
    "execution": {
     "iopub.execute_input": "2025-09-11T11:36:57.177671Z",
     "iopub.status.busy": "2025-09-11T11:36:57.177535Z",
     "iopub.status.idle": "2025-09-11T11:36:57.182737Z",
     "shell.execute_reply": "2025-09-11T11:36:57.182371Z"
    }
   },
   "outputs": [
    {
     "data": {
      "text/latex": [
       "$\\displaystyle \\left( - \\sin{\\left(\\theta \\right)}, \\  0\\right)$"
      ],
      "text/plain": [
       "(-sin(θ), 0)"
      ]
     },
     "execution_count": 9,
     "metadata": {},
     "output_type": "execute_result"
    }
   ],
   "source": [
    "dfdy.diff(theta), dfdth.diff(y)"
   ]
  },
  {
   "cell_type": "code",
   "execution_count": 10,
   "id": "84782a1b",
   "metadata": {
    "execution": {
     "iopub.execute_input": "2025-09-11T11:36:57.184016Z",
     "iopub.status.busy": "2025-09-11T11:36:57.183873Z",
     "iopub.status.idle": "2025-09-11T11:36:57.214138Z",
     "shell.execute_reply": "2025-09-11T11:36:57.213759Z"
    }
   },
   "outputs": [],
   "source": [
    "fnx = fhx.diff(t)\n",
    "dfdq1 = fnx.diff(q1)\n",
    "dfdq2 = fnx.diff(q2)\n",
    "dfdq3 = fnx.diff(q3)"
   ]
  },
  {
   "cell_type": "code",
   "execution_count": 11,
   "id": "e08929d2",
   "metadata": {
    "execution": {
     "iopub.execute_input": "2025-09-11T11:36:57.215313Z",
     "iopub.status.busy": "2025-09-11T11:36:57.215153Z",
     "iopub.status.idle": "2025-09-11T11:36:57.240045Z",
     "shell.execute_reply": "2025-09-11T11:36:57.239641Z"
    }
   },
   "outputs": [
    {
     "data": {
      "text/latex": [
       "$\\displaystyle 0$"
      ],
      "text/plain": [
       "0"
      ]
     },
     "execution_count": 11,
     "metadata": {},
     "output_type": "execute_result"
    }
   ],
   "source": [
    "dfdq1.diff(q2) -  dfdq2.diff(q1)"
   ]
  },
  {
   "cell_type": "code",
   "execution_count": 12,
   "id": "bfc8292e",
   "metadata": {
    "execution": {
     "iopub.execute_input": "2025-09-11T11:36:57.241191Z",
     "iopub.status.busy": "2025-09-11T11:36:57.241056Z",
     "iopub.status.idle": "2025-09-11T11:36:57.257173Z",
     "shell.execute_reply": "2025-09-11T11:36:57.256793Z"
    }
   },
   "outputs": [
    {
     "data": {
      "text/latex": [
       "$\\displaystyle 0$"
      ],
      "text/plain": [
       "0"
      ]
     },
     "execution_count": 12,
     "metadata": {},
     "output_type": "execute_result"
    }
   ],
   "source": [
    "dfdq2.diff(q3) - dfdq3.diff(q2)"
   ]
  },
  {
   "cell_type": "code",
   "execution_count": 13,
   "id": "ed5cc584",
   "metadata": {
    "execution": {
     "iopub.execute_input": "2025-09-11T11:36:57.258433Z",
     "iopub.status.busy": "2025-09-11T11:36:57.258293Z",
     "iopub.status.idle": "2025-09-11T11:36:57.273173Z",
     "shell.execute_reply": "2025-09-11T11:36:57.272796Z"
    }
   },
   "outputs": [
    {
     "data": {
      "text/latex": [
       "$\\displaystyle 0$"
      ],
      "text/plain": [
       "0"
      ]
     },
     "execution_count": 13,
     "metadata": {},
     "output_type": "execute_result"
    }
   ],
   "source": [
    "dfdq3.diff(q1) - dfdq1.diff(q3)"
   ]
  },
  {
   "cell_type": "code",
   "execution_count": 14,
   "id": "9197ad6a",
   "metadata": {
    "execution": {
     "iopub.execute_input": "2025-09-11T11:36:57.274454Z",
     "iopub.status.busy": "2025-09-11T11:36:57.274315Z",
     "iopub.status.idle": "2025-09-11T11:36:57.441200Z",
     "shell.execute_reply": "2025-09-11T11:36:57.440766Z"
    }
   },
   "outputs": [
    {
     "data": {
      "text/latex": [
       "$\\displaystyle (- \\sin{\\left(q_{3} \\right)} \\cos{\\left(q_{2} \\right)} \\dot{q}_{1} + \\cos{\\left(q_{3} \\right)} \\dot{q}_{2})\\hat{b}_x + (\\sin{\\left(q_{2} \\right)} \\dot{q}_{1} + \\dot{q}_{3})\\hat{b}_y + (\\sin{\\left(q_{3} \\right)} \\dot{q}_{2} + \\cos{\\left(q_{2} \\right)} \\cos{\\left(q_{3} \\right)} \\dot{q}_{1})\\hat{b}_z$"
      ],
      "text/plain": [
       "(-sin(q₃)⋅cos(q₂)⋅q₁̇ + cos(q₃)⋅q₂̇) b_x + (sin(q₂)⋅q₁̇ + q₃̇) b_y + (sin(q₃)⋅\n",
       "q₂̇ + cos(q₂)⋅cos(q₃)⋅q₁̇) b_z"
      ]
     },
     "execution_count": 14,
     "metadata": {},
     "output_type": "execute_result"
    }
   ],
   "source": [
    "q1, q2, q3 = me.dynamicsymbols('q1, q2, q3')\n",
    "\n",
    "A = me.ReferenceFrame('A')\n",
    "B = me.ReferenceFrame('B')\n",
    "\n",
    "B.orient_body_fixed(A, (q1, q2, q3), 'ZXY')\n",
    "\n",
    "A_w_B = B.ang_vel_in(A).simplify()\n",
    "A_w_B"
   ]
  },
  {
   "cell_type": "code",
   "execution_count": 15,
   "id": "3cf66bb4",
   "metadata": {
    "execution": {
     "iopub.execute_input": "2025-09-11T11:36:57.442686Z",
     "iopub.status.busy": "2025-09-11T11:36:57.442521Z",
     "iopub.status.idle": "2025-09-11T11:36:57.452084Z",
     "shell.execute_reply": "2025-09-11T11:36:57.451606Z"
    }
   },
   "outputs": [
    {
     "data": {
      "text/latex": [
       "$\\displaystyle (- u_{1} \\sin{\\left(q_{3} \\right)} \\cos{\\left(q_{2} \\right)} + u_{2} \\cos{\\left(q_{3} \\right)})\\hat{b}_x + (u_{1} \\sin{\\left(q_{2} \\right)} + u_{3})\\hat{b}_y + (u_{1} \\cos{\\left(q_{2} \\right)} \\cos{\\left(q_{3} \\right)} + u_{2} \\sin{\\left(q_{3} \\right)})\\hat{b}_z$"
      ],
      "text/plain": [
       "(-u₁⋅sin(q₃)⋅cos(q₂) + u₂⋅cos(q₃)) b_x + (u₁⋅sin(q₂) + u₃) b_y + (u₁⋅cos(q₂)⋅c\n",
       "os(q₃) + u₂⋅sin(q₃)) b_z"
      ]
     },
     "execution_count": 15,
     "metadata": {},
     "output_type": "execute_result"
    }
   ],
   "source": [
    "u1, u2, u3 = me.dynamicsymbols('u1, u2, u3')\n",
    "\n",
    "t = me.dynamicsymbols._t\n",
    "qdot = sm.Matrix([q1.diff(t), q2.diff(t), q3.diff(t)])\n",
    "u = sm.Matrix([u1, u2, u3])\n",
    "\n",
    "A_w_B = A_w_B.xreplace(dict(zip(qdot, u)))\n",
    "A_w_B"
   ]
  },
  {
   "cell_type": "code",
   "execution_count": 16,
   "id": "d95b250c",
   "metadata": {
    "execution": {
     "iopub.execute_input": "2025-09-11T11:36:57.453313Z",
     "iopub.status.busy": "2025-09-11T11:36:57.453146Z",
     "iopub.status.idle": "2025-09-11T11:36:57.457673Z",
     "shell.execute_reply": "2025-09-11T11:36:57.457156Z"
    }
   },
   "outputs": [
    {
     "data": {
      "text/latex": [
       "$\\displaystyle \\left[\\begin{matrix}\\dot{q}_{1}\\\\\\dot{q}_{2}\\\\\\dot{q}_{3}\\end{matrix}\\right]$"
      ],
      "text/plain": [
       "⎡q₁̇⎤\n",
       "⎢  ⎥\n",
       "⎢q₂̇⎥\n",
       "⎢  ⎥\n",
       "⎣q₃̇⎦"
      ]
     },
     "execution_count": 16,
     "metadata": {},
     "output_type": "execute_result"
    }
   ],
   "source": [
    "Yk_plus_zk = qdot\n",
    "Yk_plus_zk"
   ]
  },
  {
   "cell_type": "code",
   "execution_count": 17,
   "id": "4f9fe844",
   "metadata": {
    "execution": {
     "iopub.execute_input": "2025-09-11T11:36:57.459023Z",
     "iopub.status.busy": "2025-09-11T11:36:57.458874Z",
     "iopub.status.idle": "2025-09-11T11:36:57.469708Z",
     "shell.execute_reply": "2025-09-11T11:36:57.469217Z"
    }
   },
   "outputs": [
    {
     "data": {
      "text/latex": [
       "$\\displaystyle \\left[\\begin{matrix}1 & 0 & 0\\\\0 & 1 & 0\\\\0 & 0 & 1\\end{matrix}\\right]$"
      ],
      "text/plain": [
       "⎡1  0  0⎤\n",
       "⎢       ⎥\n",
       "⎢0  1  0⎥\n",
       "⎢       ⎥\n",
       "⎣0  0  1⎦"
      ]
     },
     "execution_count": 17,
     "metadata": {},
     "output_type": "execute_result"
    }
   ],
   "source": [
    "Yk = Yk_plus_zk.jacobian(qdot)\n",
    "Yk"
   ]
  },
  {
   "cell_type": "code",
   "execution_count": 18,
   "id": "d1fa464e",
   "metadata": {
    "execution": {
     "iopub.execute_input": "2025-09-11T11:36:57.470945Z",
     "iopub.status.busy": "2025-09-11T11:36:57.470791Z",
     "iopub.status.idle": "2025-09-11T11:36:57.475105Z",
     "shell.execute_reply": "2025-09-11T11:36:57.474640Z"
    }
   },
   "outputs": [
    {
     "data": {
      "text/latex": [
       "$\\displaystyle \\left\\{ \\dot{q}_{1} : 0, \\  \\dot{q}_{2} : 0, \\  \\dot{q}_{3} : 0\\right\\}$"
      ],
      "text/plain": [
       "{q₁̇: 0, q₂̇: 0, q₃̇: 0}"
      ]
     },
     "execution_count": 18,
     "metadata": {},
     "output_type": "execute_result"
    }
   ],
   "source": [
    "qd_zero_repl = dict(zip(qdot, sm.zeros(3, 1)))\n",
    "qd_zero_repl"
   ]
  },
  {
   "cell_type": "code",
   "execution_count": 19,
   "id": "1b7597ae",
   "metadata": {
    "execution": {
     "iopub.execute_input": "2025-09-11T11:36:57.476348Z",
     "iopub.status.busy": "2025-09-11T11:36:57.476184Z",
     "iopub.status.idle": "2025-09-11T11:36:57.479757Z",
     "shell.execute_reply": "2025-09-11T11:36:57.479293Z"
    }
   },
   "outputs": [
    {
     "data": {
      "text/latex": [
       "$\\displaystyle \\left[\\begin{matrix}0\\\\0\\\\0\\end{matrix}\\right]$"
      ],
      "text/plain": [
       "⎡0⎤\n",
       "⎢ ⎥\n",
       "⎢0⎥\n",
       "⎢ ⎥\n",
       "⎣0⎦"
      ]
     },
     "execution_count": 19,
     "metadata": {},
     "output_type": "execute_result"
    }
   ],
   "source": [
    "zk = Yk_plus_zk.xreplace(qd_zero_repl)\n",
    "zk"
   ]
  },
  {
   "cell_type": "code",
   "execution_count": 20,
   "id": "af934508",
   "metadata": {
    "execution": {
     "iopub.execute_input": "2025-09-11T11:36:57.481150Z",
     "iopub.status.busy": "2025-09-11T11:36:57.480980Z",
     "iopub.status.idle": "2025-09-11T11:36:57.496339Z",
     "shell.execute_reply": "2025-09-11T11:36:57.495855Z"
    }
   },
   "outputs": [
    {
     "data": {
      "text/latex": [
       "$\\displaystyle \\left[\\begin{matrix}\\dot{q}_{1}\\\\\\dot{q}_{2}\\\\\\dot{q}_{3}\\end{matrix}\\right] = \\left[\\begin{matrix}u_{1}\\\\u_{2}\\\\u_{3}\\end{matrix}\\right]$"
      ],
      "text/plain": [
       "⎡q₁̇⎤   ⎡u₁⎤\n",
       "⎢  ⎥   ⎢  ⎥\n",
       "⎢q₂̇⎥ = ⎢u₂⎥\n",
       "⎢  ⎥   ⎢  ⎥\n",
       "⎣q₃̇⎦   ⎣u₃⎦"
      ]
     },
     "execution_count": 20,
     "metadata": {},
     "output_type": "execute_result"
    }
   ],
   "source": [
    "sm.Eq(qdot, Yk.LUsolve(u - zk))"
   ]
  },
  {
   "cell_type": "code",
   "execution_count": 21,
   "id": "c82b3510",
   "metadata": {
    "execution": {
     "iopub.execute_input": "2025-09-11T11:36:57.497560Z",
     "iopub.status.busy": "2025-09-11T11:36:57.497418Z",
     "iopub.status.idle": "2025-09-11T11:36:57.614177Z",
     "shell.execute_reply": "2025-09-11T11:36:57.613664Z"
    }
   },
   "outputs": [
    {
     "data": {
      "text/latex": [
       "$\\displaystyle (- \\sin{\\left(q_{3} \\right)} \\cos{\\left(q_{2} \\right)} \\dot{q}_{1} + \\cos{\\left(q_{3} \\right)} \\dot{q}_{2})\\hat{b}_x + (\\sin{\\left(q_{2} \\right)} \\dot{q}_{1} + \\dot{q}_{3})\\hat{b}_y + (\\sin{\\left(q_{3} \\right)} \\dot{q}_{2} + \\cos{\\left(q_{2} \\right)} \\cos{\\left(q_{3} \\right)} \\dot{q}_{1})\\hat{b}_z$"
      ],
      "text/plain": [
       "(-sin(q₃)⋅cos(q₂)⋅q₁̇ + cos(q₃)⋅q₂̇) b_x + (sin(q₂)⋅q₁̇ + q₃̇) b_y + (sin(q₃)⋅\n",
       "q₂̇ + cos(q₂)⋅cos(q₃)⋅q₁̇) b_z"
      ]
     },
     "execution_count": 21,
     "metadata": {},
     "output_type": "execute_result"
    }
   ],
   "source": [
    "A_w_B = B.ang_vel_in(A).simplify()\n",
    "A_w_B"
   ]
  },
  {
   "cell_type": "code",
   "execution_count": 22,
   "id": "a98c989e",
   "metadata": {
    "execution": {
     "iopub.execute_input": "2025-09-11T11:36:57.615568Z",
     "iopub.status.busy": "2025-09-11T11:36:57.615416Z",
     "iopub.status.idle": "2025-09-11T11:36:57.627138Z",
     "shell.execute_reply": "2025-09-11T11:36:57.626654Z"
    }
   },
   "outputs": [
    {
     "data": {
      "text/latex": [
       "$\\displaystyle \\left[\\begin{matrix}- \\sin{\\left(q_{3} \\right)} \\cos{\\left(q_{2} \\right)} \\dot{q}_{1} + \\cos{\\left(q_{3} \\right)} \\dot{q}_{2}\\\\\\sin{\\left(q_{2} \\right)} \\dot{q}_{1} + \\dot{q}_{3}\\\\\\sin{\\left(q_{3} \\right)} \\dot{q}_{2} + \\cos{\\left(q_{2} \\right)} \\cos{\\left(q_{3} \\right)} \\dot{q}_{1}\\end{matrix}\\right]$"
      ],
      "text/plain": [
       "⎡-sin(q₃)⋅cos(q₂)⋅q₁̇ + cos(q₃)⋅q₂̇⎤\n",
       "⎢                                ⎥\n",
       "⎢        sin(q₂)⋅q₁̇ + q₃̇         ⎥\n",
       "⎢                                ⎥\n",
       "⎣sin(q₃)⋅q₂̇ + cos(q₂)⋅cos(q₃)⋅q₁̇ ⎦"
      ]
     },
     "execution_count": 22,
     "metadata": {},
     "output_type": "execute_result"
    }
   ],
   "source": [
    "u1_expr = A_w_B.dot(B.x)\n",
    "u2_expr = A_w_B.dot(B.y)\n",
    "u3_expr = A_w_B.dot(B.z)\n",
    "\n",
    "Yk_plus_zk = sm.Matrix([u1_expr, u2_expr, u3_expr])\n",
    "Yk_plus_zk"
   ]
  },
  {
   "cell_type": "code",
   "execution_count": 23,
   "id": "a28f1e84",
   "metadata": {
    "execution": {
     "iopub.execute_input": "2025-09-11T11:36:57.628390Z",
     "iopub.status.busy": "2025-09-11T11:36:57.628226Z",
     "iopub.status.idle": "2025-09-11T11:36:57.640154Z",
     "shell.execute_reply": "2025-09-11T11:36:57.639687Z"
    }
   },
   "outputs": [
    {
     "data": {
      "text/latex": [
       "$\\displaystyle \\left[\\begin{matrix}- \\sin{\\left(q_{3} \\right)} \\cos{\\left(q_{2} \\right)} & \\cos{\\left(q_{3} \\right)} & 0\\\\\\sin{\\left(q_{2} \\right)} & 0 & 1\\\\\\cos{\\left(q_{2} \\right)} \\cos{\\left(q_{3} \\right)} & \\sin{\\left(q_{3} \\right)} & 0\\end{matrix}\\right]$"
      ],
      "text/plain": [
       "⎡-sin(q₃)⋅cos(q₂)  cos(q₃)  0⎤\n",
       "⎢                            ⎥\n",
       "⎢    sin(q₂)          0     1⎥\n",
       "⎢                            ⎥\n",
       "⎣cos(q₂)⋅cos(q₃)   sin(q₃)  0⎦"
      ]
     },
     "execution_count": 23,
     "metadata": {},
     "output_type": "execute_result"
    }
   ],
   "source": [
    "Yk = Yk_plus_zk.jacobian(qdot)\n",
    "Yk"
   ]
  },
  {
   "cell_type": "code",
   "execution_count": 24,
   "id": "e6a043cd",
   "metadata": {
    "execution": {
     "iopub.execute_input": "2025-09-11T11:36:57.641555Z",
     "iopub.status.busy": "2025-09-11T11:36:57.641403Z",
     "iopub.status.idle": "2025-09-11T11:36:57.645160Z",
     "shell.execute_reply": "2025-09-11T11:36:57.644699Z"
    }
   },
   "outputs": [
    {
     "data": {
      "text/latex": [
       "$\\displaystyle \\left[\\begin{matrix}0\\\\0\\\\0\\end{matrix}\\right]$"
      ],
      "text/plain": [
       "⎡0⎤\n",
       "⎢ ⎥\n",
       "⎢0⎥\n",
       "⎢ ⎥\n",
       "⎣0⎦"
      ]
     },
     "execution_count": 24,
     "metadata": {},
     "output_type": "execute_result"
    }
   ],
   "source": [
    "zk = Yk_plus_zk.xreplace(qd_zero_repl)\n",
    "zk"
   ]
  },
  {
   "cell_type": "code",
   "execution_count": 25,
   "id": "2b768924",
   "metadata": {
    "execution": {
     "iopub.execute_input": "2025-09-11T11:36:57.646501Z",
     "iopub.status.busy": "2025-09-11T11:36:57.646352Z",
     "iopub.status.idle": "2025-09-11T11:36:59.038690Z",
     "shell.execute_reply": "2025-09-11T11:36:59.038149Z"
    }
   },
   "outputs": [
    {
     "data": {
      "text/latex": [
       "$\\displaystyle \\left[\\begin{matrix}\\dot{q}_{1}\\\\\\dot{q}_{2}\\\\\\dot{q}_{3}\\end{matrix}\\right] = \\left[\\begin{matrix}- \\frac{u_{1} \\sin{\\left(q_{3} \\right)} - u_{3} \\cos{\\left(q_{3} \\right)}}{\\cos{\\left(q_{2} \\right)}}\\\\\\frac{u_{1} \\cos{\\left(2 q_{3} \\right)} + u_{1} + u_{3} \\sin{\\left(2 q_{3} \\right)}}{2 \\cos{\\left(q_{3} \\right)}}\\\\u_{1} \\sin{\\left(q_{3} \\right)} \\tan{\\left(q_{2} \\right)} + u_{2} - u_{3} \\cos{\\left(q_{3} \\right)} \\tan{\\left(q_{2} \\right)}\\end{matrix}\\right]$"
      ],
      "text/plain": [
       "       ⎡        -(u₁⋅sin(q₃) - u₃⋅cos(q₃))          ⎤\n",
       "       ⎢        ───────────────────────────         ⎥\n",
       "⎡q₁̇⎤   ⎢                  cos(q₂)                   ⎥\n",
       "⎢  ⎥   ⎢                                            ⎥\n",
       "⎢q₂̇⎥ = ⎢      u₁⋅cos(2⋅q₃) + u₁ + u₃⋅sin(2⋅q₃)      ⎥\n",
       "⎢  ⎥   ⎢      ────────────────────────────────      ⎥\n",
       "⎣q₃̇⎦   ⎢                 2⋅cos(q₃)                  ⎥\n",
       "       ⎢                                            ⎥\n",
       "       ⎣u₁⋅sin(q₃)⋅tan(q₂) + u₂ - u₃⋅cos(q₃)⋅tan(q₂)⎦"
      ]
     },
     "execution_count": 25,
     "metadata": {},
     "output_type": "execute_result"
    }
   ],
   "source": [
    "sm.Eq(qdot, sm.trigsimp(Yk.LUsolve(u - zk)))"
   ]
  },
  {
   "cell_type": "code",
   "execution_count": 26,
   "id": "4a5b8b2e",
   "metadata": {
    "execution": {
     "iopub.execute_input": "2025-09-11T11:36:59.040130Z",
     "iopub.status.busy": "2025-09-11T11:36:59.039979Z",
     "iopub.status.idle": "2025-09-11T11:37:00.052588Z",
     "shell.execute_reply": "2025-09-11T11:37:00.052022Z"
    }
   },
   "outputs": [
    {
     "data": {
      "text/latex": [
       "$\\displaystyle (- \\sin{\\left(q_{1} \\right)} \\cos{\\left(q_{2} \\right)} \\dot{q}_{3} + \\cos{\\left(q_{1} \\right)} \\dot{q}_{2})\\hat{a}_x + (\\sin{\\left(q_{1} \\right)} \\dot{q}_{2} + \\cos{\\left(q_{1} \\right)} \\cos{\\left(q_{2} \\right)} \\dot{q}_{3})\\hat{a}_y + (\\sin{\\left(q_{2} \\right)} \\dot{q}_{3} + \\dot{q}_{1})\\hat{a}_z$"
      ],
      "text/plain": [
       "(-sin(q₁)⋅cos(q₂)⋅q₃̇ + cos(q₁)⋅q₂̇) a_x + (sin(q₁)⋅q₂̇ + cos(q₁)⋅cos(q₂)⋅q₃̇)\n",
       " a_y + (sin(q₂)⋅q₃̇ + q₁̇) a_z"
      ]
     },
     "execution_count": 26,
     "metadata": {},
     "output_type": "execute_result"
    }
   ],
   "source": [
    "A_w_B = B.ang_vel_in(A).express(A).simplify()\n",
    "A_w_B"
   ]
  },
  {
   "cell_type": "code",
   "execution_count": 27,
   "id": "9f414105",
   "metadata": {
    "execution": {
     "iopub.execute_input": "2025-09-11T11:37:00.054004Z",
     "iopub.status.busy": "2025-09-11T11:37:00.053842Z",
     "iopub.status.idle": "2025-09-11T11:37:00.065868Z",
     "shell.execute_reply": "2025-09-11T11:37:00.065383Z"
    }
   },
   "outputs": [
    {
     "data": {
      "text/latex": [
       "$\\displaystyle \\left[\\begin{matrix}- \\sin{\\left(q_{1} \\right)} \\cos{\\left(q_{2} \\right)} \\dot{q}_{3} + \\cos{\\left(q_{1} \\right)} \\dot{q}_{2}\\\\\\sin{\\left(q_{1} \\right)} \\dot{q}_{2} + \\cos{\\left(q_{1} \\right)} \\cos{\\left(q_{2} \\right)} \\dot{q}_{3}\\\\\\sin{\\left(q_{2} \\right)} \\dot{q}_{3} + \\dot{q}_{1}\\end{matrix}\\right]$"
      ],
      "text/plain": [
       "⎡-sin(q₁)⋅cos(q₂)⋅q₃̇ + cos(q₁)⋅q₂̇⎤\n",
       "⎢                                ⎥\n",
       "⎢sin(q₁)⋅q₂̇ + cos(q₁)⋅cos(q₂)⋅q₃̇ ⎥\n",
       "⎢                                ⎥\n",
       "⎣        sin(q₂)⋅q₃̇ + q₁̇         ⎦"
      ]
     },
     "execution_count": 27,
     "metadata": {},
     "output_type": "execute_result"
    }
   ],
   "source": [
    "u1_expr = A_w_B.dot(A.x)\n",
    "u2_expr = A_w_B.dot(A.y)\n",
    "u3_expr = A_w_B.dot(A.z)\n",
    "\n",
    "Yk_plus_zk = sm.Matrix([u1_expr, u2_expr, u3_expr])\n",
    "Yk_plus_zk"
   ]
  },
  {
   "cell_type": "code",
   "execution_count": 28,
   "id": "ded1c06f",
   "metadata": {
    "execution": {
     "iopub.execute_input": "2025-09-11T11:37:00.067133Z",
     "iopub.status.busy": "2025-09-11T11:37:00.066983Z",
     "iopub.status.idle": "2025-09-11T11:37:00.079252Z",
     "shell.execute_reply": "2025-09-11T11:37:00.078828Z"
    }
   },
   "outputs": [
    {
     "data": {
      "text/latex": [
       "$\\displaystyle \\left[\\begin{matrix}0 & \\cos{\\left(q_{1} \\right)} & - \\sin{\\left(q_{1} \\right)} \\cos{\\left(q_{2} \\right)}\\\\0 & \\sin{\\left(q_{1} \\right)} & \\cos{\\left(q_{1} \\right)} \\cos{\\left(q_{2} \\right)}\\\\1 & 0 & \\sin{\\left(q_{2} \\right)}\\end{matrix}\\right]$"
      ],
      "text/plain": [
       "⎡0  cos(q₁)  -sin(q₁)⋅cos(q₂)⎤\n",
       "⎢                            ⎥\n",
       "⎢0  sin(q₁)  cos(q₁)⋅cos(q₂) ⎥\n",
       "⎢                            ⎥\n",
       "⎣1     0         sin(q₂)     ⎦"
      ]
     },
     "execution_count": 28,
     "metadata": {},
     "output_type": "execute_result"
    }
   ],
   "source": [
    "Yk = Yk_plus_zk.jacobian(qdot)\n",
    "Yk"
   ]
  },
  {
   "cell_type": "code",
   "execution_count": 29,
   "id": "9884a25c",
   "metadata": {
    "execution": {
     "iopub.execute_input": "2025-09-11T11:37:00.080517Z",
     "iopub.status.busy": "2025-09-11T11:37:00.080383Z",
     "iopub.status.idle": "2025-09-11T11:37:00.084087Z",
     "shell.execute_reply": "2025-09-11T11:37:00.083707Z"
    }
   },
   "outputs": [
    {
     "data": {
      "text/latex": [
       "$\\displaystyle \\left[\\begin{matrix}0\\\\0\\\\0\\end{matrix}\\right]$"
      ],
      "text/plain": [
       "⎡0⎤\n",
       "⎢ ⎥\n",
       "⎢0⎥\n",
       "⎢ ⎥\n",
       "⎣0⎦"
      ]
     },
     "execution_count": 29,
     "metadata": {},
     "output_type": "execute_result"
    }
   ],
   "source": [
    "zk = Yk_plus_zk.xreplace(qd_zero_repl)\n",
    "zk"
   ]
  },
  {
   "cell_type": "code",
   "execution_count": 30,
   "id": "dddffce4",
   "metadata": {
    "execution": {
     "iopub.execute_input": "2025-09-11T11:37:00.085339Z",
     "iopub.status.busy": "2025-09-11T11:37:00.085173Z",
     "iopub.status.idle": "2025-09-11T11:37:00.434189Z",
     "shell.execute_reply": "2025-09-11T11:37:00.433659Z"
    }
   },
   "outputs": [
    {
     "data": {
      "text/latex": [
       "$\\displaystyle \\left[\\begin{matrix}\\dot{q}_{1}\\\\\\dot{q}_{2}\\\\\\dot{q}_{3}\\end{matrix}\\right] = \\left[\\begin{matrix}\\left(u_{1} \\sin{\\left(q_{1} \\right)} - u_{2} \\cos{\\left(q_{1} \\right)}\\right) \\tan{\\left(q_{2} \\right)} + u_{3}\\\\u_{1} \\cos{\\left(q_{1} \\right)} + u_{2} \\sin{\\left(q_{1} \\right)}\\\\- \\frac{u_{1} \\sin{\\left(q_{1} \\right)} - u_{2} \\cos{\\left(q_{1} \\right)}}{\\cos{\\left(q_{2} \\right)}}\\end{matrix}\\right]$"
      ],
      "text/plain": [
       "       ⎡(u₁⋅sin(q₁) - u₂⋅cos(q₁))⋅tan(q₂) + u₃⎤\n",
       "⎡q₁̇⎤   ⎢                                      ⎥\n",
       "⎢  ⎥   ⎢       u₁⋅cos(q₁) + u₂⋅sin(q₁)        ⎥\n",
       "⎢q₂̇⎥ = ⎢                                      ⎥\n",
       "⎢  ⎥   ⎢     -(u₁⋅sin(q₁) - u₂⋅cos(q₁))       ⎥\n",
       "⎣q₃̇⎦   ⎢     ───────────────────────────      ⎥\n",
       "       ⎣               cos(q₂)                ⎦"
      ]
     },
     "execution_count": 30,
     "metadata": {},
     "output_type": "execute_result"
    }
   ],
   "source": [
    "sm.Eq(qdot, sm.trigsimp(Yk.LUsolve(u - zk)))"
   ]
  },
  {
   "cell_type": "code",
   "execution_count": 31,
   "id": "bb8fbcb4",
   "metadata": {
    "execution": {
     "iopub.execute_input": "2025-09-11T11:37:00.435627Z",
     "iopub.status.busy": "2025-09-11T11:37:00.435484Z",
     "iopub.status.idle": "2025-09-11T11:37:00.438148Z",
     "shell.execute_reply": "2025-09-11T11:37:00.437769Z"
    }
   },
   "outputs": [],
   "source": [
    "q1, q2, q3, q4, q5 = me.dynamicsymbols('q1, q2, q3, q4, q5')\n",
    "l = sm.symbols('l')"
   ]
  },
  {
   "cell_type": "code",
   "execution_count": 32,
   "id": "d213ae62",
   "metadata": {
    "execution": {
     "iopub.execute_input": "2025-09-11T11:37:00.439358Z",
     "iopub.status.busy": "2025-09-11T11:37:00.439204Z",
     "iopub.status.idle": "2025-09-11T11:37:00.449822Z",
     "shell.execute_reply": "2025-09-11T11:37:00.449425Z"
    }
   },
   "outputs": [],
   "source": [
    "N = me.ReferenceFrame('N')\n",
    "A = me.ReferenceFrame('A')\n",
    "B = me.ReferenceFrame('B')\n",
    "C = me.ReferenceFrame('C')\n",
    "\n",
    "A.orient_axis(N, q3, N.z)\n",
    "B.orient_axis(A, q4, A.z)\n",
    "C.orient_axis(A, q5, A.z)"
   ]
  },
  {
   "cell_type": "code",
   "execution_count": 33,
   "id": "49743742",
   "metadata": {
    "execution": {
     "iopub.execute_input": "2025-09-11T11:37:00.451085Z",
     "iopub.status.busy": "2025-09-11T11:37:00.450936Z",
     "iopub.status.idle": "2025-09-11T11:37:00.454716Z",
     "shell.execute_reply": "2025-09-11T11:37:00.454328Z"
    }
   },
   "outputs": [
    {
     "data": {
      "text/latex": [
       "$\\displaystyle \\dot{q}_{3}\\hat{n}_z$"
      ],
      "text/plain": [
       "q₃̇ n_z"
      ]
     },
     "execution_count": 33,
     "metadata": {},
     "output_type": "execute_result"
    }
   ],
   "source": [
    "A.ang_vel_in(N)"
   ]
  },
  {
   "cell_type": "code",
   "execution_count": 34,
   "id": "7a683ff5",
   "metadata": {
    "execution": {
     "iopub.execute_input": "2025-09-11T11:37:00.455903Z",
     "iopub.status.busy": "2025-09-11T11:37:00.455759Z",
     "iopub.status.idle": "2025-09-11T11:37:00.459994Z",
     "shell.execute_reply": "2025-09-11T11:37:00.459517Z"
    }
   },
   "outputs": [
    {
     "data": {
      "text/latex": [
       "$\\displaystyle \\dot{q}_{4}\\hat{a}_z + \\dot{q}_{3}\\hat{n}_z$"
      ],
      "text/plain": [
       "q₄̇ a_z + q₃̇ n_z"
      ]
     },
     "execution_count": 34,
     "metadata": {},
     "output_type": "execute_result"
    }
   ],
   "source": [
    "B.ang_vel_in(N)"
   ]
  },
  {
   "cell_type": "code",
   "execution_count": 35,
   "id": "72e38b43",
   "metadata": {
    "execution": {
     "iopub.execute_input": "2025-09-11T11:37:00.461206Z",
     "iopub.status.busy": "2025-09-11T11:37:00.461063Z",
     "iopub.status.idle": "2025-09-11T11:37:00.465144Z",
     "shell.execute_reply": "2025-09-11T11:37:00.464669Z"
    }
   },
   "outputs": [
    {
     "data": {
      "text/latex": [
       "$\\displaystyle \\dot{q}_{5}\\hat{a}_z + \\dot{q}_{3}\\hat{n}_z$"
      ],
      "text/plain": [
       "q₅̇ a_z + q₃̇ n_z"
      ]
     },
     "execution_count": 35,
     "metadata": {},
     "output_type": "execute_result"
    }
   ],
   "source": [
    "C.ang_vel_in(N)"
   ]
  },
  {
   "cell_type": "code",
   "execution_count": 36,
   "id": "c47f770a",
   "metadata": {
    "execution": {
     "iopub.execute_input": "2025-09-11T11:37:00.466486Z",
     "iopub.status.busy": "2025-09-11T11:37:00.466339Z",
     "iopub.status.idle": "2025-09-11T11:37:00.470666Z",
     "shell.execute_reply": "2025-09-11T11:37:00.470152Z"
    }
   },
   "outputs": [],
   "source": [
    "O = me.Point('O')\n",
    "Ao = me.Point('A_o')\n",
    "Bo = me.Point('B_o')\n",
    "Co = me.Point('C_o')\n",
    "\n",
    "Ao.set_pos(O, q1*N.x + q2*N.y)\n",
    "Bo.set_pos(Ao, l/2*A.x)\n",
    "Co.set_pos(Ao, -l/2*A.x)"
   ]
  },
  {
   "cell_type": "code",
   "execution_count": 37,
   "id": "721dfe5e",
   "metadata": {
    "execution": {
     "iopub.execute_input": "2025-09-11T11:37:00.472001Z",
     "iopub.status.busy": "2025-09-11T11:37:00.471851Z",
     "iopub.status.idle": "2025-09-11T11:37:00.477882Z",
     "shell.execute_reply": "2025-09-11T11:37:00.477418Z"
    }
   },
   "outputs": [
    {
     "data": {
      "text/latex": [
       "$\\displaystyle \\dot{q}_{1}\\hat{n}_x + \\dot{q}_{2}\\hat{n}_y$"
      ],
      "text/plain": [
       "q₁̇ n_x + q₂̇ n_y"
      ]
     },
     "execution_count": 37,
     "metadata": {},
     "output_type": "execute_result"
    }
   ],
   "source": [
    "O.set_vel(N, 0)\n",
    "Ao.vel(N)"
   ]
  },
  {
   "cell_type": "code",
   "execution_count": 38,
   "id": "b0815e65",
   "metadata": {
    "execution": {
     "iopub.execute_input": "2025-09-11T11:37:00.479219Z",
     "iopub.status.busy": "2025-09-11T11:37:00.479070Z",
     "iopub.status.idle": "2025-09-11T11:37:00.485721Z",
     "shell.execute_reply": "2025-09-11T11:37:00.485185Z"
    }
   },
   "outputs": [
    {
     "data": {
      "text/latex": [
       "$\\displaystyle \\dot{q}_{1}\\hat{n}_x + \\dot{q}_{2}\\hat{n}_y + \\frac{l \\dot{q}_{3}}{2}\\hat{a}_y$"
      ],
      "text/plain": [
       "                  l⋅q₃̇\n",
       "q₁̇ n_x + q₂̇ n_y + ──── a_y\n",
       "                   2"
      ]
     },
     "execution_count": 38,
     "metadata": {},
     "output_type": "execute_result"
    }
   ],
   "source": [
    "Bo.v2pt_theory(Ao, N, A)"
   ]
  },
  {
   "cell_type": "code",
   "execution_count": 39,
   "id": "a5003e3b",
   "metadata": {
    "execution": {
     "iopub.execute_input": "2025-09-11T11:37:00.486951Z",
     "iopub.status.busy": "2025-09-11T11:37:00.486817Z",
     "iopub.status.idle": "2025-09-11T11:37:00.493316Z",
     "shell.execute_reply": "2025-09-11T11:37:00.492756Z"
    }
   },
   "outputs": [
    {
     "data": {
      "text/latex": [
       "$\\displaystyle \\dot{q}_{1}\\hat{n}_x + \\dot{q}_{2}\\hat{n}_y -  \\frac{l \\dot{q}_{3}}{2}\\hat{a}_y$"
      ],
      "text/plain": [
       "                  -l⋅q₃̇\n",
       "q₁̇ n_x + q₂̇ n_y + ────── a_y\n",
       "                    2"
      ]
     },
     "execution_count": 39,
     "metadata": {},
     "output_type": "execute_result"
    }
   ],
   "source": [
    "Co.v2pt_theory(Ao, N, A)"
   ]
  },
  {
   "cell_type": "code",
   "execution_count": 40,
   "id": "e29477d5",
   "metadata": {
    "execution": {
     "iopub.execute_input": "2025-09-11T11:37:00.494627Z",
     "iopub.status.busy": "2025-09-11T11:37:00.494488Z",
     "iopub.status.idle": "2025-09-11T11:37:00.816863Z",
     "shell.execute_reply": "2025-09-11T11:37:00.816436Z"
    }
   },
   "outputs": [
    {
     "data": {
      "text/latex": [
       "$\\displaystyle \\left[\\begin{matrix}\\frac{l \\cos{\\left(q_{4} \\right)} \\dot{q}_{3}}{2} - \\sin{\\left(q_{3} + q_{4} \\right)} \\dot{q}_{1} + \\cos{\\left(q_{3} + q_{4} \\right)} \\dot{q}_{2}\\\\- \\frac{l \\cos{\\left(q_{5} \\right)} \\dot{q}_{3}}{2} - \\sin{\\left(q_{3} + q_{5} \\right)} \\dot{q}_{1} + \\cos{\\left(q_{3} + q_{5} \\right)} \\dot{q}_{2}\\end{matrix}\\right]$"
      ],
      "text/plain": [
       "⎡ l⋅cos(q₄)⋅q₃̇                                     ⎤\n",
       "⎢ ──────────── - sin(q₃ + q₄)⋅q₁̇ + cos(q₃ + q₄)⋅q₂̇ ⎥\n",
       "⎢      2                                           ⎥\n",
       "⎢                                                  ⎥\n",
       "⎢  l⋅cos(q₅)⋅q₃̇                                    ⎥\n",
       "⎢- ──────────── - sin(q₃ + q₅)⋅q₁̇ + cos(q₃ + q₅)⋅q₂̇⎥\n",
       "⎣       2                                          ⎦"
      ]
     },
     "execution_count": 40,
     "metadata": {},
     "output_type": "execute_result"
    }
   ],
   "source": [
    "fn = sm.Matrix([Bo.vel(N).dot(B.y),\n",
    "                Co.vel(N).dot(C.y)])\n",
    "fn = sm.trigsimp(fn)\n",
    "fn"
   ]
  },
  {
   "cell_type": "code",
   "execution_count": 41,
   "id": "3ec98dce",
   "metadata": {
    "execution": {
     "iopub.execute_input": "2025-09-11T11:37:00.818259Z",
     "iopub.status.busy": "2025-09-11T11:37:00.818094Z",
     "iopub.status.idle": "2025-09-11T11:37:00.835823Z",
     "shell.execute_reply": "2025-09-11T11:37:00.835332Z"
    }
   },
   "outputs": [
    {
     "data": {
      "text/latex": [
       "$\\displaystyle \\left[\\begin{matrix}- u_{1} \\sin{\\left(q_{3} + q_{4} \\right)} + u_{2} \\cos{\\left(q_{3} + q_{4} \\right)} + u_{3} \\cos{\\left(q_{4} \\right)}\\\\- u_{1} \\sin{\\left(q_{3} + q_{5} \\right)} + u_{2} \\cos{\\left(q_{3} + q_{5} \\right)} - u_{3} \\cos{\\left(q_{5} \\right)}\\end{matrix}\\right]$"
      ],
      "text/plain": [
       "⎡-u₁⋅sin(q₃ + q₄) + u₂⋅cos(q₃ + q₄) + u₃⋅cos(q₄)⎤\n",
       "⎢                                               ⎥\n",
       "⎣-u₁⋅sin(q₃ + q₅) + u₂⋅cos(q₃ + q₅) - u₃⋅cos(q₅)⎦"
      ]
     },
     "execution_count": 41,
     "metadata": {},
     "output_type": "execute_result"
    }
   ],
   "source": [
    "u1, u2, u3, u4, u5 = me.dynamicsymbols('u1, u2, u3, u4, u5')\n",
    "\n",
    "u_repl = {\n",
    "    q1.diff(): u1,\n",
    "    q2.diff(): u2,\n",
    "    l*q3.diff()/2: u3,\n",
    "    q4.diff(): u4,\n",
    "    q5.diff(): u5\n",
    "}\n",
    "\n",
    "fn = fn.subs(u_repl)\n",
    "fn"
   ]
  },
  {
   "cell_type": "code",
   "execution_count": 42,
   "id": "c1cd6f03",
   "metadata": {
    "execution": {
     "iopub.execute_input": "2025-09-11T11:37:00.837137Z",
     "iopub.status.busy": "2025-09-11T11:37:00.836988Z",
     "iopub.status.idle": "2025-09-11T11:37:00.839536Z",
     "shell.execute_reply": "2025-09-11T11:37:00.839033Z"
    }
   },
   "outputs": [],
   "source": [
    "us = sm.Matrix([u3, u4, u5])\n",
    "ur = sm.Matrix([u1, u2])"
   ]
  },
  {
   "cell_type": "code",
   "execution_count": 43,
   "id": "82ef4ca9",
   "metadata": {
    "execution": {
     "iopub.execute_input": "2025-09-11T11:37:00.840847Z",
     "iopub.status.busy": "2025-09-11T11:37:00.840701Z",
     "iopub.status.idle": "2025-09-11T11:37:00.850935Z",
     "shell.execute_reply": "2025-09-11T11:37:00.850556Z"
    }
   },
   "outputs": [
    {
     "data": {
      "text/latex": [
       "$\\displaystyle \\left[\\begin{matrix}- \\sin{\\left(q_{3} + q_{4} \\right)} & \\cos{\\left(q_{3} + q_{4} \\right)}\\\\- \\sin{\\left(q_{3} + q_{5} \\right)} & \\cos{\\left(q_{3} + q_{5} \\right)}\\end{matrix}\\right]$"
      ],
      "text/plain": [
       "⎡-sin(q₃ + q₄)  cos(q₃ + q₄)⎤\n",
       "⎢                           ⎥\n",
       "⎣-sin(q₃ + q₅)  cos(q₃ + q₅)⎦"
      ]
     },
     "execution_count": 43,
     "metadata": {},
     "output_type": "execute_result"
    }
   ],
   "source": [
    "Ar = fn.jacobian(ur)\n",
    "Ar"
   ]
  },
  {
   "cell_type": "code",
   "execution_count": 44,
   "id": "f3ab9cfe",
   "metadata": {
    "execution": {
     "iopub.execute_input": "2025-09-11T11:37:00.852172Z",
     "iopub.status.busy": "2025-09-11T11:37:00.852025Z",
     "iopub.status.idle": "2025-09-11T11:37:00.859035Z",
     "shell.execute_reply": "2025-09-11T11:37:00.858635Z"
    }
   },
   "outputs": [
    {
     "data": {
      "text/latex": [
       "$\\displaystyle \\left[\\begin{matrix}\\cos{\\left(q_{4} \\right)} & 0 & 0\\\\- \\cos{\\left(q_{5} \\right)} & 0 & 0\\end{matrix}\\right]$"
      ],
      "text/plain": [
       "⎡cos(q₄)   0  0⎤\n",
       "⎢              ⎥\n",
       "⎣-cos(q₅)  0  0⎦"
      ]
     },
     "execution_count": 44,
     "metadata": {},
     "output_type": "execute_result"
    }
   ],
   "source": [
    "As = fn.jacobian(us)\n",
    "As"
   ]
  },
  {
   "cell_type": "code",
   "execution_count": 45,
   "id": "da611c65",
   "metadata": {
    "execution": {
     "iopub.execute_input": "2025-09-11T11:37:00.860212Z",
     "iopub.status.busy": "2025-09-11T11:37:00.860078Z",
     "iopub.status.idle": "2025-09-11T11:37:00.864383Z",
     "shell.execute_reply": "2025-09-11T11:37:00.863860Z"
    }
   },
   "outputs": [
    {
     "data": {
      "text/latex": [
       "$\\displaystyle \\left[\\begin{matrix}0\\\\0\\end{matrix}\\right]$"
      ],
      "text/plain": [
       "⎡0⎤\n",
       "⎢ ⎥\n",
       "⎣0⎦"
      ]
     },
     "execution_count": 45,
     "metadata": {},
     "output_type": "execute_result"
    }
   ],
   "source": [
    "brs = fn.xreplace(dict(zip([u1, u2, u3, u4, u5], [0, 0, 0, 0, 0])))\n",
    "brs"
   ]
  },
  {
   "cell_type": "code",
   "execution_count": 46,
   "id": "d7230b13",
   "metadata": {
    "execution": {
     "iopub.execute_input": "2025-09-11T11:37:00.865637Z",
     "iopub.status.busy": "2025-09-11T11:37:00.865499Z",
     "iopub.status.idle": "2025-09-11T11:37:01.536461Z",
     "shell.execute_reply": "2025-09-11T11:37:01.536040Z"
    }
   },
   "outputs": [
    {
     "data": {
      "text/latex": [
       "$\\displaystyle \\left[\\begin{matrix}\\frac{\\frac{\\cos{\\left(q_{3} - q_{4} + q_{5} \\right)}}{2} + \\frac{\\cos{\\left(q_{3} + q_{4} - q_{5} \\right)}}{2} + \\cos{\\left(q_{3} + q_{4} + q_{5} \\right)}}{\\sin{\\left(q_{4} - q_{5} \\right)}} & 0 & 0\\\\\\frac{\\frac{\\sin{\\left(q_{3} - q_{4} + q_{5} \\right)}}{2} + \\frac{\\sin{\\left(q_{3} + q_{4} - q_{5} \\right)}}{2} + \\sin{\\left(q_{3} + q_{4} + q_{5} \\right)}}{\\sin{\\left(q_{4} - q_{5} \\right)}} & 0 & 0\\end{matrix}\\right]$"
      ],
      "text/plain": [
       "⎡cos(q₃ - q₄ + q₅)   cos(q₃ + q₄ - q₅)                          ⎤\n",
       "⎢───────────────── + ───────────────── + cos(q₃ + q₄ + q₅)      ⎥\n",
       "⎢        2                   2                                  ⎥\n",
       "⎢─────────────────────────────────────────────────────────  0  0⎥\n",
       "⎢                       sin(q₄ - q₅)                            ⎥\n",
       "⎢                                                               ⎥\n",
       "⎢sin(q₃ - q₄ + q₅)   sin(q₃ + q₄ - q₅)                          ⎥\n",
       "⎢───────────────── + ───────────────── + sin(q₃ + q₄ + q₅)      ⎥\n",
       "⎢        2                   2                                  ⎥\n",
       "⎢─────────────────────────────────────────────────────────  0  0⎥\n",
       "⎣                       sin(q₄ - q₅)                            ⎦"
      ]
     },
     "execution_count": 46,
     "metadata": {},
     "output_type": "execute_result"
    }
   ],
   "source": [
    "An = Ar.LUsolve(-As)\n",
    "An = sm.simplify(An)\n",
    "An"
   ]
  },
  {
   "cell_type": "code",
   "execution_count": 47,
   "id": "1e25945c",
   "metadata": {
    "execution": {
     "iopub.execute_input": "2025-09-11T11:37:01.537840Z",
     "iopub.status.busy": "2025-09-11T11:37:01.537687Z",
     "iopub.status.idle": "2025-09-11T11:37:01.543409Z",
     "shell.execute_reply": "2025-09-11T11:37:01.542979Z"
    }
   },
   "outputs": [
    {
     "data": {
      "text/latex": [
       "$\\displaystyle \\left[\\begin{matrix}0\\\\0\\end{matrix}\\right]$"
      ],
      "text/plain": [
       "⎡0⎤\n",
       "⎢ ⎥\n",
       "⎣0⎦"
      ]
     },
     "execution_count": 47,
     "metadata": {},
     "output_type": "execute_result"
    }
   ],
   "source": [
    "bn = Ar.LUsolve(-brs)\n",
    "bn"
   ]
  },
  {
   "cell_type": "code",
   "execution_count": 48,
   "id": "2a2b8847",
   "metadata": {
    "execution": {
     "iopub.execute_input": "2025-09-11T11:37:01.544637Z",
     "iopub.status.busy": "2025-09-11T11:37:01.544486Z",
     "iopub.status.idle": "2025-09-11T11:37:01.561007Z",
     "shell.execute_reply": "2025-09-11T11:37:01.560543Z"
    }
   },
   "outputs": [
    {
     "data": {
      "text/latex": [
       "$\\displaystyle \\left[\\begin{matrix}u_{1}\\\\u_{2}\\end{matrix}\\right] = \\left[\\begin{matrix}\\frac{\\left(\\frac{\\cos{\\left(q_{3} - q_{4} + q_{5} \\right)}}{2} + \\frac{\\cos{\\left(q_{3} + q_{4} - q_{5} \\right)}}{2} + \\cos{\\left(q_{3} + q_{4} + q_{5} \\right)}\\right) u_{3}}{\\sin{\\left(q_{4} - q_{5} \\right)}}\\\\\\frac{\\left(\\frac{\\sin{\\left(q_{3} - q_{4} + q_{5} \\right)}}{2} + \\frac{\\sin{\\left(q_{3} + q_{4} - q_{5} \\right)}}{2} + \\sin{\\left(q_{3} + q_{4} + q_{5} \\right)}\\right) u_{3}}{\\sin{\\left(q_{4} - q_{5} \\right)}}\\end{matrix}\\right]$"
      ],
      "text/plain": [
       "       ⎡⎛cos(q₃ - q₄ + q₅)   cos(q₃ + q₄ - q₅)                    ⎞   ⎤\n",
       "       ⎢⎜───────────────── + ───────────────── + cos(q₃ + q₄ + q₅)⎟⋅u₃⎥\n",
       "       ⎢⎝        2                   2                            ⎠   ⎥\n",
       "       ⎢──────────────────────────────────────────────────────────────⎥\n",
       "⎡u₁⎤   ⎢                         sin(q₄ - q₅)                         ⎥\n",
       "⎢  ⎥ = ⎢                                                              ⎥\n",
       "⎣u₂⎦   ⎢⎛sin(q₃ - q₄ + q₅)   sin(q₃ + q₄ - q₅)                    ⎞   ⎥\n",
       "       ⎢⎜───────────────── + ───────────────── + sin(q₃ + q₄ + q₅)⎟⋅u₃⎥\n",
       "       ⎢⎝        2                   2                            ⎠   ⎥\n",
       "       ⎢──────────────────────────────────────────────────────────────⎥\n",
       "       ⎣                         sin(q₄ - q₅)                         ⎦"
      ]
     },
     "execution_count": 48,
     "metadata": {},
     "output_type": "execute_result"
    }
   ],
   "source": [
    "sm.Eq(ur, An*us + bn)"
   ]
  }
 ],
 "metadata": {
  "kernelspec": {
   "display_name": "Python 3 (ipykernel)",
   "language": "python",
   "name": "python3"
  },
  "language_info": {
   "codemirror_mode": {
    "name": "ipython",
    "version": 3
   },
   "file_extension": ".py",
   "mimetype": "text/x-python",
   "name": "python",
   "nbconvert_exporter": "python",
   "pygments_lexer": "ipython3",
   "version": "3.11.13"
  }
 },
 "nbformat": 4,
 "nbformat_minor": 5
}