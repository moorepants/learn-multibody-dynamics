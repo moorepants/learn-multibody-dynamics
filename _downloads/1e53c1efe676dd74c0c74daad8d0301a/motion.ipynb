{
 "cells": [
  {
   "cell_type": "code",
   "execution_count": 1,
   "id": "b32a468c",
   "metadata": {
    "execution": {
     "iopub.execute_input": "2025-01-22T13:09:44.650084Z",
     "iopub.status.busy": "2025-01-22T13:09:44.649912Z",
     "iopub.status.idle": "2025-01-22T13:09:44.989071Z",
     "shell.execute_reply": "2025-01-22T13:09:44.988462Z"
    }
   },
   "outputs": [],
   "source": [
    "import sympy as sm\n",
    "import sympy.physics.mechanics as me\n",
    "me.init_vprinting(use_latex='mathjax')"
   ]
  },
  {
   "cell_type": "code",
   "execution_count": 2,
   "id": "ea72596e",
   "metadata": {
    "execution": {
     "iopub.execute_input": "2025-01-22T13:09:44.991037Z",
     "iopub.status.busy": "2025-01-22T13:09:44.990812Z",
     "iopub.status.idle": "2025-01-22T13:09:44.994687Z",
     "shell.execute_reply": "2025-01-22T13:09:44.994183Z"
    }
   },
   "outputs": [],
   "source": [
    "class ReferenceFrame(me.ReferenceFrame):\n",
    "\n",
    "    def __init__(self, *args, **kwargs):\n",
    "\n",
    "        kwargs.pop('latexs', None)\n",
    "\n",
    "        lab = args[0].lower()\n",
    "        tex = r'\\hat{{{}}}_{}'\n",
    "\n",
    "        super(ReferenceFrame, self).__init__(*args,\n",
    "                                             latexs=(tex.format(lab, 'x'),\n",
    "                                                     tex.format(lab, 'y'),\n",
    "                                                     tex.format(lab, 'z')),\n",
    "                                             **kwargs)\n",
    "me.ReferenceFrame = ReferenceFrame"
   ]
  },
  {
   "cell_type": "code",
   "execution_count": 3,
   "id": "c2b25a24",
   "metadata": {
    "execution": {
     "iopub.execute_input": "2025-01-22T13:09:44.996452Z",
     "iopub.status.busy": "2025-01-22T13:09:44.996034Z",
     "iopub.status.idle": "2025-01-22T13:09:45.020294Z",
     "shell.execute_reply": "2025-01-22T13:09:45.019830Z"
    }
   },
   "outputs": [
    {
     "data": {
      "text/latex": [
       "$\\displaystyle (\\sin{\\left(\\theta \\right)} \\dot{y} + \\cos{\\left(\\theta \\right)} \\dot{x})\\hat{a}_x + (- \\sin{\\left(\\theta \\right)} \\dot{x} + \\cos{\\left(\\theta \\right)} \\dot{y})\\hat{a}_y$"
      ],
      "text/plain": [
       "(sin(θ)⋅ẏ + cos(θ)⋅ẋ) a_x + (-sin(θ)⋅ẋ + cos(θ)⋅ẏ) a_y"
      ]
     },
     "execution_count": 3,
     "metadata": {},
     "output_type": "execute_result"
    }
   ],
   "source": [
    "x, y, theta = me.dynamicsymbols('x, y, theta')\n",
    "\n",
    "N = me.ReferenceFrame('N')\n",
    "A = me.ReferenceFrame('A')\n",
    "\n",
    "A.orient_axis(N, theta, N.z)\n",
    "\n",
    "O = me.Point('O')\n",
    "P = me.Point('P')\n",
    "\n",
    "P.set_pos(O, x*N.x + y*N.y)\n",
    "\n",
    "O.set_vel(N, 0)\n",
    "\n",
    "P.vel(N).express(A)"
   ]
  },
  {
   "cell_type": "code",
   "execution_count": 4,
   "id": "c0617fbc",
   "metadata": {
    "execution": {
     "iopub.execute_input": "2025-01-22T13:09:45.021851Z",
     "iopub.status.busy": "2025-01-22T13:09:45.021473Z",
     "iopub.status.idle": "2025-01-22T13:09:45.026635Z",
     "shell.execute_reply": "2025-01-22T13:09:45.026162Z"
    }
   },
   "outputs": [
    {
     "data": {
      "text/latex": [
       "$\\displaystyle - \\sin{\\left(\\theta \\right)} \\dot{x} + \\cos{\\left(\\theta \\right)} \\dot{y}$"
      ],
      "text/plain": [
       "-sin(θ)⋅ẋ + cos(θ)⋅ẏ"
      ]
     },
     "execution_count": 4,
     "metadata": {},
     "output_type": "execute_result"
    }
   ],
   "source": [
    "fn = P.vel(N).dot(A.y)\n",
    "fn"
   ]
  },
  {
   "cell_type": "code",
   "execution_count": 5,
   "id": "c415a33f",
   "metadata": {
    "execution": {
     "iopub.execute_input": "2025-01-22T13:09:45.028037Z",
     "iopub.status.busy": "2025-01-22T13:09:45.027883Z",
     "iopub.status.idle": "2025-01-22T13:09:45.506517Z",
     "shell.execute_reply": "2025-01-22T13:09:45.505973Z"
    }
   },
   "outputs": [
    {
     "data": {
      "text/latex": [
       "$\\displaystyle - l_{a} \\sin{\\left(q_{1} \\right)} \\dot{q}_{1} - l_{b} \\left(\\dot{q}_{1} + \\dot{q}_{2}\\right) \\sin{\\left(q_{1} + q_{2} \\right)} - l_{c} \\left(\\dot{q}_{1} + \\dot{q}_{2} + \\dot{q}_{3}\\right) \\sin{\\left(q_{1} + q_{2} + q_{3} \\right)}$"
      ],
      "text/plain": [
       "-lₐ⋅sin(q₁)⋅q₁̇ - l_b⋅(q₁̇ + q₂̇)⋅sin(q₁ + q₂) - l_c⋅(q₁̇ + q₂̇ + q₃̇)⋅sin(q₁ \n",
       "+ q₂ + q₃)"
      ]
     },
     "execution_count": 5,
     "metadata": {},
     "output_type": "execute_result"
    }
   ],
   "source": [
    "t = me.dynamicsymbols._t\n",
    "\n",
    "q1, q2, q3 = me.dynamicsymbols('q1, q2, q3')\n",
    "la, lb, lc, ln = sm.symbols('l_a, l_b, l_c, l_n')\n",
    "\n",
    "fhx = la*sm.cos(q1) + lb*sm.cos(q1 + q2) + lc*sm.cos(q1 + q2 + q3) - ln\n",
    "sm.trigsimp(fhx.diff(t))"
   ]
  },
  {
   "cell_type": "code",
   "execution_count": 6,
   "id": "33ef6dd1",
   "metadata": {
    "execution": {
     "iopub.execute_input": "2025-01-22T13:09:45.508301Z",
     "iopub.status.busy": "2025-01-22T13:09:45.508004Z",
     "iopub.status.idle": "2025-01-22T13:09:45.513281Z",
     "shell.execute_reply": "2025-01-22T13:09:45.512771Z"
    }
   },
   "outputs": [
    {
     "data": {
      "text/latex": [
       "$\\displaystyle \\left( - \\sin{\\left(\\theta \\right)}, \\  \\cos{\\left(\\theta \\right)}, \\  0\\right)$"
      ],
      "text/plain": [
       "(-sin(θ), cos(θ), 0)"
      ]
     },
     "execution_count": 6,
     "metadata": {},
     "output_type": "execute_result"
    }
   ],
   "source": [
    "dfdx = fn.coeff(x.diff(t))\n",
    "dfdy = fn.coeff(y.diff(t))\n",
    "dfdth = fn.coeff(theta.diff(t))\n",
    "\n",
    "dfdx, dfdy, dfdth"
   ]
  },
  {
   "cell_type": "code",
   "execution_count": 7,
   "id": "36f616e4",
   "metadata": {
    "execution": {
     "iopub.execute_input": "2025-01-22T13:09:45.514816Z",
     "iopub.status.busy": "2025-01-22T13:09:45.514567Z",
     "iopub.status.idle": "2025-01-22T13:09:45.518250Z",
     "shell.execute_reply": "2025-01-22T13:09:45.517827Z"
    }
   },
   "outputs": [
    {
     "data": {
      "text/latex": [
       "$\\displaystyle \\left( 0, \\  0\\right)$"
      ],
      "text/plain": [
       "(0, 0)"
      ]
     },
     "execution_count": 7,
     "metadata": {},
     "output_type": "execute_result"
    }
   ],
   "source": [
    "dfdx.diff(y), dfdy.diff(x)"
   ]
  },
  {
   "cell_type": "code",
   "execution_count": 8,
   "id": "65b00031",
   "metadata": {
    "execution": {
     "iopub.execute_input": "2025-01-22T13:09:45.519594Z",
     "iopub.status.busy": "2025-01-22T13:09:45.519439Z",
     "iopub.status.idle": "2025-01-22T13:09:45.525667Z",
     "shell.execute_reply": "2025-01-22T13:09:45.525182Z"
    }
   },
   "outputs": [
    {
     "data": {
      "text/latex": [
       "$\\displaystyle \\left( - \\cos{\\left(\\theta \\right)}, \\  0\\right)$"
      ],
      "text/plain": [
       "(-cos(θ), 0)"
      ]
     },
     "execution_count": 8,
     "metadata": {},
     "output_type": "execute_result"
    }
   ],
   "source": [
    "dfdx.diff(theta), dfdth.diff(x)"
   ]
  },
  {
   "cell_type": "code",
   "execution_count": 9,
   "id": "80ec1bbe",
   "metadata": {
    "execution": {
     "iopub.execute_input": "2025-01-22T13:09:45.527161Z",
     "iopub.status.busy": "2025-01-22T13:09:45.526986Z",
     "iopub.status.idle": "2025-01-22T13:09:45.532205Z",
     "shell.execute_reply": "2025-01-22T13:09:45.531812Z"
    }
   },
   "outputs": [
    {
     "data": {
      "text/latex": [
       "$\\displaystyle \\left( - \\sin{\\left(\\theta \\right)}, \\  0\\right)$"
      ],
      "text/plain": [
       "(-sin(θ), 0)"
      ]
     },
     "execution_count": 9,
     "metadata": {},
     "output_type": "execute_result"
    }
   ],
   "source": [
    "dfdy.diff(theta), dfdth.diff(y)"
   ]
  },
  {
   "cell_type": "code",
   "execution_count": 10,
   "id": "ccd5fff6",
   "metadata": {
    "execution": {
     "iopub.execute_input": "2025-01-22T13:09:45.533462Z",
     "iopub.status.busy": "2025-01-22T13:09:45.533316Z",
     "iopub.status.idle": "2025-01-22T13:09:45.563315Z",
     "shell.execute_reply": "2025-01-22T13:09:45.562927Z"
    }
   },
   "outputs": [],
   "source": [
    "fnx = fhx.diff(t)\n",
    "dfdq1 = fnx.diff(q1)\n",
    "dfdq2 = fnx.diff(q2)\n",
    "dfdq3 = fnx.diff(q3)"
   ]
  },
  {
   "cell_type": "code",
   "execution_count": 11,
   "id": "09869f3d",
   "metadata": {
    "execution": {
     "iopub.execute_input": "2025-01-22T13:09:45.564594Z",
     "iopub.status.busy": "2025-01-22T13:09:45.564445Z",
     "iopub.status.idle": "2025-01-22T13:09:45.588991Z",
     "shell.execute_reply": "2025-01-22T13:09:45.588586Z"
    }
   },
   "outputs": [
    {
     "data": {
      "text/latex": [
       "$\\displaystyle 0$"
      ],
      "text/plain": [
       "0"
      ]
     },
     "execution_count": 11,
     "metadata": {},
     "output_type": "execute_result"
    }
   ],
   "source": [
    "dfdq1.diff(q2) -  dfdq2.diff(q1)"
   ]
  },
  {
   "cell_type": "code",
   "execution_count": 12,
   "id": "49f70a22",
   "metadata": {
    "execution": {
     "iopub.execute_input": "2025-01-22T13:09:45.590308Z",
     "iopub.status.busy": "2025-01-22T13:09:45.590159Z",
     "iopub.status.idle": "2025-01-22T13:09:45.605347Z",
     "shell.execute_reply": "2025-01-22T13:09:45.604939Z"
    }
   },
   "outputs": [
    {
     "data": {
      "text/latex": [
       "$\\displaystyle 0$"
      ],
      "text/plain": [
       "0"
      ]
     },
     "execution_count": 12,
     "metadata": {},
     "output_type": "execute_result"
    }
   ],
   "source": [
    "dfdq2.diff(q3) - dfdq3.diff(q2)"
   ]
  },
  {
   "cell_type": "code",
   "execution_count": 13,
   "id": "27123680",
   "metadata": {
    "execution": {
     "iopub.execute_input": "2025-01-22T13:09:45.606617Z",
     "iopub.status.busy": "2025-01-22T13:09:45.606468Z",
     "iopub.status.idle": "2025-01-22T13:09:45.621605Z",
     "shell.execute_reply": "2025-01-22T13:09:45.621224Z"
    }
   },
   "outputs": [
    {
     "data": {
      "text/latex": [
       "$\\displaystyle 0$"
      ],
      "text/plain": [
       "0"
      ]
     },
     "execution_count": 13,
     "metadata": {},
     "output_type": "execute_result"
    }
   ],
   "source": [
    "dfdq3.diff(q1) - dfdq1.diff(q3)"
   ]
  },
  {
   "cell_type": "code",
   "execution_count": 14,
   "id": "d4a0f154",
   "metadata": {
    "execution": {
     "iopub.execute_input": "2025-01-22T13:09:45.622873Z",
     "iopub.status.busy": "2025-01-22T13:09:45.622725Z",
     "iopub.status.idle": "2025-01-22T13:09:45.786930Z",
     "shell.execute_reply": "2025-01-22T13:09:45.786537Z"
    }
   },
   "outputs": [
    {
     "data": {
      "text/latex": [
       "$\\displaystyle (- \\sin{\\left(q_{3} \\right)} \\cos{\\left(q_{2} \\right)} \\dot{q}_{1} + \\cos{\\left(q_{3} \\right)} \\dot{q}_{2})\\hat{b}_x + (\\sin{\\left(q_{2} \\right)} \\dot{q}_{1} + \\dot{q}_{3})\\hat{b}_y + (\\sin{\\left(q_{3} \\right)} \\dot{q}_{2} + \\cos{\\left(q_{2} \\right)} \\cos{\\left(q_{3} \\right)} \\dot{q}_{1})\\hat{b}_z$"
      ],
      "text/plain": [
       "(-sin(q₃)⋅cos(q₂)⋅q₁̇ + cos(q₃)⋅q₂̇) b_x + (sin(q₂)⋅q₁̇ + q₃̇) b_y + (sin(q₃)⋅\n",
       "q₂̇ + cos(q₂)⋅cos(q₃)⋅q₁̇) b_z"
      ]
     },
     "execution_count": 14,
     "metadata": {},
     "output_type": "execute_result"
    }
   ],
   "source": [
    "q1, q2, q3 = me.dynamicsymbols('q1, q2, q3')\n",
    "\n",
    "A = me.ReferenceFrame('A')\n",
    "B = me.ReferenceFrame('B')\n",
    "\n",
    "B.orient_body_fixed(A, (q1, q2, q3), 'ZXY')\n",
    "\n",
    "A_w_B = B.ang_vel_in(A).simplify()\n",
    "A_w_B"
   ]
  },
  {
   "cell_type": "code",
   "execution_count": 15,
   "id": "7f1799a8",
   "metadata": {
    "execution": {
     "iopub.execute_input": "2025-01-22T13:09:45.788215Z",
     "iopub.status.busy": "2025-01-22T13:09:45.788062Z",
     "iopub.status.idle": "2025-01-22T13:09:45.797592Z",
     "shell.execute_reply": "2025-01-22T13:09:45.797216Z"
    }
   },
   "outputs": [
    {
     "data": {
      "text/latex": [
       "$\\displaystyle (- u_{1} \\sin{\\left(q_{3} \\right)} \\cos{\\left(q_{2} \\right)} + u_{2} \\cos{\\left(q_{3} \\right)})\\hat{b}_x + (u_{1} \\sin{\\left(q_{2} \\right)} + u_{3})\\hat{b}_y + (u_{1} \\cos{\\left(q_{2} \\right)} \\cos{\\left(q_{3} \\right)} + u_{2} \\sin{\\left(q_{3} \\right)})\\hat{b}_z$"
      ],
      "text/plain": [
       "(-u₁⋅sin(q₃)⋅cos(q₂) + u₂⋅cos(q₃)) b_x + (u₁⋅sin(q₂) + u₃) b_y + (u₁⋅cos(q₂)⋅c\n",
       "os(q₃) + u₂⋅sin(q₃)) b_z"
      ]
     },
     "execution_count": 15,
     "metadata": {},
     "output_type": "execute_result"
    }
   ],
   "source": [
    "u1, u2, u3 = me.dynamicsymbols('u1, u2, u3')\n",
    "\n",
    "t = me.dynamicsymbols._t\n",
    "qdot = sm.Matrix([q1.diff(t), q2.diff(t), q3.diff(t)])\n",
    "u = sm.Matrix([u1, u2, u3])\n",
    "\n",
    "A_w_B = A_w_B.xreplace(dict(zip(qdot, u)))\n",
    "A_w_B"
   ]
  },
  {
   "cell_type": "code",
   "execution_count": 16,
   "id": "bb5e2df0",
   "metadata": {
    "execution": {
     "iopub.execute_input": "2025-01-22T13:09:45.798824Z",
     "iopub.status.busy": "2025-01-22T13:09:45.798676Z",
     "iopub.status.idle": "2025-01-22T13:09:45.803453Z",
     "shell.execute_reply": "2025-01-22T13:09:45.802964Z"
    }
   },
   "outputs": [
    {
     "data": {
      "text/latex": [
       "$\\displaystyle \\left[\\begin{matrix}\\dot{q}_{1}\\\\\\dot{q}_{2}\\\\\\dot{q}_{3}\\end{matrix}\\right]$"
      ],
      "text/plain": [
       "⎡q₁̇⎤\n",
       "⎢  ⎥\n",
       "⎢q₂̇⎥\n",
       "⎢  ⎥\n",
       "⎣q₃̇⎦"
      ]
     },
     "execution_count": 16,
     "metadata": {},
     "output_type": "execute_result"
    }
   ],
   "source": [
    "Yk_plus_zk = qdot\n",
    "Yk_plus_zk"
   ]
  },
  {
   "cell_type": "code",
   "execution_count": 17,
   "id": "dfa0f7a4",
   "metadata": {
    "execution": {
     "iopub.execute_input": "2025-01-22T13:09:45.805077Z",
     "iopub.status.busy": "2025-01-22T13:09:45.804692Z",
     "iopub.status.idle": "2025-01-22T13:09:45.815540Z",
     "shell.execute_reply": "2025-01-22T13:09:45.815057Z"
    }
   },
   "outputs": [
    {
     "data": {
      "text/latex": [
       "$\\displaystyle \\left[\\begin{matrix}1 & 0 & 0\\\\0 & 1 & 0\\\\0 & 0 & 1\\end{matrix}\\right]$"
      ],
      "text/plain": [
       "⎡1  0  0⎤\n",
       "⎢       ⎥\n",
       "⎢0  1  0⎥\n",
       "⎢       ⎥\n",
       "⎣0  0  1⎦"
      ]
     },
     "execution_count": 17,
     "metadata": {},
     "output_type": "execute_result"
    }
   ],
   "source": [
    "Yk = Yk_plus_zk.jacobian(qdot)\n",
    "Yk"
   ]
  },
  {
   "cell_type": "code",
   "execution_count": 18,
   "id": "45f67db6",
   "metadata": {
    "execution": {
     "iopub.execute_input": "2025-01-22T13:09:45.816894Z",
     "iopub.status.busy": "2025-01-22T13:09:45.816645Z",
     "iopub.status.idle": "2025-01-22T13:09:45.821133Z",
     "shell.execute_reply": "2025-01-22T13:09:45.820634Z"
    }
   },
   "outputs": [
    {
     "data": {
      "text/latex": [
       "$\\displaystyle \\left\\{ \\dot{q}_{1} : 0, \\  \\dot{q}_{2} : 0, \\  \\dot{q}_{3} : 0\\right\\}$"
      ],
      "text/plain": [
       "{q₁̇: 0, q₂̇: 0, q₃̇: 0}"
      ]
     },
     "execution_count": 18,
     "metadata": {},
     "output_type": "execute_result"
    }
   ],
   "source": [
    "qd_zero_repl = dict(zip(qdot, sm.zeros(3, 1)))\n",
    "qd_zero_repl"
   ]
  },
  {
   "cell_type": "code",
   "execution_count": 19,
   "id": "e7166c6f",
   "metadata": {
    "execution": {
     "iopub.execute_input": "2025-01-22T13:09:45.822807Z",
     "iopub.status.busy": "2025-01-22T13:09:45.822350Z",
     "iopub.status.idle": "2025-01-22T13:09:45.826323Z",
     "shell.execute_reply": "2025-01-22T13:09:45.825911Z"
    }
   },
   "outputs": [
    {
     "data": {
      "text/latex": [
       "$\\displaystyle \\left[\\begin{matrix}0\\\\0\\\\0\\end{matrix}\\right]$"
      ],
      "text/plain": [
       "⎡0⎤\n",
       "⎢ ⎥\n",
       "⎢0⎥\n",
       "⎢ ⎥\n",
       "⎣0⎦"
      ]
     },
     "execution_count": 19,
     "metadata": {},
     "output_type": "execute_result"
    }
   ],
   "source": [
    "zk = Yk_plus_zk.xreplace(qd_zero_repl)\n",
    "zk"
   ]
  },
  {
   "cell_type": "code",
   "execution_count": 20,
   "id": "74408d48",
   "metadata": {
    "execution": {
     "iopub.execute_input": "2025-01-22T13:09:45.827554Z",
     "iopub.status.busy": "2025-01-22T13:09:45.827420Z",
     "iopub.status.idle": "2025-01-22T13:09:45.842431Z",
     "shell.execute_reply": "2025-01-22T13:09:45.842018Z"
    }
   },
   "outputs": [
    {
     "data": {
      "text/latex": [
       "$\\displaystyle \\left[\\begin{matrix}\\dot{q}_{1}\\\\\\dot{q}_{2}\\\\\\dot{q}_{3}\\end{matrix}\\right] = \\left[\\begin{matrix}u_{1}\\\\u_{2}\\\\u_{3}\\end{matrix}\\right]$"
      ],
      "text/plain": [
       "⎡q₁̇⎤   ⎡u₁⎤\n",
       "⎢  ⎥   ⎢  ⎥\n",
       "⎢q₂̇⎥ = ⎢u₂⎥\n",
       "⎢  ⎥   ⎢  ⎥\n",
       "⎣q₃̇⎦   ⎣u₃⎦"
      ]
     },
     "execution_count": 20,
     "metadata": {},
     "output_type": "execute_result"
    }
   ],
   "source": [
    "sm.Eq(qdot, Yk.LUsolve(u - zk))"
   ]
  },
  {
   "cell_type": "code",
   "execution_count": 21,
   "id": "8d83ebc7",
   "metadata": {
    "execution": {
     "iopub.execute_input": "2025-01-22T13:09:45.843852Z",
     "iopub.status.busy": "2025-01-22T13:09:45.843498Z",
     "iopub.status.idle": "2025-01-22T13:09:45.959995Z",
     "shell.execute_reply": "2025-01-22T13:09:45.959532Z"
    }
   },
   "outputs": [
    {
     "data": {
      "text/latex": [
       "$\\displaystyle (- \\sin{\\left(q_{3} \\right)} \\cos{\\left(q_{2} \\right)} \\dot{q}_{1} + \\cos{\\left(q_{3} \\right)} \\dot{q}_{2})\\hat{b}_x + (\\sin{\\left(q_{2} \\right)} \\dot{q}_{1} + \\dot{q}_{3})\\hat{b}_y + (\\sin{\\left(q_{3} \\right)} \\dot{q}_{2} + \\cos{\\left(q_{2} \\right)} \\cos{\\left(q_{3} \\right)} \\dot{q}_{1})\\hat{b}_z$"
      ],
      "text/plain": [
       "(-sin(q₃)⋅cos(q₂)⋅q₁̇ + cos(q₃)⋅q₂̇) b_x + (sin(q₂)⋅q₁̇ + q₃̇) b_y + (sin(q₃)⋅\n",
       "q₂̇ + cos(q₂)⋅cos(q₃)⋅q₁̇) b_z"
      ]
     },
     "execution_count": 21,
     "metadata": {},
     "output_type": "execute_result"
    }
   ],
   "source": [
    "A_w_B = B.ang_vel_in(A).simplify()\n",
    "A_w_B"
   ]
  },
  {
   "cell_type": "code",
   "execution_count": 22,
   "id": "4bdcd41f",
   "metadata": {
    "execution": {
     "iopub.execute_input": "2025-01-22T13:09:45.961550Z",
     "iopub.status.busy": "2025-01-22T13:09:45.961177Z",
     "iopub.status.idle": "2025-01-22T13:09:45.973172Z",
     "shell.execute_reply": "2025-01-22T13:09:45.972666Z"
    }
   },
   "outputs": [
    {
     "data": {
      "text/latex": [
       "$\\displaystyle \\left[\\begin{matrix}- \\sin{\\left(q_{3} \\right)} \\cos{\\left(q_{2} \\right)} \\dot{q}_{1} + \\cos{\\left(q_{3} \\right)} \\dot{q}_{2}\\\\\\sin{\\left(q_{2} \\right)} \\dot{q}_{1} + \\dot{q}_{3}\\\\\\sin{\\left(q_{3} \\right)} \\dot{q}_{2} + \\cos{\\left(q_{2} \\right)} \\cos{\\left(q_{3} \\right)} \\dot{q}_{1}\\end{matrix}\\right]$"
      ],
      "text/plain": [
       "⎡-sin(q₃)⋅cos(q₂)⋅q₁̇ + cos(q₃)⋅q₂̇⎤\n",
       "⎢                                ⎥\n",
       "⎢        sin(q₂)⋅q₁̇ + q₃̇         ⎥\n",
       "⎢                                ⎥\n",
       "⎣sin(q₃)⋅q₂̇ + cos(q₂)⋅cos(q₃)⋅q₁̇ ⎦"
      ]
     },
     "execution_count": 22,
     "metadata": {},
     "output_type": "execute_result"
    }
   ],
   "source": [
    "u1_expr = A_w_B.dot(B.x)\n",
    "u2_expr = A_w_B.dot(B.y)\n",
    "u3_expr = A_w_B.dot(B.z)\n",
    "\n",
    "Yk_plus_zk = sm.Matrix([u1_expr, u2_expr, u3_expr])\n",
    "Yk_plus_zk"
   ]
  },
  {
   "cell_type": "code",
   "execution_count": 23,
   "id": "7f92fc3f",
   "metadata": {
    "execution": {
     "iopub.execute_input": "2025-01-22T13:09:45.974797Z",
     "iopub.status.busy": "2025-01-22T13:09:45.974423Z",
     "iopub.status.idle": "2025-01-22T13:09:45.987063Z",
     "shell.execute_reply": "2025-01-22T13:09:45.986652Z"
    }
   },
   "outputs": [
    {
     "data": {
      "text/latex": [
       "$\\displaystyle \\left[\\begin{matrix}- \\sin{\\left(q_{3} \\right)} \\cos{\\left(q_{2} \\right)} & \\cos{\\left(q_{3} \\right)} & 0\\\\\\sin{\\left(q_{2} \\right)} & 0 & 1\\\\\\cos{\\left(q_{2} \\right)} \\cos{\\left(q_{3} \\right)} & \\sin{\\left(q_{3} \\right)} & 0\\end{matrix}\\right]$"
      ],
      "text/plain": [
       "⎡-sin(q₃)⋅cos(q₂)  cos(q₃)  0⎤\n",
       "⎢                            ⎥\n",
       "⎢    sin(q₂)          0     1⎥\n",
       "⎢                            ⎥\n",
       "⎣cos(q₂)⋅cos(q₃)   sin(q₃)  0⎦"
      ]
     },
     "execution_count": 23,
     "metadata": {},
     "output_type": "execute_result"
    }
   ],
   "source": [
    "Yk = Yk_plus_zk.jacobian(qdot)\n",
    "Yk"
   ]
  },
  {
   "cell_type": "code",
   "execution_count": 24,
   "id": "5f0d347c",
   "metadata": {
    "execution": {
     "iopub.execute_input": "2025-01-22T13:09:45.988301Z",
     "iopub.status.busy": "2025-01-22T13:09:45.988164Z",
     "iopub.status.idle": "2025-01-22T13:09:45.992194Z",
     "shell.execute_reply": "2025-01-22T13:09:45.991704Z"
    }
   },
   "outputs": [
    {
     "data": {
      "text/latex": [
       "$\\displaystyle \\left[\\begin{matrix}0\\\\0\\\\0\\end{matrix}\\right]$"
      ],
      "text/plain": [
       "⎡0⎤\n",
       "⎢ ⎥\n",
       "⎢0⎥\n",
       "⎢ ⎥\n",
       "⎣0⎦"
      ]
     },
     "execution_count": 24,
     "metadata": {},
     "output_type": "execute_result"
    }
   ],
   "source": [
    "zk = Yk_plus_zk.xreplace(qd_zero_repl)\n",
    "zk"
   ]
  },
  {
   "cell_type": "code",
   "execution_count": 25,
   "id": "58419056",
   "metadata": {
    "execution": {
     "iopub.execute_input": "2025-01-22T13:09:45.993442Z",
     "iopub.status.busy": "2025-01-22T13:09:45.993295Z",
     "iopub.status.idle": "2025-01-22T13:09:47.387572Z",
     "shell.execute_reply": "2025-01-22T13:09:47.387092Z"
    }
   },
   "outputs": [
    {
     "data": {
      "text/latex": [
       "$\\displaystyle \\left[\\begin{matrix}\\dot{q}_{1}\\\\\\dot{q}_{2}\\\\\\dot{q}_{3}\\end{matrix}\\right] = \\left[\\begin{matrix}- \\frac{u_{1} \\sin{\\left(q_{3} \\right)} - u_{3} \\cos{\\left(q_{3} \\right)}}{\\cos{\\left(q_{2} \\right)}}\\\\\\frac{u_{1} \\cos{\\left(2 q_{3} \\right)} + u_{1} + u_{3} \\sin{\\left(2 q_{3} \\right)}}{2 \\cos{\\left(q_{3} \\right)}}\\\\u_{1} \\sin{\\left(q_{3} \\right)} \\tan{\\left(q_{2} \\right)} + u_{2} - u_{3} \\cos{\\left(q_{3} \\right)} \\tan{\\left(q_{2} \\right)}\\end{matrix}\\right]$"
      ],
      "text/plain": [
       "       ⎡        -(u₁⋅sin(q₃) - u₃⋅cos(q₃))          ⎤\n",
       "       ⎢        ───────────────────────────         ⎥\n",
       "⎡q₁̇⎤   ⎢                  cos(q₂)                   ⎥\n",
       "⎢  ⎥   ⎢                                            ⎥\n",
       "⎢q₂̇⎥ = ⎢      u₁⋅cos(2⋅q₃) + u₁ + u₃⋅sin(2⋅q₃)      ⎥\n",
       "⎢  ⎥   ⎢      ────────────────────────────────      ⎥\n",
       "⎣q₃̇⎦   ⎢                 2⋅cos(q₃)                  ⎥\n",
       "       ⎢                                            ⎥\n",
       "       ⎣u₁⋅sin(q₃)⋅tan(q₂) + u₂ - u₃⋅cos(q₃)⋅tan(q₂)⎦"
      ]
     },
     "execution_count": 25,
     "metadata": {},
     "output_type": "execute_result"
    }
   ],
   "source": [
    "sm.Eq(qdot, sm.trigsimp(Yk.LUsolve(u - zk)))"
   ]
  },
  {
   "cell_type": "code",
   "execution_count": 26,
   "id": "c4fad43e",
   "metadata": {
    "execution": {
     "iopub.execute_input": "2025-01-22T13:09:47.389142Z",
     "iopub.status.busy": "2025-01-22T13:09:47.388955Z",
     "iopub.status.idle": "2025-01-22T13:09:48.395953Z",
     "shell.execute_reply": "2025-01-22T13:09:48.395531Z"
    }
   },
   "outputs": [
    {
     "data": {
      "text/latex": [
       "$\\displaystyle (- \\sin{\\left(q_{1} \\right)} \\cos{\\left(q_{2} \\right)} \\dot{q}_{3} + \\cos{\\left(q_{1} \\right)} \\dot{q}_{2})\\hat{a}_x + (\\sin{\\left(q_{1} \\right)} \\dot{q}_{2} + \\cos{\\left(q_{1} \\right)} \\cos{\\left(q_{2} \\right)} \\dot{q}_{3})\\hat{a}_y + (\\sin{\\left(q_{2} \\right)} \\dot{q}_{3} + \\dot{q}_{1})\\hat{a}_z$"
      ],
      "text/plain": [
       "(-sin(q₁)⋅cos(q₂)⋅q₃̇ + cos(q₁)⋅q₂̇) a_x + (sin(q₁)⋅q₂̇ + cos(q₁)⋅cos(q₂)⋅q₃̇)\n",
       " a_y + (sin(q₂)⋅q₃̇ + q₁̇) a_z"
      ]
     },
     "execution_count": 26,
     "metadata": {},
     "output_type": "execute_result"
    }
   ],
   "source": [
    "A_w_B = B.ang_vel_in(A).express(A).simplify()\n",
    "A_w_B"
   ]
  },
  {
   "cell_type": "code",
   "execution_count": 27,
   "id": "9e8a4415",
   "metadata": {
    "execution": {
     "iopub.execute_input": "2025-01-22T13:09:48.397424Z",
     "iopub.status.busy": "2025-01-22T13:09:48.397272Z",
     "iopub.status.idle": "2025-01-22T13:09:48.409973Z",
     "shell.execute_reply": "2025-01-22T13:09:48.409601Z"
    }
   },
   "outputs": [
    {
     "data": {
      "text/latex": [
       "$\\displaystyle \\left[\\begin{matrix}- \\sin{\\left(q_{1} \\right)} \\cos{\\left(q_{2} \\right)} \\dot{q}_{3} + \\cos{\\left(q_{1} \\right)} \\dot{q}_{2}\\\\\\sin{\\left(q_{1} \\right)} \\dot{q}_{2} + \\cos{\\left(q_{1} \\right)} \\cos{\\left(q_{2} \\right)} \\dot{q}_{3}\\\\\\sin{\\left(q_{2} \\right)} \\dot{q}_{3} + \\dot{q}_{1}\\end{matrix}\\right]$"
      ],
      "text/plain": [
       "⎡-sin(q₁)⋅cos(q₂)⋅q₃̇ + cos(q₁)⋅q₂̇⎤\n",
       "⎢                                ⎥\n",
       "⎢sin(q₁)⋅q₂̇ + cos(q₁)⋅cos(q₂)⋅q₃̇ ⎥\n",
       "⎢                                ⎥\n",
       "⎣        sin(q₂)⋅q₃̇ + q₁̇         ⎦"
      ]
     },
     "execution_count": 27,
     "metadata": {},
     "output_type": "execute_result"
    }
   ],
   "source": [
    "u1_expr = A_w_B.dot(A.x)\n",
    "u2_expr = A_w_B.dot(A.y)\n",
    "u3_expr = A_w_B.dot(A.z)\n",
    "\n",
    "Yk_plus_zk = sm.Matrix([u1_expr, u2_expr, u3_expr])\n",
    "Yk_plus_zk"
   ]
  },
  {
   "cell_type": "code",
   "execution_count": 28,
   "id": "6b99c264",
   "metadata": {
    "execution": {
     "iopub.execute_input": "2025-01-22T13:09:48.411238Z",
     "iopub.status.busy": "2025-01-22T13:09:48.411105Z",
     "iopub.status.idle": "2025-01-22T13:09:48.423084Z",
     "shell.execute_reply": "2025-01-22T13:09:48.422702Z"
    }
   },
   "outputs": [
    {
     "data": {
      "text/latex": [
       "$\\displaystyle \\left[\\begin{matrix}0 & \\cos{\\left(q_{1} \\right)} & - \\sin{\\left(q_{1} \\right)} \\cos{\\left(q_{2} \\right)}\\\\0 & \\sin{\\left(q_{1} \\right)} & \\cos{\\left(q_{1} \\right)} \\cos{\\left(q_{2} \\right)}\\\\1 & 0 & \\sin{\\left(q_{2} \\right)}\\end{matrix}\\right]$"
      ],
      "text/plain": [
       "⎡0  cos(q₁)  -sin(q₁)⋅cos(q₂)⎤\n",
       "⎢                            ⎥\n",
       "⎢0  sin(q₁)  cos(q₁)⋅cos(q₂) ⎥\n",
       "⎢                            ⎥\n",
       "⎣1     0         sin(q₂)     ⎦"
      ]
     },
     "execution_count": 28,
     "metadata": {},
     "output_type": "execute_result"
    }
   ],
   "source": [
    "Yk = Yk_plus_zk.jacobian(qdot)\n",
    "Yk"
   ]
  },
  {
   "cell_type": "code",
   "execution_count": 29,
   "id": "41e7a906",
   "metadata": {
    "execution": {
     "iopub.execute_input": "2025-01-22T13:09:48.424337Z",
     "iopub.status.busy": "2025-01-22T13:09:48.424201Z",
     "iopub.status.idle": "2025-01-22T13:09:48.428076Z",
     "shell.execute_reply": "2025-01-22T13:09:48.427684Z"
    }
   },
   "outputs": [
    {
     "data": {
      "text/latex": [
       "$\\displaystyle \\left[\\begin{matrix}0\\\\0\\\\0\\end{matrix}\\right]$"
      ],
      "text/plain": [
       "⎡0⎤\n",
       "⎢ ⎥\n",
       "⎢0⎥\n",
       "⎢ ⎥\n",
       "⎣0⎦"
      ]
     },
     "execution_count": 29,
     "metadata": {},
     "output_type": "execute_result"
    }
   ],
   "source": [
    "zk = Yk_plus_zk.xreplace(qd_zero_repl)\n",
    "zk"
   ]
  },
  {
   "cell_type": "code",
   "execution_count": 30,
   "id": "0443ddfe",
   "metadata": {
    "execution": {
     "iopub.execute_input": "2025-01-22T13:09:48.429439Z",
     "iopub.status.busy": "2025-01-22T13:09:48.429203Z",
     "iopub.status.idle": "2025-01-22T13:09:48.775852Z",
     "shell.execute_reply": "2025-01-22T13:09:48.775370Z"
    }
   },
   "outputs": [
    {
     "data": {
      "text/latex": [
       "$\\displaystyle \\left[\\begin{matrix}\\dot{q}_{1}\\\\\\dot{q}_{2}\\\\\\dot{q}_{3}\\end{matrix}\\right] = \\left[\\begin{matrix}\\left(u_{1} \\sin{\\left(q_{1} \\right)} - u_{2} \\cos{\\left(q_{1} \\right)}\\right) \\tan{\\left(q_{2} \\right)} + u_{3}\\\\u_{1} \\cos{\\left(q_{1} \\right)} + u_{2} \\sin{\\left(q_{1} \\right)}\\\\- \\frac{u_{1} \\sin{\\left(q_{1} \\right)} - u_{2} \\cos{\\left(q_{1} \\right)}}{\\cos{\\left(q_{2} \\right)}}\\end{matrix}\\right]$"
      ],
      "text/plain": [
       "       ⎡(u₁⋅sin(q₁) - u₂⋅cos(q₁))⋅tan(q₂) + u₃⎤\n",
       "⎡q₁̇⎤   ⎢                                      ⎥\n",
       "⎢  ⎥   ⎢       u₁⋅cos(q₁) + u₂⋅sin(q₁)        ⎥\n",
       "⎢q₂̇⎥ = ⎢                                      ⎥\n",
       "⎢  ⎥   ⎢     -(u₁⋅sin(q₁) - u₂⋅cos(q₁))       ⎥\n",
       "⎣q₃̇⎦   ⎢     ───────────────────────────      ⎥\n",
       "       ⎣               cos(q₂)                ⎦"
      ]
     },
     "execution_count": 30,
     "metadata": {},
     "output_type": "execute_result"
    }
   ],
   "source": [
    "sm.Eq(qdot, sm.trigsimp(Yk.LUsolve(u - zk)))"
   ]
  },
  {
   "cell_type": "code",
   "execution_count": 31,
   "id": "3e882d4e",
   "metadata": {
    "execution": {
     "iopub.execute_input": "2025-01-22T13:09:48.777255Z",
     "iopub.status.busy": "2025-01-22T13:09:48.777103Z",
     "iopub.status.idle": "2025-01-22T13:09:48.779940Z",
     "shell.execute_reply": "2025-01-22T13:09:48.779578Z"
    }
   },
   "outputs": [],
   "source": [
    "q1, q2, q3, q4, q5 = me.dynamicsymbols('q1, q2, q3, q4, q5')\n",
    "l = sm.symbols('l')"
   ]
  },
  {
   "cell_type": "code",
   "execution_count": 32,
   "id": "ebedae5a",
   "metadata": {
    "execution": {
     "iopub.execute_input": "2025-01-22T13:09:48.781458Z",
     "iopub.status.busy": "2025-01-22T13:09:48.781171Z",
     "iopub.status.idle": "2025-01-22T13:09:48.792133Z",
     "shell.execute_reply": "2025-01-22T13:09:48.791744Z"
    }
   },
   "outputs": [],
   "source": [
    "N = me.ReferenceFrame('N')\n",
    "A = me.ReferenceFrame('A')\n",
    "B = me.ReferenceFrame('B')\n",
    "C = me.ReferenceFrame('C')\n",
    "\n",
    "A.orient_axis(N, q3, N.z)\n",
    "B.orient_axis(A, q4, A.z)\n",
    "C.orient_axis(A, q5, A.z)"
   ]
  },
  {
   "cell_type": "code",
   "execution_count": 33,
   "id": "0d5da1a7",
   "metadata": {
    "execution": {
     "iopub.execute_input": "2025-01-22T13:09:48.793358Z",
     "iopub.status.busy": "2025-01-22T13:09:48.793219Z",
     "iopub.status.idle": "2025-01-22T13:09:48.796928Z",
     "shell.execute_reply": "2025-01-22T13:09:48.796573Z"
    }
   },
   "outputs": [
    {
     "data": {
      "text/latex": [
       "$\\displaystyle \\dot{q}_{3}\\hat{n}_z$"
      ],
      "text/plain": [
       "q₃̇ n_z"
      ]
     },
     "execution_count": 33,
     "metadata": {},
     "output_type": "execute_result"
    }
   ],
   "source": [
    "A.ang_vel_in(N)"
   ]
  },
  {
   "cell_type": "code",
   "execution_count": 34,
   "id": "6e29a053",
   "metadata": {
    "execution": {
     "iopub.execute_input": "2025-01-22T13:09:48.798184Z",
     "iopub.status.busy": "2025-01-22T13:09:48.798018Z",
     "iopub.status.idle": "2025-01-22T13:09:48.802459Z",
     "shell.execute_reply": "2025-01-22T13:09:48.801996Z"
    }
   },
   "outputs": [
    {
     "data": {
      "text/latex": [
       "$\\displaystyle \\dot{q}_{4}\\hat{a}_z + \\dot{q}_{3}\\hat{n}_z$"
      ],
      "text/plain": [
       "q₄̇ a_z + q₃̇ n_z"
      ]
     },
     "execution_count": 34,
     "metadata": {},
     "output_type": "execute_result"
    }
   ],
   "source": [
    "B.ang_vel_in(N)"
   ]
  },
  {
   "cell_type": "code",
   "execution_count": 35,
   "id": "c7ba4d5e",
   "metadata": {
    "execution": {
     "iopub.execute_input": "2025-01-22T13:09:48.803781Z",
     "iopub.status.busy": "2025-01-22T13:09:48.803644Z",
     "iopub.status.idle": "2025-01-22T13:09:48.807707Z",
     "shell.execute_reply": "2025-01-22T13:09:48.807356Z"
    }
   },
   "outputs": [
    {
     "data": {
      "text/latex": [
       "$\\displaystyle \\dot{q}_{5}\\hat{a}_z + \\dot{q}_{3}\\hat{n}_z$"
      ],
      "text/plain": [
       "q₅̇ a_z + q₃̇ n_z"
      ]
     },
     "execution_count": 35,
     "metadata": {},
     "output_type": "execute_result"
    }
   ],
   "source": [
    "C.ang_vel_in(N)"
   ]
  },
  {
   "cell_type": "code",
   "execution_count": 36,
   "id": "9c26dcca",
   "metadata": {
    "execution": {
     "iopub.execute_input": "2025-01-22T13:09:48.809263Z",
     "iopub.status.busy": "2025-01-22T13:09:48.808825Z",
     "iopub.status.idle": "2025-01-22T13:09:48.813423Z",
     "shell.execute_reply": "2025-01-22T13:09:48.812904Z"
    }
   },
   "outputs": [],
   "source": [
    "O = me.Point('O')\n",
    "Ao = me.Point('A_o')\n",
    "Bo = me.Point('B_o')\n",
    "Co = me.Point('C_o')\n",
    "\n",
    "Ao.set_pos(O, q1*N.x + q2*N.y)\n",
    "Bo.set_pos(Ao, l/2*A.x)\n",
    "Co.set_pos(Ao, -l/2*A.x)"
   ]
  },
  {
   "cell_type": "code",
   "execution_count": 37,
   "id": "25a6ea05",
   "metadata": {
    "execution": {
     "iopub.execute_input": "2025-01-22T13:09:48.814908Z",
     "iopub.status.busy": "2025-01-22T13:09:48.814668Z",
     "iopub.status.idle": "2025-01-22T13:09:48.820954Z",
     "shell.execute_reply": "2025-01-22T13:09:48.820467Z"
    }
   },
   "outputs": [
    {
     "data": {
      "text/latex": [
       "$\\displaystyle \\dot{q}_{1}\\hat{n}_x + \\dot{q}_{2}\\hat{n}_y$"
      ],
      "text/plain": [
       "q₁̇ n_x + q₂̇ n_y"
      ]
     },
     "execution_count": 37,
     "metadata": {},
     "output_type": "execute_result"
    }
   ],
   "source": [
    "O.set_vel(N, 0)\n",
    "Ao.vel(N)"
   ]
  },
  {
   "cell_type": "code",
   "execution_count": 38,
   "id": "08baef23",
   "metadata": {
    "execution": {
     "iopub.execute_input": "2025-01-22T13:09:48.822264Z",
     "iopub.status.busy": "2025-01-22T13:09:48.822117Z",
     "iopub.status.idle": "2025-01-22T13:09:48.828704Z",
     "shell.execute_reply": "2025-01-22T13:09:48.828286Z"
    }
   },
   "outputs": [
    {
     "data": {
      "text/latex": [
       "$\\displaystyle \\dot{q}_{1}\\hat{n}_x + \\dot{q}_{2}\\hat{n}_y + \\frac{l \\dot{q}_{3}}{2}\\hat{a}_y$"
      ],
      "text/plain": [
       "                  l⋅q₃̇\n",
       "q₁̇ n_x + q₂̇ n_y + ──── a_y\n",
       "                   2"
      ]
     },
     "execution_count": 38,
     "metadata": {},
     "output_type": "execute_result"
    }
   ],
   "source": [
    "Bo.v2pt_theory(Ao, N, A)"
   ]
  },
  {
   "cell_type": "code",
   "execution_count": 39,
   "id": "dbc4002b",
   "metadata": {
    "execution": {
     "iopub.execute_input": "2025-01-22T13:09:48.829972Z",
     "iopub.status.busy": "2025-01-22T13:09:48.829828Z",
     "iopub.status.idle": "2025-01-22T13:09:48.836149Z",
     "shell.execute_reply": "2025-01-22T13:09:48.835755Z"
    }
   },
   "outputs": [
    {
     "data": {
      "text/latex": [
       "$\\displaystyle \\dot{q}_{1}\\hat{n}_x + \\dot{q}_{2}\\hat{n}_y -  \\frac{l \\dot{q}_{3}}{2}\\hat{a}_y$"
      ],
      "text/plain": [
       "                  -l⋅q₃̇\n",
       "q₁̇ n_x + q₂̇ n_y + ────── a_y\n",
       "                    2"
      ]
     },
     "execution_count": 39,
     "metadata": {},
     "output_type": "execute_result"
    }
   ],
   "source": [
    "Co.v2pt_theory(Ao, N, A)"
   ]
  },
  {
   "cell_type": "code",
   "execution_count": 40,
   "id": "b91aca0d",
   "metadata": {
    "execution": {
     "iopub.execute_input": "2025-01-22T13:09:48.837408Z",
     "iopub.status.busy": "2025-01-22T13:09:48.837261Z",
     "iopub.status.idle": "2025-01-22T13:09:49.167451Z",
     "shell.execute_reply": "2025-01-22T13:09:49.166881Z"
    }
   },
   "outputs": [
    {
     "data": {
      "text/latex": [
       "$\\displaystyle \\left[\\begin{matrix}\\frac{l \\cos{\\left(q_{4} \\right)} \\dot{q}_{3}}{2} - \\sin{\\left(q_{3} + q_{4} \\right)} \\dot{q}_{1} + \\cos{\\left(q_{3} + q_{4} \\right)} \\dot{q}_{2}\\\\- \\frac{l \\cos{\\left(q_{5} \\right)} \\dot{q}_{3}}{2} - \\sin{\\left(q_{3} + q_{5} \\right)} \\dot{q}_{1} + \\cos{\\left(q_{3} + q_{5} \\right)} \\dot{q}_{2}\\end{matrix}\\right]$"
      ],
      "text/plain": [
       "⎡ l⋅cos(q₄)⋅q₃̇                                     ⎤\n",
       "⎢ ──────────── - sin(q₃ + q₄)⋅q₁̇ + cos(q₃ + q₄)⋅q₂̇ ⎥\n",
       "⎢      2                                           ⎥\n",
       "⎢                                                  ⎥\n",
       "⎢  l⋅cos(q₅)⋅q₃̇                                    ⎥\n",
       "⎢- ──────────── - sin(q₃ + q₅)⋅q₁̇ + cos(q₃ + q₅)⋅q₂̇⎥\n",
       "⎣       2                                          ⎦"
      ]
     },
     "execution_count": 40,
     "metadata": {},
     "output_type": "execute_result"
    }
   ],
   "source": [
    "fn = sm.Matrix([Bo.vel(N).dot(B.y),\n",
    "                Co.vel(N).dot(C.y)])\n",
    "fn = sm.trigsimp(fn)\n",
    "fn"
   ]
  },
  {
   "cell_type": "code",
   "execution_count": 41,
   "id": "45568a3f",
   "metadata": {
    "execution": {
     "iopub.execute_input": "2025-01-22T13:09:49.169079Z",
     "iopub.status.busy": "2025-01-22T13:09:49.168893Z",
     "iopub.status.idle": "2025-01-22T13:09:49.187135Z",
     "shell.execute_reply": "2025-01-22T13:09:49.186640Z"
    }
   },
   "outputs": [
    {
     "data": {
      "text/latex": [
       "$\\displaystyle \\left[\\begin{matrix}- u_{1} \\sin{\\left(q_{3} + q_{4} \\right)} + u_{2} \\cos{\\left(q_{3} + q_{4} \\right)} + u_{3} \\cos{\\left(q_{4} \\right)}\\\\- u_{1} \\sin{\\left(q_{3} + q_{5} \\right)} + u_{2} \\cos{\\left(q_{3} + q_{5} \\right)} - u_{3} \\cos{\\left(q_{5} \\right)}\\end{matrix}\\right]$"
      ],
      "text/plain": [
       "⎡-u₁⋅sin(q₃ + q₄) + u₂⋅cos(q₃ + q₄) + u₃⋅cos(q₄)⎤\n",
       "⎢                                               ⎥\n",
       "⎣-u₁⋅sin(q₃ + q₅) + u₂⋅cos(q₃ + q₅) - u₃⋅cos(q₅)⎦"
      ]
     },
     "execution_count": 41,
     "metadata": {},
     "output_type": "execute_result"
    }
   ],
   "source": [
    "u1, u2, u3, u4, u5 = me.dynamicsymbols('u1, u2, u3, u4, u5')\n",
    "\n",
    "u_repl = {\n",
    "    q1.diff(): u1,\n",
    "    q2.diff(): u2,\n",
    "    l*q3.diff()/2: u3,\n",
    "    q4.diff(): u4,\n",
    "    q5.diff(): u5\n",
    "}\n",
    "\n",
    "fn = fn.subs(u_repl)\n",
    "fn"
   ]
  },
  {
   "cell_type": "code",
   "execution_count": 42,
   "id": "96ec879c",
   "metadata": {
    "execution": {
     "iopub.execute_input": "2025-01-22T13:09:49.188660Z",
     "iopub.status.busy": "2025-01-22T13:09:49.188421Z",
     "iopub.status.idle": "2025-01-22T13:09:49.191145Z",
     "shell.execute_reply": "2025-01-22T13:09:49.190634Z"
    }
   },
   "outputs": [],
   "source": [
    "us = sm.Matrix([u3, u4, u5])\n",
    "ur = sm.Matrix([u1, u2])"
   ]
  },
  {
   "cell_type": "code",
   "execution_count": 43,
   "id": "36457d03",
   "metadata": {
    "execution": {
     "iopub.execute_input": "2025-01-22T13:09:49.192425Z",
     "iopub.status.busy": "2025-01-22T13:09:49.192289Z",
     "iopub.status.idle": "2025-01-22T13:09:49.203169Z",
     "shell.execute_reply": "2025-01-22T13:09:49.202655Z"
    }
   },
   "outputs": [
    {
     "data": {
      "text/latex": [
       "$\\displaystyle \\left[\\begin{matrix}- \\sin{\\left(q_{3} + q_{4} \\right)} & \\cos{\\left(q_{3} + q_{4} \\right)}\\\\- \\sin{\\left(q_{3} + q_{5} \\right)} & \\cos{\\left(q_{3} + q_{5} \\right)}\\end{matrix}\\right]$"
      ],
      "text/plain": [
       "⎡-sin(q₃ + q₄)  cos(q₃ + q₄)⎤\n",
       "⎢                           ⎥\n",
       "⎣-sin(q₃ + q₅)  cos(q₃ + q₅)⎦"
      ]
     },
     "execution_count": 43,
     "metadata": {},
     "output_type": "execute_result"
    }
   ],
   "source": [
    "Ar = fn.jacobian(ur)\n",
    "Ar"
   ]
  },
  {
   "cell_type": "code",
   "execution_count": 44,
   "id": "169ad61e",
   "metadata": {
    "execution": {
     "iopub.execute_input": "2025-01-22T13:09:49.204688Z",
     "iopub.status.busy": "2025-01-22T13:09:49.204392Z",
     "iopub.status.idle": "2025-01-22T13:09:49.211507Z",
     "shell.execute_reply": "2025-01-22T13:09:49.211112Z"
    }
   },
   "outputs": [
    {
     "data": {
      "text/latex": [
       "$\\displaystyle \\left[\\begin{matrix}\\cos{\\left(q_{4} \\right)} & 0 & 0\\\\- \\cos{\\left(q_{5} \\right)} & 0 & 0\\end{matrix}\\right]$"
      ],
      "text/plain": [
       "⎡cos(q₄)   0  0⎤\n",
       "⎢              ⎥\n",
       "⎣-cos(q₅)  0  0⎦"
      ]
     },
     "execution_count": 44,
     "metadata": {},
     "output_type": "execute_result"
    }
   ],
   "source": [
    "As = fn.jacobian(us)\n",
    "As"
   ]
  },
  {
   "cell_type": "code",
   "execution_count": 45,
   "id": "583f514c",
   "metadata": {
    "execution": {
     "iopub.execute_input": "2025-01-22T13:09:49.212771Z",
     "iopub.status.busy": "2025-01-22T13:09:49.212641Z",
     "iopub.status.idle": "2025-01-22T13:09:49.217114Z",
     "shell.execute_reply": "2025-01-22T13:09:49.216698Z"
    }
   },
   "outputs": [
    {
     "data": {
      "text/latex": [
       "$\\displaystyle \\left[\\begin{matrix}0\\\\0\\end{matrix}\\right]$"
      ],
      "text/plain": [
       "⎡0⎤\n",
       "⎢ ⎥\n",
       "⎣0⎦"
      ]
     },
     "execution_count": 45,
     "metadata": {},
     "output_type": "execute_result"
    }
   ],
   "source": [
    "brs = fn.xreplace(dict(zip([u1, u2, u3, u4, u5], [0, 0, 0, 0, 0])))\n",
    "brs"
   ]
  },
  {
   "cell_type": "code",
   "execution_count": 46,
   "id": "eae714cd",
   "metadata": {
    "execution": {
     "iopub.execute_input": "2025-01-22T13:09:49.218549Z",
     "iopub.status.busy": "2025-01-22T13:09:49.218188Z",
     "iopub.status.idle": "2025-01-22T13:09:49.898556Z",
     "shell.execute_reply": "2025-01-22T13:09:49.898019Z"
    }
   },
   "outputs": [
    {
     "data": {
      "text/latex": [
       "$\\displaystyle \\left[\\begin{matrix}\\frac{\\frac{\\cos{\\left(q_{3} - q_{4} + q_{5} \\right)}}{2} + \\frac{\\cos{\\left(q_{3} + q_{4} - q_{5} \\right)}}{2} + \\cos{\\left(q_{3} + q_{4} + q_{5} \\right)}}{\\sin{\\left(q_{4} - q_{5} \\right)}} & 0 & 0\\\\\\frac{\\frac{\\sin{\\left(q_{3} - q_{4} + q_{5} \\right)}}{2} + \\frac{\\sin{\\left(q_{3} + q_{4} - q_{5} \\right)}}{2} + \\sin{\\left(q_{3} + q_{4} + q_{5} \\right)}}{\\sin{\\left(q_{4} - q_{5} \\right)}} & 0 & 0\\end{matrix}\\right]$"
      ],
      "text/plain": [
       "⎡cos(q₃ - q₄ + q₅)   cos(q₃ + q₄ - q₅)                          ⎤\n",
       "⎢───────────────── + ───────────────── + cos(q₃ + q₄ + q₅)      ⎥\n",
       "⎢        2                   2                                  ⎥\n",
       "⎢─────────────────────────────────────────────────────────  0  0⎥\n",
       "⎢                       sin(q₄ - q₅)                            ⎥\n",
       "⎢                                                               ⎥\n",
       "⎢sin(q₃ - q₄ + q₅)   sin(q₃ + q₄ - q₅)                          ⎥\n",
       "⎢───────────────── + ───────────────── + sin(q₃ + q₄ + q₅)      ⎥\n",
       "⎢        2                   2                                  ⎥\n",
       "⎢─────────────────────────────────────────────────────────  0  0⎥\n",
       "⎣                       sin(q₄ - q₅)                            ⎦"
      ]
     },
     "execution_count": 46,
     "metadata": {},
     "output_type": "execute_result"
    }
   ],
   "source": [
    "An = Ar.LUsolve(-As)\n",
    "An = sm.simplify(An)\n",
    "An"
   ]
  },
  {
   "cell_type": "code",
   "execution_count": 47,
   "id": "3ab5340d",
   "metadata": {
    "execution": {
     "iopub.execute_input": "2025-01-22T13:09:49.900223Z",
     "iopub.status.busy": "2025-01-22T13:09:49.900036Z",
     "iopub.status.idle": "2025-01-22T13:09:49.905934Z",
     "shell.execute_reply": "2025-01-22T13:09:49.905446Z"
    }
   },
   "outputs": [
    {
     "data": {
      "text/latex": [
       "$\\displaystyle \\left[\\begin{matrix}0\\\\0\\end{matrix}\\right]$"
      ],
      "text/plain": [
       "⎡0⎤\n",
       "⎢ ⎥\n",
       "⎣0⎦"
      ]
     },
     "execution_count": 47,
     "metadata": {},
     "output_type": "execute_result"
    }
   ],
   "source": [
    "bn = Ar.LUsolve(-brs)\n",
    "bn"
   ]
  },
  {
   "cell_type": "code",
   "execution_count": 48,
   "id": "55f4a1e4",
   "metadata": {
    "execution": {
     "iopub.execute_input": "2025-01-22T13:09:49.907445Z",
     "iopub.status.busy": "2025-01-22T13:09:49.907149Z",
     "iopub.status.idle": "2025-01-22T13:09:49.924527Z",
     "shell.execute_reply": "2025-01-22T13:09:49.924066Z"
    }
   },
   "outputs": [
    {
     "data": {
      "text/latex": [
       "$\\displaystyle \\left[\\begin{matrix}u_{1}\\\\u_{2}\\end{matrix}\\right] = \\left[\\begin{matrix}\\frac{\\left(\\frac{\\cos{\\left(q_{3} - q_{4} + q_{5} \\right)}}{2} + \\frac{\\cos{\\left(q_{3} + q_{4} - q_{5} \\right)}}{2} + \\cos{\\left(q_{3} + q_{4} + q_{5} \\right)}\\right) u_{3}}{\\sin{\\left(q_{4} - q_{5} \\right)}}\\\\\\frac{\\left(\\frac{\\sin{\\left(q_{3} - q_{4} + q_{5} \\right)}}{2} + \\frac{\\sin{\\left(q_{3} + q_{4} - q_{5} \\right)}}{2} + \\sin{\\left(q_{3} + q_{4} + q_{5} \\right)}\\right) u_{3}}{\\sin{\\left(q_{4} - q_{5} \\right)}}\\end{matrix}\\right]$"
      ],
      "text/plain": [
       "       ⎡⎛cos(q₃ - q₄ + q₅)   cos(q₃ + q₄ - q₅)                    ⎞   ⎤\n",
       "       ⎢⎜───────────────── + ───────────────── + cos(q₃ + q₄ + q₅)⎟⋅u₃⎥\n",
       "       ⎢⎝        2                   2                            ⎠   ⎥\n",
       "       ⎢──────────────────────────────────────────────────────────────⎥\n",
       "⎡u₁⎤   ⎢                         sin(q₄ - q₅)                         ⎥\n",
       "⎢  ⎥ = ⎢                                                              ⎥\n",
       "⎣u₂⎦   ⎢⎛sin(q₃ - q₄ + q₅)   sin(q₃ + q₄ - q₅)                    ⎞   ⎥\n",
       "       ⎢⎜───────────────── + ───────────────── + sin(q₃ + q₄ + q₅)⎟⋅u₃⎥\n",
       "       ⎢⎝        2                   2                            ⎠   ⎥\n",
       "       ⎢──────────────────────────────────────────────────────────────⎥\n",
       "       ⎣                         sin(q₄ - q₅)                         ⎦"
      ]
     },
     "execution_count": 48,
     "metadata": {},
     "output_type": "execute_result"
    }
   ],
   "source": [
    "sm.Eq(ur, An*us + bn)"
   ]
  }
 ],
 "metadata": {
  "kernelspec": {
   "display_name": "Python 3 (ipykernel)",
   "language": "python",
   "name": "python3"
  },
  "language_info": {
   "codemirror_mode": {
    "name": "ipython",
    "version": 3
   },
   "file_extension": ".py",
   "mimetype": "text/x-python",
   "name": "python",
   "nbconvert_exporter": "python",
   "pygments_lexer": "ipython3",
   "version": "3.11.11"
  }
 },
 "nbformat": 4,
 "nbformat_minor": 5
}