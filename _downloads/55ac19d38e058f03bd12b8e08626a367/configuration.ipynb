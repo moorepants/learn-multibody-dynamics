{
 "cells": [
  {
   "cell_type": "code",
   "execution_count": 1,
   "id": "4bf9dfb5",
   "metadata": {
    "execution": {
     "iopub.execute_input": "2025-09-11T11:33:01.970777Z",
     "iopub.status.busy": "2025-09-11T11:33:01.970617Z",
     "iopub.status.idle": "2025-09-11T11:33:02.319605Z",
     "shell.execute_reply": "2025-09-11T11:33:02.319034Z"
    }
   },
   "outputs": [],
   "source": [
    "import sympy as sm\n",
    "import sympy.physics.mechanics as me\n",
    "me.init_vprinting(use_latex='mathjax')"
   ]
  },
  {
   "cell_type": "code",
   "execution_count": 2,
   "id": "2240dbd8",
   "metadata": {
    "execution": {
     "iopub.execute_input": "2025-09-11T11:33:02.321382Z",
     "iopub.status.busy": "2025-09-11T11:33:02.321154Z",
     "iopub.status.idle": "2025-09-11T11:33:02.324710Z",
     "shell.execute_reply": "2025-09-11T11:33:02.324304Z"
    }
   },
   "outputs": [],
   "source": [
    "class ReferenceFrame(me.ReferenceFrame):\n",
    "\n",
    "    def __init__(self, *args, **kwargs):\n",
    "\n",
    "        kwargs.pop('latexs', None)\n",
    "\n",
    "        lab = args[0].lower()\n",
    "        tex = r'\\hat{{{}}}_{}'\n",
    "\n",
    "        super(ReferenceFrame, self).__init__(*args,\n",
    "                                             latexs=(tex.format(lab, 'x'),\n",
    "                                                     tex.format(lab, 'y'),\n",
    "                                                     tex.format(lab, 'z')),\n",
    "                                             **kwargs)\n",
    "me.ReferenceFrame = ReferenceFrame"
   ]
  },
  {
   "cell_type": "code",
   "execution_count": 3,
   "id": "e695d76a",
   "metadata": {
    "execution": {
     "iopub.execute_input": "2025-09-11T11:33:02.326089Z",
     "iopub.status.busy": "2025-09-11T11:33:02.325933Z",
     "iopub.status.idle": "2025-09-11T11:33:02.340217Z",
     "shell.execute_reply": "2025-09-11T11:33:02.339797Z"
    }
   },
   "outputs": [],
   "source": [
    "q1, q2, q3 = me.dynamicsymbols('q1, q2, q3')\n",
    "la, lb, lc, ln = sm.symbols('l_a, l_b, l_c, l_n')\n",
    "\n",
    "N = me.ReferenceFrame('N')\n",
    "A = me.ReferenceFrame('A')\n",
    "B = me.ReferenceFrame('B')\n",
    "C = me.ReferenceFrame('C')\n",
    "\n",
    "A.orient_axis(N, q1, N.z)\n",
    "B.orient_axis(A, q2, A.z)\n",
    "C.orient_axis(B, q3, B.z)\n",
    "\n",
    "P1 = me.Point('P1')\n",
    "P2 = me.Point('P2')\n",
    "P3 = me.Point('P3')\n",
    "P4 = me.Point('P4')"
   ]
  },
  {
   "cell_type": "code",
   "execution_count": 4,
   "id": "491a80a9",
   "metadata": {
    "execution": {
     "iopub.execute_input": "2025-09-11T11:33:02.341617Z",
     "iopub.status.busy": "2025-09-11T11:33:02.341461Z",
     "iopub.status.idle": "2025-09-11T11:33:02.347498Z",
     "shell.execute_reply": "2025-09-11T11:33:02.346987Z"
    }
   },
   "outputs": [
    {
     "data": {
      "text/latex": [
       "$\\displaystyle l_{c}\\hat{c}_x + l_{b}\\hat{b}_x + l_{a}\\hat{a}_x$"
      ],
      "text/plain": [
       "l_c c_x + l_b b_x + lₐ a_x"
      ]
     },
     "execution_count": 4,
     "metadata": {},
     "output_type": "execute_result"
    }
   ],
   "source": [
    "P2.set_pos(P1, la*A.x)\n",
    "P3.set_pos(P2, lb*B.x)\n",
    "P4.set_pos(P3, lc*C.x)\n",
    "\n",
    "P4.pos_from(P1)"
   ]
  },
  {
   "cell_type": "code",
   "execution_count": 5,
   "id": "aea4e6f5",
   "metadata": {
    "execution": {
     "iopub.execute_input": "2025-09-11T11:33:02.348883Z",
     "iopub.status.busy": "2025-09-11T11:33:02.348729Z",
     "iopub.status.idle": "2025-09-11T11:33:02.351157Z",
     "shell.execute_reply": "2025-09-11T11:33:02.350684Z"
    }
   },
   "outputs": [],
   "source": [
    "r_P1_P4 = ln*N.x"
   ]
  },
  {
   "cell_type": "code",
   "execution_count": 6,
   "id": "f2ff0623",
   "metadata": {
    "execution": {
     "iopub.execute_input": "2025-09-11T11:33:02.352456Z",
     "iopub.status.busy": "2025-09-11T11:33:02.352304Z",
     "iopub.status.idle": "2025-09-11T11:33:02.356807Z",
     "shell.execute_reply": "2025-09-11T11:33:02.356294Z"
    }
   },
   "outputs": [
    {
     "data": {
      "text/latex": [
       "$\\displaystyle l_{c}\\hat{c}_x + l_{b}\\hat{b}_x + l_{a}\\hat{a}_x -  l_{n}\\hat{n}_x$"
      ],
      "text/plain": [
       "l_c c_x + l_b b_x + lₐ a_x + -lₙ n_x"
      ]
     },
     "execution_count": 6,
     "metadata": {},
     "output_type": "execute_result"
    }
   ],
   "source": [
    "loop = P4.pos_from(P1) - r_P1_P4\n",
    "loop"
   ]
  },
  {
   "cell_type": "code",
   "execution_count": 7,
   "id": "e8ad9266",
   "metadata": {
    "execution": {
     "iopub.execute_input": "2025-09-11T11:33:02.358003Z",
     "iopub.status.busy": "2025-09-11T11:33:02.357856Z",
     "iopub.status.idle": "2025-09-11T11:33:02.668291Z",
     "shell.execute_reply": "2025-09-11T11:33:02.667802Z"
    }
   },
   "outputs": [
    {
     "data": {
      "text/latex": [
       "$\\displaystyle l_{a} \\cos{\\left(q_{1} \\right)} + l_{b} \\cos{\\left(q_{1} + q_{2} \\right)} + l_{c} \\cos{\\left(q_{1} + q_{2} + q_{3} \\right)} - l_{n}$"
      ],
      "text/plain": [
       "lₐ⋅cos(q₁) + l_b⋅cos(q₁ + q₂) + l_c⋅cos(q₁ + q₂ + q₃) - lₙ"
      ]
     },
     "execution_count": 7,
     "metadata": {},
     "output_type": "execute_result"
    }
   ],
   "source": [
    "fhx = sm.trigsimp(loop.dot(N.x))\n",
    "fhx"
   ]
  },
  {
   "cell_type": "code",
   "execution_count": 8,
   "id": "bfcd9ab0",
   "metadata": {
    "execution": {
     "iopub.execute_input": "2025-09-11T11:33:02.669632Z",
     "iopub.status.busy": "2025-09-11T11:33:02.669485Z",
     "iopub.status.idle": "2025-09-11T11:33:02.916602Z",
     "shell.execute_reply": "2025-09-11T11:33:02.916116Z"
    }
   },
   "outputs": [
    {
     "data": {
      "text/latex": [
       "$\\displaystyle l_{a} \\sin{\\left(q_{1} \\right)} + l_{b} \\sin{\\left(q_{1} + q_{2} \\right)} + l_{c} \\sin{\\left(q_{1} + q_{2} + q_{3} \\right)}$"
      ],
      "text/plain": [
       "lₐ⋅sin(q₁) + l_b⋅sin(q₁ + q₂) + l_c⋅sin(q₁ + q₂ + q₃)"
      ]
     },
     "execution_count": 8,
     "metadata": {},
     "output_type": "execute_result"
    }
   ],
   "source": [
    "fhy = sm.trigsimp(loop.dot(N.y))\n",
    "fhy"
   ]
  },
  {
   "cell_type": "code",
   "execution_count": 9,
   "id": "3b04f818",
   "metadata": {
    "execution": {
     "iopub.execute_input": "2025-09-11T11:33:02.917952Z",
     "iopub.status.busy": "2025-09-11T11:33:02.917808Z",
     "iopub.status.idle": "2025-09-11T11:33:02.925597Z",
     "shell.execute_reply": "2025-09-11T11:33:02.925094Z"
    }
   },
   "outputs": [
    {
     "data": {
      "text/latex": [
       "$\\displaystyle \\left[\\begin{matrix}l_{a} \\cos{\\left(q_{1} \\right)} + l_{b} \\cos{\\left(q_{1} + q_{2} \\right)} + l_{c} \\cos{\\left(q_{1} + q_{2} + q_{3} \\right)} - l_{n}\\\\l_{a} \\sin{\\left(q_{1} \\right)} + l_{b} \\sin{\\left(q_{1} + q_{2} \\right)} + l_{c} \\sin{\\left(q_{1} + q_{2} + q_{3} \\right)}\\end{matrix}\\right]$"
      ],
      "text/plain": [
       "⎡lₐ⋅cos(q₁) + l_b⋅cos(q₁ + q₂) + l_c⋅cos(q₁ + q₂ + q₃) - lₙ⎤\n",
       "⎢                                                          ⎥\n",
       "⎣  lₐ⋅sin(q₁) + l_b⋅sin(q₁ + q₂) + l_c⋅sin(q₁ + q₂ + q₃)   ⎦"
      ]
     },
     "execution_count": 9,
     "metadata": {},
     "output_type": "execute_result"
    }
   ],
   "source": [
    "fh = sm.Matrix([fhx, fhy])\n",
    "fh"
   ]
  },
  {
   "cell_type": "code",
   "execution_count": 10,
   "id": "a2e71ed4",
   "metadata": {
    "execution": {
     "iopub.execute_input": "2025-09-11T11:33:02.926891Z",
     "iopub.status.busy": "2025-09-11T11:33:02.926752Z",
     "iopub.status.idle": "2025-09-11T11:33:03.366642Z",
     "shell.execute_reply": "2025-09-11T11:33:03.366154Z"
    }
   },
   "outputs": [
    {
     "data": {
      "text/latex": [
       "$\\displaystyle \\left[\\begin{matrix}2 a \\cos{\\left(q_{1} + q_{2} \\right)} + b \\cos{\\left(q_{1} + q_{2} + q_{3} \\right)} + b \\cos{\\left(q_{1} \\right)} - \\frac{39 b}{20}\\\\2 a \\sin{\\left(q_{1} + q_{2} \\right)} + 2 a + b \\sin{\\left(q_{1} + q_{2} + q_{3} \\right)} + b \\sin{\\left(q_{1} \\right)}\\end{matrix}\\right]$"
      ],
      "text/plain": [
       "⎡                                                     39⋅b⎤\n",
       "⎢2⋅a⋅cos(q₁ + q₂) + b⋅cos(q₁ + q₂ + q₃) + b⋅cos(q₁) - ────⎥\n",
       "⎢                                                      20 ⎥\n",
       "⎢                                                         ⎥\n",
       "⎣2⋅a⋅sin(q₁ + q₂) + 2⋅a + b⋅sin(q₁ + q₂ + q₃) + b⋅sin(q₁) ⎦"
      ]
     },
     "execution_count": 10,
     "metadata": {},
     "output_type": "execute_result"
    }
   ],
   "source": [
    "q1, q2, q3 = me.dynamicsymbols('q1, q2, q3')\n",
    "a, b = sm.symbols('a, b')\n",
    "\n",
    "N = me.ReferenceFrame('N')\n",
    "A = me.ReferenceFrame('A')\n",
    "B = me.ReferenceFrame('B')\n",
    "C = me.ReferenceFrame('C')\n",
    "\n",
    "A.orient_axis(N, q1, N.z)\n",
    "B.orient_axis(A, q2, A.z)\n",
    "C.orient_axis(B, q3, B.z)\n",
    "\n",
    "P1 = me.Point('P1')\n",
    "P2 = me.Point('P2')\n",
    "P3 = me.Point('P3')\n",
    "P4 = me.Point('P4')\n",
    "\n",
    "P2.set_pos(P1, b*A.x)\n",
    "P3.set_pos(P2, 2*a*B.x)\n",
    "P4.set_pos(P3, b*C.x)\n",
    "\n",
    "P4.pos_from(P1)\n",
    "\n",
    "r_P1_P4 = (2 - sm.S(1)/20)*b*N.x - 2*a*N.y\n",
    "\n",
    "loop = P4.pos_from(P1) - r_P1_P4\n",
    "\n",
    "fh_watts = sm.trigsimp(sm.Matrix([loop.dot(N.x), loop.dot(N.y)]))\n",
    "fh_watts"
   ]
  },
  {
   "cell_type": "code",
   "execution_count": 11,
   "id": "cd77ba8c",
   "metadata": {
    "execution": {
     "iopub.execute_input": "2025-09-11T11:33:03.368002Z",
     "iopub.status.busy": "2025-09-11T11:33:03.367855Z",
     "iopub.status.idle": "2025-09-11T11:33:03.372029Z",
     "shell.execute_reply": "2025-09-11T11:33:03.371544Z"
    }
   },
   "outputs": [
    {
     "data": {
      "text/latex": [
       "$\\displaystyle \\left\\{ l_{a} : 1.0, \\  l_{b} : 4.0, \\  l_{c} : 3.0, \\  l_{n} : 5.0, \\  q_{1} : 0.523598775598299\\right\\}$"
      ],
      "text/plain": [
       "{lₐ: 1.0, l_b: 4.0, l_c: 3.0, lₙ: 5.0, q₁: 0.5235987755982988}"
      ]
     },
     "execution_count": 11,
     "metadata": {},
     "output_type": "execute_result"
    }
   ],
   "source": [
    "import math  # provides pi as a float\n",
    "\n",
    "repl = {\n",
    "    la: 1.0,\n",
    "    lb: 4.0,\n",
    "    lc: 3.0,\n",
    "    ln: 5.0,\n",
    "    q1: 30.0/180.0*math.pi,  # 30 degrees in radians\n",
    "}\n",
    "repl"
   ]
  },
  {
   "cell_type": "code",
   "execution_count": 12,
   "id": "b762c650",
   "metadata": {
    "execution": {
     "iopub.execute_input": "2025-09-11T11:33:03.373375Z",
     "iopub.status.busy": "2025-09-11T11:33:03.373206Z",
     "iopub.status.idle": "2025-09-11T11:33:03.386172Z",
     "shell.execute_reply": "2025-09-11T11:33:03.385788Z"
    }
   },
   "outputs": [
    {
     "data": {
      "text/latex": [
       "$\\displaystyle \\left[\\begin{matrix}4.0 \\cos{\\left(q_{2} + 0.523598775598299 \\right)} + 3.0 \\cos{\\left(q_{2} + q_{3} + 0.523598775598299 \\right)} - 4.13397459621556\\\\4.0 \\sin{\\left(q_{2} + 0.523598775598299 \\right)} + 3.0 \\sin{\\left(q_{2} + q_{3} + 0.523598775598299 \\right)} + 0.5\\end{matrix}\\right]$"
      ],
      "text/plain": [
       "⎡4.0⋅cos(q₂ + 0.523598775598299) + 3.0⋅cos(q₂ + q₃ + 0.523598775598299) - 4.13\n",
       "⎢                                                                             \n",
       "⎣      4.0⋅sin(q₂ + 0.523598775598299) + 3.0⋅sin(q₂ + q₃ + 0.523598775598299) \n",
       "\n",
       "397459621556⎤\n",
       "            ⎥\n",
       "+ 0.5       ⎦"
      ]
     },
     "execution_count": 12,
     "metadata": {},
     "output_type": "execute_result"
    }
   ],
   "source": [
    "fh.xreplace(repl)"
   ]
  },
  {
   "cell_type": "code",
   "execution_count": 13,
   "id": "3006386f",
   "metadata": {
    "execution": {
     "iopub.execute_input": "2025-09-11T11:33:03.387394Z",
     "iopub.status.busy": "2025-09-11T11:33:03.387256Z",
     "iopub.status.idle": "2025-09-11T11:33:03.450440Z",
     "shell.execute_reply": "2025-09-11T11:33:03.449986Z"
    }
   },
   "outputs": [
    {
     "data": {
      "text/latex": [
       "$\\displaystyle \\left[\\begin{matrix}-79.9561178980214\\\\108.613175851763\\end{matrix}\\right]$"
      ],
      "text/plain": [
       "⎡-79.9561178980214⎤\n",
       "⎢                 ⎥\n",
       "⎣108.613175851763 ⎦"
      ]
     },
     "execution_count": 13,
     "metadata": {},
     "output_type": "execute_result"
    }
   ],
   "source": [
    "q2_guess = -75.0/180.0*math.pi  # -75 degrees in radians\n",
    "q3_guess = 100.0/180.0*math.pi  # 100 degrees in radians\n",
    "\n",
    "sol = sm.nsolve(fh.xreplace(repl), (q2, q3), (q2_guess, q3_guess))\n",
    "sol/math.pi*180.0  # to degrees"
   ]
  },
  {
   "cell_type": "code",
   "execution_count": 14,
   "id": "ffe85259",
   "metadata": {
    "execution": {
     "iopub.execute_input": "2025-09-11T11:33:03.451709Z",
     "iopub.status.busy": "2025-09-11T11:33:03.451569Z",
     "iopub.status.idle": "2025-09-11T11:33:03.455965Z",
     "shell.execute_reply": "2025-09-11T11:33:03.455496Z"
    }
   },
   "outputs": [
    {
     "data": {
      "text/latex": [
       "$\\displaystyle \\left\\{ a : 1.0, \\  b : 4.0, \\  q_{2} : 4.62512251778497 - q_{1}\\right\\}$"
      ],
      "text/plain": [
       "{a: 1.0, b: 4.0, q₂: 4.62512251778497 - q₁}"
      ]
     },
     "execution_count": 14,
     "metadata": {},
     "output_type": "execute_result"
    }
   ],
   "source": [
    "repl = {\n",
    "    a: 1.0,\n",
    "    b: 4.0,\n",
    "    q2: 3.0*math.pi/2.0 - 5.0/180.0*math.pi - q1,\n",
    "}\n",
    "repl"
   ]
  },
  {
   "cell_type": "code",
   "execution_count": 15,
   "id": "67425e3c",
   "metadata": {
    "execution": {
     "iopub.execute_input": "2025-09-11T11:33:03.457305Z",
     "iopub.status.busy": "2025-09-11T11:33:03.457138Z",
     "iopub.status.idle": "2025-09-11T11:33:03.467417Z",
     "shell.execute_reply": "2025-09-11T11:33:03.466920Z"
    }
   },
   "outputs": [
    {
     "data": {
      "text/latex": [
       "$\\displaystyle \\left[\\begin{matrix}4.0 \\cos{\\left(q_{3} + 4.62512251778497 \\right)} + 4.0 \\cos{\\left(q_{1} \\right)} - 7.97431148549532\\\\4.0 \\sin{\\left(q_{3} + 4.62512251778497 \\right)} + 4.0 \\sin{\\left(q_{1} \\right)} + 0.00761060381650891\\end{matrix}\\right]$"
      ],
      "text/plain": [
       "⎡ 4.0⋅cos(q₃ + 4.62512251778497) + 4.0⋅cos(q₁) - 7.97431148549532  ⎤\n",
       "⎢                                                                  ⎥\n",
       "⎣4.0⋅sin(q₃ + 4.62512251778497) + 4.0⋅sin(q₁) + 0.00761060381650891⎦"
      ]
     },
     "execution_count": 15,
     "metadata": {},
     "output_type": "execute_result"
    }
   ],
   "source": [
    "fh_watts.xreplace(repl)"
   ]
  },
  {
   "cell_type": "code",
   "execution_count": 16,
   "id": "9839642f",
   "metadata": {
    "execution": {
     "iopub.execute_input": "2025-09-11T11:33:03.468694Z",
     "iopub.status.busy": "2025-09-11T11:33:03.468539Z",
     "iopub.status.idle": "2025-09-11T11:33:03.499992Z",
     "shell.execute_reply": "2025-09-11T11:33:03.499590Z"
    }
   },
   "outputs": [
    {
     "data": {
      "text/latex": [
       "$\\displaystyle \\left[\\begin{matrix}4.53780194767253\\\\90.3528330377729\\end{matrix}\\right]$"
      ],
      "text/plain": [
       "⎡4.53780194767253⎤\n",
       "⎢                ⎥\n",
       "⎣90.3528330377729⎦"
      ]
     },
     "execution_count": 16,
     "metadata": {},
     "output_type": "execute_result"
    }
   ],
   "source": [
    "q1_guess = 10.0/180.0*math.pi\n",
    "q3_guess = 100.0/180.0*math.pi\n",
    "\n",
    "sol = sm.nsolve(fh_watts.xreplace(repl), (q1, q3), (q1_guess, q3_guess))\n",
    "sol/math.pi*180.0  # to degrees"
   ]
  },
  {
   "cell_type": "code",
   "execution_count": 17,
   "id": "ada8f1df",
   "metadata": {
    "execution": {
     "iopub.execute_input": "2025-09-11T11:33:03.501209Z",
     "iopub.status.busy": "2025-09-11T11:33:03.501073Z",
     "iopub.status.idle": "2025-09-11T11:33:03.504638Z",
     "shell.execute_reply": "2025-09-11T11:33:03.504255Z"
    }
   },
   "outputs": [],
   "source": [
    "P1 = me.Point('P1')\n",
    "P2 = me.Point('P2')\n",
    "P3 = me.Point('P3')\n",
    "P4 = me.Point('P4')\n",
    "P2.set_pos(P1, la*A.x)\n",
    "P3.set_pos(P2, lb*B.x)\n",
    "P4.set_pos(P3, lc*C.x)"
   ]
  },
  {
   "cell_type": "code",
   "execution_count": 18,
   "id": "87220d4c",
   "metadata": {
    "execution": {
     "iopub.execute_input": "2025-09-11T11:33:03.505838Z",
     "iopub.status.busy": "2025-09-11T11:33:03.505694Z",
     "iopub.status.idle": "2025-09-11T11:33:03.527533Z",
     "shell.execute_reply": "2025-09-11T11:33:03.527044Z"
    }
   },
   "outputs": [
    {
     "data": {
      "text/latex": [
       "$\\displaystyle l_{c} \\left(\\dot{q}_{1} + \\dot{q}_{2} + \\dot{q}_{3}\\right)\\hat{c}_y + l_{b} \\left(\\dot{q}_{1} + \\dot{q}_{2}\\right)\\hat{b}_y + l_{a} \\dot{q}_{1}\\hat{a}_y$"
      ],
      "text/plain": [
       "l_c⋅(q₁̇ + q₂̇ + q₃̇) c_y + l_b⋅(q₁̇ + q₂̇) b_y + lₐ⋅q₁̇ a_y"
      ]
     },
     "execution_count": 18,
     "metadata": {},
     "output_type": "execute_result"
    }
   ],
   "source": [
    "P1.set_vel(N, 0)\n",
    "P4.vel(N)"
   ]
  },
  {
   "cell_type": "code",
   "execution_count": 19,
   "id": "4bd2f564",
   "metadata": {
    "execution": {
     "iopub.execute_input": "2025-09-11T11:33:03.528879Z",
     "iopub.status.busy": "2025-09-11T11:33:03.528725Z",
     "iopub.status.idle": "2025-09-11T11:33:04.076719Z",
     "shell.execute_reply": "2025-09-11T11:33:04.076173Z"
    }
   },
   "outputs": [
    {
     "data": {
      "text/latex": [
       "$\\displaystyle - l_{a} \\sin{\\left(q_{1} \\right)} \\dot{q}_{1} - l_{b} \\left(\\dot{q}_{1} + \\dot{q}_{2}\\right) \\sin{\\left(q_{1} + q_{2} \\right)} - l_{c} \\left(\\dot{q}_{1} + \\dot{q}_{2} + \\dot{q}_{3}\\right) \\sin{\\left(q_{1} + q_{2} + q_{3} \\right)}$"
      ],
      "text/plain": [
       "-lₐ⋅sin(q₁)⋅q₁̇ - l_b⋅(q₁̇ + q₂̇)⋅sin(q₁ + q₂) - l_c⋅(q₁̇ + q₂̇ + q₃̇)⋅sin(q₁ \n",
       "+ q₂ + q₃)"
      ]
     },
     "execution_count": 19,
     "metadata": {},
     "output_type": "execute_result"
    }
   ],
   "source": [
    "sm.trigsimp(P4.vel(N).dot(N.x))"
   ]
  },
  {
   "cell_type": "code",
   "execution_count": 20,
   "id": "29d11286",
   "metadata": {
    "execution": {
     "iopub.execute_input": "2025-09-11T11:33:04.078130Z",
     "iopub.status.busy": "2025-09-11T11:33:04.077967Z",
     "iopub.status.idle": "2025-09-11T11:33:04.606958Z",
     "shell.execute_reply": "2025-09-11T11:33:04.606529Z"
    }
   },
   "outputs": [
    {
     "data": {
      "text/latex": [
       "$\\displaystyle l_{a} \\cos{\\left(q_{1} \\right)} \\dot{q}_{1} + l_{b} \\left(\\dot{q}_{1} + \\dot{q}_{2}\\right) \\cos{\\left(q_{1} + q_{2} \\right)} + l_{c} \\left(\\dot{q}_{1} + \\dot{q}_{2} + \\dot{q}_{3}\\right) \\cos{\\left(q_{1} + q_{2} + q_{3} \\right)}$"
      ],
      "text/plain": [
       "lₐ⋅cos(q₁)⋅q₁̇ + l_b⋅(q₁̇ + q₂̇)⋅cos(q₁ + q₂) + l_c⋅(q₁̇ + q₂̇ + q₃̇)⋅cos(q₁ +\n",
       " q₂ + q₃)"
      ]
     },
     "execution_count": 20,
     "metadata": {},
     "output_type": "execute_result"
    }
   ],
   "source": [
    "sm.trigsimp(P4.vel(N).dot(N.y))"
   ]
  },
  {
   "cell_type": "code",
   "execution_count": 21,
   "id": "38a22989",
   "metadata": {
    "execution": {
     "iopub.execute_input": "2025-09-11T11:33:04.608420Z",
     "iopub.status.busy": "2025-09-11T11:33:04.608257Z",
     "iopub.status.idle": "2025-09-11T11:33:04.637715Z",
     "shell.execute_reply": "2025-09-11T11:33:04.637350Z"
    }
   },
   "outputs": [
    {
     "data": {
      "text/latex": [
       "$\\displaystyle \\left[\\begin{matrix}- l_{a} \\sin{\\left(q_{1} \\right)} \\dot{q}_{1} - l_{b} \\left(\\dot{q}_{1} + \\dot{q}_{2}\\right) \\sin{\\left(q_{1} + q_{2} \\right)} - l_{c} \\left(\\dot{q}_{1} + \\dot{q}_{2} + \\dot{q}_{3}\\right) \\sin{\\left(q_{1} + q_{2} + q_{3} \\right)}\\\\l_{a} \\cos{\\left(q_{1} \\right)} \\dot{q}_{1} + l_{b} \\left(\\dot{q}_{1} + \\dot{q}_{2}\\right) \\cos{\\left(q_{1} + q_{2} \\right)} + l_{c} \\left(\\dot{q}_{1} + \\dot{q}_{2} + \\dot{q}_{3}\\right) \\cos{\\left(q_{1} + q_{2} + q_{3} \\right)}\\end{matrix}\\right]$"
      ],
      "text/plain": [
       "⎡-lₐ⋅sin(q₁)⋅q₁̇ - l_b⋅(q₁̇ + q₂̇)⋅sin(q₁ + q₂) - l_c⋅(q₁̇ + q₂̇ + q₃̇)⋅sin(q₁\n",
       "⎢                                                                             \n",
       "⎣lₐ⋅cos(q₁)⋅q₁̇ + l_b⋅(q₁̇ + q₂̇)⋅cos(q₁ + q₂) + l_c⋅(q₁̇ + q₂̇ + q₃̇)⋅cos(q₁ \n",
       "\n",
       " + q₂ + q₃)⎤\n",
       "     ⎥\n",
       "+ q₂ + q₃) ⎦"
      ]
     },
     "execution_count": 21,
     "metadata": {},
     "output_type": "execute_result"
    }
   ],
   "source": [
    "t = me.dynamicsymbols._t\n",
    "fhd = fh.diff(t)\n",
    "fhd"
   ]
  },
  {
   "cell_type": "code",
   "execution_count": 22,
   "id": "c534c3a7",
   "metadata": {
    "execution": {
     "iopub.execute_input": "2025-09-11T11:33:04.638935Z",
     "iopub.status.busy": "2025-09-11T11:33:04.638783Z",
     "iopub.status.idle": "2025-09-11T11:33:04.643515Z",
     "shell.execute_reply": "2025-09-11T11:33:04.643110Z"
    }
   },
   "outputs": [
    {
     "data": {
      "text/latex": [
       "$\\displaystyle \\left[\\begin{matrix}\\dot{q}_{2}\\\\\\dot{q}_{3}\\end{matrix}\\right]$"
      ],
      "text/plain": [
       "⎡q₂̇⎤\n",
       "⎢  ⎥\n",
       "⎣q₃̇⎦"
      ]
     },
     "execution_count": 22,
     "metadata": {},
     "output_type": "execute_result"
    }
   ],
   "source": [
    "x = sm.Matrix([q2.diff(t), q3.diff(t)])\n",
    "x"
   ]
  },
  {
   "cell_type": "code",
   "execution_count": 23,
   "id": "dca8cf92",
   "metadata": {
    "execution": {
     "iopub.execute_input": "2025-09-11T11:33:04.644742Z",
     "iopub.status.busy": "2025-09-11T11:33:04.644594Z",
     "iopub.status.idle": "2025-09-11T11:33:04.663589Z",
     "shell.execute_reply": "2025-09-11T11:33:04.663088Z"
    }
   },
   "outputs": [
    {
     "data": {
      "text/latex": [
       "$\\displaystyle \\left[\\begin{matrix}- l_{b} \\sin{\\left(q_{1} + q_{2} \\right)} - l_{c} \\sin{\\left(q_{1} + q_{2} + q_{3} \\right)} & - l_{c} \\sin{\\left(q_{1} + q_{2} + q_{3} \\right)}\\\\l_{b} \\cos{\\left(q_{1} + q_{2} \\right)} + l_{c} \\cos{\\left(q_{1} + q_{2} + q_{3} \\right)} & l_{c} \\cos{\\left(q_{1} + q_{2} + q_{3} \\right)}\\end{matrix}\\right]$"
      ],
      "text/plain": [
       "⎡-l_b⋅sin(q₁ + q₂) - l_c⋅sin(q₁ + q₂ + q₃)  -l_c⋅sin(q₁ + q₂ + q₃)⎤\n",
       "⎢                                                                 ⎥\n",
       "⎣l_b⋅cos(q₁ + q₂) + l_c⋅cos(q₁ + q₂ + q₃)   l_c⋅cos(q₁ + q₂ + q₃) ⎦"
      ]
     },
     "execution_count": 23,
     "metadata": {},
     "output_type": "execute_result"
    }
   ],
   "source": [
    "A = fhd.jacobian(x)\n",
    "A"
   ]
  },
  {
   "cell_type": "code",
   "execution_count": 24,
   "id": "4018eff3",
   "metadata": {
    "execution": {
     "iopub.execute_input": "2025-09-11T11:33:04.664888Z",
     "iopub.status.busy": "2025-09-11T11:33:04.664745Z",
     "iopub.status.idle": "2025-09-11T11:33:04.675355Z",
     "shell.execute_reply": "2025-09-11T11:33:04.674845Z"
    }
   },
   "outputs": [
    {
     "data": {
      "text/latex": [
       "$\\displaystyle \\left[\\begin{matrix}l_{a} \\sin{\\left(q_{1} \\right)} \\dot{q}_{1} + l_{b} \\sin{\\left(q_{1} + q_{2} \\right)} \\dot{q}_{1} + l_{c} \\sin{\\left(q_{1} + q_{2} + q_{3} \\right)} \\dot{q}_{1}\\\\- l_{a} \\cos{\\left(q_{1} \\right)} \\dot{q}_{1} - l_{b} \\cos{\\left(q_{1} + q_{2} \\right)} \\dot{q}_{1} - l_{c} \\cos{\\left(q_{1} + q_{2} + q_{3} \\right)} \\dot{q}_{1}\\end{matrix}\\right]$"
      ],
      "text/plain": [
       "⎡lₐ⋅sin(q₁)⋅q₁̇ + l_b⋅sin(q₁ + q₂)⋅q₁̇ + l_c⋅sin(q₁ + q₂ + q₃)⋅q₁̇ ⎤\n",
       "⎢                                                               ⎥\n",
       "⎣-lₐ⋅cos(q₁)⋅q₁̇ - l_b⋅cos(q₁ + q₂)⋅q₁̇ - l_c⋅cos(q₁ + q₂ + q₃)⋅q₁̇⎦"
      ]
     },
     "execution_count": 24,
     "metadata": {},
     "output_type": "execute_result"
    }
   ],
   "source": [
    "b = -fhd.xreplace({q2.diff(t): 0, q3.diff(t): 0})\n",
    "b"
   ]
  },
  {
   "cell_type": "code",
   "execution_count": 25,
   "id": "0f11840e",
   "metadata": {
    "execution": {
     "iopub.execute_input": "2025-09-11T11:33:04.676614Z",
     "iopub.status.busy": "2025-09-11T11:33:04.676468Z",
     "iopub.status.idle": "2025-09-11T11:33:06.141679Z",
     "shell.execute_reply": "2025-09-11T11:33:06.141252Z"
    }
   },
   "outputs": [
    {
     "data": {
      "text/latex": [
       "$\\displaystyle \\left[\\begin{matrix}- \\frac{\\left(\\frac{l_{a} \\sin{\\left(q_{2} \\right)}}{\\tan{\\left(q_{3} \\right)}} + l_{a} \\cos{\\left(q_{2} \\right)} + l_{b}\\right) \\dot{q}_{1}}{l_{b}}\\\\\\frac{l_{a} \\left(l_{b} \\sin{\\left(q_{2} \\right)} + l_{c} \\sin{\\left(q_{2} + q_{3} \\right)}\\right) \\dot{q}_{1}}{l_{b} l_{c} \\sin{\\left(q_{3} \\right)}}\\end{matrix}\\right]$"
      ],
      "text/plain": [
       "⎡  ⎛lₐ⋅sin(q₂)                   ⎞     ⎤\n",
       "⎢ -⎜────────── + lₐ⋅cos(q₂) + l_b⎟⋅q₁̇  ⎥\n",
       "⎢  ⎝ tan(q₃)                     ⎠     ⎥\n",
       "⎢ ──────────────────────────────────── ⎥\n",
       "⎢                 l_b                  ⎥\n",
       "⎢                                      ⎥\n",
       "⎢lₐ⋅(l_b⋅sin(q₂) + l_c⋅sin(q₂ + q₃))⋅q₁̇⎥\n",
       "⎢──────────────────────────────────────⎥\n",
       "⎣           l_b⋅l_c⋅sin(q₃)            ⎦"
      ]
     },
     "execution_count": 25,
     "metadata": {},
     "output_type": "execute_result"
    }
   ],
   "source": [
    "x_sol = sm.simplify(A.LUsolve(b))\n",
    "x_sol"
   ]
  },
  {
   "cell_type": "code",
   "execution_count": 26,
   "id": "651547e2",
   "metadata": {
    "execution": {
     "iopub.execute_input": "2025-09-11T11:33:06.143050Z",
     "iopub.status.busy": "2025-09-11T11:33:06.142903Z",
     "iopub.status.idle": "2025-09-11T11:33:06.150147Z",
     "shell.execute_reply": "2025-09-11T11:33:06.149677Z"
    }
   },
   "outputs": [
    {
     "data": {
      "text/latex": [
       "$\\displaystyle \\left\\{q_{1}, q_{2}, q_{3}, \\dot{q}_{1}, \\dot{q}_{2}, \\dot{q}_{3}\\right\\}$"
      ],
      "text/plain": [
       "{q₁, q₂, q₃, q₁̇, q₂̇, q₃̇}"
      ]
     },
     "execution_count": 26,
     "metadata": {},
     "output_type": "execute_result"
    }
   ],
   "source": [
    "P4.vel(N).free_dynamicsymbols(N)"
   ]
  },
  {
   "cell_type": "code",
   "execution_count": 27,
   "id": "e78f348c",
   "metadata": {
    "execution": {
     "iopub.execute_input": "2025-09-11T11:33:06.151459Z",
     "iopub.status.busy": "2025-09-11T11:33:06.151322Z",
     "iopub.status.idle": "2025-09-11T11:33:06.159571Z",
     "shell.execute_reply": "2025-09-11T11:33:06.159156Z"
    }
   },
   "outputs": [
    {
     "data": {
      "text/latex": [
       "$\\displaystyle \\left\\{ \\dot{q}_{2} : - \\frac{\\left(\\frac{l_{a} \\sin{\\left(q_{2} \\right)}}{\\tan{\\left(q_{3} \\right)}} + l_{a} \\cos{\\left(q_{2} \\right)} + l_{b}\\right) \\dot{q}_{1}}{l_{b}}, \\  \\dot{q}_{3} : \\frac{l_{a} \\left(l_{b} \\sin{\\left(q_{2} \\right)} + l_{c} \\sin{\\left(q_{2} + q_{3} \\right)}\\right) \\dot{q}_{1}}{l_{b} l_{c} \\sin{\\left(q_{3} \\right)}}\\right\\}$"
      ],
      "text/plain": [
       "⎧     ⎛lₐ⋅sin(q₂)                   ⎞                                         \n",
       "⎪    -⎜────────── + lₐ⋅cos(q₂) + l_b⎟⋅q₁̇                                     \n",
       "⎨     ⎝ tan(q₃)                     ⎠          lₐ⋅(l_b⋅sin(q₂) + l_c⋅sin(q₂ + \n",
       "⎪q₂̇: ────────────────────────────────────, q₃̇: ─────────────────────────────\n",
       "⎩                    l_b                                  l_b⋅l_c⋅sin(q₃)     \n",
       "\n",
       "       ⎫\n",
       "        ⎪\n",
       "q₃))⋅q₁̇⎬\n",
       "─────────⎪\n",
       "       ⎭"
      ]
     },
     "execution_count": 27,
     "metadata": {},
     "output_type": "execute_result"
    }
   ],
   "source": [
    "qd_dep_repl = {\n",
    "  q2.diff(t): x_sol[0, 0],\n",
    "  q3.diff(t): x_sol[1, 0],\n",
    "}\n",
    "qd_dep_repl"
   ]
  },
  {
   "cell_type": "code",
   "execution_count": 28,
   "id": "92f1fbb6",
   "metadata": {
    "execution": {
     "iopub.execute_input": "2025-09-11T11:33:06.160776Z",
     "iopub.status.busy": "2025-09-11T11:33:06.160645Z",
     "iopub.status.idle": "2025-09-11T11:33:06.172379Z",
     "shell.execute_reply": "2025-09-11T11:33:06.171984Z"
    }
   },
   "outputs": [
    {
     "data": {
      "text/latex": [
       "$\\displaystyle l_{c} \\left(\\frac{l_{a} \\left(l_{b} \\sin{\\left(q_{2} \\right)} + l_{c} \\sin{\\left(q_{2} + q_{3} \\right)}\\right) \\dot{q}_{1}}{l_{b} l_{c} \\sin{\\left(q_{3} \\right)}} + \\dot{q}_{1} - \\frac{\\left(\\frac{l_{a} \\sin{\\left(q_{2} \\right)}}{\\tan{\\left(q_{3} \\right)}} + l_{a} \\cos{\\left(q_{2} \\right)} + l_{b}\\right) \\dot{q}_{1}}{l_{b}}\\right)\\hat{c}_y + l_{b} \\left(\\dot{q}_{1} - \\frac{\\left(\\frac{l_{a} \\sin{\\left(q_{2} \\right)}}{\\tan{\\left(q_{3} \\right)}} + l_{a} \\cos{\\left(q_{2} \\right)} + l_{b}\\right) \\dot{q}_{1}}{l_{b}}\\right)\\hat{b}_y + l_{a} \\dot{q}_{1}\\hat{a}_y$"
      ],
      "text/plain": [
       "    ⎛                                              ⎛lₐ⋅sin(q₂)\n",
       "    ⎜                                              ⎜────────── + lₐ⋅cos(q₂) +\n",
       "    ⎜lₐ⋅(l_b⋅sin(q₂) + l_c⋅sin(q₂ + q₃))⋅q₁̇        ⎝ tan(q₃)\n",
       "l_c⋅⎜────────────────────────────────────── + q₁̇ - ──────────────────────────\n",
       "    ⎝           l_b⋅l_c⋅sin(q₃)                                   l_b\n",
       "\n",
       "   ⎞   ⎞           ⎛     ⎛lₐ⋅sin(q₂)                   ⎞   ⎞\n",
       "l_b⎟⋅q₁̇⎟           ⎜     ⎜────────── + lₐ⋅cos(q₂) + l_b⎟⋅q₁̇⎟\n",
       "    ⎠   ⎟           ⎜     ⎝ tan(q₃)                     ⎠   ⎟\n",
       "────────⎟ c_y + l_b⋅⎜q₁̇ - ──────────────────────────────────⎟ b_y + lₐ⋅q₁̇ a_\n",
       "       ⎠           ⎝                    l_b                ⎠"
      ]
     },
     "execution_count": 28,
     "metadata": {},
     "output_type": "execute_result"
    }
   ],
   "source": [
    "P4.vel(N).xreplace(qd_dep_repl)"
   ]
  },
  {
   "cell_type": "code",
   "execution_count": 29,
   "id": "cab6704a",
   "metadata": {
    "execution": {
     "iopub.execute_input": "2025-09-11T11:33:06.173569Z",
     "iopub.status.busy": "2025-09-11T11:33:06.173438Z",
     "iopub.status.idle": "2025-09-11T11:33:06.182181Z",
     "shell.execute_reply": "2025-09-11T11:33:06.181705Z"
    }
   },
   "outputs": [
    {
     "data": {
      "text/latex": [
       "$\\displaystyle \\left\\{q_{1}, q_{2}, q_{3}, \\dot{q}_{1}\\right\\}$"
      ],
      "text/plain": [
       "{q₁, q₂, q₃, q₁̇}"
      ]
     },
     "execution_count": 29,
     "metadata": {},
     "output_type": "execute_result"
    }
   ],
   "source": [
    "P4.vel(N).xreplace(qd_dep_repl).free_dynamicsymbols(N)"
   ]
  }
 ],
 "metadata": {
  "kernelspec": {
   "display_name": "Python 3 (ipykernel)",
   "language": "python",
   "name": "python3"
  },
  "language_info": {
   "codemirror_mode": {
    "name": "ipython",
    "version": 3
   },
   "file_extension": ".py",
   "mimetype": "text/x-python",
   "name": "python",
   "nbconvert_exporter": "python",
   "pygments_lexer": "ipython3",
   "version": "3.11.13"
  }
 },
 "nbformat": 4,
 "nbformat_minor": 5
}