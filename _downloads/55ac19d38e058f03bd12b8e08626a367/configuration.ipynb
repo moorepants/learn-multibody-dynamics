{
 "cells": [
  {
   "cell_type": "code",
   "execution_count": 1,
   "id": "669849a4",
   "metadata": {
    "execution": {
     "iopub.execute_input": "2025-09-25T05:51:04.672898Z",
     "iopub.status.busy": "2025-09-25T05:51:04.672747Z",
     "iopub.status.idle": "2025-09-25T05:51:05.009765Z",
     "shell.execute_reply": "2025-09-25T05:51:05.009239Z"
    }
   },
   "outputs": [],
   "source": [
    "import sympy as sm\n",
    "import sympy.physics.mechanics as me\n",
    "me.init_vprinting(use_latex='mathjax')"
   ]
  },
  {
   "cell_type": "code",
   "execution_count": 2,
   "id": "8af64158",
   "metadata": {
    "execution": {
     "iopub.execute_input": "2025-09-25T05:51:05.011616Z",
     "iopub.status.busy": "2025-09-25T05:51:05.011394Z",
     "iopub.status.idle": "2025-09-25T05:51:05.015038Z",
     "shell.execute_reply": "2025-09-25T05:51:05.014535Z"
    }
   },
   "outputs": [],
   "source": [
    "class ReferenceFrame(me.ReferenceFrame):\n",
    "\n",
    "    def __init__(self, *args, **kwargs):\n",
    "\n",
    "        kwargs.pop('latexs', None)\n",
    "\n",
    "        lab = args[0].lower()\n",
    "        tex = r'\\hat{{{}}}_{}'\n",
    "\n",
    "        super(ReferenceFrame, self).__init__(*args,\n",
    "                                             latexs=(tex.format(lab, 'x'),\n",
    "                                                     tex.format(lab, 'y'),\n",
    "                                                     tex.format(lab, 'z')),\n",
    "                                             **kwargs)\n",
    "me.ReferenceFrame = ReferenceFrame"
   ]
  },
  {
   "cell_type": "code",
   "execution_count": 3,
   "id": "0d3bd24b",
   "metadata": {
    "execution": {
     "iopub.execute_input": "2025-09-25T05:51:05.016396Z",
     "iopub.status.busy": "2025-09-25T05:51:05.016244Z",
     "iopub.status.idle": "2025-09-25T05:51:05.030720Z",
     "shell.execute_reply": "2025-09-25T05:51:05.030165Z"
    }
   },
   "outputs": [],
   "source": [
    "q1, q2, q3 = me.dynamicsymbols('q1, q2, q3')\n",
    "la, lb, lc, ln = sm.symbols('l_a, l_b, l_c, l_n')\n",
    "\n",
    "N = me.ReferenceFrame('N')\n",
    "A = me.ReferenceFrame('A')\n",
    "B = me.ReferenceFrame('B')\n",
    "C = me.ReferenceFrame('C')\n",
    "\n",
    "A.orient_axis(N, q1, N.z)\n",
    "B.orient_axis(A, q2, A.z)\n",
    "C.orient_axis(B, q3, B.z)\n",
    "\n",
    "P1 = me.Point('P1')\n",
    "P2 = me.Point('P2')\n",
    "P3 = me.Point('P3')\n",
    "P4 = me.Point('P4')"
   ]
  },
  {
   "cell_type": "code",
   "execution_count": 4,
   "id": "cd577d84",
   "metadata": {
    "execution": {
     "iopub.execute_input": "2025-09-25T05:51:05.032164Z",
     "iopub.status.busy": "2025-09-25T05:51:05.031983Z",
     "iopub.status.idle": "2025-09-25T05:51:05.037972Z",
     "shell.execute_reply": "2025-09-25T05:51:05.037497Z"
    }
   },
   "outputs": [
    {
     "data": {
      "text/latex": [
       "$\\displaystyle l_{c}\\hat{c}_x + l_{b}\\hat{b}_x + l_{a}\\hat{a}_x$"
      ],
      "text/plain": [
       "l_c c_x + l_b b_x + lₐ a_x"
      ]
     },
     "execution_count": 4,
     "metadata": {},
     "output_type": "execute_result"
    }
   ],
   "source": [
    "P2.set_pos(P1, la*A.x)\n",
    "P3.set_pos(P2, lb*B.x)\n",
    "P4.set_pos(P3, lc*C.x)\n",
    "\n",
    "P4.pos_from(P1)"
   ]
  },
  {
   "cell_type": "code",
   "execution_count": 5,
   "id": "2937552d",
   "metadata": {
    "execution": {
     "iopub.execute_input": "2025-09-25T05:51:05.039315Z",
     "iopub.status.busy": "2025-09-25T05:51:05.039140Z",
     "iopub.status.idle": "2025-09-25T05:51:05.041609Z",
     "shell.execute_reply": "2025-09-25T05:51:05.041193Z"
    }
   },
   "outputs": [],
   "source": [
    "r_P1_P4 = ln*N.x"
   ]
  },
  {
   "cell_type": "code",
   "execution_count": 6,
   "id": "7cd3125c",
   "metadata": {
    "execution": {
     "iopub.execute_input": "2025-09-25T05:51:05.042955Z",
     "iopub.status.busy": "2025-09-25T05:51:05.042812Z",
     "iopub.status.idle": "2025-09-25T05:51:05.047299Z",
     "shell.execute_reply": "2025-09-25T05:51:05.046871Z"
    }
   },
   "outputs": [
    {
     "data": {
      "text/latex": [
       "$\\displaystyle l_{c}\\hat{c}_x + l_{b}\\hat{b}_x + l_{a}\\hat{a}_x -  l_{n}\\hat{n}_x$"
      ],
      "text/plain": [
       "l_c c_x + l_b b_x + lₐ a_x + -lₙ n_x"
      ]
     },
     "execution_count": 6,
     "metadata": {},
     "output_type": "execute_result"
    }
   ],
   "source": [
    "loop = P4.pos_from(P1) - r_P1_P4\n",
    "loop"
   ]
  },
  {
   "cell_type": "code",
   "execution_count": 7,
   "id": "6193220e",
   "metadata": {
    "execution": {
     "iopub.execute_input": "2025-09-25T05:51:05.048560Z",
     "iopub.status.busy": "2025-09-25T05:51:05.048420Z",
     "iopub.status.idle": "2025-09-25T05:51:05.356805Z",
     "shell.execute_reply": "2025-09-25T05:51:05.356270Z"
    }
   },
   "outputs": [
    {
     "data": {
      "text/latex": [
       "$\\displaystyle l_{a} \\cos{\\left(q_{1} \\right)} + l_{b} \\cos{\\left(q_{1} + q_{2} \\right)} + l_{c} \\cos{\\left(q_{1} + q_{2} + q_{3} \\right)} - l_{n}$"
      ],
      "text/plain": [
       "lₐ⋅cos(q₁) + l_b⋅cos(q₁ + q₂) + l_c⋅cos(q₁ + q₂ + q₃) - lₙ"
      ]
     },
     "execution_count": 7,
     "metadata": {},
     "output_type": "execute_result"
    }
   ],
   "source": [
    "fhx = sm.trigsimp(loop.dot(N.x))\n",
    "fhx"
   ]
  },
  {
   "cell_type": "code",
   "execution_count": 8,
   "id": "ccaf4b28",
   "metadata": {
    "execution": {
     "iopub.execute_input": "2025-09-25T05:51:05.358362Z",
     "iopub.status.busy": "2025-09-25T05:51:05.358187Z",
     "iopub.status.idle": "2025-09-25T05:51:05.604268Z",
     "shell.execute_reply": "2025-09-25T05:51:05.603736Z"
    }
   },
   "outputs": [
    {
     "data": {
      "text/latex": [
       "$\\displaystyle l_{a} \\sin{\\left(q_{1} \\right)} + l_{b} \\sin{\\left(q_{1} + q_{2} \\right)} + l_{c} \\sin{\\left(q_{1} + q_{2} + q_{3} \\right)}$"
      ],
      "text/plain": [
       "lₐ⋅sin(q₁) + l_b⋅sin(q₁ + q₂) + l_c⋅sin(q₁ + q₂ + q₃)"
      ]
     },
     "execution_count": 8,
     "metadata": {},
     "output_type": "execute_result"
    }
   ],
   "source": [
    "fhy = sm.trigsimp(loop.dot(N.y))\n",
    "fhy"
   ]
  },
  {
   "cell_type": "code",
   "execution_count": 9,
   "id": "5da96675",
   "metadata": {
    "execution": {
     "iopub.execute_input": "2025-09-25T05:51:05.605776Z",
     "iopub.status.busy": "2025-09-25T05:51:05.605623Z",
     "iopub.status.idle": "2025-09-25T05:51:05.613604Z",
     "shell.execute_reply": "2025-09-25T05:51:05.613081Z"
    }
   },
   "outputs": [
    {
     "data": {
      "text/latex": [
       "$\\displaystyle \\left[\\begin{matrix}l_{a} \\cos{\\left(q_{1} \\right)} + l_{b} \\cos{\\left(q_{1} + q_{2} \\right)} + l_{c} \\cos{\\left(q_{1} + q_{2} + q_{3} \\right)} - l_{n}\\\\l_{a} \\sin{\\left(q_{1} \\right)} + l_{b} \\sin{\\left(q_{1} + q_{2} \\right)} + l_{c} \\sin{\\left(q_{1} + q_{2} + q_{3} \\right)}\\end{matrix}\\right]$"
      ],
      "text/plain": [
       "⎡lₐ⋅cos(q₁) + l_b⋅cos(q₁ + q₂) + l_c⋅cos(q₁ + q₂ + q₃) - lₙ⎤\n",
       "⎢                                                          ⎥\n",
       "⎣  lₐ⋅sin(q₁) + l_b⋅sin(q₁ + q₂) + l_c⋅sin(q₁ + q₂ + q₃)   ⎦"
      ]
     },
     "execution_count": 9,
     "metadata": {},
     "output_type": "execute_result"
    }
   ],
   "source": [
    "fh = sm.Matrix([fhx, fhy])\n",
    "fh"
   ]
  },
  {
   "cell_type": "code",
   "execution_count": 10,
   "id": "f50a3567",
   "metadata": {
    "execution": {
     "iopub.execute_input": "2025-09-25T05:51:05.614926Z",
     "iopub.status.busy": "2025-09-25T05:51:05.614780Z",
     "iopub.status.idle": "2025-09-25T05:51:06.054222Z",
     "shell.execute_reply": "2025-09-25T05:51:06.053763Z"
    }
   },
   "outputs": [
    {
     "data": {
      "text/latex": [
       "$\\displaystyle \\left[\\begin{matrix}2 a \\cos{\\left(q_{1} + q_{2} \\right)} + b \\cos{\\left(q_{1} + q_{2} + q_{3} \\right)} + b \\cos{\\left(q_{1} \\right)} - \\frac{39 b}{20}\\\\2 a \\sin{\\left(q_{1} + q_{2} \\right)} + 2 a + b \\sin{\\left(q_{1} + q_{2} + q_{3} \\right)} + b \\sin{\\left(q_{1} \\right)}\\end{matrix}\\right]$"
      ],
      "text/plain": [
       "⎡                                                     39⋅b⎤\n",
       "⎢2⋅a⋅cos(q₁ + q₂) + b⋅cos(q₁ + q₂ + q₃) + b⋅cos(q₁) - ────⎥\n",
       "⎢                                                      20 ⎥\n",
       "⎢                                                         ⎥\n",
       "⎣2⋅a⋅sin(q₁ + q₂) + 2⋅a + b⋅sin(q₁ + q₂ + q₃) + b⋅sin(q₁) ⎦"
      ]
     },
     "execution_count": 10,
     "metadata": {},
     "output_type": "execute_result"
    }
   ],
   "source": [
    "q1, q2, q3 = me.dynamicsymbols('q1, q2, q3')\n",
    "a, b = sm.symbols('a, b')\n",
    "\n",
    "N = me.ReferenceFrame('N')\n",
    "A = me.ReferenceFrame('A')\n",
    "B = me.ReferenceFrame('B')\n",
    "C = me.ReferenceFrame('C')\n",
    "\n",
    "A.orient_axis(N, q1, N.z)\n",
    "B.orient_axis(A, q2, A.z)\n",
    "C.orient_axis(B, q3, B.z)\n",
    "\n",
    "P1 = me.Point('P1')\n",
    "P2 = me.Point('P2')\n",
    "P3 = me.Point('P3')\n",
    "P4 = me.Point('P4')\n",
    "\n",
    "P2.set_pos(P1, b*A.x)\n",
    "P3.set_pos(P2, 2*a*B.x)\n",
    "P4.set_pos(P3, b*C.x)\n",
    "\n",
    "P4.pos_from(P1)\n",
    "\n",
    "r_P1_P4 = (2 - sm.S(1)/20)*b*N.x - 2*a*N.y\n",
    "\n",
    "loop = P4.pos_from(P1) - r_P1_P4\n",
    "\n",
    "fh_watts = sm.trigsimp(sm.Matrix([loop.dot(N.x), loop.dot(N.y)]))\n",
    "fh_watts"
   ]
  },
  {
   "cell_type": "code",
   "execution_count": 11,
   "id": "5cf55c25",
   "metadata": {
    "execution": {
     "iopub.execute_input": "2025-09-25T05:51:06.055585Z",
     "iopub.status.busy": "2025-09-25T05:51:06.055436Z",
     "iopub.status.idle": "2025-09-25T05:51:06.059863Z",
     "shell.execute_reply": "2025-09-25T05:51:06.059378Z"
    }
   },
   "outputs": [
    {
     "data": {
      "text/latex": [
       "$\\displaystyle \\left\\{ l_{a} : 1.0, \\  l_{b} : 4.0, \\  l_{c} : 3.0, \\  l_{n} : 5.0, \\  q_{1} : 0.523598775598299\\right\\}$"
      ],
      "text/plain": [
       "{lₐ: 1.0, l_b: 4.0, l_c: 3.0, lₙ: 5.0, q₁: 0.5235987755982988}"
      ]
     },
     "execution_count": 11,
     "metadata": {},
     "output_type": "execute_result"
    }
   ],
   "source": [
    "import math  # provides pi as a float\n",
    "\n",
    "repl = {\n",
    "    la: 1.0,\n",
    "    lb: 4.0,\n",
    "    lc: 3.0,\n",
    "    ln: 5.0,\n",
    "    q1: 30.0/180.0*math.pi,  # 30 degrees in radians\n",
    "}\n",
    "repl"
   ]
  },
  {
   "cell_type": "code",
   "execution_count": 12,
   "id": "1b1748c5",
   "metadata": {
    "execution": {
     "iopub.execute_input": "2025-09-25T05:51:06.061377Z",
     "iopub.status.busy": "2025-09-25T05:51:06.061199Z",
     "iopub.status.idle": "2025-09-25T05:51:06.074339Z",
     "shell.execute_reply": "2025-09-25T05:51:06.073835Z"
    }
   },
   "outputs": [
    {
     "data": {
      "text/latex": [
       "$\\displaystyle \\left[\\begin{matrix}4.0 \\cos{\\left(q_{2} + 0.523598775598299 \\right)} + 3.0 \\cos{\\left(q_{2} + q_{3} + 0.523598775598299 \\right)} - 4.13397459621556\\\\4.0 \\sin{\\left(q_{2} + 0.523598775598299 \\right)} + 3.0 \\sin{\\left(q_{2} + q_{3} + 0.523598775598299 \\right)} + 0.5\\end{matrix}\\right]$"
      ],
      "text/plain": [
       "⎡4.0⋅cos(q₂ + 0.523598775598299) + 3.0⋅cos(q₂ + q₃ + 0.523598775598299) - 4.13\n",
       "⎢                                                                             \n",
       "⎣      4.0⋅sin(q₂ + 0.523598775598299) + 3.0⋅sin(q₂ + q₃ + 0.523598775598299) \n",
       "\n",
       "397459621556⎤\n",
       "            ⎥\n",
       "+ 0.5       ⎦"
      ]
     },
     "execution_count": 12,
     "metadata": {},
     "output_type": "execute_result"
    }
   ],
   "source": [
    "fh.xreplace(repl)"
   ]
  },
  {
   "cell_type": "code",
   "execution_count": 13,
   "id": "f67daf60",
   "metadata": {
    "execution": {
     "iopub.execute_input": "2025-09-25T05:51:06.075615Z",
     "iopub.status.busy": "2025-09-25T05:51:06.075478Z",
     "iopub.status.idle": "2025-09-25T05:51:06.139009Z",
     "shell.execute_reply": "2025-09-25T05:51:06.138459Z"
    }
   },
   "outputs": [
    {
     "data": {
      "text/latex": [
       "$\\displaystyle \\left[\\begin{matrix}-79.9561178980214\\\\108.613175851763\\end{matrix}\\right]$"
      ],
      "text/plain": [
       "⎡-79.9561178980214⎤\n",
       "⎢                 ⎥\n",
       "⎣108.613175851763 ⎦"
      ]
     },
     "execution_count": 13,
     "metadata": {},
     "output_type": "execute_result"
    }
   ],
   "source": [
    "q2_guess = -75.0/180.0*math.pi  # -75 degrees in radians\n",
    "q3_guess = 100.0/180.0*math.pi  # 100 degrees in radians\n",
    "\n",
    "sol = sm.nsolve(fh.xreplace(repl), (q2, q3), (q2_guess, q3_guess))\n",
    "sol/math.pi*180.0  # to degrees"
   ]
  },
  {
   "cell_type": "code",
   "execution_count": 14,
   "id": "8f727a56",
   "metadata": {
    "execution": {
     "iopub.execute_input": "2025-09-25T05:51:06.140442Z",
     "iopub.status.busy": "2025-09-25T05:51:06.140266Z",
     "iopub.status.idle": "2025-09-25T05:51:06.145081Z",
     "shell.execute_reply": "2025-09-25T05:51:06.144464Z"
    }
   },
   "outputs": [
    {
     "data": {
      "text/latex": [
       "$\\displaystyle \\left\\{ a : 1.0, \\  b : 4.0, \\  q_{2} : 4.62512251778497 - q_{1}\\right\\}$"
      ],
      "text/plain": [
       "{a: 1.0, b: 4.0, q₂: 4.62512251778497 - q₁}"
      ]
     },
     "execution_count": 14,
     "metadata": {},
     "output_type": "execute_result"
    }
   ],
   "source": [
    "repl = {\n",
    "    a: 1.0,\n",
    "    b: 4.0,\n",
    "    q2: 3.0*math.pi/2.0 - 5.0/180.0*math.pi - q1,\n",
    "}\n",
    "repl"
   ]
  },
  {
   "cell_type": "code",
   "execution_count": 15,
   "id": "03600b2f",
   "metadata": {
    "execution": {
     "iopub.execute_input": "2025-09-25T05:51:06.146380Z",
     "iopub.status.busy": "2025-09-25T05:51:06.146229Z",
     "iopub.status.idle": "2025-09-25T05:51:06.156688Z",
     "shell.execute_reply": "2025-09-25T05:51:06.156278Z"
    }
   },
   "outputs": [
    {
     "data": {
      "text/latex": [
       "$\\displaystyle \\left[\\begin{matrix}4.0 \\cos{\\left(q_{3} + 4.62512251778497 \\right)} + 4.0 \\cos{\\left(q_{1} \\right)} - 7.97431148549532\\\\4.0 \\sin{\\left(q_{3} + 4.62512251778497 \\right)} + 4.0 \\sin{\\left(q_{1} \\right)} + 0.00761060381650891\\end{matrix}\\right]$"
      ],
      "text/plain": [
       "⎡ 4.0⋅cos(q₃ + 4.62512251778497) + 4.0⋅cos(q₁) - 7.97431148549532  ⎤\n",
       "⎢                                                                  ⎥\n",
       "⎣4.0⋅sin(q₃ + 4.62512251778497) + 4.0⋅sin(q₁) + 0.00761060381650891⎦"
      ]
     },
     "execution_count": 15,
     "metadata": {},
     "output_type": "execute_result"
    }
   ],
   "source": [
    "fh_watts.xreplace(repl)"
   ]
  },
  {
   "cell_type": "code",
   "execution_count": 16,
   "id": "ec91356d",
   "metadata": {
    "execution": {
     "iopub.execute_input": "2025-09-25T05:51:06.158042Z",
     "iopub.status.busy": "2025-09-25T05:51:06.157891Z",
     "iopub.status.idle": "2025-09-25T05:51:06.189631Z",
     "shell.execute_reply": "2025-09-25T05:51:06.189115Z"
    }
   },
   "outputs": [
    {
     "data": {
      "text/latex": [
       "$\\displaystyle \\left[\\begin{matrix}4.53780194767253\\\\90.3528330377729\\end{matrix}\\right]$"
      ],
      "text/plain": [
       "⎡4.53780194767253⎤\n",
       "⎢                ⎥\n",
       "⎣90.3528330377729⎦"
      ]
     },
     "execution_count": 16,
     "metadata": {},
     "output_type": "execute_result"
    }
   ],
   "source": [
    "q1_guess = 10.0/180.0*math.pi\n",
    "q3_guess = 100.0/180.0*math.pi\n",
    "\n",
    "sol = sm.nsolve(fh_watts.xreplace(repl), (q1, q3), (q1_guess, q3_guess))\n",
    "sol/math.pi*180.0  # to degrees"
   ]
  },
  {
   "cell_type": "code",
   "execution_count": 17,
   "id": "0a38398e",
   "metadata": {
    "execution": {
     "iopub.execute_input": "2025-09-25T05:51:06.190971Z",
     "iopub.status.busy": "2025-09-25T05:51:06.190826Z",
     "iopub.status.idle": "2025-09-25T05:51:06.194347Z",
     "shell.execute_reply": "2025-09-25T05:51:06.193952Z"
    }
   },
   "outputs": [],
   "source": [
    "P1 = me.Point('P1')\n",
    "P2 = me.Point('P2')\n",
    "P3 = me.Point('P3')\n",
    "P4 = me.Point('P4')\n",
    "P2.set_pos(P1, la*A.x)\n",
    "P3.set_pos(P2, lb*B.x)\n",
    "P4.set_pos(P3, lc*C.x)"
   ]
  },
  {
   "cell_type": "code",
   "execution_count": 18,
   "id": "ab543796",
   "metadata": {
    "execution": {
     "iopub.execute_input": "2025-09-25T05:51:06.195580Z",
     "iopub.status.busy": "2025-09-25T05:51:06.195446Z",
     "iopub.status.idle": "2025-09-25T05:51:06.217051Z",
     "shell.execute_reply": "2025-09-25T05:51:06.216672Z"
    }
   },
   "outputs": [
    {
     "data": {
      "text/latex": [
       "$\\displaystyle l_{c} \\left(\\dot{q}_{1} + \\dot{q}_{2} + \\dot{q}_{3}\\right)\\hat{c}_y + l_{b} \\left(\\dot{q}_{1} + \\dot{q}_{2}\\right)\\hat{b}_y + l_{a} \\dot{q}_{1}\\hat{a}_y$"
      ],
      "text/plain": [
       "l_c⋅(q₁̇ + q₂̇ + q₃̇) c_y + l_b⋅(q₁̇ + q₂̇) b_y + lₐ⋅q₁̇ a_y"
      ]
     },
     "execution_count": 18,
     "metadata": {},
     "output_type": "execute_result"
    }
   ],
   "source": [
    "P1.set_vel(N, 0)\n",
    "P4.vel(N)"
   ]
  },
  {
   "cell_type": "code",
   "execution_count": 19,
   "id": "dad9cee1",
   "metadata": {
    "execution": {
     "iopub.execute_input": "2025-09-25T05:51:06.218341Z",
     "iopub.status.busy": "2025-09-25T05:51:06.218202Z",
     "iopub.status.idle": "2025-09-25T05:51:06.768648Z",
     "shell.execute_reply": "2025-09-25T05:51:06.768107Z"
    }
   },
   "outputs": [
    {
     "data": {
      "text/latex": [
       "$\\displaystyle - l_{a} \\sin{\\left(q_{1} \\right)} \\dot{q}_{1} - l_{b} \\left(\\dot{q}_{1} + \\dot{q}_{2}\\right) \\sin{\\left(q_{1} + q_{2} \\right)} - l_{c} \\left(\\dot{q}_{1} + \\dot{q}_{2} + \\dot{q}_{3}\\right) \\sin{\\left(q_{1} + q_{2} + q_{3} \\right)}$"
      ],
      "text/plain": [
       "-lₐ⋅sin(q₁)⋅q₁̇ - l_b⋅(q₁̇ + q₂̇)⋅sin(q₁ + q₂) - l_c⋅(q₁̇ + q₂̇ + q₃̇)⋅sin(q₁ \n",
       "+ q₂ + q₃)"
      ]
     },
     "execution_count": 19,
     "metadata": {},
     "output_type": "execute_result"
    }
   ],
   "source": [
    "sm.trigsimp(P4.vel(N).dot(N.x))"
   ]
  },
  {
   "cell_type": "code",
   "execution_count": 20,
   "id": "640c9fb1",
   "metadata": {
    "execution": {
     "iopub.execute_input": "2025-09-25T05:51:06.770218Z",
     "iopub.status.busy": "2025-09-25T05:51:06.770022Z",
     "iopub.status.idle": "2025-09-25T05:51:07.291093Z",
     "shell.execute_reply": "2025-09-25T05:51:07.290616Z"
    }
   },
   "outputs": [
    {
     "data": {
      "text/latex": [
       "$\\displaystyle l_{a} \\cos{\\left(q_{1} \\right)} \\dot{q}_{1} + l_{b} \\left(\\dot{q}_{1} + \\dot{q}_{2}\\right) \\cos{\\left(q_{1} + q_{2} \\right)} + l_{c} \\left(\\dot{q}_{1} + \\dot{q}_{2} + \\dot{q}_{3}\\right) \\cos{\\left(q_{1} + q_{2} + q_{3} \\right)}$"
      ],
      "text/plain": [
       "lₐ⋅cos(q₁)⋅q₁̇ + l_b⋅(q₁̇ + q₂̇)⋅cos(q₁ + q₂) + l_c⋅(q₁̇ + q₂̇ + q₃̇)⋅cos(q₁ +\n",
       " q₂ + q₃)"
      ]
     },
     "execution_count": 20,
     "metadata": {},
     "output_type": "execute_result"
    }
   ],
   "source": [
    "sm.trigsimp(P4.vel(N).dot(N.y))"
   ]
  },
  {
   "cell_type": "code",
   "execution_count": 21,
   "id": "c198c549",
   "metadata": {
    "execution": {
     "iopub.execute_input": "2025-09-25T05:51:07.292467Z",
     "iopub.status.busy": "2025-09-25T05:51:07.292324Z",
     "iopub.status.idle": "2025-09-25T05:51:07.321858Z",
     "shell.execute_reply": "2025-09-25T05:51:07.321472Z"
    }
   },
   "outputs": [
    {
     "data": {
      "text/latex": [
       "$\\displaystyle \\left[\\begin{matrix}- l_{a} \\sin{\\left(q_{1} \\right)} \\dot{q}_{1} - l_{b} \\left(\\dot{q}_{1} + \\dot{q}_{2}\\right) \\sin{\\left(q_{1} + q_{2} \\right)} - l_{c} \\left(\\dot{q}_{1} + \\dot{q}_{2} + \\dot{q}_{3}\\right) \\sin{\\left(q_{1} + q_{2} + q_{3} \\right)}\\\\l_{a} \\cos{\\left(q_{1} \\right)} \\dot{q}_{1} + l_{b} \\left(\\dot{q}_{1} + \\dot{q}_{2}\\right) \\cos{\\left(q_{1} + q_{2} \\right)} + l_{c} \\left(\\dot{q}_{1} + \\dot{q}_{2} + \\dot{q}_{3}\\right) \\cos{\\left(q_{1} + q_{2} + q_{3} \\right)}\\end{matrix}\\right]$"
      ],
      "text/plain": [
       "⎡-lₐ⋅sin(q₁)⋅q₁̇ - l_b⋅(q₁̇ + q₂̇)⋅sin(q₁ + q₂) - l_c⋅(q₁̇ + q₂̇ + q₃̇)⋅sin(q₁\n",
       "⎢                                                                             \n",
       "⎣lₐ⋅cos(q₁)⋅q₁̇ + l_b⋅(q₁̇ + q₂̇)⋅cos(q₁ + q₂) + l_c⋅(q₁̇ + q₂̇ + q₃̇)⋅cos(q₁ \n",
       "\n",
       " + q₂ + q₃)⎤\n",
       "     ⎥\n",
       "+ q₂ + q₃) ⎦"
      ]
     },
     "execution_count": 21,
     "metadata": {},
     "output_type": "execute_result"
    }
   ],
   "source": [
    "t = me.dynamicsymbols._t\n",
    "fhd = fh.diff(t)\n",
    "fhd"
   ]
  },
  {
   "cell_type": "code",
   "execution_count": 22,
   "id": "08545e10",
   "metadata": {
    "execution": {
     "iopub.execute_input": "2025-09-25T05:51:07.323214Z",
     "iopub.status.busy": "2025-09-25T05:51:07.323037Z",
     "iopub.status.idle": "2025-09-25T05:51:07.327950Z",
     "shell.execute_reply": "2025-09-25T05:51:07.327474Z"
    }
   },
   "outputs": [
    {
     "data": {
      "text/latex": [
       "$\\displaystyle \\left[\\begin{matrix}\\dot{q}_{2}\\\\\\dot{q}_{3}\\end{matrix}\\right]$"
      ],
      "text/plain": [
       "⎡q₂̇⎤\n",
       "⎢  ⎥\n",
       "⎣q₃̇⎦"
      ]
     },
     "execution_count": 22,
     "metadata": {},
     "output_type": "execute_result"
    }
   ],
   "source": [
    "x = sm.Matrix([q2.diff(t), q3.diff(t)])\n",
    "x"
   ]
  },
  {
   "cell_type": "code",
   "execution_count": 23,
   "id": "f3d85688",
   "metadata": {
    "execution": {
     "iopub.execute_input": "2025-09-25T05:51:07.329335Z",
     "iopub.status.busy": "2025-09-25T05:51:07.329185Z",
     "iopub.status.idle": "2025-09-25T05:51:07.348791Z",
     "shell.execute_reply": "2025-09-25T05:51:07.348324Z"
    }
   },
   "outputs": [
    {
     "data": {
      "text/latex": [
       "$\\displaystyle \\left[\\begin{matrix}- l_{b} \\sin{\\left(q_{1} + q_{2} \\right)} - l_{c} \\sin{\\left(q_{1} + q_{2} + q_{3} \\right)} & - l_{c} \\sin{\\left(q_{1} + q_{2} + q_{3} \\right)}\\\\l_{b} \\cos{\\left(q_{1} + q_{2} \\right)} + l_{c} \\cos{\\left(q_{1} + q_{2} + q_{3} \\right)} & l_{c} \\cos{\\left(q_{1} + q_{2} + q_{3} \\right)}\\end{matrix}\\right]$"
      ],
      "text/plain": [
       "⎡-l_b⋅sin(q₁ + q₂) - l_c⋅sin(q₁ + q₂ + q₃)  -l_c⋅sin(q₁ + q₂ + q₃)⎤\n",
       "⎢                                                                 ⎥\n",
       "⎣l_b⋅cos(q₁ + q₂) + l_c⋅cos(q₁ + q₂ + q₃)   l_c⋅cos(q₁ + q₂ + q₃) ⎦"
      ]
     },
     "execution_count": 23,
     "metadata": {},
     "output_type": "execute_result"
    }
   ],
   "source": [
    "A = fhd.jacobian(x)\n",
    "A"
   ]
  },
  {
   "cell_type": "code",
   "execution_count": 24,
   "id": "70ad5548",
   "metadata": {
    "execution": {
     "iopub.execute_input": "2025-09-25T05:51:07.350110Z",
     "iopub.status.busy": "2025-09-25T05:51:07.349965Z",
     "iopub.status.idle": "2025-09-25T05:51:07.360489Z",
     "shell.execute_reply": "2025-09-25T05:51:07.360073Z"
    }
   },
   "outputs": [
    {
     "data": {
      "text/latex": [
       "$\\displaystyle \\left[\\begin{matrix}l_{a} \\sin{\\left(q_{1} \\right)} \\dot{q}_{1} + l_{b} \\sin{\\left(q_{1} + q_{2} \\right)} \\dot{q}_{1} + l_{c} \\sin{\\left(q_{1} + q_{2} + q_{3} \\right)} \\dot{q}_{1}\\\\- l_{a} \\cos{\\left(q_{1} \\right)} \\dot{q}_{1} - l_{b} \\cos{\\left(q_{1} + q_{2} \\right)} \\dot{q}_{1} - l_{c} \\cos{\\left(q_{1} + q_{2} + q_{3} \\right)} \\dot{q}_{1}\\end{matrix}\\right]$"
      ],
      "text/plain": [
       "⎡lₐ⋅sin(q₁)⋅q₁̇ + l_b⋅sin(q₁ + q₂)⋅q₁̇ + l_c⋅sin(q₁ + q₂ + q₃)⋅q₁̇ ⎤\n",
       "⎢                                                               ⎥\n",
       "⎣-lₐ⋅cos(q₁)⋅q₁̇ - l_b⋅cos(q₁ + q₂)⋅q₁̇ - l_c⋅cos(q₁ + q₂ + q₃)⋅q₁̇⎦"
      ]
     },
     "execution_count": 24,
     "metadata": {},
     "output_type": "execute_result"
    }
   ],
   "source": [
    "b = -fhd.xreplace({q2.diff(t): 0, q3.diff(t): 0})\n",
    "b"
   ]
  },
  {
   "cell_type": "code",
   "execution_count": 25,
   "id": "cfb79e90",
   "metadata": {
    "execution": {
     "iopub.execute_input": "2025-09-25T05:51:07.361759Z",
     "iopub.status.busy": "2025-09-25T05:51:07.361621Z",
     "iopub.status.idle": "2025-09-25T05:51:08.827565Z",
     "shell.execute_reply": "2025-09-25T05:51:08.827038Z"
    }
   },
   "outputs": [
    {
     "data": {
      "text/latex": [
       "$\\displaystyle \\left[\\begin{matrix}- \\frac{\\left(\\frac{l_{a} \\sin{\\left(q_{2} \\right)}}{\\tan{\\left(q_{3} \\right)}} + l_{a} \\cos{\\left(q_{2} \\right)} + l_{b}\\right) \\dot{q}_{1}}{l_{b}}\\\\\\frac{l_{a} \\left(l_{b} \\sin{\\left(q_{2} \\right)} + l_{c} \\sin{\\left(q_{2} + q_{3} \\right)}\\right) \\dot{q}_{1}}{l_{b} l_{c} \\sin{\\left(q_{3} \\right)}}\\end{matrix}\\right]$"
      ],
      "text/plain": [
       "⎡  ⎛lₐ⋅sin(q₂)                   ⎞     ⎤\n",
       "⎢ -⎜────────── + lₐ⋅cos(q₂) + l_b⎟⋅q₁̇  ⎥\n",
       "⎢  ⎝ tan(q₃)                     ⎠     ⎥\n",
       "⎢ ──────────────────────────────────── ⎥\n",
       "⎢                 l_b                  ⎥\n",
       "⎢                                      ⎥\n",
       "⎢lₐ⋅(l_b⋅sin(q₂) + l_c⋅sin(q₂ + q₃))⋅q₁̇⎥\n",
       "⎢──────────────────────────────────────⎥\n",
       "⎣           l_b⋅l_c⋅sin(q₃)            ⎦"
      ]
     },
     "execution_count": 25,
     "metadata": {},
     "output_type": "execute_result"
    }
   ],
   "source": [
    "x_sol = sm.simplify(A.LUsolve(b))\n",
    "x_sol"
   ]
  },
  {
   "cell_type": "code",
   "execution_count": 26,
   "id": "310ea794",
   "metadata": {
    "execution": {
     "iopub.execute_input": "2025-09-25T05:51:08.829059Z",
     "iopub.status.busy": "2025-09-25T05:51:08.828883Z",
     "iopub.status.idle": "2025-09-25T05:51:08.836724Z",
     "shell.execute_reply": "2025-09-25T05:51:08.836304Z"
    }
   },
   "outputs": [
    {
     "data": {
      "text/latex": [
       "$\\displaystyle \\left\\{q_{1}, q_{2}, q_{3}, \\dot{q}_{1}, \\dot{q}_{2}, \\dot{q}_{3}\\right\\}$"
      ],
      "text/plain": [
       "{q₁, q₂, q₃, q₁̇, q₂̇, q₃̇}"
      ]
     },
     "execution_count": 26,
     "metadata": {},
     "output_type": "execute_result"
    }
   ],
   "source": [
    "P4.vel(N).free_dynamicsymbols(N)"
   ]
  },
  {
   "cell_type": "code",
   "execution_count": 27,
   "id": "36f476d3",
   "metadata": {
    "execution": {
     "iopub.execute_input": "2025-09-25T05:51:08.838047Z",
     "iopub.status.busy": "2025-09-25T05:51:08.837890Z",
     "iopub.status.idle": "2025-09-25T05:51:08.846751Z",
     "shell.execute_reply": "2025-09-25T05:51:08.846332Z"
    }
   },
   "outputs": [
    {
     "data": {
      "text/latex": [
       "$\\displaystyle \\left\\{ \\dot{q}_{2} : - \\frac{\\left(\\frac{l_{a} \\sin{\\left(q_{2} \\right)}}{\\tan{\\left(q_{3} \\right)}} + l_{a} \\cos{\\left(q_{2} \\right)} + l_{b}\\right) \\dot{q}_{1}}{l_{b}}, \\  \\dot{q}_{3} : \\frac{l_{a} \\left(l_{b} \\sin{\\left(q_{2} \\right)} + l_{c} \\sin{\\left(q_{2} + q_{3} \\right)}\\right) \\dot{q}_{1}}{l_{b} l_{c} \\sin{\\left(q_{3} \\right)}}\\right\\}$"
      ],
      "text/plain": [
       "⎧     ⎛lₐ⋅sin(q₂)                   ⎞                                         \n",
       "⎪    -⎜────────── + lₐ⋅cos(q₂) + l_b⎟⋅q₁̇                                     \n",
       "⎨     ⎝ tan(q₃)                     ⎠          lₐ⋅(l_b⋅sin(q₂) + l_c⋅sin(q₂ + \n",
       "⎪q₂̇: ────────────────────────────────────, q₃̇: ─────────────────────────────\n",
       "⎩                    l_b                                  l_b⋅l_c⋅sin(q₃)     \n",
       "\n",
       "       ⎫\n",
       "        ⎪\n",
       "q₃))⋅q₁̇⎬\n",
       "─────────⎪\n",
       "       ⎭"
      ]
     },
     "execution_count": 27,
     "metadata": {},
     "output_type": "execute_result"
    }
   ],
   "source": [
    "qd_dep_repl = {\n",
    "  q2.diff(t): x_sol[0, 0],\n",
    "  q3.diff(t): x_sol[1, 0],\n",
    "}\n",
    "qd_dep_repl"
   ]
  },
  {
   "cell_type": "code",
   "execution_count": 28,
   "id": "581fe258",
   "metadata": {
    "execution": {
     "iopub.execute_input": "2025-09-25T05:51:08.848026Z",
     "iopub.status.busy": "2025-09-25T05:51:08.847879Z",
     "iopub.status.idle": "2025-09-25T05:51:08.860543Z",
     "shell.execute_reply": "2025-09-25T05:51:08.860094Z"
    }
   },
   "outputs": [
    {
     "data": {
      "text/latex": [
       "$\\displaystyle l_{c} \\left(\\frac{l_{a} \\left(l_{b} \\sin{\\left(q_{2} \\right)} + l_{c} \\sin{\\left(q_{2} + q_{3} \\right)}\\right) \\dot{q}_{1}}{l_{b} l_{c} \\sin{\\left(q_{3} \\right)}} + \\dot{q}_{1} - \\frac{\\left(\\frac{l_{a} \\sin{\\left(q_{2} \\right)}}{\\tan{\\left(q_{3} \\right)}} + l_{a} \\cos{\\left(q_{2} \\right)} + l_{b}\\right) \\dot{q}_{1}}{l_{b}}\\right)\\hat{c}_y + l_{b} \\left(\\dot{q}_{1} - \\frac{\\left(\\frac{l_{a} \\sin{\\left(q_{2} \\right)}}{\\tan{\\left(q_{3} \\right)}} + l_{a} \\cos{\\left(q_{2} \\right)} + l_{b}\\right) \\dot{q}_{1}}{l_{b}}\\right)\\hat{b}_y + l_{a} \\dot{q}_{1}\\hat{a}_y$"
      ],
      "text/plain": [
       "    ⎛                                              ⎛lₐ⋅sin(q₂)\n",
       "    ⎜                                              ⎜────────── + lₐ⋅cos(q₂) +\n",
       "    ⎜lₐ⋅(l_b⋅sin(q₂) + l_c⋅sin(q₂ + q₃))⋅q₁̇        ⎝ tan(q₃)\n",
       "l_c⋅⎜────────────────────────────────────── + q₁̇ - ──────────────────────────\n",
       "    ⎝           l_b⋅l_c⋅sin(q₃)                                   l_b\n",
       "\n",
       "   ⎞   ⎞           ⎛     ⎛lₐ⋅sin(q₂)                   ⎞   ⎞\n",
       "l_b⎟⋅q₁̇⎟           ⎜     ⎜────────── + lₐ⋅cos(q₂) + l_b⎟⋅q₁̇⎟\n",
       "    ⎠   ⎟           ⎜     ⎝ tan(q₃)                     ⎠   ⎟\n",
       "────────⎟ c_y + l_b⋅⎜q₁̇ - ──────────────────────────────────⎟ b_y + lₐ⋅q₁̇ a_\n",
       "       ⎠           ⎝                    l_b                ⎠"
      ]
     },
     "execution_count": 28,
     "metadata": {},
     "output_type": "execute_result"
    }
   ],
   "source": [
    "P4.vel(N).xreplace(qd_dep_repl)"
   ]
  },
  {
   "cell_type": "code",
   "execution_count": 29,
   "id": "b08ee190",
   "metadata": {
    "execution": {
     "iopub.execute_input": "2025-09-25T05:51:08.861918Z",
     "iopub.status.busy": "2025-09-25T05:51:08.861766Z",
     "iopub.status.idle": "2025-09-25T05:51:08.870898Z",
     "shell.execute_reply": "2025-09-25T05:51:08.870509Z"
    }
   },
   "outputs": [
    {
     "data": {
      "text/latex": [
       "$\\displaystyle \\left\\{q_{1}, q_{2}, q_{3}, \\dot{q}_{1}\\right\\}$"
      ],
      "text/plain": [
       "{q₁, q₂, q₃, q₁̇}"
      ]
     },
     "execution_count": 29,
     "metadata": {},
     "output_type": "execute_result"
    }
   ],
   "source": [
    "P4.vel(N).xreplace(qd_dep_repl).free_dynamicsymbols(N)"
   ]
  }
 ],
 "metadata": {
  "kernelspec": {
   "display_name": "Python 3 (ipykernel)",
   "language": "python",
   "name": "python3"
  },
  "language_info": {
   "codemirror_mode": {
    "name": "ipython",
    "version": 3
   },
   "file_extension": ".py",
   "mimetype": "text/x-python",
   "name": "python",
   "nbconvert_exporter": "python",
   "pygments_lexer": "ipython3",
   "version": "3.11.13"
  }
 },
 "nbformat": 4,
 "nbformat_minor": 5
}