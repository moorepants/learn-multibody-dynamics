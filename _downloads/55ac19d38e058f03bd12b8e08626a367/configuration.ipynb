{
 "cells": [
  {
   "cell_type": "code",
   "execution_count": 1,
   "id": "c6bcf629",
   "metadata": {
    "execution": {
     "iopub.execute_input": "2025-01-22T13:05:49.973071Z",
     "iopub.status.busy": "2025-01-22T13:05:49.972893Z",
     "iopub.status.idle": "2025-01-22T13:05:50.318398Z",
     "shell.execute_reply": "2025-01-22T13:05:50.317777Z"
    }
   },
   "outputs": [],
   "source": [
    "import sympy as sm\n",
    "import sympy.physics.mechanics as me\n",
    "me.init_vprinting(use_latex='mathjax')"
   ]
  },
  {
   "cell_type": "code",
   "execution_count": 2,
   "id": "b58dc22c",
   "metadata": {
    "execution": {
     "iopub.execute_input": "2025-01-22T13:05:50.320260Z",
     "iopub.status.busy": "2025-01-22T13:05:50.320069Z",
     "iopub.status.idle": "2025-01-22T13:05:50.323724Z",
     "shell.execute_reply": "2025-01-22T13:05:50.323233Z"
    }
   },
   "outputs": [],
   "source": [
    "class ReferenceFrame(me.ReferenceFrame):\n",
    "\n",
    "    def __init__(self, *args, **kwargs):\n",
    "\n",
    "        kwargs.pop('latexs', None)\n",
    "\n",
    "        lab = args[0].lower()\n",
    "        tex = r'\\hat{{{}}}_{}'\n",
    "\n",
    "        super(ReferenceFrame, self).__init__(*args,\n",
    "                                             latexs=(tex.format(lab, 'x'),\n",
    "                                                     tex.format(lab, 'y'),\n",
    "                                                     tex.format(lab, 'z')),\n",
    "                                             **kwargs)\n",
    "me.ReferenceFrame = ReferenceFrame"
   ]
  },
  {
   "cell_type": "code",
   "execution_count": 3,
   "id": "e6e7878f",
   "metadata": {
    "execution": {
     "iopub.execute_input": "2025-01-22T13:05:50.325402Z",
     "iopub.status.busy": "2025-01-22T13:05:50.324987Z",
     "iopub.status.idle": "2025-01-22T13:05:50.339321Z",
     "shell.execute_reply": "2025-01-22T13:05:50.338796Z"
    }
   },
   "outputs": [],
   "source": [
    "q1, q2, q3 = me.dynamicsymbols('q1, q2, q3')\n",
    "la, lb, lc, ln = sm.symbols('l_a, l_b, l_c, l_n')\n",
    "\n",
    "N = me.ReferenceFrame('N')\n",
    "A = me.ReferenceFrame('A')\n",
    "B = me.ReferenceFrame('B')\n",
    "C = me.ReferenceFrame('C')\n",
    "\n",
    "A.orient_axis(N, q1, N.z)\n",
    "B.orient_axis(A, q2, A.z)\n",
    "C.orient_axis(B, q3, B.z)\n",
    "\n",
    "P1 = me.Point('P1')\n",
    "P2 = me.Point('P2')\n",
    "P3 = me.Point('P3')\n",
    "P4 = me.Point('P4')"
   ]
  },
  {
   "cell_type": "code",
   "execution_count": 4,
   "id": "3dad80ff",
   "metadata": {
    "execution": {
     "iopub.execute_input": "2025-01-22T13:05:50.340685Z",
     "iopub.status.busy": "2025-01-22T13:05:50.340540Z",
     "iopub.status.idle": "2025-01-22T13:05:50.346601Z",
     "shell.execute_reply": "2025-01-22T13:05:50.346212Z"
    }
   },
   "outputs": [
    {
     "data": {
      "text/latex": [
       "$\\displaystyle l_{c}\\hat{c}_x + l_{b}\\hat{b}_x + l_{a}\\hat{a}_x$"
      ],
      "text/plain": [
       "l_c c_x + l_b b_x + lₐ a_x"
      ]
     },
     "execution_count": 4,
     "metadata": {},
     "output_type": "execute_result"
    }
   ],
   "source": [
    "P2.set_pos(P1, la*A.x)\n",
    "P3.set_pos(P2, lb*B.x)\n",
    "P4.set_pos(P3, lc*C.x)\n",
    "\n",
    "P4.pos_from(P1)"
   ]
  },
  {
   "cell_type": "code",
   "execution_count": 5,
   "id": "0ce05a1a",
   "metadata": {
    "execution": {
     "iopub.execute_input": "2025-01-22T13:05:50.348070Z",
     "iopub.status.busy": "2025-01-22T13:05:50.347758Z",
     "iopub.status.idle": "2025-01-22T13:05:50.350394Z",
     "shell.execute_reply": "2025-01-22T13:05:50.349883Z"
    }
   },
   "outputs": [],
   "source": [
    "r_P1_P4 = ln*N.x"
   ]
  },
  {
   "cell_type": "code",
   "execution_count": 6,
   "id": "7d09e422",
   "metadata": {
    "execution": {
     "iopub.execute_input": "2025-01-22T13:05:50.351874Z",
     "iopub.status.busy": "2025-01-22T13:05:50.351641Z",
     "iopub.status.idle": "2025-01-22T13:05:50.356270Z",
     "shell.execute_reply": "2025-01-22T13:05:50.355778Z"
    }
   },
   "outputs": [
    {
     "data": {
      "text/latex": [
       "$\\displaystyle l_{c}\\hat{c}_x + l_{b}\\hat{b}_x + l_{a}\\hat{a}_x -  l_{n}\\hat{n}_x$"
      ],
      "text/plain": [
       "l_c c_x + l_b b_x + lₐ a_x + -lₙ n_x"
      ]
     },
     "execution_count": 6,
     "metadata": {},
     "output_type": "execute_result"
    }
   ],
   "source": [
    "loop = P4.pos_from(P1) - r_P1_P4\n",
    "loop"
   ]
  },
  {
   "cell_type": "code",
   "execution_count": 7,
   "id": "dbfb4395",
   "metadata": {
    "execution": {
     "iopub.execute_input": "2025-01-22T13:05:50.357799Z",
     "iopub.status.busy": "2025-01-22T13:05:50.357499Z",
     "iopub.status.idle": "2025-01-22T13:05:50.669506Z",
     "shell.execute_reply": "2025-01-22T13:05:50.668963Z"
    }
   },
   "outputs": [
    {
     "data": {
      "text/latex": [
       "$\\displaystyle l_{a} \\cos{\\left(q_{1} \\right)} + l_{b} \\cos{\\left(q_{1} + q_{2} \\right)} + l_{c} \\cos{\\left(q_{1} + q_{2} + q_{3} \\right)} - l_{n}$"
      ],
      "text/plain": [
       "lₐ⋅cos(q₁) + l_b⋅cos(q₁ + q₂) + l_c⋅cos(q₁ + q₂ + q₃) - lₙ"
      ]
     },
     "execution_count": 7,
     "metadata": {},
     "output_type": "execute_result"
    }
   ],
   "source": [
    "fhx = sm.trigsimp(loop.dot(N.x))\n",
    "fhx"
   ]
  },
  {
   "cell_type": "code",
   "execution_count": 8,
   "id": "42094147",
   "metadata": {
    "execution": {
     "iopub.execute_input": "2025-01-22T13:05:50.671100Z",
     "iopub.status.busy": "2025-01-22T13:05:50.670776Z",
     "iopub.status.idle": "2025-01-22T13:05:50.921035Z",
     "shell.execute_reply": "2025-01-22T13:05:50.920533Z"
    }
   },
   "outputs": [
    {
     "data": {
      "text/latex": [
       "$\\displaystyle l_{a} \\sin{\\left(q_{1} \\right)} + l_{b} \\sin{\\left(q_{1} + q_{2} \\right)} + l_{c} \\sin{\\left(q_{1} + q_{2} + q_{3} \\right)}$"
      ],
      "text/plain": [
       "lₐ⋅sin(q₁) + l_b⋅sin(q₁ + q₂) + l_c⋅sin(q₁ + q₂ + q₃)"
      ]
     },
     "execution_count": 8,
     "metadata": {},
     "output_type": "execute_result"
    }
   ],
   "source": [
    "fhy = sm.trigsimp(loop.dot(N.y))\n",
    "fhy"
   ]
  },
  {
   "cell_type": "code",
   "execution_count": 9,
   "id": "1d1cb614",
   "metadata": {
    "execution": {
     "iopub.execute_input": "2025-01-22T13:05:50.922469Z",
     "iopub.status.busy": "2025-01-22T13:05:50.922325Z",
     "iopub.status.idle": "2025-01-22T13:05:50.930295Z",
     "shell.execute_reply": "2025-01-22T13:05:50.929886Z"
    }
   },
   "outputs": [
    {
     "data": {
      "text/latex": [
       "$\\displaystyle \\left[\\begin{matrix}l_{a} \\cos{\\left(q_{1} \\right)} + l_{b} \\cos{\\left(q_{1} + q_{2} \\right)} + l_{c} \\cos{\\left(q_{1} + q_{2} + q_{3} \\right)} - l_{n}\\\\l_{a} \\sin{\\left(q_{1} \\right)} + l_{b} \\sin{\\left(q_{1} + q_{2} \\right)} + l_{c} \\sin{\\left(q_{1} + q_{2} + q_{3} \\right)}\\end{matrix}\\right]$"
      ],
      "text/plain": [
       "⎡lₐ⋅cos(q₁) + l_b⋅cos(q₁ + q₂) + l_c⋅cos(q₁ + q₂ + q₃) - lₙ⎤\n",
       "⎢                                                          ⎥\n",
       "⎣  lₐ⋅sin(q₁) + l_b⋅sin(q₁ + q₂) + l_c⋅sin(q₁ + q₂ + q₃)   ⎦"
      ]
     },
     "execution_count": 9,
     "metadata": {},
     "output_type": "execute_result"
    }
   ],
   "source": [
    "fh = sm.Matrix([fhx, fhy])\n",
    "fh"
   ]
  },
  {
   "cell_type": "code",
   "execution_count": 10,
   "id": "ac961167",
   "metadata": {
    "execution": {
     "iopub.execute_input": "2025-01-22T13:05:50.931704Z",
     "iopub.status.busy": "2025-01-22T13:05:50.931406Z",
     "iopub.status.idle": "2025-01-22T13:05:51.368609Z",
     "shell.execute_reply": "2025-01-22T13:05:51.368087Z"
    }
   },
   "outputs": [
    {
     "data": {
      "text/latex": [
       "$\\displaystyle \\left[\\begin{matrix}2 a \\cos{\\left(q_{1} + q_{2} \\right)} + b \\cos{\\left(q_{1} + q_{2} + q_{3} \\right)} + b \\cos{\\left(q_{1} \\right)} - \\frac{39 b}{20}\\\\2 a \\sin{\\left(q_{1} + q_{2} \\right)} + 2 a + b \\sin{\\left(q_{1} + q_{2} + q_{3} \\right)} + b \\sin{\\left(q_{1} \\right)}\\end{matrix}\\right]$"
      ],
      "text/plain": [
       "⎡                                                     39⋅b⎤\n",
       "⎢2⋅a⋅cos(q₁ + q₂) + b⋅cos(q₁ + q₂ + q₃) + b⋅cos(q₁) - ────⎥\n",
       "⎢                                                      20 ⎥\n",
       "⎢                                                         ⎥\n",
       "⎣2⋅a⋅sin(q₁ + q₂) + 2⋅a + b⋅sin(q₁ + q₂ + q₃) + b⋅sin(q₁) ⎦"
      ]
     },
     "execution_count": 10,
     "metadata": {},
     "output_type": "execute_result"
    }
   ],
   "source": [
    "q1, q2, q3 = me.dynamicsymbols('q1, q2, q3')\n",
    "a, b = sm.symbols('a, b')\n",
    "\n",
    "N = me.ReferenceFrame('N')\n",
    "A = me.ReferenceFrame('A')\n",
    "B = me.ReferenceFrame('B')\n",
    "C = me.ReferenceFrame('C')\n",
    "\n",
    "A.orient_axis(N, q1, N.z)\n",
    "B.orient_axis(A, q2, A.z)\n",
    "C.orient_axis(B, q3, B.z)\n",
    "\n",
    "P1 = me.Point('P1')\n",
    "P2 = me.Point('P2')\n",
    "P3 = me.Point('P3')\n",
    "P4 = me.Point('P4')\n",
    "\n",
    "P2.set_pos(P1, b*A.x)\n",
    "P3.set_pos(P2, 2*a*B.x)\n",
    "P4.set_pos(P3, b*C.x)\n",
    "\n",
    "P4.pos_from(P1)\n",
    "\n",
    "r_P1_P4 = (2 - sm.S(1)/20)*b*N.x - 2*a*N.y\n",
    "\n",
    "loop = P4.pos_from(P1) - r_P1_P4\n",
    "\n",
    "fh_watts = sm.trigsimp(sm.Matrix([loop.dot(N.x), loop.dot(N.y)]))\n",
    "fh_watts"
   ]
  },
  {
   "cell_type": "code",
   "execution_count": 11,
   "id": "1fc531e2",
   "metadata": {
    "execution": {
     "iopub.execute_input": "2025-01-22T13:05:51.370549Z",
     "iopub.status.busy": "2025-01-22T13:05:51.370041Z",
     "iopub.status.idle": "2025-01-22T13:05:51.374762Z",
     "shell.execute_reply": "2025-01-22T13:05:51.374380Z"
    }
   },
   "outputs": [
    {
     "data": {
      "text/latex": [
       "$\\displaystyle \\left\\{ l_{a} : 1.0, \\  l_{b} : 4.0, \\  l_{c} : 3.0, \\  l_{n} : 5.0, \\  q_{1} : 0.523598775598299\\right\\}$"
      ],
      "text/plain": [
       "{lₐ: 1.0, l_b: 4.0, l_c: 3.0, lₙ: 5.0, q₁: 0.5235987755982988}"
      ]
     },
     "execution_count": 11,
     "metadata": {},
     "output_type": "execute_result"
    }
   ],
   "source": [
    "import math  # provides pi as a float\n",
    "\n",
    "repl = {\n",
    "    la: 1.0,\n",
    "    lb: 4.0,\n",
    "    lc: 3.0,\n",
    "    ln: 5.0,\n",
    "    q1: 30.0/180.0*math.pi,  # 30 degrees in radians\n",
    "}\n",
    "repl"
   ]
  },
  {
   "cell_type": "code",
   "execution_count": 12,
   "id": "72c4b9c2",
   "metadata": {
    "execution": {
     "iopub.execute_input": "2025-01-22T13:05:51.376004Z",
     "iopub.status.busy": "2025-01-22T13:05:51.375868Z",
     "iopub.status.idle": "2025-01-22T13:05:51.389038Z",
     "shell.execute_reply": "2025-01-22T13:05:51.388663Z"
    }
   },
   "outputs": [
    {
     "data": {
      "text/latex": [
       "$\\displaystyle \\left[\\begin{matrix}4.0 \\cos{\\left(q_{2} + 0.523598775598299 \\right)} + 3.0 \\cos{\\left(q_{2} + q_{3} + 0.523598775598299 \\right)} - 4.13397459621556\\\\4.0 \\sin{\\left(q_{2} + 0.523598775598299 \\right)} + 3.0 \\sin{\\left(q_{2} + q_{3} + 0.523598775598299 \\right)} + 0.5\\end{matrix}\\right]$"
      ],
      "text/plain": [
       "⎡4.0⋅cos(q₂ + 0.523598775598299) + 3.0⋅cos(q₂ + q₃ + 0.523598775598299) - 4.13\n",
       "⎢                                                                             \n",
       "⎣      4.0⋅sin(q₂ + 0.523598775598299) + 3.0⋅sin(q₂ + q₃ + 0.523598775598299) \n",
       "\n",
       "397459621556⎤\n",
       "            ⎥\n",
       "+ 0.5       ⎦"
      ]
     },
     "execution_count": 12,
     "metadata": {},
     "output_type": "execute_result"
    }
   ],
   "source": [
    "fh.xreplace(repl)"
   ]
  },
  {
   "cell_type": "code",
   "execution_count": 13,
   "id": "26074850",
   "metadata": {
    "execution": {
     "iopub.execute_input": "2025-01-22T13:05:51.390297Z",
     "iopub.status.busy": "2025-01-22T13:05:51.390162Z",
     "iopub.status.idle": "2025-01-22T13:05:51.453417Z",
     "shell.execute_reply": "2025-01-22T13:05:51.452973Z"
    }
   },
   "outputs": [
    {
     "data": {
      "text/latex": [
       "$\\displaystyle \\left[\\begin{matrix}-79.9561178980214\\\\108.613175851763\\end{matrix}\\right]$"
      ],
      "text/plain": [
       "⎡-79.9561178980214⎤\n",
       "⎢                 ⎥\n",
       "⎣108.613175851763 ⎦"
      ]
     },
     "execution_count": 13,
     "metadata": {},
     "output_type": "execute_result"
    }
   ],
   "source": [
    "q2_guess = -75.0/180.0*math.pi  # -75 degrees in radians\n",
    "q3_guess = 100.0/180.0*math.pi  # 100 degrees in radians\n",
    "\n",
    "sol = sm.nsolve(fh.xreplace(repl), (q2, q3), (q2_guess, q3_guess))\n",
    "sol/math.pi*180.0  # to degrees"
   ]
  },
  {
   "cell_type": "code",
   "execution_count": 14,
   "id": "5d8ece05",
   "metadata": {
    "execution": {
     "iopub.execute_input": "2025-01-22T13:05:51.454780Z",
     "iopub.status.busy": "2025-01-22T13:05:51.454616Z",
     "iopub.status.idle": "2025-01-22T13:05:51.458926Z",
     "shell.execute_reply": "2025-01-22T13:05:51.458553Z"
    }
   },
   "outputs": [
    {
     "data": {
      "text/latex": [
       "$\\displaystyle \\left\\{ a : 1.0, \\  b : 4.0, \\  q_{2} : 4.62512251778497 - q_{1}\\right\\}$"
      ],
      "text/plain": [
       "{a: 1.0, b: 4.0, q₂: 4.62512251778497 - q₁}"
      ]
     },
     "execution_count": 14,
     "metadata": {},
     "output_type": "execute_result"
    }
   ],
   "source": [
    "repl = {\n",
    "    a: 1.0,\n",
    "    b: 4.0,\n",
    "    q2: 3.0*math.pi/2.0 - 5.0/180.0*math.pi - q1,\n",
    "}\n",
    "repl"
   ]
  },
  {
   "cell_type": "code",
   "execution_count": 15,
   "id": "3ad2f9d2",
   "metadata": {
    "execution": {
     "iopub.execute_input": "2025-01-22T13:05:51.460464Z",
     "iopub.status.busy": "2025-01-22T13:05:51.460088Z",
     "iopub.status.idle": "2025-01-22T13:05:51.470326Z",
     "shell.execute_reply": "2025-01-22T13:05:51.469842Z"
    }
   },
   "outputs": [
    {
     "data": {
      "text/latex": [
       "$\\displaystyle \\left[\\begin{matrix}4.0 \\cos{\\left(q_{3} + 4.62512251778497 \\right)} + 4.0 \\cos{\\left(q_{1} \\right)} - 7.97431148549532\\\\4.0 \\sin{\\left(q_{3} + 4.62512251778497 \\right)} + 4.0 \\sin{\\left(q_{1} \\right)} + 0.00761060381650891\\end{matrix}\\right]$"
      ],
      "text/plain": [
       "⎡ 4.0⋅cos(q₃ + 4.62512251778497) + 4.0⋅cos(q₁) - 7.97431148549532  ⎤\n",
       "⎢                                                                  ⎥\n",
       "⎣4.0⋅sin(q₃ + 4.62512251778497) + 4.0⋅sin(q₁) + 0.00761060381650891⎦"
      ]
     },
     "execution_count": 15,
     "metadata": {},
     "output_type": "execute_result"
    }
   ],
   "source": [
    "fh_watts.xreplace(repl)"
   ]
  },
  {
   "cell_type": "code",
   "execution_count": 16,
   "id": "c5bc29ec",
   "metadata": {
    "execution": {
     "iopub.execute_input": "2025-01-22T13:05:51.471884Z",
     "iopub.status.busy": "2025-01-22T13:05:51.471515Z",
     "iopub.status.idle": "2025-01-22T13:05:51.503287Z",
     "shell.execute_reply": "2025-01-22T13:05:51.502775Z"
    }
   },
   "outputs": [
    {
     "data": {
      "text/latex": [
       "$\\displaystyle \\left[\\begin{matrix}4.53780194767253\\\\90.3528330377729\\end{matrix}\\right]$"
      ],
      "text/plain": [
       "⎡4.53780194767253⎤\n",
       "⎢                ⎥\n",
       "⎣90.3528330377729⎦"
      ]
     },
     "execution_count": 16,
     "metadata": {},
     "output_type": "execute_result"
    }
   ],
   "source": [
    "q1_guess = 10.0/180.0*math.pi\n",
    "q3_guess = 100.0/180.0*math.pi\n",
    "\n",
    "sol = sm.nsolve(fh_watts.xreplace(repl), (q1, q3), (q1_guess, q3_guess))\n",
    "sol/math.pi*180.0  # to degrees"
   ]
  },
  {
   "cell_type": "code",
   "execution_count": 17,
   "id": "fc47cfa8",
   "metadata": {
    "execution": {
     "iopub.execute_input": "2025-01-22T13:05:51.504735Z",
     "iopub.status.busy": "2025-01-22T13:05:51.504411Z",
     "iopub.status.idle": "2025-01-22T13:05:51.508518Z",
     "shell.execute_reply": "2025-01-22T13:05:51.508090Z"
    }
   },
   "outputs": [],
   "source": [
    "P1 = me.Point('P1')\n",
    "P2 = me.Point('P2')\n",
    "P3 = me.Point('P3')\n",
    "P4 = me.Point('P4')\n",
    "P2.set_pos(P1, la*A.x)\n",
    "P3.set_pos(P2, lb*B.x)\n",
    "P4.set_pos(P3, lc*C.x)"
   ]
  },
  {
   "cell_type": "code",
   "execution_count": 18,
   "id": "7b8e6be6",
   "metadata": {
    "execution": {
     "iopub.execute_input": "2025-01-22T13:05:51.509997Z",
     "iopub.status.busy": "2025-01-22T13:05:51.509638Z",
     "iopub.status.idle": "2025-01-22T13:05:51.531707Z",
     "shell.execute_reply": "2025-01-22T13:05:51.531216Z"
    }
   },
   "outputs": [
    {
     "data": {
      "text/latex": [
       "$\\displaystyle l_{c} \\left(\\dot{q}_{1} + \\dot{q}_{2} + \\dot{q}_{3}\\right)\\hat{c}_y + l_{b} \\left(\\dot{q}_{1} + \\dot{q}_{2}\\right)\\hat{b}_y + l_{a} \\dot{q}_{1}\\hat{a}_y$"
      ],
      "text/plain": [
       "l_c⋅(q₁̇ + q₂̇ + q₃̇) c_y + l_b⋅(q₁̇ + q₂̇) b_y + lₐ⋅q₁̇ a_y"
      ]
     },
     "execution_count": 18,
     "metadata": {},
     "output_type": "execute_result"
    }
   ],
   "source": [
    "P1.set_vel(N, 0)\n",
    "P4.vel(N)"
   ]
  },
  {
   "cell_type": "code",
   "execution_count": 19,
   "id": "aa5a09f1",
   "metadata": {
    "execution": {
     "iopub.execute_input": "2025-01-22T13:05:51.533447Z",
     "iopub.status.busy": "2025-01-22T13:05:51.533028Z",
     "iopub.status.idle": "2025-01-22T13:05:52.077033Z",
     "shell.execute_reply": "2025-01-22T13:05:52.076571Z"
    }
   },
   "outputs": [
    {
     "data": {
      "text/latex": [
       "$\\displaystyle - l_{a} \\sin{\\left(q_{1} \\right)} \\dot{q}_{1} - l_{b} \\left(\\dot{q}_{1} + \\dot{q}_{2}\\right) \\sin{\\left(q_{1} + q_{2} \\right)} - l_{c} \\left(\\dot{q}_{1} + \\dot{q}_{2} + \\dot{q}_{3}\\right) \\sin{\\left(q_{1} + q_{2} + q_{3} \\right)}$"
      ],
      "text/plain": [
       "-lₐ⋅sin(q₁)⋅q₁̇ - l_b⋅(q₁̇ + q₂̇)⋅sin(q₁ + q₂) - l_c⋅(q₁̇ + q₂̇ + q₃̇)⋅sin(q₁ \n",
       "+ q₂ + q₃)"
      ]
     },
     "execution_count": 19,
     "metadata": {},
     "output_type": "execute_result"
    }
   ],
   "source": [
    "sm.trigsimp(P4.vel(N).dot(N.x))"
   ]
  },
  {
   "cell_type": "code",
   "execution_count": 20,
   "id": "44fbbc67",
   "metadata": {
    "execution": {
     "iopub.execute_input": "2025-01-22T13:05:52.078769Z",
     "iopub.status.busy": "2025-01-22T13:05:52.078318Z",
     "iopub.status.idle": "2025-01-22T13:05:52.600937Z",
     "shell.execute_reply": "2025-01-22T13:05:52.600422Z"
    }
   },
   "outputs": [
    {
     "data": {
      "text/latex": [
       "$\\displaystyle l_{a} \\cos{\\left(q_{1} \\right)} \\dot{q}_{1} + l_{b} \\left(\\dot{q}_{1} + \\dot{q}_{2}\\right) \\cos{\\left(q_{1} + q_{2} \\right)} + l_{c} \\left(\\dot{q}_{1} + \\dot{q}_{2} + \\dot{q}_{3}\\right) \\cos{\\left(q_{1} + q_{2} + q_{3} \\right)}$"
      ],
      "text/plain": [
       "lₐ⋅cos(q₁)⋅q₁̇ + l_b⋅(q₁̇ + q₂̇)⋅cos(q₁ + q₂) + l_c⋅(q₁̇ + q₂̇ + q₃̇)⋅cos(q₁ +\n",
       " q₂ + q₃)"
      ]
     },
     "execution_count": 20,
     "metadata": {},
     "output_type": "execute_result"
    }
   ],
   "source": [
    "sm.trigsimp(P4.vel(N).dot(N.y))"
   ]
  },
  {
   "cell_type": "code",
   "execution_count": 21,
   "id": "ba9be987",
   "metadata": {
    "execution": {
     "iopub.execute_input": "2025-01-22T13:05:52.602666Z",
     "iopub.status.busy": "2025-01-22T13:05:52.602367Z",
     "iopub.status.idle": "2025-01-22T13:05:52.632499Z",
     "shell.execute_reply": "2025-01-22T13:05:52.632000Z"
    }
   },
   "outputs": [
    {
     "data": {
      "text/latex": [
       "$\\displaystyle \\left[\\begin{matrix}- l_{a} \\sin{\\left(q_{1} \\right)} \\dot{q}_{1} - l_{b} \\left(\\dot{q}_{1} + \\dot{q}_{2}\\right) \\sin{\\left(q_{1} + q_{2} \\right)} - l_{c} \\left(\\dot{q}_{1} + \\dot{q}_{2} + \\dot{q}_{3}\\right) \\sin{\\left(q_{1} + q_{2} + q_{3} \\right)}\\\\l_{a} \\cos{\\left(q_{1} \\right)} \\dot{q}_{1} + l_{b} \\left(\\dot{q}_{1} + \\dot{q}_{2}\\right) \\cos{\\left(q_{1} + q_{2} \\right)} + l_{c} \\left(\\dot{q}_{1} + \\dot{q}_{2} + \\dot{q}_{3}\\right) \\cos{\\left(q_{1} + q_{2} + q_{3} \\right)}\\end{matrix}\\right]$"
      ],
      "text/plain": [
       "⎡-lₐ⋅sin(q₁)⋅q₁̇ - l_b⋅(q₁̇ + q₂̇)⋅sin(q₁ + q₂) - l_c⋅(q₁̇ + q₂̇ + q₃̇)⋅sin(q₁\n",
       "⎢                                                                             \n",
       "⎣lₐ⋅cos(q₁)⋅q₁̇ + l_b⋅(q₁̇ + q₂̇)⋅cos(q₁ + q₂) + l_c⋅(q₁̇ + q₂̇ + q₃̇)⋅cos(q₁ \n",
       "\n",
       " + q₂ + q₃)⎤\n",
       "     ⎥\n",
       "+ q₂ + q₃) ⎦"
      ]
     },
     "execution_count": 21,
     "metadata": {},
     "output_type": "execute_result"
    }
   ],
   "source": [
    "t = me.dynamicsymbols._t\n",
    "fhd = fh.diff(t)\n",
    "fhd"
   ]
  },
  {
   "cell_type": "code",
   "execution_count": 22,
   "id": "0b0b0d80",
   "metadata": {
    "execution": {
     "iopub.execute_input": "2025-01-22T13:05:52.633801Z",
     "iopub.status.busy": "2025-01-22T13:05:52.633660Z",
     "iopub.status.idle": "2025-01-22T13:05:52.638614Z",
     "shell.execute_reply": "2025-01-22T13:05:52.638215Z"
    }
   },
   "outputs": [
    {
     "data": {
      "text/latex": [
       "$\\displaystyle \\left[\\begin{matrix}\\dot{q}_{2}\\\\\\dot{q}_{3}\\end{matrix}\\right]$"
      ],
      "text/plain": [
       "⎡q₂̇⎤\n",
       "⎢  ⎥\n",
       "⎣q₃̇⎦"
      ]
     },
     "execution_count": 22,
     "metadata": {},
     "output_type": "execute_result"
    }
   ],
   "source": [
    "x = sm.Matrix([q2.diff(t), q3.diff(t)])\n",
    "x"
   ]
  },
  {
   "cell_type": "code",
   "execution_count": 23,
   "id": "a2c35fc6",
   "metadata": {
    "execution": {
     "iopub.execute_input": "2025-01-22T13:05:52.640191Z",
     "iopub.status.busy": "2025-01-22T13:05:52.639755Z",
     "iopub.status.idle": "2025-01-22T13:05:52.658901Z",
     "shell.execute_reply": "2025-01-22T13:05:52.658428Z"
    }
   },
   "outputs": [
    {
     "data": {
      "text/latex": [
       "$\\displaystyle \\left[\\begin{matrix}- l_{b} \\sin{\\left(q_{1} + q_{2} \\right)} - l_{c} \\sin{\\left(q_{1} + q_{2} + q_{3} \\right)} & - l_{c} \\sin{\\left(q_{1} + q_{2} + q_{3} \\right)}\\\\l_{b} \\cos{\\left(q_{1} + q_{2} \\right)} + l_{c} \\cos{\\left(q_{1} + q_{2} + q_{3} \\right)} & l_{c} \\cos{\\left(q_{1} + q_{2} + q_{3} \\right)}\\end{matrix}\\right]$"
      ],
      "text/plain": [
       "⎡-l_b⋅sin(q₁ + q₂) - l_c⋅sin(q₁ + q₂ + q₃)  -l_c⋅sin(q₁ + q₂ + q₃)⎤\n",
       "⎢                                                                 ⎥\n",
       "⎣l_b⋅cos(q₁ + q₂) + l_c⋅cos(q₁ + q₂ + q₃)   l_c⋅cos(q₁ + q₂ + q₃) ⎦"
      ]
     },
     "execution_count": 23,
     "metadata": {},
     "output_type": "execute_result"
    }
   ],
   "source": [
    "A = fhd.jacobian(x)\n",
    "A"
   ]
  },
  {
   "cell_type": "code",
   "execution_count": 24,
   "id": "be5c7d27",
   "metadata": {
    "execution": {
     "iopub.execute_input": "2025-01-22T13:05:52.660247Z",
     "iopub.status.busy": "2025-01-22T13:05:52.660114Z",
     "iopub.status.idle": "2025-01-22T13:05:52.670956Z",
     "shell.execute_reply": "2025-01-22T13:05:52.670586Z"
    }
   },
   "outputs": [
    {
     "data": {
      "text/latex": [
       "$\\displaystyle \\left[\\begin{matrix}l_{a} \\sin{\\left(q_{1} \\right)} \\dot{q}_{1} + l_{b} \\sin{\\left(q_{1} + q_{2} \\right)} \\dot{q}_{1} + l_{c} \\sin{\\left(q_{1} + q_{2} + q_{3} \\right)} \\dot{q}_{1}\\\\- l_{a} \\cos{\\left(q_{1} \\right)} \\dot{q}_{1} - l_{b} \\cos{\\left(q_{1} + q_{2} \\right)} \\dot{q}_{1} - l_{c} \\cos{\\left(q_{1} + q_{2} + q_{3} \\right)} \\dot{q}_{1}\\end{matrix}\\right]$"
      ],
      "text/plain": [
       "⎡lₐ⋅sin(q₁)⋅q₁̇ + l_b⋅sin(q₁ + q₂)⋅q₁̇ + l_c⋅sin(q₁ + q₂ + q₃)⋅q₁̇ ⎤\n",
       "⎢                                                               ⎥\n",
       "⎣-lₐ⋅cos(q₁)⋅q₁̇ - l_b⋅cos(q₁ + q₂)⋅q₁̇ - l_c⋅cos(q₁ + q₂ + q₃)⋅q₁̇⎦"
      ]
     },
     "execution_count": 24,
     "metadata": {},
     "output_type": "execute_result"
    }
   ],
   "source": [
    "b = -fhd.xreplace({q2.diff(t): 0, q3.diff(t): 0})\n",
    "b"
   ]
  },
  {
   "cell_type": "code",
   "execution_count": 25,
   "id": "ff914ec3",
   "metadata": {
    "execution": {
     "iopub.execute_input": "2025-01-22T13:05:52.672379Z",
     "iopub.status.busy": "2025-01-22T13:05:52.672135Z",
     "iopub.status.idle": "2025-01-22T13:05:54.128414Z",
     "shell.execute_reply": "2025-01-22T13:05:54.127938Z"
    }
   },
   "outputs": [
    {
     "data": {
      "text/latex": [
       "$\\displaystyle \\left[\\begin{matrix}- \\frac{\\left(\\frac{l_{a} \\sin{\\left(q_{2} \\right)}}{\\tan{\\left(q_{3} \\right)}} + l_{a} \\cos{\\left(q_{2} \\right)} + l_{b}\\right) \\dot{q}_{1}}{l_{b}}\\\\\\frac{l_{a} \\left(l_{b} \\sin{\\left(q_{2} \\right)} + l_{c} \\sin{\\left(q_{2} + q_{3} \\right)}\\right) \\dot{q}_{1}}{l_{b} l_{c} \\sin{\\left(q_{3} \\right)}}\\end{matrix}\\right]$"
      ],
      "text/plain": [
       "⎡  ⎛lₐ⋅sin(q₂)                   ⎞     ⎤\n",
       "⎢ -⎜────────── + lₐ⋅cos(q₂) + l_b⎟⋅q₁̇  ⎥\n",
       "⎢  ⎝ tan(q₃)                     ⎠     ⎥\n",
       "⎢ ──────────────────────────────────── ⎥\n",
       "⎢                 l_b                  ⎥\n",
       "⎢                                      ⎥\n",
       "⎢lₐ⋅(l_b⋅sin(q₂) + l_c⋅sin(q₂ + q₃))⋅q₁̇⎥\n",
       "⎢──────────────────────────────────────⎥\n",
       "⎣           l_b⋅l_c⋅sin(q₃)            ⎦"
      ]
     },
     "execution_count": 25,
     "metadata": {},
     "output_type": "execute_result"
    }
   ],
   "source": [
    "x_sol = sm.simplify(A.LUsolve(b))\n",
    "x_sol"
   ]
  },
  {
   "cell_type": "code",
   "execution_count": 26,
   "id": "bac2158e",
   "metadata": {
    "execution": {
     "iopub.execute_input": "2025-01-22T13:05:54.129869Z",
     "iopub.status.busy": "2025-01-22T13:05:54.129726Z",
     "iopub.status.idle": "2025-01-22T13:05:54.137438Z",
     "shell.execute_reply": "2025-01-22T13:05:54.136938Z"
    }
   },
   "outputs": [
    {
     "data": {
      "text/latex": [
       "$\\displaystyle \\left\\{q_{1}, q_{2}, q_{3}, \\dot{q}_{1}, \\dot{q}_{2}, \\dot{q}_{3}\\right\\}$"
      ],
      "text/plain": [
       "{q₁, q₂, q₃, q₁̇, q₂̇, q₃̇}"
      ]
     },
     "execution_count": 26,
     "metadata": {},
     "output_type": "execute_result"
    }
   ],
   "source": [
    "P4.vel(N).free_dynamicsymbols(N)"
   ]
  },
  {
   "cell_type": "code",
   "execution_count": 27,
   "id": "c6d7b66e",
   "metadata": {
    "execution": {
     "iopub.execute_input": "2025-01-22T13:05:54.138739Z",
     "iopub.status.busy": "2025-01-22T13:05:54.138599Z",
     "iopub.status.idle": "2025-01-22T13:05:54.147439Z",
     "shell.execute_reply": "2025-01-22T13:05:54.146937Z"
    }
   },
   "outputs": [
    {
     "data": {
      "text/latex": [
       "$\\displaystyle \\left\\{ \\dot{q}_{2} : - \\frac{\\left(\\frac{l_{a} \\sin{\\left(q_{2} \\right)}}{\\tan{\\left(q_{3} \\right)}} + l_{a} \\cos{\\left(q_{2} \\right)} + l_{b}\\right) \\dot{q}_{1}}{l_{b}}, \\  \\dot{q}_{3} : \\frac{l_{a} \\left(l_{b} \\sin{\\left(q_{2} \\right)} + l_{c} \\sin{\\left(q_{2} + q_{3} \\right)}\\right) \\dot{q}_{1}}{l_{b} l_{c} \\sin{\\left(q_{3} \\right)}}\\right\\}$"
      ],
      "text/plain": [
       "⎧     ⎛lₐ⋅sin(q₂)                   ⎞                                         \n",
       "⎪    -⎜────────── + lₐ⋅cos(q₂) + l_b⎟⋅q₁̇                                     \n",
       "⎨     ⎝ tan(q₃)                     ⎠          lₐ⋅(l_b⋅sin(q₂) + l_c⋅sin(q₂ + \n",
       "⎪q₂̇: ────────────────────────────────────, q₃̇: ─────────────────────────────\n",
       "⎩                    l_b                                  l_b⋅l_c⋅sin(q₃)     \n",
       "\n",
       "       ⎫\n",
       "        ⎪\n",
       "q₃))⋅q₁̇⎬\n",
       "─────────⎪\n",
       "       ⎭"
      ]
     },
     "execution_count": 27,
     "metadata": {},
     "output_type": "execute_result"
    }
   ],
   "source": [
    "qd_dep_repl = {\n",
    "  q2.diff(t): x_sol[0, 0],\n",
    "  q3.diff(t): x_sol[1, 0],\n",
    "}\n",
    "qd_dep_repl"
   ]
  },
  {
   "cell_type": "code",
   "execution_count": 28,
   "id": "dc622a81",
   "metadata": {
    "execution": {
     "iopub.execute_input": "2025-01-22T13:05:54.149079Z",
     "iopub.status.busy": "2025-01-22T13:05:54.148669Z",
     "iopub.status.idle": "2025-01-22T13:05:54.160869Z",
     "shell.execute_reply": "2025-01-22T13:05:54.160382Z"
    }
   },
   "outputs": [
    {
     "data": {
      "text/latex": [
       "$\\displaystyle l_{c} \\left(\\frac{l_{a} \\left(l_{b} \\sin{\\left(q_{2} \\right)} + l_{c} \\sin{\\left(q_{2} + q_{3} \\right)}\\right) \\dot{q}_{1}}{l_{b} l_{c} \\sin{\\left(q_{3} \\right)}} + \\dot{q}_{1} - \\frac{\\left(\\frac{l_{a} \\sin{\\left(q_{2} \\right)}}{\\tan{\\left(q_{3} \\right)}} + l_{a} \\cos{\\left(q_{2} \\right)} + l_{b}\\right) \\dot{q}_{1}}{l_{b}}\\right)\\hat{c}_y + l_{b} \\left(\\dot{q}_{1} - \\frac{\\left(\\frac{l_{a} \\sin{\\left(q_{2} \\right)}}{\\tan{\\left(q_{3} \\right)}} + l_{a} \\cos{\\left(q_{2} \\right)} + l_{b}\\right) \\dot{q}_{1}}{l_{b}}\\right)\\hat{b}_y + l_{a} \\dot{q}_{1}\\hat{a}_y$"
      ],
      "text/plain": [
       "    ⎛                                              ⎛lₐ⋅sin(q₂)\n",
       "    ⎜                                              ⎜────────── + lₐ⋅cos(q₂) +\n",
       "    ⎜lₐ⋅(l_b⋅sin(q₂) + l_c⋅sin(q₂ + q₃))⋅q₁̇        ⎝ tan(q₃)\n",
       "l_c⋅⎜────────────────────────────────────── + q₁̇ - ──────────────────────────\n",
       "    ⎝           l_b⋅l_c⋅sin(q₃)                                   l_b\n",
       "\n",
       "   ⎞   ⎞           ⎛     ⎛lₐ⋅sin(q₂)                   ⎞   ⎞\n",
       "l_b⎟⋅q₁̇⎟           ⎜     ⎜────────── + lₐ⋅cos(q₂) + l_b⎟⋅q₁̇⎟\n",
       "    ⎠   ⎟           ⎜     ⎝ tan(q₃)                     ⎠   ⎟\n",
       "────────⎟ c_y + l_b⋅⎜q₁̇ - ──────────────────────────────────⎟ b_y + lₐ⋅q₁̇ a_\n",
       "       ⎠           ⎝                    l_b                ⎠"
      ]
     },
     "execution_count": 28,
     "metadata": {},
     "output_type": "execute_result"
    }
   ],
   "source": [
    "P4.vel(N).xreplace(qd_dep_repl)"
   ]
  },
  {
   "cell_type": "code",
   "execution_count": 29,
   "id": "a603472d",
   "metadata": {
    "execution": {
     "iopub.execute_input": "2025-01-22T13:05:54.162197Z",
     "iopub.status.busy": "2025-01-22T13:05:54.162030Z",
     "iopub.status.idle": "2025-01-22T13:05:54.171256Z",
     "shell.execute_reply": "2025-01-22T13:05:54.170846Z"
    }
   },
   "outputs": [
    {
     "data": {
      "text/latex": [
       "$\\displaystyle \\left\\{q_{1}, q_{2}, q_{3}, \\dot{q}_{1}\\right\\}$"
      ],
      "text/plain": [
       "{q₁, q₂, q₃, q₁̇}"
      ]
     },
     "execution_count": 29,
     "metadata": {},
     "output_type": "execute_result"
    }
   ],
   "source": [
    "P4.vel(N).xreplace(qd_dep_repl).free_dynamicsymbols(N)"
   ]
  }
 ],
 "metadata": {
  "kernelspec": {
   "display_name": "Python 3 (ipykernel)",
   "language": "python",
   "name": "python3"
  },
  "language_info": {
   "codemirror_mode": {
    "name": "ipython",
    "version": 3
   },
   "file_extension": ".py",
   "mimetype": "text/x-python",
   "name": "python",
   "nbconvert_exporter": "python",
   "pygments_lexer": "ipython3",
   "version": "3.11.11"
  }
 },
 "nbformat": 4,
 "nbformat_minor": 5
}