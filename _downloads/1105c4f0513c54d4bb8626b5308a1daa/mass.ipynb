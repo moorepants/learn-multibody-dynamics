{
 "cells": [
  {
   "cell_type": "code",
   "execution_count": 1,
   "id": "a9c7d27c",
   "metadata": {
    "execution": {
     "iopub.execute_input": "2025-09-25T05:54:59.171296Z",
     "iopub.status.busy": "2025-09-25T05:54:59.171118Z",
     "iopub.status.idle": "2025-09-25T05:54:59.513658Z",
     "shell.execute_reply": "2025-09-25T05:54:59.513071Z"
    }
   },
   "outputs": [],
   "source": [
    "import sympy as sm\n",
    "import sympy.physics.mechanics as me\n",
    "me.init_vprinting(use_latex='mathjax')"
   ]
  },
  {
   "cell_type": "code",
   "execution_count": 2,
   "id": "92e5171b",
   "metadata": {
    "execution": {
     "iopub.execute_input": "2025-09-25T05:54:59.515492Z",
     "iopub.status.busy": "2025-09-25T05:54:59.515290Z",
     "iopub.status.idle": "2025-09-25T05:54:59.518821Z",
     "shell.execute_reply": "2025-09-25T05:54:59.518314Z"
    }
   },
   "outputs": [],
   "source": [
    "class ReferenceFrame(me.ReferenceFrame):\n",
    "\n",
    "    def __init__(self, *args, **kwargs):\n",
    "\n",
    "        kwargs.pop('latexs', None)\n",
    "\n",
    "        lab = args[0].lower()\n",
    "        tex = r'\\hat{{{}}}_{}'\n",
    "\n",
    "        super(ReferenceFrame, self).__init__(*args,\n",
    "                                             latexs=(tex.format(lab, 'x'),\n",
    "                                                     tex.format(lab, 'y'),\n",
    "                                                     tex.format(lab, 'z')),\n",
    "                                             **kwargs)\n",
    "me.ReferenceFrame = ReferenceFrame"
   ]
  },
  {
   "cell_type": "code",
   "execution_count": 3,
   "id": "c5639e51",
   "metadata": {
    "execution": {
     "iopub.execute_input": "2025-09-25T05:54:59.520169Z",
     "iopub.status.busy": "2025-09-25T05:54:59.520007Z",
     "iopub.status.idle": "2025-09-25T05:54:59.524592Z",
     "shell.execute_reply": "2025-09-25T05:54:59.524215Z"
    }
   },
   "outputs": [
    {
     "data": {
      "text/latex": [
       "$\\displaystyle \\frac{5 m}{2}$"
      ],
      "text/plain": [
       "5⋅m\n",
       "───\n",
       " 2 "
      ]
     },
     "execution_count": 3,
     "metadata": {},
     "output_type": "execute_result"
    }
   ],
   "source": [
    "m = sm.symbols('m')\n",
    "\n",
    "m_total = m + m + m/2\n",
    "m_total"
   ]
  },
  {
   "cell_type": "code",
   "execution_count": 4,
   "id": "bdfa2654",
   "metadata": {
    "execution": {
     "iopub.execute_input": "2025-09-25T05:54:59.525879Z",
     "iopub.status.busy": "2025-09-25T05:54:59.525728Z",
     "iopub.status.idle": "2025-09-25T05:54:59.568775Z",
     "shell.execute_reply": "2025-09-25T05:54:59.568382Z"
    }
   },
   "outputs": [
    {
     "data": {
      "text/latex": [
       "$\\displaystyle \\frac{\\pi R^{2} h \\rho}{3}$"
      ],
      "text/plain": [
       "   2    \n",
       "π⋅R ⋅h⋅ρ\n",
       "────────\n",
       "   3    "
      ]
     },
     "execution_count": 4,
     "metadata": {},
     "output_type": "execute_result"
    }
   ],
   "source": [
    "p, R, h = sm.symbols('rho, R, h')  # constants\n",
    "r, z, theta = sm.symbols('r, z, theta')  # integration variables\n",
    "\n",
    "sm.integrate(p*r, (r, 0, R/h*z), (theta, 0, 2*sm.pi), (z, 0, h))"
   ]
  },
  {
   "cell_type": "code",
   "execution_count": 5,
   "id": "2490ea3f",
   "metadata": {
    "execution": {
     "iopub.execute_input": "2025-09-25T05:54:59.570013Z",
     "iopub.status.busy": "2025-09-25T05:54:59.569861Z",
     "iopub.status.idle": "2025-09-25T05:54:59.585315Z",
     "shell.execute_reply": "2025-09-25T05:54:59.584808Z"
    }
   },
   "outputs": [
    {
     "data": {
      "text/latex": [
       "$\\displaystyle (m_{1} x_{1} + m_{2} x_{2} + m_{3} x_{3})\\hat{a}_x + (m_{1} y_{1} + m_{2} y_{2} + m_{3} y_{3})\\hat{a}_y + (m_{1} z_{1} + m_{2} z_{2} + m_{3} z_{3})\\hat{a}_z$"
      ],
      "text/plain": [
       "(m₁⋅x₁ + m₂⋅x₂ + m₃⋅x₃) a_x + (m₁⋅y₁ + m₂⋅y₂ + m₃⋅y₃) a_y + (m₁⋅z₁ + m₂⋅z₂ + m\n",
       "₃⋅z₃) a_z"
      ]
     },
     "execution_count": 5,
     "metadata": {},
     "output_type": "execute_result"
    }
   ],
   "source": [
    "m1, m2, m3 = sm.symbols('m1, m2, m3')\n",
    "x1, x2, x3 = me.dynamicsymbols('x1, x2, x3')\n",
    "y1, y2, y3 = me.dynamicsymbols('y1, y2, y3')\n",
    "z1, z2, z3 = me.dynamicsymbols('z1, z2, z3')\n",
    "\n",
    "A = me.ReferenceFrame('A')\n",
    "\n",
    "zeroth_moment = (m1 + m2 + m3)\n",
    "\n",
    "first_moment = (m1*(x1*A.x + y1*A.y + z1*A.z) +\n",
    "                m2*(x2*A.x + y2*A.y + z2*A.z) +\n",
    "                m3*(x3*A.x + y3*A.y + z3*A.z))\n",
    "first_moment"
   ]
  },
  {
   "cell_type": "code",
   "execution_count": 6,
   "id": "b890da49",
   "metadata": {
    "execution": {
     "iopub.execute_input": "2025-09-25T05:54:59.586643Z",
     "iopub.status.busy": "2025-09-25T05:54:59.586499Z",
     "iopub.status.idle": "2025-09-25T05:54:59.597001Z",
     "shell.execute_reply": "2025-09-25T05:54:59.596607Z"
    }
   },
   "outputs": [
    {
     "data": {
      "text/latex": [
       "$\\displaystyle \\frac{m_{1} x_{1} + m_{2} x_{2} + m_{3} x_{3}}{m_{1} + m_{2} + m_{3}}\\hat{a}_x + \\frac{m_{1} y_{1} + m_{2} y_{2} + m_{3} y_{3}}{m_{1} + m_{2} + m_{3}}\\hat{a}_y + \\frac{m_{1} z_{1} + m_{2} z_{2} + m_{3} z_{3}}{m_{1} + m_{2} + m_{3}}\\hat{a}_z$"
      ],
      "text/plain": [
       "m₁⋅x₁ + m₂⋅x₂ + m₃⋅x₃       m₁⋅y₁ + m₂⋅y₂ + m₃⋅y₃       m₁⋅z₁ + m₂⋅z₂ + m₃⋅z₃\n",
       "───────────────────── a_x + ───────────────────── a_y + ─────────────────────\n",
       "     m₁ + m₂ + m₃                m₁ + m₂ + m₃                m₁ + m₂ + m₃\n",
       "\n",
       "\n",
       "a_z\n"
      ]
     },
     "execution_count": 6,
     "metadata": {},
     "output_type": "execute_result"
    }
   ],
   "source": [
    "r_O_So =  first_moment/zeroth_moment\n",
    "r_O_So"
   ]
  },
  {
   "cell_type": "code",
   "execution_count": 7,
   "id": "8601fe39",
   "metadata": {
    "execution": {
     "iopub.execute_input": "2025-09-25T05:54:59.598284Z",
     "iopub.status.busy": "2025-09-25T05:54:59.598109Z",
     "iopub.status.idle": "2025-09-25T05:54:59.657184Z",
     "shell.execute_reply": "2025-09-25T05:54:59.656679Z"
    }
   },
   "outputs": [
    {
     "data": {
      "text/latex": [
       "$\\displaystyle (\\frac{x_{1}}{6} + \\frac{x_{2}}{3} + \\frac{x_{3}}{2})\\hat{a}_x + (\\frac{y_{1}}{6} + \\frac{y_{2}}{3} + \\frac{y_{3}}{2})\\hat{a}_y + (\\frac{z_{1}}{6} + \\frac{z_{2}}{3} + \\frac{z_{3}}{2})\\hat{a}_z$"
      ],
      "text/plain": [
       "⎛x₁   x₂   x₃⎞       ⎛y₁   y₂   y₃⎞       ⎛z₁   z₂   z₃⎞\n",
       "⎜── + ── + ──⎟ a_x + ⎜── + ── + ──⎟ a_y + ⎜── + ── + ──⎟ a_z\n",
       "⎝6    3    2 ⎠       ⎝6    3    2 ⎠       ⎝6    3    2 ⎠"
      ]
     },
     "execution_count": 7,
     "metadata": {},
     "output_type": "execute_result"
    }
   ],
   "source": [
    "r_O_So.xreplace({m2: 2*m1, m3: 3*m1}).simplify()"
   ]
  },
  {
   "cell_type": "code",
   "execution_count": 8,
   "id": "538b99fb",
   "metadata": {
    "execution": {
     "iopub.execute_input": "2025-09-25T05:54:59.658603Z",
     "iopub.status.busy": "2025-09-25T05:54:59.658439Z",
     "iopub.status.idle": "2025-09-25T05:54:59.661308Z",
     "shell.execute_reply": "2025-09-25T05:54:59.660802Z"
    }
   },
   "outputs": [],
   "source": [
    "m, r, theta = sm.symbols('m, r, theta')\n",
    "A = me.ReferenceFrame('A')"
   ]
  },
  {
   "cell_type": "code",
   "execution_count": 9,
   "id": "6f867fcd",
   "metadata": {
    "execution": {
     "iopub.execute_input": "2025-09-25T05:54:59.662635Z",
     "iopub.status.busy": "2025-09-25T05:54:59.662498Z",
     "iopub.status.idle": "2025-09-25T05:54:59.673525Z",
     "shell.execute_reply": "2025-09-25T05:54:59.673128Z"
    }
   },
   "outputs": [],
   "source": [
    "r_O_m = (r + r*sm.sin(theta))*A.x + r*sm.cos(theta)*A.y\n",
    "r_O_2m = (r + r*sm.sin(theta + sm.pi/7))*A.x + r*sm.cos(theta + sm.pi/7)*A.y\n",
    "r_O_3m = (r + r*sm.sin(theta - sm.pi/6))*A.x + r*sm.cos(theta - sm.pi/6)*A.y"
   ]
  },
  {
   "cell_type": "code",
   "execution_count": 10,
   "id": "d977a4f4",
   "metadata": {
    "execution": {
     "iopub.execute_input": "2025-09-25T05:54:59.674778Z",
     "iopub.status.busy": "2025-09-25T05:54:59.674632Z",
     "iopub.status.idle": "2025-09-25T05:54:59.694684Z",
     "shell.execute_reply": "2025-09-25T05:54:59.694216Z"
    }
   },
   "outputs": [
    {
     "data": {
      "text/latex": [
       "$\\displaystyle m \\left(r \\sin{\\left(\\theta \\right)} + r\\right)^{2} + 2 m \\left(r \\sin{\\left(\\theta + \\frac{\\pi}{7} \\right)} + r\\right)^{2} + 3 m \\left(- r \\cos{\\left(\\theta + \\frac{\\pi}{3} \\right)} + r\\right)^{2}$"
      ],
      "text/plain": [
       "                                          2                           2\n",
       "                2       ⎛     ⎛    π⎞    ⎞        ⎛       ⎛    π⎞    ⎞ \n",
       "m⋅(r⋅sin(θ) + r)  + 2⋅m⋅⎜r⋅sin⎜θ + ─⎟ + r⎟  + 3⋅m⋅⎜- r⋅cos⎜θ + ─⎟ + r⎟ \n",
       "                        ⎝     ⎝    7⎠    ⎠        ⎝       ⎝    3⎠    ⎠ "
      ]
     },
     "execution_count": 10,
     "metadata": {},
     "output_type": "execute_result"
    }
   ],
   "source": [
    "Iyy = (m*me.dot(r_O_m.cross(A.y), r_O_m.cross(A.y)) +\n",
    "       2*m*me.dot(r_O_2m.cross(A.y), r_O_2m.cross(A.y)) +\n",
    "       3*m*me.dot(r_O_3m.cross(A.y), r_O_3m.cross(A.y)))\n",
    "Iyy"
   ]
  },
  {
   "cell_type": "code",
   "execution_count": 11,
   "id": "b2155e5b",
   "metadata": {
    "execution": {
     "iopub.execute_input": "2025-09-25T05:54:59.696006Z",
     "iopub.status.busy": "2025-09-25T05:54:59.695871Z",
     "iopub.status.idle": "2025-09-25T05:55:00.115980Z",
     "shell.execute_reply": "2025-09-25T05:55:00.115546Z"
    }
   },
   "outputs": [
    {
     "data": {
      "text/latex": [
       "$\\displaystyle 2 m r^{2} \\left(\\left(\\sin{\\left(\\theta \\right)} + 1\\right) \\cos{\\left(\\theta \\right)} + 2 \\left(\\sin{\\left(\\theta + \\frac{\\pi}{7} \\right)} + 1\\right) \\cos{\\left(\\theta + \\frac{\\pi}{7} \\right)} - 3 \\left(\\cos{\\left(\\theta + \\frac{\\pi}{3} \\right)} - 1\\right) \\sin{\\left(\\theta + \\frac{\\pi}{3} \\right)}\\right)$"
      ],
      "text/plain": [
       "     2 ⎛                        ⎛   ⎛    π⎞    ⎞    ⎛    π⎞     ⎛   ⎛    π⎞   \n",
       "2⋅m⋅r ⋅⎜(sin(θ) + 1)⋅cos(θ) + 2⋅⎜sin⎜θ + ─⎟ + 1⎟⋅cos⎜θ + ─⎟ - 3⋅⎜cos⎜θ + ─⎟ - \n",
       "       ⎝                        ⎝   ⎝    7⎠    ⎠    ⎝    7⎠     ⎝   ⎝    3⎠   \n",
       "\n",
       " ⎞    ⎛    π⎞⎞\n",
       "1⎟⋅sin⎜θ + ─⎟⎟\n",
       " ⎠    ⎝    3⎠⎠"
      ]
     },
     "execution_count": 11,
     "metadata": {},
     "output_type": "execute_result"
    }
   ],
   "source": [
    "dIyydtheta = sm.simplify(Iyy.diff(theta))\n",
    "dIyydtheta"
   ]
  },
  {
   "cell_type": "code",
   "execution_count": 12,
   "id": "74425509",
   "metadata": {
    "execution": {
     "iopub.execute_input": "2025-09-25T05:55:00.117359Z",
     "iopub.status.busy": "2025-09-25T05:55:00.117210Z",
     "iopub.status.idle": "2025-09-25T05:55:00.134042Z",
     "shell.execute_reply": "2025-09-25T05:55:00.133555Z"
    }
   },
   "outputs": [
    {
     "data": {
      "text/latex": [
       "$\\displaystyle -1.49935061382135$"
      ],
      "text/plain": [
       "-1.49935061382135"
      ]
     },
     "execution_count": 12,
     "metadata": {},
     "output_type": "execute_result"
    }
   ],
   "source": [
    "theta_sol = sm.nsolve((dIyydtheta/m/r**2).evalf(), theta, 0)\n",
    "theta_sol"
   ]
  },
  {
   "cell_type": "code",
   "execution_count": 13,
   "id": "59072b18",
   "metadata": {
    "execution": {
     "iopub.execute_input": "2025-09-25T05:55:00.135444Z",
     "iopub.status.busy": "2025-09-25T05:55:00.135284Z",
     "iopub.status.idle": "2025-09-25T05:55:00.138675Z",
     "shell.execute_reply": "2025-09-25T05:55:00.138199Z"
    }
   },
   "outputs": [
    {
     "data": {
      "text/latex": [
       "$\\displaystyle -85.9064621823125$"
      ],
      "text/plain": [
       "-85.9064621823125"
      ]
     },
     "execution_count": 13,
     "metadata": {},
     "output_type": "execute_result"
    }
   ],
   "source": [
    "import math\n",
    "\n",
    "theta_sol*180/math.pi"
   ]
  },
  {
   "cell_type": "code",
   "execution_count": 14,
   "id": "d842a83e",
   "metadata": {
    "execution": {
     "iopub.execute_input": "2025-09-25T05:55:00.139965Z",
     "iopub.status.busy": "2025-09-25T05:55:00.139818Z",
     "iopub.status.idle": "2025-09-25T05:55:00.150002Z",
     "shell.execute_reply": "2025-09-25T05:55:00.149509Z"
    }
   },
   "outputs": [
    {
     "data": {
      "text/latex": [
       "$\\displaystyle \\sqrt{\\frac{m \\left(r \\sin{\\left(\\theta \\right)} + r\\right)^{2} + 2 m \\left(r \\sin{\\left(\\theta + \\frac{\\pi}{7} \\right)} + r\\right)^{2} + 3 m \\left(- r \\cos{\\left(\\theta + \\frac{\\pi}{3} \\right)} + r\\right)^{2}}{m}}$"
      ],
      "text/plain": [
       "       _______________________________________________________________________\n",
       "      ╱                                           2                           \n",
       "     ╱                  2       ⎛     ⎛    π⎞    ⎞        ⎛       ⎛    π⎞    ⎞\n",
       "    ╱   m⋅(r⋅sin(θ) + r)  + 2⋅m⋅⎜r⋅sin⎜θ + ─⎟ + r⎟  + 3⋅m⋅⎜- r⋅cos⎜θ + ─⎟ + r⎟\n",
       "   ╱                            ⎝     ⎝    7⎠    ⎠        ⎝       ⎝    3⎠    ⎠\n",
       "  ╱     ──────────────────────────────────────────────────────────────────────\n",
       "╲╱                                         m                                  \n",
       "\n",
       "__\n",
       "2 \n",
       "  \n",
       "  \n",
       "  \n",
       "─ \n",
       "  "
      ]
     },
     "execution_count": 14,
     "metadata": {},
     "output_type": "execute_result"
    }
   ],
   "source": [
    "kyy = sm.sqrt(Iyy/m)\n",
    "kyy"
   ]
  },
  {
   "cell_type": "code",
   "execution_count": 15,
   "id": "8edd934a",
   "metadata": {
    "execution": {
     "iopub.execute_input": "2025-09-25T05:55:00.151383Z",
     "iopub.status.busy": "2025-09-25T05:55:00.151244Z",
     "iopub.status.idle": "2025-09-25T05:55:00.650122Z",
     "shell.execute_reply": "2025-09-25T05:55:00.649674Z"
    }
   },
   "outputs": [
    {
     "data": {
      "image/png": "[encoded data removed]",
      "text/plain": [
       "<Figure size 640x480 with 1 Axes>"
      ]
     },
     "metadata": {
      "filenames": {
       "image/png": "/home/runner/work/learn-multibody-dynamics/learn-multibody-dynamics/_build/jupyter_execute/mass_14_0.png"
      }
     },
     "output_type": "display_data"
    }
   ],
   "source": [
    "sm.plot(kyy.xreplace({m: 1, r: 1}));"
   ]
  },
  {
   "cell_type": "code",
   "execution_count": 16,
   "id": "050fc332",
   "metadata": {
    "execution": {
     "iopub.execute_input": "2025-09-25T05:55:00.651605Z",
     "iopub.status.busy": "2025-09-25T05:55:00.651404Z",
     "iopub.status.idle": "2025-09-25T05:55:00.664618Z",
     "shell.execute_reply": "2025-09-25T05:55:00.664221Z"
    }
   },
   "outputs": [
    {
     "data": {
      "text/latex": [
       "$\\displaystyle 0.255558185585985$"
      ],
      "text/plain": [
       "0.255558185585985"
      ]
     },
     "execution_count": 16,
     "metadata": {},
     "output_type": "execute_result"
    }
   ],
   "source": [
    "kyy.xreplace({m: 1, r: 1, theta: theta_sol}).evalf()"
   ]
  },
  {
   "cell_type": "code",
   "execution_count": 17,
   "id": "16f4374f",
   "metadata": {
    "execution": {
     "iopub.execute_input": "2025-09-25T05:55:00.665890Z",
     "iopub.status.busy": "2025-09-25T05:55:00.665748Z",
     "iopub.status.idle": "2025-09-25T05:55:00.681910Z",
     "shell.execute_reply": "2025-09-25T05:55:00.681501Z"
    }
   },
   "outputs": [
    {
     "data": {
      "text/latex": [
       "$\\displaystyle v_{1} w_{1}\\hat{a}_x\\otimes \\hat{a}_x + v_{1} w_{2}\\hat{a}_x\\otimes \\hat{a}_y + v_{1} w_{3}\\hat{a}_x\\otimes \\hat{a}_z + v_{2} w_{1}\\hat{a}_y\\otimes \\hat{a}_x + v_{2} w_{2}\\hat{a}_y\\otimes \\hat{a}_y + v_{2} w_{3}\\hat{a}_y\\otimes \\hat{a}_z + v_{3} w_{1}\\hat{a}_z\\otimes \\hat{a}_x + v_{3} w_{2}\\hat{a}_z\\otimes \\hat{a}_y + v_{3} w_{3}\\hat{a}_z\\otimes \\hat{a}_z$"
      ],
      "text/plain": [
       "v₁⋅w₁ a_x⊗a_x + v₁⋅w₂ a_x⊗a_y + v₁⋅w₃ a_x⊗a_z + v₂⋅w₁ a_y⊗a_x + v₂⋅w₂ a_y⊗a_y + v₂⋅w₃ a_y⊗a_z + v₃⋅w₁ a_z⊗a_x + v₃⋅w₂ a_z⊗a_y + v₃⋅w₃ a_z⊗a_z"
      ]
     },
     "execution_count": 17,
     "metadata": {},
     "output_type": "execute_result"
    }
   ],
   "source": [
    "v1, v2, v3 = sm.symbols('v1, v2, v3')\n",
    "w1, w2, w3 = sm.symbols('w1, w2, w3')\n",
    "\n",
    "A = me.ReferenceFrame('A')\n",
    "\n",
    "v = v1*A.x + v2*A.y + v3*A.z\n",
    "w = w1*A.x + w2*A.y + w3*A.z\n",
    "\n",
    "Q = me.outer(v, w)\n",
    "Q"
   ]
  },
  {
   "cell_type": "code",
   "execution_count": 18,
   "id": "f6c7a345",
   "metadata": {
    "execution": {
     "iopub.execute_input": "2025-09-25T05:55:00.683133Z",
     "iopub.status.busy": "2025-09-25T05:55:00.682993Z",
     "iopub.status.idle": "2025-09-25T05:55:00.715905Z",
     "shell.execute_reply": "2025-09-25T05:55:00.715429Z"
    }
   },
   "outputs": [
    {
     "data": {
      "text/latex": [
       "$\\displaystyle \\left[\\begin{matrix}v_{1} w_{1} & v_{1} w_{2} & v_{1} w_{3}\\\\v_{2} w_{1} & v_{2} w_{2} & v_{2} w_{3}\\\\v_{3} w_{1} & v_{3} w_{2} & v_{3} w_{3}\\end{matrix}\\right]$"
      ],
      "text/plain": [
       "⎡v₁⋅w₁  v₁⋅w₂  v₁⋅w₃⎤\n",
       "⎢                   ⎥\n",
       "⎢v₂⋅w₁  v₂⋅w₂  v₂⋅w₃⎥\n",
       "⎢                   ⎥\n",
       "⎣v₃⋅w₁  v₃⋅w₂  v₃⋅w₃⎦"
      ]
     },
     "execution_count": 18,
     "metadata": {},
     "output_type": "execute_result"
    }
   ],
   "source": [
    "Q.to_matrix(A)"
   ]
  },
  {
   "cell_type": "code",
   "execution_count": 19,
   "id": "fa4ce746",
   "metadata": {
    "execution": {
     "iopub.execute_input": "2025-09-25T05:55:00.717187Z",
     "iopub.status.busy": "2025-09-25T05:55:00.717024Z",
     "iopub.status.idle": "2025-09-25T05:55:00.720538Z",
     "shell.execute_reply": "2025-09-25T05:55:00.720035Z"
    }
   },
   "outputs": [
    {
     "data": {
      "text/latex": [
       "$\\displaystyle \\hat{a}_x\\otimes \\hat{a}_x$"
      ],
      "text/plain": [
       "a_x⊗a_x"
      ]
     },
     "execution_count": 19,
     "metadata": {},
     "output_type": "execute_result"
    }
   ],
   "source": [
    "me.outer(A.x, A.x)"
   ]
  },
  {
   "cell_type": "code",
   "execution_count": 20,
   "id": "442aa5bb",
   "metadata": {
    "execution": {
     "iopub.execute_input": "2025-09-25T05:55:00.721840Z",
     "iopub.status.busy": "2025-09-25T05:55:00.721701Z",
     "iopub.status.idle": "2025-09-25T05:55:00.728910Z",
     "shell.execute_reply": "2025-09-25T05:55:00.728432Z"
    }
   },
   "outputs": [
    {
     "data": {
      "text/latex": [
       "$\\displaystyle \\left[\\begin{matrix}1 & 0 & 0\\\\0 & 0 & 0\\\\0 & 0 & 0\\end{matrix}\\right]$"
      ],
      "text/plain": [
       "⎡1  0  0⎤\n",
       "⎢       ⎥\n",
       "⎢0  0  0⎥\n",
       "⎢       ⎥\n",
       "⎣0  0  0⎦"
      ]
     },
     "execution_count": 20,
     "metadata": {},
     "output_type": "execute_result"
    }
   ],
   "source": [
    "me.outer(A.x, A.x).to_matrix(A)"
   ]
  },
  {
   "cell_type": "code",
   "execution_count": 21,
   "id": "0a4d5e8e",
   "metadata": {
    "execution": {
     "iopub.execute_input": "2025-09-25T05:55:00.730359Z",
     "iopub.status.busy": "2025-09-25T05:55:00.730222Z",
     "iopub.status.idle": "2025-09-25T05:55:00.733563Z",
     "shell.execute_reply": "2025-09-25T05:55:00.733179Z"
    }
   },
   "outputs": [
    {
     "data": {
      "text/latex": [
       "$\\displaystyle \\hat{a}_y\\otimes \\hat{a}_z$"
      ],
      "text/plain": [
       "a_y⊗a_z"
      ]
     },
     "execution_count": 21,
     "metadata": {},
     "output_type": "execute_result"
    }
   ],
   "source": [
    "me.outer(A.y, A.z)"
   ]
  },
  {
   "cell_type": "code",
   "execution_count": 22,
   "id": "3ced7145",
   "metadata": {
    "execution": {
     "iopub.execute_input": "2025-09-25T05:55:00.734761Z",
     "iopub.status.busy": "2025-09-25T05:55:00.734617Z",
     "iopub.status.idle": "2025-09-25T05:55:00.742060Z",
     "shell.execute_reply": "2025-09-25T05:55:00.741579Z"
    }
   },
   "outputs": [
    {
     "data": {
      "text/latex": [
       "$\\displaystyle \\left[\\begin{matrix}0 & 0 & 0\\\\0 & 0 & 1\\\\0 & 0 & 0\\end{matrix}\\right]$"
      ],
      "text/plain": [
       "⎡0  0  0⎤\n",
       "⎢       ⎥\n",
       "⎢0  0  1⎥\n",
       "⎢       ⎥\n",
       "⎣0  0  0⎦"
      ]
     },
     "execution_count": 22,
     "metadata": {},
     "output_type": "execute_result"
    }
   ],
   "source": [
    "me.outer(A.y, A.z).to_matrix(A)"
   ]
  },
  {
   "cell_type": "code",
   "execution_count": 23,
   "id": "713cafc5",
   "metadata": {
    "execution": {
     "iopub.execute_input": "2025-09-25T05:55:00.743330Z",
     "iopub.status.busy": "2025-09-25T05:55:00.743184Z",
     "iopub.status.idle": "2025-09-25T05:55:00.751105Z",
     "shell.execute_reply": "2025-09-25T05:55:00.750600Z"
    }
   },
   "outputs": [
    {
     "data": {
      "text/latex": [
       "$\\displaystyle 2\\hat{b}_x\\otimes \\hat{b}_x + 3\\hat{a}_x\\otimes \\hat{b}_y + 4\\hat{b}_z\\otimes \\hat{a}_z$"
      ],
      "text/plain": [
       "2 b_x⊗b_x + 3 a_x⊗b_y + 4 b_z⊗a_z"
      ]
     },
     "execution_count": 23,
     "metadata": {},
     "output_type": "execute_result"
    }
   ],
   "source": [
    "theta = sm.symbols(\"theta\")\n",
    "\n",
    "A = me.ReferenceFrame('A')\n",
    "B = me.ReferenceFrame('B')\n",
    "\n",
    "B.orient_axis(A, theta, A.x)\n",
    "\n",
    "P = 2*me.outer(B.x, B.x) + 3*me.outer(A.x, B.y) + 4*me.outer(B.z, A.z)\n",
    "P"
   ]
  },
  {
   "cell_type": "code",
   "execution_count": 24,
   "id": "4772f6b3",
   "metadata": {
    "execution": {
     "iopub.execute_input": "2025-09-25T05:55:00.752337Z",
     "iopub.status.busy": "2025-09-25T05:55:00.752186Z",
     "iopub.status.idle": "2025-09-25T05:55:00.760838Z",
     "shell.execute_reply": "2025-09-25T05:55:00.760347Z"
    }
   },
   "outputs": [
    {
     "data": {
      "text/latex": [
       "$\\displaystyle 2\\hat{a}_x\\otimes \\hat{a}_x + 3 \\cos{\\left(\\theta \\right)}\\hat{a}_x\\otimes \\hat{a}_y + 3 \\sin{\\left(\\theta \\right)}\\hat{a}_x\\otimes \\hat{a}_z -  4 \\sin{\\left(\\theta \\right)}\\hat{a}_y\\otimes \\hat{a}_z + 4 \\cos{\\left(\\theta \\right)}\\hat{a}_z\\otimes \\hat{a}_z$"
      ],
      "text/plain": [
       "2 a_x⊗a_x + 3⋅cos(θ) a_x⊗a_y + 3⋅sin(θ) a_x⊗a_z - 4⋅sin(θ) a_y⊗a_z + 4⋅cos(θ) a_z⊗a_z"
      ]
     },
     "execution_count": 24,
     "metadata": {},
     "output_type": "execute_result"
    }
   ],
   "source": [
    "P.express(A)"
   ]
  },
  {
   "cell_type": "code",
   "execution_count": 25,
   "id": "da978f98",
   "metadata": {
    "execution": {
     "iopub.execute_input": "2025-09-25T05:55:00.762227Z",
     "iopub.status.busy": "2025-09-25T05:55:00.762058Z",
     "iopub.status.idle": "2025-09-25T05:55:00.776674Z",
     "shell.execute_reply": "2025-09-25T05:55:00.776166Z"
    }
   },
   "outputs": [
    {
     "data": {
      "text/latex": [
       "$\\displaystyle \\left[\\begin{matrix}2 & 3 \\cos{\\left(\\theta \\right)} & 3 \\sin{\\left(\\theta \\right)}\\\\0 & 0 & - 4 \\sin{\\left(\\theta \\right)}\\\\0 & 0 & 4 \\cos{\\left(\\theta \\right)}\\end{matrix}\\right]$"
      ],
      "text/plain": [
       "⎡2  3⋅cos(θ)  3⋅sin(θ) ⎤\n",
       "⎢                      ⎥\n",
       "⎢0     0      -4⋅sin(θ)⎥\n",
       "⎢                      ⎥\n",
       "⎣0     0      4⋅cos(θ) ⎦"
      ]
     },
     "execution_count": 25,
     "metadata": {},
     "output_type": "execute_result"
    }
   ],
   "source": [
    "P.to_matrix(A)"
   ]
  },
  {
   "cell_type": "code",
   "execution_count": 26,
   "id": "e17b7f20",
   "metadata": {
    "execution": {
     "iopub.execute_input": "2025-09-25T05:55:00.778031Z",
     "iopub.status.busy": "2025-09-25T05:55:00.777879Z",
     "iopub.status.idle": "2025-09-25T05:55:00.784038Z",
     "shell.execute_reply": "2025-09-25T05:55:00.783540Z"
    }
   },
   "outputs": [
    {
     "data": {
      "text/latex": [
       "$\\displaystyle 2\\hat{b}_x\\otimes \\hat{b}_x + 3\\hat{b}_x\\otimes \\hat{b}_y + 4 \\sin{\\left(\\theta \\right)}\\hat{b}_z\\otimes \\hat{b}_y + 4 \\cos{\\left(\\theta \\right)}\\hat{b}_z\\otimes \\hat{b}_z$"
      ],
      "text/plain": [
       "2 b_x⊗b_x + 3 b_x⊗b_y + 4⋅sin(θ) b_z⊗b_y + 4⋅cos(θ) b_z⊗b_z"
      ]
     },
     "execution_count": 26,
     "metadata": {},
     "output_type": "execute_result"
    }
   ],
   "source": [
    "P.express(B)"
   ]
  },
  {
   "cell_type": "code",
   "execution_count": 27,
   "id": "f58578bf",
   "metadata": {
    "execution": {
     "iopub.execute_input": "2025-09-25T05:55:00.785260Z",
     "iopub.status.busy": "2025-09-25T05:55:00.785096Z",
     "iopub.status.idle": "2025-09-25T05:55:00.797908Z",
     "shell.execute_reply": "2025-09-25T05:55:00.797428Z"
    }
   },
   "outputs": [
    {
     "data": {
      "text/latex": [
       "$\\displaystyle \\left[\\begin{matrix}2 & 3 & 0\\\\0 & 0 & 0\\\\0 & 4 \\sin{\\left(\\theta \\right)} & 4 \\cos{\\left(\\theta \\right)}\\end{matrix}\\right]$"
      ],
      "text/plain": [
       "⎡2     3         0    ⎤\n",
       "⎢                     ⎥\n",
       "⎢0     0         0    ⎥\n",
       "⎢                     ⎥\n",
       "⎣0  4⋅sin(θ)  4⋅cos(θ)⎦"
      ]
     },
     "execution_count": 27,
     "metadata": {},
     "output_type": "execute_result"
    }
   ],
   "source": [
    "P.to_matrix(B)"
   ]
  },
  {
   "cell_type": "code",
   "execution_count": 28,
   "id": "bb4ca08a",
   "metadata": {
    "execution": {
     "iopub.execute_input": "2025-09-25T05:55:00.799184Z",
     "iopub.status.busy": "2025-09-25T05:55:00.799017Z",
     "iopub.status.idle": "2025-09-25T05:55:00.803434Z",
     "shell.execute_reply": "2025-09-25T05:55:00.802932Z"
    }
   },
   "outputs": [
    {
     "data": {
      "text/latex": [
       "$\\displaystyle \\hat{a}_x\\otimes \\hat{a}_x + \\hat{a}_y\\otimes \\hat{a}_y + \\hat{a}_z\\otimes \\hat{a}_z$"
      ],
      "text/plain": [
       "a_x⊗a_x + a_y⊗a_y + a_z⊗a_z"
      ]
     },
     "execution_count": 28,
     "metadata": {},
     "output_type": "execute_result"
    }
   ],
   "source": [
    "U = me.outer(A.x, A.x) + me.outer(A.y, A.y) + me.outer(A.z, A.z)\n",
    "U"
   ]
  },
  {
   "cell_type": "code",
   "execution_count": 29,
   "id": "5e4a0129",
   "metadata": {
    "execution": {
     "iopub.execute_input": "2025-09-25T05:55:00.804721Z",
     "iopub.status.busy": "2025-09-25T05:55:00.804578Z",
     "iopub.status.idle": "2025-09-25T05:55:00.816942Z",
     "shell.execute_reply": "2025-09-25T05:55:00.816541Z"
    }
   },
   "outputs": [
    {
     "data": {
      "text/latex": [
       "$\\displaystyle \\left[\\begin{matrix}1 & 0 & 0\\\\0 & 1 & 0\\\\0 & 0 & 1\\end{matrix}\\right]$"
      ],
      "text/plain": [
       "⎡1  0  0⎤\n",
       "⎢       ⎥\n",
       "⎢0  1  0⎥\n",
       "⎢       ⎥\n",
       "⎣0  0  1⎦"
      ]
     },
     "execution_count": 29,
     "metadata": {},
     "output_type": "execute_result"
    }
   ],
   "source": [
    "U.to_matrix(A)"
   ]
  },
  {
   "cell_type": "code",
   "execution_count": 30,
   "id": "00245f16",
   "metadata": {
    "execution": {
     "iopub.execute_input": "2025-09-25T05:55:00.818176Z",
     "iopub.status.busy": "2025-09-25T05:55:00.818006Z",
     "iopub.status.idle": "2025-09-25T05:55:00.859255Z",
     "shell.execute_reply": "2025-09-25T05:55:00.858738Z"
    }
   },
   "outputs": [
    {
     "data": {
      "text/latex": [
       "$\\displaystyle \\hat{b}_x\\otimes \\hat{b}_x + \\hat{b}_y\\otimes \\hat{b}_y + \\hat{b}_z\\otimes \\hat{b}_z$"
      ],
      "text/plain": [
       "b_x⊗b_x + b_y⊗b_y + b_z⊗b_z"
      ]
     },
     "execution_count": 30,
     "metadata": {},
     "output_type": "execute_result"
    }
   ],
   "source": [
    "U.express(B).simplify()"
   ]
  },
  {
   "cell_type": "code",
   "execution_count": 31,
   "id": "56dd1093",
   "metadata": {
    "execution": {
     "iopub.execute_input": "2025-09-25T05:55:00.860611Z",
     "iopub.status.busy": "2025-09-25T05:55:00.860457Z",
     "iopub.status.idle": "2025-09-25T05:55:00.873058Z",
     "shell.execute_reply": "2025-09-25T05:55:00.872576Z"
    }
   },
   "outputs": [
    {
     "data": {
      "text/latex": [
       "$\\displaystyle I_{xx}\\hat{a}_x\\otimes \\hat{a}_x + I_{xy}\\hat{a}_x\\otimes \\hat{a}_y + I_{xz}\\hat{a}_x\\otimes \\hat{a}_z + I_{xy}\\hat{a}_y\\otimes \\hat{a}_x + I_{yy}\\hat{a}_y\\otimes \\hat{a}_y + I_{yz}\\hat{a}_y\\otimes \\hat{a}_z + I_{xz}\\hat{a}_z\\otimes \\hat{a}_x + I_{yz}\\hat{a}_z\\otimes \\hat{a}_y + I_{zz}\\hat{a}_z\\otimes \\hat{a}_z$"
      ],
      "text/plain": [
       "I_{xx} a_x⊗a_x + I_{xy} a_x⊗a_y + I_{xz} a_x⊗a_z + I_{xy} a_y⊗a_x + I_{yy} a_y⊗a_y + I_{yz} a_y⊗a_z + I_{xz} a_z⊗a_x + I_{yz} a_z⊗a_y + I_{zz} a_z⊗a_z"
      ]
     },
     "execution_count": 31,
     "metadata": {},
     "output_type": "execute_result"
    }
   ],
   "source": [
    "Ixx, Iyy, Izz = sm.symbols('I_{xx}, I_{yy}, I_{zz}')\n",
    "Ixy, Iyz, Ixz = sm.symbols('I_{xy}, I_{yz}, I_{xz}')\n",
    "\n",
    "I = me.inertia(A, Ixx, Iyy, Izz, ixy=Ixy, iyz=Iyz, izx=Ixz)\n",
    "I"
   ]
  },
  {
   "cell_type": "code",
   "execution_count": 32,
   "id": "a188302a",
   "metadata": {
    "execution": {
     "iopub.execute_input": "2025-09-25T05:55:00.874397Z",
     "iopub.status.busy": "2025-09-25T05:55:00.874255Z",
     "iopub.status.idle": "2025-09-25T05:55:00.904951Z",
     "shell.execute_reply": "2025-09-25T05:55:00.904455Z"
    }
   },
   "outputs": [
    {
     "data": {
      "text/latex": [
       "$\\displaystyle \\left[\\begin{matrix}I_{xx} & I_{xy} & I_{xz}\\\\I_{xy} & I_{yy} & I_{yz}\\\\I_{xz} & I_{yz} & I_{zz}\\end{matrix}\\right]$"
      ],
      "text/plain": [
       "⎡I_{xx}  I_{xy}  I_{xz}⎤\n",
       "⎢                      ⎥\n",
       "⎢I_{xy}  I_{yy}  I_{yz}⎥\n",
       "⎢                      ⎥\n",
       "⎣I_{xz}  I_{yz}  I_{zz}⎦"
      ]
     },
     "execution_count": 32,
     "metadata": {},
     "output_type": "execute_result"
    }
   ],
   "source": [
    "I.to_matrix(A)"
   ]
  },
  {
   "cell_type": "code",
   "execution_count": 33,
   "id": "f2b206a5",
   "metadata": {
    "execution": {
     "iopub.execute_input": "2025-09-25T05:55:00.906325Z",
     "iopub.status.busy": "2025-09-25T05:55:00.906141Z",
     "iopub.status.idle": "2025-09-25T05:55:01.351754Z",
     "shell.execute_reply": "2025-09-25T05:55:01.351270Z"
    }
   },
   "outputs": [
    {
     "data": {
      "text/latex": [
       "$\\displaystyle I_{xx}\\hat{b}_x\\otimes \\hat{b}_x + (I_{xy} \\cos{\\left(\\theta \\right)} + I_{xz} \\sin{\\left(\\theta \\right)})\\hat{b}_x\\otimes \\hat{b}_y + (- I_{xy} \\sin{\\left(\\theta \\right)} + I_{xz} \\cos{\\left(\\theta \\right)})\\hat{b}_x\\otimes \\hat{b}_z + (I_{xy} \\cos{\\left(\\theta \\right)} + I_{xz} \\sin{\\left(\\theta \\right)})\\hat{b}_y\\otimes \\hat{b}_x + (- I_{xy} \\sin{\\left(\\theta \\right)} + I_{xz} \\cos{\\left(\\theta \\right)})\\hat{b}_z\\otimes \\hat{b}_x + (I_{yy} \\cos^{2}{\\left(\\theta \\right)} + I_{yz} \\sin{\\left(2 \\theta \\right)} + I_{zz} \\sin^{2}{\\left(\\theta \\right)})\\hat{b}_y\\otimes \\hat{b}_y + (- \\frac{I_{yy} \\sin{\\left(2 \\theta \\right)}}{2} + I_{yz} \\cos{\\left(2 \\theta \\right)} + \\frac{I_{zz} \\sin{\\left(2 \\theta \\right)}}{2})\\hat{b}_y\\otimes \\hat{b}_z + (- \\frac{I_{yy} \\sin{\\left(2 \\theta \\right)}}{2} + I_{yz} \\cos{\\left(2 \\theta \\right)} + \\frac{I_{zz} \\sin{\\left(2 \\theta \\right)}}{2})\\hat{b}_z\\otimes \\hat{b}_y + (I_{yy} \\sin^{2}{\\left(\\theta \\right)} - I_{yz} \\sin{\\left(2 \\theta \\right)} + I_{zz} \\cos^{2}{\\left(\\theta \\right)})\\hat{b}_z\\otimes \\hat{b}_z$"
      ],
      "text/plain": [
       "I_{xx} b_x⊗b_x + (I_{xy}⋅cos(θ) + I_{xz}⋅sin(θ)) b_x⊗b_y + (-I_{xy}⋅sin(θ) + I_{xz}⋅cos(θ)) b_x⊗b_z + (I_{xy}⋅cos(θ) + I_{xz}⋅sin(θ)) b_y⊗b_x + (-I_{xy}⋅sin(θ) + I_{xz}⋅cos(θ)) b_z⊗b_x + ⎛          2                                  2   ⎞\n",
       "⎝I_{yy}⋅cos (θ) + I_{yz}⋅sin(2⋅θ) + I_{zz}⋅sin (θ)⎠ b_y⊗b_y + ⎛  I_{yy}⋅sin(2⋅θ)                     I_{zz}⋅sin(2⋅θ)⎞\n",
       "⎜- ─────────────── + I_{yz}⋅cos(2⋅θ) + ───────────────⎟\n",
       "⎝         2                                   2       ⎠ b_y⊗b_z + ⎛  I_{yy}⋅sin(2⋅θ)                     I_{zz}⋅sin(2⋅θ)⎞\n",
       "⎜- ─────────────── + I_{yz}⋅cos(2⋅θ) + ───────────────⎟\n",
       "⎝         2                                   2       ⎠ b_z⊗b_y + ⎛          2                                  2   ⎞\n",
       "⎝I_{yy}⋅sin (θ) - I_{yz}⋅sin(2⋅θ) + I_{zz}⋅cos (θ)⎠ b_z⊗b_z"
      ]
     },
     "execution_count": 33,
     "metadata": {},
     "output_type": "execute_result"
    }
   ],
   "source": [
    "I.express(B).simplify()"
   ]
  },
  {
   "cell_type": "code",
   "execution_count": 34,
   "id": "715863f8",
   "metadata": {
    "execution": {
     "iopub.execute_input": "2025-09-25T05:55:01.353225Z",
     "iopub.status.busy": "2025-09-25T05:55:01.353039Z",
     "iopub.status.idle": "2025-09-25T05:55:01.820128Z",
     "shell.execute_reply": "2025-09-25T05:55:01.819624Z"
    }
   },
   "outputs": [
    {
     "data": {
      "text/latex": [
       "$\\displaystyle \\left[\\begin{matrix}I_{xx} & I_{xy} \\cos{\\left(\\theta \\right)} + I_{xz} \\sin{\\left(\\theta \\right)} & - I_{xy} \\sin{\\left(\\theta \\right)} + I_{xz} \\cos{\\left(\\theta \\right)}\\\\I_{xy} \\cos{\\left(\\theta \\right)} + I_{xz} \\sin{\\left(\\theta \\right)} & I_{yy} \\cos^{2}{\\left(\\theta \\right)} + I_{yz} \\sin{\\left(2 \\theta \\right)} + I_{zz} \\sin^{2}{\\left(\\theta \\right)} & - \\frac{I_{yy} \\sin{\\left(2 \\theta \\right)}}{2} + I_{yz} \\cos{\\left(2 \\theta \\right)} + \\frac{I_{zz} \\sin{\\left(2 \\theta \\right)}}{2}\\\\- I_{xy} \\sin{\\left(\\theta \\right)} + I_{xz} \\cos{\\left(\\theta \\right)} & - \\frac{I_{yy} \\sin{\\left(2 \\theta \\right)}}{2} + I_{yz} \\cos{\\left(2 \\theta \\right)} + \\frac{I_{zz} \\sin{\\left(2 \\theta \\right)}}{2} & I_{yy} \\sin^{2}{\\left(\\theta \\right)} - I_{yz} \\sin{\\left(2 \\theta \\right)} + I_{zz} \\cos^{2}{\\left(\\theta \\right)}\\end{matrix}\\right]$"
      ],
      "text/plain": [
       "⎡            I_{xx}                          I_{xy}⋅cos(θ) + I_{xz}⋅sin(θ)    \n",
       "⎢                                                                             \n",
       "⎢                                            2                                \n",
       "⎢I_{xy}⋅cos(θ) + I_{xz}⋅sin(θ)     I_{yy}⋅cos (θ) + I_{yz}⋅sin(2⋅θ) + I_{zz}⋅s\n",
       "⎢                                                                             \n",
       "⎢                                                                             \n",
       "⎢                                  I_{yy}⋅sin(2⋅θ)                     I_{zz}⋅\n",
       "⎢-I_{xy}⋅sin(θ) + I_{xz}⋅cos(θ)  - ─────────────── + I_{yz}⋅cos(2⋅θ) + ───────\n",
       "⎣                                         2                                   \n",
       "\n",
       "                     -I_{xy}⋅sin(θ) + I_{xz}⋅cos(θ)            ⎤\n",
       "                                                               ⎥\n",
       "  2         I_{yy}⋅sin(2⋅θ)                     I_{zz}⋅sin(2⋅θ)⎥\n",
       "in (θ)    - ─────────────── + I_{yz}⋅cos(2⋅θ) + ───────────────⎥\n",
       "                   2                                   2       ⎥\n",
       "                                                               ⎥\n",
       "sin(2⋅θ)              2                                  2     ⎥\n",
       "────────    I_{yy}⋅sin (θ) - I_{yz}⋅sin(2⋅θ) + I_{zz}⋅cos (θ)  ⎥\n",
       "2                                                              ⎦"
      ]
     },
     "execution_count": 34,
     "metadata": {},
     "output_type": "execute_result"
    }
   ],
   "source": [
    "I.express(B).simplify().to_matrix(B)"
   ]
  },
  {
   "cell_type": "code",
   "execution_count": 35,
   "id": "391e89a3",
   "metadata": {
    "execution": {
     "iopub.execute_input": "2025-09-25T05:55:01.821527Z",
     "iopub.status.busy": "2025-09-25T05:55:01.821371Z",
     "iopub.status.idle": "2025-09-25T05:55:02.313541Z",
     "shell.execute_reply": "2025-09-25T05:55:02.313016Z"
    }
   },
   "outputs": [
    {
     "data": {
      "text/latex": [
       "$\\displaystyle \\left[\\begin{matrix}I_{xx} & I_{xy} \\cos{\\left(\\theta \\right)} + I_{xz} \\sin{\\left(\\theta \\right)} & - I_{xy} \\sin{\\left(\\theta \\right)} + I_{xz} \\cos{\\left(\\theta \\right)}\\\\I_{xy} \\cos{\\left(\\theta \\right)} + I_{xz} \\sin{\\left(\\theta \\right)} & I_{yy} \\cos^{2}{\\left(\\theta \\right)} + I_{yz} \\sin{\\left(2 \\theta \\right)} + I_{zz} \\sin^{2}{\\left(\\theta \\right)} & - \\frac{I_{yy} \\sin{\\left(2 \\theta \\right)}}{2} + I_{yz} \\cos{\\left(2 \\theta \\right)} + \\frac{I_{zz} \\sin{\\left(2 \\theta \\right)}}{2}\\\\- I_{xy} \\sin{\\left(\\theta \\right)} + I_{xz} \\cos{\\left(\\theta \\right)} & - \\frac{I_{yy} \\sin{\\left(2 \\theta \\right)}}{2} + I_{yz} \\cos{\\left(2 \\theta \\right)} + \\frac{I_{zz} \\sin{\\left(2 \\theta \\right)}}{2} & I_{yy} \\sin^{2}{\\left(\\theta \\right)} - I_{yz} \\sin{\\left(2 \\theta \\right)} + I_{zz} \\cos^{2}{\\left(\\theta \\right)}\\end{matrix}\\right]$"
      ],
      "text/plain": [
       "⎡            I_{xx}                          I_{xy}⋅cos(θ) + I_{xz}⋅sin(θ)    \n",
       "⎢                                                                             \n",
       "⎢                                            2                                \n",
       "⎢I_{xy}⋅cos(θ) + I_{xz}⋅sin(θ)     I_{yy}⋅cos (θ) + I_{yz}⋅sin(2⋅θ) + I_{zz}⋅s\n",
       "⎢                                                                             \n",
       "⎢                                                                             \n",
       "⎢                                  I_{yy}⋅sin(2⋅θ)                     I_{zz}⋅\n",
       "⎢-I_{xy}⋅sin(θ) + I_{xz}⋅cos(θ)  - ─────────────── + I_{yz}⋅cos(2⋅θ) + ───────\n",
       "⎣                                         2                                   \n",
       "\n",
       "                     -I_{xy}⋅sin(θ) + I_{xz}⋅cos(θ)            ⎤\n",
       "                                                               ⎥\n",
       "  2         I_{yy}⋅sin(2⋅θ)                     I_{zz}⋅sin(2⋅θ)⎥\n",
       "in (θ)    - ─────────────── + I_{yz}⋅cos(2⋅θ) + ───────────────⎥\n",
       "                   2                                   2       ⎥\n",
       "                                                               ⎥\n",
       "sin(2⋅θ)              2                                  2     ⎥\n",
       "────────    I_{yy}⋅sin (θ) - I_{yz}⋅sin(2⋅θ) + I_{zz}⋅cos (θ)  ⎥\n",
       "2                                                              ⎦"
      ]
     },
     "execution_count": 35,
     "metadata": {},
     "output_type": "execute_result"
    }
   ],
   "source": [
    "sm.simplify(B.dcm(A)*I.to_matrix(A)*A.dcm(B))"
   ]
  },
  {
   "cell_type": "code",
   "execution_count": 36,
   "id": "c954bf28",
   "metadata": {
    "execution": {
     "iopub.execute_input": "2025-09-25T05:55:02.315002Z",
     "iopub.status.busy": "2025-09-25T05:55:02.314844Z",
     "iopub.status.idle": "2025-09-25T05:55:02.322243Z",
     "shell.execute_reply": "2025-09-25T05:55:02.321827Z"
    }
   },
   "outputs": [
    {
     "data": {
      "text/latex": [
       "$\\displaystyle 0.25\\hat{n}_x\\otimes \\hat{n}_x + 0.25\\hat{n}_y\\otimes \\hat{n}_y + 0.1\\hat{n}_z\\otimes \\hat{n}_z - 0.07\\hat{n}_x\\otimes \\hat{n}_z - 0.07\\hat{n}_z\\otimes \\hat{n}_x$"
      ],
      "text/plain": [
       "0.250000000000000 n_x⊗n_x + 0.250000000000000 n_y⊗n_y + 0.100000000000000 n_z⊗n_z - 0.0700000000000000 n_x⊗n_z - 0.0700000000000000 n_z⊗n_x"
      ]
     },
     "execution_count": 36,
     "metadata": {},
     "output_type": "execute_result"
    }
   ],
   "source": [
    "N = me.ReferenceFrame('N')\n",
    "\n",
    "I = (0.25*me.outer(N.x, N.x) +\n",
    "     0.25*me.outer(N.y, N.y) +\n",
    "     0.10*me.outer(N.z, N.z) -\n",
    "     0.07*me.outer(N.x, N.z) -\n",
    "     0.07*me.outer(N.z, N.x))\n",
    "I"
   ]
  },
  {
   "cell_type": "code",
   "execution_count": 37,
   "id": "81d299f9",
   "metadata": {
    "execution": {
     "iopub.execute_input": "2025-09-25T05:55:02.323479Z",
     "iopub.status.busy": "2025-09-25T05:55:02.323329Z",
     "iopub.status.idle": "2025-09-25T05:55:02.332385Z",
     "shell.execute_reply": "2025-09-25T05:55:02.331975Z"
    }
   },
   "outputs": [],
   "source": [
    "H = me.ReferenceFrame('H')\n",
    "H.orient_axis(N, sm.pi/2 - 68.0*sm.pi/180, N.y)"
   ]
  },
  {
   "cell_type": "code",
   "execution_count": 38,
   "id": "58dfa9ec",
   "metadata": {
    "execution": {
     "iopub.execute_input": "2025-09-25T05:55:02.333701Z",
     "iopub.status.busy": "2025-09-25T05:55:02.333557Z",
     "iopub.status.idle": "2025-09-25T05:55:02.344045Z",
     "shell.execute_reply": "2025-09-25T05:55:02.343557Z"
    }
   },
   "outputs": [
    {
     "data": {
      "text/latex": [
       "$\\displaystyle 0.0724234290424714$"
      ],
      "text/plain": [
       "0.0724234290424714"
      ]
     },
     "execution_count": 38,
     "metadata": {},
     "output_type": "execute_result"
    }
   ],
   "source": [
    "I.dot(H.z).dot(H.z).evalf()"
   ]
  },
  {
   "cell_type": "code",
   "execution_count": 39,
   "id": "1a67a158",
   "metadata": {
    "execution": {
     "iopub.execute_input": "2025-09-25T05:55:02.345419Z",
     "iopub.status.busy": "2025-09-25T05:55:02.345276Z",
     "iopub.status.idle": "2025-09-25T05:55:02.366078Z",
     "shell.execute_reply": "2025-09-25T05:55:02.365589Z"
    }
   },
   "outputs": [
    {
     "data": {
      "text/latex": [
       "$\\displaystyle \\left[\\begin{matrix}0.25 & 0 & -0.07\\\\0 & 0.25 & 0\\\\-0.07 & 0 & 0.1\\end{matrix}\\right]$"
      ],
      "text/plain": [
       "⎡0.25    0    -0.07⎤\n",
       "⎢                  ⎥\n",
       "⎢  0    0.25    0  ⎥\n",
       "⎢                  ⎥\n",
       "⎣-0.07   0     0.1 ⎦"
      ]
     },
     "execution_count": 39,
     "metadata": {},
     "output_type": "execute_result"
    }
   ],
   "source": [
    "I.to_matrix(N)"
   ]
  },
  {
   "cell_type": "code",
   "execution_count": 40,
   "id": "cdb356a9",
   "metadata": {
    "execution": {
     "iopub.execute_input": "2025-09-25T05:55:02.367377Z",
     "iopub.status.busy": "2025-09-25T05:55:02.367225Z",
     "iopub.status.idle": "2025-09-25T05:55:02.397584Z",
     "shell.execute_reply": "2025-09-25T05:55:02.397203Z"
    }
   },
   "outputs": [
    {
     "data": {
      "text/latex": [
       "$\\displaystyle \\left[\\begin{matrix}0.277576570957529 & 0 & 0.00174559176071922\\\\0 & 0.25 & 0\\\\0.00174559176071922 & 0 & 0.0724234290424714\\end{matrix}\\right]$"
      ],
      "text/plain": [
       "⎡ 0.277576570957529    0    0.00174559176071922⎤\n",
       "⎢                                              ⎥\n",
       "⎢         0           0.25           0         ⎥\n",
       "⎢                                              ⎥\n",
       "⎣0.00174559176071922   0    0.0724234290424714 ⎦"
      ]
     },
     "execution_count": 40,
     "metadata": {},
     "output_type": "execute_result"
    }
   ],
   "source": [
    "I_H = (H.dcm(N) @ I.to_matrix(N) @ N.dcm(H)).evalf()\n",
    "I_H"
   ]
  },
  {
   "cell_type": "code",
   "execution_count": 41,
   "id": "c24ebac0",
   "metadata": {
    "execution": {
     "iopub.execute_input": "2025-09-25T05:55:02.398917Z",
     "iopub.status.busy": "2025-09-25T05:55:02.398765Z",
     "iopub.status.idle": "2025-09-25T05:55:02.402045Z",
     "shell.execute_reply": "2025-09-25T05:55:02.401551Z"
    }
   },
   "outputs": [
    {
     "data": {
      "text/latex": [
       "$\\displaystyle 0.0724234290424714$"
      ],
      "text/plain": [
       "0.0724234290424714"
      ]
     },
     "execution_count": 41,
     "metadata": {},
     "output_type": "execute_result"
    }
   ],
   "source": [
    "I_H[2, 2]"
   ]
  },
  {
   "cell_type": "code",
   "execution_count": 42,
   "id": "40e36090",
   "metadata": {
    "execution": {
     "iopub.execute_input": "2025-09-25T05:55:02.403311Z",
     "iopub.status.busy": "2025-09-25T05:55:02.403167Z",
     "iopub.status.idle": "2025-09-25T05:55:02.427304Z",
     "shell.execute_reply": "2025-09-25T05:55:02.426806Z"
    }
   },
   "outputs": [
    {
     "data": {
      "text/latex": [
       "$\\displaystyle m \\left(d_{y}^{2} + d_{z}^{2}\\right)\\hat{n}_x\\otimes \\hat{n}_x + m \\left(d_{x}^{2} + d_{z}^{2}\\right)\\hat{n}_y\\otimes \\hat{n}_y + m \\left(d_{x}^{2} + d_{y}^{2}\\right)\\hat{n}_z\\otimes \\hat{n}_z -  d_{x} d_{y} m\\hat{n}_x\\otimes \\hat{n}_y -  d_{x} d_{z} m\\hat{n}_x\\otimes \\hat{n}_z -  d_{x} d_{y} m\\hat{n}_y\\otimes \\hat{n}_x -  d_{y} d_{z} m\\hat{n}_y\\otimes \\hat{n}_z -  d_{x} d_{z} m\\hat{n}_z\\otimes \\hat{n}_x -  d_{y} d_{z} m\\hat{n}_z\\otimes \\hat{n}_y$"
      ],
      "text/plain": [
       "  ⎛   2      2⎞\n",
       "m⋅⎝d_y  + d_z ⎠ n_x⊗n_x +   ⎛  2      2⎞\n",
       "m⋅⎝dₓ  + d_z ⎠ n_y⊗n_y +   ⎛  2      2⎞\n",
       "m⋅⎝dₓ  + d_y ⎠ n_z⊗n_z - dₓ⋅d_y⋅m n_x⊗n_y - dₓ⋅d_z⋅m n_x⊗n_z - dₓ⋅d_y⋅m n_y⊗n_x - d_y⋅d_z⋅m n_y⊗n_z - dₓ⋅d_z⋅m n_z⊗n_x - d_y⋅d_z⋅m n_z⊗n_y"
      ]
     },
     "execution_count": 42,
     "metadata": {},
     "output_type": "execute_result"
    }
   ],
   "source": [
    "dx, dy, dz, m = sm.symbols('d_x, d_y, d_z, m')\n",
    "\n",
    "N = me.ReferenceFrame('N')\n",
    "\n",
    "r_O_Bo = dx*N.x + dy*N.y + dz*N.z\n",
    "\n",
    "U = me.outer(N.x, N.x) + me.outer(N.y, N.y) + me.outer(N.z, N.z)\n",
    "\n",
    "I_Bo_O = m*(me.dot(r_O_Bo, r_O_Bo)*U - me.outer(r_O_Bo, r_O_Bo))\n",
    "I_Bo_O"
   ]
  },
  {
   "cell_type": "code",
   "execution_count": 43,
   "id": "af75fb5a",
   "metadata": {
    "execution": {
     "iopub.execute_input": "2025-09-25T05:55:02.428645Z",
     "iopub.status.busy": "2025-09-25T05:55:02.428502Z",
     "iopub.status.idle": "2025-09-25T05:55:02.465361Z",
     "shell.execute_reply": "2025-09-25T05:55:02.464948Z"
    }
   },
   "outputs": [
    {
     "data": {
      "text/latex": [
       "$\\displaystyle \\left[\\begin{matrix}m \\left(d_{y}^{2} + d_{z}^{2}\\right) & - d_{x} d_{y} m & - d_{x} d_{z} m\\\\- d_{x} d_{y} m & m \\left(d_{x}^{2} + d_{z}^{2}\\right) & - d_{y} d_{z} m\\\\- d_{x} d_{z} m & - d_{y} d_{z} m & m \\left(d_{x}^{2} + d_{y}^{2}\\right)\\end{matrix}\\right]$"
      ],
      "text/plain": [
       "⎡  ⎛   2      2⎞                                ⎤\n",
       "⎢m⋅⎝d_y  + d_z ⎠    -dₓ⋅d_y⋅m       -dₓ⋅d_z⋅m   ⎥\n",
       "⎢                                               ⎥\n",
       "⎢                   ⎛  2      2⎞                ⎥\n",
       "⎢   -dₓ⋅d_y⋅m     m⋅⎝dₓ  + d_z ⎠    -d_y⋅d_z⋅m  ⎥\n",
       "⎢                                               ⎥\n",
       "⎢                                   ⎛  2      2⎞⎥\n",
       "⎣   -dₓ⋅d_z⋅m       -d_y⋅d_z⋅m    m⋅⎝dₓ  + d_y ⎠⎦"
      ]
     },
     "execution_count": 43,
     "metadata": {},
     "output_type": "execute_result"
    }
   ],
   "source": [
    "I_Bo_O.to_matrix(N)"
   ]
  },
  {
   "cell_type": "code",
   "execution_count": 44,
   "id": "7d931652",
   "metadata": {
    "execution": {
     "iopub.execute_input": "2025-09-25T05:55:02.466565Z",
     "iopub.status.busy": "2025-09-25T05:55:02.466424Z",
     "iopub.status.idle": "2025-09-25T05:55:02.471042Z",
     "shell.execute_reply": "2025-09-25T05:55:02.470634Z"
    }
   },
   "outputs": [
    {
     "data": {
      "text/latex": [
       "$\\displaystyle \\left[\\begin{matrix}1.0451 & 0 & -0.1123\\\\0 & 2.403 & 0\\\\-0.1123 & 0 & 1.8501\\end{matrix}\\right]$"
      ],
      "text/plain": [
       "⎡1.0451     0    -0.1123⎤\n",
       "⎢                       ⎥\n",
       "⎢   0     2.403     0   ⎥\n",
       "⎢                       ⎥\n",
       "⎣-0.1123    0    1.8501 ⎦"
      ]
     },
     "execution_count": 44,
     "metadata": {},
     "output_type": "execute_result"
    }
   ],
   "source": [
    "I = sm.Matrix([[1.0451, 0.0, -0.1123],\n",
    "               [0.0, 2.403, 0.0],\n",
    "               [-0.1123, 0.0, 1.8501]])\n",
    "I"
   ]
  },
  {
   "cell_type": "code",
   "execution_count": 45,
   "id": "93b0a59c",
   "metadata": {
    "execution": {
     "iopub.execute_input": "2025-09-25T05:55:02.472273Z",
     "iopub.status.busy": "2025-09-25T05:55:02.472114Z",
     "iopub.status.idle": "2025-09-25T05:55:02.477257Z",
     "shell.execute_reply": "2025-09-25T05:55:02.476828Z"
    }
   },
   "outputs": [],
   "source": [
    "ev1, ev2, ev3 = I.eigenvects()"
   ]
  },
  {
   "cell_type": "code",
   "execution_count": 46,
   "id": "32210d51",
   "metadata": {
    "execution": {
     "iopub.execute_input": "2025-09-25T05:55:02.478538Z",
     "iopub.status.busy": "2025-09-25T05:55:02.478399Z",
     "iopub.status.idle": "2025-09-25T05:55:02.481544Z",
     "shell.execute_reply": "2025-09-25T05:55:02.481017Z"
    }
   },
   "outputs": [
    {
     "data": {
      "text/latex": [
       "$\\displaystyle 2.403$"
      ],
      "text/plain": [
       "2.40300000000000"
      ]
     },
     "execution_count": 46,
     "metadata": {},
     "output_type": "execute_result"
    }
   ],
   "source": [
    "ev1[0]"
   ]
  },
  {
   "cell_type": "code",
   "execution_count": 47,
   "id": "068158bd",
   "metadata": {
    "execution": {
     "iopub.execute_input": "2025-09-25T05:55:02.482836Z",
     "iopub.status.busy": "2025-09-25T05:55:02.482695Z",
     "iopub.status.idle": "2025-09-25T05:55:02.486245Z",
     "shell.execute_reply": "2025-09-25T05:55:02.485835Z"
    }
   },
   "outputs": [
    {
     "data": {
      "text/latex": [
       "$\\displaystyle \\left[\\begin{matrix}0\\\\1.0\\\\0\\end{matrix}\\right]$"
      ],
      "text/plain": [
       "⎡ 0 ⎤\n",
       "⎢   ⎥\n",
       "⎢1.0⎥\n",
       "⎢   ⎥\n",
       "⎣ 0 ⎦"
      ]
     },
     "execution_count": 47,
     "metadata": {},
     "output_type": "execute_result"
    }
   ],
   "source": [
    "ev1[2][0]"
   ]
  },
  {
   "cell_type": "code",
   "execution_count": 48,
   "id": "c98e1f90",
   "metadata": {
    "execution": {
     "iopub.execute_input": "2025-09-25T05:55:02.487459Z",
     "iopub.status.busy": "2025-09-25T05:55:02.487322Z",
     "iopub.status.idle": "2025-09-25T05:55:02.490454Z",
     "shell.execute_reply": "2025-09-25T05:55:02.489958Z"
    }
   },
   "outputs": [
    {
     "data": {
      "text/latex": [
       "$\\displaystyle 1.02972736390139$"
      ],
      "text/plain": [
       "1.02972736390139"
      ]
     },
     "execution_count": 48,
     "metadata": {},
     "output_type": "execute_result"
    }
   ],
   "source": [
    "ev2[0]"
   ]
  },
  {
   "cell_type": "code",
   "execution_count": 49,
   "id": "3f308f07",
   "metadata": {
    "execution": {
     "iopub.execute_input": "2025-09-25T05:55:02.491710Z",
     "iopub.status.busy": "2025-09-25T05:55:02.491571Z",
     "iopub.status.idle": "2025-09-25T05:55:02.495384Z",
     "shell.execute_reply": "2025-09-25T05:55:02.494956Z"
    }
   },
   "outputs": [
    {
     "data": {
      "text/latex": [
       "$\\displaystyle \\left[\\begin{matrix}-0.990760351805416\\\\0\\\\-0.135624206137434\\end{matrix}\\right]$"
      ],
      "text/plain": [
       "⎡-0.990760351805416⎤\n",
       "⎢                  ⎥\n",
       "⎢        0         ⎥\n",
       "⎢                  ⎥\n",
       "⎣-0.135624206137434⎦"
      ]
     },
     "execution_count": 49,
     "metadata": {},
     "output_type": "execute_result"
    }
   ],
   "source": [
    "ev2[2][0]"
   ]
  },
  {
   "cell_type": "code",
   "execution_count": 50,
   "id": "e2c3236b",
   "metadata": {
    "execution": {
     "iopub.execute_input": "2025-09-25T05:55:02.496653Z",
     "iopub.status.busy": "2025-09-25T05:55:02.496502Z",
     "iopub.status.idle": "2025-09-25T05:55:02.499738Z",
     "shell.execute_reply": "2025-09-25T05:55:02.499264Z"
    }
   },
   "outputs": [
    {
     "data": {
      "text/latex": [
       "$\\displaystyle 1.86547263609861$"
      ],
      "text/plain": [
       "1.86547263609861"
      ]
     },
     "execution_count": 50,
     "metadata": {},
     "output_type": "execute_result"
    }
   ],
   "source": [
    "ev3[0]"
   ]
  },
  {
   "cell_type": "code",
   "execution_count": 51,
   "id": "c95643bb",
   "metadata": {
    "execution": {
     "iopub.execute_input": "2025-09-25T05:55:02.500957Z",
     "iopub.status.busy": "2025-09-25T05:55:02.500813Z",
     "iopub.status.idle": "2025-09-25T05:55:02.505348Z",
     "shell.execute_reply": "2025-09-25T05:55:02.504828Z"
    }
   },
   "outputs": [
    {
     "data": {
      "text/latex": [
       "$\\displaystyle \\left[\\begin{matrix}0.135624206137434\\\\0\\\\-0.990760351805416\\end{matrix}\\right]$"
      ],
      "text/plain": [
       "⎡0.135624206137434 ⎤\n",
       "⎢                  ⎥\n",
       "⎢        0         ⎥\n",
       "⎢                  ⎥\n",
       "⎣-0.990760351805416⎦"
      ]
     },
     "execution_count": 51,
     "metadata": {},
     "output_type": "execute_result"
    }
   ],
   "source": [
    "ev3[2][0]"
   ]
  },
  {
   "cell_type": "code",
   "execution_count": 52,
   "id": "1c7fbee9",
   "metadata": {
    "execution": {
     "iopub.execute_input": "2025-09-25T05:55:02.506719Z",
     "iopub.status.busy": "2025-09-25T05:55:02.506567Z",
     "iopub.status.idle": "2025-09-25T05:55:02.529939Z",
     "shell.execute_reply": "2025-09-25T05:55:02.529438Z"
    }
   },
   "outputs": [
    {
     "data": {
      "text/latex": [
       "$\\displaystyle (I_{xx} \\omega_{1} + I_{xy} \\omega_{2} + I_{xz} \\omega_{3})\\hat{b}_x + (I_{xy} \\omega_{1} + I_{yy} \\omega_{2} + I_{yz} \\omega_{3})\\hat{b}_y + (I_{xz} \\omega_{1} + I_{yz} \\omega_{2} + I_{zz} \\omega_{3})\\hat{b}_z$"
      ],
      "text/plain": [
       "(I_{xx}⋅ω₁ + I_{xy}⋅ω₂ + I_{xz}⋅ω₃) b_x + (I_{xy}⋅ω₁ + I_{yy}⋅ω₂ + I_{yz}⋅ω₃)\n",
       "b_y + (I_{xz}⋅ω₁ + I_{yz}⋅ω₂ + I_{zz}⋅ω₃) b_z"
      ]
     },
     "execution_count": 52,
     "metadata": {},
     "output_type": "execute_result"
    }
   ],
   "source": [
    "Ixx, Iyy, Izz = sm.symbols('I_{xx}, I_{yy}, I_{zz}')\n",
    "Ixy, Iyz, Ixz = sm.symbols('I_{xy}, I_{yz}, I_{xz}')\n",
    "w1, w2, w3 = me.dynamicsymbols('omega1, omega2, omega3')\n",
    "\n",
    "B = me.ReferenceFrame('B')\n",
    "\n",
    "I = me.inertia(B, Ixx, Iyy, Izz, Ixy, Iyz, Ixz)\n",
    "\n",
    "A_w_B = w1*B.x + w2*B.y + w3*B.z\n",
    "\n",
    "I.dot(A_w_B)"
   ]
  },
  {
   "cell_type": "code",
   "execution_count": 53,
   "id": "071dda0d",
   "metadata": {
    "execution": {
     "iopub.execute_input": "2025-09-25T05:55:02.531222Z",
     "iopub.status.busy": "2025-09-25T05:55:02.531047Z",
     "iopub.status.idle": "2025-09-25T05:55:02.539965Z",
     "shell.execute_reply": "2025-09-25T05:55:02.539480Z"
    }
   },
   "outputs": [
    {
     "data": {
      "text/latex": [
       "$\\displaystyle I_{1} \\omega_{1}\\hat{b}_x + I_{2} \\omega_{2}\\hat{b}_y + I_{3} \\omega_{3}\\hat{b}_z$"
      ],
      "text/plain": [
       "I₁⋅ω₁ b_x + I₂⋅ω₂ b_y + I₃⋅ω₃ b_z"
      ]
     },
     "execution_count": 53,
     "metadata": {},
     "output_type": "execute_result"
    }
   ],
   "source": [
    "I1, I2, I3 = sm.symbols('I_1, I_2, I_3')\n",
    "w1, w2, w3 = me.dynamicsymbols('omega1, omega2, omega3')\n",
    "\n",
    "B = me.ReferenceFrame('B')\n",
    "\n",
    "I = me.inertia(B, I1, I2, I3)\n",
    "\n",
    "A_w_B = w1*B.x + w2*B.y + w3*B.z\n",
    "\n",
    "I.dot(A_w_B)"
   ]
  }
 ],
 "metadata": {
  "kernelspec": {
   "display_name": "Python 3 (ipykernel)",
   "language": "python",
   "name": "python3"
  },
  "language_info": {
   "codemirror_mode": {
    "name": "ipython",
    "version": 3
   },
   "file_extension": ".py",
   "mimetype": "text/x-python",
   "name": "python",
   "nbconvert_exporter": "python",
   "pygments_lexer": "ipython3",
   "version": "3.11.13"
  }
 },
 "nbformat": 4,
 "nbformat_minor": 5
}