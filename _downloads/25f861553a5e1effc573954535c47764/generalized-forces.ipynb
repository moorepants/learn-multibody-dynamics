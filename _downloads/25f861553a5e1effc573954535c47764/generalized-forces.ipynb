{
 "cells": [
  {
   "cell_type": "code",
   "execution_count": 1,
   "id": "41d54d0b",
   "metadata": {
    "execution": {
     "iopub.execute_input": "2025-09-11T11:33:56.135392Z",
     "iopub.status.busy": "2025-09-11T11:33:56.135222Z",
     "iopub.status.idle": "2025-09-11T11:33:56.474817Z",
     "shell.execute_reply": "2025-09-11T11:33:56.474277Z"
    }
   },
   "outputs": [],
   "source": [
    "import sympy as sm\n",
    "import sympy.physics.mechanics as me\n",
    "me.init_vprinting(use_latex='mathjax')"
   ]
  },
  {
   "cell_type": "code",
   "execution_count": 2,
   "id": "21db8e9b",
   "metadata": {
    "execution": {
     "iopub.execute_input": "2025-09-11T11:33:56.476437Z",
     "iopub.status.busy": "2025-09-11T11:33:56.476211Z",
     "iopub.status.idle": "2025-09-11T11:33:56.479736Z",
     "shell.execute_reply": "2025-09-11T11:33:56.479257Z"
    }
   },
   "outputs": [],
   "source": [
    "class ReferenceFrame(me.ReferenceFrame):\n",
    "\n",
    "    def __init__(self, *args, **kwargs):\n",
    "\n",
    "        kwargs.pop('latexs', None)\n",
    "\n",
    "        lab = args[0].lower()\n",
    "        tex = r'\\hat{{{}}}_{}'\n",
    "\n",
    "        super(ReferenceFrame, self).__init__(*args,\n",
    "                                             latexs=(tex.format(lab, 'x'),\n",
    "                                                     tex.format(lab, 'y'),\n",
    "                                                     tex.format(lab, 'z')),\n",
    "                                             **kwargs)\n",
    "me.ReferenceFrame = ReferenceFrame"
   ]
  },
  {
   "cell_type": "code",
   "execution_count": 3,
   "id": "50b01483",
   "metadata": {
    "execution": {
     "iopub.execute_input": "2025-09-11T11:33:56.480964Z",
     "iopub.status.busy": "2025-09-11T11:33:56.480816Z",
     "iopub.status.idle": "2025-09-11T11:33:56.489304Z",
     "shell.execute_reply": "2025-09-11T11:33:56.488893Z"
    }
   },
   "outputs": [],
   "source": [
    "L = sm.symbols('L')\n",
    "q1, q2, u1, u2 = me.dynamicsymbols('q1, q2, u1, u2')\n",
    "\n",
    "N = me.ReferenceFrame('N')\n",
    "R = me.ReferenceFrame('R')\n",
    "\n",
    "R.orient_axis(N, q2, N.z)"
   ]
  },
  {
   "cell_type": "code",
   "execution_count": 4,
   "id": "8052adf9",
   "metadata": {
    "execution": {
     "iopub.execute_input": "2025-09-11T11:33:56.490570Z",
     "iopub.status.busy": "2025-09-11T11:33:56.490433Z",
     "iopub.status.idle": "2025-09-11T11:33:56.494673Z",
     "shell.execute_reply": "2025-09-11T11:33:56.494309Z"
    }
   },
   "outputs": [
    {
     "data": {
      "text/latex": [
       "$\\displaystyle u_{1}\\hat{n}_x$"
      ],
      "text/plain": [
       "u₁ n_x"
      ]
     },
     "execution_count": 4,
     "metadata": {},
     "output_type": "execute_result"
    }
   ],
   "source": [
    "N_v_A = u1*N.x\n",
    "N_v_A"
   ]
  },
  {
   "cell_type": "code",
   "execution_count": 5,
   "id": "9bdce399",
   "metadata": {
    "execution": {
     "iopub.execute_input": "2025-09-11T11:33:56.495916Z",
     "iopub.status.busy": "2025-09-11T11:33:56.495779Z",
     "iopub.status.idle": "2025-09-11T11:33:56.499424Z",
     "shell.execute_reply": "2025-09-11T11:33:56.498937Z"
    }
   },
   "outputs": [
    {
     "data": {
      "text/latex": [
       "$\\displaystyle u_{2}\\hat{n}_z$"
      ],
      "text/plain": [
       "u₂ n_z"
      ]
     },
     "execution_count": 5,
     "metadata": {},
     "output_type": "execute_result"
    }
   ],
   "source": [
    "N_w_R = u2*N.z\n",
    "N_w_R"
   ]
  },
  {
   "cell_type": "code",
   "execution_count": 6,
   "id": "efe1add1",
   "metadata": {
    "execution": {
     "iopub.execute_input": "2025-09-11T11:33:56.500734Z",
     "iopub.status.busy": "2025-09-11T11:33:56.500586Z",
     "iopub.status.idle": "2025-09-11T11:33:56.509987Z",
     "shell.execute_reply": "2025-09-11T11:33:56.509491Z"
    }
   },
   "outputs": [
    {
     "data": {
      "text/latex": [
       "$\\displaystyle (L u_{2} \\sin{\\left(q_{2} \\right)} + u_{1})\\hat{n}_x -  L u_{2} \\cos{\\left(q_{2} \\right)}\\hat{n}_y$"
      ],
      "text/plain": [
       "(L⋅u₂⋅sin(q₂) + u₁) n_x + -L⋅u₂⋅cos(q₂) n_y"
      ]
     },
     "execution_count": 6,
     "metadata": {},
     "output_type": "execute_result"
    }
   ],
   "source": [
    "r_A_B = -L*R.x\n",
    "N_v_B = N_v_A + me.cross(N_w_R, r_A_B)\n",
    "\n",
    "N_v_B.express(N)"
   ]
  },
  {
   "cell_type": "code",
   "execution_count": 7,
   "id": "9927d257",
   "metadata": {
    "execution": {
     "iopub.execute_input": "2025-09-11T11:33:56.511209Z",
     "iopub.status.busy": "2025-09-11T11:33:56.511069Z",
     "iopub.status.idle": "2025-09-11T11:33:56.521178Z",
     "shell.execute_reply": "2025-09-11T11:33:56.520807Z"
    }
   },
   "outputs": [
    {
     "data": {
      "text/latex": [
       "$\\displaystyle \\left( \\hat{n}_x, \\  0\\right)$"
      ],
      "text/plain": [
       "(n_x, 0)"
      ]
     },
     "execution_count": 7,
     "metadata": {},
     "output_type": "execute_result"
    }
   ],
   "source": [
    "v_A_1 = N_v_A.diff(u1, N)\n",
    "v_A_2 = N_v_A.diff(u2, N)\n",
    "\n",
    "v_A_1, v_A_2"
   ]
  },
  {
   "cell_type": "code",
   "execution_count": 8,
   "id": "72080252",
   "metadata": {
    "execution": {
     "iopub.execute_input": "2025-09-11T11:33:56.522399Z",
     "iopub.status.busy": "2025-09-11T11:33:56.522258Z",
     "iopub.status.idle": "2025-09-11T11:33:56.529678Z",
     "shell.execute_reply": "2025-09-11T11:33:56.529304Z"
    }
   },
   "outputs": [
    {
     "data": {
      "text/latex": [
       "$\\displaystyle \\left( \\hat{n}_x, \\  -  L\\hat{r}_y\\right)$"
      ],
      "text/plain": [
       "(n_x, -L r_y)"
      ]
     },
     "execution_count": 8,
     "metadata": {},
     "output_type": "execute_result"
    }
   ],
   "source": [
    "v_B_1 = N_v_B.diff(u1, N)\n",
    "v_B_2 = N_v_B.diff(u2, N)\n",
    "\n",
    "v_B_1, v_B_2"
   ]
  },
  {
   "cell_type": "code",
   "execution_count": 9,
   "id": "77dc2233",
   "metadata": {
    "execution": {
     "iopub.execute_input": "2025-09-11T11:33:56.530923Z",
     "iopub.status.busy": "2025-09-11T11:33:56.530773Z",
     "iopub.status.idle": "2025-09-11T11:33:56.535399Z",
     "shell.execute_reply": "2025-09-11T11:33:56.534924Z"
    }
   },
   "outputs": [
    {
     "data": {
      "text/latex": [
       "$\\displaystyle \\left( 0, \\  \\hat{n}_z\\right)$"
      ],
      "text/plain": [
       "(0, n_z)"
      ]
     },
     "execution_count": 9,
     "metadata": {},
     "output_type": "execute_result"
    }
   ],
   "source": [
    "w_R_1 = N_w_R.diff(u1, N)\n",
    "w_R_2 = N_w_R.diff(u2, N)\n",
    "\n",
    "w_R_1, w_R_2"
   ]
  },
  {
   "cell_type": "code",
   "execution_count": 10,
   "id": "7e7ab133",
   "metadata": {
    "execution": {
     "iopub.execute_input": "2025-09-11T11:33:56.536709Z",
     "iopub.status.busy": "2025-09-11T11:33:56.536561Z",
     "iopub.status.idle": "2025-09-11T11:33:56.545321Z",
     "shell.execute_reply": "2025-09-11T11:33:56.544822Z"
    }
   },
   "outputs": [
    {
     "data": {
      "text/latex": [
       "$\\displaystyle \\left[ \\left[ \\hat{n}_x, \\  0\\right], \\  \\left[ \\hat{n}_x, \\  -  L\\hat{r}_y\\right], \\  \\left[ 0, \\  \\hat{n}_z\\right]\\right]$"
      ],
      "text/plain": [
       "[[n_x, 0], [n_x, -L r_y], [0, n_z]]"
      ]
     },
     "execution_count": 10,
     "metadata": {},
     "output_type": "execute_result"
    }
   ],
   "source": [
    "me.partial_velocity((N_v_A, N_v_B, N_w_R), (u1, u2), N)"
   ]
  },
  {
   "cell_type": "code",
   "execution_count": 11,
   "id": "2d0f4874",
   "metadata": {
    "execution": {
     "iopub.execute_input": "2025-09-11T11:33:56.546628Z",
     "iopub.status.busy": "2025-09-11T11:33:56.546481Z",
     "iopub.status.idle": "2025-09-11T11:33:56.562437Z",
     "shell.execute_reply": "2025-09-11T11:33:56.561948Z"
    }
   },
   "outputs": [
    {
     "data": {
      "text/latex": [
       "$\\displaystyle (u_{x} \\cos{\\left(\\theta \\right)} + u_{y} \\sin{\\left(\\theta \\right)})\\hat{a}_x + (- u_{x} \\sin{\\left(\\theta \\right)} + u_{y} \\cos{\\left(\\theta \\right)})\\hat{a}_y$"
      ],
      "text/plain": [
       "(uₓ⋅cos(θ) + u_y⋅sin(θ)) a_x + (-uₓ⋅sin(θ) + u_y⋅cos(θ)) a_y"
      ]
     },
     "execution_count": 11,
     "metadata": {},
     "output_type": "execute_result"
    }
   ],
   "source": [
    "x, y, theta = me.dynamicsymbols('x, y, theta')\n",
    "ux, uy, utheta = me.dynamicsymbols('u_x, u_y, u_theta')\n",
    "\n",
    "N = me.ReferenceFrame('N')\n",
    "A = me.ReferenceFrame('A')\n",
    "\n",
    "A.orient_axis(N, theta, N.z)\n",
    "\n",
    "O = me.Point('O')\n",
    "P = me.Point('P')\n",
    "\n",
    "P.set_pos(O, x*N.x + y*N.y)\n",
    "\n",
    "O.set_vel(N, 0)\n",
    "\n",
    "N_v_P = P.vel(N).express(A).xreplace({x.diff(): ux, y.diff(): uy})\n",
    "N_v_P"
   ]
  },
  {
   "cell_type": "code",
   "execution_count": 12,
   "id": "eac3fde5",
   "metadata": {
    "execution": {
     "iopub.execute_input": "2025-09-11T11:33:56.563765Z",
     "iopub.status.busy": "2025-09-11T11:33:56.563616Z",
     "iopub.status.idle": "2025-09-11T11:33:56.571022Z",
     "shell.execute_reply": "2025-09-11T11:33:56.570555Z"
    }
   },
   "outputs": [
    {
     "data": {
      "text/latex": [
       "$\\displaystyle - u_{x} \\sin{\\left(\\theta \\right)} + u_{y} \\cos{\\left(\\theta \\right)}$"
      ],
      "text/plain": [
       "-uₓ⋅sin(θ) + u_y⋅cos(θ)"
      ]
     },
     "execution_count": 12,
     "metadata": {},
     "output_type": "execute_result"
    }
   ],
   "source": [
    "fn = N_v_P.dot(A.y)\n",
    "fn"
   ]
  },
  {
   "cell_type": "code",
   "execution_count": 13,
   "id": "c7892bef",
   "metadata": {
    "execution": {
     "iopub.execute_input": "2025-09-11T11:33:56.572354Z",
     "iopub.status.busy": "2025-09-11T11:33:56.572188Z",
     "iopub.status.idle": "2025-09-11T11:33:56.618998Z",
     "shell.execute_reply": "2025-09-11T11:33:56.618527Z"
    }
   },
   "outputs": [
    {
     "data": {
      "text/latex": [
       "$\\displaystyle \\frac{u_{y}}{\\tan{\\left(\\theta \\right)}}$"
      ],
      "text/plain": [
       " u_y  \n",
       "──────\n",
       "tan(θ)"
      ]
     },
     "execution_count": 13,
     "metadata": {},
     "output_type": "execute_result"
    }
   ],
   "source": [
    "ux_sol = sm.solve(fn, ux)[0]\n",
    "ux_sol"
   ]
  },
  {
   "cell_type": "code",
   "execution_count": 14,
   "id": "77adc252",
   "metadata": {
    "execution": {
     "iopub.execute_input": "2025-09-11T11:33:56.620213Z",
     "iopub.status.busy": "2025-09-11T11:33:56.620070Z",
     "iopub.status.idle": "2025-09-11T11:33:56.689208Z",
     "shell.execute_reply": "2025-09-11T11:33:56.688698Z"
    }
   },
   "outputs": [
    {
     "data": {
      "text/latex": [
       "$\\displaystyle \\frac{1}{\\sin{\\left(\\theta \\right)}}\\hat{a}_x$"
      ],
      "text/plain": [
       "  1\n",
       "────── a_x\n",
       "sin(θ)"
      ]
     },
     "execution_count": 14,
     "metadata": {},
     "output_type": "execute_result"
    }
   ],
   "source": [
    "N_v_P.xreplace({ux: ux_sol}).diff(uy, N).simplify()"
   ]
  },
  {
   "cell_type": "code",
   "execution_count": 15,
   "id": "5cad3a51",
   "metadata": {
    "execution": {
     "iopub.execute_input": "2025-09-11T11:33:56.690582Z",
     "iopub.status.busy": "2025-09-11T11:33:56.690431Z",
     "iopub.status.idle": "2025-09-11T11:33:56.694714Z",
     "shell.execute_reply": "2025-09-11T11:33:56.694225Z"
    }
   },
   "outputs": [
    {
     "data": {
      "text/latex": [
       "$\\displaystyle \\frac{1}{\\tan{\\left(\\theta \\right)}}$"
      ],
      "text/plain": [
       "  1   \n",
       "──────\n",
       "tan(θ)"
      ]
     },
     "execution_count": 15,
     "metadata": {},
     "output_type": "execute_result"
    }
   ],
   "source": [
    "An = ux_sol.diff(uy)\n",
    "An"
   ]
  },
  {
   "cell_type": "code",
   "execution_count": 16,
   "id": "71397967",
   "metadata": {
    "execution": {
     "iopub.execute_input": "2025-09-11T11:33:56.695929Z",
     "iopub.status.busy": "2025-09-11T11:33:56.695787Z",
     "iopub.status.idle": "2025-09-11T11:33:56.740910Z",
     "shell.execute_reply": "2025-09-11T11:33:56.740412Z"
    }
   },
   "outputs": [
    {
     "data": {
      "text/latex": [
       "$\\displaystyle \\frac{1}{\\sin{\\left(\\theta \\right)}}\\hat{a}_x$"
      ],
      "text/plain": [
       "  1\n",
       "────── a_x\n",
       "sin(θ)"
      ]
     },
     "execution_count": 16,
     "metadata": {},
     "output_type": "execute_result"
    }
   ],
   "source": [
    "(N_v_P.diff(uy, N) + N_v_P.diff(ux, N)*An).simplify()"
   ]
  },
  {
   "cell_type": "code",
   "execution_count": 17,
   "id": "50eca630",
   "metadata": {
    "execution": {
     "iopub.execute_input": "2025-09-11T11:33:56.742335Z",
     "iopub.status.busy": "2025-09-11T11:33:56.742154Z",
     "iopub.status.idle": "2025-09-11T11:33:56.758288Z",
     "shell.execute_reply": "2025-09-11T11:33:56.757888Z"
    }
   },
   "outputs": [
    {
     "data": {
      "text/latex": [
       "$\\displaystyle \\left( l \\dot{q}_{1}\\hat{a}_x, \\  l \\dot{q}_{1}\\hat{a}_x + l \\dot{q}_{2}\\hat{b}_x\\right)$"
      ],
      "text/plain": [
       "(l⋅q₁̇ a_x, l⋅q₁̇ a_x + l⋅q₂̇ b_x)"
      ]
     },
     "execution_count": 17,
     "metadata": {},
     "output_type": "execute_result"
    }
   ],
   "source": [
    "l = sm.symbols('l')\n",
    "q1, q2, u1, u2 = me.dynamicsymbols('q1, q2, u1, u2')\n",
    "\n",
    "N = me.ReferenceFrame('N')\n",
    "A = me.ReferenceFrame('A')\n",
    "B = me.ReferenceFrame('B')\n",
    "\n",
    "A.orient_axis(N, q1, N.z)\n",
    "B.orient_axis(N, q2, N.z)\n",
    "\n",
    "O = me.Point('O')\n",
    "P1 = me.Point('P1')\n",
    "P2 = me.Point('P2')\n",
    "\n",
    "O.set_vel(N, 0)\n",
    "\n",
    "P1.set_pos(O, -l*A.y)\n",
    "P2.set_pos(P1, -l*B.y)\n",
    "\n",
    "P1.v2pt_theory(O, N, A)\n",
    "P2.v2pt_theory(P1, N, B)\n",
    "\n",
    "P1.vel(N), P2.vel(N)"
   ]
  },
  {
   "cell_type": "code",
   "execution_count": 18,
   "id": "8a107a8c",
   "metadata": {
    "execution": {
     "iopub.execute_input": "2025-09-11T11:33:56.759537Z",
     "iopub.status.busy": "2025-09-11T11:33:56.759402Z",
     "iopub.status.idle": "2025-09-11T11:33:56.764820Z",
     "shell.execute_reply": "2025-09-11T11:33:56.764352Z"
    }
   },
   "outputs": [
    {
     "data": {
      "text/latex": [
       "$\\displaystyle \\left( l u_{1}\\hat{a}_x, \\  l u_{1}\\hat{a}_x + l u_{2}\\hat{b}_x\\right)$"
      ],
      "text/plain": [
       "(l⋅u₁ a_x, l⋅u₁ a_x + l⋅u₂ b_x)"
      ]
     },
     "execution_count": 18,
     "metadata": {},
     "output_type": "execute_result"
    }
   ],
   "source": [
    "repl = {q1.diff(): u1, q2.diff(): u2}\n",
    "\n",
    "N_v_P1 = P1.vel(N).xreplace(repl)\n",
    "N_v_P2 = P2.vel(N).xreplace(repl)\n",
    "\n",
    "N_v_P1, N_v_P2"
   ]
  },
  {
   "cell_type": "code",
   "execution_count": 19,
   "id": "5ad33116",
   "metadata": {
    "execution": {
     "iopub.execute_input": "2025-09-11T11:33:56.766087Z",
     "iopub.status.busy": "2025-09-11T11:33:56.765952Z",
     "iopub.status.idle": "2025-09-11T11:33:56.775299Z",
     "shell.execute_reply": "2025-09-11T11:33:56.774906Z"
    }
   },
   "outputs": [
    {
     "data": {
      "text/latex": [
       "$\\displaystyle \\left( l\\hat{a}_x, \\  0, \\  l\\hat{a}_x, \\  l\\hat{b}_x\\right)$"
      ],
      "text/plain": [
       "(l a_x, 0, l a_x, l b_x)"
      ]
     },
     "execution_count": 19,
     "metadata": {},
     "output_type": "execute_result"
    }
   ],
   "source": [
    "v_P1_1 = N_v_P1.diff(u1, N)\n",
    "v_P1_2 = N_v_P1.diff(u2, N)\n",
    "v_P2_1 = N_v_P2.diff(u1, N)\n",
    "v_P2_2 = N_v_P2.diff(u2, N)\n",
    "v_P1_1, v_P1_2, v_P2_1, v_P2_2"
   ]
  },
  {
   "cell_type": "code",
   "execution_count": 20,
   "id": "1a0ee44e",
   "metadata": {
    "execution": {
     "iopub.execute_input": "2025-09-11T11:33:56.776490Z",
     "iopub.status.busy": "2025-09-11T11:33:56.776337Z",
     "iopub.status.idle": "2025-09-11T11:33:56.782756Z",
     "shell.execute_reply": "2025-09-11T11:33:56.782279Z"
    }
   },
   "outputs": [
    {
     "data": {
      "text/latex": [
       "$\\displaystyle -  g m_{1}\\hat{n}_y + T_{1}\\hat{a}_y -  T_{2}\\hat{b}_y$"
      ],
      "text/plain": [
       "-g⋅m₁ n_y + T₁ a_y + -T₂ b_y"
      ]
     },
     "execution_count": 20,
     "metadata": {},
     "output_type": "execute_result"
    }
   ],
   "source": [
    "T1, T2 = me.dynamicsymbols('T1, T2')\n",
    "m1, m2, g = sm.symbols('m1, m2, g')\n",
    "\n",
    "R1 = -m1*g*N.y + T1*A.y - T2*B.y\n",
    "R1"
   ]
  },
  {
   "cell_type": "code",
   "execution_count": 21,
   "id": "dabc20f2",
   "metadata": {
    "execution": {
     "iopub.execute_input": "2025-09-11T11:33:56.784075Z",
     "iopub.status.busy": "2025-09-11T11:33:56.783930Z",
     "iopub.status.idle": "2025-09-11T11:33:56.788588Z",
     "shell.execute_reply": "2025-09-11T11:33:56.788109Z"
    }
   },
   "outputs": [
    {
     "data": {
      "text/latex": [
       "$\\displaystyle -  g m_{2}\\hat{n}_y + T_{2}\\hat{b}_y$"
      ],
      "text/plain": [
       "-g⋅m₂ n_y + T₂ b_y"
      ]
     },
     "execution_count": 21,
     "metadata": {},
     "output_type": "execute_result"
    }
   ],
   "source": [
    "R2 = -m2*g*N.y + T2*B.y\n",
    "R2"
   ]
  },
  {
   "cell_type": "code",
   "execution_count": 22,
   "id": "84527dce",
   "metadata": {
    "execution": {
     "iopub.execute_input": "2025-09-11T11:33:56.789803Z",
     "iopub.status.busy": "2025-09-11T11:33:56.789664Z",
     "iopub.status.idle": "2025-09-11T11:33:56.804981Z",
     "shell.execute_reply": "2025-09-11T11:33:56.804514Z"
    }
   },
   "outputs": [
    {
     "data": {
      "text/latex": [
       "$\\displaystyle - g l m_{1} \\sin{\\left(q_{1} \\right)} - g l m_{2} \\sin{\\left(q_{1} \\right)}$"
      ],
      "text/plain": [
       "-g⋅l⋅m₁⋅sin(q₁) - g⋅l⋅m₂⋅sin(q₁)"
      ]
     },
     "execution_count": 22,
     "metadata": {},
     "output_type": "execute_result"
    }
   ],
   "source": [
    "F1 = me.dot(v_P1_1, R1) + me.dot(v_P2_1, R2)\n",
    "F1"
   ]
  },
  {
   "cell_type": "code",
   "execution_count": 23,
   "id": "258b0d0d",
   "metadata": {
    "execution": {
     "iopub.execute_input": "2025-09-11T11:33:56.806294Z",
     "iopub.status.busy": "2025-09-11T11:33:56.806128Z",
     "iopub.status.idle": "2025-09-11T11:33:56.810749Z",
     "shell.execute_reply": "2025-09-11T11:33:56.810274Z"
    }
   },
   "outputs": [
    {
     "data": {
      "text/latex": [
       "$\\displaystyle - g l m_{2} \\sin{\\left(q_{2} \\right)}$"
      ],
      "text/plain": [
       "-g⋅l⋅m₂⋅sin(q₂)"
      ]
     },
     "execution_count": 23,
     "metadata": {},
     "output_type": "execute_result"
    }
   ],
   "source": [
    "F2 = me.dot(v_P1_2, R1) + me.dot(v_P2_2, R2)\n",
    "F2"
   ]
  },
  {
   "cell_type": "code",
   "execution_count": 24,
   "id": "595eecdc",
   "metadata": {
    "execution": {
     "iopub.execute_input": "2025-09-11T11:33:56.811925Z",
     "iopub.status.busy": "2025-09-11T11:33:56.811783Z",
     "iopub.status.idle": "2025-09-11T11:33:56.827538Z",
     "shell.execute_reply": "2025-09-11T11:33:56.827045Z"
    }
   },
   "outputs": [
    {
     "data": {
      "text/latex": [
       "$\\displaystyle \\left( \\frac{l u_{1}}{2}\\hat{a}_y, \\  l u_{1}\\hat{a}_y, \\  u_{1}\\hat{n}_z, \\  u_{2}\\hat{a}_x + u_{1}\\hat{n}_z\\right)$"
      ],
      "text/plain": [
       "⎛  l⋅u₁  , l⋅u₁ a_y, u₁ n_z, u₂ a_x + u₁ n_z⎞\n",
       "⎜──── a_y                                   ⎟\n",
       "⎝    2                                      ⎠"
      ]
     },
     "execution_count": 24,
     "metadata": {},
     "output_type": "execute_result"
    }
   ],
   "source": [
    "m, g, k, l = sm.symbols('m, g, k, l')\n",
    "q1, q2, u1, u2 = me.dynamicsymbols('q1, q2, u1, u2')\n",
    "\n",
    "N = me.ReferenceFrame('N')\n",
    "A = me.ReferenceFrame('A')\n",
    "B = me.ReferenceFrame('B')\n",
    "\n",
    "A.orient_axis(N, q1, N.z)\n",
    "B.orient_axis(A, q2, A.x)\n",
    "\n",
    "A.set_ang_vel(N, u1*N.z)\n",
    "B.set_ang_vel(A, u2*A.x)\n",
    "\n",
    "O = me.Point('O')\n",
    "Ao = me.Point('A_O')\n",
    "Bo = me.Point('B_O')\n",
    "\n",
    "Ao.set_pos(O, l/2*A.x)\n",
    "Bo.set_pos(O, l*A.x)\n",
    "\n",
    "O.set_vel(N, 0)\n",
    "Ao.v2pt_theory(O, N, A)\n",
    "Bo.v2pt_theory(O, N, A)\n",
    "\n",
    "Ao.vel(N), Bo.vel(N), A.ang_vel_in(N), B.ang_vel_in(N)"
   ]
  },
  {
   "cell_type": "code",
   "execution_count": 25,
   "id": "72d2c7ae",
   "metadata": {
    "execution": {
     "iopub.execute_input": "2025-09-11T11:33:56.828770Z",
     "iopub.status.busy": "2025-09-11T11:33:56.828627Z",
     "iopub.status.idle": "2025-09-11T11:33:56.837077Z",
     "shell.execute_reply": "2025-09-11T11:33:56.836703Z"
    }
   },
   "outputs": [
    {
     "data": {
      "text/latex": [
       "$\\displaystyle \\left( \\frac{l}{2}\\hat{a}_y, \\  0, \\  l\\hat{a}_y, \\  0\\right)$"
      ],
      "text/plain": [
       "⎛  l  , 0, l a_y, 0⎞\n",
       "⎜─ a_y             ⎟\n",
       "⎝  2               ⎠"
      ]
     },
     "execution_count": 25,
     "metadata": {},
     "output_type": "execute_result"
    }
   ],
   "source": [
    "v_Ao_1 = Ao.vel(N).diff(u1, N)\n",
    "v_Ao_2 = Ao.vel(N).diff(u2, N)\n",
    "v_Bo_1 = Bo.vel(N).diff(u1, N)\n",
    "v_Bo_2 = Bo.vel(N).diff(u2, N)\n",
    "\n",
    "v_Ao_1, v_Ao_2, v_Bo_1, v_Bo_2"
   ]
  },
  {
   "cell_type": "code",
   "execution_count": 26,
   "id": "5fa62442",
   "metadata": {
    "execution": {
     "iopub.execute_input": "2025-09-11T11:33:56.838297Z",
     "iopub.status.busy": "2025-09-11T11:33:56.838130Z",
     "iopub.status.idle": "2025-09-11T11:33:56.846112Z",
     "shell.execute_reply": "2025-09-11T11:33:56.845718Z"
    }
   },
   "outputs": [
    {
     "data": {
      "text/latex": [
       "$\\displaystyle \\left( \\hat{n}_z, \\  0, \\  \\hat{n}_z, \\  \\hat{a}_x\\right)$"
      ],
      "text/plain": [
       "(n_z, 0, n_z, a_x)"
      ]
     },
     "execution_count": 26,
     "metadata": {},
     "output_type": "execute_result"
    }
   ],
   "source": [
    "w_A_1 = A.ang_vel_in(N).diff(u1, N)\n",
    "w_A_2 = A.ang_vel_in(N).diff(u2, N)\n",
    "w_B_1 = B.ang_vel_in(N).diff(u1, N)\n",
    "w_B_2 = B.ang_vel_in(N).diff(u2, N)\n",
    "\n",
    "w_A_1, w_A_2, w_B_1, w_B_2"
   ]
  },
  {
   "cell_type": "code",
   "execution_count": 27,
   "id": "1fbc549e",
   "metadata": {
    "execution": {
     "iopub.execute_input": "2025-09-11T11:33:56.847384Z",
     "iopub.status.busy": "2025-09-11T11:33:56.847226Z",
     "iopub.status.idle": "2025-09-11T11:33:56.851614Z",
     "shell.execute_reply": "2025-09-11T11:33:56.851223Z"
    }
   },
   "outputs": [
    {
     "data": {
      "text/latex": [
       "$\\displaystyle \\left( g m\\hat{n}_x, \\  g m\\hat{n}_x\\right)$"
      ],
      "text/plain": [
       "(g⋅m n_x, g⋅m n_x)"
      ]
     },
     "execution_count": 27,
     "metadata": {},
     "output_type": "execute_result"
    }
   ],
   "source": [
    "R_Ao = m*g*N.x\n",
    "R_Bo = m*g*N.x\n",
    "\n",
    "R_Ao, R_Bo"
   ]
  },
  {
   "cell_type": "code",
   "execution_count": 28,
   "id": "6ee8db2d",
   "metadata": {
    "execution": {
     "iopub.execute_input": "2025-09-11T11:33:56.852821Z",
     "iopub.status.busy": "2025-09-11T11:33:56.852687Z",
     "iopub.status.idle": "2025-09-11T11:33:56.858618Z",
     "shell.execute_reply": "2025-09-11T11:33:56.858225Z"
    }
   },
   "outputs": [
    {
     "data": {
      "text/latex": [
       "$\\displaystyle \\left( -  k q_{1}\\hat{n}_z + k q_{2}\\hat{a}_x, \\  -  k q_{2}\\hat{a}_x\\right)$"
      ],
      "text/plain": [
       "(-k⋅q₁ n_z + k⋅q₂ a_x, -k⋅q₂ a_x)"
      ]
     },
     "execution_count": 28,
     "metadata": {},
     "output_type": "execute_result"
    }
   ],
   "source": [
    "T_A = -k*q1*N.z + k*q2*A.x\n",
    "T_B = -k*q2*A.x\n",
    "\n",
    "T_A, T_B"
   ]
  },
  {
   "cell_type": "code",
   "execution_count": 29,
   "id": "6e9ab319",
   "metadata": {
    "execution": {
     "iopub.execute_input": "2025-09-11T11:33:56.859788Z",
     "iopub.status.busy": "2025-09-11T11:33:56.859644Z",
     "iopub.status.idle": "2025-09-11T11:33:56.868008Z",
     "shell.execute_reply": "2025-09-11T11:33:56.867540Z"
    }
   },
   "outputs": [
    {
     "data": {
      "text/latex": [
       "$\\displaystyle \\left( - \\frac{g l m \\sin{\\left(q_{1} \\right)}}{2} - k q_{1}, \\  - g l m \\sin{\\left(q_{1} \\right)}, \\  0, \\  - k q_{2}\\right)$"
      ],
      "text/plain": [
       "⎛  g⋅l⋅m⋅sin(q₁)                                 ⎞\n",
       "⎜- ───────────── - k⋅q₁, -g⋅l⋅m⋅sin(q₁), 0, -k⋅q₂⎟\n",
       "⎝        2                                       ⎠"
      ]
     },
     "execution_count": 29,
     "metadata": {},
     "output_type": "execute_result"
    }
   ],
   "source": [
    "F1_A = v_Ao_1.dot(R_Ao) + w_A_1.dot(T_A)\n",
    "F1_B = v_Bo_1.dot(R_Bo) + w_B_1.dot(T_B)\n",
    "F2_A = v_Ao_2.dot(R_Ao) + w_A_2.dot(T_A)\n",
    "F2_B = v_Bo_2.dot(R_Bo) + w_B_2.dot(T_B)\n",
    "\n",
    "F1_A, F1_B, F2_A, F2_B"
   ]
  },
  {
   "cell_type": "code",
   "execution_count": 30,
   "id": "51a0e182",
   "metadata": {
    "execution": {
     "iopub.execute_input": "2025-09-11T11:33:56.869172Z",
     "iopub.status.busy": "2025-09-11T11:33:56.869029Z",
     "iopub.status.idle": "2025-09-11T11:33:56.874229Z",
     "shell.execute_reply": "2025-09-11T11:33:56.873764Z"
    }
   },
   "outputs": [
    {
     "data": {
      "text/latex": [
       "$\\displaystyle \\left[\\begin{matrix}- \\frac{3 g l m \\sin{\\left(q_{1} \\right)}}{2} - k q_{1}\\\\- k q_{2}\\end{matrix}\\right]$"
      ],
      "text/plain": [
       "⎡  3⋅g⋅l⋅m⋅sin(q₁)       ⎤\n",
       "⎢- ─────────────── - k⋅q₁⎥\n",
       "⎢         2              ⎥\n",
       "⎢                        ⎥\n",
       "⎣         -k⋅q₂          ⎦"
      ]
     },
     "execution_count": 30,
     "metadata": {},
     "output_type": "execute_result"
    }
   ],
   "source": [
    "F1 = F1_A + F1_B\n",
    "F2 = F2_A + F2_B\n",
    "\n",
    "Fr = sm.Matrix([F1, F2])\n",
    "Fr"
   ]
  },
  {
   "cell_type": "code",
   "execution_count": 31,
   "id": "15b8cfa0",
   "metadata": {
    "execution": {
     "iopub.execute_input": "2025-09-11T11:33:56.875411Z",
     "iopub.status.busy": "2025-09-11T11:33:56.875269Z",
     "iopub.status.idle": "2025-09-11T11:33:56.895744Z",
     "shell.execute_reply": "2025-09-11T11:33:56.895316Z"
    }
   },
   "outputs": [],
   "source": [
    "m, g, k, l = sm.symbols('m, g, k, l')\n",
    "q1, q2, u1, u2 = me.dynamicsymbols('q1, q2, u1, u2')\n",
    "\n",
    "N = me.ReferenceFrame('N')\n",
    "A = me.ReferenceFrame('A')\n",
    "B = me.ReferenceFrame('B')\n",
    "\n",
    "A.orient_axis(N, q1, N.z)\n",
    "B.orient_axis(A, q2, A.x)\n",
    "\n",
    "A.set_ang_vel(N, u1*N.z)\n",
    "B.set_ang_vel(A, u2*A.x)\n",
    "\n",
    "O = me.Point('O')\n",
    "Ao = me.Point('A_O')\n",
    "Bo = me.Point('B_O')\n",
    "\n",
    "Ao.set_pos(O, l/2*A.x)\n",
    "Bo.set_pos(O, l*A.x)\n",
    "\n",
    "O.set_vel(N, 0)\n",
    "Ao.v2pt_theory(O, N, A)\n",
    "Bo.v2pt_theory(O, N, A)\n",
    "\n",
    "v_Ao_1 = Ao.vel(N).diff(u1, N)\n",
    "v_Ao_2 = Ao.vel(N).diff(u2, N)\n",
    "v_Bo_1 = Bo.vel(N).diff(u1, N)\n",
    "v_Bo_2 = Bo.vel(N).diff(u2, N)\n",
    "\n",
    "w_A_1 = A.ang_vel_in(N).diff(u1, N)\n",
    "w_A_2 = A.ang_vel_in(N).diff(u2, N)\n",
    "w_B_1 = B.ang_vel_in(N).diff(u1, N)\n",
    "w_B_2 = B.ang_vel_in(N).diff(u2, N)"
   ]
  },
  {
   "cell_type": "code",
   "execution_count": 32,
   "id": "b791fba5",
   "metadata": {
    "execution": {
     "iopub.execute_input": "2025-09-11T11:33:56.896965Z",
     "iopub.status.busy": "2025-09-11T11:33:56.896829Z",
     "iopub.status.idle": "2025-09-11T11:33:56.907808Z",
     "shell.execute_reply": "2025-09-11T11:33:56.907428Z"
    }
   },
   "outputs": [
    {
     "data": {
      "text/latex": [
       "$\\displaystyle \\left( -  \\frac{l u_{1}^{2}}{2}\\hat{a}_x + \\frac{l \\dot{u}_{1}}{2}\\hat{a}_y, \\  -  l u_{1}^{2}\\hat{a}_x + l \\dot{u}_{1}\\hat{a}_y\\right)$"
      ],
      "text/plain": [
       "⎛             2        ,              2       ⎞\n",
       "⎜ -l⋅u₁         l⋅u₁̇    -l⋅u₁  a_x + l⋅u₁̇ a_y⎟\n",
       "⎜─────── a_x + ──── a_y                       ⎟\n",
       "⎝      2           2                          ⎠"
      ]
     },
     "execution_count": 32,
     "metadata": {},
     "output_type": "execute_result"
    }
   ],
   "source": [
    "Ao.acc(N), Bo.acc(N)"
   ]
  },
  {
   "cell_type": "code",
   "execution_count": 33,
   "id": "30e1b873",
   "metadata": {
    "execution": {
     "iopub.execute_input": "2025-09-11T11:33:56.908992Z",
     "iopub.status.busy": "2025-09-11T11:33:56.908861Z",
     "iopub.status.idle": "2025-09-11T11:33:56.917583Z",
     "shell.execute_reply": "2025-09-11T11:33:56.917175Z"
    }
   },
   "outputs": [
    {
     "data": {
      "text/latex": [
       "$\\displaystyle \\left( \\dot{u}_{1}\\hat{n}_z, \\  \\dot{u}_{2}\\hat{a}_x + u_{1} u_{2}\\hat{a}_y + \\dot{u}_{1}\\hat{n}_z\\right)$"
      ],
      "text/plain": [
       "(u₁̇ n_z, u₂̇ a_x + u₁⋅u₂ a_y + u₁̇ n_z)"
      ]
     },
     "execution_count": 33,
     "metadata": {},
     "output_type": "execute_result"
    }
   ],
   "source": [
    "A.ang_acc_in(N), B.ang_acc_in(N)"
   ]
  },
  {
   "cell_type": "code",
   "execution_count": 34,
   "id": "20aa9f42",
   "metadata": {
    "execution": {
     "iopub.execute_input": "2025-09-11T11:33:56.918773Z",
     "iopub.status.busy": "2025-09-11T11:33:56.918640Z",
     "iopub.status.idle": "2025-09-11T11:33:56.922596Z",
     "shell.execute_reply": "2025-09-11T11:33:56.922085Z"
    }
   },
   "outputs": [
    {
     "data": {
      "text/latex": [
       "$\\displaystyle \\frac{l^{2} m}{12}$"
      ],
      "text/plain": [
       " 2  \n",
       "l ⋅m\n",
       "────\n",
       " 12 "
      ]
     },
     "execution_count": 34,
     "metadata": {},
     "output_type": "execute_result"
    }
   ],
   "source": [
    "I = m*l**2/12\n",
    "I"
   ]
  },
  {
   "cell_type": "code",
   "execution_count": 35,
   "id": "7e3bbcdb",
   "metadata": {
    "execution": {
     "iopub.execute_input": "2025-09-11T11:33:56.923894Z",
     "iopub.status.busy": "2025-09-11T11:33:56.923746Z",
     "iopub.status.idle": "2025-09-11T11:33:56.930081Z",
     "shell.execute_reply": "2025-09-11T11:33:56.929611Z"
    }
   },
   "outputs": [
    {
     "data": {
      "text/latex": [
       "$\\displaystyle \\left( \\frac{l^{2} m}{12}\\hat{a}_y\\otimes \\hat{a}_y + \\frac{l^{2} m}{12}\\hat{a}_z\\otimes \\hat{a}_z, \\  \\frac{l^{2} m}{12}\\hat{b}_x\\otimes \\hat{b}_x + \\frac{l^{2} m}{12}\\hat{b}_z\\otimes \\hat{b}_z\\right)$"
      ],
      "text/plain": [
       "⎛         2         ,          2         ⎞\n",
       "⎜        l ⋅m                 l ⋅m       ⎟\n",
       "⎜        ────                 ────       ⎟\n",
       "⎜ 12  a_y⊗a_y +  2     12  b_x⊗b_x +  2  ⎟\n",
       "⎜        l ⋅m                 l ⋅m       ⎟\n",
       "⎜        ────                 ────       ⎟\n",
       "⎝     12  a_z⊗a_z          12  b_z⊗b_z   ⎠"
      ]
     },
     "execution_count": 35,
     "metadata": {},
     "output_type": "execute_result"
    }
   ],
   "source": [
    "I_A_Ao = I*me.outer(A.y, A.y) + I*me.outer(A.z, A.z)\n",
    "I_B_Bo = I*me.outer(B.x, B.x) + I*me.outer(B.z, B.z)\n",
    "I_A_Ao, I_B_Bo"
   ]
  },
  {
   "cell_type": "code",
   "execution_count": 36,
   "id": "5e9e944e",
   "metadata": {
    "execution": {
     "iopub.execute_input": "2025-09-11T11:33:56.931385Z",
     "iopub.status.busy": "2025-09-11T11:33:56.931229Z",
     "iopub.status.idle": "2025-09-11T11:33:56.942229Z",
     "shell.execute_reply": "2025-09-11T11:33:56.941847Z"
    }
   },
   "outputs": [
    {
     "data": {
      "text/latex": [
       "$\\displaystyle \\left( \\frac{l m u_{1}^{2}}{2}\\hat{a}_x -  \\frac{l m \\dot{u}_{1}}{2}\\hat{a}_y, \\  l m u_{1}^{2}\\hat{a}_x -  l m \\dot{u}_{1}\\hat{a}_y\\right)$"
      ],
      "text/plain": [
       "⎛               2          ,                2         ⎞\n",
       "⎜  l⋅m⋅u₁        -l⋅m⋅u₁̇    l⋅m⋅u₁  a_x + -l⋅m⋅u₁̇ a_y⎟\n",
       "⎜─────── a_x + ──────── a_y                           ⎟\n",
       "⎝       2             2                               ⎠"
      ]
     },
     "execution_count": 36,
     "metadata": {},
     "output_type": "execute_result"
    }
   ],
   "source": [
    "Rs_Ao = -m*Ao.acc(N)\n",
    "Rs_Bo = -m*Bo.acc(N)\n",
    "\n",
    "Rs_Ao, Rs_Bo"
   ]
  },
  {
   "cell_type": "code",
   "execution_count": 37,
   "id": "96305ca9",
   "metadata": {
    "execution": {
     "iopub.execute_input": "2025-09-11T11:33:56.943408Z",
     "iopub.status.busy": "2025-09-11T11:33:56.943275Z",
     "iopub.status.idle": "2025-09-11T11:33:56.952536Z",
     "shell.execute_reply": "2025-09-11T11:33:56.952003Z"
    }
   },
   "outputs": [
    {
     "data": {
      "text/latex": [
       "$\\displaystyle -  \\frac{l^{2} m \\dot{u}_{1}}{12}\\hat{a}_z$"
      ],
      "text/plain": [
       "  2\n",
       "-l ⋅m⋅u₁̇\n",
       "───────── a_z\n",
       "    12"
      ]
     },
     "execution_count": 37,
     "metadata": {},
     "output_type": "execute_result"
    }
   ],
   "source": [
    "Ts_A = -(A.ang_acc_in(N).dot(I_A_Ao) +\n",
    "         me.cross(A.ang_vel_in(N), I_A_Ao).dot(A.ang_vel_in(N)))\n",
    "Ts_A"
   ]
  },
  {
   "cell_type": "code",
   "execution_count": 38,
   "id": "ea2111e3",
   "metadata": {
    "execution": {
     "iopub.execute_input": "2025-09-11T11:33:56.953846Z",
     "iopub.status.busy": "2025-09-11T11:33:56.953704Z",
     "iopub.status.idle": "2025-09-11T11:33:56.979412Z",
     "shell.execute_reply": "2025-09-11T11:33:56.978946Z"
    }
   },
   "outputs": [
    {
     "data": {
      "text/latex": [
       "$\\displaystyle (- \\frac{l^{2} m u_{1}^{2} \\sin{\\left(q_{2} \\right)} \\cos{\\left(q_{2} \\right)}}{12} - \\frac{l^{2} m \\dot{u}_{2}}{12})\\hat{b}_x + (- \\frac{l^{2} m \\left(- u_{1} u_{2} \\sin{\\left(q_{2} \\right)} + \\cos{\\left(q_{2} \\right)} \\dot{u}_{1}\\right)}{12} + \\frac{l^{2} m u_{1} u_{2} \\sin{\\left(q_{2} \\right)}}{12})\\hat{b}_z$"
      ],
      "text/plain": [
       "⎛   2     2                    2     ⎞       ⎛   2\n",
       "⎜  l ⋅m⋅u₁ ⋅sin(q₂)⋅cos(q₂)   l ⋅m⋅u₂̇⎟       ⎜  l ⋅m⋅(-u₁⋅u₂⋅sin(q₂) + cos(q₂\n",
       "⎜- ──────────────────────── - ───────⎟ b_x + ⎜- ──────────────────────────────\n",
       "⎝             12                 12  ⎠       ⎝                  12\n",
       "\n",
       "        2                ⎞\n",
       ")⋅u₁̇)   l ⋅m⋅u₁⋅u₂⋅sin(q₂)⎟\n",
       "──── + ──────────────────⎟ b_z\n",
       "               12        ⎠"
      ]
     },
     "execution_count": 38,
     "metadata": {},
     "output_type": "execute_result"
    }
   ],
   "source": [
    "Ts_B = -(B.ang_acc_in(N).dot(I_B_Bo) +\n",
    "         me.cross(B.ang_vel_in(N), I_B_Bo).dot(B.ang_vel_in(N)))\n",
    "Ts_B"
   ]
  },
  {
   "cell_type": "code",
   "execution_count": 39,
   "id": "a3e51612",
   "metadata": {
    "execution": {
     "iopub.execute_input": "2025-09-11T11:33:56.980609Z",
     "iopub.status.busy": "2025-09-11T11:33:56.980466Z",
     "iopub.status.idle": "2025-09-11T11:33:56.992363Z",
     "shell.execute_reply": "2025-09-11T11:33:56.991883Z"
    }
   },
   "outputs": [],
   "source": [
    "F1s_A = v_Ao_1.dot(Rs_Ao) + w_A_1.dot(Ts_A)\n",
    "F1s_B = v_Bo_1.dot(Rs_Bo) + w_B_1.dot(Ts_B)\n",
    "F2s_A = v_Ao_2.dot(Rs_Ao) + w_A_2.dot(Ts_A)\n",
    "F2s_B = v_Bo_2.dot(Rs_Bo) + w_B_2.dot(Ts_B)"
   ]
  },
  {
   "cell_type": "code",
   "execution_count": 40,
   "id": "3b61f560",
   "metadata": {
    "execution": {
     "iopub.execute_input": "2025-09-11T11:33:56.993568Z",
     "iopub.status.busy": "2025-09-11T11:33:56.993427Z",
     "iopub.status.idle": "2025-09-11T11:33:57.003510Z",
     "shell.execute_reply": "2025-09-11T11:33:57.003121Z"
    }
   },
   "outputs": [
    {
     "data": {
      "text/latex": [
       "$\\displaystyle \\left[\\begin{matrix}- \\frac{4 l^{2} m \\dot{u}_{1}}{3} + \\left(- \\frac{l^{2} m \\left(- u_{1} u_{2} \\sin{\\left(q_{2} \\right)} + \\cos{\\left(q_{2} \\right)} \\dot{u}_{1}\\right)}{12} + \\frac{l^{2} m u_{1} u_{2} \\sin{\\left(q_{2} \\right)}}{12}\\right) \\cos{\\left(q_{2} \\right)}\\\\- \\frac{l^{2} m u_{1}^{2} \\sin{\\left(q_{2} \\right)} \\cos{\\left(q_{2} \\right)}}{12} - \\frac{l^{2} m \\dot{u}_{2}}{12}\\end{matrix}\\right]$"
      ],
      "text/plain": [
       "⎡     2        ⎛   2                                    2                ⎞    \n",
       "⎢  4⋅l ⋅m⋅u₁̇   ⎜  l ⋅m⋅(-u₁⋅u₂⋅sin(q₂) + cos(q₂)⋅u₁̇)   l ⋅m⋅u₁⋅u₂⋅sin(q₂)⎟  \n",
       "⎢- ───────── + ⎜- ────────────────────────────────── + ──────────────────⎟⋅cos\n",
       "⎢      3       ⎝                  12                           12        ⎠    \n",
       "⎢                                                                             \n",
       "⎢                         2     2                    2                        \n",
       "⎢                        l ⋅m⋅u₁ ⋅sin(q₂)⋅cos(q₂)   l ⋅m⋅u₂̇                  \n",
       "⎢                      - ──────────────────────── - ───────                   \n",
       "⎣                                   12                 12                     \n",
       "\n",
       "    ⎤\n",
       "      ⎥\n",
       "(q₂)⎥\n",
       "    ⎥\n",
       "    ⎥\n",
       "    ⎥\n",
       "     ⎥\n",
       "    ⎥\n",
       "    ⎦"
      ]
     },
     "execution_count": 40,
     "metadata": {},
     "output_type": "execute_result"
    }
   ],
   "source": [
    "F1s = F1s_A + F1s_B\n",
    "F2s = F2s_A + F2s_B\n",
    "\n",
    "Frs = sm.Matrix([F1s, F2s])\n",
    "Frs"
   ]
  }
 ],
 "metadata": {
  "kernelspec": {
   "display_name": "Python 3 (ipykernel)",
   "language": "python",
   "name": "python3"
  },
  "language_info": {
   "codemirror_mode": {
    "name": "ipython",
    "version": 3
   },
   "file_extension": ".py",
   "mimetype": "text/x-python",
   "name": "python",
   "nbconvert_exporter": "python",
   "pygments_lexer": "ipython3",
   "version": "3.11.13"
  }
 },
 "nbformat": 4,
 "nbformat_minor": 5
}