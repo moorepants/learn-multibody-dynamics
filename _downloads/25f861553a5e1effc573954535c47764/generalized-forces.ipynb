{
 "cells": [
  {
   "cell_type": "code",
   "execution_count": 1,
   "id": "f547d8e7",
   "metadata": {
    "execution": {
     "iopub.execute_input": "2025-09-25T05:52:01.885638Z",
     "iopub.status.busy": "2025-09-25T05:52:01.885480Z",
     "iopub.status.idle": "2025-09-25T05:52:02.245514Z",
     "shell.execute_reply": "2025-09-25T05:52:02.244903Z"
    }
   },
   "outputs": [],
   "source": [
    "import sympy as sm\n",
    "import sympy.physics.mechanics as me\n",
    "me.init_vprinting(use_latex='mathjax')"
   ]
  },
  {
   "cell_type": "code",
   "execution_count": 2,
   "id": "37ce5f34",
   "metadata": {
    "execution": {
     "iopub.execute_input": "2025-09-25T05:52:02.247364Z",
     "iopub.status.busy": "2025-09-25T05:52:02.247122Z",
     "iopub.status.idle": "2025-09-25T05:52:02.250776Z",
     "shell.execute_reply": "2025-09-25T05:52:02.250277Z"
    }
   },
   "outputs": [],
   "source": [
    "class ReferenceFrame(me.ReferenceFrame):\n",
    "\n",
    "    def __init__(self, *args, **kwargs):\n",
    "\n",
    "        kwargs.pop('latexs', None)\n",
    "\n",
    "        lab = args[0].lower()\n",
    "        tex = r'\\hat{{{}}}_{}'\n",
    "\n",
    "        super(ReferenceFrame, self).__init__(*args,\n",
    "                                             latexs=(tex.format(lab, 'x'),\n",
    "                                                     tex.format(lab, 'y'),\n",
    "                                                     tex.format(lab, 'z')),\n",
    "                                             **kwargs)\n",
    "me.ReferenceFrame = ReferenceFrame"
   ]
  },
  {
   "cell_type": "code",
   "execution_count": 3,
   "id": "563eb1f2",
   "metadata": {
    "execution": {
     "iopub.execute_input": "2025-09-25T05:52:02.252229Z",
     "iopub.status.busy": "2025-09-25T05:52:02.252047Z",
     "iopub.status.idle": "2025-09-25T05:52:02.261391Z",
     "shell.execute_reply": "2025-09-25T05:52:02.260837Z"
    }
   },
   "outputs": [],
   "source": [
    "L = sm.symbols('L')\n",
    "q1, q2, u1, u2 = me.dynamicsymbols('q1, q2, u1, u2')\n",
    "\n",
    "N = me.ReferenceFrame('N')\n",
    "R = me.ReferenceFrame('R')\n",
    "\n",
    "R.orient_axis(N, q2, N.z)"
   ]
  },
  {
   "cell_type": "code",
   "execution_count": 4,
   "id": "369782fe",
   "metadata": {
    "execution": {
     "iopub.execute_input": "2025-09-25T05:52:02.262856Z",
     "iopub.status.busy": "2025-09-25T05:52:02.262690Z",
     "iopub.status.idle": "2025-09-25T05:52:02.267425Z",
     "shell.execute_reply": "2025-09-25T05:52:02.266929Z"
    }
   },
   "outputs": [
    {
     "data": {
      "text/latex": [
       "$\\displaystyle u_{1}\\hat{n}_x$"
      ],
      "text/plain": [
       "u₁ n_x"
      ]
     },
     "execution_count": 4,
     "metadata": {},
     "output_type": "execute_result"
    }
   ],
   "source": [
    "N_v_A = u1*N.x\n",
    "N_v_A"
   ]
  },
  {
   "cell_type": "code",
   "execution_count": 5,
   "id": "eaedfba7",
   "metadata": {
    "execution": {
     "iopub.execute_input": "2025-09-25T05:52:02.268856Z",
     "iopub.status.busy": "2025-09-25T05:52:02.268699Z",
     "iopub.status.idle": "2025-09-25T05:52:02.272791Z",
     "shell.execute_reply": "2025-09-25T05:52:02.272373Z"
    }
   },
   "outputs": [
    {
     "data": {
      "text/latex": [
       "$\\displaystyle u_{2}\\hat{n}_z$"
      ],
      "text/plain": [
       "u₂ n_z"
      ]
     },
     "execution_count": 5,
     "metadata": {},
     "output_type": "execute_result"
    }
   ],
   "source": [
    "N_w_R = u2*N.z\n",
    "N_w_R"
   ]
  },
  {
   "cell_type": "code",
   "execution_count": 6,
   "id": "e5f57659",
   "metadata": {
    "execution": {
     "iopub.execute_input": "2025-09-25T05:52:02.274079Z",
     "iopub.status.busy": "2025-09-25T05:52:02.273939Z",
     "iopub.status.idle": "2025-09-25T05:52:02.283928Z",
     "shell.execute_reply": "2025-09-25T05:52:02.283508Z"
    }
   },
   "outputs": [
    {
     "data": {
      "text/latex": [
       "$\\displaystyle (L u_{2} \\sin{\\left(q_{2} \\right)} + u_{1})\\hat{n}_x -  L u_{2} \\cos{\\left(q_{2} \\right)}\\hat{n}_y$"
      ],
      "text/plain": [
       "(L⋅u₂⋅sin(q₂) + u₁) n_x + -L⋅u₂⋅cos(q₂) n_y"
      ]
     },
     "execution_count": 6,
     "metadata": {},
     "output_type": "execute_result"
    }
   ],
   "source": [
    "r_A_B = -L*R.x\n",
    "N_v_B = N_v_A + me.cross(N_w_R, r_A_B)\n",
    "\n",
    "N_v_B.express(N)"
   ]
  },
  {
   "cell_type": "code",
   "execution_count": 7,
   "id": "4f9746f2",
   "metadata": {
    "execution": {
     "iopub.execute_input": "2025-09-25T05:52:02.285408Z",
     "iopub.status.busy": "2025-09-25T05:52:02.285249Z",
     "iopub.status.idle": "2025-09-25T05:52:02.296391Z",
     "shell.execute_reply": "2025-09-25T05:52:02.295861Z"
    }
   },
   "outputs": [
    {
     "data": {
      "text/latex": [
       "$\\displaystyle \\left( \\hat{n}_x, \\  0\\right)$"
      ],
      "text/plain": [
       "(n_x, 0)"
      ]
     },
     "execution_count": 7,
     "metadata": {},
     "output_type": "execute_result"
    }
   ],
   "source": [
    "v_A_1 = N_v_A.diff(u1, N)\n",
    "v_A_2 = N_v_A.diff(u2, N)\n",
    "\n",
    "v_A_1, v_A_2"
   ]
  },
  {
   "cell_type": "code",
   "execution_count": 8,
   "id": "040e2f09",
   "metadata": {
    "execution": {
     "iopub.execute_input": "2025-09-25T05:52:02.297884Z",
     "iopub.status.busy": "2025-09-25T05:52:02.297712Z",
     "iopub.status.idle": "2025-09-25T05:52:02.306308Z",
     "shell.execute_reply": "2025-09-25T05:52:02.305765Z"
    }
   },
   "outputs": [
    {
     "data": {
      "text/latex": [
       "$\\displaystyle \\left( \\hat{n}_x, \\  -  L\\hat{r}_y\\right)$"
      ],
      "text/plain": [
       "(n_x, -L r_y)"
      ]
     },
     "execution_count": 8,
     "metadata": {},
     "output_type": "execute_result"
    }
   ],
   "source": [
    "v_B_1 = N_v_B.diff(u1, N)\n",
    "v_B_2 = N_v_B.diff(u2, N)\n",
    "\n",
    "v_B_1, v_B_2"
   ]
  },
  {
   "cell_type": "code",
   "execution_count": 9,
   "id": "300cb962",
   "metadata": {
    "execution": {
     "iopub.execute_input": "2025-09-25T05:52:02.307780Z",
     "iopub.status.busy": "2025-09-25T05:52:02.307621Z",
     "iopub.status.idle": "2025-09-25T05:52:02.312578Z",
     "shell.execute_reply": "2025-09-25T05:52:02.312159Z"
    }
   },
   "outputs": [
    {
     "data": {
      "text/latex": [
       "$\\displaystyle \\left( 0, \\  \\hat{n}_z\\right)$"
      ],
      "text/plain": [
       "(0, n_z)"
      ]
     },
     "execution_count": 9,
     "metadata": {},
     "output_type": "execute_result"
    }
   ],
   "source": [
    "w_R_1 = N_w_R.diff(u1, N)\n",
    "w_R_2 = N_w_R.diff(u2, N)\n",
    "\n",
    "w_R_1, w_R_2"
   ]
  },
  {
   "cell_type": "code",
   "execution_count": 10,
   "id": "3d731ce5",
   "metadata": {
    "execution": {
     "iopub.execute_input": "2025-09-25T05:52:02.313924Z",
     "iopub.status.busy": "2025-09-25T05:52:02.313776Z",
     "iopub.status.idle": "2025-09-25T05:52:02.322915Z",
     "shell.execute_reply": "2025-09-25T05:52:02.322489Z"
    }
   },
   "outputs": [
    {
     "data": {
      "text/latex": [
       "$\\displaystyle \\left[ \\left[ \\hat{n}_x, \\  0\\right], \\  \\left[ \\hat{n}_x, \\  -  L\\hat{r}_y\\right], \\  \\left[ 0, \\  \\hat{n}_z\\right]\\right]$"
      ],
      "text/plain": [
       "[[n_x, 0], [n_x, -L r_y], [0, n_z]]"
      ]
     },
     "execution_count": 10,
     "metadata": {},
     "output_type": "execute_result"
    }
   ],
   "source": [
    "me.partial_velocity((N_v_A, N_v_B, N_w_R), (u1, u2), N)"
   ]
  },
  {
   "cell_type": "code",
   "execution_count": 11,
   "id": "19b9a6a6",
   "metadata": {
    "execution": {
     "iopub.execute_input": "2025-09-25T05:52:02.324318Z",
     "iopub.status.busy": "2025-09-25T05:52:02.324138Z",
     "iopub.status.idle": "2025-09-25T05:52:02.341627Z",
     "shell.execute_reply": "2025-09-25T05:52:02.341069Z"
    }
   },
   "outputs": [
    {
     "data": {
      "text/latex": [
       "$\\displaystyle (u_{x} \\cos{\\left(\\theta \\right)} + u_{y} \\sin{\\left(\\theta \\right)})\\hat{a}_x + (- u_{x} \\sin{\\left(\\theta \\right)} + u_{y} \\cos{\\left(\\theta \\right)})\\hat{a}_y$"
      ],
      "text/plain": [
       "(uₓ⋅cos(θ) + u_y⋅sin(θ)) a_x + (-uₓ⋅sin(θ) + u_y⋅cos(θ)) a_y"
      ]
     },
     "execution_count": 11,
     "metadata": {},
     "output_type": "execute_result"
    }
   ],
   "source": [
    "x, y, theta = me.dynamicsymbols('x, y, theta')\n",
    "ux, uy, utheta = me.dynamicsymbols('u_x, u_y, u_theta')\n",
    "\n",
    "N = me.ReferenceFrame('N')\n",
    "A = me.ReferenceFrame('A')\n",
    "\n",
    "A.orient_axis(N, theta, N.z)\n",
    "\n",
    "O = me.Point('O')\n",
    "P = me.Point('P')\n",
    "\n",
    "P.set_pos(O, x*N.x + y*N.y)\n",
    "\n",
    "O.set_vel(N, 0)\n",
    "\n",
    "N_v_P = P.vel(N).express(A).xreplace({x.diff(): ux, y.diff(): uy})\n",
    "N_v_P"
   ]
  },
  {
   "cell_type": "code",
   "execution_count": 12,
   "id": "4aeb0804",
   "metadata": {
    "execution": {
     "iopub.execute_input": "2025-09-25T05:52:02.343224Z",
     "iopub.status.busy": "2025-09-25T05:52:02.343012Z",
     "iopub.status.idle": "2025-09-25T05:52:02.351351Z",
     "shell.execute_reply": "2025-09-25T05:52:02.350799Z"
    }
   },
   "outputs": [
    {
     "data": {
      "text/latex": [
       "$\\displaystyle - u_{x} \\sin{\\left(\\theta \\right)} + u_{y} \\cos{\\left(\\theta \\right)}$"
      ],
      "text/plain": [
       "-uₓ⋅sin(θ) + u_y⋅cos(θ)"
      ]
     },
     "execution_count": 12,
     "metadata": {},
     "output_type": "execute_result"
    }
   ],
   "source": [
    "fn = N_v_P.dot(A.y)\n",
    "fn"
   ]
  },
  {
   "cell_type": "code",
   "execution_count": 13,
   "id": "729f8c0f",
   "metadata": {
    "execution": {
     "iopub.execute_input": "2025-09-25T05:52:02.352842Z",
     "iopub.status.busy": "2025-09-25T05:52:02.352675Z",
     "iopub.status.idle": "2025-09-25T05:52:02.399776Z",
     "shell.execute_reply": "2025-09-25T05:52:02.399194Z"
    }
   },
   "outputs": [
    {
     "data": {
      "text/latex": [
       "$\\displaystyle \\frac{u_{y}}{\\tan{\\left(\\theta \\right)}}$"
      ],
      "text/plain": [
       " u_y  \n",
       "──────\n",
       "tan(θ)"
      ]
     },
     "execution_count": 13,
     "metadata": {},
     "output_type": "execute_result"
    }
   ],
   "source": [
    "ux_sol = sm.solve(fn, ux)[0]\n",
    "ux_sol"
   ]
  },
  {
   "cell_type": "code",
   "execution_count": 14,
   "id": "7e9f8014",
   "metadata": {
    "execution": {
     "iopub.execute_input": "2025-09-25T05:52:02.401349Z",
     "iopub.status.busy": "2025-09-25T05:52:02.401173Z",
     "iopub.status.idle": "2025-09-25T05:52:02.473590Z",
     "shell.execute_reply": "2025-09-25T05:52:02.473135Z"
    }
   },
   "outputs": [
    {
     "data": {
      "text/latex": [
       "$\\displaystyle \\frac{1}{\\sin{\\left(\\theta \\right)}}\\hat{a}_x$"
      ],
      "text/plain": [
       "  1\n",
       "────── a_x\n",
       "sin(θ)"
      ]
     },
     "execution_count": 14,
     "metadata": {},
     "output_type": "execute_result"
    }
   ],
   "source": [
    "N_v_P.xreplace({ux: ux_sol}).diff(uy, N).simplify()"
   ]
  },
  {
   "cell_type": "code",
   "execution_count": 15,
   "id": "92daff98",
   "metadata": {
    "execution": {
     "iopub.execute_input": "2025-09-25T05:52:02.474989Z",
     "iopub.status.busy": "2025-09-25T05:52:02.474842Z",
     "iopub.status.idle": "2025-09-25T05:52:02.479317Z",
     "shell.execute_reply": "2025-09-25T05:52:02.478927Z"
    }
   },
   "outputs": [
    {
     "data": {
      "text/latex": [
       "$\\displaystyle \\frac{1}{\\tan{\\left(\\theta \\right)}}$"
      ],
      "text/plain": [
       "  1   \n",
       "──────\n",
       "tan(θ)"
      ]
     },
     "execution_count": 15,
     "metadata": {},
     "output_type": "execute_result"
    }
   ],
   "source": [
    "An = ux_sol.diff(uy)\n",
    "An"
   ]
  },
  {
   "cell_type": "code",
   "execution_count": 16,
   "id": "0122c2a8",
   "metadata": {
    "execution": {
     "iopub.execute_input": "2025-09-25T05:52:02.480580Z",
     "iopub.status.busy": "2025-09-25T05:52:02.480438Z",
     "iopub.status.idle": "2025-09-25T05:52:02.527136Z",
     "shell.execute_reply": "2025-09-25T05:52:02.526687Z"
    }
   },
   "outputs": [
    {
     "data": {
      "text/latex": [
       "$\\displaystyle \\frac{1}{\\sin{\\left(\\theta \\right)}}\\hat{a}_x$"
      ],
      "text/plain": [
       "  1\n",
       "────── a_x\n",
       "sin(θ)"
      ]
     },
     "execution_count": 16,
     "metadata": {},
     "output_type": "execute_result"
    }
   ],
   "source": [
    "(N_v_P.diff(uy, N) + N_v_P.diff(ux, N)*An).simplify()"
   ]
  },
  {
   "cell_type": "code",
   "execution_count": 17,
   "id": "a414b471",
   "metadata": {
    "execution": {
     "iopub.execute_input": "2025-09-25T05:52:02.528534Z",
     "iopub.status.busy": "2025-09-25T05:52:02.528375Z",
     "iopub.status.idle": "2025-09-25T05:52:02.545123Z",
     "shell.execute_reply": "2025-09-25T05:52:02.544710Z"
    }
   },
   "outputs": [
    {
     "data": {
      "text/latex": [
       "$\\displaystyle \\left( l \\dot{q}_{1}\\hat{a}_x, \\  l \\dot{q}_{1}\\hat{a}_x + l \\dot{q}_{2}\\hat{b}_x\\right)$"
      ],
      "text/plain": [
       "(l⋅q₁̇ a_x, l⋅q₁̇ a_x + l⋅q₂̇ b_x)"
      ]
     },
     "execution_count": 17,
     "metadata": {},
     "output_type": "execute_result"
    }
   ],
   "source": [
    "l = sm.symbols('l')\n",
    "q1, q2, u1, u2 = me.dynamicsymbols('q1, q2, u1, u2')\n",
    "\n",
    "N = me.ReferenceFrame('N')\n",
    "A = me.ReferenceFrame('A')\n",
    "B = me.ReferenceFrame('B')\n",
    "\n",
    "A.orient_axis(N, q1, N.z)\n",
    "B.orient_axis(N, q2, N.z)\n",
    "\n",
    "O = me.Point('O')\n",
    "P1 = me.Point('P1')\n",
    "P2 = me.Point('P2')\n",
    "\n",
    "O.set_vel(N, 0)\n",
    "\n",
    "P1.set_pos(O, -l*A.y)\n",
    "P2.set_pos(P1, -l*B.y)\n",
    "\n",
    "P1.v2pt_theory(O, N, A)\n",
    "P2.v2pt_theory(P1, N, B)\n",
    "\n",
    "P1.vel(N), P2.vel(N)"
   ]
  },
  {
   "cell_type": "code",
   "execution_count": 18,
   "id": "57f81ddb",
   "metadata": {
    "execution": {
     "iopub.execute_input": "2025-09-25T05:52:02.546549Z",
     "iopub.status.busy": "2025-09-25T05:52:02.546393Z",
     "iopub.status.idle": "2025-09-25T05:52:02.552256Z",
     "shell.execute_reply": "2025-09-25T05:52:02.551739Z"
    }
   },
   "outputs": [
    {
     "data": {
      "text/latex": [
       "$\\displaystyle \\left( l u_{1}\\hat{a}_x, \\  l u_{1}\\hat{a}_x + l u_{2}\\hat{b}_x\\right)$"
      ],
      "text/plain": [
       "(l⋅u₁ a_x, l⋅u₁ a_x + l⋅u₂ b_x)"
      ]
     },
     "execution_count": 18,
     "metadata": {},
     "output_type": "execute_result"
    }
   ],
   "source": [
    "repl = {q1.diff(): u1, q2.diff(): u2}\n",
    "\n",
    "N_v_P1 = P1.vel(N).xreplace(repl)\n",
    "N_v_P2 = P2.vel(N).xreplace(repl)\n",
    "\n",
    "N_v_P1, N_v_P2"
   ]
  },
  {
   "cell_type": "code",
   "execution_count": 19,
   "id": "57dd7e1f",
   "metadata": {
    "execution": {
     "iopub.execute_input": "2025-09-25T05:52:02.553517Z",
     "iopub.status.busy": "2025-09-25T05:52:02.553379Z",
     "iopub.status.idle": "2025-09-25T05:52:02.563032Z",
     "shell.execute_reply": "2025-09-25T05:52:02.562634Z"
    }
   },
   "outputs": [
    {
     "data": {
      "text/latex": [
       "$\\displaystyle \\left( l\\hat{a}_x, \\  0, \\  l\\hat{a}_x, \\  l\\hat{b}_x\\right)$"
      ],
      "text/plain": [
       "(l a_x, 0, l a_x, l b_x)"
      ]
     },
     "execution_count": 19,
     "metadata": {},
     "output_type": "execute_result"
    }
   ],
   "source": [
    "v_P1_1 = N_v_P1.diff(u1, N)\n",
    "v_P1_2 = N_v_P1.diff(u2, N)\n",
    "v_P2_1 = N_v_P2.diff(u1, N)\n",
    "v_P2_2 = N_v_P2.diff(u2, N)\n",
    "v_P1_1, v_P1_2, v_P2_1, v_P2_2"
   ]
  },
  {
   "cell_type": "code",
   "execution_count": 20,
   "id": "1272ef90",
   "metadata": {
    "execution": {
     "iopub.execute_input": "2025-09-25T05:52:02.564345Z",
     "iopub.status.busy": "2025-09-25T05:52:02.564201Z",
     "iopub.status.idle": "2025-09-25T05:52:02.571486Z",
     "shell.execute_reply": "2025-09-25T05:52:02.570964Z"
    }
   },
   "outputs": [
    {
     "data": {
      "text/latex": [
       "$\\displaystyle -  g m_{1}\\hat{n}_y + T_{1}\\hat{a}_y -  T_{2}\\hat{b}_y$"
      ],
      "text/plain": [
       "-g⋅m₁ n_y + T₁ a_y + -T₂ b_y"
      ]
     },
     "execution_count": 20,
     "metadata": {},
     "output_type": "execute_result"
    }
   ],
   "source": [
    "T1, T2 = me.dynamicsymbols('T1, T2')\n",
    "m1, m2, g = sm.symbols('m1, m2, g')\n",
    "\n",
    "R1 = -m1*g*N.y + T1*A.y - T2*B.y\n",
    "R1"
   ]
  },
  {
   "cell_type": "code",
   "execution_count": 21,
   "id": "1f23fd05",
   "metadata": {
    "execution": {
     "iopub.execute_input": "2025-09-25T05:52:02.572893Z",
     "iopub.status.busy": "2025-09-25T05:52:02.572740Z",
     "iopub.status.idle": "2025-09-25T05:52:02.577590Z",
     "shell.execute_reply": "2025-09-25T05:52:02.577088Z"
    }
   },
   "outputs": [
    {
     "data": {
      "text/latex": [
       "$\\displaystyle -  g m_{2}\\hat{n}_y + T_{2}\\hat{b}_y$"
      ],
      "text/plain": [
       "-g⋅m₂ n_y + T₂ b_y"
      ]
     },
     "execution_count": 21,
     "metadata": {},
     "output_type": "execute_result"
    }
   ],
   "source": [
    "R2 = -m2*g*N.y + T2*B.y\n",
    "R2"
   ]
  },
  {
   "cell_type": "code",
   "execution_count": 22,
   "id": "7168d5ef",
   "metadata": {
    "execution": {
     "iopub.execute_input": "2025-09-25T05:52:02.578987Z",
     "iopub.status.busy": "2025-09-25T05:52:02.578838Z",
     "iopub.status.idle": "2025-09-25T05:52:02.594757Z",
     "shell.execute_reply": "2025-09-25T05:52:02.594361Z"
    }
   },
   "outputs": [
    {
     "data": {
      "text/latex": [
       "$\\displaystyle - g l m_{1} \\sin{\\left(q_{1} \\right)} - g l m_{2} \\sin{\\left(q_{1} \\right)}$"
      ],
      "text/plain": [
       "-g⋅l⋅m₁⋅sin(q₁) - g⋅l⋅m₂⋅sin(q₁)"
      ]
     },
     "execution_count": 22,
     "metadata": {},
     "output_type": "execute_result"
    }
   ],
   "source": [
    "F1 = me.dot(v_P1_1, R1) + me.dot(v_P2_1, R2)\n",
    "F1"
   ]
  },
  {
   "cell_type": "code",
   "execution_count": 23,
   "id": "92069deb",
   "metadata": {
    "execution": {
     "iopub.execute_input": "2025-09-25T05:52:02.596081Z",
     "iopub.status.busy": "2025-09-25T05:52:02.595936Z",
     "iopub.status.idle": "2025-09-25T05:52:02.600787Z",
     "shell.execute_reply": "2025-09-25T05:52:02.600293Z"
    }
   },
   "outputs": [
    {
     "data": {
      "text/latex": [
       "$\\displaystyle - g l m_{2} \\sin{\\left(q_{2} \\right)}$"
      ],
      "text/plain": [
       "-g⋅l⋅m₂⋅sin(q₂)"
      ]
     },
     "execution_count": 23,
     "metadata": {},
     "output_type": "execute_result"
    }
   ],
   "source": [
    "F2 = me.dot(v_P1_2, R1) + me.dot(v_P2_2, R2)\n",
    "F2"
   ]
  },
  {
   "cell_type": "code",
   "execution_count": 24,
   "id": "73b559a1",
   "metadata": {
    "execution": {
     "iopub.execute_input": "2025-09-25T05:52:02.602130Z",
     "iopub.status.busy": "2025-09-25T05:52:02.601984Z",
     "iopub.status.idle": "2025-09-25T05:52:02.618715Z",
     "shell.execute_reply": "2025-09-25T05:52:02.618262Z"
    }
   },
   "outputs": [
    {
     "data": {
      "text/latex": [
       "$\\displaystyle \\left( \\frac{l u_{1}}{2}\\hat{a}_y, \\  l u_{1}\\hat{a}_y, \\  u_{1}\\hat{n}_z, \\  u_{2}\\hat{a}_x + u_{1}\\hat{n}_z\\right)$"
      ],
      "text/plain": [
       "⎛  l⋅u₁  , l⋅u₁ a_y, u₁ n_z, u₂ a_x + u₁ n_z⎞\n",
       "⎜──── a_y                                   ⎟\n",
       "⎝    2                                      ⎠"
      ]
     },
     "execution_count": 24,
     "metadata": {},
     "output_type": "execute_result"
    }
   ],
   "source": [
    "m, g, k, l = sm.symbols('m, g, k, l')\n",
    "q1, q2, u1, u2 = me.dynamicsymbols('q1, q2, u1, u2')\n",
    "\n",
    "N = me.ReferenceFrame('N')\n",
    "A = me.ReferenceFrame('A')\n",
    "B = me.ReferenceFrame('B')\n",
    "\n",
    "A.orient_axis(N, q1, N.z)\n",
    "B.orient_axis(A, q2, A.x)\n",
    "\n",
    "A.set_ang_vel(N, u1*N.z)\n",
    "B.set_ang_vel(A, u2*A.x)\n",
    "\n",
    "O = me.Point('O')\n",
    "Ao = me.Point('A_O')\n",
    "Bo = me.Point('B_O')\n",
    "\n",
    "Ao.set_pos(O, l/2*A.x)\n",
    "Bo.set_pos(O, l*A.x)\n",
    "\n",
    "O.set_vel(N, 0)\n",
    "Ao.v2pt_theory(O, N, A)\n",
    "Bo.v2pt_theory(O, N, A)\n",
    "\n",
    "Ao.vel(N), Bo.vel(N), A.ang_vel_in(N), B.ang_vel_in(N)"
   ]
  },
  {
   "cell_type": "code",
   "execution_count": 25,
   "id": "3b3cc7e0",
   "metadata": {
    "execution": {
     "iopub.execute_input": "2025-09-25T05:52:02.620191Z",
     "iopub.status.busy": "2025-09-25T05:52:02.620002Z",
     "iopub.status.idle": "2025-09-25T05:52:02.630079Z",
     "shell.execute_reply": "2025-09-25T05:52:02.629619Z"
    }
   },
   "outputs": [
    {
     "data": {
      "text/latex": [
       "$\\displaystyle \\left( \\frac{l}{2}\\hat{a}_y, \\  0, \\  l\\hat{a}_y, \\  0\\right)$"
      ],
      "text/plain": [
       "⎛  l  , 0, l a_y, 0⎞\n",
       "⎜─ a_y             ⎟\n",
       "⎝  2               ⎠"
      ]
     },
     "execution_count": 25,
     "metadata": {},
     "output_type": "execute_result"
    }
   ],
   "source": [
    "v_Ao_1 = Ao.vel(N).diff(u1, N)\n",
    "v_Ao_2 = Ao.vel(N).diff(u2, N)\n",
    "v_Bo_1 = Bo.vel(N).diff(u1, N)\n",
    "v_Bo_2 = Bo.vel(N).diff(u2, N)\n",
    "\n",
    "v_Ao_1, v_Ao_2, v_Bo_1, v_Bo_2"
   ]
  },
  {
   "cell_type": "code",
   "execution_count": 26,
   "id": "f9c1bb42",
   "metadata": {
    "execution": {
     "iopub.execute_input": "2025-09-25T05:52:02.631487Z",
     "iopub.status.busy": "2025-09-25T05:52:02.631308Z",
     "iopub.status.idle": "2025-09-25T05:52:02.640642Z",
     "shell.execute_reply": "2025-09-25T05:52:02.640077Z"
    }
   },
   "outputs": [
    {
     "data": {
      "text/latex": [
       "$\\displaystyle \\left( \\hat{n}_z, \\  0, \\  \\hat{n}_z, \\  \\hat{a}_x\\right)$"
      ],
      "text/plain": [
       "(n_z, 0, n_z, a_x)"
      ]
     },
     "execution_count": 26,
     "metadata": {},
     "output_type": "execute_result"
    }
   ],
   "source": [
    "w_A_1 = A.ang_vel_in(N).diff(u1, N)\n",
    "w_A_2 = A.ang_vel_in(N).diff(u2, N)\n",
    "w_B_1 = B.ang_vel_in(N).diff(u1, N)\n",
    "w_B_2 = B.ang_vel_in(N).diff(u2, N)\n",
    "\n",
    "w_A_1, w_A_2, w_B_1, w_B_2"
   ]
  },
  {
   "cell_type": "code",
   "execution_count": 27,
   "id": "e7bcf930",
   "metadata": {
    "execution": {
     "iopub.execute_input": "2025-09-25T05:52:02.642133Z",
     "iopub.status.busy": "2025-09-25T05:52:02.641951Z",
     "iopub.status.idle": "2025-09-25T05:52:02.647038Z",
     "shell.execute_reply": "2025-09-25T05:52:02.646515Z"
    }
   },
   "outputs": [
    {
     "data": {
      "text/latex": [
       "$\\displaystyle \\left( g m\\hat{n}_x, \\  g m\\hat{n}_x\\right)$"
      ],
      "text/plain": [
       "(g⋅m n_x, g⋅m n_x)"
      ]
     },
     "execution_count": 27,
     "metadata": {},
     "output_type": "execute_result"
    }
   ],
   "source": [
    "R_Ao = m*g*N.x\n",
    "R_Bo = m*g*N.x\n",
    "\n",
    "R_Ao, R_Bo"
   ]
  },
  {
   "cell_type": "code",
   "execution_count": 28,
   "id": "eb6fcfde",
   "metadata": {
    "execution": {
     "iopub.execute_input": "2025-09-25T05:52:02.648465Z",
     "iopub.status.busy": "2025-09-25T05:52:02.648299Z",
     "iopub.status.idle": "2025-09-25T05:52:02.655033Z",
     "shell.execute_reply": "2025-09-25T05:52:02.654531Z"
    }
   },
   "outputs": [
    {
     "data": {
      "text/latex": [
       "$\\displaystyle \\left( -  k q_{1}\\hat{n}_z + k q_{2}\\hat{a}_x, \\  -  k q_{2}\\hat{a}_x\\right)$"
      ],
      "text/plain": [
       "(-k⋅q₁ n_z + k⋅q₂ a_x, -k⋅q₂ a_x)"
      ]
     },
     "execution_count": 28,
     "metadata": {},
     "output_type": "execute_result"
    }
   ],
   "source": [
    "T_A = -k*q1*N.z + k*q2*A.x\n",
    "T_B = -k*q2*A.x\n",
    "\n",
    "T_A, T_B"
   ]
  },
  {
   "cell_type": "code",
   "execution_count": 29,
   "id": "e6f9506b",
   "metadata": {
    "execution": {
     "iopub.execute_input": "2025-09-25T05:52:02.656406Z",
     "iopub.status.busy": "2025-09-25T05:52:02.656253Z",
     "iopub.status.idle": "2025-09-25T05:52:02.665601Z",
     "shell.execute_reply": "2025-09-25T05:52:02.665076Z"
    }
   },
   "outputs": [
    {
     "data": {
      "text/latex": [
       "$\\displaystyle \\left( - \\frac{g l m \\sin{\\left(q_{1} \\right)}}{2} - k q_{1}, \\  - g l m \\sin{\\left(q_{1} \\right)}, \\  0, \\  - k q_{2}\\right)$"
      ],
      "text/plain": [
       "⎛  g⋅l⋅m⋅sin(q₁)                                 ⎞\n",
       "⎜- ───────────── - k⋅q₁, -g⋅l⋅m⋅sin(q₁), 0, -k⋅q₂⎟\n",
       "⎝        2                                       ⎠"
      ]
     },
     "execution_count": 29,
     "metadata": {},
     "output_type": "execute_result"
    }
   ],
   "source": [
    "F1_A = v_Ao_1.dot(R_Ao) + w_A_1.dot(T_A)\n",
    "F1_B = v_Bo_1.dot(R_Bo) + w_B_1.dot(T_B)\n",
    "F2_A = v_Ao_2.dot(R_Ao) + w_A_2.dot(T_A)\n",
    "F2_B = v_Bo_2.dot(R_Bo) + w_B_2.dot(T_B)\n",
    "\n",
    "F1_A, F1_B, F2_A, F2_B"
   ]
  },
  {
   "cell_type": "code",
   "execution_count": 30,
   "id": "af584b47",
   "metadata": {
    "execution": {
     "iopub.execute_input": "2025-09-25T05:52:02.666980Z",
     "iopub.status.busy": "2025-09-25T05:52:02.666817Z",
     "iopub.status.idle": "2025-09-25T05:52:02.672500Z",
     "shell.execute_reply": "2025-09-25T05:52:02.671990Z"
    }
   },
   "outputs": [
    {
     "data": {
      "text/latex": [
       "$\\displaystyle \\left[\\begin{matrix}- \\frac{3 g l m \\sin{\\left(q_{1} \\right)}}{2} - k q_{1}\\\\- k q_{2}\\end{matrix}\\right]$"
      ],
      "text/plain": [
       "⎡  3⋅g⋅l⋅m⋅sin(q₁)       ⎤\n",
       "⎢- ─────────────── - k⋅q₁⎥\n",
       "⎢         2              ⎥\n",
       "⎢                        ⎥\n",
       "⎣         -k⋅q₂          ⎦"
      ]
     },
     "execution_count": 30,
     "metadata": {},
     "output_type": "execute_result"
    }
   ],
   "source": [
    "F1 = F1_A + F1_B\n",
    "F2 = F2_A + F2_B\n",
    "\n",
    "Fr = sm.Matrix([F1, F2])\n",
    "Fr"
   ]
  },
  {
   "cell_type": "code",
   "execution_count": 31,
   "id": "ba55c2f9",
   "metadata": {
    "execution": {
     "iopub.execute_input": "2025-09-25T05:52:02.673820Z",
     "iopub.status.busy": "2025-09-25T05:52:02.673666Z",
     "iopub.status.idle": "2025-09-25T05:52:02.695889Z",
     "shell.execute_reply": "2025-09-25T05:52:02.695323Z"
    }
   },
   "outputs": [],
   "source": [
    "m, g, k, l = sm.symbols('m, g, k, l')\n",
    "q1, q2, u1, u2 = me.dynamicsymbols('q1, q2, u1, u2')\n",
    "\n",
    "N = me.ReferenceFrame('N')\n",
    "A = me.ReferenceFrame('A')\n",
    "B = me.ReferenceFrame('B')\n",
    "\n",
    "A.orient_axis(N, q1, N.z)\n",
    "B.orient_axis(A, q2, A.x)\n",
    "\n",
    "A.set_ang_vel(N, u1*N.z)\n",
    "B.set_ang_vel(A, u2*A.x)\n",
    "\n",
    "O = me.Point('O')\n",
    "Ao = me.Point('A_O')\n",
    "Bo = me.Point('B_O')\n",
    "\n",
    "Ao.set_pos(O, l/2*A.x)\n",
    "Bo.set_pos(O, l*A.x)\n",
    "\n",
    "O.set_vel(N, 0)\n",
    "Ao.v2pt_theory(O, N, A)\n",
    "Bo.v2pt_theory(O, N, A)\n",
    "\n",
    "v_Ao_1 = Ao.vel(N).diff(u1, N)\n",
    "v_Ao_2 = Ao.vel(N).diff(u2, N)\n",
    "v_Bo_1 = Bo.vel(N).diff(u1, N)\n",
    "v_Bo_2 = Bo.vel(N).diff(u2, N)\n",
    "\n",
    "w_A_1 = A.ang_vel_in(N).diff(u1, N)\n",
    "w_A_2 = A.ang_vel_in(N).diff(u2, N)\n",
    "w_B_1 = B.ang_vel_in(N).diff(u1, N)\n",
    "w_B_2 = B.ang_vel_in(N).diff(u2, N)"
   ]
  },
  {
   "cell_type": "code",
   "execution_count": 32,
   "id": "1faacfd6",
   "metadata": {
    "execution": {
     "iopub.execute_input": "2025-09-25T05:52:02.697407Z",
     "iopub.status.busy": "2025-09-25T05:52:02.697229Z",
     "iopub.status.idle": "2025-09-25T05:52:02.708835Z",
     "shell.execute_reply": "2025-09-25T05:52:02.708428Z"
    }
   },
   "outputs": [
    {
     "data": {
      "text/latex": [
       "$\\displaystyle \\left( -  \\frac{l u_{1}^{2}}{2}\\hat{a}_x + \\frac{l \\dot{u}_{1}}{2}\\hat{a}_y, \\  -  l u_{1}^{2}\\hat{a}_x + l \\dot{u}_{1}\\hat{a}_y\\right)$"
      ],
      "text/plain": [
       "⎛             2        ,              2       ⎞\n",
       "⎜ -l⋅u₁         l⋅u₁̇    -l⋅u₁  a_x + l⋅u₁̇ a_y⎟\n",
       "⎜─────── a_x + ──── a_y                       ⎟\n",
       "⎝      2           2                          ⎠"
      ]
     },
     "execution_count": 32,
     "metadata": {},
     "output_type": "execute_result"
    }
   ],
   "source": [
    "Ao.acc(N), Bo.acc(N)"
   ]
  },
  {
   "cell_type": "code",
   "execution_count": 33,
   "id": "dea19d01",
   "metadata": {
    "execution": {
     "iopub.execute_input": "2025-09-25T05:52:02.710257Z",
     "iopub.status.busy": "2025-09-25T05:52:02.710075Z",
     "iopub.status.idle": "2025-09-25T05:52:02.719534Z",
     "shell.execute_reply": "2025-09-25T05:52:02.719101Z"
    }
   },
   "outputs": [
    {
     "data": {
      "text/latex": [
       "$\\displaystyle \\left( \\dot{u}_{1}\\hat{n}_z, \\  \\dot{u}_{2}\\hat{a}_x + u_{1} u_{2}\\hat{a}_y + \\dot{u}_{1}\\hat{n}_z\\right)$"
      ],
      "text/plain": [
       "(u₁̇ n_z, u₂̇ a_x + u₁⋅u₂ a_y + u₁̇ n_z)"
      ]
     },
     "execution_count": 33,
     "metadata": {},
     "output_type": "execute_result"
    }
   ],
   "source": [
    "A.ang_acc_in(N), B.ang_acc_in(N)"
   ]
  },
  {
   "cell_type": "code",
   "execution_count": 34,
   "id": "8616b886",
   "metadata": {
    "execution": {
     "iopub.execute_input": "2025-09-25T05:52:02.720940Z",
     "iopub.status.busy": "2025-09-25T05:52:02.720780Z",
     "iopub.status.idle": "2025-09-25T05:52:02.724994Z",
     "shell.execute_reply": "2025-09-25T05:52:02.724574Z"
    }
   },
   "outputs": [
    {
     "data": {
      "text/latex": [
       "$\\displaystyle \\frac{l^{2} m}{12}$"
      ],
      "text/plain": [
       " 2  \n",
       "l ⋅m\n",
       "────\n",
       " 12 "
      ]
     },
     "execution_count": 34,
     "metadata": {},
     "output_type": "execute_result"
    }
   ],
   "source": [
    "I = m*l**2/12\n",
    "I"
   ]
  },
  {
   "cell_type": "code",
   "execution_count": 35,
   "id": "6a36d185",
   "metadata": {
    "execution": {
     "iopub.execute_input": "2025-09-25T05:52:02.726311Z",
     "iopub.status.busy": "2025-09-25T05:52:02.726143Z",
     "iopub.status.idle": "2025-09-25T05:52:02.732868Z",
     "shell.execute_reply": "2025-09-25T05:52:02.732384Z"
    }
   },
   "outputs": [
    {
     "data": {
      "text/latex": [
       "$\\displaystyle \\left( \\frac{l^{2} m}{12}\\hat{a}_y\\otimes \\hat{a}_y + \\frac{l^{2} m}{12}\\hat{a}_z\\otimes \\hat{a}_z, \\  \\frac{l^{2} m}{12}\\hat{b}_x\\otimes \\hat{b}_x + \\frac{l^{2} m}{12}\\hat{b}_z\\otimes \\hat{b}_z\\right)$"
      ],
      "text/plain": [
       "⎛         2         ,          2         ⎞\n",
       "⎜        l ⋅m                 l ⋅m       ⎟\n",
       "⎜        ────                 ────       ⎟\n",
       "⎜ 12  a_y⊗a_y +  2     12  b_x⊗b_x +  2  ⎟\n",
       "⎜        l ⋅m                 l ⋅m       ⎟\n",
       "⎜        ────                 ────       ⎟\n",
       "⎝     12  a_z⊗a_z          12  b_z⊗b_z   ⎠"
      ]
     },
     "execution_count": 35,
     "metadata": {},
     "output_type": "execute_result"
    }
   ],
   "source": [
    "I_A_Ao = I*me.outer(A.y, A.y) + I*me.outer(A.z, A.z)\n",
    "I_B_Bo = I*me.outer(B.x, B.x) + I*me.outer(B.z, B.z)\n",
    "I_A_Ao, I_B_Bo"
   ]
  },
  {
   "cell_type": "code",
   "execution_count": 36,
   "id": "f39d0e85",
   "metadata": {
    "execution": {
     "iopub.execute_input": "2025-09-25T05:52:02.734272Z",
     "iopub.status.busy": "2025-09-25T05:52:02.734104Z",
     "iopub.status.idle": "2025-09-25T05:52:02.745544Z",
     "shell.execute_reply": "2025-09-25T05:52:02.745129Z"
    }
   },
   "outputs": [
    {
     "data": {
      "text/latex": [
       "$\\displaystyle \\left( \\frac{l m u_{1}^{2}}{2}\\hat{a}_x -  \\frac{l m \\dot{u}_{1}}{2}\\hat{a}_y, \\  l m u_{1}^{2}\\hat{a}_x -  l m \\dot{u}_{1}\\hat{a}_y\\right)$"
      ],
      "text/plain": [
       "⎛               2          ,                2         ⎞\n",
       "⎜  l⋅m⋅u₁        -l⋅m⋅u₁̇    l⋅m⋅u₁  a_x + -l⋅m⋅u₁̇ a_y⎟\n",
       "⎜─────── a_x + ──────── a_y                           ⎟\n",
       "⎝       2             2                               ⎠"
      ]
     },
     "execution_count": 36,
     "metadata": {},
     "output_type": "execute_result"
    }
   ],
   "source": [
    "Rs_Ao = -m*Ao.acc(N)\n",
    "Rs_Bo = -m*Bo.acc(N)\n",
    "\n",
    "Rs_Ao, Rs_Bo"
   ]
  },
  {
   "cell_type": "code",
   "execution_count": 37,
   "id": "3bc9b542",
   "metadata": {
    "execution": {
     "iopub.execute_input": "2025-09-25T05:52:02.746856Z",
     "iopub.status.busy": "2025-09-25T05:52:02.746699Z",
     "iopub.status.idle": "2025-09-25T05:52:02.756769Z",
     "shell.execute_reply": "2025-09-25T05:52:02.756353Z"
    }
   },
   "outputs": [
    {
     "data": {
      "text/latex": [
       "$\\displaystyle -  \\frac{l^{2} m \\dot{u}_{1}}{12}\\hat{a}_z$"
      ],
      "text/plain": [
       "  2\n",
       "-l ⋅m⋅u₁̇\n",
       "───────── a_z\n",
       "    12"
      ]
     },
     "execution_count": 37,
     "metadata": {},
     "output_type": "execute_result"
    }
   ],
   "source": [
    "Ts_A = -(A.ang_acc_in(N).dot(I_A_Ao) +\n",
    "         me.cross(A.ang_vel_in(N), I_A_Ao).dot(A.ang_vel_in(N)))\n",
    "Ts_A"
   ]
  },
  {
   "cell_type": "code",
   "execution_count": 38,
   "id": "4a1bb8d7",
   "metadata": {
    "execution": {
     "iopub.execute_input": "2025-09-25T05:52:02.758106Z",
     "iopub.status.busy": "2025-09-25T05:52:02.757958Z",
     "iopub.status.idle": "2025-09-25T05:52:02.783969Z",
     "shell.execute_reply": "2025-09-25T05:52:02.783588Z"
    }
   },
   "outputs": [
    {
     "data": {
      "text/latex": [
       "$\\displaystyle (- \\frac{l^{2} m u_{1}^{2} \\sin{\\left(q_{2} \\right)} \\cos{\\left(q_{2} \\right)}}{12} - \\frac{l^{2} m \\dot{u}_{2}}{12})\\hat{b}_x + (- \\frac{l^{2} m \\left(- u_{1} u_{2} \\sin{\\left(q_{2} \\right)} + \\cos{\\left(q_{2} \\right)} \\dot{u}_{1}\\right)}{12} + \\frac{l^{2} m u_{1} u_{2} \\sin{\\left(q_{2} \\right)}}{12})\\hat{b}_z$"
      ],
      "text/plain": [
       "⎛   2     2                    2     ⎞       ⎛   2\n",
       "⎜  l ⋅m⋅u₁ ⋅sin(q₂)⋅cos(q₂)   l ⋅m⋅u₂̇⎟       ⎜  l ⋅m⋅(-u₁⋅u₂⋅sin(q₂) + cos(q₂\n",
       "⎜- ──────────────────────── - ───────⎟ b_x + ⎜- ──────────────────────────────\n",
       "⎝             12                 12  ⎠       ⎝                  12\n",
       "\n",
       "        2                ⎞\n",
       ")⋅u₁̇)   l ⋅m⋅u₁⋅u₂⋅sin(q₂)⎟\n",
       "──── + ──────────────────⎟ b_z\n",
       "               12        ⎠"
      ]
     },
     "execution_count": 38,
     "metadata": {},
     "output_type": "execute_result"
    }
   ],
   "source": [
    "Ts_B = -(B.ang_acc_in(N).dot(I_B_Bo) +\n",
    "         me.cross(B.ang_vel_in(N), I_B_Bo).dot(B.ang_vel_in(N)))\n",
    "Ts_B"
   ]
  },
  {
   "cell_type": "code",
   "execution_count": 39,
   "id": "f5aef30f",
   "metadata": {
    "execution": {
     "iopub.execute_input": "2025-09-25T05:52:02.785296Z",
     "iopub.status.busy": "2025-09-25T05:52:02.785110Z",
     "iopub.status.idle": "2025-09-25T05:52:02.796768Z",
     "shell.execute_reply": "2025-09-25T05:52:02.796355Z"
    }
   },
   "outputs": [],
   "source": [
    "F1s_A = v_Ao_1.dot(Rs_Ao) + w_A_1.dot(Ts_A)\n",
    "F1s_B = v_Bo_1.dot(Rs_Bo) + w_B_1.dot(Ts_B)\n",
    "F2s_A = v_Ao_2.dot(Rs_Ao) + w_A_2.dot(Ts_A)\n",
    "F2s_B = v_Bo_2.dot(Rs_Bo) + w_B_2.dot(Ts_B)"
   ]
  },
  {
   "cell_type": "code",
   "execution_count": 40,
   "id": "a9e56032",
   "metadata": {
    "execution": {
     "iopub.execute_input": "2025-09-25T05:52:02.798034Z",
     "iopub.status.busy": "2025-09-25T05:52:02.797885Z",
     "iopub.status.idle": "2025-09-25T05:52:02.808437Z",
     "shell.execute_reply": "2025-09-25T05:52:02.807926Z"
    }
   },
   "outputs": [
    {
     "data": {
      "text/latex": [
       "$\\displaystyle \\left[\\begin{matrix}- \\frac{4 l^{2} m \\dot{u}_{1}}{3} + \\left(- \\frac{l^{2} m \\left(- u_{1} u_{2} \\sin{\\left(q_{2} \\right)} + \\cos{\\left(q_{2} \\right)} \\dot{u}_{1}\\right)}{12} + \\frac{l^{2} m u_{1} u_{2} \\sin{\\left(q_{2} \\right)}}{12}\\right) \\cos{\\left(q_{2} \\right)}\\\\- \\frac{l^{2} m u_{1}^{2} \\sin{\\left(q_{2} \\right)} \\cos{\\left(q_{2} \\right)}}{12} - \\frac{l^{2} m \\dot{u}_{2}}{12}\\end{matrix}\\right]$"
      ],
      "text/plain": [
       "⎡     2        ⎛   2                                    2                ⎞    \n",
       "⎢  4⋅l ⋅m⋅u₁̇   ⎜  l ⋅m⋅(-u₁⋅u₂⋅sin(q₂) + cos(q₂)⋅u₁̇)   l ⋅m⋅u₁⋅u₂⋅sin(q₂)⎟  \n",
       "⎢- ───────── + ⎜- ────────────────────────────────── + ──────────────────⎟⋅cos\n",
       "⎢      3       ⎝                  12                           12        ⎠    \n",
       "⎢                                                                             \n",
       "⎢                         2     2                    2                        \n",
       "⎢                        l ⋅m⋅u₁ ⋅sin(q₂)⋅cos(q₂)   l ⋅m⋅u₂̇                  \n",
       "⎢                      - ──────────────────────── - ───────                   \n",
       "⎣                                   12                 12                     \n",
       "\n",
       "    ⎤\n",
       "      ⎥\n",
       "(q₂)⎥\n",
       "    ⎥\n",
       "    ⎥\n",
       "    ⎥\n",
       "     ⎥\n",
       "    ⎥\n",
       "    ⎦"
      ]
     },
     "execution_count": 40,
     "metadata": {},
     "output_type": "execute_result"
    }
   ],
   "source": [
    "F1s = F1s_A + F1s_B\n",
    "F2s = F2s_A + F2s_B\n",
    "\n",
    "Frs = sm.Matrix([F1s, F2s])\n",
    "Frs"
   ]
  }
 ],
 "metadata": {
  "kernelspec": {
   "display_name": "Python 3 (ipykernel)",
   "language": "python",
   "name": "python3"
  },
  "language_info": {
   "codemirror_mode": {
    "name": "ipython",
    "version": 3
   },
   "file_extension": ".py",
   "mimetype": "text/x-python",
   "name": "python",
   "nbconvert_exporter": "python",
   "pygments_lexer": "ipython3",
   "version": "3.11.13"
  }
 },
 "nbformat": 4,
 "nbformat_minor": 5
}