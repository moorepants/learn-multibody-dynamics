{
 "cells": [
  {
   "cell_type": "code",
   "execution_count": 1,
   "id": "812c60f5",
   "metadata": {
    "execution": {
     "iopub.execute_input": "2025-09-25T05:50:55.988259Z",
     "iopub.status.busy": "2025-09-25T05:50:55.988087Z",
     "iopub.status.idle": "2025-09-25T05:50:56.330407Z",
     "shell.execute_reply": "2025-09-25T05:50:56.329823Z"
    }
   },
   "outputs": [],
   "source": [
    "import sympy as sm\n",
    "import sympy.physics.mechanics as me\n",
    "me.init_vprinting(use_latex='mathjax')"
   ]
  },
  {
   "cell_type": "code",
   "execution_count": 2,
   "id": "813a161a",
   "metadata": {
    "execution": {
     "iopub.execute_input": "2025-09-25T05:50:56.332330Z",
     "iopub.status.busy": "2025-09-25T05:50:56.332107Z",
     "iopub.status.idle": "2025-09-25T05:50:56.335794Z",
     "shell.execute_reply": "2025-09-25T05:50:56.335282Z"
    }
   },
   "outputs": [],
   "source": [
    "class ReferenceFrame(me.ReferenceFrame):\n",
    "\n",
    "    def __init__(self, *args, **kwargs):\n",
    "\n",
    "        kwargs.pop('latexs', None)\n",
    "\n",
    "        lab = args[0].lower()\n",
    "        tex = r'\\hat{{{}}}_{}'\n",
    "\n",
    "        super(ReferenceFrame, self).__init__(*args,\n",
    "                                             latexs=(tex.format(lab, 'x'),\n",
    "                                                     tex.format(lab, 'y'),\n",
    "                                                     tex.format(lab, 'z')),\n",
    "                                             **kwargs)\n",
    "me.ReferenceFrame = ReferenceFrame"
   ]
  },
  {
   "cell_type": "code",
   "execution_count": 3,
   "id": "52d64408",
   "metadata": {
    "execution": {
     "iopub.execute_input": "2025-09-25T05:50:56.337303Z",
     "iopub.status.busy": "2025-09-25T05:50:56.337109Z",
     "iopub.status.idle": "2025-09-25T05:50:56.341743Z",
     "shell.execute_reply": "2025-09-25T05:50:56.341313Z"
    }
   },
   "outputs": [],
   "source": [
    "cxx, cyy, czz = me.dynamicsymbols('c_{xx}, c_{yy}, c_{zz}')\n",
    "cxy, cxz, cyx = me.dynamicsymbols('c_{xy}, c_{xz}, c_{yx}')\n",
    "cyz, czx, czy = me.dynamicsymbols('c_{yz}, c_{zx}, c_{zy}')\n",
    "\n",
    "B_C_A = sm.Matrix([[cxx, cxy, cxz],\n",
    "                   [cyx, cyy, cyz],\n",
    "                   [czx, czy, czz]])"
   ]
  },
  {
   "cell_type": "code",
   "execution_count": 4,
   "id": "b9d74191",
   "metadata": {
    "execution": {
     "iopub.execute_input": "2025-09-25T05:50:56.343174Z",
     "iopub.status.busy": "2025-09-25T05:50:56.343003Z",
     "iopub.status.idle": "2025-09-25T05:50:56.365557Z",
     "shell.execute_reply": "2025-09-25T05:50:56.365064Z"
    }
   },
   "outputs": [
    {
     "data": {
      "text/latex": [
       "$\\displaystyle \\left[\\begin{matrix}c_{xx} & c_{xy} & c_{xz}\\\\c_{yx} & c_{yy} & c_{yz}\\\\c_{zx} & c_{zy} & c_{zz}\\end{matrix}\\right]$"
      ],
      "text/plain": [
       "⎡c_{xx}  c_{xy}  c_{xz}⎤\n",
       "⎢                      ⎥\n",
       "⎢c_{yx}  c_{yy}  c_{yz}⎥\n",
       "⎢                      ⎥\n",
       "⎣c_{zx}  c_{zy}  c_{zz}⎦"
      ]
     },
     "execution_count": 4,
     "metadata": {},
     "output_type": "execute_result"
    }
   ],
   "source": [
    "A = me.ReferenceFrame('A')\n",
    "B = me.ReferenceFrame('B')\n",
    "B.orient_explicit(A, B_C_A.transpose())\n",
    "B.dcm(A)"
   ]
  },
  {
   "cell_type": "code",
   "execution_count": 5,
   "id": "2f21d33c",
   "metadata": {
    "execution": {
     "iopub.execute_input": "2025-09-25T05:50:56.367074Z",
     "iopub.status.busy": "2025-09-25T05:50:56.366923Z",
     "iopub.status.idle": "2025-09-25T05:50:56.371000Z",
     "shell.execute_reply": "2025-09-25T05:50:56.370608Z"
    }
   },
   "outputs": [
    {
     "data": {
      "text/latex": [
       "$\\displaystyle c_{xx}\\hat{a}_x + c_{xy}\\hat{a}_y + c_{xz}\\hat{a}_z$"
      ],
      "text/plain": [
       "c_{xx} a_x + c_{xy} a_y + c_{xz} a_z"
      ]
     },
     "execution_count": 5,
     "metadata": {},
     "output_type": "execute_result"
    }
   ],
   "source": [
    "B.x.express(A)"
   ]
  },
  {
   "cell_type": "code",
   "execution_count": 6,
   "id": "77ca3331",
   "metadata": {
    "execution": {
     "iopub.execute_input": "2025-09-25T05:50:56.372345Z",
     "iopub.status.busy": "2025-09-25T05:50:56.372204Z",
     "iopub.status.idle": "2025-09-25T05:50:56.375965Z",
     "shell.execute_reply": "2025-09-25T05:50:56.375475Z"
    }
   },
   "outputs": [
    {
     "data": {
      "text/latex": [
       "$\\displaystyle c_{yx}\\hat{a}_x + c_{yy}\\hat{a}_y + c_{yz}\\hat{a}_z$"
      ],
      "text/plain": [
       "c_{yx} a_x + c_{yy} a_y + c_{yz} a_z"
      ]
     },
     "execution_count": 6,
     "metadata": {},
     "output_type": "execute_result"
    }
   ],
   "source": [
    "B.y.express(A)"
   ]
  },
  {
   "cell_type": "code",
   "execution_count": 7,
   "id": "0c01fa46",
   "metadata": {
    "execution": {
     "iopub.execute_input": "2025-09-25T05:50:56.377338Z",
     "iopub.status.busy": "2025-09-25T05:50:56.377196Z",
     "iopub.status.idle": "2025-09-25T05:50:56.380923Z",
     "shell.execute_reply": "2025-09-25T05:50:56.380433Z"
    }
   },
   "outputs": [
    {
     "data": {
      "text/latex": [
       "$\\displaystyle c_{zx}\\hat{a}_x + c_{zy}\\hat{a}_y + c_{zz}\\hat{a}_z$"
      ],
      "text/plain": [
       "c_{zx} a_x + c_{zy} a_y + c_{zz} a_z"
      ]
     },
     "execution_count": 7,
     "metadata": {},
     "output_type": "execute_result"
    }
   ],
   "source": [
    "B.z.express(A)"
   ]
  },
  {
   "cell_type": "code",
   "execution_count": 8,
   "id": "4d869399",
   "metadata": {
    "execution": {
     "iopub.execute_input": "2025-09-25T05:50:56.382204Z",
     "iopub.status.busy": "2025-09-25T05:50:56.382041Z",
     "iopub.status.idle": "2025-09-25T05:50:56.387779Z",
     "shell.execute_reply": "2025-09-25T05:50:56.387398Z"
    }
   },
   "outputs": [
    {
     "data": {
      "text/latex": [
       "$\\displaystyle \\dot{c}_{yx}\\hat{a}_x + \\dot{c}_{yy}\\hat{a}_y + \\dot{c}_{yz}\\hat{a}_z$"
      ],
      "text/plain": [
       "c_{ẏx} a_x + c_{ẏy} a_y + c_{ẏz} a_z"
      ]
     },
     "execution_count": 8,
     "metadata": {},
     "output_type": "execute_result"
    }
   ],
   "source": [
    "B.y.express(A).dt(A)"
   ]
  },
  {
   "cell_type": "code",
   "execution_count": 9,
   "id": "497dca29",
   "metadata": {
    "execution": {
     "iopub.execute_input": "2025-09-25T05:50:56.389077Z",
     "iopub.status.busy": "2025-09-25T05:50:56.388938Z",
     "iopub.status.idle": "2025-09-25T05:50:56.396647Z",
     "shell.execute_reply": "2025-09-25T05:50:56.396249Z"
    }
   },
   "outputs": [
    {
     "data": {
      "text/latex": [
       "$\\displaystyle c_{zx} \\dot{c}_{yx} + c_{zy} \\dot{c}_{yy} + c_{zz} \\dot{c}_{yz}$"
      ],
      "text/plain": [
       "c_{zx}⋅c_{ẏx} + c_{zy}⋅c_{ẏy} + c_{zz}⋅c_{ẏz}"
      ]
     },
     "execution_count": 9,
     "metadata": {},
     "output_type": "execute_result"
    }
   ],
   "source": [
    "mnx = me.dot(B.y.express(A).dt(A), B.z)\n",
    "mnx"
   ]
  },
  {
   "cell_type": "code",
   "execution_count": 10,
   "id": "edcee833",
   "metadata": {
    "execution": {
     "iopub.execute_input": "2025-09-25T05:50:56.397878Z",
     "iopub.status.busy": "2025-09-25T05:50:56.397743Z",
     "iopub.status.idle": "2025-09-25T05:50:56.405332Z",
     "shell.execute_reply": "2025-09-25T05:50:56.404824Z"
    }
   },
   "outputs": [
    {
     "data": {
      "text/latex": [
       "$\\displaystyle c_{xx} \\dot{c}_{zx} + c_{xy} \\dot{c}_{zy} + c_{xz} \\dot{c}_{zz}$"
      ],
      "text/plain": [
       "c_{xx}⋅c_{żx} + c_{xy}⋅c_{ży} + c_{xz}⋅c_{żz}"
      ]
     },
     "execution_count": 10,
     "metadata": {},
     "output_type": "execute_result"
    }
   ],
   "source": [
    "mny = me.dot(B.z.express(A).dt(A), B.x)\n",
    "mny"
   ]
  },
  {
   "cell_type": "code",
   "execution_count": 11,
   "id": "f16221f8",
   "metadata": {
    "execution": {
     "iopub.execute_input": "2025-09-25T05:50:56.406663Z",
     "iopub.status.busy": "2025-09-25T05:50:56.406511Z",
     "iopub.status.idle": "2025-09-25T05:50:56.413930Z",
     "shell.execute_reply": "2025-09-25T05:50:56.413454Z"
    }
   },
   "outputs": [
    {
     "data": {
      "text/latex": [
       "$\\displaystyle c_{yx} \\dot{c}_{xx} + c_{yy} \\dot{c}_{xy} + c_{yz} \\dot{c}_{xz}$"
      ],
      "text/plain": [
       "c_{yx}⋅c_{ẋx} + c_{yy}⋅c_{ẋy} + c_{yz}⋅c_{ẋz}"
      ]
     },
     "execution_count": 11,
     "metadata": {},
     "output_type": "execute_result"
    }
   ],
   "source": [
    "mnz = me.dot(B.x.express(A).dt(A), B.y)\n",
    "mnz"
   ]
  },
  {
   "cell_type": "code",
   "execution_count": 12,
   "id": "2076f340",
   "metadata": {
    "execution": {
     "iopub.execute_input": "2025-09-25T05:50:56.415248Z",
     "iopub.status.busy": "2025-09-25T05:50:56.415089Z",
     "iopub.status.idle": "2025-09-25T05:50:56.424430Z",
     "shell.execute_reply": "2025-09-25T05:50:56.423920Z"
    }
   },
   "outputs": [
    {
     "data": {
      "text/latex": [
       "$\\displaystyle (c_{zx} \\dot{c}_{yx} + c_{zy} \\dot{c}_{yy} + c_{zz} \\dot{c}_{yz})\\hat{b}_x + (c_{xx} \\dot{c}_{zx} + c_{xy} \\dot{c}_{zy} + c_{xz} \\dot{c}_{zz})\\hat{b}_y + (c_{yx} \\dot{c}_{xx} + c_{yy} \\dot{c}_{xy} + c_{yz} \\dot{c}_{xz})\\hat{b}_z$"
      ],
      "text/plain": [
       "(c_{zx}⋅c_{ẏx} + c_{zy}⋅c_{ẏy} + c_{zz}⋅c_{ẏz}) b_x + (c_{xx}⋅c_{żx} + c_{\n",
       "xy}⋅c_{ży} + c_{xz}⋅c_{żz}) b_y + (c_{yx}⋅c_{ẋx} + c_{yy}⋅c_{ẋy} + c_{yz}⋅\n",
       "c_{ẋz}) b_z"
      ]
     },
     "execution_count": 12,
     "metadata": {},
     "output_type": "execute_result"
    }
   ],
   "source": [
    "A_w_B = mnx*B.x + mny*B.y + mnz*B.z\n",
    "A_w_B"
   ]
  },
  {
   "cell_type": "code",
   "execution_count": 13,
   "id": "369285c4",
   "metadata": {
    "execution": {
     "iopub.execute_input": "2025-09-25T05:50:56.425805Z",
     "iopub.status.busy": "2025-09-25T05:50:56.425651Z",
     "iopub.status.idle": "2025-09-25T05:50:56.432252Z",
     "shell.execute_reply": "2025-09-25T05:50:56.431742Z"
    }
   },
   "outputs": [
    {
     "data": {
      "text/latex": [
       "$\\displaystyle \\left[\\begin{matrix}\\frac{\\sqrt{2}}{4} & \\frac{\\sqrt{2}}{2} & \\frac{\\sqrt{6}}{4}\\\\- \\frac{\\sqrt{3}}{2} & 0 & \\frac{1}{2}\\\\\\frac{\\sqrt{2}}{4} & - \\frac{\\sqrt{2}}{2} & \\frac{\\sqrt{6}}{4}\\end{matrix}\\right]$"
      ],
      "text/plain": [
       "⎡ √2    √2   √6 ⎤\n",
       "⎢ ──    ──   ── ⎥\n",
       "⎢ 4     2    4  ⎥\n",
       "⎢               ⎥\n",
       "⎢-√3            ⎥\n",
       "⎢────   0    1/2⎥\n",
       "⎢ 2             ⎥\n",
       "⎢               ⎥\n",
       "⎢ √2   -√2   √6 ⎥\n",
       "⎢ ──   ────  ── ⎥\n",
       "⎣ 4     2    4  ⎦"
      ]
     },
     "execution_count": 13,
     "metadata": {},
     "output_type": "execute_result"
    }
   ],
   "source": [
    "B_C_A = sm.Matrix([\n",
    "    [ sm.sqrt(2)/4,  sm.sqrt(2)/2, sm.sqrt(6)/4],\n",
    "    [-sm.sqrt(3)/2,          0,       sm.S(1)/2],\n",
    "    [ sm.sqrt(2)/4, -sm.sqrt(2)/2, sm.sqrt(6)/4]\n",
    "])\n",
    "B_C_A"
   ]
  },
  {
   "cell_type": "code",
   "execution_count": 14,
   "id": "22d8e5c0",
   "metadata": {
    "execution": {
     "iopub.execute_input": "2025-09-25T05:50:56.433574Z",
     "iopub.status.busy": "2025-09-25T05:50:56.433434Z",
     "iopub.status.idle": "2025-09-25T05:50:56.443977Z",
     "shell.execute_reply": "2025-09-25T05:50:56.443580Z"
    }
   },
   "outputs": [
    {
     "data": {
      "text/latex": [
       "$\\displaystyle \\left[\\begin{matrix}- \\frac{\\sqrt{6}}{2} - \\frac{3 \\sqrt{2}}{4} & - \\frac{\\sqrt{6}}{4} + \\frac{3 \\sqrt{2}}{2} & - \\frac{3 \\sqrt{6}}{4} + \\sqrt{2}\\\\-1 & - \\frac{1}{2} & - \\sqrt{3}\\\\- \\frac{\\sqrt{6}}{2} + \\frac{3 \\sqrt{2}}{4} & - \\frac{\\sqrt{6}}{4} + \\frac{3 \\sqrt{2}}{2} & \\frac{3 \\sqrt{6}}{4}\\end{matrix}\\right]$"
      ],
      "text/plain": [
       "⎡  √6   3⋅√2    √6   3⋅√2    3⋅√6     ⎤\n",
       "⎢- ── - ────  - ── + ────  - ──── + √2⎥\n",
       "⎢  2     4      4     2       4       ⎥\n",
       "⎢                                     ⎥\n",
       "⎢    -1          -1/2          -√3    ⎥\n",
       "⎢                                     ⎥\n",
       "⎢  √6   3⋅√2    √6   3⋅√2     3⋅√6    ⎥\n",
       "⎢- ── + ────  - ── + ────     ────    ⎥\n",
       "⎣  2     4      4     2        4      ⎦"
      ]
     },
     "execution_count": 14,
     "metadata": {},
     "output_type": "execute_result"
    }
   ],
   "source": [
    "B_C_A_dt = sm.Matrix([\n",
    "    [-sm.sqrt(6)/2 - 3*sm.sqrt(2)/4, -sm.sqrt(6)/4 + 3*sm.sqrt(2)/2, -3*sm.sqrt(6)/4 + sm.sqrt(2)],\n",
    "    [                      -1,                     -sm.S(1)/2,               -sm.sqrt(3)],\n",
    "    [-sm.sqrt(6)/2 + 3*sm.sqrt(2)/4, -sm.sqrt(6)/4 + 3*sm.sqrt(2)/2,            3*sm.sqrt(6)/4]\n",
    "])\n",
    "B_C_A_dt"
   ]
  },
  {
   "cell_type": "code",
   "execution_count": 15,
   "id": "96dd71a0",
   "metadata": {
    "execution": {
     "iopub.execute_input": "2025-09-25T05:50:56.445257Z",
     "iopub.status.busy": "2025-09-25T05:50:56.445097Z",
     "iopub.status.idle": "2025-09-25T05:50:56.451098Z",
     "shell.execute_reply": "2025-09-25T05:50:56.450688Z"
    }
   },
   "outputs": [],
   "source": [
    "mnx = (B_C_A[2, :]*B_C_A_dt[1, :].transpose())[0, 0]\n",
    "mny = (B_C_A[0, :]*B_C_A_dt[2, :].transpose())[0, 0]\n",
    "mnz = (B_C_A[1, :]*B_C_A_dt[0, :].transpose())[0, 0]\n",
    "\n",
    "A_w_B = mnx*B.x + mny*B.y + mnz*B.z"
   ]
  },
  {
   "cell_type": "code",
   "execution_count": 16,
   "id": "eba49215",
   "metadata": {
    "execution": {
     "iopub.execute_input": "2025-09-25T05:50:56.452322Z",
     "iopub.status.busy": "2025-09-25T05:50:56.452176Z",
     "iopub.status.idle": "2025-09-25T05:50:56.509456Z",
     "shell.execute_reply": "2025-09-25T05:50:56.508927Z"
    }
   },
   "outputs": [
    {
     "data": {
      "text/latex": [
       "$\\displaystyle -  \\frac{3 \\sqrt{2}}{4}\\hat{b}_x + (3 - \\frac{\\sqrt{3}}{2})\\hat{b}_y + \\frac{5 \\sqrt{2}}{4}\\hat{b}_z$"
      ],
      "text/plain": [
       "-3⋅√2        ⎛    √3⎞       5⋅√2\n",
       "────── b_x + ⎜3 - ──⎟ b_y + ──── b_z\n",
       "  4          ⎝    2 ⎠        4"
      ]
     },
     "execution_count": 16,
     "metadata": {},
     "output_type": "execute_result"
    }
   ],
   "source": [
    "A_w_B.simplify()"
   ]
  },
  {
   "cell_type": "code",
   "execution_count": 17,
   "id": "1c4bc29a",
   "metadata": {
    "execution": {
     "iopub.execute_input": "2025-09-25T05:50:56.510917Z",
     "iopub.status.busy": "2025-09-25T05:50:56.510758Z",
     "iopub.status.idle": "2025-09-25T05:50:56.516883Z",
     "shell.execute_reply": "2025-09-25T05:50:56.516303Z"
    }
   },
   "outputs": [
    {
     "data": {
      "text/latex": [
       "$\\displaystyle \\left[\\begin{matrix}\\cos{\\left(\\theta \\right)} & \\sin{\\left(\\theta \\right)} & 0\\\\- \\sin{\\left(\\theta \\right)} & \\cos{\\left(\\theta \\right)} & 0\\\\0 & 0 & 1\\end{matrix}\\right]$"
      ],
      "text/plain": [
       "⎡cos(θ)   sin(θ)  0⎤\n",
       "⎢                  ⎥\n",
       "⎢-sin(θ)  cos(θ)  0⎥\n",
       "⎢                  ⎥\n",
       "⎣   0       0     1⎦"
      ]
     },
     "execution_count": 17,
     "metadata": {},
     "output_type": "execute_result"
    }
   ],
   "source": [
    "theta = me.dynamicsymbols('theta')\n",
    "\n",
    "B_C_A = sm.Matrix([[sm.cos(theta), sm.sin(theta), 0],\n",
    "                   [-sm.sin(theta), sm.cos(theta), 0],\n",
    "                   [0, 0, 1]])\n",
    "\n",
    "B_C_A"
   ]
  },
  {
   "cell_type": "code",
   "execution_count": 18,
   "id": "eabd94a6",
   "metadata": {
    "execution": {
     "iopub.execute_input": "2025-09-25T05:50:56.518310Z",
     "iopub.status.busy": "2025-09-25T05:50:56.518143Z",
     "iopub.status.idle": "2025-09-25T05:50:56.563538Z",
     "shell.execute_reply": "2025-09-25T05:50:56.563007Z"
    }
   },
   "outputs": [
    {
     "data": {
      "text/latex": [
       "$\\displaystyle (\\sin^{2}{\\left(\\theta \\right)} \\dot{\\theta} + \\cos^{2}{\\left(\\theta \\right)} \\dot{\\theta})\\hat{b}_z$"
      ],
      "text/plain": [
       "⎛   2           2     ⎞\n",
       "⎝sin (θ)⋅θ̇ + cos (θ)⋅θ̇⎠ b_z"
      ]
     },
     "execution_count": 18,
     "metadata": {},
     "output_type": "execute_result"
    }
   ],
   "source": [
    "A = me.ReferenceFrame('A')\n",
    "B = me.ReferenceFrame('B')\n",
    "B.orient_explicit(A, B_C_A.transpose())\n",
    "\n",
    "mnx = me.dot(B.y.express(A).dt(A), B.z)\n",
    "mny = me.dot(B.z.express(A).dt(A), B.x)\n",
    "mnz = me.dot(B.x.express(A).dt(A), B.y)\n",
    "\n",
    "A_w_B = mnx*B.x + mny*B.y + mnz*B.z\n",
    "A_w_B"
   ]
  },
  {
   "cell_type": "code",
   "execution_count": 19,
   "id": "ada73ad1",
   "metadata": {
    "execution": {
     "iopub.execute_input": "2025-09-25T05:50:56.564845Z",
     "iopub.status.busy": "2025-09-25T05:50:56.564706Z",
     "iopub.status.idle": "2025-09-25T05:50:56.591654Z",
     "shell.execute_reply": "2025-09-25T05:50:56.591251Z"
    }
   },
   "outputs": [
    {
     "data": {
      "text/latex": [
       "$\\displaystyle \\dot{\\theta}\\hat{b}_z$"
      ],
      "text/plain": [
       "θ̇ b_z"
      ]
     },
     "execution_count": 19,
     "metadata": {},
     "output_type": "execute_result"
    }
   ],
   "source": [
    "A_w_B.simplify()"
   ]
  },
  {
   "cell_type": "code",
   "execution_count": 20,
   "id": "8f816929",
   "metadata": {
    "execution": {
     "iopub.execute_input": "2025-09-25T05:50:56.592926Z",
     "iopub.status.busy": "2025-09-25T05:50:56.592772Z",
     "iopub.status.idle": "2025-09-25T05:50:56.599544Z",
     "shell.execute_reply": "2025-09-25T05:50:56.599032Z"
    }
   },
   "outputs": [
    {
     "data": {
      "text/latex": [
       "$\\displaystyle \\dot{\\theta}\\hat{a}_z$"
      ],
      "text/plain": [
       "θ̇ a_z"
      ]
     },
     "execution_count": 20,
     "metadata": {},
     "output_type": "execute_result"
    }
   ],
   "source": [
    "A = me.ReferenceFrame('A')\n",
    "B = me.ReferenceFrame('B')\n",
    "B.orient_axis(A, theta, A.z)\n",
    "B.ang_vel_in(A)"
   ]
  },
  {
   "cell_type": "code",
   "execution_count": 21,
   "id": "ed3a24ec",
   "metadata": {
    "execution": {
     "iopub.execute_input": "2025-09-25T05:50:56.600942Z",
     "iopub.status.busy": "2025-09-25T05:50:56.600789Z",
     "iopub.status.idle": "2025-09-25T05:50:56.609266Z",
     "shell.execute_reply": "2025-09-25T05:50:56.608745Z"
    }
   },
   "outputs": [
    {
     "data": {
      "text/latex": [
       "$\\displaystyle \\frac{\\sqrt{2} \\dot{\\theta}}{2}\\hat{a}_x + \\frac{\\sqrt{2} \\dot{\\theta}}{2}\\hat{a}_y$"
      ],
      "text/plain": [
       "√2⋅θ̇       √2⋅θ̇\n",
       "──── a_x + ──── a_y\n",
       " 2          2"
      ]
     },
     "execution_count": 21,
     "metadata": {},
     "output_type": "execute_result"
    }
   ],
   "source": [
    "theta = me.dynamicsymbols('theta')\n",
    "\n",
    "A = me.ReferenceFrame('A')\n",
    "B = me.ReferenceFrame('B')\n",
    "B.orient_axis(A, theta, A.x + A.y)\n",
    "B.ang_vel_in(A)"
   ]
  },
  {
   "cell_type": "code",
   "execution_count": 22,
   "id": "ad2f0928",
   "metadata": {
    "execution": {
     "iopub.execute_input": "2025-09-25T05:50:56.610654Z",
     "iopub.status.busy": "2025-09-25T05:50:56.610501Z",
     "iopub.status.idle": "2025-09-25T05:50:56.623602Z",
     "shell.execute_reply": "2025-09-25T05:50:56.623078Z"
    }
   },
   "outputs": [
    {
     "data": {
      "text/latex": [
       "$\\displaystyle \\sqrt{\\dot{\\theta}^{2}}$"
      ],
      "text/plain": [
       "   ____\n",
       "  ╱  2 \n",
       "╲╱ θ̇  "
      ]
     },
     "execution_count": 22,
     "metadata": {},
     "output_type": "execute_result"
    }
   ],
   "source": [
    "B.ang_vel_in(A).magnitude()"
   ]
  },
  {
   "cell_type": "code",
   "execution_count": 23,
   "id": "0acfc8ec",
   "metadata": {
    "execution": {
     "iopub.execute_input": "2025-09-25T05:50:56.624967Z",
     "iopub.status.busy": "2025-09-25T05:50:56.624815Z",
     "iopub.status.idle": "2025-09-25T05:50:59.077377Z",
     "shell.execute_reply": "2025-09-25T05:50:59.076813Z"
    }
   },
   "outputs": [
    {
     "data": {
      "text/latex": [
       "$\\displaystyle (\\sin{\\left(\\theta \\right)} \\sin{\\left(\\varphi \\right)} \\dot{\\psi} + \\cos{\\left(\\varphi \\right)} \\dot{\\theta})\\hat{b}_x + (\\sin{\\left(\\theta \\right)} \\cos{\\left(\\varphi \\right)} \\dot{\\psi} - \\sin{\\left(\\varphi \\right)} \\dot{\\theta})\\hat{b}_y + (\\cos{\\left(\\theta \\right)} \\dot{\\psi} + \\dot{\\varphi})\\hat{b}_z$"
      ],
      "text/plain": [
       "(sin(θ)⋅sin(varphi)⋅ψ̇ + cos(varphi)⋅θ̇) b_x + (sin(θ)⋅cos(varphi)⋅ψ̇ - sin(va\n",
       "rphi)⋅θ̇) b_y + (cos(θ)⋅ψ̇ + varṗhi) b_z"
      ]
     },
     "execution_count": 23,
     "metadata": {},
     "output_type": "execute_result"
    }
   ],
   "source": [
    "psi, theta, phi = me.dynamicsymbols('psi, theta, varphi')\n",
    "\n",
    "A = me.ReferenceFrame('A')\n",
    "B = me.ReferenceFrame('B')\n",
    "B.orient_body_fixed(A, (psi, theta, phi), 'ZXZ')\n",
    "\n",
    "mnx = me.dot(B.y.express(A).dt(A), B.z)\n",
    "mny = me.dot(B.z.express(A).dt(A), B.x)\n",
    "mnz = me.dot(B.x.express(A).dt(A), B.y)\n",
    "\n",
    "A_w_B = mnx*B.x + mny*B.y + mnz*B.z\n",
    "A_w_B.simplify()"
   ]
  },
  {
   "cell_type": "code",
   "execution_count": 24,
   "id": "9664822f",
   "metadata": {
    "execution": {
     "iopub.execute_input": "2025-09-25T05:50:59.078917Z",
     "iopub.status.busy": "2025-09-25T05:50:59.078761Z",
     "iopub.status.idle": "2025-09-25T05:50:59.086550Z",
     "shell.execute_reply": "2025-09-25T05:50:59.086124Z"
    }
   },
   "outputs": [
    {
     "data": {
      "text/latex": [
       "$\\displaystyle (\\sin{\\left(\\theta \\right)} \\sin{\\left(\\varphi \\right)} \\dot{\\psi} + \\cos{\\left(\\varphi \\right)} \\dot{\\theta})\\hat{b}_x + (\\sin{\\left(\\theta \\right)} \\cos{\\left(\\varphi \\right)} \\dot{\\psi} - \\sin{\\left(\\varphi \\right)} \\dot{\\theta})\\hat{b}_y + (\\cos{\\left(\\theta \\right)} \\dot{\\psi} + \\dot{\\varphi})\\hat{b}_z$"
      ],
      "text/plain": [
       "(sin(θ)⋅sin(varphi)⋅ψ̇ + cos(varphi)⋅θ̇) b_x + (sin(θ)⋅cos(varphi)⋅ψ̇ - sin(va\n",
       "rphi)⋅θ̇) b_y + (cos(θ)⋅ψ̇ + varṗhi) b_z"
      ]
     },
     "execution_count": 24,
     "metadata": {},
     "output_type": "execute_result"
    }
   ],
   "source": [
    "B.ang_vel_in(A)"
   ]
  },
  {
   "cell_type": "code",
   "execution_count": 25,
   "id": "71b591ff",
   "metadata": {
    "execution": {
     "iopub.execute_input": "2025-09-25T05:50:59.087823Z",
     "iopub.status.busy": "2025-09-25T05:50:59.087689Z",
     "iopub.status.idle": "2025-09-25T05:50:59.095582Z",
     "shell.execute_reply": "2025-09-25T05:50:59.095177Z"
    }
   },
   "outputs": [],
   "source": [
    "psi, theta, phi = me.dynamicsymbols('psi, theta, varphi')\n",
    "\n",
    "N = me.ReferenceFrame('N')\n",
    "T = me.ReferenceFrame('T')\n",
    "T.orient_body_fixed(N, (psi, theta, phi), 'xyz')"
   ]
  },
  {
   "cell_type": "code",
   "execution_count": 26,
   "id": "d7cb7267",
   "metadata": {
    "execution": {
     "iopub.execute_input": "2025-09-25T05:50:59.096845Z",
     "iopub.status.busy": "2025-09-25T05:50:59.096709Z",
     "iopub.status.idle": "2025-09-25T05:50:59.131796Z",
     "shell.execute_reply": "2025-09-25T05:50:59.131393Z"
    }
   },
   "outputs": [
    {
     "data": {
      "text/latex": [
       "$\\displaystyle \\left[\\begin{matrix}\\cos{\\left(\\theta \\right)} \\cos{\\left(\\varphi \\right)} & \\sin{\\left(\\varphi \\right)} & - \\sin{\\left(\\theta \\right)} \\cos{\\left(\\varphi \\right)}\\\\- \\sin{\\left(\\varphi \\right)} \\cos{\\left(\\theta \\right)} & \\cos{\\left(\\varphi \\right)} & \\sin{\\left(\\theta \\right)} \\sin{\\left(\\varphi \\right)}\\\\\\sin{\\left(\\theta \\right)} & 0 & \\cos{\\left(\\theta \\right)}\\end{matrix}\\right]$"
      ],
      "text/plain": [
       "⎡cos(θ)⋅cos(varphi)   sin(varphi)  -sin(θ)⋅cos(varphi)⎤\n",
       "⎢                                                     ⎥\n",
       "⎢-sin(varphi)⋅cos(θ)  cos(varphi)  sin(θ)⋅sin(varphi) ⎥\n",
       "⎢                                                     ⎥\n",
       "⎣      sin(θ)              0             cos(θ)       ⎦"
      ]
     },
     "execution_count": 26,
     "metadata": {},
     "output_type": "execute_result"
    }
   ],
   "source": [
    "sm.trigsimp(T.dcm(N).xreplace({psi: 0}))"
   ]
  },
  {
   "cell_type": "code",
   "execution_count": 27,
   "id": "8335dcb5",
   "metadata": {
    "execution": {
     "iopub.execute_input": "2025-09-25T05:50:59.133256Z",
     "iopub.status.busy": "2025-09-25T05:50:59.133074Z",
     "iopub.status.idle": "2025-09-25T05:50:59.171453Z",
     "shell.execute_reply": "2025-09-25T05:50:59.170999Z"
    }
   },
   "outputs": [
    {
     "data": {
      "text/latex": [
       "$\\displaystyle \\left[\\begin{matrix}\\cos{\\left(\\theta \\right)} \\cos{\\left(\\varphi \\right)} & - \\sin{\\left(\\varphi \\right)} & \\sin{\\left(\\theta \\right)} \\cos{\\left(\\varphi \\right)}\\\\- \\sin{\\left(\\varphi \\right)} \\cos{\\left(\\theta \\right)} & - \\cos{\\left(\\varphi \\right)} & - \\sin{\\left(\\theta \\right)} \\sin{\\left(\\varphi \\right)}\\\\\\sin{\\left(\\theta \\right)} & 0 & - \\cos{\\left(\\theta \\right)}\\end{matrix}\\right]$"
      ],
      "text/plain": [
       "⎡cos(θ)⋅cos(varphi)   -sin(varphi)  sin(θ)⋅cos(varphi) ⎤\n",
       "⎢                                                      ⎥\n",
       "⎢-sin(varphi)⋅cos(θ)  -cos(varphi)  -sin(θ)⋅sin(varphi)⎥\n",
       "⎢                                                      ⎥\n",
       "⎣      sin(θ)              0              -cos(θ)      ⎦"
      ]
     },
     "execution_count": 27,
     "metadata": {},
     "output_type": "execute_result"
    }
   ],
   "source": [
    "sm.trigsimp(T.dcm(N).xreplace({psi: sm.pi}))"
   ]
  },
  {
   "cell_type": "code",
   "execution_count": 28,
   "id": "3dd5b4d2",
   "metadata": {
    "execution": {
     "iopub.execute_input": "2025-09-25T05:50:59.172802Z",
     "iopub.status.busy": "2025-09-25T05:50:59.172656Z",
     "iopub.status.idle": "2025-09-25T05:50:59.276248Z",
     "shell.execute_reply": "2025-09-25T05:50:59.275662Z"
    }
   },
   "outputs": [
    {
     "data": {
      "text/latex": [
       "$\\displaystyle \\left[\\begin{matrix}0 & - \\sin{\\left(\\psi - \\varphi \\right)} & \\cos{\\left(\\psi - \\varphi \\right)}\\\\0 & \\cos{\\left(\\psi - \\varphi \\right)} & \\sin{\\left(\\psi - \\varphi \\right)}\\\\-1 & 0 & 0\\end{matrix}\\right]$"
      ],
      "text/plain": [
       "⎡0   -sin(ψ - varphi)  cos(ψ - varphi)⎤\n",
       "⎢                                     ⎥\n",
       "⎢0   cos(ψ - varphi)   sin(ψ - varphi)⎥\n",
       "⎢                                     ⎥\n",
       "⎣-1         0                 0       ⎦"
      ]
     },
     "execution_count": 28,
     "metadata": {},
     "output_type": "execute_result"
    }
   ],
   "source": [
    "sm.trigsimp(T.dcm(N).xreplace({theta: -sm.pi/2}))"
   ]
  },
  {
   "cell_type": "code",
   "execution_count": 29,
   "id": "427d0489",
   "metadata": {
    "execution": {
     "iopub.execute_input": "2025-09-25T05:50:59.277842Z",
     "iopub.status.busy": "2025-09-25T05:50:59.277664Z",
     "iopub.status.idle": "2025-09-25T05:50:59.379228Z",
     "shell.execute_reply": "2025-09-25T05:50:59.378657Z"
    }
   },
   "outputs": [
    {
     "data": {
      "text/latex": [
       "$\\displaystyle \\left[\\begin{matrix}0 & \\sin{\\left(\\psi + \\varphi \\right)} & - \\cos{\\left(\\psi + \\varphi \\right)}\\\\0 & \\cos{\\left(\\psi + \\varphi \\right)} & \\sin{\\left(\\psi + \\varphi \\right)}\\\\1 & 0 & 0\\end{matrix}\\right]$"
      ],
      "text/plain": [
       "⎡0  sin(ψ + varphi)  -cos(ψ + varphi)⎤\n",
       "⎢                                    ⎥\n",
       "⎢0  cos(ψ + varphi)  sin(ψ + varphi) ⎥\n",
       "⎢                                    ⎥\n",
       "⎣1         0                0        ⎦"
      ]
     },
     "execution_count": 29,
     "metadata": {},
     "output_type": "execute_result"
    }
   ],
   "source": [
    "sm.trigsimp(T.dcm(N).xreplace({theta: sm.pi/2}))"
   ]
  },
  {
   "cell_type": "code",
   "execution_count": 30,
   "id": "11178dc4",
   "metadata": {
    "execution": {
     "iopub.execute_input": "2025-09-25T05:50:59.380828Z",
     "iopub.status.busy": "2025-09-25T05:50:59.380654Z",
     "iopub.status.idle": "2025-09-25T05:50:59.389891Z",
     "shell.execute_reply": "2025-09-25T05:50:59.389389Z"
    }
   },
   "outputs": [
    {
     "data": {
      "text/latex": [
       "$\\displaystyle u_{1}\\hat{b}_x + u_{2}\\hat{b}_y + u_{3}\\hat{b}_z$"
      ],
      "text/plain": [
       "u₁ b_x + u₂ b_y + u₃ b_z"
      ]
     },
     "execution_count": 30,
     "metadata": {},
     "output_type": "execute_result"
    }
   ],
   "source": [
    "A = me.ReferenceFrame('A')\n",
    "B = me.ReferenceFrame('B')\n",
    "B.orient_body_fixed(A, (psi, theta, 0), 'ZXZ')\n",
    "\n",
    "u1, u2, u3 = me.dynamicsymbols('u1, u2, u3')\n",
    "\n",
    "u = u1*B.x + u2*B.y + u3*B.z\n",
    "u"
   ]
  },
  {
   "cell_type": "code",
   "execution_count": 31,
   "id": "63139c0a",
   "metadata": {
    "execution": {
     "iopub.execute_input": "2025-09-25T05:50:59.391242Z",
     "iopub.status.busy": "2025-09-25T05:50:59.391071Z",
     "iopub.status.idle": "2025-09-25T05:50:59.400812Z",
     "shell.execute_reply": "2025-09-25T05:50:59.400312Z"
    }
   },
   "outputs": [
    {
     "data": {
      "text/latex": [
       "$\\displaystyle (u_{1} \\cos{\\left(\\psi \\right)} - u_{2} \\sin{\\left(\\psi \\right)} \\cos{\\left(\\theta \\right)} + u_{3} \\sin{\\left(\\psi \\right)} \\sin{\\left(\\theta \\right)})\\hat{a}_x + (u_{1} \\sin{\\left(\\psi \\right)} + u_{2} \\cos{\\left(\\psi \\right)} \\cos{\\left(\\theta \\right)} - u_{3} \\sin{\\left(\\theta \\right)} \\cos{\\left(\\psi \\right)})\\hat{a}_y + (u_{2} \\sin{\\left(\\theta \\right)} + u_{3} \\cos{\\left(\\theta \\right)})\\hat{a}_z$"
      ],
      "text/plain": [
       "(u₁⋅cos(ψ) - u₂⋅sin(ψ)⋅cos(θ) + u₃⋅sin(ψ)⋅sin(θ)) a_x + (u₁⋅sin(ψ) + u₂⋅cos(ψ)\n",
       "⋅cos(θ) - u₃⋅sin(θ)⋅cos(ψ)) a_y + (u₂⋅sin(θ) + u₃⋅cos(θ)) a_z"
      ]
     },
     "execution_count": 31,
     "metadata": {},
     "output_type": "execute_result"
    }
   ],
   "source": [
    "u.express(A)"
   ]
  },
  {
   "cell_type": "code",
   "execution_count": 32,
   "id": "3051e75b",
   "metadata": {
    "execution": {
     "iopub.execute_input": "2025-09-25T05:50:59.402070Z",
     "iopub.status.busy": "2025-09-25T05:50:59.401920Z",
     "iopub.status.idle": "2025-09-25T05:50:59.445140Z",
     "shell.execute_reply": "2025-09-25T05:50:59.444656Z"
    }
   },
   "outputs": [
    {
     "data": {
      "text/latex": [
       "$\\displaystyle (- u_{1} \\sin{\\left(\\psi \\right)} \\dot{\\psi} + u_{2} \\sin{\\left(\\psi \\right)} \\sin{\\left(\\theta \\right)} \\dot{\\theta} - u_{2} \\cos{\\left(\\psi \\right)} \\cos{\\left(\\theta \\right)} \\dot{\\psi} + u_{3} \\sin{\\left(\\psi \\right)} \\cos{\\left(\\theta \\right)} \\dot{\\theta} + u_{3} \\sin{\\left(\\theta \\right)} \\cos{\\left(\\psi \\right)} \\dot{\\psi} + \\sin{\\left(\\psi \\right)} \\sin{\\left(\\theta \\right)} \\dot{u}_{3} - \\sin{\\left(\\psi \\right)} \\cos{\\left(\\theta \\right)} \\dot{u}_{2} + \\cos{\\left(\\psi \\right)} \\dot{u}_{1})\\hat{a}_x + (u_{1} \\cos{\\left(\\psi \\right)} \\dot{\\psi} - u_{2} \\sin{\\left(\\psi \\right)} \\cos{\\left(\\theta \\right)} \\dot{\\psi} - u_{2} \\sin{\\left(\\theta \\right)} \\cos{\\left(\\psi \\right)} \\dot{\\theta} + u_{3} \\sin{\\left(\\psi \\right)} \\sin{\\left(\\theta \\right)} \\dot{\\psi} - u_{3} \\cos{\\left(\\psi \\right)} \\cos{\\left(\\theta \\right)} \\dot{\\theta} + \\sin{\\left(\\psi \\right)} \\dot{u}_{1} - \\sin{\\left(\\theta \\right)} \\cos{\\left(\\psi \\right)} \\dot{u}_{3} + \\cos{\\left(\\psi \\right)} \\cos{\\left(\\theta \\right)} \\dot{u}_{2})\\hat{a}_y + (u_{2} \\cos{\\left(\\theta \\right)} \\dot{\\theta} - u_{3} \\sin{\\left(\\theta \\right)} \\dot{\\theta} + \\sin{\\left(\\theta \\right)} \\dot{u}_{2} + \\cos{\\left(\\theta \\right)} \\dot{u}_{3})\\hat{a}_z$"
      ],
      "text/plain": [
       "(-u₁⋅sin(ψ)⋅ψ̇ + u₂⋅sin(ψ)⋅sin(θ)⋅θ̇ - u₂⋅cos(ψ)⋅cos(θ)⋅ψ̇ + u₃⋅sin(ψ)⋅cos(θ)⋅\n",
       "θ̇ + u₃⋅sin(θ)⋅cos(ψ)⋅ψ̇ + sin(ψ)⋅sin(θ)⋅u₃̇ - sin(ψ)⋅cos(θ)⋅u₂̇ + cos(ψ)⋅u₁̇)\n",
       " a_x + (u₁⋅cos(ψ)⋅ψ̇ - u₂⋅sin(ψ)⋅cos(θ)⋅ψ̇ - u₂⋅sin(θ)⋅cos(ψ)⋅θ̇ + u₃⋅sin(ψ)⋅s\n",
       "in(θ)⋅ψ̇ - u₃⋅cos(ψ)⋅cos(θ)⋅θ̇ + sin(ψ)⋅u₁̇ - sin(θ)⋅cos(ψ)⋅u₃̇ + cos(ψ)⋅cos(θ\n",
       ")⋅u₂̇) a_y + (u₂⋅cos(θ)⋅θ̇ - u₃⋅sin(θ)⋅θ̇ + sin(θ)⋅u₂̇ + cos(θ)⋅u₃̇) a_z"
      ]
     },
     "execution_count": 32,
     "metadata": {},
     "output_type": "execute_result"
    }
   ],
   "source": [
    "u.express(A).dt(A)"
   ]
  },
  {
   "cell_type": "code",
   "execution_count": 33,
   "id": "e7e93a69",
   "metadata": {
    "execution": {
     "iopub.execute_input": "2025-09-25T05:50:59.446424Z",
     "iopub.status.busy": "2025-09-25T05:50:59.446282Z",
     "iopub.status.idle": "2025-09-25T05:50:59.451556Z",
     "shell.execute_reply": "2025-09-25T05:50:59.451165Z"
    }
   },
   "outputs": [
    {
     "data": {
      "text/latex": [
       "$\\displaystyle \\dot{u}_{1}\\hat{b}_x + \\dot{u}_{2}\\hat{b}_y + \\dot{u}_{3}\\hat{b}_z$"
      ],
      "text/plain": [
       "u₁̇ b_x + u₂̇ b_y + u₃̇ b_z"
      ]
     },
     "execution_count": 33,
     "metadata": {},
     "output_type": "execute_result"
    }
   ],
   "source": [
    "u.dt(B)"
   ]
  },
  {
   "cell_type": "code",
   "execution_count": 34,
   "id": "208dbba6",
   "metadata": {
    "execution": {
     "iopub.execute_input": "2025-09-25T05:50:59.452842Z",
     "iopub.status.busy": "2025-09-25T05:50:59.452705Z",
     "iopub.status.idle": "2025-09-25T05:50:59.457651Z",
     "shell.execute_reply": "2025-09-25T05:50:59.457261Z"
    }
   },
   "outputs": [
    {
     "data": {
      "text/latex": [
       "$\\displaystyle \\dot{\\theta}\\hat{b}_x + \\sin{\\left(\\theta \\right)} \\dot{\\psi}\\hat{b}_y + \\cos{\\left(\\theta \\right)} \\dot{\\psi}\\hat{b}_z$"
      ],
      "text/plain": [
       "θ̇ b_x + sin(θ)⋅ψ̇ b_y + cos(θ)⋅ψ̇ b_z"
      ]
     },
     "execution_count": 34,
     "metadata": {},
     "output_type": "execute_result"
    }
   ],
   "source": [
    "A_w_B = B.ang_vel_in(A)\n",
    "A_w_B"
   ]
  },
  {
   "cell_type": "code",
   "execution_count": 35,
   "id": "aa54391c",
   "metadata": {
    "execution": {
     "iopub.execute_input": "2025-09-25T05:50:59.458894Z",
     "iopub.status.busy": "2025-09-25T05:50:59.458754Z",
     "iopub.status.idle": "2025-09-25T05:50:59.471930Z",
     "shell.execute_reply": "2025-09-25T05:50:59.471524Z"
    }
   },
   "outputs": [
    {
     "data": {
      "text/latex": [
       "$\\displaystyle (- u_{2} \\cos{\\left(\\theta \\right)} \\dot{\\psi} + u_{3} \\sin{\\left(\\theta \\right)} \\dot{\\psi} + \\dot{u}_{1})\\hat{b}_x + (u_{1} \\cos{\\left(\\theta \\right)} \\dot{\\psi} - u_{3} \\dot{\\theta} + \\dot{u}_{2})\\hat{b}_y + (- u_{1} \\sin{\\left(\\theta \\right)} \\dot{\\psi} + u_{2} \\dot{\\theta} + \\dot{u}_{3})\\hat{b}_z$"
      ],
      "text/plain": [
       "(-u₂⋅cos(θ)⋅ψ̇ + u₃⋅sin(θ)⋅ψ̇ + u₁̇) b_x + (u₁⋅cos(θ)⋅ψ̇ - u₃⋅θ̇ + u₂̇) b_y +\n",
       "(-u₁⋅sin(θ)⋅ψ̇ + u₂⋅θ̇ + u₃̇) b_z"
      ]
     },
     "execution_count": 35,
     "metadata": {},
     "output_type": "execute_result"
    }
   ],
   "source": [
    "u.dt(B) + me.cross(A_w_B, u)"
   ]
  },
  {
   "cell_type": "code",
   "execution_count": 36,
   "id": "b274528b",
   "metadata": {
    "execution": {
     "iopub.execute_input": "2025-09-25T05:50:59.473134Z",
     "iopub.status.busy": "2025-09-25T05:50:59.472998Z",
     "iopub.status.idle": "2025-09-25T05:51:01.113226Z",
     "shell.execute_reply": "2025-09-25T05:51:01.112666Z"
    }
   },
   "outputs": [
    {
     "data": {
      "text/latex": [
       "$\\displaystyle (- u_{2} \\cos{\\left(\\theta \\right)} \\dot{\\psi} + u_{3} \\sin{\\left(\\theta \\right)} \\dot{\\psi} + \\dot{u}_{1})\\hat{b}_x + (u_{1} \\cos{\\left(\\theta \\right)} \\dot{\\psi} - u_{3} \\dot{\\theta} + \\dot{u}_{2})\\hat{b}_y + (- u_{1} \\sin{\\left(\\theta \\right)} \\dot{\\psi} + u_{2} \\dot{\\theta} + \\dot{u}_{3})\\hat{b}_z$"
      ],
      "text/plain": [
       "(-u₂⋅cos(θ)⋅ψ̇ + u₃⋅sin(θ)⋅ψ̇ + u₁̇) b_x + (u₁⋅cos(θ)⋅ψ̇ - u₃⋅θ̇ + u₂̇) b_y +\n",
       "(-u₁⋅sin(θ)⋅ψ̇ + u₂⋅θ̇ + u₃̇) b_z"
      ]
     },
     "execution_count": 36,
     "metadata": {},
     "output_type": "execute_result"
    }
   ],
   "source": [
    "u.express(A).dt(A).express(B).simplify()"
   ]
  },
  {
   "cell_type": "code",
   "execution_count": 37,
   "id": "904f078d",
   "metadata": {
    "execution": {
     "iopub.execute_input": "2025-09-25T05:51:01.114798Z",
     "iopub.status.busy": "2025-09-25T05:51:01.114624Z",
     "iopub.status.idle": "2025-09-25T05:51:01.129175Z",
     "shell.execute_reply": "2025-09-25T05:51:01.128713Z"
    }
   },
   "outputs": [
    {
     "data": {
      "text/latex": [
       "$\\displaystyle (- u_{2} \\cos{\\left(\\theta \\right)} \\dot{\\psi} + u_{3} \\sin{\\left(\\theta \\right)} \\dot{\\psi} + \\dot{u}_{1})\\hat{b}_x + (u_{1} \\cos{\\left(\\theta \\right)} \\dot{\\psi} - u_{3} \\dot{\\theta} + \\dot{u}_{2})\\hat{b}_y + (- u_{1} \\sin{\\left(\\theta \\right)} \\dot{\\psi} + u_{2} \\dot{\\theta} + \\dot{u}_{3})\\hat{b}_z$"
      ],
      "text/plain": [
       "(-u₂⋅cos(θ)⋅ψ̇ + u₃⋅sin(θ)⋅ψ̇ + u₁̇) b_x + (u₁⋅cos(θ)⋅ψ̇ - u₃⋅θ̇ + u₂̇) b_y +\n",
       "(-u₁⋅sin(θ)⋅ψ̇ + u₂⋅θ̇ + u₃̇) b_z"
      ]
     },
     "execution_count": 37,
     "metadata": {},
     "output_type": "execute_result"
    }
   ],
   "source": [
    "u.dt(A)"
   ]
  },
  {
   "cell_type": "code",
   "execution_count": 38,
   "id": "08bee3b5",
   "metadata": {
    "execution": {
     "iopub.execute_input": "2025-09-25T05:51:01.130468Z",
     "iopub.status.busy": "2025-09-25T05:51:01.130314Z",
     "iopub.status.idle": "2025-09-25T05:51:01.142539Z",
     "shell.execute_reply": "2025-09-25T05:51:01.142038Z"
    }
   },
   "outputs": [
    {
     "data": {
      "text/latex": [
       "$\\displaystyle (- u_{2} \\cos{\\left(\\theta \\right)} \\dot{\\psi} + u_{3} \\sin{\\left(\\theta \\right)} \\dot{\\psi} + \\dot{u}_{1})\\hat{b}_x + (u_{1} \\cos{\\left(\\theta \\right)} \\dot{\\psi} - u_{3} \\dot{\\theta} + \\dot{u}_{2})\\hat{b}_y + (- u_{1} \\sin{\\left(\\theta \\right)} \\dot{\\psi} + u_{2} \\dot{\\theta} + \\dot{u}_{3})\\hat{b}_z$"
      ],
      "text/plain": [
       "(-u₂⋅cos(θ)⋅ψ̇ + u₃⋅sin(θ)⋅ψ̇ + u₁̇) b_x + (u₁⋅cos(θ)⋅ψ̇ - u₃⋅θ̇ + u₂̇) b_y +\n",
       "(-u₁⋅sin(θ)⋅ψ̇ + u₂⋅θ̇ + u₃̇) b_z"
      ]
     },
     "execution_count": 38,
     "metadata": {},
     "output_type": "execute_result"
    }
   ],
   "source": [
    "u.dt(B) + me.cross(A_w_B, u)"
   ]
  },
  {
   "cell_type": "code",
   "execution_count": 39,
   "id": "bed7a166",
   "metadata": {
    "execution": {
     "iopub.execute_input": "2025-09-25T05:51:01.143924Z",
     "iopub.status.busy": "2025-09-25T05:51:01.143778Z",
     "iopub.status.idle": "2025-09-25T05:51:01.153475Z",
     "shell.execute_reply": "2025-09-25T05:51:01.153061Z"
    }
   },
   "outputs": [],
   "source": [
    "psi, theta, phi = me.dynamicsymbols('psi, theta, varphi')\n",
    "\n",
    "A = me.ReferenceFrame('A')\n",
    "B = me.ReferenceFrame('B')\n",
    "C = me.ReferenceFrame('C')\n",
    "D = me.ReferenceFrame('D')\n",
    "\n",
    "B.orient_axis(A, psi, A.y)\n",
    "C.orient_axis(B, theta, B.x)\n",
    "D.orient_axis(C, phi, C.y)"
   ]
  },
  {
   "cell_type": "code",
   "execution_count": 40,
   "id": "c9df67df",
   "metadata": {
    "execution": {
     "iopub.execute_input": "2025-09-25T05:51:01.154765Z",
     "iopub.status.busy": "2025-09-25T05:51:01.154628Z",
     "iopub.status.idle": "2025-09-25T05:51:01.158227Z",
     "shell.execute_reply": "2025-09-25T05:51:01.157827Z"
    }
   },
   "outputs": [
    {
     "data": {
      "text/latex": [
       "$\\displaystyle \\dot{\\psi}\\hat{a}_y$"
      ],
      "text/plain": [
       "ψ̇ a_y"
      ]
     },
     "execution_count": 40,
     "metadata": {},
     "output_type": "execute_result"
    }
   ],
   "source": [
    "A_w_B = B.ang_vel_in(A)\n",
    "A_w_B"
   ]
  },
  {
   "cell_type": "code",
   "execution_count": 41,
   "id": "3e473ac4",
   "metadata": {
    "execution": {
     "iopub.execute_input": "2025-09-25T05:51:01.159432Z",
     "iopub.status.busy": "2025-09-25T05:51:01.159297Z",
     "iopub.status.idle": "2025-09-25T05:51:01.162939Z",
     "shell.execute_reply": "2025-09-25T05:51:01.162445Z"
    }
   },
   "outputs": [
    {
     "data": {
      "text/latex": [
       "$\\displaystyle \\dot{\\theta}\\hat{b}_x$"
      ],
      "text/plain": [
       "θ̇ b_x"
      ]
     },
     "execution_count": 41,
     "metadata": {},
     "output_type": "execute_result"
    }
   ],
   "source": [
    "B_w_C = C.ang_vel_in(B)\n",
    "B_w_C"
   ]
  },
  {
   "cell_type": "code",
   "execution_count": 42,
   "id": "b1a39469",
   "metadata": {
    "execution": {
     "iopub.execute_input": "2025-09-25T05:51:01.164314Z",
     "iopub.status.busy": "2025-09-25T05:51:01.164174Z",
     "iopub.status.idle": "2025-09-25T05:51:01.167778Z",
     "shell.execute_reply": "2025-09-25T05:51:01.167287Z"
    }
   },
   "outputs": [
    {
     "data": {
      "text/latex": [
       "$\\displaystyle \\dot{\\varphi}\\hat{c}_y$"
      ],
      "text/plain": [
       "varṗhi c_y"
      ]
     },
     "execution_count": 42,
     "metadata": {},
     "output_type": "execute_result"
    }
   ],
   "source": [
    "C_w_D = D.ang_vel_in(C)\n",
    "C_w_D"
   ]
  },
  {
   "cell_type": "code",
   "execution_count": 43,
   "id": "286db07f",
   "metadata": {
    "execution": {
     "iopub.execute_input": "2025-09-25T05:51:01.169167Z",
     "iopub.status.busy": "2025-09-25T05:51:01.168999Z",
     "iopub.status.idle": "2025-09-25T05:51:01.173555Z",
     "shell.execute_reply": "2025-09-25T05:51:01.173022Z"
    }
   },
   "outputs": [
    {
     "data": {
      "text/latex": [
       "$\\displaystyle \\dot{\\psi}\\hat{a}_y + \\dot{\\theta}\\hat{b}_x + \\dot{\\varphi}\\hat{c}_y$"
      ],
      "text/plain": [
       "ψ̇ a_y + θ̇ b_x + varṗhi c_y"
      ]
     },
     "execution_count": 43,
     "metadata": {},
     "output_type": "execute_result"
    }
   ],
   "source": [
    "A_w_D = A_w_B + B_w_C + C_w_D\n",
    "A_w_D"
   ]
  },
  {
   "cell_type": "code",
   "execution_count": 44,
   "id": "400ee5f4",
   "metadata": {
    "execution": {
     "iopub.execute_input": "2025-09-25T05:51:01.174831Z",
     "iopub.status.busy": "2025-09-25T05:51:01.174690Z",
     "iopub.status.idle": "2025-09-25T05:51:01.321179Z",
     "shell.execute_reply": "2025-09-25T05:51:01.320702Z"
    }
   },
   "outputs": [
    {
     "data": {
      "text/latex": [
       "$\\displaystyle (\\sin{\\left(\\theta \\right)} \\sin{\\left(\\varphi \\right)} \\dot{\\psi} + \\cos{\\left(\\varphi \\right)} \\dot{\\theta})\\hat{d}_x + (\\cos{\\left(\\theta \\right)} \\dot{\\psi} + \\dot{\\varphi})\\hat{d}_y + (- \\sin{\\left(\\theta \\right)} \\cos{\\left(\\varphi \\right)} \\dot{\\psi} + \\sin{\\left(\\varphi \\right)} \\dot{\\theta})\\hat{d}_z$"
      ],
      "text/plain": [
       "(sin(θ)⋅sin(varphi)⋅ψ̇ + cos(varphi)⋅θ̇) d_x + (cos(θ)⋅ψ̇ + varṗhi) d_y + (-s\n",
       "in(θ)⋅cos(varphi)⋅ψ̇ + sin(varphi)⋅θ̇) d_z"
      ]
     },
     "execution_count": 44,
     "metadata": {},
     "output_type": "execute_result"
    }
   ],
   "source": [
    "A2 = me.ReferenceFrame('A')\n",
    "D2 = me.ReferenceFrame('D')\n",
    "D2.orient_body_fixed(A2, (psi, theta, phi), 'YXY')\n",
    "D2.ang_vel_in(A2).simplify()"
   ]
  },
  {
   "cell_type": "code",
   "execution_count": 45,
   "id": "f4761ea6",
   "metadata": {
    "execution": {
     "iopub.execute_input": "2025-09-25T05:51:01.322577Z",
     "iopub.status.busy": "2025-09-25T05:51:01.322422Z",
     "iopub.status.idle": "2025-09-25T05:51:01.337675Z",
     "shell.execute_reply": "2025-09-25T05:51:01.337138Z"
    }
   },
   "outputs": [
    {
     "data": {
      "text/latex": [
       "$\\displaystyle (\\sin{\\left(\\theta \\right)} \\sin{\\left(\\varphi \\right)} \\dot{\\psi} + \\cos{\\left(\\varphi \\right)} \\dot{\\theta})\\hat{d}_x + (\\cos{\\left(\\theta \\right)} \\dot{\\psi} + \\dot{\\varphi})\\hat{d}_y + (- \\sin{\\left(\\theta \\right)} \\cos{\\left(\\varphi \\right)} \\dot{\\psi} + \\sin{\\left(\\varphi \\right)} \\dot{\\theta})\\hat{d}_z$"
      ],
      "text/plain": [
       "(sin(θ)⋅sin(varphi)⋅ψ̇ + cos(varphi)⋅θ̇) d_x + (cos(θ)⋅ψ̇ + varṗhi) d_y + (-s\n",
       "in(θ)⋅cos(varphi)⋅ψ̇ + sin(varphi)⋅θ̇) d_z"
      ]
     },
     "execution_count": 45,
     "metadata": {},
     "output_type": "execute_result"
    }
   ],
   "source": [
    "A_w_D.express(D)"
   ]
  },
  {
   "cell_type": "code",
   "execution_count": 46,
   "id": "a17b50a8",
   "metadata": {
    "execution": {
     "iopub.execute_input": "2025-09-25T05:51:01.339045Z",
     "iopub.status.busy": "2025-09-25T05:51:01.338898Z",
     "iopub.status.idle": "2025-09-25T05:51:01.347068Z",
     "shell.execute_reply": "2025-09-25T05:51:01.346666Z"
    }
   },
   "outputs": [
    {
     "data": {
      "text/latex": [
       "$\\displaystyle \\ddot{\\theta}\\hat{a}_z$"
      ],
      "text/plain": [
       "θ̈ a_z"
      ]
     },
     "execution_count": 46,
     "metadata": {},
     "output_type": "execute_result"
    }
   ],
   "source": [
    "theta = me.dynamicsymbols('theta')\n",
    "\n",
    "A = me.ReferenceFrame('A')\n",
    "B = me.ReferenceFrame('B')\n",
    "B.orient_axis(A, theta, A.z)\n",
    "B.ang_acc_in(A)"
   ]
  },
  {
   "cell_type": "code",
   "execution_count": 47,
   "id": "6d094e55",
   "metadata": {
    "execution": {
     "iopub.execute_input": "2025-09-25T05:51:01.348346Z",
     "iopub.status.busy": "2025-09-25T05:51:01.348194Z",
     "iopub.status.idle": "2025-09-25T05:51:01.353213Z",
     "shell.execute_reply": "2025-09-25T05:51:01.352686Z"
    }
   },
   "outputs": [
    {
     "data": {
      "text/latex": [
       "$\\displaystyle \\ddot{\\theta}\\hat{a}_z$"
      ],
      "text/plain": [
       "θ̈ a_z"
      ]
     },
     "execution_count": 47,
     "metadata": {},
     "output_type": "execute_result"
    }
   ],
   "source": [
    "B.ang_vel_in(A).dt(A)"
   ]
  },
  {
   "cell_type": "code",
   "execution_count": 48,
   "id": "3bc83278",
   "metadata": {
    "execution": {
     "iopub.execute_input": "2025-09-25T05:51:01.354507Z",
     "iopub.status.busy": "2025-09-25T05:51:01.354363Z",
     "iopub.status.idle": "2025-09-25T05:51:01.361123Z",
     "shell.execute_reply": "2025-09-25T05:51:01.360746Z"
    }
   },
   "outputs": [
    {
     "data": {
      "text/latex": [
       "$\\displaystyle \\ddot{\\theta}\\hat{a}_z$"
      ],
      "text/plain": [
       "θ̈ a_z"
      ]
     },
     "execution_count": 48,
     "metadata": {},
     "output_type": "execute_result"
    }
   ],
   "source": [
    "B.ang_vel_in(A).dt(B)"
   ]
  },
  {
   "cell_type": "code",
   "execution_count": 49,
   "id": "6d85f522",
   "metadata": {
    "execution": {
     "iopub.execute_input": "2025-09-25T05:51:01.362513Z",
     "iopub.status.busy": "2025-09-25T05:51:01.362368Z",
     "iopub.status.idle": "2025-09-25T05:51:01.832406Z",
     "shell.execute_reply": "2025-09-25T05:51:01.831889Z"
    }
   },
   "outputs": [
    {
     "data": {
      "text/latex": [
       "$\\displaystyle (\\sin{\\left(\\theta \\right)} \\sin{\\left(\\varphi \\right)} \\ddot{\\psi} + \\sin{\\left(\\theta \\right)} \\cos{\\left(\\varphi \\right)} \\dot{\\psi} \\dot{\\varphi} + \\sin{\\left(\\varphi \\right)} \\cos{\\left(\\theta \\right)} \\dot{\\psi} \\dot{\\theta} - \\sin{\\left(\\varphi \\right)} \\dot{\\theta} \\dot{\\varphi} + \\cos{\\left(\\varphi \\right)} \\ddot{\\theta})\\hat{d}_x + (- \\sin{\\left(\\theta \\right)} \\dot{\\psi} \\dot{\\theta} + \\cos{\\left(\\theta \\right)} \\ddot{\\psi} + \\ddot{\\varphi})\\hat{d}_y + (\\sin{\\left(\\theta \\right)} \\sin{\\left(\\varphi \\right)} \\dot{\\psi} \\dot{\\varphi} - \\sin{\\left(\\theta \\right)} \\cos{\\left(\\varphi \\right)} \\ddot{\\psi} + \\sin{\\left(\\varphi \\right)} \\ddot{\\theta} - \\cos{\\left(\\theta \\right)} \\cos{\\left(\\varphi \\right)} \\dot{\\psi} \\dot{\\theta} + \\cos{\\left(\\varphi \\right)} \\dot{\\theta} \\dot{\\varphi})\\hat{d}_z$"
      ],
      "text/plain": [
       "(sin(θ)⋅sin(varphi)⋅ψ̈ + sin(θ)⋅cos(varphi)⋅ψ̇⋅varṗhi + sin(varphi)⋅cos(θ)⋅ψ̇\n",
       "⋅θ̇ - sin(varphi)⋅θ̇⋅varṗhi + cos(varphi)⋅θ̈) d_x + (-sin(θ)⋅ψ̇⋅θ̇ + cos(θ)⋅ψ\n",
       "̈ + varp̈hi) d_y + (sin(θ)⋅sin(varphi)⋅ψ̇⋅varṗhi - sin(θ)⋅cos(varphi)⋅ψ̈ + si\n",
       "n(varphi)⋅θ̈ - cos(θ)⋅cos(varphi)⋅ψ̇⋅θ̇ + cos(varphi)⋅θ̇⋅varṗhi) d_z"
      ]
     },
     "execution_count": 49,
     "metadata": {},
     "output_type": "execute_result"
    }
   ],
   "source": [
    "psi, theta, phi = me.dynamicsymbols('psi, theta, varphi')\n",
    "\n",
    "A = me.ReferenceFrame('A')\n",
    "D = me.ReferenceFrame('D')\n",
    "D.orient_body_fixed(A, (psi, theta, phi), 'YXY')\n",
    "\n",
    "D.ang_acc_in(A).simplify()"
   ]
  },
  {
   "cell_type": "code",
   "execution_count": 50,
   "id": "c5cdca63",
   "metadata": {
    "execution": {
     "iopub.execute_input": "2025-09-25T05:51:01.833771Z",
     "iopub.status.busy": "2025-09-25T05:51:01.833607Z",
     "iopub.status.idle": "2025-09-25T05:51:02.244282Z",
     "shell.execute_reply": "2025-09-25T05:51:02.243718Z"
    }
   },
   "outputs": [
    {
     "data": {
      "text/latex": [
       "$\\displaystyle (\\sin{\\left(\\theta \\right)} \\sin{\\left(\\varphi \\right)} \\ddot{\\psi} + \\sin{\\left(\\theta \\right)} \\cos{\\left(\\varphi \\right)} \\dot{\\psi} \\dot{\\varphi} + \\sin{\\left(\\varphi \\right)} \\cos{\\left(\\theta \\right)} \\dot{\\psi} \\dot{\\theta} - \\sin{\\left(\\varphi \\right)} \\dot{\\theta} \\dot{\\varphi} + \\cos{\\left(\\varphi \\right)} \\ddot{\\theta})\\hat{d}_x + (- \\sin{\\left(\\theta \\right)} \\dot{\\psi} \\dot{\\theta} + \\cos{\\left(\\theta \\right)} \\ddot{\\psi} + \\ddot{\\varphi})\\hat{d}_y + (\\sin{\\left(\\theta \\right)} \\sin{\\left(\\varphi \\right)} \\dot{\\psi} \\dot{\\varphi} - \\sin{\\left(\\theta \\right)} \\cos{\\left(\\varphi \\right)} \\ddot{\\psi} + \\sin{\\left(\\varphi \\right)} \\ddot{\\theta} - \\cos{\\left(\\theta \\right)} \\cos{\\left(\\varphi \\right)} \\dot{\\psi} \\dot{\\theta} + \\cos{\\left(\\varphi \\right)} \\dot{\\theta} \\dot{\\varphi})\\hat{d}_z$"
      ],
      "text/plain": [
       "(sin(θ)⋅sin(varphi)⋅ψ̈ + sin(θ)⋅cos(varphi)⋅ψ̇⋅varṗhi + sin(varphi)⋅cos(θ)⋅ψ̇\n",
       "⋅θ̇ - sin(varphi)⋅θ̇⋅varṗhi + cos(varphi)⋅θ̈) d_x + (-sin(θ)⋅ψ̇⋅θ̇ + cos(θ)⋅ψ\n",
       "̈ + varp̈hi) d_y + (sin(θ)⋅sin(varphi)⋅ψ̇⋅varṗhi - sin(θ)⋅cos(varphi)⋅ψ̈ + si\n",
       "n(varphi)⋅θ̈ - cos(θ)⋅cos(varphi)⋅ψ̇⋅θ̇ + cos(varphi)⋅θ̇⋅varṗhi) d_z"
      ]
     },
     "execution_count": 50,
     "metadata": {},
     "output_type": "execute_result"
    }
   ],
   "source": [
    "D.ang_vel_in(A).dt(A).simplify()"
   ]
  },
  {
   "cell_type": "code",
   "execution_count": 51,
   "id": "646d32c0",
   "metadata": {
    "execution": {
     "iopub.execute_input": "2025-09-25T05:51:02.245838Z",
     "iopub.status.busy": "2025-09-25T05:51:02.245671Z",
     "iopub.status.idle": "2025-09-25T05:51:02.656438Z",
     "shell.execute_reply": "2025-09-25T05:51:02.655886Z"
    }
   },
   "outputs": [
    {
     "data": {
      "text/latex": [
       "$\\displaystyle (\\sin{\\left(\\theta \\right)} \\sin{\\left(\\varphi \\right)} \\ddot{\\psi} + \\sin{\\left(\\theta \\right)} \\cos{\\left(\\varphi \\right)} \\dot{\\psi} \\dot{\\varphi} + \\sin{\\left(\\varphi \\right)} \\cos{\\left(\\theta \\right)} \\dot{\\psi} \\dot{\\theta} - \\sin{\\left(\\varphi \\right)} \\dot{\\theta} \\dot{\\varphi} + \\cos{\\left(\\varphi \\right)} \\ddot{\\theta})\\hat{d}_x + (- \\sin{\\left(\\theta \\right)} \\dot{\\psi} \\dot{\\theta} + \\cos{\\left(\\theta \\right)} \\ddot{\\psi} + \\ddot{\\varphi})\\hat{d}_y + (\\sin{\\left(\\theta \\right)} \\sin{\\left(\\varphi \\right)} \\dot{\\psi} \\dot{\\varphi} - \\sin{\\left(\\theta \\right)} \\cos{\\left(\\varphi \\right)} \\ddot{\\psi} + \\sin{\\left(\\varphi \\right)} \\ddot{\\theta} - \\cos{\\left(\\theta \\right)} \\cos{\\left(\\varphi \\right)} \\dot{\\psi} \\dot{\\theta} + \\cos{\\left(\\varphi \\right)} \\dot{\\theta} \\dot{\\varphi})\\hat{d}_z$"
      ],
      "text/plain": [
       "(sin(θ)⋅sin(varphi)⋅ψ̈ + sin(θ)⋅cos(varphi)⋅ψ̇⋅varṗhi + sin(varphi)⋅cos(θ)⋅ψ̇\n",
       "⋅θ̇ - sin(varphi)⋅θ̇⋅varṗhi + cos(varphi)⋅θ̈) d_x + (-sin(θ)⋅ψ̇⋅θ̇ + cos(θ)⋅ψ\n",
       "̈ + varp̈hi) d_y + (sin(θ)⋅sin(varphi)⋅ψ̇⋅varṗhi - sin(θ)⋅cos(varphi)⋅ψ̈ + si\n",
       "n(varphi)⋅θ̈ - cos(θ)⋅cos(varphi)⋅ψ̇⋅θ̇ + cos(varphi)⋅θ̇⋅varṗhi) d_z"
      ]
     },
     "execution_count": 51,
     "metadata": {},
     "output_type": "execute_result"
    }
   ],
   "source": [
    "D.ang_vel_in(A).dt(D).simplify()"
   ]
  },
  {
   "cell_type": "code",
   "execution_count": 52,
   "id": "08ec86ad",
   "metadata": {
    "execution": {
     "iopub.execute_input": "2025-09-25T05:51:02.657886Z",
     "iopub.status.busy": "2025-09-25T05:51:02.657729Z",
     "iopub.status.idle": "2025-09-25T05:51:02.667499Z",
     "shell.execute_reply": "2025-09-25T05:51:02.666989Z"
    }
   },
   "outputs": [],
   "source": [
    "psi, theta, phi = me.dynamicsymbols('psi, theta, varphi')\n",
    "\n",
    "A = me.ReferenceFrame('A')\n",
    "B = me.ReferenceFrame('B')\n",
    "C = me.ReferenceFrame('C')\n",
    "D = me.ReferenceFrame('D')\n",
    "\n",
    "B.orient_axis(A, psi, A.y)\n",
    "C.orient_axis(B, theta, B.x)\n",
    "D.orient_axis(C, phi, C.y)"
   ]
  },
  {
   "cell_type": "code",
   "execution_count": 53,
   "id": "9023d102",
   "metadata": {
    "execution": {
     "iopub.execute_input": "2025-09-25T05:51:02.668786Z",
     "iopub.status.busy": "2025-09-25T05:51:02.668634Z",
     "iopub.status.idle": "2025-09-25T05:51:02.673717Z",
     "shell.execute_reply": "2025-09-25T05:51:02.673253Z"
    }
   },
   "outputs": [
    {
     "data": {
      "text/latex": [
       "$\\displaystyle \\ddot{\\psi}\\hat{a}_y$"
      ],
      "text/plain": [
       "ψ̈ a_y"
      ]
     },
     "execution_count": 53,
     "metadata": {},
     "output_type": "execute_result"
    }
   ],
   "source": [
    "A_alp_B = B.ang_acc_in(A)\n",
    "A_alp_B"
   ]
  },
  {
   "cell_type": "code",
   "execution_count": 54,
   "id": "c4d512b8",
   "metadata": {
    "execution": {
     "iopub.execute_input": "2025-09-25T05:51:02.675096Z",
     "iopub.status.busy": "2025-09-25T05:51:02.674943Z",
     "iopub.status.idle": "2025-09-25T05:51:02.679870Z",
     "shell.execute_reply": "2025-09-25T05:51:02.679503Z"
    }
   },
   "outputs": [
    {
     "data": {
      "text/latex": [
       "$\\displaystyle \\ddot{\\theta}\\hat{b}_x$"
      ],
      "text/plain": [
       "θ̈ b_x"
      ]
     },
     "execution_count": 54,
     "metadata": {},
     "output_type": "execute_result"
    }
   ],
   "source": [
    "B_alp_C = C.ang_acc_in(B)\n",
    "B_alp_C"
   ]
  },
  {
   "cell_type": "code",
   "execution_count": 55,
   "id": "8f8e359c",
   "metadata": {
    "execution": {
     "iopub.execute_input": "2025-09-25T05:51:02.681113Z",
     "iopub.status.busy": "2025-09-25T05:51:02.680967Z",
     "iopub.status.idle": "2025-09-25T05:51:02.686131Z",
     "shell.execute_reply": "2025-09-25T05:51:02.685653Z"
    }
   },
   "outputs": [
    {
     "data": {
      "text/latex": [
       "$\\displaystyle \\ddot{\\varphi}\\hat{c}_y$"
      ],
      "text/plain": [
       "varp̈hi c_y"
      ]
     },
     "execution_count": 55,
     "metadata": {},
     "output_type": "execute_result"
    }
   ],
   "source": [
    "C_alp_D = D.ang_acc_in(C)\n",
    "C_alp_D"
   ]
  },
  {
   "cell_type": "code",
   "execution_count": 56,
   "id": "6f456f8f",
   "metadata": {
    "execution": {
     "iopub.execute_input": "2025-09-25T05:51:02.687490Z",
     "iopub.status.busy": "2025-09-25T05:51:02.687349Z",
     "iopub.status.idle": "2025-09-25T05:51:02.813747Z",
     "shell.execute_reply": "2025-09-25T05:51:02.813280Z"
    }
   },
   "outputs": [
    {
     "data": {
      "text/latex": [
       "$\\displaystyle (\\sin{\\left(\\theta \\right)} \\sin{\\left(\\varphi \\right)} \\ddot{\\psi} + \\cos{\\left(\\varphi \\right)} \\ddot{\\theta})\\hat{d}_x + (\\cos{\\left(\\theta \\right)} \\ddot{\\psi} + \\ddot{\\varphi})\\hat{d}_y + (- \\sin{\\left(\\theta \\right)} \\cos{\\left(\\varphi \\right)} \\ddot{\\psi} + \\sin{\\left(\\varphi \\right)} \\ddot{\\theta})\\hat{d}_z$"
      ],
      "text/plain": [
       "(sin(θ)⋅sin(varphi)⋅ψ̈ + cos(varphi)⋅θ̈) d_x + (cos(θ)⋅ψ̈ + varp̈hi) d_y + (-s\n",
       "in(θ)⋅cos(varphi)⋅ψ̈ + sin(varphi)⋅θ̈) d_z"
      ]
     },
     "execution_count": 56,
     "metadata": {},
     "output_type": "execute_result"
    }
   ],
   "source": [
    "A_alp_D = A_alp_B + B_alp_C + C_alp_D\n",
    "A_alp_D.express(D).simplify()"
   ]
  },
  {
   "cell_type": "code",
   "execution_count": 57,
   "id": "08994e82",
   "metadata": {
    "execution": {
     "iopub.execute_input": "2025-09-25T05:51:02.815140Z",
     "iopub.status.busy": "2025-09-25T05:51:02.814992Z",
     "iopub.status.idle": "2025-09-25T05:51:03.233360Z",
     "shell.execute_reply": "2025-09-25T05:51:03.232890Z"
    }
   },
   "outputs": [
    {
     "data": {
      "text/latex": [
       "$\\displaystyle (\\sin{\\left(\\theta \\right)} \\sin{\\left(\\varphi \\right)} \\ddot{\\psi} + \\sin{\\left(\\theta \\right)} \\cos{\\left(\\varphi \\right)} \\dot{\\psi} \\dot{\\varphi} + \\sin{\\left(\\varphi \\right)} \\cos{\\left(\\theta \\right)} \\dot{\\psi} \\dot{\\theta} - \\sin{\\left(\\varphi \\right)} \\dot{\\theta} \\dot{\\varphi} + \\cos{\\left(\\varphi \\right)} \\ddot{\\theta})\\hat{d}_x + (- \\sin{\\left(\\theta \\right)} \\dot{\\psi} \\dot{\\theta} + \\cos{\\left(\\theta \\right)} \\ddot{\\psi} + \\ddot{\\varphi})\\hat{d}_y + (\\sin{\\left(\\theta \\right)} \\sin{\\left(\\varphi \\right)} \\dot{\\psi} \\dot{\\varphi} - \\sin{\\left(\\theta \\right)} \\cos{\\left(\\varphi \\right)} \\ddot{\\psi} + \\sin{\\left(\\varphi \\right)} \\ddot{\\theta} - \\cos{\\left(\\theta \\right)} \\cos{\\left(\\varphi \\right)} \\dot{\\psi} \\dot{\\theta} + \\cos{\\left(\\varphi \\right)} \\dot{\\theta} \\dot{\\varphi})\\hat{d}_z$"
      ],
      "text/plain": [
       "(sin(θ)⋅sin(varphi)⋅ψ̈ + sin(θ)⋅cos(varphi)⋅ψ̇⋅varṗhi + sin(varphi)⋅cos(θ)⋅ψ̇\n",
       "⋅θ̇ - sin(varphi)⋅θ̇⋅varṗhi + cos(varphi)⋅θ̈) d_x + (-sin(θ)⋅ψ̇⋅θ̇ + cos(θ)⋅ψ\n",
       "̈ + varp̈hi) d_y + (sin(θ)⋅sin(varphi)⋅ψ̇⋅varṗhi - sin(θ)⋅cos(varphi)⋅ψ̈ + si\n",
       "n(varphi)⋅θ̈ - cos(θ)⋅cos(varphi)⋅ψ̇⋅θ̇ + cos(varphi)⋅θ̇⋅varṗhi) d_z"
      ]
     },
     "execution_count": 57,
     "metadata": {},
     "output_type": "execute_result"
    }
   ],
   "source": [
    "D.ang_vel_in(A).dt(A).express(D).simplify()"
   ]
  }
 ],
 "metadata": {
  "kernelspec": {
   "display_name": "Python 3 (ipykernel)",
   "language": "python",
   "name": "python3"
  },
  "language_info": {
   "codemirror_mode": {
    "name": "ipython",
    "version": 3
   },
   "file_extension": ".py",
   "mimetype": "text/x-python",
   "name": "python",
   "nbconvert_exporter": "python",
   "pygments_lexer": "ipython3",
   "version": "3.11.13"
  }
 },
 "nbformat": 4,
 "nbformat_minor": 5
}