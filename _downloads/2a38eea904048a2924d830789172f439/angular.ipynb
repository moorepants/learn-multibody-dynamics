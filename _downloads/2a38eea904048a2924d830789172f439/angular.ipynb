{
 "cells": [
  {
   "cell_type": "code",
   "execution_count": 1,
   "id": "ce530be2",
   "metadata": {
    "execution": {
     "iopub.execute_input": "2025-01-22T13:05:41.434631Z",
     "iopub.status.busy": "2025-01-22T13:05:41.434475Z",
     "iopub.status.idle": "2025-01-22T13:05:41.770477Z",
     "shell.execute_reply": "2025-01-22T13:05:41.769869Z"
    }
   },
   "outputs": [],
   "source": [
    "import sympy as sm\n",
    "import sympy.physics.mechanics as me\n",
    "me.init_vprinting(use_latex='mathjax')"
   ]
  },
  {
   "cell_type": "code",
   "execution_count": 2,
   "id": "8deae9a0",
   "metadata": {
    "execution": {
     "iopub.execute_input": "2025-01-22T13:05:41.772556Z",
     "iopub.status.busy": "2025-01-22T13:05:41.772348Z",
     "iopub.status.idle": "2025-01-22T13:05:41.776217Z",
     "shell.execute_reply": "2025-01-22T13:05:41.775682Z"
    }
   },
   "outputs": [],
   "source": [
    "class ReferenceFrame(me.ReferenceFrame):\n",
    "\n",
    "    def __init__(self, *args, **kwargs):\n",
    "\n",
    "        kwargs.pop('latexs', None)\n",
    "\n",
    "        lab = args[0].lower()\n",
    "        tex = r'\\hat{{{}}}_{}'\n",
    "\n",
    "        super(ReferenceFrame, self).__init__(*args,\n",
    "                                             latexs=(tex.format(lab, 'x'),\n",
    "                                                     tex.format(lab, 'y'),\n",
    "                                                     tex.format(lab, 'z')),\n",
    "                                             **kwargs)\n",
    "me.ReferenceFrame = ReferenceFrame"
   ]
  },
  {
   "cell_type": "code",
   "execution_count": 3,
   "id": "ded00c64",
   "metadata": {
    "execution": {
     "iopub.execute_input": "2025-01-22T13:05:41.777797Z",
     "iopub.status.busy": "2025-01-22T13:05:41.777540Z",
     "iopub.status.idle": "2025-01-22T13:05:41.782104Z",
     "shell.execute_reply": "2025-01-22T13:05:41.781572Z"
    }
   },
   "outputs": [],
   "source": [
    "cxx, cyy, czz = me.dynamicsymbols('c_{xx}, c_{yy}, c_{zz}')\n",
    "cxy, cxz, cyx = me.dynamicsymbols('c_{xy}, c_{xz}, c_{yx}')\n",
    "cyz, czx, czy = me.dynamicsymbols('c_{yz}, c_{zx}, c_{zy}')\n",
    "\n",
    "B_C_A = sm.Matrix([[cxx, cxy, cxz],\n",
    "                   [cyx, cyy, cyz],\n",
    "                   [czx, czy, czz]])"
   ]
  },
  {
   "cell_type": "code",
   "execution_count": 4,
   "id": "c598241d",
   "metadata": {
    "execution": {
     "iopub.execute_input": "2025-01-22T13:05:41.783613Z",
     "iopub.status.busy": "2025-01-22T13:05:41.783251Z",
     "iopub.status.idle": "2025-01-22T13:05:41.805075Z",
     "shell.execute_reply": "2025-01-22T13:05:41.804585Z"
    }
   },
   "outputs": [
    {
     "data": {
      "text/latex": [
       "$\\displaystyle \\left[\\begin{matrix}c_{xx} & c_{xy} & c_{xz}\\\\c_{yx} & c_{yy} & c_{yz}\\\\c_{zx} & c_{zy} & c_{zz}\\end{matrix}\\right]$"
      ],
      "text/plain": [
       "⎡c_{xx}  c_{xy}  c_{xz}⎤\n",
       "⎢                      ⎥\n",
       "⎢c_{yx}  c_{yy}  c_{yz}⎥\n",
       "⎢                      ⎥\n",
       "⎣c_{zx}  c_{zy}  c_{zz}⎦"
      ]
     },
     "execution_count": 4,
     "metadata": {},
     "output_type": "execute_result"
    }
   ],
   "source": [
    "A = me.ReferenceFrame('A')\n",
    "B = me.ReferenceFrame('B')\n",
    "B.orient_explicit(A, B_C_A.transpose())\n",
    "B.dcm(A)"
   ]
  },
  {
   "cell_type": "code",
   "execution_count": 5,
   "id": "f7ebc719",
   "metadata": {
    "execution": {
     "iopub.execute_input": "2025-01-22T13:05:41.806666Z",
     "iopub.status.busy": "2025-01-22T13:05:41.806232Z",
     "iopub.status.idle": "2025-01-22T13:05:41.810464Z",
     "shell.execute_reply": "2025-01-22T13:05:41.809946Z"
    }
   },
   "outputs": [
    {
     "data": {
      "text/latex": [
       "$\\displaystyle c_{xx}\\hat{a}_x + c_{xy}\\hat{a}_y + c_{xz}\\hat{a}_z$"
      ],
      "text/plain": [
       "c_{xx} a_x + c_{xy} a_y + c_{xz} a_z"
      ]
     },
     "execution_count": 5,
     "metadata": {},
     "output_type": "execute_result"
    }
   ],
   "source": [
    "B.x.express(A)"
   ]
  },
  {
   "cell_type": "code",
   "execution_count": 6,
   "id": "1a38bf0e",
   "metadata": {
    "execution": {
     "iopub.execute_input": "2025-01-22T13:05:41.812317Z",
     "iopub.status.busy": "2025-01-22T13:05:41.811761Z",
     "iopub.status.idle": "2025-01-22T13:05:41.815766Z",
     "shell.execute_reply": "2025-01-22T13:05:41.815381Z"
    }
   },
   "outputs": [
    {
     "data": {
      "text/latex": [
       "$\\displaystyle c_{yx}\\hat{a}_x + c_{yy}\\hat{a}_y + c_{yz}\\hat{a}_z$"
      ],
      "text/plain": [
       "c_{yx} a_x + c_{yy} a_y + c_{yz} a_z"
      ]
     },
     "execution_count": 6,
     "metadata": {},
     "output_type": "execute_result"
    }
   ],
   "source": [
    "B.y.express(A)"
   ]
  },
  {
   "cell_type": "code",
   "execution_count": 7,
   "id": "3974313a",
   "metadata": {
    "execution": {
     "iopub.execute_input": "2025-01-22T13:05:41.817144Z",
     "iopub.status.busy": "2025-01-22T13:05:41.816840Z",
     "iopub.status.idle": "2025-01-22T13:05:41.820862Z",
     "shell.execute_reply": "2025-01-22T13:05:41.820491Z"
    }
   },
   "outputs": [
    {
     "data": {
      "text/latex": [
       "$\\displaystyle c_{zx}\\hat{a}_x + c_{zy}\\hat{a}_y + c_{zz}\\hat{a}_z$"
      ],
      "text/plain": [
       "c_{zx} a_x + c_{zy} a_y + c_{zz} a_z"
      ]
     },
     "execution_count": 7,
     "metadata": {},
     "output_type": "execute_result"
    }
   ],
   "source": [
    "B.z.express(A)"
   ]
  },
  {
   "cell_type": "code",
   "execution_count": 8,
   "id": "9b2ed1a1",
   "metadata": {
    "execution": {
     "iopub.execute_input": "2025-01-22T13:05:41.822125Z",
     "iopub.status.busy": "2025-01-22T13:05:41.821959Z",
     "iopub.status.idle": "2025-01-22T13:05:41.828078Z",
     "shell.execute_reply": "2025-01-22T13:05:41.827568Z"
    }
   },
   "outputs": [
    {
     "data": {
      "text/latex": [
       "$\\displaystyle \\dot{c}_{yx}\\hat{a}_x + \\dot{c}_{yy}\\hat{a}_y + \\dot{c}_{yz}\\hat{a}_z$"
      ],
      "text/plain": [
       "c_{ẏx} a_x + c_{ẏy} a_y + c_{ẏz} a_z"
      ]
     },
     "execution_count": 8,
     "metadata": {},
     "output_type": "execute_result"
    }
   ],
   "source": [
    "B.y.express(A).dt(A)"
   ]
  },
  {
   "cell_type": "code",
   "execution_count": 9,
   "id": "e664d9f8",
   "metadata": {
    "execution": {
     "iopub.execute_input": "2025-01-22T13:05:41.829471Z",
     "iopub.status.busy": "2025-01-22T13:05:41.829324Z",
     "iopub.status.idle": "2025-01-22T13:05:41.837155Z",
     "shell.execute_reply": "2025-01-22T13:05:41.836764Z"
    }
   },
   "outputs": [
    {
     "data": {
      "text/latex": [
       "$\\displaystyle c_{zx} \\dot{c}_{yx} + c_{zy} \\dot{c}_{yy} + c_{zz} \\dot{c}_{yz}$"
      ],
      "text/plain": [
       "c_{zx}⋅c_{ẏx} + c_{zy}⋅c_{ẏy} + c_{zz}⋅c_{ẏz}"
      ]
     },
     "execution_count": 9,
     "metadata": {},
     "output_type": "execute_result"
    }
   ],
   "source": [
    "mnx = me.dot(B.y.express(A).dt(A), B.z)\n",
    "mnx"
   ]
  },
  {
   "cell_type": "code",
   "execution_count": 10,
   "id": "09b19471",
   "metadata": {
    "execution": {
     "iopub.execute_input": "2025-01-22T13:05:41.838480Z",
     "iopub.status.busy": "2025-01-22T13:05:41.838330Z",
     "iopub.status.idle": "2025-01-22T13:05:41.846063Z",
     "shell.execute_reply": "2025-01-22T13:05:41.845551Z"
    }
   },
   "outputs": [
    {
     "data": {
      "text/latex": [
       "$\\displaystyle c_{xx} \\dot{c}_{zx} + c_{xy} \\dot{c}_{zy} + c_{xz} \\dot{c}_{zz}$"
      ],
      "text/plain": [
       "c_{xx}⋅c_{żx} + c_{xy}⋅c_{ży} + c_{xz}⋅c_{żz}"
      ]
     },
     "execution_count": 10,
     "metadata": {},
     "output_type": "execute_result"
    }
   ],
   "source": [
    "mny = me.dot(B.z.express(A).dt(A), B.x)\n",
    "mny"
   ]
  },
  {
   "cell_type": "code",
   "execution_count": 11,
   "id": "ce17c7b0",
   "metadata": {
    "execution": {
     "iopub.execute_input": "2025-01-22T13:05:41.847426Z",
     "iopub.status.busy": "2025-01-22T13:05:41.847277Z",
     "iopub.status.idle": "2025-01-22T13:05:41.854825Z",
     "shell.execute_reply": "2025-01-22T13:05:41.854419Z"
    }
   },
   "outputs": [
    {
     "data": {
      "text/latex": [
       "$\\displaystyle c_{yx} \\dot{c}_{xx} + c_{yy} \\dot{c}_{xy} + c_{yz} \\dot{c}_{xz}$"
      ],
      "text/plain": [
       "c_{yx}⋅c_{ẋx} + c_{yy}⋅c_{ẋy} + c_{yz}⋅c_{ẋz}"
      ]
     },
     "execution_count": 11,
     "metadata": {},
     "output_type": "execute_result"
    }
   ],
   "source": [
    "mnz = me.dot(B.x.express(A).dt(A), B.y)\n",
    "mnz"
   ]
  },
  {
   "cell_type": "code",
   "execution_count": 12,
   "id": "83976f7e",
   "metadata": {
    "execution": {
     "iopub.execute_input": "2025-01-22T13:05:41.856117Z",
     "iopub.status.busy": "2025-01-22T13:05:41.855951Z",
     "iopub.status.idle": "2025-01-22T13:05:41.865374Z",
     "shell.execute_reply": "2025-01-22T13:05:41.864862Z"
    }
   },
   "outputs": [
    {
     "data": {
      "text/latex": [
       "$\\displaystyle (c_{zx} \\dot{c}_{yx} + c_{zy} \\dot{c}_{yy} + c_{zz} \\dot{c}_{yz})\\hat{b}_x + (c_{xx} \\dot{c}_{zx} + c_{xy} \\dot{c}_{zy} + c_{xz} \\dot{c}_{zz})\\hat{b}_y + (c_{yx} \\dot{c}_{xx} + c_{yy} \\dot{c}_{xy} + c_{yz} \\dot{c}_{xz})\\hat{b}_z$"
      ],
      "text/plain": [
       "(c_{zx}⋅c_{ẏx} + c_{zy}⋅c_{ẏy} + c_{zz}⋅c_{ẏz}) b_x + (c_{xx}⋅c_{żx} + c_{\n",
       "xy}⋅c_{ży} + c_{xz}⋅c_{żz}) b_y + (c_{yx}⋅c_{ẋx} + c_{yy}⋅c_{ẋy} + c_{yz}⋅\n",
       "c_{ẋz}) b_z"
      ]
     },
     "execution_count": 12,
     "metadata": {},
     "output_type": "execute_result"
    }
   ],
   "source": [
    "A_w_B = mnx*B.x + mny*B.y + mnz*B.z\n",
    "A_w_B"
   ]
  },
  {
   "cell_type": "code",
   "execution_count": 13,
   "id": "d3af2d04",
   "metadata": {
    "execution": {
     "iopub.execute_input": "2025-01-22T13:05:41.866934Z",
     "iopub.status.busy": "2025-01-22T13:05:41.866640Z",
     "iopub.status.idle": "2025-01-22T13:05:41.873372Z",
     "shell.execute_reply": "2025-01-22T13:05:41.872863Z"
    }
   },
   "outputs": [
    {
     "data": {
      "text/latex": [
       "$\\displaystyle \\left[\\begin{matrix}\\frac{\\sqrt{2}}{4} & \\frac{\\sqrt{2}}{2} & \\frac{\\sqrt{6}}{4}\\\\- \\frac{\\sqrt{3}}{2} & 0 & \\frac{1}{2}\\\\\\frac{\\sqrt{2}}{4} & - \\frac{\\sqrt{2}}{2} & \\frac{\\sqrt{6}}{4}\\end{matrix}\\right]$"
      ],
      "text/plain": [
       "⎡ √2    √2   √6 ⎤\n",
       "⎢ ──    ──   ── ⎥\n",
       "⎢ 4     2    4  ⎥\n",
       "⎢               ⎥\n",
       "⎢-√3            ⎥\n",
       "⎢────   0    1/2⎥\n",
       "⎢ 2             ⎥\n",
       "⎢               ⎥\n",
       "⎢ √2   -√2   √6 ⎥\n",
       "⎢ ──   ────  ── ⎥\n",
       "⎣ 4     2    4  ⎦"
      ]
     },
     "execution_count": 13,
     "metadata": {},
     "output_type": "execute_result"
    }
   ],
   "source": [
    "B_C_A = sm.Matrix([\n",
    "    [ sm.sqrt(2)/4,  sm.sqrt(2)/2, sm.sqrt(6)/4],\n",
    "    [-sm.sqrt(3)/2,          0,       sm.S(1)/2],\n",
    "    [ sm.sqrt(2)/4, -sm.sqrt(2)/2, sm.sqrt(6)/4]\n",
    "])\n",
    "B_C_A"
   ]
  },
  {
   "cell_type": "code",
   "execution_count": 14,
   "id": "737d3ead",
   "metadata": {
    "execution": {
     "iopub.execute_input": "2025-01-22T13:05:41.874794Z",
     "iopub.status.busy": "2025-01-22T13:05:41.874641Z",
     "iopub.status.idle": "2025-01-22T13:05:41.885424Z",
     "shell.execute_reply": "2025-01-22T13:05:41.884999Z"
    }
   },
   "outputs": [
    {
     "data": {
      "text/latex": [
       "$\\displaystyle \\left[\\begin{matrix}- \\frac{\\sqrt{6}}{2} - \\frac{3 \\sqrt{2}}{4} & - \\frac{\\sqrt{6}}{4} + \\frac{3 \\sqrt{2}}{2} & - \\frac{3 \\sqrt{6}}{4} + \\sqrt{2}\\\\-1 & - \\frac{1}{2} & - \\sqrt{3}\\\\- \\frac{\\sqrt{6}}{2} + \\frac{3 \\sqrt{2}}{4} & - \\frac{\\sqrt{6}}{4} + \\frac{3 \\sqrt{2}}{2} & \\frac{3 \\sqrt{6}}{4}\\end{matrix}\\right]$"
      ],
      "text/plain": [
       "⎡  √6   3⋅√2    √6   3⋅√2    3⋅√6     ⎤\n",
       "⎢- ── - ────  - ── + ────  - ──── + √2⎥\n",
       "⎢  2     4      4     2       4       ⎥\n",
       "⎢                                     ⎥\n",
       "⎢    -1          -1/2          -√3    ⎥\n",
       "⎢                                     ⎥\n",
       "⎢  √6   3⋅√2    √6   3⋅√2     3⋅√6    ⎥\n",
       "⎢- ── + ────  - ── + ────     ────    ⎥\n",
       "⎣  2     4      4     2        4      ⎦"
      ]
     },
     "execution_count": 14,
     "metadata": {},
     "output_type": "execute_result"
    }
   ],
   "source": [
    "B_C_A_dt = sm.Matrix([\n",
    "    [-sm.sqrt(6)/2 - 3*sm.sqrt(2)/4, -sm.sqrt(6)/4 + 3*sm.sqrt(2)/2, -3*sm.sqrt(6)/4 + sm.sqrt(2)],\n",
    "    [                      -1,                     -sm.S(1)/2,               -sm.sqrt(3)],\n",
    "    [-sm.sqrt(6)/2 + 3*sm.sqrt(2)/4, -sm.sqrt(6)/4 + 3*sm.sqrt(2)/2,            3*sm.sqrt(6)/4]\n",
    "])\n",
    "B_C_A_dt"
   ]
  },
  {
   "cell_type": "code",
   "execution_count": 15,
   "id": "bcbbd9c0",
   "metadata": {
    "execution": {
     "iopub.execute_input": "2025-01-22T13:05:41.886759Z",
     "iopub.status.busy": "2025-01-22T13:05:41.886609Z",
     "iopub.status.idle": "2025-01-22T13:05:41.892755Z",
     "shell.execute_reply": "2025-01-22T13:05:41.892353Z"
    }
   },
   "outputs": [],
   "source": [
    "mnx = (B_C_A[2, :]*B_C_A_dt[1, :].transpose())[0, 0]\n",
    "mny = (B_C_A[0, :]*B_C_A_dt[2, :].transpose())[0, 0]\n",
    "mnz = (B_C_A[1, :]*B_C_A_dt[0, :].transpose())[0, 0]\n",
    "\n",
    "A_w_B = mnx*B.x + mny*B.y + mnz*B.z"
   ]
  },
  {
   "cell_type": "code",
   "execution_count": 16,
   "id": "8311be76",
   "metadata": {
    "execution": {
     "iopub.execute_input": "2025-01-22T13:05:41.894129Z",
     "iopub.status.busy": "2025-01-22T13:05:41.893962Z",
     "iopub.status.idle": "2025-01-22T13:05:41.952891Z",
     "shell.execute_reply": "2025-01-22T13:05:41.952393Z"
    }
   },
   "outputs": [
    {
     "data": {
      "text/latex": [
       "$\\displaystyle -  \\frac{3 \\sqrt{2}}{4}\\hat{b}_x + (3 - \\frac{\\sqrt{3}}{2})\\hat{b}_y + \\frac{5 \\sqrt{2}}{4}\\hat{b}_z$"
      ],
      "text/plain": [
       "-3⋅√2        ⎛    √3⎞       5⋅√2\n",
       "────── b_x + ⎜3 - ──⎟ b_y + ──── b_z\n",
       "  4          ⎝    2 ⎠        4"
      ]
     },
     "execution_count": 16,
     "metadata": {},
     "output_type": "execute_result"
    }
   ],
   "source": [
    "A_w_B.simplify()"
   ]
  },
  {
   "cell_type": "code",
   "execution_count": 17,
   "id": "c19653ea",
   "metadata": {
    "execution": {
     "iopub.execute_input": "2025-01-22T13:05:41.954285Z",
     "iopub.status.busy": "2025-01-22T13:05:41.954145Z",
     "iopub.status.idle": "2025-01-22T13:05:41.960373Z",
     "shell.execute_reply": "2025-01-22T13:05:41.959864Z"
    }
   },
   "outputs": [
    {
     "data": {
      "text/latex": [
       "$\\displaystyle \\left[\\begin{matrix}\\cos{\\left(\\theta \\right)} & \\sin{\\left(\\theta \\right)} & 0\\\\- \\sin{\\left(\\theta \\right)} & \\cos{\\left(\\theta \\right)} & 0\\\\0 & 0 & 1\\end{matrix}\\right]$"
      ],
      "text/plain": [
       "⎡cos(θ)   sin(θ)  0⎤\n",
       "⎢                  ⎥\n",
       "⎢-sin(θ)  cos(θ)  0⎥\n",
       "⎢                  ⎥\n",
       "⎣   0       0     1⎦"
      ]
     },
     "execution_count": 17,
     "metadata": {},
     "output_type": "execute_result"
    }
   ],
   "source": [
    "theta = me.dynamicsymbols('theta')\n",
    "\n",
    "B_C_A = sm.Matrix([[sm.cos(theta), sm.sin(theta), 0],\n",
    "                   [-sm.sin(theta), sm.cos(theta), 0],\n",
    "                   [0, 0, 1]])\n",
    "\n",
    "B_C_A"
   ]
  },
  {
   "cell_type": "code",
   "execution_count": 18,
   "id": "937e266f",
   "metadata": {
    "execution": {
     "iopub.execute_input": "2025-01-22T13:05:41.961670Z",
     "iopub.status.busy": "2025-01-22T13:05:41.961521Z",
     "iopub.status.idle": "2025-01-22T13:05:42.006474Z",
     "shell.execute_reply": "2025-01-22T13:05:42.005955Z"
    }
   },
   "outputs": [
    {
     "data": {
      "text/latex": [
       "$\\displaystyle (\\sin^{2}{\\left(\\theta \\right)} \\dot{\\theta} + \\cos^{2}{\\left(\\theta \\right)} \\dot{\\theta})\\hat{b}_z$"
      ],
      "text/plain": [
       "⎛   2           2     ⎞\n",
       "⎝sin (θ)⋅θ̇ + cos (θ)⋅θ̇⎠ b_z"
      ]
     },
     "execution_count": 18,
     "metadata": {},
     "output_type": "execute_result"
    }
   ],
   "source": [
    "A = me.ReferenceFrame('A')\n",
    "B = me.ReferenceFrame('B')\n",
    "B.orient_explicit(A, B_C_A.transpose())\n",
    "\n",
    "mnx = me.dot(B.y.express(A).dt(A), B.z)\n",
    "mny = me.dot(B.z.express(A).dt(A), B.x)\n",
    "mnz = me.dot(B.x.express(A).dt(A), B.y)\n",
    "\n",
    "A_w_B = mnx*B.x + mny*B.y + mnz*B.z\n",
    "A_w_B"
   ]
  },
  {
   "cell_type": "code",
   "execution_count": 19,
   "id": "d9f32267",
   "metadata": {
    "execution": {
     "iopub.execute_input": "2025-01-22T13:05:42.008137Z",
     "iopub.status.busy": "2025-01-22T13:05:42.007741Z",
     "iopub.status.idle": "2025-01-22T13:05:42.034502Z",
     "shell.execute_reply": "2025-01-22T13:05:42.034062Z"
    }
   },
   "outputs": [
    {
     "data": {
      "text/latex": [
       "$\\displaystyle \\dot{\\theta}\\hat{b}_z$"
      ],
      "text/plain": [
       "θ̇ b_z"
      ]
     },
     "execution_count": 19,
     "metadata": {},
     "output_type": "execute_result"
    }
   ],
   "source": [
    "A_w_B.simplify()"
   ]
  },
  {
   "cell_type": "code",
   "execution_count": 20,
   "id": "d73e1ac0",
   "metadata": {
    "execution": {
     "iopub.execute_input": "2025-01-22T13:05:42.036007Z",
     "iopub.status.busy": "2025-01-22T13:05:42.035714Z",
     "iopub.status.idle": "2025-01-22T13:05:42.042433Z",
     "shell.execute_reply": "2025-01-22T13:05:42.041938Z"
    }
   },
   "outputs": [
    {
     "data": {
      "text/latex": [
       "$\\displaystyle \\dot{\\theta}\\hat{a}_z$"
      ],
      "text/plain": [
       "θ̇ a_z"
      ]
     },
     "execution_count": 20,
     "metadata": {},
     "output_type": "execute_result"
    }
   ],
   "source": [
    "A = me.ReferenceFrame('A')\n",
    "B = me.ReferenceFrame('B')\n",
    "B.orient_axis(A, theta, A.z)\n",
    "B.ang_vel_in(A)"
   ]
  },
  {
   "cell_type": "code",
   "execution_count": 21,
   "id": "c43e155c",
   "metadata": {
    "execution": {
     "iopub.execute_input": "2025-01-22T13:05:42.043798Z",
     "iopub.status.busy": "2025-01-22T13:05:42.043646Z",
     "iopub.status.idle": "2025-01-22T13:05:42.051939Z",
     "shell.execute_reply": "2025-01-22T13:05:42.051473Z"
    }
   },
   "outputs": [
    {
     "data": {
      "text/latex": [
       "$\\displaystyle \\frac{\\sqrt{2} \\dot{\\theta}}{2}\\hat{a}_x + \\frac{\\sqrt{2} \\dot{\\theta}}{2}\\hat{a}_y$"
      ],
      "text/plain": [
       "√2⋅θ̇       √2⋅θ̇\n",
       "──── a_x + ──── a_y\n",
       " 2          2"
      ]
     },
     "execution_count": 21,
     "metadata": {},
     "output_type": "execute_result"
    }
   ],
   "source": [
    "theta = me.dynamicsymbols('theta')\n",
    "\n",
    "A = me.ReferenceFrame('A')\n",
    "B = me.ReferenceFrame('B')\n",
    "B.orient_axis(A, theta, A.x + A.y)\n",
    "B.ang_vel_in(A)"
   ]
  },
  {
   "cell_type": "code",
   "execution_count": 22,
   "id": "e7799cce",
   "metadata": {
    "execution": {
     "iopub.execute_input": "2025-01-22T13:05:42.053451Z",
     "iopub.status.busy": "2025-01-22T13:05:42.053034Z",
     "iopub.status.idle": "2025-01-22T13:05:42.066698Z",
     "shell.execute_reply": "2025-01-22T13:05:42.066183Z"
    }
   },
   "outputs": [
    {
     "data": {
      "text/latex": [
       "$\\displaystyle \\sqrt{\\dot{\\theta}^{2}}$"
      ],
      "text/plain": [
       "   ____\n",
       "  ╱  2 \n",
       "╲╱ θ̇  "
      ]
     },
     "execution_count": 22,
     "metadata": {},
     "output_type": "execute_result"
    }
   ],
   "source": [
    "B.ang_vel_in(A).magnitude()"
   ]
  },
  {
   "cell_type": "code",
   "execution_count": 23,
   "id": "82899e25",
   "metadata": {
    "execution": {
     "iopub.execute_input": "2025-01-22T13:05:42.068096Z",
     "iopub.status.busy": "2025-01-22T13:05:42.067932Z",
     "iopub.status.idle": "2025-01-22T13:05:44.513096Z",
     "shell.execute_reply": "2025-01-22T13:05:44.512563Z"
    }
   },
   "outputs": [
    {
     "data": {
      "text/latex": [
       "$\\displaystyle (\\sin{\\left(\\theta \\right)} \\sin{\\left(\\varphi \\right)} \\dot{\\psi} + \\cos{\\left(\\varphi \\right)} \\dot{\\theta})\\hat{b}_x + (\\sin{\\left(\\theta \\right)} \\cos{\\left(\\varphi \\right)} \\dot{\\psi} - \\sin{\\left(\\varphi \\right)} \\dot{\\theta})\\hat{b}_y + (\\cos{\\left(\\theta \\right)} \\dot{\\psi} + \\dot{\\varphi})\\hat{b}_z$"
      ],
      "text/plain": [
       "(sin(θ)⋅sin(varphi)⋅ψ̇ + cos(varphi)⋅θ̇) b_x + (sin(θ)⋅cos(varphi)⋅ψ̇ - sin(va\n",
       "rphi)⋅θ̇) b_y + (cos(θ)⋅ψ̇ + varṗhi) b_z"
      ]
     },
     "execution_count": 23,
     "metadata": {},
     "output_type": "execute_result"
    }
   ],
   "source": [
    "psi, theta, phi = me.dynamicsymbols('psi, theta, varphi')\n",
    "\n",
    "A = me.ReferenceFrame('A')\n",
    "B = me.ReferenceFrame('B')\n",
    "B.orient_body_fixed(A, (psi, theta, phi), 'ZXZ')\n",
    "\n",
    "mnx = me.dot(B.y.express(A).dt(A), B.z)\n",
    "mny = me.dot(B.z.express(A).dt(A), B.x)\n",
    "mnz = me.dot(B.x.express(A).dt(A), B.y)\n",
    "\n",
    "A_w_B = mnx*B.x + mny*B.y + mnz*B.z\n",
    "A_w_B.simplify()"
   ]
  },
  {
   "cell_type": "code",
   "execution_count": 24,
   "id": "c3da2ebc",
   "metadata": {
    "execution": {
     "iopub.execute_input": "2025-01-22T13:05:44.514539Z",
     "iopub.status.busy": "2025-01-22T13:05:44.514392Z",
     "iopub.status.idle": "2025-01-22T13:05:44.522218Z",
     "shell.execute_reply": "2025-01-22T13:05:44.521841Z"
    }
   },
   "outputs": [
    {
     "data": {
      "text/latex": [
       "$\\displaystyle (\\sin{\\left(\\theta \\right)} \\sin{\\left(\\varphi \\right)} \\dot{\\psi} + \\cos{\\left(\\varphi \\right)} \\dot{\\theta})\\hat{b}_x + (\\sin{\\left(\\theta \\right)} \\cos{\\left(\\varphi \\right)} \\dot{\\psi} - \\sin{\\left(\\varphi \\right)} \\dot{\\theta})\\hat{b}_y + (\\cos{\\left(\\theta \\right)} \\dot{\\psi} + \\dot{\\varphi})\\hat{b}_z$"
      ],
      "text/plain": [
       "(sin(θ)⋅sin(varphi)⋅ψ̇ + cos(varphi)⋅θ̇) b_x + (sin(θ)⋅cos(varphi)⋅ψ̇ - sin(va\n",
       "rphi)⋅θ̇) b_y + (cos(θ)⋅ψ̇ + varṗhi) b_z"
      ]
     },
     "execution_count": 24,
     "metadata": {},
     "output_type": "execute_result"
    }
   ],
   "source": [
    "B.ang_vel_in(A)"
   ]
  },
  {
   "cell_type": "code",
   "execution_count": 25,
   "id": "5dbb3267",
   "metadata": {
    "execution": {
     "iopub.execute_input": "2025-01-22T13:05:44.523770Z",
     "iopub.status.busy": "2025-01-22T13:05:44.523475Z",
     "iopub.status.idle": "2025-01-22T13:05:44.531609Z",
     "shell.execute_reply": "2025-01-22T13:05:44.531231Z"
    }
   },
   "outputs": [],
   "source": [
    "psi, theta, phi = me.dynamicsymbols('psi, theta, varphi')\n",
    "\n",
    "N = me.ReferenceFrame('N')\n",
    "T = me.ReferenceFrame('T')\n",
    "T.orient_body_fixed(N, (psi, theta, phi), 'xyz')"
   ]
  },
  {
   "cell_type": "code",
   "execution_count": 26,
   "id": "4bb7092c",
   "metadata": {
    "execution": {
     "iopub.execute_input": "2025-01-22T13:05:44.532860Z",
     "iopub.status.busy": "2025-01-22T13:05:44.532722Z",
     "iopub.status.idle": "2025-01-22T13:05:44.568795Z",
     "shell.execute_reply": "2025-01-22T13:05:44.568330Z"
    }
   },
   "outputs": [
    {
     "data": {
      "text/latex": [
       "$\\displaystyle \\left[\\begin{matrix}\\cos{\\left(\\theta \\right)} \\cos{\\left(\\varphi \\right)} & \\sin{\\left(\\varphi \\right)} & - \\sin{\\left(\\theta \\right)} \\cos{\\left(\\varphi \\right)}\\\\- \\sin{\\left(\\varphi \\right)} \\cos{\\left(\\theta \\right)} & \\cos{\\left(\\varphi \\right)} & \\sin{\\left(\\theta \\right)} \\sin{\\left(\\varphi \\right)}\\\\\\sin{\\left(\\theta \\right)} & 0 & \\cos{\\left(\\theta \\right)}\\end{matrix}\\right]$"
      ],
      "text/plain": [
       "⎡cos(θ)⋅cos(varphi)   sin(varphi)  -sin(θ)⋅cos(varphi)⎤\n",
       "⎢                                                     ⎥\n",
       "⎢-sin(varphi)⋅cos(θ)  cos(varphi)  sin(θ)⋅sin(varphi) ⎥\n",
       "⎢                                                     ⎥\n",
       "⎣      sin(θ)              0             cos(θ)       ⎦"
      ]
     },
     "execution_count": 26,
     "metadata": {},
     "output_type": "execute_result"
    }
   ],
   "source": [
    "sm.trigsimp(T.dcm(N).xreplace({psi: 0}))"
   ]
  },
  {
   "cell_type": "code",
   "execution_count": 27,
   "id": "ecddb017",
   "metadata": {
    "execution": {
     "iopub.execute_input": "2025-01-22T13:05:44.570194Z",
     "iopub.status.busy": "2025-01-22T13:05:44.570024Z",
     "iopub.status.idle": "2025-01-22T13:05:44.607870Z",
     "shell.execute_reply": "2025-01-22T13:05:44.607396Z"
    }
   },
   "outputs": [
    {
     "data": {
      "text/latex": [
       "$\\displaystyle \\left[\\begin{matrix}\\cos{\\left(\\theta \\right)} \\cos{\\left(\\varphi \\right)} & - \\sin{\\left(\\varphi \\right)} & \\sin{\\left(\\theta \\right)} \\cos{\\left(\\varphi \\right)}\\\\- \\sin{\\left(\\varphi \\right)} \\cos{\\left(\\theta \\right)} & - \\cos{\\left(\\varphi \\right)} & - \\sin{\\left(\\theta \\right)} \\sin{\\left(\\varphi \\right)}\\\\\\sin{\\left(\\theta \\right)} & 0 & - \\cos{\\left(\\theta \\right)}\\end{matrix}\\right]$"
      ],
      "text/plain": [
       "⎡cos(θ)⋅cos(varphi)   -sin(varphi)  sin(θ)⋅cos(varphi) ⎤\n",
       "⎢                                                      ⎥\n",
       "⎢-sin(varphi)⋅cos(θ)  -cos(varphi)  -sin(θ)⋅sin(varphi)⎥\n",
       "⎢                                                      ⎥\n",
       "⎣      sin(θ)              0              -cos(θ)      ⎦"
      ]
     },
     "execution_count": 27,
     "metadata": {},
     "output_type": "execute_result"
    }
   ],
   "source": [
    "sm.trigsimp(T.dcm(N).xreplace({psi: sm.pi}))"
   ]
  },
  {
   "cell_type": "code",
   "execution_count": 28,
   "id": "0667e61e",
   "metadata": {
    "execution": {
     "iopub.execute_input": "2025-01-22T13:05:44.609484Z",
     "iopub.status.busy": "2025-01-22T13:05:44.609078Z",
     "iopub.status.idle": "2025-01-22T13:05:44.718363Z",
     "shell.execute_reply": "2025-01-22T13:05:44.717938Z"
    }
   },
   "outputs": [
    {
     "data": {
      "text/latex": [
       "$\\displaystyle \\left[\\begin{matrix}0 & - \\sin{\\left(\\psi - \\varphi \\right)} & \\cos{\\left(\\psi - \\varphi \\right)}\\\\0 & \\cos{\\left(\\psi - \\varphi \\right)} & \\sin{\\left(\\psi - \\varphi \\right)}\\\\-1 & 0 & 0\\end{matrix}\\right]$"
      ],
      "text/plain": [
       "⎡0   -sin(ψ - varphi)  cos(ψ - varphi)⎤\n",
       "⎢                                     ⎥\n",
       "⎢0   cos(ψ - varphi)   sin(ψ - varphi)⎥\n",
       "⎢                                     ⎥\n",
       "⎣-1         0                 0       ⎦"
      ]
     },
     "execution_count": 28,
     "metadata": {},
     "output_type": "execute_result"
    }
   ],
   "source": [
    "sm.trigsimp(T.dcm(N).xreplace({theta: -sm.pi/2}))"
   ]
  },
  {
   "cell_type": "code",
   "execution_count": 29,
   "id": "f1504dc9",
   "metadata": {
    "execution": {
     "iopub.execute_input": "2025-01-22T13:05:44.719754Z",
     "iopub.status.busy": "2025-01-22T13:05:44.719599Z",
     "iopub.status.idle": "2025-01-22T13:05:44.820806Z",
     "shell.execute_reply": "2025-01-22T13:05:44.820396Z"
    }
   },
   "outputs": [
    {
     "data": {
      "text/latex": [
       "$\\displaystyle \\left[\\begin{matrix}0 & \\sin{\\left(\\psi + \\varphi \\right)} & - \\cos{\\left(\\psi + \\varphi \\right)}\\\\0 & \\cos{\\left(\\psi + \\varphi \\right)} & \\sin{\\left(\\psi + \\varphi \\right)}\\\\1 & 0 & 0\\end{matrix}\\right]$"
      ],
      "text/plain": [
       "⎡0  sin(ψ + varphi)  -cos(ψ + varphi)⎤\n",
       "⎢                                    ⎥\n",
       "⎢0  cos(ψ + varphi)  sin(ψ + varphi) ⎥\n",
       "⎢                                    ⎥\n",
       "⎣1         0                0        ⎦"
      ]
     },
     "execution_count": 29,
     "metadata": {},
     "output_type": "execute_result"
    }
   ],
   "source": [
    "sm.trigsimp(T.dcm(N).xreplace({theta: sm.pi/2}))"
   ]
  },
  {
   "cell_type": "code",
   "execution_count": 30,
   "id": "f4b7a2cc",
   "metadata": {
    "execution": {
     "iopub.execute_input": "2025-01-22T13:05:44.822161Z",
     "iopub.status.busy": "2025-01-22T13:05:44.821990Z",
     "iopub.status.idle": "2025-01-22T13:05:44.830690Z",
     "shell.execute_reply": "2025-01-22T13:05:44.830204Z"
    }
   },
   "outputs": [
    {
     "data": {
      "text/latex": [
       "$\\displaystyle u_{1}\\hat{b}_x + u_{2}\\hat{b}_y + u_{3}\\hat{b}_z$"
      ],
      "text/plain": [
       "u₁ b_x + u₂ b_y + u₃ b_z"
      ]
     },
     "execution_count": 30,
     "metadata": {},
     "output_type": "execute_result"
    }
   ],
   "source": [
    "A = me.ReferenceFrame('A')\n",
    "B = me.ReferenceFrame('B')\n",
    "B.orient_body_fixed(A, (psi, theta, 0), 'ZXZ')\n",
    "\n",
    "u1, u2, u3 = me.dynamicsymbols('u1, u2, u3')\n",
    "\n",
    "u = u1*B.x + u2*B.y + u3*B.z\n",
    "u"
   ]
  },
  {
   "cell_type": "code",
   "execution_count": 31,
   "id": "bd3a6cd2",
   "metadata": {
    "execution": {
     "iopub.execute_input": "2025-01-22T13:05:44.832101Z",
     "iopub.status.busy": "2025-01-22T13:05:44.831912Z",
     "iopub.status.idle": "2025-01-22T13:05:44.841737Z",
     "shell.execute_reply": "2025-01-22T13:05:44.841246Z"
    }
   },
   "outputs": [
    {
     "data": {
      "text/latex": [
       "$\\displaystyle (u_{1} \\cos{\\left(\\psi \\right)} - u_{2} \\sin{\\left(\\psi \\right)} \\cos{\\left(\\theta \\right)} + u_{3} \\sin{\\left(\\psi \\right)} \\sin{\\left(\\theta \\right)})\\hat{a}_x + (u_{1} \\sin{\\left(\\psi \\right)} + u_{2} \\cos{\\left(\\psi \\right)} \\cos{\\left(\\theta \\right)} - u_{3} \\sin{\\left(\\theta \\right)} \\cos{\\left(\\psi \\right)})\\hat{a}_y + (u_{2} \\sin{\\left(\\theta \\right)} + u_{3} \\cos{\\left(\\theta \\right)})\\hat{a}_z$"
      ],
      "text/plain": [
       "(u₁⋅cos(ψ) - u₂⋅sin(ψ)⋅cos(θ) + u₃⋅sin(ψ)⋅sin(θ)) a_x + (u₁⋅sin(ψ) + u₂⋅cos(ψ)\n",
       "⋅cos(θ) - u₃⋅sin(θ)⋅cos(ψ)) a_y + (u₂⋅sin(θ) + u₃⋅cos(θ)) a_z"
      ]
     },
     "execution_count": 31,
     "metadata": {},
     "output_type": "execute_result"
    }
   ],
   "source": [
    "u.express(A)"
   ]
  },
  {
   "cell_type": "code",
   "execution_count": 32,
   "id": "af8440bf",
   "metadata": {
    "execution": {
     "iopub.execute_input": "2025-01-22T13:05:44.843301Z",
     "iopub.status.busy": "2025-01-22T13:05:44.842990Z",
     "iopub.status.idle": "2025-01-22T13:05:44.887025Z",
     "shell.execute_reply": "2025-01-22T13:05:44.886511Z"
    }
   },
   "outputs": [
    {
     "data": {
      "text/latex": [
       "$\\displaystyle (- u_{1} \\sin{\\left(\\psi \\right)} \\dot{\\psi} + u_{2} \\sin{\\left(\\psi \\right)} \\sin{\\left(\\theta \\right)} \\dot{\\theta} - u_{2} \\cos{\\left(\\psi \\right)} \\cos{\\left(\\theta \\right)} \\dot{\\psi} + u_{3} \\sin{\\left(\\psi \\right)} \\cos{\\left(\\theta \\right)} \\dot{\\theta} + u_{3} \\sin{\\left(\\theta \\right)} \\cos{\\left(\\psi \\right)} \\dot{\\psi} + \\sin{\\left(\\psi \\right)} \\sin{\\left(\\theta \\right)} \\dot{u}_{3} - \\sin{\\left(\\psi \\right)} \\cos{\\left(\\theta \\right)} \\dot{u}_{2} + \\cos{\\left(\\psi \\right)} \\dot{u}_{1})\\hat{a}_x + (u_{1} \\cos{\\left(\\psi \\right)} \\dot{\\psi} - u_{2} \\sin{\\left(\\psi \\right)} \\cos{\\left(\\theta \\right)} \\dot{\\psi} - u_{2} \\sin{\\left(\\theta \\right)} \\cos{\\left(\\psi \\right)} \\dot{\\theta} + u_{3} \\sin{\\left(\\psi \\right)} \\sin{\\left(\\theta \\right)} \\dot{\\psi} - u_{3} \\cos{\\left(\\psi \\right)} \\cos{\\left(\\theta \\right)} \\dot{\\theta} + \\sin{\\left(\\psi \\right)} \\dot{u}_{1} - \\sin{\\left(\\theta \\right)} \\cos{\\left(\\psi \\right)} \\dot{u}_{3} + \\cos{\\left(\\psi \\right)} \\cos{\\left(\\theta \\right)} \\dot{u}_{2})\\hat{a}_y + (u_{2} \\cos{\\left(\\theta \\right)} \\dot{\\theta} - u_{3} \\sin{\\left(\\theta \\right)} \\dot{\\theta} + \\sin{\\left(\\theta \\right)} \\dot{u}_{2} + \\cos{\\left(\\theta \\right)} \\dot{u}_{3})\\hat{a}_z$"
      ],
      "text/plain": [
       "(-u₁⋅sin(ψ)⋅ψ̇ + u₂⋅sin(ψ)⋅sin(θ)⋅θ̇ - u₂⋅cos(ψ)⋅cos(θ)⋅ψ̇ + u₃⋅sin(ψ)⋅cos(θ)⋅\n",
       "θ̇ + u₃⋅sin(θ)⋅cos(ψ)⋅ψ̇ + sin(ψ)⋅sin(θ)⋅u₃̇ - sin(ψ)⋅cos(θ)⋅u₂̇ + cos(ψ)⋅u₁̇)\n",
       " a_x + (u₁⋅cos(ψ)⋅ψ̇ - u₂⋅sin(ψ)⋅cos(θ)⋅ψ̇ - u₂⋅sin(θ)⋅cos(ψ)⋅θ̇ + u₃⋅sin(ψ)⋅s\n",
       "in(θ)⋅ψ̇ - u₃⋅cos(ψ)⋅cos(θ)⋅θ̇ + sin(ψ)⋅u₁̇ - sin(θ)⋅cos(ψ)⋅u₃̇ + cos(ψ)⋅cos(θ\n",
       ")⋅u₂̇) a_y + (u₂⋅cos(θ)⋅θ̇ - u₃⋅sin(θ)⋅θ̇ + sin(θ)⋅u₂̇ + cos(θ)⋅u₃̇) a_z"
      ]
     },
     "execution_count": 32,
     "metadata": {},
     "output_type": "execute_result"
    }
   ],
   "source": [
    "u.express(A).dt(A)"
   ]
  },
  {
   "cell_type": "code",
   "execution_count": 33,
   "id": "4a8f6f30",
   "metadata": {
    "execution": {
     "iopub.execute_input": "2025-01-22T13:05:44.888715Z",
     "iopub.status.busy": "2025-01-22T13:05:44.888264Z",
     "iopub.status.idle": "2025-01-22T13:05:44.894040Z",
     "shell.execute_reply": "2025-01-22T13:05:44.893541Z"
    }
   },
   "outputs": [
    {
     "data": {
      "text/latex": [
       "$\\displaystyle \\dot{u}_{1}\\hat{b}_x + \\dot{u}_{2}\\hat{b}_y + \\dot{u}_{3}\\hat{b}_z$"
      ],
      "text/plain": [
       "u₁̇ b_x + u₂̇ b_y + u₃̇ b_z"
      ]
     },
     "execution_count": 33,
     "metadata": {},
     "output_type": "execute_result"
    }
   ],
   "source": [
    "u.dt(B)"
   ]
  },
  {
   "cell_type": "code",
   "execution_count": 34,
   "id": "2eb9bb84",
   "metadata": {
    "execution": {
     "iopub.execute_input": "2025-01-22T13:05:44.895781Z",
     "iopub.status.busy": "2025-01-22T13:05:44.895321Z",
     "iopub.status.idle": "2025-01-22T13:05:44.900578Z",
     "shell.execute_reply": "2025-01-22T13:05:44.900186Z"
    }
   },
   "outputs": [
    {
     "data": {
      "text/latex": [
       "$\\displaystyle \\dot{\\theta}\\hat{b}_x + \\sin{\\left(\\theta \\right)} \\dot{\\psi}\\hat{b}_y + \\cos{\\left(\\theta \\right)} \\dot{\\psi}\\hat{b}_z$"
      ],
      "text/plain": [
       "θ̇ b_x + sin(θ)⋅ψ̇ b_y + cos(θ)⋅ψ̇ b_z"
      ]
     },
     "execution_count": 34,
     "metadata": {},
     "output_type": "execute_result"
    }
   ],
   "source": [
    "A_w_B = B.ang_vel_in(A)\n",
    "A_w_B"
   ]
  },
  {
   "cell_type": "code",
   "execution_count": 35,
   "id": "be8ad07b",
   "metadata": {
    "execution": {
     "iopub.execute_input": "2025-01-22T13:05:44.901985Z",
     "iopub.status.busy": "2025-01-22T13:05:44.901692Z",
     "iopub.status.idle": "2025-01-22T13:05:44.915168Z",
     "shell.execute_reply": "2025-01-22T13:05:44.914667Z"
    }
   },
   "outputs": [
    {
     "data": {
      "text/latex": [
       "$\\displaystyle (- u_{2} \\cos{\\left(\\theta \\right)} \\dot{\\psi} + u_{3} \\sin{\\left(\\theta \\right)} \\dot{\\psi} + \\dot{u}_{1})\\hat{b}_x + (u_{1} \\cos{\\left(\\theta \\right)} \\dot{\\psi} - u_{3} \\dot{\\theta} + \\dot{u}_{2})\\hat{b}_y + (- u_{1} \\sin{\\left(\\theta \\right)} \\dot{\\psi} + u_{2} \\dot{\\theta} + \\dot{u}_{3})\\hat{b}_z$"
      ],
      "text/plain": [
       "(-u₂⋅cos(θ)⋅ψ̇ + u₃⋅sin(θ)⋅ψ̇ + u₁̇) b_x + (u₁⋅cos(θ)⋅ψ̇ - u₃⋅θ̇ + u₂̇) b_y +\n",
       "(-u₁⋅sin(θ)⋅ψ̇ + u₂⋅θ̇ + u₃̇) b_z"
      ]
     },
     "execution_count": 35,
     "metadata": {},
     "output_type": "execute_result"
    }
   ],
   "source": [
    "u.dt(B) + me.cross(A_w_B, u)"
   ]
  },
  {
   "cell_type": "code",
   "execution_count": 36,
   "id": "d0a6daa5",
   "metadata": {
    "execution": {
     "iopub.execute_input": "2025-01-22T13:05:44.916801Z",
     "iopub.status.busy": "2025-01-22T13:05:44.916436Z",
     "iopub.status.idle": "2025-01-22T13:05:46.544730Z",
     "shell.execute_reply": "2025-01-22T13:05:46.544192Z"
    }
   },
   "outputs": [
    {
     "data": {
      "text/latex": [
       "$\\displaystyle (- u_{2} \\cos{\\left(\\theta \\right)} \\dot{\\psi} + u_{3} \\sin{\\left(\\theta \\right)} \\dot{\\psi} + \\dot{u}_{1})\\hat{b}_x + (u_{1} \\cos{\\left(\\theta \\right)} \\dot{\\psi} - u_{3} \\dot{\\theta} + \\dot{u}_{2})\\hat{b}_y + (- u_{1} \\sin{\\left(\\theta \\right)} \\dot{\\psi} + u_{2} \\dot{\\theta} + \\dot{u}_{3})\\hat{b}_z$"
      ],
      "text/plain": [
       "(-u₂⋅cos(θ)⋅ψ̇ + u₃⋅sin(θ)⋅ψ̇ + u₁̇) b_x + (u₁⋅cos(θ)⋅ψ̇ - u₃⋅θ̇ + u₂̇) b_y +\n",
       "(-u₁⋅sin(θ)⋅ψ̇ + u₂⋅θ̇ + u₃̇) b_z"
      ]
     },
     "execution_count": 36,
     "metadata": {},
     "output_type": "execute_result"
    }
   ],
   "source": [
    "u.express(A).dt(A).express(B).simplify()"
   ]
  },
  {
   "cell_type": "code",
   "execution_count": 37,
   "id": "93a2b08c",
   "metadata": {
    "execution": {
     "iopub.execute_input": "2025-01-22T13:05:46.546250Z",
     "iopub.status.busy": "2025-01-22T13:05:46.546093Z",
     "iopub.status.idle": "2025-01-22T13:05:46.559470Z",
     "shell.execute_reply": "2025-01-22T13:05:46.559024Z"
    }
   },
   "outputs": [
    {
     "data": {
      "text/latex": [
       "$\\displaystyle (- u_{2} \\cos{\\left(\\theta \\right)} \\dot{\\psi} + u_{3} \\sin{\\left(\\theta \\right)} \\dot{\\psi} + \\dot{u}_{1})\\hat{b}_x + (u_{1} \\cos{\\left(\\theta \\right)} \\dot{\\psi} - u_{3} \\dot{\\theta} + \\dot{u}_{2})\\hat{b}_y + (- u_{1} \\sin{\\left(\\theta \\right)} \\dot{\\psi} + u_{2} \\dot{\\theta} + \\dot{u}_{3})\\hat{b}_z$"
      ],
      "text/plain": [
       "(-u₂⋅cos(θ)⋅ψ̇ + u₃⋅sin(θ)⋅ψ̇ + u₁̇) b_x + (u₁⋅cos(θ)⋅ψ̇ - u₃⋅θ̇ + u₂̇) b_y +\n",
       "(-u₁⋅sin(θ)⋅ψ̇ + u₂⋅θ̇ + u₃̇) b_z"
      ]
     },
     "execution_count": 37,
     "metadata": {},
     "output_type": "execute_result"
    }
   ],
   "source": [
    "u.dt(A)"
   ]
  },
  {
   "cell_type": "code",
   "execution_count": 38,
   "id": "dbe85fb8",
   "metadata": {
    "execution": {
     "iopub.execute_input": "2025-01-22T13:05:46.560847Z",
     "iopub.status.busy": "2025-01-22T13:05:46.560685Z",
     "iopub.status.idle": "2025-01-22T13:05:46.572405Z",
     "shell.execute_reply": "2025-01-22T13:05:46.572010Z"
    }
   },
   "outputs": [
    {
     "data": {
      "text/latex": [
       "$\\displaystyle (- u_{2} \\cos{\\left(\\theta \\right)} \\dot{\\psi} + u_{3} \\sin{\\left(\\theta \\right)} \\dot{\\psi} + \\dot{u}_{1})\\hat{b}_x + (u_{1} \\cos{\\left(\\theta \\right)} \\dot{\\psi} - u_{3} \\dot{\\theta} + \\dot{u}_{2})\\hat{b}_y + (- u_{1} \\sin{\\left(\\theta \\right)} \\dot{\\psi} + u_{2} \\dot{\\theta} + \\dot{u}_{3})\\hat{b}_z$"
      ],
      "text/plain": [
       "(-u₂⋅cos(θ)⋅ψ̇ + u₃⋅sin(θ)⋅ψ̇ + u₁̇) b_x + (u₁⋅cos(θ)⋅ψ̇ - u₃⋅θ̇ + u₂̇) b_y +\n",
       "(-u₁⋅sin(θ)⋅ψ̇ + u₂⋅θ̇ + u₃̇) b_z"
      ]
     },
     "execution_count": 38,
     "metadata": {},
     "output_type": "execute_result"
    }
   ],
   "source": [
    "u.dt(B) + me.cross(A_w_B, u)"
   ]
  },
  {
   "cell_type": "code",
   "execution_count": 39,
   "id": "527d724a",
   "metadata": {
    "execution": {
     "iopub.execute_input": "2025-01-22T13:05:46.573782Z",
     "iopub.status.busy": "2025-01-22T13:05:46.573642Z",
     "iopub.status.idle": "2025-01-22T13:05:46.583995Z",
     "shell.execute_reply": "2025-01-22T13:05:46.583603Z"
    }
   },
   "outputs": [],
   "source": [
    "psi, theta, phi = me.dynamicsymbols('psi, theta, varphi')\n",
    "\n",
    "A = me.ReferenceFrame('A')\n",
    "B = me.ReferenceFrame('B')\n",
    "C = me.ReferenceFrame('C')\n",
    "D = me.ReferenceFrame('D')\n",
    "\n",
    "B.orient_axis(A, psi, A.y)\n",
    "C.orient_axis(B, theta, B.x)\n",
    "D.orient_axis(C, phi, C.y)"
   ]
  },
  {
   "cell_type": "code",
   "execution_count": 40,
   "id": "87d2df92",
   "metadata": {
    "execution": {
     "iopub.execute_input": "2025-01-22T13:05:46.585289Z",
     "iopub.status.busy": "2025-01-22T13:05:46.585142Z",
     "iopub.status.idle": "2025-01-22T13:05:46.589013Z",
     "shell.execute_reply": "2025-01-22T13:05:46.588529Z"
    }
   },
   "outputs": [
    {
     "data": {
      "text/latex": [
       "$\\displaystyle \\dot{\\psi}\\hat{a}_y$"
      ],
      "text/plain": [
       "ψ̇ a_y"
      ]
     },
     "execution_count": 40,
     "metadata": {},
     "output_type": "execute_result"
    }
   ],
   "source": [
    "A_w_B = B.ang_vel_in(A)\n",
    "A_w_B"
   ]
  },
  {
   "cell_type": "code",
   "execution_count": 41,
   "id": "bbaba2b1",
   "metadata": {
    "execution": {
     "iopub.execute_input": "2025-01-22T13:05:46.590431Z",
     "iopub.status.busy": "2025-01-22T13:05:46.590295Z",
     "iopub.status.idle": "2025-01-22T13:05:46.593913Z",
     "shell.execute_reply": "2025-01-22T13:05:46.593438Z"
    }
   },
   "outputs": [
    {
     "data": {
      "text/latex": [
       "$\\displaystyle \\dot{\\theta}\\hat{b}_x$"
      ],
      "text/plain": [
       "θ̇ b_x"
      ]
     },
     "execution_count": 41,
     "metadata": {},
     "output_type": "execute_result"
    }
   ],
   "source": [
    "B_w_C = C.ang_vel_in(B)\n",
    "B_w_C"
   ]
  },
  {
   "cell_type": "code",
   "execution_count": 42,
   "id": "9aed31b0",
   "metadata": {
    "execution": {
     "iopub.execute_input": "2025-01-22T13:05:46.595329Z",
     "iopub.status.busy": "2025-01-22T13:05:46.595177Z",
     "iopub.status.idle": "2025-01-22T13:05:46.599072Z",
     "shell.execute_reply": "2025-01-22T13:05:46.598665Z"
    }
   },
   "outputs": [
    {
     "data": {
      "text/latex": [
       "$\\displaystyle \\dot{\\varphi}\\hat{c}_y$"
      ],
      "text/plain": [
       "varṗhi c_y"
      ]
     },
     "execution_count": 42,
     "metadata": {},
     "output_type": "execute_result"
    }
   ],
   "source": [
    "C_w_D = D.ang_vel_in(C)\n",
    "C_w_D"
   ]
  },
  {
   "cell_type": "code",
   "execution_count": 43,
   "id": "0c903787",
   "metadata": {
    "execution": {
     "iopub.execute_input": "2025-01-22T13:05:46.600319Z",
     "iopub.status.busy": "2025-01-22T13:05:46.600172Z",
     "iopub.status.idle": "2025-01-22T13:05:46.604969Z",
     "shell.execute_reply": "2025-01-22T13:05:46.604479Z"
    }
   },
   "outputs": [
    {
     "data": {
      "text/latex": [
       "$\\displaystyle \\dot{\\psi}\\hat{a}_y + \\dot{\\theta}\\hat{b}_x + \\dot{\\varphi}\\hat{c}_y$"
      ],
      "text/plain": [
       "ψ̇ a_y + θ̇ b_x + varṗhi c_y"
      ]
     },
     "execution_count": 43,
     "metadata": {},
     "output_type": "execute_result"
    }
   ],
   "source": [
    "A_w_D = A_w_B + B_w_C + C_w_D\n",
    "A_w_D"
   ]
  },
  {
   "cell_type": "code",
   "execution_count": 44,
   "id": "2860ccf6",
   "metadata": {
    "execution": {
     "iopub.execute_input": "2025-01-22T13:05:46.606614Z",
     "iopub.status.busy": "2025-01-22T13:05:46.606235Z",
     "iopub.status.idle": "2025-01-22T13:05:46.754491Z",
     "shell.execute_reply": "2025-01-22T13:05:46.753962Z"
    }
   },
   "outputs": [
    {
     "data": {
      "text/latex": [
       "$\\displaystyle (\\sin{\\left(\\theta \\right)} \\sin{\\left(\\varphi \\right)} \\dot{\\psi} + \\cos{\\left(\\varphi \\right)} \\dot{\\theta})\\hat{d}_x + (\\cos{\\left(\\theta \\right)} \\dot{\\psi} + \\dot{\\varphi})\\hat{d}_y + (- \\sin{\\left(\\theta \\right)} \\cos{\\left(\\varphi \\right)} \\dot{\\psi} + \\sin{\\left(\\varphi \\right)} \\dot{\\theta})\\hat{d}_z$"
      ],
      "text/plain": [
       "(sin(θ)⋅sin(varphi)⋅ψ̇ + cos(varphi)⋅θ̇) d_x + (cos(θ)⋅ψ̇ + varṗhi) d_y + (-s\n",
       "in(θ)⋅cos(varphi)⋅ψ̇ + sin(varphi)⋅θ̇) d_z"
      ]
     },
     "execution_count": 44,
     "metadata": {},
     "output_type": "execute_result"
    }
   ],
   "source": [
    "A2 = me.ReferenceFrame('A')\n",
    "D2 = me.ReferenceFrame('D')\n",
    "D2.orient_body_fixed(A2, (psi, theta, phi), 'YXY')\n",
    "D2.ang_vel_in(A2).simplify()"
   ]
  },
  {
   "cell_type": "code",
   "execution_count": 45,
   "id": "218177b3",
   "metadata": {
    "execution": {
     "iopub.execute_input": "2025-01-22T13:05:46.755956Z",
     "iopub.status.busy": "2025-01-22T13:05:46.755800Z",
     "iopub.status.idle": "2025-01-22T13:05:46.770552Z",
     "shell.execute_reply": "2025-01-22T13:05:46.770183Z"
    }
   },
   "outputs": [
    {
     "data": {
      "text/latex": [
       "$\\displaystyle (\\sin{\\left(\\theta \\right)} \\sin{\\left(\\varphi \\right)} \\dot{\\psi} + \\cos{\\left(\\varphi \\right)} \\dot{\\theta})\\hat{d}_x + (\\cos{\\left(\\theta \\right)} \\dot{\\psi} + \\dot{\\varphi})\\hat{d}_y + (- \\sin{\\left(\\theta \\right)} \\cos{\\left(\\varphi \\right)} \\dot{\\psi} + \\sin{\\left(\\varphi \\right)} \\dot{\\theta})\\hat{d}_z$"
      ],
      "text/plain": [
       "(sin(θ)⋅sin(varphi)⋅ψ̇ + cos(varphi)⋅θ̇) d_x + (cos(θ)⋅ψ̇ + varṗhi) d_y + (-s\n",
       "in(θ)⋅cos(varphi)⋅ψ̇ + sin(varphi)⋅θ̇) d_z"
      ]
     },
     "execution_count": 45,
     "metadata": {},
     "output_type": "execute_result"
    }
   ],
   "source": [
    "A_w_D.express(D)"
   ]
  },
  {
   "cell_type": "code",
   "execution_count": 46,
   "id": "5a7812fe",
   "metadata": {
    "execution": {
     "iopub.execute_input": "2025-01-22T13:05:46.771852Z",
     "iopub.status.busy": "2025-01-22T13:05:46.771715Z",
     "iopub.status.idle": "2025-01-22T13:05:46.779885Z",
     "shell.execute_reply": "2025-01-22T13:05:46.779389Z"
    }
   },
   "outputs": [
    {
     "data": {
      "text/latex": [
       "$\\displaystyle \\ddot{\\theta}\\hat{a}_z$"
      ],
      "text/plain": [
       "θ̈ a_z"
      ]
     },
     "execution_count": 46,
     "metadata": {},
     "output_type": "execute_result"
    }
   ],
   "source": [
    "theta = me.dynamicsymbols('theta')\n",
    "\n",
    "A = me.ReferenceFrame('A')\n",
    "B = me.ReferenceFrame('B')\n",
    "B.orient_axis(A, theta, A.z)\n",
    "B.ang_acc_in(A)"
   ]
  },
  {
   "cell_type": "code",
   "execution_count": 47,
   "id": "2a6cecf2",
   "metadata": {
    "execution": {
     "iopub.execute_input": "2025-01-22T13:05:46.781327Z",
     "iopub.status.busy": "2025-01-22T13:05:46.781016Z",
     "iopub.status.idle": "2025-01-22T13:05:46.786127Z",
     "shell.execute_reply": "2025-01-22T13:05:46.785632Z"
    }
   },
   "outputs": [
    {
     "data": {
      "text/latex": [
       "$\\displaystyle \\ddot{\\theta}\\hat{a}_z$"
      ],
      "text/plain": [
       "θ̈ a_z"
      ]
     },
     "execution_count": 47,
     "metadata": {},
     "output_type": "execute_result"
    }
   ],
   "source": [
    "B.ang_vel_in(A).dt(A)"
   ]
  },
  {
   "cell_type": "code",
   "execution_count": 48,
   "id": "03268935",
   "metadata": {
    "execution": {
     "iopub.execute_input": "2025-01-22T13:05:46.787618Z",
     "iopub.status.busy": "2025-01-22T13:05:46.787272Z",
     "iopub.status.idle": "2025-01-22T13:05:46.793803Z",
     "shell.execute_reply": "2025-01-22T13:05:46.793433Z"
    }
   },
   "outputs": [
    {
     "data": {
      "text/latex": [
       "$\\displaystyle \\ddot{\\theta}\\hat{a}_z$"
      ],
      "text/plain": [
       "θ̈ a_z"
      ]
     },
     "execution_count": 48,
     "metadata": {},
     "output_type": "execute_result"
    }
   ],
   "source": [
    "B.ang_vel_in(A).dt(B)"
   ]
  },
  {
   "cell_type": "code",
   "execution_count": 49,
   "id": "c8eb8cdb",
   "metadata": {
    "execution": {
     "iopub.execute_input": "2025-01-22T13:05:46.795217Z",
     "iopub.status.busy": "2025-01-22T13:05:46.795066Z",
     "iopub.status.idle": "2025-01-22T13:05:47.263433Z",
     "shell.execute_reply": "2025-01-22T13:05:47.262892Z"
    }
   },
   "outputs": [
    {
     "data": {
      "text/latex": [
       "$\\displaystyle (\\sin{\\left(\\theta \\right)} \\sin{\\left(\\varphi \\right)} \\ddot{\\psi} + \\sin{\\left(\\theta \\right)} \\cos{\\left(\\varphi \\right)} \\dot{\\psi} \\dot{\\varphi} + \\sin{\\left(\\varphi \\right)} \\cos{\\left(\\theta \\right)} \\dot{\\psi} \\dot{\\theta} - \\sin{\\left(\\varphi \\right)} \\dot{\\theta} \\dot{\\varphi} + \\cos{\\left(\\varphi \\right)} \\ddot{\\theta})\\hat{d}_x + (- \\sin{\\left(\\theta \\right)} \\dot{\\psi} \\dot{\\theta} + \\cos{\\left(\\theta \\right)} \\ddot{\\psi} + \\ddot{\\varphi})\\hat{d}_y + (\\sin{\\left(\\theta \\right)} \\sin{\\left(\\varphi \\right)} \\dot{\\psi} \\dot{\\varphi} - \\sin{\\left(\\theta \\right)} \\cos{\\left(\\varphi \\right)} \\ddot{\\psi} + \\sin{\\left(\\varphi \\right)} \\ddot{\\theta} - \\cos{\\left(\\theta \\right)} \\cos{\\left(\\varphi \\right)} \\dot{\\psi} \\dot{\\theta} + \\cos{\\left(\\varphi \\right)} \\dot{\\theta} \\dot{\\varphi})\\hat{d}_z$"
      ],
      "text/plain": [
       "(sin(θ)⋅sin(varphi)⋅ψ̈ + sin(θ)⋅cos(varphi)⋅ψ̇⋅varṗhi + sin(varphi)⋅cos(θ)⋅ψ̇\n",
       "⋅θ̇ - sin(varphi)⋅θ̇⋅varṗhi + cos(varphi)⋅θ̈) d_x + (-sin(θ)⋅ψ̇⋅θ̇ + cos(θ)⋅ψ\n",
       "̈ + varp̈hi) d_y + (sin(θ)⋅sin(varphi)⋅ψ̇⋅varṗhi - sin(θ)⋅cos(varphi)⋅ψ̈ + si\n",
       "n(varphi)⋅θ̈ - cos(θ)⋅cos(varphi)⋅ψ̇⋅θ̇ + cos(varphi)⋅θ̇⋅varṗhi) d_z"
      ]
     },
     "execution_count": 49,
     "metadata": {},
     "output_type": "execute_result"
    }
   ],
   "source": [
    "psi, theta, phi = me.dynamicsymbols('psi, theta, varphi')\n",
    "\n",
    "A = me.ReferenceFrame('A')\n",
    "D = me.ReferenceFrame('D')\n",
    "D.orient_body_fixed(A, (psi, theta, phi), 'YXY')\n",
    "\n",
    "D.ang_acc_in(A).simplify()"
   ]
  },
  {
   "cell_type": "code",
   "execution_count": 50,
   "id": "25c23d74",
   "metadata": {
    "execution": {
     "iopub.execute_input": "2025-01-22T13:05:47.264977Z",
     "iopub.status.busy": "2025-01-22T13:05:47.264714Z",
     "iopub.status.idle": "2025-01-22T13:05:47.673388Z",
     "shell.execute_reply": "2025-01-22T13:05:47.672887Z"
    }
   },
   "outputs": [
    {
     "data": {
      "text/latex": [
       "$\\displaystyle (\\sin{\\left(\\theta \\right)} \\sin{\\left(\\varphi \\right)} \\ddot{\\psi} + \\sin{\\left(\\theta \\right)} \\cos{\\left(\\varphi \\right)} \\dot{\\psi} \\dot{\\varphi} + \\sin{\\left(\\varphi \\right)} \\cos{\\left(\\theta \\right)} \\dot{\\psi} \\dot{\\theta} - \\sin{\\left(\\varphi \\right)} \\dot{\\theta} \\dot{\\varphi} + \\cos{\\left(\\varphi \\right)} \\ddot{\\theta})\\hat{d}_x + (- \\sin{\\left(\\theta \\right)} \\dot{\\psi} \\dot{\\theta} + \\cos{\\left(\\theta \\right)} \\ddot{\\psi} + \\ddot{\\varphi})\\hat{d}_y + (\\sin{\\left(\\theta \\right)} \\sin{\\left(\\varphi \\right)} \\dot{\\psi} \\dot{\\varphi} - \\sin{\\left(\\theta \\right)} \\cos{\\left(\\varphi \\right)} \\ddot{\\psi} + \\sin{\\left(\\varphi \\right)} \\ddot{\\theta} - \\cos{\\left(\\theta \\right)} \\cos{\\left(\\varphi \\right)} \\dot{\\psi} \\dot{\\theta} + \\cos{\\left(\\varphi \\right)} \\dot{\\theta} \\dot{\\varphi})\\hat{d}_z$"
      ],
      "text/plain": [
       "(sin(θ)⋅sin(varphi)⋅ψ̈ + sin(θ)⋅cos(varphi)⋅ψ̇⋅varṗhi + sin(varphi)⋅cos(θ)⋅ψ̇\n",
       "⋅θ̇ - sin(varphi)⋅θ̇⋅varṗhi + cos(varphi)⋅θ̈) d_x + (-sin(θ)⋅ψ̇⋅θ̇ + cos(θ)⋅ψ\n",
       "̈ + varp̈hi) d_y + (sin(θ)⋅sin(varphi)⋅ψ̇⋅varṗhi - sin(θ)⋅cos(varphi)⋅ψ̈ + si\n",
       "n(varphi)⋅θ̈ - cos(θ)⋅cos(varphi)⋅ψ̇⋅θ̇ + cos(varphi)⋅θ̇⋅varṗhi) d_z"
      ]
     },
     "execution_count": 50,
     "metadata": {},
     "output_type": "execute_result"
    }
   ],
   "source": [
    "D.ang_vel_in(A).dt(A).simplify()"
   ]
  },
  {
   "cell_type": "code",
   "execution_count": 51,
   "id": "a9f8928b",
   "metadata": {
    "execution": {
     "iopub.execute_input": "2025-01-22T13:05:47.674933Z",
     "iopub.status.busy": "2025-01-22T13:05:47.674771Z",
     "iopub.status.idle": "2025-01-22T13:05:48.081164Z",
     "shell.execute_reply": "2025-01-22T13:05:48.080615Z"
    }
   },
   "outputs": [
    {
     "data": {
      "text/latex": [
       "$\\displaystyle (\\sin{\\left(\\theta \\right)} \\sin{\\left(\\varphi \\right)} \\ddot{\\psi} + \\sin{\\left(\\theta \\right)} \\cos{\\left(\\varphi \\right)} \\dot{\\psi} \\dot{\\varphi} + \\sin{\\left(\\varphi \\right)} \\cos{\\left(\\theta \\right)} \\dot{\\psi} \\dot{\\theta} - \\sin{\\left(\\varphi \\right)} \\dot{\\theta} \\dot{\\varphi} + \\cos{\\left(\\varphi \\right)} \\ddot{\\theta})\\hat{d}_x + (- \\sin{\\left(\\theta \\right)} \\dot{\\psi} \\dot{\\theta} + \\cos{\\left(\\theta \\right)} \\ddot{\\psi} + \\ddot{\\varphi})\\hat{d}_y + (\\sin{\\left(\\theta \\right)} \\sin{\\left(\\varphi \\right)} \\dot{\\psi} \\dot{\\varphi} - \\sin{\\left(\\theta \\right)} \\cos{\\left(\\varphi \\right)} \\ddot{\\psi} + \\sin{\\left(\\varphi \\right)} \\ddot{\\theta} - \\cos{\\left(\\theta \\right)} \\cos{\\left(\\varphi \\right)} \\dot{\\psi} \\dot{\\theta} + \\cos{\\left(\\varphi \\right)} \\dot{\\theta} \\dot{\\varphi})\\hat{d}_z$"
      ],
      "text/plain": [
       "(sin(θ)⋅sin(varphi)⋅ψ̈ + sin(θ)⋅cos(varphi)⋅ψ̇⋅varṗhi + sin(varphi)⋅cos(θ)⋅ψ̇\n",
       "⋅θ̇ - sin(varphi)⋅θ̇⋅varṗhi + cos(varphi)⋅θ̈) d_x + (-sin(θ)⋅ψ̇⋅θ̇ + cos(θ)⋅ψ\n",
       "̈ + varp̈hi) d_y + (sin(θ)⋅sin(varphi)⋅ψ̇⋅varṗhi - sin(θ)⋅cos(varphi)⋅ψ̈ + si\n",
       "n(varphi)⋅θ̈ - cos(θ)⋅cos(varphi)⋅ψ̇⋅θ̇ + cos(varphi)⋅θ̇⋅varṗhi) d_z"
      ]
     },
     "execution_count": 51,
     "metadata": {},
     "output_type": "execute_result"
    }
   ],
   "source": [
    "D.ang_vel_in(A).dt(D).simplify()"
   ]
  },
  {
   "cell_type": "code",
   "execution_count": 52,
   "id": "bd4a0c91",
   "metadata": {
    "execution": {
     "iopub.execute_input": "2025-01-22T13:05:48.082803Z",
     "iopub.status.busy": "2025-01-22T13:05:48.082641Z",
     "iopub.status.idle": "2025-01-22T13:05:48.092741Z",
     "shell.execute_reply": "2025-01-22T13:05:48.092239Z"
    }
   },
   "outputs": [],
   "source": [
    "psi, theta, phi = me.dynamicsymbols('psi, theta, varphi')\n",
    "\n",
    "A = me.ReferenceFrame('A')\n",
    "B = me.ReferenceFrame('B')\n",
    "C = me.ReferenceFrame('C')\n",
    "D = me.ReferenceFrame('D')\n",
    "\n",
    "B.orient_axis(A, psi, A.y)\n",
    "C.orient_axis(B, theta, B.x)\n",
    "D.orient_axis(C, phi, C.y)"
   ]
  },
  {
   "cell_type": "code",
   "execution_count": 53,
   "id": "cf73e5f5",
   "metadata": {
    "execution": {
     "iopub.execute_input": "2025-01-22T13:05:48.094223Z",
     "iopub.status.busy": "2025-01-22T13:05:48.093927Z",
     "iopub.status.idle": "2025-01-22T13:05:48.099092Z",
     "shell.execute_reply": "2025-01-22T13:05:48.098600Z"
    }
   },
   "outputs": [
    {
     "data": {
      "text/latex": [
       "$\\displaystyle \\ddot{\\psi}\\hat{a}_y$"
      ],
      "text/plain": [
       "ψ̈ a_y"
      ]
     },
     "execution_count": 53,
     "metadata": {},
     "output_type": "execute_result"
    }
   ],
   "source": [
    "A_alp_B = B.ang_acc_in(A)\n",
    "A_alp_B"
   ]
  },
  {
   "cell_type": "code",
   "execution_count": 54,
   "id": "e005dadf",
   "metadata": {
    "execution": {
     "iopub.execute_input": "2025-01-22T13:05:48.100497Z",
     "iopub.status.busy": "2025-01-22T13:05:48.100260Z",
     "iopub.status.idle": "2025-01-22T13:05:48.105541Z",
     "shell.execute_reply": "2025-01-22T13:05:48.105059Z"
    }
   },
   "outputs": [
    {
     "data": {
      "text/latex": [
       "$\\displaystyle \\ddot{\\theta}\\hat{b}_x$"
      ],
      "text/plain": [
       "θ̈ b_x"
      ]
     },
     "execution_count": 54,
     "metadata": {},
     "output_type": "execute_result"
    }
   ],
   "source": [
    "B_alp_C = C.ang_acc_in(B)\n",
    "B_alp_C"
   ]
  },
  {
   "cell_type": "code",
   "execution_count": 55,
   "id": "3fdfa04a",
   "metadata": {
    "execution": {
     "iopub.execute_input": "2025-01-22T13:05:48.106966Z",
     "iopub.status.busy": "2025-01-22T13:05:48.106674Z",
     "iopub.status.idle": "2025-01-22T13:05:48.111773Z",
     "shell.execute_reply": "2025-01-22T13:05:48.111306Z"
    }
   },
   "outputs": [
    {
     "data": {
      "text/latex": [
       "$\\displaystyle \\ddot{\\varphi}\\hat{c}_y$"
      ],
      "text/plain": [
       "varp̈hi c_y"
      ]
     },
     "execution_count": 55,
     "metadata": {},
     "output_type": "execute_result"
    }
   ],
   "source": [
    "C_alp_D = D.ang_acc_in(C)\n",
    "C_alp_D"
   ]
  },
  {
   "cell_type": "code",
   "execution_count": 56,
   "id": "9c639dc6",
   "metadata": {
    "execution": {
     "iopub.execute_input": "2025-01-22T13:05:48.113465Z",
     "iopub.status.busy": "2025-01-22T13:05:48.113095Z",
     "iopub.status.idle": "2025-01-22T13:05:48.241782Z",
     "shell.execute_reply": "2025-01-22T13:05:48.241284Z"
    }
   },
   "outputs": [
    {
     "data": {
      "text/latex": [
       "$\\displaystyle (\\sin{\\left(\\theta \\right)} \\sin{\\left(\\varphi \\right)} \\ddot{\\psi} + \\cos{\\left(\\varphi \\right)} \\ddot{\\theta})\\hat{d}_x + (\\cos{\\left(\\theta \\right)} \\ddot{\\psi} + \\ddot{\\varphi})\\hat{d}_y + (- \\sin{\\left(\\theta \\right)} \\cos{\\left(\\varphi \\right)} \\ddot{\\psi} + \\sin{\\left(\\varphi \\right)} \\ddot{\\theta})\\hat{d}_z$"
      ],
      "text/plain": [
       "(sin(θ)⋅sin(varphi)⋅ψ̈ + cos(varphi)⋅θ̈) d_x + (cos(θ)⋅ψ̈ + varp̈hi) d_y + (-s\n",
       "in(θ)⋅cos(varphi)⋅ψ̈ + sin(varphi)⋅θ̈) d_z"
      ]
     },
     "execution_count": 56,
     "metadata": {},
     "output_type": "execute_result"
    }
   ],
   "source": [
    "A_alp_D = A_alp_B + B_alp_C + C_alp_D\n",
    "A_alp_D.express(D).simplify()"
   ]
  },
  {
   "cell_type": "code",
   "execution_count": 57,
   "id": "81243c50",
   "metadata": {
    "execution": {
     "iopub.execute_input": "2025-01-22T13:05:48.243399Z",
     "iopub.status.busy": "2025-01-22T13:05:48.243104Z",
     "iopub.status.idle": "2025-01-22T13:05:48.662353Z",
     "shell.execute_reply": "2025-01-22T13:05:48.661869Z"
    }
   },
   "outputs": [
    {
     "data": {
      "text/latex": [
       "$\\displaystyle (\\sin{\\left(\\theta \\right)} \\sin{\\left(\\varphi \\right)} \\ddot{\\psi} + \\sin{\\left(\\theta \\right)} \\cos{\\left(\\varphi \\right)} \\dot{\\psi} \\dot{\\varphi} + \\sin{\\left(\\varphi \\right)} \\cos{\\left(\\theta \\right)} \\dot{\\psi} \\dot{\\theta} - \\sin{\\left(\\varphi \\right)} \\dot{\\theta} \\dot{\\varphi} + \\cos{\\left(\\varphi \\right)} \\ddot{\\theta})\\hat{d}_x + (- \\sin{\\left(\\theta \\right)} \\dot{\\psi} \\dot{\\theta} + \\cos{\\left(\\theta \\right)} \\ddot{\\psi} + \\ddot{\\varphi})\\hat{d}_y + (\\sin{\\left(\\theta \\right)} \\sin{\\left(\\varphi \\right)} \\dot{\\psi} \\dot{\\varphi} - \\sin{\\left(\\theta \\right)} \\cos{\\left(\\varphi \\right)} \\ddot{\\psi} + \\sin{\\left(\\varphi \\right)} \\ddot{\\theta} - \\cos{\\left(\\theta \\right)} \\cos{\\left(\\varphi \\right)} \\dot{\\psi} \\dot{\\theta} + \\cos{\\left(\\varphi \\right)} \\dot{\\theta} \\dot{\\varphi})\\hat{d}_z$"
      ],
      "text/plain": [
       "(sin(θ)⋅sin(varphi)⋅ψ̈ + sin(θ)⋅cos(varphi)⋅ψ̇⋅varṗhi + sin(varphi)⋅cos(θ)⋅ψ̇\n",
       "⋅θ̇ - sin(varphi)⋅θ̇⋅varṗhi + cos(varphi)⋅θ̈) d_x + (-sin(θ)⋅ψ̇⋅θ̇ + cos(θ)⋅ψ\n",
       "̈ + varp̈hi) d_y + (sin(θ)⋅sin(varphi)⋅ψ̇⋅varṗhi - sin(θ)⋅cos(varphi)⋅ψ̈ + si\n",
       "n(varphi)⋅θ̈ - cos(θ)⋅cos(varphi)⋅ψ̇⋅θ̇ + cos(varphi)⋅θ̇⋅varṗhi) d_z"
      ]
     },
     "execution_count": 57,
     "metadata": {},
     "output_type": "execute_result"
    }
   ],
   "source": [
    "D.ang_vel_in(A).dt(A).express(D).simplify()"
   ]
  }
 ],
 "metadata": {
  "kernelspec": {
   "display_name": "Python 3 (ipykernel)",
   "language": "python",
   "name": "python3"
  },
  "language_info": {
   "codemirror_mode": {
    "name": "ipython",
    "version": 3
   },
   "file_extension": ".py",
   "mimetype": "text/x-python",
   "name": "python",
   "nbconvert_exporter": "python",
   "pygments_lexer": "ipython3",
   "version": "3.11.11"
  }
 },
 "nbformat": 4,
 "nbformat_minor": 5
}