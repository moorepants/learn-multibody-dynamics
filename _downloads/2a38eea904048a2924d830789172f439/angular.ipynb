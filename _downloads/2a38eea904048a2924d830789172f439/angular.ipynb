{
 "cells": [
  {
   "cell_type": "code",
   "execution_count": 1,
   "id": "6d49adc9",
   "metadata": {
    "execution": {
     "iopub.execute_input": "2025-09-11T11:32:53.339085Z",
     "iopub.status.busy": "2025-09-11T11:32:53.338945Z",
     "iopub.status.idle": "2025-09-11T11:32:53.676177Z",
     "shell.execute_reply": "2025-09-11T11:32:53.675668Z"
    }
   },
   "outputs": [],
   "source": [
    "import sympy as sm\n",
    "import sympy.physics.mechanics as me\n",
    "me.init_vprinting(use_latex='mathjax')"
   ]
  },
  {
   "cell_type": "code",
   "execution_count": 2,
   "id": "11da4b92",
   "metadata": {
    "execution": {
     "iopub.execute_input": "2025-09-11T11:32:53.677940Z",
     "iopub.status.busy": "2025-09-11T11:32:53.677750Z",
     "iopub.status.idle": "2025-09-11T11:32:53.681163Z",
     "shell.execute_reply": "2025-09-11T11:32:53.680768Z"
    }
   },
   "outputs": [],
   "source": [
    "class ReferenceFrame(me.ReferenceFrame):\n",
    "\n",
    "    def __init__(self, *args, **kwargs):\n",
    "\n",
    "        kwargs.pop('latexs', None)\n",
    "\n",
    "        lab = args[0].lower()\n",
    "        tex = r'\\hat{{{}}}_{}'\n",
    "\n",
    "        super(ReferenceFrame, self).__init__(*args,\n",
    "                                             latexs=(tex.format(lab, 'x'),\n",
    "                                                     tex.format(lab, 'y'),\n",
    "                                                     tex.format(lab, 'z')),\n",
    "                                             **kwargs)\n",
    "me.ReferenceFrame = ReferenceFrame"
   ]
  },
  {
   "cell_type": "code",
   "execution_count": 3,
   "id": "3a843aee",
   "metadata": {
    "execution": {
     "iopub.execute_input": "2025-09-11T11:32:53.682555Z",
     "iopub.status.busy": "2025-09-11T11:32:53.682406Z",
     "iopub.status.idle": "2025-09-11T11:32:53.686641Z",
     "shell.execute_reply": "2025-09-11T11:32:53.686259Z"
    }
   },
   "outputs": [],
   "source": [
    "cxx, cyy, czz = me.dynamicsymbols('c_{xx}, c_{yy}, c_{zz}')\n",
    "cxy, cxz, cyx = me.dynamicsymbols('c_{xy}, c_{xz}, c_{yx}')\n",
    "cyz, czx, czy = me.dynamicsymbols('c_{yz}, c_{zx}, c_{zy}')\n",
    "\n",
    "B_C_A = sm.Matrix([[cxx, cxy, cxz],\n",
    "                   [cyx, cyy, cyz],\n",
    "                   [czx, czy, czz]])"
   ]
  },
  {
   "cell_type": "code",
   "execution_count": 4,
   "id": "d31c2b73",
   "metadata": {
    "execution": {
     "iopub.execute_input": "2025-09-11T11:32:53.687907Z",
     "iopub.status.busy": "2025-09-11T11:32:53.687751Z",
     "iopub.status.idle": "2025-09-11T11:32:53.709678Z",
     "shell.execute_reply": "2025-09-11T11:32:53.709151Z"
    }
   },
   "outputs": [
    {
     "data": {
      "text/latex": [
       "$\\displaystyle \\left[\\begin{matrix}c_{xx} & c_{xy} & c_{xz}\\\\c_{yx} & c_{yy} & c_{yz}\\\\c_{zx} & c_{zy} & c_{zz}\\end{matrix}\\right]$"
      ],
      "text/plain": [
       "⎡c_{xx}  c_{xy}  c_{xz}⎤\n",
       "⎢                      ⎥\n",
       "⎢c_{yx}  c_{yy}  c_{yz}⎥\n",
       "⎢                      ⎥\n",
       "⎣c_{zx}  c_{zy}  c_{zz}⎦"
      ]
     },
     "execution_count": 4,
     "metadata": {},
     "output_type": "execute_result"
    }
   ],
   "source": [
    "A = me.ReferenceFrame('A')\n",
    "B = me.ReferenceFrame('B')\n",
    "B.orient_explicit(A, B_C_A.transpose())\n",
    "B.dcm(A)"
   ]
  },
  {
   "cell_type": "code",
   "execution_count": 5,
   "id": "6c01cfcb",
   "metadata": {
    "execution": {
     "iopub.execute_input": "2025-09-11T11:32:53.710966Z",
     "iopub.status.busy": "2025-09-11T11:32:53.710814Z",
     "iopub.status.idle": "2025-09-11T11:32:53.714797Z",
     "shell.execute_reply": "2025-09-11T11:32:53.714304Z"
    }
   },
   "outputs": [
    {
     "data": {
      "text/latex": [
       "$\\displaystyle c_{xx}\\hat{a}_x + c_{xy}\\hat{a}_y + c_{xz}\\hat{a}_z$"
      ],
      "text/plain": [
       "c_{xx} a_x + c_{xy} a_y + c_{xz} a_z"
      ]
     },
     "execution_count": 5,
     "metadata": {},
     "output_type": "execute_result"
    }
   ],
   "source": [
    "B.x.express(A)"
   ]
  },
  {
   "cell_type": "code",
   "execution_count": 6,
   "id": "9597413f",
   "metadata": {
    "execution": {
     "iopub.execute_input": "2025-09-11T11:32:53.716095Z",
     "iopub.status.busy": "2025-09-11T11:32:53.715940Z",
     "iopub.status.idle": "2025-09-11T11:32:53.719914Z",
     "shell.execute_reply": "2025-09-11T11:32:53.719409Z"
    }
   },
   "outputs": [
    {
     "data": {
      "text/latex": [
       "$\\displaystyle c_{yx}\\hat{a}_x + c_{yy}\\hat{a}_y + c_{yz}\\hat{a}_z$"
      ],
      "text/plain": [
       "c_{yx} a_x + c_{yy} a_y + c_{yz} a_z"
      ]
     },
     "execution_count": 6,
     "metadata": {},
     "output_type": "execute_result"
    }
   ],
   "source": [
    "B.y.express(A)"
   ]
  },
  {
   "cell_type": "code",
   "execution_count": 7,
   "id": "3e31bd5e",
   "metadata": {
    "execution": {
     "iopub.execute_input": "2025-09-11T11:32:53.721147Z",
     "iopub.status.busy": "2025-09-11T11:32:53.720987Z",
     "iopub.status.idle": "2025-09-11T11:32:53.724653Z",
     "shell.execute_reply": "2025-09-11T11:32:53.724266Z"
    }
   },
   "outputs": [
    {
     "data": {
      "text/latex": [
       "$\\displaystyle c_{zx}\\hat{a}_x + c_{zy}\\hat{a}_y + c_{zz}\\hat{a}_z$"
      ],
      "text/plain": [
       "c_{zx} a_x + c_{zy} a_y + c_{zz} a_z"
      ]
     },
     "execution_count": 7,
     "metadata": {},
     "output_type": "execute_result"
    }
   ],
   "source": [
    "B.z.express(A)"
   ]
  },
  {
   "cell_type": "code",
   "execution_count": 8,
   "id": "0ddd9e90",
   "metadata": {
    "execution": {
     "iopub.execute_input": "2025-09-11T11:32:53.725912Z",
     "iopub.status.busy": "2025-09-11T11:32:53.725764Z",
     "iopub.status.idle": "2025-09-11T11:32:53.731773Z",
     "shell.execute_reply": "2025-09-11T11:32:53.731283Z"
    }
   },
   "outputs": [
    {
     "data": {
      "text/latex": [
       "$\\displaystyle \\dot{c}_{yx}\\hat{a}_x + \\dot{c}_{yy}\\hat{a}_y + \\dot{c}_{yz}\\hat{a}_z$"
      ],
      "text/plain": [
       "c_{ẏx} a_x + c_{ẏy} a_y + c_{ẏz} a_z"
      ]
     },
     "execution_count": 8,
     "metadata": {},
     "output_type": "execute_result"
    }
   ],
   "source": [
    "B.y.express(A).dt(A)"
   ]
  },
  {
   "cell_type": "code",
   "execution_count": 9,
   "id": "ab307a15",
   "metadata": {
    "execution": {
     "iopub.execute_input": "2025-09-11T11:32:53.733104Z",
     "iopub.status.busy": "2025-09-11T11:32:53.732962Z",
     "iopub.status.idle": "2025-09-11T11:32:53.740820Z",
     "shell.execute_reply": "2025-09-11T11:32:53.740422Z"
    }
   },
   "outputs": [
    {
     "data": {
      "text/latex": [
       "$\\displaystyle c_{zx} \\dot{c}_{yx} + c_{zy} \\dot{c}_{yy} + c_{zz} \\dot{c}_{yz}$"
      ],
      "text/plain": [
       "c_{zx}⋅c_{ẏx} + c_{zy}⋅c_{ẏy} + c_{zz}⋅c_{ẏz}"
      ]
     },
     "execution_count": 9,
     "metadata": {},
     "output_type": "execute_result"
    }
   ],
   "source": [
    "mnx = me.dot(B.y.express(A).dt(A), B.z)\n",
    "mnx"
   ]
  },
  {
   "cell_type": "code",
   "execution_count": 10,
   "id": "1024560f",
   "metadata": {
    "execution": {
     "iopub.execute_input": "2025-09-11T11:32:53.742013Z",
     "iopub.status.busy": "2025-09-11T11:32:53.741866Z",
     "iopub.status.idle": "2025-09-11T11:32:53.750475Z",
     "shell.execute_reply": "2025-09-11T11:32:53.749976Z"
    }
   },
   "outputs": [
    {
     "data": {
      "text/latex": [
       "$\\displaystyle c_{xx} \\dot{c}_{zx} + c_{xy} \\dot{c}_{zy} + c_{xz} \\dot{c}_{zz}$"
      ],
      "text/plain": [
       "c_{xx}⋅c_{żx} + c_{xy}⋅c_{ży} + c_{xz}⋅c_{żz}"
      ]
     },
     "execution_count": 10,
     "metadata": {},
     "output_type": "execute_result"
    }
   ],
   "source": [
    "mny = me.dot(B.z.express(A).dt(A), B.x)\n",
    "mny"
   ]
  },
  {
   "cell_type": "code",
   "execution_count": 11,
   "id": "e68a8b69",
   "metadata": {
    "execution": {
     "iopub.execute_input": "2025-09-11T11:32:53.751755Z",
     "iopub.status.busy": "2025-09-11T11:32:53.751611Z",
     "iopub.status.idle": "2025-09-11T11:32:53.759036Z",
     "shell.execute_reply": "2025-09-11T11:32:53.758547Z"
    }
   },
   "outputs": [
    {
     "data": {
      "text/latex": [
       "$\\displaystyle c_{yx} \\dot{c}_{xx} + c_{yy} \\dot{c}_{xy} + c_{yz} \\dot{c}_{xz}$"
      ],
      "text/plain": [
       "c_{yx}⋅c_{ẋx} + c_{yy}⋅c_{ẋy} + c_{yz}⋅c_{ẋz}"
      ]
     },
     "execution_count": 11,
     "metadata": {},
     "output_type": "execute_result"
    }
   ],
   "source": [
    "mnz = me.dot(B.x.express(A).dt(A), B.y)\n",
    "mnz"
   ]
  },
  {
   "cell_type": "code",
   "execution_count": 12,
   "id": "ebaff3dd",
   "metadata": {
    "execution": {
     "iopub.execute_input": "2025-09-11T11:32:53.760294Z",
     "iopub.status.busy": "2025-09-11T11:32:53.760127Z",
     "iopub.status.idle": "2025-09-11T11:32:53.769528Z",
     "shell.execute_reply": "2025-09-11T11:32:53.769013Z"
    }
   },
   "outputs": [
    {
     "data": {
      "text/latex": [
       "$\\displaystyle (c_{zx} \\dot{c}_{yx} + c_{zy} \\dot{c}_{yy} + c_{zz} \\dot{c}_{yz})\\hat{b}_x + (c_{xx} \\dot{c}_{zx} + c_{xy} \\dot{c}_{zy} + c_{xz} \\dot{c}_{zz})\\hat{b}_y + (c_{yx} \\dot{c}_{xx} + c_{yy} \\dot{c}_{xy} + c_{yz} \\dot{c}_{xz})\\hat{b}_z$"
      ],
      "text/plain": [
       "(c_{zx}⋅c_{ẏx} + c_{zy}⋅c_{ẏy} + c_{zz}⋅c_{ẏz}) b_x + (c_{xx}⋅c_{żx} + c_{\n",
       "xy}⋅c_{ży} + c_{xz}⋅c_{żz}) b_y + (c_{yx}⋅c_{ẋx} + c_{yy}⋅c_{ẋy} + c_{yz}⋅\n",
       "c_{ẋz}) b_z"
      ]
     },
     "execution_count": 12,
     "metadata": {},
     "output_type": "execute_result"
    }
   ],
   "source": [
    "A_w_B = mnx*B.x + mny*B.y + mnz*B.z\n",
    "A_w_B"
   ]
  },
  {
   "cell_type": "code",
   "execution_count": 13,
   "id": "3f09443a",
   "metadata": {
    "execution": {
     "iopub.execute_input": "2025-09-11T11:32:53.770740Z",
     "iopub.status.busy": "2025-09-11T11:32:53.770593Z",
     "iopub.status.idle": "2025-09-11T11:32:53.777107Z",
     "shell.execute_reply": "2025-09-11T11:32:53.776614Z"
    }
   },
   "outputs": [
    {
     "data": {
      "text/latex": [
       "$\\displaystyle \\left[\\begin{matrix}\\frac{\\sqrt{2}}{4} & \\frac{\\sqrt{2}}{2} & \\frac{\\sqrt{6}}{4}\\\\- \\frac{\\sqrt{3}}{2} & 0 & \\frac{1}{2}\\\\\\frac{\\sqrt{2}}{4} & - \\frac{\\sqrt{2}}{2} & \\frac{\\sqrt{6}}{4}\\end{matrix}\\right]$"
      ],
      "text/plain": [
       "⎡ √2    √2   √6 ⎤\n",
       "⎢ ──    ──   ── ⎥\n",
       "⎢ 4     2    4  ⎥\n",
       "⎢               ⎥\n",
       "⎢-√3            ⎥\n",
       "⎢────   0    1/2⎥\n",
       "⎢ 2             ⎥\n",
       "⎢               ⎥\n",
       "⎢ √2   -√2   √6 ⎥\n",
       "⎢ ──   ────  ── ⎥\n",
       "⎣ 4     2    4  ⎦"
      ]
     },
     "execution_count": 13,
     "metadata": {},
     "output_type": "execute_result"
    }
   ],
   "source": [
    "B_C_A = sm.Matrix([\n",
    "    [ sm.sqrt(2)/4,  sm.sqrt(2)/2, sm.sqrt(6)/4],\n",
    "    [-sm.sqrt(3)/2,          0,       sm.S(1)/2],\n",
    "    [ sm.sqrt(2)/4, -sm.sqrt(2)/2, sm.sqrt(6)/4]\n",
    "])\n",
    "B_C_A"
   ]
  },
  {
   "cell_type": "code",
   "execution_count": 14,
   "id": "cda8e0db",
   "metadata": {
    "execution": {
     "iopub.execute_input": "2025-09-11T11:32:53.778403Z",
     "iopub.status.busy": "2025-09-11T11:32:53.778234Z",
     "iopub.status.idle": "2025-09-11T11:32:53.788926Z",
     "shell.execute_reply": "2025-09-11T11:32:53.788395Z"
    }
   },
   "outputs": [
    {
     "data": {
      "text/latex": [
       "$\\displaystyle \\left[\\begin{matrix}- \\frac{\\sqrt{6}}{2} - \\frac{3 \\sqrt{2}}{4} & - \\frac{\\sqrt{6}}{4} + \\frac{3 \\sqrt{2}}{2} & - \\frac{3 \\sqrt{6}}{4} + \\sqrt{2}\\\\-1 & - \\frac{1}{2} & - \\sqrt{3}\\\\- \\frac{\\sqrt{6}}{2} + \\frac{3 \\sqrt{2}}{4} & - \\frac{\\sqrt{6}}{4} + \\frac{3 \\sqrt{2}}{2} & \\frac{3 \\sqrt{6}}{4}\\end{matrix}\\right]$"
      ],
      "text/plain": [
       "⎡  √6   3⋅√2    √6   3⋅√2    3⋅√6     ⎤\n",
       "⎢- ── - ────  - ── + ────  - ──── + √2⎥\n",
       "⎢  2     4      4     2       4       ⎥\n",
       "⎢                                     ⎥\n",
       "⎢    -1          -1/2          -√3    ⎥\n",
       "⎢                                     ⎥\n",
       "⎢  √6   3⋅√2    √6   3⋅√2     3⋅√6    ⎥\n",
       "⎢- ── + ────  - ── + ────     ────    ⎥\n",
       "⎣  2     4      4     2        4      ⎦"
      ]
     },
     "execution_count": 14,
     "metadata": {},
     "output_type": "execute_result"
    }
   ],
   "source": [
    "B_C_A_dt = sm.Matrix([\n",
    "    [-sm.sqrt(6)/2 - 3*sm.sqrt(2)/4, -sm.sqrt(6)/4 + 3*sm.sqrt(2)/2, -3*sm.sqrt(6)/4 + sm.sqrt(2)],\n",
    "    [                      -1,                     -sm.S(1)/2,               -sm.sqrt(3)],\n",
    "    [-sm.sqrt(6)/2 + 3*sm.sqrt(2)/4, -sm.sqrt(6)/4 + 3*sm.sqrt(2)/2,            3*sm.sqrt(6)/4]\n",
    "])\n",
    "B_C_A_dt"
   ]
  },
  {
   "cell_type": "code",
   "execution_count": 15,
   "id": "bd41df9e",
   "metadata": {
    "execution": {
     "iopub.execute_input": "2025-09-11T11:32:53.790190Z",
     "iopub.status.busy": "2025-09-11T11:32:53.790046Z",
     "iopub.status.idle": "2025-09-11T11:32:53.796022Z",
     "shell.execute_reply": "2025-09-11T11:32:53.795543Z"
    }
   },
   "outputs": [],
   "source": [
    "mnx = (B_C_A[2, :]*B_C_A_dt[1, :].transpose())[0, 0]\n",
    "mny = (B_C_A[0, :]*B_C_A_dt[2, :].transpose())[0, 0]\n",
    "mnz = (B_C_A[1, :]*B_C_A_dt[0, :].transpose())[0, 0]\n",
    "\n",
    "A_w_B = mnx*B.x + mny*B.y + mnz*B.z"
   ]
  },
  {
   "cell_type": "code",
   "execution_count": 16,
   "id": "b0540331",
   "metadata": {
    "execution": {
     "iopub.execute_input": "2025-09-11T11:32:53.797467Z",
     "iopub.status.busy": "2025-09-11T11:32:53.797331Z",
     "iopub.status.idle": "2025-09-11T11:32:53.855534Z",
     "shell.execute_reply": "2025-09-11T11:32:53.855117Z"
    }
   },
   "outputs": [
    {
     "data": {
      "text/latex": [
       "$\\displaystyle -  \\frac{3 \\sqrt{2}}{4}\\hat{b}_x + (3 - \\frac{\\sqrt{3}}{2})\\hat{b}_y + \\frac{5 \\sqrt{2}}{4}\\hat{b}_z$"
      ],
      "text/plain": [
       "-3⋅√2        ⎛    √3⎞       5⋅√2\n",
       "────── b_x + ⎜3 - ──⎟ b_y + ──── b_z\n",
       "  4          ⎝    2 ⎠        4"
      ]
     },
     "execution_count": 16,
     "metadata": {},
     "output_type": "execute_result"
    }
   ],
   "source": [
    "A_w_B.simplify()"
   ]
  },
  {
   "cell_type": "code",
   "execution_count": 17,
   "id": "54a96a0e",
   "metadata": {
    "execution": {
     "iopub.execute_input": "2025-09-11T11:32:53.856859Z",
     "iopub.status.busy": "2025-09-11T11:32:53.856714Z",
     "iopub.status.idle": "2025-09-11T11:32:53.862646Z",
     "shell.execute_reply": "2025-09-11T11:32:53.862257Z"
    }
   },
   "outputs": [
    {
     "data": {
      "text/latex": [
       "$\\displaystyle \\left[\\begin{matrix}\\cos{\\left(\\theta \\right)} & \\sin{\\left(\\theta \\right)} & 0\\\\- \\sin{\\left(\\theta \\right)} & \\cos{\\left(\\theta \\right)} & 0\\\\0 & 0 & 1\\end{matrix}\\right]$"
      ],
      "text/plain": [
       "⎡cos(θ)   sin(θ)  0⎤\n",
       "⎢                  ⎥\n",
       "⎢-sin(θ)  cos(θ)  0⎥\n",
       "⎢                  ⎥\n",
       "⎣   0       0     1⎦"
      ]
     },
     "execution_count": 17,
     "metadata": {},
     "output_type": "execute_result"
    }
   ],
   "source": [
    "theta = me.dynamicsymbols('theta')\n",
    "\n",
    "B_C_A = sm.Matrix([[sm.cos(theta), sm.sin(theta), 0],\n",
    "                   [-sm.sin(theta), sm.cos(theta), 0],\n",
    "                   [0, 0, 1]])\n",
    "\n",
    "B_C_A"
   ]
  },
  {
   "cell_type": "code",
   "execution_count": 18,
   "id": "3ebe8866",
   "metadata": {
    "execution": {
     "iopub.execute_input": "2025-09-11T11:32:53.863981Z",
     "iopub.status.busy": "2025-09-11T11:32:53.863831Z",
     "iopub.status.idle": "2025-09-11T11:32:53.910472Z",
     "shell.execute_reply": "2025-09-11T11:32:53.910011Z"
    }
   },
   "outputs": [
    {
     "data": {
      "text/latex": [
       "$\\displaystyle (\\sin^{2}{\\left(\\theta \\right)} \\dot{\\theta} + \\cos^{2}{\\left(\\theta \\right)} \\dot{\\theta})\\hat{b}_z$"
      ],
      "text/plain": [
       "⎛   2           2     ⎞\n",
       "⎝sin (θ)⋅θ̇ + cos (θ)⋅θ̇⎠ b_z"
      ]
     },
     "execution_count": 18,
     "metadata": {},
     "output_type": "execute_result"
    }
   ],
   "source": [
    "A = me.ReferenceFrame('A')\n",
    "B = me.ReferenceFrame('B')\n",
    "B.orient_explicit(A, B_C_A.transpose())\n",
    "\n",
    "mnx = me.dot(B.y.express(A).dt(A), B.z)\n",
    "mny = me.dot(B.z.express(A).dt(A), B.x)\n",
    "mnz = me.dot(B.x.express(A).dt(A), B.y)\n",
    "\n",
    "A_w_B = mnx*B.x + mny*B.y + mnz*B.z\n",
    "A_w_B"
   ]
  },
  {
   "cell_type": "code",
   "execution_count": 19,
   "id": "a6d76541",
   "metadata": {
    "execution": {
     "iopub.execute_input": "2025-09-11T11:32:53.911845Z",
     "iopub.status.busy": "2025-09-11T11:32:53.911690Z",
     "iopub.status.idle": "2025-09-11T11:32:53.938884Z",
     "shell.execute_reply": "2025-09-11T11:32:53.938411Z"
    }
   },
   "outputs": [
    {
     "data": {
      "text/latex": [
       "$\\displaystyle \\dot{\\theta}\\hat{b}_z$"
      ],
      "text/plain": [
       "θ̇ b_z"
      ]
     },
     "execution_count": 19,
     "metadata": {},
     "output_type": "execute_result"
    }
   ],
   "source": [
    "A_w_B.simplify()"
   ]
  },
  {
   "cell_type": "code",
   "execution_count": 20,
   "id": "3c1196e5",
   "metadata": {
    "execution": {
     "iopub.execute_input": "2025-09-11T11:32:53.940470Z",
     "iopub.status.busy": "2025-09-11T11:32:53.940323Z",
     "iopub.status.idle": "2025-09-11T11:32:53.947256Z",
     "shell.execute_reply": "2025-09-11T11:32:53.946848Z"
    }
   },
   "outputs": [
    {
     "data": {
      "text/latex": [
       "$\\displaystyle \\dot{\\theta}\\hat{a}_z$"
      ],
      "text/plain": [
       "θ̇ a_z"
      ]
     },
     "execution_count": 20,
     "metadata": {},
     "output_type": "execute_result"
    }
   ],
   "source": [
    "A = me.ReferenceFrame('A')\n",
    "B = me.ReferenceFrame('B')\n",
    "B.orient_axis(A, theta, A.z)\n",
    "B.ang_vel_in(A)"
   ]
  },
  {
   "cell_type": "code",
   "execution_count": 21,
   "id": "64400384",
   "metadata": {
    "execution": {
     "iopub.execute_input": "2025-09-11T11:32:53.948537Z",
     "iopub.status.busy": "2025-09-11T11:32:53.948399Z",
     "iopub.status.idle": "2025-09-11T11:32:53.956747Z",
     "shell.execute_reply": "2025-09-11T11:32:53.956234Z"
    }
   },
   "outputs": [
    {
     "data": {
      "text/latex": [
       "$\\displaystyle \\frac{\\sqrt{2} \\dot{\\theta}}{2}\\hat{a}_x + \\frac{\\sqrt{2} \\dot{\\theta}}{2}\\hat{a}_y$"
      ],
      "text/plain": [
       "√2⋅θ̇       √2⋅θ̇\n",
       "──── a_x + ──── a_y\n",
       " 2          2"
      ]
     },
     "execution_count": 21,
     "metadata": {},
     "output_type": "execute_result"
    }
   ],
   "source": [
    "theta = me.dynamicsymbols('theta')\n",
    "\n",
    "A = me.ReferenceFrame('A')\n",
    "B = me.ReferenceFrame('B')\n",
    "B.orient_axis(A, theta, A.x + A.y)\n",
    "B.ang_vel_in(A)"
   ]
  },
  {
   "cell_type": "code",
   "execution_count": 22,
   "id": "1ec29980",
   "metadata": {
    "execution": {
     "iopub.execute_input": "2025-09-11T11:32:53.958062Z",
     "iopub.status.busy": "2025-09-11T11:32:53.957911Z",
     "iopub.status.idle": "2025-09-11T11:32:53.971106Z",
     "shell.execute_reply": "2025-09-11T11:32:53.970698Z"
    }
   },
   "outputs": [
    {
     "data": {
      "text/latex": [
       "$\\displaystyle \\sqrt{\\dot{\\theta}^{2}}$"
      ],
      "text/plain": [
       "   ____\n",
       "  ╱  2 \n",
       "╲╱ θ̇  "
      ]
     },
     "execution_count": 22,
     "metadata": {},
     "output_type": "execute_result"
    }
   ],
   "source": [
    "B.ang_vel_in(A).magnitude()"
   ]
  },
  {
   "cell_type": "code",
   "execution_count": 23,
   "id": "15e32025",
   "metadata": {
    "execution": {
     "iopub.execute_input": "2025-09-11T11:32:53.972327Z",
     "iopub.status.busy": "2025-09-11T11:32:53.972164Z",
     "iopub.status.idle": "2025-09-11T11:32:56.466372Z",
     "shell.execute_reply": "2025-09-11T11:32:56.465807Z"
    }
   },
   "outputs": [
    {
     "data": {
      "text/latex": [
       "$\\displaystyle (\\sin{\\left(\\theta \\right)} \\sin{\\left(\\varphi \\right)} \\dot{\\psi} + \\cos{\\left(\\varphi \\right)} \\dot{\\theta})\\hat{b}_x + (\\sin{\\left(\\theta \\right)} \\cos{\\left(\\varphi \\right)} \\dot{\\psi} - \\sin{\\left(\\varphi \\right)} \\dot{\\theta})\\hat{b}_y + (\\cos{\\left(\\theta \\right)} \\dot{\\psi} + \\dot{\\varphi})\\hat{b}_z$"
      ],
      "text/plain": [
       "(sin(θ)⋅sin(varphi)⋅ψ̇ + cos(varphi)⋅θ̇) b_x + (sin(θ)⋅cos(varphi)⋅ψ̇ - sin(va\n",
       "rphi)⋅θ̇) b_y + (cos(θ)⋅ψ̇ + varṗhi) b_z"
      ]
     },
     "execution_count": 23,
     "metadata": {},
     "output_type": "execute_result"
    }
   ],
   "source": [
    "psi, theta, phi = me.dynamicsymbols('psi, theta, varphi')\n",
    "\n",
    "A = me.ReferenceFrame('A')\n",
    "B = me.ReferenceFrame('B')\n",
    "B.orient_body_fixed(A, (psi, theta, phi), 'ZXZ')\n",
    "\n",
    "mnx = me.dot(B.y.express(A).dt(A), B.z)\n",
    "mny = me.dot(B.z.express(A).dt(A), B.x)\n",
    "mnz = me.dot(B.x.express(A).dt(A), B.y)\n",
    "\n",
    "A_w_B = mnx*B.x + mny*B.y + mnz*B.z\n",
    "A_w_B.simplify()"
   ]
  },
  {
   "cell_type": "code",
   "execution_count": 24,
   "id": "c4959710",
   "metadata": {
    "execution": {
     "iopub.execute_input": "2025-09-11T11:32:56.467909Z",
     "iopub.status.busy": "2025-09-11T11:32:56.467735Z",
     "iopub.status.idle": "2025-09-11T11:32:56.475366Z",
     "shell.execute_reply": "2025-09-11T11:32:56.474863Z"
    }
   },
   "outputs": [
    {
     "data": {
      "text/latex": [
       "$\\displaystyle (\\sin{\\left(\\theta \\right)} \\sin{\\left(\\varphi \\right)} \\dot{\\psi} + \\cos{\\left(\\varphi \\right)} \\dot{\\theta})\\hat{b}_x + (\\sin{\\left(\\theta \\right)} \\cos{\\left(\\varphi \\right)} \\dot{\\psi} - \\sin{\\left(\\varphi \\right)} \\dot{\\theta})\\hat{b}_y + (\\cos{\\left(\\theta \\right)} \\dot{\\psi} + \\dot{\\varphi})\\hat{b}_z$"
      ],
      "text/plain": [
       "(sin(θ)⋅sin(varphi)⋅ψ̇ + cos(varphi)⋅θ̇) b_x + (sin(θ)⋅cos(varphi)⋅ψ̇ - sin(va\n",
       "rphi)⋅θ̇) b_y + (cos(θ)⋅ψ̇ + varṗhi) b_z"
      ]
     },
     "execution_count": 24,
     "metadata": {},
     "output_type": "execute_result"
    }
   ],
   "source": [
    "B.ang_vel_in(A)"
   ]
  },
  {
   "cell_type": "code",
   "execution_count": 25,
   "id": "fb5dd6f7",
   "metadata": {
    "execution": {
     "iopub.execute_input": "2025-09-11T11:32:56.476769Z",
     "iopub.status.busy": "2025-09-11T11:32:56.476615Z",
     "iopub.status.idle": "2025-09-11T11:32:56.484939Z",
     "shell.execute_reply": "2025-09-11T11:32:56.484455Z"
    }
   },
   "outputs": [],
   "source": [
    "psi, theta, phi = me.dynamicsymbols('psi, theta, varphi')\n",
    "\n",
    "N = me.ReferenceFrame('N')\n",
    "T = me.ReferenceFrame('T')\n",
    "T.orient_body_fixed(N, (psi, theta, phi), 'xyz')"
   ]
  },
  {
   "cell_type": "code",
   "execution_count": 26,
   "id": "e472740f",
   "metadata": {
    "execution": {
     "iopub.execute_input": "2025-09-11T11:32:56.486303Z",
     "iopub.status.busy": "2025-09-11T11:32:56.486139Z",
     "iopub.status.idle": "2025-09-11T11:32:56.522099Z",
     "shell.execute_reply": "2025-09-11T11:32:56.521608Z"
    }
   },
   "outputs": [
    {
     "data": {
      "text/latex": [
       "$\\displaystyle \\left[\\begin{matrix}\\cos{\\left(\\theta \\right)} \\cos{\\left(\\varphi \\right)} & \\sin{\\left(\\varphi \\right)} & - \\sin{\\left(\\theta \\right)} \\cos{\\left(\\varphi \\right)}\\\\- \\sin{\\left(\\varphi \\right)} \\cos{\\left(\\theta \\right)} & \\cos{\\left(\\varphi \\right)} & \\sin{\\left(\\theta \\right)} \\sin{\\left(\\varphi \\right)}\\\\\\sin{\\left(\\theta \\right)} & 0 & \\cos{\\left(\\theta \\right)}\\end{matrix}\\right]$"
      ],
      "text/plain": [
       "⎡cos(θ)⋅cos(varphi)   sin(varphi)  -sin(θ)⋅cos(varphi)⎤\n",
       "⎢                                                     ⎥\n",
       "⎢-sin(varphi)⋅cos(θ)  cos(varphi)  sin(θ)⋅sin(varphi) ⎥\n",
       "⎢                                                     ⎥\n",
       "⎣      sin(θ)              0             cos(θ)       ⎦"
      ]
     },
     "execution_count": 26,
     "metadata": {},
     "output_type": "execute_result"
    }
   ],
   "source": [
    "sm.trigsimp(T.dcm(N).xreplace({psi: 0}))"
   ]
  },
  {
   "cell_type": "code",
   "execution_count": 27,
   "id": "960d05a3",
   "metadata": {
    "execution": {
     "iopub.execute_input": "2025-09-11T11:32:56.523504Z",
     "iopub.status.busy": "2025-09-11T11:32:56.523347Z",
     "iopub.status.idle": "2025-09-11T11:32:56.561808Z",
     "shell.execute_reply": "2025-09-11T11:32:56.561328Z"
    }
   },
   "outputs": [
    {
     "data": {
      "text/latex": [
       "$\\displaystyle \\left[\\begin{matrix}\\cos{\\left(\\theta \\right)} \\cos{\\left(\\varphi \\right)} & - \\sin{\\left(\\varphi \\right)} & \\sin{\\left(\\theta \\right)} \\cos{\\left(\\varphi \\right)}\\\\- \\sin{\\left(\\varphi \\right)} \\cos{\\left(\\theta \\right)} & - \\cos{\\left(\\varphi \\right)} & - \\sin{\\left(\\theta \\right)} \\sin{\\left(\\varphi \\right)}\\\\\\sin{\\left(\\theta \\right)} & 0 & - \\cos{\\left(\\theta \\right)}\\end{matrix}\\right]$"
      ],
      "text/plain": [
       "⎡cos(θ)⋅cos(varphi)   -sin(varphi)  sin(θ)⋅cos(varphi) ⎤\n",
       "⎢                                                      ⎥\n",
       "⎢-sin(varphi)⋅cos(θ)  -cos(varphi)  -sin(θ)⋅sin(varphi)⎥\n",
       "⎢                                                      ⎥\n",
       "⎣      sin(θ)              0              -cos(θ)      ⎦"
      ]
     },
     "execution_count": 27,
     "metadata": {},
     "output_type": "execute_result"
    }
   ],
   "source": [
    "sm.trigsimp(T.dcm(N).xreplace({psi: sm.pi}))"
   ]
  },
  {
   "cell_type": "code",
   "execution_count": 28,
   "id": "cbe9c3b5",
   "metadata": {
    "execution": {
     "iopub.execute_input": "2025-09-11T11:32:56.563114Z",
     "iopub.status.busy": "2025-09-11T11:32:56.562974Z",
     "iopub.status.idle": "2025-09-11T11:32:56.667979Z",
     "shell.execute_reply": "2025-09-11T11:32:56.667553Z"
    }
   },
   "outputs": [
    {
     "data": {
      "text/latex": [
       "$\\displaystyle \\left[\\begin{matrix}0 & - \\sin{\\left(\\psi - \\varphi \\right)} & \\cos{\\left(\\psi - \\varphi \\right)}\\\\0 & \\cos{\\left(\\psi - \\varphi \\right)} & \\sin{\\left(\\psi - \\varphi \\right)}\\\\-1 & 0 & 0\\end{matrix}\\right]$"
      ],
      "text/plain": [
       "⎡0   -sin(ψ - varphi)  cos(ψ - varphi)⎤\n",
       "⎢                                     ⎥\n",
       "⎢0   cos(ψ - varphi)   sin(ψ - varphi)⎥\n",
       "⎢                                     ⎥\n",
       "⎣-1         0                 0       ⎦"
      ]
     },
     "execution_count": 28,
     "metadata": {},
     "output_type": "execute_result"
    }
   ],
   "source": [
    "sm.trigsimp(T.dcm(N).xreplace({theta: -sm.pi/2}))"
   ]
  },
  {
   "cell_type": "code",
   "execution_count": 29,
   "id": "f5747903",
   "metadata": {
    "execution": {
     "iopub.execute_input": "2025-09-11T11:32:56.669227Z",
     "iopub.status.busy": "2025-09-11T11:32:56.669092Z",
     "iopub.status.idle": "2025-09-11T11:32:56.770254Z",
     "shell.execute_reply": "2025-09-11T11:32:56.769743Z"
    }
   },
   "outputs": [
    {
     "data": {
      "text/latex": [
       "$\\displaystyle \\left[\\begin{matrix}0 & \\sin{\\left(\\psi + \\varphi \\right)} & - \\cos{\\left(\\psi + \\varphi \\right)}\\\\0 & \\cos{\\left(\\psi + \\varphi \\right)} & \\sin{\\left(\\psi + \\varphi \\right)}\\\\1 & 0 & 0\\end{matrix}\\right]$"
      ],
      "text/plain": [
       "⎡0  sin(ψ + varphi)  -cos(ψ + varphi)⎤\n",
       "⎢                                    ⎥\n",
       "⎢0  cos(ψ + varphi)  sin(ψ + varphi) ⎥\n",
       "⎢                                    ⎥\n",
       "⎣1         0                0        ⎦"
      ]
     },
     "execution_count": 29,
     "metadata": {},
     "output_type": "execute_result"
    }
   ],
   "source": [
    "sm.trigsimp(T.dcm(N).xreplace({theta: sm.pi/2}))"
   ]
  },
  {
   "cell_type": "code",
   "execution_count": 30,
   "id": "cf010fef",
   "metadata": {
    "execution": {
     "iopub.execute_input": "2025-09-11T11:32:56.771643Z",
     "iopub.status.busy": "2025-09-11T11:32:56.771490Z",
     "iopub.status.idle": "2025-09-11T11:32:56.780013Z",
     "shell.execute_reply": "2025-09-11T11:32:56.779540Z"
    }
   },
   "outputs": [
    {
     "data": {
      "text/latex": [
       "$\\displaystyle u_{1}\\hat{b}_x + u_{2}\\hat{b}_y + u_{3}\\hat{b}_z$"
      ],
      "text/plain": [
       "u₁ b_x + u₂ b_y + u₃ b_z"
      ]
     },
     "execution_count": 30,
     "metadata": {},
     "output_type": "execute_result"
    }
   ],
   "source": [
    "A = me.ReferenceFrame('A')\n",
    "B = me.ReferenceFrame('B')\n",
    "B.orient_body_fixed(A, (psi, theta, 0), 'ZXZ')\n",
    "\n",
    "u1, u2, u3 = me.dynamicsymbols('u1, u2, u3')\n",
    "\n",
    "u = u1*B.x + u2*B.y + u3*B.z\n",
    "u"
   ]
  },
  {
   "cell_type": "code",
   "execution_count": 31,
   "id": "46127b68",
   "metadata": {
    "execution": {
     "iopub.execute_input": "2025-09-11T11:32:56.781308Z",
     "iopub.status.busy": "2025-09-11T11:32:56.781139Z",
     "iopub.status.idle": "2025-09-11T11:32:56.790819Z",
     "shell.execute_reply": "2025-09-11T11:32:56.790404Z"
    }
   },
   "outputs": [
    {
     "data": {
      "text/latex": [
       "$\\displaystyle (u_{1} \\cos{\\left(\\psi \\right)} - u_{2} \\sin{\\left(\\psi \\right)} \\cos{\\left(\\theta \\right)} + u_{3} \\sin{\\left(\\psi \\right)} \\sin{\\left(\\theta \\right)})\\hat{a}_x + (u_{1} \\sin{\\left(\\psi \\right)} + u_{2} \\cos{\\left(\\psi \\right)} \\cos{\\left(\\theta \\right)} - u_{3} \\sin{\\left(\\theta \\right)} \\cos{\\left(\\psi \\right)})\\hat{a}_y + (u_{2} \\sin{\\left(\\theta \\right)} + u_{3} \\cos{\\left(\\theta \\right)})\\hat{a}_z$"
      ],
      "text/plain": [
       "(u₁⋅cos(ψ) - u₂⋅sin(ψ)⋅cos(θ) + u₃⋅sin(ψ)⋅sin(θ)) a_x + (u₁⋅sin(ψ) + u₂⋅cos(ψ)\n",
       "⋅cos(θ) - u₃⋅sin(θ)⋅cos(ψ)) a_y + (u₂⋅sin(θ) + u₃⋅cos(θ)) a_z"
      ]
     },
     "execution_count": 31,
     "metadata": {},
     "output_type": "execute_result"
    }
   ],
   "source": [
    "u.express(A)"
   ]
  },
  {
   "cell_type": "code",
   "execution_count": 32,
   "id": "cc82f7c6",
   "metadata": {
    "execution": {
     "iopub.execute_input": "2025-09-11T11:32:56.792040Z",
     "iopub.status.busy": "2025-09-11T11:32:56.791907Z",
     "iopub.status.idle": "2025-09-11T11:32:56.835398Z",
     "shell.execute_reply": "2025-09-11T11:32:56.834977Z"
    }
   },
   "outputs": [
    {
     "data": {
      "text/latex": [
       "$\\displaystyle (- u_{1} \\sin{\\left(\\psi \\right)} \\dot{\\psi} + u_{2} \\sin{\\left(\\psi \\right)} \\sin{\\left(\\theta \\right)} \\dot{\\theta} - u_{2} \\cos{\\left(\\psi \\right)} \\cos{\\left(\\theta \\right)} \\dot{\\psi} + u_{3} \\sin{\\left(\\psi \\right)} \\cos{\\left(\\theta \\right)} \\dot{\\theta} + u_{3} \\sin{\\left(\\theta \\right)} \\cos{\\left(\\psi \\right)} \\dot{\\psi} + \\sin{\\left(\\psi \\right)} \\sin{\\left(\\theta \\right)} \\dot{u}_{3} - \\sin{\\left(\\psi \\right)} \\cos{\\left(\\theta \\right)} \\dot{u}_{2} + \\cos{\\left(\\psi \\right)} \\dot{u}_{1})\\hat{a}_x + (u_{1} \\cos{\\left(\\psi \\right)} \\dot{\\psi} - u_{2} \\sin{\\left(\\psi \\right)} \\cos{\\left(\\theta \\right)} \\dot{\\psi} - u_{2} \\sin{\\left(\\theta \\right)} \\cos{\\left(\\psi \\right)} \\dot{\\theta} + u_{3} \\sin{\\left(\\psi \\right)} \\sin{\\left(\\theta \\right)} \\dot{\\psi} - u_{3} \\cos{\\left(\\psi \\right)} \\cos{\\left(\\theta \\right)} \\dot{\\theta} + \\sin{\\left(\\psi \\right)} \\dot{u}_{1} - \\sin{\\left(\\theta \\right)} \\cos{\\left(\\psi \\right)} \\dot{u}_{3} + \\cos{\\left(\\psi \\right)} \\cos{\\left(\\theta \\right)} \\dot{u}_{2})\\hat{a}_y + (u_{2} \\cos{\\left(\\theta \\right)} \\dot{\\theta} - u_{3} \\sin{\\left(\\theta \\right)} \\dot{\\theta} + \\sin{\\left(\\theta \\right)} \\dot{u}_{2} + \\cos{\\left(\\theta \\right)} \\dot{u}_{3})\\hat{a}_z$"
      ],
      "text/plain": [
       "(-u₁⋅sin(ψ)⋅ψ̇ + u₂⋅sin(ψ)⋅sin(θ)⋅θ̇ - u₂⋅cos(ψ)⋅cos(θ)⋅ψ̇ + u₃⋅sin(ψ)⋅cos(θ)⋅\n",
       "θ̇ + u₃⋅sin(θ)⋅cos(ψ)⋅ψ̇ + sin(ψ)⋅sin(θ)⋅u₃̇ - sin(ψ)⋅cos(θ)⋅u₂̇ + cos(ψ)⋅u₁̇)\n",
       " a_x + (u₁⋅cos(ψ)⋅ψ̇ - u₂⋅sin(ψ)⋅cos(θ)⋅ψ̇ - u₂⋅sin(θ)⋅cos(ψ)⋅θ̇ + u₃⋅sin(ψ)⋅s\n",
       "in(θ)⋅ψ̇ - u₃⋅cos(ψ)⋅cos(θ)⋅θ̇ + sin(ψ)⋅u₁̇ - sin(θ)⋅cos(ψ)⋅u₃̇ + cos(ψ)⋅cos(θ\n",
       ")⋅u₂̇) a_y + (u₂⋅cos(θ)⋅θ̇ - u₃⋅sin(θ)⋅θ̇ + sin(θ)⋅u₂̇ + cos(θ)⋅u₃̇) a_z"
      ]
     },
     "execution_count": 32,
     "metadata": {},
     "output_type": "execute_result"
    }
   ],
   "source": [
    "u.express(A).dt(A)"
   ]
  },
  {
   "cell_type": "code",
   "execution_count": 33,
   "id": "1ef106e7",
   "metadata": {
    "execution": {
     "iopub.execute_input": "2025-09-11T11:32:56.836580Z",
     "iopub.status.busy": "2025-09-11T11:32:56.836434Z",
     "iopub.status.idle": "2025-09-11T11:32:56.841811Z",
     "shell.execute_reply": "2025-09-11T11:32:56.841318Z"
    }
   },
   "outputs": [
    {
     "data": {
      "text/latex": [
       "$\\displaystyle \\dot{u}_{1}\\hat{b}_x + \\dot{u}_{2}\\hat{b}_y + \\dot{u}_{3}\\hat{b}_z$"
      ],
      "text/plain": [
       "u₁̇ b_x + u₂̇ b_y + u₃̇ b_z"
      ]
     },
     "execution_count": 33,
     "metadata": {},
     "output_type": "execute_result"
    }
   ],
   "source": [
    "u.dt(B)"
   ]
  },
  {
   "cell_type": "code",
   "execution_count": 34,
   "id": "9ee71123",
   "metadata": {
    "execution": {
     "iopub.execute_input": "2025-09-11T11:32:56.843094Z",
     "iopub.status.busy": "2025-09-11T11:32:56.842948Z",
     "iopub.status.idle": "2025-09-11T11:32:56.847723Z",
     "shell.execute_reply": "2025-09-11T11:32:56.847255Z"
    }
   },
   "outputs": [
    {
     "data": {
      "text/latex": [
       "$\\displaystyle \\dot{\\theta}\\hat{b}_x + \\sin{\\left(\\theta \\right)} \\dot{\\psi}\\hat{b}_y + \\cos{\\left(\\theta \\right)} \\dot{\\psi}\\hat{b}_z$"
      ],
      "text/plain": [
       "θ̇ b_x + sin(θ)⋅ψ̇ b_y + cos(θ)⋅ψ̇ b_z"
      ]
     },
     "execution_count": 34,
     "metadata": {},
     "output_type": "execute_result"
    }
   ],
   "source": [
    "A_w_B = B.ang_vel_in(A)\n",
    "A_w_B"
   ]
  },
  {
   "cell_type": "code",
   "execution_count": 35,
   "id": "23f33265",
   "metadata": {
    "execution": {
     "iopub.execute_input": "2025-09-11T11:32:56.848926Z",
     "iopub.status.busy": "2025-09-11T11:32:56.848782Z",
     "iopub.status.idle": "2025-09-11T11:32:56.861928Z",
     "shell.execute_reply": "2025-09-11T11:32:56.861450Z"
    }
   },
   "outputs": [
    {
     "data": {
      "text/latex": [
       "$\\displaystyle (- u_{2} \\cos{\\left(\\theta \\right)} \\dot{\\psi} + u_{3} \\sin{\\left(\\theta \\right)} \\dot{\\psi} + \\dot{u}_{1})\\hat{b}_x + (u_{1} \\cos{\\left(\\theta \\right)} \\dot{\\psi} - u_{3} \\dot{\\theta} + \\dot{u}_{2})\\hat{b}_y + (- u_{1} \\sin{\\left(\\theta \\right)} \\dot{\\psi} + u_{2} \\dot{\\theta} + \\dot{u}_{3})\\hat{b}_z$"
      ],
      "text/plain": [
       "(-u₂⋅cos(θ)⋅ψ̇ + u₃⋅sin(θ)⋅ψ̇ + u₁̇) b_x + (u₁⋅cos(θ)⋅ψ̇ - u₃⋅θ̇ + u₂̇) b_y +\n",
       "(-u₁⋅sin(θ)⋅ψ̇ + u₂⋅θ̇ + u₃̇) b_z"
      ]
     },
     "execution_count": 35,
     "metadata": {},
     "output_type": "execute_result"
    }
   ],
   "source": [
    "u.dt(B) + me.cross(A_w_B, u)"
   ]
  },
  {
   "cell_type": "code",
   "execution_count": 36,
   "id": "476777af",
   "metadata": {
    "execution": {
     "iopub.execute_input": "2025-09-11T11:32:56.863139Z",
     "iopub.status.busy": "2025-09-11T11:32:56.862993Z",
     "iopub.status.idle": "2025-09-11T11:32:58.524491Z",
     "shell.execute_reply": "2025-09-11T11:32:58.523994Z"
    }
   },
   "outputs": [
    {
     "data": {
      "text/latex": [
       "$\\displaystyle (- u_{2} \\cos{\\left(\\theta \\right)} \\dot{\\psi} + u_{3} \\sin{\\left(\\theta \\right)} \\dot{\\psi} + \\dot{u}_{1})\\hat{b}_x + (u_{1} \\cos{\\left(\\theta \\right)} \\dot{\\psi} - u_{3} \\dot{\\theta} + \\dot{u}_{2})\\hat{b}_y + (- u_{1} \\sin{\\left(\\theta \\right)} \\dot{\\psi} + u_{2} \\dot{\\theta} + \\dot{u}_{3})\\hat{b}_z$"
      ],
      "text/plain": [
       "(-u₂⋅cos(θ)⋅ψ̇ + u₃⋅sin(θ)⋅ψ̇ + u₁̇) b_x + (u₁⋅cos(θ)⋅ψ̇ - u₃⋅θ̇ + u₂̇) b_y +\n",
       "(-u₁⋅sin(θ)⋅ψ̇ + u₂⋅θ̇ + u₃̇) b_z"
      ]
     },
     "execution_count": 36,
     "metadata": {},
     "output_type": "execute_result"
    }
   ],
   "source": [
    "u.express(A).dt(A).express(B).simplify()"
   ]
  },
  {
   "cell_type": "code",
   "execution_count": 37,
   "id": "ab81b3ba",
   "metadata": {
    "execution": {
     "iopub.execute_input": "2025-09-11T11:32:58.525899Z",
     "iopub.status.busy": "2025-09-11T11:32:58.525753Z",
     "iopub.status.idle": "2025-09-11T11:32:58.539338Z",
     "shell.execute_reply": "2025-09-11T11:32:58.538924Z"
    }
   },
   "outputs": [
    {
     "data": {
      "text/latex": [
       "$\\displaystyle (- u_{2} \\cos{\\left(\\theta \\right)} \\dot{\\psi} + u_{3} \\sin{\\left(\\theta \\right)} \\dot{\\psi} + \\dot{u}_{1})\\hat{b}_x + (u_{1} \\cos{\\left(\\theta \\right)} \\dot{\\psi} - u_{3} \\dot{\\theta} + \\dot{u}_{2})\\hat{b}_y + (- u_{1} \\sin{\\left(\\theta \\right)} \\dot{\\psi} + u_{2} \\dot{\\theta} + \\dot{u}_{3})\\hat{b}_z$"
      ],
      "text/plain": [
       "(-u₂⋅cos(θ)⋅ψ̇ + u₃⋅sin(θ)⋅ψ̇ + u₁̇) b_x + (u₁⋅cos(θ)⋅ψ̇ - u₃⋅θ̇ + u₂̇) b_y +\n",
       "(-u₁⋅sin(θ)⋅ψ̇ + u₂⋅θ̇ + u₃̇) b_z"
      ]
     },
     "execution_count": 37,
     "metadata": {},
     "output_type": "execute_result"
    }
   ],
   "source": [
    "u.dt(A)"
   ]
  },
  {
   "cell_type": "code",
   "execution_count": 38,
   "id": "7189ee3d",
   "metadata": {
    "execution": {
     "iopub.execute_input": "2025-09-11T11:32:58.540581Z",
     "iopub.status.busy": "2025-09-11T11:32:58.540444Z",
     "iopub.status.idle": "2025-09-11T11:32:58.552508Z",
     "shell.execute_reply": "2025-09-11T11:32:58.551991Z"
    }
   },
   "outputs": [
    {
     "data": {
      "text/latex": [
       "$\\displaystyle (- u_{2} \\cos{\\left(\\theta \\right)} \\dot{\\psi} + u_{3} \\sin{\\left(\\theta \\right)} \\dot{\\psi} + \\dot{u}_{1})\\hat{b}_x + (u_{1} \\cos{\\left(\\theta \\right)} \\dot{\\psi} - u_{3} \\dot{\\theta} + \\dot{u}_{2})\\hat{b}_y + (- u_{1} \\sin{\\left(\\theta \\right)} \\dot{\\psi} + u_{2} \\dot{\\theta} + \\dot{u}_{3})\\hat{b}_z$"
      ],
      "text/plain": [
       "(-u₂⋅cos(θ)⋅ψ̇ + u₃⋅sin(θ)⋅ψ̇ + u₁̇) b_x + (u₁⋅cos(θ)⋅ψ̇ - u₃⋅θ̇ + u₂̇) b_y +\n",
       "(-u₁⋅sin(θ)⋅ψ̇ + u₂⋅θ̇ + u₃̇) b_z"
      ]
     },
     "execution_count": 38,
     "metadata": {},
     "output_type": "execute_result"
    }
   ],
   "source": [
    "u.dt(B) + me.cross(A_w_B, u)"
   ]
  },
  {
   "cell_type": "code",
   "execution_count": 39,
   "id": "06d6d51c",
   "metadata": {
    "execution": {
     "iopub.execute_input": "2025-09-11T11:32:58.553789Z",
     "iopub.status.busy": "2025-09-11T11:32:58.553649Z",
     "iopub.status.idle": "2025-09-11T11:32:58.563558Z",
     "shell.execute_reply": "2025-09-11T11:32:58.563170Z"
    }
   },
   "outputs": [],
   "source": [
    "psi, theta, phi = me.dynamicsymbols('psi, theta, varphi')\n",
    "\n",
    "A = me.ReferenceFrame('A')\n",
    "B = me.ReferenceFrame('B')\n",
    "C = me.ReferenceFrame('C')\n",
    "D = me.ReferenceFrame('D')\n",
    "\n",
    "B.orient_axis(A, psi, A.y)\n",
    "C.orient_axis(B, theta, B.x)\n",
    "D.orient_axis(C, phi, C.y)"
   ]
  },
  {
   "cell_type": "code",
   "execution_count": 40,
   "id": "62fc3090",
   "metadata": {
    "execution": {
     "iopub.execute_input": "2025-09-11T11:32:58.564759Z",
     "iopub.status.busy": "2025-09-11T11:32:58.564614Z",
     "iopub.status.idle": "2025-09-11T11:32:58.568451Z",
     "shell.execute_reply": "2025-09-11T11:32:58.567967Z"
    }
   },
   "outputs": [
    {
     "data": {
      "text/latex": [
       "$\\displaystyle \\dot{\\psi}\\hat{a}_y$"
      ],
      "text/plain": [
       "ψ̇ a_y"
      ]
     },
     "execution_count": 40,
     "metadata": {},
     "output_type": "execute_result"
    }
   ],
   "source": [
    "A_w_B = B.ang_vel_in(A)\n",
    "A_w_B"
   ]
  },
  {
   "cell_type": "code",
   "execution_count": 41,
   "id": "56f28391",
   "metadata": {
    "execution": {
     "iopub.execute_input": "2025-09-11T11:32:58.569672Z",
     "iopub.status.busy": "2025-09-11T11:32:58.569527Z",
     "iopub.status.idle": "2025-09-11T11:32:58.572982Z",
     "shell.execute_reply": "2025-09-11T11:32:58.572593Z"
    }
   },
   "outputs": [
    {
     "data": {
      "text/latex": [
       "$\\displaystyle \\dot{\\theta}\\hat{b}_x$"
      ],
      "text/plain": [
       "θ̇ b_x"
      ]
     },
     "execution_count": 41,
     "metadata": {},
     "output_type": "execute_result"
    }
   ],
   "source": [
    "B_w_C = C.ang_vel_in(B)\n",
    "B_w_C"
   ]
  },
  {
   "cell_type": "code",
   "execution_count": 42,
   "id": "2d5a1f19",
   "metadata": {
    "execution": {
     "iopub.execute_input": "2025-09-11T11:32:58.574217Z",
     "iopub.status.busy": "2025-09-11T11:32:58.574079Z",
     "iopub.status.idle": "2025-09-11T11:32:58.577565Z",
     "shell.execute_reply": "2025-09-11T11:32:58.577174Z"
    }
   },
   "outputs": [
    {
     "data": {
      "text/latex": [
       "$\\displaystyle \\dot{\\varphi}\\hat{c}_y$"
      ],
      "text/plain": [
       "varṗhi c_y"
      ]
     },
     "execution_count": 42,
     "metadata": {},
     "output_type": "execute_result"
    }
   ],
   "source": [
    "C_w_D = D.ang_vel_in(C)\n",
    "C_w_D"
   ]
  },
  {
   "cell_type": "code",
   "execution_count": 43,
   "id": "6c6d34cd",
   "metadata": {
    "execution": {
     "iopub.execute_input": "2025-09-11T11:32:58.578786Z",
     "iopub.status.busy": "2025-09-11T11:32:58.578651Z",
     "iopub.status.idle": "2025-09-11T11:32:58.583046Z",
     "shell.execute_reply": "2025-09-11T11:32:58.582571Z"
    }
   },
   "outputs": [
    {
     "data": {
      "text/latex": [
       "$\\displaystyle \\dot{\\psi}\\hat{a}_y + \\dot{\\theta}\\hat{b}_x + \\dot{\\varphi}\\hat{c}_y$"
      ],
      "text/plain": [
       "ψ̇ a_y + θ̇ b_x + varṗhi c_y"
      ]
     },
     "execution_count": 43,
     "metadata": {},
     "output_type": "execute_result"
    }
   ],
   "source": [
    "A_w_D = A_w_B + B_w_C + C_w_D\n",
    "A_w_D"
   ]
  },
  {
   "cell_type": "code",
   "execution_count": 44,
   "id": "cdefdb8b",
   "metadata": {
    "execution": {
     "iopub.execute_input": "2025-09-11T11:32:58.584268Z",
     "iopub.status.busy": "2025-09-11T11:32:58.584102Z",
     "iopub.status.idle": "2025-09-11T11:32:58.729529Z",
     "shell.execute_reply": "2025-09-11T11:32:58.729008Z"
    }
   },
   "outputs": [
    {
     "data": {
      "text/latex": [
       "$\\displaystyle (\\sin{\\left(\\theta \\right)} \\sin{\\left(\\varphi \\right)} \\dot{\\psi} + \\cos{\\left(\\varphi \\right)} \\dot{\\theta})\\hat{d}_x + (\\cos{\\left(\\theta \\right)} \\dot{\\psi} + \\dot{\\varphi})\\hat{d}_y + (- \\sin{\\left(\\theta \\right)} \\cos{\\left(\\varphi \\right)} \\dot{\\psi} + \\sin{\\left(\\varphi \\right)} \\dot{\\theta})\\hat{d}_z$"
      ],
      "text/plain": [
       "(sin(θ)⋅sin(varphi)⋅ψ̇ + cos(varphi)⋅θ̇) d_x + (cos(θ)⋅ψ̇ + varṗhi) d_y + (-s\n",
       "in(θ)⋅cos(varphi)⋅ψ̇ + sin(varphi)⋅θ̇) d_z"
      ]
     },
     "execution_count": 44,
     "metadata": {},
     "output_type": "execute_result"
    }
   ],
   "source": [
    "A2 = me.ReferenceFrame('A')\n",
    "D2 = me.ReferenceFrame('D')\n",
    "D2.orient_body_fixed(A2, (psi, theta, phi), 'YXY')\n",
    "D2.ang_vel_in(A2).simplify()"
   ]
  },
  {
   "cell_type": "code",
   "execution_count": 45,
   "id": "9f80d7c0",
   "metadata": {
    "execution": {
     "iopub.execute_input": "2025-09-11T11:32:58.730996Z",
     "iopub.status.busy": "2025-09-11T11:32:58.730842Z",
     "iopub.status.idle": "2025-09-11T11:32:58.746195Z",
     "shell.execute_reply": "2025-09-11T11:32:58.745712Z"
    }
   },
   "outputs": [
    {
     "data": {
      "text/latex": [
       "$\\displaystyle (\\sin{\\left(\\theta \\right)} \\sin{\\left(\\varphi \\right)} \\dot{\\psi} + \\cos{\\left(\\varphi \\right)} \\dot{\\theta})\\hat{d}_x + (\\cos{\\left(\\theta \\right)} \\dot{\\psi} + \\dot{\\varphi})\\hat{d}_y + (- \\sin{\\left(\\theta \\right)} \\cos{\\left(\\varphi \\right)} \\dot{\\psi} + \\sin{\\left(\\varphi \\right)} \\dot{\\theta})\\hat{d}_z$"
      ],
      "text/plain": [
       "(sin(θ)⋅sin(varphi)⋅ψ̇ + cos(varphi)⋅θ̇) d_x + (cos(θ)⋅ψ̇ + varṗhi) d_y + (-s\n",
       "in(θ)⋅cos(varphi)⋅ψ̇ + sin(varphi)⋅θ̇) d_z"
      ]
     },
     "execution_count": 45,
     "metadata": {},
     "output_type": "execute_result"
    }
   ],
   "source": [
    "A_w_D.express(D)"
   ]
  },
  {
   "cell_type": "code",
   "execution_count": 46,
   "id": "52b6be32",
   "metadata": {
    "execution": {
     "iopub.execute_input": "2025-09-11T11:32:58.747435Z",
     "iopub.status.busy": "2025-09-11T11:32:58.747291Z",
     "iopub.status.idle": "2025-09-11T11:32:58.755103Z",
     "shell.execute_reply": "2025-09-11T11:32:58.754727Z"
    }
   },
   "outputs": [
    {
     "data": {
      "text/latex": [
       "$\\displaystyle \\ddot{\\theta}\\hat{a}_z$"
      ],
      "text/plain": [
       "θ̈ a_z"
      ]
     },
     "execution_count": 46,
     "metadata": {},
     "output_type": "execute_result"
    }
   ],
   "source": [
    "theta = me.dynamicsymbols('theta')\n",
    "\n",
    "A = me.ReferenceFrame('A')\n",
    "B = me.ReferenceFrame('B')\n",
    "B.orient_axis(A, theta, A.z)\n",
    "B.ang_acc_in(A)"
   ]
  },
  {
   "cell_type": "code",
   "execution_count": 47,
   "id": "386a8895",
   "metadata": {
    "execution": {
     "iopub.execute_input": "2025-09-11T11:32:58.756347Z",
     "iopub.status.busy": "2025-09-11T11:32:58.756189Z",
     "iopub.status.idle": "2025-09-11T11:32:58.761007Z",
     "shell.execute_reply": "2025-09-11T11:32:58.760607Z"
    }
   },
   "outputs": [
    {
     "data": {
      "text/latex": [
       "$\\displaystyle \\ddot{\\theta}\\hat{a}_z$"
      ],
      "text/plain": [
       "θ̈ a_z"
      ]
     },
     "execution_count": 47,
     "metadata": {},
     "output_type": "execute_result"
    }
   ],
   "source": [
    "B.ang_vel_in(A).dt(A)"
   ]
  },
  {
   "cell_type": "code",
   "execution_count": 48,
   "id": "4cb86848",
   "metadata": {
    "execution": {
     "iopub.execute_input": "2025-09-11T11:32:58.762204Z",
     "iopub.status.busy": "2025-09-11T11:32:58.762071Z",
     "iopub.status.idle": "2025-09-11T11:32:58.768601Z",
     "shell.execute_reply": "2025-09-11T11:32:58.768209Z"
    }
   },
   "outputs": [
    {
     "data": {
      "text/latex": [
       "$\\displaystyle \\ddot{\\theta}\\hat{a}_z$"
      ],
      "text/plain": [
       "θ̈ a_z"
      ]
     },
     "execution_count": 48,
     "metadata": {},
     "output_type": "execute_result"
    }
   ],
   "source": [
    "B.ang_vel_in(A).dt(B)"
   ]
  },
  {
   "cell_type": "code",
   "execution_count": 49,
   "id": "1a337751",
   "metadata": {
    "execution": {
     "iopub.execute_input": "2025-09-11T11:32:58.769838Z",
     "iopub.status.busy": "2025-09-11T11:32:58.769690Z",
     "iopub.status.idle": "2025-09-11T11:32:59.241864Z",
     "shell.execute_reply": "2025-09-11T11:32:59.241325Z"
    }
   },
   "outputs": [
    {
     "data": {
      "text/latex": [
       "$\\displaystyle (\\sin{\\left(\\theta \\right)} \\sin{\\left(\\varphi \\right)} \\ddot{\\psi} + \\sin{\\left(\\theta \\right)} \\cos{\\left(\\varphi \\right)} \\dot{\\psi} \\dot{\\varphi} + \\sin{\\left(\\varphi \\right)} \\cos{\\left(\\theta \\right)} \\dot{\\psi} \\dot{\\theta} - \\sin{\\left(\\varphi \\right)} \\dot{\\theta} \\dot{\\varphi} + \\cos{\\left(\\varphi \\right)} \\ddot{\\theta})\\hat{d}_x + (- \\sin{\\left(\\theta \\right)} \\dot{\\psi} \\dot{\\theta} + \\cos{\\left(\\theta \\right)} \\ddot{\\psi} + \\ddot{\\varphi})\\hat{d}_y + (\\sin{\\left(\\theta \\right)} \\sin{\\left(\\varphi \\right)} \\dot{\\psi} \\dot{\\varphi} - \\sin{\\left(\\theta \\right)} \\cos{\\left(\\varphi \\right)} \\ddot{\\psi} + \\sin{\\left(\\varphi \\right)} \\ddot{\\theta} - \\cos{\\left(\\theta \\right)} \\cos{\\left(\\varphi \\right)} \\dot{\\psi} \\dot{\\theta} + \\cos{\\left(\\varphi \\right)} \\dot{\\theta} \\dot{\\varphi})\\hat{d}_z$"
      ],
      "text/plain": [
       "(sin(θ)⋅sin(varphi)⋅ψ̈ + sin(θ)⋅cos(varphi)⋅ψ̇⋅varṗhi + sin(varphi)⋅cos(θ)⋅ψ̇\n",
       "⋅θ̇ - sin(varphi)⋅θ̇⋅varṗhi + cos(varphi)⋅θ̈) d_x + (-sin(θ)⋅ψ̇⋅θ̇ + cos(θ)⋅ψ\n",
       "̈ + varp̈hi) d_y + (sin(θ)⋅sin(varphi)⋅ψ̇⋅varṗhi - sin(θ)⋅cos(varphi)⋅ψ̈ + si\n",
       "n(varphi)⋅θ̈ - cos(θ)⋅cos(varphi)⋅ψ̇⋅θ̇ + cos(varphi)⋅θ̇⋅varṗhi) d_z"
      ]
     },
     "execution_count": 49,
     "metadata": {},
     "output_type": "execute_result"
    }
   ],
   "source": [
    "psi, theta, phi = me.dynamicsymbols('psi, theta, varphi')\n",
    "\n",
    "A = me.ReferenceFrame('A')\n",
    "D = me.ReferenceFrame('D')\n",
    "D.orient_body_fixed(A, (psi, theta, phi), 'YXY')\n",
    "\n",
    "D.ang_acc_in(A).simplify()"
   ]
  },
  {
   "cell_type": "code",
   "execution_count": 50,
   "id": "f5190ed7",
   "metadata": {
    "execution": {
     "iopub.execute_input": "2025-09-11T11:32:59.243311Z",
     "iopub.status.busy": "2025-09-11T11:32:59.243133Z",
     "iopub.status.idle": "2025-09-11T11:32:59.654251Z",
     "shell.execute_reply": "2025-09-11T11:32:59.653716Z"
    }
   },
   "outputs": [
    {
     "data": {
      "text/latex": [
       "$\\displaystyle (\\sin{\\left(\\theta \\right)} \\sin{\\left(\\varphi \\right)} \\ddot{\\psi} + \\sin{\\left(\\theta \\right)} \\cos{\\left(\\varphi \\right)} \\dot{\\psi} \\dot{\\varphi} + \\sin{\\left(\\varphi \\right)} \\cos{\\left(\\theta \\right)} \\dot{\\psi} \\dot{\\theta} - \\sin{\\left(\\varphi \\right)} \\dot{\\theta} \\dot{\\varphi} + \\cos{\\left(\\varphi \\right)} \\ddot{\\theta})\\hat{d}_x + (- \\sin{\\left(\\theta \\right)} \\dot{\\psi} \\dot{\\theta} + \\cos{\\left(\\theta \\right)} \\ddot{\\psi} + \\ddot{\\varphi})\\hat{d}_y + (\\sin{\\left(\\theta \\right)} \\sin{\\left(\\varphi \\right)} \\dot{\\psi} \\dot{\\varphi} - \\sin{\\left(\\theta \\right)} \\cos{\\left(\\varphi \\right)} \\ddot{\\psi} + \\sin{\\left(\\varphi \\right)} \\ddot{\\theta} - \\cos{\\left(\\theta \\right)} \\cos{\\left(\\varphi \\right)} \\dot{\\psi} \\dot{\\theta} + \\cos{\\left(\\varphi \\right)} \\dot{\\theta} \\dot{\\varphi})\\hat{d}_z$"
      ],
      "text/plain": [
       "(sin(θ)⋅sin(varphi)⋅ψ̈ + sin(θ)⋅cos(varphi)⋅ψ̇⋅varṗhi + sin(varphi)⋅cos(θ)⋅ψ̇\n",
       "⋅θ̇ - sin(varphi)⋅θ̇⋅varṗhi + cos(varphi)⋅θ̈) d_x + (-sin(θ)⋅ψ̇⋅θ̇ + cos(θ)⋅ψ\n",
       "̈ + varp̈hi) d_y + (sin(θ)⋅sin(varphi)⋅ψ̇⋅varṗhi - sin(θ)⋅cos(varphi)⋅ψ̈ + si\n",
       "n(varphi)⋅θ̈ - cos(θ)⋅cos(varphi)⋅ψ̇⋅θ̇ + cos(varphi)⋅θ̇⋅varṗhi) d_z"
      ]
     },
     "execution_count": 50,
     "metadata": {},
     "output_type": "execute_result"
    }
   ],
   "source": [
    "D.ang_vel_in(A).dt(A).simplify()"
   ]
  },
  {
   "cell_type": "code",
   "execution_count": 51,
   "id": "7159228d",
   "metadata": {
    "execution": {
     "iopub.execute_input": "2025-09-11T11:32:59.655628Z",
     "iopub.status.busy": "2025-09-11T11:32:59.655473Z",
     "iopub.status.idle": "2025-09-11T11:33:00.071653Z",
     "shell.execute_reply": "2025-09-11T11:33:00.071176Z"
    }
   },
   "outputs": [
    {
     "data": {
      "text/latex": [
       "$\\displaystyle (\\sin{\\left(\\theta \\right)} \\sin{\\left(\\varphi \\right)} \\ddot{\\psi} + \\sin{\\left(\\theta \\right)} \\cos{\\left(\\varphi \\right)} \\dot{\\psi} \\dot{\\varphi} + \\sin{\\left(\\varphi \\right)} \\cos{\\left(\\theta \\right)} \\dot{\\psi} \\dot{\\theta} - \\sin{\\left(\\varphi \\right)} \\dot{\\theta} \\dot{\\varphi} + \\cos{\\left(\\varphi \\right)} \\ddot{\\theta})\\hat{d}_x + (- \\sin{\\left(\\theta \\right)} \\dot{\\psi} \\dot{\\theta} + \\cos{\\left(\\theta \\right)} \\ddot{\\psi} + \\ddot{\\varphi})\\hat{d}_y + (\\sin{\\left(\\theta \\right)} \\sin{\\left(\\varphi \\right)} \\dot{\\psi} \\dot{\\varphi} - \\sin{\\left(\\theta \\right)} \\cos{\\left(\\varphi \\right)} \\ddot{\\psi} + \\sin{\\left(\\varphi \\right)} \\ddot{\\theta} - \\cos{\\left(\\theta \\right)} \\cos{\\left(\\varphi \\right)} \\dot{\\psi} \\dot{\\theta} + \\cos{\\left(\\varphi \\right)} \\dot{\\theta} \\dot{\\varphi})\\hat{d}_z$"
      ],
      "text/plain": [
       "(sin(θ)⋅sin(varphi)⋅ψ̈ + sin(θ)⋅cos(varphi)⋅ψ̇⋅varṗhi + sin(varphi)⋅cos(θ)⋅ψ̇\n",
       "⋅θ̇ - sin(varphi)⋅θ̇⋅varṗhi + cos(varphi)⋅θ̈) d_x + (-sin(θ)⋅ψ̇⋅θ̇ + cos(θ)⋅ψ\n",
       "̈ + varp̈hi) d_y + (sin(θ)⋅sin(varphi)⋅ψ̇⋅varṗhi - sin(θ)⋅cos(varphi)⋅ψ̈ + si\n",
       "n(varphi)⋅θ̈ - cos(θ)⋅cos(varphi)⋅ψ̇⋅θ̇ + cos(varphi)⋅θ̇⋅varṗhi) d_z"
      ]
     },
     "execution_count": 51,
     "metadata": {},
     "output_type": "execute_result"
    }
   ],
   "source": [
    "D.ang_vel_in(A).dt(D).simplify()"
   ]
  },
  {
   "cell_type": "code",
   "execution_count": 52,
   "id": "b2472bef",
   "metadata": {
    "execution": {
     "iopub.execute_input": "2025-09-11T11:33:00.073075Z",
     "iopub.status.busy": "2025-09-11T11:33:00.072937Z",
     "iopub.status.idle": "2025-09-11T11:33:00.082441Z",
     "shell.execute_reply": "2025-09-11T11:33:00.081858Z"
    }
   },
   "outputs": [],
   "source": [
    "psi, theta, phi = me.dynamicsymbols('psi, theta, varphi')\n",
    "\n",
    "A = me.ReferenceFrame('A')\n",
    "B = me.ReferenceFrame('B')\n",
    "C = me.ReferenceFrame('C')\n",
    "D = me.ReferenceFrame('D')\n",
    "\n",
    "B.orient_axis(A, psi, A.y)\n",
    "C.orient_axis(B, theta, B.x)\n",
    "D.orient_axis(C, phi, C.y)"
   ]
  },
  {
   "cell_type": "code",
   "execution_count": 53,
   "id": "3adf83b1",
   "metadata": {
    "execution": {
     "iopub.execute_input": "2025-09-11T11:33:00.083807Z",
     "iopub.status.busy": "2025-09-11T11:33:00.083664Z",
     "iopub.status.idle": "2025-09-11T11:33:00.088505Z",
     "shell.execute_reply": "2025-09-11T11:33:00.088101Z"
    }
   },
   "outputs": [
    {
     "data": {
      "text/latex": [
       "$\\displaystyle \\ddot{\\psi}\\hat{a}_y$"
      ],
      "text/plain": [
       "ψ̈ a_y"
      ]
     },
     "execution_count": 53,
     "metadata": {},
     "output_type": "execute_result"
    }
   ],
   "source": [
    "A_alp_B = B.ang_acc_in(A)\n",
    "A_alp_B"
   ]
  },
  {
   "cell_type": "code",
   "execution_count": 54,
   "id": "f11df9ab",
   "metadata": {
    "execution": {
     "iopub.execute_input": "2025-09-11T11:33:00.089745Z",
     "iopub.status.busy": "2025-09-11T11:33:00.089609Z",
     "iopub.status.idle": "2025-09-11T11:33:00.094509Z",
     "shell.execute_reply": "2025-09-11T11:33:00.094022Z"
    }
   },
   "outputs": [
    {
     "data": {
      "text/latex": [
       "$\\displaystyle \\ddot{\\theta}\\hat{b}_x$"
      ],
      "text/plain": [
       "θ̈ b_x"
      ]
     },
     "execution_count": 54,
     "metadata": {},
     "output_type": "execute_result"
    }
   ],
   "source": [
    "B_alp_C = C.ang_acc_in(B)\n",
    "B_alp_C"
   ]
  },
  {
   "cell_type": "code",
   "execution_count": 55,
   "id": "e75bcbcb",
   "metadata": {
    "execution": {
     "iopub.execute_input": "2025-09-11T11:33:00.095731Z",
     "iopub.status.busy": "2025-09-11T11:33:00.095595Z",
     "iopub.status.idle": "2025-09-11T11:33:00.100702Z",
     "shell.execute_reply": "2025-09-11T11:33:00.100211Z"
    }
   },
   "outputs": [
    {
     "data": {
      "text/latex": [
       "$\\displaystyle \\ddot{\\varphi}\\hat{c}_y$"
      ],
      "text/plain": [
       "varp̈hi c_y"
      ]
     },
     "execution_count": 55,
     "metadata": {},
     "output_type": "execute_result"
    }
   ],
   "source": [
    "C_alp_D = D.ang_acc_in(C)\n",
    "C_alp_D"
   ]
  },
  {
   "cell_type": "code",
   "execution_count": 56,
   "id": "ce4d411f",
   "metadata": {
    "execution": {
     "iopub.execute_input": "2025-09-11T11:33:00.101961Z",
     "iopub.status.busy": "2025-09-11T11:33:00.101824Z",
     "iopub.status.idle": "2025-09-11T11:33:00.229287Z",
     "shell.execute_reply": "2025-09-11T11:33:00.228762Z"
    }
   },
   "outputs": [
    {
     "data": {
      "text/latex": [
       "$\\displaystyle (\\sin{\\left(\\theta \\right)} \\sin{\\left(\\varphi \\right)} \\ddot{\\psi} + \\cos{\\left(\\varphi \\right)} \\ddot{\\theta})\\hat{d}_x + (\\cos{\\left(\\theta \\right)} \\ddot{\\psi} + \\ddot{\\varphi})\\hat{d}_y + (- \\sin{\\left(\\theta \\right)} \\cos{\\left(\\varphi \\right)} \\ddot{\\psi} + \\sin{\\left(\\varphi \\right)} \\ddot{\\theta})\\hat{d}_z$"
      ],
      "text/plain": [
       "(sin(θ)⋅sin(varphi)⋅ψ̈ + cos(varphi)⋅θ̈) d_x + (cos(θ)⋅ψ̈ + varp̈hi) d_y + (-s\n",
       "in(θ)⋅cos(varphi)⋅ψ̈ + sin(varphi)⋅θ̈) d_z"
      ]
     },
     "execution_count": 56,
     "metadata": {},
     "output_type": "execute_result"
    }
   ],
   "source": [
    "A_alp_D = A_alp_B + B_alp_C + C_alp_D\n",
    "A_alp_D.express(D).simplify()"
   ]
  },
  {
   "cell_type": "code",
   "execution_count": 57,
   "id": "51368276",
   "metadata": {
    "execution": {
     "iopub.execute_input": "2025-09-11T11:33:00.230726Z",
     "iopub.status.busy": "2025-09-11T11:33:00.230573Z",
     "iopub.status.idle": "2025-09-11T11:33:00.660280Z",
     "shell.execute_reply": "2025-09-11T11:33:00.659751Z"
    }
   },
   "outputs": [
    {
     "data": {
      "text/latex": [
       "$\\displaystyle (\\sin{\\left(\\theta \\right)} \\sin{\\left(\\varphi \\right)} \\ddot{\\psi} + \\sin{\\left(\\theta \\right)} \\cos{\\left(\\varphi \\right)} \\dot{\\psi} \\dot{\\varphi} + \\sin{\\left(\\varphi \\right)} \\cos{\\left(\\theta \\right)} \\dot{\\psi} \\dot{\\theta} - \\sin{\\left(\\varphi \\right)} \\dot{\\theta} \\dot{\\varphi} + \\cos{\\left(\\varphi \\right)} \\ddot{\\theta})\\hat{d}_x + (- \\sin{\\left(\\theta \\right)} \\dot{\\psi} \\dot{\\theta} + \\cos{\\left(\\theta \\right)} \\ddot{\\psi} + \\ddot{\\varphi})\\hat{d}_y + (\\sin{\\left(\\theta \\right)} \\sin{\\left(\\varphi \\right)} \\dot{\\psi} \\dot{\\varphi} - \\sin{\\left(\\theta \\right)} \\cos{\\left(\\varphi \\right)} \\ddot{\\psi} + \\sin{\\left(\\varphi \\right)} \\ddot{\\theta} - \\cos{\\left(\\theta \\right)} \\cos{\\left(\\varphi \\right)} \\dot{\\psi} \\dot{\\theta} + \\cos{\\left(\\varphi \\right)} \\dot{\\theta} \\dot{\\varphi})\\hat{d}_z$"
      ],
      "text/plain": [
       "(sin(θ)⋅sin(varphi)⋅ψ̈ + sin(θ)⋅cos(varphi)⋅ψ̇⋅varṗhi + sin(varphi)⋅cos(θ)⋅ψ̇\n",
       "⋅θ̇ - sin(varphi)⋅θ̇⋅varṗhi + cos(varphi)⋅θ̈) d_x + (-sin(θ)⋅ψ̇⋅θ̇ + cos(θ)⋅ψ\n",
       "̈ + varp̈hi) d_y + (sin(θ)⋅sin(varphi)⋅ψ̇⋅varṗhi - sin(θ)⋅cos(varphi)⋅ψ̈ + si\n",
       "n(varphi)⋅θ̈ - cos(θ)⋅cos(varphi)⋅ψ̇⋅θ̇ + cos(varphi)⋅θ̇⋅varṗhi) d_z"
      ]
     },
     "execution_count": 57,
     "metadata": {},
     "output_type": "execute_result"
    }
   ],
   "source": [
    "D.ang_vel_in(A).dt(A).express(D).simplify()"
   ]
  }
 ],
 "metadata": {
  "kernelspec": {
   "display_name": "Python 3 (ipykernel)",
   "language": "python",
   "name": "python3"
  },
  "language_info": {
   "codemirror_mode": {
    "name": "ipython",
    "version": 3
   },
   "file_extension": ".py",
   "mimetype": "text/x-python",
   "name": "python",
   "nbconvert_exporter": "python",
   "pygments_lexer": "ipython3",
   "version": "3.11.13"
  }
 },
 "nbformat": 4,
 "nbformat_minor": 5
}