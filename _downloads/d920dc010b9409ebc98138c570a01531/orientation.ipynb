{
 "cells": [
  {
   "cell_type": "code",
   "execution_count": 1,
   "id": "c5e98a3a",
   "metadata": {
    "execution": {
     "iopub.execute_input": "2025-09-11T11:37:27.662930Z",
     "iopub.status.busy": "2025-09-11T11:37:27.662778Z",
     "iopub.status.idle": "2025-09-11T11:37:27.869385Z",
     "shell.execute_reply": "2025-09-11T11:37:27.868787Z"
    }
   },
   "outputs": [],
   "source": [
    "import sympy as sm\n",
    "sm.init_printing(use_latex='mathjax')"
   ]
  },
  {
   "cell_type": "code",
   "execution_count": 2,
   "id": "51ef0164",
   "metadata": {
    "execution": {
     "iopub.execute_input": "2025-09-11T11:37:27.871145Z",
     "iopub.status.busy": "2025-09-11T11:37:27.870949Z",
     "iopub.status.idle": "2025-09-11T11:37:28.011510Z",
     "shell.execute_reply": "2025-09-11T11:37:28.010988Z"
    }
   },
   "outputs": [
    {
     "data": {
      "text/latex": [
       "$\\displaystyle \\left[\\begin{matrix}\\cos{\\left(\\theta \\right)} & \\sin{\\left(\\theta \\right)} & 0\\\\- \\sin{\\left(\\theta \\right)} & \\cos{\\left(\\theta \\right)} & 0\\\\0 & 0 & 1\\end{matrix}\\right]$"
      ],
      "text/plain": [
       "⎡cos(θ)   sin(θ)  0⎤\n",
       "⎢                  ⎥\n",
       "⎢-sin(θ)  cos(θ)  0⎥\n",
       "⎢                  ⎥\n",
       "⎣   0       0     1⎦"
      ]
     },
     "execution_count": 2,
     "metadata": {},
     "output_type": "execute_result"
    }
   ],
   "source": [
    "theta = sm.symbols('theta')\n",
    "\n",
    "A_C_N = sm.Matrix([[sm.cos(theta), sm.sin(theta), 0],\n",
    "                   [-sm.sin(theta), sm.cos(theta), 0],\n",
    "                   [0, 0, 1]])\n",
    "A_C_N"
   ]
  },
  {
   "cell_type": "code",
   "execution_count": 3,
   "id": "587007d5",
   "metadata": {
    "execution": {
     "iopub.execute_input": "2025-09-11T11:37:28.012914Z",
     "iopub.status.busy": "2025-09-11T11:37:28.012768Z",
     "iopub.status.idle": "2025-09-11T11:37:28.083477Z",
     "shell.execute_reply": "2025-09-11T11:37:28.083023Z"
    }
   },
   "outputs": [
    {
     "data": {
      "text/latex": [
       "$\\displaystyle \\left[\\begin{matrix}\\cos{\\left(\\theta \\right)} & - \\sin{\\left(\\theta \\right)} & 0\\\\\\sin{\\left(\\theta \\right)} & \\cos{\\left(\\theta \\right)} & 0\\\\0 & 0 & 1\\end{matrix}\\right]$"
      ],
      "text/plain": [
       "⎡cos(θ)  -sin(θ)  0⎤\n",
       "⎢                  ⎥\n",
       "⎢sin(θ)  cos(θ)   0⎥\n",
       "⎢                  ⎥\n",
       "⎣  0        0     1⎦"
      ]
     },
     "execution_count": 3,
     "metadata": {},
     "output_type": "execute_result"
    }
   ],
   "source": [
    "sm.trigsimp(A_C_N.inv())"
   ]
  },
  {
   "cell_type": "code",
   "execution_count": 4,
   "id": "66e9fe54",
   "metadata": {
    "execution": {
     "iopub.execute_input": "2025-09-11T11:37:28.084836Z",
     "iopub.status.busy": "2025-09-11T11:37:28.084687Z",
     "iopub.status.idle": "2025-09-11T11:37:28.089361Z",
     "shell.execute_reply": "2025-09-11T11:37:28.088846Z"
    }
   },
   "outputs": [
    {
     "data": {
      "text/latex": [
       "$\\displaystyle \\left[\\begin{matrix}\\cos{\\left(\\theta \\right)} & - \\sin{\\left(\\theta \\right)} & 0\\\\\\sin{\\left(\\theta \\right)} & \\cos{\\left(\\theta \\right)} & 0\\\\0 & 0 & 1\\end{matrix}\\right]$"
      ],
      "text/plain": [
       "⎡cos(θ)  -sin(θ)  0⎤\n",
       "⎢                  ⎥\n",
       "⎢sin(θ)  cos(θ)   0⎥\n",
       "⎢                  ⎥\n",
       "⎣  0        0     1⎦"
      ]
     },
     "execution_count": 4,
     "metadata": {},
     "output_type": "execute_result"
    }
   ],
   "source": [
    "A_C_N.transpose()"
   ]
  },
  {
   "cell_type": "code",
   "execution_count": 5,
   "id": "5e2072e7",
   "metadata": {
    "execution": {
     "iopub.execute_input": "2025-09-11T11:37:28.090663Z",
     "iopub.status.busy": "2025-09-11T11:37:28.090509Z",
     "iopub.status.idle": "2025-09-11T11:37:28.094962Z",
     "shell.execute_reply": "2025-09-11T11:37:28.094473Z"
    }
   },
   "outputs": [
    {
     "data": {
      "text/latex": [
       "$\\displaystyle \\left[\\begin{matrix}\\cos{\\left(\\theta \\right)} & \\sin{\\left(\\theta \\right)} & 0\\\\- \\sin{\\left(\\theta \\right)} & \\cos{\\left(\\theta \\right)} & 0\\\\0 & 0 & 1\\end{matrix}\\right]$"
      ],
      "text/plain": [
       "⎡cos(θ)   sin(θ)  0⎤\n",
       "⎢                  ⎥\n",
       "⎢-sin(θ)  cos(θ)  0⎥\n",
       "⎢                  ⎥\n",
       "⎣   0       0     1⎦"
      ]
     },
     "execution_count": 5,
     "metadata": {},
     "output_type": "execute_result"
    }
   ],
   "source": [
    "A_C_N"
   ]
  },
  {
   "cell_type": "code",
   "execution_count": 6,
   "id": "404da675",
   "metadata": {
    "execution": {
     "iopub.execute_input": "2025-09-11T11:37:28.096369Z",
     "iopub.status.busy": "2025-09-11T11:37:28.096194Z",
     "iopub.status.idle": "2025-09-11T11:37:28.101645Z",
     "shell.execute_reply": "2025-09-11T11:37:28.101134Z"
    }
   },
   "outputs": [
    {
     "data": {
      "text/latex": [
       "$\\displaystyle \\left[\\begin{matrix}\\cos{\\left(\\alpha \\right)} & \\sin{\\left(\\alpha \\right)} & 0\\\\- \\sin{\\left(\\alpha \\right)} & \\cos{\\left(\\alpha \\right)} & 0\\\\0 & 0 & 1\\end{matrix}\\right]$"
      ],
      "text/plain": [
       "⎡cos(α)   sin(α)  0⎤\n",
       "⎢                  ⎥\n",
       "⎢-sin(α)  cos(α)  0⎥\n",
       "⎢                  ⎥\n",
       "⎣   0       0     1⎦"
      ]
     },
     "execution_count": 6,
     "metadata": {},
     "output_type": "execute_result"
    }
   ],
   "source": [
    "alpha = sm.symbols('alpha')\n",
    "\n",
    "B_C_A = sm.Matrix([[sm.cos(alpha), sm.sin(alpha), 0],\n",
    "                   [-sm.sin(alpha), sm.cos(alpha), 0],\n",
    "                   [0, 0, 1]])\n",
    "\n",
    "B_C_A"
   ]
  },
  {
   "cell_type": "code",
   "execution_count": 7,
   "id": "1d07a321",
   "metadata": {
    "execution": {
     "iopub.execute_input": "2025-09-11T11:37:28.103009Z",
     "iopub.status.busy": "2025-09-11T11:37:28.102857Z",
     "iopub.status.idle": "2025-09-11T11:37:28.112136Z",
     "shell.execute_reply": "2025-09-11T11:37:28.111648Z"
    }
   },
   "outputs": [
    {
     "data": {
      "text/latex": [
       "$\\displaystyle \\left[\\begin{matrix}- \\sin{\\left(\\alpha \\right)} \\sin{\\left(\\theta \\right)} + \\cos{\\left(\\alpha \\right)} \\cos{\\left(\\theta \\right)} & \\sin{\\left(\\alpha \\right)} \\cos{\\left(\\theta \\right)} + \\sin{\\left(\\theta \\right)} \\cos{\\left(\\alpha \\right)} & 0\\\\- \\sin{\\left(\\alpha \\right)} \\cos{\\left(\\theta \\right)} - \\sin{\\left(\\theta \\right)} \\cos{\\left(\\alpha \\right)} & - \\sin{\\left(\\alpha \\right)} \\sin{\\left(\\theta \\right)} + \\cos{\\left(\\alpha \\right)} \\cos{\\left(\\theta \\right)} & 0\\\\0 & 0 & 1\\end{matrix}\\right]$"
      ],
      "text/plain": [
       "⎡-sin(α)⋅sin(θ) + cos(α)⋅cos(θ)  sin(α)⋅cos(θ) + sin(θ)⋅cos(α)   0⎤\n",
       "⎢                                                                 ⎥\n",
       "⎢-sin(α)⋅cos(θ) - sin(θ)⋅cos(α)  -sin(α)⋅sin(θ) + cos(α)⋅cos(θ)  0⎥\n",
       "⎢                                                                 ⎥\n",
       "⎣              0                               0                 1⎦"
      ]
     },
     "execution_count": 7,
     "metadata": {},
     "output_type": "execute_result"
    }
   ],
   "source": [
    "B_C_N = B_C_A*A_C_N\n",
    "B_C_N"
   ]
  },
  {
   "cell_type": "code",
   "execution_count": 8,
   "id": "57d6107f",
   "metadata": {
    "execution": {
     "iopub.execute_input": "2025-09-11T11:37:28.113560Z",
     "iopub.status.busy": "2025-09-11T11:37:28.113379Z",
     "iopub.status.idle": "2025-09-11T11:37:28.209214Z",
     "shell.execute_reply": "2025-09-11T11:37:28.208725Z"
    }
   },
   "outputs": [
    {
     "data": {
      "text/latex": [
       "$\\displaystyle \\left[\\begin{matrix}\\cos{\\left(\\alpha + \\theta \\right)} & \\sin{\\left(\\alpha + \\theta \\right)} & 0\\\\- \\sin{\\left(\\alpha + \\theta \\right)} & \\cos{\\left(\\alpha + \\theta \\right)} & 0\\\\0 & 0 & 1\\end{matrix}\\right]$"
      ],
      "text/plain": [
       "⎡cos(α + θ)   sin(α + θ)  0⎤\n",
       "⎢                          ⎥\n",
       "⎢-sin(α + θ)  cos(α + θ)  0⎥\n",
       "⎢                          ⎥\n",
       "⎣     0           0       1⎦"
      ]
     },
     "execution_count": 8,
     "metadata": {},
     "output_type": "execute_result"
    }
   ],
   "source": [
    "sm.trigsimp(B_C_N)"
   ]
  },
  {
   "cell_type": "code",
   "execution_count": 9,
   "id": "f320841f",
   "metadata": {
    "execution": {
     "iopub.execute_input": "2025-09-11T11:37:28.210519Z",
     "iopub.status.busy": "2025-09-11T11:37:28.210379Z",
     "iopub.status.idle": "2025-09-11T11:37:28.217323Z",
     "shell.execute_reply": "2025-09-11T11:37:28.216932Z"
    }
   },
   "outputs": [],
   "source": [
    "import sympy.physics.mechanics as me"
   ]
  },
  {
   "cell_type": "code",
   "execution_count": 10,
   "id": "60a88f43",
   "metadata": {
    "execution": {
     "iopub.execute_input": "2025-09-11T11:37:28.218521Z",
     "iopub.status.busy": "2025-09-11T11:37:28.218377Z",
     "iopub.status.idle": "2025-09-11T11:37:28.221672Z",
     "shell.execute_reply": "2025-09-11T11:37:28.221134Z"
    }
   },
   "outputs": [],
   "source": [
    "class ReferenceFrame(me.ReferenceFrame):\n",
    "\n",
    "    def __init__(self, *args, **kwargs):\n",
    "\n",
    "        kwargs.pop('latexs', None)\n",
    "\n",
    "        lab = args[0].lower()\n",
    "        tex = r'\\hat{{{}}}_{}'\n",
    "\n",
    "        super(ReferenceFrame, self).__init__(*args,\n",
    "                                             latexs=(tex.format(lab, 'x'),\n",
    "                                                     tex.format(lab, 'y'),\n",
    "                                                     tex.format(lab, 'z')),\n",
    "                                             **kwargs)\n",
    "me.ReferenceFrame = ReferenceFrame"
   ]
  },
  {
   "cell_type": "code",
   "execution_count": 11,
   "id": "ff8e7cfc",
   "metadata": {
    "execution": {
     "iopub.execute_input": "2025-09-11T11:37:28.222983Z",
     "iopub.status.busy": "2025-09-11T11:37:28.222847Z",
     "iopub.status.idle": "2025-09-11T11:37:28.225254Z",
     "shell.execute_reply": "2025-09-11T11:37:28.224876Z"
    }
   },
   "outputs": [],
   "source": [
    "N = me.ReferenceFrame('N')"
   ]
  },
  {
   "cell_type": "code",
   "execution_count": 12,
   "id": "01d89811",
   "metadata": {
    "execution": {
     "iopub.execute_input": "2025-09-11T11:37:28.226423Z",
     "iopub.status.busy": "2025-09-11T11:37:28.226292Z",
     "iopub.status.idle": "2025-09-11T11:37:28.229679Z",
     "shell.execute_reply": "2025-09-11T11:37:28.229309Z"
    }
   },
   "outputs": [
    {
     "data": {
      "text/latex": [
       "$\\displaystyle \\left( \\hat{n}_x, \\  \\hat{n}_y, \\  \\hat{n}_z\\right)$"
      ],
      "text/plain": [
       "(n_x, n_y, n_z)"
      ]
     },
     "execution_count": 12,
     "metadata": {},
     "output_type": "execute_result"
    }
   ],
   "source": [
    "N.x, N.y, N.z"
   ]
  },
  {
   "cell_type": "code",
   "execution_count": 13,
   "id": "cc9e5523",
   "metadata": {
    "execution": {
     "iopub.execute_input": "2025-09-11T11:37:28.230824Z",
     "iopub.status.busy": "2025-09-11T11:37:28.230691Z",
     "iopub.status.idle": "2025-09-11T11:37:28.234493Z",
     "shell.execute_reply": "2025-09-11T11:37:28.234090Z"
    }
   },
   "outputs": [
    {
     "data": {
      "text/plain": [
       "(N, A, B)"
      ]
     },
     "execution_count": 13,
     "metadata": {},
     "output_type": "execute_result"
    }
   ],
   "source": [
    "A = me.ReferenceFrame('A')\n",
    "B = me.ReferenceFrame('B')\n",
    "\n",
    "N, A, B"
   ]
  },
  {
   "cell_type": "code",
   "execution_count": 14,
   "id": "ddb00ed5",
   "metadata": {
    "execution": {
     "iopub.execute_input": "2025-09-11T11:37:28.235637Z",
     "iopub.status.busy": "2025-09-11T11:37:28.235495Z",
     "iopub.status.idle": "2025-09-11T11:37:28.239732Z",
     "shell.execute_reply": "2025-09-11T11:37:28.239266Z"
    }
   },
   "outputs": [
    {
     "data": {
      "text/latex": [
       "$\\displaystyle \\left[\\begin{matrix}\\cos{\\left(\\theta \\right)} & \\sin{\\left(\\theta \\right)} & 0\\\\- \\sin{\\left(\\theta \\right)} & \\cos{\\left(\\theta \\right)} & 0\\\\0 & 0 & 1\\end{matrix}\\right]$"
      ],
      "text/plain": [
       "⎡cos(θ)   sin(θ)  0⎤\n",
       "⎢                  ⎥\n",
       "⎢-sin(θ)  cos(θ)  0⎥\n",
       "⎢                  ⎥\n",
       "⎣   0       0     1⎦"
      ]
     },
     "execution_count": 14,
     "metadata": {},
     "output_type": "execute_result"
    }
   ],
   "source": [
    "A_C_N"
   ]
  },
  {
   "cell_type": "code",
   "execution_count": 15,
   "id": "00dfb320",
   "metadata": {
    "execution": {
     "iopub.execute_input": "2025-09-11T11:37:28.241058Z",
     "iopub.status.busy": "2025-09-11T11:37:28.240907Z",
     "iopub.status.idle": "2025-09-11T11:37:28.244074Z",
     "shell.execute_reply": "2025-09-11T11:37:28.243712Z"
    }
   },
   "outputs": [],
   "source": [
    "N.orient_explicit(A, A_C_N)"
   ]
  },
  {
   "cell_type": "code",
   "execution_count": 16,
   "id": "64039a84",
   "metadata": {
    "execution": {
     "iopub.execute_input": "2025-09-11T11:37:28.245211Z",
     "iopub.status.busy": "2025-09-11T11:37:28.245082Z",
     "iopub.status.idle": "2025-09-11T11:37:28.249506Z",
     "shell.execute_reply": "2025-09-11T11:37:28.249012Z"
    }
   },
   "outputs": [
    {
     "data": {
      "text/latex": [
       "$\\displaystyle \\left[\\begin{matrix}\\cos{\\left(\\theta \\right)} & \\sin{\\left(\\theta \\right)} & 0\\\\- \\sin{\\left(\\theta \\right)} & \\cos{\\left(\\theta \\right)} & 0\\\\0 & 0 & 1\\end{matrix}\\right]$"
      ],
      "text/plain": [
       "⎡cos(θ)   sin(θ)  0⎤\n",
       "⎢                  ⎥\n",
       "⎢-sin(θ)  cos(θ)  0⎥\n",
       "⎢                  ⎥\n",
       "⎣   0       0     1⎦"
      ]
     },
     "execution_count": 16,
     "metadata": {},
     "output_type": "execute_result"
    }
   ],
   "source": [
    "A.dcm(N)"
   ]
  },
  {
   "cell_type": "code",
   "execution_count": 17,
   "id": "b3b9816e",
   "metadata": {
    "execution": {
     "iopub.execute_input": "2025-09-11T11:37:28.250762Z",
     "iopub.status.busy": "2025-09-11T11:37:28.250622Z",
     "iopub.status.idle": "2025-09-11T11:37:28.254701Z",
     "shell.execute_reply": "2025-09-11T11:37:28.254331Z"
    }
   },
   "outputs": [
    {
     "data": {
      "text/latex": [
       "$\\displaystyle \\left[\\begin{matrix}\\cos{\\left(\\theta \\right)} & - \\sin{\\left(\\theta \\right)} & 0\\\\\\sin{\\left(\\theta \\right)} & \\cos{\\left(\\theta \\right)} & 0\\\\0 & 0 & 1\\end{matrix}\\right]$"
      ],
      "text/plain": [
       "⎡cos(θ)  -sin(θ)  0⎤\n",
       "⎢                  ⎥\n",
       "⎢sin(θ)  cos(θ)   0⎥\n",
       "⎢                  ⎥\n",
       "⎣  0        0     1⎦"
      ]
     },
     "execution_count": 17,
     "metadata": {},
     "output_type": "execute_result"
    }
   ],
   "source": [
    "N.dcm(A)"
   ]
  },
  {
   "cell_type": "code",
   "execution_count": 18,
   "id": "9a043bc2",
   "metadata": {
    "execution": {
     "iopub.execute_input": "2025-09-11T11:37:28.255890Z",
     "iopub.status.busy": "2025-09-11T11:37:28.255750Z",
     "iopub.status.idle": "2025-09-11T11:37:28.262771Z",
     "shell.execute_reply": "2025-09-11T11:37:28.262309Z"
    }
   },
   "outputs": [
    {
     "data": {
      "text/latex": [
       "$\\displaystyle \\left[\\begin{matrix}\\cos{\\left(\\beta \\right)} & 0 & - \\sin{\\left(\\beta \\right)}\\\\0 & 1 & 0\\\\\\sin{\\left(\\beta \\right)} & 0 & \\cos{\\left(\\beta \\right)}\\end{matrix}\\right]$"
      ],
      "text/plain": [
       "⎡cos(β)  0  -sin(β)⎤\n",
       "⎢                  ⎥\n",
       "⎢  0     1     0   ⎥\n",
       "⎢                  ⎥\n",
       "⎣sin(β)  0  cos(β) ⎦"
      ]
     },
     "execution_count": 18,
     "metadata": {},
     "output_type": "execute_result"
    }
   ],
   "source": [
    "beta = sm.symbols('beta')\n",
    "\n",
    "D = me.ReferenceFrame('D')\n",
    "F = me.ReferenceFrame('F')\n",
    "\n",
    "F_C_D = sm.Matrix([[sm.cos(beta), 0, -sm.sin(beta)],\n",
    "                   [0, 1, 0],\n",
    "                   [sm.sin(beta), 0, sm.cos(beta)]])\n",
    "\n",
    "F.orient_explicit(D, F_C_D.transpose())\n",
    "\n",
    "F.dcm(D)"
   ]
  },
  {
   "cell_type": "code",
   "execution_count": 19,
   "id": "94abb856",
   "metadata": {
    "execution": {
     "iopub.execute_input": "2025-09-11T11:37:28.263980Z",
     "iopub.status.busy": "2025-09-11T11:37:28.263828Z",
     "iopub.status.idle": "2025-09-11T11:37:28.268119Z",
     "shell.execute_reply": "2025-09-11T11:37:28.267723Z"
    }
   },
   "outputs": [],
   "source": [
    "B.orient_axis(A, alpha, A.z)"
   ]
  },
  {
   "cell_type": "code",
   "execution_count": 20,
   "id": "ccd4b356",
   "metadata": {
    "execution": {
     "iopub.execute_input": "2025-09-11T11:37:28.269313Z",
     "iopub.status.busy": "2025-09-11T11:37:28.269157Z",
     "iopub.status.idle": "2025-09-11T11:37:28.273644Z",
     "shell.execute_reply": "2025-09-11T11:37:28.273149Z"
    }
   },
   "outputs": [
    {
     "data": {
      "text/latex": [
       "$\\displaystyle \\left[\\begin{matrix}\\cos{\\left(\\alpha \\right)} & \\sin{\\left(\\alpha \\right)} & 0\\\\- \\sin{\\left(\\alpha \\right)} & \\cos{\\left(\\alpha \\right)} & 0\\\\0 & 0 & 1\\end{matrix}\\right]$"
      ],
      "text/plain": [
       "⎡cos(α)   sin(α)  0⎤\n",
       "⎢                  ⎥\n",
       "⎢-sin(α)  cos(α)  0⎥\n",
       "⎢                  ⎥\n",
       "⎣   0       0     1⎦"
      ]
     },
     "execution_count": 20,
     "metadata": {},
     "output_type": "execute_result"
    }
   ],
   "source": [
    "B.dcm(A)"
   ]
  },
  {
   "cell_type": "code",
   "execution_count": 21,
   "id": "d8b5585a",
   "metadata": {
    "execution": {
     "iopub.execute_input": "2025-09-11T11:37:28.274975Z",
     "iopub.status.busy": "2025-09-11T11:37:28.274837Z",
     "iopub.status.idle": "2025-09-11T11:37:28.279259Z",
     "shell.execute_reply": "2025-09-11T11:37:28.278870Z"
    }
   },
   "outputs": [
    {
     "data": {
      "text/latex": [
       "$\\displaystyle \\left[\\begin{matrix}\\cos{\\left(\\alpha \\right)} & - \\sin{\\left(\\alpha \\right)} & 0\\\\\\sin{\\left(\\alpha \\right)} & \\cos{\\left(\\alpha \\right)} & 0\\\\0 & 0 & 1\\end{matrix}\\right]$"
      ],
      "text/plain": [
       "⎡cos(α)  -sin(α)  0⎤\n",
       "⎢                  ⎥\n",
       "⎢sin(α)  cos(α)   0⎥\n",
       "⎢                  ⎥\n",
       "⎣  0        0     1⎦"
      ]
     },
     "execution_count": 21,
     "metadata": {},
     "output_type": "execute_result"
    }
   ],
   "source": [
    "A.dcm(B)"
   ]
  },
  {
   "cell_type": "code",
   "execution_count": 22,
   "id": "80e25234",
   "metadata": {
    "execution": {
     "iopub.execute_input": "2025-09-11T11:37:28.280520Z",
     "iopub.status.busy": "2025-09-11T11:37:28.280384Z",
     "iopub.status.idle": "2025-09-11T11:37:28.367355Z",
     "shell.execute_reply": "2025-09-11T11:37:28.366933Z"
    }
   },
   "outputs": [
    {
     "data": {
      "text/latex": [
       "$\\displaystyle \\left[\\begin{matrix}\\cos{\\left(\\alpha + \\theta \\right)} & \\sin{\\left(\\alpha + \\theta \\right)} & 0\\\\- \\sin{\\left(\\alpha + \\theta \\right)} & \\cos{\\left(\\alpha + \\theta \\right)} & 0\\\\0 & 0 & 1\\end{matrix}\\right]$"
      ],
      "text/plain": [
       "⎡cos(α + θ)   sin(α + θ)  0⎤\n",
       "⎢                          ⎥\n",
       "⎢-sin(α + θ)  cos(α + θ)  0⎥\n",
       "⎢                          ⎥\n",
       "⎣     0           0       1⎦"
      ]
     },
     "execution_count": 22,
     "metadata": {},
     "output_type": "execute_result"
    }
   ],
   "source": [
    "sm.trigsimp(B.dcm(A)*A.dcm(N))"
   ]
  },
  {
   "cell_type": "code",
   "execution_count": 23,
   "id": "902521d8",
   "metadata": {
    "execution": {
     "iopub.execute_input": "2025-09-11T11:37:28.368613Z",
     "iopub.status.busy": "2025-09-11T11:37:28.368475Z",
     "iopub.status.idle": "2025-09-11T11:37:28.454859Z",
     "shell.execute_reply": "2025-09-11T11:37:28.454407Z"
    }
   },
   "outputs": [
    {
     "data": {
      "text/latex": [
       "$\\displaystyle \\left[\\begin{matrix}\\cos{\\left(\\alpha + \\theta \\right)} & \\sin{\\left(\\alpha + \\theta \\right)} & 0\\\\- \\sin{\\left(\\alpha + \\theta \\right)} & \\cos{\\left(\\alpha + \\theta \\right)} & 0\\\\0 & 0 & 1\\end{matrix}\\right]$"
      ],
      "text/plain": [
       "⎡cos(α + θ)   sin(α + θ)  0⎤\n",
       "⎢                          ⎥\n",
       "⎢-sin(α + θ)  cos(α + θ)  0⎥\n",
       "⎢                          ⎥\n",
       "⎣     0           0       1⎦"
      ]
     },
     "execution_count": 23,
     "metadata": {},
     "output_type": "execute_result"
    }
   ],
   "source": [
    "sm.trigsimp(B.dcm(N))"
   ]
  },
  {
   "cell_type": "code",
   "execution_count": 24,
   "id": "f9bdac40",
   "metadata": {
    "execution": {
     "iopub.execute_input": "2025-09-11T11:37:28.456141Z",
     "iopub.status.busy": "2025-09-11T11:37:28.455998Z",
     "iopub.status.idle": "2025-09-11T11:37:28.484653Z",
     "shell.execute_reply": "2025-09-11T11:37:28.484279Z"
    }
   },
   "outputs": [
    {
     "data": {
      "text/latex": [
       "$\\displaystyle \\cos{\\left(\\alpha + \\theta \\right)}$"
      ],
      "text/plain": [
       "cos(α + θ)"
      ]
     },
     "execution_count": 24,
     "metadata": {},
     "output_type": "execute_result"
    }
   ],
   "source": [
    "sm.trigsimp(me.dot(B.x, N.x))"
   ]
  },
  {
   "cell_type": "code",
   "execution_count": 25,
   "id": "9273b3a3",
   "metadata": {
    "execution": {
     "iopub.execute_input": "2025-09-11T11:37:28.485953Z",
     "iopub.status.busy": "2025-09-11T11:37:28.485812Z",
     "iopub.status.idle": "2025-09-11T11:37:28.493988Z",
     "shell.execute_reply": "2025-09-11T11:37:28.493588Z"
    }
   },
   "outputs": [
    {
     "data": {
      "text/latex": [
       "$\\displaystyle \\left[\\begin{matrix}\\cos{\\left(\\beta \\right)} & 0 & \\sin{\\left(\\beta \\right)}\\\\0 & 1 & 0\\\\- \\sin{\\left(\\beta \\right)} & 0 & \\cos{\\left(\\beta \\right)}\\end{matrix}\\right]$"
      ],
      "text/plain": [
       "⎡cos(β)   0  sin(β)⎤\n",
       "⎢                  ⎥\n",
       "⎢   0     1    0   ⎥\n",
       "⎢                  ⎥\n",
       "⎣-sin(β)  0  cos(β)⎦"
      ]
     },
     "execution_count": 25,
     "metadata": {},
     "output_type": "execute_result"
    }
   ],
   "source": [
    "beta = sm.symbols('beta')\n",
    "\n",
    "C = me.ReferenceFrame('C')\n",
    "D = me.ReferenceFrame('D')\n",
    "E = me.ReferenceFrame('E')\n",
    "\n",
    "D.orient_axis(C, beta, -C.y)\n",
    "\n",
    "D.dcm(C)"
   ]
  },
  {
   "cell_type": "code",
   "execution_count": 26,
   "id": "b7e4bb0c",
   "metadata": {
    "execution": {
     "iopub.execute_input": "2025-09-11T11:37:28.495157Z",
     "iopub.status.busy": "2025-09-11T11:37:28.495026Z",
     "iopub.status.idle": "2025-09-11T11:37:28.499992Z",
     "shell.execute_reply": "2025-09-11T11:37:28.499500Z"
    }
   },
   "outputs": [
    {
     "data": {
      "text/latex": [
       "$\\displaystyle \\left[\\begin{matrix}\\cos{\\left(\\beta \\right)} & 0 & \\sin{\\left(\\beta \\right)}\\\\0 & 1 & 0\\\\- \\sin{\\left(\\beta \\right)} & 0 & \\cos{\\left(\\beta \\right)}\\end{matrix}\\right]$"
      ],
      "text/plain": [
       "⎡cos(β)   0  sin(β)⎤\n",
       "⎢                  ⎥\n",
       "⎢   0     1    0   ⎥\n",
       "⎢                  ⎥\n",
       "⎣-sin(β)  0  cos(β)⎦"
      ]
     },
     "execution_count": 26,
     "metadata": {},
     "output_type": "execute_result"
    }
   ],
   "source": [
    "E.orient_explicit(D, C.dcm(D))\n",
    "E.dcm(D)"
   ]
  },
  {
   "cell_type": "code",
   "execution_count": 27,
   "id": "24ad1eca",
   "metadata": {
    "execution": {
     "iopub.execute_input": "2025-09-11T11:37:28.501224Z",
     "iopub.status.busy": "2025-09-11T11:37:28.501088Z",
     "iopub.status.idle": "2025-09-11T11:37:28.508511Z",
     "shell.execute_reply": "2025-09-11T11:37:28.507983Z"
    }
   },
   "outputs": [
    {
     "data": {
      "text/latex": [
       "$\\displaystyle \\left[\\begin{matrix}\\cos{\\left(\\psi \\right)} & \\sin{\\left(\\psi \\right)} & 0\\\\- \\sin{\\left(\\psi \\right)} & \\cos{\\left(\\psi \\right)} & 0\\\\0 & 0 & 1\\end{matrix}\\right]$"
      ],
      "text/plain": [
       "⎡cos(ψ)   sin(ψ)  0⎤\n",
       "⎢                  ⎥\n",
       "⎢-sin(ψ)  cos(ψ)  0⎥\n",
       "⎢                  ⎥\n",
       "⎣   0       0     1⎦"
      ]
     },
     "execution_count": 27,
     "metadata": {},
     "output_type": "execute_result"
    }
   ],
   "source": [
    "psi = sm.symbols('psi')\n",
    "\n",
    "A = me.ReferenceFrame('A')\n",
    "B = me.ReferenceFrame('B')\n",
    "\n",
    "B.orient_axis(A, psi, A.z)\n",
    "\n",
    "B.dcm(A)"
   ]
  },
  {
   "cell_type": "code",
   "execution_count": 28,
   "id": "89958d29",
   "metadata": {
    "execution": {
     "iopub.execute_input": "2025-09-11T11:37:28.509782Z",
     "iopub.status.busy": "2025-09-11T11:37:28.509637Z",
     "iopub.status.idle": "2025-09-11T11:37:28.516196Z",
     "shell.execute_reply": "2025-09-11T11:37:28.515817Z"
    }
   },
   "outputs": [
    {
     "data": {
      "text/latex": [
       "$\\displaystyle \\left[\\begin{matrix}1 & 0 & 0\\\\0 & \\cos{\\left(\\theta \\right)} & \\sin{\\left(\\theta \\right)}\\\\0 & - \\sin{\\left(\\theta \\right)} & \\cos{\\left(\\theta \\right)}\\end{matrix}\\right]$"
      ],
      "text/plain": [
       "⎡1     0       0   ⎤\n",
       "⎢                  ⎥\n",
       "⎢0  cos(θ)   sin(θ)⎥\n",
       "⎢                  ⎥\n",
       "⎣0  -sin(θ)  cos(θ)⎦"
      ]
     },
     "execution_count": 28,
     "metadata": {},
     "output_type": "execute_result"
    }
   ],
   "source": [
    "theta = sm.symbols('theta')\n",
    "\n",
    "C = me.ReferenceFrame('C')\n",
    "\n",
    "C.orient_axis(B, theta, B.x)\n",
    "\n",
    "C.dcm(B)"
   ]
  },
  {
   "cell_type": "code",
   "execution_count": 29,
   "id": "087ef436",
   "metadata": {
    "execution": {
     "iopub.execute_input": "2025-09-11T11:37:28.517405Z",
     "iopub.status.busy": "2025-09-11T11:37:28.517274Z",
     "iopub.status.idle": "2025-09-11T11:37:28.524189Z",
     "shell.execute_reply": "2025-09-11T11:37:28.523715Z"
    }
   },
   "outputs": [
    {
     "data": {
      "text/latex": [
       "$\\displaystyle \\left[\\begin{matrix}\\cos{\\left(\\varphi \\right)} & 0 & - \\sin{\\left(\\varphi \\right)}\\\\0 & 1 & 0\\\\\\sin{\\left(\\varphi \\right)} & 0 & \\cos{\\left(\\varphi \\right)}\\end{matrix}\\right]$"
      ],
      "text/plain": [
       "⎡cos(varphi)  0  -sin(varphi)⎤\n",
       "⎢                            ⎥\n",
       "⎢     0       1       0      ⎥\n",
       "⎢                            ⎥\n",
       "⎣sin(varphi)  0  cos(varphi) ⎦"
      ]
     },
     "execution_count": 29,
     "metadata": {},
     "output_type": "execute_result"
    }
   ],
   "source": [
    "phi = sm.symbols('varphi')\n",
    "\n",
    "D = me.ReferenceFrame('D')\n",
    "\n",
    "D.orient_axis(C, phi, C.y)\n",
    "\n",
    "D.dcm(C)"
   ]
  },
  {
   "cell_type": "code",
   "execution_count": 30,
   "id": "2a01b4ff",
   "metadata": {
    "execution": {
     "iopub.execute_input": "2025-09-11T11:37:28.525508Z",
     "iopub.status.busy": "2025-09-11T11:37:28.525359Z",
     "iopub.status.idle": "2025-09-11T11:37:28.538389Z",
     "shell.execute_reply": "2025-09-11T11:37:28.537903Z"
    }
   },
   "outputs": [
    {
     "data": {
      "text/latex": [
       "$\\displaystyle \\left[\\begin{matrix}- \\sin{\\left(\\psi \\right)} \\sin{\\left(\\theta \\right)} \\sin{\\left(\\varphi \\right)} + \\cos{\\left(\\psi \\right)} \\cos{\\left(\\varphi \\right)} & \\sin{\\left(\\psi \\right)} \\cos{\\left(\\varphi \\right)} + \\sin{\\left(\\theta \\right)} \\sin{\\left(\\varphi \\right)} \\cos{\\left(\\psi \\right)} & - \\sin{\\left(\\varphi \\right)} \\cos{\\left(\\theta \\right)}\\\\- \\sin{\\left(\\psi \\right)} \\cos{\\left(\\theta \\right)} & \\cos{\\left(\\psi \\right)} \\cos{\\left(\\theta \\right)} & \\sin{\\left(\\theta \\right)}\\\\\\sin{\\left(\\psi \\right)} \\sin{\\left(\\theta \\right)} \\cos{\\left(\\varphi \\right)} + \\sin{\\left(\\varphi \\right)} \\cos{\\left(\\psi \\right)} & \\sin{\\left(\\psi \\right)} \\sin{\\left(\\varphi \\right)} - \\sin{\\left(\\theta \\right)} \\cos{\\left(\\psi \\right)} \\cos{\\left(\\varphi \\right)} & \\cos{\\left(\\theta \\right)} \\cos{\\left(\\varphi \\right)}\\end{matrix}\\right]$"
      ],
      "text/plain": [
       "⎡-sin(ψ)⋅sin(θ)⋅sin(varphi) + cos(ψ)⋅cos(varphi)  sin(ψ)⋅cos(varphi) + sin(θ)⋅\n",
       "⎢                                                                             \n",
       "⎢                -sin(ψ)⋅cos(θ)                                   cos(ψ)⋅cos(θ\n",
       "⎢                                                                             \n",
       "⎣sin(ψ)⋅sin(θ)⋅cos(varphi) + sin(varphi)⋅cos(ψ)   sin(ψ)⋅sin(varphi) - sin(θ)⋅\n",
       "\n",
       "sin(varphi)⋅cos(ψ)  -sin(varphi)⋅cos(θ)⎤\n",
       "                                       ⎥\n",
       ")                         sin(θ)       ⎥\n",
       "                                       ⎥\n",
       "cos(ψ)⋅cos(varphi)  cos(θ)⋅cos(varphi) ⎦"
      ]
     },
     "execution_count": 30,
     "metadata": {},
     "output_type": "execute_result"
    }
   ],
   "source": [
    "D.dcm(A)"
   ]
  },
  {
   "cell_type": "code",
   "execution_count": 31,
   "id": "ab3d3a2d",
   "metadata": {
    "execution": {
     "iopub.execute_input": "2025-09-11T11:37:28.539616Z",
     "iopub.status.busy": "2025-09-11T11:37:28.539478Z",
     "iopub.status.idle": "2025-09-11T11:37:28.553072Z",
     "shell.execute_reply": "2025-09-11T11:37:28.552586Z"
    }
   },
   "outputs": [
    {
     "data": {
      "text/latex": [
       "$\\displaystyle \\left[\\begin{matrix}- \\sin{\\left(\\psi \\right)} \\sin{\\left(\\theta \\right)} \\sin{\\left(\\varphi \\right)} + \\cos{\\left(\\psi \\right)} \\cos{\\left(\\varphi \\right)} & \\sin{\\left(\\psi \\right)} \\cos{\\left(\\varphi \\right)} + \\sin{\\left(\\theta \\right)} \\sin{\\left(\\varphi \\right)} \\cos{\\left(\\psi \\right)} & - \\sin{\\left(\\varphi \\right)} \\cos{\\left(\\theta \\right)}\\\\- \\sin{\\left(\\psi \\right)} \\cos{\\left(\\theta \\right)} & \\cos{\\left(\\psi \\right)} \\cos{\\left(\\theta \\right)} & \\sin{\\left(\\theta \\right)}\\\\\\sin{\\left(\\psi \\right)} \\sin{\\left(\\theta \\right)} \\cos{\\left(\\varphi \\right)} + \\sin{\\left(\\varphi \\right)} \\cos{\\left(\\psi \\right)} & \\sin{\\left(\\psi \\right)} \\sin{\\left(\\varphi \\right)} - \\sin{\\left(\\theta \\right)} \\cos{\\left(\\psi \\right)} \\cos{\\left(\\varphi \\right)} & \\cos{\\left(\\theta \\right)} \\cos{\\left(\\varphi \\right)}\\end{matrix}\\right]$"
      ],
      "text/plain": [
       "⎡-sin(ψ)⋅sin(θ)⋅sin(varphi) + cos(ψ)⋅cos(varphi)  sin(ψ)⋅cos(varphi) + sin(θ)⋅\n",
       "⎢                                                                             \n",
       "⎢                -sin(ψ)⋅cos(θ)                                   cos(ψ)⋅cos(θ\n",
       "⎢                                                                             \n",
       "⎣sin(ψ)⋅sin(θ)⋅cos(varphi) + sin(varphi)⋅cos(ψ)   sin(ψ)⋅sin(varphi) - sin(θ)⋅\n",
       "\n",
       "sin(varphi)⋅cos(ψ)  -sin(varphi)⋅cos(θ)⎤\n",
       "                                       ⎥\n",
       ")                         sin(θ)       ⎥\n",
       "                                       ⎥\n",
       "cos(ψ)⋅cos(varphi)  cos(θ)⋅cos(varphi) ⎦"
      ]
     },
     "execution_count": 31,
     "metadata": {},
     "output_type": "execute_result"
    }
   ],
   "source": [
    "A = me.ReferenceFrame('A')\n",
    "D = me.ReferenceFrame('D')\n",
    "\n",
    "D.orient_body_fixed(A, (psi, theta, phi), 'zxy')\n",
    "\n",
    "D.dcm(A)"
   ]
  },
  {
   "cell_type": "code",
   "execution_count": 32,
   "id": "400b6bb8",
   "metadata": {
    "execution": {
     "iopub.execute_input": "2025-09-11T11:37:28.554396Z",
     "iopub.status.busy": "2025-09-11T11:37:28.554230Z",
     "iopub.status.idle": "2025-09-11T11:37:28.556544Z",
     "shell.execute_reply": "2025-09-11T11:37:28.556057Z"
    }
   },
   "outputs": [],
   "source": [
    "psi, theta, phi = sm.symbols('psi, theta, varphi')"
   ]
  },
  {
   "cell_type": "code",
   "execution_count": 33,
   "id": "f50d8e34",
   "metadata": {
    "execution": {
     "iopub.execute_input": "2025-09-11T11:37:28.557849Z",
     "iopub.status.busy": "2025-09-11T11:37:28.557710Z",
     "iopub.status.idle": "2025-09-11T11:37:28.574443Z",
     "shell.execute_reply": "2025-09-11T11:37:28.574066Z"
    }
   },
   "outputs": [
    {
     "data": {
      "text/latex": [
       "$\\displaystyle \\left[\\begin{matrix}- \\sin{\\left(\\psi \\right)} \\sin{\\left(\\varphi \\right)} \\cos{\\left(\\theta \\right)} + \\cos{\\left(\\psi \\right)} \\cos{\\left(\\varphi \\right)} & \\sin{\\left(\\psi \\right)} \\cos{\\left(\\varphi \\right)} + \\sin{\\left(\\varphi \\right)} \\cos{\\left(\\psi \\right)} \\cos{\\left(\\theta \\right)} & \\sin{\\left(\\theta \\right)} \\sin{\\left(\\varphi \\right)}\\\\- \\sin{\\left(\\psi \\right)} \\cos{\\left(\\theta \\right)} \\cos{\\left(\\varphi \\right)} - \\sin{\\left(\\varphi \\right)} \\cos{\\left(\\psi \\right)} & - \\sin{\\left(\\psi \\right)} \\sin{\\left(\\varphi \\right)} + \\cos{\\left(\\psi \\right)} \\cos{\\left(\\theta \\right)} \\cos{\\left(\\varphi \\right)} & \\sin{\\left(\\theta \\right)} \\cos{\\left(\\varphi \\right)}\\\\\\sin{\\left(\\psi \\right)} \\sin{\\left(\\theta \\right)} & - \\sin{\\left(\\theta \\right)} \\cos{\\left(\\psi \\right)} & \\cos{\\left(\\theta \\right)}\\end{matrix}\\right]$"
      ],
      "text/plain": [
       "⎡-sin(ψ)⋅sin(varphi)⋅cos(θ) + cos(ψ)⋅cos(varphi)  sin(ψ)⋅cos(varphi) + sin(var\n",
       "⎢                                                                             \n",
       "⎢-sin(ψ)⋅cos(θ)⋅cos(varphi) - sin(varphi)⋅cos(ψ)  -sin(ψ)⋅sin(varphi) + cos(ψ)\n",
       "⎢                                                                             \n",
       "⎣                 sin(ψ)⋅sin(θ)                                   -sin(θ)⋅cos(\n",
       "\n",
       "phi)⋅cos(ψ)⋅cos(θ)   sin(θ)⋅sin(varphi)⎤\n",
       "                                       ⎥\n",
       "⋅cos(θ)⋅cos(varphi)  sin(θ)⋅cos(varphi)⎥\n",
       "                                       ⎥\n",
       "ψ)                         cos(θ)      ⎦"
      ]
     },
     "execution_count": 33,
     "metadata": {},
     "output_type": "execute_result"
    }
   ],
   "source": [
    "A = me.ReferenceFrame('A')\n",
    "B = me.ReferenceFrame('B')\n",
    "C = me.ReferenceFrame('C')\n",
    "D = me.ReferenceFrame('D')\n",
    "\n",
    "B.orient_axis(A, psi, A.z)\n",
    "C.orient_axis(B, theta, B.x)\n",
    "D.orient_axis(C, phi, C.z)\n",
    "\n",
    "D.dcm(A)"
   ]
  },
  {
   "cell_type": "code",
   "execution_count": 34,
   "id": "8a56d334",
   "metadata": {
    "execution": {
     "iopub.execute_input": "2025-09-11T11:37:28.575642Z",
     "iopub.status.busy": "2025-09-11T11:37:28.575492Z",
     "iopub.status.idle": "2025-09-11T11:37:28.586847Z",
     "shell.execute_reply": "2025-09-11T11:37:28.586493Z"
    }
   },
   "outputs": [
    {
     "data": {
      "text/latex": [
       "$\\displaystyle \\left[\\begin{matrix}- \\sin{\\left(\\psi \\right)} \\sin{\\left(\\varphi \\right)} \\cos{\\left(\\theta \\right)} + \\cos{\\left(\\psi \\right)} \\cos{\\left(\\varphi \\right)} & \\sin{\\left(\\psi \\right)} \\cos{\\left(\\varphi \\right)} + \\sin{\\left(\\varphi \\right)} \\cos{\\left(\\psi \\right)} \\cos{\\left(\\theta \\right)} & \\sin{\\left(\\theta \\right)} \\sin{\\left(\\varphi \\right)}\\\\- \\sin{\\left(\\psi \\right)} \\cos{\\left(\\theta \\right)} \\cos{\\left(\\varphi \\right)} - \\sin{\\left(\\varphi \\right)} \\cos{\\left(\\psi \\right)} & - \\sin{\\left(\\psi \\right)} \\sin{\\left(\\varphi \\right)} + \\cos{\\left(\\psi \\right)} \\cos{\\left(\\theta \\right)} \\cos{\\left(\\varphi \\right)} & \\sin{\\left(\\theta \\right)} \\cos{\\left(\\varphi \\right)}\\\\\\sin{\\left(\\psi \\right)} \\sin{\\left(\\theta \\right)} & - \\sin{\\left(\\theta \\right)} \\cos{\\left(\\psi \\right)} & \\cos{\\left(\\theta \\right)}\\end{matrix}\\right]$"
      ],
      "text/plain": [
       "⎡-sin(ψ)⋅sin(varphi)⋅cos(θ) + cos(ψ)⋅cos(varphi)  sin(ψ)⋅cos(varphi) + sin(var\n",
       "⎢                                                                             \n",
       "⎢-sin(ψ)⋅cos(θ)⋅cos(varphi) - sin(varphi)⋅cos(ψ)  -sin(ψ)⋅sin(varphi) + cos(ψ)\n",
       "⎢                                                                             \n",
       "⎣                 sin(ψ)⋅sin(θ)                                   -sin(θ)⋅cos(\n",
       "\n",
       "phi)⋅cos(ψ)⋅cos(θ)   sin(θ)⋅sin(varphi)⎤\n",
       "                                       ⎥\n",
       "⋅cos(θ)⋅cos(varphi)  sin(θ)⋅cos(varphi)⎥\n",
       "                                       ⎥\n",
       "ψ)                         cos(θ)      ⎦"
      ]
     },
     "execution_count": 34,
     "metadata": {},
     "output_type": "execute_result"
    }
   ],
   "source": [
    "A = me.ReferenceFrame('A')\n",
    "D = me.ReferenceFrame('D')\n",
    "\n",
    "D.orient_body_fixed(A, (psi, theta, phi), 'zxz')\n",
    "\n",
    "D.dcm(A)"
   ]
  },
  {
   "cell_type": "code",
   "execution_count": 35,
   "id": "728afe56",
   "metadata": {
    "execution": {
     "iopub.execute_input": "2025-09-11T11:37:28.588121Z",
     "iopub.status.busy": "2025-09-11T11:37:28.587986Z",
     "iopub.status.idle": "2025-09-11T11:37:28.601682Z",
     "shell.execute_reply": "2025-09-11T11:37:28.601305Z"
    }
   },
   "outputs": [
    {
     "data": {
      "text/latex": [
       "$\\displaystyle \\left[\\begin{matrix}q_{0}^{2} + q_{i}^{2} - q_{j}^{2} - q_{k}^{2} & 2 q_{0} q_{k} + 2 q_{i} q_{j} & - 2 q_{0} q_{j} + 2 q_{i} q_{k}\\\\- 2 q_{0} q_{k} + 2 q_{i} q_{j} & q_{0}^{2} - q_{i}^{2} + q_{j}^{2} - q_{k}^{2} & 2 q_{0} q_{i} + 2 q_{j} q_{k}\\\\2 q_{0} q_{j} + 2 q_{i} q_{k} & - 2 q_{0} q_{i} + 2 q_{j} q_{k} & q_{0}^{2} - q_{i}^{2} - q_{j}^{2} + q_{k}^{2}\\end{matrix}\\right]$"
      ],
      "text/plain": [
       "⎡  2     2      2     2                                                ⎤\n",
       "⎢q₀  + qᵢ  - q_j  - qₖ     2⋅q₀⋅qₖ + 2⋅qᵢ⋅q_j     -2⋅q₀⋅q_j + 2⋅qᵢ⋅qₖ  ⎥\n",
       "⎢                                                                      ⎥\n",
       "⎢                          2     2      2     2                        ⎥\n",
       "⎢ -2⋅q₀⋅qₖ + 2⋅qᵢ⋅q_j    q₀  - qᵢ  + q_j  - qₖ     2⋅q₀⋅qᵢ + 2⋅q_j⋅qₖ  ⎥\n",
       "⎢                                                                      ⎥\n",
       "⎢                                                  2     2      2     2⎥\n",
       "⎣  2⋅q₀⋅q_j + 2⋅qᵢ⋅qₖ     -2⋅q₀⋅qᵢ + 2⋅q_j⋅qₖ    q₀  - qᵢ  - q_j  + qₖ ⎦"
      ]
     },
     "execution_count": 35,
     "metadata": {},
     "output_type": "execute_result"
    }
   ],
   "source": [
    "N = me.ReferenceFrame('N')\n",
    "A = me.ReferenceFrame('A')\n",
    "\n",
    "q_0, qi, qj, qk = sm.symbols('q_0 q_i q_j q_k')\n",
    "q = (q_0, qi, qj, qk)\n",
    "A.orient_quaternion(N, q)\n",
    "A.dcm(N)"
   ]
  },
  {
   "cell_type": "code",
   "execution_count": 36,
   "id": "d0b1ac31",
   "metadata": {
    "execution": {
     "iopub.execute_input": "2025-09-11T11:37:28.602920Z",
     "iopub.status.busy": "2025-09-11T11:37:28.602770Z",
     "iopub.status.idle": "2025-09-11T11:37:28.682190Z",
     "shell.execute_reply": "2025-09-11T11:37:28.681697Z"
    }
   },
   "outputs": [
    {
     "data": {
      "text/latex": [
       "$\\displaystyle \\left[\\begin{matrix}1 & 0 & 0\\\\0 & \\cos{\\left(\\theta \\right)} & \\sin{\\left(\\theta \\right)}\\\\0 & - \\sin{\\left(\\theta \\right)} & \\cos{\\left(\\theta \\right)}\\end{matrix}\\right]$"
      ],
      "text/plain": [
       "⎡1     0       0   ⎤\n",
       "⎢                  ⎥\n",
       "⎢0  cos(θ)   sin(θ)⎥\n",
       "⎢                  ⎥\n",
       "⎣0  -sin(θ)  cos(θ)⎦"
      ]
     },
     "execution_count": 36,
     "metadata": {},
     "output_type": "execute_result"
    }
   ],
   "source": [
    "q = (sm.cos(theta/2), sm.sin(theta/2), 0, 0)\n",
    "A.orient_quaternion(N, q)\n",
    "sm.trigsimp(A.dcm(N))"
   ]
  }
 ],
 "metadata": {
  "kernelspec": {
   "display_name": "Python 3 (ipykernel)",
   "language": "python",
   "name": "python3"
  },
  "language_info": {
   "codemirror_mode": {
    "name": "ipython",
    "version": 3
   },
   "file_extension": ".py",
   "mimetype": "text/x-python",
   "name": "python",
   "nbconvert_exporter": "python",
   "pygments_lexer": "ipython3",
   "version": "3.11.13"
  }
 },
 "nbformat": 4,
 "nbformat_minor": 5
}