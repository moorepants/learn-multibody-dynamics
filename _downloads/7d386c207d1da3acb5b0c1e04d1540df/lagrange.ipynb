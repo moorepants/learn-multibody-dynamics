{
 "cells": [
  {
   "cell_type": "code",
   "execution_count": 1,
   "id": "0b263b89",
   "metadata": {
    "execution": {
     "iopub.execute_input": "2025-01-22T13:09:17.059589Z",
     "iopub.status.busy": "2025-01-22T13:09:17.059144Z",
     "iopub.status.idle": "2025-01-22T13:09:17.403285Z",
     "shell.execute_reply": "2025-01-22T13:09:17.402800Z"
    }
   },
   "outputs": [],
   "source": [
    "import sympy as sm\n",
    "import sympy.physics.mechanics as me\n",
    "me.init_vprinting(use_latex='mathjax')"
   ]
  },
  {
   "cell_type": "code",
   "execution_count": 2,
   "id": "a6905bf2",
   "metadata": {
    "execution": {
     "iopub.execute_input": "2025-01-22T13:09:17.405026Z",
     "iopub.status.busy": "2025-01-22T13:09:17.404817Z",
     "iopub.status.idle": "2025-01-22T13:09:17.408500Z",
     "shell.execute_reply": "2025-01-22T13:09:17.408103Z"
    }
   },
   "outputs": [],
   "source": [
    "class ReferenceFrame(me.ReferenceFrame):\n",
    "\n",
    "    def __init__(self, *args, **kwargs):\n",
    "\n",
    "        kwargs.pop('latexs', None)\n",
    "\n",
    "        lab = args[0].lower()\n",
    "        tex = r'\\hat{{{}}}_{}'\n",
    "\n",
    "        super(ReferenceFrame, self).__init__(*args,\n",
    "                                             latexs=(tex.format(lab, 'x'),\n",
    "                                                     tex.format(lab, 'y'),\n",
    "                                                     tex.format(lab, 'z')),\n",
    "                                             **kwargs)\n",
    "me.ReferenceFrame = ReferenceFrame"
   ]
  },
  {
   "cell_type": "code",
   "execution_count": 3,
   "id": "286d187b",
   "metadata": {
    "execution": {
     "iopub.execute_input": "2025-01-22T13:09:17.409946Z",
     "iopub.status.busy": "2025-01-22T13:09:17.409795Z",
     "iopub.status.idle": "2025-01-22T13:09:17.434251Z",
     "shell.execute_reply": "2025-01-22T13:09:17.433846Z"
    }
   },
   "outputs": [
    {
     "data": {
      "text/latex": [
       "$\\displaystyle \\left( \\left[\\begin{matrix}\\psi\\\\\\theta\\\\\\phi\\\\x\\\\y\\\\z\\end{matrix}\\right], \\  \\left[\\begin{matrix}\\dot{\\psi}\\\\\\dot{\\theta}\\\\\\dot{\\phi}\\\\\\dot{x}\\\\\\dot{y}\\\\\\dot{z}\\end{matrix}\\right], \\  \\left[\\begin{matrix}\\ddot{\\psi}\\\\\\ddot{\\theta}\\\\\\ddot{\\phi}\\\\\\ddot{x}\\\\\\ddot{y}\\\\\\ddot{z}\\end{matrix}\\right]\\right)$"
      ],
      "text/plain": [
       "⎛⎡ψ⎤  ⎡ψ̇⎤  ⎡ψ̈⎤⎞\n",
       "⎜⎢ ⎥  ⎢ ⎥  ⎢ ⎥⎟\n",
       "⎜⎢θ⎥  ⎢θ̇⎥  ⎢θ̈⎥⎟\n",
       "⎜⎢ ⎥  ⎢ ⎥  ⎢ ⎥⎟\n",
       "⎜⎢φ⎥  ⎢φ̇⎥  ⎢φ̈⎥⎟\n",
       "⎜⎢ ⎥, ⎢ ⎥, ⎢ ⎥⎟\n",
       "⎜⎢x⎥  ⎢ẋ⎥  ⎢ẍ⎥⎟\n",
       "⎜⎢ ⎥  ⎢ ⎥  ⎢ ⎥⎟\n",
       "⎜⎢y⎥  ⎢ẏ⎥  ⎢ÿ⎥⎟\n",
       "⎜⎢ ⎥  ⎢ ⎥  ⎢ ⎥⎟\n",
       "⎝⎣z⎦  ⎣ż⎦  ⎣z̈⎦⎠"
      ]
     },
     "execution_count": 3,
     "metadata": {},
     "output_type": "execute_result"
    }
   ],
   "source": [
    "t = me.dynamicsymbols._t\n",
    "m, Ixx, Iyy, Izz = sm.symbols('m, I_{xx}, I_{yy}, I_{zz}')\n",
    "psi, theta, phi, x, y, z = me.dynamicsymbols('psi, theta, phi, x, y, z')\n",
    "\n",
    "q = sm.Matrix([psi, theta, phi, x, y, z])\n",
    "qd = q.diff(t)\n",
    "qdd = qd.diff(t)\n",
    "\n",
    "q, qd, qdd"
   ]
  },
  {
   "cell_type": "code",
   "execution_count": 4,
   "id": "8bb4e3b4",
   "metadata": {
    "execution": {
     "iopub.execute_input": "2025-01-22T13:09:17.435608Z",
     "iopub.status.busy": "2025-01-22T13:09:17.435457Z",
     "iopub.status.idle": "2025-01-22T13:09:17.449910Z",
     "shell.execute_reply": "2025-01-22T13:09:17.449526Z"
    }
   },
   "outputs": [],
   "source": [
    "N = me.ReferenceFrame('N')\n",
    "B = me.ReferenceFrame('B')\n",
    "B.orient_body_fixed(N, (psi, theta, phi), 'zxy')\n",
    "\n",
    "I_B = me.inertia(B, Ixx, Iyy, Izz)"
   ]
  },
  {
   "cell_type": "code",
   "execution_count": 5,
   "id": "38579629",
   "metadata": {
    "execution": {
     "iopub.execute_input": "2025-01-22T13:09:17.451232Z",
     "iopub.status.busy": "2025-01-22T13:09:17.451085Z",
     "iopub.status.idle": "2025-01-22T13:09:17.476417Z",
     "shell.execute_reply": "2025-01-22T13:09:17.475999Z"
    }
   },
   "outputs": [
    {
     "data": {
      "text/latex": [
       "$\\displaystyle \\frac{I_{xx} \\left(- \\sin{\\left(\\phi \\right)} \\cos{\\left(\\theta \\right)} \\dot{\\psi} + \\cos{\\left(\\phi \\right)} \\dot{\\theta}\\right)^{2}}{2} + \\frac{I_{yy} \\left(\\sin{\\left(\\theta \\right)} \\dot{\\psi} + \\dot{\\phi}\\right)^{2}}{2} + \\frac{I_{zz} \\left(\\sin{\\left(\\phi \\right)} \\dot{\\theta} + \\cos{\\left(\\phi \\right)} \\cos{\\left(\\theta \\right)} \\dot{\\psi}\\right)^{2}}{2} + \\frac{m \\left(\\dot{x}^{2} + \\dot{y}^{2} + \\dot{z}^{2}\\right)}{2}$"
      ],
      "text/plain": [
       "                                    2                        2                \n",
       "I_{xx}⋅(-sin(φ)⋅cos(θ)⋅ψ̇ + cos(φ)⋅θ̇)    I_{yy}⋅(sin(θ)⋅ψ̇ + φ̇)    I_{zz}⋅(s\n",
       "───────────────────────────────────── + ────────────────────── + ─────────────\n",
       "                  2                               2                           \n",
       "\n",
       "                      2     ⎛ 2    2    2⎞\n",
       "in(φ)⋅θ̇ + cos(φ)⋅cos(θ)⋅ψ̇)    m⋅⎝ẋ  + ẏ  + ż ⎠\n",
       "─────────────────────── + ────────────────\n",
       "    2                            2        "
      ]
     },
     "execution_count": 5,
     "metadata": {},
     "output_type": "execute_result"
    }
   ],
   "source": [
    "N_w_B = B.ang_vel_in(N)\n",
    "r_O_Bo = x*N.x + y*N.y + z*N.z\n",
    "N_v_C = r_O_Bo.dt(N)\n",
    "K = m*N_v_C.dot(N_v_C)/2 + N_w_B.dot(I_B.dot(N_w_B))/2\n",
    "K"
   ]
  },
  {
   "cell_type": "code",
   "execution_count": 6,
   "id": "eab4473e",
   "metadata": {
    "execution": {
     "iopub.execute_input": "2025-01-22T13:09:17.477891Z",
     "iopub.status.busy": "2025-01-22T13:09:17.477737Z",
     "iopub.status.idle": "2025-01-22T13:09:17.570353Z",
     "shell.execute_reply": "2025-01-22T13:09:17.569939Z"
    }
   },
   "outputs": [
    {
     "data": {
      "text/latex": [
       "$\\displaystyle I_{xx} \\left(- \\sin{\\left(\\phi \\right)} \\cos{\\left(\\theta \\right)} \\dot{\\psi} + \\cos{\\left(\\phi \\right)} \\dot{\\theta}\\right) \\sin{\\left(\\phi \\right)} \\sin{\\left(\\theta \\right)} \\dot{\\theta} - I_{xx} \\left(- \\sin{\\left(\\phi \\right)} \\cos{\\left(\\theta \\right)} \\dot{\\psi} + \\cos{\\left(\\phi \\right)} \\dot{\\theta}\\right) \\cos{\\left(\\phi \\right)} \\cos{\\left(\\theta \\right)} \\dot{\\phi} - I_{xx} \\left(\\sin{\\left(\\phi \\right)} \\sin{\\left(\\theta \\right)} \\dot{\\psi} \\dot{\\theta} - \\sin{\\left(\\phi \\right)} \\cos{\\left(\\theta \\right)} \\ddot{\\psi} - \\sin{\\left(\\phi \\right)} \\dot{\\phi} \\dot{\\theta} - \\cos{\\left(\\phi \\right)} \\cos{\\left(\\theta \\right)} \\dot{\\phi} \\dot{\\psi} + \\cos{\\left(\\phi \\right)} \\ddot{\\theta}\\right) \\sin{\\left(\\phi \\right)} \\cos{\\left(\\theta \\right)} + I_{yy} \\left(\\sin{\\left(\\theta \\right)} \\dot{\\psi} + \\dot{\\phi}\\right) \\cos{\\left(\\theta \\right)} \\dot{\\theta} + I_{yy} \\left(\\sin{\\left(\\theta \\right)} \\ddot{\\psi} + \\cos{\\left(\\theta \\right)} \\dot{\\psi} \\dot{\\theta} + \\ddot{\\phi}\\right) \\sin{\\left(\\theta \\right)} - I_{zz} \\left(\\sin{\\left(\\phi \\right)} \\dot{\\theta} + \\cos{\\left(\\phi \\right)} \\cos{\\left(\\theta \\right)} \\dot{\\psi}\\right) \\sin{\\left(\\phi \\right)} \\cos{\\left(\\theta \\right)} \\dot{\\phi} - I_{zz} \\left(\\sin{\\left(\\phi \\right)} \\dot{\\theta} + \\cos{\\left(\\phi \\right)} \\cos{\\left(\\theta \\right)} \\dot{\\psi}\\right) \\sin{\\left(\\theta \\right)} \\cos{\\left(\\phi \\right)} \\dot{\\theta} + I_{zz} \\left(- \\sin{\\left(\\phi \\right)} \\cos{\\left(\\theta \\right)} \\dot{\\phi} \\dot{\\psi} + \\sin{\\left(\\phi \\right)} \\ddot{\\theta} - \\sin{\\left(\\theta \\right)} \\cos{\\left(\\phi \\right)} \\dot{\\psi} \\dot{\\theta} + \\cos{\\left(\\phi \\right)} \\cos{\\left(\\theta \\right)} \\ddot{\\psi} + \\cos{\\left(\\phi \\right)} \\dot{\\phi} \\dot{\\theta}\\right) \\cos{\\left(\\phi \\right)} \\cos{\\left(\\theta \\right)}$"
      ],
      "text/plain": [
       "I_{xx}⋅(-sin(φ)⋅cos(θ)⋅ψ̇ + cos(φ)⋅θ̇)⋅sin(φ)⋅sin(θ)⋅θ̇ - I_{xx}⋅(-sin(φ)⋅cos(\n",
       "θ)⋅ψ̇ + cos(φ)⋅θ̇)⋅cos(φ)⋅cos(θ)⋅φ̇ - I_{xx}⋅(sin(φ)⋅sin(θ)⋅ψ̇⋅θ̇ - sin(φ)⋅cos\n",
       "(θ)⋅ψ̈ - sin(φ)⋅φ̇⋅θ̇ - cos(φ)⋅cos(θ)⋅φ̇⋅ψ̇ + cos(φ)⋅θ̈)⋅sin(φ)⋅cos(θ) + I_{yy\n",
       "}⋅(sin(θ)⋅ψ̇ + φ̇)⋅cos(θ)⋅θ̇ + I_{yy}⋅(sin(θ)⋅ψ̈ + cos(θ)⋅ψ̇⋅θ̇ + φ̈)⋅sin(θ) -\n",
       " I_{zz}⋅(sin(φ)⋅θ̇ + cos(φ)⋅cos(θ)⋅ψ̇)⋅sin(φ)⋅cos(θ)⋅φ̇ - I_{zz}⋅(sin(φ)⋅θ̇ + \n",
       "cos(φ)⋅cos(θ)⋅ψ̇)⋅sin(θ)⋅cos(φ)⋅θ̇ + I_{zz}⋅(-sin(φ)⋅cos(θ)⋅φ̇⋅ψ̇ + sin(φ)⋅θ̈ \n",
       "- sin(θ)⋅cos(φ)⋅ψ̇⋅θ̇ + cos(φ)⋅cos(θ)⋅ψ̈ + cos(φ)⋅φ̇⋅θ̇)⋅cos(φ)⋅cos(θ)"
      ]
     },
     "execution_count": 6,
     "metadata": {},
     "output_type": "execute_result"
    }
   ],
   "source": [
    "F_psi_s = K.diff(psi.diff(t)).diff(t) - K.diff(psi)\n",
    "F_psi_s"
   ]
  },
  {
   "cell_type": "code",
   "execution_count": 7,
   "id": "e3440a99",
   "metadata": {
    "execution": {
     "iopub.execute_input": "2025-01-22T13:09:17.571696Z",
     "iopub.status.busy": "2025-01-22T13:09:17.571545Z",
     "iopub.status.idle": "2025-01-22T13:09:17.776499Z",
     "shell.execute_reply": "2025-01-22T13:09:17.776031Z"
    }
   },
   "outputs": [
    {
     "data": {
      "text/latex": [
       "$\\displaystyle \\left[\\begin{matrix}I_{xx} \\left(- \\sin{\\left(\\phi \\right)} \\cos{\\left(\\theta \\right)} \\dot{\\psi} + \\cos{\\left(\\phi \\right)} \\dot{\\theta}\\right) \\sin{\\left(\\phi \\right)} \\sin{\\left(\\theta \\right)} \\dot{\\theta} - I_{xx} \\left(- \\sin{\\left(\\phi \\right)} \\cos{\\left(\\theta \\right)} \\dot{\\psi} + \\cos{\\left(\\phi \\right)} \\dot{\\theta}\\right) \\cos{\\left(\\phi \\right)} \\cos{\\left(\\theta \\right)} \\dot{\\phi} - I_{xx} \\left(\\sin{\\left(\\phi \\right)} \\sin{\\left(\\theta \\right)} \\dot{\\psi} \\dot{\\theta} - \\sin{\\left(\\phi \\right)} \\cos{\\left(\\theta \\right)} \\ddot{\\psi} - \\sin{\\left(\\phi \\right)} \\dot{\\phi} \\dot{\\theta} - \\cos{\\left(\\phi \\right)} \\cos{\\left(\\theta \\right)} \\dot{\\phi} \\dot{\\psi} + \\cos{\\left(\\phi \\right)} \\ddot{\\theta}\\right) \\sin{\\left(\\phi \\right)} \\cos{\\left(\\theta \\right)} + I_{yy} \\left(\\sin{\\left(\\theta \\right)} \\dot{\\psi} + \\dot{\\phi}\\right) \\cos{\\left(\\theta \\right)} \\dot{\\theta} + I_{yy} \\left(\\sin{\\left(\\theta \\right)} \\ddot{\\psi} + \\cos{\\left(\\theta \\right)} \\dot{\\psi} \\dot{\\theta} + \\ddot{\\phi}\\right) \\sin{\\left(\\theta \\right)} - I_{zz} \\left(\\sin{\\left(\\phi \\right)} \\dot{\\theta} + \\cos{\\left(\\phi \\right)} \\cos{\\left(\\theta \\right)} \\dot{\\psi}\\right) \\sin{\\left(\\phi \\right)} \\cos{\\left(\\theta \\right)} \\dot{\\phi} - I_{zz} \\left(\\sin{\\left(\\phi \\right)} \\dot{\\theta} + \\cos{\\left(\\phi \\right)} \\cos{\\left(\\theta \\right)} \\dot{\\psi}\\right) \\sin{\\left(\\theta \\right)} \\cos{\\left(\\phi \\right)} \\dot{\\theta} + I_{zz} \\left(- \\sin{\\left(\\phi \\right)} \\cos{\\left(\\theta \\right)} \\dot{\\phi} \\dot{\\psi} + \\sin{\\left(\\phi \\right)} \\ddot{\\theta} - \\sin{\\left(\\theta \\right)} \\cos{\\left(\\phi \\right)} \\dot{\\psi} \\dot{\\theta} + \\cos{\\left(\\phi \\right)} \\cos{\\left(\\theta \\right)} \\ddot{\\psi} + \\cos{\\left(\\phi \\right)} \\dot{\\phi} \\dot{\\theta}\\right) \\cos{\\left(\\phi \\right)} \\cos{\\left(\\theta \\right)}\\\\- I_{xx} \\left(- \\sin{\\left(\\phi \\right)} \\cos{\\left(\\theta \\right)} \\dot{\\psi} + \\cos{\\left(\\phi \\right)} \\dot{\\theta}\\right) \\sin{\\left(\\phi \\right)} \\sin{\\left(\\theta \\right)} \\dot{\\psi} - I_{xx} \\left(- \\sin{\\left(\\phi \\right)} \\cos{\\left(\\theta \\right)} \\dot{\\psi} + \\cos{\\left(\\phi \\right)} \\dot{\\theta}\\right) \\sin{\\left(\\phi \\right)} \\dot{\\phi} + I_{xx} \\left(\\sin{\\left(\\phi \\right)} \\sin{\\left(\\theta \\right)} \\dot{\\psi} \\dot{\\theta} - \\sin{\\left(\\phi \\right)} \\cos{\\left(\\theta \\right)} \\ddot{\\psi} - \\sin{\\left(\\phi \\right)} \\dot{\\phi} \\dot{\\theta} - \\cos{\\left(\\phi \\right)} \\cos{\\left(\\theta \\right)} \\dot{\\phi} \\dot{\\psi} + \\cos{\\left(\\phi \\right)} \\ddot{\\theta}\\right) \\cos{\\left(\\phi \\right)} - I_{yy} \\left(\\sin{\\left(\\theta \\right)} \\dot{\\psi} + \\dot{\\phi}\\right) \\cos{\\left(\\theta \\right)} \\dot{\\psi} + I_{zz} \\left(\\sin{\\left(\\phi \\right)} \\dot{\\theta} + \\cos{\\left(\\phi \\right)} \\cos{\\left(\\theta \\right)} \\dot{\\psi}\\right) \\sin{\\left(\\theta \\right)} \\cos{\\left(\\phi \\right)} \\dot{\\psi} + I_{zz} \\left(\\sin{\\left(\\phi \\right)} \\dot{\\theta} + \\cos{\\left(\\phi \\right)} \\cos{\\left(\\theta \\right)} \\dot{\\psi}\\right) \\cos{\\left(\\phi \\right)} \\dot{\\phi} + I_{zz} \\left(- \\sin{\\left(\\phi \\right)} \\cos{\\left(\\theta \\right)} \\dot{\\phi} \\dot{\\psi} + \\sin{\\left(\\phi \\right)} \\ddot{\\theta} - \\sin{\\left(\\theta \\right)} \\cos{\\left(\\phi \\right)} \\dot{\\psi} \\dot{\\theta} + \\cos{\\left(\\phi \\right)} \\cos{\\left(\\theta \\right)} \\ddot{\\psi} + \\cos{\\left(\\phi \\right)} \\dot{\\phi} \\dot{\\theta}\\right) \\sin{\\left(\\phi \\right)}\\\\- \\frac{I_{xx} \\left(- 2 \\sin{\\left(\\phi \\right)} \\dot{\\theta} - 2 \\cos{\\left(\\phi \\right)} \\cos{\\left(\\theta \\right)} \\dot{\\psi}\\right) \\left(- \\sin{\\left(\\phi \\right)} \\cos{\\left(\\theta \\right)} \\dot{\\psi} + \\cos{\\left(\\phi \\right)} \\dot{\\theta}\\right)}{2} + \\frac{I_{yy} \\left(2 \\sin{\\left(\\theta \\right)} \\ddot{\\psi} + 2 \\cos{\\left(\\theta \\right)} \\dot{\\psi} \\dot{\\theta} + 2 \\ddot{\\phi}\\right)}{2} - \\frac{I_{zz} \\left(\\sin{\\left(\\phi \\right)} \\dot{\\theta} + \\cos{\\left(\\phi \\right)} \\cos{\\left(\\theta \\right)} \\dot{\\psi}\\right) \\left(- 2 \\sin{\\left(\\phi \\right)} \\cos{\\left(\\theta \\right)} \\dot{\\psi} + 2 \\cos{\\left(\\phi \\right)} \\dot{\\theta}\\right)}{2}\\\\m \\ddot{x}\\\\m \\ddot{y}\\\\m \\ddot{z}\\end{matrix}\\right]$"
      ],
      "text/plain": [
       "⎡I_{xx}⋅(-sin(φ)⋅cos(θ)⋅ψ̇ + cos(φ)⋅θ̇)⋅sin(φ)⋅sin(θ)⋅θ̇ - I_{xx}⋅(-sin(φ)⋅cos\n",
       "⎢                                                                             \n",
       "⎢                                   -I_{xx}⋅(-sin(φ)⋅cos(θ)⋅ψ̇ + cos(φ)⋅θ̇)⋅si\n",
       "⎢                                                                             \n",
       "⎢                                                                             \n",
       "⎢                                                                             \n",
       "⎢                                                                             \n",
       "⎢                                                                             \n",
       "⎢                                                                             \n",
       "⎢                                                                             \n",
       "⎢                                                                             \n",
       "⎢                                                                             \n",
       "⎣                                                                             \n",
       "\n",
       "(θ)⋅ψ̇ + cos(φ)⋅θ̇)⋅cos(φ)⋅cos(θ)⋅φ̇ - I_{xx}⋅(sin(φ)⋅sin(θ)⋅ψ̇⋅θ̇ - sin(φ)⋅co\n",
       "                                                                              \n",
       "n(φ)⋅sin(θ)⋅ψ̇ - I_{xx}⋅(-sin(φ)⋅cos(θ)⋅ψ̇ + cos(φ)⋅θ̇)⋅sin(φ)⋅φ̇ + I_{xx}⋅(si\n",
       "                                                                              \n",
       "                                                                              \n",
       "                                                                              \n",
       "                                                                              \n",
       "                                                                              \n",
       "                                                                              \n",
       "                                                                              \n",
       "                                                                              \n",
       "                                                                              \n",
       "                                                                              \n",
       "\n",
       "s(θ)⋅ψ̈ - sin(φ)⋅φ̇⋅θ̇ - cos(φ)⋅cos(θ)⋅φ̇⋅ψ̇ + cos(φ)⋅θ̈)⋅sin(φ)⋅cos(θ) + I_{y\n",
       "                                                                              \n",
       "n(φ)⋅sin(θ)⋅ψ̇⋅θ̇ - sin(φ)⋅cos(θ)⋅ψ̈ - sin(φ)⋅φ̇⋅θ̇ - cos(φ)⋅cos(θ)⋅φ̇⋅ψ̇ + co\n",
       "                                                                              \n",
       "     I_{xx}⋅(-2⋅sin(φ)⋅θ̇ - 2⋅cos(φ)⋅cos(θ)⋅ψ̇)⋅(-sin(φ)⋅cos(θ)⋅ψ̇ + cos(φ)⋅θ̇\n",
       "   - ────────────────────────────────────────────────────────────────────── + \n",
       "                                       2                                      \n",
       "                                                                              \n",
       "                                                                              \n",
       "                                                                              \n",
       "                                                                              \n",
       "                                                                              \n",
       "                                                                              \n",
       "\n",
       "y}⋅(sin(θ)⋅ψ̇ + φ̇)⋅cos(θ)⋅θ̇ + I_{yy}⋅(sin(θ)⋅ψ̈ + cos(θ)⋅ψ̇⋅θ̇ + φ̈)⋅sin(θ) \n",
       "                                                                              \n",
       "s(φ)⋅θ̈)⋅cos(φ) - I_{yy}⋅(sin(θ)⋅ψ̇ + φ̇)⋅cos(θ)⋅ψ̇ + I_{zz}⋅(sin(φ)⋅θ̇ + cos(\n",
       "                                                                              \n",
       ")   I_{yy}⋅(2⋅sin(θ)⋅ψ̈ + 2⋅cos(θ)⋅ψ̇⋅θ̇ + 2⋅φ̈)   I_{zz}⋅(sin(φ)⋅θ̇ + cos(φ)⋅\n",
       "──────────────────────────────────────── - ───────────────────────────────────\n",
       "                   2                                                         2\n",
       "                                                                              \n",
       "                 m⋅ẍ                                                         \n",
       "                                                                              \n",
       "                 m⋅ÿ                                                         \n",
       "                                                                              \n",
       "                 m⋅z̈                                                         \n",
       "\n",
       "- I_{zz}⋅(sin(φ)⋅θ̇ + cos(φ)⋅cos(θ)⋅ψ̇)⋅sin(φ)⋅cos(θ)⋅φ̇ - I_{zz}⋅(sin(φ)⋅θ̇ +\n",
       "                                                                              \n",
       "φ)⋅cos(θ)⋅ψ̇)⋅sin(θ)⋅cos(φ)⋅ψ̇ + I_{zz}⋅(sin(φ)⋅θ̇ + cos(φ)⋅cos(θ)⋅ψ̇)⋅cos(φ)⋅\n",
       "                                                                              \n",
       "cos(θ)⋅ψ̇)⋅(-2⋅sin(φ)⋅cos(θ)⋅ψ̇ + 2⋅cos(φ)⋅θ̇)                                \n",
       "──────────────────────────────────                                            \n",
       "                                                                              \n",
       "                                                                              \n",
       "                                                                              \n",
       "                                                                              \n",
       "                                                                              \n",
       "                                                                              \n",
       "                                                                              \n",
       "\n",
       " cos(φ)⋅cos(θ)⋅ψ̇)⋅sin(θ)⋅cos(φ)⋅θ̇ + I_{zz}⋅(-sin(φ)⋅cos(θ)⋅φ̇⋅ψ̇ + sin(φ)⋅θ̈\n",
       "                                                                              \n",
       "φ̇ + I_{zz}⋅(-sin(φ)⋅cos(θ)⋅φ̇⋅ψ̇ + sin(φ)⋅θ̈ - sin(θ)⋅cos(φ)⋅ψ̇⋅θ̇ + cos(φ)⋅c\n",
       "                                                                              \n",
       "                                                                              \n",
       "                                                                              \n",
       "                                                                              \n",
       "                                                                              \n",
       "                                                                              \n",
       "                                                                              \n",
       "                                                                              \n",
       "                                                                              \n",
       "                                                                              \n",
       "\n",
       " - sin(θ)⋅cos(φ)⋅ψ̇⋅θ̇ + cos(φ)⋅cos(θ)⋅ψ̈ + cos(φ)⋅φ̇⋅θ̇)⋅cos(φ)⋅cos(θ)⎤\n",
       "                                    ⎥\n",
       "os(θ)⋅ψ̈ + cos(φ)⋅φ̇⋅θ̇)⋅sin(φ)                                    ⎥\n",
       "                                    ⎥\n",
       "                                                ⎥\n",
       "                                    ⎥\n",
       "                                    ⎥\n",
       "                                    ⎥\n",
       "                                     ⎥\n",
       "                                    ⎥\n",
       "                                     ⎥\n",
       "                                    ⎥\n",
       "                                     ⎦"
      ]
     },
     "execution_count": 7,
     "metadata": {},
     "output_type": "execute_result"
    }
   ],
   "source": [
    "K_as_matrix = sm.Matrix([K])\n",
    "Fs = (K_as_matrix.jacobian(qd).diff(t) - K_as_matrix.jacobian(q)).transpose()\n",
    "Fs"
   ]
  },
  {
   "cell_type": "code",
   "execution_count": 8,
   "id": "a1110b87",
   "metadata": {
    "execution": {
     "iopub.execute_input": "2025-01-22T13:09:17.778040Z",
     "iopub.status.busy": "2025-01-22T13:09:17.777876Z",
     "iopub.status.idle": "2025-01-22T13:09:18.133446Z",
     "shell.execute_reply": "2025-01-22T13:09:18.132945Z"
    }
   },
   "outputs": [
    {
     "data": {
      "text/latex": [
       "$\\displaystyle \\left[\\begin{matrix}I_{xx} \\sin^{2}{\\left(\\phi \\right)} \\cos^{2}{\\left(\\theta \\right)} + I_{yy} \\sin^{2}{\\left(\\theta \\right)} + I_{zz} \\cos^{2}{\\left(\\phi \\right)} \\cos^{2}{\\left(\\theta \\right)} & \\left(- I_{xx} + I_{zz}\\right) \\sin{\\left(\\phi \\right)} \\cos{\\left(\\phi \\right)} \\cos{\\left(\\theta \\right)} & I_{yy} \\sin{\\left(\\theta \\right)} & 0 & 0 & 0\\\\\\left(- I_{xx} + I_{zz}\\right) \\sin{\\left(\\phi \\right)} \\cos{\\left(\\phi \\right)} \\cos{\\left(\\theta \\right)} & I_{xx} \\cos^{2}{\\left(\\phi \\right)} + I_{zz} \\sin^{2}{\\left(\\phi \\right)} & 0 & 0 & 0 & 0\\\\I_{yy} \\sin{\\left(\\theta \\right)} & 0 & I_{yy} & 0 & 0 & 0\\\\0 & 0 & 0 & m & 0 & 0\\\\0 & 0 & 0 & 0 & m & 0\\\\0 & 0 & 0 & 0 & 0 & m\\end{matrix}\\right]$"
      ],
      "text/plain": [
       "⎡          2       2                2                2       2                \n",
       "⎢I_{xx}⋅sin (φ)⋅cos (θ) + I_{yy}⋅sin (θ) + I_{zz}⋅cos (φ)⋅cos (θ)  (-I_{xx} + \n",
       "⎢                                                                             \n",
       "⎢                                                                             \n",
       "⎢            (-I_{xx} + I_{zz})⋅sin(φ)⋅cos(φ)⋅cos(θ)                   I_{xx}⋅\n",
       "⎢                                                                             \n",
       "⎢                         I_{yy}⋅sin(θ)                                       \n",
       "⎢                                                                             \n",
       "⎢                               0                                             \n",
       "⎢                                                                             \n",
       "⎢                               0                                             \n",
       "⎢                                                                             \n",
       "⎣                               0                                             \n",
       "\n",
       "                                                    ⎤\n",
       "I_{zz})⋅sin(φ)⋅cos(φ)⋅cos(θ)  I_{yy}⋅sin(θ)  0  0  0⎥\n",
       "                                                    ⎥\n",
       "   2                2                               ⎥\n",
       "cos (φ) + I_{zz}⋅sin (φ)            0        0  0  0⎥\n",
       "                                                    ⎥\n",
       "        0                        I_{yy}      0  0  0⎥\n",
       "                                                    ⎥\n",
       "        0                           0        m  0  0⎥\n",
       "                                                    ⎥\n",
       "        0                           0        0  m  0⎥\n",
       "                                                    ⎥\n",
       "        0                           0        0  0  m⎦"
      ]
     },
     "execution_count": 8,
     "metadata": {},
     "output_type": "execute_result"
    }
   ],
   "source": [
    "Md = Fs.jacobian(qdd)\n",
    "sm.trigsimp(Md)"
   ]
  },
  {
   "cell_type": "code",
   "execution_count": 9,
   "id": "823bf8d7",
   "metadata": {
    "execution": {
     "iopub.execute_input": "2025-01-22T13:09:18.135003Z",
     "iopub.status.busy": "2025-01-22T13:09:18.134841Z",
     "iopub.status.idle": "2025-01-22T13:09:21.927950Z",
     "shell.execute_reply": "2025-01-22T13:09:21.927531Z"
    }
   },
   "outputs": [
    {
     "data": {
      "text/latex": [
       "$\\displaystyle \\left[\\begin{matrix}\\frac{I_{xx} \\sin{\\left(2 \\left(\\phi - \\theta\\right) \\right)} \\dot{\\phi} \\dot{\\psi}}{4} - \\frac{I_{xx} \\sin{\\left(2 \\left(\\phi - \\theta\\right) \\right)} \\dot{\\psi} \\dot{\\theta}}{4} + \\frac{I_{xx} \\sin{\\left(2 \\left(\\phi + \\theta\\right) \\right)} \\dot{\\phi} \\dot{\\psi}}{4} + \\frac{I_{xx} \\sin{\\left(2 \\left(\\phi + \\theta\\right) \\right)} \\dot{\\psi} \\dot{\\theta}}{4} + \\frac{I_{xx} \\sin{\\left(2 \\phi \\right)} \\dot{\\phi} \\dot{\\psi}}{2} - \\frac{I_{xx} \\sin{\\left(2 \\theta \\right)} \\dot{\\psi} \\dot{\\theta}}{2} - \\frac{I_{xx} \\cos{\\left(2 \\phi - \\theta \\right)} \\dot{\\phi} \\dot{\\theta}}{2} + \\frac{I_{xx} \\cos{\\left(2 \\phi - \\theta \\right)} \\dot{\\theta}^{2}}{4} - \\frac{I_{xx} \\cos{\\left(2 \\phi + \\theta \\right)} \\dot{\\phi} \\dot{\\theta}}{2} - \\frac{I_{xx} \\cos{\\left(2 \\phi + \\theta \\right)} \\dot{\\theta}^{2}}{4} + I_{yy} \\sin{\\left(2 \\theta \\right)} \\dot{\\psi} \\dot{\\theta} + I_{yy} \\cos{\\left(\\theta \\right)} \\dot{\\phi} \\dot{\\theta} - \\frac{I_{zz} \\sin{\\left(2 \\left(\\phi - \\theta\\right) \\right)} \\dot{\\phi} \\dot{\\psi}}{4} + \\frac{I_{zz} \\sin{\\left(2 \\left(\\phi - \\theta\\right) \\right)} \\dot{\\psi} \\dot{\\theta}}{4} - \\frac{I_{zz} \\sin{\\left(2 \\left(\\phi + \\theta\\right) \\right)} \\dot{\\phi} \\dot{\\psi}}{4} - \\frac{I_{zz} \\sin{\\left(2 \\left(\\phi + \\theta\\right) \\right)} \\dot{\\psi} \\dot{\\theta}}{4} - \\frac{I_{zz} \\sin{\\left(2 \\phi \\right)} \\dot{\\phi} \\dot{\\psi}}{2} - \\frac{I_{zz} \\sin{\\left(2 \\theta \\right)} \\dot{\\psi} \\dot{\\theta}}{2} + \\frac{I_{zz} \\cos{\\left(2 \\phi - \\theta \\right)} \\dot{\\phi} \\dot{\\theta}}{2} - \\frac{I_{zz} \\cos{\\left(2 \\phi - \\theta \\right)} \\dot{\\theta}^{2}}{4} + \\frac{I_{zz} \\cos{\\left(2 \\phi + \\theta \\right)} \\dot{\\phi} \\dot{\\theta}}{2} + \\frac{I_{zz} \\cos{\\left(2 \\phi + \\theta \\right)} \\dot{\\theta}^{2}}{4}\\\\\\frac{I_{xx} \\sin{\\left(2 \\left(\\phi - \\theta\\right) \\right)} \\dot{\\psi}^{2}}{8} - \\frac{I_{xx} \\sin{\\left(2 \\left(\\phi + \\theta\\right) \\right)} \\dot{\\psi}^{2}}{8} - I_{xx} \\sin{\\left(2 \\phi \\right)} \\dot{\\phi} \\dot{\\theta} + \\frac{I_{xx} \\sin{\\left(2 \\theta \\right)} \\dot{\\psi}^{2}}{4} - \\frac{I_{xx} \\cos{\\left(2 \\phi - \\theta \\right)} \\dot{\\phi} \\dot{\\psi}}{2} - \\frac{I_{xx} \\cos{\\left(2 \\phi + \\theta \\right)} \\dot{\\phi} \\dot{\\psi}}{2} - \\frac{I_{yy} \\sin{\\left(2 \\theta \\right)} \\dot{\\psi}^{2}}{2} - I_{yy} \\cos{\\left(\\theta \\right)} \\dot{\\phi} \\dot{\\psi} - \\frac{I_{zz} \\sin{\\left(2 \\left(\\phi - \\theta\\right) \\right)} \\dot{\\psi}^{2}}{8} + \\frac{I_{zz} \\sin{\\left(2 \\left(\\phi + \\theta\\right) \\right)} \\dot{\\psi}^{2}}{8} + I_{zz} \\sin{\\left(2 \\phi \\right)} \\dot{\\phi} \\dot{\\theta} + \\frac{I_{zz} \\sin{\\left(2 \\theta \\right)} \\dot{\\psi}^{2}}{4} + \\frac{I_{zz} \\cos{\\left(2 \\phi - \\theta \\right)} \\dot{\\phi} \\dot{\\psi}}{2} + \\frac{I_{zz} \\cos{\\left(2 \\phi + \\theta \\right)} \\dot{\\phi} \\dot{\\psi}}{2}\\\\I_{xx} \\left(\\sin{\\left(\\phi \\right)} \\dot{\\theta} + \\cos{\\left(\\phi \\right)} \\cos{\\left(\\theta \\right)} \\dot{\\psi}\\right) \\left(- \\sin{\\left(\\phi \\right)} \\cos{\\left(\\theta \\right)} \\dot{\\psi} + \\cos{\\left(\\phi \\right)} \\dot{\\theta}\\right) + I_{yy} \\cos{\\left(\\theta \\right)} \\dot{\\psi} \\dot{\\theta} - I_{zz} \\left(\\sin{\\left(\\phi \\right)} \\dot{\\theta} + \\cos{\\left(\\phi \\right)} \\cos{\\left(\\theta \\right)} \\dot{\\psi}\\right) \\left(- \\sin{\\left(\\phi \\right)} \\cos{\\left(\\theta \\right)} \\dot{\\psi} + \\cos{\\left(\\phi \\right)} \\dot{\\theta}\\right)\\\\0\\\\0\\\\0\\end{matrix}\\right]$"
      ],
      "text/plain": [
       "⎡                                                                             \n",
       "⎢I_{xx}⋅sin(2⋅(φ - θ))⋅φ̇⋅ψ̇   I_{xx}⋅sin(2⋅(φ - θ))⋅ψ̇⋅θ̇   I_{xx}⋅sin(2⋅(φ +\n",
       "⎢───────────────────────── - ───────────────────────── + ─────────────────────\n",
       "⎢            4                           4                           4        \n",
       "⎢                                                                             \n",
       "⎢                                                                             \n",
       "⎢                                                                             \n",
       "⎢                                                                             \n",
       "⎢                                                                             \n",
       "⎢                                                                             \n",
       "⎢                                                                             \n",
       "⎢                                                                             \n",
       "⎢                                                                             \n",
       "⎢                                                                             \n",
       "⎢                                                                             \n",
       "⎢                                                                             \n",
       "⎣                                                                             \n",
       "\n",
       "                                                                              \n",
       " θ))⋅φ̇⋅ψ̇   I_{xx}⋅sin(2⋅(φ + θ))⋅ψ̇⋅θ̇   I_{xx}⋅sin(2⋅φ)⋅φ̇⋅ψ̇   I_{xx}⋅sin(\n",
       "──── + ───────────────────────── + ─────────────────── - ─────────────────── -\n",
       "                   4                        2                     2           \n",
       "                                                                              \n",
       "                                                       2                      \n",
       "                                I_{xx}⋅sin(2⋅(φ - θ))⋅ψ̇    I_{xx}⋅sin(2⋅(φ + \n",
       "                                ──────────────────────── - ───────────────────\n",
       "                                           8                          8       \n",
       "                                                                              \n",
       "                                                                              \n",
       "                                                                              \n",
       "                                                                              \n",
       "                                                                              \n",
       "                                                                              \n",
       "                                                                              \n",
       "                                                                              \n",
       "\n",
       "                                                2                             \n",
       "2⋅θ)⋅ψ̇⋅θ̇   I_{xx}⋅cos(2⋅φ - θ)⋅φ̇⋅θ̇   I_{xx}⋅cos(2⋅φ - θ)⋅θ̇    I_{xx}⋅cos(\n",
       " ─────────────────────── + ────────────────────── - ─────────────────────── - \n",
       "            2                        4                         2              \n",
       "                                                                              \n",
       "    2                                          2                              \n",
       "θ))⋅ψ̇                          I_{xx}⋅sin(2⋅θ)⋅ψ̇    I_{xx}⋅cos(2⋅φ - θ)⋅φ̇⋅ψ\n",
       "───── - I_{xx}⋅sin(2⋅φ)⋅φ̇⋅θ̇ + ────────────────── - ─────────────────────── -\n",
       "                                      4                       2               \n",
       "                                                                              \n",
       "                                              I_{xx}⋅(sin(φ)⋅θ̇ + cos(φ)⋅cos(θ\n",
       "                                                                              \n",
       "                                                                              \n",
       "                                                                              \n",
       "                                                                              \n",
       "                                                                              \n",
       "                                                                              \n",
       "\n",
       "                     2                                                        \n",
       "2⋅φ + θ)⋅φ̇⋅θ̇   I_{xx}⋅cos(2⋅φ + θ)⋅θ̇                                       \n",
       "────────────────────── + I_{yy}⋅sin(2⋅θ)⋅ψ̇⋅θ̇ + I_{yy}⋅cos(θ)⋅φ̇⋅θ̇ - ───────\n",
       "          4                                                                   \n",
       "                                                                              \n",
       "                                          2                                   \n",
       "̇   I_{xx}⋅cos(2⋅φ + θ)⋅φ̇⋅ψ̇   I_{yy}⋅sin(2⋅θ)⋅ψ̇                        I_{z\n",
       " ─────────────────────── - ────────────────── - I_{yy}⋅cos(θ)⋅φ̇⋅ψ̇ - ────────\n",
       "          2                      2                                           8\n",
       "                                                                              \n",
       ")⋅ψ̇)⋅(-sin(φ)⋅cos(θ)⋅ψ̇ + cos(φ)⋅θ̇) + I_{yy}⋅cos(θ)⋅ψ̇⋅θ̇ - I_{zz}⋅(sin(φ)⋅θ\n",
       "                                                                              \n",
       "                                            0                                 \n",
       "                                                                              \n",
       "                                            0                                 \n",
       "                                                                              \n",
       "                                            0                                 \n",
       "\n",
       "                                                                              \n",
       "       I_{zz}⋅sin(2⋅(φ - θ))⋅φ̇⋅ψ̇   I_{zz}⋅sin(2⋅(φ - θ))⋅ψ̇⋅θ̇   I_{zz}⋅sin(\n",
       "────────────────── + ───────────────────────── - ───────────────────────── - ─\n",
       " 4                           4                           4                    \n",
       "                                                                              \n",
       "           2                          2                                       \n",
       "z}⋅sin(2⋅(φ - θ))⋅ψ̇    I_{zz}⋅sin(2⋅(φ + θ))⋅ψ̇                          I_{z\n",
       "──────────────── + ──────────────────────── + I_{zz}⋅sin(2⋅φ)⋅φ̇⋅θ̇ + ────────\n",
       "                          8                                             4     \n",
       "                                                                              \n",
       "̇ + cos(φ)⋅cos(θ)⋅ψ̇)⋅(-sin(φ)⋅cos(θ)⋅ψ̇ + cos(φ)⋅θ̇)                         \n",
       "                                                                              \n",
       "                                                                              \n",
       "                                                                              \n",
       "                                                                              \n",
       "                                                                              \n",
       "                                                                              \n",
       "\n",
       "                                                                              \n",
       "2⋅(φ + θ))⋅φ̇⋅ψ̇   I_{zz}⋅sin(2⋅(φ + θ))⋅ψ̇⋅θ̇   I_{zz}⋅sin(2⋅φ)⋅φ̇⋅ψ̇   I_{zz\n",
       "──────────────────────── - ─────────────────── - ─────────────────── + ───────\n",
       "       4                        2                     2                       \n",
       "                                                                              \n",
       "   2                                                                          \n",
       "z}⋅sin(2⋅θ)⋅ψ̇    I_{zz}⋅cos(2⋅φ - θ)⋅φ̇⋅ψ̇   I_{zz}⋅cos(2⋅φ + θ)⋅φ̇⋅ψ̇       \n",
       "────────── + ─────────────────────── + ───────────────────────                \n",
       "                  2                         2                                 \n",
       "                                                                              \n",
       "                                                                              \n",
       "                                                                              \n",
       "                                                                              \n",
       "                                                                              \n",
       "                                                                              \n",
       "                                                                              \n",
       "                                                                              \n",
       "\n",
       "                                    2                                         \n",
       "}⋅sin(2⋅θ)⋅ψ̇⋅θ̇   I_{zz}⋅cos(2⋅φ - θ)⋅φ̇⋅θ̇   I_{zz}⋅cos(2⋅φ - θ)⋅θ̇    I_{zz\n",
       "──────────────── - ────────────────────── + ─────────────────────── + ────────\n",
       "2                        4                         2                        4 \n",
       "                                                                              \n",
       "                                                                              \n",
       "                                                                              \n",
       "                                                                              \n",
       "                                                                              \n",
       "                                                                              \n",
       "                                                                              \n",
       "                                                                              \n",
       "                                                                              \n",
       "                                                                              \n",
       "                                                                              \n",
       "                                                                              \n",
       "                                                                              \n",
       "\n",
       "         2⎤\n",
       "}⋅cos(2⋅φ + θ)⋅φ̇⋅θ̇   I_{zz}⋅cos(2⋅φ + θ)⋅θ̇ ⎥\n",
       "──────────────⎥\n",
       "          ⎥\n",
       "          ⎥\n",
       "          ⎥\n",
       "                         ⎥\n",
       "                ⎥\n",
       "          ⎥\n",
       "          ⎥\n",
       "                    ⎥\n",
       "          ⎥\n",
       "          ⎥\n",
       "          ⎥\n",
       "          ⎥\n",
       "          ⎥\n",
       "          ⎦"
      ]
     },
     "execution_count": 9,
     "metadata": {},
     "output_type": "execute_result"
    }
   ],
   "source": [
    "qdd_zerod = {qddr: 0 for qddr in qdd}\n",
    "gd = Fs.xreplace(qdd_zerod)\n",
    "sm.trigsimp(gd)"
   ]
  },
  {
   "cell_type": "code",
   "execution_count": 10,
   "id": "f1160cf3",
   "metadata": {
    "execution": {
     "iopub.execute_input": "2025-01-22T13:09:21.929398Z",
     "iopub.status.busy": "2025-01-22T13:09:21.929249Z",
     "iopub.status.idle": "2025-01-22T13:09:21.946371Z",
     "shell.execute_reply": "2025-01-22T13:09:21.945932Z"
    }
   },
   "outputs": [],
   "source": [
    "m, g, kt, kl, l = sm.symbols('m, g, k_t, k_l, l')\n",
    "q1, q2, q3 = me.dynamicsymbols('q1, q2, q3')\n",
    "t = me.dynamicsymbols._t\n",
    "\n",
    "q = sm.Matrix([q1, q2, q3])\n",
    "qd = q.diff(t)\n",
    "qdd = qd.diff(t)\n",
    "\n",
    "N = me.ReferenceFrame('N')\n",
    "A = me.ReferenceFrame('A')\n",
    "B = me.ReferenceFrame('B')\n",
    "\n",
    "A.orient_axis(N, q1, N.z)\n",
    "B.orient_axis(A, q2, A.x)\n",
    "\n",
    "O = me.Point('O')\n",
    "Ao = me.Point('A_O')\n",
    "Bo = me.Point('B_O')\n",
    "Q = me.Point('Q')\n",
    "\n",
    "Ao.set_pos(O, l/2*A.x)\n",
    "Bo.set_pos(O, l*A.x)\n",
    "Q.set_pos(Bo, q3*B.y)\n",
    "\n",
    "O.set_vel(N, 0)\n",
    "\n",
    "I = m*l**2/12\n",
    "I_A_Ao = I*me.outer(A.y, A.y) + I*me.outer(A.z, A.z)\n",
    "I_B_Bo = I*me.outer(B.x, B.x) + I*me.outer(B.z, B.z)"
   ]
  },
  {
   "cell_type": "code",
   "execution_count": 11,
   "id": "331c5fb5",
   "metadata": {
    "execution": {
     "iopub.execute_input": "2025-01-22T13:09:21.947677Z",
     "iopub.status.busy": "2025-01-22T13:09:21.947536Z",
     "iopub.status.idle": "2025-01-22T13:09:21.958880Z",
     "shell.execute_reply": "2025-01-22T13:09:21.958381Z"
    }
   },
   "outputs": [
    {
     "data": {
      "text/latex": [
       "$\\displaystyle \\frac{l^{2} m \\dot{q}_{1}^{2}}{6}$"
      ],
      "text/plain": [
       " 2     2\n",
       "l ⋅m⋅q₁̇ \n",
       "────────\n",
       "   6    "
      ]
     },
     "execution_count": 11,
     "metadata": {},
     "output_type": "execute_result"
    }
   ],
   "source": [
    "KA = m*Ao.vel(N).dot(Ao.vel(N))/2 + A.ang_vel_in(N).dot(I_A_Ao.dot(A.ang_vel_in(N)))/2\n",
    "KA"
   ]
  },
  {
   "cell_type": "code",
   "execution_count": 12,
   "id": "c16d448d",
   "metadata": {
    "execution": {
     "iopub.execute_input": "2025-01-22T13:09:21.960253Z",
     "iopub.status.busy": "2025-01-22T13:09:21.960102Z",
     "iopub.status.idle": "2025-01-22T13:09:21.981059Z",
     "shell.execute_reply": "2025-01-22T13:09:21.980562Z"
    }
   },
   "outputs": [
    {
     "data": {
      "text/latex": [
       "$\\displaystyle \\frac{l^{2} m \\cos^{2}{\\left(q_{2} \\right)} \\dot{q}_{1}^{2}}{24} + \\frac{l^{2} m \\dot{q}_{1}^{2}}{2} + \\frac{l^{2} m \\dot{q}_{2}^{2}}{24}$"
      ],
      "text/plain": [
       " 2      2       2    2     2    2     2\n",
       "l ⋅m⋅cos (q₂)⋅q₁̇    l ⋅m⋅q₁̇    l ⋅m⋅q₂̇ \n",
       "───────────────── + ──────── + ────────\n",
       "        24             2          24   "
      ]
     },
     "execution_count": 12,
     "metadata": {},
     "output_type": "execute_result"
    }
   ],
   "source": [
    "KB = m*Bo.vel(N).dot(Bo.vel(N))/2 + B.ang_vel_in(N).dot(I_B_Bo.dot(B.ang_vel_in(N)))/2\n",
    "KB"
   ]
  },
  {
   "cell_type": "code",
   "execution_count": 13,
   "id": "78ce6f3e",
   "metadata": {
    "execution": {
     "iopub.execute_input": "2025-01-22T13:09:21.982406Z",
     "iopub.status.busy": "2025-01-22T13:09:21.982260Z",
     "iopub.status.idle": "2025-01-22T13:09:22.004312Z",
     "shell.execute_reply": "2025-01-22T13:09:22.003791Z"
    }
   },
   "outputs": [
    {
     "data": {
      "text/latex": [
       "$\\displaystyle \\frac{m \\left(l^{2} \\dot{q}_{1}^{2} + l \\left(- q_{3} \\sin{\\left(q_{2} \\right)} \\dot{q}_{2} + \\cos{\\left(q_{2} \\right)} \\dot{q}_{3}\\right) \\dot{q}_{1} - l q_{3} \\sin{\\left(q_{2} \\right)} \\dot{q}_{1} \\dot{q}_{2} + l \\cos{\\left(q_{2} \\right)} \\dot{q}_{1} \\dot{q}_{3} + q_{3}^{2} \\cos^{2}{\\left(q_{2} \\right)} \\dot{q}_{1}^{2} + q_{3}^{2} \\dot{q}_{2}^{2} + \\dot{q}_{3}^{2}\\right)}{8}$"
      ],
      "text/plain": [
       "  ⎛ 2   2                                                                     \n",
       "m⋅⎝l ⋅q₁̇  + l⋅(-q₃⋅sin(q₂)⋅q₂̇ + cos(q₂)⋅q₃̇)⋅q₁̇ - l⋅q₃⋅sin(q₂)⋅q₁̇⋅q₂̇ + l⋅\n",
       "──────────────────────────────────────────────────────────────────────────────\n",
       "                                                            8                 \n",
       "\n",
       "            2    2       2     2   2     2⎞\n",
       "cos(q₂)⋅q₁̇⋅q₃̇ + q₃ ⋅cos (q₂)⋅q₁̇  + q₃ ⋅q₂̇  + q₃̇ ⎠\n",
       "───────────────────────────────────────────\n",
       "                                           "
      ]
     },
     "execution_count": 13,
     "metadata": {},
     "output_type": "execute_result"
    }
   ],
   "source": [
    "KQ = m/4*Q.vel(N).dot(Q.vel(N))/2\n",
    "KQ"
   ]
  },
  {
   "cell_type": "code",
   "execution_count": 14,
   "id": "788f554a",
   "metadata": {
    "execution": {
     "iopub.execute_input": "2025-01-22T13:09:22.005980Z",
     "iopub.status.busy": "2025-01-22T13:09:22.005605Z",
     "iopub.status.idle": "2025-01-22T13:09:22.008285Z",
     "shell.execute_reply": "2025-01-22T13:09:22.007787Z"
    }
   },
   "outputs": [],
   "source": [
    "K = KA + KB + KQ"
   ]
  },
  {
   "cell_type": "code",
   "execution_count": 15,
   "id": "e6c90bf3",
   "metadata": {
    "execution": {
     "iopub.execute_input": "2025-01-22T13:09:22.009883Z",
     "iopub.status.busy": "2025-01-22T13:09:22.009530Z",
     "iopub.status.idle": "2025-01-22T13:09:22.018950Z",
     "shell.execute_reply": "2025-01-22T13:09:22.018467Z"
    }
   },
   "outputs": [
    {
     "data": {
      "text/latex": [
       "$\\displaystyle - \\frac{3 g l m \\cos{\\left(q_{1} \\right)}}{2} + \\frac{g m \\left(- l \\cos{\\left(q_{1} \\right)} + q_{3} \\sin{\\left(q_{1} \\right)} \\cos{\\left(q_{2} \\right)}\\right)}{4}$"
      ],
      "text/plain": [
       "  3⋅g⋅l⋅m⋅cos(q₁)   g⋅m⋅(-l⋅cos(q₁) + q₃⋅sin(q₁)⋅cos(q₂))\n",
       "- ─────────────── + ─────────────────────────────────────\n",
       "         2                            4                  "
      ]
     },
     "execution_count": 15,
     "metadata": {},
     "output_type": "execute_result"
    }
   ],
   "source": [
    "V_grav = m*g*(Ao.pos_from(O) + Bo.pos_from(O)).dot(-N.x) + m/4*g*Q.pos_from(O).dot(-N.x)\n",
    "V_grav"
   ]
  },
  {
   "cell_type": "code",
   "execution_count": 16,
   "id": "87247d75",
   "metadata": {
    "execution": {
     "iopub.execute_input": "2025-01-22T13:09:22.020693Z",
     "iopub.status.busy": "2025-01-22T13:09:22.020230Z",
     "iopub.status.idle": "2025-01-22T13:09:22.027169Z",
     "shell.execute_reply": "2025-01-22T13:09:22.026642Z"
    }
   },
   "outputs": [
    {
     "data": {
      "text/latex": [
       "$\\displaystyle \\frac{k_{l} q_{3}^{2}}{2} + \\frac{k_{t} q_{1}^{2}}{2} + \\frac{k_{t} q_{2}^{2}}{2}$"
      ],
      "text/plain": [
       "     2        2        2\n",
       "kₗ⋅q₃    kₜ⋅q₁    kₜ⋅q₂ \n",
       "────── + ────── + ──────\n",
       "  2        2        2   "
      ]
     },
     "execution_count": 16,
     "metadata": {},
     "output_type": "execute_result"
    }
   ],
   "source": [
    "V_springs = kt/2*q1**2 + kt/2*q2**2 + kl/2*q3**2\n",
    "V_springs"
   ]
  },
  {
   "cell_type": "code",
   "execution_count": 17,
   "id": "2b7c10ad",
   "metadata": {
    "execution": {
     "iopub.execute_input": "2025-01-22T13:09:22.028540Z",
     "iopub.status.busy": "2025-01-22T13:09:22.028400Z",
     "iopub.status.idle": "2025-01-22T13:09:22.030891Z",
     "shell.execute_reply": "2025-01-22T13:09:22.030461Z"
    }
   },
   "outputs": [],
   "source": [
    "V = V_grav + V_springs"
   ]
  },
  {
   "cell_type": "code",
   "execution_count": 18,
   "id": "0d17fe64",
   "metadata": {
    "execution": {
     "iopub.execute_input": "2025-01-22T13:09:22.032158Z",
     "iopub.status.busy": "2025-01-22T13:09:22.032001Z",
     "iopub.status.idle": "2025-01-22T13:09:23.784069Z",
     "shell.execute_reply": "2025-01-22T13:09:23.783596Z"
    }
   },
   "outputs": [
    {
     "data": {
      "text/latex": [
       "$\\displaystyle \\left[\\begin{matrix}\\frac{7 g l m \\cos{\\left(q_{1} \\right)}}{4} - \\frac{g m q_{3} \\sin{\\left(q_{1} \\right)} \\cos{\\left(q_{2} \\right)}}{4} - \\frac{k_{l} q_{3}^{2}}{2} - \\frac{k_{t} q_{1}^{2}}{2} - \\frac{k_{t} q_{2}^{2}}{2} + \\frac{l^{2} m \\cos^{2}{\\left(q_{2} \\right)} \\dot{q}_{1}^{2}}{24} + \\frac{19 l^{2} m \\dot{q}_{1}^{2}}{24} + \\frac{l^{2} m \\dot{q}_{2}^{2}}{24} - \\frac{l m q_{3} \\sin{\\left(q_{2} \\right)} \\dot{q}_{1} \\dot{q}_{2}}{4} + \\frac{l m \\cos{\\left(q_{2} \\right)} \\dot{q}_{1} \\dot{q}_{3}}{4} + \\frac{m q_{3}^{2} \\cos^{2}{\\left(q_{2} \\right)} \\dot{q}_{1}^{2}}{8} + \\frac{m q_{3}^{2} \\dot{q}_{2}^{2}}{8} + \\frac{m \\dot{q}_{3}^{2}}{8}\\end{matrix}\\right]$"
      ],
      "text/plain": [
       "⎡                                                2        2        2    2     \n",
       "⎢7⋅g⋅l⋅m⋅cos(q₁)   g⋅m⋅q₃⋅sin(q₁)⋅cos(q₂)   kₗ⋅q₃    kₜ⋅q₁    kₜ⋅q₂    l ⋅m⋅co\n",
       "⎢─────────────── - ────────────────────── - ────── - ────── - ────── + ───────\n",
       "⎣       4                    4                2        2        2             \n",
       "\n",
       " 2       2       2     2    2     2                                           \n",
       "s (q₂)⋅q₁̇    19⋅l ⋅m⋅q₁̇    l ⋅m⋅q₂̇    l⋅m⋅q₃⋅sin(q₂)⋅q₁̇⋅q₂̇   l⋅m⋅cos(q₂)⋅\n",
       "────────── + ─────────── + ──────── - ──────────────────── + ─────────────────\n",
       " 24               24          24               4                     4        \n",
       "\n",
       "       2    2       2       2   2       2⎤\n",
       "q₁̇⋅q₃̇   m⋅q₃ ⋅cos (q₂)⋅q₁̇    m⋅q₃ ⋅q₂̇    m⋅q₃̇ ⎥\n",
       " + ────────────────── + ───────── + ─────⎥\n",
       "           8                8         8  ⎦"
      ]
     },
     "execution_count": 18,
     "metadata": {},
     "output_type": "execute_result"
    }
   ],
   "source": [
    "L = sm.Matrix([K - V])\n",
    "sm.trigsimp(L)"
   ]
  },
  {
   "cell_type": "code",
   "execution_count": 19,
   "id": "c738e6cb",
   "metadata": {
    "execution": {
     "iopub.execute_input": "2025-01-22T13:09:23.785436Z",
     "iopub.status.busy": "2025-01-22T13:09:23.785285Z",
     "iopub.status.idle": "2025-01-22T13:09:26.588423Z",
     "shell.execute_reply": "2025-01-22T13:09:26.587992Z"
    }
   },
   "outputs": [
    {
     "data": {
      "text/latex": [
       "$\\displaystyle \\left( \\left\\{q_{2}, q_{3}\\right\\}, \\  \\left\\{q_{1}, q_{2}, q_{3}, \\dot{q}_{1}, \\dot{q}_{2}, \\dot{q}_{3}\\right\\}\\right)$"
      ],
      "text/plain": [
       "({q₂, q₃}, {q₁, q₂, q₃, q₁̇, q₂̇, q₃̇})"
      ]
     },
     "execution_count": 19,
     "metadata": {},
     "output_type": "execute_result"
    }
   ],
   "source": [
    "fd = -(L.jacobian(qd).diff(t) - L.jacobian(q)).transpose()\n",
    "qdd_zerod = {qddr: 0 for qddr in qdd}\n",
    "Md = fd.jacobian(qdd)\n",
    "gd = sm.trigsimp(fd.xreplace(qdd_zerod))\n",
    "me.find_dynamicsymbols(Md), me.find_dynamicsymbols(gd)"
   ]
  },
  {
   "cell_type": "code",
   "execution_count": 20,
   "id": "9cfe7be3",
   "metadata": {
    "execution": {
     "iopub.execute_input": "2025-01-22T13:09:26.590087Z",
     "iopub.status.busy": "2025-01-22T13:09:26.589749Z",
     "iopub.status.idle": "2025-01-22T13:09:26.600213Z",
     "shell.execute_reply": "2025-01-22T13:09:26.599723Z"
    }
   },
   "outputs": [
    {
     "data": {
      "text/latex": [
       "$\\displaystyle \\left[\\begin{matrix}- \\frac{l^{2} m \\cos^{2}{\\left(q_{2} \\right)}}{12} - \\frac{4 l^{2} m}{3} - \\frac{m \\left(2 l^{2} + 2 q_{3}^{2} \\cos^{2}{\\left(q_{2} \\right)}\\right)}{8} & \\frac{l m q_{3} \\sin{\\left(q_{2} \\right)}}{4} & - \\frac{l m \\cos{\\left(q_{2} \\right)}}{4}\\\\\\frac{l m q_{3} \\sin{\\left(q_{2} \\right)}}{4} & - \\frac{l^{2} m}{12} - \\frac{m q_{3}^{2}}{4} & 0\\\\- \\frac{l m \\cos{\\left(q_{2} \\right)}}{4} & 0 & - \\frac{m}{4}\\end{matrix}\\right]$"
      ],
      "text/plain": [
       "⎡   2      2          2       ⎛   2       2    2    ⎞                         \n",
       "⎢  l ⋅m⋅cos (q₂)   4⋅l ⋅m   m⋅⎝2⋅l  + 2⋅q₃ ⋅cos (q₂)⎠  l⋅m⋅q₃⋅sin(q₂)  -l⋅m⋅co\n",
       "⎢- ───────────── - ────── - ─────────────────────────  ──────────────  ───────\n",
       "⎢        12          3                  8                    4               4\n",
       "⎢                                                                             \n",
       "⎢                                                         2         2         \n",
       "⎢                   l⋅m⋅q₃⋅sin(q₂)                       l ⋅m   m⋅q₃          \n",
       "⎢                   ──────────────                     - ──── - ─────        0\n",
       "⎢                         4                               12      4           \n",
       "⎢                                                                             \n",
       "⎢                   -l⋅m⋅cos(q₂)                                            -m\n",
       "⎢                   ─────────────                            0              ──\n",
       "⎣                         4                                                  4\n",
       "\n",
       "      ⎤\n",
       "s(q₂) ⎥\n",
       "──────⎥\n",
       "      ⎥\n",
       "      ⎥\n",
       "      ⎥\n",
       "      ⎥\n",
       "      ⎥\n",
       "      ⎥\n",
       "      ⎥\n",
       "      ⎥\n",
       "─     ⎥\n",
       "      ⎦"
      ]
     },
     "execution_count": 20,
     "metadata": {},
     "output_type": "execute_result"
    }
   ],
   "source": [
    "Md"
   ]
  },
  {
   "cell_type": "code",
   "execution_count": 21,
   "id": "18fb655e",
   "metadata": {
    "execution": {
     "iopub.execute_input": "2025-01-22T13:09:26.601572Z",
     "iopub.status.busy": "2025-01-22T13:09:26.601437Z",
     "iopub.status.idle": "2025-01-22T13:09:26.625890Z",
     "shell.execute_reply": "2025-01-22T13:09:26.625499Z"
    }
   },
   "outputs": [
    {
     "data": {
      "text/latex": [
       "$\\displaystyle \\left[\\begin{matrix}- \\frac{7 g l m \\sin{\\left(q_{1} \\right)}}{4} - \\frac{g m q_{3} \\cos{\\left(q_{1} - q_{2} \\right)}}{8} - \\frac{g m q_{3} \\cos{\\left(q_{1} + q_{2} \\right)}}{8} - k_{t} q_{1} + \\frac{l^{2} m \\sin{\\left(2 q_{2} \\right)} \\dot{q}_{1} \\dot{q}_{2}}{12} + \\frac{l m q_{3} \\cos{\\left(q_{2} \\right)} \\dot{q}_{2}^{2}}{4} + \\frac{l m \\sin{\\left(q_{2} \\right)} \\dot{q}_{2} \\dot{q}_{3}}{2} + \\frac{m q_{3}^{2} \\sin{\\left(2 q_{2} \\right)} \\dot{q}_{1} \\dot{q}_{2}}{4} - \\frac{m q_{3} \\cos{\\left(2 q_{2} \\right)} \\dot{q}_{1} \\dot{q}_{3}}{4} - \\frac{m q_{3} \\dot{q}_{1} \\dot{q}_{3}}{4}\\\\\\frac{g m q_{3} \\cos{\\left(q_{1} - q_{2} \\right)}}{8} - \\frac{g m q_{3} \\cos{\\left(q_{1} + q_{2} \\right)}}{8} - k_{t} q_{2} - \\frac{l^{2} m \\sin{\\left(2 q_{2} \\right)} \\dot{q}_{1}^{2}}{24} - \\frac{m q_{3}^{2} \\sin{\\left(2 q_{2} \\right)} \\dot{q}_{1}^{2}}{8} - \\frac{m q_{3} \\dot{q}_{2} \\dot{q}_{3}}{2}\\\\- \\frac{g m \\sin{\\left(q_{1} \\right)} \\cos{\\left(q_{2} \\right)}}{4} - k_{l} q_{3} + \\frac{m q_{3} \\cos^{2}{\\left(q_{2} \\right)} \\dot{q}_{1}^{2}}{4} + \\frac{m q_{3} \\dot{q}_{2}^{2}}{4}\\end{matrix}\\right]$"
      ],
      "text/plain": [
       "⎡                                                                         2   \n",
       "⎢  7⋅g⋅l⋅m⋅sin(q₁)   g⋅m⋅q₃⋅cos(q₁ - q₂)   g⋅m⋅q₃⋅cos(q₁ + q₂)           l ⋅m⋅\n",
       "⎢- ─────────────── - ─────────────────── - ─────────────────── - kₜ⋅q₁ + ─────\n",
       "⎢         4                   8                     8                         \n",
       "⎢                                                                             \n",
       "⎢                                                                             \n",
       "⎢                                            g⋅m⋅q₃⋅cos(q₁ - q₂)   g⋅m⋅q₃⋅cos(\n",
       "⎢                                            ─────────────────── - ───────────\n",
       "⎢                                                     8                     8 \n",
       "⎢                                                                             \n",
       "⎢                                                                             \n",
       "⎢                                                                    g⋅m⋅sin(q\n",
       "⎢                                                                  - ─────────\n",
       "⎣                                                                             \n",
       "\n",
       "                                   2                           2              \n",
       "sin(2⋅q₂)⋅q₁̇⋅q₂̇   l⋅m⋅q₃⋅cos(q₂)⋅q₂̇    l⋅m⋅sin(q₂)⋅q₂̇⋅q₃̇   m⋅q₃ ⋅sin(2⋅q₂\n",
       "─────────────── + ────────────────── + ───────────────── + ───────────────────\n",
       "    12                    4                    2                     4        \n",
       "                                                                              \n",
       "                    2               2       2             2                   \n",
       "q₁ + q₂)           l ⋅m⋅sin(2⋅q₂)⋅q₁̇    m⋅q₃ ⋅sin(2⋅q₂)⋅q₁̇    m⋅q₃⋅q₂̇⋅q₃̇  \n",
       "──────── - kₜ⋅q₂ - ────────────────── - ─────────────────── - ──────────      \n",
       "                           24                    8                2           \n",
       "                                                                              \n",
       "                             2       2          2                             \n",
       "₁)⋅cos(q₂)           m⋅q₃⋅cos (q₂)⋅q₁̇    m⋅q₃⋅q₂̇                            \n",
       "────────── - kₗ⋅q₃ + ───────────────── + ────────                             \n",
       "4                            4              4                                 \n",
       "\n",
       "                                      ⎤\n",
       ")⋅q₁̇⋅q₂̇   m⋅q₃⋅cos(2⋅q₂)⋅q₁̇⋅q₃̇   m⋅q₃⋅q₁̇⋅q₃̇⎥\n",
       "── - ──────────────────── - ──────────⎥\n",
       "              4                 4     ⎥\n",
       "                                      ⎥\n",
       "                                      ⎥\n",
       "                                          ⎥\n",
       "                                      ⎥\n",
       "                                      ⎥\n",
       "                                      ⎥\n",
       "                                      ⎥\n",
       "                                        ⎥\n",
       "                                      ⎥\n",
       "                                      ⎦"
      ]
     },
     "execution_count": 21,
     "metadata": {},
     "output_type": "execute_result"
    }
   ],
   "source": [
    "gd"
   ]
  },
  {
   "cell_type": "code",
   "execution_count": 22,
   "id": "cabdebcb",
   "metadata": {
    "execution": {
     "iopub.execute_input": "2025-01-22T13:09:26.627308Z",
     "iopub.status.busy": "2025-01-22T13:09:26.627153Z",
     "iopub.status.idle": "2025-01-22T13:09:27.158696Z",
     "shell.execute_reply": "2025-01-22T13:09:27.158220Z"
    }
   },
   "outputs": [
    {
     "data": {
      "text/latex": [
       "$\\displaystyle \\left[\\begin{matrix}\\frac{m \\left(l^{2} \\cos^{2}{\\left(q_{2} \\right)} \\dot{q}_{1} + 19 l^{2} \\dot{q}_{1} - 3 l q_{3} \\sin{\\left(q_{2} \\right)} \\dot{q}_{2} + 3 l \\cos{\\left(q_{2} \\right)} \\dot{q}_{3} + 3 q_{3}^{2} \\cos^{2}{\\left(q_{2} \\right)} \\dot{q}_{1}\\right)}{12}\\\\\\frac{l^{2} m \\dot{q}_{2}}{12} + \\frac{m \\left(- l \\sin{\\left(q_{2} \\right)} \\dot{q}_{1} + q_{3} \\dot{q}_{2}\\right) q_{3}}{4}\\\\\\frac{m \\left(l \\cos{\\left(q_{2} \\right)} \\dot{q}_{1} + \\dot{q}_{3}\\right)}{4}\\end{matrix}\\right]$"
      ],
      "text/plain": [
       "⎡  ⎛ 2    2              2                                               2    \n",
       "⎢m⋅⎝l ⋅cos (q₂)⋅q₁̇ + 19⋅l ⋅q₁̇ - 3⋅l⋅q₃⋅sin(q₂)⋅q₂̇ + 3⋅l⋅cos(q₂)⋅q₃̇ + 3⋅q₃ \n",
       "⎢─────────────────────────────────────────────────────────────────────────────\n",
       "⎢                                          12                                 \n",
       "⎢                                                                             \n",
       "⎢                         2                                                   \n",
       "⎢                        l ⋅m⋅q₂̇   m⋅(-l⋅sin(q₂)⋅q₁̇ + q₃⋅q₂̇)⋅q₃            \n",
       "⎢                        ─────── + ────────────────────────────               \n",
       "⎢                           12                  4                             \n",
       "⎢                                                                             \n",
       "⎢                                m⋅(l⋅cos(q₂)⋅q₁̇ + q₃̇)                      \n",
       "⎢                                ─────────────────────                        \n",
       "⎣                                          4                                  \n",
       "\n",
       "2       ⎞⎤\n",
       "⋅cos (q₂)⋅q₁̇⎠⎥\n",
       "─────────⎥\n",
       "         ⎥\n",
       "         ⎥\n",
       "         ⎥\n",
       "            ⎥\n",
       "         ⎥\n",
       "         ⎥\n",
       "         ⎥\n",
       "           ⎥\n",
       "         ⎥\n",
       "         ⎦"
      ]
     },
     "execution_count": 22,
     "metadata": {},
     "output_type": "execute_result"
    }
   ],
   "source": [
    "p = L.jacobian(qd).transpose()\n",
    "sm.trigsimp(p)"
   ]
  },
  {
   "cell_type": "code",
   "execution_count": 23,
   "id": "38317591",
   "metadata": {
    "execution": {
     "iopub.execute_input": "2025-01-22T13:09:27.160132Z",
     "iopub.status.busy": "2025-01-22T13:09:27.159956Z",
     "iopub.status.idle": "2025-01-22T13:09:27.170393Z",
     "shell.execute_reply": "2025-01-22T13:09:27.169971Z"
    }
   },
   "outputs": [],
   "source": [
    "psi,theta, phi, x, y, z = me.dynamicsymbols('psi theta phi x y z')\n",
    "N = me.ReferenceFrame('N')\n",
    "B = me.ReferenceFrame('B')\n",
    "B.orient_body_fixed(N, (psi, theta, phi), 'zxy')\n",
    "\n",
    "# Mass and inertia\n",
    "m, Ixx, Iyy, Izz = sm.symbols('M, I_{xx}, I_{yy}, I_{zz}')\n",
    "I_B = me.inertia(B, Ixx, Iyy, Izz)"
   ]
  },
  {
   "cell_type": "code",
   "execution_count": 24,
   "id": "1a121f9c",
   "metadata": {
    "execution": {
     "iopub.execute_input": "2025-01-22T13:09:27.171652Z",
     "iopub.status.busy": "2025-01-22T13:09:27.171513Z",
     "iopub.status.idle": "2025-01-22T13:09:27.184781Z",
     "shell.execute_reply": "2025-01-22T13:09:27.184416Z"
    }
   },
   "outputs": [],
   "source": [
    "omega_B = B.ang_vel_in(N)\n",
    "r_com = x*N.x + y*N.y + z*N.z\n",
    "v_com = r_com.dt(N)\n",
    "K = omega_B.dot(I_B.dot(omega_B))/2 + m*v_com.dot(v_com)/2"
   ]
  },
  {
   "cell_type": "code",
   "execution_count": 25,
   "id": "cb949f54",
   "metadata": {
    "execution": {
     "iopub.execute_input": "2025-01-22T13:09:27.186072Z",
     "iopub.status.busy": "2025-01-22T13:09:27.185912Z",
     "iopub.status.idle": "2025-01-22T13:09:27.390862Z",
     "shell.execute_reply": "2025-01-22T13:09:27.390356Z"
    }
   },
   "outputs": [],
   "source": [
    "t = me.dynamicsymbols._t\n",
    "q = sm.Matrix([psi, theta, phi, x, y, z])\n",
    "qd = q.diff(t)\n",
    "qdd = qd.diff(t)\n",
    "\n",
    "L = sm.Matrix([K])\n",
    "fd = L.jacobian(qd).diff(t) - L.jacobian(q)\n",
    "\n",
    "qdd_zerod = {qddr: 0 for qddr in qdd}\n",
    "Md = fd.jacobian(qdd)\n",
    "gd = fd.xreplace(qdd_zerod)"
   ]
  },
  {
   "cell_type": "code",
   "execution_count": 26,
   "id": "d3f417a8",
   "metadata": {
    "execution": {
     "iopub.execute_input": "2025-01-22T13:09:27.392685Z",
     "iopub.status.busy": "2025-01-22T13:09:27.392362Z",
     "iopub.status.idle": "2025-01-22T13:09:28.616280Z",
     "shell.execute_reply": "2025-01-22T13:09:28.615734Z"
    }
   },
   "outputs": [
    {
     "data": {
      "text/latex": [
       "$\\displaystyle \\left[\\begin{matrix}- r \\left(\\sin{\\left(\\psi \\right)} \\dot{\\theta} + \\cos{\\left(\\psi \\right)} \\cos{\\left(\\theta \\right)} \\dot{\\phi}\\right) + \\dot{x}\\\\r \\left(- \\sin{\\left(\\psi \\right)} \\cos{\\left(\\theta \\right)} \\dot{\\phi} + \\cos{\\left(\\psi \\right)} \\dot{\\theta}\\right) + \\dot{y}\\\\\\dot{z}\\end{matrix}\\right]$"
      ],
      "text/plain": [
       "⎡-r⋅(sin(ψ)⋅θ̇ + cos(ψ)⋅cos(θ)⋅φ̇) + ẋ⎤\n",
       "⎢                                   ⎥\n",
       "⎢r⋅(-sin(ψ)⋅cos(θ)⋅φ̇ + cos(ψ)⋅θ̇) + ẏ⎥\n",
       "⎢                                   ⎥\n",
       "⎣                 ż                 ⎦"
      ]
     },
     "execution_count": 26,
     "metadata": {},
     "output_type": "execute_result"
    }
   ],
   "source": [
    "r = sm.symbols('r')\n",
    "lambda1, lambda2, lambda3 = me.dynamicsymbols('lambda1, lambda2, lambda3')\n",
    "\n",
    "constraint = (v_com + B.ang_vel_in(N).cross(-r*N.z)).to_matrix(N)\n",
    "sm.trigsimp(constraint)"
   ]
  },
  {
   "cell_type": "code",
   "execution_count": 27,
   "id": "c970d51b",
   "metadata": {
    "execution": {
     "iopub.execute_input": "2025-01-22T13:09:28.618261Z",
     "iopub.status.busy": "2025-01-22T13:09:28.617756Z",
     "iopub.status.idle": "2025-01-22T13:09:29.573451Z",
     "shell.execute_reply": "2025-01-22T13:09:29.572981Z"
    }
   },
   "outputs": [
    {
     "data": {
      "text/latex": [
       "$\\displaystyle \\left[\\begin{matrix}0 & - r \\sin{\\left(\\psi \\right)} & - r \\cos{\\left(\\psi \\right)} \\cos{\\left(\\theta \\right)} & 1 & 0 & 0\\\\0 & r \\cos{\\left(\\psi \\right)} & - r \\sin{\\left(\\psi \\right)} \\cos{\\left(\\theta \\right)} & 0 & 1 & 0\\\\0 & 0 & 0 & 0 & 0 & 1\\end{matrix}\\right]$"
      ],
      "text/plain": [
       "⎡0  -r⋅sin(ψ)  -r⋅cos(ψ)⋅cos(θ)  1  0  0⎤\n",
       "⎢                                       ⎥\n",
       "⎢0  r⋅cos(ψ)   -r⋅sin(ψ)⋅cos(θ)  0  1  0⎥\n",
       "⎢                                       ⎥\n",
       "⎣0      0             0          0  0  1⎦"
      ]
     },
     "execution_count": 27,
     "metadata": {},
     "output_type": "execute_result"
    }
   ],
   "source": [
    "Mhn = constraint.jacobian(qd)\n",
    "sm.trigsimp(Mhn)"
   ]
  },
  {
   "cell_type": "code",
   "execution_count": 28,
   "id": "96d8dd34",
   "metadata": {
    "execution": {
     "iopub.execute_input": "2025-01-22T13:09:29.574856Z",
     "iopub.status.busy": "2025-01-22T13:09:29.574711Z",
     "iopub.status.idle": "2025-01-22T13:09:29.716690Z",
     "shell.execute_reply": "2025-01-22T13:09:29.716219Z"
    }
   },
   "outputs": [
    {
     "data": {
      "text/latex": [
       "$\\displaystyle \\left[\\begin{matrix}0 & 0 & 0 & 0 & 0 & 0\\\\0 & 0 & 0 & 0 & 0 & 0\\\\0 & 0 & 0 & 0 & 0 & 0\\end{matrix}\\right]$"
      ],
      "text/plain": [
       "⎡0  0  0  0  0  0⎤\n",
       "⎢                ⎥\n",
       "⎢0  0  0  0  0  0⎥\n",
       "⎢                ⎥\n",
       "⎣0  0  0  0  0  0⎦"
      ]
     },
     "execution_count": 28,
     "metadata": {},
     "output_type": "execute_result"
    }
   ],
   "source": [
    "diff_constraint = constraint.diff(t)\n",
    "diff_constraint.jacobian(qdd) - Mhn"
   ]
  },
  {
   "cell_type": "code",
   "execution_count": 29,
   "id": "04c1a5f3",
   "metadata": {
    "execution": {
     "iopub.execute_input": "2025-01-22T13:09:29.718186Z",
     "iopub.status.busy": "2025-01-22T13:09:29.718009Z",
     "iopub.status.idle": "2025-01-22T13:09:34.096582Z",
     "shell.execute_reply": "2025-01-22T13:09:34.096118Z"
    }
   },
   "outputs": [
    {
     "data": {
      "text/latex": [
       "$\\displaystyle \\left[\\begin{matrix}- r \\left(- \\sin{\\left(\\psi \\right)} \\cos{\\left(\\theta \\right)} \\dot{\\phi} \\dot{\\psi} - \\sin{\\left(\\theta \\right)} \\cos{\\left(\\psi \\right)} \\dot{\\phi} \\dot{\\theta} + \\cos{\\left(\\psi \\right)} \\dot{\\psi} \\dot{\\theta}\\right)\\\\r \\left(\\sin{\\left(\\psi \\right)} \\sin{\\left(\\theta \\right)} \\dot{\\phi} \\dot{\\theta} - \\sin{\\left(\\psi \\right)} \\dot{\\psi} \\dot{\\theta} - \\cos{\\left(\\psi \\right)} \\cos{\\left(\\theta \\right)} \\dot{\\phi} \\dot{\\psi}\\right)\\\\0\\end{matrix}\\right]$"
      ],
      "text/plain": [
       "⎡-r⋅(-sin(ψ)⋅cos(θ)⋅φ̇⋅ψ̇ - sin(θ)⋅cos(ψ)⋅φ̇⋅θ̇ + cos(ψ)⋅ψ̇⋅θ̇)⎤\n",
       "⎢                                                        ⎥\n",
       "⎢ r⋅(sin(ψ)⋅sin(θ)⋅φ̇⋅θ̇ - sin(ψ)⋅ψ̇⋅θ̇ - cos(ψ)⋅cos(θ)⋅φ̇⋅ψ̇) ⎥\n",
       "⎢                                                        ⎥\n",
       "⎣                           0                            ⎦"
      ]
     },
     "execution_count": 29,
     "metadata": {},
     "output_type": "execute_result"
    }
   ],
   "source": [
    "ghnd = diff_constraint.xreplace({qddr : 0 for qddr in qdd})\n",
    "sm.trigsimp(ghnd)"
   ]
  }
 ],
 "metadata": {
  "kernelspec": {
   "display_name": "Python 3 (ipykernel)",
   "language": "python",
   "name": "python3"
  },
  "language_info": {
   "codemirror_mode": {
    "name": "ipython",
    "version": 3
   },
   "file_extension": ".py",
   "mimetype": "text/x-python",
   "name": "python",
   "nbconvert_exporter": "python",
   "pygments_lexer": "ipython3",
   "version": "3.11.11"
  }
 },
 "nbformat": 4,
 "nbformat_minor": 5
}