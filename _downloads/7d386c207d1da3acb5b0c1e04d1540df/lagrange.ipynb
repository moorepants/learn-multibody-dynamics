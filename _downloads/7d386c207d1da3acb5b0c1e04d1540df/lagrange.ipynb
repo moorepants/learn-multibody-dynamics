{
 "cells": [
  {
   "cell_type": "code",
   "execution_count": 1,
   "id": "03e58787",
   "metadata": {
    "execution": {
     "iopub.execute_input": "2025-09-25T05:54:35.116639Z",
     "iopub.status.busy": "2025-09-25T05:54:35.116489Z",
     "iopub.status.idle": "2025-09-25T05:54:35.453771Z",
     "shell.execute_reply": "2025-09-25T05:54:35.453184Z"
    }
   },
   "outputs": [],
   "source": [
    "import sympy as sm\n",
    "import sympy.physics.mechanics as me\n",
    "me.init_vprinting(use_latex='mathjax')"
   ]
  },
  {
   "cell_type": "code",
   "execution_count": 2,
   "id": "4d5e84b3",
   "metadata": {
    "execution": {
     "iopub.execute_input": "2025-09-25T05:54:35.455604Z",
     "iopub.status.busy": "2025-09-25T05:54:35.455422Z",
     "iopub.status.idle": "2025-09-25T05:54:35.458841Z",
     "shell.execute_reply": "2025-09-25T05:54:35.458450Z"
    }
   },
   "outputs": [],
   "source": [
    "class ReferenceFrame(me.ReferenceFrame):\n",
    "\n",
    "    def __init__(self, *args, **kwargs):\n",
    "\n",
    "        kwargs.pop('latexs', None)\n",
    "\n",
    "        lab = args[0].lower()\n",
    "        tex = r'\\hat{{{}}}_{}'\n",
    "\n",
    "        super(ReferenceFrame, self).__init__(*args,\n",
    "                                             latexs=(tex.format(lab, 'x'),\n",
    "                                                     tex.format(lab, 'y'),\n",
    "                                                     tex.format(lab, 'z')),\n",
    "                                             **kwargs)\n",
    "me.ReferenceFrame = ReferenceFrame"
   ]
  },
  {
   "cell_type": "code",
   "execution_count": 3,
   "id": "4e6d1374",
   "metadata": {
    "execution": {
     "iopub.execute_input": "2025-09-25T05:54:35.460099Z",
     "iopub.status.busy": "2025-09-25T05:54:35.459957Z",
     "iopub.status.idle": "2025-09-25T05:54:35.483538Z",
     "shell.execute_reply": "2025-09-25T05:54:35.483163Z"
    }
   },
   "outputs": [
    {
     "data": {
      "text/latex": [
       "$\\displaystyle \\left( \\left[\\begin{matrix}\\psi\\\\\\theta\\\\\\phi\\\\x\\\\y\\\\z\\end{matrix}\\right], \\  \\left[\\begin{matrix}\\dot{\\psi}\\\\\\dot{\\theta}\\\\\\dot{\\phi}\\\\\\dot{x}\\\\\\dot{y}\\\\\\dot{z}\\end{matrix}\\right], \\  \\left[\\begin{matrix}\\ddot{\\psi}\\\\\\ddot{\\theta}\\\\\\ddot{\\phi}\\\\\\ddot{x}\\\\\\ddot{y}\\\\\\ddot{z}\\end{matrix}\\right]\\right)$"
      ],
      "text/plain": [
       "⎛⎡ψ⎤  ⎡ψ̇⎤  ⎡ψ̈⎤⎞\n",
       "⎜⎢ ⎥  ⎢ ⎥  ⎢ ⎥⎟\n",
       "⎜⎢θ⎥  ⎢θ̇⎥  ⎢θ̈⎥⎟\n",
       "⎜⎢ ⎥  ⎢ ⎥  ⎢ ⎥⎟\n",
       "⎜⎢φ⎥  ⎢φ̇⎥  ⎢φ̈⎥⎟\n",
       "⎜⎢ ⎥, ⎢ ⎥, ⎢ ⎥⎟\n",
       "⎜⎢x⎥  ⎢ẋ⎥  ⎢ẍ⎥⎟\n",
       "⎜⎢ ⎥  ⎢ ⎥  ⎢ ⎥⎟\n",
       "⎜⎢y⎥  ⎢ẏ⎥  ⎢ÿ⎥⎟\n",
       "⎜⎢ ⎥  ⎢ ⎥  ⎢ ⎥⎟\n",
       "⎝⎣z⎦  ⎣ż⎦  ⎣z̈⎦⎠"
      ]
     },
     "execution_count": 3,
     "metadata": {},
     "output_type": "execute_result"
    }
   ],
   "source": [
    "t = me.dynamicsymbols._t\n",
    "m, Ixx, Iyy, Izz = sm.symbols('m, I_{xx}, I_{yy}, I_{zz}')\n",
    "psi, theta, phi, x, y, z = me.dynamicsymbols('psi, theta, phi, x, y, z')\n",
    "\n",
    "q = sm.Matrix([psi, theta, phi, x, y, z])\n",
    "qd = q.diff(t)\n",
    "qdd = qd.diff(t)\n",
    "\n",
    "q, qd, qdd"
   ]
  },
  {
   "cell_type": "code",
   "execution_count": 4,
   "id": "50d5f61e",
   "metadata": {
    "execution": {
     "iopub.execute_input": "2025-09-25T05:54:35.484775Z",
     "iopub.status.busy": "2025-09-25T05:54:35.484634Z",
     "iopub.status.idle": "2025-09-25T05:54:35.498765Z",
     "shell.execute_reply": "2025-09-25T05:54:35.498382Z"
    }
   },
   "outputs": [],
   "source": [
    "N = me.ReferenceFrame('N')\n",
    "B = me.ReferenceFrame('B')\n",
    "B.orient_body_fixed(N, (psi, theta, phi), 'zxy')\n",
    "\n",
    "I_B = me.inertia(B, Ixx, Iyy, Izz)"
   ]
  },
  {
   "cell_type": "code",
   "execution_count": 5,
   "id": "0704e678",
   "metadata": {
    "execution": {
     "iopub.execute_input": "2025-09-25T05:54:35.499989Z",
     "iopub.status.busy": "2025-09-25T05:54:35.499852Z",
     "iopub.status.idle": "2025-09-25T05:54:35.524403Z",
     "shell.execute_reply": "2025-09-25T05:54:35.524010Z"
    }
   },
   "outputs": [
    {
     "data": {
      "text/latex": [
       "$\\displaystyle \\frac{I_{xx} \\left(- \\sin{\\left(\\phi \\right)} \\cos{\\left(\\theta \\right)} \\dot{\\psi} + \\cos{\\left(\\phi \\right)} \\dot{\\theta}\\right)^{2}}{2} + \\frac{I_{yy} \\left(\\sin{\\left(\\theta \\right)} \\dot{\\psi} + \\dot{\\phi}\\right)^{2}}{2} + \\frac{I_{zz} \\left(\\sin{\\left(\\phi \\right)} \\dot{\\theta} + \\cos{\\left(\\phi \\right)} \\cos{\\left(\\theta \\right)} \\dot{\\psi}\\right)^{2}}{2} + \\frac{m \\left(\\dot{x}^{2} + \\dot{y}^{2} + \\dot{z}^{2}\\right)}{2}$"
      ],
      "text/plain": [
       "                                    2                        2                \n",
       "I_{xx}⋅(-sin(φ)⋅cos(θ)⋅ψ̇ + cos(φ)⋅θ̇)    I_{yy}⋅(sin(θ)⋅ψ̇ + φ̇)    I_{zz}⋅(s\n",
       "───────────────────────────────────── + ────────────────────── + ─────────────\n",
       "                  2                               2                           \n",
       "\n",
       "                      2     ⎛ 2    2    2⎞\n",
       "in(φ)⋅θ̇ + cos(φ)⋅cos(θ)⋅ψ̇)    m⋅⎝ẋ  + ẏ  + ż ⎠\n",
       "─────────────────────── + ────────────────\n",
       "    2                            2        "
      ]
     },
     "execution_count": 5,
     "metadata": {},
     "output_type": "execute_result"
    }
   ],
   "source": [
    "N_w_B = B.ang_vel_in(N)\n",
    "r_O_Bo = x*N.x + y*N.y + z*N.z\n",
    "N_v_C = r_O_Bo.dt(N)\n",
    "K = m*N_v_C.dot(N_v_C)/2 + N_w_B.dot(I_B.dot(N_w_B))/2\n",
    "K"
   ]
  },
  {
   "cell_type": "code",
   "execution_count": 6,
   "id": "3ba24350",
   "metadata": {
    "execution": {
     "iopub.execute_input": "2025-09-25T05:54:35.525658Z",
     "iopub.status.busy": "2025-09-25T05:54:35.525518Z",
     "iopub.status.idle": "2025-09-25T05:54:35.615713Z",
     "shell.execute_reply": "2025-09-25T05:54:35.615268Z"
    }
   },
   "outputs": [
    {
     "data": {
      "text/latex": [
       "$\\displaystyle I_{xx} \\left(- \\sin{\\left(\\phi \\right)} \\cos{\\left(\\theta \\right)} \\dot{\\psi} + \\cos{\\left(\\phi \\right)} \\dot{\\theta}\\right) \\sin{\\left(\\phi \\right)} \\sin{\\left(\\theta \\right)} \\dot{\\theta} - I_{xx} \\left(- \\sin{\\left(\\phi \\right)} \\cos{\\left(\\theta \\right)} \\dot{\\psi} + \\cos{\\left(\\phi \\right)} \\dot{\\theta}\\right) \\cos{\\left(\\phi \\right)} \\cos{\\left(\\theta \\right)} \\dot{\\phi} - I_{xx} \\left(\\sin{\\left(\\phi \\right)} \\sin{\\left(\\theta \\right)} \\dot{\\psi} \\dot{\\theta} - \\sin{\\left(\\phi \\right)} \\cos{\\left(\\theta \\right)} \\ddot{\\psi} - \\sin{\\left(\\phi \\right)} \\dot{\\phi} \\dot{\\theta} - \\cos{\\left(\\phi \\right)} \\cos{\\left(\\theta \\right)} \\dot{\\phi} \\dot{\\psi} + \\cos{\\left(\\phi \\right)} \\ddot{\\theta}\\right) \\sin{\\left(\\phi \\right)} \\cos{\\left(\\theta \\right)} + I_{yy} \\left(\\sin{\\left(\\theta \\right)} \\dot{\\psi} + \\dot{\\phi}\\right) \\cos{\\left(\\theta \\right)} \\dot{\\theta} + I_{yy} \\left(\\sin{\\left(\\theta \\right)} \\ddot{\\psi} + \\cos{\\left(\\theta \\right)} \\dot{\\psi} \\dot{\\theta} + \\ddot{\\phi}\\right) \\sin{\\left(\\theta \\right)} - I_{zz} \\left(\\sin{\\left(\\phi \\right)} \\dot{\\theta} + \\cos{\\left(\\phi \\right)} \\cos{\\left(\\theta \\right)} \\dot{\\psi}\\right) \\sin{\\left(\\phi \\right)} \\cos{\\left(\\theta \\right)} \\dot{\\phi} - I_{zz} \\left(\\sin{\\left(\\phi \\right)} \\dot{\\theta} + \\cos{\\left(\\phi \\right)} \\cos{\\left(\\theta \\right)} \\dot{\\psi}\\right) \\sin{\\left(\\theta \\right)} \\cos{\\left(\\phi \\right)} \\dot{\\theta} + I_{zz} \\left(- \\sin{\\left(\\phi \\right)} \\cos{\\left(\\theta \\right)} \\dot{\\phi} \\dot{\\psi} + \\sin{\\left(\\phi \\right)} \\ddot{\\theta} - \\sin{\\left(\\theta \\right)} \\cos{\\left(\\phi \\right)} \\dot{\\psi} \\dot{\\theta} + \\cos{\\left(\\phi \\right)} \\cos{\\left(\\theta \\right)} \\ddot{\\psi} + \\cos{\\left(\\phi \\right)} \\dot{\\phi} \\dot{\\theta}\\right) \\cos{\\left(\\phi \\right)} \\cos{\\left(\\theta \\right)}$"
      ],
      "text/plain": [
       "I_{xx}⋅(-sin(φ)⋅cos(θ)⋅ψ̇ + cos(φ)⋅θ̇)⋅sin(φ)⋅sin(θ)⋅θ̇ - I_{xx}⋅(-sin(φ)⋅cos(\n",
       "θ)⋅ψ̇ + cos(φ)⋅θ̇)⋅cos(φ)⋅cos(θ)⋅φ̇ - I_{xx}⋅(sin(φ)⋅sin(θ)⋅ψ̇⋅θ̇ - sin(φ)⋅cos\n",
       "(θ)⋅ψ̈ - sin(φ)⋅φ̇⋅θ̇ - cos(φ)⋅cos(θ)⋅φ̇⋅ψ̇ + cos(φ)⋅θ̈)⋅sin(φ)⋅cos(θ) + I_{yy\n",
       "}⋅(sin(θ)⋅ψ̇ + φ̇)⋅cos(θ)⋅θ̇ + I_{yy}⋅(sin(θ)⋅ψ̈ + cos(θ)⋅ψ̇⋅θ̇ + φ̈)⋅sin(θ) -\n",
       " I_{zz}⋅(sin(φ)⋅θ̇ + cos(φ)⋅cos(θ)⋅ψ̇)⋅sin(φ)⋅cos(θ)⋅φ̇ - I_{zz}⋅(sin(φ)⋅θ̇ + \n",
       "cos(φ)⋅cos(θ)⋅ψ̇)⋅sin(θ)⋅cos(φ)⋅θ̇ + I_{zz}⋅(-sin(φ)⋅cos(θ)⋅φ̇⋅ψ̇ + sin(φ)⋅θ̈ \n",
       "- sin(θ)⋅cos(φ)⋅ψ̇⋅θ̇ + cos(φ)⋅cos(θ)⋅ψ̈ + cos(φ)⋅φ̇⋅θ̇)⋅cos(φ)⋅cos(θ)"
      ]
     },
     "execution_count": 6,
     "metadata": {},
     "output_type": "execute_result"
    }
   ],
   "source": [
    "F_psi_s = K.diff(psi.diff(t)).diff(t) - K.diff(psi)\n",
    "F_psi_s"
   ]
  },
  {
   "cell_type": "code",
   "execution_count": 7,
   "id": "a7c1edf5",
   "metadata": {
    "execution": {
     "iopub.execute_input": "2025-09-25T05:54:35.617048Z",
     "iopub.status.busy": "2025-09-25T05:54:35.616905Z",
     "iopub.status.idle": "2025-09-25T05:54:35.817543Z",
     "shell.execute_reply": "2025-09-25T05:54:35.816996Z"
    }
   },
   "outputs": [
    {
     "data": {
      "text/latex": [
       "$\\displaystyle \\left[\\begin{matrix}I_{xx} \\left(- \\sin{\\left(\\phi \\right)} \\cos{\\left(\\theta \\right)} \\dot{\\psi} + \\cos{\\left(\\phi \\right)} \\dot{\\theta}\\right) \\sin{\\left(\\phi \\right)} \\sin{\\left(\\theta \\right)} \\dot{\\theta} - I_{xx} \\left(- \\sin{\\left(\\phi \\right)} \\cos{\\left(\\theta \\right)} \\dot{\\psi} + \\cos{\\left(\\phi \\right)} \\dot{\\theta}\\right) \\cos{\\left(\\phi \\right)} \\cos{\\left(\\theta \\right)} \\dot{\\phi} - I_{xx} \\left(\\sin{\\left(\\phi \\right)} \\sin{\\left(\\theta \\right)} \\dot{\\psi} \\dot{\\theta} - \\sin{\\left(\\phi \\right)} \\cos{\\left(\\theta \\right)} \\ddot{\\psi} - \\sin{\\left(\\phi \\right)} \\dot{\\phi} \\dot{\\theta} - \\cos{\\left(\\phi \\right)} \\cos{\\left(\\theta \\right)} \\dot{\\phi} \\dot{\\psi} + \\cos{\\left(\\phi \\right)} \\ddot{\\theta}\\right) \\sin{\\left(\\phi \\right)} \\cos{\\left(\\theta \\right)} + I_{yy} \\left(\\sin{\\left(\\theta \\right)} \\dot{\\psi} + \\dot{\\phi}\\right) \\cos{\\left(\\theta \\right)} \\dot{\\theta} + I_{yy} \\left(\\sin{\\left(\\theta \\right)} \\ddot{\\psi} + \\cos{\\left(\\theta \\right)} \\dot{\\psi} \\dot{\\theta} + \\ddot{\\phi}\\right) \\sin{\\left(\\theta \\right)} - I_{zz} \\left(\\sin{\\left(\\phi \\right)} \\dot{\\theta} + \\cos{\\left(\\phi \\right)} \\cos{\\left(\\theta \\right)} \\dot{\\psi}\\right) \\sin{\\left(\\phi \\right)} \\cos{\\left(\\theta \\right)} \\dot{\\phi} - I_{zz} \\left(\\sin{\\left(\\phi \\right)} \\dot{\\theta} + \\cos{\\left(\\phi \\right)} \\cos{\\left(\\theta \\right)} \\dot{\\psi}\\right) \\sin{\\left(\\theta \\right)} \\cos{\\left(\\phi \\right)} \\dot{\\theta} + I_{zz} \\left(- \\sin{\\left(\\phi \\right)} \\cos{\\left(\\theta \\right)} \\dot{\\phi} \\dot{\\psi} + \\sin{\\left(\\phi \\right)} \\ddot{\\theta} - \\sin{\\left(\\theta \\right)} \\cos{\\left(\\phi \\right)} \\dot{\\psi} \\dot{\\theta} + \\cos{\\left(\\phi \\right)} \\cos{\\left(\\theta \\right)} \\ddot{\\psi} + \\cos{\\left(\\phi \\right)} \\dot{\\phi} \\dot{\\theta}\\right) \\cos{\\left(\\phi \\right)} \\cos{\\left(\\theta \\right)}\\\\- I_{xx} \\left(- \\sin{\\left(\\phi \\right)} \\cos{\\left(\\theta \\right)} \\dot{\\psi} + \\cos{\\left(\\phi \\right)} \\dot{\\theta}\\right) \\sin{\\left(\\phi \\right)} \\sin{\\left(\\theta \\right)} \\dot{\\psi} - I_{xx} \\left(- \\sin{\\left(\\phi \\right)} \\cos{\\left(\\theta \\right)} \\dot{\\psi} + \\cos{\\left(\\phi \\right)} \\dot{\\theta}\\right) \\sin{\\left(\\phi \\right)} \\dot{\\phi} + I_{xx} \\left(\\sin{\\left(\\phi \\right)} \\sin{\\left(\\theta \\right)} \\dot{\\psi} \\dot{\\theta} - \\sin{\\left(\\phi \\right)} \\cos{\\left(\\theta \\right)} \\ddot{\\psi} - \\sin{\\left(\\phi \\right)} \\dot{\\phi} \\dot{\\theta} - \\cos{\\left(\\phi \\right)} \\cos{\\left(\\theta \\right)} \\dot{\\phi} \\dot{\\psi} + \\cos{\\left(\\phi \\right)} \\ddot{\\theta}\\right) \\cos{\\left(\\phi \\right)} - I_{yy} \\left(\\sin{\\left(\\theta \\right)} \\dot{\\psi} + \\dot{\\phi}\\right) \\cos{\\left(\\theta \\right)} \\dot{\\psi} + I_{zz} \\left(\\sin{\\left(\\phi \\right)} \\dot{\\theta} + \\cos{\\left(\\phi \\right)} \\cos{\\left(\\theta \\right)} \\dot{\\psi}\\right) \\sin{\\left(\\theta \\right)} \\cos{\\left(\\phi \\right)} \\dot{\\psi} + I_{zz} \\left(\\sin{\\left(\\phi \\right)} \\dot{\\theta} + \\cos{\\left(\\phi \\right)} \\cos{\\left(\\theta \\right)} \\dot{\\psi}\\right) \\cos{\\left(\\phi \\right)} \\dot{\\phi} + I_{zz} \\left(- \\sin{\\left(\\phi \\right)} \\cos{\\left(\\theta \\right)} \\dot{\\phi} \\dot{\\psi} + \\sin{\\left(\\phi \\right)} \\ddot{\\theta} - \\sin{\\left(\\theta \\right)} \\cos{\\left(\\phi \\right)} \\dot{\\psi} \\dot{\\theta} + \\cos{\\left(\\phi \\right)} \\cos{\\left(\\theta \\right)} \\ddot{\\psi} + \\cos{\\left(\\phi \\right)} \\dot{\\phi} \\dot{\\theta}\\right) \\sin{\\left(\\phi \\right)}\\\\- \\frac{I_{xx} \\left(- 2 \\sin{\\left(\\phi \\right)} \\dot{\\theta} - 2 \\cos{\\left(\\phi \\right)} \\cos{\\left(\\theta \\right)} \\dot{\\psi}\\right) \\left(- \\sin{\\left(\\phi \\right)} \\cos{\\left(\\theta \\right)} \\dot{\\psi} + \\cos{\\left(\\phi \\right)} \\dot{\\theta}\\right)}{2} + \\frac{I_{yy} \\left(2 \\sin{\\left(\\theta \\right)} \\ddot{\\psi} + 2 \\cos{\\left(\\theta \\right)} \\dot{\\psi} \\dot{\\theta} + 2 \\ddot{\\phi}\\right)}{2} - \\frac{I_{zz} \\left(\\sin{\\left(\\phi \\right)} \\dot{\\theta} + \\cos{\\left(\\phi \\right)} \\cos{\\left(\\theta \\right)} \\dot{\\psi}\\right) \\left(- 2 \\sin{\\left(\\phi \\right)} \\cos{\\left(\\theta \\right)} \\dot{\\psi} + 2 \\cos{\\left(\\phi \\right)} \\dot{\\theta}\\right)}{2}\\\\m \\ddot{x}\\\\m \\ddot{y}\\\\m \\ddot{z}\\end{matrix}\\right]$"
      ],
      "text/plain": [
       "⎡I_{xx}⋅(-sin(φ)⋅cos(θ)⋅ψ̇ + cos(φ)⋅θ̇)⋅sin(φ)⋅sin(θ)⋅θ̇ - I_{xx}⋅(-sin(φ)⋅cos\n",
       "⎢                                                                             \n",
       "⎢                                   -I_{xx}⋅(-sin(φ)⋅cos(θ)⋅ψ̇ + cos(φ)⋅θ̇)⋅si\n",
       "⎢                                                                             \n",
       "⎢                                                                             \n",
       "⎢                                                                             \n",
       "⎢                                                                             \n",
       "⎢                                                                             \n",
       "⎢                                                                             \n",
       "⎢                                                                             \n",
       "⎢                                                                             \n",
       "⎢                                                                             \n",
       "⎣                                                                             \n",
       "\n",
       "(θ)⋅ψ̇ + cos(φ)⋅θ̇)⋅cos(φ)⋅cos(θ)⋅φ̇ - I_{xx}⋅(sin(φ)⋅sin(θ)⋅ψ̇⋅θ̇ - sin(φ)⋅co\n",
       "                                                                              \n",
       "n(φ)⋅sin(θ)⋅ψ̇ - I_{xx}⋅(-sin(φ)⋅cos(θ)⋅ψ̇ + cos(φ)⋅θ̇)⋅sin(φ)⋅φ̇ + I_{xx}⋅(si\n",
       "                                                                              \n",
       "                                                                              \n",
       "                                                                              \n",
       "                                                                              \n",
       "                                                                              \n",
       "                                                                              \n",
       "                                                                              \n",
       "                                                                              \n",
       "                                                                              \n",
       "                                                                              \n",
       "\n",
       "s(θ)⋅ψ̈ - sin(φ)⋅φ̇⋅θ̇ - cos(φ)⋅cos(θ)⋅φ̇⋅ψ̇ + cos(φ)⋅θ̈)⋅sin(φ)⋅cos(θ) + I_{y\n",
       "                                                                              \n",
       "n(φ)⋅sin(θ)⋅ψ̇⋅θ̇ - sin(φ)⋅cos(θ)⋅ψ̈ - sin(φ)⋅φ̇⋅θ̇ - cos(φ)⋅cos(θ)⋅φ̇⋅ψ̇ + co\n",
       "                                                                              \n",
       "     I_{xx}⋅(-2⋅sin(φ)⋅θ̇ - 2⋅cos(φ)⋅cos(θ)⋅ψ̇)⋅(-sin(φ)⋅cos(θ)⋅ψ̇ + cos(φ)⋅θ̇\n",
       "   - ────────────────────────────────────────────────────────────────────── + \n",
       "                                       2                                      \n",
       "                                                                              \n",
       "                                                                              \n",
       "                                                                              \n",
       "                                                                              \n",
       "                                                                              \n",
       "                                                                              \n",
       "\n",
       "y}⋅(sin(θ)⋅ψ̇ + φ̇)⋅cos(θ)⋅θ̇ + I_{yy}⋅(sin(θ)⋅ψ̈ + cos(θ)⋅ψ̇⋅θ̇ + φ̈)⋅sin(θ) \n",
       "                                                                              \n",
       "s(φ)⋅θ̈)⋅cos(φ) - I_{yy}⋅(sin(θ)⋅ψ̇ + φ̇)⋅cos(θ)⋅ψ̇ + I_{zz}⋅(sin(φ)⋅θ̇ + cos(\n",
       "                                                                              \n",
       ")   I_{yy}⋅(2⋅sin(θ)⋅ψ̈ + 2⋅cos(θ)⋅ψ̇⋅θ̇ + 2⋅φ̈)   I_{zz}⋅(sin(φ)⋅θ̇ + cos(φ)⋅\n",
       "──────────────────────────────────────── - ───────────────────────────────────\n",
       "                   2                                                         2\n",
       "                                                                              \n",
       "                 m⋅ẍ                                                         \n",
       "                                                                              \n",
       "                 m⋅ÿ                                                         \n",
       "                                                                              \n",
       "                 m⋅z̈                                                         \n",
       "\n",
       "- I_{zz}⋅(sin(φ)⋅θ̇ + cos(φ)⋅cos(θ)⋅ψ̇)⋅sin(φ)⋅cos(θ)⋅φ̇ - I_{zz}⋅(sin(φ)⋅θ̇ +\n",
       "                                                                              \n",
       "φ)⋅cos(θ)⋅ψ̇)⋅sin(θ)⋅cos(φ)⋅ψ̇ + I_{zz}⋅(sin(φ)⋅θ̇ + cos(φ)⋅cos(θ)⋅ψ̇)⋅cos(φ)⋅\n",
       "                                                                              \n",
       "cos(θ)⋅ψ̇)⋅(-2⋅sin(φ)⋅cos(θ)⋅ψ̇ + 2⋅cos(φ)⋅θ̇)                                \n",
       "──────────────────────────────────                                            \n",
       "                                                                              \n",
       "                                                                              \n",
       "                                                                              \n",
       "                                                                              \n",
       "                                                                              \n",
       "                                                                              \n",
       "                                                                              \n",
       "\n",
       " cos(φ)⋅cos(θ)⋅ψ̇)⋅sin(θ)⋅cos(φ)⋅θ̇ + I_{zz}⋅(-sin(φ)⋅cos(θ)⋅φ̇⋅ψ̇ + sin(φ)⋅θ̈\n",
       "                                                                              \n",
       "φ̇ + I_{zz}⋅(-sin(φ)⋅cos(θ)⋅φ̇⋅ψ̇ + sin(φ)⋅θ̈ - sin(θ)⋅cos(φ)⋅ψ̇⋅θ̇ + cos(φ)⋅c\n",
       "                                                                              \n",
       "                                                                              \n",
       "                                                                              \n",
       "                                                                              \n",
       "                                                                              \n",
       "                                                                              \n",
       "                                                                              \n",
       "                                                                              \n",
       "                                                                              \n",
       "                                                                              \n",
       "\n",
       " - sin(θ)⋅cos(φ)⋅ψ̇⋅θ̇ + cos(φ)⋅cos(θ)⋅ψ̈ + cos(φ)⋅φ̇⋅θ̇)⋅cos(φ)⋅cos(θ)⎤\n",
       "                                    ⎥\n",
       "os(θ)⋅ψ̈ + cos(φ)⋅φ̇⋅θ̇)⋅sin(φ)                                    ⎥\n",
       "                                    ⎥\n",
       "                                                ⎥\n",
       "                                    ⎥\n",
       "                                    ⎥\n",
       "                                    ⎥\n",
       "                                     ⎥\n",
       "                                    ⎥\n",
       "                                     ⎥\n",
       "                                    ⎥\n",
       "                                     ⎦"
      ]
     },
     "execution_count": 7,
     "metadata": {},
     "output_type": "execute_result"
    }
   ],
   "source": [
    "K_as_matrix = sm.Matrix([K])\n",
    "Fs = (K_as_matrix.jacobian(qd).diff(t) - K_as_matrix.jacobian(q)).transpose()\n",
    "Fs"
   ]
  },
  {
   "cell_type": "code",
   "execution_count": 8,
   "id": "6dec8a50",
   "metadata": {
    "execution": {
     "iopub.execute_input": "2025-09-25T05:54:35.818882Z",
     "iopub.status.busy": "2025-09-25T05:54:35.818724Z",
     "iopub.status.idle": "2025-09-25T05:54:36.166962Z",
     "shell.execute_reply": "2025-09-25T05:54:36.166441Z"
    }
   },
   "outputs": [
    {
     "data": {
      "text/latex": [
       "$\\displaystyle \\left[\\begin{matrix}I_{xx} \\sin^{2}{\\left(\\phi \\right)} \\cos^{2}{\\left(\\theta \\right)} + I_{yy} \\sin^{2}{\\left(\\theta \\right)} + I_{zz} \\cos^{2}{\\left(\\phi \\right)} \\cos^{2}{\\left(\\theta \\right)} & \\left(- I_{xx} + I_{zz}\\right) \\sin{\\left(\\phi \\right)} \\cos{\\left(\\phi \\right)} \\cos{\\left(\\theta \\right)} & I_{yy} \\sin{\\left(\\theta \\right)} & 0 & 0 & 0\\\\\\left(- I_{xx} + I_{zz}\\right) \\sin{\\left(\\phi \\right)} \\cos{\\left(\\phi \\right)} \\cos{\\left(\\theta \\right)} & I_{xx} \\cos^{2}{\\left(\\phi \\right)} + I_{zz} \\sin^{2}{\\left(\\phi \\right)} & 0 & 0 & 0 & 0\\\\I_{yy} \\sin{\\left(\\theta \\right)} & 0 & I_{yy} & 0 & 0 & 0\\\\0 & 0 & 0 & m & 0 & 0\\\\0 & 0 & 0 & 0 & m & 0\\\\0 & 0 & 0 & 0 & 0 & m\\end{matrix}\\right]$"
      ],
      "text/plain": [
       "⎡          2       2                2                2       2                \n",
       "⎢I_{xx}⋅sin (φ)⋅cos (θ) + I_{yy}⋅sin (θ) + I_{zz}⋅cos (φ)⋅cos (θ)  (-I_{xx} + \n",
       "⎢                                                                             \n",
       "⎢                                                                             \n",
       "⎢            (-I_{xx} + I_{zz})⋅sin(φ)⋅cos(φ)⋅cos(θ)                   I_{xx}⋅\n",
       "⎢                                                                             \n",
       "⎢                         I_{yy}⋅sin(θ)                                       \n",
       "⎢                                                                             \n",
       "⎢                               0                                             \n",
       "⎢                                                                             \n",
       "⎢                               0                                             \n",
       "⎢                                                                             \n",
       "⎣                               0                                             \n",
       "\n",
       "                                                    ⎤\n",
       "I_{zz})⋅sin(φ)⋅cos(φ)⋅cos(θ)  I_{yy}⋅sin(θ)  0  0  0⎥\n",
       "                                                    ⎥\n",
       "   2                2                               ⎥\n",
       "cos (φ) + I_{zz}⋅sin (φ)            0        0  0  0⎥\n",
       "                                                    ⎥\n",
       "        0                        I_{yy}      0  0  0⎥\n",
       "                                                    ⎥\n",
       "        0                           0        m  0  0⎥\n",
       "                                                    ⎥\n",
       "        0                           0        0  m  0⎥\n",
       "                                                    ⎥\n",
       "        0                           0        0  0  m⎦"
      ]
     },
     "execution_count": 8,
     "metadata": {},
     "output_type": "execute_result"
    }
   ],
   "source": [
    "Md = Fs.jacobian(qdd)\n",
    "sm.trigsimp(Md)"
   ]
  },
  {
   "cell_type": "code",
   "execution_count": 9,
   "id": "39213e21",
   "metadata": {
    "execution": {
     "iopub.execute_input": "2025-09-25T05:54:36.168392Z",
     "iopub.status.busy": "2025-09-25T05:54:36.168228Z",
     "iopub.status.idle": "2025-09-25T05:54:39.978959Z",
     "shell.execute_reply": "2025-09-25T05:54:39.978422Z"
    }
   },
   "outputs": [
    {
     "data": {
      "text/latex": [
       "$\\displaystyle \\left[\\begin{matrix}\\frac{I_{xx} \\sin{\\left(2 \\left(\\phi - \\theta\\right) \\right)} \\dot{\\phi} \\dot{\\psi}}{4} - \\frac{I_{xx} \\sin{\\left(2 \\left(\\phi - \\theta\\right) \\right)} \\dot{\\psi} \\dot{\\theta}}{4} + \\frac{I_{xx} \\sin{\\left(2 \\left(\\phi + \\theta\\right) \\right)} \\dot{\\phi} \\dot{\\psi}}{4} + \\frac{I_{xx} \\sin{\\left(2 \\left(\\phi + \\theta\\right) \\right)} \\dot{\\psi} \\dot{\\theta}}{4} + \\frac{I_{xx} \\sin{\\left(2 \\phi \\right)} \\dot{\\phi} \\dot{\\psi}}{2} - \\frac{I_{xx} \\sin{\\left(2 \\theta \\right)} \\dot{\\psi} \\dot{\\theta}}{2} - \\frac{I_{xx} \\cos{\\left(2 \\phi - \\theta \\right)} \\dot{\\phi} \\dot{\\theta}}{2} + \\frac{I_{xx} \\cos{\\left(2 \\phi - \\theta \\right)} \\dot{\\theta}^{2}}{4} - \\frac{I_{xx} \\cos{\\left(2 \\phi + \\theta \\right)} \\dot{\\phi} \\dot{\\theta}}{2} - \\frac{I_{xx} \\cos{\\left(2 \\phi + \\theta \\right)} \\dot{\\theta}^{2}}{4} + I_{yy} \\sin{\\left(2 \\theta \\right)} \\dot{\\psi} \\dot{\\theta} + I_{yy} \\cos{\\left(\\theta \\right)} \\dot{\\phi} \\dot{\\theta} - \\frac{I_{zz} \\sin{\\left(2 \\left(\\phi - \\theta\\right) \\right)} \\dot{\\phi} \\dot{\\psi}}{4} + \\frac{I_{zz} \\sin{\\left(2 \\left(\\phi - \\theta\\right) \\right)} \\dot{\\psi} \\dot{\\theta}}{4} - \\frac{I_{zz} \\sin{\\left(2 \\left(\\phi + \\theta\\right) \\right)} \\dot{\\phi} \\dot{\\psi}}{4} - \\frac{I_{zz} \\sin{\\left(2 \\left(\\phi + \\theta\\right) \\right)} \\dot{\\psi} \\dot{\\theta}}{4} - \\frac{I_{zz} \\sin{\\left(2 \\phi \\right)} \\dot{\\phi} \\dot{\\psi}}{2} - \\frac{I_{zz} \\sin{\\left(2 \\theta \\right)} \\dot{\\psi} \\dot{\\theta}}{2} + \\frac{I_{zz} \\cos{\\left(2 \\phi - \\theta \\right)} \\dot{\\phi} \\dot{\\theta}}{2} - \\frac{I_{zz} \\cos{\\left(2 \\phi - \\theta \\right)} \\dot{\\theta}^{2}}{4} + \\frac{I_{zz} \\cos{\\left(2 \\phi + \\theta \\right)} \\dot{\\phi} \\dot{\\theta}}{2} + \\frac{I_{zz} \\cos{\\left(2 \\phi + \\theta \\right)} \\dot{\\theta}^{2}}{4}\\\\\\frac{I_{xx} \\sin{\\left(2 \\left(\\phi - \\theta\\right) \\right)} \\dot{\\psi}^{2}}{8} - \\frac{I_{xx} \\sin{\\left(2 \\left(\\phi + \\theta\\right) \\right)} \\dot{\\psi}^{2}}{8} - I_{xx} \\sin{\\left(2 \\phi \\right)} \\dot{\\phi} \\dot{\\theta} + \\frac{I_{xx} \\sin{\\left(2 \\theta \\right)} \\dot{\\psi}^{2}}{4} - \\frac{I_{xx} \\cos{\\left(2 \\phi - \\theta \\right)} \\dot{\\phi} \\dot{\\psi}}{2} - \\frac{I_{xx} \\cos{\\left(2 \\phi + \\theta \\right)} \\dot{\\phi} \\dot{\\psi}}{2} - \\frac{I_{yy} \\sin{\\left(2 \\theta \\right)} \\dot{\\psi}^{2}}{2} - I_{yy} \\cos{\\left(\\theta \\right)} \\dot{\\phi} \\dot{\\psi} - \\frac{I_{zz} \\sin{\\left(2 \\left(\\phi - \\theta\\right) \\right)} \\dot{\\psi}^{2}}{8} + \\frac{I_{zz} \\sin{\\left(2 \\left(\\phi + \\theta\\right) \\right)} \\dot{\\psi}^{2}}{8} + I_{zz} \\sin{\\left(2 \\phi \\right)} \\dot{\\phi} \\dot{\\theta} + \\frac{I_{zz} \\sin{\\left(2 \\theta \\right)} \\dot{\\psi}^{2}}{4} + \\frac{I_{zz} \\cos{\\left(2 \\phi - \\theta \\right)} \\dot{\\phi} \\dot{\\psi}}{2} + \\frac{I_{zz} \\cos{\\left(2 \\phi + \\theta \\right)} \\dot{\\phi} \\dot{\\psi}}{2}\\\\I_{xx} \\left(\\sin{\\left(\\phi \\right)} \\dot{\\theta} + \\cos{\\left(\\phi \\right)} \\cos{\\left(\\theta \\right)} \\dot{\\psi}\\right) \\left(- \\sin{\\left(\\phi \\right)} \\cos{\\left(\\theta \\right)} \\dot{\\psi} + \\cos{\\left(\\phi \\right)} \\dot{\\theta}\\right) + I_{yy} \\cos{\\left(\\theta \\right)} \\dot{\\psi} \\dot{\\theta} - I_{zz} \\left(\\sin{\\left(\\phi \\right)} \\dot{\\theta} + \\cos{\\left(\\phi \\right)} \\cos{\\left(\\theta \\right)} \\dot{\\psi}\\right) \\left(- \\sin{\\left(\\phi \\right)} \\cos{\\left(\\theta \\right)} \\dot{\\psi} + \\cos{\\left(\\phi \\right)} \\dot{\\theta}\\right)\\\\0\\\\0\\\\0\\end{matrix}\\right]$"
      ],
      "text/plain": [
       "⎡                                                                             \n",
       "⎢I_{xx}⋅sin(2⋅(φ - θ))⋅φ̇⋅ψ̇   I_{xx}⋅sin(2⋅(φ - θ))⋅ψ̇⋅θ̇   I_{xx}⋅sin(2⋅(φ +\n",
       "⎢───────────────────────── - ───────────────────────── + ─────────────────────\n",
       "⎢            4                           4                           4        \n",
       "⎢                                                                             \n",
       "⎢                                                                             \n",
       "⎢                                                                             \n",
       "⎢                                                                             \n",
       "⎢                                                                             \n",
       "⎢                                                                             \n",
       "⎢                                                                             \n",
       "⎢                                                                             \n",
       "⎢                                                                             \n",
       "⎢                                                                             \n",
       "⎢                                                                             \n",
       "⎢                                                                             \n",
       "⎣                                                                             \n",
       "\n",
       "                                                                              \n",
       " θ))⋅φ̇⋅ψ̇   I_{xx}⋅sin(2⋅(φ + θ))⋅ψ̇⋅θ̇   I_{xx}⋅sin(2⋅φ)⋅φ̇⋅ψ̇   I_{xx}⋅sin(\n",
       "──── + ───────────────────────── + ─────────────────── - ─────────────────── -\n",
       "                   4                        2                     2           \n",
       "                                                                              \n",
       "                                                       2                      \n",
       "                                I_{xx}⋅sin(2⋅(φ - θ))⋅ψ̇    I_{xx}⋅sin(2⋅(φ + \n",
       "                                ──────────────────────── - ───────────────────\n",
       "                                           8                          8       \n",
       "                                                                              \n",
       "                                                                              \n",
       "                                                                              \n",
       "                                                                              \n",
       "                                                                              \n",
       "                                                                              \n",
       "                                                                              \n",
       "                                                                              \n",
       "\n",
       "                                                2                             \n",
       "2⋅θ)⋅ψ̇⋅θ̇   I_{xx}⋅cos(2⋅φ - θ)⋅φ̇⋅θ̇   I_{xx}⋅cos(2⋅φ - θ)⋅θ̇    I_{xx}⋅cos(\n",
       " ─────────────────────── + ────────────────────── - ─────────────────────── - \n",
       "            2                        4                         2              \n",
       "                                                                              \n",
       "    2                                          2                              \n",
       "θ))⋅ψ̇                          I_{xx}⋅sin(2⋅θ)⋅ψ̇    I_{xx}⋅cos(2⋅φ - θ)⋅φ̇⋅ψ\n",
       "───── - I_{xx}⋅sin(2⋅φ)⋅φ̇⋅θ̇ + ────────────────── - ─────────────────────── -\n",
       "                                      4                       2               \n",
       "                                                                              \n",
       "                                              I_{xx}⋅(sin(φ)⋅θ̇ + cos(φ)⋅cos(θ\n",
       "                                                                              \n",
       "                                                                              \n",
       "                                                                              \n",
       "                                                                              \n",
       "                                                                              \n",
       "                                                                              \n",
       "\n",
       "                     2                                                        \n",
       "2⋅φ + θ)⋅φ̇⋅θ̇   I_{xx}⋅cos(2⋅φ + θ)⋅θ̇                                       \n",
       "────────────────────── + I_{yy}⋅sin(2⋅θ)⋅ψ̇⋅θ̇ + I_{yy}⋅cos(θ)⋅φ̇⋅θ̇ - ───────\n",
       "          4                                                                   \n",
       "                                                                              \n",
       "                                          2                                   \n",
       "̇   I_{xx}⋅cos(2⋅φ + θ)⋅φ̇⋅ψ̇   I_{yy}⋅sin(2⋅θ)⋅ψ̇                        I_{z\n",
       " ─────────────────────── - ────────────────── - I_{yy}⋅cos(θ)⋅φ̇⋅ψ̇ - ────────\n",
       "          2                      2                                           8\n",
       "                                                                              \n",
       ")⋅ψ̇)⋅(-sin(φ)⋅cos(θ)⋅ψ̇ + cos(φ)⋅θ̇) + I_{yy}⋅cos(θ)⋅ψ̇⋅θ̇ - I_{zz}⋅(sin(φ)⋅θ\n",
       "                                                                              \n",
       "                                            0                                 \n",
       "                                                                              \n",
       "                                            0                                 \n",
       "                                                                              \n",
       "                                            0                                 \n",
       "\n",
       "                                                                              \n",
       "       I_{zz}⋅sin(2⋅(φ - θ))⋅φ̇⋅ψ̇   I_{zz}⋅sin(2⋅(φ - θ))⋅ψ̇⋅θ̇   I_{zz}⋅sin(\n",
       "────────────────── + ───────────────────────── - ───────────────────────── - ─\n",
       " 4                           4                           4                    \n",
       "                                                                              \n",
       "           2                          2                                       \n",
       "z}⋅sin(2⋅(φ - θ))⋅ψ̇    I_{zz}⋅sin(2⋅(φ + θ))⋅ψ̇                          I_{z\n",
       "──────────────── + ──────────────────────── + I_{zz}⋅sin(2⋅φ)⋅φ̇⋅θ̇ + ────────\n",
       "                          8                                             4     \n",
       "                                                                              \n",
       "̇ + cos(φ)⋅cos(θ)⋅ψ̇)⋅(-sin(φ)⋅cos(θ)⋅ψ̇ + cos(φ)⋅θ̇)                         \n",
       "                                                                              \n",
       "                                                                              \n",
       "                                                                              \n",
       "                                                                              \n",
       "                                                                              \n",
       "                                                                              \n",
       "\n",
       "                                                                              \n",
       "2⋅(φ + θ))⋅φ̇⋅ψ̇   I_{zz}⋅sin(2⋅(φ + θ))⋅ψ̇⋅θ̇   I_{zz}⋅sin(2⋅φ)⋅φ̇⋅ψ̇   I_{zz\n",
       "──────────────────────── - ─────────────────── - ─────────────────── + ───────\n",
       "       4                        2                     2                       \n",
       "                                                                              \n",
       "   2                                                                          \n",
       "z}⋅sin(2⋅θ)⋅ψ̇    I_{zz}⋅cos(2⋅φ - θ)⋅φ̇⋅ψ̇   I_{zz}⋅cos(2⋅φ + θ)⋅φ̇⋅ψ̇       \n",
       "────────── + ─────────────────────── + ───────────────────────                \n",
       "                  2                         2                                 \n",
       "                                                                              \n",
       "                                                                              \n",
       "                                                                              \n",
       "                                                                              \n",
       "                                                                              \n",
       "                                                                              \n",
       "                                                                              \n",
       "                                                                              \n",
       "\n",
       "                                    2                                         \n",
       "}⋅sin(2⋅θ)⋅ψ̇⋅θ̇   I_{zz}⋅cos(2⋅φ - θ)⋅φ̇⋅θ̇   I_{zz}⋅cos(2⋅φ - θ)⋅θ̇    I_{zz\n",
       "──────────────── - ────────────────────── + ─────────────────────── + ────────\n",
       "2                        4                         2                        4 \n",
       "                                                                              \n",
       "                                                                              \n",
       "                                                                              \n",
       "                                                                              \n",
       "                                                                              \n",
       "                                                                              \n",
       "                                                                              \n",
       "                                                                              \n",
       "                                                                              \n",
       "                                                                              \n",
       "                                                                              \n",
       "                                                                              \n",
       "                                                                              \n",
       "\n",
       "         2⎤\n",
       "}⋅cos(2⋅φ + θ)⋅φ̇⋅θ̇   I_{zz}⋅cos(2⋅φ + θ)⋅θ̇ ⎥\n",
       "──────────────⎥\n",
       "          ⎥\n",
       "          ⎥\n",
       "          ⎥\n",
       "                         ⎥\n",
       "                ⎥\n",
       "          ⎥\n",
       "          ⎥\n",
       "                    ⎥\n",
       "          ⎥\n",
       "          ⎥\n",
       "          ⎥\n",
       "          ⎥\n",
       "          ⎥\n",
       "          ⎦"
      ]
     },
     "execution_count": 9,
     "metadata": {},
     "output_type": "execute_result"
    }
   ],
   "source": [
    "qdd_zerod = {qddr: 0 for qddr in qdd}\n",
    "gd = Fs.xreplace(qdd_zerod)\n",
    "sm.trigsimp(gd)"
   ]
  },
  {
   "cell_type": "code",
   "execution_count": 10,
   "id": "eef565c9",
   "metadata": {
    "execution": {
     "iopub.execute_input": "2025-09-25T05:54:39.980354Z",
     "iopub.status.busy": "2025-09-25T05:54:39.980213Z",
     "iopub.status.idle": "2025-09-25T05:54:39.996368Z",
     "shell.execute_reply": "2025-09-25T05:54:39.995950Z"
    }
   },
   "outputs": [],
   "source": [
    "m, g, kt, kl, l = sm.symbols('m, g, k_t, k_l, l')\n",
    "q1, q2, q3 = me.dynamicsymbols('q1, q2, q3')\n",
    "t = me.dynamicsymbols._t\n",
    "\n",
    "q = sm.Matrix([q1, q2, q3])\n",
    "qd = q.diff(t)\n",
    "qdd = qd.diff(t)\n",
    "\n",
    "N = me.ReferenceFrame('N')\n",
    "A = me.ReferenceFrame('A')\n",
    "B = me.ReferenceFrame('B')\n",
    "\n",
    "A.orient_axis(N, q1, N.z)\n",
    "B.orient_axis(A, q2, A.x)\n",
    "\n",
    "O = me.Point('O')\n",
    "Ao = me.Point('A_O')\n",
    "Bo = me.Point('B_O')\n",
    "Q = me.Point('Q')\n",
    "\n",
    "Ao.set_pos(O, l/2*A.x)\n",
    "Bo.set_pos(O, l*A.x)\n",
    "Q.set_pos(Bo, q3*B.y)\n",
    "\n",
    "O.set_vel(N, 0)\n",
    "\n",
    "I = m*l**2/12\n",
    "I_A_Ao = I*me.outer(A.y, A.y) + I*me.outer(A.z, A.z)\n",
    "I_B_Bo = I*me.outer(B.x, B.x) + I*me.outer(B.z, B.z)"
   ]
  },
  {
   "cell_type": "code",
   "execution_count": 11,
   "id": "1f009040",
   "metadata": {
    "execution": {
     "iopub.execute_input": "2025-09-25T05:54:39.997680Z",
     "iopub.status.busy": "2025-09-25T05:54:39.997541Z",
     "iopub.status.idle": "2025-09-25T05:54:40.008089Z",
     "shell.execute_reply": "2025-09-25T05:54:40.007719Z"
    }
   },
   "outputs": [
    {
     "data": {
      "text/latex": [
       "$\\displaystyle \\frac{l^{2} m \\dot{q}_{1}^{2}}{6}$"
      ],
      "text/plain": [
       " 2     2\n",
       "l ⋅m⋅q₁̇ \n",
       "────────\n",
       "   6    "
      ]
     },
     "execution_count": 11,
     "metadata": {},
     "output_type": "execute_result"
    }
   ],
   "source": [
    "KA = m*Ao.vel(N).dot(Ao.vel(N))/2 + A.ang_vel_in(N).dot(I_A_Ao.dot(A.ang_vel_in(N)))/2\n",
    "KA"
   ]
  },
  {
   "cell_type": "code",
   "execution_count": 12,
   "id": "202a178d",
   "metadata": {
    "execution": {
     "iopub.execute_input": "2025-09-25T05:54:40.009308Z",
     "iopub.status.busy": "2025-09-25T05:54:40.009174Z",
     "iopub.status.idle": "2025-09-25T05:54:40.028166Z",
     "shell.execute_reply": "2025-09-25T05:54:40.027796Z"
    }
   },
   "outputs": [
    {
     "data": {
      "text/latex": [
       "$\\displaystyle \\frac{l^{2} m \\cos^{2}{\\left(q_{2} \\right)} \\dot{q}_{1}^{2}}{24} + \\frac{l^{2} m \\dot{q}_{1}^{2}}{2} + \\frac{l^{2} m \\dot{q}_{2}^{2}}{24}$"
      ],
      "text/plain": [
       " 2      2       2    2     2    2     2\n",
       "l ⋅m⋅cos (q₂)⋅q₁̇    l ⋅m⋅q₁̇    l ⋅m⋅q₂̇ \n",
       "───────────────── + ──────── + ────────\n",
       "        24             2          24   "
      ]
     },
     "execution_count": 12,
     "metadata": {},
     "output_type": "execute_result"
    }
   ],
   "source": [
    "KB = m*Bo.vel(N).dot(Bo.vel(N))/2 + B.ang_vel_in(N).dot(I_B_Bo.dot(B.ang_vel_in(N)))/2\n",
    "KB"
   ]
  },
  {
   "cell_type": "code",
   "execution_count": 13,
   "id": "762ac4b7",
   "metadata": {
    "execution": {
     "iopub.execute_input": "2025-09-25T05:54:40.029406Z",
     "iopub.status.busy": "2025-09-25T05:54:40.029255Z",
     "iopub.status.idle": "2025-09-25T05:54:40.050807Z",
     "shell.execute_reply": "2025-09-25T05:54:40.050308Z"
    }
   },
   "outputs": [
    {
     "data": {
      "text/latex": [
       "$\\displaystyle \\frac{m \\left(l^{2} \\dot{q}_{1}^{2} + l \\left(- q_{3} \\sin{\\left(q_{2} \\right)} \\dot{q}_{2} + \\cos{\\left(q_{2} \\right)} \\dot{q}_{3}\\right) \\dot{q}_{1} - l q_{3} \\sin{\\left(q_{2} \\right)} \\dot{q}_{1} \\dot{q}_{2} + l \\cos{\\left(q_{2} \\right)} \\dot{q}_{1} \\dot{q}_{3} + q_{3}^{2} \\cos^{2}{\\left(q_{2} \\right)} \\dot{q}_{1}^{2} + q_{3}^{2} \\dot{q}_{2}^{2} + \\dot{q}_{3}^{2}\\right)}{8}$"
      ],
      "text/plain": [
       "  ⎛ 2   2                                                                     \n",
       "m⋅⎝l ⋅q₁̇  + l⋅(-q₃⋅sin(q₂)⋅q₂̇ + cos(q₂)⋅q₃̇)⋅q₁̇ - l⋅q₃⋅sin(q₂)⋅q₁̇⋅q₂̇ + l⋅\n",
       "──────────────────────────────────────────────────────────────────────────────\n",
       "                                                            8                 \n",
       "\n",
       "            2    2       2     2   2     2⎞\n",
       "cos(q₂)⋅q₁̇⋅q₃̇ + q₃ ⋅cos (q₂)⋅q₁̇  + q₃ ⋅q₂̇  + q₃̇ ⎠\n",
       "───────────────────────────────────────────\n",
       "                                           "
      ]
     },
     "execution_count": 13,
     "metadata": {},
     "output_type": "execute_result"
    }
   ],
   "source": [
    "KQ = m/4*Q.vel(N).dot(Q.vel(N))/2\n",
    "KQ"
   ]
  },
  {
   "cell_type": "code",
   "execution_count": 14,
   "id": "de07ae00",
   "metadata": {
    "execution": {
     "iopub.execute_input": "2025-09-25T05:54:40.052064Z",
     "iopub.status.busy": "2025-09-25T05:54:40.051919Z",
     "iopub.status.idle": "2025-09-25T05:54:40.054399Z",
     "shell.execute_reply": "2025-09-25T05:54:40.053870Z"
    }
   },
   "outputs": [],
   "source": [
    "K = KA + KB + KQ"
   ]
  },
  {
   "cell_type": "code",
   "execution_count": 15,
   "id": "8db7329b",
   "metadata": {
    "execution": {
     "iopub.execute_input": "2025-09-25T05:54:40.055686Z",
     "iopub.status.busy": "2025-09-25T05:54:40.055543Z",
     "iopub.status.idle": "2025-09-25T05:54:40.064659Z",
     "shell.execute_reply": "2025-09-25T05:54:40.064137Z"
    }
   },
   "outputs": [
    {
     "data": {
      "text/latex": [
       "$\\displaystyle - \\frac{3 g l m \\cos{\\left(q_{1} \\right)}}{2} + \\frac{g m \\left(- l \\cos{\\left(q_{1} \\right)} + q_{3} \\sin{\\left(q_{1} \\right)} \\cos{\\left(q_{2} \\right)}\\right)}{4}$"
      ],
      "text/plain": [
       "  3⋅g⋅l⋅m⋅cos(q₁)   g⋅m⋅(-l⋅cos(q₁) + q₃⋅sin(q₁)⋅cos(q₂))\n",
       "- ─────────────── + ─────────────────────────────────────\n",
       "         2                            4                  "
      ]
     },
     "execution_count": 15,
     "metadata": {},
     "output_type": "execute_result"
    }
   ],
   "source": [
    "V_grav = m*g*(Ao.pos_from(O) + Bo.pos_from(O)).dot(-N.x) + m/4*g*Q.pos_from(O).dot(-N.x)\n",
    "V_grav"
   ]
  },
  {
   "cell_type": "code",
   "execution_count": 16,
   "id": "9324ae95",
   "metadata": {
    "execution": {
     "iopub.execute_input": "2025-09-25T05:54:40.066021Z",
     "iopub.status.busy": "2025-09-25T05:54:40.065870Z",
     "iopub.status.idle": "2025-09-25T05:54:40.072291Z",
     "shell.execute_reply": "2025-09-25T05:54:40.071882Z"
    }
   },
   "outputs": [
    {
     "data": {
      "text/latex": [
       "$\\displaystyle \\frac{k_{l} q_{3}^{2}}{2} + \\frac{k_{t} q_{1}^{2}}{2} + \\frac{k_{t} q_{2}^{2}}{2}$"
      ],
      "text/plain": [
       "     2        2        2\n",
       "kₗ⋅q₃    kₜ⋅q₁    kₜ⋅q₂ \n",
       "────── + ────── + ──────\n",
       "  2        2        2   "
      ]
     },
     "execution_count": 16,
     "metadata": {},
     "output_type": "execute_result"
    }
   ],
   "source": [
    "V_springs = kt/2*q1**2 + kt/2*q2**2 + kl/2*q3**2\n",
    "V_springs"
   ]
  },
  {
   "cell_type": "code",
   "execution_count": 17,
   "id": "7efa60bb",
   "metadata": {
    "execution": {
     "iopub.execute_input": "2025-09-25T05:54:40.073582Z",
     "iopub.status.busy": "2025-09-25T05:54:40.073416Z",
     "iopub.status.idle": "2025-09-25T05:54:40.075763Z",
     "shell.execute_reply": "2025-09-25T05:54:40.075357Z"
    }
   },
   "outputs": [],
   "source": [
    "V = V_grav + V_springs"
   ]
  },
  {
   "cell_type": "code",
   "execution_count": 18,
   "id": "f4ad9acf",
   "metadata": {
    "execution": {
     "iopub.execute_input": "2025-09-25T05:54:40.077028Z",
     "iopub.status.busy": "2025-09-25T05:54:40.076890Z",
     "iopub.status.idle": "2025-09-25T05:54:41.831997Z",
     "shell.execute_reply": "2025-09-25T05:54:41.831461Z"
    }
   },
   "outputs": [
    {
     "data": {
      "text/latex": [
       "$\\displaystyle \\left[\\begin{matrix}\\frac{7 g l m \\cos{\\left(q_{1} \\right)}}{4} - \\frac{g m q_{3} \\sin{\\left(q_{1} \\right)} \\cos{\\left(q_{2} \\right)}}{4} - \\frac{k_{l} q_{3}^{2}}{2} - \\frac{k_{t} q_{1}^{2}}{2} - \\frac{k_{t} q_{2}^{2}}{2} + \\frac{l^{2} m \\cos^{2}{\\left(q_{2} \\right)} \\dot{q}_{1}^{2}}{24} + \\frac{19 l^{2} m \\dot{q}_{1}^{2}}{24} + \\frac{l^{2} m \\dot{q}_{2}^{2}}{24} - \\frac{l m q_{3} \\sin{\\left(q_{2} \\right)} \\dot{q}_{1} \\dot{q}_{2}}{4} + \\frac{l m \\cos{\\left(q_{2} \\right)} \\dot{q}_{1} \\dot{q}_{3}}{4} + \\frac{m q_{3}^{2} \\cos^{2}{\\left(q_{2} \\right)} \\dot{q}_{1}^{2}}{8} + \\frac{m q_{3}^{2} \\dot{q}_{2}^{2}}{8} + \\frac{m \\dot{q}_{3}^{2}}{8}\\end{matrix}\\right]$"
      ],
      "text/plain": [
       "⎡                                                2        2        2    2     \n",
       "⎢7⋅g⋅l⋅m⋅cos(q₁)   g⋅m⋅q₃⋅sin(q₁)⋅cos(q₂)   kₗ⋅q₃    kₜ⋅q₁    kₜ⋅q₂    l ⋅m⋅co\n",
       "⎢─────────────── - ────────────────────── - ────── - ────── - ────── + ───────\n",
       "⎣       4                    4                2        2        2             \n",
       "\n",
       " 2       2       2     2    2     2                                           \n",
       "s (q₂)⋅q₁̇    19⋅l ⋅m⋅q₁̇    l ⋅m⋅q₂̇    l⋅m⋅q₃⋅sin(q₂)⋅q₁̇⋅q₂̇   l⋅m⋅cos(q₂)⋅\n",
       "────────── + ─────────── + ──────── - ──────────────────── + ─────────────────\n",
       " 24               24          24               4                     4        \n",
       "\n",
       "       2    2       2       2   2       2⎤\n",
       "q₁̇⋅q₃̇   m⋅q₃ ⋅cos (q₂)⋅q₁̇    m⋅q₃ ⋅q₂̇    m⋅q₃̇ ⎥\n",
       " + ────────────────── + ───────── + ─────⎥\n",
       "           8                8         8  ⎦"
      ]
     },
     "execution_count": 18,
     "metadata": {},
     "output_type": "execute_result"
    }
   ],
   "source": [
    "L = sm.Matrix([K - V])\n",
    "sm.trigsimp(L)"
   ]
  },
  {
   "cell_type": "code",
   "execution_count": 19,
   "id": "51e06c9b",
   "metadata": {
    "execution": {
     "iopub.execute_input": "2025-09-25T05:54:41.833508Z",
     "iopub.status.busy": "2025-09-25T05:54:41.833362Z",
     "iopub.status.idle": "2025-09-25T05:54:44.608100Z",
     "shell.execute_reply": "2025-09-25T05:54:44.607646Z"
    }
   },
   "outputs": [
    {
     "data": {
      "text/latex": [
       "$\\displaystyle \\left( \\left\\{q_{2}, q_{3}\\right\\}, \\  \\left\\{q_{1}, q_{2}, q_{3}, \\dot{q}_{1}, \\dot{q}_{2}, \\dot{q}_{3}\\right\\}\\right)$"
      ],
      "text/plain": [
       "({q₂, q₃}, {q₁, q₂, q₃, q₁̇, q₂̇, q₃̇})"
      ]
     },
     "execution_count": 19,
     "metadata": {},
     "output_type": "execute_result"
    }
   ],
   "source": [
    "fd = -(L.jacobian(qd).diff(t) - L.jacobian(q)).transpose()\n",
    "qdd_zerod = {qddr: 0 for qddr in qdd}\n",
    "Md = fd.jacobian(qdd)\n",
    "gd = sm.trigsimp(fd.xreplace(qdd_zerod))\n",
    "me.find_dynamicsymbols(Md), me.find_dynamicsymbols(gd)"
   ]
  },
  {
   "cell_type": "code",
   "execution_count": 20,
   "id": "db072017",
   "metadata": {
    "execution": {
     "iopub.execute_input": "2025-09-25T05:54:44.609554Z",
     "iopub.status.busy": "2025-09-25T05:54:44.609392Z",
     "iopub.status.idle": "2025-09-25T05:54:44.619718Z",
     "shell.execute_reply": "2025-09-25T05:54:44.619334Z"
    }
   },
   "outputs": [
    {
     "data": {
      "text/latex": [
       "$\\displaystyle \\left[\\begin{matrix}- \\frac{l^{2} m \\cos^{2}{\\left(q_{2} \\right)}}{12} - \\frac{4 l^{2} m}{3} - \\frac{m \\left(2 l^{2} + 2 q_{3}^{2} \\cos^{2}{\\left(q_{2} \\right)}\\right)}{8} & \\frac{l m q_{3} \\sin{\\left(q_{2} \\right)}}{4} & - \\frac{l m \\cos{\\left(q_{2} \\right)}}{4}\\\\\\frac{l m q_{3} \\sin{\\left(q_{2} \\right)}}{4} & - \\frac{l^{2} m}{12} - \\frac{m q_{3}^{2}}{4} & 0\\\\- \\frac{l m \\cos{\\left(q_{2} \\right)}}{4} & 0 & - \\frac{m}{4}\\end{matrix}\\right]$"
      ],
      "text/plain": [
       "⎡   2      2          2       ⎛   2       2    2    ⎞                         \n",
       "⎢  l ⋅m⋅cos (q₂)   4⋅l ⋅m   m⋅⎝2⋅l  + 2⋅q₃ ⋅cos (q₂)⎠  l⋅m⋅q₃⋅sin(q₂)  -l⋅m⋅co\n",
       "⎢- ───────────── - ────── - ─────────────────────────  ──────────────  ───────\n",
       "⎢        12          3                  8                    4               4\n",
       "⎢                                                                             \n",
       "⎢                                                         2         2         \n",
       "⎢                   l⋅m⋅q₃⋅sin(q₂)                       l ⋅m   m⋅q₃          \n",
       "⎢                   ──────────────                     - ──── - ─────        0\n",
       "⎢                         4                               12      4           \n",
       "⎢                                                                             \n",
       "⎢                   -l⋅m⋅cos(q₂)                                            -m\n",
       "⎢                   ─────────────                            0              ──\n",
       "⎣                         4                                                  4\n",
       "\n",
       "      ⎤\n",
       "s(q₂) ⎥\n",
       "──────⎥\n",
       "      ⎥\n",
       "      ⎥\n",
       "      ⎥\n",
       "      ⎥\n",
       "      ⎥\n",
       "      ⎥\n",
       "      ⎥\n",
       "      ⎥\n",
       "─     ⎥\n",
       "      ⎦"
      ]
     },
     "execution_count": 20,
     "metadata": {},
     "output_type": "execute_result"
    }
   ],
   "source": [
    "Md"
   ]
  },
  {
   "cell_type": "code",
   "execution_count": 21,
   "id": "c48c7d82",
   "metadata": {
    "execution": {
     "iopub.execute_input": "2025-09-25T05:54:44.620945Z",
     "iopub.status.busy": "2025-09-25T05:54:44.620813Z",
     "iopub.status.idle": "2025-09-25T05:54:44.644725Z",
     "shell.execute_reply": "2025-09-25T05:54:44.644351Z"
    }
   },
   "outputs": [
    {
     "data": {
      "text/latex": [
       "$\\displaystyle \\left[\\begin{matrix}- \\frac{7 g l m \\sin{\\left(q_{1} \\right)}}{4} - \\frac{g m q_{3} \\cos{\\left(q_{1} - q_{2} \\right)}}{8} - \\frac{g m q_{3} \\cos{\\left(q_{1} + q_{2} \\right)}}{8} - k_{t} q_{1} + \\frac{l^{2} m \\sin{\\left(2 q_{2} \\right)} \\dot{q}_{1} \\dot{q}_{2}}{12} + \\frac{l m q_{3} \\cos{\\left(q_{2} \\right)} \\dot{q}_{2}^{2}}{4} + \\frac{l m \\sin{\\left(q_{2} \\right)} \\dot{q}_{2} \\dot{q}_{3}}{2} + \\frac{m q_{3}^{2} \\sin{\\left(2 q_{2} \\right)} \\dot{q}_{1} \\dot{q}_{2}}{4} - \\frac{m q_{3} \\cos{\\left(2 q_{2} \\right)} \\dot{q}_{1} \\dot{q}_{3}}{4} - \\frac{m q_{3} \\dot{q}_{1} \\dot{q}_{3}}{4}\\\\\\frac{g m q_{3} \\cos{\\left(q_{1} - q_{2} \\right)}}{8} - \\frac{g m q_{3} \\cos{\\left(q_{1} + q_{2} \\right)}}{8} - k_{t} q_{2} - \\frac{l^{2} m \\sin{\\left(2 q_{2} \\right)} \\dot{q}_{1}^{2}}{24} - \\frac{m q_{3}^{2} \\sin{\\left(2 q_{2} \\right)} \\dot{q}_{1}^{2}}{8} - \\frac{m q_{3} \\dot{q}_{2} \\dot{q}_{3}}{2}\\\\- \\frac{g m \\sin{\\left(q_{1} \\right)} \\cos{\\left(q_{2} \\right)}}{4} - k_{l} q_{3} + \\frac{m q_{3} \\cos^{2}{\\left(q_{2} \\right)} \\dot{q}_{1}^{2}}{4} + \\frac{m q_{3} \\dot{q}_{2}^{2}}{4}\\end{matrix}\\right]$"
      ],
      "text/plain": [
       "⎡                                                                         2   \n",
       "⎢  7⋅g⋅l⋅m⋅sin(q₁)   g⋅m⋅q₃⋅cos(q₁ - q₂)   g⋅m⋅q₃⋅cos(q₁ + q₂)           l ⋅m⋅\n",
       "⎢- ─────────────── - ─────────────────── - ─────────────────── - kₜ⋅q₁ + ─────\n",
       "⎢         4                   8                     8                         \n",
       "⎢                                                                             \n",
       "⎢                                                                             \n",
       "⎢                                            g⋅m⋅q₃⋅cos(q₁ - q₂)   g⋅m⋅q₃⋅cos(\n",
       "⎢                                            ─────────────────── - ───────────\n",
       "⎢                                                     8                     8 \n",
       "⎢                                                                             \n",
       "⎢                                                                             \n",
       "⎢                                                                    g⋅m⋅sin(q\n",
       "⎢                                                                  - ─────────\n",
       "⎣                                                                             \n",
       "\n",
       "                                   2                           2              \n",
       "sin(2⋅q₂)⋅q₁̇⋅q₂̇   l⋅m⋅q₃⋅cos(q₂)⋅q₂̇    l⋅m⋅sin(q₂)⋅q₂̇⋅q₃̇   m⋅q₃ ⋅sin(2⋅q₂\n",
       "─────────────── + ────────────────── + ───────────────── + ───────────────────\n",
       "    12                    4                    2                     4        \n",
       "                                                                              \n",
       "                    2               2       2             2                   \n",
       "q₁ + q₂)           l ⋅m⋅sin(2⋅q₂)⋅q₁̇    m⋅q₃ ⋅sin(2⋅q₂)⋅q₁̇    m⋅q₃⋅q₂̇⋅q₃̇  \n",
       "──────── - kₜ⋅q₂ - ────────────────── - ─────────────────── - ──────────      \n",
       "                           24                    8                2           \n",
       "                                                                              \n",
       "                             2       2          2                             \n",
       "₁)⋅cos(q₂)           m⋅q₃⋅cos (q₂)⋅q₁̇    m⋅q₃⋅q₂̇                            \n",
       "────────── - kₗ⋅q₃ + ───────────────── + ────────                             \n",
       "4                            4              4                                 \n",
       "\n",
       "                                      ⎤\n",
       ")⋅q₁̇⋅q₂̇   m⋅q₃⋅cos(2⋅q₂)⋅q₁̇⋅q₃̇   m⋅q₃⋅q₁̇⋅q₃̇⎥\n",
       "── - ──────────────────── - ──────────⎥\n",
       "              4                 4     ⎥\n",
       "                                      ⎥\n",
       "                                      ⎥\n",
       "                                          ⎥\n",
       "                                      ⎥\n",
       "                                      ⎥\n",
       "                                      ⎥\n",
       "                                      ⎥\n",
       "                                        ⎥\n",
       "                                      ⎥\n",
       "                                      ⎦"
      ]
     },
     "execution_count": 21,
     "metadata": {},
     "output_type": "execute_result"
    }
   ],
   "source": [
    "gd"
   ]
  },
  {
   "cell_type": "code",
   "execution_count": 22,
   "id": "2619fc60",
   "metadata": {
    "execution": {
     "iopub.execute_input": "2025-09-25T05:54:44.646008Z",
     "iopub.status.busy": "2025-09-25T05:54:44.645857Z",
     "iopub.status.idle": "2025-09-25T05:54:46.318040Z",
     "shell.execute_reply": "2025-09-25T05:54:46.317438Z"
    }
   },
   "outputs": [
    {
     "data": {
      "text/latex": [
       "$\\displaystyle \\left[\\begin{matrix}\\frac{m \\left(l^{2} \\cos^{2}{\\left(q_{2} \\right)} \\dot{q}_{1} + 19 l^{2} \\dot{q}_{1} - 3 l q_{3} \\sin{\\left(q_{2} \\right)} \\dot{q}_{2} + 3 l \\cos{\\left(q_{2} \\right)} \\dot{q}_{3} + 3 q_{3}^{2} \\cos^{2}{\\left(q_{2} \\right)} \\dot{q}_{1}\\right)}{12}\\\\\\frac{l^{2} m \\dot{q}_{2}}{12} + \\frac{m \\left(- l \\sin{\\left(q_{2} \\right)} \\dot{q}_{1} + q_{3} \\dot{q}_{2}\\right) q_{3}}{4}\\\\\\frac{m \\left(l \\cos{\\left(q_{2} \\right)} \\dot{q}_{1} + \\dot{q}_{3}\\right)}{4}\\end{matrix}\\right]$"
      ],
      "text/plain": [
       "⎡  ⎛ 2    2              2                                               2    \n",
       "⎢m⋅⎝l ⋅cos (q₂)⋅q₁̇ + 19⋅l ⋅q₁̇ - 3⋅l⋅q₃⋅sin(q₂)⋅q₂̇ + 3⋅l⋅cos(q₂)⋅q₃̇ + 3⋅q₃ \n",
       "⎢─────────────────────────────────────────────────────────────────────────────\n",
       "⎢                                          12                                 \n",
       "⎢                                                                             \n",
       "⎢                         2                                                   \n",
       "⎢                        l ⋅m⋅q₂̇   m⋅(-l⋅sin(q₂)⋅q₁̇ + q₃⋅q₂̇)⋅q₃            \n",
       "⎢                        ─────── + ────────────────────────────               \n",
       "⎢                           12                  4                             \n",
       "⎢                                                                             \n",
       "⎢                                m⋅(l⋅cos(q₂)⋅q₁̇ + q₃̇)                      \n",
       "⎢                                ─────────────────────                        \n",
       "⎣                                          4                                  \n",
       "\n",
       "2       ⎞⎤\n",
       "⋅cos (q₂)⋅q₁̇⎠⎥\n",
       "─────────⎥\n",
       "         ⎥\n",
       "         ⎥\n",
       "         ⎥\n",
       "            ⎥\n",
       "         ⎥\n",
       "         ⎥\n",
       "         ⎥\n",
       "           ⎥\n",
       "         ⎥\n",
       "         ⎦"
      ]
     },
     "execution_count": 22,
     "metadata": {},
     "output_type": "execute_result"
    }
   ],
   "source": [
    "p = L.jacobian(qd).transpose()\n",
    "sm.trigsimp(p)"
   ]
  },
  {
   "cell_type": "code",
   "execution_count": 23,
   "id": "e7d112c9",
   "metadata": {
    "execution": {
     "iopub.execute_input": "2025-09-25T05:54:46.319498Z",
     "iopub.status.busy": "2025-09-25T05:54:46.319352Z",
     "iopub.status.idle": "2025-09-25T05:54:46.329784Z",
     "shell.execute_reply": "2025-09-25T05:54:46.329387Z"
    }
   },
   "outputs": [],
   "source": [
    "psi,theta, phi, x, y, z = me.dynamicsymbols('psi theta phi x y z')\n",
    "N = me.ReferenceFrame('N')\n",
    "B = me.ReferenceFrame('B')\n",
    "B.orient_body_fixed(N, (psi, theta, phi), 'zxy')\n",
    "\n",
    "# Mass and inertia\n",
    "m, Ixx, Iyy, Izz = sm.symbols('M, I_{xx}, I_{yy}, I_{zz}')\n",
    "I_B = me.inertia(B, Ixx, Iyy, Izz)"
   ]
  },
  {
   "cell_type": "code",
   "execution_count": 24,
   "id": "1bf2c79d",
   "metadata": {
    "execution": {
     "iopub.execute_input": "2025-09-25T05:54:46.330976Z",
     "iopub.status.busy": "2025-09-25T05:54:46.330836Z",
     "iopub.status.idle": "2025-09-25T05:54:46.343803Z",
     "shell.execute_reply": "2025-09-25T05:54:46.343404Z"
    }
   },
   "outputs": [],
   "source": [
    "omega_B = B.ang_vel_in(N)\n",
    "r_com = x*N.x + y*N.y + z*N.z\n",
    "v_com = r_com.dt(N)\n",
    "K = omega_B.dot(I_B.dot(omega_B))/2 + m*v_com.dot(v_com)/2"
   ]
  },
  {
   "cell_type": "code",
   "execution_count": 25,
   "id": "9d2de9ae",
   "metadata": {
    "execution": {
     "iopub.execute_input": "2025-09-25T05:54:46.345073Z",
     "iopub.status.busy": "2025-09-25T05:54:46.344938Z",
     "iopub.status.idle": "2025-09-25T05:54:46.545325Z",
     "shell.execute_reply": "2025-09-25T05:54:46.544814Z"
    }
   },
   "outputs": [],
   "source": [
    "t = me.dynamicsymbols._t\n",
    "q = sm.Matrix([psi, theta, phi, x, y, z])\n",
    "qd = q.diff(t)\n",
    "qdd = qd.diff(t)\n",
    "\n",
    "L = sm.Matrix([K])\n",
    "fd = L.jacobian(qd).diff(t) - L.jacobian(q)\n",
    "\n",
    "qdd_zerod = {qddr: 0 for qddr in qdd}\n",
    "Md = fd.jacobian(qdd)\n",
    "gd = fd.xreplace(qdd_zerod)"
   ]
  },
  {
   "cell_type": "code",
   "execution_count": 26,
   "id": "50d67e30",
   "metadata": {
    "execution": {
     "iopub.execute_input": "2025-09-25T05:54:46.546738Z",
     "iopub.status.busy": "2025-09-25T05:54:46.546579Z",
     "iopub.status.idle": "2025-09-25T05:54:47.758952Z",
     "shell.execute_reply": "2025-09-25T05:54:47.758421Z"
    }
   },
   "outputs": [
    {
     "data": {
      "text/latex": [
       "$\\displaystyle \\left[\\begin{matrix}- r \\left(\\sin{\\left(\\psi \\right)} \\dot{\\theta} + \\cos{\\left(\\psi \\right)} \\cos{\\left(\\theta \\right)} \\dot{\\phi}\\right) + \\dot{x}\\\\r \\left(- \\sin{\\left(\\psi \\right)} \\cos{\\left(\\theta \\right)} \\dot{\\phi} + \\cos{\\left(\\psi \\right)} \\dot{\\theta}\\right) + \\dot{y}\\\\\\dot{z}\\end{matrix}\\right]$"
      ],
      "text/plain": [
       "⎡-r⋅(sin(ψ)⋅θ̇ + cos(ψ)⋅cos(θ)⋅φ̇) + ẋ⎤\n",
       "⎢                                   ⎥\n",
       "⎢r⋅(-sin(ψ)⋅cos(θ)⋅φ̇ + cos(ψ)⋅θ̇) + ẏ⎥\n",
       "⎢                                   ⎥\n",
       "⎣                 ż                 ⎦"
      ]
     },
     "execution_count": 26,
     "metadata": {},
     "output_type": "execute_result"
    }
   ],
   "source": [
    "r = sm.symbols('r')\n",
    "lambda1, lambda2, lambda3 = me.dynamicsymbols('lambda1, lambda2, lambda3')\n",
    "\n",
    "constraint = (v_com + B.ang_vel_in(N).cross(-r*N.z)).to_matrix(N)\n",
    "sm.trigsimp(constraint)"
   ]
  },
  {
   "cell_type": "code",
   "execution_count": 27,
   "id": "4515ceb3",
   "metadata": {
    "execution": {
     "iopub.execute_input": "2025-09-25T05:54:47.760377Z",
     "iopub.status.busy": "2025-09-25T05:54:47.760227Z",
     "iopub.status.idle": "2025-09-25T05:54:48.704794Z",
     "shell.execute_reply": "2025-09-25T05:54:48.704310Z"
    }
   },
   "outputs": [
    {
     "data": {
      "text/latex": [
       "$\\displaystyle \\left[\\begin{matrix}0 & - r \\sin{\\left(\\psi \\right)} & - r \\cos{\\left(\\psi \\right)} \\cos{\\left(\\theta \\right)} & 1 & 0 & 0\\\\0 & r \\cos{\\left(\\psi \\right)} & - r \\sin{\\left(\\psi \\right)} \\cos{\\left(\\theta \\right)} & 0 & 1 & 0\\\\0 & 0 & 0 & 0 & 0 & 1\\end{matrix}\\right]$"
      ],
      "text/plain": [
       "⎡0  -r⋅sin(ψ)  -r⋅cos(ψ)⋅cos(θ)  1  0  0⎤\n",
       "⎢                                       ⎥\n",
       "⎢0  r⋅cos(ψ)   -r⋅sin(ψ)⋅cos(θ)  0  1  0⎥\n",
       "⎢                                       ⎥\n",
       "⎣0      0             0          0  0  1⎦"
      ]
     },
     "execution_count": 27,
     "metadata": {},
     "output_type": "execute_result"
    }
   ],
   "source": [
    "Mhn = constraint.jacobian(qd)\n",
    "sm.trigsimp(Mhn)"
   ]
  },
  {
   "cell_type": "code",
   "execution_count": 28,
   "id": "f0643b67",
   "metadata": {
    "execution": {
     "iopub.execute_input": "2025-09-25T05:54:48.706190Z",
     "iopub.status.busy": "2025-09-25T05:54:48.706017Z",
     "iopub.status.idle": "2025-09-25T05:54:48.846556Z",
     "shell.execute_reply": "2025-09-25T05:54:48.846094Z"
    }
   },
   "outputs": [
    {
     "data": {
      "text/latex": [
       "$\\displaystyle \\left[\\begin{matrix}0 & 0 & 0 & 0 & 0 & 0\\\\0 & 0 & 0 & 0 & 0 & 0\\\\0 & 0 & 0 & 0 & 0 & 0\\end{matrix}\\right]$"
      ],
      "text/plain": [
       "⎡0  0  0  0  0  0⎤\n",
       "⎢                ⎥\n",
       "⎢0  0  0  0  0  0⎥\n",
       "⎢                ⎥\n",
       "⎣0  0  0  0  0  0⎦"
      ]
     },
     "execution_count": 28,
     "metadata": {},
     "output_type": "execute_result"
    }
   ],
   "source": [
    "diff_constraint = constraint.diff(t)\n",
    "diff_constraint.jacobian(qdd) - Mhn"
   ]
  },
  {
   "cell_type": "code",
   "execution_count": 29,
   "id": "c27e9386",
   "metadata": {
    "execution": {
     "iopub.execute_input": "2025-09-25T05:54:48.847823Z",
     "iopub.status.busy": "2025-09-25T05:54:48.847685Z",
     "iopub.status.idle": "2025-09-25T05:54:53.105931Z",
     "shell.execute_reply": "2025-09-25T05:54:53.105446Z"
    }
   },
   "outputs": [
    {
     "data": {
      "text/latex": [
       "$\\displaystyle \\left[\\begin{matrix}- r \\left(- \\sin{\\left(\\psi \\right)} \\cos{\\left(\\theta \\right)} \\dot{\\phi} \\dot{\\psi} - \\sin{\\left(\\theta \\right)} \\cos{\\left(\\psi \\right)} \\dot{\\phi} \\dot{\\theta} + \\cos{\\left(\\psi \\right)} \\dot{\\psi} \\dot{\\theta}\\right)\\\\r \\left(\\sin{\\left(\\psi \\right)} \\sin{\\left(\\theta \\right)} \\dot{\\phi} \\dot{\\theta} - \\sin{\\left(\\psi \\right)} \\dot{\\psi} \\dot{\\theta} - \\cos{\\left(\\psi \\right)} \\cos{\\left(\\theta \\right)} \\dot{\\phi} \\dot{\\psi}\\right)\\\\0\\end{matrix}\\right]$"
      ],
      "text/plain": [
       "⎡-r⋅(-sin(ψ)⋅cos(θ)⋅φ̇⋅ψ̇ - sin(θ)⋅cos(ψ)⋅φ̇⋅θ̇ + cos(ψ)⋅ψ̇⋅θ̇)⎤\n",
       "⎢                                                        ⎥\n",
       "⎢ r⋅(sin(ψ)⋅sin(θ)⋅φ̇⋅θ̇ - sin(ψ)⋅ψ̇⋅θ̇ - cos(ψ)⋅cos(θ)⋅φ̇⋅ψ̇) ⎥\n",
       "⎢                                                        ⎥\n",
       "⎣                           0                            ⎦"
      ]
     },
     "execution_count": 29,
     "metadata": {},
     "output_type": "execute_result"
    }
   ],
   "source": [
    "ghnd = diff_constraint.xreplace({qddr : 0 for qddr in qdd})\n",
    "sm.trigsimp(ghnd)"
   ]
  }
 ],
 "metadata": {
  "kernelspec": {
   "display_name": "Python 3 (ipykernel)",
   "language": "python",
   "name": "python3"
  },
  "language_info": {
   "codemirror_mode": {
    "name": "ipython",
    "version": 3
   },
   "file_extension": ".py",
   "mimetype": "text/x-python",
   "name": "python",
   "nbconvert_exporter": "python",
   "pygments_lexer": "ipython3",
   "version": "3.11.13"
  }
 },
 "nbformat": 4,
 "nbformat_minor": 5
}