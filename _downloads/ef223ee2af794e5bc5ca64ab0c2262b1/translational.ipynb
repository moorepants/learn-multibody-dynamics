{
 "cells": [
  {
   "cell_type": "code",
   "execution_count": 1,
   "id": "538305d1",
   "metadata": {
    "execution": {
     "iopub.execute_input": "2025-09-11T11:38:35.943414Z",
     "iopub.status.busy": "2025-09-11T11:38:35.943272Z",
     "iopub.status.idle": "2025-09-11T11:38:36.280161Z",
     "shell.execute_reply": "2025-09-11T11:38:36.279693Z"
    }
   },
   "outputs": [],
   "source": [
    "import sympy as sm\n",
    "import sympy.physics.mechanics as me\n",
    "me.init_vprinting(use_latex='mathjax')"
   ]
  },
  {
   "cell_type": "code",
   "execution_count": 2,
   "id": "d92f6ff0",
   "metadata": {
    "execution": {
     "iopub.execute_input": "2025-09-11T11:38:36.281800Z",
     "iopub.status.busy": "2025-09-11T11:38:36.281612Z",
     "iopub.status.idle": "2025-09-11T11:38:36.284943Z",
     "shell.execute_reply": "2025-09-11T11:38:36.284558Z"
    }
   },
   "outputs": [],
   "source": [
    "class ReferenceFrame(me.ReferenceFrame):\n",
    "\n",
    "    def __init__(self, *args, **kwargs):\n",
    "\n",
    "        kwargs.pop('latexs', None)\n",
    "\n",
    "        lab = args[0].lower()\n",
    "        tex = r'\\hat{{{}}}_{}'\n",
    "\n",
    "        super(ReferenceFrame, self).__init__(*args,\n",
    "                                             latexs=(tex.format(lab, 'x'),\n",
    "                                                     tex.format(lab, 'y'),\n",
    "                                                     tex.format(lab, 'z')),\n",
    "                                             **kwargs)\n",
    "me.ReferenceFrame = ReferenceFrame"
   ]
  },
  {
   "cell_type": "code",
   "execution_count": 3,
   "id": "3c2ae9af",
   "metadata": {
    "execution": {
     "iopub.execute_input": "2025-09-11T11:38:36.286281Z",
     "iopub.status.busy": "2025-09-11T11:38:36.286103Z",
     "iopub.status.idle": "2025-09-11T11:38:36.297105Z",
     "shell.execute_reply": "2025-09-11T11:38:36.296586Z"
    }
   },
   "outputs": [],
   "source": [
    "alpha, beta = me.dynamicsymbols('alpha, beta')\n",
    "\n",
    "N = me.ReferenceFrame('N')\n",
    "A = me.ReferenceFrame('A')\n",
    "B = me.ReferenceFrame('B')\n",
    "\n",
    "A.orient_axis(N, alpha, N.z)\n",
    "B.orient_axis(A, beta, A.x)"
   ]
  },
  {
   "cell_type": "code",
   "execution_count": 4,
   "id": "caa1d96a",
   "metadata": {
    "execution": {
     "iopub.execute_input": "2025-09-11T11:38:36.298521Z",
     "iopub.status.busy": "2025-09-11T11:38:36.298368Z",
     "iopub.status.idle": "2025-09-11T11:38:36.305672Z",
     "shell.execute_reply": "2025-09-11T11:38:36.305161Z"
    }
   },
   "outputs": [
    {
     "data": {
      "text/latex": [
       "$\\displaystyle \\left( h\\hat{n}_z, \\  -  d\\hat{a}_x, \\  -  w\\hat{b}_x + (- c - \\frac{l}{2})\\hat{b}_z\\right)$"
      ],
      "text/plain": [
       "⎛h n_z, -d a_x,            ⎛     l⎞  ⎞\n",
       "⎜               -w b_x + ⎜-c - ─⎟ b_z⎟\n",
       "⎝                          ⎝     2⎠  ⎠"
      ]
     },
     "execution_count": 4,
     "metadata": {},
     "output_type": "execute_result"
    }
   ],
   "source": [
    "h, d, w, c, l = sm.symbols('h, d, w, c, l')\n",
    "\n",
    "r_O_P = h*N.z\n",
    "r_P_S = -d*A.x\n",
    "r_S_Q = -w*B.x - (c + l/2)*B.z\n",
    "\n",
    "r_O_P, r_P_S, r_S_Q"
   ]
  },
  {
   "cell_type": "code",
   "execution_count": 5,
   "id": "8c81be73",
   "metadata": {
    "execution": {
     "iopub.execute_input": "2025-09-11T11:38:36.307068Z",
     "iopub.status.busy": "2025-09-11T11:38:36.306918Z",
     "iopub.status.idle": "2025-09-11T11:38:36.312589Z",
     "shell.execute_reply": "2025-09-11T11:38:36.312094Z"
    }
   },
   "outputs": [
    {
     "data": {
      "text/latex": [
       "$\\displaystyle 0$"
      ],
      "text/plain": [
       "0"
      ]
     },
     "execution_count": 5,
     "metadata": {},
     "output_type": "execute_result"
    }
   ],
   "source": [
    "(r_O_P + r_P_S).dt(A)"
   ]
  },
  {
   "cell_type": "code",
   "execution_count": 6,
   "id": "3af1168a",
   "metadata": {
    "execution": {
     "iopub.execute_input": "2025-09-11T11:38:36.313872Z",
     "iopub.status.busy": "2025-09-11T11:38:36.313736Z",
     "iopub.status.idle": "2025-09-11T11:38:36.317614Z",
     "shell.execute_reply": "2025-09-11T11:38:36.317179Z"
    }
   },
   "outputs": [
    {
     "data": {
      "text/latex": [
       "$\\displaystyle \\dot{\\alpha}\\hat{n}_z$"
      ],
      "text/plain": [
       "α̇ n_z"
      ]
     },
     "execution_count": 6,
     "metadata": {},
     "output_type": "execute_result"
    }
   ],
   "source": [
    "A.ang_vel_in(N)"
   ]
  },
  {
   "cell_type": "code",
   "execution_count": 7,
   "id": "9c0471c9",
   "metadata": {
    "execution": {
     "iopub.execute_input": "2025-09-11T11:38:36.318799Z",
     "iopub.status.busy": "2025-09-11T11:38:36.318656Z",
     "iopub.status.idle": "2025-09-11T11:38:36.326060Z",
     "shell.execute_reply": "2025-09-11T11:38:36.325552Z"
    }
   },
   "outputs": [
    {
     "data": {
      "text/latex": [
       "$\\displaystyle -  d \\dot{\\alpha}\\hat{a}_y$"
      ],
      "text/plain": [
       "-d⋅α̇ a_y"
      ]
     },
     "execution_count": 7,
     "metadata": {},
     "output_type": "execute_result"
    }
   ],
   "source": [
    "me.cross(A.ang_vel_in(N), r_O_P + r_P_S)"
   ]
  },
  {
   "cell_type": "code",
   "execution_count": 8,
   "id": "81dd56e2",
   "metadata": {
    "execution": {
     "iopub.execute_input": "2025-09-11T11:38:36.327431Z",
     "iopub.status.busy": "2025-09-11T11:38:36.327274Z",
     "iopub.status.idle": "2025-09-11T11:38:36.336221Z",
     "shell.execute_reply": "2025-09-11T11:38:36.335720Z"
    }
   },
   "outputs": [
    {
     "data": {
      "text/latex": [
       "$\\displaystyle -  d \\dot{\\alpha}\\hat{a}_y$"
      ],
      "text/plain": [
       "-d⋅α̇ a_y"
      ]
     },
     "execution_count": 8,
     "metadata": {},
     "output_type": "execute_result"
    }
   ],
   "source": [
    "N_v_S = (r_O_P + r_P_S).dt(A) + me.cross(A.ang_vel_in(N), r_O_P + r_P_S)\n",
    "N_v_S"
   ]
  },
  {
   "cell_type": "code",
   "execution_count": 9,
   "id": "c9ad7871",
   "metadata": {
    "execution": {
     "iopub.execute_input": "2025-09-11T11:38:36.337530Z",
     "iopub.status.busy": "2025-09-11T11:38:36.337383Z",
     "iopub.status.idle": "2025-09-11T11:38:36.342853Z",
     "shell.execute_reply": "2025-09-11T11:38:36.342352Z"
    }
   },
   "outputs": [
    {
     "data": {
      "text/latex": [
       "$\\displaystyle 0$"
      ],
      "text/plain": [
       "0"
      ]
     },
     "execution_count": 9,
     "metadata": {},
     "output_type": "execute_result"
    }
   ],
   "source": [
    "(r_P_S + r_S_Q).dt(B)"
   ]
  },
  {
   "cell_type": "code",
   "execution_count": 10,
   "id": "60bd5a5b",
   "metadata": {
    "execution": {
     "iopub.execute_input": "2025-09-11T11:38:36.344152Z",
     "iopub.status.busy": "2025-09-11T11:38:36.344003Z",
     "iopub.status.idle": "2025-09-11T11:38:36.361130Z",
     "shell.execute_reply": "2025-09-11T11:38:36.360655Z"
    }
   },
   "outputs": [
    {
     "data": {
      "text/latex": [
       "$\\displaystyle -  d \\dot{\\alpha}\\hat{a}_y + \\left(- c - \\frac{l}{2}\\right) \\sin{\\left(\\beta \\right)} \\dot{\\alpha}\\hat{b}_x + (- w \\cos{\\left(\\beta \\right)} \\dot{\\alpha} - \\left(- c - \\frac{l}{2}\\right) \\dot{\\beta})\\hat{b}_y + w \\sin{\\left(\\beta \\right)} \\dot{\\alpha}\\hat{b}_z$"
      ],
      "text/plain": [
       "           ⎛     l⎞                ⎛              ⎛     l⎞  ⎞\n",
       "-d⋅α̇ a_y + ⎜-c - ─⎟⋅sin(β)⋅α̇ b_x + ⎜-w⋅cos(β)⋅α̇ - ⎜-c - ─⎟⋅β̇⎟ b_y + w⋅sin(\n",
       "           ⎝     2⎠                ⎝              ⎝     2⎠  ⎠\n",
       "\n",
       "\n",
       "β)⋅α̇ b_z\n"
      ]
     },
     "execution_count": 10,
     "metadata": {},
     "output_type": "execute_result"
    }
   ],
   "source": [
    "me.cross(B.ang_vel_in(N), r_P_S + r_S_Q)"
   ]
  },
  {
   "cell_type": "code",
   "execution_count": 11,
   "id": "6cb050a3",
   "metadata": {
    "execution": {
     "iopub.execute_input": "2025-09-11T11:38:36.362512Z",
     "iopub.status.busy": "2025-09-11T11:38:36.362359Z",
     "iopub.status.idle": "2025-09-11T11:38:36.375461Z",
     "shell.execute_reply": "2025-09-11T11:38:36.374960Z"
    }
   },
   "outputs": [
    {
     "data": {
      "text/latex": [
       "$\\displaystyle -  d \\dot{\\alpha}\\hat{a}_y + \\left(- c - \\frac{l}{2}\\right) \\sin{\\left(\\beta \\right)} \\dot{\\alpha}\\hat{b}_x + (- w \\cos{\\left(\\beta \\right)} \\dot{\\alpha} - \\left(- c - \\frac{l}{2}\\right) \\dot{\\beta})\\hat{b}_y + w \\sin{\\left(\\beta \\right)} \\dot{\\alpha}\\hat{b}_z$"
      ],
      "text/plain": [
       "           ⎛     l⎞                ⎛              ⎛     l⎞  ⎞\n",
       "-d⋅α̇ a_y + ⎜-c - ─⎟⋅sin(β)⋅α̇ b_x + ⎜-w⋅cos(β)⋅α̇ - ⎜-c - ─⎟⋅β̇⎟ b_y + w⋅sin(\n",
       "           ⎝     2⎠                ⎝              ⎝     2⎠  ⎠\n",
       "\n",
       "\n",
       "β)⋅α̇ b_z\n"
      ]
     },
     "execution_count": 11,
     "metadata": {},
     "output_type": "execute_result"
    }
   ],
   "source": [
    "N_v_Q = (r_P_S + r_S_Q).dt(B) + me.cross(B.ang_vel_in(N), r_P_S + r_S_Q)\n",
    "N_v_Q"
   ]
  },
  {
   "cell_type": "code",
   "execution_count": 12,
   "id": "23f21297",
   "metadata": {
    "execution": {
     "iopub.execute_input": "2025-09-11T11:38:36.376703Z",
     "iopub.status.busy": "2025-09-11T11:38:36.376555Z",
     "iopub.status.idle": "2025-09-11T11:38:36.380695Z",
     "shell.execute_reply": "2025-09-11T11:38:36.380197Z"
    }
   },
   "outputs": [],
   "source": [
    "O = me.Point('O')\n",
    "P = me.Point('P')\n",
    "S = me.Point('S')\n",
    "Q = me.Point('Q')\n",
    "\n",
    "P.set_pos(O, h*N.z)\n",
    "S.set_pos(P, -d*A.x)\n",
    "Q.set_pos(S, -w*B.x - (c + l/2)*B.z)"
   ]
  },
  {
   "cell_type": "code",
   "execution_count": 13,
   "id": "b08fd611",
   "metadata": {
    "execution": {
     "iopub.execute_input": "2025-09-11T11:38:36.381968Z",
     "iopub.status.busy": "2025-09-11T11:38:36.381827Z",
     "iopub.status.idle": "2025-09-11T11:38:36.386401Z",
     "shell.execute_reply": "2025-09-11T11:38:36.385907Z"
    }
   },
   "outputs": [
    {
     "data": {
      "text/latex": [
       "$\\displaystyle -  w\\hat{b}_x + (- c - \\frac{l}{2})\\hat{b}_z -  d\\hat{a}_x + h\\hat{n}_z$"
      ],
      "text/plain": [
       "         ⎛     l⎞\n",
       "-w b_x + ⎜-c - ─⎟ b_z + -d a_x + h n_z\n",
       "         ⎝     2⎠"
      ]
     },
     "execution_count": 13,
     "metadata": {},
     "output_type": "execute_result"
    }
   ],
   "source": [
    "Q.pos_from(O)"
   ]
  },
  {
   "cell_type": "code",
   "execution_count": 14,
   "id": "45e31346",
   "metadata": {
    "execution": {
     "iopub.execute_input": "2025-09-11T11:38:36.387589Z",
     "iopub.status.busy": "2025-09-11T11:38:36.387458Z",
     "iopub.status.idle": "2025-09-11T11:38:36.389537Z",
     "shell.execute_reply": "2025-09-11T11:38:36.389131Z"
    }
   },
   "outputs": [],
   "source": [
    "O.set_vel(N, 0)"
   ]
  },
  {
   "cell_type": "code",
   "execution_count": 15,
   "id": "285d66b9",
   "metadata": {
    "execution": {
     "iopub.execute_input": "2025-09-11T11:38:36.390822Z",
     "iopub.status.busy": "2025-09-11T11:38:36.390683Z",
     "iopub.status.idle": "2025-09-11T11:38:36.404996Z",
     "shell.execute_reply": "2025-09-11T11:38:36.404575Z"
    }
   },
   "outputs": [
    {
     "data": {
      "text/latex": [
       "$\\displaystyle \\left(- c - \\frac{l}{2}\\right) \\sin{\\left(\\beta \\right)} \\dot{\\alpha}\\hat{b}_x + (- w \\cos{\\left(\\beta \\right)} \\dot{\\alpha} - \\left(- c - \\frac{l}{2}\\right) \\dot{\\beta})\\hat{b}_y + w \\sin{\\left(\\beta \\right)} \\dot{\\alpha}\\hat{b}_z -  d \\dot{\\alpha}\\hat{a}_y$"
      ],
      "text/plain": [
       "⎛     l⎞                ⎛              ⎛     l⎞  ⎞\n",
       "⎜-c - ─⎟⋅sin(β)⋅α̇ b_x + ⎜-w⋅cos(β)⋅α̇ - ⎜-c - ─⎟⋅β̇⎟ b_y + w⋅sin(β)⋅α̇ b_z +\n",
       "⎝     2⎠                ⎝              ⎝     2⎠  ⎠\n",
       "\n",
       "\n",
       "-d⋅α̇ a_y\n"
      ]
     },
     "execution_count": 15,
     "metadata": {},
     "output_type": "execute_result"
    }
   ],
   "source": [
    "Q.vel(N)"
   ]
  },
  {
   "cell_type": "code",
   "execution_count": 16,
   "id": "0b0ac069",
   "metadata": {
    "execution": {
     "iopub.execute_input": "2025-09-11T11:38:36.406321Z",
     "iopub.status.busy": "2025-09-11T11:38:36.406162Z",
     "iopub.status.idle": "2025-09-11T11:38:36.414429Z",
     "shell.execute_reply": "2025-09-11T11:38:36.413893Z"
    }
   },
   "outputs": [
    {
     "data": {
      "text/latex": [
       "$\\displaystyle c \\dot{\\beta}\\hat{b}_y$"
      ],
      "text/plain": [
       "c⋅β̇ b_y"
      ]
     },
     "execution_count": 16,
     "metadata": {},
     "output_type": "execute_result"
    }
   ],
   "source": [
    "Bc = me.Point('B_c')\n",
    "Bc.set_pos(S, -c*B.z - w/2*A.x)\n",
    "me.cross(B.ang_vel_in(A), Bc.pos_from(S))"
   ]
  },
  {
   "cell_type": "code",
   "execution_count": 17,
   "id": "484fba20",
   "metadata": {
    "execution": {
     "iopub.execute_input": "2025-09-11T11:38:36.415739Z",
     "iopub.status.busy": "2025-09-11T11:38:36.415588Z",
     "iopub.status.idle": "2025-09-11T11:38:36.417997Z",
     "shell.execute_reply": "2025-09-11T11:38:36.417502Z"
    }
   },
   "outputs": [],
   "source": [
    "N_v_P = 0*N.z"
   ]
  },
  {
   "cell_type": "code",
   "execution_count": 18,
   "id": "1208d719",
   "metadata": {
    "execution": {
     "iopub.execute_input": "2025-09-11T11:38:36.419347Z",
     "iopub.status.busy": "2025-09-11T11:38:36.419180Z",
     "iopub.status.idle": "2025-09-11T11:38:36.424671Z",
     "shell.execute_reply": "2025-09-11T11:38:36.424282Z"
    }
   },
   "outputs": [
    {
     "data": {
      "text/latex": [
       "$\\displaystyle -  d \\dot{\\alpha}\\hat{a}_y$"
      ],
      "text/plain": [
       "-d⋅α̇ a_y"
      ]
     },
     "execution_count": 18,
     "metadata": {},
     "output_type": "execute_result"
    }
   ],
   "source": [
    "N_v_S = N_v_P +  me.cross(A.ang_vel_in(N), S.pos_from(P))\n",
    "N_v_S"
   ]
  },
  {
   "cell_type": "code",
   "execution_count": 19,
   "id": "1801045d",
   "metadata": {
    "execution": {
     "iopub.execute_input": "2025-09-11T11:38:36.425897Z",
     "iopub.status.busy": "2025-09-11T11:38:36.425760Z",
     "iopub.status.idle": "2025-09-11T11:38:36.431058Z",
     "shell.execute_reply": "2025-09-11T11:38:36.430663Z"
    }
   },
   "outputs": [
    {
     "data": {
      "text/latex": [
       "$\\displaystyle -  d \\dot{\\alpha}\\hat{a}_y$"
      ],
      "text/plain": [
       "-d⋅α̇ a_y"
      ]
     },
     "execution_count": 19,
     "metadata": {},
     "output_type": "execute_result"
    }
   ],
   "source": [
    "P.set_vel(N, 0)\n",
    "S.v2pt_theory(P, N, A)"
   ]
  },
  {
   "cell_type": "code",
   "execution_count": 20,
   "id": "096a1581",
   "metadata": {
    "execution": {
     "iopub.execute_input": "2025-09-11T11:38:36.432262Z",
     "iopub.status.busy": "2025-09-11T11:38:36.432100Z",
     "iopub.status.idle": "2025-09-11T11:38:36.435854Z",
     "shell.execute_reply": "2025-09-11T11:38:36.435377Z"
    }
   },
   "outputs": [
    {
     "data": {
      "text/latex": [
       "$\\displaystyle -  d \\dot{\\alpha}\\hat{a}_y$"
      ],
      "text/plain": [
       "-d⋅α̇ a_y"
      ]
     },
     "execution_count": 20,
     "metadata": {},
     "output_type": "execute_result"
    }
   ],
   "source": [
    "S.vel(N)"
   ]
  },
  {
   "cell_type": "code",
   "execution_count": 21,
   "id": "1f590a3f",
   "metadata": {
    "execution": {
     "iopub.execute_input": "2025-09-11T11:38:36.437226Z",
     "iopub.status.busy": "2025-09-11T11:38:36.437071Z",
     "iopub.status.idle": "2025-09-11T11:38:36.446743Z",
     "shell.execute_reply": "2025-09-11T11:38:36.446230Z"
    }
   },
   "outputs": [
    {
     "data": {
      "text/latex": [
       "$\\displaystyle -  d \\dot{\\alpha}\\hat{a}_y + \\left(- c - \\frac{l}{2}\\right) \\sin{\\left(\\beta \\right)} \\dot{\\alpha}\\hat{b}_x + (- w \\cos{\\left(\\beta \\right)} \\dot{\\alpha} - \\left(- c - \\frac{l}{2}\\right) \\dot{\\beta})\\hat{b}_y + w \\sin{\\left(\\beta \\right)} \\dot{\\alpha}\\hat{b}_z$"
      ],
      "text/plain": [
       "           ⎛     l⎞                ⎛              ⎛     l⎞  ⎞\n",
       "-d⋅α̇ a_y + ⎜-c - ─⎟⋅sin(β)⋅α̇ b_x + ⎜-w⋅cos(β)⋅α̇ - ⎜-c - ─⎟⋅β̇⎟ b_y + w⋅sin(\n",
       "           ⎝     2⎠                ⎝              ⎝     2⎠  ⎠\n",
       "\n",
       "\n",
       "β)⋅α̇ b_z\n"
      ]
     },
     "execution_count": 21,
     "metadata": {},
     "output_type": "execute_result"
    }
   ],
   "source": [
    "N_v_Q = N_v_S +  me.cross(B.ang_vel_in(N), Q.pos_from(S))\n",
    "N_v_Q"
   ]
  },
  {
   "cell_type": "code",
   "execution_count": 22,
   "id": "9b5e890d",
   "metadata": {
    "execution": {
     "iopub.execute_input": "2025-09-11T11:38:36.448062Z",
     "iopub.status.busy": "2025-09-11T11:38:36.447915Z",
     "iopub.status.idle": "2025-09-11T11:38:36.457047Z",
     "shell.execute_reply": "2025-09-11T11:38:36.456663Z"
    }
   },
   "outputs": [
    {
     "data": {
      "text/latex": [
       "$\\displaystyle -  d \\dot{\\alpha}\\hat{a}_y + \\left(- c - \\frac{l}{2}\\right) \\sin{\\left(\\beta \\right)} \\dot{\\alpha}\\hat{b}_x + (- w \\cos{\\left(\\beta \\right)} \\dot{\\alpha} - \\left(- c - \\frac{l}{2}\\right) \\dot{\\beta})\\hat{b}_y + w \\sin{\\left(\\beta \\right)} \\dot{\\alpha}\\hat{b}_z$"
      ],
      "text/plain": [
       "           ⎛     l⎞                ⎛              ⎛     l⎞  ⎞\n",
       "-d⋅α̇ a_y + ⎜-c - ─⎟⋅sin(β)⋅α̇ b_x + ⎜-w⋅cos(β)⋅α̇ - ⎜-c - ─⎟⋅β̇⎟ b_y + w⋅sin(\n",
       "           ⎝     2⎠                ⎝              ⎝     2⎠  ⎠\n",
       "\n",
       "\n",
       "β)⋅α̇ b_z\n"
      ]
     },
     "execution_count": 22,
     "metadata": {},
     "output_type": "execute_result"
    }
   ],
   "source": [
    "Q.v2pt_theory(S, N, B)"
   ]
  },
  {
   "cell_type": "code",
   "execution_count": 23,
   "id": "16f42667",
   "metadata": {
    "execution": {
     "iopub.execute_input": "2025-09-11T11:38:36.458385Z",
     "iopub.status.busy": "2025-09-11T11:38:36.458224Z",
     "iopub.status.idle": "2025-09-11T11:38:36.468583Z",
     "shell.execute_reply": "2025-09-11T11:38:36.468191Z"
    }
   },
   "outputs": [
    {
     "data": {
      "text/latex": [
       "$\\displaystyle (- d \\dot{\\alpha} - \\frac{w \\dot{\\alpha}}{2})\\hat{a}_y -  c \\sin{\\left(\\beta \\right)} \\dot{\\alpha}\\hat{b}_x + c \\dot{\\beta}\\hat{b}_y$"
      ],
      "text/plain": [
       "⎛       w⋅α̇⎞\n",
       "⎜-d⋅α̇ - ───⎟ a_y + -c⋅sin(β)⋅α̇ b_x + c⋅β̇ b_y\n",
       "⎝        2 ⎠"
      ]
     },
     "execution_count": 23,
     "metadata": {},
     "output_type": "execute_result"
    }
   ],
   "source": [
    "Bc = me.Point('B_c')\n",
    "Bc.set_pos(S, -c*B.z - w/2*A.x)\n",
    "Bc.v2pt_theory(S, N, B)"
   ]
  },
  {
   "cell_type": "code",
   "execution_count": 24,
   "id": "40eaeacc",
   "metadata": {
    "execution": {
     "iopub.execute_input": "2025-09-11T11:38:36.469781Z",
     "iopub.status.busy": "2025-09-11T11:38:36.469637Z",
     "iopub.status.idle": "2025-09-11T11:38:36.473203Z",
     "shell.execute_reply": "2025-09-11T11:38:36.472729Z"
    }
   },
   "outputs": [],
   "source": [
    "s = me.dynamicsymbols('s')\n",
    "t = me.dynamicsymbols._t\n",
    "\n",
    "R = me.Point('R')\n",
    "R.set_pos(Q, l*B.z + s*B.x)"
   ]
  },
  {
   "cell_type": "code",
   "execution_count": 25,
   "id": "606687f4",
   "metadata": {
    "execution": {
     "iopub.execute_input": "2025-09-11T11:38:36.474448Z",
     "iopub.status.busy": "2025-09-11T11:38:36.474306Z",
     "iopub.status.idle": "2025-09-11T11:38:36.478390Z",
     "shell.execute_reply": "2025-09-11T11:38:36.477863Z"
    }
   },
   "outputs": [
    {
     "data": {
      "text/latex": [
       "$\\displaystyle \\dot{s}\\hat{b}_x$"
      ],
      "text/plain": [
       "ṡ b_x"
      ]
     },
     "execution_count": 25,
     "metadata": {},
     "output_type": "execute_result"
    }
   ],
   "source": [
    "B_v_R = s.diff(t)*B.x\n",
    "B_v_R"
   ]
  },
  {
   "cell_type": "code",
   "execution_count": 26,
   "id": "8bf429aa",
   "metadata": {
    "execution": {
     "iopub.execute_input": "2025-09-11T11:38:36.479576Z",
     "iopub.status.busy": "2025-09-11T11:38:36.479433Z",
     "iopub.status.idle": "2025-09-11T11:38:36.484083Z",
     "shell.execute_reply": "2025-09-11T11:38:36.483580Z"
    }
   },
   "outputs": [
    {
     "data": {
      "text/latex": [
       "$\\displaystyle (- w + s)\\hat{b}_x + (- c + \\frac{l}{2})\\hat{b}_z$"
      ],
      "text/plain": [
       "               ⎛     l⎞\n",
       "(-w + s) b_x + ⎜-c + ─⎟ b_z\n",
       "               ⎝     2⎠"
      ]
     },
     "execution_count": 26,
     "metadata": {},
     "output_type": "execute_result"
    }
   ],
   "source": [
    "r_S_R = R.pos_from(S)\n",
    "r_S_R"
   ]
  },
  {
   "cell_type": "code",
   "execution_count": 27,
   "id": "b78bd114",
   "metadata": {
    "execution": {
     "iopub.execute_input": "2025-09-11T11:38:36.485353Z",
     "iopub.status.busy": "2025-09-11T11:38:36.485187Z",
     "iopub.status.idle": "2025-09-11T11:38:36.498467Z",
     "shell.execute_reply": "2025-09-11T11:38:36.497966Z"
    }
   },
   "outputs": [
    {
     "data": {
      "text/latex": [
       "$\\displaystyle -  d \\dot{\\alpha}\\hat{a}_y + \\left(- c + \\frac{l}{2}\\right) \\sin{\\left(\\beta \\right)} \\dot{\\alpha}\\hat{b}_x + (- \\left(- c + \\frac{l}{2}\\right) \\dot{\\beta} + \\left(- w + s\\right) \\cos{\\left(\\beta \\right)} \\dot{\\alpha})\\hat{b}_y -  \\left(- w + s\\right) \\sin{\\left(\\beta \\right)} \\dot{\\alpha}\\hat{b}_z$"
      ],
      "text/plain": [
       "           ⎛     l⎞                ⎛  ⎛     l⎞                      ⎞\n",
       "-d⋅α̇ a_y + ⎜-c + ─⎟⋅sin(β)⋅α̇ b_x + ⎜- ⎜-c + ─⎟⋅β̇ + (-w + s)⋅cos(β)⋅α̇⎟ b_y\n",
       "           ⎝     2⎠                ⎝  ⎝     2⎠                      ⎠\n",
       "\n",
       "\n",
       "+ -(-w + s)⋅sin(β)⋅α̇ b_z\n"
      ]
     },
     "execution_count": 27,
     "metadata": {},
     "output_type": "execute_result"
    }
   ],
   "source": [
    "N_v_T = N_v_S + me.cross(B.ang_vel_in(N), r_S_R)\n",
    "N_v_T"
   ]
  },
  {
   "cell_type": "code",
   "execution_count": 28,
   "id": "c2fa8f66",
   "metadata": {
    "execution": {
     "iopub.execute_input": "2025-09-11T11:38:36.499649Z",
     "iopub.status.busy": "2025-09-11T11:38:36.499505Z",
     "iopub.status.idle": "2025-09-11T11:38:36.508030Z",
     "shell.execute_reply": "2025-09-11T11:38:36.507554Z"
    }
   },
   "outputs": [
    {
     "data": {
      "text/latex": [
       "$\\displaystyle (\\left(- c + \\frac{l}{2}\\right) \\sin{\\left(\\beta \\right)} \\dot{\\alpha} + \\dot{s})\\hat{b}_x + (- \\left(- c + \\frac{l}{2}\\right) \\dot{\\beta} + \\left(- w + s\\right) \\cos{\\left(\\beta \\right)} \\dot{\\alpha})\\hat{b}_y -  \\left(- w + s\\right) \\sin{\\left(\\beta \\right)} \\dot{\\alpha}\\hat{b}_z -  d \\dot{\\alpha}\\hat{a}_y$"
      ],
      "text/plain": [
       "⎛⎛     l⎞             ⎞       ⎛  ⎛     l⎞                      ⎞\n",
       "⎜⎜-c + ─⎟⋅sin(β)⋅α̇ + ṡ⎟ b_x + ⎜- ⎜-c + ─⎟⋅β̇ + (-w + s)⋅cos(β)⋅α̇⎟ b_y + -(-\n",
       "⎝⎝     2⎠             ⎠       ⎝  ⎝     2⎠                      ⎠\n",
       "\n",
       "\n",
       "w + s)⋅sin(β)⋅α̇ b_z + -d⋅α̇ a_y\n"
      ]
     },
     "execution_count": 28,
     "metadata": {},
     "output_type": "execute_result"
    }
   ],
   "source": [
    "N_v_R = B_v_R + N_v_T\n",
    "N_v_R"
   ]
  },
  {
   "cell_type": "code",
   "execution_count": 29,
   "id": "1c9a1a1e",
   "metadata": {
    "execution": {
     "iopub.execute_input": "2025-09-11T11:38:36.509355Z",
     "iopub.status.busy": "2025-09-11T11:38:36.509185Z",
     "iopub.status.idle": "2025-09-11T11:38:36.526721Z",
     "shell.execute_reply": "2025-09-11T11:38:36.526284Z"
    }
   },
   "outputs": [
    {
     "data": {
      "text/latex": [
       "$\\displaystyle (\\left(- c + \\frac{l}{2}\\right) \\sin{\\left(\\beta \\right)} \\dot{\\alpha} + \\dot{s})\\hat{b}_x + (- \\left(- c + \\frac{l}{2}\\right) \\dot{\\beta} + \\left(- w + s\\right) \\cos{\\left(\\beta \\right)} \\dot{\\alpha})\\hat{b}_y -  \\left(- w + s\\right) \\sin{\\left(\\beta \\right)} \\dot{\\alpha}\\hat{b}_z -  d \\dot{\\alpha}\\hat{a}_y$"
      ],
      "text/plain": [
       "⎛⎛     l⎞             ⎞       ⎛  ⎛     l⎞                      ⎞\n",
       "⎜⎜-c + ─⎟⋅sin(β)⋅α̇ + ṡ⎟ b_x + ⎜- ⎜-c + ─⎟⋅β̇ + (-w + s)⋅cos(β)⋅α̇⎟ b_y + -(-\n",
       "⎝⎝     2⎠             ⎠       ⎝  ⎝     2⎠                      ⎠\n",
       "\n",
       "\n",
       "w + s)⋅sin(β)⋅α̇ b_z + -d⋅α̇ a_y\n"
      ]
     },
     "execution_count": 29,
     "metadata": {},
     "output_type": "execute_result"
    }
   ],
   "source": [
    "S.set_vel(B, 0)\n",
    "R.v1pt_theory(S, N, B)"
   ]
  },
  {
   "cell_type": "code",
   "execution_count": 30,
   "id": "78c16337",
   "metadata": {
    "execution": {
     "iopub.execute_input": "2025-09-11T11:38:36.527931Z",
     "iopub.status.busy": "2025-09-11T11:38:36.527792Z",
     "iopub.status.idle": "2025-09-11T11:38:36.536328Z",
     "shell.execute_reply": "2025-09-11T11:38:36.535908Z"
    }
   },
   "outputs": [
    {
     "data": {
      "text/latex": [
       "$\\displaystyle d \\dot{\\alpha}^{2}\\hat{a}_x -  d \\ddot{\\alpha}\\hat{a}_y$"
      ],
      "text/plain": [
       "   2\n",
       "d⋅α̇  a_x + -d⋅α̈ a_y"
      ]
     },
     "execution_count": 30,
     "metadata": {},
     "output_type": "execute_result"
    }
   ],
   "source": [
    "S.acc(N)"
   ]
  },
  {
   "cell_type": "code",
   "execution_count": 31,
   "id": "cc2c145c",
   "metadata": {
    "execution": {
     "iopub.execute_input": "2025-09-11T11:38:36.537596Z",
     "iopub.status.busy": "2025-09-11T11:38:36.537459Z",
     "iopub.status.idle": "2025-09-11T11:38:36.544778Z",
     "shell.execute_reply": "2025-09-11T11:38:36.544374Z"
    }
   },
   "outputs": [
    {
     "data": {
      "text/latex": [
       "$\\displaystyle -  d \\ddot{\\alpha}\\hat{a}_y$"
      ],
      "text/plain": [
       "-d⋅α̈ a_y"
      ]
     },
     "execution_count": 31,
     "metadata": {},
     "output_type": "execute_result"
    }
   ],
   "source": [
    "me.cross(A.ang_acc_in(N), S.pos_from(P))"
   ]
  },
  {
   "cell_type": "code",
   "execution_count": 32,
   "id": "0789b8c6",
   "metadata": {
    "execution": {
     "iopub.execute_input": "2025-09-11T11:38:36.546001Z",
     "iopub.status.busy": "2025-09-11T11:38:36.545866Z",
     "iopub.status.idle": "2025-09-11T11:38:36.552627Z",
     "shell.execute_reply": "2025-09-11T11:38:36.552222Z"
    }
   },
   "outputs": [
    {
     "data": {
      "text/latex": [
       "$\\displaystyle d \\dot{\\alpha}^{2}\\hat{a}_x$"
      ],
      "text/plain": [
       "   2\n",
       "d⋅α̇  a_x"
      ]
     },
     "execution_count": 32,
     "metadata": {},
     "output_type": "execute_result"
    }
   ],
   "source": [
    "me.cross(A.ang_vel_in(N), me.cross(A.ang_vel_in(N), S.pos_from(P)))"
   ]
  },
  {
   "cell_type": "code",
   "execution_count": 33,
   "id": "ec4bbb4e",
   "metadata": {
    "execution": {
     "iopub.execute_input": "2025-09-11T11:38:36.553886Z",
     "iopub.status.busy": "2025-09-11T11:38:36.553734Z",
     "iopub.status.idle": "2025-09-11T11:38:36.563301Z",
     "shell.execute_reply": "2025-09-11T11:38:36.562781Z"
    }
   },
   "outputs": [
    {
     "data": {
      "text/latex": [
       "$\\displaystyle d \\dot{\\alpha}^{2}\\hat{a}_x -  d \\ddot{\\alpha}\\hat{a}_y$"
      ],
      "text/plain": [
       "   2\n",
       "d⋅α̇  a_x + -d⋅α̈ a_y"
      ]
     },
     "execution_count": 33,
     "metadata": {},
     "output_type": "execute_result"
    }
   ],
   "source": [
    "S.a2pt_theory(P, N, A)"
   ]
  },
  {
   "cell_type": "code",
   "execution_count": 34,
   "id": "ba69f5f4",
   "metadata": {
    "execution": {
     "iopub.execute_input": "2025-09-11T11:38:36.564638Z",
     "iopub.status.busy": "2025-09-11T11:38:36.564487Z",
     "iopub.status.idle": "2025-09-11T11:38:36.602637Z",
     "shell.execute_reply": "2025-09-11T11:38:36.602100Z"
    }
   },
   "outputs": [
    {
     "data": {
      "text/latex": [
       "$\\displaystyle d \\dot{\\alpha}^{2}\\hat{a}_x -  d \\ddot{\\alpha}\\hat{a}_y + (w \\sin^{2}{\\left(\\beta \\right)} \\dot{\\alpha}^{2} + \\left(- c - \\frac{l}{2}\\right) \\left(\\sin{\\left(\\beta \\right)} \\ddot{\\alpha} + \\cos{\\left(\\beta \\right)} \\dot{\\alpha} \\dot{\\beta}\\right) - \\left(- w \\cos{\\left(\\beta \\right)} \\dot{\\alpha} - \\left(- c - \\frac{l}{2}\\right) \\dot{\\beta}\\right) \\cos{\\left(\\beta \\right)} \\dot{\\alpha})\\hat{b}_x + (- w \\left(- \\sin{\\left(\\beta \\right)} \\dot{\\alpha} \\dot{\\beta} + \\cos{\\left(\\beta \\right)} \\ddot{\\alpha}\\right) - w \\sin{\\left(\\beta \\right)} \\dot{\\alpha} \\dot{\\beta} + \\left(- c - \\frac{l}{2}\\right) \\sin{\\left(\\beta \\right)} \\cos{\\left(\\beta \\right)} \\dot{\\alpha}^{2} - \\left(- c - \\frac{l}{2}\\right) \\ddot{\\beta})\\hat{b}_y + (w \\left(\\sin{\\left(\\beta \\right)} \\ddot{\\alpha} + \\cos{\\left(\\beta \\right)} \\dot{\\alpha} \\dot{\\beta}\\right) - \\left(- c - \\frac{l}{2}\\right) \\sin^{2}{\\left(\\beta \\right)} \\dot{\\alpha}^{2} + \\left(- w \\cos{\\left(\\beta \\right)} \\dot{\\alpha} - \\left(- c - \\frac{l}{2}\\right) \\dot{\\beta}\\right) \\dot{\\beta})\\hat{b}_z$"
      ],
      "text/plain": [
       "   2                  ⎛     2     2   ⎛     l⎞                           ⎛\n",
       "d⋅α̇  a_x + -d⋅α̈ a_y + ⎜w⋅sin (β)⋅α̇  + ⎜-c - ─⎟⋅(sin(β)⋅α̈ + cos(β)⋅α̇⋅β̇) -\n",
       "                      ⎝               ⎝     2⎠                           ⎝\n",
       "\n",
       "          ⎛     l⎞  ⎞         ⎞       ⎛\n",
       " ⎜-w⋅cos(β)⋅α̇ - ⎜-c - ─⎟⋅β̇⎟⋅cos(β)⋅α̇⎟ b_x + ⎜-w⋅(-sin(β)⋅α̇⋅β̇ + cos(β)⋅α̈)\n",
       "          ⎝     2⎠  ⎠         ⎠       ⎝\n",
       "\n",
       "      ⎛     l⎞                2   ⎛     l⎞  ⎞       ⎛\n",
       " - w⋅sin(β)⋅α̇⋅β̇ + ⎜-c - ─⎟⋅sin(β)⋅cos(β)⋅α̇  - ⎜-c - ─⎟⋅β̈⎟ b_y + ⎜w⋅(sin(β)\n",
       "      ⎝     2⎠                    ⎝     2⎠  ⎠       ⎝\n",
       "\n",
       "   ⎛     l⎞    2     2   ⎛              ⎛     l⎞  ⎞  ⎞\n",
       "⋅α̈ + cos(β)⋅α̇⋅β̇) - ⎜-c - ─⎟⋅sin (β)⋅α̇  + ⎜-w⋅cos(β)⋅α̇ - ⎜-c - ─⎟⋅β̇⎟⋅β̇⎟\n",
       "   ⎝     2⎠              ⎝              ⎝     2⎠  ⎠  ⎠"
      ]
     },
     "execution_count": 34,
     "metadata": {},
     "output_type": "execute_result"
    }
   ],
   "source": [
    "Q.a2pt_theory(S, N, B)"
   ]
  },
  {
   "cell_type": "code",
   "execution_count": 35,
   "id": "9d83e529",
   "metadata": {
    "execution": {
     "iopub.execute_input": "2025-09-11T11:38:36.603924Z",
     "iopub.status.busy": "2025-09-11T11:38:36.603777Z",
     "iopub.status.idle": "2025-09-11T11:38:36.608684Z",
     "shell.execute_reply": "2025-09-11T11:38:36.608171Z"
    }
   },
   "outputs": [
    {
     "data": {
      "text/latex": [
       "$\\displaystyle \\ddot{s}\\hat{b}_x$"
      ],
      "text/plain": [
       "s̈ b_x"
      ]
     },
     "execution_count": 35,
     "metadata": {},
     "output_type": "execute_result"
    }
   ],
   "source": [
    "B_a_R = R.acc(B)\n",
    "B_a_R"
   ]
  },
  {
   "cell_type": "code",
   "execution_count": 36,
   "id": "d3375172",
   "metadata": {
    "execution": {
     "iopub.execute_input": "2025-09-11T11:38:36.609917Z",
     "iopub.status.busy": "2025-09-11T11:38:36.609773Z",
     "iopub.status.idle": "2025-09-11T11:38:36.645955Z",
     "shell.execute_reply": "2025-09-11T11:38:36.645533Z"
    }
   },
   "outputs": [
    {
     "data": {
      "text/latex": [
       "$\\displaystyle d \\dot{\\alpha}^{2}\\hat{a}_x -  d \\ddot{\\alpha}\\hat{a}_y + (\\left(- c + \\frac{l}{2}\\right) \\left(\\sin{\\left(\\beta \\right)} \\ddot{\\alpha} + \\cos{\\left(\\beta \\right)} \\dot{\\alpha} \\dot{\\beta}\\right) - \\left(- w + s\\right) \\sin^{2}{\\left(\\beta \\right)} \\dot{\\alpha}^{2} - \\left(- \\left(- c + \\frac{l}{2}\\right) \\dot{\\beta} + \\left(- w + s\\right) \\cos{\\left(\\beta \\right)} \\dot{\\alpha}\\right) \\cos{\\left(\\beta \\right)} \\dot{\\alpha})\\hat{b}_x + (\\left(- c + \\frac{l}{2}\\right) \\sin{\\left(\\beta \\right)} \\cos{\\left(\\beta \\right)} \\dot{\\alpha}^{2} - \\left(- c + \\frac{l}{2}\\right) \\ddot{\\beta} + \\left(- w + s\\right) \\left(- \\sin{\\left(\\beta \\right)} \\dot{\\alpha} \\dot{\\beta} + \\cos{\\left(\\beta \\right)} \\ddot{\\alpha}\\right) + \\left(- w + s\\right) \\sin{\\left(\\beta \\right)} \\dot{\\alpha} \\dot{\\beta})\\hat{b}_y + (- \\left(- c + \\frac{l}{2}\\right) \\sin^{2}{\\left(\\beta \\right)} \\dot{\\alpha}^{2} - \\left(- w + s\\right) \\left(\\sin{\\left(\\beta \\right)} \\ddot{\\alpha} + \\cos{\\left(\\beta \\right)} \\dot{\\alpha} \\dot{\\beta}\\right) + \\left(- \\left(- c + \\frac{l}{2}\\right) \\dot{\\beta} + \\left(- w + s\\right) \\cos{\\left(\\beta \\right)} \\dot{\\alpha}\\right) \\dot{\\beta})\\hat{b}_z$"
      ],
      "text/plain": [
       "   2                  ⎛⎛     l⎞                                       2     2\n",
       "d⋅α̇  a_x + -d⋅α̈ a_y + ⎜⎜-c + ─⎟⋅(sin(β)⋅α̈ + cos(β)⋅α̇⋅β̇) - (-w + s)⋅sin (β\n",
       "                      ⎝⎝     2⎠\n",
       "\n",
       "  ⎛  ⎛     l⎞                      ⎞         ⎞       ⎛⎛     l⎞\n",
       ")⋅α̇  - ⎜- ⎜-c + ─⎟⋅β̇ + (-w + s)⋅cos(β)⋅α̇⎟⋅cos(β)⋅α̇⎟ b_x + ⎜⎜-c + ─⎟⋅sin(β)\n",
       "  ⎝  ⎝     2⎠                      ⎠         ⎠       ⎝⎝     2⎠\n",
       "\n",
       "2   ⎛     l⎞                                                            ⎞\n",
       "⋅cos(β)⋅α̇  - ⎜-c + ─⎟⋅β̈ + (-w + s)⋅(-sin(β)⋅α̇⋅β̇ + cos(β)⋅α̈) + (-w + s)⋅si\n",
       "    ⎝     2⎠                                                            ⎠\n",
       "\n",
       "  ⎛  ⎛     l⎞    2     2                                      ⎛  ⎛     l⎞\n",
       "n(β)⋅α̇⋅β̇⎟ b_y + ⎜- ⎜-c + ─⎟⋅sin (β)⋅α̇  - (-w + s)⋅(sin(β)⋅α̈ + cos(β)⋅α̇⋅β̇\n",
       "  ⎝  ⎝     2⎠                                                 ⎝  ⎝     2⎠\n",
       "\n",
       "                 ⎞  ⎞\n",
       ") + ⎜- ⎜-c + ─⎟⋅β̇ + (-w + s)⋅cos(β)⋅α̇⎟⋅β̇⎟ b_z\n",
       "                 ⎠  ⎠"
      ]
     },
     "execution_count": 36,
     "metadata": {},
     "output_type": "execute_result"
    }
   ],
   "source": [
    "N_a_T = R.a2pt_theory(S, N, B)\n",
    "N_a_T"
   ]
  },
  {
   "cell_type": "code",
   "execution_count": 37,
   "id": "40b27a3b",
   "metadata": {
    "execution": {
     "iopub.execute_input": "2025-09-11T11:38:36.647327Z",
     "iopub.status.busy": "2025-09-11T11:38:36.647150Z",
     "iopub.status.idle": "2025-09-11T11:38:36.655413Z",
     "shell.execute_reply": "2025-09-11T11:38:36.654900Z"
    }
   },
   "outputs": [
    {
     "data": {
      "text/latex": [
       "$\\displaystyle 2 \\cos{\\left(\\beta \\right)} \\dot{\\alpha} \\dot{s}\\hat{b}_y -  2 \\sin{\\left(\\beta \\right)} \\dot{\\alpha} \\dot{s}\\hat{b}_z$"
      ],
      "text/plain": [
       "2⋅cos(β)⋅α̇⋅ṡ b_y + -2⋅sin(β)⋅α̇⋅ṡ b_z"
      ]
     },
     "execution_count": 37,
     "metadata": {},
     "output_type": "execute_result"
    }
   ],
   "source": [
    "2*me.cross(B.ang_vel_in(N), R.vel(B))"
   ]
  },
  {
   "cell_type": "code",
   "execution_count": 38,
   "id": "d1223b1a",
   "metadata": {
    "execution": {
     "iopub.execute_input": "2025-09-11T11:38:36.656640Z",
     "iopub.status.busy": "2025-09-11T11:38:36.656490Z",
     "iopub.status.idle": "2025-09-11T11:38:36.693404Z",
     "shell.execute_reply": "2025-09-11T11:38:36.692891Z"
    }
   },
   "outputs": [
    {
     "data": {
      "text/latex": [
       "$\\displaystyle (\\left(- c + \\frac{l}{2}\\right) \\left(\\sin{\\left(\\beta \\right)} \\ddot{\\alpha} + \\cos{\\left(\\beta \\right)} \\dot{\\alpha} \\dot{\\beta}\\right) - \\left(- w + s\\right) \\sin^{2}{\\left(\\beta \\right)} \\dot{\\alpha}^{2} - \\left(- \\left(- c + \\frac{l}{2}\\right) \\dot{\\beta} + \\left(- w + s\\right) \\cos{\\left(\\beta \\right)} \\dot{\\alpha}\\right) \\cos{\\left(\\beta \\right)} \\dot{\\alpha} + \\ddot{s})\\hat{b}_x + (\\left(- c + \\frac{l}{2}\\right) \\sin{\\left(\\beta \\right)} \\cos{\\left(\\beta \\right)} \\dot{\\alpha}^{2} - \\left(- c + \\frac{l}{2}\\right) \\ddot{\\beta} + \\left(- w + s\\right) \\left(- \\sin{\\left(\\beta \\right)} \\dot{\\alpha} \\dot{\\beta} + \\cos{\\left(\\beta \\right)} \\ddot{\\alpha}\\right) + \\left(- w + s\\right) \\sin{\\left(\\beta \\right)} \\dot{\\alpha} \\dot{\\beta} + 2 \\cos{\\left(\\beta \\right)} \\dot{\\alpha} \\dot{s})\\hat{b}_y + (- \\left(- c + \\frac{l}{2}\\right) \\sin^{2}{\\left(\\beta \\right)} \\dot{\\alpha}^{2} - \\left(- w + s\\right) \\left(\\sin{\\left(\\beta \\right)} \\ddot{\\alpha} + \\cos{\\left(\\beta \\right)} \\dot{\\alpha} \\dot{\\beta}\\right) + \\left(- \\left(- c + \\frac{l}{2}\\right) \\dot{\\beta} + \\left(- w + s\\right) \\cos{\\left(\\beta \\right)} \\dot{\\alpha}\\right) \\dot{\\beta} - 2 \\sin{\\left(\\beta \\right)} \\dot{\\alpha} \\dot{s})\\hat{b}_z + d \\dot{\\alpha}^{2}\\hat{a}_x -  d \\ddot{\\alpha}\\hat{a}_y$"
      ],
      "text/plain": [
       "⎛⎛     l⎞                                       2     2   ⎛  ⎛     l⎞\n",
       "⎜⎜-c + ─⎟⋅(sin(β)⋅α̈ + cos(β)⋅α̇⋅β̇) - (-w + s)⋅sin (β)⋅α̇  - ⎜- ⎜-c + ─⎟⋅β̇ +\n",
       "⎝⎝     2⎠                                                 ⎝  ⎝     2⎠\n",
       "\n",
       "             ⎞             ⎞       ⎛⎛     l⎞                2   ⎛     l⎞\n",
       " (-w + s)⋅cos(β)⋅α̇⎟⋅cos(β)⋅α̇ + s̈⎟ b_x + ⎜⎜-c + ─⎟⋅sin(β)⋅cos(β)⋅α̇  - ⎜-c +\n",
       "             ⎠             ⎠       ⎝⎝     2⎠                    ⎝     2⎠\n",
       "\n",
       "                                                                     ⎞       ⎛\n",
       " ─⎟⋅β̈ + (-w + s)⋅(-sin(β)⋅α̇⋅β̇ + cos(β)⋅α̈) + (-w + s)⋅sin(β)⋅α̇⋅β̇ + 2⋅cos(\n",
       "                                                                     ⎠       ⎝\n",
       "\n",
       "  ⎛     l⎞    2     2                                      ⎛  ⎛     l⎞\n",
       "β)⋅α̇⋅ṡ⎟ b_y + ⎜- ⎜-c + ─⎟⋅sin (β)⋅α̇  - (-w + s)⋅(sin(β)⋅α̈ + cos(β)⋅α̇⋅β̇)\n",
       "  ⎝     2⎠                                                 ⎝  ⎝     2⎠\n",
       "\n",
       "              ⎞                 ⎞          2\n",
       "+ ⎜- ⎜-c + ─⎟⋅β̇ + (-w + s)⋅cos(β)⋅α̇⎟⋅β̇ - 2⋅sin(β)⋅α̇⋅ṡ⎟ b_z + d⋅α̇  a_x +\n",
       "              ⎠                 ⎠"
      ]
     },
     "execution_count": 38,
     "metadata": {},
     "output_type": "execute_result"
    }
   ],
   "source": [
    "R.a1pt_theory(S, N, B)"
   ]
  }
 ],
 "metadata": {
  "kernelspec": {
   "display_name": "Python 3 (ipykernel)",
   "language": "python",
   "name": "python3"
  },
  "language_info": {
   "codemirror_mode": {
    "name": "ipython",
    "version": 3
   },
   "file_extension": ".py",
   "mimetype": "text/x-python",
   "name": "python",
   "nbconvert_exporter": "python",
   "pygments_lexer": "ipython3",
   "version": "3.11.13"
  }
 },
 "nbformat": 4,
 "nbformat_minor": 5
}