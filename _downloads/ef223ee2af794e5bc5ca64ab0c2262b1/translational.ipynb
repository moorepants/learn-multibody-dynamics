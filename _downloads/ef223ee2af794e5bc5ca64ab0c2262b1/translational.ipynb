{
 "cells": [
  {
   "cell_type": "code",
   "execution_count": 1,
   "id": "35e0ec6a",
   "metadata": {
    "execution": {
     "iopub.execute_input": "2025-09-25T05:56:45.120692Z",
     "iopub.status.busy": "2025-09-25T05:56:45.120544Z",
     "iopub.status.idle": "2025-09-25T05:56:45.482866Z",
     "shell.execute_reply": "2025-09-25T05:56:45.482302Z"
    }
   },
   "outputs": [],
   "source": [
    "import sympy as sm\n",
    "import sympy.physics.mechanics as me\n",
    "me.init_vprinting(use_latex='mathjax')"
   ]
  },
  {
   "cell_type": "code",
   "execution_count": 2,
   "id": "ab6be3d3",
   "metadata": {
    "execution": {
     "iopub.execute_input": "2025-09-25T05:56:45.484775Z",
     "iopub.status.busy": "2025-09-25T05:56:45.484552Z",
     "iopub.status.idle": "2025-09-25T05:56:45.488047Z",
     "shell.execute_reply": "2025-09-25T05:56:45.487654Z"
    }
   },
   "outputs": [],
   "source": [
    "class ReferenceFrame(me.ReferenceFrame):\n",
    "\n",
    "    def __init__(self, *args, **kwargs):\n",
    "\n",
    "        kwargs.pop('latexs', None)\n",
    "\n",
    "        lab = args[0].lower()\n",
    "        tex = r'\\hat{{{}}}_{}'\n",
    "\n",
    "        super(ReferenceFrame, self).__init__(*args,\n",
    "                                             latexs=(tex.format(lab, 'x'),\n",
    "                                                     tex.format(lab, 'y'),\n",
    "                                                     tex.format(lab, 'z')),\n",
    "                                             **kwargs)\n",
    "me.ReferenceFrame = ReferenceFrame"
   ]
  },
  {
   "cell_type": "code",
   "execution_count": 3,
   "id": "b2b06957",
   "metadata": {
    "execution": {
     "iopub.execute_input": "2025-09-25T05:56:45.489410Z",
     "iopub.status.busy": "2025-09-25T05:56:45.489262Z",
     "iopub.status.idle": "2025-09-25T05:56:45.500925Z",
     "shell.execute_reply": "2025-09-25T05:56:45.500512Z"
    }
   },
   "outputs": [],
   "source": [
    "alpha, beta = me.dynamicsymbols('alpha, beta')\n",
    "\n",
    "N = me.ReferenceFrame('N')\n",
    "A = me.ReferenceFrame('A')\n",
    "B = me.ReferenceFrame('B')\n",
    "\n",
    "A.orient_axis(N, alpha, N.z)\n",
    "B.orient_axis(A, beta, A.x)"
   ]
  },
  {
   "cell_type": "code",
   "execution_count": 4,
   "id": "e7565f1a",
   "metadata": {
    "execution": {
     "iopub.execute_input": "2025-09-25T05:56:45.502322Z",
     "iopub.status.busy": "2025-09-25T05:56:45.502137Z",
     "iopub.status.idle": "2025-09-25T05:56:45.509717Z",
     "shell.execute_reply": "2025-09-25T05:56:45.509338Z"
    }
   },
   "outputs": [
    {
     "data": {
      "text/latex": [
       "$\\displaystyle \\left( h\\hat{n}_z, \\  -  d\\hat{a}_x, \\  -  w\\hat{b}_x + (- c - \\frac{l}{2})\\hat{b}_z\\right)$"
      ],
      "text/plain": [
       "⎛h n_z, -d a_x,            ⎛     l⎞  ⎞\n",
       "⎜               -w b_x + ⎜-c - ─⎟ b_z⎟\n",
       "⎝                          ⎝     2⎠  ⎠"
      ]
     },
     "execution_count": 4,
     "metadata": {},
     "output_type": "execute_result"
    }
   ],
   "source": [
    "h, d, w, c, l = sm.symbols('h, d, w, c, l')\n",
    "\n",
    "r_O_P = h*N.z\n",
    "r_P_S = -d*A.x\n",
    "r_S_Q = -w*B.x - (c + l/2)*B.z\n",
    "\n",
    "r_O_P, r_P_S, r_S_Q"
   ]
  },
  {
   "cell_type": "code",
   "execution_count": 5,
   "id": "2e0f8769",
   "metadata": {
    "execution": {
     "iopub.execute_input": "2025-09-25T05:56:45.511043Z",
     "iopub.status.busy": "2025-09-25T05:56:45.510889Z",
     "iopub.status.idle": "2025-09-25T05:56:45.516662Z",
     "shell.execute_reply": "2025-09-25T05:56:45.516278Z"
    }
   },
   "outputs": [
    {
     "data": {
      "text/latex": [
       "$\\displaystyle 0$"
      ],
      "text/plain": [
       "0"
      ]
     },
     "execution_count": 5,
     "metadata": {},
     "output_type": "execute_result"
    }
   ],
   "source": [
    "(r_O_P + r_P_S).dt(A)"
   ]
  },
  {
   "cell_type": "code",
   "execution_count": 6,
   "id": "4fa14dc6",
   "metadata": {
    "execution": {
     "iopub.execute_input": "2025-09-25T05:56:45.518023Z",
     "iopub.status.busy": "2025-09-25T05:56:45.517875Z",
     "iopub.status.idle": "2025-09-25T05:56:45.521548Z",
     "shell.execute_reply": "2025-09-25T05:56:45.521166Z"
    }
   },
   "outputs": [
    {
     "data": {
      "text/latex": [
       "$\\displaystyle \\dot{\\alpha}\\hat{n}_z$"
      ],
      "text/plain": [
       "α̇ n_z"
      ]
     },
     "execution_count": 6,
     "metadata": {},
     "output_type": "execute_result"
    }
   ],
   "source": [
    "A.ang_vel_in(N)"
   ]
  },
  {
   "cell_type": "code",
   "execution_count": 7,
   "id": "ca4371b5",
   "metadata": {
    "execution": {
     "iopub.execute_input": "2025-09-25T05:56:45.522773Z",
     "iopub.status.busy": "2025-09-25T05:56:45.522633Z",
     "iopub.status.idle": "2025-09-25T05:56:45.530416Z",
     "shell.execute_reply": "2025-09-25T05:56:45.529920Z"
    }
   },
   "outputs": [
    {
     "data": {
      "text/latex": [
       "$\\displaystyle -  d \\dot{\\alpha}\\hat{a}_y$"
      ],
      "text/plain": [
       "-d⋅α̇ a_y"
      ]
     },
     "execution_count": 7,
     "metadata": {},
     "output_type": "execute_result"
    }
   ],
   "source": [
    "me.cross(A.ang_vel_in(N), r_O_P + r_P_S)"
   ]
  },
  {
   "cell_type": "code",
   "execution_count": 8,
   "id": "527a637a",
   "metadata": {
    "execution": {
     "iopub.execute_input": "2025-09-25T05:56:45.531749Z",
     "iopub.status.busy": "2025-09-25T05:56:45.531597Z",
     "iopub.status.idle": "2025-09-25T05:56:45.540753Z",
     "shell.execute_reply": "2025-09-25T05:56:45.540293Z"
    }
   },
   "outputs": [
    {
     "data": {
      "text/latex": [
       "$\\displaystyle -  d \\dot{\\alpha}\\hat{a}_y$"
      ],
      "text/plain": [
       "-d⋅α̇ a_y"
      ]
     },
     "execution_count": 8,
     "metadata": {},
     "output_type": "execute_result"
    }
   ],
   "source": [
    "N_v_S = (r_O_P + r_P_S).dt(A) + me.cross(A.ang_vel_in(N), r_O_P + r_P_S)\n",
    "N_v_S"
   ]
  },
  {
   "cell_type": "code",
   "execution_count": 9,
   "id": "7a8a0007",
   "metadata": {
    "execution": {
     "iopub.execute_input": "2025-09-25T05:56:45.542412Z",
     "iopub.status.busy": "2025-09-25T05:56:45.542267Z",
     "iopub.status.idle": "2025-09-25T05:56:45.547860Z",
     "shell.execute_reply": "2025-09-25T05:56:45.547384Z"
    }
   },
   "outputs": [
    {
     "data": {
      "text/latex": [
       "$\\displaystyle 0$"
      ],
      "text/plain": [
       "0"
      ]
     },
     "execution_count": 9,
     "metadata": {},
     "output_type": "execute_result"
    }
   ],
   "source": [
    "(r_P_S + r_S_Q).dt(B)"
   ]
  },
  {
   "cell_type": "code",
   "execution_count": 10,
   "id": "7838de32",
   "metadata": {
    "execution": {
     "iopub.execute_input": "2025-09-25T05:56:45.549169Z",
     "iopub.status.busy": "2025-09-25T05:56:45.549001Z",
     "iopub.status.idle": "2025-09-25T05:56:45.566609Z",
     "shell.execute_reply": "2025-09-25T05:56:45.566189Z"
    }
   },
   "outputs": [
    {
     "data": {
      "text/latex": [
       "$\\displaystyle -  d \\dot{\\alpha}\\hat{a}_y + \\left(- c - \\frac{l}{2}\\right) \\sin{\\left(\\beta \\right)} \\dot{\\alpha}\\hat{b}_x + (- w \\cos{\\left(\\beta \\right)} \\dot{\\alpha} - \\left(- c - \\frac{l}{2}\\right) \\dot{\\beta})\\hat{b}_y + w \\sin{\\left(\\beta \\right)} \\dot{\\alpha}\\hat{b}_z$"
      ],
      "text/plain": [
       "           ⎛     l⎞                ⎛              ⎛     l⎞  ⎞\n",
       "-d⋅α̇ a_y + ⎜-c - ─⎟⋅sin(β)⋅α̇ b_x + ⎜-w⋅cos(β)⋅α̇ - ⎜-c - ─⎟⋅β̇⎟ b_y + w⋅sin(\n",
       "           ⎝     2⎠                ⎝              ⎝     2⎠  ⎠\n",
       "\n",
       "\n",
       "β)⋅α̇ b_z\n"
      ]
     },
     "execution_count": 10,
     "metadata": {},
     "output_type": "execute_result"
    }
   ],
   "source": [
    "me.cross(B.ang_vel_in(N), r_P_S + r_S_Q)"
   ]
  },
  {
   "cell_type": "code",
   "execution_count": 11,
   "id": "04e783ce",
   "metadata": {
    "execution": {
     "iopub.execute_input": "2025-09-25T05:56:45.568017Z",
     "iopub.status.busy": "2025-09-25T05:56:45.567862Z",
     "iopub.status.idle": "2025-09-25T05:56:45.581604Z",
     "shell.execute_reply": "2025-09-25T05:56:45.581088Z"
    }
   },
   "outputs": [
    {
     "data": {
      "text/latex": [
       "$\\displaystyle -  d \\dot{\\alpha}\\hat{a}_y + \\left(- c - \\frac{l}{2}\\right) \\sin{\\left(\\beta \\right)} \\dot{\\alpha}\\hat{b}_x + (- w \\cos{\\left(\\beta \\right)} \\dot{\\alpha} - \\left(- c - \\frac{l}{2}\\right) \\dot{\\beta})\\hat{b}_y + w \\sin{\\left(\\beta \\right)} \\dot{\\alpha}\\hat{b}_z$"
      ],
      "text/plain": [
       "           ⎛     l⎞                ⎛              ⎛     l⎞  ⎞\n",
       "-d⋅α̇ a_y + ⎜-c - ─⎟⋅sin(β)⋅α̇ b_x + ⎜-w⋅cos(β)⋅α̇ - ⎜-c - ─⎟⋅β̇⎟ b_y + w⋅sin(\n",
       "           ⎝     2⎠                ⎝              ⎝     2⎠  ⎠\n",
       "\n",
       "\n",
       "β)⋅α̇ b_z\n"
      ]
     },
     "execution_count": 11,
     "metadata": {},
     "output_type": "execute_result"
    }
   ],
   "source": [
    "N_v_Q = (r_P_S + r_S_Q).dt(B) + me.cross(B.ang_vel_in(N), r_P_S + r_S_Q)\n",
    "N_v_Q"
   ]
  },
  {
   "cell_type": "code",
   "execution_count": 12,
   "id": "201af259",
   "metadata": {
    "execution": {
     "iopub.execute_input": "2025-09-25T05:56:45.583055Z",
     "iopub.status.busy": "2025-09-25T05:56:45.582900Z",
     "iopub.status.idle": "2025-09-25T05:56:45.587092Z",
     "shell.execute_reply": "2025-09-25T05:56:45.586618Z"
    }
   },
   "outputs": [],
   "source": [
    "O = me.Point('O')\n",
    "P = me.Point('P')\n",
    "S = me.Point('S')\n",
    "Q = me.Point('Q')\n",
    "\n",
    "P.set_pos(O, h*N.z)\n",
    "S.set_pos(P, -d*A.x)\n",
    "Q.set_pos(S, -w*B.x - (c + l/2)*B.z)"
   ]
  },
  {
   "cell_type": "code",
   "execution_count": 13,
   "id": "5cea0000",
   "metadata": {
    "execution": {
     "iopub.execute_input": "2025-09-25T05:56:45.588469Z",
     "iopub.status.busy": "2025-09-25T05:56:45.588315Z",
     "iopub.status.idle": "2025-09-25T05:56:45.593103Z",
     "shell.execute_reply": "2025-09-25T05:56:45.592603Z"
    }
   },
   "outputs": [
    {
     "data": {
      "text/latex": [
       "$\\displaystyle -  w\\hat{b}_x + (- c - \\frac{l}{2})\\hat{b}_z -  d\\hat{a}_x + h\\hat{n}_z$"
      ],
      "text/plain": [
       "         ⎛     l⎞\n",
       "-w b_x + ⎜-c - ─⎟ b_z + -d a_x + h n_z\n",
       "         ⎝     2⎠"
      ]
     },
     "execution_count": 13,
     "metadata": {},
     "output_type": "execute_result"
    }
   ],
   "source": [
    "Q.pos_from(O)"
   ]
  },
  {
   "cell_type": "code",
   "execution_count": 14,
   "id": "aae43c1e",
   "metadata": {
    "execution": {
     "iopub.execute_input": "2025-09-25T05:56:45.594451Z",
     "iopub.status.busy": "2025-09-25T05:56:45.594315Z",
     "iopub.status.idle": "2025-09-25T05:56:45.596461Z",
     "shell.execute_reply": "2025-09-25T05:56:45.596048Z"
    }
   },
   "outputs": [],
   "source": [
    "O.set_vel(N, 0)"
   ]
  },
  {
   "cell_type": "code",
   "execution_count": 15,
   "id": "11e4da65",
   "metadata": {
    "execution": {
     "iopub.execute_input": "2025-09-25T05:56:45.597690Z",
     "iopub.status.busy": "2025-09-25T05:56:45.597543Z",
     "iopub.status.idle": "2025-09-25T05:56:45.612548Z",
     "shell.execute_reply": "2025-09-25T05:56:45.612012Z"
    }
   },
   "outputs": [
    {
     "data": {
      "text/latex": [
       "$\\displaystyle \\left(- c - \\frac{l}{2}\\right) \\sin{\\left(\\beta \\right)} \\dot{\\alpha}\\hat{b}_x + (- w \\cos{\\left(\\beta \\right)} \\dot{\\alpha} - \\left(- c - \\frac{l}{2}\\right) \\dot{\\beta})\\hat{b}_y + w \\sin{\\left(\\beta \\right)} \\dot{\\alpha}\\hat{b}_z -  d \\dot{\\alpha}\\hat{a}_y$"
      ],
      "text/plain": [
       "⎛     l⎞                ⎛              ⎛     l⎞  ⎞\n",
       "⎜-c - ─⎟⋅sin(β)⋅α̇ b_x + ⎜-w⋅cos(β)⋅α̇ - ⎜-c - ─⎟⋅β̇⎟ b_y + w⋅sin(β)⋅α̇ b_z +\n",
       "⎝     2⎠                ⎝              ⎝     2⎠  ⎠\n",
       "\n",
       "\n",
       "-d⋅α̇ a_y\n"
      ]
     },
     "execution_count": 15,
     "metadata": {},
     "output_type": "execute_result"
    }
   ],
   "source": [
    "Q.vel(N)"
   ]
  },
  {
   "cell_type": "code",
   "execution_count": 16,
   "id": "d4ccb097",
   "metadata": {
    "execution": {
     "iopub.execute_input": "2025-09-25T05:56:45.614023Z",
     "iopub.status.busy": "2025-09-25T05:56:45.613866Z",
     "iopub.status.idle": "2025-09-25T05:56:45.622386Z",
     "shell.execute_reply": "2025-09-25T05:56:45.621862Z"
    }
   },
   "outputs": [
    {
     "data": {
      "text/latex": [
       "$\\displaystyle c \\dot{\\beta}\\hat{b}_y$"
      ],
      "text/plain": [
       "c⋅β̇ b_y"
      ]
     },
     "execution_count": 16,
     "metadata": {},
     "output_type": "execute_result"
    }
   ],
   "source": [
    "Bc = me.Point('B_c')\n",
    "Bc.set_pos(S, -c*B.z - w/2*A.x)\n",
    "me.cross(B.ang_vel_in(A), Bc.pos_from(S))"
   ]
  },
  {
   "cell_type": "code",
   "execution_count": 17,
   "id": "15d11d53",
   "metadata": {
    "execution": {
     "iopub.execute_input": "2025-09-25T05:56:45.623803Z",
     "iopub.status.busy": "2025-09-25T05:56:45.623646Z",
     "iopub.status.idle": "2025-09-25T05:56:45.626124Z",
     "shell.execute_reply": "2025-09-25T05:56:45.625636Z"
    }
   },
   "outputs": [],
   "source": [
    "N_v_P = 0*N.z"
   ]
  },
  {
   "cell_type": "code",
   "execution_count": 18,
   "id": "d1b525a3",
   "metadata": {
    "execution": {
     "iopub.execute_input": "2025-09-25T05:56:45.627466Z",
     "iopub.status.busy": "2025-09-25T05:56:45.627323Z",
     "iopub.status.idle": "2025-09-25T05:56:45.633031Z",
     "shell.execute_reply": "2025-09-25T05:56:45.632524Z"
    }
   },
   "outputs": [
    {
     "data": {
      "text/latex": [
       "$\\displaystyle -  d \\dot{\\alpha}\\hat{a}_y$"
      ],
      "text/plain": [
       "-d⋅α̇ a_y"
      ]
     },
     "execution_count": 18,
     "metadata": {},
     "output_type": "execute_result"
    }
   ],
   "source": [
    "N_v_S = N_v_P +  me.cross(A.ang_vel_in(N), S.pos_from(P))\n",
    "N_v_S"
   ]
  },
  {
   "cell_type": "code",
   "execution_count": 19,
   "id": "5b806aba",
   "metadata": {
    "execution": {
     "iopub.execute_input": "2025-09-25T05:56:45.634291Z",
     "iopub.status.busy": "2025-09-25T05:56:45.634122Z",
     "iopub.status.idle": "2025-09-25T05:56:45.639645Z",
     "shell.execute_reply": "2025-09-25T05:56:45.639246Z"
    }
   },
   "outputs": [
    {
     "data": {
      "text/latex": [
       "$\\displaystyle -  d \\dot{\\alpha}\\hat{a}_y$"
      ],
      "text/plain": [
       "-d⋅α̇ a_y"
      ]
     },
     "execution_count": 19,
     "metadata": {},
     "output_type": "execute_result"
    }
   ],
   "source": [
    "P.set_vel(N, 0)\n",
    "S.v2pt_theory(P, N, A)"
   ]
  },
  {
   "cell_type": "code",
   "execution_count": 20,
   "id": "2b2fb5c7",
   "metadata": {
    "execution": {
     "iopub.execute_input": "2025-09-25T05:56:45.640948Z",
     "iopub.status.busy": "2025-09-25T05:56:45.640813Z",
     "iopub.status.idle": "2025-09-25T05:56:45.644684Z",
     "shell.execute_reply": "2025-09-25T05:56:45.644160Z"
    }
   },
   "outputs": [
    {
     "data": {
      "text/latex": [
       "$\\displaystyle -  d \\dot{\\alpha}\\hat{a}_y$"
      ],
      "text/plain": [
       "-d⋅α̇ a_y"
      ]
     },
     "execution_count": 20,
     "metadata": {},
     "output_type": "execute_result"
    }
   ],
   "source": [
    "S.vel(N)"
   ]
  },
  {
   "cell_type": "code",
   "execution_count": 21,
   "id": "0b197be3",
   "metadata": {
    "execution": {
     "iopub.execute_input": "2025-09-25T05:56:45.645991Z",
     "iopub.status.busy": "2025-09-25T05:56:45.645856Z",
     "iopub.status.idle": "2025-09-25T05:56:45.655856Z",
     "shell.execute_reply": "2025-09-25T05:56:45.655344Z"
    }
   },
   "outputs": [
    {
     "data": {
      "text/latex": [
       "$\\displaystyle -  d \\dot{\\alpha}\\hat{a}_y + \\left(- c - \\frac{l}{2}\\right) \\sin{\\left(\\beta \\right)} \\dot{\\alpha}\\hat{b}_x + (- w \\cos{\\left(\\beta \\right)} \\dot{\\alpha} - \\left(- c - \\frac{l}{2}\\right) \\dot{\\beta})\\hat{b}_y + w \\sin{\\left(\\beta \\right)} \\dot{\\alpha}\\hat{b}_z$"
      ],
      "text/plain": [
       "           ⎛     l⎞                ⎛              ⎛     l⎞  ⎞\n",
       "-d⋅α̇ a_y + ⎜-c - ─⎟⋅sin(β)⋅α̇ b_x + ⎜-w⋅cos(β)⋅α̇ - ⎜-c - ─⎟⋅β̇⎟ b_y + w⋅sin(\n",
       "           ⎝     2⎠                ⎝              ⎝     2⎠  ⎠\n",
       "\n",
       "\n",
       "β)⋅α̇ b_z\n"
      ]
     },
     "execution_count": 21,
     "metadata": {},
     "output_type": "execute_result"
    }
   ],
   "source": [
    "N_v_Q = N_v_S +  me.cross(B.ang_vel_in(N), Q.pos_from(S))\n",
    "N_v_Q"
   ]
  },
  {
   "cell_type": "code",
   "execution_count": 22,
   "id": "0a084536",
   "metadata": {
    "execution": {
     "iopub.execute_input": "2025-09-25T05:56:45.657313Z",
     "iopub.status.busy": "2025-09-25T05:56:45.657138Z",
     "iopub.status.idle": "2025-09-25T05:56:45.667101Z",
     "shell.execute_reply": "2025-09-25T05:56:45.666618Z"
    }
   },
   "outputs": [
    {
     "data": {
      "text/latex": [
       "$\\displaystyle -  d \\dot{\\alpha}\\hat{a}_y + \\left(- c - \\frac{l}{2}\\right) \\sin{\\left(\\beta \\right)} \\dot{\\alpha}\\hat{b}_x + (- w \\cos{\\left(\\beta \\right)} \\dot{\\alpha} - \\left(- c - \\frac{l}{2}\\right) \\dot{\\beta})\\hat{b}_y + w \\sin{\\left(\\beta \\right)} \\dot{\\alpha}\\hat{b}_z$"
      ],
      "text/plain": [
       "           ⎛     l⎞                ⎛              ⎛     l⎞  ⎞\n",
       "-d⋅α̇ a_y + ⎜-c - ─⎟⋅sin(β)⋅α̇ b_x + ⎜-w⋅cos(β)⋅α̇ - ⎜-c - ─⎟⋅β̇⎟ b_y + w⋅sin(\n",
       "           ⎝     2⎠                ⎝              ⎝     2⎠  ⎠\n",
       "\n",
       "\n",
       "β)⋅α̇ b_z\n"
      ]
     },
     "execution_count": 22,
     "metadata": {},
     "output_type": "execute_result"
    }
   ],
   "source": [
    "Q.v2pt_theory(S, N, B)"
   ]
  },
  {
   "cell_type": "code",
   "execution_count": 23,
   "id": "c95212f5",
   "metadata": {
    "execution": {
     "iopub.execute_input": "2025-09-25T05:56:45.668527Z",
     "iopub.status.busy": "2025-09-25T05:56:45.668381Z",
     "iopub.status.idle": "2025-09-25T05:56:45.679776Z",
     "shell.execute_reply": "2025-09-25T05:56:45.679355Z"
    }
   },
   "outputs": [
    {
     "data": {
      "text/latex": [
       "$\\displaystyle (- d \\dot{\\alpha} - \\frac{w \\dot{\\alpha}}{2})\\hat{a}_y -  c \\sin{\\left(\\beta \\right)} \\dot{\\alpha}\\hat{b}_x + c \\dot{\\beta}\\hat{b}_y$"
      ],
      "text/plain": [
       "⎛       w⋅α̇⎞\n",
       "⎜-d⋅α̇ - ───⎟ a_y + -c⋅sin(β)⋅α̇ b_x + c⋅β̇ b_y\n",
       "⎝        2 ⎠"
      ]
     },
     "execution_count": 23,
     "metadata": {},
     "output_type": "execute_result"
    }
   ],
   "source": [
    "Bc = me.Point('B_c')\n",
    "Bc.set_pos(S, -c*B.z - w/2*A.x)\n",
    "Bc.v2pt_theory(S, N, B)"
   ]
  },
  {
   "cell_type": "code",
   "execution_count": 24,
   "id": "e785c8f5",
   "metadata": {
    "execution": {
     "iopub.execute_input": "2025-09-25T05:56:45.681101Z",
     "iopub.status.busy": "2025-09-25T05:56:45.680957Z",
     "iopub.status.idle": "2025-09-25T05:56:45.684731Z",
     "shell.execute_reply": "2025-09-25T05:56:45.684323Z"
    }
   },
   "outputs": [],
   "source": [
    "s = me.dynamicsymbols('s')\n",
    "t = me.dynamicsymbols._t\n",
    "\n",
    "R = me.Point('R')\n",
    "R.set_pos(Q, l*B.z + s*B.x)"
   ]
  },
  {
   "cell_type": "code",
   "execution_count": 25,
   "id": "41496af5",
   "metadata": {
    "execution": {
     "iopub.execute_input": "2025-09-25T05:56:45.686023Z",
     "iopub.status.busy": "2025-09-25T05:56:45.685883Z",
     "iopub.status.idle": "2025-09-25T05:56:45.690201Z",
     "shell.execute_reply": "2025-09-25T05:56:45.689761Z"
    }
   },
   "outputs": [
    {
     "data": {
      "text/latex": [
       "$\\displaystyle \\dot{s}\\hat{b}_x$"
      ],
      "text/plain": [
       "ṡ b_x"
      ]
     },
     "execution_count": 25,
     "metadata": {},
     "output_type": "execute_result"
    }
   ],
   "source": [
    "B_v_R = s.diff(t)*B.x\n",
    "B_v_R"
   ]
  },
  {
   "cell_type": "code",
   "execution_count": 26,
   "id": "3696a3d5",
   "metadata": {
    "execution": {
     "iopub.execute_input": "2025-09-25T05:56:45.691460Z",
     "iopub.status.busy": "2025-09-25T05:56:45.691325Z",
     "iopub.status.idle": "2025-09-25T05:56:45.696290Z",
     "shell.execute_reply": "2025-09-25T05:56:45.695881Z"
    }
   },
   "outputs": [
    {
     "data": {
      "text/latex": [
       "$\\displaystyle (- w + s)\\hat{b}_x + (- c + \\frac{l}{2})\\hat{b}_z$"
      ],
      "text/plain": [
       "               ⎛     l⎞\n",
       "(-w + s) b_x + ⎜-c + ─⎟ b_z\n",
       "               ⎝     2⎠"
      ]
     },
     "execution_count": 26,
     "metadata": {},
     "output_type": "execute_result"
    }
   ],
   "source": [
    "r_S_R = R.pos_from(S)\n",
    "r_S_R"
   ]
  },
  {
   "cell_type": "code",
   "execution_count": 27,
   "id": "e9906e18",
   "metadata": {
    "execution": {
     "iopub.execute_input": "2025-09-25T05:56:45.697623Z",
     "iopub.status.busy": "2025-09-25T05:56:45.697482Z",
     "iopub.status.idle": "2025-09-25T05:56:45.711668Z",
     "shell.execute_reply": "2025-09-25T05:56:45.711134Z"
    }
   },
   "outputs": [
    {
     "data": {
      "text/latex": [
       "$\\displaystyle -  d \\dot{\\alpha}\\hat{a}_y + \\left(- c + \\frac{l}{2}\\right) \\sin{\\left(\\beta \\right)} \\dot{\\alpha}\\hat{b}_x + (- \\left(- c + \\frac{l}{2}\\right) \\dot{\\beta} + \\left(- w + s\\right) \\cos{\\left(\\beta \\right)} \\dot{\\alpha})\\hat{b}_y -  \\left(- w + s\\right) \\sin{\\left(\\beta \\right)} \\dot{\\alpha}\\hat{b}_z$"
      ],
      "text/plain": [
       "           ⎛     l⎞                ⎛  ⎛     l⎞                      ⎞\n",
       "-d⋅α̇ a_y + ⎜-c + ─⎟⋅sin(β)⋅α̇ b_x + ⎜- ⎜-c + ─⎟⋅β̇ + (-w + s)⋅cos(β)⋅α̇⎟ b_y\n",
       "           ⎝     2⎠                ⎝  ⎝     2⎠                      ⎠\n",
       "\n",
       "\n",
       "+ -(-w + s)⋅sin(β)⋅α̇ b_z\n"
      ]
     },
     "execution_count": 27,
     "metadata": {},
     "output_type": "execute_result"
    }
   ],
   "source": [
    "N_v_T = N_v_S + me.cross(B.ang_vel_in(N), r_S_R)\n",
    "N_v_T"
   ]
  },
  {
   "cell_type": "code",
   "execution_count": 28,
   "id": "0ffa1d7e",
   "metadata": {
    "execution": {
     "iopub.execute_input": "2025-09-25T05:56:45.713068Z",
     "iopub.status.busy": "2025-09-25T05:56:45.712921Z",
     "iopub.status.idle": "2025-09-25T05:56:45.721808Z",
     "shell.execute_reply": "2025-09-25T05:56:45.721396Z"
    }
   },
   "outputs": [
    {
     "data": {
      "text/latex": [
       "$\\displaystyle (\\left(- c + \\frac{l}{2}\\right) \\sin{\\left(\\beta \\right)} \\dot{\\alpha} + \\dot{s})\\hat{b}_x + (- \\left(- c + \\frac{l}{2}\\right) \\dot{\\beta} + \\left(- w + s\\right) \\cos{\\left(\\beta \\right)} \\dot{\\alpha})\\hat{b}_y -  \\left(- w + s\\right) \\sin{\\left(\\beta \\right)} \\dot{\\alpha}\\hat{b}_z -  d \\dot{\\alpha}\\hat{a}_y$"
      ],
      "text/plain": [
       "⎛⎛     l⎞             ⎞       ⎛  ⎛     l⎞                      ⎞\n",
       "⎜⎜-c + ─⎟⋅sin(β)⋅α̇ + ṡ⎟ b_x + ⎜- ⎜-c + ─⎟⋅β̇ + (-w + s)⋅cos(β)⋅α̇⎟ b_y + -(-\n",
       "⎝⎝     2⎠             ⎠       ⎝  ⎝     2⎠                      ⎠\n",
       "\n",
       "\n",
       "w + s)⋅sin(β)⋅α̇ b_z + -d⋅α̇ a_y\n"
      ]
     },
     "execution_count": 28,
     "metadata": {},
     "output_type": "execute_result"
    }
   ],
   "source": [
    "N_v_R = B_v_R + N_v_T\n",
    "N_v_R"
   ]
  },
  {
   "cell_type": "code",
   "execution_count": 29,
   "id": "f0039452",
   "metadata": {
    "execution": {
     "iopub.execute_input": "2025-09-25T05:56:45.723112Z",
     "iopub.status.busy": "2025-09-25T05:56:45.722970Z",
     "iopub.status.idle": "2025-09-25T05:56:45.741421Z",
     "shell.execute_reply": "2025-09-25T05:56:45.740995Z"
    }
   },
   "outputs": [
    {
     "data": {
      "text/latex": [
       "$\\displaystyle (\\left(- c + \\frac{l}{2}\\right) \\sin{\\left(\\beta \\right)} \\dot{\\alpha} + \\dot{s})\\hat{b}_x + (- \\left(- c + \\frac{l}{2}\\right) \\dot{\\beta} + \\left(- w + s\\right) \\cos{\\left(\\beta \\right)} \\dot{\\alpha})\\hat{b}_y -  \\left(- w + s\\right) \\sin{\\left(\\beta \\right)} \\dot{\\alpha}\\hat{b}_z -  d \\dot{\\alpha}\\hat{a}_y$"
      ],
      "text/plain": [
       "⎛⎛     l⎞             ⎞       ⎛  ⎛     l⎞                      ⎞\n",
       "⎜⎜-c + ─⎟⋅sin(β)⋅α̇ + ṡ⎟ b_x + ⎜- ⎜-c + ─⎟⋅β̇ + (-w + s)⋅cos(β)⋅α̇⎟ b_y + -(-\n",
       "⎝⎝     2⎠             ⎠       ⎝  ⎝     2⎠                      ⎠\n",
       "\n",
       "\n",
       "w + s)⋅sin(β)⋅α̇ b_z + -d⋅α̇ a_y\n"
      ]
     },
     "execution_count": 29,
     "metadata": {},
     "output_type": "execute_result"
    }
   ],
   "source": [
    "S.set_vel(B, 0)\n",
    "R.v1pt_theory(S, N, B)"
   ]
  },
  {
   "cell_type": "code",
   "execution_count": 30,
   "id": "4dd789c2",
   "metadata": {
    "execution": {
     "iopub.execute_input": "2025-09-25T05:56:45.742886Z",
     "iopub.status.busy": "2025-09-25T05:56:45.742737Z",
     "iopub.status.idle": "2025-09-25T05:56:45.751576Z",
     "shell.execute_reply": "2025-09-25T05:56:45.751168Z"
    }
   },
   "outputs": [
    {
     "data": {
      "text/latex": [
       "$\\displaystyle d \\dot{\\alpha}^{2}\\hat{a}_x -  d \\ddot{\\alpha}\\hat{a}_y$"
      ],
      "text/plain": [
       "   2\n",
       "d⋅α̇  a_x + -d⋅α̈ a_y"
      ]
     },
     "execution_count": 30,
     "metadata": {},
     "output_type": "execute_result"
    }
   ],
   "source": [
    "S.acc(N)"
   ]
  },
  {
   "cell_type": "code",
   "execution_count": 31,
   "id": "23cbfbc0",
   "metadata": {
    "execution": {
     "iopub.execute_input": "2025-09-25T05:56:45.752903Z",
     "iopub.status.busy": "2025-09-25T05:56:45.752760Z",
     "iopub.status.idle": "2025-09-25T05:56:45.760001Z",
     "shell.execute_reply": "2025-09-25T05:56:45.759494Z"
    }
   },
   "outputs": [
    {
     "data": {
      "text/latex": [
       "$\\displaystyle -  d \\ddot{\\alpha}\\hat{a}_y$"
      ],
      "text/plain": [
       "-d⋅α̈ a_y"
      ]
     },
     "execution_count": 31,
     "metadata": {},
     "output_type": "execute_result"
    }
   ],
   "source": [
    "me.cross(A.ang_acc_in(N), S.pos_from(P))"
   ]
  },
  {
   "cell_type": "code",
   "execution_count": 32,
   "id": "21dd9215",
   "metadata": {
    "execution": {
     "iopub.execute_input": "2025-09-25T05:56:45.761419Z",
     "iopub.status.busy": "2025-09-25T05:56:45.761276Z",
     "iopub.status.idle": "2025-09-25T05:56:45.768198Z",
     "shell.execute_reply": "2025-09-25T05:56:45.767707Z"
    }
   },
   "outputs": [
    {
     "data": {
      "text/latex": [
       "$\\displaystyle d \\dot{\\alpha}^{2}\\hat{a}_x$"
      ],
      "text/plain": [
       "   2\n",
       "d⋅α̇  a_x"
      ]
     },
     "execution_count": 32,
     "metadata": {},
     "output_type": "execute_result"
    }
   ],
   "source": [
    "me.cross(A.ang_vel_in(N), me.cross(A.ang_vel_in(N), S.pos_from(P)))"
   ]
  },
  {
   "cell_type": "code",
   "execution_count": 33,
   "id": "e854067e",
   "metadata": {
    "execution": {
     "iopub.execute_input": "2025-09-25T05:56:45.769569Z",
     "iopub.status.busy": "2025-09-25T05:56:45.769416Z",
     "iopub.status.idle": "2025-09-25T05:56:45.779483Z",
     "shell.execute_reply": "2025-09-25T05:56:45.778986Z"
    }
   },
   "outputs": [
    {
     "data": {
      "text/latex": [
       "$\\displaystyle d \\dot{\\alpha}^{2}\\hat{a}_x -  d \\ddot{\\alpha}\\hat{a}_y$"
      ],
      "text/plain": [
       "   2\n",
       "d⋅α̇  a_x + -d⋅α̈ a_y"
      ]
     },
     "execution_count": 33,
     "metadata": {},
     "output_type": "execute_result"
    }
   ],
   "source": [
    "S.a2pt_theory(P, N, A)"
   ]
  },
  {
   "cell_type": "code",
   "execution_count": 34,
   "id": "0cff37e7",
   "metadata": {
    "execution": {
     "iopub.execute_input": "2025-09-25T05:56:45.780888Z",
     "iopub.status.busy": "2025-09-25T05:56:45.780738Z",
     "iopub.status.idle": "2025-09-25T05:56:45.818275Z",
     "shell.execute_reply": "2025-09-25T05:56:45.817747Z"
    }
   },
   "outputs": [
    {
     "data": {
      "text/latex": [
       "$\\displaystyle d \\dot{\\alpha}^{2}\\hat{a}_x -  d \\ddot{\\alpha}\\hat{a}_y + (w \\sin^{2}{\\left(\\beta \\right)} \\dot{\\alpha}^{2} + \\left(- c - \\frac{l}{2}\\right) \\left(\\sin{\\left(\\beta \\right)} \\ddot{\\alpha} + \\cos{\\left(\\beta \\right)} \\dot{\\alpha} \\dot{\\beta}\\right) - \\left(- w \\cos{\\left(\\beta \\right)} \\dot{\\alpha} - \\left(- c - \\frac{l}{2}\\right) \\dot{\\beta}\\right) \\cos{\\left(\\beta \\right)} \\dot{\\alpha})\\hat{b}_x + (- w \\left(- \\sin{\\left(\\beta \\right)} \\dot{\\alpha} \\dot{\\beta} + \\cos{\\left(\\beta \\right)} \\ddot{\\alpha}\\right) - w \\sin{\\left(\\beta \\right)} \\dot{\\alpha} \\dot{\\beta} + \\left(- c - \\frac{l}{2}\\right) \\sin{\\left(\\beta \\right)} \\cos{\\left(\\beta \\right)} \\dot{\\alpha}^{2} - \\left(- c - \\frac{l}{2}\\right) \\ddot{\\beta})\\hat{b}_y + (w \\left(\\sin{\\left(\\beta \\right)} \\ddot{\\alpha} + \\cos{\\left(\\beta \\right)} \\dot{\\alpha} \\dot{\\beta}\\right) - \\left(- c - \\frac{l}{2}\\right) \\sin^{2}{\\left(\\beta \\right)} \\dot{\\alpha}^{2} + \\left(- w \\cos{\\left(\\beta \\right)} \\dot{\\alpha} - \\left(- c - \\frac{l}{2}\\right) \\dot{\\beta}\\right) \\dot{\\beta})\\hat{b}_z$"
      ],
      "text/plain": [
       "   2                  ⎛     2     2   ⎛     l⎞                           ⎛\n",
       "d⋅α̇  a_x + -d⋅α̈ a_y + ⎜w⋅sin (β)⋅α̇  + ⎜-c - ─⎟⋅(sin(β)⋅α̈ + cos(β)⋅α̇⋅β̇) -\n",
       "                      ⎝               ⎝     2⎠                           ⎝\n",
       "\n",
       "          ⎛     l⎞  ⎞         ⎞       ⎛\n",
       " ⎜-w⋅cos(β)⋅α̇ - ⎜-c - ─⎟⋅β̇⎟⋅cos(β)⋅α̇⎟ b_x + ⎜-w⋅(-sin(β)⋅α̇⋅β̇ + cos(β)⋅α̈)\n",
       "          ⎝     2⎠  ⎠         ⎠       ⎝\n",
       "\n",
       "      ⎛     l⎞                2   ⎛     l⎞  ⎞       ⎛\n",
       " - w⋅sin(β)⋅α̇⋅β̇ + ⎜-c - ─⎟⋅sin(β)⋅cos(β)⋅α̇  - ⎜-c - ─⎟⋅β̈⎟ b_y + ⎜w⋅(sin(β)\n",
       "      ⎝     2⎠                    ⎝     2⎠  ⎠       ⎝\n",
       "\n",
       "   ⎛     l⎞    2     2   ⎛              ⎛     l⎞  ⎞  ⎞\n",
       "⋅α̈ + cos(β)⋅α̇⋅β̇) - ⎜-c - ─⎟⋅sin (β)⋅α̇  + ⎜-w⋅cos(β)⋅α̇ - ⎜-c - ─⎟⋅β̇⎟⋅β̇⎟\n",
       "   ⎝     2⎠              ⎝              ⎝     2⎠  ⎠  ⎠"
      ]
     },
     "execution_count": 34,
     "metadata": {},
     "output_type": "execute_result"
    }
   ],
   "source": [
    "Q.a2pt_theory(S, N, B)"
   ]
  },
  {
   "cell_type": "code",
   "execution_count": 35,
   "id": "10dbcc70",
   "metadata": {
    "execution": {
     "iopub.execute_input": "2025-09-25T05:56:45.819756Z",
     "iopub.status.busy": "2025-09-25T05:56:45.819599Z",
     "iopub.status.idle": "2025-09-25T05:56:45.824833Z",
     "shell.execute_reply": "2025-09-25T05:56:45.824310Z"
    }
   },
   "outputs": [
    {
     "data": {
      "text/latex": [
       "$\\displaystyle \\ddot{s}\\hat{b}_x$"
      ],
      "text/plain": [
       "s̈ b_x"
      ]
     },
     "execution_count": 35,
     "metadata": {},
     "output_type": "execute_result"
    }
   ],
   "source": [
    "B_a_R = R.acc(B)\n",
    "B_a_R"
   ]
  },
  {
   "cell_type": "code",
   "execution_count": 36,
   "id": "0b9a6f40",
   "metadata": {
    "execution": {
     "iopub.execute_input": "2025-09-25T05:56:45.826133Z",
     "iopub.status.busy": "2025-09-25T05:56:45.825994Z",
     "iopub.status.idle": "2025-09-25T05:56:45.863097Z",
     "shell.execute_reply": "2025-09-25T05:56:45.862687Z"
    }
   },
   "outputs": [
    {
     "data": {
      "text/latex": [
       "$\\displaystyle d \\dot{\\alpha}^{2}\\hat{a}_x -  d \\ddot{\\alpha}\\hat{a}_y + (\\left(- c + \\frac{l}{2}\\right) \\left(\\sin{\\left(\\beta \\right)} \\ddot{\\alpha} + \\cos{\\left(\\beta \\right)} \\dot{\\alpha} \\dot{\\beta}\\right) - \\left(- w + s\\right) \\sin^{2}{\\left(\\beta \\right)} \\dot{\\alpha}^{2} - \\left(- \\left(- c + \\frac{l}{2}\\right) \\dot{\\beta} + \\left(- w + s\\right) \\cos{\\left(\\beta \\right)} \\dot{\\alpha}\\right) \\cos{\\left(\\beta \\right)} \\dot{\\alpha})\\hat{b}_x + (\\left(- c + \\frac{l}{2}\\right) \\sin{\\left(\\beta \\right)} \\cos{\\left(\\beta \\right)} \\dot{\\alpha}^{2} - \\left(- c + \\frac{l}{2}\\right) \\ddot{\\beta} + \\left(- w + s\\right) \\left(- \\sin{\\left(\\beta \\right)} \\dot{\\alpha} \\dot{\\beta} + \\cos{\\left(\\beta \\right)} \\ddot{\\alpha}\\right) + \\left(- w + s\\right) \\sin{\\left(\\beta \\right)} \\dot{\\alpha} \\dot{\\beta})\\hat{b}_y + (- \\left(- c + \\frac{l}{2}\\right) \\sin^{2}{\\left(\\beta \\right)} \\dot{\\alpha}^{2} - \\left(- w + s\\right) \\left(\\sin{\\left(\\beta \\right)} \\ddot{\\alpha} + \\cos{\\left(\\beta \\right)} \\dot{\\alpha} \\dot{\\beta}\\right) + \\left(- \\left(- c + \\frac{l}{2}\\right) \\dot{\\beta} + \\left(- w + s\\right) \\cos{\\left(\\beta \\right)} \\dot{\\alpha}\\right) \\dot{\\beta})\\hat{b}_z$"
      ],
      "text/plain": [
       "   2                  ⎛⎛     l⎞                                       2     2\n",
       "d⋅α̇  a_x + -d⋅α̈ a_y + ⎜⎜-c + ─⎟⋅(sin(β)⋅α̈ + cos(β)⋅α̇⋅β̇) - (-w + s)⋅sin (β\n",
       "                      ⎝⎝     2⎠\n",
       "\n",
       "  ⎛  ⎛     l⎞                      ⎞         ⎞       ⎛⎛     l⎞\n",
       ")⋅α̇  - ⎜- ⎜-c + ─⎟⋅β̇ + (-w + s)⋅cos(β)⋅α̇⎟⋅cos(β)⋅α̇⎟ b_x + ⎜⎜-c + ─⎟⋅sin(β)\n",
       "  ⎝  ⎝     2⎠                      ⎠         ⎠       ⎝⎝     2⎠\n",
       "\n",
       "2   ⎛     l⎞                                                            ⎞\n",
       "⋅cos(β)⋅α̇  - ⎜-c + ─⎟⋅β̈ + (-w + s)⋅(-sin(β)⋅α̇⋅β̇ + cos(β)⋅α̈) + (-w + s)⋅si\n",
       "    ⎝     2⎠                                                            ⎠\n",
       "\n",
       "  ⎛  ⎛     l⎞    2     2                                      ⎛  ⎛     l⎞\n",
       "n(β)⋅α̇⋅β̇⎟ b_y + ⎜- ⎜-c + ─⎟⋅sin (β)⋅α̇  - (-w + s)⋅(sin(β)⋅α̈ + cos(β)⋅α̇⋅β̇\n",
       "  ⎝  ⎝     2⎠                                                 ⎝  ⎝     2⎠\n",
       "\n",
       "                 ⎞  ⎞\n",
       ") + ⎜- ⎜-c + ─⎟⋅β̇ + (-w + s)⋅cos(β)⋅α̇⎟⋅β̇⎟ b_z\n",
       "                 ⎠  ⎠"
      ]
     },
     "execution_count": 36,
     "metadata": {},
     "output_type": "execute_result"
    }
   ],
   "source": [
    "N_a_T = R.a2pt_theory(S, N, B)\n",
    "N_a_T"
   ]
  },
  {
   "cell_type": "code",
   "execution_count": 37,
   "id": "bfca4630",
   "metadata": {
    "execution": {
     "iopub.execute_input": "2025-09-25T05:56:45.864540Z",
     "iopub.status.busy": "2025-09-25T05:56:45.864394Z",
     "iopub.status.idle": "2025-09-25T05:56:45.872804Z",
     "shell.execute_reply": "2025-09-25T05:56:45.872387Z"
    }
   },
   "outputs": [
    {
     "data": {
      "text/latex": [
       "$\\displaystyle 2 \\cos{\\left(\\beta \\right)} \\dot{\\alpha} \\dot{s}\\hat{b}_y -  2 \\sin{\\left(\\beta \\right)} \\dot{\\alpha} \\dot{s}\\hat{b}_z$"
      ],
      "text/plain": [
       "2⋅cos(β)⋅α̇⋅ṡ b_y + -2⋅sin(β)⋅α̇⋅ṡ b_z"
      ]
     },
     "execution_count": 37,
     "metadata": {},
     "output_type": "execute_result"
    }
   ],
   "source": [
    "2*me.cross(B.ang_vel_in(N), R.vel(B))"
   ]
  },
  {
   "cell_type": "code",
   "execution_count": 38,
   "id": "19ae6cb2",
   "metadata": {
    "execution": {
     "iopub.execute_input": "2025-09-25T05:56:45.874180Z",
     "iopub.status.busy": "2025-09-25T05:56:45.874011Z",
     "iopub.status.idle": "2025-09-25T05:56:45.911781Z",
     "shell.execute_reply": "2025-09-25T05:56:45.911250Z"
    }
   },
   "outputs": [
    {
     "data": {
      "text/latex": [
       "$\\displaystyle (\\left(- c + \\frac{l}{2}\\right) \\left(\\sin{\\left(\\beta \\right)} \\ddot{\\alpha} + \\cos{\\left(\\beta \\right)} \\dot{\\alpha} \\dot{\\beta}\\right) - \\left(- w + s\\right) \\sin^{2}{\\left(\\beta \\right)} \\dot{\\alpha}^{2} - \\left(- \\left(- c + \\frac{l}{2}\\right) \\dot{\\beta} + \\left(- w + s\\right) \\cos{\\left(\\beta \\right)} \\dot{\\alpha}\\right) \\cos{\\left(\\beta \\right)} \\dot{\\alpha} + \\ddot{s})\\hat{b}_x + (\\left(- c + \\frac{l}{2}\\right) \\sin{\\left(\\beta \\right)} \\cos{\\left(\\beta \\right)} \\dot{\\alpha}^{2} - \\left(- c + \\frac{l}{2}\\right) \\ddot{\\beta} + \\left(- w + s\\right) \\left(- \\sin{\\left(\\beta \\right)} \\dot{\\alpha} \\dot{\\beta} + \\cos{\\left(\\beta \\right)} \\ddot{\\alpha}\\right) + \\left(- w + s\\right) \\sin{\\left(\\beta \\right)} \\dot{\\alpha} \\dot{\\beta} + 2 \\cos{\\left(\\beta \\right)} \\dot{\\alpha} \\dot{s})\\hat{b}_y + (- \\left(- c + \\frac{l}{2}\\right) \\sin^{2}{\\left(\\beta \\right)} \\dot{\\alpha}^{2} - \\left(- w + s\\right) \\left(\\sin{\\left(\\beta \\right)} \\ddot{\\alpha} + \\cos{\\left(\\beta \\right)} \\dot{\\alpha} \\dot{\\beta}\\right) + \\left(- \\left(- c + \\frac{l}{2}\\right) \\dot{\\beta} + \\left(- w + s\\right) \\cos{\\left(\\beta \\right)} \\dot{\\alpha}\\right) \\dot{\\beta} - 2 \\sin{\\left(\\beta \\right)} \\dot{\\alpha} \\dot{s})\\hat{b}_z + d \\dot{\\alpha}^{2}\\hat{a}_x -  d \\ddot{\\alpha}\\hat{a}_y$"
      ],
      "text/plain": [
       "⎛⎛     l⎞                                       2     2   ⎛  ⎛     l⎞\n",
       "⎜⎜-c + ─⎟⋅(sin(β)⋅α̈ + cos(β)⋅α̇⋅β̇) - (-w + s)⋅sin (β)⋅α̇  - ⎜- ⎜-c + ─⎟⋅β̇ +\n",
       "⎝⎝     2⎠                                                 ⎝  ⎝     2⎠\n",
       "\n",
       "             ⎞             ⎞       ⎛⎛     l⎞                2   ⎛     l⎞\n",
       " (-w + s)⋅cos(β)⋅α̇⎟⋅cos(β)⋅α̇ + s̈⎟ b_x + ⎜⎜-c + ─⎟⋅sin(β)⋅cos(β)⋅α̇  - ⎜-c +\n",
       "             ⎠             ⎠       ⎝⎝     2⎠                    ⎝     2⎠\n",
       "\n",
       "                                                                     ⎞       ⎛\n",
       " ─⎟⋅β̈ + (-w + s)⋅(-sin(β)⋅α̇⋅β̇ + cos(β)⋅α̈) + (-w + s)⋅sin(β)⋅α̇⋅β̇ + 2⋅cos(\n",
       "                                                                     ⎠       ⎝\n",
       "\n",
       "  ⎛     l⎞    2     2                                      ⎛  ⎛     l⎞\n",
       "β)⋅α̇⋅ṡ⎟ b_y + ⎜- ⎜-c + ─⎟⋅sin (β)⋅α̇  - (-w + s)⋅(sin(β)⋅α̈ + cos(β)⋅α̇⋅β̇)\n",
       "  ⎝     2⎠                                                 ⎝  ⎝     2⎠\n",
       "\n",
       "              ⎞                 ⎞          2\n",
       "+ ⎜- ⎜-c + ─⎟⋅β̇ + (-w + s)⋅cos(β)⋅α̇⎟⋅β̇ - 2⋅sin(β)⋅α̇⋅ṡ⎟ b_z + d⋅α̇  a_x +\n",
       "              ⎠                 ⎠"
      ]
     },
     "execution_count": 38,
     "metadata": {},
     "output_type": "execute_result"
    }
   ],
   "source": [
    "R.a1pt_theory(S, N, B)"
   ]
  }
 ],
 "metadata": {
  "kernelspec": {
   "display_name": "Python 3 (ipykernel)",
   "language": "python",
   "name": "python3"
  },
  "language_info": {
   "codemirror_mode": {
    "name": "ipython",
    "version": 3
   },
   "file_extension": ".py",
   "mimetype": "text/x-python",
   "name": "python",
   "nbconvert_exporter": "python",
   "pygments_lexer": "ipython3",
   "version": "3.11.13"
  }
 },
 "nbformat": 4,
 "nbformat_minor": 5
}