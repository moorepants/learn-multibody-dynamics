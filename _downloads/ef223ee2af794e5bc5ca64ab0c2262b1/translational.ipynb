{
 "cells": [
  {
   "cell_type": "code",
   "execution_count": 1,
   "id": "f0a89e9f",
   "metadata": {
    "execution": {
     "iopub.execute_input": "2025-01-22T13:11:26.634889Z",
     "iopub.status.busy": "2025-01-22T13:11:26.634735Z",
     "iopub.status.idle": "2025-01-22T13:11:26.977429Z",
     "shell.execute_reply": "2025-01-22T13:11:26.976816Z"
    }
   },
   "outputs": [],
   "source": [
    "import sympy as sm\n",
    "import sympy.physics.mechanics as me\n",
    "me.init_vprinting(use_latex='mathjax')"
   ]
  },
  {
   "cell_type": "code",
   "execution_count": 2,
   "id": "fcf2a990",
   "metadata": {
    "execution": {
     "iopub.execute_input": "2025-01-22T13:11:26.979374Z",
     "iopub.status.busy": "2025-01-22T13:11:26.979163Z",
     "iopub.status.idle": "2025-01-22T13:11:26.982989Z",
     "shell.execute_reply": "2025-01-22T13:11:26.982494Z"
    }
   },
   "outputs": [],
   "source": [
    "class ReferenceFrame(me.ReferenceFrame):\n",
    "\n",
    "    def __init__(self, *args, **kwargs):\n",
    "\n",
    "        kwargs.pop('latexs', None)\n",
    "\n",
    "        lab = args[0].lower()\n",
    "        tex = r'\\hat{{{}}}_{}'\n",
    "\n",
    "        super(ReferenceFrame, self).__init__(*args,\n",
    "                                             latexs=(tex.format(lab, 'x'),\n",
    "                                                     tex.format(lab, 'y'),\n",
    "                                                     tex.format(lab, 'z')),\n",
    "                                             **kwargs)\n",
    "me.ReferenceFrame = ReferenceFrame"
   ]
  },
  {
   "cell_type": "code",
   "execution_count": 3,
   "id": "06ba8a5a",
   "metadata": {
    "execution": {
     "iopub.execute_input": "2025-01-22T13:11:26.984665Z",
     "iopub.status.busy": "2025-01-22T13:11:26.984302Z",
     "iopub.status.idle": "2025-01-22T13:11:26.994892Z",
     "shell.execute_reply": "2025-01-22T13:11:26.994481Z"
    }
   },
   "outputs": [],
   "source": [
    "alpha, beta = me.dynamicsymbols('alpha, beta')\n",
    "\n",
    "N = me.ReferenceFrame('N')\n",
    "A = me.ReferenceFrame('A')\n",
    "B = me.ReferenceFrame('B')\n",
    "\n",
    "A.orient_axis(N, alpha, N.z)\n",
    "B.orient_axis(A, beta, A.x)"
   ]
  },
  {
   "cell_type": "code",
   "execution_count": 4,
   "id": "ce8a5121",
   "metadata": {
    "execution": {
     "iopub.execute_input": "2025-01-22T13:11:26.996237Z",
     "iopub.status.busy": "2025-01-22T13:11:26.996092Z",
     "iopub.status.idle": "2025-01-22T13:11:27.004586Z",
     "shell.execute_reply": "2025-01-22T13:11:27.004104Z"
    }
   },
   "outputs": [
    {
     "data": {
      "text/latex": [
       "$\\displaystyle \\left( h\\hat{n}_z, \\  -  d\\hat{a}_x, \\  -  w\\hat{b}_x + (- c - \\frac{l}{2})\\hat{b}_z\\right)$"
      ],
      "text/plain": [
       "⎛h n_z, -d a_x,            ⎛     l⎞  ⎞\n",
       "⎜               -w b_x + ⎜-c - ─⎟ b_z⎟\n",
       "⎝                          ⎝     2⎠  ⎠"
      ]
     },
     "execution_count": 4,
     "metadata": {},
     "output_type": "execute_result"
    }
   ],
   "source": [
    "h, d, w, c, l = sm.symbols('h, d, w, c, l')\n",
    "\n",
    "r_O_P = h*N.z\n",
    "r_P_S = -d*A.x\n",
    "r_S_Q = -w*B.x - (c + l/2)*B.z\n",
    "\n",
    "r_O_P, r_P_S, r_S_Q"
   ]
  },
  {
   "cell_type": "code",
   "execution_count": 5,
   "id": "f5977bdc",
   "metadata": {
    "execution": {
     "iopub.execute_input": "2025-01-22T13:11:27.005927Z",
     "iopub.status.busy": "2025-01-22T13:11:27.005770Z",
     "iopub.status.idle": "2025-01-22T13:11:27.011699Z",
     "shell.execute_reply": "2025-01-22T13:11:27.011299Z"
    }
   },
   "outputs": [
    {
     "data": {
      "text/latex": [
       "$\\displaystyle 0$"
      ],
      "text/plain": [
       "0"
      ]
     },
     "execution_count": 5,
     "metadata": {},
     "output_type": "execute_result"
    }
   ],
   "source": [
    "(r_O_P + r_P_S).dt(A)"
   ]
  },
  {
   "cell_type": "code",
   "execution_count": 6,
   "id": "1ec3b1e5",
   "metadata": {
    "execution": {
     "iopub.execute_input": "2025-01-22T13:11:27.012971Z",
     "iopub.status.busy": "2025-01-22T13:11:27.012821Z",
     "iopub.status.idle": "2025-01-22T13:11:27.016760Z",
     "shell.execute_reply": "2025-01-22T13:11:27.016253Z"
    }
   },
   "outputs": [
    {
     "data": {
      "text/latex": [
       "$\\displaystyle \\dot{\\alpha}\\hat{n}_z$"
      ],
      "text/plain": [
       "α̇ n_z"
      ]
     },
     "execution_count": 6,
     "metadata": {},
     "output_type": "execute_result"
    }
   ],
   "source": [
    "A.ang_vel_in(N)"
   ]
  },
  {
   "cell_type": "code",
   "execution_count": 7,
   "id": "73f5ca44",
   "metadata": {
    "execution": {
     "iopub.execute_input": "2025-01-22T13:11:27.018122Z",
     "iopub.status.busy": "2025-01-22T13:11:27.017955Z",
     "iopub.status.idle": "2025-01-22T13:11:27.025736Z",
     "shell.execute_reply": "2025-01-22T13:11:27.025231Z"
    }
   },
   "outputs": [
    {
     "data": {
      "text/latex": [
       "$\\displaystyle -  d \\dot{\\alpha}\\hat{a}_y$"
      ],
      "text/plain": [
       "-d⋅α̇ a_y"
      ]
     },
     "execution_count": 7,
     "metadata": {},
     "output_type": "execute_result"
    }
   ],
   "source": [
    "me.cross(A.ang_vel_in(N), r_O_P + r_P_S)"
   ]
  },
  {
   "cell_type": "code",
   "execution_count": 8,
   "id": "5a64990f",
   "metadata": {
    "execution": {
     "iopub.execute_input": "2025-01-22T13:11:27.027296Z",
     "iopub.status.busy": "2025-01-22T13:11:27.026968Z",
     "iopub.status.idle": "2025-01-22T13:11:27.035965Z",
     "shell.execute_reply": "2025-01-22T13:11:27.035479Z"
    }
   },
   "outputs": [
    {
     "data": {
      "text/latex": [
       "$\\displaystyle -  d \\dot{\\alpha}\\hat{a}_y$"
      ],
      "text/plain": [
       "-d⋅α̇ a_y"
      ]
     },
     "execution_count": 8,
     "metadata": {},
     "output_type": "execute_result"
    }
   ],
   "source": [
    "N_v_S = (r_O_P + r_P_S).dt(A) + me.cross(A.ang_vel_in(N), r_O_P + r_P_S)\n",
    "N_v_S"
   ]
  },
  {
   "cell_type": "code",
   "execution_count": 9,
   "id": "9b8a261d",
   "metadata": {
    "execution": {
     "iopub.execute_input": "2025-01-22T13:11:27.037417Z",
     "iopub.status.busy": "2025-01-22T13:11:27.037128Z",
     "iopub.status.idle": "2025-01-22T13:11:27.042677Z",
     "shell.execute_reply": "2025-01-22T13:11:27.042190Z"
    }
   },
   "outputs": [
    {
     "data": {
      "text/latex": [
       "$\\displaystyle 0$"
      ],
      "text/plain": [
       "0"
      ]
     },
     "execution_count": 9,
     "metadata": {},
     "output_type": "execute_result"
    }
   ],
   "source": [
    "(r_P_S + r_S_Q).dt(B)"
   ]
  },
  {
   "cell_type": "code",
   "execution_count": 10,
   "id": "117ab002",
   "metadata": {
    "execution": {
     "iopub.execute_input": "2025-01-22T13:11:27.044230Z",
     "iopub.status.busy": "2025-01-22T13:11:27.043923Z",
     "iopub.status.idle": "2025-01-22T13:11:27.061260Z",
     "shell.execute_reply": "2025-01-22T13:11:27.060756Z"
    }
   },
   "outputs": [
    {
     "data": {
      "text/latex": [
       "$\\displaystyle -  d \\dot{\\alpha}\\hat{a}_y + \\left(- c - \\frac{l}{2}\\right) \\sin{\\left(\\beta \\right)} \\dot{\\alpha}\\hat{b}_x + (- w \\cos{\\left(\\beta \\right)} \\dot{\\alpha} - \\left(- c - \\frac{l}{2}\\right) \\dot{\\beta})\\hat{b}_y + w \\sin{\\left(\\beta \\right)} \\dot{\\alpha}\\hat{b}_z$"
      ],
      "text/plain": [
       "           ⎛     l⎞                ⎛              ⎛     l⎞  ⎞\n",
       "-d⋅α̇ a_y + ⎜-c - ─⎟⋅sin(β)⋅α̇ b_x + ⎜-w⋅cos(β)⋅α̇ - ⎜-c - ─⎟⋅β̇⎟ b_y + w⋅sin(\n",
       "           ⎝     2⎠                ⎝              ⎝     2⎠  ⎠\n",
       "\n",
       "\n",
       "β)⋅α̇ b_z\n"
      ]
     },
     "execution_count": 10,
     "metadata": {},
     "output_type": "execute_result"
    }
   ],
   "source": [
    "me.cross(B.ang_vel_in(N), r_P_S + r_S_Q)"
   ]
  },
  {
   "cell_type": "code",
   "execution_count": 11,
   "id": "aa586616",
   "metadata": {
    "execution": {
     "iopub.execute_input": "2025-01-22T13:11:27.062728Z",
     "iopub.status.busy": "2025-01-22T13:11:27.062439Z",
     "iopub.status.idle": "2025-01-22T13:11:27.076012Z",
     "shell.execute_reply": "2025-01-22T13:11:27.075517Z"
    }
   },
   "outputs": [
    {
     "data": {
      "text/latex": [
       "$\\displaystyle -  d \\dot{\\alpha}\\hat{a}_y + \\left(- c - \\frac{l}{2}\\right) \\sin{\\left(\\beta \\right)} \\dot{\\alpha}\\hat{b}_x + (- w \\cos{\\left(\\beta \\right)} \\dot{\\alpha} - \\left(- c - \\frac{l}{2}\\right) \\dot{\\beta})\\hat{b}_y + w \\sin{\\left(\\beta \\right)} \\dot{\\alpha}\\hat{b}_z$"
      ],
      "text/plain": [
       "           ⎛     l⎞                ⎛              ⎛     l⎞  ⎞\n",
       "-d⋅α̇ a_y + ⎜-c - ─⎟⋅sin(β)⋅α̇ b_x + ⎜-w⋅cos(β)⋅α̇ - ⎜-c - ─⎟⋅β̇⎟ b_y + w⋅sin(\n",
       "           ⎝     2⎠                ⎝              ⎝     2⎠  ⎠\n",
       "\n",
       "\n",
       "β)⋅α̇ b_z\n"
      ]
     },
     "execution_count": 11,
     "metadata": {},
     "output_type": "execute_result"
    }
   ],
   "source": [
    "N_v_Q = (r_P_S + r_S_Q).dt(B) + me.cross(B.ang_vel_in(N), r_P_S + r_S_Q)\n",
    "N_v_Q"
   ]
  },
  {
   "cell_type": "code",
   "execution_count": 12,
   "id": "6a176111",
   "metadata": {
    "execution": {
     "iopub.execute_input": "2025-01-22T13:11:27.077634Z",
     "iopub.status.busy": "2025-01-22T13:11:27.077195Z",
     "iopub.status.idle": "2025-01-22T13:11:27.081521Z",
     "shell.execute_reply": "2025-01-22T13:11:27.080997Z"
    }
   },
   "outputs": [],
   "source": [
    "O = me.Point('O')\n",
    "P = me.Point('P')\n",
    "S = me.Point('S')\n",
    "Q = me.Point('Q')\n",
    "\n",
    "P.set_pos(O, h*N.z)\n",
    "S.set_pos(P, -d*A.x)\n",
    "Q.set_pos(S, -w*B.x - (c + l/2)*B.z)"
   ]
  },
  {
   "cell_type": "code",
   "execution_count": 13,
   "id": "f7f1c11c",
   "metadata": {
    "execution": {
     "iopub.execute_input": "2025-01-22T13:11:27.083012Z",
     "iopub.status.busy": "2025-01-22T13:11:27.082644Z",
     "iopub.status.idle": "2025-01-22T13:11:27.087356Z",
     "shell.execute_reply": "2025-01-22T13:11:27.086927Z"
    }
   },
   "outputs": [
    {
     "data": {
      "text/latex": [
       "$\\displaystyle -  w\\hat{b}_x + (- c - \\frac{l}{2})\\hat{b}_z -  d\\hat{a}_x + h\\hat{n}_z$"
      ],
      "text/plain": [
       "         ⎛     l⎞\n",
       "-w b_x + ⎜-c - ─⎟ b_z + -d a_x + h n_z\n",
       "         ⎝     2⎠"
      ]
     },
     "execution_count": 13,
     "metadata": {},
     "output_type": "execute_result"
    }
   ],
   "source": [
    "Q.pos_from(O)"
   ]
  },
  {
   "cell_type": "code",
   "execution_count": 14,
   "id": "b3054d51",
   "metadata": {
    "execution": {
     "iopub.execute_input": "2025-01-22T13:11:27.088621Z",
     "iopub.status.busy": "2025-01-22T13:11:27.088481Z",
     "iopub.status.idle": "2025-01-22T13:11:27.090883Z",
     "shell.execute_reply": "2025-01-22T13:11:27.090481Z"
    }
   },
   "outputs": [],
   "source": [
    "O.set_vel(N, 0)"
   ]
  },
  {
   "cell_type": "code",
   "execution_count": 15,
   "id": "b4e72c17",
   "metadata": {
    "execution": {
     "iopub.execute_input": "2025-01-22T13:11:27.092366Z",
     "iopub.status.busy": "2025-01-22T13:11:27.091981Z",
     "iopub.status.idle": "2025-01-22T13:11:27.106397Z",
     "shell.execute_reply": "2025-01-22T13:11:27.105976Z"
    }
   },
   "outputs": [
    {
     "data": {
      "text/latex": [
       "$\\displaystyle \\left(- c - \\frac{l}{2}\\right) \\sin{\\left(\\beta \\right)} \\dot{\\alpha}\\hat{b}_x + (- w \\cos{\\left(\\beta \\right)} \\dot{\\alpha} - \\left(- c - \\frac{l}{2}\\right) \\dot{\\beta})\\hat{b}_y + w \\sin{\\left(\\beta \\right)} \\dot{\\alpha}\\hat{b}_z -  d \\dot{\\alpha}\\hat{a}_y$"
      ],
      "text/plain": [
       "⎛     l⎞                ⎛              ⎛     l⎞  ⎞\n",
       "⎜-c - ─⎟⋅sin(β)⋅α̇ b_x + ⎜-w⋅cos(β)⋅α̇ - ⎜-c - ─⎟⋅β̇⎟ b_y + w⋅sin(β)⋅α̇ b_z +\n",
       "⎝     2⎠                ⎝              ⎝     2⎠  ⎠\n",
       "\n",
       "\n",
       "-d⋅α̇ a_y\n"
      ]
     },
     "execution_count": 15,
     "metadata": {},
     "output_type": "execute_result"
    }
   ],
   "source": [
    "Q.vel(N)"
   ]
  },
  {
   "cell_type": "code",
   "execution_count": 16,
   "id": "7d09de89",
   "metadata": {
    "execution": {
     "iopub.execute_input": "2025-01-22T13:11:27.107908Z",
     "iopub.status.busy": "2025-01-22T13:11:27.107608Z",
     "iopub.status.idle": "2025-01-22T13:11:27.115902Z",
     "shell.execute_reply": "2025-01-22T13:11:27.115517Z"
    }
   },
   "outputs": [
    {
     "data": {
      "text/latex": [
       "$\\displaystyle c \\dot{\\beta}\\hat{b}_y$"
      ],
      "text/plain": [
       "c⋅β̇ b_y"
      ]
     },
     "execution_count": 16,
     "metadata": {},
     "output_type": "execute_result"
    }
   ],
   "source": [
    "Bc = me.Point('B_c')\n",
    "Bc.set_pos(S, -c*B.z - w/2*A.x)\n",
    "me.cross(B.ang_vel_in(A), Bc.pos_from(S))"
   ]
  },
  {
   "cell_type": "code",
   "execution_count": 17,
   "id": "a59ca50f",
   "metadata": {
    "execution": {
     "iopub.execute_input": "2025-01-22T13:11:27.117305Z",
     "iopub.status.busy": "2025-01-22T13:11:27.116986Z",
     "iopub.status.idle": "2025-01-22T13:11:27.119554Z",
     "shell.execute_reply": "2025-01-22T13:11:27.119057Z"
    }
   },
   "outputs": [],
   "source": [
    "N_v_P = 0*N.z"
   ]
  },
  {
   "cell_type": "code",
   "execution_count": 18,
   "id": "a1f290c4",
   "metadata": {
    "execution": {
     "iopub.execute_input": "2025-01-22T13:11:27.120968Z",
     "iopub.status.busy": "2025-01-22T13:11:27.120814Z",
     "iopub.status.idle": "2025-01-22T13:11:27.126497Z",
     "shell.execute_reply": "2025-01-22T13:11:27.126001Z"
    }
   },
   "outputs": [
    {
     "data": {
      "text/latex": [
       "$\\displaystyle -  d \\dot{\\alpha}\\hat{a}_y$"
      ],
      "text/plain": [
       "-d⋅α̇ a_y"
      ]
     },
     "execution_count": 18,
     "metadata": {},
     "output_type": "execute_result"
    }
   ],
   "source": [
    "N_v_S = N_v_P +  me.cross(A.ang_vel_in(N), S.pos_from(P))\n",
    "N_v_S"
   ]
  },
  {
   "cell_type": "code",
   "execution_count": 19,
   "id": "2b0d43f4",
   "metadata": {
    "execution": {
     "iopub.execute_input": "2025-01-22T13:11:27.128154Z",
     "iopub.status.busy": "2025-01-22T13:11:27.127738Z",
     "iopub.status.idle": "2025-01-22T13:11:27.133656Z",
     "shell.execute_reply": "2025-01-22T13:11:27.133135Z"
    }
   },
   "outputs": [
    {
     "data": {
      "text/latex": [
       "$\\displaystyle -  d \\dot{\\alpha}\\hat{a}_y$"
      ],
      "text/plain": [
       "-d⋅α̇ a_y"
      ]
     },
     "execution_count": 19,
     "metadata": {},
     "output_type": "execute_result"
    }
   ],
   "source": [
    "P.set_vel(N, 0)\n",
    "S.v2pt_theory(P, N, A)"
   ]
  },
  {
   "cell_type": "code",
   "execution_count": 20,
   "id": "6ba0d486",
   "metadata": {
    "execution": {
     "iopub.execute_input": "2025-01-22T13:11:27.135234Z",
     "iopub.status.busy": "2025-01-22T13:11:27.134905Z",
     "iopub.status.idle": "2025-01-22T13:11:27.139006Z",
     "shell.execute_reply": "2025-01-22T13:11:27.138630Z"
    }
   },
   "outputs": [
    {
     "data": {
      "text/latex": [
       "$\\displaystyle -  d \\dot{\\alpha}\\hat{a}_y$"
      ],
      "text/plain": [
       "-d⋅α̇ a_y"
      ]
     },
     "execution_count": 20,
     "metadata": {},
     "output_type": "execute_result"
    }
   ],
   "source": [
    "S.vel(N)"
   ]
  },
  {
   "cell_type": "code",
   "execution_count": 21,
   "id": "97972869",
   "metadata": {
    "execution": {
     "iopub.execute_input": "2025-01-22T13:11:27.140389Z",
     "iopub.status.busy": "2025-01-22T13:11:27.140249Z",
     "iopub.status.idle": "2025-01-22T13:11:27.149830Z",
     "shell.execute_reply": "2025-01-22T13:11:27.149452Z"
    }
   },
   "outputs": [
    {
     "data": {
      "text/latex": [
       "$\\displaystyle -  d \\dot{\\alpha}\\hat{a}_y + \\left(- c - \\frac{l}{2}\\right) \\sin{\\left(\\beta \\right)} \\dot{\\alpha}\\hat{b}_x + (- w \\cos{\\left(\\beta \\right)} \\dot{\\alpha} - \\left(- c - \\frac{l}{2}\\right) \\dot{\\beta})\\hat{b}_y + w \\sin{\\left(\\beta \\right)} \\dot{\\alpha}\\hat{b}_z$"
      ],
      "text/plain": [
       "           ⎛     l⎞                ⎛              ⎛     l⎞  ⎞\n",
       "-d⋅α̇ a_y + ⎜-c - ─⎟⋅sin(β)⋅α̇ b_x + ⎜-w⋅cos(β)⋅α̇ - ⎜-c - ─⎟⋅β̇⎟ b_y + w⋅sin(\n",
       "           ⎝     2⎠                ⎝              ⎝     2⎠  ⎠\n",
       "\n",
       "\n",
       "β)⋅α̇ b_z\n"
      ]
     },
     "execution_count": 21,
     "metadata": {},
     "output_type": "execute_result"
    }
   ],
   "source": [
    "N_v_Q = N_v_S +  me.cross(B.ang_vel_in(N), Q.pos_from(S))\n",
    "N_v_Q"
   ]
  },
  {
   "cell_type": "code",
   "execution_count": 22,
   "id": "97bdcbf1",
   "metadata": {
    "execution": {
     "iopub.execute_input": "2025-01-22T13:11:27.151117Z",
     "iopub.status.busy": "2025-01-22T13:11:27.150957Z",
     "iopub.status.idle": "2025-01-22T13:11:27.160495Z",
     "shell.execute_reply": "2025-01-22T13:11:27.159972Z"
    }
   },
   "outputs": [
    {
     "data": {
      "text/latex": [
       "$\\displaystyle -  d \\dot{\\alpha}\\hat{a}_y + \\left(- c - \\frac{l}{2}\\right) \\sin{\\left(\\beta \\right)} \\dot{\\alpha}\\hat{b}_x + (- w \\cos{\\left(\\beta \\right)} \\dot{\\alpha} - \\left(- c - \\frac{l}{2}\\right) \\dot{\\beta})\\hat{b}_y + w \\sin{\\left(\\beta \\right)} \\dot{\\alpha}\\hat{b}_z$"
      ],
      "text/plain": [
       "           ⎛     l⎞                ⎛              ⎛     l⎞  ⎞\n",
       "-d⋅α̇ a_y + ⎜-c - ─⎟⋅sin(β)⋅α̇ b_x + ⎜-w⋅cos(β)⋅α̇ - ⎜-c - ─⎟⋅β̇⎟ b_y + w⋅sin(\n",
       "           ⎝     2⎠                ⎝              ⎝     2⎠  ⎠\n",
       "\n",
       "\n",
       "β)⋅α̇ b_z\n"
      ]
     },
     "execution_count": 22,
     "metadata": {},
     "output_type": "execute_result"
    }
   ],
   "source": [
    "Q.v2pt_theory(S, N, B)"
   ]
  },
  {
   "cell_type": "code",
   "execution_count": 23,
   "id": "6306bdc0",
   "metadata": {
    "execution": {
     "iopub.execute_input": "2025-01-22T13:11:27.162024Z",
     "iopub.status.busy": "2025-01-22T13:11:27.161735Z",
     "iopub.status.idle": "2025-01-22T13:11:27.172675Z",
     "shell.execute_reply": "2025-01-22T13:11:27.172196Z"
    }
   },
   "outputs": [
    {
     "data": {
      "text/latex": [
       "$\\displaystyle (- d \\dot{\\alpha} - \\frac{w \\dot{\\alpha}}{2})\\hat{a}_y -  c \\sin{\\left(\\beta \\right)} \\dot{\\alpha}\\hat{b}_x + c \\dot{\\beta}\\hat{b}_y$"
      ],
      "text/plain": [
       "⎛       w⋅α̇⎞\n",
       "⎜-d⋅α̇ - ───⎟ a_y + -c⋅sin(β)⋅α̇ b_x + c⋅β̇ b_y\n",
       "⎝        2 ⎠"
      ]
     },
     "execution_count": 23,
     "metadata": {},
     "output_type": "execute_result"
    }
   ],
   "source": [
    "Bc = me.Point('B_c')\n",
    "Bc.set_pos(S, -c*B.z - w/2*A.x)\n",
    "Bc.v2pt_theory(S, N, B)"
   ]
  },
  {
   "cell_type": "code",
   "execution_count": 24,
   "id": "17c1b4ce",
   "metadata": {
    "execution": {
     "iopub.execute_input": "2025-01-22T13:11:27.174115Z",
     "iopub.status.busy": "2025-01-22T13:11:27.173942Z",
     "iopub.status.idle": "2025-01-22T13:11:27.177685Z",
     "shell.execute_reply": "2025-01-22T13:11:27.177185Z"
    }
   },
   "outputs": [],
   "source": [
    "s = me.dynamicsymbols('s')\n",
    "t = me.dynamicsymbols._t\n",
    "\n",
    "R = me.Point('R')\n",
    "R.set_pos(Q, l*B.z + s*B.x)"
   ]
  },
  {
   "cell_type": "code",
   "execution_count": 25,
   "id": "f130341f",
   "metadata": {
    "execution": {
     "iopub.execute_input": "2025-01-22T13:11:27.179240Z",
     "iopub.status.busy": "2025-01-22T13:11:27.179060Z",
     "iopub.status.idle": "2025-01-22T13:11:27.183516Z",
     "shell.execute_reply": "2025-01-22T13:11:27.183116Z"
    }
   },
   "outputs": [
    {
     "data": {
      "text/latex": [
       "$\\displaystyle \\dot{s}\\hat{b}_x$"
      ],
      "text/plain": [
       "ṡ b_x"
      ]
     },
     "execution_count": 25,
     "metadata": {},
     "output_type": "execute_result"
    }
   ],
   "source": [
    "B_v_R = s.diff(t)*B.x\n",
    "B_v_R"
   ]
  },
  {
   "cell_type": "code",
   "execution_count": 26,
   "id": "2d32a31e",
   "metadata": {
    "execution": {
     "iopub.execute_input": "2025-01-22T13:11:27.184804Z",
     "iopub.status.busy": "2025-01-22T13:11:27.184655Z",
     "iopub.status.idle": "2025-01-22T13:11:27.189643Z",
     "shell.execute_reply": "2025-01-22T13:11:27.189166Z"
    }
   },
   "outputs": [
    {
     "data": {
      "text/latex": [
       "$\\displaystyle (- w + s)\\hat{b}_x + (- c + \\frac{l}{2})\\hat{b}_z$"
      ],
      "text/plain": [
       "               ⎛     l⎞\n",
       "(-w + s) b_x + ⎜-c + ─⎟ b_z\n",
       "               ⎝     2⎠"
      ]
     },
     "execution_count": 26,
     "metadata": {},
     "output_type": "execute_result"
    }
   ],
   "source": [
    "r_S_R = R.pos_from(S)\n",
    "r_S_R"
   ]
  },
  {
   "cell_type": "code",
   "execution_count": 27,
   "id": "055bca11",
   "metadata": {
    "execution": {
     "iopub.execute_input": "2025-01-22T13:11:27.191028Z",
     "iopub.status.busy": "2025-01-22T13:11:27.190876Z",
     "iopub.status.idle": "2025-01-22T13:11:27.204771Z",
     "shell.execute_reply": "2025-01-22T13:11:27.204285Z"
    }
   },
   "outputs": [
    {
     "data": {
      "text/latex": [
       "$\\displaystyle -  d \\dot{\\alpha}\\hat{a}_y + \\left(- c + \\frac{l}{2}\\right) \\sin{\\left(\\beta \\right)} \\dot{\\alpha}\\hat{b}_x + (- \\left(- c + \\frac{l}{2}\\right) \\dot{\\beta} + \\left(- w + s\\right) \\cos{\\left(\\beta \\right)} \\dot{\\alpha})\\hat{b}_y -  \\left(- w + s\\right) \\sin{\\left(\\beta \\right)} \\dot{\\alpha}\\hat{b}_z$"
      ],
      "text/plain": [
       "           ⎛     l⎞                ⎛  ⎛     l⎞                      ⎞\n",
       "-d⋅α̇ a_y + ⎜-c + ─⎟⋅sin(β)⋅α̇ b_x + ⎜- ⎜-c + ─⎟⋅β̇ + (-w + s)⋅cos(β)⋅α̇⎟ b_y\n",
       "           ⎝     2⎠                ⎝  ⎝     2⎠                      ⎠\n",
       "\n",
       "\n",
       "+ -(-w + s)⋅sin(β)⋅α̇ b_z\n"
      ]
     },
     "execution_count": 27,
     "metadata": {},
     "output_type": "execute_result"
    }
   ],
   "source": [
    "N_v_T = N_v_S + me.cross(B.ang_vel_in(N), r_S_R)\n",
    "N_v_T"
   ]
  },
  {
   "cell_type": "code",
   "execution_count": 28,
   "id": "2e62ff32",
   "metadata": {
    "execution": {
     "iopub.execute_input": "2025-01-22T13:11:27.206209Z",
     "iopub.status.busy": "2025-01-22T13:11:27.206027Z",
     "iopub.status.idle": "2025-01-22T13:11:27.214886Z",
     "shell.execute_reply": "2025-01-22T13:11:27.214372Z"
    }
   },
   "outputs": [
    {
     "data": {
      "text/latex": [
       "$\\displaystyle (\\left(- c + \\frac{l}{2}\\right) \\sin{\\left(\\beta \\right)} \\dot{\\alpha} + \\dot{s})\\hat{b}_x + (- \\left(- c + \\frac{l}{2}\\right) \\dot{\\beta} + \\left(- w + s\\right) \\cos{\\left(\\beta \\right)} \\dot{\\alpha})\\hat{b}_y -  \\left(- w + s\\right) \\sin{\\left(\\beta \\right)} \\dot{\\alpha}\\hat{b}_z -  d \\dot{\\alpha}\\hat{a}_y$"
      ],
      "text/plain": [
       "⎛⎛     l⎞             ⎞       ⎛  ⎛     l⎞                      ⎞\n",
       "⎜⎜-c + ─⎟⋅sin(β)⋅α̇ + ṡ⎟ b_x + ⎜- ⎜-c + ─⎟⋅β̇ + (-w + s)⋅cos(β)⋅α̇⎟ b_y + -(-\n",
       "⎝⎝     2⎠             ⎠       ⎝  ⎝     2⎠                      ⎠\n",
       "\n",
       "\n",
       "w + s)⋅sin(β)⋅α̇ b_z + -d⋅α̇ a_y\n"
      ]
     },
     "execution_count": 28,
     "metadata": {},
     "output_type": "execute_result"
    }
   ],
   "source": [
    "N_v_R = B_v_R + N_v_T\n",
    "N_v_R"
   ]
  },
  {
   "cell_type": "code",
   "execution_count": 29,
   "id": "59ff599f",
   "metadata": {
    "execution": {
     "iopub.execute_input": "2025-01-22T13:11:27.216211Z",
     "iopub.status.busy": "2025-01-22T13:11:27.216039Z",
     "iopub.status.idle": "2025-01-22T13:11:27.234190Z",
     "shell.execute_reply": "2025-01-22T13:11:27.233767Z"
    }
   },
   "outputs": [
    {
     "data": {
      "text/latex": [
       "$\\displaystyle (\\left(- c + \\frac{l}{2}\\right) \\sin{\\left(\\beta \\right)} \\dot{\\alpha} + \\dot{s})\\hat{b}_x + (- \\left(- c + \\frac{l}{2}\\right) \\dot{\\beta} + \\left(- w + s\\right) \\cos{\\left(\\beta \\right)} \\dot{\\alpha})\\hat{b}_y -  \\left(- w + s\\right) \\sin{\\left(\\beta \\right)} \\dot{\\alpha}\\hat{b}_z -  d \\dot{\\alpha}\\hat{a}_y$"
      ],
      "text/plain": [
       "⎛⎛     l⎞             ⎞       ⎛  ⎛     l⎞                      ⎞\n",
       "⎜⎜-c + ─⎟⋅sin(β)⋅α̇ + ṡ⎟ b_x + ⎜- ⎜-c + ─⎟⋅β̇ + (-w + s)⋅cos(β)⋅α̇⎟ b_y + -(-\n",
       "⎝⎝     2⎠             ⎠       ⎝  ⎝     2⎠                      ⎠\n",
       "\n",
       "\n",
       "w + s)⋅sin(β)⋅α̇ b_z + -d⋅α̇ a_y\n"
      ]
     },
     "execution_count": 29,
     "metadata": {},
     "output_type": "execute_result"
    }
   ],
   "source": [
    "S.set_vel(B, 0)\n",
    "R.v1pt_theory(S, N, B)"
   ]
  },
  {
   "cell_type": "code",
   "execution_count": 30,
   "id": "69dcc553",
   "metadata": {
    "execution": {
     "iopub.execute_input": "2025-01-22T13:11:27.235462Z",
     "iopub.status.busy": "2025-01-22T13:11:27.235302Z",
     "iopub.status.idle": "2025-01-22T13:11:27.244162Z",
     "shell.execute_reply": "2025-01-22T13:11:27.243740Z"
    }
   },
   "outputs": [
    {
     "data": {
      "text/latex": [
       "$\\displaystyle d \\dot{\\alpha}^{2}\\hat{a}_x -  d \\ddot{\\alpha}\\hat{a}_y$"
      ],
      "text/plain": [
       "   2\n",
       "d⋅α̇  a_x + -d⋅α̈ a_y"
      ]
     },
     "execution_count": 30,
     "metadata": {},
     "output_type": "execute_result"
    }
   ],
   "source": [
    "S.acc(N)"
   ]
  },
  {
   "cell_type": "code",
   "execution_count": 31,
   "id": "d9e6942a",
   "metadata": {
    "execution": {
     "iopub.execute_input": "2025-01-22T13:11:27.245446Z",
     "iopub.status.busy": "2025-01-22T13:11:27.245296Z",
     "iopub.status.idle": "2025-01-22T13:11:27.252608Z",
     "shell.execute_reply": "2025-01-22T13:11:27.252126Z"
    }
   },
   "outputs": [
    {
     "data": {
      "text/latex": [
       "$\\displaystyle -  d \\ddot{\\alpha}\\hat{a}_y$"
      ],
      "text/plain": [
       "-d⋅α̈ a_y"
      ]
     },
     "execution_count": 31,
     "metadata": {},
     "output_type": "execute_result"
    }
   ],
   "source": [
    "me.cross(A.ang_acc_in(N), S.pos_from(P))"
   ]
  },
  {
   "cell_type": "code",
   "execution_count": 32,
   "id": "9554347f",
   "metadata": {
    "execution": {
     "iopub.execute_input": "2025-01-22T13:11:27.254129Z",
     "iopub.status.busy": "2025-01-22T13:11:27.253855Z",
     "iopub.status.idle": "2025-01-22T13:11:27.260779Z",
     "shell.execute_reply": "2025-01-22T13:11:27.260359Z"
    }
   },
   "outputs": [
    {
     "data": {
      "text/latex": [
       "$\\displaystyle d \\dot{\\alpha}^{2}\\hat{a}_x$"
      ],
      "text/plain": [
       "   2\n",
       "d⋅α̇  a_x"
      ]
     },
     "execution_count": 32,
     "metadata": {},
     "output_type": "execute_result"
    }
   ],
   "source": [
    "me.cross(A.ang_vel_in(N), me.cross(A.ang_vel_in(N), S.pos_from(P)))"
   ]
  },
  {
   "cell_type": "code",
   "execution_count": 33,
   "id": "a7fac9df",
   "metadata": {
    "execution": {
     "iopub.execute_input": "2025-01-22T13:11:27.262128Z",
     "iopub.status.busy": "2025-01-22T13:11:27.261961Z",
     "iopub.status.idle": "2025-01-22T13:11:27.271760Z",
     "shell.execute_reply": "2025-01-22T13:11:27.271362Z"
    }
   },
   "outputs": [
    {
     "data": {
      "text/latex": [
       "$\\displaystyle d \\dot{\\alpha}^{2}\\hat{a}_x -  d \\ddot{\\alpha}\\hat{a}_y$"
      ],
      "text/plain": [
       "   2\n",
       "d⋅α̇  a_x + -d⋅α̈ a_y"
      ]
     },
     "execution_count": 33,
     "metadata": {},
     "output_type": "execute_result"
    }
   ],
   "source": [
    "S.a2pt_theory(P, N, A)"
   ]
  },
  {
   "cell_type": "code",
   "execution_count": 34,
   "id": "a4e04b1d",
   "metadata": {
    "execution": {
     "iopub.execute_input": "2025-01-22T13:11:27.273236Z",
     "iopub.status.busy": "2025-01-22T13:11:27.272934Z",
     "iopub.status.idle": "2025-01-22T13:11:27.311089Z",
     "shell.execute_reply": "2025-01-22T13:11:27.310589Z"
    }
   },
   "outputs": [
    {
     "data": {
      "text/latex": [
       "$\\displaystyle d \\dot{\\alpha}^{2}\\hat{a}_x -  d \\ddot{\\alpha}\\hat{a}_y + (w \\sin^{2}{\\left(\\beta \\right)} \\dot{\\alpha}^{2} + \\left(- c - \\frac{l}{2}\\right) \\left(\\sin{\\left(\\beta \\right)} \\ddot{\\alpha} + \\cos{\\left(\\beta \\right)} \\dot{\\alpha} \\dot{\\beta}\\right) - \\left(- w \\cos{\\left(\\beta \\right)} \\dot{\\alpha} - \\left(- c - \\frac{l}{2}\\right) \\dot{\\beta}\\right) \\cos{\\left(\\beta \\right)} \\dot{\\alpha})\\hat{b}_x + (- w \\left(- \\sin{\\left(\\beta \\right)} \\dot{\\alpha} \\dot{\\beta} + \\cos{\\left(\\beta \\right)} \\ddot{\\alpha}\\right) - w \\sin{\\left(\\beta \\right)} \\dot{\\alpha} \\dot{\\beta} + \\left(- c - \\frac{l}{2}\\right) \\sin{\\left(\\beta \\right)} \\cos{\\left(\\beta \\right)} \\dot{\\alpha}^{2} - \\left(- c - \\frac{l}{2}\\right) \\ddot{\\beta})\\hat{b}_y + (w \\left(\\sin{\\left(\\beta \\right)} \\ddot{\\alpha} + \\cos{\\left(\\beta \\right)} \\dot{\\alpha} \\dot{\\beta}\\right) - \\left(- c - \\frac{l}{2}\\right) \\sin^{2}{\\left(\\beta \\right)} \\dot{\\alpha}^{2} + \\left(- w \\cos{\\left(\\beta \\right)} \\dot{\\alpha} - \\left(- c - \\frac{l}{2}\\right) \\dot{\\beta}\\right) \\dot{\\beta})\\hat{b}_z$"
      ],
      "text/plain": [
       "   2                  ⎛     2     2   ⎛     l⎞                           ⎛\n",
       "d⋅α̇  a_x + -d⋅α̈ a_y + ⎜w⋅sin (β)⋅α̇  + ⎜-c - ─⎟⋅(sin(β)⋅α̈ + cos(β)⋅α̇⋅β̇) -\n",
       "                      ⎝               ⎝     2⎠                           ⎝\n",
       "\n",
       "          ⎛     l⎞  ⎞         ⎞       ⎛\n",
       " ⎜-w⋅cos(β)⋅α̇ - ⎜-c - ─⎟⋅β̇⎟⋅cos(β)⋅α̇⎟ b_x + ⎜-w⋅(-sin(β)⋅α̇⋅β̇ + cos(β)⋅α̈)\n",
       "          ⎝     2⎠  ⎠         ⎠       ⎝\n",
       "\n",
       "      ⎛     l⎞                2   ⎛     l⎞  ⎞       ⎛\n",
       " - w⋅sin(β)⋅α̇⋅β̇ + ⎜-c - ─⎟⋅sin(β)⋅cos(β)⋅α̇  - ⎜-c - ─⎟⋅β̈⎟ b_y + ⎜w⋅(sin(β)\n",
       "      ⎝     2⎠                    ⎝     2⎠  ⎠       ⎝\n",
       "\n",
       "   ⎛     l⎞    2     2   ⎛              ⎛     l⎞  ⎞  ⎞\n",
       "⋅α̈ + cos(β)⋅α̇⋅β̇) - ⎜-c - ─⎟⋅sin (β)⋅α̇  + ⎜-w⋅cos(β)⋅α̇ - ⎜-c - ─⎟⋅β̇⎟⋅β̇⎟\n",
       "   ⎝     2⎠              ⎝              ⎝     2⎠  ⎠  ⎠"
      ]
     },
     "execution_count": 34,
     "metadata": {},
     "output_type": "execute_result"
    }
   ],
   "source": [
    "Q.a2pt_theory(S, N, B)"
   ]
  },
  {
   "cell_type": "code",
   "execution_count": 35,
   "id": "75c09f87",
   "metadata": {
    "execution": {
     "iopub.execute_input": "2025-01-22T13:11:27.312646Z",
     "iopub.status.busy": "2025-01-22T13:11:27.312346Z",
     "iopub.status.idle": "2025-01-22T13:11:27.317510Z",
     "shell.execute_reply": "2025-01-22T13:11:27.317007Z"
    }
   },
   "outputs": [
    {
     "data": {
      "text/latex": [
       "$\\displaystyle \\ddot{s}\\hat{b}_x$"
      ],
      "text/plain": [
       "s̈ b_x"
      ]
     },
     "execution_count": 35,
     "metadata": {},
     "output_type": "execute_result"
    }
   ],
   "source": [
    "B_a_R = R.acc(B)\n",
    "B_a_R"
   ]
  },
  {
   "cell_type": "code",
   "execution_count": 36,
   "id": "4b7dbce6",
   "metadata": {
    "execution": {
     "iopub.execute_input": "2025-01-22T13:11:27.319017Z",
     "iopub.status.busy": "2025-01-22T13:11:27.318775Z",
     "iopub.status.idle": "2025-01-22T13:11:27.355826Z",
     "shell.execute_reply": "2025-01-22T13:11:27.355328Z"
    }
   },
   "outputs": [
    {
     "data": {
      "text/latex": [
       "$\\displaystyle d \\dot{\\alpha}^{2}\\hat{a}_x -  d \\ddot{\\alpha}\\hat{a}_y + (\\left(- c + \\frac{l}{2}\\right) \\left(\\sin{\\left(\\beta \\right)} \\ddot{\\alpha} + \\cos{\\left(\\beta \\right)} \\dot{\\alpha} \\dot{\\beta}\\right) - \\left(- w + s\\right) \\sin^{2}{\\left(\\beta \\right)} \\dot{\\alpha}^{2} - \\left(- \\left(- c + \\frac{l}{2}\\right) \\dot{\\beta} + \\left(- w + s\\right) \\cos{\\left(\\beta \\right)} \\dot{\\alpha}\\right) \\cos{\\left(\\beta \\right)} \\dot{\\alpha})\\hat{b}_x + (\\left(- c + \\frac{l}{2}\\right) \\sin{\\left(\\beta \\right)} \\cos{\\left(\\beta \\right)} \\dot{\\alpha}^{2} - \\left(- c + \\frac{l}{2}\\right) \\ddot{\\beta} + \\left(- w + s\\right) \\left(- \\sin{\\left(\\beta \\right)} \\dot{\\alpha} \\dot{\\beta} + \\cos{\\left(\\beta \\right)} \\ddot{\\alpha}\\right) + \\left(- w + s\\right) \\sin{\\left(\\beta \\right)} \\dot{\\alpha} \\dot{\\beta})\\hat{b}_y + (- \\left(- c + \\frac{l}{2}\\right) \\sin^{2}{\\left(\\beta \\right)} \\dot{\\alpha}^{2} - \\left(- w + s\\right) \\left(\\sin{\\left(\\beta \\right)} \\ddot{\\alpha} + \\cos{\\left(\\beta \\right)} \\dot{\\alpha} \\dot{\\beta}\\right) + \\left(- \\left(- c + \\frac{l}{2}\\right) \\dot{\\beta} + \\left(- w + s\\right) \\cos{\\left(\\beta \\right)} \\dot{\\alpha}\\right) \\dot{\\beta})\\hat{b}_z$"
      ],
      "text/plain": [
       "   2                  ⎛⎛     l⎞                                       2     2\n",
       "d⋅α̇  a_x + -d⋅α̈ a_y + ⎜⎜-c + ─⎟⋅(sin(β)⋅α̈ + cos(β)⋅α̇⋅β̇) - (-w + s)⋅sin (β\n",
       "                      ⎝⎝     2⎠\n",
       "\n",
       "  ⎛  ⎛     l⎞                      ⎞         ⎞       ⎛⎛     l⎞\n",
       ")⋅α̇  - ⎜- ⎜-c + ─⎟⋅β̇ + (-w + s)⋅cos(β)⋅α̇⎟⋅cos(β)⋅α̇⎟ b_x + ⎜⎜-c + ─⎟⋅sin(β)\n",
       "  ⎝  ⎝     2⎠                      ⎠         ⎠       ⎝⎝     2⎠\n",
       "\n",
       "2   ⎛     l⎞                                                            ⎞\n",
       "⋅cos(β)⋅α̇  - ⎜-c + ─⎟⋅β̈ + (-w + s)⋅(-sin(β)⋅α̇⋅β̇ + cos(β)⋅α̈) + (-w + s)⋅si\n",
       "    ⎝     2⎠                                                            ⎠\n",
       "\n",
       "  ⎛  ⎛     l⎞    2     2                                      ⎛  ⎛     l⎞\n",
       "n(β)⋅α̇⋅β̇⎟ b_y + ⎜- ⎜-c + ─⎟⋅sin (β)⋅α̇  - (-w + s)⋅(sin(β)⋅α̈ + cos(β)⋅α̇⋅β̇\n",
       "  ⎝  ⎝     2⎠                                                 ⎝  ⎝     2⎠\n",
       "\n",
       "                 ⎞  ⎞\n",
       ") + ⎜- ⎜-c + ─⎟⋅β̇ + (-w + s)⋅cos(β)⋅α̇⎟⋅β̇⎟ b_z\n",
       "                 ⎠  ⎠"
      ]
     },
     "execution_count": 36,
     "metadata": {},
     "output_type": "execute_result"
    }
   ],
   "source": [
    "N_a_T = R.a2pt_theory(S, N, B)\n",
    "N_a_T"
   ]
  },
  {
   "cell_type": "code",
   "execution_count": 37,
   "id": "d0107b3c",
   "metadata": {
    "execution": {
     "iopub.execute_input": "2025-01-22T13:11:27.357355Z",
     "iopub.status.busy": "2025-01-22T13:11:27.356940Z",
     "iopub.status.idle": "2025-01-22T13:11:27.365801Z",
     "shell.execute_reply": "2025-01-22T13:11:27.365315Z"
    }
   },
   "outputs": [
    {
     "data": {
      "text/latex": [
       "$\\displaystyle 2 \\cos{\\left(\\beta \\right)} \\dot{\\alpha} \\dot{s}\\hat{b}_y -  2 \\sin{\\left(\\beta \\right)} \\dot{\\alpha} \\dot{s}\\hat{b}_z$"
      ],
      "text/plain": [
       "2⋅cos(β)⋅α̇⋅ṡ b_y + -2⋅sin(β)⋅α̇⋅ṡ b_z"
      ]
     },
     "execution_count": 37,
     "metadata": {},
     "output_type": "execute_result"
    }
   ],
   "source": [
    "2*me.cross(B.ang_vel_in(N), R.vel(B))"
   ]
  },
  {
   "cell_type": "code",
   "execution_count": 38,
   "id": "7c81cdb1",
   "metadata": {
    "execution": {
     "iopub.execute_input": "2025-01-22T13:11:27.367238Z",
     "iopub.status.busy": "2025-01-22T13:11:27.366934Z",
     "iopub.status.idle": "2025-01-22T13:11:27.404850Z",
     "shell.execute_reply": "2025-01-22T13:11:27.404345Z"
    }
   },
   "outputs": [
    {
     "data": {
      "text/latex": [
       "$\\displaystyle (\\left(- c + \\frac{l}{2}\\right) \\left(\\sin{\\left(\\beta \\right)} \\ddot{\\alpha} + \\cos{\\left(\\beta \\right)} \\dot{\\alpha} \\dot{\\beta}\\right) - \\left(- w + s\\right) \\sin^{2}{\\left(\\beta \\right)} \\dot{\\alpha}^{2} - \\left(- \\left(- c + \\frac{l}{2}\\right) \\dot{\\beta} + \\left(- w + s\\right) \\cos{\\left(\\beta \\right)} \\dot{\\alpha}\\right) \\cos{\\left(\\beta \\right)} \\dot{\\alpha} + \\ddot{s})\\hat{b}_x + (\\left(- c + \\frac{l}{2}\\right) \\sin{\\left(\\beta \\right)} \\cos{\\left(\\beta \\right)} \\dot{\\alpha}^{2} - \\left(- c + \\frac{l}{2}\\right) \\ddot{\\beta} + \\left(- w + s\\right) \\left(- \\sin{\\left(\\beta \\right)} \\dot{\\alpha} \\dot{\\beta} + \\cos{\\left(\\beta \\right)} \\ddot{\\alpha}\\right) + \\left(- w + s\\right) \\sin{\\left(\\beta \\right)} \\dot{\\alpha} \\dot{\\beta} + 2 \\cos{\\left(\\beta \\right)} \\dot{\\alpha} \\dot{s})\\hat{b}_y + (- \\left(- c + \\frac{l}{2}\\right) \\sin^{2}{\\left(\\beta \\right)} \\dot{\\alpha}^{2} - \\left(- w + s\\right) \\left(\\sin{\\left(\\beta \\right)} \\ddot{\\alpha} + \\cos{\\left(\\beta \\right)} \\dot{\\alpha} \\dot{\\beta}\\right) + \\left(- \\left(- c + \\frac{l}{2}\\right) \\dot{\\beta} + \\left(- w + s\\right) \\cos{\\left(\\beta \\right)} \\dot{\\alpha}\\right) \\dot{\\beta} - 2 \\sin{\\left(\\beta \\right)} \\dot{\\alpha} \\dot{s})\\hat{b}_z + d \\dot{\\alpha}^{2}\\hat{a}_x -  d \\ddot{\\alpha}\\hat{a}_y$"
      ],
      "text/plain": [
       "⎛⎛     l⎞                                       2     2   ⎛  ⎛     l⎞\n",
       "⎜⎜-c + ─⎟⋅(sin(β)⋅α̈ + cos(β)⋅α̇⋅β̇) - (-w + s)⋅sin (β)⋅α̇  - ⎜- ⎜-c + ─⎟⋅β̇ +\n",
       "⎝⎝     2⎠                                                 ⎝  ⎝     2⎠\n",
       "\n",
       "             ⎞             ⎞       ⎛⎛     l⎞                2   ⎛     l⎞\n",
       " (-w + s)⋅cos(β)⋅α̇⎟⋅cos(β)⋅α̇ + s̈⎟ b_x + ⎜⎜-c + ─⎟⋅sin(β)⋅cos(β)⋅α̇  - ⎜-c +\n",
       "             ⎠             ⎠       ⎝⎝     2⎠                    ⎝     2⎠\n",
       "\n",
       "                                                                     ⎞       ⎛\n",
       " ─⎟⋅β̈ + (-w + s)⋅(-sin(β)⋅α̇⋅β̇ + cos(β)⋅α̈) + (-w + s)⋅sin(β)⋅α̇⋅β̇ + 2⋅cos(\n",
       "                                                                     ⎠       ⎝\n",
       "\n",
       "  ⎛     l⎞    2     2                                      ⎛  ⎛     l⎞\n",
       "β)⋅α̇⋅ṡ⎟ b_y + ⎜- ⎜-c + ─⎟⋅sin (β)⋅α̇  - (-w + s)⋅(sin(β)⋅α̈ + cos(β)⋅α̇⋅β̇)\n",
       "  ⎝     2⎠                                                 ⎝  ⎝     2⎠\n",
       "\n",
       "              ⎞                 ⎞          2\n",
       "+ ⎜- ⎜-c + ─⎟⋅β̇ + (-w + s)⋅cos(β)⋅α̇⎟⋅β̇ - 2⋅sin(β)⋅α̇⋅ṡ⎟ b_z + d⋅α̇  a_x +\n",
       "              ⎠                 ⎠"
      ]
     },
     "execution_count": 38,
     "metadata": {},
     "output_type": "execute_result"
    }
   ],
   "source": [
    "R.a1pt_theory(S, N, B)"
   ]
  }
 ],
 "metadata": {
  "kernelspec": {
   "display_name": "Python 3 (ipykernel)",
   "language": "python",
   "name": "python3"
  },
  "language_info": {
   "codemirror_mode": {
    "name": "ipython",
    "version": 3
   },
   "file_extension": ".py",
   "mimetype": "text/x-python",
   "name": "python",
   "nbconvert_exporter": "python",
   "pygments_lexer": "ipython3",
   "version": "3.11.11"
  }
 },
 "nbformat": 4,
 "nbformat_minor": 5
}