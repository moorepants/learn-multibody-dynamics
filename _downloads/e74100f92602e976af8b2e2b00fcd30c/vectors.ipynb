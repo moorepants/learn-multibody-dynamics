{
 "cells": [
  {
   "cell_type": "code",
   "execution_count": 1,
   "id": "6fac9239",
   "metadata": {
    "execution": {
     "iopub.execute_input": "2025-09-25T05:56:47.412422Z",
     "iopub.status.busy": "2025-09-25T05:56:47.412210Z",
     "iopub.status.idle": "2025-09-25T05:56:47.774663Z",
     "shell.execute_reply": "2025-09-25T05:56:47.774128Z"
    }
   },
   "outputs": [],
   "source": [
    "import sympy as sm\n",
    "import sympy.physics.mechanics as me\n",
    "sm.init_printing(use_latex='mathjax')"
   ]
  },
  {
   "cell_type": "code",
   "execution_count": 2,
   "id": "4cd7b97c",
   "metadata": {
    "execution": {
     "iopub.execute_input": "2025-09-25T05:56:47.776398Z",
     "iopub.status.busy": "2025-09-25T05:56:47.776185Z",
     "iopub.status.idle": "2025-09-25T05:56:47.779655Z",
     "shell.execute_reply": "2025-09-25T05:56:47.779257Z"
    }
   },
   "outputs": [],
   "source": [
    "class ReferenceFrame(me.ReferenceFrame):\n",
    "\n",
    "    def __init__(self, *args, **kwargs):\n",
    "\n",
    "        kwargs.pop('latexs', None)\n",
    "\n",
    "        lab = args[0].lower()\n",
    "        tex = r'\\hat{{{}}}_{}'\n",
    "\n",
    "        super(ReferenceFrame, self).__init__(*args,\n",
    "                                             latexs=(tex.format(lab, 'x'),\n",
    "                                                     tex.format(lab, 'y'),\n",
    "                                                     tex.format(lab, 'z')),\n",
    "                                             **kwargs)\n",
    "me.ReferenceFrame = ReferenceFrame"
   ]
  },
  {
   "cell_type": "code",
   "execution_count": 3,
   "id": "51214514",
   "metadata": {
    "execution": {
     "iopub.execute_input": "2025-09-25T05:56:47.781055Z",
     "iopub.status.busy": "2025-09-25T05:56:47.780906Z",
     "iopub.status.idle": "2025-09-25T05:56:47.783714Z",
     "shell.execute_reply": "2025-09-25T05:56:47.783296Z"
    }
   },
   "outputs": [],
   "source": [
    "N = me.ReferenceFrame('N')"
   ]
  },
  {
   "cell_type": "code",
   "execution_count": 4,
   "id": "252b6d6e",
   "metadata": {
    "execution": {
     "iopub.execute_input": "2025-09-25T05:56:47.784969Z",
     "iopub.status.busy": "2025-09-25T05:56:47.784837Z",
     "iopub.status.idle": "2025-09-25T05:56:47.787271Z",
     "shell.execute_reply": "2025-09-25T05:56:47.786837Z"
    }
   },
   "outputs": [],
   "source": [
    "a, b, c, d, e, f = sm.symbols('a, b, c, d, e, f')"
   ]
  },
  {
   "cell_type": "code",
   "execution_count": 5,
   "id": "8bead35d",
   "metadata": {
    "execution": {
     "iopub.execute_input": "2025-09-25T05:56:47.788528Z",
     "iopub.status.busy": "2025-09-25T05:56:47.788383Z",
     "iopub.status.idle": "2025-09-25T05:56:47.792792Z",
     "shell.execute_reply": "2025-09-25T05:56:47.792399Z"
    }
   },
   "outputs": [
    {
     "data": {
      "text/latex": [
       "$\\displaystyle a\\hat{n}_x$"
      ],
      "text/plain": [
       "a n_x"
      ]
     },
     "execution_count": 5,
     "metadata": {},
     "output_type": "execute_result"
    }
   ],
   "source": [
    "v = a*N.x\n",
    "v"
   ]
  },
  {
   "cell_type": "code",
   "execution_count": 6,
   "id": "3e43c7b3",
   "metadata": {
    "execution": {
     "iopub.execute_input": "2025-09-25T05:56:47.794040Z",
     "iopub.status.busy": "2025-09-25T05:56:47.793891Z",
     "iopub.status.idle": "2025-09-25T05:56:47.798955Z",
     "shell.execute_reply": "2025-09-25T05:56:47.798463Z"
    }
   },
   "outputs": [
    {
     "data": {
      "text/latex": [
       "$\\displaystyle \\left[\\begin{matrix}a\\\\0\\\\0\\end{matrix}\\right]$"
      ],
      "text/plain": [
       "⎡a⎤\n",
       "⎢ ⎥\n",
       "⎢0⎥\n",
       "⎢ ⎥\n",
       "⎣0⎦"
      ]
     },
     "execution_count": 6,
     "metadata": {},
     "output_type": "execute_result"
    }
   ],
   "source": [
    "v.to_matrix(N)"
   ]
  },
  {
   "cell_type": "code",
   "execution_count": 7,
   "id": "2553d969",
   "metadata": {
    "execution": {
     "iopub.execute_input": "2025-09-25T05:56:47.800340Z",
     "iopub.status.busy": "2025-09-25T05:56:47.800200Z",
     "iopub.status.idle": "2025-09-25T05:56:47.804486Z",
     "shell.execute_reply": "2025-09-25T05:56:47.803961Z"
    }
   },
   "outputs": [
    {
     "data": {
      "text/latex": [
       "$\\displaystyle a\\hat{n}_x + b\\hat{n}_y + c\\hat{n}_z$"
      ],
      "text/plain": [
       "a n_x + b n_y + c n_z"
      ]
     },
     "execution_count": 7,
     "metadata": {},
     "output_type": "execute_result"
    }
   ],
   "source": [
    "w = a*N.x + b*N.y + c*N.z\n",
    "w"
   ]
  },
  {
   "cell_type": "code",
   "execution_count": 8,
   "id": "6c6a6bfc",
   "metadata": {
    "execution": {
     "iopub.execute_input": "2025-09-25T05:56:47.805813Z",
     "iopub.status.busy": "2025-09-25T05:56:47.805671Z",
     "iopub.status.idle": "2025-09-25T05:56:47.810689Z",
     "shell.execute_reply": "2025-09-25T05:56:47.810290Z"
    }
   },
   "outputs": [
    {
     "data": {
      "text/latex": [
       "$\\displaystyle \\left[\\begin{matrix}a\\\\b\\\\c\\end{matrix}\\right]$"
      ],
      "text/plain": [
       "⎡a⎤\n",
       "⎢ ⎥\n",
       "⎢b⎥\n",
       "⎢ ⎥\n",
       "⎣c⎦"
      ]
     },
     "execution_count": 8,
     "metadata": {},
     "output_type": "execute_result"
    }
   ],
   "source": [
    "w.to_matrix(N)"
   ]
  },
  {
   "cell_type": "code",
   "execution_count": 9,
   "id": "463f078d",
   "metadata": {
    "execution": {
     "iopub.execute_input": "2025-09-25T05:56:47.812076Z",
     "iopub.status.busy": "2025-09-25T05:56:47.811924Z",
     "iopub.status.idle": "2025-09-25T05:56:47.816012Z",
     "shell.execute_reply": "2025-09-25T05:56:47.815625Z"
    }
   },
   "outputs": [
    {
     "data": {
      "text/latex": [
       "$\\displaystyle d\\hat{n}_x + e\\hat{n}_y + f\\hat{n}_z$"
      ],
      "text/plain": [
       "d n_x + e n_y + f n_z"
      ]
     },
     "execution_count": 9,
     "metadata": {},
     "output_type": "execute_result"
    }
   ],
   "source": [
    "x = d*N.x + e*N.y + f*N.z\n",
    "x"
   ]
  },
  {
   "cell_type": "code",
   "execution_count": 10,
   "id": "dfde4604",
   "metadata": {
    "execution": {
     "iopub.execute_input": "2025-09-25T05:56:47.817298Z",
     "iopub.status.busy": "2025-09-25T05:56:47.817139Z",
     "iopub.status.idle": "2025-09-25T05:56:47.821776Z",
     "shell.execute_reply": "2025-09-25T05:56:47.821385Z"
    }
   },
   "outputs": [
    {
     "data": {
      "text/latex": [
       "$\\displaystyle (a + d)\\hat{n}_x + (b + e)\\hat{n}_y + (c + f)\\hat{n}_z$"
      ],
      "text/plain": [
       "(a + d) n_x + (b + e) n_y + (c + f) n_z"
      ]
     },
     "execution_count": 10,
     "metadata": {},
     "output_type": "execute_result"
    }
   ],
   "source": [
    "w + x"
   ]
  },
  {
   "cell_type": "code",
   "execution_count": 11,
   "id": "8b7695c9",
   "metadata": {
    "execution": {
     "iopub.execute_input": "2025-09-25T05:56:47.823201Z",
     "iopub.status.busy": "2025-09-25T05:56:47.823036Z",
     "iopub.status.idle": "2025-09-25T05:56:47.829075Z",
     "shell.execute_reply": "2025-09-25T05:56:47.828574Z"
    }
   },
   "outputs": [
    {
     "data": {
      "text/latex": [
       "$\\displaystyle 2 a\\hat{n}_x + 2 b\\hat{n}_y + 2 c\\hat{n}_z$"
      ],
      "text/plain": [
       "2⋅a n_x + 2⋅b n_y + 2⋅c n_z"
      ]
     },
     "execution_count": 11,
     "metadata": {},
     "output_type": "execute_result"
    }
   ],
   "source": [
    "y = 2*w\n",
    "y"
   ]
  },
  {
   "cell_type": "code",
   "execution_count": 12,
   "id": "2e32a4ec",
   "metadata": {
    "execution": {
     "iopub.execute_input": "2025-09-25T05:56:47.830570Z",
     "iopub.status.busy": "2025-09-25T05:56:47.830407Z",
     "iopub.status.idle": "2025-09-25T05:56:47.834634Z",
     "shell.execute_reply": "2025-09-25T05:56:47.834117Z"
    }
   },
   "outputs": [
    {
     "data": {
      "text/latex": [
       "$\\displaystyle -  a\\hat{n}_x -  b\\hat{n}_y -  c\\hat{n}_z$"
      ],
      "text/plain": [
       "-a n_x + -b n_y + -c n_z"
      ]
     },
     "execution_count": 12,
     "metadata": {},
     "output_type": "execute_result"
    }
   ],
   "source": [
    "z = -w\n",
    "z"
   ]
  },
  {
   "cell_type": "code",
   "execution_count": 13,
   "id": "fa98c2fe",
   "metadata": {
    "execution": {
     "iopub.execute_input": "2025-09-25T05:56:47.835994Z",
     "iopub.status.busy": "2025-09-25T05:56:47.835838Z",
     "iopub.status.idle": "2025-09-25T05:56:47.838757Z",
     "shell.execute_reply": "2025-09-25T05:56:47.838263Z"
    }
   },
   "outputs": [],
   "source": [
    "N = me.ReferenceFrame('N')\n",
    "l, theta = sm.symbols('l, theta')"
   ]
  },
  {
   "cell_type": "code",
   "execution_count": 14,
   "id": "7ac5fd9b",
   "metadata": {
    "execution": {
     "iopub.execute_input": "2025-09-25T05:56:47.840032Z",
     "iopub.status.busy": "2025-09-25T05:56:47.839891Z",
     "iopub.status.idle": "2025-09-25T05:56:47.848437Z",
     "shell.execute_reply": "2025-09-25T05:56:47.848004Z"
    }
   },
   "outputs": [
    {
     "data": {
      "text/latex": [
       "$\\displaystyle \\frac{\\sqrt{2} l}{2}\\hat{n}_x + \\frac{\\sqrt{2} l}{2}\\hat{n}_y$"
      ],
      "text/plain": [
       "√2⋅l       √2⋅l\n",
       "──── n_x + ──── n_y\n",
       " 2          2"
      ]
     },
     "execution_count": 14,
     "metadata": {},
     "output_type": "execute_result"
    }
   ],
   "source": [
    "v1 = l*sm.cos(sm.pi/4)*N.x + l*sm.sin(sm.pi/4)*N.y\n",
    "v1"
   ]
  },
  {
   "cell_type": "code",
   "execution_count": 15,
   "id": "ba7660ee",
   "metadata": {
    "execution": {
     "iopub.execute_input": "2025-09-25T05:56:47.849823Z",
     "iopub.status.busy": "2025-09-25T05:56:47.849659Z",
     "iopub.status.idle": "2025-09-25T05:56:47.853427Z",
     "shell.execute_reply": "2025-09-25T05:56:47.852908Z"
    }
   },
   "outputs": [
    {
     "data": {
      "text/latex": [
       "$\\displaystyle - 10\\hat{n}_y$"
      ],
      "text/plain": [
       "-10 n_y"
      ]
     },
     "execution_count": 15,
     "metadata": {},
     "output_type": "execute_result"
    }
   ],
   "source": [
    "v2 = -10*N.y\n",
    "v2"
   ]
  },
  {
   "cell_type": "code",
   "execution_count": 16,
   "id": "b55037c3",
   "metadata": {
    "execution": {
     "iopub.execute_input": "2025-09-25T05:56:47.854765Z",
     "iopub.status.busy": "2025-09-25T05:56:47.854600Z",
     "iopub.status.idle": "2025-09-25T05:56:47.860632Z",
     "shell.execute_reply": "2025-09-25T05:56:47.860128Z"
    }
   },
   "outputs": [
    {
     "data": {
      "text/latex": [
       "$\\displaystyle -  l \\sin{\\left(\\theta \\right)}\\hat{n}_x + l \\cos{\\left(\\theta \\right)}\\hat{n}_y$"
      ],
      "text/plain": [
       "-l⋅sin(θ) n_x + l⋅cos(θ) n_y"
      ]
     },
     "execution_count": 16,
     "metadata": {},
     "output_type": "execute_result"
    }
   ],
   "source": [
    "v3 = -l*sm.sin(theta)*N.x + l*sm.cos(theta)*N.y\n",
    "v3"
   ]
  },
  {
   "cell_type": "code",
   "execution_count": 17,
   "id": "6708658f",
   "metadata": {
    "execution": {
     "iopub.execute_input": "2025-09-25T05:56:47.862058Z",
     "iopub.status.busy": "2025-09-25T05:56:47.861903Z",
     "iopub.status.idle": "2025-09-25T05:56:47.868557Z",
     "shell.execute_reply": "2025-09-25T05:56:47.868108Z"
    }
   },
   "outputs": [
    {
     "data": {
      "text/latex": [
       "$\\displaystyle (5 l \\sin{\\left(\\theta \\right)} + \\frac{\\sqrt{2} l}{2})\\hat{n}_x + (- 5 l \\cos{\\left(\\theta \\right)} + \\frac{\\sqrt{2} l}{2} - 10)\\hat{n}_y$"
      ],
      "text/plain": [
       "⎛             √2⋅l⎞       ⎛              √2⋅l     ⎞\n",
       "⎜5⋅l⋅sin(θ) + ────⎟ n_x + ⎜-5⋅l⋅cos(θ) + ──── - 10⎟ n_y\n",
       "⎝              2  ⎠       ⎝               2       ⎠"
      ]
     },
     "execution_count": 17,
     "metadata": {},
     "output_type": "execute_result"
    }
   ],
   "source": [
    "v1 + v2 - 5*v3"
   ]
  },
  {
   "cell_type": "code",
   "execution_count": 18,
   "id": "4fb102fc",
   "metadata": {
    "execution": {
     "iopub.execute_input": "2025-09-25T05:56:47.869876Z",
     "iopub.status.busy": "2025-09-25T05:56:47.869728Z",
     "iopub.status.idle": "2025-09-25T05:56:47.873508Z",
     "shell.execute_reply": "2025-09-25T05:56:47.873092Z"
    }
   },
   "outputs": [],
   "source": [
    "N = me.ReferenceFrame('N')\n",
    "w = a*N.x + b*N.y + c*N.z\n",
    "x = d*N.x + e*N.y + f*N.z"
   ]
  },
  {
   "cell_type": "code",
   "execution_count": 19,
   "id": "7da349e3",
   "metadata": {
    "execution": {
     "iopub.execute_input": "2025-09-25T05:56:47.874826Z",
     "iopub.status.busy": "2025-09-25T05:56:47.874682Z",
     "iopub.status.idle": "2025-09-25T05:56:47.880112Z",
     "shell.execute_reply": "2025-09-25T05:56:47.879618Z"
    }
   },
   "outputs": [
    {
     "data": {
      "text/latex": [
       "$\\displaystyle a d + b e + c f$"
      ],
      "text/plain": [
       "a⋅d + b⋅e + c⋅f"
      ]
     },
     "execution_count": 19,
     "metadata": {},
     "output_type": "execute_result"
    }
   ],
   "source": [
    "me.dot(w, x)"
   ]
  },
  {
   "cell_type": "code",
   "execution_count": 20,
   "id": "7443d2e1",
   "metadata": {
    "execution": {
     "iopub.execute_input": "2025-09-25T05:56:47.881519Z",
     "iopub.status.busy": "2025-09-25T05:56:47.881372Z",
     "iopub.status.idle": "2025-09-25T05:56:47.885619Z",
     "shell.execute_reply": "2025-09-25T05:56:47.885125Z"
    }
   },
   "outputs": [
    {
     "data": {
      "text/latex": [
       "$\\displaystyle a d + b e + c f$"
      ],
      "text/plain": [
       "a⋅d + b⋅e + c⋅f"
      ]
     },
     "execution_count": 20,
     "metadata": {},
     "output_type": "execute_result"
    }
   ],
   "source": [
    "w.dot(x)"
   ]
  },
  {
   "cell_type": "code",
   "execution_count": 21,
   "id": "72c1990f",
   "metadata": {
    "execution": {
     "iopub.execute_input": "2025-09-25T05:56:47.887029Z",
     "iopub.status.busy": "2025-09-25T05:56:47.886884Z",
     "iopub.status.idle": "2025-09-25T05:56:47.898566Z",
     "shell.execute_reply": "2025-09-25T05:56:47.898136Z"
    }
   },
   "outputs": [
    {
     "data": {
      "text/latex": [
       "$\\displaystyle \\frac{a}{\\sqrt{a^{2} + b^{2} + c^{2}}}\\hat{n}_x + \\frac{b}{\\sqrt{a^{2} + b^{2} + c^{2}}}\\hat{n}_y + \\frac{c}{\\sqrt{a^{2} + b^{2} + c^{2}}}\\hat{n}_z$"
      ],
      "text/plain": [
       "        a                       b                       c\n",
       "───────────────── n_x + ───────────────── n_y + ───────────────── n_z\n",
       "   ______________          ______________          ______________\n",
       "  ╱  2    2    2          ╱  2    2    2          ╱  2    2    2\n",
       "╲╱  a  + b  + c         ╲╱  a  + b  + c         ╲╱  a  + b  + c"
      ]
     },
     "execution_count": 21,
     "metadata": {},
     "output_type": "execute_result"
    }
   ],
   "source": [
    "w.normalize()"
   ]
  },
  {
   "cell_type": "code",
   "execution_count": 22,
   "id": "7b5240ba",
   "metadata": {
    "execution": {
     "iopub.execute_input": "2025-09-25T05:56:47.900004Z",
     "iopub.status.busy": "2025-09-25T05:56:47.899836Z",
     "iopub.status.idle": "2025-09-25T05:56:47.906406Z",
     "shell.execute_reply": "2025-09-25T05:56:47.905868Z"
    }
   },
   "outputs": [
    {
     "data": {
      "text/latex": [
       "$\\displaystyle \\frac{a}{\\sqrt{a^{2} + b^{2} + c^{2}}}\\hat{n}_x + \\frac{b}{\\sqrt{a^{2} + b^{2} + c^{2}}}\\hat{n}_y + \\frac{c}{\\sqrt{a^{2} + b^{2} + c^{2}}}\\hat{n}_z$"
      ],
      "text/plain": [
       "        a                       b                       c\n",
       "───────────────── n_x + ───────────────── n_y + ───────────────── n_z\n",
       "   ______________          ______________          ______________\n",
       "  ╱  2    2    2          ╱  2    2    2          ╱  2    2    2\n",
       "╲╱  a  + b  + c         ╲╱  a  + b  + c         ╲╱  a  + b  + c"
      ]
     },
     "execution_count": 22,
     "metadata": {},
     "output_type": "execute_result"
    }
   ],
   "source": [
    "def normalize(vector):\n",
    "    return vector/sm.sqrt(me.dot(vector, vector))\n",
    "\n",
    "normalize(w)"
   ]
  },
  {
   "cell_type": "code",
   "execution_count": 23,
   "id": "87d31848",
   "metadata": {
    "execution": {
     "iopub.execute_input": "2025-09-25T05:56:47.907913Z",
     "iopub.status.busy": "2025-09-25T05:56:47.907741Z",
     "iopub.status.idle": "2025-09-25T05:56:47.912286Z",
     "shell.execute_reply": "2025-09-25T05:56:47.911763Z"
    }
   },
   "outputs": [
    {
     "data": {
      "text/latex": [
       "$\\displaystyle \\sqrt{a^{2} + b^{2} + c^{2}}$"
      ],
      "text/plain": [
       "   ______________\n",
       "  ╱  2    2    2 \n",
       "╲╱  a  + b  + c  "
      ]
     },
     "execution_count": 23,
     "metadata": {},
     "output_type": "execute_result"
    }
   ],
   "source": [
    "w.magnitude()"
   ]
  },
  {
   "cell_type": "code",
   "execution_count": 24,
   "id": "6eaa950a",
   "metadata": {
    "execution": {
     "iopub.execute_input": "2025-09-25T05:56:47.913688Z",
     "iopub.status.busy": "2025-09-25T05:56:47.913525Z",
     "iopub.status.idle": "2025-09-25T05:56:47.919584Z",
     "shell.execute_reply": "2025-09-25T05:56:47.919082Z"
    }
   },
   "outputs": [
    {
     "data": {
      "text/latex": [
       "$\\displaystyle \\frac{a}{\\sqrt{a^{2} + b^{2} + c^{2}}}\\hat{n}_x + \\frac{b}{\\sqrt{a^{2} + b^{2} + c^{2}}}\\hat{n}_y + \\frac{c}{\\sqrt{a^{2} + b^{2} + c^{2}}}\\hat{n}_z$"
      ],
      "text/plain": [
       "        a                       b                       c\n",
       "───────────────── n_x + ───────────────── n_y + ───────────────── n_z\n",
       "   ______________          ______________          ______________\n",
       "  ╱  2    2    2          ╱  2    2    2          ╱  2    2    2\n",
       "╲╱  a  + b  + c         ╲╱  a  + b  + c         ╲╱  a  + b  + c"
      ]
     },
     "execution_count": 24,
     "metadata": {},
     "output_type": "execute_result"
    }
   ],
   "source": [
    "w/w.magnitude()"
   ]
  },
  {
   "cell_type": "code",
   "execution_count": 25,
   "id": "821b0f42",
   "metadata": {
    "execution": {
     "iopub.execute_input": "2025-09-25T05:56:47.921042Z",
     "iopub.status.busy": "2025-09-25T05:56:47.920880Z",
     "iopub.status.idle": "2025-09-25T05:56:47.924760Z",
     "shell.execute_reply": "2025-09-25T05:56:47.924270Z"
    }
   },
   "outputs": [],
   "source": [
    "N = me.ReferenceFrame('N')\n",
    "v1 = a*N.x + b*N.y + a*N.z\n",
    "v2 = b*N.x + a*N.y + b*N.z"
   ]
  },
  {
   "cell_type": "code",
   "execution_count": 26,
   "id": "a384594f",
   "metadata": {
    "execution": {
     "iopub.execute_input": "2025-09-25T05:56:47.926108Z",
     "iopub.status.busy": "2025-09-25T05:56:47.925955Z",
     "iopub.status.idle": "2025-09-25T05:56:47.940629Z",
     "shell.execute_reply": "2025-09-25T05:56:47.940199Z"
    }
   },
   "outputs": [
    {
     "data": {
      "text/latex": [
       "$\\displaystyle \\operatorname{acos}{\\left(\\frac{3 a b}{\\sqrt{a^{2} + 2 b^{2}} \\sqrt{2 a^{2} + b^{2}}} \\right)}$"
      ],
      "text/plain": [
       "    ⎛            3⋅a⋅b            ⎞\n",
       "acos⎜─────────────────────────────⎟\n",
       "    ⎜   ___________    ___________⎟\n",
       "    ⎜  ╱  2      2    ╱    2    2 ⎟\n",
       "    ⎝╲╱  a  + 2⋅b  ⋅╲╱  2⋅a  + b  ⎠"
      ]
     },
     "execution_count": 26,
     "metadata": {},
     "output_type": "execute_result"
    }
   ],
   "source": [
    "sm.acos(v1.dot(v2) / (v1.magnitude()*v2.magnitude()))"
   ]
  },
  {
   "cell_type": "code",
   "execution_count": 27,
   "id": "0fe51dce",
   "metadata": {
    "execution": {
     "iopub.execute_input": "2025-09-25T05:56:47.942052Z",
     "iopub.status.busy": "2025-09-25T05:56:47.941881Z",
     "iopub.status.idle": "2025-09-25T05:56:47.946513Z",
     "shell.execute_reply": "2025-09-25T05:56:47.946017Z"
    }
   },
   "outputs": [
    {
     "data": {
      "text/latex": [
       "$\\displaystyle a\\hat{n}_x + b\\hat{n}_y + c\\hat{n}_z$"
      ],
      "text/plain": [
       "a n_x + b n_y + c n_z"
      ]
     },
     "execution_count": 27,
     "metadata": {},
     "output_type": "execute_result"
    }
   ],
   "source": [
    "N = me.ReferenceFrame('N')\n",
    "w = a*N.x + b*N.y + c*N.z\n",
    "w"
   ]
  },
  {
   "cell_type": "code",
   "execution_count": 28,
   "id": "b23a2343",
   "metadata": {
    "execution": {
     "iopub.execute_input": "2025-09-25T05:56:47.947838Z",
     "iopub.status.busy": "2025-09-25T05:56:47.947682Z",
     "iopub.status.idle": "2025-09-25T05:56:47.951694Z",
     "shell.execute_reply": "2025-09-25T05:56:47.951226Z"
    }
   },
   "outputs": [
    {
     "data": {
      "text/latex": [
       "$\\displaystyle d\\hat{n}_x + e\\hat{n}_y + f\\hat{n}_z$"
      ],
      "text/plain": [
       "d n_x + e n_y + f n_z"
      ]
     },
     "execution_count": 28,
     "metadata": {},
     "output_type": "execute_result"
    }
   ],
   "source": [
    "x = d*N.x + e*N.y + f*N.z\n",
    "x"
   ]
  },
  {
   "cell_type": "code",
   "execution_count": 29,
   "id": "2b4517f0",
   "metadata": {
    "execution": {
     "iopub.execute_input": "2025-09-25T05:56:47.953066Z",
     "iopub.status.busy": "2025-09-25T05:56:47.952919Z",
     "iopub.status.idle": "2025-09-25T05:56:47.960646Z",
     "shell.execute_reply": "2025-09-25T05:56:47.960164Z"
    }
   },
   "outputs": [
    {
     "data": {
      "text/latex": [
       "$\\displaystyle (b f - c e)\\hat{n}_x + (- a f + c d)\\hat{n}_y + (a e - b d)\\hat{n}_z$"
      ],
      "text/plain": [
       "(b⋅f - c⋅e) n_x + (-a⋅f + c⋅d) n_y + (a⋅e - b⋅d) n_z"
      ]
     },
     "execution_count": 29,
     "metadata": {},
     "output_type": "execute_result"
    }
   ],
   "source": [
    "me.cross(w, x)"
   ]
  },
  {
   "cell_type": "code",
   "execution_count": 30,
   "id": "742c41aa",
   "metadata": {
    "execution": {
     "iopub.execute_input": "2025-09-25T05:56:47.962024Z",
     "iopub.status.busy": "2025-09-25T05:56:47.961874Z",
     "iopub.status.idle": "2025-09-25T05:56:47.968833Z",
     "shell.execute_reply": "2025-09-25T05:56:47.968332Z"
    }
   },
   "outputs": [
    {
     "data": {
      "text/latex": [
       "$\\displaystyle (b f - c e)\\hat{n}_x + (- a f + c d)\\hat{n}_y + (a e - b d)\\hat{n}_z$"
      ],
      "text/plain": [
       "(b⋅f - c⋅e) n_x + (-a⋅f + c⋅d) n_y + (a⋅e - b⋅d) n_z"
      ]
     },
     "execution_count": 30,
     "metadata": {},
     "output_type": "execute_result"
    }
   ],
   "source": [
    "w.cross(x)"
   ]
  },
  {
   "cell_type": "code",
   "execution_count": 31,
   "id": "2b03fa22",
   "metadata": {
    "execution": {
     "iopub.execute_input": "2025-09-25T05:56:47.970210Z",
     "iopub.status.busy": "2025-09-25T05:56:47.970044Z",
     "iopub.status.idle": "2025-09-25T05:56:47.978212Z",
     "shell.execute_reply": "2025-09-25T05:56:47.977774Z"
    }
   },
   "outputs": [
    {
     "data": {
      "text/latex": [
       "$\\displaystyle \\sqrt{36077}$"
      ],
      "text/plain": [
       "√36077"
      ]
     },
     "execution_count": 31,
     "metadata": {},
     "output_type": "execute_result"
    }
   ],
   "source": [
    "N = me.ReferenceFrame('N')\n",
    "\n",
    "p1 = 23*N.x - 12* N.y\n",
    "p2 = 16*N.x + 2*N.y - 4*N.z\n",
    "p3 = N.x + 14*N.z\n",
    "\n",
    "me.cross(p2 - p1, p3 - p1).magnitude() / 2"
   ]
  },
  {
   "cell_type": "code",
   "execution_count": 32,
   "id": "a12cf5de",
   "metadata": {
    "execution": {
     "iopub.execute_input": "2025-09-25T05:56:47.979528Z",
     "iopub.status.busy": "2025-09-25T05:56:47.979380Z",
     "iopub.status.idle": "2025-09-25T05:56:47.984367Z",
     "shell.execute_reply": "2025-09-25T05:56:47.983936Z"
    }
   },
   "outputs": [
    {
     "data": {
      "text/latex": [
       "$\\displaystyle a\\hat{a}_x + b\\hat{n}_y$"
      ],
      "text/plain": [
       "a a_x + b n_y"
      ]
     },
     "execution_count": 32,
     "metadata": {},
     "output_type": "execute_result"
    }
   ],
   "source": [
    "N = me.ReferenceFrame('N')\n",
    "A = me.ReferenceFrame('A')\n",
    "\n",
    "a, b, theta = sm.symbols('a, b, theta')\n",
    "\n",
    "v = a*A.x + b*N.y\n",
    "v"
   ]
  },
  {
   "cell_type": "code",
   "execution_count": 33,
   "id": "3932d500",
   "metadata": {
    "execution": {
     "iopub.execute_input": "2025-09-25T05:56:47.985690Z",
     "iopub.status.busy": "2025-09-25T05:56:47.985546Z",
     "iopub.status.idle": "2025-09-25T05:56:47.989447Z",
     "shell.execute_reply": "2025-09-25T05:56:47.989044Z"
    }
   },
   "outputs": [
    {
     "data": {
      "text/latex": [
       "$\\displaystyle 2 a\\hat{a}_x + 2 b\\hat{n}_y$"
      ],
      "text/plain": [
       "2⋅a a_x + 2⋅b n_y"
      ]
     },
     "execution_count": 33,
     "metadata": {},
     "output_type": "execute_result"
    }
   ],
   "source": [
    "v + v"
   ]
  },
  {
   "cell_type": "code",
   "execution_count": 34,
   "id": "67f5354d",
   "metadata": {
    "execution": {
     "iopub.execute_input": "2025-09-25T05:56:47.990734Z",
     "iopub.status.busy": "2025-09-25T05:56:47.990579Z",
     "iopub.status.idle": "2025-09-25T05:56:47.998930Z",
     "shell.execute_reply": "2025-09-25T05:56:47.998503Z"
    }
   },
   "outputs": [
    {
     "data": {
      "text/latex": [
       "$\\displaystyle a \\cos{\\left(\\theta \\right)}\\hat{n}_x + (a \\sin{\\left(\\theta \\right)} + b)\\hat{n}_y$"
      ],
      "text/plain": [
       "a⋅cos(θ) n_x + (a⋅sin(θ) + b) n_y"
      ]
     },
     "execution_count": 34,
     "metadata": {},
     "output_type": "execute_result"
    }
   ],
   "source": [
    "A.orient_axis(N, theta, N.z)\n",
    "\n",
    "v.express(N)"
   ]
  },
  {
   "cell_type": "code",
   "execution_count": 35,
   "id": "a17d711b",
   "metadata": {
    "execution": {
     "iopub.execute_input": "2025-09-25T05:56:48.000346Z",
     "iopub.status.busy": "2025-09-25T05:56:48.000179Z",
     "iopub.status.idle": "2025-09-25T05:56:48.005620Z",
     "shell.execute_reply": "2025-09-25T05:56:48.005083Z"
    }
   },
   "outputs": [
    {
     "data": {
      "text/latex": [
       "$\\displaystyle (a + b \\sin{\\left(\\theta \\right)})\\hat{a}_x + b \\cos{\\left(\\theta \\right)}\\hat{a}_y$"
      ],
      "text/plain": [
       "(a + b⋅sin(θ)) a_x + b⋅cos(θ) a_y"
      ]
     },
     "execution_count": 35,
     "metadata": {},
     "output_type": "execute_result"
    }
   ],
   "source": [
    "v.express(A)"
   ]
  },
  {
   "cell_type": "code",
   "execution_count": 36,
   "id": "b823f104",
   "metadata": {
    "execution": {
     "iopub.execute_input": "2025-09-25T05:56:48.007059Z",
     "iopub.status.busy": "2025-09-25T05:56:48.006897Z",
     "iopub.status.idle": "2025-09-25T05:56:48.011044Z",
     "shell.execute_reply": "2025-09-25T05:56:48.010658Z"
    }
   },
   "outputs": [],
   "source": [
    "q1, q2, q3, q4, q5 = sm.symbols('q1, q2, q3, q4, q5')\n",
    "l1, l2, l3, l4 = sm.symbols('l1, l2, l3, l4')\n",
    "N = me.ReferenceFrame('N')\n",
    "A = me.ReferenceFrame('A')\n",
    "B = me.ReferenceFrame('B')\n",
    "C = me.ReferenceFrame('C')"
   ]
  },
  {
   "cell_type": "code",
   "execution_count": 37,
   "id": "61c18719",
   "metadata": {
    "execution": {
     "iopub.execute_input": "2025-09-25T05:56:48.012374Z",
     "iopub.status.busy": "2025-09-25T05:56:48.012229Z",
     "iopub.status.idle": "2025-09-25T05:56:48.018408Z",
     "shell.execute_reply": "2025-09-25T05:56:48.017978Z"
    }
   },
   "outputs": [],
   "source": [
    "A.orient_body_fixed(N, (q1, q2, 0), 'ZXZ')"
   ]
  },
  {
   "cell_type": "code",
   "execution_count": 38,
   "id": "00d16ab7",
   "metadata": {
    "execution": {
     "iopub.execute_input": "2025-09-25T05:56:48.019796Z",
     "iopub.status.busy": "2025-09-25T05:56:48.019646Z",
     "iopub.status.idle": "2025-09-25T05:56:48.023875Z",
     "shell.execute_reply": "2025-09-25T05:56:48.023477Z"
    }
   },
   "outputs": [],
   "source": [
    "B.orient_axis(A, q3, A.x)"
   ]
  },
  {
   "cell_type": "code",
   "execution_count": 39,
   "id": "665c9975",
   "metadata": {
    "execution": {
     "iopub.execute_input": "2025-09-25T05:56:48.025205Z",
     "iopub.status.busy": "2025-09-25T05:56:48.025018Z",
     "iopub.status.idle": "2025-09-25T05:56:48.030763Z",
     "shell.execute_reply": "2025-09-25T05:56:48.030213Z"
    }
   },
   "outputs": [],
   "source": [
    "C.orient_body_fixed(B, (q4, q5, 0), 'XZX')"
   ]
  },
  {
   "cell_type": "code",
   "execution_count": 40,
   "id": "5f87a812",
   "metadata": {
    "execution": {
     "iopub.execute_input": "2025-09-25T05:56:48.032250Z",
     "iopub.status.busy": "2025-09-25T05:56:48.032055Z",
     "iopub.status.idle": "2025-09-25T05:56:48.035510Z",
     "shell.execute_reply": "2025-09-25T05:56:48.034986Z"
    }
   },
   "outputs": [],
   "source": [
    "R_P1_P2 = l1*A.z\n",
    "R_P2_P3 = l2*B.z\n",
    "R_P3_P4 = l3*C.z - l4*C.y"
   ]
  },
  {
   "cell_type": "code",
   "execution_count": 41,
   "id": "1ac597f7",
   "metadata": {
    "execution": {
     "iopub.execute_input": "2025-09-25T05:56:48.036892Z",
     "iopub.status.busy": "2025-09-25T05:56:48.036738Z",
     "iopub.status.idle": "2025-09-25T05:56:48.040948Z",
     "shell.execute_reply": "2025-09-25T05:56:48.040454Z"
    }
   },
   "outputs": [
    {
     "data": {
      "text/latex": [
       "$\\displaystyle l_{1}\\hat{a}_z + l_{2}\\hat{b}_z -  l_{4}\\hat{c}_y + l_{3}\\hat{c}_z$"
      ],
      "text/plain": [
       "l₁ a_z + l₂ b_z + -l₄ c_y + l₃ c_z"
      ]
     },
     "execution_count": 41,
     "metadata": {},
     "output_type": "execute_result"
    }
   ],
   "source": [
    "R_P1_P4 = R_P1_P2 + R_P2_P3 + R_P3_P4\n",
    "R_P1_P4"
   ]
  },
  {
   "cell_type": "code",
   "execution_count": 42,
   "id": "0de8bad6",
   "metadata": {
    "execution": {
     "iopub.execute_input": "2025-09-25T05:56:48.042420Z",
     "iopub.status.busy": "2025-09-25T05:56:48.042254Z",
     "iopub.status.idle": "2025-09-25T05:56:48.108037Z",
     "shell.execute_reply": "2025-09-25T05:56:48.107482Z"
    }
   },
   "outputs": [
    {
     "data": {
      "text/latex": [
       "$\\displaystyle (l_{1} \\sin{\\left(q_{1} \\right)} \\sin{\\left(q_{2} \\right)} + l_{2} \\left(\\sin{\\left(q_{1} \\right)} \\sin{\\left(q_{2} \\right)} \\cos{\\left(q_{3} \\right)} + \\sin{\\left(q_{1} \\right)} \\sin{\\left(q_{3} \\right)} \\cos{\\left(q_{2} \\right)}\\right) + l_{3} \\left(- \\left(\\sin{\\left(q_{1} \\right)} \\sin{\\left(q_{2} \\right)} \\sin{\\left(q_{3} \\right)} - \\sin{\\left(q_{1} \\right)} \\cos{\\left(q_{2} \\right)} \\cos{\\left(q_{3} \\right)}\\right) \\sin{\\left(q_{4} \\right)} + \\left(\\sin{\\left(q_{1} \\right)} \\sin{\\left(q_{2} \\right)} \\cos{\\left(q_{3} \\right)} + \\sin{\\left(q_{1} \\right)} \\sin{\\left(q_{3} \\right)} \\cos{\\left(q_{2} \\right)}\\right) \\cos{\\left(q_{4} \\right)}\\right) - l_{4} \\left(\\left(\\sin{\\left(q_{1} \\right)} \\sin{\\left(q_{2} \\right)} \\sin{\\left(q_{3} \\right)} - \\sin{\\left(q_{1} \\right)} \\cos{\\left(q_{2} \\right)} \\cos{\\left(q_{3} \\right)}\\right) \\cos{\\left(q_{4} \\right)} \\cos{\\left(q_{5} \\right)} + \\left(\\sin{\\left(q_{1} \\right)} \\sin{\\left(q_{2} \\right)} \\cos{\\left(q_{3} \\right)} + \\sin{\\left(q_{1} \\right)} \\sin{\\left(q_{3} \\right)} \\cos{\\left(q_{2} \\right)}\\right) \\sin{\\left(q_{4} \\right)} \\cos{\\left(q_{5} \\right)} - \\sin{\\left(q_{5} \\right)} \\cos{\\left(q_{1} \\right)}\\right))\\hat{n}_x + (- l_{1} \\sin{\\left(q_{2} \\right)} \\cos{\\left(q_{1} \\right)} + l_{2} \\left(- \\sin{\\left(q_{2} \\right)} \\cos{\\left(q_{1} \\right)} \\cos{\\left(q_{3} \\right)} - \\sin{\\left(q_{3} \\right)} \\cos{\\left(q_{1} \\right)} \\cos{\\left(q_{2} \\right)}\\right) + l_{3} \\left(- \\left(- \\sin{\\left(q_{2} \\right)} \\sin{\\left(q_{3} \\right)} \\cos{\\left(q_{1} \\right)} + \\cos{\\left(q_{1} \\right)} \\cos{\\left(q_{2} \\right)} \\cos{\\left(q_{3} \\right)}\\right) \\sin{\\left(q_{4} \\right)} + \\left(- \\sin{\\left(q_{2} \\right)} \\cos{\\left(q_{1} \\right)} \\cos{\\left(q_{3} \\right)} - \\sin{\\left(q_{3} \\right)} \\cos{\\left(q_{1} \\right)} \\cos{\\left(q_{2} \\right)}\\right) \\cos{\\left(q_{4} \\right)}\\right) - l_{4} \\left(\\left(- \\sin{\\left(q_{2} \\right)} \\sin{\\left(q_{3} \\right)} \\cos{\\left(q_{1} \\right)} + \\cos{\\left(q_{1} \\right)} \\cos{\\left(q_{2} \\right)} \\cos{\\left(q_{3} \\right)}\\right) \\cos{\\left(q_{4} \\right)} \\cos{\\left(q_{5} \\right)} + \\left(- \\sin{\\left(q_{2} \\right)} \\cos{\\left(q_{1} \\right)} \\cos{\\left(q_{3} \\right)} - \\sin{\\left(q_{3} \\right)} \\cos{\\left(q_{1} \\right)} \\cos{\\left(q_{2} \\right)}\\right) \\sin{\\left(q_{4} \\right)} \\cos{\\left(q_{5} \\right)} - \\sin{\\left(q_{1} \\right)} \\sin{\\left(q_{5} \\right)}\\right))\\hat{n}_y + (l_{1} \\cos{\\left(q_{2} \\right)} + l_{2} \\left(- \\sin{\\left(q_{2} \\right)} \\sin{\\left(q_{3} \\right)} + \\cos{\\left(q_{2} \\right)} \\cos{\\left(q_{3} \\right)}\\right) + l_{3} \\left(\\left(- \\sin{\\left(q_{2} \\right)} \\sin{\\left(q_{3} \\right)} + \\cos{\\left(q_{2} \\right)} \\cos{\\left(q_{3} \\right)}\\right) \\cos{\\left(q_{4} \\right)} - \\left(\\sin{\\left(q_{2} \\right)} \\cos{\\left(q_{3} \\right)} + \\sin{\\left(q_{3} \\right)} \\cos{\\left(q_{2} \\right)}\\right) \\sin{\\left(q_{4} \\right)}\\right) - l_{4} \\left(\\left(- \\sin{\\left(q_{2} \\right)} \\sin{\\left(q_{3} \\right)} + \\cos{\\left(q_{2} \\right)} \\cos{\\left(q_{3} \\right)}\\right) \\sin{\\left(q_{4} \\right)} \\cos{\\left(q_{5} \\right)} + \\left(\\sin{\\left(q_{2} \\right)} \\cos{\\left(q_{3} \\right)} + \\sin{\\left(q_{3} \\right)} \\cos{\\left(q_{2} \\right)}\\right) \\cos{\\left(q_{4} \\right)} \\cos{\\left(q_{5} \\right)}\\right))\\hat{n}_z$"
      ],
      "text/plain": [
       "(l₁⋅sin(q₁)⋅sin(q₂) + l₂⋅(sin(q₁)⋅sin(q₂)⋅cos(q₃) + sin(q₁)⋅sin(q₃)⋅cos(q₂)) +\n",
       " l₃⋅(-(sin(q₁)⋅sin(q₂)⋅sin(q₃) - sin(q₁)⋅cos(q₂)⋅cos(q₃))⋅sin(q₄) + (sin(q₁)⋅s\n",
       "in(q₂)⋅cos(q₃) + sin(q₁)⋅sin(q₃)⋅cos(q₂))⋅cos(q₄)) - l₄⋅((sin(q₁)⋅sin(q₂)⋅sin(\n",
       "q₃) - sin(q₁)⋅cos(q₂)⋅cos(q₃))⋅cos(q₄)⋅cos(q₅) + (sin(q₁)⋅sin(q₂)⋅cos(q₃) + si\n",
       "n(q₁)⋅sin(q₃)⋅cos(q₂))⋅sin(q₄)⋅cos(q₅) - sin(q₅)⋅cos(q₁))) n_x + (-l₁⋅sin(q₂)⋅\n",
       "cos(q₁) + l₂⋅(-sin(q₂)⋅cos(q₁)⋅cos(q₃) - sin(q₃)⋅cos(q₁)⋅cos(q₂)) + l₃⋅(-(-sin\n",
       "(q₂)⋅sin(q₃)⋅cos(q₁) + cos(q₁)⋅cos(q₂)⋅cos(q₃))⋅sin(q₄) + (-sin(q₂)⋅cos(q₁)⋅co\n",
       "s(q₃) - sin(q₃)⋅cos(q₁)⋅cos(q₂))⋅cos(q₄)) - l₄⋅((-sin(q₂)⋅sin(q₃)⋅cos(q₁) + co\n",
       "s(q₁)⋅cos(q₂)⋅cos(q₃))⋅cos(q₄)⋅cos(q₅) + (-sin(q₂)⋅cos(q₁)⋅cos(q₃) - sin(q₃)⋅c\n",
       "os(q₁)⋅cos(q₂))⋅sin(q₄)⋅cos(q₅) - sin(q₁)⋅sin(q₅))) n_y + (l₁⋅cos(q₂) + l₂⋅(-s\n",
       "in(q₂)⋅sin(q₃) + cos(q₂)⋅cos(q₃)) + l₃⋅((-sin(q₂)⋅sin(q₃) + cos(q₂)⋅cos(q₃))⋅c\n",
       "os(q₄) - (sin(q₂)⋅cos(q₃) + sin(q₃)⋅cos(q₂))⋅sin(q₄)) - l₄⋅((-sin(q₂)⋅sin(q₃)\n",
       "+ cos(q₂)⋅cos(q₃))⋅sin(q₄)⋅cos(q₅) + (sin(q₂)⋅cos(q₃) + sin(q₃)⋅cos(q₂))⋅cos(q\n",
       "₄)⋅cos(q₅))) n_z"
      ]
     },
     "execution_count": 42,
     "metadata": {},
     "output_type": "execute_result"
    }
   ],
   "source": [
    "R_P1_P4.express(N)"
   ]
  },
  {
   "cell_type": "code",
   "execution_count": 43,
   "id": "0dc31a46",
   "metadata": {
    "execution": {
     "iopub.execute_input": "2025-09-25T05:56:48.109591Z",
     "iopub.status.busy": "2025-09-25T05:56:48.109416Z",
     "iopub.status.idle": "2025-09-25T05:56:48.114422Z",
     "shell.execute_reply": "2025-09-25T05:56:48.113996Z"
    }
   },
   "outputs": [
    {
     "data": {
      "text/latex": [
       "$\\displaystyle l_{1} \\sin{\\left(q_{1} \\right)} \\sin{\\left(q_{2} \\right)}\\hat{n}_x -  l_{1} \\sin{\\left(q_{2} \\right)} \\cos{\\left(q_{1} \\right)}\\hat{n}_y + l_{1} \\cos{\\left(q_{2} \\right)}\\hat{n}_z$"
      ],
      "text/plain": [
       "l₁⋅sin(q₁)⋅sin(q₂) n_x + -l₁⋅sin(q₂)⋅cos(q₁) n_y + l₁⋅cos(q₂) n_z"
      ]
     },
     "execution_count": 43,
     "metadata": {},
     "output_type": "execute_result"
    }
   ],
   "source": [
    "R_P1_P2.express(N)"
   ]
  },
  {
   "cell_type": "code",
   "execution_count": 44,
   "id": "70551653",
   "metadata": {
    "execution": {
     "iopub.execute_input": "2025-09-25T05:56:48.115753Z",
     "iopub.status.busy": "2025-09-25T05:56:48.115593Z",
     "iopub.status.idle": "2025-09-25T05:56:48.119778Z",
     "shell.execute_reply": "2025-09-25T05:56:48.119359Z"
    }
   },
   "outputs": [
    {
     "data": {
      "text/latex": [
       "$\\displaystyle \\left\\{l_{1}, q_{1}, q_{2}\\right\\}$"
      ],
      "text/plain": [
       "{l₁, q₁, q₂}"
      ]
     },
     "execution_count": 44,
     "metadata": {},
     "output_type": "execute_result"
    }
   ],
   "source": [
    "R_P1_P2.free_symbols(N)"
   ]
  },
  {
   "cell_type": "code",
   "execution_count": 45,
   "id": "4cfede4b",
   "metadata": {
    "execution": {
     "iopub.execute_input": "2025-09-25T05:56:48.121104Z",
     "iopub.status.busy": "2025-09-25T05:56:48.120948Z",
     "iopub.status.idle": "2025-09-25T05:56:48.125102Z",
     "shell.execute_reply": "2025-09-25T05:56:48.124630Z"
    }
   },
   "outputs": [
    {
     "data": {
      "text/latex": [
       "$\\displaystyle \\left\\{l_{1}\\right\\}$"
      ],
      "text/plain": [
       "{l₁}"
      ]
     },
     "execution_count": 45,
     "metadata": {},
     "output_type": "execute_result"
    }
   ],
   "source": [
    "R_P1_P2.free_symbols(A)"
   ]
  },
  {
   "cell_type": "code",
   "execution_count": 46,
   "id": "e94ed892",
   "metadata": {
    "execution": {
     "iopub.execute_input": "2025-09-25T05:56:48.126461Z",
     "iopub.status.busy": "2025-09-25T05:56:48.126314Z",
     "iopub.status.idle": "2025-09-25T05:56:48.131697Z",
     "shell.execute_reply": "2025-09-25T05:56:48.131293Z"
    }
   },
   "outputs": [
    {
     "data": {
      "text/latex": [
       "$\\displaystyle \\left\\{l_{1}, l_{2}, l_{3}, l_{4}, q_{1}, q_{2}, q_{3}, q_{4}, q_{5}\\right\\}$"
      ],
      "text/plain": [
       "{l₁, l₂, l₃, l₄, q₁, q₂, q₃, q₄, q₅}"
      ]
     },
     "execution_count": 46,
     "metadata": {},
     "output_type": "execute_result"
    }
   ],
   "source": [
    "R_P1_P4.free_symbols(N)"
   ]
  }
 ],
 "metadata": {
  "kernelspec": {
   "display_name": "Python 3 (ipykernel)",
   "language": "python",
   "name": "python3"
  },
  "language_info": {
   "codemirror_mode": {
    "name": "ipython",
    "version": 3
   },
   "file_extension": ".py",
   "mimetype": "text/x-python",
   "name": "python",
   "nbconvert_exporter": "python",
   "pygments_lexer": "ipython3",
   "version": "3.11.13"
  }
 },
 "nbformat": 4,
 "nbformat_minor": 5
}