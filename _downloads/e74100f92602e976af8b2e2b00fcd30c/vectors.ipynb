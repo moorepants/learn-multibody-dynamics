{
 "cells": [
  {
   "cell_type": "code",
   "execution_count": 1,
   "id": "aa91073e",
   "metadata": {
    "execution": {
     "iopub.execute_input": "2025-01-22T13:11:28.564212Z",
     "iopub.status.busy": "2025-01-22T13:11:28.563773Z",
     "iopub.status.idle": "2025-01-22T13:11:28.905454Z",
     "shell.execute_reply": "2025-01-22T13:11:28.904856Z"
    }
   },
   "outputs": [],
   "source": [
    "import sympy as sm\n",
    "import sympy.physics.mechanics as me\n",
    "sm.init_printing(use_latex='mathjax')"
   ]
  },
  {
   "cell_type": "code",
   "execution_count": 2,
   "id": "34f13812",
   "metadata": {
    "execution": {
     "iopub.execute_input": "2025-01-22T13:11:28.907276Z",
     "iopub.status.busy": "2025-01-22T13:11:28.907076Z",
     "iopub.status.idle": "2025-01-22T13:11:28.910599Z",
     "shell.execute_reply": "2025-01-22T13:11:28.910203Z"
    }
   },
   "outputs": [],
   "source": [
    "class ReferenceFrame(me.ReferenceFrame):\n",
    "\n",
    "    def __init__(self, *args, **kwargs):\n",
    "\n",
    "        kwargs.pop('latexs', None)\n",
    "\n",
    "        lab = args[0].lower()\n",
    "        tex = r'\\hat{{{}}}_{}'\n",
    "\n",
    "        super(ReferenceFrame, self).__init__(*args,\n",
    "                                             latexs=(tex.format(lab, 'x'),\n",
    "                                                     tex.format(lab, 'y'),\n",
    "                                                     tex.format(lab, 'z')),\n",
    "                                             **kwargs)\n",
    "me.ReferenceFrame = ReferenceFrame"
   ]
  },
  {
   "cell_type": "code",
   "execution_count": 3,
   "id": "a4833c8c",
   "metadata": {
    "execution": {
     "iopub.execute_input": "2025-01-22T13:11:28.911887Z",
     "iopub.status.busy": "2025-01-22T13:11:28.911752Z",
     "iopub.status.idle": "2025-01-22T13:11:28.914438Z",
     "shell.execute_reply": "2025-01-22T13:11:28.914038Z"
    }
   },
   "outputs": [],
   "source": [
    "N = me.ReferenceFrame('N')"
   ]
  },
  {
   "cell_type": "code",
   "execution_count": 4,
   "id": "242df460",
   "metadata": {
    "execution": {
     "iopub.execute_input": "2025-01-22T13:11:28.915803Z",
     "iopub.status.busy": "2025-01-22T13:11:28.915664Z",
     "iopub.status.idle": "2025-01-22T13:11:28.918473Z",
     "shell.execute_reply": "2025-01-22T13:11:28.917636Z"
    }
   },
   "outputs": [],
   "source": [
    "a, b, c, d, e, f = sm.symbols('a, b, c, d, e, f')"
   ]
  },
  {
   "cell_type": "code",
   "execution_count": 5,
   "id": "7c894791",
   "metadata": {
    "execution": {
     "iopub.execute_input": "2025-01-22T13:11:28.919891Z",
     "iopub.status.busy": "2025-01-22T13:11:28.919736Z",
     "iopub.status.idle": "2025-01-22T13:11:28.924473Z",
     "shell.execute_reply": "2025-01-22T13:11:28.924070Z"
    }
   },
   "outputs": [
    {
     "data": {
      "text/latex": [
       "$\\displaystyle a\\hat{n}_x$"
      ],
      "text/plain": [
       "a n_x"
      ]
     },
     "execution_count": 5,
     "metadata": {},
     "output_type": "execute_result"
    }
   ],
   "source": [
    "v = a*N.x\n",
    "v"
   ]
  },
  {
   "cell_type": "code",
   "execution_count": 6,
   "id": "d20f2e7f",
   "metadata": {
    "execution": {
     "iopub.execute_input": "2025-01-22T13:11:28.925839Z",
     "iopub.status.busy": "2025-01-22T13:11:28.925677Z",
     "iopub.status.idle": "2025-01-22T13:11:28.930631Z",
     "shell.execute_reply": "2025-01-22T13:11:28.930228Z"
    }
   },
   "outputs": [
    {
     "data": {
      "text/latex": [
       "$\\displaystyle \\left[\\begin{matrix}a\\\\0\\\\0\\end{matrix}\\right]$"
      ],
      "text/plain": [
       "⎡a⎤\n",
       "⎢ ⎥\n",
       "⎢0⎥\n",
       "⎢ ⎥\n",
       "⎣0⎦"
      ]
     },
     "execution_count": 6,
     "metadata": {},
     "output_type": "execute_result"
    }
   ],
   "source": [
    "v.to_matrix(N)"
   ]
  },
  {
   "cell_type": "code",
   "execution_count": 7,
   "id": "0af8bf41",
   "metadata": {
    "execution": {
     "iopub.execute_input": "2025-01-22T13:11:28.931884Z",
     "iopub.status.busy": "2025-01-22T13:11:28.931734Z",
     "iopub.status.idle": "2025-01-22T13:11:28.935933Z",
     "shell.execute_reply": "2025-01-22T13:11:28.935543Z"
    }
   },
   "outputs": [
    {
     "data": {
      "text/latex": [
       "$\\displaystyle a\\hat{n}_x + b\\hat{n}_y + c\\hat{n}_z$"
      ],
      "text/plain": [
       "a n_x + b n_y + c n_z"
      ]
     },
     "execution_count": 7,
     "metadata": {},
     "output_type": "execute_result"
    }
   ],
   "source": [
    "w = a*N.x + b*N.y + c*N.z\n",
    "w"
   ]
  },
  {
   "cell_type": "code",
   "execution_count": 8,
   "id": "72a617d9",
   "metadata": {
    "execution": {
     "iopub.execute_input": "2025-01-22T13:11:28.937274Z",
     "iopub.status.busy": "2025-01-22T13:11:28.937118Z",
     "iopub.status.idle": "2025-01-22T13:11:28.942197Z",
     "shell.execute_reply": "2025-01-22T13:11:28.941701Z"
    }
   },
   "outputs": [
    {
     "data": {
      "text/latex": [
       "$\\displaystyle \\left[\\begin{matrix}a\\\\b\\\\c\\end{matrix}\\right]$"
      ],
      "text/plain": [
       "⎡a⎤\n",
       "⎢ ⎥\n",
       "⎢b⎥\n",
       "⎢ ⎥\n",
       "⎣c⎦"
      ]
     },
     "execution_count": 8,
     "metadata": {},
     "output_type": "execute_result"
    }
   ],
   "source": [
    "w.to_matrix(N)"
   ]
  },
  {
   "cell_type": "code",
   "execution_count": 9,
   "id": "069a111d",
   "metadata": {
    "execution": {
     "iopub.execute_input": "2025-01-22T13:11:28.943458Z",
     "iopub.status.busy": "2025-01-22T13:11:28.943296Z",
     "iopub.status.idle": "2025-01-22T13:11:28.947442Z",
     "shell.execute_reply": "2025-01-22T13:11:28.947058Z"
    }
   },
   "outputs": [
    {
     "data": {
      "text/latex": [
       "$\\displaystyle d\\hat{n}_x + e\\hat{n}_y + f\\hat{n}_z$"
      ],
      "text/plain": [
       "d n_x + e n_y + f n_z"
      ]
     },
     "execution_count": 9,
     "metadata": {},
     "output_type": "execute_result"
    }
   ],
   "source": [
    "x = d*N.x + e*N.y + f*N.z\n",
    "x"
   ]
  },
  {
   "cell_type": "code",
   "execution_count": 10,
   "id": "06b96c09",
   "metadata": {
    "execution": {
     "iopub.execute_input": "2025-01-22T13:11:28.948984Z",
     "iopub.status.busy": "2025-01-22T13:11:28.948610Z",
     "iopub.status.idle": "2025-01-22T13:11:28.953487Z",
     "shell.execute_reply": "2025-01-22T13:11:28.952995Z"
    }
   },
   "outputs": [
    {
     "data": {
      "text/latex": [
       "$\\displaystyle (a + d)\\hat{n}_x + (b + e)\\hat{n}_y + (c + f)\\hat{n}_z$"
      ],
      "text/plain": [
       "(a + d) n_x + (b + e) n_y + (c + f) n_z"
      ]
     },
     "execution_count": 10,
     "metadata": {},
     "output_type": "execute_result"
    }
   ],
   "source": [
    "w + x"
   ]
  },
  {
   "cell_type": "code",
   "execution_count": 11,
   "id": "d0128f79",
   "metadata": {
    "execution": {
     "iopub.execute_input": "2025-01-22T13:11:28.954880Z",
     "iopub.status.busy": "2025-01-22T13:11:28.954739Z",
     "iopub.status.idle": "2025-01-22T13:11:28.959099Z",
     "shell.execute_reply": "2025-01-22T13:11:28.958697Z"
    }
   },
   "outputs": [
    {
     "data": {
      "text/latex": [
       "$\\displaystyle 2 a\\hat{n}_x + 2 b\\hat{n}_y + 2 c\\hat{n}_z$"
      ],
      "text/plain": [
       "2⋅a n_x + 2⋅b n_y + 2⋅c n_z"
      ]
     },
     "execution_count": 11,
     "metadata": {},
     "output_type": "execute_result"
    }
   ],
   "source": [
    "y = 2*w\n",
    "y"
   ]
  },
  {
   "cell_type": "code",
   "execution_count": 12,
   "id": "ed416f82",
   "metadata": {
    "execution": {
     "iopub.execute_input": "2025-01-22T13:11:28.960308Z",
     "iopub.status.busy": "2025-01-22T13:11:28.960160Z",
     "iopub.status.idle": "2025-01-22T13:11:28.964144Z",
     "shell.execute_reply": "2025-01-22T13:11:28.963746Z"
    }
   },
   "outputs": [
    {
     "data": {
      "text/latex": [
       "$\\displaystyle -  a\\hat{n}_x -  b\\hat{n}_y -  c\\hat{n}_z$"
      ],
      "text/plain": [
       "-a n_x + -b n_y + -c n_z"
      ]
     },
     "execution_count": 12,
     "metadata": {},
     "output_type": "execute_result"
    }
   ],
   "source": [
    "z = -w\n",
    "z"
   ]
  },
  {
   "cell_type": "code",
   "execution_count": 13,
   "id": "caf1fc7f",
   "metadata": {
    "execution": {
     "iopub.execute_input": "2025-01-22T13:11:28.965388Z",
     "iopub.status.busy": "2025-01-22T13:11:28.965252Z",
     "iopub.status.idle": "2025-01-22T13:11:28.967851Z",
     "shell.execute_reply": "2025-01-22T13:11:28.967488Z"
    }
   },
   "outputs": [],
   "source": [
    "N = me.ReferenceFrame('N')\n",
    "l, theta = sm.symbols('l, theta')"
   ]
  },
  {
   "cell_type": "code",
   "execution_count": 14,
   "id": "704e7245",
   "metadata": {
    "execution": {
     "iopub.execute_input": "2025-01-22T13:11:28.969338Z",
     "iopub.status.busy": "2025-01-22T13:11:28.968977Z",
     "iopub.status.idle": "2025-01-22T13:11:28.977675Z",
     "shell.execute_reply": "2025-01-22T13:11:28.977290Z"
    }
   },
   "outputs": [
    {
     "data": {
      "text/latex": [
       "$\\displaystyle \\frac{\\sqrt{2} l}{2}\\hat{n}_x + \\frac{\\sqrt{2} l}{2}\\hat{n}_y$"
      ],
      "text/plain": [
       "√2⋅l       √2⋅l\n",
       "──── n_x + ──── n_y\n",
       " 2          2"
      ]
     },
     "execution_count": 14,
     "metadata": {},
     "output_type": "execute_result"
    }
   ],
   "source": [
    "v1 = l*sm.cos(sm.pi/4)*N.x + l*sm.sin(sm.pi/4)*N.y\n",
    "v1"
   ]
  },
  {
   "cell_type": "code",
   "execution_count": 15,
   "id": "5802848c",
   "metadata": {
    "execution": {
     "iopub.execute_input": "2025-01-22T13:11:28.979214Z",
     "iopub.status.busy": "2025-01-22T13:11:28.978831Z",
     "iopub.status.idle": "2025-01-22T13:11:28.982531Z",
     "shell.execute_reply": "2025-01-22T13:11:28.982023Z"
    }
   },
   "outputs": [
    {
     "data": {
      "text/latex": [
       "$\\displaystyle - 10\\hat{n}_y$"
      ],
      "text/plain": [
       "-10 n_y"
      ]
     },
     "execution_count": 15,
     "metadata": {},
     "output_type": "execute_result"
    }
   ],
   "source": [
    "v2 = -10*N.y\n",
    "v2"
   ]
  },
  {
   "cell_type": "code",
   "execution_count": 16,
   "id": "be24ab7a",
   "metadata": {
    "execution": {
     "iopub.execute_input": "2025-01-22T13:11:28.984102Z",
     "iopub.status.busy": "2025-01-22T13:11:28.983784Z",
     "iopub.status.idle": "2025-01-22T13:11:28.989625Z",
     "shell.execute_reply": "2025-01-22T13:11:28.989230Z"
    }
   },
   "outputs": [
    {
     "data": {
      "text/latex": [
       "$\\displaystyle -  l \\sin{\\left(\\theta \\right)}\\hat{n}_x + l \\cos{\\left(\\theta \\right)}\\hat{n}_y$"
      ],
      "text/plain": [
       "-l⋅sin(θ) n_x + l⋅cos(θ) n_y"
      ]
     },
     "execution_count": 16,
     "metadata": {},
     "output_type": "execute_result"
    }
   ],
   "source": [
    "v3 = -l*sm.sin(theta)*N.x + l*sm.cos(theta)*N.y\n",
    "v3"
   ]
  },
  {
   "cell_type": "code",
   "execution_count": 17,
   "id": "4d49f049",
   "metadata": {
    "execution": {
     "iopub.execute_input": "2025-01-22T13:11:28.990960Z",
     "iopub.status.busy": "2025-01-22T13:11:28.990822Z",
     "iopub.status.idle": "2025-01-22T13:11:28.997360Z",
     "shell.execute_reply": "2025-01-22T13:11:28.996864Z"
    }
   },
   "outputs": [
    {
     "data": {
      "text/latex": [
       "$\\displaystyle (5 l \\sin{\\left(\\theta \\right)} + \\frac{\\sqrt{2} l}{2})\\hat{n}_x + (- 5 l \\cos{\\left(\\theta \\right)} + \\frac{\\sqrt{2} l}{2} - 10)\\hat{n}_y$"
      ],
      "text/plain": [
       "⎛             √2⋅l⎞       ⎛              √2⋅l     ⎞\n",
       "⎜5⋅l⋅sin(θ) + ────⎟ n_x + ⎜-5⋅l⋅cos(θ) + ──── - 10⎟ n_y\n",
       "⎝              2  ⎠       ⎝               2       ⎠"
      ]
     },
     "execution_count": 17,
     "metadata": {},
     "output_type": "execute_result"
    }
   ],
   "source": [
    "v1 + v2 - 5*v3"
   ]
  },
  {
   "cell_type": "code",
   "execution_count": 18,
   "id": "1729a8cc",
   "metadata": {
    "execution": {
     "iopub.execute_input": "2025-01-22T13:11:28.998678Z",
     "iopub.status.busy": "2025-01-22T13:11:28.998530Z",
     "iopub.status.idle": "2025-01-22T13:11:29.002541Z",
     "shell.execute_reply": "2025-01-22T13:11:29.002024Z"
    }
   },
   "outputs": [],
   "source": [
    "N = me.ReferenceFrame('N')\n",
    "w = a*N.x + b*N.y + c*N.z\n",
    "x = d*N.x + e*N.y + f*N.z"
   ]
  },
  {
   "cell_type": "code",
   "execution_count": 19,
   "id": "272b6071",
   "metadata": {
    "execution": {
     "iopub.execute_input": "2025-01-22T13:11:29.003892Z",
     "iopub.status.busy": "2025-01-22T13:11:29.003750Z",
     "iopub.status.idle": "2025-01-22T13:11:29.008938Z",
     "shell.execute_reply": "2025-01-22T13:11:29.008461Z"
    }
   },
   "outputs": [
    {
     "data": {
      "text/latex": [
       "$\\displaystyle a d + b e + c f$"
      ],
      "text/plain": [
       "a⋅d + b⋅e + c⋅f"
      ]
     },
     "execution_count": 19,
     "metadata": {},
     "output_type": "execute_result"
    }
   ],
   "source": [
    "me.dot(w, x)"
   ]
  },
  {
   "cell_type": "code",
   "execution_count": 20,
   "id": "5bf268cf",
   "metadata": {
    "execution": {
     "iopub.execute_input": "2025-01-22T13:11:29.010246Z",
     "iopub.status.busy": "2025-01-22T13:11:29.010104Z",
     "iopub.status.idle": "2025-01-22T13:11:29.014303Z",
     "shell.execute_reply": "2025-01-22T13:11:29.013801Z"
    }
   },
   "outputs": [
    {
     "data": {
      "text/latex": [
       "$\\displaystyle a d + b e + c f$"
      ],
      "text/plain": [
       "a⋅d + b⋅e + c⋅f"
      ]
     },
     "execution_count": 20,
     "metadata": {},
     "output_type": "execute_result"
    }
   ],
   "source": [
    "w.dot(x)"
   ]
  },
  {
   "cell_type": "code",
   "execution_count": 21,
   "id": "658b582f",
   "metadata": {
    "execution": {
     "iopub.execute_input": "2025-01-22T13:11:29.015745Z",
     "iopub.status.busy": "2025-01-22T13:11:29.015454Z",
     "iopub.status.idle": "2025-01-22T13:11:29.026754Z",
     "shell.execute_reply": "2025-01-22T13:11:29.026366Z"
    }
   },
   "outputs": [
    {
     "data": {
      "text/latex": [
       "$\\displaystyle \\frac{a}{\\sqrt{a^{2} + b^{2} + c^{2}}}\\hat{n}_x + \\frac{b}{\\sqrt{a^{2} + b^{2} + c^{2}}}\\hat{n}_y + \\frac{c}{\\sqrt{a^{2} + b^{2} + c^{2}}}\\hat{n}_z$"
      ],
      "text/plain": [
       "        a                       b                       c\n",
       "───────────────── n_x + ───────────────── n_y + ───────────────── n_z\n",
       "   ______________          ______________          ______________\n",
       "  ╱  2    2    2          ╱  2    2    2          ╱  2    2    2\n",
       "╲╱  a  + b  + c         ╲╱  a  + b  + c         ╲╱  a  + b  + c"
      ]
     },
     "execution_count": 21,
     "metadata": {},
     "output_type": "execute_result"
    }
   ],
   "source": [
    "w.normalize()"
   ]
  },
  {
   "cell_type": "code",
   "execution_count": 22,
   "id": "b5b0c83c",
   "metadata": {
    "execution": {
     "iopub.execute_input": "2025-01-22T13:11:29.027989Z",
     "iopub.status.busy": "2025-01-22T13:11:29.027857Z",
     "iopub.status.idle": "2025-01-22T13:11:29.034102Z",
     "shell.execute_reply": "2025-01-22T13:11:29.033682Z"
    }
   },
   "outputs": [
    {
     "data": {
      "text/latex": [
       "$\\displaystyle \\frac{a}{\\sqrt{a^{2} + b^{2} + c^{2}}}\\hat{n}_x + \\frac{b}{\\sqrt{a^{2} + b^{2} + c^{2}}}\\hat{n}_y + \\frac{c}{\\sqrt{a^{2} + b^{2} + c^{2}}}\\hat{n}_z$"
      ],
      "text/plain": [
       "        a                       b                       c\n",
       "───────────────── n_x + ───────────────── n_y + ───────────────── n_z\n",
       "   ______________          ______________          ______________\n",
       "  ╱  2    2    2          ╱  2    2    2          ╱  2    2    2\n",
       "╲╱  a  + b  + c         ╲╱  a  + b  + c         ╲╱  a  + b  + c"
      ]
     },
     "execution_count": 22,
     "metadata": {},
     "output_type": "execute_result"
    }
   ],
   "source": [
    "def normalize(vector):\n",
    "    return vector/sm.sqrt(me.dot(vector, vector))\n",
    "\n",
    "normalize(w)"
   ]
  },
  {
   "cell_type": "code",
   "execution_count": 23,
   "id": "7d2f3422",
   "metadata": {
    "execution": {
     "iopub.execute_input": "2025-01-22T13:11:29.035365Z",
     "iopub.status.busy": "2025-01-22T13:11:29.035229Z",
     "iopub.status.idle": "2025-01-22T13:11:29.039457Z",
     "shell.execute_reply": "2025-01-22T13:11:29.038955Z"
    }
   },
   "outputs": [
    {
     "data": {
      "text/latex": [
       "$\\displaystyle \\sqrt{a^{2} + b^{2} + c^{2}}$"
      ],
      "text/plain": [
       "   ______________\n",
       "  ╱  2    2    2 \n",
       "╲╱  a  + b  + c  "
      ]
     },
     "execution_count": 23,
     "metadata": {},
     "output_type": "execute_result"
    }
   ],
   "source": [
    "w.magnitude()"
   ]
  },
  {
   "cell_type": "code",
   "execution_count": 24,
   "id": "48880069",
   "metadata": {
    "execution": {
     "iopub.execute_input": "2025-01-22T13:11:29.040783Z",
     "iopub.status.busy": "2025-01-22T13:11:29.040642Z",
     "iopub.status.idle": "2025-01-22T13:11:29.046523Z",
     "shell.execute_reply": "2025-01-22T13:11:29.046011Z"
    }
   },
   "outputs": [
    {
     "data": {
      "text/latex": [
       "$\\displaystyle \\frac{a}{\\sqrt{a^{2} + b^{2} + c^{2}}}\\hat{n}_x + \\frac{b}{\\sqrt{a^{2} + b^{2} + c^{2}}}\\hat{n}_y + \\frac{c}{\\sqrt{a^{2} + b^{2} + c^{2}}}\\hat{n}_z$"
      ],
      "text/plain": [
       "        a                       b                       c\n",
       "───────────────── n_x + ───────────────── n_y + ───────────────── n_z\n",
       "   ______________          ______________          ______________\n",
       "  ╱  2    2    2          ╱  2    2    2          ╱  2    2    2\n",
       "╲╱  a  + b  + c         ╲╱  a  + b  + c         ╲╱  a  + b  + c"
      ]
     },
     "execution_count": 24,
     "metadata": {},
     "output_type": "execute_result"
    }
   ],
   "source": [
    "w/w.magnitude()"
   ]
  },
  {
   "cell_type": "code",
   "execution_count": 25,
   "id": "535f3c35",
   "metadata": {
    "execution": {
     "iopub.execute_input": "2025-01-22T13:11:29.047816Z",
     "iopub.status.busy": "2025-01-22T13:11:29.047677Z",
     "iopub.status.idle": "2025-01-22T13:11:29.051529Z",
     "shell.execute_reply": "2025-01-22T13:11:29.051139Z"
    }
   },
   "outputs": [],
   "source": [
    "N = me.ReferenceFrame('N')\n",
    "v1 = a*N.x + b*N.y + a*N.z\n",
    "v2 = b*N.x + a*N.y + b*N.z"
   ]
  },
  {
   "cell_type": "code",
   "execution_count": 26,
   "id": "e3547049",
   "metadata": {
    "execution": {
     "iopub.execute_input": "2025-01-22T13:11:29.053012Z",
     "iopub.status.busy": "2025-01-22T13:11:29.052717Z",
     "iopub.status.idle": "2025-01-22T13:11:29.067008Z",
     "shell.execute_reply": "2025-01-22T13:11:29.066601Z"
    }
   },
   "outputs": [
    {
     "data": {
      "text/latex": [
       "$\\displaystyle \\operatorname{acos}{\\left(\\frac{3 a b}{\\sqrt{a^{2} + 2 b^{2}} \\sqrt{2 a^{2} + b^{2}}} \\right)}$"
      ],
      "text/plain": [
       "    ⎛            3⋅a⋅b            ⎞\n",
       "acos⎜─────────────────────────────⎟\n",
       "    ⎜   ___________    ___________⎟\n",
       "    ⎜  ╱  2      2    ╱    2    2 ⎟\n",
       "    ⎝╲╱  a  + 2⋅b  ⋅╲╱  2⋅a  + b  ⎠"
      ]
     },
     "execution_count": 26,
     "metadata": {},
     "output_type": "execute_result"
    }
   ],
   "source": [
    "sm.acos(v1.dot(v2) / (v1.magnitude()*v2.magnitude()))"
   ]
  },
  {
   "cell_type": "code",
   "execution_count": 27,
   "id": "6c585457",
   "metadata": {
    "execution": {
     "iopub.execute_input": "2025-01-22T13:11:29.068341Z",
     "iopub.status.busy": "2025-01-22T13:11:29.068201Z",
     "iopub.status.idle": "2025-01-22T13:11:29.072872Z",
     "shell.execute_reply": "2025-01-22T13:11:29.072393Z"
    }
   },
   "outputs": [
    {
     "data": {
      "text/latex": [
       "$\\displaystyle a\\hat{n}_x + b\\hat{n}_y + c\\hat{n}_z$"
      ],
      "text/plain": [
       "a n_x + b n_y + c n_z"
      ]
     },
     "execution_count": 27,
     "metadata": {},
     "output_type": "execute_result"
    }
   ],
   "source": [
    "N = me.ReferenceFrame('N')\n",
    "w = a*N.x + b*N.y + c*N.z\n",
    "w"
   ]
  },
  {
   "cell_type": "code",
   "execution_count": 28,
   "id": "8125a312",
   "metadata": {
    "execution": {
     "iopub.execute_input": "2025-01-22T13:11:29.074215Z",
     "iopub.status.busy": "2025-01-22T13:11:29.074077Z",
     "iopub.status.idle": "2025-01-22T13:11:29.078202Z",
     "shell.execute_reply": "2025-01-22T13:11:29.077771Z"
    }
   },
   "outputs": [
    {
     "data": {
      "text/latex": [
       "$\\displaystyle d\\hat{n}_x + e\\hat{n}_y + f\\hat{n}_z$"
      ],
      "text/plain": [
       "d n_x + e n_y + f n_z"
      ]
     },
     "execution_count": 28,
     "metadata": {},
     "output_type": "execute_result"
    }
   ],
   "source": [
    "x = d*N.x + e*N.y + f*N.z\n",
    "x"
   ]
  },
  {
   "cell_type": "code",
   "execution_count": 29,
   "id": "15cfd933",
   "metadata": {
    "execution": {
     "iopub.execute_input": "2025-01-22T13:11:29.079707Z",
     "iopub.status.busy": "2025-01-22T13:11:29.079331Z",
     "iopub.status.idle": "2025-01-22T13:11:29.086791Z",
     "shell.execute_reply": "2025-01-22T13:11:29.086408Z"
    }
   },
   "outputs": [
    {
     "data": {
      "text/latex": [
       "$\\displaystyle (b f - c e)\\hat{n}_x + (- a f + c d)\\hat{n}_y + (a e - b d)\\hat{n}_z$"
      ],
      "text/plain": [
       "(b⋅f - c⋅e) n_x + (-a⋅f + c⋅d) n_y + (a⋅e - b⋅d) n_z"
      ]
     },
     "execution_count": 29,
     "metadata": {},
     "output_type": "execute_result"
    }
   ],
   "source": [
    "me.cross(w, x)"
   ]
  },
  {
   "cell_type": "code",
   "execution_count": 30,
   "id": "77be0487",
   "metadata": {
    "execution": {
     "iopub.execute_input": "2025-01-22T13:11:29.088194Z",
     "iopub.status.busy": "2025-01-22T13:11:29.087922Z",
     "iopub.status.idle": "2025-01-22T13:11:29.094705Z",
     "shell.execute_reply": "2025-01-22T13:11:29.094223Z"
    }
   },
   "outputs": [
    {
     "data": {
      "text/latex": [
       "$\\displaystyle (b f - c e)\\hat{n}_x + (- a f + c d)\\hat{n}_y + (a e - b d)\\hat{n}_z$"
      ],
      "text/plain": [
       "(b⋅f - c⋅e) n_x + (-a⋅f + c⋅d) n_y + (a⋅e - b⋅d) n_z"
      ]
     },
     "execution_count": 30,
     "metadata": {},
     "output_type": "execute_result"
    }
   ],
   "source": [
    "w.cross(x)"
   ]
  },
  {
   "cell_type": "code",
   "execution_count": 31,
   "id": "4ca18162",
   "metadata": {
    "execution": {
     "iopub.execute_input": "2025-01-22T13:11:29.096132Z",
     "iopub.status.busy": "2025-01-22T13:11:29.095869Z",
     "iopub.status.idle": "2025-01-22T13:11:29.103731Z",
     "shell.execute_reply": "2025-01-22T13:11:29.103256Z"
    }
   },
   "outputs": [
    {
     "data": {
      "text/latex": [
       "$\\displaystyle \\sqrt{36077}$"
      ],
      "text/plain": [
       "√36077"
      ]
     },
     "execution_count": 31,
     "metadata": {},
     "output_type": "execute_result"
    }
   ],
   "source": [
    "N = me.ReferenceFrame('N')\n",
    "\n",
    "p1 = 23*N.x - 12* N.y\n",
    "p2 = 16*N.x + 2*N.y - 4*N.z\n",
    "p3 = N.x + 14*N.z\n",
    "\n",
    "me.cross(p2 - p1, p3 - p1).magnitude() / 2"
   ]
  },
  {
   "cell_type": "code",
   "execution_count": 32,
   "id": "6f464bc7",
   "metadata": {
    "execution": {
     "iopub.execute_input": "2025-01-22T13:11:29.105185Z",
     "iopub.status.busy": "2025-01-22T13:11:29.104881Z",
     "iopub.status.idle": "2025-01-22T13:11:29.109913Z",
     "shell.execute_reply": "2025-01-22T13:11:29.109438Z"
    }
   },
   "outputs": [
    {
     "data": {
      "text/latex": [
       "$\\displaystyle a\\hat{a}_x + b\\hat{n}_y$"
      ],
      "text/plain": [
       "a a_x + b n_y"
      ]
     },
     "execution_count": 32,
     "metadata": {},
     "output_type": "execute_result"
    }
   ],
   "source": [
    "N = me.ReferenceFrame('N')\n",
    "A = me.ReferenceFrame('A')\n",
    "\n",
    "a, b, theta = sm.symbols('a, b, theta')\n",
    "\n",
    "v = a*A.x + b*N.y\n",
    "v"
   ]
  },
  {
   "cell_type": "code",
   "execution_count": 33,
   "id": "7ba7d688",
   "metadata": {
    "execution": {
     "iopub.execute_input": "2025-01-22T13:11:29.111332Z",
     "iopub.status.busy": "2025-01-22T13:11:29.111096Z",
     "iopub.status.idle": "2025-01-22T13:11:29.115137Z",
     "shell.execute_reply": "2025-01-22T13:11:29.114633Z"
    }
   },
   "outputs": [
    {
     "data": {
      "text/latex": [
       "$\\displaystyle 2 a\\hat{a}_x + 2 b\\hat{n}_y$"
      ],
      "text/plain": [
       "2⋅a a_x + 2⋅b n_y"
      ]
     },
     "execution_count": 33,
     "metadata": {},
     "output_type": "execute_result"
    }
   ],
   "source": [
    "v + v"
   ]
  },
  {
   "cell_type": "code",
   "execution_count": 34,
   "id": "4d6ee6d5",
   "metadata": {
    "execution": {
     "iopub.execute_input": "2025-01-22T13:11:29.116591Z",
     "iopub.status.busy": "2025-01-22T13:11:29.116298Z",
     "iopub.status.idle": "2025-01-22T13:11:29.124183Z",
     "shell.execute_reply": "2025-01-22T13:11:29.123746Z"
    }
   },
   "outputs": [
    {
     "data": {
      "text/latex": [
       "$\\displaystyle a \\cos{\\left(\\theta \\right)}\\hat{n}_x + (a \\sin{\\left(\\theta \\right)} + b)\\hat{n}_y$"
      ],
      "text/plain": [
       "a⋅cos(θ) n_x + (a⋅sin(θ) + b) n_y"
      ]
     },
     "execution_count": 34,
     "metadata": {},
     "output_type": "execute_result"
    }
   ],
   "source": [
    "A.orient_axis(N, theta, N.z)\n",
    "\n",
    "v.express(N)"
   ]
  },
  {
   "cell_type": "code",
   "execution_count": 35,
   "id": "0e5dab58",
   "metadata": {
    "execution": {
     "iopub.execute_input": "2025-01-22T13:11:29.125438Z",
     "iopub.status.busy": "2025-01-22T13:11:29.125301Z",
     "iopub.status.idle": "2025-01-22T13:11:29.130178Z",
     "shell.execute_reply": "2025-01-22T13:11:29.129783Z"
    }
   },
   "outputs": [
    {
     "data": {
      "text/latex": [
       "$\\displaystyle (a + b \\sin{\\left(\\theta \\right)})\\hat{a}_x + b \\cos{\\left(\\theta \\right)}\\hat{a}_y$"
      ],
      "text/plain": [
       "(a + b⋅sin(θ)) a_x + b⋅cos(θ) a_y"
      ]
     },
     "execution_count": 35,
     "metadata": {},
     "output_type": "execute_result"
    }
   ],
   "source": [
    "v.express(A)"
   ]
  },
  {
   "cell_type": "code",
   "execution_count": 36,
   "id": "3b811193",
   "metadata": {
    "execution": {
     "iopub.execute_input": "2025-01-22T13:11:29.131620Z",
     "iopub.status.busy": "2025-01-22T13:11:29.131264Z",
     "iopub.status.idle": "2025-01-22T13:11:29.135546Z",
     "shell.execute_reply": "2025-01-22T13:11:29.135063Z"
    }
   },
   "outputs": [],
   "source": [
    "q1, q2, q3, q4, q5 = sm.symbols('q1, q2, q3, q4, q5')\n",
    "l1, l2, l3, l4 = sm.symbols('l1, l2, l3, l4')\n",
    "N = me.ReferenceFrame('N')\n",
    "A = me.ReferenceFrame('A')\n",
    "B = me.ReferenceFrame('B')\n",
    "C = me.ReferenceFrame('C')"
   ]
  },
  {
   "cell_type": "code",
   "execution_count": 37,
   "id": "9e47a068",
   "metadata": {
    "execution": {
     "iopub.execute_input": "2025-01-22T13:11:29.136904Z",
     "iopub.status.busy": "2025-01-22T13:11:29.136753Z",
     "iopub.status.idle": "2025-01-22T13:11:29.142743Z",
     "shell.execute_reply": "2025-01-22T13:11:29.142364Z"
    }
   },
   "outputs": [],
   "source": [
    "A.orient_body_fixed(N, (q1, q2, 0), 'ZXZ')"
   ]
  },
  {
   "cell_type": "code",
   "execution_count": 38,
   "id": "2350bb35",
   "metadata": {
    "execution": {
     "iopub.execute_input": "2025-01-22T13:11:29.144068Z",
     "iopub.status.busy": "2025-01-22T13:11:29.143897Z",
     "iopub.status.idle": "2025-01-22T13:11:29.148452Z",
     "shell.execute_reply": "2025-01-22T13:11:29.148037Z"
    }
   },
   "outputs": [],
   "source": [
    "B.orient_axis(A, q3, A.x)"
   ]
  },
  {
   "cell_type": "code",
   "execution_count": 39,
   "id": "e9ee4446",
   "metadata": {
    "execution": {
     "iopub.execute_input": "2025-01-22T13:11:29.149743Z",
     "iopub.status.busy": "2025-01-22T13:11:29.149597Z",
     "iopub.status.idle": "2025-01-22T13:11:29.155105Z",
     "shell.execute_reply": "2025-01-22T13:11:29.154590Z"
    }
   },
   "outputs": [],
   "source": [
    "C.orient_body_fixed(B, (q4, q5, 0), 'XZX')"
   ]
  },
  {
   "cell_type": "code",
   "execution_count": 40,
   "id": "d59a2d5f",
   "metadata": {
    "execution": {
     "iopub.execute_input": "2025-01-22T13:11:29.156516Z",
     "iopub.status.busy": "2025-01-22T13:11:29.156223Z",
     "iopub.status.idle": "2025-01-22T13:11:29.159352Z",
     "shell.execute_reply": "2025-01-22T13:11:29.158952Z"
    }
   },
   "outputs": [],
   "source": [
    "R_P1_P2 = l1*A.z\n",
    "R_P2_P3 = l2*B.z\n",
    "R_P3_P4 = l3*C.z - l4*C.y"
   ]
  },
  {
   "cell_type": "code",
   "execution_count": 41,
   "id": "35148f24",
   "metadata": {
    "execution": {
     "iopub.execute_input": "2025-01-22T13:11:29.160669Z",
     "iopub.status.busy": "2025-01-22T13:11:29.160521Z",
     "iopub.status.idle": "2025-01-22T13:11:29.164618Z",
     "shell.execute_reply": "2025-01-22T13:11:29.164124Z"
    }
   },
   "outputs": [
    {
     "data": {
      "text/latex": [
       "$\\displaystyle l_{1}\\hat{a}_z + l_{2}\\hat{b}_z -  l_{4}\\hat{c}_y + l_{3}\\hat{c}_z$"
      ],
      "text/plain": [
       "l₁ a_z + l₂ b_z + -l₄ c_y + l₃ c_z"
      ]
     },
     "execution_count": 41,
     "metadata": {},
     "output_type": "execute_result"
    }
   ],
   "source": [
    "R_P1_P4 = R_P1_P2 + R_P2_P3 + R_P3_P4\n",
    "R_P1_P4"
   ]
  },
  {
   "cell_type": "code",
   "execution_count": 42,
   "id": "eecd6693",
   "metadata": {
    "execution": {
     "iopub.execute_input": "2025-01-22T13:11:29.166024Z",
     "iopub.status.busy": "2025-01-22T13:11:29.165738Z",
     "iopub.status.idle": "2025-01-22T13:11:29.231898Z",
     "shell.execute_reply": "2025-01-22T13:11:29.231469Z"
    }
   },
   "outputs": [
    {
     "data": {
      "text/latex": [
       "$\\displaystyle (l_{1} \\sin{\\left(q_{1} \\right)} \\sin{\\left(q_{2} \\right)} + l_{2} \\left(\\sin{\\left(q_{1} \\right)} \\sin{\\left(q_{2} \\right)} \\cos{\\left(q_{3} \\right)} + \\sin{\\left(q_{1} \\right)} \\sin{\\left(q_{3} \\right)} \\cos{\\left(q_{2} \\right)}\\right) + l_{3} \\left(- \\left(\\sin{\\left(q_{1} \\right)} \\sin{\\left(q_{2} \\right)} \\sin{\\left(q_{3} \\right)} - \\sin{\\left(q_{1} \\right)} \\cos{\\left(q_{2} \\right)} \\cos{\\left(q_{3} \\right)}\\right) \\sin{\\left(q_{4} \\right)} + \\left(\\sin{\\left(q_{1} \\right)} \\sin{\\left(q_{2} \\right)} \\cos{\\left(q_{3} \\right)} + \\sin{\\left(q_{1} \\right)} \\sin{\\left(q_{3} \\right)} \\cos{\\left(q_{2} \\right)}\\right) \\cos{\\left(q_{4} \\right)}\\right) - l_{4} \\left(\\left(\\sin{\\left(q_{1} \\right)} \\sin{\\left(q_{2} \\right)} \\sin{\\left(q_{3} \\right)} - \\sin{\\left(q_{1} \\right)} \\cos{\\left(q_{2} \\right)} \\cos{\\left(q_{3} \\right)}\\right) \\cos{\\left(q_{4} \\right)} \\cos{\\left(q_{5} \\right)} + \\left(\\sin{\\left(q_{1} \\right)} \\sin{\\left(q_{2} \\right)} \\cos{\\left(q_{3} \\right)} + \\sin{\\left(q_{1} \\right)} \\sin{\\left(q_{3} \\right)} \\cos{\\left(q_{2} \\right)}\\right) \\sin{\\left(q_{4} \\right)} \\cos{\\left(q_{5} \\right)} - \\sin{\\left(q_{5} \\right)} \\cos{\\left(q_{1} \\right)}\\right))\\hat{n}_x + (- l_{1} \\sin{\\left(q_{2} \\right)} \\cos{\\left(q_{1} \\right)} + l_{2} \\left(- \\sin{\\left(q_{2} \\right)} \\cos{\\left(q_{1} \\right)} \\cos{\\left(q_{3} \\right)} - \\sin{\\left(q_{3} \\right)} \\cos{\\left(q_{1} \\right)} \\cos{\\left(q_{2} \\right)}\\right) + l_{3} \\left(- \\left(- \\sin{\\left(q_{2} \\right)} \\sin{\\left(q_{3} \\right)} \\cos{\\left(q_{1} \\right)} + \\cos{\\left(q_{1} \\right)} \\cos{\\left(q_{2} \\right)} \\cos{\\left(q_{3} \\right)}\\right) \\sin{\\left(q_{4} \\right)} + \\left(- \\sin{\\left(q_{2} \\right)} \\cos{\\left(q_{1} \\right)} \\cos{\\left(q_{3} \\right)} - \\sin{\\left(q_{3} \\right)} \\cos{\\left(q_{1} \\right)} \\cos{\\left(q_{2} \\right)}\\right) \\cos{\\left(q_{4} \\right)}\\right) - l_{4} \\left(\\left(- \\sin{\\left(q_{2} \\right)} \\sin{\\left(q_{3} \\right)} \\cos{\\left(q_{1} \\right)} + \\cos{\\left(q_{1} \\right)} \\cos{\\left(q_{2} \\right)} \\cos{\\left(q_{3} \\right)}\\right) \\cos{\\left(q_{4} \\right)} \\cos{\\left(q_{5} \\right)} + \\left(- \\sin{\\left(q_{2} \\right)} \\cos{\\left(q_{1} \\right)} \\cos{\\left(q_{3} \\right)} - \\sin{\\left(q_{3} \\right)} \\cos{\\left(q_{1} \\right)} \\cos{\\left(q_{2} \\right)}\\right) \\sin{\\left(q_{4} \\right)} \\cos{\\left(q_{5} \\right)} - \\sin{\\left(q_{1} \\right)} \\sin{\\left(q_{5} \\right)}\\right))\\hat{n}_y + (l_{1} \\cos{\\left(q_{2} \\right)} + l_{2} \\left(- \\sin{\\left(q_{2} \\right)} \\sin{\\left(q_{3} \\right)} + \\cos{\\left(q_{2} \\right)} \\cos{\\left(q_{3} \\right)}\\right) + l_{3} \\left(\\left(- \\sin{\\left(q_{2} \\right)} \\sin{\\left(q_{3} \\right)} + \\cos{\\left(q_{2} \\right)} \\cos{\\left(q_{3} \\right)}\\right) \\cos{\\left(q_{4} \\right)} - \\left(\\sin{\\left(q_{2} \\right)} \\cos{\\left(q_{3} \\right)} + \\sin{\\left(q_{3} \\right)} \\cos{\\left(q_{2} \\right)}\\right) \\sin{\\left(q_{4} \\right)}\\right) - l_{4} \\left(\\left(- \\sin{\\left(q_{2} \\right)} \\sin{\\left(q_{3} \\right)} + \\cos{\\left(q_{2} \\right)} \\cos{\\left(q_{3} \\right)}\\right) \\sin{\\left(q_{4} \\right)} \\cos{\\left(q_{5} \\right)} + \\left(\\sin{\\left(q_{2} \\right)} \\cos{\\left(q_{3} \\right)} + \\sin{\\left(q_{3} \\right)} \\cos{\\left(q_{2} \\right)}\\right) \\cos{\\left(q_{4} \\right)} \\cos{\\left(q_{5} \\right)}\\right))\\hat{n}_z$"
      ],
      "text/plain": [
       "(l₁⋅sin(q₁)⋅sin(q₂) + l₂⋅(sin(q₁)⋅sin(q₂)⋅cos(q₃) + sin(q₁)⋅sin(q₃)⋅cos(q₂)) +\n",
       " l₃⋅(-(sin(q₁)⋅sin(q₂)⋅sin(q₃) - sin(q₁)⋅cos(q₂)⋅cos(q₃))⋅sin(q₄) + (sin(q₁)⋅s\n",
       "in(q₂)⋅cos(q₃) + sin(q₁)⋅sin(q₃)⋅cos(q₂))⋅cos(q₄)) - l₄⋅((sin(q₁)⋅sin(q₂)⋅sin(\n",
       "q₃) - sin(q₁)⋅cos(q₂)⋅cos(q₃))⋅cos(q₄)⋅cos(q₅) + (sin(q₁)⋅sin(q₂)⋅cos(q₃) + si\n",
       "n(q₁)⋅sin(q₃)⋅cos(q₂))⋅sin(q₄)⋅cos(q₅) - sin(q₅)⋅cos(q₁))) n_x + (-l₁⋅sin(q₂)⋅\n",
       "cos(q₁) + l₂⋅(-sin(q₂)⋅cos(q₁)⋅cos(q₃) - sin(q₃)⋅cos(q₁)⋅cos(q₂)) + l₃⋅(-(-sin\n",
       "(q₂)⋅sin(q₃)⋅cos(q₁) + cos(q₁)⋅cos(q₂)⋅cos(q₃))⋅sin(q₄) + (-sin(q₂)⋅cos(q₁)⋅co\n",
       "s(q₃) - sin(q₃)⋅cos(q₁)⋅cos(q₂))⋅cos(q₄)) - l₄⋅((-sin(q₂)⋅sin(q₃)⋅cos(q₁) + co\n",
       "s(q₁)⋅cos(q₂)⋅cos(q₃))⋅cos(q₄)⋅cos(q₅) + (-sin(q₂)⋅cos(q₁)⋅cos(q₃) - sin(q₃)⋅c\n",
       "os(q₁)⋅cos(q₂))⋅sin(q₄)⋅cos(q₅) - sin(q₁)⋅sin(q₅))) n_y + (l₁⋅cos(q₂) + l₂⋅(-s\n",
       "in(q₂)⋅sin(q₃) + cos(q₂)⋅cos(q₃)) + l₃⋅((-sin(q₂)⋅sin(q₃) + cos(q₂)⋅cos(q₃))⋅c\n",
       "os(q₄) - (sin(q₂)⋅cos(q₃) + sin(q₃)⋅cos(q₂))⋅sin(q₄)) - l₄⋅((-sin(q₂)⋅sin(q₃)\n",
       "+ cos(q₂)⋅cos(q₃))⋅sin(q₄)⋅cos(q₅) + (sin(q₂)⋅cos(q₃) + sin(q₃)⋅cos(q₂))⋅cos(q\n",
       "₄)⋅cos(q₅))) n_z"
      ]
     },
     "execution_count": 42,
     "metadata": {},
     "output_type": "execute_result"
    }
   ],
   "source": [
    "R_P1_P4.express(N)"
   ]
  },
  {
   "cell_type": "code",
   "execution_count": 43,
   "id": "78bc3650",
   "metadata": {
    "execution": {
     "iopub.execute_input": "2025-01-22T13:11:29.233515Z",
     "iopub.status.busy": "2025-01-22T13:11:29.233339Z",
     "iopub.status.idle": "2025-01-22T13:11:29.238486Z",
     "shell.execute_reply": "2025-01-22T13:11:29.237960Z"
    }
   },
   "outputs": [
    {
     "data": {
      "text/latex": [
       "$\\displaystyle l_{1} \\sin{\\left(q_{1} \\right)} \\sin{\\left(q_{2} \\right)}\\hat{n}_x -  l_{1} \\sin{\\left(q_{2} \\right)} \\cos{\\left(q_{1} \\right)}\\hat{n}_y + l_{1} \\cos{\\left(q_{2} \\right)}\\hat{n}_z$"
      ],
      "text/plain": [
       "l₁⋅sin(q₁)⋅sin(q₂) n_x + -l₁⋅sin(q₂)⋅cos(q₁) n_y + l₁⋅cos(q₂) n_z"
      ]
     },
     "execution_count": 43,
     "metadata": {},
     "output_type": "execute_result"
    }
   ],
   "source": [
    "R_P1_P2.express(N)"
   ]
  },
  {
   "cell_type": "code",
   "execution_count": 44,
   "id": "96088993",
   "metadata": {
    "execution": {
     "iopub.execute_input": "2025-01-22T13:11:29.240129Z",
     "iopub.status.busy": "2025-01-22T13:11:29.239809Z",
     "iopub.status.idle": "2025-01-22T13:11:29.244015Z",
     "shell.execute_reply": "2025-01-22T13:11:29.243534Z"
    }
   },
   "outputs": [
    {
     "data": {
      "text/latex": [
       "$\\displaystyle \\left\\{l_{1}, q_{1}, q_{2}\\right\\}$"
      ],
      "text/plain": [
       "{l₁, q₁, q₂}"
      ]
     },
     "execution_count": 44,
     "metadata": {},
     "output_type": "execute_result"
    }
   ],
   "source": [
    "R_P1_P2.free_symbols(N)"
   ]
  },
  {
   "cell_type": "code",
   "execution_count": 45,
   "id": "63c70b82",
   "metadata": {
    "execution": {
     "iopub.execute_input": "2025-01-22T13:11:29.245683Z",
     "iopub.status.busy": "2025-01-22T13:11:29.245279Z",
     "iopub.status.idle": "2025-01-22T13:11:29.249344Z",
     "shell.execute_reply": "2025-01-22T13:11:29.248960Z"
    }
   },
   "outputs": [
    {
     "data": {
      "text/latex": [
       "$\\displaystyle \\left\\{l_{1}\\right\\}$"
      ],
      "text/plain": [
       "{l₁}"
      ]
     },
     "execution_count": 45,
     "metadata": {},
     "output_type": "execute_result"
    }
   ],
   "source": [
    "R_P1_P2.free_symbols(A)"
   ]
  },
  {
   "cell_type": "code",
   "execution_count": 46,
   "id": "7393faf7",
   "metadata": {
    "execution": {
     "iopub.execute_input": "2025-01-22T13:11:29.250849Z",
     "iopub.status.busy": "2025-01-22T13:11:29.250553Z",
     "iopub.status.idle": "2025-01-22T13:11:29.256014Z",
     "shell.execute_reply": "2025-01-22T13:11:29.255530Z"
    }
   },
   "outputs": [
    {
     "data": {
      "text/latex": [
       "$\\displaystyle \\left\\{l_{1}, l_{2}, l_{3}, l_{4}, q_{1}, q_{2}, q_{3}, q_{4}, q_{5}\\right\\}$"
      ],
      "text/plain": [
       "{l₁, l₂, l₃, l₄, q₁, q₂, q₃, q₄, q₅}"
      ]
     },
     "execution_count": 46,
     "metadata": {},
     "output_type": "execute_result"
    }
   ],
   "source": [
    "R_P1_P4.free_symbols(N)"
   ]
  }
 ],
 "metadata": {
  "kernelspec": {
   "display_name": "Python 3 (ipykernel)",
   "language": "python",
   "name": "python3"
  },
  "language_info": {
   "codemirror_mode": {
    "name": "ipython",
    "version": 3
   },
   "file_extension": ".py",
   "mimetype": "text/x-python",
   "name": "python",
   "nbconvert_exporter": "python",
   "pygments_lexer": "ipython3",
   "version": "3.11.11"
  }
 },
 "nbformat": 4,
 "nbformat_minor": 5
}