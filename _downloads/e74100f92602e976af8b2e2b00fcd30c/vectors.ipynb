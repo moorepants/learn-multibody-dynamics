{
 "cells": [
  {
   "cell_type": "code",
   "execution_count": 1,
   "id": "f3d6de5b",
   "metadata": {
    "execution": {
     "iopub.execute_input": "2025-09-11T11:38:37.999667Z",
     "iopub.status.busy": "2025-09-11T11:38:37.999513Z",
     "iopub.status.idle": "2025-09-11T11:38:38.338187Z",
     "shell.execute_reply": "2025-09-11T11:38:38.337618Z"
    }
   },
   "outputs": [],
   "source": [
    "import sympy as sm\n",
    "import sympy.physics.mechanics as me\n",
    "sm.init_printing(use_latex='mathjax')"
   ]
  },
  {
   "cell_type": "code",
   "execution_count": 2,
   "id": "be2653b6",
   "metadata": {
    "execution": {
     "iopub.execute_input": "2025-09-11T11:38:38.339987Z",
     "iopub.status.busy": "2025-09-11T11:38:38.339793Z",
     "iopub.status.idle": "2025-09-11T11:38:38.343443Z",
     "shell.execute_reply": "2025-09-11T11:38:38.342891Z"
    }
   },
   "outputs": [],
   "source": [
    "class ReferenceFrame(me.ReferenceFrame):\n",
    "\n",
    "    def __init__(self, *args, **kwargs):\n",
    "\n",
    "        kwargs.pop('latexs', None)\n",
    "\n",
    "        lab = args[0].lower()\n",
    "        tex = r'\\hat{{{}}}_{}'\n",
    "\n",
    "        super(ReferenceFrame, self).__init__(*args,\n",
    "                                             latexs=(tex.format(lab, 'x'),\n",
    "                                                     tex.format(lab, 'y'),\n",
    "                                                     tex.format(lab, 'z')),\n",
    "                                             **kwargs)\n",
    "me.ReferenceFrame = ReferenceFrame"
   ]
  },
  {
   "cell_type": "code",
   "execution_count": 3,
   "id": "5c7fafb3",
   "metadata": {
    "execution": {
     "iopub.execute_input": "2025-09-11T11:38:38.344839Z",
     "iopub.status.busy": "2025-09-11T11:38:38.344682Z",
     "iopub.status.idle": "2025-09-11T11:38:38.347521Z",
     "shell.execute_reply": "2025-09-11T11:38:38.346976Z"
    }
   },
   "outputs": [],
   "source": [
    "N = me.ReferenceFrame('N')"
   ]
  },
  {
   "cell_type": "code",
   "execution_count": 4,
   "id": "b318b03e",
   "metadata": {
    "execution": {
     "iopub.execute_input": "2025-09-11T11:38:38.348823Z",
     "iopub.status.busy": "2025-09-11T11:38:38.348672Z",
     "iopub.status.idle": "2025-09-11T11:38:38.351101Z",
     "shell.execute_reply": "2025-09-11T11:38:38.350684Z"
    }
   },
   "outputs": [],
   "source": [
    "a, b, c, d, e, f = sm.symbols('a, b, c, d, e, f')"
   ]
  },
  {
   "cell_type": "code",
   "execution_count": 5,
   "id": "02f9e76c",
   "metadata": {
    "execution": {
     "iopub.execute_input": "2025-09-11T11:38:38.352382Z",
     "iopub.status.busy": "2025-09-11T11:38:38.352221Z",
     "iopub.status.idle": "2025-09-11T11:38:38.356626Z",
     "shell.execute_reply": "2025-09-11T11:38:38.356093Z"
    }
   },
   "outputs": [
    {
     "data": {
      "text/latex": [
       "$\\displaystyle a\\hat{n}_x$"
      ],
      "text/plain": [
       "a n_x"
      ]
     },
     "execution_count": 5,
     "metadata": {},
     "output_type": "execute_result"
    }
   ],
   "source": [
    "v = a*N.x\n",
    "v"
   ]
  },
  {
   "cell_type": "code",
   "execution_count": 6,
   "id": "3d0ea533",
   "metadata": {
    "execution": {
     "iopub.execute_input": "2025-09-11T11:38:38.357868Z",
     "iopub.status.busy": "2025-09-11T11:38:38.357722Z",
     "iopub.status.idle": "2025-09-11T11:38:38.362444Z",
     "shell.execute_reply": "2025-09-11T11:38:38.362035Z"
    }
   },
   "outputs": [
    {
     "data": {
      "text/latex": [
       "$\\displaystyle \\left[\\begin{matrix}a\\\\0\\\\0\\end{matrix}\\right]$"
      ],
      "text/plain": [
       "⎡a⎤\n",
       "⎢ ⎥\n",
       "⎢0⎥\n",
       "⎢ ⎥\n",
       "⎣0⎦"
      ]
     },
     "execution_count": 6,
     "metadata": {},
     "output_type": "execute_result"
    }
   ],
   "source": [
    "v.to_matrix(N)"
   ]
  },
  {
   "cell_type": "code",
   "execution_count": 7,
   "id": "8eeccebb",
   "metadata": {
    "execution": {
     "iopub.execute_input": "2025-09-11T11:38:38.363665Z",
     "iopub.status.busy": "2025-09-11T11:38:38.363531Z",
     "iopub.status.idle": "2025-09-11T11:38:38.367661Z",
     "shell.execute_reply": "2025-09-11T11:38:38.367128Z"
    }
   },
   "outputs": [
    {
     "data": {
      "text/latex": [
       "$\\displaystyle a\\hat{n}_x + b\\hat{n}_y + c\\hat{n}_z$"
      ],
      "text/plain": [
       "a n_x + b n_y + c n_z"
      ]
     },
     "execution_count": 7,
     "metadata": {},
     "output_type": "execute_result"
    }
   ],
   "source": [
    "w = a*N.x + b*N.y + c*N.z\n",
    "w"
   ]
  },
  {
   "cell_type": "code",
   "execution_count": 8,
   "id": "fd6bf248",
   "metadata": {
    "execution": {
     "iopub.execute_input": "2025-09-11T11:38:38.368873Z",
     "iopub.status.busy": "2025-09-11T11:38:38.368725Z",
     "iopub.status.idle": "2025-09-11T11:38:38.373574Z",
     "shell.execute_reply": "2025-09-11T11:38:38.373052Z"
    }
   },
   "outputs": [
    {
     "data": {
      "text/latex": [
       "$\\displaystyle \\left[\\begin{matrix}a\\\\b\\\\c\\end{matrix}\\right]$"
      ],
      "text/plain": [
       "⎡a⎤\n",
       "⎢ ⎥\n",
       "⎢b⎥\n",
       "⎢ ⎥\n",
       "⎣c⎦"
      ]
     },
     "execution_count": 8,
     "metadata": {},
     "output_type": "execute_result"
    }
   ],
   "source": [
    "w.to_matrix(N)"
   ]
  },
  {
   "cell_type": "code",
   "execution_count": 9,
   "id": "b8ca1787",
   "metadata": {
    "execution": {
     "iopub.execute_input": "2025-09-11T11:38:38.374911Z",
     "iopub.status.busy": "2025-09-11T11:38:38.374760Z",
     "iopub.status.idle": "2025-09-11T11:38:38.378759Z",
     "shell.execute_reply": "2025-09-11T11:38:38.378265Z"
    }
   },
   "outputs": [
    {
     "data": {
      "text/latex": [
       "$\\displaystyle d\\hat{n}_x + e\\hat{n}_y + f\\hat{n}_z$"
      ],
      "text/plain": [
       "d n_x + e n_y + f n_z"
      ]
     },
     "execution_count": 9,
     "metadata": {},
     "output_type": "execute_result"
    }
   ],
   "source": [
    "x = d*N.x + e*N.y + f*N.z\n",
    "x"
   ]
  },
  {
   "cell_type": "code",
   "execution_count": 10,
   "id": "332410f7",
   "metadata": {
    "execution": {
     "iopub.execute_input": "2025-09-11T11:38:38.380092Z",
     "iopub.status.busy": "2025-09-11T11:38:38.379942Z",
     "iopub.status.idle": "2025-09-11T11:38:38.384446Z",
     "shell.execute_reply": "2025-09-11T11:38:38.383959Z"
    }
   },
   "outputs": [
    {
     "data": {
      "text/latex": [
       "$\\displaystyle (a + d)\\hat{n}_x + (b + e)\\hat{n}_y + (c + f)\\hat{n}_z$"
      ],
      "text/plain": [
       "(a + d) n_x + (b + e) n_y + (c + f) n_z"
      ]
     },
     "execution_count": 10,
     "metadata": {},
     "output_type": "execute_result"
    }
   ],
   "source": [
    "w + x"
   ]
  },
  {
   "cell_type": "code",
   "execution_count": 11,
   "id": "641043fd",
   "metadata": {
    "execution": {
     "iopub.execute_input": "2025-09-11T11:38:38.385766Z",
     "iopub.status.busy": "2025-09-11T11:38:38.385619Z",
     "iopub.status.idle": "2025-09-11T11:38:38.390545Z",
     "shell.execute_reply": "2025-09-11T11:38:38.390026Z"
    }
   },
   "outputs": [
    {
     "data": {
      "text/latex": [
       "$\\displaystyle 2 a\\hat{n}_x + 2 b\\hat{n}_y + 2 c\\hat{n}_z$"
      ],
      "text/plain": [
       "2⋅a n_x + 2⋅b n_y + 2⋅c n_z"
      ]
     },
     "execution_count": 11,
     "metadata": {},
     "output_type": "execute_result"
    }
   ],
   "source": [
    "y = 2*w\n",
    "y"
   ]
  },
  {
   "cell_type": "code",
   "execution_count": 12,
   "id": "e221f9ca",
   "metadata": {
    "execution": {
     "iopub.execute_input": "2025-09-11T11:38:38.391875Z",
     "iopub.status.busy": "2025-09-11T11:38:38.391727Z",
     "iopub.status.idle": "2025-09-11T11:38:38.395666Z",
     "shell.execute_reply": "2025-09-11T11:38:38.395160Z"
    }
   },
   "outputs": [
    {
     "data": {
      "text/latex": [
       "$\\displaystyle -  a\\hat{n}_x -  b\\hat{n}_y -  c\\hat{n}_z$"
      ],
      "text/plain": [
       "-a n_x + -b n_y + -c n_z"
      ]
     },
     "execution_count": 12,
     "metadata": {},
     "output_type": "execute_result"
    }
   ],
   "source": [
    "z = -w\n",
    "z"
   ]
  },
  {
   "cell_type": "code",
   "execution_count": 13,
   "id": "7db447c2",
   "metadata": {
    "execution": {
     "iopub.execute_input": "2025-09-11T11:38:38.396939Z",
     "iopub.status.busy": "2025-09-11T11:38:38.396796Z",
     "iopub.status.idle": "2025-09-11T11:38:38.399317Z",
     "shell.execute_reply": "2025-09-11T11:38:38.398925Z"
    }
   },
   "outputs": [],
   "source": [
    "N = me.ReferenceFrame('N')\n",
    "l, theta = sm.symbols('l, theta')"
   ]
  },
  {
   "cell_type": "code",
   "execution_count": 14,
   "id": "02ec3a9b",
   "metadata": {
    "execution": {
     "iopub.execute_input": "2025-09-11T11:38:38.400521Z",
     "iopub.status.busy": "2025-09-11T11:38:38.400374Z",
     "iopub.status.idle": "2025-09-11T11:38:38.408307Z",
     "shell.execute_reply": "2025-09-11T11:38:38.407773Z"
    }
   },
   "outputs": [
    {
     "data": {
      "text/latex": [
       "$\\displaystyle \\frac{\\sqrt{2} l}{2}\\hat{n}_x + \\frac{\\sqrt{2} l}{2}\\hat{n}_y$"
      ],
      "text/plain": [
       "√2⋅l       √2⋅l\n",
       "──── n_x + ──── n_y\n",
       " 2          2"
      ]
     },
     "execution_count": 14,
     "metadata": {},
     "output_type": "execute_result"
    }
   ],
   "source": [
    "v1 = l*sm.cos(sm.pi/4)*N.x + l*sm.sin(sm.pi/4)*N.y\n",
    "v1"
   ]
  },
  {
   "cell_type": "code",
   "execution_count": 15,
   "id": "b4e8d57e",
   "metadata": {
    "execution": {
     "iopub.execute_input": "2025-09-11T11:38:38.409625Z",
     "iopub.status.busy": "2025-09-11T11:38:38.409478Z",
     "iopub.status.idle": "2025-09-11T11:38:38.412912Z",
     "shell.execute_reply": "2025-09-11T11:38:38.412439Z"
    }
   },
   "outputs": [
    {
     "data": {
      "text/latex": [
       "$\\displaystyle - 10\\hat{n}_y$"
      ],
      "text/plain": [
       "-10 n_y"
      ]
     },
     "execution_count": 15,
     "metadata": {},
     "output_type": "execute_result"
    }
   ],
   "source": [
    "v2 = -10*N.y\n",
    "v2"
   ]
  },
  {
   "cell_type": "code",
   "execution_count": 16,
   "id": "9c476bf1",
   "metadata": {
    "execution": {
     "iopub.execute_input": "2025-09-11T11:38:38.414118Z",
     "iopub.status.busy": "2025-09-11T11:38:38.413970Z",
     "iopub.status.idle": "2025-09-11T11:38:38.419486Z",
     "shell.execute_reply": "2025-09-11T11:38:38.418980Z"
    }
   },
   "outputs": [
    {
     "data": {
      "text/latex": [
       "$\\displaystyle -  l \\sin{\\left(\\theta \\right)}\\hat{n}_x + l \\cos{\\left(\\theta \\right)}\\hat{n}_y$"
      ],
      "text/plain": [
       "-l⋅sin(θ) n_x + l⋅cos(θ) n_y"
      ]
     },
     "execution_count": 16,
     "metadata": {},
     "output_type": "execute_result"
    }
   ],
   "source": [
    "v3 = -l*sm.sin(theta)*N.x + l*sm.cos(theta)*N.y\n",
    "v3"
   ]
  },
  {
   "cell_type": "code",
   "execution_count": 17,
   "id": "159bf061",
   "metadata": {
    "execution": {
     "iopub.execute_input": "2025-09-11T11:38:38.420697Z",
     "iopub.status.busy": "2025-09-11T11:38:38.420555Z",
     "iopub.status.idle": "2025-09-11T11:38:38.426530Z",
     "shell.execute_reply": "2025-09-11T11:38:38.426143Z"
    }
   },
   "outputs": [
    {
     "data": {
      "text/latex": [
       "$\\displaystyle (5 l \\sin{\\left(\\theta \\right)} + \\frac{\\sqrt{2} l}{2})\\hat{n}_x + (- 5 l \\cos{\\left(\\theta \\right)} + \\frac{\\sqrt{2} l}{2} - 10)\\hat{n}_y$"
      ],
      "text/plain": [
       "⎛             √2⋅l⎞       ⎛              √2⋅l     ⎞\n",
       "⎜5⋅l⋅sin(θ) + ────⎟ n_x + ⎜-5⋅l⋅cos(θ) + ──── - 10⎟ n_y\n",
       "⎝              2  ⎠       ⎝               2       ⎠"
      ]
     },
     "execution_count": 17,
     "metadata": {},
     "output_type": "execute_result"
    }
   ],
   "source": [
    "v1 + v2 - 5*v3"
   ]
  },
  {
   "cell_type": "code",
   "execution_count": 18,
   "id": "90c2c83e",
   "metadata": {
    "execution": {
     "iopub.execute_input": "2025-09-11T11:38:38.427767Z",
     "iopub.status.busy": "2025-09-11T11:38:38.427632Z",
     "iopub.status.idle": "2025-09-11T11:38:38.431100Z",
     "shell.execute_reply": "2025-09-11T11:38:38.430727Z"
    }
   },
   "outputs": [],
   "source": [
    "N = me.ReferenceFrame('N')\n",
    "w = a*N.x + b*N.y + c*N.z\n",
    "x = d*N.x + e*N.y + f*N.z"
   ]
  },
  {
   "cell_type": "code",
   "execution_count": 19,
   "id": "1c5804b3",
   "metadata": {
    "execution": {
     "iopub.execute_input": "2025-09-11T11:38:38.432346Z",
     "iopub.status.busy": "2025-09-11T11:38:38.432188Z",
     "iopub.status.idle": "2025-09-11T11:38:38.437213Z",
     "shell.execute_reply": "2025-09-11T11:38:38.436701Z"
    }
   },
   "outputs": [
    {
     "data": {
      "text/latex": [
       "$\\displaystyle a d + b e + c f$"
      ],
      "text/plain": [
       "a⋅d + b⋅e + c⋅f"
      ]
     },
     "execution_count": 19,
     "metadata": {},
     "output_type": "execute_result"
    }
   ],
   "source": [
    "me.dot(w, x)"
   ]
  },
  {
   "cell_type": "code",
   "execution_count": 20,
   "id": "19d690de",
   "metadata": {
    "execution": {
     "iopub.execute_input": "2025-09-11T11:38:38.438433Z",
     "iopub.status.busy": "2025-09-11T11:38:38.438290Z",
     "iopub.status.idle": "2025-09-11T11:38:38.442445Z",
     "shell.execute_reply": "2025-09-11T11:38:38.441931Z"
    }
   },
   "outputs": [
    {
     "data": {
      "text/latex": [
       "$\\displaystyle a d + b e + c f$"
      ],
      "text/plain": [
       "a⋅d + b⋅e + c⋅f"
      ]
     },
     "execution_count": 20,
     "metadata": {},
     "output_type": "execute_result"
    }
   ],
   "source": [
    "w.dot(x)"
   ]
  },
  {
   "cell_type": "code",
   "execution_count": 21,
   "id": "cd61237c",
   "metadata": {
    "execution": {
     "iopub.execute_input": "2025-09-11T11:38:38.443641Z",
     "iopub.status.busy": "2025-09-11T11:38:38.443502Z",
     "iopub.status.idle": "2025-09-11T11:38:38.454596Z",
     "shell.execute_reply": "2025-09-11T11:38:38.454076Z"
    }
   },
   "outputs": [
    {
     "data": {
      "text/latex": [
       "$\\displaystyle \\frac{a}{\\sqrt{a^{2} + b^{2} + c^{2}}}\\hat{n}_x + \\frac{b}{\\sqrt{a^{2} + b^{2} + c^{2}}}\\hat{n}_y + \\frac{c}{\\sqrt{a^{2} + b^{2} + c^{2}}}\\hat{n}_z$"
      ],
      "text/plain": [
       "        a                       b                       c\n",
       "───────────────── n_x + ───────────────── n_y + ───────────────── n_z\n",
       "   ______________          ______________          ______________\n",
       "  ╱  2    2    2          ╱  2    2    2          ╱  2    2    2\n",
       "╲╱  a  + b  + c         ╲╱  a  + b  + c         ╲╱  a  + b  + c"
      ]
     },
     "execution_count": 21,
     "metadata": {},
     "output_type": "execute_result"
    }
   ],
   "source": [
    "w.normalize()"
   ]
  },
  {
   "cell_type": "code",
   "execution_count": 22,
   "id": "e802a1b1",
   "metadata": {
    "execution": {
     "iopub.execute_input": "2025-09-11T11:38:38.455820Z",
     "iopub.status.busy": "2025-09-11T11:38:38.455678Z",
     "iopub.status.idle": "2025-09-11T11:38:38.461662Z",
     "shell.execute_reply": "2025-09-11T11:38:38.461256Z"
    }
   },
   "outputs": [
    {
     "data": {
      "text/latex": [
       "$\\displaystyle \\frac{a}{\\sqrt{a^{2} + b^{2} + c^{2}}}\\hat{n}_x + \\frac{b}{\\sqrt{a^{2} + b^{2} + c^{2}}}\\hat{n}_y + \\frac{c}{\\sqrt{a^{2} + b^{2} + c^{2}}}\\hat{n}_z$"
      ],
      "text/plain": [
       "        a                       b                       c\n",
       "───────────────── n_x + ───────────────── n_y + ───────────────── n_z\n",
       "   ______________          ______________          ______________\n",
       "  ╱  2    2    2          ╱  2    2    2          ╱  2    2    2\n",
       "╲╱  a  + b  + c         ╲╱  a  + b  + c         ╲╱  a  + b  + c"
      ]
     },
     "execution_count": 22,
     "metadata": {},
     "output_type": "execute_result"
    }
   ],
   "source": [
    "def normalize(vector):\n",
    "    return vector/sm.sqrt(me.dot(vector, vector))\n",
    "\n",
    "normalize(w)"
   ]
  },
  {
   "cell_type": "code",
   "execution_count": 23,
   "id": "910166bf",
   "metadata": {
    "execution": {
     "iopub.execute_input": "2025-09-11T11:38:38.462938Z",
     "iopub.status.busy": "2025-09-11T11:38:38.462785Z",
     "iopub.status.idle": "2025-09-11T11:38:38.466839Z",
     "shell.execute_reply": "2025-09-11T11:38:38.466364Z"
    }
   },
   "outputs": [
    {
     "data": {
      "text/latex": [
       "$\\displaystyle \\sqrt{a^{2} + b^{2} + c^{2}}$"
      ],
      "text/plain": [
       "   ______________\n",
       "  ╱  2    2    2 \n",
       "╲╱  a  + b  + c  "
      ]
     },
     "execution_count": 23,
     "metadata": {},
     "output_type": "execute_result"
    }
   ],
   "source": [
    "w.magnitude()"
   ]
  },
  {
   "cell_type": "code",
   "execution_count": 24,
   "id": "7e403c7f",
   "metadata": {
    "execution": {
     "iopub.execute_input": "2025-09-11T11:38:38.468089Z",
     "iopub.status.busy": "2025-09-11T11:38:38.467947Z",
     "iopub.status.idle": "2025-09-11T11:38:38.473623Z",
     "shell.execute_reply": "2025-09-11T11:38:38.473101Z"
    }
   },
   "outputs": [
    {
     "data": {
      "text/latex": [
       "$\\displaystyle \\frac{a}{\\sqrt{a^{2} + b^{2} + c^{2}}}\\hat{n}_x + \\frac{b}{\\sqrt{a^{2} + b^{2} + c^{2}}}\\hat{n}_y + \\frac{c}{\\sqrt{a^{2} + b^{2} + c^{2}}}\\hat{n}_z$"
      ],
      "text/plain": [
       "        a                       b                       c\n",
       "───────────────── n_x + ───────────────── n_y + ───────────────── n_z\n",
       "   ______________          ______________          ______________\n",
       "  ╱  2    2    2          ╱  2    2    2          ╱  2    2    2\n",
       "╲╱  a  + b  + c         ╲╱  a  + b  + c         ╲╱  a  + b  + c"
      ]
     },
     "execution_count": 24,
     "metadata": {},
     "output_type": "execute_result"
    }
   ],
   "source": [
    "w/w.magnitude()"
   ]
  },
  {
   "cell_type": "code",
   "execution_count": 25,
   "id": "6eddcfe2",
   "metadata": {
    "execution": {
     "iopub.execute_input": "2025-09-11T11:38:38.474895Z",
     "iopub.status.busy": "2025-09-11T11:38:38.474751Z",
     "iopub.status.idle": "2025-09-11T11:38:38.478495Z",
     "shell.execute_reply": "2025-09-11T11:38:38.477989Z"
    }
   },
   "outputs": [],
   "source": [
    "N = me.ReferenceFrame('N')\n",
    "v1 = a*N.x + b*N.y + a*N.z\n",
    "v2 = b*N.x + a*N.y + b*N.z"
   ]
  },
  {
   "cell_type": "code",
   "execution_count": 26,
   "id": "78683e1c",
   "metadata": {
    "execution": {
     "iopub.execute_input": "2025-09-11T11:38:38.479862Z",
     "iopub.status.busy": "2025-09-11T11:38:38.479703Z",
     "iopub.status.idle": "2025-09-11T11:38:38.493666Z",
     "shell.execute_reply": "2025-09-11T11:38:38.493147Z"
    }
   },
   "outputs": [
    {
     "data": {
      "text/latex": [
       "$\\displaystyle \\operatorname{acos}{\\left(\\frac{3 a b}{\\sqrt{a^{2} + 2 b^{2}} \\sqrt{2 a^{2} + b^{2}}} \\right)}$"
      ],
      "text/plain": [
       "    ⎛            3⋅a⋅b            ⎞\n",
       "acos⎜─────────────────────────────⎟\n",
       "    ⎜   ___________    ___________⎟\n",
       "    ⎜  ╱  2      2    ╱    2    2 ⎟\n",
       "    ⎝╲╱  a  + 2⋅b  ⋅╲╱  2⋅a  + b  ⎠"
      ]
     },
     "execution_count": 26,
     "metadata": {},
     "output_type": "execute_result"
    }
   ],
   "source": [
    "sm.acos(v1.dot(v2) / (v1.magnitude()*v2.magnitude()))"
   ]
  },
  {
   "cell_type": "code",
   "execution_count": 27,
   "id": "72d5d4ed",
   "metadata": {
    "execution": {
     "iopub.execute_input": "2025-09-11T11:38:38.494935Z",
     "iopub.status.busy": "2025-09-11T11:38:38.494801Z",
     "iopub.status.idle": "2025-09-11T11:38:38.499383Z",
     "shell.execute_reply": "2025-09-11T11:38:38.498967Z"
    }
   },
   "outputs": [
    {
     "data": {
      "text/latex": [
       "$\\displaystyle a\\hat{n}_x + b\\hat{n}_y + c\\hat{n}_z$"
      ],
      "text/plain": [
       "a n_x + b n_y + c n_z"
      ]
     },
     "execution_count": 27,
     "metadata": {},
     "output_type": "execute_result"
    }
   ],
   "source": [
    "N = me.ReferenceFrame('N')\n",
    "w = a*N.x + b*N.y + c*N.z\n",
    "w"
   ]
  },
  {
   "cell_type": "code",
   "execution_count": 28,
   "id": "2c308ad4",
   "metadata": {
    "execution": {
     "iopub.execute_input": "2025-09-11T11:38:38.500575Z",
     "iopub.status.busy": "2025-09-11T11:38:38.500443Z",
     "iopub.status.idle": "2025-09-11T11:38:38.504558Z",
     "shell.execute_reply": "2025-09-11T11:38:38.504027Z"
    }
   },
   "outputs": [
    {
     "data": {
      "text/latex": [
       "$\\displaystyle d\\hat{n}_x + e\\hat{n}_y + f\\hat{n}_z$"
      ],
      "text/plain": [
       "d n_x + e n_y + f n_z"
      ]
     },
     "execution_count": 28,
     "metadata": {},
     "output_type": "execute_result"
    }
   ],
   "source": [
    "x = d*N.x + e*N.y + f*N.z\n",
    "x"
   ]
  },
  {
   "cell_type": "code",
   "execution_count": 29,
   "id": "b168c4fb",
   "metadata": {
    "execution": {
     "iopub.execute_input": "2025-09-11T11:38:38.505811Z",
     "iopub.status.busy": "2025-09-11T11:38:38.505674Z",
     "iopub.status.idle": "2025-09-11T11:38:38.512809Z",
     "shell.execute_reply": "2025-09-11T11:38:38.512401Z"
    }
   },
   "outputs": [
    {
     "data": {
      "text/latex": [
       "$\\displaystyle (b f - c e)\\hat{n}_x + (- a f + c d)\\hat{n}_y + (a e - b d)\\hat{n}_z$"
      ],
      "text/plain": [
       "(b⋅f - c⋅e) n_x + (-a⋅f + c⋅d) n_y + (a⋅e - b⋅d) n_z"
      ]
     },
     "execution_count": 29,
     "metadata": {},
     "output_type": "execute_result"
    }
   ],
   "source": [
    "me.cross(w, x)"
   ]
  },
  {
   "cell_type": "code",
   "execution_count": 30,
   "id": "9d7f538f",
   "metadata": {
    "execution": {
     "iopub.execute_input": "2025-09-11T11:38:38.513994Z",
     "iopub.status.busy": "2025-09-11T11:38:38.513845Z",
     "iopub.status.idle": "2025-09-11T11:38:38.520297Z",
     "shell.execute_reply": "2025-09-11T11:38:38.519804Z"
    }
   },
   "outputs": [
    {
     "data": {
      "text/latex": [
       "$\\displaystyle (b f - c e)\\hat{n}_x + (- a f + c d)\\hat{n}_y + (a e - b d)\\hat{n}_z$"
      ],
      "text/plain": [
       "(b⋅f - c⋅e) n_x + (-a⋅f + c⋅d) n_y + (a⋅e - b⋅d) n_z"
      ]
     },
     "execution_count": 30,
     "metadata": {},
     "output_type": "execute_result"
    }
   ],
   "source": [
    "w.cross(x)"
   ]
  },
  {
   "cell_type": "code",
   "execution_count": 31,
   "id": "0f5f0d6a",
   "metadata": {
    "execution": {
     "iopub.execute_input": "2025-09-11T11:38:38.521484Z",
     "iopub.status.busy": "2025-09-11T11:38:38.521340Z",
     "iopub.status.idle": "2025-09-11T11:38:38.529042Z",
     "shell.execute_reply": "2025-09-11T11:38:38.528533Z"
    }
   },
   "outputs": [
    {
     "data": {
      "text/latex": [
       "$\\displaystyle \\sqrt{36077}$"
      ],
      "text/plain": [
       "√36077"
      ]
     },
     "execution_count": 31,
     "metadata": {},
     "output_type": "execute_result"
    }
   ],
   "source": [
    "N = me.ReferenceFrame('N')\n",
    "\n",
    "p1 = 23*N.x - 12* N.y\n",
    "p2 = 16*N.x + 2*N.y - 4*N.z\n",
    "p3 = N.x + 14*N.z\n",
    "\n",
    "me.cross(p2 - p1, p3 - p1).magnitude() / 2"
   ]
  },
  {
   "cell_type": "code",
   "execution_count": 32,
   "id": "35cbf4f6",
   "metadata": {
    "execution": {
     "iopub.execute_input": "2025-09-11T11:38:38.530209Z",
     "iopub.status.busy": "2025-09-11T11:38:38.530063Z",
     "iopub.status.idle": "2025-09-11T11:38:38.534781Z",
     "shell.execute_reply": "2025-09-11T11:38:38.534308Z"
    }
   },
   "outputs": [
    {
     "data": {
      "text/latex": [
       "$\\displaystyle a\\hat{a}_x + b\\hat{n}_y$"
      ],
      "text/plain": [
       "a a_x + b n_y"
      ]
     },
     "execution_count": 32,
     "metadata": {},
     "output_type": "execute_result"
    }
   ],
   "source": [
    "N = me.ReferenceFrame('N')\n",
    "A = me.ReferenceFrame('A')\n",
    "\n",
    "a, b, theta = sm.symbols('a, b, theta')\n",
    "\n",
    "v = a*A.x + b*N.y\n",
    "v"
   ]
  },
  {
   "cell_type": "code",
   "execution_count": 33,
   "id": "7782a037",
   "metadata": {
    "execution": {
     "iopub.execute_input": "2025-09-11T11:38:38.536120Z",
     "iopub.status.busy": "2025-09-11T11:38:38.535970Z",
     "iopub.status.idle": "2025-09-11T11:38:38.539767Z",
     "shell.execute_reply": "2025-09-11T11:38:38.539363Z"
    }
   },
   "outputs": [
    {
     "data": {
      "text/latex": [
       "$\\displaystyle 2 a\\hat{a}_x + 2 b\\hat{n}_y$"
      ],
      "text/plain": [
       "2⋅a a_x + 2⋅b n_y"
      ]
     },
     "execution_count": 33,
     "metadata": {},
     "output_type": "execute_result"
    }
   ],
   "source": [
    "v + v"
   ]
  },
  {
   "cell_type": "code",
   "execution_count": 34,
   "id": "f323a757",
   "metadata": {
    "execution": {
     "iopub.execute_input": "2025-09-11T11:38:38.540991Z",
     "iopub.status.busy": "2025-09-11T11:38:38.540848Z",
     "iopub.status.idle": "2025-09-11T11:38:38.548514Z",
     "shell.execute_reply": "2025-09-11T11:38:38.547996Z"
    }
   },
   "outputs": [
    {
     "data": {
      "text/latex": [
       "$\\displaystyle a \\cos{\\left(\\theta \\right)}\\hat{n}_x + (a \\sin{\\left(\\theta \\right)} + b)\\hat{n}_y$"
      ],
      "text/plain": [
       "a⋅cos(θ) n_x + (a⋅sin(θ) + b) n_y"
      ]
     },
     "execution_count": 34,
     "metadata": {},
     "output_type": "execute_result"
    }
   ],
   "source": [
    "A.orient_axis(N, theta, N.z)\n",
    "\n",
    "v.express(N)"
   ]
  },
  {
   "cell_type": "code",
   "execution_count": 35,
   "id": "64060ada",
   "metadata": {
    "execution": {
     "iopub.execute_input": "2025-09-11T11:38:38.549718Z",
     "iopub.status.busy": "2025-09-11T11:38:38.549586Z",
     "iopub.status.idle": "2025-09-11T11:38:38.553987Z",
     "shell.execute_reply": "2025-09-11T11:38:38.553607Z"
    }
   },
   "outputs": [
    {
     "data": {
      "text/latex": [
       "$\\displaystyle (a + b \\sin{\\left(\\theta \\right)})\\hat{a}_x + b \\cos{\\left(\\theta \\right)}\\hat{a}_y$"
      ],
      "text/plain": [
       "(a + b⋅sin(θ)) a_x + b⋅cos(θ) a_y"
      ]
     },
     "execution_count": 35,
     "metadata": {},
     "output_type": "execute_result"
    }
   ],
   "source": [
    "v.express(A)"
   ]
  },
  {
   "cell_type": "code",
   "execution_count": 36,
   "id": "664271ff",
   "metadata": {
    "execution": {
     "iopub.execute_input": "2025-09-11T11:38:38.555304Z",
     "iopub.status.busy": "2025-09-11T11:38:38.555142Z",
     "iopub.status.idle": "2025-09-11T11:38:38.558984Z",
     "shell.execute_reply": "2025-09-11T11:38:38.558613Z"
    }
   },
   "outputs": [],
   "source": [
    "q1, q2, q3, q4, q5 = sm.symbols('q1, q2, q3, q4, q5')\n",
    "l1, l2, l3, l4 = sm.symbols('l1, l2, l3, l4')\n",
    "N = me.ReferenceFrame('N')\n",
    "A = me.ReferenceFrame('A')\n",
    "B = me.ReferenceFrame('B')\n",
    "C = me.ReferenceFrame('C')"
   ]
  },
  {
   "cell_type": "code",
   "execution_count": 37,
   "id": "3d229886",
   "metadata": {
    "execution": {
     "iopub.execute_input": "2025-09-11T11:38:38.560138Z",
     "iopub.status.busy": "2025-09-11T11:38:38.560005Z",
     "iopub.status.idle": "2025-09-11T11:38:38.565701Z",
     "shell.execute_reply": "2025-09-11T11:38:38.565317Z"
    }
   },
   "outputs": [],
   "source": [
    "A.orient_body_fixed(N, (q1, q2, 0), 'ZXZ')"
   ]
  },
  {
   "cell_type": "code",
   "execution_count": 38,
   "id": "3c56c742",
   "metadata": {
    "execution": {
     "iopub.execute_input": "2025-09-11T11:38:38.566859Z",
     "iopub.status.busy": "2025-09-11T11:38:38.566715Z",
     "iopub.status.idle": "2025-09-11T11:38:38.570876Z",
     "shell.execute_reply": "2025-09-11T11:38:38.570401Z"
    }
   },
   "outputs": [],
   "source": [
    "B.orient_axis(A, q3, A.x)"
   ]
  },
  {
   "cell_type": "code",
   "execution_count": 39,
   "id": "2aa67aee",
   "metadata": {
    "execution": {
     "iopub.execute_input": "2025-09-11T11:38:38.572039Z",
     "iopub.status.busy": "2025-09-11T11:38:38.571893Z",
     "iopub.status.idle": "2025-09-11T11:38:38.577308Z",
     "shell.execute_reply": "2025-09-11T11:38:38.576802Z"
    }
   },
   "outputs": [],
   "source": [
    "C.orient_body_fixed(B, (q4, q5, 0), 'XZX')"
   ]
  },
  {
   "cell_type": "code",
   "execution_count": 40,
   "id": "515874bd",
   "metadata": {
    "execution": {
     "iopub.execute_input": "2025-09-11T11:38:38.578669Z",
     "iopub.status.busy": "2025-09-11T11:38:38.578521Z",
     "iopub.status.idle": "2025-09-11T11:38:38.581676Z",
     "shell.execute_reply": "2025-09-11T11:38:38.581173Z"
    }
   },
   "outputs": [],
   "source": [
    "R_P1_P2 = l1*A.z\n",
    "R_P2_P3 = l2*B.z\n",
    "R_P3_P4 = l3*C.z - l4*C.y"
   ]
  },
  {
   "cell_type": "code",
   "execution_count": 41,
   "id": "e179099b",
   "metadata": {
    "execution": {
     "iopub.execute_input": "2025-09-11T11:38:38.582871Z",
     "iopub.status.busy": "2025-09-11T11:38:38.582728Z",
     "iopub.status.idle": "2025-09-11T11:38:38.586656Z",
     "shell.execute_reply": "2025-09-11T11:38:38.586131Z"
    }
   },
   "outputs": [
    {
     "data": {
      "text/latex": [
       "$\\displaystyle l_{1}\\hat{a}_z + l_{2}\\hat{b}_z -  l_{4}\\hat{c}_y + l_{3}\\hat{c}_z$"
      ],
      "text/plain": [
       "l₁ a_z + l₂ b_z + -l₄ c_y + l₃ c_z"
      ]
     },
     "execution_count": 41,
     "metadata": {},
     "output_type": "execute_result"
    }
   ],
   "source": [
    "R_P1_P4 = R_P1_P2 + R_P2_P3 + R_P3_P4\n",
    "R_P1_P4"
   ]
  },
  {
   "cell_type": "code",
   "execution_count": 42,
   "id": "79abdc55",
   "metadata": {
    "execution": {
     "iopub.execute_input": "2025-09-11T11:38:38.587917Z",
     "iopub.status.busy": "2025-09-11T11:38:38.587774Z",
     "iopub.status.idle": "2025-09-11T11:38:38.652039Z",
     "shell.execute_reply": "2025-09-11T11:38:38.651515Z"
    }
   },
   "outputs": [
    {
     "data": {
      "text/latex": [
       "$\\displaystyle (l_{1} \\sin{\\left(q_{1} \\right)} \\sin{\\left(q_{2} \\right)} + l_{2} \\left(\\sin{\\left(q_{1} \\right)} \\sin{\\left(q_{2} \\right)} \\cos{\\left(q_{3} \\right)} + \\sin{\\left(q_{1} \\right)} \\sin{\\left(q_{3} \\right)} \\cos{\\left(q_{2} \\right)}\\right) + l_{3} \\left(- \\left(\\sin{\\left(q_{1} \\right)} \\sin{\\left(q_{2} \\right)} \\sin{\\left(q_{3} \\right)} - \\sin{\\left(q_{1} \\right)} \\cos{\\left(q_{2} \\right)} \\cos{\\left(q_{3} \\right)}\\right) \\sin{\\left(q_{4} \\right)} + \\left(\\sin{\\left(q_{1} \\right)} \\sin{\\left(q_{2} \\right)} \\cos{\\left(q_{3} \\right)} + \\sin{\\left(q_{1} \\right)} \\sin{\\left(q_{3} \\right)} \\cos{\\left(q_{2} \\right)}\\right) \\cos{\\left(q_{4} \\right)}\\right) - l_{4} \\left(\\left(\\sin{\\left(q_{1} \\right)} \\sin{\\left(q_{2} \\right)} \\sin{\\left(q_{3} \\right)} - \\sin{\\left(q_{1} \\right)} \\cos{\\left(q_{2} \\right)} \\cos{\\left(q_{3} \\right)}\\right) \\cos{\\left(q_{4} \\right)} \\cos{\\left(q_{5} \\right)} + \\left(\\sin{\\left(q_{1} \\right)} \\sin{\\left(q_{2} \\right)} \\cos{\\left(q_{3} \\right)} + \\sin{\\left(q_{1} \\right)} \\sin{\\left(q_{3} \\right)} \\cos{\\left(q_{2} \\right)}\\right) \\sin{\\left(q_{4} \\right)} \\cos{\\left(q_{5} \\right)} - \\sin{\\left(q_{5} \\right)} \\cos{\\left(q_{1} \\right)}\\right))\\hat{n}_x + (- l_{1} \\sin{\\left(q_{2} \\right)} \\cos{\\left(q_{1} \\right)} + l_{2} \\left(- \\sin{\\left(q_{2} \\right)} \\cos{\\left(q_{1} \\right)} \\cos{\\left(q_{3} \\right)} - \\sin{\\left(q_{3} \\right)} \\cos{\\left(q_{1} \\right)} \\cos{\\left(q_{2} \\right)}\\right) + l_{3} \\left(- \\left(- \\sin{\\left(q_{2} \\right)} \\sin{\\left(q_{3} \\right)} \\cos{\\left(q_{1} \\right)} + \\cos{\\left(q_{1} \\right)} \\cos{\\left(q_{2} \\right)} \\cos{\\left(q_{3} \\right)}\\right) \\sin{\\left(q_{4} \\right)} + \\left(- \\sin{\\left(q_{2} \\right)} \\cos{\\left(q_{1} \\right)} \\cos{\\left(q_{3} \\right)} - \\sin{\\left(q_{3} \\right)} \\cos{\\left(q_{1} \\right)} \\cos{\\left(q_{2} \\right)}\\right) \\cos{\\left(q_{4} \\right)}\\right) - l_{4} \\left(\\left(- \\sin{\\left(q_{2} \\right)} \\sin{\\left(q_{3} \\right)} \\cos{\\left(q_{1} \\right)} + \\cos{\\left(q_{1} \\right)} \\cos{\\left(q_{2} \\right)} \\cos{\\left(q_{3} \\right)}\\right) \\cos{\\left(q_{4} \\right)} \\cos{\\left(q_{5} \\right)} + \\left(- \\sin{\\left(q_{2} \\right)} \\cos{\\left(q_{1} \\right)} \\cos{\\left(q_{3} \\right)} - \\sin{\\left(q_{3} \\right)} \\cos{\\left(q_{1} \\right)} \\cos{\\left(q_{2} \\right)}\\right) \\sin{\\left(q_{4} \\right)} \\cos{\\left(q_{5} \\right)} - \\sin{\\left(q_{1} \\right)} \\sin{\\left(q_{5} \\right)}\\right))\\hat{n}_y + (l_{1} \\cos{\\left(q_{2} \\right)} + l_{2} \\left(- \\sin{\\left(q_{2} \\right)} \\sin{\\left(q_{3} \\right)} + \\cos{\\left(q_{2} \\right)} \\cos{\\left(q_{3} \\right)}\\right) + l_{3} \\left(\\left(- \\sin{\\left(q_{2} \\right)} \\sin{\\left(q_{3} \\right)} + \\cos{\\left(q_{2} \\right)} \\cos{\\left(q_{3} \\right)}\\right) \\cos{\\left(q_{4} \\right)} - \\left(\\sin{\\left(q_{2} \\right)} \\cos{\\left(q_{3} \\right)} + \\sin{\\left(q_{3} \\right)} \\cos{\\left(q_{2} \\right)}\\right) \\sin{\\left(q_{4} \\right)}\\right) - l_{4} \\left(\\left(- \\sin{\\left(q_{2} \\right)} \\sin{\\left(q_{3} \\right)} + \\cos{\\left(q_{2} \\right)} \\cos{\\left(q_{3} \\right)}\\right) \\sin{\\left(q_{4} \\right)} \\cos{\\left(q_{5} \\right)} + \\left(\\sin{\\left(q_{2} \\right)} \\cos{\\left(q_{3} \\right)} + \\sin{\\left(q_{3} \\right)} \\cos{\\left(q_{2} \\right)}\\right) \\cos{\\left(q_{4} \\right)} \\cos{\\left(q_{5} \\right)}\\right))\\hat{n}_z$"
      ],
      "text/plain": [
       "(l₁⋅sin(q₁)⋅sin(q₂) + l₂⋅(sin(q₁)⋅sin(q₂)⋅cos(q₃) + sin(q₁)⋅sin(q₃)⋅cos(q₂)) +\n",
       " l₃⋅(-(sin(q₁)⋅sin(q₂)⋅sin(q₃) - sin(q₁)⋅cos(q₂)⋅cos(q₃))⋅sin(q₄) + (sin(q₁)⋅s\n",
       "in(q₂)⋅cos(q₃) + sin(q₁)⋅sin(q₃)⋅cos(q₂))⋅cos(q₄)) - l₄⋅((sin(q₁)⋅sin(q₂)⋅sin(\n",
       "q₃) - sin(q₁)⋅cos(q₂)⋅cos(q₃))⋅cos(q₄)⋅cos(q₅) + (sin(q₁)⋅sin(q₂)⋅cos(q₃) + si\n",
       "n(q₁)⋅sin(q₃)⋅cos(q₂))⋅sin(q₄)⋅cos(q₅) - sin(q₅)⋅cos(q₁))) n_x + (-l₁⋅sin(q₂)⋅\n",
       "cos(q₁) + l₂⋅(-sin(q₂)⋅cos(q₁)⋅cos(q₃) - sin(q₃)⋅cos(q₁)⋅cos(q₂)) + l₃⋅(-(-sin\n",
       "(q₂)⋅sin(q₃)⋅cos(q₁) + cos(q₁)⋅cos(q₂)⋅cos(q₃))⋅sin(q₄) + (-sin(q₂)⋅cos(q₁)⋅co\n",
       "s(q₃) - sin(q₃)⋅cos(q₁)⋅cos(q₂))⋅cos(q₄)) - l₄⋅((-sin(q₂)⋅sin(q₃)⋅cos(q₁) + co\n",
       "s(q₁)⋅cos(q₂)⋅cos(q₃))⋅cos(q₄)⋅cos(q₅) + (-sin(q₂)⋅cos(q₁)⋅cos(q₃) - sin(q₃)⋅c\n",
       "os(q₁)⋅cos(q₂))⋅sin(q₄)⋅cos(q₅) - sin(q₁)⋅sin(q₅))) n_y + (l₁⋅cos(q₂) + l₂⋅(-s\n",
       "in(q₂)⋅sin(q₃) + cos(q₂)⋅cos(q₃)) + l₃⋅((-sin(q₂)⋅sin(q₃) + cos(q₂)⋅cos(q₃))⋅c\n",
       "os(q₄) - (sin(q₂)⋅cos(q₃) + sin(q₃)⋅cos(q₂))⋅sin(q₄)) - l₄⋅((-sin(q₂)⋅sin(q₃)\n",
       "+ cos(q₂)⋅cos(q₃))⋅sin(q₄)⋅cos(q₅) + (sin(q₂)⋅cos(q₃) + sin(q₃)⋅cos(q₂))⋅cos(q\n",
       "₄)⋅cos(q₅))) n_z"
      ]
     },
     "execution_count": 42,
     "metadata": {},
     "output_type": "execute_result"
    }
   ],
   "source": [
    "R_P1_P4.express(N)"
   ]
  },
  {
   "cell_type": "code",
   "execution_count": 43,
   "id": "955e0bd5",
   "metadata": {
    "execution": {
     "iopub.execute_input": "2025-09-11T11:38:38.653403Z",
     "iopub.status.busy": "2025-09-11T11:38:38.653226Z",
     "iopub.status.idle": "2025-09-11T11:38:38.657937Z",
     "shell.execute_reply": "2025-09-11T11:38:38.657458Z"
    }
   },
   "outputs": [
    {
     "data": {
      "text/latex": [
       "$\\displaystyle l_{1} \\sin{\\left(q_{1} \\right)} \\sin{\\left(q_{2} \\right)}\\hat{n}_x -  l_{1} \\sin{\\left(q_{2} \\right)} \\cos{\\left(q_{1} \\right)}\\hat{n}_y + l_{1} \\cos{\\left(q_{2} \\right)}\\hat{n}_z$"
      ],
      "text/plain": [
       "l₁⋅sin(q₁)⋅sin(q₂) n_x + -l₁⋅sin(q₂)⋅cos(q₁) n_y + l₁⋅cos(q₂) n_z"
      ]
     },
     "execution_count": 43,
     "metadata": {},
     "output_type": "execute_result"
    }
   ],
   "source": [
    "R_P1_P2.express(N)"
   ]
  },
  {
   "cell_type": "code",
   "execution_count": 44,
   "id": "f146f222",
   "metadata": {
    "execution": {
     "iopub.execute_input": "2025-09-11T11:38:38.659309Z",
     "iopub.status.busy": "2025-09-11T11:38:38.659136Z",
     "iopub.status.idle": "2025-09-11T11:38:38.663146Z",
     "shell.execute_reply": "2025-09-11T11:38:38.662651Z"
    }
   },
   "outputs": [
    {
     "data": {
      "text/latex": [
       "$\\displaystyle \\left\\{l_{1}, q_{1}, q_{2}\\right\\}$"
      ],
      "text/plain": [
       "{l₁, q₁, q₂}"
      ]
     },
     "execution_count": 44,
     "metadata": {},
     "output_type": "execute_result"
    }
   ],
   "source": [
    "R_P1_P2.free_symbols(N)"
   ]
  },
  {
   "cell_type": "code",
   "execution_count": 45,
   "id": "8ec04cd2",
   "metadata": {
    "execution": {
     "iopub.execute_input": "2025-09-11T11:38:38.664502Z",
     "iopub.status.busy": "2025-09-11T11:38:38.664352Z",
     "iopub.status.idle": "2025-09-11T11:38:38.668323Z",
     "shell.execute_reply": "2025-09-11T11:38:38.667824Z"
    }
   },
   "outputs": [
    {
     "data": {
      "text/latex": [
       "$\\displaystyle \\left\\{l_{1}\\right\\}$"
      ],
      "text/plain": [
       "{l₁}"
      ]
     },
     "execution_count": 45,
     "metadata": {},
     "output_type": "execute_result"
    }
   ],
   "source": [
    "R_P1_P2.free_symbols(A)"
   ]
  },
  {
   "cell_type": "code",
   "execution_count": 46,
   "id": "1cc7c2d0",
   "metadata": {
    "execution": {
     "iopub.execute_input": "2025-09-11T11:38:38.669518Z",
     "iopub.status.busy": "2025-09-11T11:38:38.669377Z",
     "iopub.status.idle": "2025-09-11T11:38:38.674464Z",
     "shell.execute_reply": "2025-09-11T11:38:38.673960Z"
    }
   },
   "outputs": [
    {
     "data": {
      "text/latex": [
       "$\\displaystyle \\left\\{l_{1}, l_{2}, l_{3}, l_{4}, q_{1}, q_{2}, q_{3}, q_{4}, q_{5}\\right\\}$"
      ],
      "text/plain": [
       "{l₁, l₂, l₃, l₄, q₁, q₂, q₃, q₄, q₅}"
      ]
     },
     "execution_count": 46,
     "metadata": {},
     "output_type": "execute_result"
    }
   ],
   "source": [
    "R_P1_P4.free_symbols(N)"
   ]
  }
 ],
 "metadata": {
  "kernelspec": {
   "display_name": "Python 3 (ipykernel)",
   "language": "python",
   "name": "python3"
  },
  "language_info": {
   "codemirror_mode": {
    "name": "ipython",
    "version": 3
   },
   "file_extension": ".py",
   "mimetype": "text/x-python",
   "name": "python",
   "nbconvert_exporter": "python",
   "pygments_lexer": "ipython3",
   "version": "3.11.13"
  }
 },
 "nbformat": 4,
 "nbformat_minor": 5
}