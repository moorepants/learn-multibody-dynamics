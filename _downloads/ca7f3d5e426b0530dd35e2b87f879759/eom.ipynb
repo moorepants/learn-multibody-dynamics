{
 "cells": [
  {
   "cell_type": "code",
   "execution_count": 1,
   "id": "c1ed1eb0",
   "metadata": {
    "execution": {
     "iopub.execute_input": "2025-09-11T11:33:53.799286Z",
     "iopub.status.busy": "2025-09-11T11:33:53.799064Z",
     "iopub.status.idle": "2025-09-11T11:33:54.140545Z",
     "shell.execute_reply": "2025-09-11T11:33:54.140005Z"
    }
   },
   "outputs": [],
   "source": [
    "import sympy as sm\n",
    "import sympy.physics.mechanics as me\n",
    "me.init_vprinting(use_latex='mathjax')"
   ]
  },
  {
   "cell_type": "code",
   "execution_count": 2,
   "id": "e55b6460",
   "metadata": {
    "execution": {
     "iopub.execute_input": "2025-09-11T11:33:54.142276Z",
     "iopub.status.busy": "2025-09-11T11:33:54.142037Z",
     "iopub.status.idle": "2025-09-11T11:33:54.145629Z",
     "shell.execute_reply": "2025-09-11T11:33:54.145129Z"
    }
   },
   "outputs": [],
   "source": [
    "class ReferenceFrame(me.ReferenceFrame):\n",
    "\n",
    "    def __init__(self, *args, **kwargs):\n",
    "\n",
    "        kwargs.pop('latexs', None)\n",
    "\n",
    "        lab = args[0].lower()\n",
    "        tex = r'\\hat{{{}}}_{}'\n",
    "\n",
    "        super(ReferenceFrame, self).__init__(*args,\n",
    "                                             latexs=(tex.format(lab, 'x'),\n",
    "                                                     tex.format(lab, 'y'),\n",
    "                                                     tex.format(lab, 'z')),\n",
    "                                             **kwargs)\n",
    "me.ReferenceFrame = ReferenceFrame"
   ]
  },
  {
   "cell_type": "code",
   "execution_count": 3,
   "id": "cd0b38ad",
   "metadata": {
    "execution": {
     "iopub.execute_input": "2025-09-11T11:33:54.146954Z",
     "iopub.status.busy": "2025-09-11T11:33:54.146801Z",
     "iopub.status.idle": "2025-09-11T11:33:54.152231Z",
     "shell.execute_reply": "2025-09-11T11:33:54.151732Z"
    }
   },
   "outputs": [],
   "source": [
    "m, Ixx, Iyy, Izz = sm.symbols('m, I_{xx}, I_{yy}, I_{zz}')\n",
    "Ixy, Iyz, Ixz = sm.symbols('I_{xy}, I_{yz}, I_{xz}')\n",
    "Fx, Fy, Fz, Mx, My, Mz = me.dynamicsymbols('F_x, F_y, F_z, M_x, M_y, M_z')\n",
    "u1, u2, u3, u4, u5, u6 = me.dynamicsymbols('u1, u2, u3, u4, u5, u6')\n",
    "\n",
    "A = me.ReferenceFrame('A')\n",
    "B = me.ReferenceFrame('B')\n",
    "\n",
    "Bo = me.Point('Bo')"
   ]
  },
  {
   "cell_type": "code",
   "execution_count": 4,
   "id": "3356f965",
   "metadata": {
    "execution": {
     "iopub.execute_input": "2025-09-11T11:33:54.153489Z",
     "iopub.status.busy": "2025-09-11T11:33:54.153342Z",
     "iopub.status.idle": "2025-09-11T11:33:54.159383Z",
     "shell.execute_reply": "2025-09-11T11:33:54.158938Z"
    }
   },
   "outputs": [],
   "source": [
    "A_w_B = u4*B.x + u5*B.y + u6*B.z\n",
    "B.set_ang_vel(A, A_w_B)\n",
    "\n",
    "A_v_Bo = u1*B.x + u2*B.y + u3*B.z\n",
    "Bo.set_vel(A, A_v_Bo)"
   ]
  },
  {
   "cell_type": "code",
   "execution_count": 5,
   "id": "5164fd01",
   "metadata": {
    "execution": {
     "iopub.execute_input": "2025-09-11T11:33:54.160620Z",
     "iopub.status.busy": "2025-09-11T11:33:54.160481Z",
     "iopub.status.idle": "2025-09-11T11:33:54.175296Z",
     "shell.execute_reply": "2025-09-11T11:33:54.174888Z"
    }
   },
   "outputs": [
    {
     "data": {
      "text/latex": [
       "$\\displaystyle \\left( \\hat{b}_x, \\  \\hat{b}_y, \\  \\hat{b}_z, \\  0, \\  0, \\  0\\right)$"
      ],
      "text/plain": [
       "(b_x, b_y, b_z, 0, 0, 0)"
      ]
     },
     "execution_count": 5,
     "metadata": {},
     "output_type": "execute_result"
    }
   ],
   "source": [
    "v_Bo_1 = A_v_Bo.diff(u1, A, var_in_dcm=False)\n",
    "v_Bo_2 = A_v_Bo.diff(u2, A, var_in_dcm=False)\n",
    "v_Bo_3 = A_v_Bo.diff(u3, A, var_in_dcm=False)\n",
    "v_Bo_4 = A_v_Bo.diff(u4, A, var_in_dcm=False)\n",
    "v_Bo_5 = A_v_Bo.diff(u5, A, var_in_dcm=False)\n",
    "v_Bo_6 = A_v_Bo.diff(u6, A, var_in_dcm=False)\n",
    "\n",
    "v_Bo_1, v_Bo_2, v_Bo_3, v_Bo_4, v_Bo_5, v_Bo_6"
   ]
  },
  {
   "cell_type": "code",
   "execution_count": 6,
   "id": "e52b3d1d",
   "metadata": {
    "execution": {
     "iopub.execute_input": "2025-09-11T11:33:54.176549Z",
     "iopub.status.busy": "2025-09-11T11:33:54.176395Z",
     "iopub.status.idle": "2025-09-11T11:33:54.184133Z",
     "shell.execute_reply": "2025-09-11T11:33:54.183757Z"
    }
   },
   "outputs": [
    {
     "data": {
      "text/latex": [
       "$\\displaystyle \\left( 0, \\  0, \\  0, \\  \\hat{b}_x, \\  \\hat{b}_y, \\  \\hat{b}_z\\right)$"
      ],
      "text/plain": [
       "(0, 0, 0, b_x, b_y, b_z)"
      ]
     },
     "execution_count": 6,
     "metadata": {},
     "output_type": "execute_result"
    }
   ],
   "source": [
    "w_B_1 = A_w_B.diff(u1, A, var_in_dcm=False)\n",
    "w_B_2 = A_w_B.diff(u2, A, var_in_dcm=False)\n",
    "w_B_3 = A_w_B.diff(u3, A, var_in_dcm=False)\n",
    "w_B_4 = A_w_B.diff(u4, A, var_in_dcm=False)\n",
    "w_B_5 = A_w_B.diff(u5, A, var_in_dcm=False)\n",
    "w_B_6 = A_w_B.diff(u6, A, var_in_dcm=False)\n",
    "\n",
    "w_B_1, w_B_2, w_B_3, w_B_4, w_B_5, w_B_6"
   ]
  },
  {
   "cell_type": "code",
   "execution_count": 7,
   "id": "68722c47",
   "metadata": {
    "execution": {
     "iopub.execute_input": "2025-09-11T11:33:54.185412Z",
     "iopub.status.busy": "2025-09-11T11:33:54.185272Z",
     "iopub.status.idle": "2025-09-11T11:33:54.195420Z",
     "shell.execute_reply": "2025-09-11T11:33:54.195029Z"
    }
   },
   "outputs": [
    {
     "data": {
      "text/latex": [
       "$\\displaystyle \\left[ \\left[ \\hat{b}_x, \\  \\hat{b}_y, \\  \\hat{b}_z, \\  0, \\  0, \\  0\\right], \\  \\left[ 0, \\  0, \\  0, \\  \\hat{b}_x, \\  \\hat{b}_y, \\  \\hat{b}_z\\right]\\right]$"
      ],
      "text/plain": [
       "[[b_x, b_y, b_z, 0, 0, 0], [0, 0, 0, b_x, b_y, b_z]]"
      ]
     },
     "execution_count": 7,
     "metadata": {},
     "output_type": "execute_result"
    }
   ],
   "source": [
    "par_vels = me.partial_velocity([A_v_Bo, A_w_B], [u1, u2, u3, u4, u5, u6], A)\n",
    "\n",
    "par_vels"
   ]
  },
  {
   "cell_type": "code",
   "execution_count": 8,
   "id": "388e636e",
   "metadata": {
    "execution": {
     "iopub.execute_input": "2025-09-11T11:33:54.196641Z",
     "iopub.status.busy": "2025-09-11T11:33:54.196502Z",
     "iopub.status.idle": "2025-09-11T11:33:54.207426Z",
     "shell.execute_reply": "2025-09-11T11:33:54.207027Z"
    }
   },
   "outputs": [
    {
     "data": {
      "text/latex": [
       "$\\displaystyle \\left[\\begin{matrix}F_{x}\\\\F_{y}\\\\F_{z}\\\\M_{x}\\\\M_{x}\\\\M_{z}\\end{matrix}\\right]$"
      ],
      "text/plain": [
       "⎡Fₓ ⎤\n",
       "⎢   ⎥\n",
       "⎢F_y⎥\n",
       "⎢   ⎥\n",
       "⎢F_z⎥\n",
       "⎢   ⎥\n",
       "⎢Mₓ ⎥\n",
       "⎢   ⎥\n",
       "⎢Mₓ ⎥\n",
       "⎢   ⎥\n",
       "⎣M_z⎦"
      ]
     },
     "execution_count": 8,
     "metadata": {},
     "output_type": "execute_result"
    }
   ],
   "source": [
    "T = Mx*B.x + My*B.y + Mz*B.z\n",
    "R = Fx*B.x + Fy*B.y + Fz*B.z\n",
    "\n",
    "F1 = v_Bo_1.dot(R) + w_B_1.dot(T)\n",
    "F2 = v_Bo_2.dot(R) + w_B_2.dot(T)\n",
    "F3 = v_Bo_3.dot(R) + w_B_3.dot(T)\n",
    "F4 = v_Bo_4.dot(R) + w_B_4.dot(T)\n",
    "F5 = v_Bo_5.dot(R) + w_B_5.dot(T)\n",
    "F6 = v_Bo_6.dot(R) + w_B_6.dot(T)\n",
    "\n",
    "Fr = sm.Matrix([F1, F2, F3, F4, F4, F6])\n",
    "Fr"
   ]
  },
  {
   "cell_type": "code",
   "execution_count": 9,
   "id": "34631ca8",
   "metadata": {
    "execution": {
     "iopub.execute_input": "2025-09-11T11:33:54.208654Z",
     "iopub.status.busy": "2025-09-11T11:33:54.208502Z",
     "iopub.status.idle": "2025-09-11T11:33:54.321089Z",
     "shell.execute_reply": "2025-09-11T11:33:54.320550Z"
    }
   },
   "outputs": [
    {
     "data": {
      "text/latex": [
       "$\\displaystyle \\left[\\begin{matrix}- m \\left(- u_{2} u_{6} + u_{3} u_{5} + \\dot{u}_{1}\\right)\\\\- m \\left(u_{1} u_{6} - u_{3} u_{4} + \\dot{u}_{2}\\right)\\\\- m \\left(- u_{1} u_{5} + u_{2} u_{4} + \\dot{u}_{3}\\right)\\\\- I_{xx} \\dot{u}_{4} - I_{xy} \\dot{u}_{5} - I_{xz} \\dot{u}_{6} - \\left(- I_{xy} u_{6} + I_{xz} u_{5}\\right) u_{4} - \\left(- I_{yy} u_{6} + I_{yz} u_{5}\\right) u_{5} - \\left(- I_{yz} u_{6} + I_{zz} u_{5}\\right) u_{6}\\\\- I_{xy} \\dot{u}_{4} - I_{yy} \\dot{u}_{5} - I_{yz} \\dot{u}_{6} - \\left(I_{xx} u_{6} - I_{xz} u_{4}\\right) u_{4} - \\left(I_{xy} u_{6} - I_{yz} u_{4}\\right) u_{5} - \\left(I_{xz} u_{6} - I_{zz} u_{4}\\right) u_{6}\\\\- I_{xz} \\dot{u}_{4} - I_{yz} \\dot{u}_{5} - I_{zz} \\dot{u}_{6} - \\left(- I_{xx} u_{5} + I_{xy} u_{4}\\right) u_{4} - \\left(- I_{xy} u_{5} + I_{yy} u_{4}\\right) u_{5} - \\left(- I_{xz} u_{5} + I_{yz} u_{4}\\right) u_{6}\\end{matrix}\\right]$"
      ],
      "text/plain": [
       "⎡                                                  -m⋅(-u₂⋅u₆ + u₃⋅u₅ + u₁̇)  \n",
       "⎢                                                                             \n",
       "⎢                                                  -m⋅(u₁⋅u₆ - u₃⋅u₄ + u₂̇)   \n",
       "⎢                                                                             \n",
       "⎢                                                  -m⋅(-u₁⋅u₅ + u₂⋅u₄ + u₃̇)  \n",
       "⎢                                                                             \n",
       "⎢-I_{xx}⋅u₄̇ - I_{xy}⋅u₅̇ - I_{xz}⋅u₆̇ - (-I_{xy}⋅u₆ + I_{xz}⋅u₅)⋅u₄ - (-I_{yy\n",
       "⎢                                                                             \n",
       "⎢ -I_{xy}⋅u₄̇ - I_{yy}⋅u₅̇ - I_{yz}⋅u₆̇ - (I_{xx}⋅u₆ - I_{xz}⋅u₄)⋅u₄ - (I_{xy}\n",
       "⎢                                                                             \n",
       "⎣-I_{xz}⋅u₄̇ - I_{yz}⋅u₅̇ - I_{zz}⋅u₆̇ - (-I_{xx}⋅u₅ + I_{xy}⋅u₄)⋅u₄ - (-I_{xy\n",
       "\n",
       "                                                ⎤\n",
       "                                               ⎥\n",
       "                                                ⎥\n",
       "                                               ⎥\n",
       "                                                ⎥\n",
       "                                               ⎥\n",
       "}⋅u₆ + I_{yz}⋅u₅)⋅u₅ - (-I_{yz}⋅u₆ + I_{zz}⋅u₅)⋅u₆⎥\n",
       "                                               ⎥\n",
       "⋅u₆ - I_{yz}⋅u₄)⋅u₅ - (I_{xz}⋅u₆ - I_{zz}⋅u₄)⋅u₆  ⎥\n",
       "                                               ⎥\n",
       "}⋅u₅ + I_{yy}⋅u₄)⋅u₅ - (-I_{xz}⋅u₅ + I_{yz}⋅u₄)⋅u₆⎦"
      ]
     },
     "execution_count": 9,
     "metadata": {},
     "output_type": "execute_result"
    }
   ],
   "source": [
    "I = me.inertia(B, Ixx, Iyy, Izz, Ixy, Iyz, Ixz)\n",
    "\n",
    "Rs = -m*Bo.acc(A)\n",
    "Ts = -(B.ang_acc_in(A).dot(I) + me.cross(A_w_B, I).dot(A_w_B))\n",
    "\n",
    "F1s = v_Bo_1.dot(Rs) + w_B_1.dot(Ts)\n",
    "F2s = v_Bo_2.dot(Rs) + w_B_2.dot(Ts)\n",
    "F3s = v_Bo_3.dot(Rs) + w_B_3.dot(Ts)\n",
    "F4s = v_Bo_4.dot(Rs) + w_B_4.dot(Ts)\n",
    "F5s = v_Bo_5.dot(Rs) + w_B_5.dot(Ts)\n",
    "F6s = v_Bo_6.dot(Rs) + w_B_6.dot(Ts)\n",
    "\n",
    "Frs = sm.Matrix([F1s, F2s, F3s, F4s, F5s, F6s])\n",
    "Frs"
   ]
  },
  {
   "cell_type": "code",
   "execution_count": 10,
   "id": "ffea65cc",
   "metadata": {
    "execution": {
     "iopub.execute_input": "2025-09-11T11:33:54.322536Z",
     "iopub.status.busy": "2025-09-11T11:33:54.322366Z",
     "iopub.status.idle": "2025-09-11T11:33:54.346504Z",
     "shell.execute_reply": "2025-09-11T11:33:54.346008Z"
    }
   },
   "outputs": [
    {
     "data": {
      "text/latex": [
       "$\\displaystyle \\left[\\begin{matrix}- m \\left(- u_{2} u_{6} + u_{3} u_{5} + \\dot{u}_{1}\\right) + F_{x}\\\\- m \\left(u_{1} u_{6} - u_{3} u_{4} + \\dot{u}_{2}\\right) + F_{y}\\\\- m \\left(- u_{1} u_{5} + u_{2} u_{4} + \\dot{u}_{3}\\right) + F_{z}\\\\- I_{xx} \\dot{u}_{4} - I_{xy} \\dot{u}_{5} - I_{xz} \\dot{u}_{6} - \\left(- I_{xy} u_{6} + I_{xz} u_{5}\\right) u_{4} - \\left(- I_{yy} u_{6} + I_{yz} u_{5}\\right) u_{5} - \\left(- I_{yz} u_{6} + I_{zz} u_{5}\\right) u_{6} + M_{x}\\\\- I_{xy} \\dot{u}_{4} - I_{yy} \\dot{u}_{5} - I_{yz} \\dot{u}_{6} - \\left(I_{xx} u_{6} - I_{xz} u_{4}\\right) u_{4} - \\left(I_{xy} u_{6} - I_{yz} u_{4}\\right) u_{5} - \\left(I_{xz} u_{6} - I_{zz} u_{4}\\right) u_{6} + M_{x}\\\\- I_{xz} \\dot{u}_{4} - I_{yz} \\dot{u}_{5} - I_{zz} \\dot{u}_{6} - \\left(- I_{xx} u_{5} + I_{xy} u_{4}\\right) u_{4} - \\left(- I_{xy} u_{5} + I_{yy} u_{4}\\right) u_{5} - \\left(- I_{xz} u_{5} + I_{yz} u_{4}\\right) u_{6} + M_{z}\\end{matrix}\\right]$"
      ],
      "text/plain": [
       "⎡                                                  -m⋅(-u₂⋅u₆ + u₃⋅u₅ + u₁̇) +\n",
       "⎢                                                                             \n",
       "⎢                                                  -m⋅(u₁⋅u₆ - u₃⋅u₄ + u₂̇) + \n",
       "⎢                                                                             \n",
       "⎢                                                  -m⋅(-u₁⋅u₅ + u₂⋅u₄ + u₃̇) +\n",
       "⎢                                                                             \n",
       "⎢-I_{xx}⋅u₄̇ - I_{xy}⋅u₅̇ - I_{xz}⋅u₆̇ - (-I_{xy}⋅u₆ + I_{xz}⋅u₅)⋅u₄ - (-I_{yy\n",
       "⎢                                                                             \n",
       "⎢  -I_{xy}⋅u₄̇ - I_{yy}⋅u₅̇ - I_{yz}⋅u₆̇ - (I_{xx}⋅u₆ - I_{xz}⋅u₄)⋅u₄ - (I_{xy\n",
       "⎢                                                                             \n",
       "⎣-I_{xz}⋅u₄̇ - I_{yz}⋅u₅̇ - I_{zz}⋅u₆̇ - (-I_{xx}⋅u₅ + I_{xy}⋅u₄)⋅u₄ - (-I_{xy\n",
       "\n",
       " Fₓ                                                   ⎤\n",
       "                                                     ⎥\n",
       "F_y                                                   ⎥\n",
       "                                                     ⎥\n",
       " F_z                                                  ⎥\n",
       "                                                     ⎥\n",
       "}⋅u₆ + I_{yz}⋅u₅)⋅u₅ - (-I_{yz}⋅u₆ + I_{zz}⋅u₅)⋅u₆ + Mₓ ⎥\n",
       "                                                     ⎥\n",
       "}⋅u₆ - I_{yz}⋅u₄)⋅u₅ - (I_{xz}⋅u₆ - I_{zz}⋅u₄)⋅u₆ + Mₓ  ⎥\n",
       "                                                     ⎥\n",
       "}⋅u₅ + I_{yy}⋅u₄)⋅u₅ - (-I_{xz}⋅u₅ + I_{yz}⋅u₄)⋅u₆ + M_z⎦"
      ]
     },
     "execution_count": 10,
     "metadata": {},
     "output_type": "execute_result"
    }
   ],
   "source": [
    "Fr + Frs"
   ]
  },
  {
   "cell_type": "code",
   "execution_count": 11,
   "id": "667ba7c8",
   "metadata": {
    "execution": {
     "iopub.execute_input": "2025-09-11T11:33:54.347885Z",
     "iopub.status.busy": "2025-09-11T11:33:54.347730Z",
     "iopub.status.idle": "2025-09-11T11:33:54.352152Z",
     "shell.execute_reply": "2025-09-11T11:33:54.351660Z"
    }
   },
   "outputs": [],
   "source": [
    "u = sm.Matrix([u1, u2, u3, u4, u5, u6])\n",
    "t = me.dynamicsymbols._t\n",
    "ud = u.diff(t)"
   ]
  },
  {
   "cell_type": "code",
   "execution_count": 12,
   "id": "b79c8bdd",
   "metadata": {
    "execution": {
     "iopub.execute_input": "2025-09-11T11:33:54.353492Z",
     "iopub.status.busy": "2025-09-11T11:33:54.353350Z",
     "iopub.status.idle": "2025-09-11T11:33:54.383504Z",
     "shell.execute_reply": "2025-09-11T11:33:54.382980Z"
    }
   },
   "outputs": [
    {
     "data": {
      "text/latex": [
       "$\\displaystyle \\left[\\begin{matrix}m & 0 & 0 & 0 & 0 & 0\\\\0 & m & 0 & 0 & 0 & 0\\\\0 & 0 & m & 0 & 0 & 0\\\\0 & 0 & 0 & I_{xx} & I_{xy} & I_{xz}\\\\0 & 0 & 0 & I_{xy} & I_{yy} & I_{yz}\\\\0 & 0 & 0 & I_{xz} & I_{yz} & I_{zz}\\end{matrix}\\right]$"
      ],
      "text/plain": [
       "⎡m  0  0    0       0       0   ⎤\n",
       "⎢                               ⎥\n",
       "⎢0  m  0    0       0       0   ⎥\n",
       "⎢                               ⎥\n",
       "⎢0  0  m    0       0       0   ⎥\n",
       "⎢                               ⎥\n",
       "⎢0  0  0  I_{xx}  I_{xy}  I_{xz}⎥\n",
       "⎢                               ⎥\n",
       "⎢0  0  0  I_{xy}  I_{yy}  I_{yz}⎥\n",
       "⎢                               ⎥\n",
       "⎣0  0  0  I_{xz}  I_{yz}  I_{zz}⎦"
      ]
     },
     "execution_count": 12,
     "metadata": {},
     "output_type": "execute_result"
    }
   ],
   "source": [
    "M = -Frs.jacobian(ud)\n",
    "M"
   ]
  },
  {
   "cell_type": "code",
   "execution_count": 13,
   "id": "9b07f7fa",
   "metadata": {
    "execution": {
     "iopub.execute_input": "2025-09-11T11:33:54.384884Z",
     "iopub.status.busy": "2025-09-11T11:33:54.384729Z",
     "iopub.status.idle": "2025-09-11T11:33:54.401548Z",
     "shell.execute_reply": "2025-09-11T11:33:54.401047Z"
    }
   },
   "outputs": [
    {
     "data": {
      "text/latex": [
       "$\\displaystyle \\left[\\begin{matrix}m \\left(- u_{2} u_{6} + u_{3} u_{5}\\right)\\\\m \\left(u_{1} u_{6} - u_{3} u_{4}\\right)\\\\m \\left(- u_{1} u_{5} + u_{2} u_{4}\\right)\\\\\\left(- I_{xy} u_{6} + I_{xz} u_{5}\\right) u_{4} + \\left(- I_{yy} u_{6} + I_{yz} u_{5}\\right) u_{5} + \\left(- I_{yz} u_{6} + I_{zz} u_{5}\\right) u_{6}\\\\\\left(I_{xx} u_{6} - I_{xz} u_{4}\\right) u_{4} + \\left(I_{xy} u_{6} - I_{yz} u_{4}\\right) u_{5} + \\left(I_{xz} u_{6} - I_{zz} u_{4}\\right) u_{6}\\\\\\left(- I_{xx} u_{5} + I_{xy} u_{4}\\right) u_{4} + \\left(- I_{xy} u_{5} + I_{yy} u_{4}\\right) u_{5} + \\left(- I_{xz} u_{5} + I_{yz} u_{4}\\right) u_{6}\\end{matrix}\\right]$"
      ],
      "text/plain": [
       "⎡                                  m⋅(-u₂⋅u₆ + u₃⋅u₅)                         \n",
       "⎢                                                                             \n",
       "⎢                                   m⋅(u₁⋅u₆ - u₃⋅u₄)                         \n",
       "⎢                                                                             \n",
       "⎢                                  m⋅(-u₁⋅u₅ + u₂⋅u₄)                         \n",
       "⎢                                                                             \n",
       "⎢(-I_{xy}⋅u₆ + I_{xz}⋅u₅)⋅u₄ + (-I_{yy}⋅u₆ + I_{yz}⋅u₅)⋅u₅ + (-I_{yz}⋅u₆ + I_{\n",
       "⎢                                                                             \n",
       "⎢ (I_{xx}⋅u₆ - I_{xz}⋅u₄)⋅u₄ + (I_{xy}⋅u₆ - I_{yz}⋅u₄)⋅u₅ + (I_{xz}⋅u₆ - I_{zz\n",
       "⎢                                                                             \n",
       "⎣(-I_{xx}⋅u₅ + I_{xy}⋅u₄)⋅u₄ + (-I_{xy}⋅u₅ + I_{yy}⋅u₄)⋅u₅ + (-I_{xz}⋅u₅ + I_{\n",
       "\n",
       "          ⎤\n",
       "          ⎥\n",
       "          ⎥\n",
       "          ⎥\n",
       "          ⎥\n",
       "          ⎥\n",
       "zz}⋅u₅)⋅u₆⎥\n",
       "          ⎥\n",
       "}⋅u₄)⋅u₆  ⎥\n",
       "          ⎥\n",
       "yz}⋅u₄)⋅u₆⎦"
      ]
     },
     "execution_count": 13,
     "metadata": {},
     "output_type": "execute_result"
    }
   ],
   "source": [
    "C = -Frs.xreplace({udi: 0 for udi in ud})\n",
    "C"
   ]
  },
  {
   "cell_type": "code",
   "execution_count": 14,
   "id": "93062b8a",
   "metadata": {
    "execution": {
     "iopub.execute_input": "2025-09-11T11:33:54.402879Z",
     "iopub.status.busy": "2025-09-11T11:33:54.402740Z",
     "iopub.status.idle": "2025-09-11T11:33:54.406639Z",
     "shell.execute_reply": "2025-09-11T11:33:54.406261Z"
    }
   },
   "outputs": [
    {
     "data": {
      "text/latex": [
       "$\\displaystyle \\left[\\begin{matrix}F_{x}\\\\F_{y}\\\\F_{z}\\\\M_{x}\\\\M_{x}\\\\M_{z}\\end{matrix}\\right]$"
      ],
      "text/plain": [
       "⎡Fₓ ⎤\n",
       "⎢   ⎥\n",
       "⎢F_y⎥\n",
       "⎢   ⎥\n",
       "⎢F_z⎥\n",
       "⎢   ⎥\n",
       "⎢Mₓ ⎥\n",
       "⎢   ⎥\n",
       "⎢Mₓ ⎥\n",
       "⎢   ⎥\n",
       "⎣M_z⎦"
      ]
     },
     "execution_count": 14,
     "metadata": {},
     "output_type": "execute_result"
    }
   ],
   "source": [
    "F = Fr\n",
    "F"
   ]
  },
  {
   "cell_type": "code",
   "execution_count": 15,
   "id": "87605014",
   "metadata": {
    "execution": {
     "iopub.execute_input": "2025-09-11T11:33:54.407861Z",
     "iopub.status.busy": "2025-09-11T11:33:54.407729Z",
     "iopub.status.idle": "2025-09-11T11:33:54.426840Z",
     "shell.execute_reply": "2025-09-11T11:33:54.426465Z"
    }
   },
   "outputs": [
    {
     "data": {
      "text/latex": [
       "$\\displaystyle \\left( \\frac{l u_{1}}{2}\\hat{a}_y, \\  l u_{1}\\hat{a}_y, \\  u_{1}\\hat{n}_z, \\  u_{2}\\hat{a}_x + u_{1}\\hat{n}_z\\right)$"
      ],
      "text/plain": [
       "⎛  l⋅u₁  , l⋅u₁ a_y, u₁ n_z, u₂ a_x + u₁ n_z⎞\n",
       "⎜──── a_y                                   ⎟\n",
       "⎝    2                                      ⎠"
      ]
     },
     "execution_count": 15,
     "metadata": {},
     "output_type": "execute_result"
    }
   ],
   "source": [
    "m, g, kt, kl, l = sm.symbols('m, g, k_t, k_l, l')\n",
    "q1, q2, q3 = me.dynamicsymbols('q1, q2, q3')\n",
    "u1, u2, u3 = me.dynamicsymbols('u1, u2, u3')\n",
    "\n",
    "N = me.ReferenceFrame('N')\n",
    "A = me.ReferenceFrame('A')\n",
    "B = me.ReferenceFrame('B')\n",
    "\n",
    "A.orient_axis(N, q1, N.z)\n",
    "B.orient_axis(A, q2, A.x)\n",
    "\n",
    "A.set_ang_vel(N, u1*N.z)\n",
    "B.set_ang_vel(A, u2*A.x)\n",
    "\n",
    "O = me.Point('O')\n",
    "Ao = me.Point('A_O')\n",
    "Bo = me.Point('B_O')\n",
    "\n",
    "Ao.set_pos(O, l/2*A.x)\n",
    "Bo.set_pos(O, l*A.x)\n",
    "\n",
    "O.set_vel(N, 0)\n",
    "Ao.v2pt_theory(O, N, A)\n",
    "Bo.v2pt_theory(O, N, A)\n",
    "\n",
    "Ao.vel(N), Bo.vel(N), A.ang_vel_in(N), B.ang_vel_in(N)"
   ]
  },
  {
   "cell_type": "code",
   "execution_count": 16,
   "id": "e9f10a35",
   "metadata": {
    "execution": {
     "iopub.execute_input": "2025-09-11T11:33:54.428134Z",
     "iopub.status.busy": "2025-09-11T11:33:54.427982Z",
     "iopub.status.idle": "2025-09-11T11:33:54.439272Z",
     "shell.execute_reply": "2025-09-11T11:33:54.438771Z"
    }
   },
   "outputs": [
    {
     "data": {
      "text/latex": [
       "$\\displaystyle -  q_{3} u_{1} \\cos{\\left(q_{2} \\right)}\\hat{b}_x + u_{3}\\hat{b}_y + q_{3} u_{2}\\hat{b}_z + l u_{1}\\hat{a}_y$"
      ],
      "text/plain": [
       "-q₃⋅u₁⋅cos(q₂) b_x + u₃ b_y + q₃⋅u₂ b_z + l⋅u₁ a_y"
      ]
     },
     "execution_count": 16,
     "metadata": {},
     "output_type": "execute_result"
    }
   ],
   "source": [
    "Q = me.Point('Q')\n",
    "Q.set_pos(Bo, q3*B.y)\n",
    "Q.set_vel(B, u3*B.y)\n",
    "Q.v1pt_theory(Bo, N, B)\n",
    "\n",
    "Q.vel(N)"
   ]
  },
  {
   "cell_type": "code",
   "execution_count": 17,
   "id": "a9437626",
   "metadata": {
    "execution": {
     "iopub.execute_input": "2025-09-11T11:33:54.440492Z",
     "iopub.status.busy": "2025-09-11T11:33:54.440344Z",
     "iopub.status.idle": "2025-09-11T11:33:54.457298Z",
     "shell.execute_reply": "2025-09-11T11:33:54.456782Z"
    }
   },
   "outputs": [
    {
     "data": {
      "text/latex": [
       "$\\displaystyle \\left( -  \\frac{l u_{1}^{2}}{2}\\hat{a}_x + \\frac{l \\dot{u}_{1}}{2}\\hat{a}_y, \\  -  l u_{1}^{2}\\hat{a}_x + l \\dot{u}_{1}\\hat{a}_y, \\  \\dot{u}_{1}\\hat{n}_z, \\  \\dot{u}_{2}\\hat{a}_x + u_{1} u_{2}\\hat{a}_y + \\dot{u}_{1}\\hat{n}_z\\right)$"
      ],
      "text/plain": [
       "⎛             2        ,              2       , u₁̇ n_z, u₂̇ a_x + u₁⋅u₂ a_y +\n",
       "⎜ -l⋅u₁         l⋅u₁̇    -l⋅u₁  a_x + l⋅u₁̇ a_y                               \n",
       "⎜─────── a_x + ──── a_y                                                       \n",
       "⎝      2           2                                                          \n",
       "\n",
       " u₁̇ n_z⎞\n",
       "      ⎟\n",
       "     ⎟\n",
       "     ⎠"
      ]
     },
     "execution_count": 17,
     "metadata": {},
     "output_type": "execute_result"
    }
   ],
   "source": [
    "Ao.acc(N), Bo.acc(N), A.ang_acc_in(N), B.ang_acc_in(N)"
   ]
  },
  {
   "cell_type": "code",
   "execution_count": 18,
   "id": "3d8e8286",
   "metadata": {
    "execution": {
     "iopub.execute_input": "2025-09-11T11:33:54.458649Z",
     "iopub.status.busy": "2025-09-11T11:33:54.458498Z",
     "iopub.status.idle": "2025-09-11T11:33:54.484322Z",
     "shell.execute_reply": "2025-09-11T11:33:54.483824Z"
    }
   },
   "outputs": [
    {
     "data": {
      "text/latex": [
       "$\\displaystyle (q_{3} u_{1} u_{2} \\sin{\\left(q_{2} \\right)} + q_{3} u_{1} \\sin{\\left(q_{2} \\right)} \\dot{q}_{2} - q_{3} \\cos{\\left(q_{2} \\right)} \\dot{u}_{1} - u_{1} u_{3} \\cos{\\left(q_{2} \\right)} - u_{1} \\cos{\\left(q_{2} \\right)} \\dot{q}_{3})\\hat{b}_x + (- q_{3} u_{1}^{2} \\cos^{2}{\\left(q_{2} \\right)} - q_{3} u_{2}^{2} + \\dot{u}_{3})\\hat{b}_y + (q_{3} u_{1}^{2} \\sin{\\left(q_{2} \\right)} \\cos{\\left(q_{2} \\right)} + q_{3} \\dot{u}_{2} + u_{2} u_{3} + u_{2} \\dot{q}_{3})\\hat{b}_z -  l u_{1}^{2}\\hat{a}_x + l \\dot{u}_{1}\\hat{a}_y$"
      ],
      "text/plain": [
       "\n",
       "(q₃⋅u₁⋅u₂⋅sin(q₂) + q₃⋅u₁⋅sin(q₂)⋅q₂̇ - q₃⋅cos(q₂)⋅u₁̇ - u₁⋅u₃⋅cos(q₂) - u₁⋅co\n",
       "\n",
       "              ⎛       2    2            2     ⎞       ⎛     2\n",
       "s(q₂)⋅q₃̇) b_x + ⎝- q₃⋅u₁ ⋅cos (q₂) - q₃⋅u₂  + u₃̇⎠ b_y + ⎝q₃⋅u₁ ⋅sin(q₂)⋅cos(\n",
       "\n",
       "                       ⎞            2\n",
       "q₂) + q₃⋅u₂̇ + u₂⋅u₃ + u₂⋅q₃̇⎠ b_z + -l⋅u₁  a_x + l⋅u₁̇ a_y"
      ]
     },
     "execution_count": 18,
     "metadata": {},
     "output_type": "execute_result"
    }
   ],
   "source": [
    "Q.acc(N)"
   ]
  },
  {
   "cell_type": "code",
   "execution_count": 19,
   "id": "359d9474",
   "metadata": {
    "execution": {
     "iopub.execute_input": "2025-09-11T11:33:54.485557Z",
     "iopub.status.busy": "2025-09-11T11:33:54.485412Z",
     "iopub.status.idle": "2025-09-11T11:33:54.502671Z",
     "shell.execute_reply": "2025-09-11T11:33:54.502149Z"
    }
   },
   "outputs": [
    {
     "data": {
      "text/latex": [
       "$\\displaystyle (2 q_{3} u_{1} u_{2} \\sin{\\left(q_{2} \\right)} - q_{3} \\cos{\\left(q_{2} \\right)} \\dot{u}_{1} - 2 u_{1} u_{3} \\cos{\\left(q_{2} \\right)})\\hat{b}_x + (- q_{3} u_{1}^{2} \\cos^{2}{\\left(q_{2} \\right)} - q_{3} u_{2}^{2} + \\dot{u}_{3})\\hat{b}_y + (q_{3} u_{1}^{2} \\sin{\\left(q_{2} \\right)} \\cos{\\left(q_{2} \\right)} + q_{3} \\dot{u}_{2} + 2 u_{2} u_{3})\\hat{b}_z -  l u_{1}^{2}\\hat{a}_x + l \\dot{u}_{1}\\hat{a}_y$"
      ],
      "text/plain": [
       "                                                             ⎛       2    2\n",
       "(2⋅q₃⋅u₁⋅u₂⋅sin(q₂) - q₃⋅cos(q₂)⋅u₁̇ - 2⋅u₁⋅u₃⋅cos(q₂)) b_x + ⎝- q₃⋅u₁ ⋅cos (q\n",
       "\n",
       "         2     ⎞       ⎛     2                                  ⎞            2\n",
       "₂) - q₃⋅u₂  + u₃̇⎠ b_y + ⎝q₃⋅u₁ ⋅sin(q₂)⋅cos(q₂) + q₃⋅u₂̇ + 2⋅u₂⋅u₃⎠ b_z + -l⋅\n",
       "\n",
       "\n",
       "u₁  a_x + l⋅u₁̇ a_y"
      ]
     },
     "execution_count": 19,
     "metadata": {},
     "output_type": "execute_result"
    }
   ],
   "source": [
    "t = me.dynamicsymbols._t\n",
    "\n",
    "qdot_repl = {q1.diff(t): u1,\n",
    "             q2.diff(t): u2,\n",
    "             q3.diff(t): u3}\n",
    "\n",
    "Q.set_acc(N, Q.acc(N).xreplace(qdot_repl))\n",
    "Q.acc(N)"
   ]
  },
  {
   "cell_type": "code",
   "execution_count": 20,
   "id": "bf008ab2",
   "metadata": {
    "execution": {
     "iopub.execute_input": "2025-09-11T11:33:54.503898Z",
     "iopub.status.busy": "2025-09-11T11:33:54.503753Z",
     "iopub.status.idle": "2025-09-11T11:33:54.509849Z",
     "shell.execute_reply": "2025-09-11T11:33:54.509379Z"
    }
   },
   "outputs": [
    {
     "data": {
      "text/latex": [
       "$\\displaystyle k_{l} q_{1} + k_{t} \\dot{q}_{1} + m \\ddot{q}_{1}$"
      ],
      "text/plain": [
       "kₗ⋅q₁ + kₜ⋅q₁̇ + m⋅q₁̈"
      ]
     },
     "execution_count": 20,
     "metadata": {},
     "output_type": "execute_result"
    }
   ],
   "source": [
    "expr = m*q1.diff(t, 2) + kt*q1.diff(t) + kl*q1\n",
    "expr"
   ]
  },
  {
   "cell_type": "code",
   "execution_count": 21,
   "id": "313ed816",
   "metadata": {
    "execution": {
     "iopub.execute_input": "2025-09-11T11:33:54.511068Z",
     "iopub.status.busy": "2025-09-11T11:33:54.510926Z",
     "iopub.status.idle": "2025-09-11T11:33:54.517598Z",
     "shell.execute_reply": "2025-09-11T11:33:54.517091Z"
    }
   },
   "outputs": [
    {
     "data": {
      "text/latex": [
       "$\\displaystyle \\frac{k_{l} q_{2}}{q_{1}} + k_{t} u_{1} + m \\dot{u}_{1}$"
      ],
      "text/plain": [
       "kₗ⋅q₂               \n",
       "───── + kₜ⋅u₁ + m⋅u₁̇\n",
       "  q₁                "
      ]
     },
     "execution_count": 21,
     "metadata": {},
     "output_type": "execute_result"
    }
   ],
   "source": [
    "expr1 = expr.xreplace({q1.diff(t, 2): u1.diff(t)}).xreplace({q1.diff(t): u1}).xreplace({q1: q2/q1})\n",
    "expr1"
   ]
  },
  {
   "cell_type": "code",
   "execution_count": 22,
   "id": "bef8c584",
   "metadata": {
    "execution": {
     "iopub.execute_input": "2025-09-11T11:33:54.518935Z",
     "iopub.status.busy": "2025-09-11T11:33:54.518784Z",
     "iopub.status.idle": "2025-09-11T11:33:54.555196Z",
     "shell.execute_reply": "2025-09-11T11:33:54.554717Z"
    }
   },
   "outputs": [
    {
     "data": {
      "text/latex": [
       "$\\displaystyle \\frac{k_{l} q_{2}}{q_{1}} + k_{t} \\left(\\frac{\\dot{q}_{2}}{q_{1}} - \\frac{q_{2} \\dot{q}_{1}}{q_{1}^{2}}\\right) + m \\left(\\frac{- \\frac{\\left(\\ddot{q}_{1} - \\frac{2 \\dot{q}_{1}^{2}}{q_{1}}\\right) q_{2}}{q_{1}} + \\ddot{q}_{2} - \\frac{2 \\dot{q}_{1} \\dot{q}_{2}}{q_{1}}}{q_{1}}\\right)$"
      ],
      "text/plain": [
       "                        2    \n",
       "kₗ⋅q₂      d ⎛q₂⎞      d ⎛q₂⎞\n",
       "───── + kₜ⋅──⎜──⎟ + m⋅───⎜──⎟\n",
       "  q₁       dt⎝q₁⎠       2⎝q₁⎠\n",
       "                      dt     "
      ]
     },
     "execution_count": 22,
     "metadata": {},
     "output_type": "execute_result"
    }
   ],
   "source": [
    "expr2 = expr.xreplace({q1: q2/q1}).xreplace({q1.diff(t): u1}).xreplace({q1.diff(t, 2): u1.diff(t)})\n",
    "expr2"
   ]
  },
  {
   "cell_type": "code",
   "execution_count": 23,
   "id": "724318bd",
   "metadata": {
    "execution": {
     "iopub.execute_input": "2025-09-11T11:33:54.556458Z",
     "iopub.status.busy": "2025-09-11T11:33:54.556311Z",
     "iopub.status.idle": "2025-09-11T11:33:54.559348Z",
     "shell.execute_reply": "2025-09-11T11:33:54.558854Z"
    }
   },
   "outputs": [
    {
     "name": "stdout",
     "output_type": "stream",
     "text": [
      "k_l*q2(t)/q1(t) + k_t*u1(t) + m*Derivative(u1(t), t)\n"
     ]
    }
   ],
   "source": [
    "print(expr1)"
   ]
  },
  {
   "cell_type": "code",
   "execution_count": 24,
   "id": "4fcfa28d",
   "metadata": {
    "execution": {
     "iopub.execute_input": "2025-09-11T11:33:54.560526Z",
     "iopub.status.busy": "2025-09-11T11:33:54.560385Z",
     "iopub.status.idle": "2025-09-11T11:33:54.563511Z",
     "shell.execute_reply": "2025-09-11T11:33:54.563088Z"
    }
   },
   "outputs": [
    {
     "name": "stdout",
     "output_type": "stream",
     "text": [
      "k_l*q2(t)/q1(t) + k_t*Derivative(q2(t)/q1(t), t) + m*Derivative(q2(t)/q1(t), (t, 2))\n"
     ]
    }
   ],
   "source": [
    "print(expr2)"
   ]
  },
  {
   "cell_type": "code",
   "execution_count": 25,
   "id": "710f2283",
   "metadata": {
    "execution": {
     "iopub.execute_input": "2025-09-11T11:33:54.564721Z",
     "iopub.status.busy": "2025-09-11T11:33:54.564579Z",
     "iopub.status.idle": "2025-09-11T11:33:54.570110Z",
     "shell.execute_reply": "2025-09-11T11:33:54.569708Z"
    }
   },
   "outputs": [
    {
     "data": {
      "text/latex": [
       "$\\displaystyle \\frac{k_{l} q_{2}}{q_{1}} + k_{t} u_{1} + m \\dot{u}_{1}$"
      ],
      "text/plain": [
       "kₗ⋅q₂               \n",
       "───── + kₜ⋅u₁ + m⋅u₁̇\n",
       "  q₁                "
      ]
     },
     "execution_count": 25,
     "metadata": {},
     "output_type": "execute_result"
    }
   ],
   "source": [
    "expr.xreplace({q1: q2/q1, q1.diff(t): u1, q1.diff(t, 2): u1.diff(t)})"
   ]
  },
  {
   "cell_type": "code",
   "execution_count": 26,
   "id": "ad76e877",
   "metadata": {
    "execution": {
     "iopub.execute_input": "2025-09-11T11:33:54.571331Z",
     "iopub.status.busy": "2025-09-11T11:33:54.571181Z",
     "iopub.status.idle": "2025-09-11T11:33:54.576721Z",
     "shell.execute_reply": "2025-09-11T11:33:54.576223Z"
    }
   },
   "outputs": [
    {
     "data": {
      "text/latex": [
       "$\\displaystyle \\frac{k_{l} q_{2}}{q_{1}} + k_{t} u_{1} + m \\dot{u}_{1}$"
      ],
      "text/plain": [
       "kₗ⋅q₂               \n",
       "───── + kₜ⋅u₁ + m⋅u₁̇\n",
       "  q₁                "
      ]
     },
     "execution_count": 26,
     "metadata": {},
     "output_type": "execute_result"
    }
   ],
   "source": [
    "expr.xreplace({q1.diff(t, 2): u1.diff(t), q1.diff(t): u1, q1: q2/q1})"
   ]
  },
  {
   "cell_type": "code",
   "execution_count": 27,
   "id": "4c5eaa31",
   "metadata": {
    "execution": {
     "iopub.execute_input": "2025-09-11T11:33:54.578068Z",
     "iopub.status.busy": "2025-09-11T11:33:54.577914Z",
     "iopub.status.idle": "2025-09-11T11:33:54.583576Z",
     "shell.execute_reply": "2025-09-11T11:33:54.583080Z"
    }
   },
   "outputs": [],
   "source": [
    "R_Ao = m*g*N.x\n",
    "R_Bo = m*g*N.x + kl*q3*B.y\n",
    "R_Q = m/4*g*N.x - kl*q3*B.y\n",
    "T_A = -kt*q1*N.z + kt*q2*A.x\n",
    "T_B = -kt*q2*A.x"
   ]
  },
  {
   "cell_type": "code",
   "execution_count": 28,
   "id": "06ce36bb",
   "metadata": {
    "execution": {
     "iopub.execute_input": "2025-09-11T11:33:54.584785Z",
     "iopub.status.busy": "2025-09-11T11:33:54.584640Z",
     "iopub.status.idle": "2025-09-11T11:33:54.588153Z",
     "shell.execute_reply": "2025-09-11T11:33:54.587679Z"
    }
   },
   "outputs": [],
   "source": [
    "I = m*l**2/12\n",
    "I_A_Ao = I*me.outer(A.y, A.y) + I*me.outer(A.z, A.z)\n",
    "I_B_Bo = I*me.outer(B.x, B.x) + I*me.outer(B.z, B.z)"
   ]
  },
  {
   "cell_type": "code",
   "execution_count": 29,
   "id": "1f6669ad",
   "metadata": {
    "execution": {
     "iopub.execute_input": "2025-09-11T11:33:54.589392Z",
     "iopub.status.busy": "2025-09-11T11:33:54.589223Z",
     "iopub.status.idle": "2025-09-11T11:33:54.609994Z",
     "shell.execute_reply": "2025-09-11T11:33:54.609487Z"
    }
   },
   "outputs": [],
   "source": [
    "v_Ao_1 = Ao.vel(N).diff(u1, N)\n",
    "v_Bo_1 = Bo.vel(N).diff(u1, N)\n",
    "v_Q_1 = Q.vel(N).diff(u1, N)\n",
    "\n",
    "v_Ao_2 = Ao.vel(N).diff(u2, N)\n",
    "v_Bo_2 = Bo.vel(N).diff(u2, N)\n",
    "v_Q_2 = Q.vel(N).diff(u2, N)\n",
    "\n",
    "v_Ao_3 = Ao.vel(N).diff(u3, N)\n",
    "v_Bo_3 = Bo.vel(N).diff(u3, N)\n",
    "v_Q_3 = Q.vel(N).diff(u3, N)\n",
    "\n",
    "w_A_1 = A.ang_vel_in(N).diff(u1, N)\n",
    "w_B_1 = B.ang_vel_in(N).diff(u1, N)\n",
    "\n",
    "w_A_2 = A.ang_vel_in(N).diff(u2, N)\n",
    "w_B_2 = B.ang_vel_in(N).diff(u2, N)\n",
    "\n",
    "w_A_3 = A.ang_vel_in(N).diff(u3, N)\n",
    "w_B_3 = B.ang_vel_in(N).diff(u3, N)"
   ]
  },
  {
   "cell_type": "code",
   "execution_count": 30,
   "id": "4ff68cb8",
   "metadata": {
    "execution": {
     "iopub.execute_input": "2025-09-11T11:33:54.611397Z",
     "iopub.status.busy": "2025-09-11T11:33:54.611220Z",
     "iopub.status.idle": "2025-09-11T11:33:54.622726Z",
     "shell.execute_reply": "2025-09-11T11:33:54.622220Z"
    }
   },
   "outputs": [],
   "source": [
    "F1 = v_Ao_1.dot(R_Ao) + v_Bo_1.dot(R_Bo) + v_Q_1.dot(R_Q) + w_A_1.dot(T_A) + w_B_1.dot(T_B)\n",
    "F2 = v_Ao_2.dot(R_Ao) + v_Bo_2.dot(R_Bo) + v_Q_2.dot(R_Q) + w_A_2.dot(T_A) + w_B_2.dot(T_B)\n",
    "F3 = v_Ao_3.dot(R_Ao) + v_Bo_3.dot(R_Bo) + v_Q_3.dot(R_Q) + w_A_3.dot(T_A) + w_B_3.dot(T_B)"
   ]
  },
  {
   "cell_type": "code",
   "execution_count": 31,
   "id": "611c1ee9",
   "metadata": {
    "execution": {
     "iopub.execute_input": "2025-09-11T11:33:54.624227Z",
     "iopub.status.busy": "2025-09-11T11:33:54.624060Z",
     "iopub.status.idle": "2025-09-11T11:33:54.633111Z",
     "shell.execute_reply": "2025-09-11T11:33:54.632629Z"
    }
   },
   "outputs": [
    {
     "data": {
      "text/latex": [
       "$\\displaystyle \\left[\\begin{matrix}- \\frac{7 g l m \\sin{\\left(q_{1} \\right)}}{4} - \\frac{g m q_{3} \\cos{\\left(q_{1} \\right)} \\cos{\\left(q_{2} \\right)}}{4} - k_{t} q_{1}\\\\\\frac{g m q_{3} \\sin{\\left(q_{1} \\right)} \\sin{\\left(q_{2} \\right)}}{4} - k_{t} q_{2}\\\\- \\frac{g m \\sin{\\left(q_{1} \\right)} \\cos{\\left(q_{2} \\right)}}{4} - k_{l} q_{3}\\end{matrix}\\right]$"
      ],
      "text/plain": [
       "⎡  7⋅g⋅l⋅m⋅sin(q₁)   g⋅m⋅q₃⋅cos(q₁)⋅cos(q₂)        ⎤\n",
       "⎢- ─────────────── - ────────────────────── - kₜ⋅q₁⎥\n",
       "⎢         4                    4                   ⎥\n",
       "⎢                                                  ⎥\n",
       "⎢          g⋅m⋅q₃⋅sin(q₁)⋅sin(q₂)                  ⎥\n",
       "⎢          ────────────────────── - kₜ⋅q₂          ⎥\n",
       "⎢                    4                             ⎥\n",
       "⎢                                                  ⎥\n",
       "⎢            g⋅m⋅sin(q₁)⋅cos(q₂)                   ⎥\n",
       "⎢          - ─────────────────── - kₗ⋅q₃           ⎥\n",
       "⎣                     4                            ⎦"
      ]
     },
     "execution_count": 31,
     "metadata": {},
     "output_type": "execute_result"
    }
   ],
   "source": [
    "Fr = sm.Matrix([F1, F2, F3])\n",
    "Fr"
   ]
  },
  {
   "cell_type": "code",
   "execution_count": 32,
   "id": "d40924ba",
   "metadata": {
    "execution": {
     "iopub.execute_input": "2025-09-11T11:33:54.634396Z",
     "iopub.status.busy": "2025-09-11T11:33:54.634255Z",
     "iopub.status.idle": "2025-09-11T11:33:54.693324Z",
     "shell.execute_reply": "2025-09-11T11:33:54.692864Z"
    }
   },
   "outputs": [],
   "source": [
    "TAs = -(A.ang_acc_in(N).dot(I_A_Ao) + me.cross(A.ang_vel_in(N), I_A_Ao).dot(A.ang_vel_in(N)))\n",
    "TBs = -(B.ang_acc_in(N).dot(I_B_Bo) + me.cross(B.ang_vel_in(N), I_B_Bo).dot(B.ang_vel_in(N)))\n",
    "\n",
    "F1s = v_Ao_1.dot(-m*Ao.acc(N)) + v_Bo_1.dot(-m*Bo.acc(N)) + v_Q_1.dot(-m/4*Q.acc(N))\n",
    "F1s += w_A_1.dot(TAs) + w_B_1.dot(TBs)\n",
    "\n",
    "F2s = v_Ao_2.dot(-m*Ao.acc(N)) + v_Bo_2.dot(-m*Bo.acc(N)) + v_Q_2.dot(-m/4*Q.acc(N))\n",
    "F2s += w_A_2.dot(TAs) + w_B_2.dot(TBs)\n",
    "\n",
    "F3s = v_Ao_3.dot(-m*Ao.acc(N)) + v_Bo_3.dot(-m*Bo.acc(N)) + v_Q_3.dot(-m/4*Q.acc(N))\n",
    "F3s += w_A_3.dot(TAs) + w_B_3.dot(TBs)"
   ]
  },
  {
   "cell_type": "code",
   "execution_count": 33,
   "id": "f6681c56",
   "metadata": {
    "execution": {
     "iopub.execute_input": "2025-09-11T11:33:54.694603Z",
     "iopub.status.busy": "2025-09-11T11:33:54.694466Z",
     "iopub.status.idle": "2025-09-11T11:33:54.721796Z",
     "shell.execute_reply": "2025-09-11T11:33:54.721288Z"
    }
   },
   "outputs": [
    {
     "data": {
      "text/latex": [
       "$\\displaystyle \\left[\\begin{matrix}- \\frac{19 l^{2} m \\dot{u}_{1}}{12} - \\frac{l m q_{3} u_{1}^{2} \\cos{\\left(q_{2} \\right)}}{4} + l \\left(- \\frac{m \\left(- q_{3} u_{1}^{2} \\cos^{2}{\\left(q_{2} \\right)} - q_{3} u_{2}^{2} + \\dot{u}_{3}\\right) \\cos{\\left(q_{2} \\right)}}{4} + \\frac{m \\left(q_{3} u_{1}^{2} \\sin{\\left(q_{2} \\right)} \\cos{\\left(q_{2} \\right)} + q_{3} \\dot{u}_{2} + 2 u_{2} u_{3}\\right) \\sin{\\left(q_{2} \\right)}}{4}\\right) + \\frac{m \\left(2 q_{3} u_{1} u_{2} \\sin{\\left(q_{2} \\right)} - q_{3} \\cos{\\left(q_{2} \\right)} \\dot{u}_{1} - 2 u_{1} u_{3} \\cos{\\left(q_{2} \\right)}\\right) q_{3} \\cos{\\left(q_{2} \\right)}}{4} + \\left(- \\frac{l^{2} m \\left(- u_{1} u_{2} \\sin{\\left(q_{2} \\right)} + \\cos{\\left(q_{2} \\right)} \\dot{u}_{1}\\right)}{12} + \\frac{l^{2} m u_{1} u_{2} \\sin{\\left(q_{2} \\right)}}{12}\\right) \\cos{\\left(q_{2} \\right)}\\\\- \\frac{l^{2} m u_{1}^{2} \\sin{\\left(q_{2} \\right)} \\cos{\\left(q_{2} \\right)}}{12} - \\frac{l^{2} m \\dot{u}_{2}}{12} + \\frac{l m q_{3} \\sin{\\left(q_{2} \\right)} \\dot{u}_{1}}{4} - \\frac{m \\left(q_{3} u_{1}^{2} \\sin{\\left(q_{2} \\right)} \\cos{\\left(q_{2} \\right)} + q_{3} \\dot{u}_{2} + 2 u_{2} u_{3}\\right) q_{3}}{4}\\\\- \\frac{l m \\cos{\\left(q_{2} \\right)} \\dot{u}_{1}}{4} - \\frac{m \\left(- q_{3} u_{1}^{2} \\cos^{2}{\\left(q_{2} \\right)} - q_{3} u_{2}^{2} + \\dot{u}_{3}\\right)}{4}\\end{matrix}\\right]$"
      ],
      "text/plain": [
       "⎡      2                 2             ⎛    ⎛       2    2            2     ⎞ \n",
       "⎢  19⋅l ⋅m⋅u₁̇   l⋅m⋅q₃⋅u₁ ⋅cos(q₂)     ⎜  m⋅⎝- q₃⋅u₁ ⋅cos (q₂) - q₃⋅u₂  + u₃̇\n",
       "⎢- ────────── - ────────────────── + l⋅⎜- ────────────────────────────────────\n",
       "⎢      12               4              ⎝                       4              \n",
       "⎢                                                                             \n",
       "⎢                                                                             \n",
       "⎢                                                                             \n",
       "⎢                                                                             \n",
       "⎢                                                                             \n",
       "⎢                                                                             \n",
       "⎢                                                                             \n",
       "⎢                                                                             \n",
       "⎢                                                                             \n",
       "⎣                                                                             \n",
       "\n",
       "            ⎛     2                                  ⎞        ⎞               \n",
       "⎠⋅cos(q₂)   m⋅⎝q₃⋅u₁ ⋅sin(q₂)⋅cos(q₂) + q₃⋅u₂̇ + 2⋅u₂⋅u₃⎠⋅sin(q₂)⎟   m⋅(2⋅q₃⋅u\n",
       "─────── + ────────────────────────────────────────────────────⎟ + ────────────\n",
       "                                   4                          ⎠               \n",
       "                                                                              \n",
       "             2     2                    2                              ⎛     2\n",
       "            l ⋅m⋅u₁ ⋅sin(q₂)⋅cos(q₂)   l ⋅m⋅u₂̇   l⋅m⋅q₃⋅sin(q₂)⋅u₁̇   m⋅⎝q₃⋅u\n",
       "          - ──────────────────────── - ─────── + ───────────────── - ─────────\n",
       "                       12                 12             4                    \n",
       "                                                                              \n",
       "                                                         ⎛       2    2       \n",
       "                                      l⋅m⋅cos(q₂)⋅u₁̇   m⋅⎝- q₃⋅u₁ ⋅cos (q₂) -\n",
       "                                    - ────────────── - ───────────────────────\n",
       "                                            4                           4     \n",
       "\n",
       "                                                          ⎛   2               \n",
       "₁⋅u₂⋅sin(q₂) - q₃⋅cos(q₂)⋅u₁̇ - 2⋅u₁⋅u₃⋅cos(q₂))⋅q₃⋅cos(q₂)   ⎜  l ⋅m⋅(-u₁⋅u₂⋅\n",
       "─────────────────────────────────────────────────────── + ⎜- ─────────────────\n",
       "                     4                                    ⎝                  1\n",
       "                                                                              \n",
       "                                  ⎞                                           \n",
       "₁ ⋅sin(q₂)⋅cos(q₂) + q₃⋅u₂̇ + 2⋅u₂⋅u₃⎠⋅q₃                                     \n",
       "──────────────────────────────────────                                        \n",
       "              4                                                               \n",
       "                                                                              \n",
       "     2     ⎞                                                                  \n",
       " q₃⋅u₂  + u₃̇⎠                                                                \n",
       "────────────                                                                  \n",
       "                                                                              \n",
       "\n",
       "                     2                ⎞        ⎤\n",
       "sin(q₂) + cos(q₂)⋅u₁̇)   l ⋅m⋅u₁⋅u₂⋅sin(q₂)⎟        ⎥\n",
       "───────────────── + ──────────────────⎟⋅cos(q₂)⎥\n",
       "2                           12        ⎠        ⎥\n",
       "                                               ⎥\n",
       "                                               ⎥\n",
       "                                                  ⎥\n",
       "                                               ⎥\n",
       "                                               ⎥\n",
       "                                               ⎥\n",
       "                                               ⎥\n",
       "                                                 ⎥\n",
       "                                               ⎥\n",
       "                                               ⎦"
      ]
     },
     "execution_count": 33,
     "metadata": {},
     "output_type": "execute_result"
    }
   ],
   "source": [
    "Frs = sm.Matrix([F1s, F2s, F3s])\n",
    "Frs"
   ]
  },
  {
   "cell_type": "code",
   "execution_count": 34,
   "id": "a43a2e45",
   "metadata": {
    "execution": {
     "iopub.execute_input": "2025-09-11T11:33:54.723146Z",
     "iopub.status.busy": "2025-09-11T11:33:54.722994Z",
     "iopub.status.idle": "2025-09-11T11:33:54.726708Z",
     "shell.execute_reply": "2025-09-11T11:33:54.726214Z"
    }
   },
   "outputs": [
    {
     "data": {
      "text/latex": [
       "$\\displaystyle \\left\\{q_{1}, q_{2}, q_{3}\\right\\}$"
      ],
      "text/plain": [
       "{q₁, q₂, q₃}"
      ]
     },
     "execution_count": 34,
     "metadata": {},
     "output_type": "execute_result"
    }
   ],
   "source": [
    "me.find_dynamicsymbols(Fr)"
   ]
  },
  {
   "cell_type": "code",
   "execution_count": 35,
   "id": "62aaa36b",
   "metadata": {
    "execution": {
     "iopub.execute_input": "2025-09-11T11:33:54.728054Z",
     "iopub.status.busy": "2025-09-11T11:33:54.727906Z",
     "iopub.status.idle": "2025-09-11T11:33:54.732498Z",
     "shell.execute_reply": "2025-09-11T11:33:54.732104Z"
    }
   },
   "outputs": [
    {
     "data": {
      "text/latex": [
       "$\\displaystyle \\left\\{q_{2}, q_{3}, u_{1}, u_{2}, u_{3}, \\dot{u}_{1}, \\dot{u}_{2}, \\dot{u}_{3}\\right\\}$"
      ],
      "text/plain": [
       "{q₂, q₃, u₁, u₂, u₃, u₁̇, u₂̇, u₃̇}"
      ]
     },
     "execution_count": 35,
     "metadata": {},
     "output_type": "execute_result"
    }
   ],
   "source": [
    "me.find_dynamicsymbols(Frs)"
   ]
  },
  {
   "cell_type": "code",
   "execution_count": 36,
   "id": "12786cc6",
   "metadata": {
    "execution": {
     "iopub.execute_input": "2025-09-11T11:33:54.733717Z",
     "iopub.status.busy": "2025-09-11T11:33:54.733573Z",
     "iopub.status.idle": "2025-09-11T11:33:54.739338Z",
     "shell.execute_reply": "2025-09-11T11:33:54.738928Z"
    }
   },
   "outputs": [
    {
     "data": {
      "text/latex": [
       "$\\displaystyle \\left[\\begin{matrix}\\dot{u}_{1}\\\\\\dot{u}_{2}\\\\\\dot{u}_{3}\\end{matrix}\\right]$"
      ],
      "text/plain": [
       "⎡u₁̇⎤\n",
       "⎢  ⎥\n",
       "⎢u₂̇⎥\n",
       "⎢  ⎥\n",
       "⎣u₃̇⎦"
      ]
     },
     "execution_count": 36,
     "metadata": {},
     "output_type": "execute_result"
    }
   ],
   "source": [
    "u = sm.Matrix([u1, u2, u3])\n",
    "ud = u.diff(t)\n",
    "ud"
   ]
  },
  {
   "cell_type": "code",
   "execution_count": 37,
   "id": "18af4bbc",
   "metadata": {
    "execution": {
     "iopub.execute_input": "2025-09-11T11:33:54.740532Z",
     "iopub.status.busy": "2025-09-11T11:33:54.740399Z",
     "iopub.status.idle": "2025-09-11T11:33:54.782766Z",
     "shell.execute_reply": "2025-09-11T11:33:54.782287Z"
    }
   },
   "outputs": [
    {
     "data": {
      "text/latex": [
       "$\\displaystyle \\left[\\begin{matrix}- \\frac{l^{2} m \\cos^{2}{\\left(q_{2} \\right)}}{12} - \\frac{19 l^{2} m}{12} - \\frac{m q_{3}^{2} \\cos^{2}{\\left(q_{2} \\right)}}{4} & \\frac{l m q_{3} \\sin{\\left(q_{2} \\right)}}{4} & - \\frac{l m \\cos{\\left(q_{2} \\right)}}{4}\\\\\\frac{l m q_{3} \\sin{\\left(q_{2} \\right)}}{4} & - \\frac{l^{2} m}{12} - \\frac{m q_{3}^{2}}{4} & 0\\\\- \\frac{l m \\cos{\\left(q_{2} \\right)}}{4} & 0 & - \\frac{m}{4}\\end{matrix}\\right]$"
      ],
      "text/plain": [
       "⎡   2      2           2         2    2                                   ⎤\n",
       "⎢  l ⋅m⋅cos (q₂)   19⋅l ⋅m   m⋅q₃ ⋅cos (q₂)  l⋅m⋅q₃⋅sin(q₂)  -l⋅m⋅cos(q₂) ⎥\n",
       "⎢- ───────────── - ─────── - ──────────────  ──────────────  ─────────────⎥\n",
       "⎢        12           12           4               4               4      ⎥\n",
       "⎢                                                                         ⎥\n",
       "⎢                                               2         2               ⎥\n",
       "⎢              l⋅m⋅q₃⋅sin(q₂)                  l ⋅m   m⋅q₃                ⎥\n",
       "⎢              ──────────────                - ──── - ─────        0      ⎥\n",
       "⎢                    4                          12      4                 ⎥\n",
       "⎢                                                                         ⎥\n",
       "⎢              -l⋅m⋅cos(q₂)                                       -m      ⎥\n",
       "⎢              ─────────────                       0              ───     ⎥\n",
       "⎣                    4                                             4      ⎦"
      ]
     },
     "execution_count": 37,
     "metadata": {},
     "output_type": "execute_result"
    }
   ],
   "source": [
    "Md = Frs.jacobian(ud)\n",
    "Md"
   ]
  },
  {
   "cell_type": "code",
   "execution_count": 38,
   "id": "2d00e36d",
   "metadata": {
    "execution": {
     "iopub.execute_input": "2025-09-11T11:33:54.784072Z",
     "iopub.status.busy": "2025-09-11T11:33:54.783934Z",
     "iopub.status.idle": "2025-09-11T11:33:54.788200Z",
     "shell.execute_reply": "2025-09-11T11:33:54.787797Z"
    }
   },
   "outputs": [
    {
     "data": {
      "text/latex": [
       "$\\displaystyle \\left\\{ \\dot{u}_{1} : 0, \\  \\dot{u}_{2} : 0, \\  \\dot{u}_{3} : 0\\right\\}$"
      ],
      "text/plain": [
       "{u₁̇: 0, u₂̇: 0, u₃̇: 0}"
      ]
     },
     "execution_count": 38,
     "metadata": {},
     "output_type": "execute_result"
    }
   ],
   "source": [
    "ud_zerod = {udr: 0 for udr in ud}\n",
    "ud_zerod"
   ]
  },
  {
   "cell_type": "code",
   "execution_count": 39,
   "id": "6a399344",
   "metadata": {
    "execution": {
     "iopub.execute_input": "2025-09-11T11:33:54.789461Z",
     "iopub.status.busy": "2025-09-11T11:33:54.789326Z",
     "iopub.status.idle": "2025-09-11T11:33:54.812528Z",
     "shell.execute_reply": "2025-09-11T11:33:54.812093Z"
    }
   },
   "outputs": [
    {
     "data": {
      "text/latex": [
       "$\\displaystyle \\left[\\begin{matrix}- \\frac{7 g l m \\sin{\\left(q_{1} \\right)}}{4} - \\frac{g m q_{3} \\cos{\\left(q_{1} \\right)} \\cos{\\left(q_{2} \\right)}}{4} - k_{t} q_{1} + \\frac{l^{2} m u_{1} u_{2} \\sin{\\left(q_{2} \\right)} \\cos{\\left(q_{2} \\right)}}{6} - \\frac{l m q_{3} u_{1}^{2} \\cos{\\left(q_{2} \\right)}}{4} + l \\left(- \\frac{m \\left(- q_{3} u_{1}^{2} \\cos^{2}{\\left(q_{2} \\right)} - q_{3} u_{2}^{2}\\right) \\cos{\\left(q_{2} \\right)}}{4} + \\frac{m \\left(q_{3} u_{1}^{2} \\sin{\\left(q_{2} \\right)} \\cos{\\left(q_{2} \\right)} + 2 u_{2} u_{3}\\right) \\sin{\\left(q_{2} \\right)}}{4}\\right) + \\frac{m \\left(2 q_{3} u_{1} u_{2} \\sin{\\left(q_{2} \\right)} - 2 u_{1} u_{3} \\cos{\\left(q_{2} \\right)}\\right) q_{3} \\cos{\\left(q_{2} \\right)}}{4}\\\\\\frac{g m q_{3} \\sin{\\left(q_{1} \\right)} \\sin{\\left(q_{2} \\right)}}{4} - k_{t} q_{2} - \\frac{l^{2} m u_{1}^{2} \\sin{\\left(q_{2} \\right)} \\cos{\\left(q_{2} \\right)}}{12} - \\frac{m \\left(q_{3} u_{1}^{2} \\sin{\\left(q_{2} \\right)} \\cos{\\left(q_{2} \\right)} + 2 u_{2} u_{3}\\right) q_{3}}{4}\\\\- \\frac{g m \\sin{\\left(q_{1} \\right)} \\cos{\\left(q_{2} \\right)}}{4} - k_{l} q_{3} - \\frac{m \\left(- q_{3} u_{1}^{2} \\cos^{2}{\\left(q_{2} \\right)} - q_{3} u_{2}^{2}\\right)}{4}\\end{matrix}\\right]$"
      ],
      "text/plain": [
       "⎡                                                      2                      \n",
       "⎢  7⋅g⋅l⋅m⋅sin(q₁)   g⋅m⋅q₃⋅cos(q₁)⋅cos(q₂)           l ⋅m⋅u₁⋅u₂⋅sin(q₂)⋅cos(q\n",
       "⎢- ─────────────── - ────────────────────── - kₜ⋅q₁ + ────────────────────────\n",
       "⎢         4                    4                                  6           \n",
       "⎢                                                                             \n",
       "⎢                                                                             \n",
       "⎢                                                                          g⋅m\n",
       "⎢                                                                          ───\n",
       "⎢                                                                             \n",
       "⎢                                                                             \n",
       "⎢                                                                             \n",
       "⎢                                                                             \n",
       "⎢                                                                             \n",
       "⎣                                                                             \n",
       "\n",
       "              2             ⎛    ⎛       2    2            2⎞             ⎛   \n",
       "₂)   l⋅m⋅q₃⋅u₁ ⋅cos(q₂)     ⎜  m⋅⎝- q₃⋅u₁ ⋅cos (q₂) - q₃⋅u₂ ⎠⋅cos(q₂)   m⋅⎝q₃⋅\n",
       "── - ────────────────── + l⋅⎜- ────────────────────────────────────── + ──────\n",
       "             4              ⎝                    4                            \n",
       "                                                                              \n",
       "                               2     2                     ⎛     2            \n",
       "⋅q₃⋅sin(q₁)⋅sin(q₂)           l ⋅m⋅u₁ ⋅sin(q₂)⋅cos(q₂)   m⋅⎝q₃⋅u₁ ⋅sin(q₂)⋅cos\n",
       "─────────────────── - kₜ⋅q₂ - ──────────────────────── - ─────────────────────\n",
       "       4                                 12                                 4 \n",
       "                                                                              \n",
       "                                                  ⎛       2    2            2⎞\n",
       "                  g⋅m⋅sin(q₁)⋅cos(q₂)           m⋅⎝- q₃⋅u₁ ⋅cos (q₂) - q₃⋅u₂ ⎠\n",
       "                - ─────────────────── - kₗ⋅q₃ - ──────────────────────────────\n",
       "                           4                                  4               \n",
       "\n",
       "  2                          ⎞        ⎞                                       \n",
       "u₁ ⋅sin(q₂)⋅cos(q₂) + 2⋅u₂⋅u₃⎠⋅sin(q₂)⎟   m⋅(2⋅q₃⋅u₁⋅u₂⋅sin(q₂) - 2⋅u₁⋅u₃⋅cos(\n",
       "──────────────────────────────────────⎟ + ────────────────────────────────────\n",
       "               4                      ⎠                            4          \n",
       "                                                                              \n",
       "              ⎞                                                               \n",
       "(q₂) + 2⋅u₂⋅u₃⎠⋅q₃                                                            \n",
       "──────────────────                                                            \n",
       "                                                                              \n",
       "                                                                              \n",
       "                                                                              \n",
       "                                                                              \n",
       "                                                                              \n",
       "                                                                              \n",
       "\n",
       "               ⎤\n",
       "q₂))⋅q₃⋅cos(q₂)⎥\n",
       "───────────────⎥\n",
       "               ⎥\n",
       "               ⎥\n",
       "               ⎥\n",
       "               ⎥\n",
       "               ⎥\n",
       "               ⎥\n",
       "               ⎥\n",
       "               ⎥\n",
       "               ⎥\n",
       "               ⎥\n",
       "               ⎦"
      ]
     },
     "execution_count": 39,
     "metadata": {},
     "output_type": "execute_result"
    }
   ],
   "source": [
    "gd = Frs.xreplace(ud_zerod) + Fr\n",
    "gd"
   ]
  },
  {
   "cell_type": "code",
   "execution_count": 40,
   "id": "954eda60",
   "metadata": {
    "execution": {
     "iopub.execute_input": "2025-09-11T11:33:54.813778Z",
     "iopub.status.busy": "2025-09-11T11:33:54.813630Z",
     "iopub.status.idle": "2025-09-11T11:33:54.817079Z",
     "shell.execute_reply": "2025-09-11T11:33:54.816601Z"
    }
   },
   "outputs": [
    {
     "data": {
      "text/latex": [
       "$\\displaystyle \\left\\{q_{2}, q_{3}\\right\\}$"
      ],
      "text/plain": [
       "{q₂, q₃}"
      ]
     },
     "execution_count": 40,
     "metadata": {},
     "output_type": "execute_result"
    }
   ],
   "source": [
    "me.find_dynamicsymbols(Md)"
   ]
  },
  {
   "cell_type": "code",
   "execution_count": 41,
   "id": "9c4e16ab",
   "metadata": {
    "execution": {
     "iopub.execute_input": "2025-09-11T11:33:54.818438Z",
     "iopub.status.busy": "2025-09-11T11:33:54.818292Z",
     "iopub.status.idle": "2025-09-11T11:33:54.822077Z",
     "shell.execute_reply": "2025-09-11T11:33:54.821599Z"
    }
   },
   "outputs": [
    {
     "data": {
      "text/latex": [
       "$\\displaystyle \\left\\{q_{1}, q_{2}, q_{3}, u_{1}, u_{2}, u_{3}\\right\\}$"
      ],
      "text/plain": [
       "{q₁, q₂, q₃, u₁, u₂, u₃}"
      ]
     },
     "execution_count": 41,
     "metadata": {},
     "output_type": "execute_result"
    }
   ],
   "source": [
    "me.find_dynamicsymbols(gd)"
   ]
  }
 ],
 "metadata": {
  "kernelspec": {
   "display_name": "Python 3 (ipykernel)",
   "language": "python",
   "name": "python3"
  },
  "language_info": {
   "codemirror_mode": {
    "name": "ipython",
    "version": 3
   },
   "file_extension": ".py",
   "mimetype": "text/x-python",
   "name": "python",
   "nbconvert_exporter": "python",
   "pygments_lexer": "ipython3",
   "version": "3.11.13"
  }
 },
 "nbformat": 4,
 "nbformat_minor": 5
}