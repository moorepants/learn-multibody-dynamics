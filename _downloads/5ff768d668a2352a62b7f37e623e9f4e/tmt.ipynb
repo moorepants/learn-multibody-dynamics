{
 "cells": [
  {
   "cell_type": "code",
   "execution_count": 1,
   "id": "009877e4",
   "metadata": {
    "execution": {
     "iopub.execute_input": "2025-09-11T11:38:10.839385Z",
     "iopub.status.busy": "2025-09-11T11:38:10.839215Z",
     "iopub.status.idle": "2025-09-11T11:38:11.241254Z",
     "shell.execute_reply": "2025-09-11T11:38:11.240670Z"
    }
   },
   "outputs": [],
   "source": [
    "import numpy as np\n",
    "import sympy as sm\n",
    "import sympy.physics.mechanics as me\n",
    "me.init_vprinting(use_latex='mathjax')"
   ]
  },
  {
   "cell_type": "code",
   "execution_count": 2,
   "id": "aa39757e",
   "metadata": {
    "execution": {
     "iopub.execute_input": "2025-09-11T11:38:11.243033Z",
     "iopub.status.busy": "2025-09-11T11:38:11.242832Z",
     "iopub.status.idle": "2025-09-11T11:38:11.246405Z",
     "shell.execute_reply": "2025-09-11T11:38:11.245900Z"
    }
   },
   "outputs": [],
   "source": [
    "class ReferenceFrame(me.ReferenceFrame):\n",
    "\n",
    "    def __init__(self, *args, **kwargs):\n",
    "\n",
    "        kwargs.pop('latexs', None)\n",
    "\n",
    "        lab = args[0].lower()\n",
    "        tex = r'\\hat{{{}}}_{}'\n",
    "\n",
    "        super(ReferenceFrame, self).__init__(*args,\n",
    "                                             latexs=(tex.format(lab, 'x'),\n",
    "                                                     tex.format(lab, 'y'),\n",
    "                                                     tex.format(lab, 'z')),\n",
    "                                             **kwargs)\n",
    "me.ReferenceFrame = ReferenceFrame"
   ]
  },
  {
   "cell_type": "code",
   "execution_count": 3,
   "id": "f1e67f3b",
   "metadata": {
    "execution": {
     "iopub.execute_input": "2025-09-11T11:38:11.247769Z",
     "iopub.status.busy": "2025-09-11T11:38:11.247623Z",
     "iopub.status.idle": "2025-09-11T11:38:11.255329Z",
     "shell.execute_reply": "2025-09-11T11:38:11.254903Z"
    }
   },
   "outputs": [
    {
     "data": {
      "text/latex": [
       "$\\displaystyle \\left( \\left[\\begin{matrix}q_{1}\\\\q_{2}\\\\q_{3}\\end{matrix}\\right], \\  \\left[\\begin{matrix}u_{1}\\\\u_{2}\\\\u_{3}\\end{matrix}\\right], \\  \\left[\\begin{matrix}g\\\\k_{l}\\\\k_{t}\\\\l\\\\m\\end{matrix}\\right]\\right)$"
      ],
      "text/plain": [
       "⎛            ⎡g ⎤⎞\n",
       "⎜            ⎢  ⎥⎟\n",
       "⎜⎡q₁⎤  ⎡u₁⎤  ⎢kₗ⎥⎟\n",
       "⎜⎢  ⎥  ⎢  ⎥  ⎢  ⎥⎟\n",
       "⎜⎢q₂⎥, ⎢u₂⎥, ⎢kₜ⎥⎟\n",
       "⎜⎢  ⎥  ⎢  ⎥  ⎢  ⎥⎟\n",
       "⎜⎣q₃⎦  ⎣u₃⎦  ⎢l ⎥⎟\n",
       "⎜            ⎢  ⎥⎟\n",
       "⎝            ⎣m ⎦⎠"
      ]
     },
     "execution_count": 3,
     "metadata": {},
     "output_type": "execute_result"
    }
   ],
   "source": [
    "m, g, kt, kl, l = sm.symbols('m, g, k_t, k_l, l')\n",
    "q1, q2, q3 = me.dynamicsymbols('q1, q2, q3')\n",
    "u1, u2, u3 = me.dynamicsymbols('u1, u2, u3')\n",
    "t = me.dynamicsymbols._t\n",
    "\n",
    "q = sm.Matrix([q1, q2, q3])\n",
    "u = sm.Matrix([u1, u2, u3])\n",
    "p = sm.Matrix([g, kl, kt, l, m])\n",
    "q, u, p"
   ]
  },
  {
   "cell_type": "code",
   "execution_count": 4,
   "id": "1f9c35e9",
   "metadata": {
    "execution": {
     "iopub.execute_input": "2025-09-11T11:38:11.256552Z",
     "iopub.status.busy": "2025-09-11T11:38:11.256409Z",
     "iopub.status.idle": "2025-09-11T11:38:11.283567Z",
     "shell.execute_reply": "2025-09-11T11:38:11.283090Z"
    }
   },
   "outputs": [
    {
     "data": {
      "text/latex": [
       "$\\displaystyle \\left( \\frac{l u_{1}}{2}\\hat{a}_y, \\  u_{1}\\hat{n}_z, \\  l u_{1}\\hat{a}_y, \\  u_{2}\\hat{a}_x + u_{1}\\hat{n}_z, \\  -  q_{3} u_{1} \\cos{\\left(q_{2} \\right)}\\hat{b}_x + u_{3}\\hat{b}_y + q_{3} u_{2}\\hat{b}_z + l u_{1}\\hat{a}_y\\right)$"
      ],
      "text/plain": [
       "⎛  l⋅u₁  , u₁ n_z, l⋅u₁ a_y, u₂ a_x + u₁ n_z, -q₃⋅u₁⋅cos(q₂) b_x + u₃ b_y + q₃\n",
       "⎜──── a_y                                                                     \n",
       "⎝    2                                                                        \n",
       "\n",
       "⋅u₂ b_z + l⋅u₁ a_y⎞\n",
       "                  ⎟\n",
       "                  ⎠"
      ]
     },
     "execution_count": 4,
     "metadata": {},
     "output_type": "execute_result"
    }
   ],
   "source": [
    "N = me.ReferenceFrame('N')\n",
    "A = me.ReferenceFrame('A')\n",
    "B = me.ReferenceFrame('B')\n",
    "\n",
    "A.orient_axis(N, q1, N.z)\n",
    "B.orient_axis(A, q2, A.x)\n",
    "\n",
    "A.set_ang_vel(N, u1*N.z)\n",
    "B.set_ang_vel(A, u2*A.x)\n",
    "\n",
    "O = me.Point('O')\n",
    "Ao = me.Point('A_O')\n",
    "Bo = me.Point('B_O')\n",
    "Q = me.Point('Q')\n",
    "\n",
    "Ao.set_pos(O, l/2*A.x)\n",
    "Bo.set_pos(O, l*A.x)\n",
    "Q.set_pos(Bo, q3*B.y)\n",
    "\n",
    "O.set_vel(N, 0)\n",
    "Ao.v2pt_theory(O, N, A)\n",
    "Bo.v2pt_theory(O, N, A)\n",
    "Q.set_vel(B, u3*B.y)\n",
    "Q.v1pt_theory(Bo, N, B)\n",
    "\n",
    "Ao.vel(N), A.ang_vel_in(N), Bo.vel(N), B.ang_vel_in(N), Q.vel(N)"
   ]
  },
  {
   "cell_type": "code",
   "execution_count": 5,
   "id": "ea378e3e",
   "metadata": {
    "execution": {
     "iopub.execute_input": "2025-09-11T11:38:11.284776Z",
     "iopub.status.busy": "2025-09-11T11:38:11.284631Z",
     "iopub.status.idle": "2025-09-11T11:38:11.290627Z",
     "shell.execute_reply": "2025-09-11T11:38:11.290206Z"
    }
   },
   "outputs": [],
   "source": [
    "R_Ao = m*g*N.x\n",
    "R_Bo = m*g*N.x + kl*q3*B.y\n",
    "R_Q = m/4*g*N.x - kl*q3*B.y\n",
    "T_A = -kt*q1*N.z + kt*q2*A.x\n",
    "T_B = -kt*q2*A.x"
   ]
  },
  {
   "cell_type": "code",
   "execution_count": 6,
   "id": "da600279",
   "metadata": {
    "execution": {
     "iopub.execute_input": "2025-09-11T11:38:11.291907Z",
     "iopub.status.busy": "2025-09-11T11:38:11.291761Z",
     "iopub.status.idle": "2025-09-11T11:38:11.295009Z",
     "shell.execute_reply": "2025-09-11T11:38:11.294617Z"
    }
   },
   "outputs": [],
   "source": [
    "I = m*l**2/12\n",
    "I_A_Ao = I*me.outer(A.y, A.y) + I*me.outer(A.z, A.z)\n",
    "I_B_Bo = I*me.outer(B.x, B.x) + I*me.outer(B.z, B.z)"
   ]
  },
  {
   "cell_type": "code",
   "execution_count": 7,
   "id": "1b797ede",
   "metadata": {
    "execution": {
     "iopub.execute_input": "2025-09-11T11:38:11.296313Z",
     "iopub.status.busy": "2025-09-11T11:38:11.296156Z",
     "iopub.status.idle": "2025-09-11T11:38:11.320708Z",
     "shell.execute_reply": "2025-09-11T11:38:11.320310Z"
    }
   },
   "outputs": [
    {
     "data": {
      "text/latex": [
       "$\\displaystyle \\left[\\begin{matrix}- \\frac{l u_{1} \\sin{\\left(q_{1} \\right)}}{2}\\\\\\frac{l u_{1} \\cos{\\left(q_{1} \\right)}}{2}\\\\0\\\\0\\\\0\\\\u_{1}\\\\- l u_{1} \\sin{\\left(q_{1} \\right)}\\\\l u_{1} \\cos{\\left(q_{1} \\right)}\\\\0\\\\u_{2} \\cos{\\left(q_{1} \\right)}\\\\u_{2} \\sin{\\left(q_{1} \\right)}\\\\u_{1}\\\\- l u_{1} \\sin{\\left(q_{1} \\right)} - q_{3} u_{1} \\cos{\\left(q_{1} \\right)} \\cos{\\left(q_{2} \\right)} + q_{3} u_{2} \\sin{\\left(q_{1} \\right)} \\sin{\\left(q_{2} \\right)} - u_{3} \\sin{\\left(q_{1} \\right)} \\cos{\\left(q_{2} \\right)}\\\\l u_{1} \\cos{\\left(q_{1} \\right)} - q_{3} u_{1} \\sin{\\left(q_{1} \\right)} \\cos{\\left(q_{2} \\right)} - q_{3} u_{2} \\sin{\\left(q_{2} \\right)} \\cos{\\left(q_{1} \\right)} + u_{3} \\cos{\\left(q_{1} \\right)} \\cos{\\left(q_{2} \\right)}\\\\q_{3} u_{2} \\cos{\\left(q_{2} \\right)} + u_{3} \\sin{\\left(q_{2} \\right)}\\end{matrix}\\right]$"
      ],
      "text/plain": [
       "⎡                                  -l⋅u₁⋅sin(q₁)                              \n",
       "⎢                                  ──────────────                             \n",
       "⎢                                        2                                    \n",
       "⎢                                                                             \n",
       "⎢                                   l⋅u₁⋅cos(q₁)                              \n",
       "⎢                                   ────────────                              \n",
       "⎢                                        2                                    \n",
       "⎢                                                                             \n",
       "⎢                                        0                                    \n",
       "⎢                                                                             \n",
       "⎢                                        0                                    \n",
       "⎢                                                                             \n",
       "⎢                                        0                                    \n",
       "⎢                                                                             \n",
       "⎢                                        u₁                                   \n",
       "⎢                                                                             \n",
       "⎢                                  -l⋅u₁⋅sin(q₁)                              \n",
       "⎢                                                                             \n",
       "⎢                                   l⋅u₁⋅cos(q₁)                              \n",
       "⎢                                                                             \n",
       "⎢                                        0                                    \n",
       "⎢                                                                             \n",
       "⎢                                    u₂⋅cos(q₁)                               \n",
       "⎢                                                                             \n",
       "⎢                                    u₂⋅sin(q₁)                               \n",
       "⎢                                                                             \n",
       "⎢                                        u₁                                   \n",
       "⎢                                                                             \n",
       "⎢-l⋅u₁⋅sin(q₁) - q₃⋅u₁⋅cos(q₁)⋅cos(q₂) + q₃⋅u₂⋅sin(q₁)⋅sin(q₂) - u₃⋅sin(q₁)⋅co\n",
       "⎢                                                                             \n",
       "⎢l⋅u₁⋅cos(q₁) - q₃⋅u₁⋅sin(q₁)⋅cos(q₂) - q₃⋅u₂⋅sin(q₂)⋅cos(q₁) + u₃⋅cos(q₁)⋅cos\n",
       "⎢                                                                             \n",
       "⎣                            q₃⋅u₂⋅cos(q₂) + u₃⋅sin(q₂)                       \n",
       "\n",
       "     ⎤\n",
       "     ⎥\n",
       "     ⎥\n",
       "     ⎥\n",
       "     ⎥\n",
       "     ⎥\n",
       "     ⎥\n",
       "     ⎥\n",
       "     ⎥\n",
       "     ⎥\n",
       "     ⎥\n",
       "     ⎥\n",
       "     ⎥\n",
       "     ⎥\n",
       "     ⎥\n",
       "     ⎥\n",
       "     ⎥\n",
       "     ⎥\n",
       "     ⎥\n",
       "     ⎥\n",
       "     ⎥\n",
       "     ⎥\n",
       "     ⎥\n",
       "     ⎥\n",
       "     ⎥\n",
       "     ⎥\n",
       "     ⎥\n",
       "     ⎥\n",
       "s(q₂)⎥\n",
       "     ⎥\n",
       "(q₂) ⎥\n",
       "     ⎥\n",
       "     ⎦"
      ]
     },
     "execution_count": 7,
     "metadata": {},
     "output_type": "execute_result"
    }
   ],
   "source": [
    "v = sm.Matrix([\n",
    "    Ao.vel(N).dot(N.x),\n",
    "    Ao.vel(N).dot(N.y),\n",
    "    Ao.vel(N).dot(N.z),\n",
    "    A.ang_vel_in(N).dot(N.x),\n",
    "    A.ang_vel_in(N).dot(N.y),\n",
    "    A.ang_vel_in(N).dot(N.z),\n",
    "    Bo.vel(N).dot(N.x),\n",
    "    Bo.vel(N).dot(N.y),\n",
    "    Bo.vel(N).dot(N.z),\n",
    "    B.ang_vel_in(N).dot(N.x),\n",
    "    B.ang_vel_in(N).dot(N.y),\n",
    "    B.ang_vel_in(N).dot(N.z),\n",
    "    Q.vel(N).dot(N.x),\n",
    "    Q.vel(N).dot(N.y),\n",
    "    Q.vel(N).dot(N.z),\n",
    "])\n",
    "v"
   ]
  },
  {
   "cell_type": "code",
   "execution_count": 8,
   "id": "e435c33d",
   "metadata": {
    "execution": {
     "iopub.execute_input": "2025-09-11T11:38:11.321972Z",
     "iopub.status.busy": "2025-09-11T11:38:11.321828Z",
     "iopub.status.idle": "2025-09-11T11:38:11.338882Z",
     "shell.execute_reply": "2025-09-11T11:38:11.338396Z"
    }
   },
   "outputs": [
    {
     "data": {
      "text/latex": [
       "$\\displaystyle \\left[\\begin{matrix}m & 0 & 0 & 0 & 0 & 0\\\\0 & m & 0 & 0 & 0 & 0\\\\0 & 0 & m & 0 & 0 & 0\\\\0 & 0 & 0 & \\frac{l^{2} m \\sin^{2}{\\left(q_{1} \\right)}}{12} & - \\frac{l^{2} m \\sin{\\left(q_{1} \\right)} \\cos{\\left(q_{1} \\right)}}{12} & 0\\\\0 & 0 & 0 & - \\frac{l^{2} m \\sin{\\left(q_{1} \\right)} \\cos{\\left(q_{1} \\right)}}{12} & \\frac{l^{2} m \\cos^{2}{\\left(q_{1} \\right)}}{12} & 0\\\\0 & 0 & 0 & 0 & 0 & \\frac{l^{2} m}{12}\\end{matrix}\\right]$"
      ],
      "text/plain": [
       "⎡m  0  0            0                       0              0  ⎤\n",
       "⎢                                                             ⎥\n",
       "⎢0  m  0            0                       0              0  ⎥\n",
       "⎢                                                             ⎥\n",
       "⎢0  0  m            0                       0              0  ⎥\n",
       "⎢                                                             ⎥\n",
       "⎢              2      2             2                         ⎥\n",
       "⎢             l ⋅m⋅sin (q₁)       -l ⋅m⋅sin(q₁)⋅cos(q₁)       ⎥\n",
       "⎢0  0  0      ─────────────       ──────────────────────   0  ⎥\n",
       "⎢                   12                      12                ⎥\n",
       "⎢                                                             ⎥\n",
       "⎢           2                          2      2               ⎥\n",
       "⎢         -l ⋅m⋅sin(q₁)⋅cos(q₁)       l ⋅m⋅cos (q₁)           ⎥\n",
       "⎢0  0  0  ──────────────────────      ─────────────        0  ⎥\n",
       "⎢                   12                      12                ⎥\n",
       "⎢                                                             ⎥\n",
       "⎢                                                          2  ⎥\n",
       "⎢                                                         l ⋅m⎥\n",
       "⎢0  0  0            0                       0             ────⎥\n",
       "⎣                                                          12 ⎦"
      ]
     },
     "execution_count": 8,
     "metadata": {},
     "output_type": "execute_result"
    }
   ],
   "source": [
    "MA = sm.diag(m, m, m).col_join(sm.zeros(3)).row_join(sm.zeros(3).col_join(I_A_Ao.to_matrix(N)))\n",
    "MA"
   ]
  },
  {
   "cell_type": "code",
   "execution_count": 9,
   "id": "27be5659",
   "metadata": {
    "execution": {
     "iopub.execute_input": "2025-09-11T11:38:11.340136Z",
     "iopub.status.busy": "2025-09-11T11:38:11.339993Z",
     "iopub.status.idle": "2025-09-11T11:38:11.630516Z",
     "shell.execute_reply": "2025-09-11T11:38:11.630054Z"
    }
   },
   "outputs": [
    {
     "data": {
      "text/latex": [
       "$\\displaystyle \\left[\\begin{matrix}m & 0 & 0 & 0 & 0 & 0\\\\0 & m & 0 & 0 & 0 & 0\\\\0 & 0 & m & 0 & 0 & 0\\\\0 & 0 & 0 & \\frac{l^{2} m \\left(\\sin^{2}{\\left(q_{1} \\right)} \\sin^{2}{\\left(q_{2} \\right)} - \\sin^{2}{\\left(q_{1} \\right)} + 1\\right)}{12} & \\frac{l^{2} m \\sin{\\left(q_{1} \\right)} \\cos{\\left(q_{1} \\right)} \\cos^{2}{\\left(q_{2} \\right)}}{12} & \\frac{l^{2} m \\left(\\cos{\\left(q_{1} - 2 q_{2} \\right)} - \\cos{\\left(q_{1} + 2 q_{2} \\right)}\\right)}{48}\\\\0 & 0 & 0 & \\frac{l^{2} m \\sin{\\left(q_{1} \\right)} \\cos{\\left(q_{1} \\right)} \\cos^{2}{\\left(q_{2} \\right)}}{12} & \\frac{l^{2} m \\left(- \\cos^{2}{\\left(q_{1} \\right)} \\cos^{2}{\\left(q_{2} \\right)} + 1\\right)}{12} & - \\frac{l^{2} m \\left(- \\sin{\\left(q_{1} - 2 q_{2} \\right)} + \\sin{\\left(q_{1} + 2 q_{2} \\right)}\\right)}{48}\\\\0 & 0 & 0 & \\frac{l^{2} m \\left(\\cos{\\left(q_{1} - 2 q_{2} \\right)} - \\cos{\\left(q_{1} + 2 q_{2} \\right)}\\right)}{48} & - \\frac{l^{2} m \\left(- \\sin{\\left(q_{1} - 2 q_{2} \\right)} + \\sin{\\left(q_{1} + 2 q_{2} \\right)}\\right)}{48} & \\frac{l^{2} m \\cos^{2}{\\left(q_{2} \\right)}}{12}\\end{matrix}\\right]$"
      ],
      "text/plain": [
       "⎡m  0  0                     0                                         0      \n",
       "⎢                                                                             \n",
       "⎢0  m  0                     0                                         0      \n",
       "⎢                                                                             \n",
       "⎢0  0  m                     0                                         0      \n",
       "⎢                                                                             \n",
       "⎢          2   ⎛   2        2          2        ⎞         2                   \n",
       "⎢         l ⋅m⋅⎝sin (q₁)⋅sin (q₂) - sin (q₁) + 1⎠        l ⋅m⋅sin(q₁)⋅cos(q₁)⋅\n",
       "⎢0  0  0  ───────────────────────────────────────        ─────────────────────\n",
       "⎢                            12                                        12     \n",
       "⎢                                                                             \n",
       "⎢               2                      2                 2   ⎛     2        2 \n",
       "⎢              l ⋅m⋅sin(q₁)⋅cos(q₁)⋅cos (q₂)            l ⋅m⋅⎝- cos (q₁)⋅cos (\n",
       "⎢0  0  0       ─────────────────────────────            ──────────────────────\n",
       "⎢                            12                                       12      \n",
       "⎢                                                                             \n",
       "⎢          2                                         2                        \n",
       "⎢         l ⋅m⋅(cos(q₁ - 2⋅q₂) - cos(q₁ + 2⋅q₂))   -l ⋅m⋅(-sin(q₁ - 2⋅q₂) + si\n",
       "⎢0  0  0  ──────────────────────────────────────   ───────────────────────────\n",
       "⎣                           48                                         48     \n",
       "\n",
       "                                    0                    ⎤\n",
       "                                                         ⎥\n",
       "                                    0                    ⎥\n",
       "                                                         ⎥\n",
       "                                    0                    ⎥\n",
       "                                                         ⎥\n",
       "   2              2                                      ⎥\n",
       "cos (q₂)         l ⋅m⋅(cos(q₁ - 2⋅q₂) - cos(q₁ + 2⋅q₂))  ⎥\n",
       "────────         ──────────────────────────────────────  ⎥\n",
       "                                   48                    ⎥\n",
       "                                                         ⎥\n",
       "       ⎞          2                                      ⎥\n",
       "q₂) + 1⎠        -l ⋅m⋅(-sin(q₁ - 2⋅q₂) + sin(q₁ + 2⋅q₂)) ⎥\n",
       "────────        ─────────────────────────────────────────⎥\n",
       "                                    48                   ⎥\n",
       "                                                         ⎥\n",
       "                               2      2                  ⎥\n",
       "n(q₁ + 2⋅q₂))                 l ⋅m⋅cos (q₂)              ⎥\n",
       "──────────────                ─────────────              ⎥\n",
       "                                    12                   ⎦"
      ]
     },
     "execution_count": 9,
     "metadata": {},
     "output_type": "execute_result"
    }
   ],
   "source": [
    "MB = sm.diag(m, m, m).col_join(sm.zeros(3)).row_join(sm.zeros(3).col_join(I_B_Bo.to_matrix(N)))\n",
    "sm.trigsimp(MB)"
   ]
  },
  {
   "cell_type": "code",
   "execution_count": 10,
   "id": "0d4653d9",
   "metadata": {
    "execution": {
     "iopub.execute_input": "2025-09-11T11:38:11.631855Z",
     "iopub.status.busy": "2025-09-11T11:38:11.631700Z",
     "iopub.status.idle": "2025-09-11T11:38:11.636378Z",
     "shell.execute_reply": "2025-09-11T11:38:11.635953Z"
    }
   },
   "outputs": [
    {
     "data": {
      "text/latex": [
       "$\\displaystyle \\left[\\begin{matrix}\\frac{m}{4} & 0 & 0\\\\0 & \\frac{m}{4} & 0\\\\0 & 0 & \\frac{m}{4}\\end{matrix}\\right]$"
      ],
      "text/plain": [
       "⎡m      ⎤\n",
       "⎢─  0  0⎥\n",
       "⎢4      ⎥\n",
       "⎢       ⎥\n",
       "⎢   m   ⎥\n",
       "⎢0  ─  0⎥\n",
       "⎢   4   ⎥\n",
       "⎢       ⎥\n",
       "⎢      m⎥\n",
       "⎢0  0  ─⎥\n",
       "⎣      4⎦"
      ]
     },
     "execution_count": 10,
     "metadata": {},
     "output_type": "execute_result"
    }
   ],
   "source": [
    "MQ = sm.diag(m/4, m/4, m/4)\n",
    "MQ"
   ]
  },
  {
   "cell_type": "code",
   "execution_count": 11,
   "id": "33485980",
   "metadata": {
    "execution": {
     "iopub.execute_input": "2025-09-11T11:38:11.637626Z",
     "iopub.status.busy": "2025-09-11T11:38:11.637489Z",
     "iopub.status.idle": "2025-09-11T11:38:11.640657Z",
     "shell.execute_reply": "2025-09-11T11:38:11.640166Z"
    }
   },
   "outputs": [],
   "source": [
    "M = sm.diag(MA, MB, MQ)"
   ]
  },
  {
   "cell_type": "code",
   "execution_count": 12,
   "id": "96401c18",
   "metadata": {
    "execution": {
     "iopub.execute_input": "2025-09-11T11:38:11.641930Z",
     "iopub.status.busy": "2025-09-11T11:38:11.641782Z",
     "iopub.status.idle": "2025-09-11T11:38:11.659172Z",
     "shell.execute_reply": "2025-09-11T11:38:11.658685Z"
    }
   },
   "outputs": [
    {
     "data": {
      "text/latex": [
       "$\\displaystyle \\left[\\begin{matrix}g m\\\\0\\\\0\\\\k_{t} q_{2} \\cos{\\left(q_{1} \\right)}\\\\k_{t} q_{2} \\sin{\\left(q_{1} \\right)}\\\\- k_{t} q_{1}\\\\g m - k_{l} q_{3} \\sin{\\left(q_{1} \\right)} \\cos{\\left(q_{2} \\right)}\\\\k_{l} q_{3} \\cos{\\left(q_{1} \\right)} \\cos{\\left(q_{2} \\right)}\\\\k_{l} q_{3} \\sin{\\left(q_{2} \\right)}\\\\- k_{t} q_{2} \\cos{\\left(q_{1} \\right)}\\\\- k_{t} q_{2} \\sin{\\left(q_{1} \\right)}\\\\0\\\\\\frac{g m}{4} + k_{l} q_{3} \\sin{\\left(q_{1} \\right)} \\cos{\\left(q_{2} \\right)}\\\\- k_{l} q_{3} \\cos{\\left(q_{1} \\right)} \\cos{\\left(q_{2} \\right)}\\\\- k_{l} q_{3} \\sin{\\left(q_{2} \\right)}\\end{matrix}\\right]$"
      ],
      "text/plain": [
       "⎡            g⋅m            ⎤\n",
       "⎢                           ⎥\n",
       "⎢             0             ⎥\n",
       "⎢                           ⎥\n",
       "⎢             0             ⎥\n",
       "⎢                           ⎥\n",
       "⎢       kₜ⋅q₂⋅cos(q₁)       ⎥\n",
       "⎢                           ⎥\n",
       "⎢       kₜ⋅q₂⋅sin(q₁)       ⎥\n",
       "⎢                           ⎥\n",
       "⎢          -kₜ⋅q₁           ⎥\n",
       "⎢                           ⎥\n",
       "⎢g⋅m - kₗ⋅q₃⋅sin(q₁)⋅cos(q₂)⎥\n",
       "⎢                           ⎥\n",
       "⎢   kₗ⋅q₃⋅cos(q₁)⋅cos(q₂)   ⎥\n",
       "⎢                           ⎥\n",
       "⎢       kₗ⋅q₃⋅sin(q₂)       ⎥\n",
       "⎢                           ⎥\n",
       "⎢      -kₜ⋅q₂⋅cos(q₁)       ⎥\n",
       "⎢                           ⎥\n",
       "⎢      -kₜ⋅q₂⋅sin(q₁)       ⎥\n",
       "⎢                           ⎥\n",
       "⎢             0             ⎥\n",
       "⎢                           ⎥\n",
       "⎢g⋅m                        ⎥\n",
       "⎢─── + kₗ⋅q₃⋅sin(q₁)⋅cos(q₂)⎥\n",
       "⎢ 4                         ⎥\n",
       "⎢                           ⎥\n",
       "⎢  -kₗ⋅q₃⋅cos(q₁)⋅cos(q₂)   ⎥\n",
       "⎢                           ⎥\n",
       "⎣      -kₗ⋅q₃⋅sin(q₂)       ⎦"
      ]
     },
     "execution_count": 12,
     "metadata": {},
     "output_type": "execute_result"
    }
   ],
   "source": [
    "F = sm.Matrix([\n",
    "    R_Ao.dot(N.x),\n",
    "    R_Ao.dot(N.y),\n",
    "    R_Ao.dot(N.z),\n",
    "    T_A.dot(N.x),\n",
    "    T_A.dot(N.y),\n",
    "    T_A.dot(N.z),\n",
    "    R_Bo.dot(N.x),\n",
    "    R_Bo.dot(N.y),\n",
    "    R_Bo.dot(N.z),\n",
    "    T_B.dot(N.x),\n",
    "    T_B.dot(N.y),\n",
    "    T_B.dot(N.z),\n",
    "    R_Q.dot(N.x),\n",
    "    R_Q.dot(N.y),\n",
    "    R_Q.dot(N.z),\n",
    "])\n",
    "F"
   ]
  },
  {
   "cell_type": "code",
   "execution_count": 13,
   "id": "0e58731e",
   "metadata": {
    "execution": {
     "iopub.execute_input": "2025-09-11T11:38:11.660535Z",
     "iopub.status.busy": "2025-09-11T11:38:11.660383Z",
     "iopub.status.idle": "2025-09-11T11:38:11.695871Z",
     "shell.execute_reply": "2025-09-11T11:38:11.695357Z"
    }
   },
   "outputs": [
    {
     "data": {
      "text/latex": [
       "$\\displaystyle \\left[\\begin{matrix}- \\frac{l \\sin{\\left(q_{1} \\right)}}{2} & 0 & 0\\\\\\frac{l \\cos{\\left(q_{1} \\right)}}{2} & 0 & 0\\\\0 & 0 & 0\\\\0 & 0 & 0\\\\0 & 0 & 0\\\\1 & 0 & 0\\\\- l \\sin{\\left(q_{1} \\right)} & 0 & 0\\\\l \\cos{\\left(q_{1} \\right)} & 0 & 0\\\\0 & 0 & 0\\\\0 & \\cos{\\left(q_{1} \\right)} & 0\\\\0 & \\sin{\\left(q_{1} \\right)} & 0\\\\1 & 0 & 0\\\\- l \\sin{\\left(q_{1} \\right)} - q_{3} \\cos{\\left(q_{1} \\right)} \\cos{\\left(q_{2} \\right)} & q_{3} \\sin{\\left(q_{1} \\right)} \\sin{\\left(q_{2} \\right)} & - \\sin{\\left(q_{1} \\right)} \\cos{\\left(q_{2} \\right)}\\\\l \\cos{\\left(q_{1} \\right)} - q_{3} \\sin{\\left(q_{1} \\right)} \\cos{\\left(q_{2} \\right)} & - q_{3} \\sin{\\left(q_{2} \\right)} \\cos{\\left(q_{1} \\right)} & \\cos{\\left(q_{1} \\right)} \\cos{\\left(q_{2} \\right)}\\\\0 & q_{3} \\cos{\\left(q_{2} \\right)} & \\sin{\\left(q_{2} \\right)}\\end{matrix}\\right]$"
      ],
      "text/plain": [
       "⎡          -l⋅sin(q₁)                                                  ⎤\n",
       "⎢          ───────────                     0                  0        ⎥\n",
       "⎢               2                                                      ⎥\n",
       "⎢                                                                      ⎥\n",
       "⎢           l⋅cos(q₁)                                                  ⎥\n",
       "⎢           ─────────                      0                  0        ⎥\n",
       "⎢               2                                                      ⎥\n",
       "⎢                                                                      ⎥\n",
       "⎢               0                          0                  0        ⎥\n",
       "⎢                                                                      ⎥\n",
       "⎢               0                          0                  0        ⎥\n",
       "⎢                                                                      ⎥\n",
       "⎢               0                          0                  0        ⎥\n",
       "⎢                                                                      ⎥\n",
       "⎢               1                          0                  0        ⎥\n",
       "⎢                                                                      ⎥\n",
       "⎢          -l⋅sin(q₁)                      0                  0        ⎥\n",
       "⎢                                                                      ⎥\n",
       "⎢           l⋅cos(q₁)                      0                  0        ⎥\n",
       "⎢                                                                      ⎥\n",
       "⎢               0                          0                  0        ⎥\n",
       "⎢                                                                      ⎥\n",
       "⎢               0                       cos(q₁)               0        ⎥\n",
       "⎢                                                                      ⎥\n",
       "⎢               0                       sin(q₁)               0        ⎥\n",
       "⎢                                                                      ⎥\n",
       "⎢               1                          0                  0        ⎥\n",
       "⎢                                                                      ⎥\n",
       "⎢-l⋅sin(q₁) - q₃⋅cos(q₁)⋅cos(q₂)  q₃⋅sin(q₁)⋅sin(q₂)   -sin(q₁)⋅cos(q₂)⎥\n",
       "⎢                                                                      ⎥\n",
       "⎢l⋅cos(q₁) - q₃⋅sin(q₁)⋅cos(q₂)   -q₃⋅sin(q₂)⋅cos(q₁)  cos(q₁)⋅cos(q₂) ⎥\n",
       "⎢                                                                      ⎥\n",
       "⎣               0                     q₃⋅cos(q₂)           sin(q₂)     ⎦"
      ]
     },
     "execution_count": 13,
     "metadata": {},
     "output_type": "execute_result"
    }
   ],
   "source": [
    "T = v.jacobian(u)\n",
    "T"
   ]
  },
  {
   "cell_type": "code",
   "execution_count": 14,
   "id": "fa808cfe",
   "metadata": {
    "execution": {
     "iopub.execute_input": "2025-09-11T11:38:11.697126Z",
     "iopub.status.busy": "2025-09-11T11:38:11.696972Z",
     "iopub.status.idle": "2025-09-11T11:38:15.016641Z",
     "shell.execute_reply": "2025-09-11T11:38:15.016087Z"
    }
   },
   "outputs": [
    {
     "data": {
      "text/latex": [
       "$\\displaystyle \\left[\\begin{matrix}- \\frac{l m u_{1}^{2} \\cos{\\left(q_{1} \\right)}}{2}\\\\- \\frac{l m u_{1}^{2} \\sin{\\left(q_{1} \\right)}}{2}\\\\0\\\\0\\\\0\\\\0\\\\- l m u_{1}^{2} \\cos{\\left(q_{1} \\right)}\\\\- l m u_{1}^{2} \\sin{\\left(q_{1} \\right)}\\\\0\\\\\\frac{l^{2} m \\left(u_{1} \\cos{\\left(q_{1} \\right)} \\cos{\\left(q_{2} \\right)} - 2 u_{2} \\sin{\\left(q_{1} \\right)} \\sin{\\left(q_{2} \\right)}\\right) u_{1} \\sin{\\left(q_{2} \\right)}}{12}\\\\\\frac{l^{2} m \\left(u_{1} \\sin{\\left(q_{1} \\right)} \\cos{\\left(q_{2} \\right)} + 2 u_{2} \\sin{\\left(q_{2} \\right)} \\cos{\\left(q_{1} \\right)}\\right) u_{1} \\sin{\\left(q_{2} \\right)}}{12}\\\\- \\frac{l^{2} m u_{1} u_{2} \\sin{\\left(2 q_{2} \\right)}}{12}\\\\\\frac{m \\left(- l u_{1}^{2} \\cos{\\left(q_{1} \\right)} + q_{3} u_{1}^{2} \\sin{\\left(q_{1} \\right)} \\cos{\\left(q_{2} \\right)} + 2 q_{3} u_{1} u_{2} \\sin{\\left(q_{2} \\right)} \\cos{\\left(q_{1} \\right)} + q_{3} u_{2}^{2} \\sin{\\left(q_{1} \\right)} \\cos{\\left(q_{2} \\right)} - 2 u_{1} u_{3} \\cos{\\left(q_{1} \\right)} \\cos{\\left(q_{2} \\right)} + 2 u_{2} u_{3} \\sin{\\left(q_{1} \\right)} \\sin{\\left(q_{2} \\right)}\\right)}{4}\\\\\\frac{m \\left(- l u_{1}^{2} \\sin{\\left(q_{1} \\right)} - q_{3} u_{1}^{2} \\cos{\\left(q_{1} \\right)} \\cos{\\left(q_{2} \\right)} + 2 q_{3} u_{1} u_{2} \\sin{\\left(q_{1} \\right)} \\sin{\\left(q_{2} \\right)} - q_{3} u_{2}^{2} \\cos{\\left(q_{1} \\right)} \\cos{\\left(q_{2} \\right)} - 2 u_{1} u_{3} \\sin{\\left(q_{1} \\right)} \\cos{\\left(q_{2} \\right)} - 2 u_{2} u_{3} \\sin{\\left(q_{2} \\right)} \\cos{\\left(q_{1} \\right)}\\right)}{4}\\\\\\frac{m \\left(- q_{3} u_{2} \\sin{\\left(q_{2} \\right)} + 2 u_{3} \\cos{\\left(q_{2} \\right)}\\right) u_{2}}{4}\\end{matrix}\\right]$"
      ],
      "text/plain": [
       "⎡                                                                         2   \n",
       "⎢                                                                  -l⋅m⋅u₁ ⋅co\n",
       "⎢                                                                  ───────────\n",
       "⎢                                                                          2  \n",
       "⎢                                                                             \n",
       "⎢                                                                         2   \n",
       "⎢                                                                  -l⋅m⋅u₁ ⋅si\n",
       "⎢                                                                  ───────────\n",
       "⎢                                                                          2  \n",
       "⎢                                                                             \n",
       "⎢                                                                          0  \n",
       "⎢                                                                             \n",
       "⎢                                                                          0  \n",
       "⎢                                                                             \n",
       "⎢                                                                          0  \n",
       "⎢                                                                             \n",
       "⎢                                                                          0  \n",
       "⎢                                                                             \n",
       "⎢                                                                          2  \n",
       "⎢                                                                   -l⋅m⋅u₁ ⋅c\n",
       "⎢                                                                             \n",
       "⎢                                                                          2  \n",
       "⎢                                                                   -l⋅m⋅u₁ ⋅s\n",
       "⎢                                                                             \n",
       "⎢                                                                          0  \n",
       "⎢                                                                             \n",
       "⎢                                              2                              \n",
       "⎢                                             l ⋅m⋅(u₁⋅cos(q₁)⋅cos(q₂) - 2⋅u₂⋅\n",
       "⎢                                             ────────────────────────────────\n",
       "⎢                                                                          12 \n",
       "⎢                                                                             \n",
       "⎢                                              2                              \n",
       "⎢                                             l ⋅m⋅(u₁⋅sin(q₁)⋅cos(q₂) + 2⋅u₂⋅\n",
       "⎢                                             ────────────────────────────────\n",
       "⎢                                                                          12 \n",
       "⎢                                                                             \n",
       "⎢                                                                  2          \n",
       "⎢                                                                -l ⋅m⋅u₁⋅u₂⋅s\n",
       "⎢                                                                ─────────────\n",
       "⎢                                                                          12 \n",
       "⎢                                                                             \n",
       "⎢  ⎛      2                2                                                  \n",
       "⎢m⋅⎝- l⋅u₁ ⋅cos(q₁) + q₃⋅u₁ ⋅sin(q₁)⋅cos(q₂) + 2⋅q₃⋅u₁⋅u₂⋅sin(q₂)⋅cos(q₁) + q₃\n",
       "⎢─────────────────────────────────────────────────────────────────────────────\n",
       "⎢                                                                          4  \n",
       "⎢                                                                             \n",
       "⎢  ⎛      2                2                                                  \n",
       "⎢m⋅⎝- l⋅u₁ ⋅sin(q₁) - q₃⋅u₁ ⋅cos(q₁)⋅cos(q₂) + 2⋅q₃⋅u₁⋅u₂⋅sin(q₁)⋅sin(q₂) - q₃\n",
       "⎢─────────────────────────────────────────────────────────────────────────────\n",
       "⎢                                                                          4  \n",
       "⎢                                                                             \n",
       "⎢                                                         m⋅(-q₃⋅u₂⋅sin(q₂) + \n",
       "⎢                                                         ────────────────────\n",
       "⎣                                                                          4  \n",
       "\n",
       "                                                                         ⎤\n",
       "s(q₁)                                                                    ⎥\n",
       "──────                                                                   ⎥\n",
       "                                                                         ⎥\n",
       "                                                                         ⎥\n",
       "                                                                         ⎥\n",
       "n(q₁)                                                                    ⎥\n",
       "──────                                                                   ⎥\n",
       "                                                                         ⎥\n",
       "                                                                         ⎥\n",
       "                                                                         ⎥\n",
       "                                                                         ⎥\n",
       "                                                                         ⎥\n",
       "                                                                         ⎥\n",
       "                                                                         ⎥\n",
       "                                                                         ⎥\n",
       "                                                                         ⎥\n",
       "                                                                         ⎥\n",
       "                                                                         ⎥\n",
       "os(q₁)                                                                   ⎥\n",
       "                                                                         ⎥\n",
       "                                                                         ⎥\n",
       "in(q₁)                                                                   ⎥\n",
       "                                                                         ⎥\n",
       "                                                                         ⎥\n",
       "                                                                         ⎥\n",
       "                                                                         ⎥\n",
       "sin(q₁)⋅sin(q₂))⋅u₁⋅sin(q₂)                                              ⎥\n",
       "───────────────────────────                                              ⎥\n",
       "                                                                         ⎥\n",
       "                                                                         ⎥\n",
       "                                                                         ⎥\n",
       "sin(q₂)⋅cos(q₁))⋅u₁⋅sin(q₂)                                              ⎥\n",
       "───────────────────────────                                              ⎥\n",
       "                                                                         ⎥\n",
       "                                                                         ⎥\n",
       "                                                                         ⎥\n",
       "in(2⋅q₂)                                                                 ⎥\n",
       "─────────                                                                ⎥\n",
       "                                                                         ⎥\n",
       "                                                                         ⎥\n",
       "   2                                                                    ⎞⎥\n",
       "⋅u₂ ⋅sin(q₁)⋅cos(q₂) - 2⋅u₁⋅u₃⋅cos(q₁)⋅cos(q₂) + 2⋅u₂⋅u₃⋅sin(q₁)⋅sin(q₂)⎠⎥\n",
       "─────────────────────────────────────────────────────────────────────────⎥\n",
       "                                                                         ⎥\n",
       "                                                                         ⎥\n",
       "   2                                                                    ⎞⎥\n",
       "⋅u₂ ⋅cos(q₁)⋅cos(q₂) - 2⋅u₁⋅u₃⋅sin(q₁)⋅cos(q₂) - 2⋅u₂⋅u₃⋅sin(q₂)⋅cos(q₁)⎠⎥\n",
       "─────────────────────────────────────────────────────────────────────────⎥\n",
       "                                                                         ⎥\n",
       "                                                                         ⎥\n",
       "2⋅u₃⋅cos(q₂))⋅u₂                                                         ⎥\n",
       "────────────────                                                         ⎥\n",
       "                                                                         ⎦"
      ]
     },
     "execution_count": 14,
     "metadata": {},
     "output_type": "execute_result"
    }
   ],
   "source": [
    "qd_repl = dict(zip(q.diff(t), u))\n",
    "ud_repl = {udi: 0 for udi in u.diff(t)}\n",
    "gbar = (M*v).diff(t).xreplace(qd_repl).xreplace(ud_repl)\n",
    "sm.trigsimp(gbar)"
   ]
  },
  {
   "cell_type": "code",
   "execution_count": 15,
   "id": "bf5fc32c",
   "metadata": {
    "execution": {
     "iopub.execute_input": "2025-09-11T11:38:15.018076Z",
     "iopub.status.busy": "2025-09-11T11:38:15.017923Z",
     "iopub.status.idle": "2025-09-11T11:38:16.417448Z",
     "shell.execute_reply": "2025-09-11T11:38:16.416892Z"
    }
   },
   "outputs": [
    {
     "data": {
      "text/latex": [
       "$\\displaystyle \\left[\\begin{matrix}- \\frac{m \\left(l^{2} \\cos^{2}{\\left(q_{2} \\right)} + 19 l^{2} + 3 q_{3}^{2} \\cos^{2}{\\left(q_{2} \\right)}\\right)}{12} & \\frac{l m q_{3} \\sin{\\left(q_{2} \\right)}}{4} & - \\frac{l m \\cos{\\left(q_{2} \\right)}}{4}\\\\\\frac{l m q_{3} \\sin{\\left(q_{2} \\right)}}{4} & - \\frac{m \\left(l^{2} + 3 q_{3}^{2}\\right)}{12} & 0\\\\- \\frac{l m \\cos{\\left(q_{2} \\right)}}{4} & 0 & - \\frac{m}{4}\\end{matrix}\\right]$"
      ],
      "text/plain": [
       "⎡   ⎛ 2    2           2       2    2    ⎞                                  ⎤\n",
       "⎢-m⋅⎝l ⋅cos (q₂) + 19⋅l  + 3⋅q₃ ⋅cos (q₂)⎠    l⋅m⋅q₃⋅sin(q₂)   -l⋅m⋅cos(q₂) ⎥\n",
       "⎢──────────────────────────────────────────   ──────────────   ─────────────⎥\n",
       "⎢                    12                             4                4      ⎥\n",
       "⎢                                                                           ⎥\n",
       "⎢                                               ⎛ 2       2⎞                ⎥\n",
       "⎢              l⋅m⋅q₃⋅sin(q₂)                -m⋅⎝l  + 3⋅q₃ ⎠                ⎥\n",
       "⎢              ──────────────                ────────────────        0      ⎥\n",
       "⎢                    4                              12                      ⎥\n",
       "⎢                                                                           ⎥\n",
       "⎢              -l⋅m⋅cos(q₂)                                         -m      ⎥\n",
       "⎢              ─────────────                        0               ───     ⎥\n",
       "⎣                    4                                               4      ⎦"
      ]
     },
     "execution_count": 15,
     "metadata": {},
     "output_type": "execute_result"
    }
   ],
   "source": [
    "Md = sm.trigsimp(-T.transpose()*M*T)\n",
    "Md"
   ]
  },
  {
   "cell_type": "code",
   "execution_count": 16,
   "id": "7f8f7af2",
   "metadata": {
    "execution": {
     "iopub.execute_input": "2025-09-11T11:38:16.419019Z",
     "iopub.status.busy": "2025-09-11T11:38:16.418845Z",
     "iopub.status.idle": "2025-09-11T11:38:34.406516Z",
     "shell.execute_reply": "2025-09-11T11:38:34.405979Z"
    }
   },
   "outputs": [
    {
     "data": {
      "text/latex": [
       "$\\displaystyle \\left[\\begin{matrix}- \\frac{7 g l m \\sin{\\left(q_{1} \\right)}}{4} - \\frac{g m q_{3} \\cos{\\left(q_{1} - q_{2} \\right)}}{8} - \\frac{g m q_{3} \\cos{\\left(q_{1} + q_{2} \\right)}}{8} - k_{t} q_{1} + \\frac{l^{2} m u_{1} u_{2} \\sin{\\left(2 q_{2} \\right)}}{12} + \\frac{l m q_{3} u_{2}^{2} \\cos{\\left(q_{2} \\right)}}{4} + \\frac{l m u_{2} u_{3} \\sin{\\left(q_{2} \\right)}}{2} + \\frac{m q_{3}^{2} u_{1} u_{2} \\sin{\\left(2 q_{2} \\right)}}{4} - \\frac{m q_{3} u_{1} u_{3} \\cos{\\left(2 q_{2} \\right)}}{4} - \\frac{m q_{3} u_{1} u_{3}}{4}\\\\\\frac{g m q_{3} \\cos{\\left(q_{1} - q_{2} \\right)}}{8} - \\frac{g m q_{3} \\cos{\\left(q_{1} + q_{2} \\right)}}{8} - k_{t} q_{2} - \\frac{l^{2} m u_{1}^{2} \\sin{\\left(2 q_{2} \\right)}}{24} - \\frac{m q_{3}^{2} u_{1}^{2} \\sin{\\left(2 q_{2} \\right)}}{8} - \\frac{m q_{3} u_{2} u_{3}}{2}\\\\- \\frac{g m \\sin{\\left(q_{1} \\right)} \\cos{\\left(q_{2} \\right)}}{4} - k_{l} q_{3} + \\frac{m q_{3} u_{1}^{2} \\cos^{2}{\\left(q_{2} \\right)}}{4} + \\frac{m q_{3} u_{2}^{2}}{4}\\end{matrix}\\right]$"
      ],
      "text/plain": [
       "⎡                                                                         2   \n",
       "⎢  7⋅g⋅l⋅m⋅sin(q₁)   g⋅m⋅q₃⋅cos(q₁ - q₂)   g⋅m⋅q₃⋅cos(q₁ + q₂)           l ⋅m⋅\n",
       "⎢- ─────────────── - ─────────────────── - ─────────────────── - kₜ⋅q₁ + ─────\n",
       "⎢         4                   8                     8                         \n",
       "⎢                                                                             \n",
       "⎢                                                                             \n",
       "⎢                                            g⋅m⋅q₃⋅cos(q₁ - q₂)   g⋅m⋅q₃⋅cos(\n",
       "⎢                                            ─────────────────── - ───────────\n",
       "⎢                                                     8                     8 \n",
       "⎢                                                                             \n",
       "⎢                                                                             \n",
       "⎢                                                                    g⋅m⋅sin(q\n",
       "⎢                                                                  - ─────────\n",
       "⎣                                                                             \n",
       "\n",
       "                           2                                   2              \n",
       "u₁⋅u₂⋅sin(2⋅q₂)   l⋅m⋅q₃⋅u₂ ⋅cos(q₂)   l⋅m⋅u₂⋅u₃⋅sin(q₂)   m⋅q₃ ⋅u₁⋅u₂⋅sin(2⋅q\n",
       "─────────────── + ────────────────── + ───────────────── + ───────────────────\n",
       "    12                    4                    2                     4        \n",
       "                                                                              \n",
       "                    2     2                 2   2                             \n",
       "q₁ + q₂)           l ⋅m⋅u₁ ⋅sin(2⋅q₂)   m⋅q₃ ⋅u₁ ⋅sin(2⋅q₂)   m⋅q₃⋅u₂⋅u₃      \n",
       "──────── - kₜ⋅q₂ - ────────────────── - ─────────────────── - ──────────      \n",
       "                           24                    8                2           \n",
       "                                                                              \n",
       "                            2    2              2                             \n",
       "₁)⋅cos(q₂)           m⋅q₃⋅u₁ ⋅cos (q₂)   m⋅q₃⋅u₂                              \n",
       "────────── - kₗ⋅q₃ + ───────────────── + ────────                             \n",
       "4                            4              4                                 \n",
       "\n",
       "                                      ⎤\n",
       "₂)   m⋅q₃⋅u₁⋅u₃⋅cos(2⋅q₂)   m⋅q₃⋅u₁⋅u₃⎥\n",
       "── - ──────────────────── - ──────────⎥\n",
       "              4                 4     ⎥\n",
       "                                      ⎥\n",
       "                                      ⎥\n",
       "                                      ⎥\n",
       "                                      ⎥\n",
       "                                      ⎥\n",
       "                                      ⎥\n",
       "                                      ⎥\n",
       "                                      ⎥\n",
       "                                      ⎥\n",
       "                                      ⎦"
      ]
     },
     "execution_count": 16,
     "metadata": {},
     "output_type": "execute_result"
    }
   ],
   "source": [
    "gd = sm.trigsimp(T.transpose()*(F - gbar))\n",
    "gd"
   ]
  },
  {
   "cell_type": "code",
   "execution_count": 17,
   "id": "3ad49be2",
   "metadata": {
    "execution": {
     "iopub.execute_input": "2025-09-11T11:38:34.407936Z",
     "iopub.status.busy": "2025-09-11T11:38:34.407773Z",
     "iopub.status.idle": "2025-09-11T11:38:34.410814Z",
     "shell.execute_reply": "2025-09-11T11:38:34.410325Z"
    }
   },
   "outputs": [],
   "source": [
    "u_vals = np.array([\n",
    "    0.1,  # u1, rad/s\n",
    "    2.2,  # u2, rad/s\n",
    "    0.3,  # u3, m/s\n",
    "])\n",
    "\n",
    "q_vals = np.array([\n",
    "    np.deg2rad(25.0),  # q1, rad\n",
    "    np.deg2rad(5.0),  # q2, rad\n",
    "    0.1,  # q3, m\n",
    "])\n",
    "\n",
    "p_vals = np.array([\n",
    "    9.81,  # g, m/s**2\n",
    "    2.0,  # kl, N/m\n",
    "    0.01,  # kt, Nm/rad\n",
    "    0.6,  # l, m\n",
    "    1.0,  # m, kg\n",
    "])"
   ]
  },
  {
   "cell_type": "code",
   "execution_count": 18,
   "id": "349422dc",
   "metadata": {
    "execution": {
     "iopub.execute_input": "2025-09-11T11:38:34.412178Z",
     "iopub.status.busy": "2025-09-11T11:38:34.412014Z",
     "iopub.status.idle": "2025-09-11T11:38:34.488356Z",
     "shell.execute_reply": "2025-09-11T11:38:34.487826Z"
    }
   },
   "outputs": [
    {
     "data": {
      "text/plain": [
       "(array([[-0.60225313,  0.00130734, -0.1494292 ],\n",
       "        [ 0.00130734, -0.0325    ,  0.        ],\n",
       "        [-0.1494292 ,  0.        , -0.25      ]]),\n",
       " array([[-4.48963535],\n",
       "        [-0.02486744],\n",
       "        [-1.1112791 ]]))"
      ]
     },
     "execution_count": 18,
     "metadata": {},
     "output_type": "execute_result"
    }
   ],
   "source": [
    "eval_d = sm.lambdify((u, q, p), (Md, gd))\n",
    "\n",
    "Md_vals, gd_vals = eval_d(u_vals, q_vals, p_vals)\n",
    "Md_vals, gd_vals"
   ]
  },
  {
   "cell_type": "code",
   "execution_count": 19,
   "id": "47860057",
   "metadata": {
    "execution": {
     "iopub.execute_input": "2025-09-11T11:38:34.489899Z",
     "iopub.status.busy": "2025-09-11T11:38:34.489677Z",
     "iopub.status.idle": "2025-09-11T11:38:34.493478Z",
     "shell.execute_reply": "2025-09-11T11:38:34.493057Z"
    }
   },
   "outputs": [
    {
     "data": {
      "text/plain": [
       "array([-7.46056427, -1.06525862,  0.01418834])"
      ]
     },
     "execution_count": 19,
     "metadata": {},
     "output_type": "execute_result"
    }
   ],
   "source": [
    "eval_d(u_vals, q_vals, p_vals)\n",
    "ud_vals = -np.linalg.solve(Md_vals, np.squeeze(gd_vals))\n",
    "ud_vals"
   ]
  }
 ],
 "metadata": {
  "kernelspec": {
   "display_name": "Python 3 (ipykernel)",
   "language": "python",
   "name": "python3"
  },
  "language_info": {
   "codemirror_mode": {
    "name": "ipython",
    "version": 3
   },
   "file_extension": ".py",
   "mimetype": "text/x-python",
   "name": "python",
   "nbconvert_exporter": "python",
   "pygments_lexer": "ipython3",
   "version": "3.11.13"
  }
 },
 "nbformat": 4,
 "nbformat_minor": 5
}