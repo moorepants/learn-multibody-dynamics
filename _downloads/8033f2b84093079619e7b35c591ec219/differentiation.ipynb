{
 "cells": [
  {
   "cell_type": "code",
   "execution_count": 1,
   "id": "7edd3eb0",
   "metadata": {
    "execution": {
     "iopub.execute_input": "2025-09-11T11:33:07.524706Z",
     "iopub.status.busy": "2025-09-11T11:33:07.524566Z",
     "iopub.status.idle": "2025-09-11T11:33:07.856985Z",
     "shell.execute_reply": "2025-09-11T11:33:07.856481Z"
    }
   },
   "outputs": [],
   "source": [
    "import sympy as sm\n",
    "import sympy.physics.mechanics as me\n",
    "sm.init_printing(use_latex='mathjax')"
   ]
  },
  {
   "cell_type": "code",
   "execution_count": 2,
   "id": "d04a1ecc",
   "metadata": {
    "execution": {
     "iopub.execute_input": "2025-09-11T11:33:07.858633Z",
     "iopub.status.busy": "2025-09-11T11:33:07.858454Z",
     "iopub.status.idle": "2025-09-11T11:33:07.861675Z",
     "shell.execute_reply": "2025-09-11T11:33:07.861288Z"
    }
   },
   "outputs": [],
   "source": [
    "class ReferenceFrame(me.ReferenceFrame):\n",
    "\n",
    "    def __init__(self, *args, **kwargs):\n",
    "\n",
    "        kwargs.pop('latexs', None)\n",
    "\n",
    "        lab = args[0].lower()\n",
    "        tex = r'\\hat{{{}}}_{}'\n",
    "\n",
    "        super(ReferenceFrame, self).__init__(*args,\n",
    "                                             latexs=(tex.format(lab, 'x'),\n",
    "                                                     tex.format(lab, 'y'),\n",
    "                                                     tex.format(lab, 'z')),\n",
    "                                             **kwargs)\n",
    "me.ReferenceFrame = ReferenceFrame"
   ]
  },
  {
   "cell_type": "code",
   "execution_count": 3,
   "id": "bb59b81a",
   "metadata": {
    "execution": {
     "iopub.execute_input": "2025-09-11T11:33:07.862903Z",
     "iopub.status.busy": "2025-09-11T11:33:07.862750Z",
     "iopub.status.idle": "2025-09-11T11:33:07.876180Z",
     "shell.execute_reply": "2025-09-11T11:33:07.875767Z"
    }
   },
   "outputs": [
    {
     "data": {
      "text/latex": [
       "$\\displaystyle a\\hat{a}_x + b\\hat{a}_y + c\\hat{b}_x + d\\hat{b}_y + e\\hat{c}_x + f\\hat{c}_y$"
      ],
      "text/plain": [
       "a a_x + b a_y + c b_x + d b_y + e c_x + f c_y"
      ]
     },
     "execution_count": 3,
     "metadata": {},
     "output_type": "execute_result"
    }
   ],
   "source": [
    "alpha, beta = sm.symbols('alpha, beta')\n",
    "a, b, c, d, e, f = sm.symbols('a, b, c, d, e, f')\n",
    "\n",
    "A = me.ReferenceFrame('A')\n",
    "B = me.ReferenceFrame('B')\n",
    "C = me.ReferenceFrame('C')\n",
    "\n",
    "B.orient_axis(A, alpha, A.x)\n",
    "C.orient_axis(B, beta, B.y)\n",
    "\n",
    "v = a*A.x + b*A.y + c*B.x + d*B.y + e*C.x + f*C.y\n",
    "v"
   ]
  },
  {
   "cell_type": "code",
   "execution_count": 4,
   "id": "14e9679a",
   "metadata": {
    "execution": {
     "iopub.execute_input": "2025-09-11T11:33:07.877412Z",
     "iopub.status.busy": "2025-09-11T11:33:07.877253Z",
     "iopub.status.idle": "2025-09-11T11:33:07.883924Z",
     "shell.execute_reply": "2025-09-11T11:33:07.883518Z"
    }
   },
   "outputs": [
    {
     "data": {
      "text/latex": [
       "$\\displaystyle 0$"
      ],
      "text/plain": [
       "0"
      ]
     },
     "execution_count": 4,
     "metadata": {},
     "output_type": "execute_result"
    }
   ],
   "source": [
    "dvdalphaAx = v.dot(A.x).diff(alpha)\n",
    "dvdalphaAx"
   ]
  },
  {
   "cell_type": "code",
   "execution_count": 5,
   "id": "a378211b",
   "metadata": {
    "execution": {
     "iopub.execute_input": "2025-09-11T11:33:07.885196Z",
     "iopub.status.busy": "2025-09-11T11:33:07.885054Z",
     "iopub.status.idle": "2025-09-11T11:33:07.895347Z",
     "shell.execute_reply": "2025-09-11T11:33:07.894941Z"
    }
   },
   "outputs": [
    {
     "data": {
      "text/latex": [
       "$\\displaystyle - d \\sin{\\left(\\alpha \\right)} + e \\sin{\\left(\\beta \\right)} \\cos{\\left(\\alpha \\right)} - f \\sin{\\left(\\alpha \\right)}$"
      ],
      "text/plain": [
       "-d⋅sin(α) + e⋅sin(β)⋅cos(α) - f⋅sin(α)"
      ]
     },
     "execution_count": 5,
     "metadata": {},
     "output_type": "execute_result"
    }
   ],
   "source": [
    "dvdalphaAy = v.dot(A.y).diff(alpha)\n",
    "dvdalphaAy"
   ]
  },
  {
   "cell_type": "code",
   "execution_count": 6,
   "id": "04c701c5",
   "metadata": {
    "execution": {
     "iopub.execute_input": "2025-09-11T11:33:07.896641Z",
     "iopub.status.busy": "2025-09-11T11:33:07.896498Z",
     "iopub.status.idle": "2025-09-11T11:33:07.905317Z",
     "shell.execute_reply": "2025-09-11T11:33:07.904824Z"
    }
   },
   "outputs": [
    {
     "data": {
      "text/latex": [
       "$\\displaystyle d \\cos{\\left(\\alpha \\right)} + e \\sin{\\left(\\alpha \\right)} \\sin{\\left(\\beta \\right)} + f \\cos{\\left(\\alpha \\right)}$"
      ],
      "text/plain": [
       "d⋅cos(α) + e⋅sin(α)⋅sin(β) + f⋅cos(α)"
      ]
     },
     "execution_count": 6,
     "metadata": {},
     "output_type": "execute_result"
    }
   ],
   "source": [
    "dvdalphaAz = v.dot(A.z).diff(alpha)\n",
    "dvdalphaAz"
   ]
  },
  {
   "cell_type": "code",
   "execution_count": 7,
   "id": "1eaeb6af",
   "metadata": {
    "execution": {
     "iopub.execute_input": "2025-09-11T11:33:07.906563Z",
     "iopub.status.busy": "2025-09-11T11:33:07.906412Z",
     "iopub.status.idle": "2025-09-11T11:33:07.912608Z",
     "shell.execute_reply": "2025-09-11T11:33:07.912183Z"
    }
   },
   "outputs": [
    {
     "data": {
      "text/latex": [
       "$\\displaystyle (- d \\sin{\\left(\\alpha \\right)} + e \\sin{\\left(\\beta \\right)} \\cos{\\left(\\alpha \\right)} - f \\sin{\\left(\\alpha \\right)})\\hat{a}_y + (d \\cos{\\left(\\alpha \\right)} + e \\sin{\\left(\\alpha \\right)} \\sin{\\left(\\beta \\right)} + f \\cos{\\left(\\alpha \\right)})\\hat{a}_z$"
      ],
      "text/plain": [
       "(-d⋅sin(α) + e⋅sin(β)⋅cos(α) - f⋅sin(α)) a_y + (d⋅cos(α) + e⋅sin(α)⋅sin(β) + f\n",
       "⋅cos(α)) a_z"
      ]
     },
     "execution_count": 7,
     "metadata": {},
     "output_type": "execute_result"
    }
   ],
   "source": [
    "dvdalphaA = dvdalphaAx*A.x + dvdalphaAy*A.y + dvdalphaAz*A.z\n",
    "dvdalphaA"
   ]
  },
  {
   "cell_type": "code",
   "execution_count": 8,
   "id": "00a477da",
   "metadata": {
    "execution": {
     "iopub.execute_input": "2025-09-11T11:33:07.913846Z",
     "iopub.status.busy": "2025-09-11T11:33:07.913704Z",
     "iopub.status.idle": "2025-09-11T11:33:07.932884Z",
     "shell.execute_reply": "2025-09-11T11:33:07.932502Z"
    }
   },
   "outputs": [
    {
     "data": {
      "text/latex": [
       "$\\displaystyle (- d \\sin{\\left(\\alpha \\right)} + e \\sin{\\left(\\beta \\right)} \\cos{\\left(\\alpha \\right)} - f \\sin{\\left(\\alpha \\right)})\\hat{a}_y + (d \\cos{\\left(\\alpha \\right)} + e \\sin{\\left(\\alpha \\right)} \\sin{\\left(\\beta \\right)} + f \\cos{\\left(\\alpha \\right)})\\hat{a}_z$"
      ],
      "text/plain": [
       "(-d⋅sin(α) + e⋅sin(β)⋅cos(α) - f⋅sin(α)) a_y + (d⋅cos(α) + e⋅sin(α)⋅sin(β) + f\n",
       "⋅cos(α)) a_z"
      ]
     },
     "execution_count": 8,
     "metadata": {},
     "output_type": "execute_result"
    }
   ],
   "source": [
    "v.diff(alpha, A)"
   ]
  },
  {
   "cell_type": "code",
   "execution_count": 9,
   "id": "28e84ab5",
   "metadata": {
    "execution": {
     "iopub.execute_input": "2025-09-11T11:33:07.934053Z",
     "iopub.status.busy": "2025-09-11T11:33:07.933915Z",
     "iopub.status.idle": "2025-09-11T11:33:07.941917Z",
     "shell.execute_reply": "2025-09-11T11:33:07.941433Z"
    }
   },
   "outputs": [
    {
     "data": {
      "text/latex": [
       "$\\displaystyle \\cos{\\left(\\beta \\right)}\\hat{b}_x -  \\sin{\\left(\\beta \\right)}\\hat{b}_z$"
      ],
      "text/plain": [
       "cos(β) b_x + -sin(β) b_z"
      ]
     },
     "execution_count": 9,
     "metadata": {},
     "output_type": "execute_result"
    }
   ],
   "source": [
    "dvdeBx = v.dot(B.x).diff(e)\n",
    "dvdeBy = v.dot(B.y).diff(e)\n",
    "dvdeBz = v.dot(B.z).diff(e)\n",
    "dvdeBx*B.x + dvdeBy*B.y + dvdeBz*B.z"
   ]
  },
  {
   "cell_type": "code",
   "execution_count": 10,
   "id": "8449a2f8",
   "metadata": {
    "execution": {
     "iopub.execute_input": "2025-09-11T11:33:07.943176Z",
     "iopub.status.busy": "2025-09-11T11:33:07.943029Z",
     "iopub.status.idle": "2025-09-11T11:33:07.947836Z",
     "shell.execute_reply": "2025-09-11T11:33:07.947354Z"
    }
   },
   "outputs": [
    {
     "data": {
      "text/latex": [
       "$\\displaystyle \\cos{\\left(\\beta \\right)}\\hat{b}_x -  \\sin{\\left(\\beta \\right)}\\hat{b}_z$"
      ],
      "text/plain": [
       "cos(β) b_x + -sin(β) b_z"
      ]
     },
     "execution_count": 10,
     "metadata": {},
     "output_type": "execute_result"
    }
   ],
   "source": [
    "v.diff(e, B).express(B)"
   ]
  },
  {
   "cell_type": "code",
   "execution_count": 11,
   "id": "1ad99df2",
   "metadata": {
    "execution": {
     "iopub.execute_input": "2025-09-11T11:33:07.949139Z",
     "iopub.status.busy": "2025-09-11T11:33:07.948992Z",
     "iopub.status.idle": "2025-09-11T11:33:07.952852Z",
     "shell.execute_reply": "2025-09-11T11:33:07.952353Z"
    }
   },
   "outputs": [
    {
     "data": {
      "text/latex": [
       "$\\displaystyle q{\\left(t \\right)}$"
      ],
      "text/plain": [
       "q(t)"
      ]
     },
     "execution_count": 11,
     "metadata": {},
     "output_type": "execute_result"
    }
   ],
   "source": [
    "t = sm.symbols('t')\n",
    "q_of = sm.Function('q')\n",
    "\n",
    "q = q_of(t)\n",
    "q"
   ]
  },
  {
   "cell_type": "code",
   "execution_count": 12,
   "id": "d5d57661",
   "metadata": {
    "execution": {
     "iopub.execute_input": "2025-09-11T11:33:07.954046Z",
     "iopub.status.busy": "2025-09-11T11:33:07.953897Z",
     "iopub.status.idle": "2025-09-11T11:33:07.957640Z",
     "shell.execute_reply": "2025-09-11T11:33:07.957256Z"
    }
   },
   "outputs": [
    {
     "data": {
      "text/latex": [
       "$\\displaystyle \\frac{d}{d t} q{\\left(t \\right)}$"
      ],
      "text/plain": [
       "d       \n",
       "──(q(t))\n",
       "dt      "
      ]
     },
     "execution_count": 12,
     "metadata": {},
     "output_type": "execute_result"
    }
   ],
   "source": [
    "q.diff(t)"
   ]
  },
  {
   "cell_type": "code",
   "execution_count": 13,
   "id": "3844e1a1",
   "metadata": {
    "execution": {
     "iopub.execute_input": "2025-09-11T11:33:07.958829Z",
     "iopub.status.busy": "2025-09-11T11:33:07.958682Z",
     "iopub.status.idle": "2025-09-11T11:33:07.962853Z",
     "shell.execute_reply": "2025-09-11T11:33:07.962358Z"
    }
   },
   "outputs": [
    {
     "data": {
      "text/latex": [
       "$\\displaystyle \\left( q_{1}{\\left(t \\right)}, \\  q_{2}{\\left(t \\right)}, \\  q_{3}{\\left(t \\right)}\\right)$"
      ],
      "text/plain": [
       "(q₁(t), q₂(t), q₃(t))"
      ]
     },
     "execution_count": 13,
     "metadata": {},
     "output_type": "execute_result"
    }
   ],
   "source": [
    "q1, q2, q3 = me.dynamicsymbols('q1, q2, q3')\n",
    "q1, q2, q3"
   ]
  },
  {
   "cell_type": "code",
   "execution_count": 14,
   "id": "7fe87a0e",
   "metadata": {
    "execution": {
     "iopub.execute_input": "2025-09-11T11:33:07.964101Z",
     "iopub.status.busy": "2025-09-11T11:33:07.963953Z",
     "iopub.status.idle": "2025-09-11T11:33:07.966041Z",
     "shell.execute_reply": "2025-09-11T11:33:07.965656Z"
    }
   },
   "outputs": [],
   "source": [
    "t = me.dynamicsymbols._t"
   ]
  },
  {
   "cell_type": "code",
   "execution_count": 15,
   "id": "590a22e6",
   "metadata": {
    "execution": {
     "iopub.execute_input": "2025-09-11T11:33:07.967290Z",
     "iopub.status.busy": "2025-09-11T11:33:07.967121Z",
     "iopub.status.idle": "2025-09-11T11:33:07.973343Z",
     "shell.execute_reply": "2025-09-11T11:33:07.972823Z"
    }
   },
   "outputs": [
    {
     "data": {
      "text/latex": [
       "$\\displaystyle \\left( \\dot{q}_{1}, \\  \\ddot{q}_{2}, \\  \\dddot{q}_{3}\\right)$"
      ],
      "text/plain": [
       "(q₁̇, q₂̈, q₃⃛)"
      ]
     },
     "execution_count": 15,
     "metadata": {},
     "output_type": "execute_result"
    }
   ],
   "source": [
    "me.init_vprinting(use_latex='mathjax')\n",
    "q1.diff(t), q2.diff(t, 2), q3.diff(t, 3)"
   ]
  },
  {
   "cell_type": "code",
   "execution_count": 16,
   "id": "0c9a716c",
   "metadata": {
    "execution": {
     "iopub.execute_input": "2025-09-11T11:33:07.974581Z",
     "iopub.status.busy": "2025-09-11T11:33:07.974432Z",
     "iopub.status.idle": "2025-09-11T11:33:07.989777Z",
     "shell.execute_reply": "2025-09-11T11:33:07.989390Z"
    }
   },
   "outputs": [
    {
     "data": {
      "text/latex": [
       "$\\displaystyle q_{1}\\hat{a}_x + q_{2}\\hat{a}_y + t^{2}\\hat{a}_z$"
      ],
      "text/plain": [
       "                   2\n",
       "q₁ a_x + q₂ a_y + t  a_z"
      ]
     },
     "execution_count": 16,
     "metadata": {},
     "output_type": "execute_result"
    }
   ],
   "source": [
    "A = me.ReferenceFrame('A')\n",
    "B = me.ReferenceFrame('B')\n",
    "B.orient_body_fixed(A, (q1, q2, q3), 'ZXZ')\n",
    "v = q1*A.x + q2*A.y + t**2*A.z\n",
    "v"
   ]
  },
  {
   "cell_type": "code",
   "execution_count": 17,
   "id": "0782497c",
   "metadata": {
    "execution": {
     "iopub.execute_input": "2025-09-11T11:33:07.991013Z",
     "iopub.status.busy": "2025-09-11T11:33:07.990879Z",
     "iopub.status.idle": "2025-09-11T11:33:07.997618Z",
     "shell.execute_reply": "2025-09-11T11:33:07.997121Z"
    }
   },
   "outputs": [
    {
     "data": {
      "text/latex": [
       "$\\displaystyle \\dot{q}_{1}\\hat{a}_x + \\dot{q}_{2}\\hat{a}_y + 2 t\\hat{a}_z$"
      ],
      "text/plain": [
       "q₁̇ a_x + q₂̇ a_y + 2⋅t a_z"
      ]
     },
     "execution_count": 17,
     "metadata": {},
     "output_type": "execute_result"
    }
   ],
   "source": [
    "v.diff(t, A)"
   ]
  },
  {
   "cell_type": "code",
   "execution_count": 18,
   "id": "8b47ea13",
   "metadata": {
    "execution": {
     "iopub.execute_input": "2025-09-11T11:33:07.998891Z",
     "iopub.status.busy": "2025-09-11T11:33:07.998753Z",
     "iopub.status.idle": "2025-09-11T11:33:08.003835Z",
     "shell.execute_reply": "2025-09-11T11:33:08.003458Z"
    }
   },
   "outputs": [
    {
     "data": {
      "text/latex": [
       "$\\displaystyle \\dot{q}_{1}\\hat{a}_x + \\dot{q}_{2}\\hat{a}_y + 2 t\\hat{a}_z$"
      ],
      "text/plain": [
       "q₁̇ a_x + q₂̇ a_y + 2⋅t a_z"
      ]
     },
     "execution_count": 18,
     "metadata": {},
     "output_type": "execute_result"
    }
   ],
   "source": [
    "v.dt(A)"
   ]
  }
 ],
 "metadata": {
  "kernelspec": {
   "display_name": "Python 3 (ipykernel)",
   "language": "python",
   "name": "python3"
  },
  "language_info": {
   "codemirror_mode": {
    "name": "ipython",
    "version": 3
   },
   "file_extension": ".py",
   "mimetype": "text/x-python",
   "name": "python",
   "nbconvert_exporter": "python",
   "pygments_lexer": "ipython3",
   "version": "3.11.13"
  }
 },
 "nbformat": 4,
 "nbformat_minor": 5
}