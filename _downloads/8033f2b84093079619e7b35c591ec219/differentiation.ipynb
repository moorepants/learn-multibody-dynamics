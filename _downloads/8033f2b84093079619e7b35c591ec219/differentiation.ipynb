{
 "cells": [
  {
   "cell_type": "code",
   "execution_count": 1,
   "id": "a1445cdb",
   "metadata": {
    "execution": {
     "iopub.execute_input": "2025-01-22T13:05:55.509876Z",
     "iopub.status.busy": "2025-01-22T13:05:55.509372Z",
     "iopub.status.idle": "2025-01-22T13:05:55.846808Z",
     "shell.execute_reply": "2025-01-22T13:05:55.846295Z"
    }
   },
   "outputs": [],
   "source": [
    "import sympy as sm\n",
    "import sympy.physics.mechanics as me\n",
    "sm.init_printing(use_latex='mathjax')"
   ]
  },
  {
   "cell_type": "code",
   "execution_count": 2,
   "id": "2b862b40",
   "metadata": {
    "execution": {
     "iopub.execute_input": "2025-01-22T13:05:55.848508Z",
     "iopub.status.busy": "2025-01-22T13:05:55.848313Z",
     "iopub.status.idle": "2025-01-22T13:05:55.851815Z",
     "shell.execute_reply": "2025-01-22T13:05:55.851419Z"
    }
   },
   "outputs": [],
   "source": [
    "class ReferenceFrame(me.ReferenceFrame):\n",
    "\n",
    "    def __init__(self, *args, **kwargs):\n",
    "\n",
    "        kwargs.pop('latexs', None)\n",
    "\n",
    "        lab = args[0].lower()\n",
    "        tex = r'\\hat{{{}}}_{}'\n",
    "\n",
    "        super(ReferenceFrame, self).__init__(*args,\n",
    "                                             latexs=(tex.format(lab, 'x'),\n",
    "                                                     tex.format(lab, 'y'),\n",
    "                                                     tex.format(lab, 'z')),\n",
    "                                             **kwargs)\n",
    "me.ReferenceFrame = ReferenceFrame"
   ]
  },
  {
   "cell_type": "code",
   "execution_count": 3,
   "id": "5f73a428",
   "metadata": {
    "execution": {
     "iopub.execute_input": "2025-01-22T13:05:55.853230Z",
     "iopub.status.busy": "2025-01-22T13:05:55.853082Z",
     "iopub.status.idle": "2025-01-22T13:05:55.866902Z",
     "shell.execute_reply": "2025-01-22T13:05:55.866401Z"
    }
   },
   "outputs": [
    {
     "data": {
      "text/latex": [
       "$\\displaystyle a\\hat{a}_x + b\\hat{a}_y + c\\hat{b}_x + d\\hat{b}_y + e\\hat{c}_x + f\\hat{c}_y$"
      ],
      "text/plain": [
       "a a_x + b a_y + c b_x + d b_y + e c_x + f c_y"
      ]
     },
     "execution_count": 3,
     "metadata": {},
     "output_type": "execute_result"
    }
   ],
   "source": [
    "alpha, beta = sm.symbols('alpha, beta')\n",
    "a, b, c, d, e, f = sm.symbols('a, b, c, d, e, f')\n",
    "\n",
    "A = me.ReferenceFrame('A')\n",
    "B = me.ReferenceFrame('B')\n",
    "C = me.ReferenceFrame('C')\n",
    "\n",
    "B.orient_axis(A, alpha, A.x)\n",
    "C.orient_axis(B, beta, B.y)\n",
    "\n",
    "v = a*A.x + b*A.y + c*B.x + d*B.y + e*C.x + f*C.y\n",
    "v"
   ]
  },
  {
   "cell_type": "code",
   "execution_count": 4,
   "id": "642ead43",
   "metadata": {
    "execution": {
     "iopub.execute_input": "2025-01-22T13:05:55.868330Z",
     "iopub.status.busy": "2025-01-22T13:05:55.868171Z",
     "iopub.status.idle": "2025-01-22T13:05:55.875184Z",
     "shell.execute_reply": "2025-01-22T13:05:55.874679Z"
    }
   },
   "outputs": [
    {
     "data": {
      "text/latex": [
       "$\\displaystyle 0$"
      ],
      "text/plain": [
       "0"
      ]
     },
     "execution_count": 4,
     "metadata": {},
     "output_type": "execute_result"
    }
   ],
   "source": [
    "dvdalphaAx = v.dot(A.x).diff(alpha)\n",
    "dvdalphaAx"
   ]
  },
  {
   "cell_type": "code",
   "execution_count": 5,
   "id": "4d962f84",
   "metadata": {
    "execution": {
     "iopub.execute_input": "2025-01-22T13:05:55.876599Z",
     "iopub.status.busy": "2025-01-22T13:05:55.876441Z",
     "iopub.status.idle": "2025-01-22T13:05:55.887157Z",
     "shell.execute_reply": "2025-01-22T13:05:55.886651Z"
    }
   },
   "outputs": [
    {
     "data": {
      "text/latex": [
       "$\\displaystyle - d \\sin{\\left(\\alpha \\right)} + e \\sin{\\left(\\beta \\right)} \\cos{\\left(\\alpha \\right)} - f \\sin{\\left(\\alpha \\right)}$"
      ],
      "text/plain": [
       "-d⋅sin(α) + e⋅sin(β)⋅cos(α) - f⋅sin(α)"
      ]
     },
     "execution_count": 5,
     "metadata": {},
     "output_type": "execute_result"
    }
   ],
   "source": [
    "dvdalphaAy = v.dot(A.y).diff(alpha)\n",
    "dvdalphaAy"
   ]
  },
  {
   "cell_type": "code",
   "execution_count": 6,
   "id": "35ea1f05",
   "metadata": {
    "execution": {
     "iopub.execute_input": "2025-01-22T13:05:55.888524Z",
     "iopub.status.busy": "2025-01-22T13:05:55.888369Z",
     "iopub.status.idle": "2025-01-22T13:05:55.897458Z",
     "shell.execute_reply": "2025-01-22T13:05:55.896982Z"
    }
   },
   "outputs": [
    {
     "data": {
      "text/latex": [
       "$\\displaystyle d \\cos{\\left(\\alpha \\right)} + e \\sin{\\left(\\alpha \\right)} \\sin{\\left(\\beta \\right)} + f \\cos{\\left(\\alpha \\right)}$"
      ],
      "text/plain": [
       "d⋅cos(α) + e⋅sin(α)⋅sin(β) + f⋅cos(α)"
      ]
     },
     "execution_count": 6,
     "metadata": {},
     "output_type": "execute_result"
    }
   ],
   "source": [
    "dvdalphaAz = v.dot(A.z).diff(alpha)\n",
    "dvdalphaAz"
   ]
  },
  {
   "cell_type": "code",
   "execution_count": 7,
   "id": "c01e09d3",
   "metadata": {
    "execution": {
     "iopub.execute_input": "2025-01-22T13:05:55.899117Z",
     "iopub.status.busy": "2025-01-22T13:05:55.898693Z",
     "iopub.status.idle": "2025-01-22T13:05:55.905344Z",
     "shell.execute_reply": "2025-01-22T13:05:55.904840Z"
    }
   },
   "outputs": [
    {
     "data": {
      "text/latex": [
       "$\\displaystyle (- d \\sin{\\left(\\alpha \\right)} + e \\sin{\\left(\\beta \\right)} \\cos{\\left(\\alpha \\right)} - f \\sin{\\left(\\alpha \\right)})\\hat{a}_y + (d \\cos{\\left(\\alpha \\right)} + e \\sin{\\left(\\alpha \\right)} \\sin{\\left(\\beta \\right)} + f \\cos{\\left(\\alpha \\right)})\\hat{a}_z$"
      ],
      "text/plain": [
       "(-d⋅sin(α) + e⋅sin(β)⋅cos(α) - f⋅sin(α)) a_y + (d⋅cos(α) + e⋅sin(α)⋅sin(β) + f\n",
       "⋅cos(α)) a_z"
      ]
     },
     "execution_count": 7,
     "metadata": {},
     "output_type": "execute_result"
    }
   ],
   "source": [
    "dvdalphaA = dvdalphaAx*A.x + dvdalphaAy*A.y + dvdalphaAz*A.z\n",
    "dvdalphaA"
   ]
  },
  {
   "cell_type": "code",
   "execution_count": 8,
   "id": "a0366ee8",
   "metadata": {
    "execution": {
     "iopub.execute_input": "2025-01-22T13:05:55.906768Z",
     "iopub.status.busy": "2025-01-22T13:05:55.906608Z",
     "iopub.status.idle": "2025-01-22T13:05:55.926152Z",
     "shell.execute_reply": "2025-01-22T13:05:55.925738Z"
    }
   },
   "outputs": [
    {
     "data": {
      "text/latex": [
       "$\\displaystyle (- d \\sin{\\left(\\alpha \\right)} + e \\sin{\\left(\\beta \\right)} \\cos{\\left(\\alpha \\right)} - f \\sin{\\left(\\alpha \\right)})\\hat{a}_y + (d \\cos{\\left(\\alpha \\right)} + e \\sin{\\left(\\alpha \\right)} \\sin{\\left(\\beta \\right)} + f \\cos{\\left(\\alpha \\right)})\\hat{a}_z$"
      ],
      "text/plain": [
       "(-d⋅sin(α) + e⋅sin(β)⋅cos(α) - f⋅sin(α)) a_y + (d⋅cos(α) + e⋅sin(α)⋅sin(β) + f\n",
       "⋅cos(α)) a_z"
      ]
     },
     "execution_count": 8,
     "metadata": {},
     "output_type": "execute_result"
    }
   ],
   "source": [
    "v.diff(alpha, A)"
   ]
  },
  {
   "cell_type": "code",
   "execution_count": 9,
   "id": "e671f798",
   "metadata": {
    "execution": {
     "iopub.execute_input": "2025-01-22T13:05:55.927671Z",
     "iopub.status.busy": "2025-01-22T13:05:55.927302Z",
     "iopub.status.idle": "2025-01-22T13:05:55.935471Z",
     "shell.execute_reply": "2025-01-22T13:05:55.934962Z"
    }
   },
   "outputs": [
    {
     "data": {
      "text/latex": [
       "$\\displaystyle \\cos{\\left(\\beta \\right)}\\hat{b}_x -  \\sin{\\left(\\beta \\right)}\\hat{b}_z$"
      ],
      "text/plain": [
       "cos(β) b_x + -sin(β) b_z"
      ]
     },
     "execution_count": 9,
     "metadata": {},
     "output_type": "execute_result"
    }
   ],
   "source": [
    "dvdeBx = v.dot(B.x).diff(e)\n",
    "dvdeBy = v.dot(B.y).diff(e)\n",
    "dvdeBz = v.dot(B.z).diff(e)\n",
    "dvdeBx*B.x + dvdeBy*B.y + dvdeBz*B.z"
   ]
  },
  {
   "cell_type": "code",
   "execution_count": 10,
   "id": "f2dd2091",
   "metadata": {
    "execution": {
     "iopub.execute_input": "2025-01-22T13:05:55.936952Z",
     "iopub.status.busy": "2025-01-22T13:05:55.936657Z",
     "iopub.status.idle": "2025-01-22T13:05:55.941582Z",
     "shell.execute_reply": "2025-01-22T13:05:55.941112Z"
    }
   },
   "outputs": [
    {
     "data": {
      "text/latex": [
       "$\\displaystyle \\cos{\\left(\\beta \\right)}\\hat{b}_x -  \\sin{\\left(\\beta \\right)}\\hat{b}_z$"
      ],
      "text/plain": [
       "cos(β) b_x + -sin(β) b_z"
      ]
     },
     "execution_count": 10,
     "metadata": {},
     "output_type": "execute_result"
    }
   ],
   "source": [
    "v.diff(e, B).express(B)"
   ]
  },
  {
   "cell_type": "code",
   "execution_count": 11,
   "id": "1d0c2df2",
   "metadata": {
    "execution": {
     "iopub.execute_input": "2025-01-22T13:05:55.942926Z",
     "iopub.status.busy": "2025-01-22T13:05:55.942784Z",
     "iopub.status.idle": "2025-01-22T13:05:55.946670Z",
     "shell.execute_reply": "2025-01-22T13:05:55.946233Z"
    }
   },
   "outputs": [
    {
     "data": {
      "text/latex": [
       "$\\displaystyle q{\\left(t \\right)}$"
      ],
      "text/plain": [
       "q(t)"
      ]
     },
     "execution_count": 11,
     "metadata": {},
     "output_type": "execute_result"
    }
   ],
   "source": [
    "t = sm.symbols('t')\n",
    "q_of = sm.Function('q')\n",
    "\n",
    "q = q_of(t)\n",
    "q"
   ]
  },
  {
   "cell_type": "code",
   "execution_count": 12,
   "id": "afeff68f",
   "metadata": {
    "execution": {
     "iopub.execute_input": "2025-01-22T13:05:55.948125Z",
     "iopub.status.busy": "2025-01-22T13:05:55.947810Z",
     "iopub.status.idle": "2025-01-22T13:05:55.951645Z",
     "shell.execute_reply": "2025-01-22T13:05:55.951199Z"
    }
   },
   "outputs": [
    {
     "data": {
      "text/latex": [
       "$\\displaystyle \\frac{d}{d t} q{\\left(t \\right)}$"
      ],
      "text/plain": [
       "d       \n",
       "──(q(t))\n",
       "dt      "
      ]
     },
     "execution_count": 12,
     "metadata": {},
     "output_type": "execute_result"
    }
   ],
   "source": [
    "q.diff(t)"
   ]
  },
  {
   "cell_type": "code",
   "execution_count": 13,
   "id": "5a1caf50",
   "metadata": {
    "execution": {
     "iopub.execute_input": "2025-01-22T13:05:55.953037Z",
     "iopub.status.busy": "2025-01-22T13:05:55.952887Z",
     "iopub.status.idle": "2025-01-22T13:05:55.957170Z",
     "shell.execute_reply": "2025-01-22T13:05:55.956671Z"
    }
   },
   "outputs": [
    {
     "data": {
      "text/latex": [
       "$\\displaystyle \\left( q_{1}{\\left(t \\right)}, \\  q_{2}{\\left(t \\right)}, \\  q_{3}{\\left(t \\right)}\\right)$"
      ],
      "text/plain": [
       "(q₁(t), q₂(t), q₃(t))"
      ]
     },
     "execution_count": 13,
     "metadata": {},
     "output_type": "execute_result"
    }
   ],
   "source": [
    "q1, q2, q3 = me.dynamicsymbols('q1, q2, q3')\n",
    "q1, q2, q3"
   ]
  },
  {
   "cell_type": "code",
   "execution_count": 14,
   "id": "df7c88da",
   "metadata": {
    "execution": {
     "iopub.execute_input": "2025-01-22T13:05:55.958525Z",
     "iopub.status.busy": "2025-01-22T13:05:55.958386Z",
     "iopub.status.idle": "2025-01-22T13:05:55.960562Z",
     "shell.execute_reply": "2025-01-22T13:05:55.960189Z"
    }
   },
   "outputs": [],
   "source": [
    "t = me.dynamicsymbols._t"
   ]
  },
  {
   "cell_type": "code",
   "execution_count": 15,
   "id": "8f35e0f6",
   "metadata": {
    "execution": {
     "iopub.execute_input": "2025-01-22T13:05:55.961898Z",
     "iopub.status.busy": "2025-01-22T13:05:55.961662Z",
     "iopub.status.idle": "2025-01-22T13:05:55.967989Z",
     "shell.execute_reply": "2025-01-22T13:05:55.967507Z"
    }
   },
   "outputs": [
    {
     "data": {
      "text/latex": [
       "$\\displaystyle \\left( \\dot{q}_{1}, \\  \\ddot{q}_{2}, \\  \\dddot{q}_{3}\\right)$"
      ],
      "text/plain": [
       "(q₁̇, q₂̈, q₃⃛)"
      ]
     },
     "execution_count": 15,
     "metadata": {},
     "output_type": "execute_result"
    }
   ],
   "source": [
    "me.init_vprinting(use_latex='mathjax')\n",
    "q1.diff(t), q2.diff(t, 2), q3.diff(t, 3)"
   ]
  },
  {
   "cell_type": "code",
   "execution_count": 16,
   "id": "77ec3a63",
   "metadata": {
    "execution": {
     "iopub.execute_input": "2025-01-22T13:05:55.969384Z",
     "iopub.status.busy": "2025-01-22T13:05:55.969144Z",
     "iopub.status.idle": "2025-01-22T13:05:55.984443Z",
     "shell.execute_reply": "2025-01-22T13:05:55.983968Z"
    }
   },
   "outputs": [
    {
     "data": {
      "text/latex": [
       "$\\displaystyle q_{1}\\hat{a}_x + q_{2}\\hat{a}_y + t^{2}\\hat{a}_z$"
      ],
      "text/plain": [
       "                   2\n",
       "q₁ a_x + q₂ a_y + t  a_z"
      ]
     },
     "execution_count": 16,
     "metadata": {},
     "output_type": "execute_result"
    }
   ],
   "source": [
    "A = me.ReferenceFrame('A')\n",
    "B = me.ReferenceFrame('B')\n",
    "B.orient_body_fixed(A, (q1, q2, q3), 'ZXZ')\n",
    "v = q1*A.x + q2*A.y + t**2*A.z\n",
    "v"
   ]
  },
  {
   "cell_type": "code",
   "execution_count": 17,
   "id": "f6769cbb",
   "metadata": {
    "execution": {
     "iopub.execute_input": "2025-01-22T13:05:55.985827Z",
     "iopub.status.busy": "2025-01-22T13:05:55.985687Z",
     "iopub.status.idle": "2025-01-22T13:05:55.992624Z",
     "shell.execute_reply": "2025-01-22T13:05:55.992257Z"
    }
   },
   "outputs": [
    {
     "data": {
      "text/latex": [
       "$\\displaystyle \\dot{q}_{1}\\hat{a}_x + \\dot{q}_{2}\\hat{a}_y + 2 t\\hat{a}_z$"
      ],
      "text/plain": [
       "q₁̇ a_x + q₂̇ a_y + 2⋅t a_z"
      ]
     },
     "execution_count": 17,
     "metadata": {},
     "output_type": "execute_result"
    }
   ],
   "source": [
    "v.diff(t, A)"
   ]
  },
  {
   "cell_type": "code",
   "execution_count": 18,
   "id": "a9a177c3",
   "metadata": {
    "execution": {
     "iopub.execute_input": "2025-01-22T13:05:55.993968Z",
     "iopub.status.busy": "2025-01-22T13:05:55.993828Z",
     "iopub.status.idle": "2025-01-22T13:05:55.999061Z",
     "shell.execute_reply": "2025-01-22T13:05:55.998660Z"
    }
   },
   "outputs": [
    {
     "data": {
      "text/latex": [
       "$\\displaystyle \\dot{q}_{1}\\hat{a}_x + \\dot{q}_{2}\\hat{a}_y + 2 t\\hat{a}_z$"
      ],
      "text/plain": [
       "q₁̇ a_x + q₂̇ a_y + 2⋅t a_z"
      ]
     },
     "execution_count": 18,
     "metadata": {},
     "output_type": "execute_result"
    }
   ],
   "source": [
    "v.dt(A)"
   ]
  }
 ],
 "metadata": {
  "kernelspec": {
   "display_name": "Python 3 (ipykernel)",
   "language": "python",
   "name": "python3"
  },
  "language_info": {
   "codemirror_mode": {
    "name": "ipython",
    "version": 3
   },
   "file_extension": ".py",
   "mimetype": "text/x-python",
   "name": "python",
   "nbconvert_exporter": "python",
   "pygments_lexer": "ipython3",
   "version": "3.11.11"
  }
 },
 "nbformat": 4,
 "nbformat_minor": 5
}