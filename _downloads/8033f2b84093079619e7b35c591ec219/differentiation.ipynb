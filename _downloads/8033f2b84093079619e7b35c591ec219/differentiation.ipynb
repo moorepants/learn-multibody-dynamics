{
 "cells": [
  {
   "cell_type": "code",
   "execution_count": 1,
   "id": "36f29d8f",
   "metadata": {
    "execution": {
     "iopub.execute_input": "2025-09-25T05:51:10.296485Z",
     "iopub.status.busy": "2025-09-25T05:51:10.296334Z",
     "iopub.status.idle": "2025-09-25T05:51:10.648290Z",
     "shell.execute_reply": "2025-09-25T05:51:10.647702Z"
    }
   },
   "outputs": [],
   "source": [
    "import sympy as sm\n",
    "import sympy.physics.mechanics as me\n",
    "sm.init_printing(use_latex='mathjax')"
   ]
  },
  {
   "cell_type": "code",
   "execution_count": 2,
   "id": "c3fe304a",
   "metadata": {
    "execution": {
     "iopub.execute_input": "2025-09-25T05:51:10.650229Z",
     "iopub.status.busy": "2025-09-25T05:51:10.649991Z",
     "iopub.status.idle": "2025-09-25T05:51:10.653645Z",
     "shell.execute_reply": "2025-09-25T05:51:10.653118Z"
    }
   },
   "outputs": [],
   "source": [
    "class ReferenceFrame(me.ReferenceFrame):\n",
    "\n",
    "    def __init__(self, *args, **kwargs):\n",
    "\n",
    "        kwargs.pop('latexs', None)\n",
    "\n",
    "        lab = args[0].lower()\n",
    "        tex = r'\\hat{{{}}}_{}'\n",
    "\n",
    "        super(ReferenceFrame, self).__init__(*args,\n",
    "                                             latexs=(tex.format(lab, 'x'),\n",
    "                                                     tex.format(lab, 'y'),\n",
    "                                                     tex.format(lab, 'z')),\n",
    "                                             **kwargs)\n",
    "me.ReferenceFrame = ReferenceFrame"
   ]
  },
  {
   "cell_type": "code",
   "execution_count": 3,
   "id": "d08170fa",
   "metadata": {
    "execution": {
     "iopub.execute_input": "2025-09-25T05:51:10.655060Z",
     "iopub.status.busy": "2025-09-25T05:51:10.654895Z",
     "iopub.status.idle": "2025-09-25T05:51:10.668867Z",
     "shell.execute_reply": "2025-09-25T05:51:10.668335Z"
    }
   },
   "outputs": [
    {
     "data": {
      "text/latex": [
       "$\\displaystyle a\\hat{a}_x + b\\hat{a}_y + c\\hat{b}_x + d\\hat{b}_y + e\\hat{c}_x + f\\hat{c}_y$"
      ],
      "text/plain": [
       "a a_x + b a_y + c b_x + d b_y + e c_x + f c_y"
      ]
     },
     "execution_count": 3,
     "metadata": {},
     "output_type": "execute_result"
    }
   ],
   "source": [
    "alpha, beta = sm.symbols('alpha, beta')\n",
    "a, b, c, d, e, f = sm.symbols('a, b, c, d, e, f')\n",
    "\n",
    "A = me.ReferenceFrame('A')\n",
    "B = me.ReferenceFrame('B')\n",
    "C = me.ReferenceFrame('C')\n",
    "\n",
    "B.orient_axis(A, alpha, A.x)\n",
    "C.orient_axis(B, beta, B.y)\n",
    "\n",
    "v = a*A.x + b*A.y + c*B.x + d*B.y + e*C.x + f*C.y\n",
    "v"
   ]
  },
  {
   "cell_type": "code",
   "execution_count": 4,
   "id": "90a5d74e",
   "metadata": {
    "execution": {
     "iopub.execute_input": "2025-09-25T05:51:10.670311Z",
     "iopub.status.busy": "2025-09-25T05:51:10.670122Z",
     "iopub.status.idle": "2025-09-25T05:51:10.677131Z",
     "shell.execute_reply": "2025-09-25T05:51:10.676745Z"
    }
   },
   "outputs": [
    {
     "data": {
      "text/latex": [
       "$\\displaystyle 0$"
      ],
      "text/plain": [
       "0"
      ]
     },
     "execution_count": 4,
     "metadata": {},
     "output_type": "execute_result"
    }
   ],
   "source": [
    "dvdalphaAx = v.dot(A.x).diff(alpha)\n",
    "dvdalphaAx"
   ]
  },
  {
   "cell_type": "code",
   "execution_count": 5,
   "id": "9c366f36",
   "metadata": {
    "execution": {
     "iopub.execute_input": "2025-09-25T05:51:10.678436Z",
     "iopub.status.busy": "2025-09-25T05:51:10.678291Z",
     "iopub.status.idle": "2025-09-25T05:51:10.688876Z",
     "shell.execute_reply": "2025-09-25T05:51:10.688380Z"
    }
   },
   "outputs": [
    {
     "data": {
      "text/latex": [
       "$\\displaystyle - d \\sin{\\left(\\alpha \\right)} + e \\sin{\\left(\\beta \\right)} \\cos{\\left(\\alpha \\right)} - f \\sin{\\left(\\alpha \\right)}$"
      ],
      "text/plain": [
       "-d⋅sin(α) + e⋅sin(β)⋅cos(α) - f⋅sin(α)"
      ]
     },
     "execution_count": 5,
     "metadata": {},
     "output_type": "execute_result"
    }
   ],
   "source": [
    "dvdalphaAy = v.dot(A.y).diff(alpha)\n",
    "dvdalphaAy"
   ]
  },
  {
   "cell_type": "code",
   "execution_count": 6,
   "id": "f16eb816",
   "metadata": {
    "execution": {
     "iopub.execute_input": "2025-09-25T05:51:10.690248Z",
     "iopub.status.busy": "2025-09-25T05:51:10.690077Z",
     "iopub.status.idle": "2025-09-25T05:51:10.698910Z",
     "shell.execute_reply": "2025-09-25T05:51:10.698493Z"
    }
   },
   "outputs": [
    {
     "data": {
      "text/latex": [
       "$\\displaystyle d \\cos{\\left(\\alpha \\right)} + e \\sin{\\left(\\alpha \\right)} \\sin{\\left(\\beta \\right)} + f \\cos{\\left(\\alpha \\right)}$"
      ],
      "text/plain": [
       "d⋅cos(α) + e⋅sin(α)⋅sin(β) + f⋅cos(α)"
      ]
     },
     "execution_count": 6,
     "metadata": {},
     "output_type": "execute_result"
    }
   ],
   "source": [
    "dvdalphaAz = v.dot(A.z).diff(alpha)\n",
    "dvdalphaAz"
   ]
  },
  {
   "cell_type": "code",
   "execution_count": 7,
   "id": "c8ce713e",
   "metadata": {
    "execution": {
     "iopub.execute_input": "2025-09-25T05:51:10.700218Z",
     "iopub.status.busy": "2025-09-25T05:51:10.700042Z",
     "iopub.status.idle": "2025-09-25T05:51:10.706413Z",
     "shell.execute_reply": "2025-09-25T05:51:10.705908Z"
    }
   },
   "outputs": [
    {
     "data": {
      "text/latex": [
       "$\\displaystyle (- d \\sin{\\left(\\alpha \\right)} + e \\sin{\\left(\\beta \\right)} \\cos{\\left(\\alpha \\right)} - f \\sin{\\left(\\alpha \\right)})\\hat{a}_y + (d \\cos{\\left(\\alpha \\right)} + e \\sin{\\left(\\alpha \\right)} \\sin{\\left(\\beta \\right)} + f \\cos{\\left(\\alpha \\right)})\\hat{a}_z$"
      ],
      "text/plain": [
       "(-d⋅sin(α) + e⋅sin(β)⋅cos(α) - f⋅sin(α)) a_y + (d⋅cos(α) + e⋅sin(α)⋅sin(β) + f\n",
       "⋅cos(α)) a_z"
      ]
     },
     "execution_count": 7,
     "metadata": {},
     "output_type": "execute_result"
    }
   ],
   "source": [
    "dvdalphaA = dvdalphaAx*A.x + dvdalphaAy*A.y + dvdalphaAz*A.z\n",
    "dvdalphaA"
   ]
  },
  {
   "cell_type": "code",
   "execution_count": 8,
   "id": "938e0166",
   "metadata": {
    "execution": {
     "iopub.execute_input": "2025-09-25T05:51:10.707674Z",
     "iopub.status.busy": "2025-09-25T05:51:10.707518Z",
     "iopub.status.idle": "2025-09-25T05:51:10.727794Z",
     "shell.execute_reply": "2025-09-25T05:51:10.727270Z"
    }
   },
   "outputs": [
    {
     "data": {
      "text/latex": [
       "$\\displaystyle (- d \\sin{\\left(\\alpha \\right)} + e \\sin{\\left(\\beta \\right)} \\cos{\\left(\\alpha \\right)} - f \\sin{\\left(\\alpha \\right)})\\hat{a}_y + (d \\cos{\\left(\\alpha \\right)} + e \\sin{\\left(\\alpha \\right)} \\sin{\\left(\\beta \\right)} + f \\cos{\\left(\\alpha \\right)})\\hat{a}_z$"
      ],
      "text/plain": [
       "(-d⋅sin(α) + e⋅sin(β)⋅cos(α) - f⋅sin(α)) a_y + (d⋅cos(α) + e⋅sin(α)⋅sin(β) + f\n",
       "⋅cos(α)) a_z"
      ]
     },
     "execution_count": 8,
     "metadata": {},
     "output_type": "execute_result"
    }
   ],
   "source": [
    "v.diff(alpha, A)"
   ]
  },
  {
   "cell_type": "code",
   "execution_count": 9,
   "id": "578555aa",
   "metadata": {
    "execution": {
     "iopub.execute_input": "2025-09-25T05:51:10.729213Z",
     "iopub.status.busy": "2025-09-25T05:51:10.729031Z",
     "iopub.status.idle": "2025-09-25T05:51:10.737361Z",
     "shell.execute_reply": "2025-09-25T05:51:10.736824Z"
    }
   },
   "outputs": [
    {
     "data": {
      "text/latex": [
       "$\\displaystyle \\cos{\\left(\\beta \\right)}\\hat{b}_x -  \\sin{\\left(\\beta \\right)}\\hat{b}_z$"
      ],
      "text/plain": [
       "cos(β) b_x + -sin(β) b_z"
      ]
     },
     "execution_count": 9,
     "metadata": {},
     "output_type": "execute_result"
    }
   ],
   "source": [
    "dvdeBx = v.dot(B.x).diff(e)\n",
    "dvdeBy = v.dot(B.y).diff(e)\n",
    "dvdeBz = v.dot(B.z).diff(e)\n",
    "dvdeBx*B.x + dvdeBy*B.y + dvdeBz*B.z"
   ]
  },
  {
   "cell_type": "code",
   "execution_count": 10,
   "id": "2c67c3f2",
   "metadata": {
    "execution": {
     "iopub.execute_input": "2025-09-25T05:51:10.738609Z",
     "iopub.status.busy": "2025-09-25T05:51:10.738458Z",
     "iopub.status.idle": "2025-09-25T05:51:10.743234Z",
     "shell.execute_reply": "2025-09-25T05:51:10.742802Z"
    }
   },
   "outputs": [
    {
     "data": {
      "text/latex": [
       "$\\displaystyle \\cos{\\left(\\beta \\right)}\\hat{b}_x -  \\sin{\\left(\\beta \\right)}\\hat{b}_z$"
      ],
      "text/plain": [
       "cos(β) b_x + -sin(β) b_z"
      ]
     },
     "execution_count": 10,
     "metadata": {},
     "output_type": "execute_result"
    }
   ],
   "source": [
    "v.diff(e, B).express(B)"
   ]
  },
  {
   "cell_type": "code",
   "execution_count": 11,
   "id": "787c6c5c",
   "metadata": {
    "execution": {
     "iopub.execute_input": "2025-09-25T05:51:10.744488Z",
     "iopub.status.busy": "2025-09-25T05:51:10.744335Z",
     "iopub.status.idle": "2025-09-25T05:51:10.748325Z",
     "shell.execute_reply": "2025-09-25T05:51:10.747806Z"
    }
   },
   "outputs": [
    {
     "data": {
      "text/latex": [
       "$\\displaystyle q{\\left(t \\right)}$"
      ],
      "text/plain": [
       "q(t)"
      ]
     },
     "execution_count": 11,
     "metadata": {},
     "output_type": "execute_result"
    }
   ],
   "source": [
    "t = sm.symbols('t')\n",
    "q_of = sm.Function('q')\n",
    "\n",
    "q = q_of(t)\n",
    "q"
   ]
  },
  {
   "cell_type": "code",
   "execution_count": 12,
   "id": "b8ff17f1",
   "metadata": {
    "execution": {
     "iopub.execute_input": "2025-09-25T05:51:10.749697Z",
     "iopub.status.busy": "2025-09-25T05:51:10.749543Z",
     "iopub.status.idle": "2025-09-25T05:51:10.753463Z",
     "shell.execute_reply": "2025-09-25T05:51:10.752940Z"
    }
   },
   "outputs": [
    {
     "data": {
      "text/latex": [
       "$\\displaystyle \\frac{d}{d t} q{\\left(t \\right)}$"
      ],
      "text/plain": [
       "d       \n",
       "──(q(t))\n",
       "dt      "
      ]
     },
     "execution_count": 12,
     "metadata": {},
     "output_type": "execute_result"
    }
   ],
   "source": [
    "q.diff(t)"
   ]
  },
  {
   "cell_type": "code",
   "execution_count": 13,
   "id": "a895c633",
   "metadata": {
    "execution": {
     "iopub.execute_input": "2025-09-25T05:51:10.754846Z",
     "iopub.status.busy": "2025-09-25T05:51:10.754693Z",
     "iopub.status.idle": "2025-09-25T05:51:10.758854Z",
     "shell.execute_reply": "2025-09-25T05:51:10.758358Z"
    }
   },
   "outputs": [
    {
     "data": {
      "text/latex": [
       "$\\displaystyle \\left( q_{1}{\\left(t \\right)}, \\  q_{2}{\\left(t \\right)}, \\  q_{3}{\\left(t \\right)}\\right)$"
      ],
      "text/plain": [
       "(q₁(t), q₂(t), q₃(t))"
      ]
     },
     "execution_count": 13,
     "metadata": {},
     "output_type": "execute_result"
    }
   ],
   "source": [
    "q1, q2, q3 = me.dynamicsymbols('q1, q2, q3')\n",
    "q1, q2, q3"
   ]
  },
  {
   "cell_type": "code",
   "execution_count": 14,
   "id": "6c662986",
   "metadata": {
    "execution": {
     "iopub.execute_input": "2025-09-25T05:51:10.760086Z",
     "iopub.status.busy": "2025-09-25T05:51:10.759940Z",
     "iopub.status.idle": "2025-09-25T05:51:10.762216Z",
     "shell.execute_reply": "2025-09-25T05:51:10.761702Z"
    }
   },
   "outputs": [],
   "source": [
    "t = me.dynamicsymbols._t"
   ]
  },
  {
   "cell_type": "code",
   "execution_count": 15,
   "id": "0ac329fa",
   "metadata": {
    "execution": {
     "iopub.execute_input": "2025-09-25T05:51:10.763427Z",
     "iopub.status.busy": "2025-09-25T05:51:10.763276Z",
     "iopub.status.idle": "2025-09-25T05:51:10.769569Z",
     "shell.execute_reply": "2025-09-25T05:51:10.769074Z"
    }
   },
   "outputs": [
    {
     "data": {
      "text/latex": [
       "$\\displaystyle \\left( \\dot{q}_{1}, \\  \\ddot{q}_{2}, \\  \\dddot{q}_{3}\\right)$"
      ],
      "text/plain": [
       "(q₁̇, q₂̈, q₃⃛)"
      ]
     },
     "execution_count": 15,
     "metadata": {},
     "output_type": "execute_result"
    }
   ],
   "source": [
    "me.init_vprinting(use_latex='mathjax')\n",
    "q1.diff(t), q2.diff(t, 2), q3.diff(t, 3)"
   ]
  },
  {
   "cell_type": "code",
   "execution_count": 16,
   "id": "44f00140",
   "metadata": {
    "execution": {
     "iopub.execute_input": "2025-09-25T05:51:10.770789Z",
     "iopub.status.busy": "2025-09-25T05:51:10.770639Z",
     "iopub.status.idle": "2025-09-25T05:51:10.786138Z",
     "shell.execute_reply": "2025-09-25T05:51:10.785751Z"
    }
   },
   "outputs": [
    {
     "data": {
      "text/latex": [
       "$\\displaystyle q_{1}\\hat{a}_x + q_{2}\\hat{a}_y + t^{2}\\hat{a}_z$"
      ],
      "text/plain": [
       "                   2\n",
       "q₁ a_x + q₂ a_y + t  a_z"
      ]
     },
     "execution_count": 16,
     "metadata": {},
     "output_type": "execute_result"
    }
   ],
   "source": [
    "A = me.ReferenceFrame('A')\n",
    "B = me.ReferenceFrame('B')\n",
    "B.orient_body_fixed(A, (q1, q2, q3), 'ZXZ')\n",
    "v = q1*A.x + q2*A.y + t**2*A.z\n",
    "v"
   ]
  },
  {
   "cell_type": "code",
   "execution_count": 17,
   "id": "99a75f40",
   "metadata": {
    "execution": {
     "iopub.execute_input": "2025-09-25T05:51:10.787447Z",
     "iopub.status.busy": "2025-09-25T05:51:10.787291Z",
     "iopub.status.idle": "2025-09-25T05:51:10.794201Z",
     "shell.execute_reply": "2025-09-25T05:51:10.793696Z"
    }
   },
   "outputs": [
    {
     "data": {
      "text/latex": [
       "$\\displaystyle \\dot{q}_{1}\\hat{a}_x + \\dot{q}_{2}\\hat{a}_y + 2 t\\hat{a}_z$"
      ],
      "text/plain": [
       "q₁̇ a_x + q₂̇ a_y + 2⋅t a_z"
      ]
     },
     "execution_count": 17,
     "metadata": {},
     "output_type": "execute_result"
    }
   ],
   "source": [
    "v.diff(t, A)"
   ]
  },
  {
   "cell_type": "code",
   "execution_count": 18,
   "id": "0b989ba4",
   "metadata": {
    "execution": {
     "iopub.execute_input": "2025-09-25T05:51:10.795462Z",
     "iopub.status.busy": "2025-09-25T05:51:10.795314Z",
     "iopub.status.idle": "2025-09-25T05:51:10.800556Z",
     "shell.execute_reply": "2025-09-25T05:51:10.800071Z"
    }
   },
   "outputs": [
    {
     "data": {
      "text/latex": [
       "$\\displaystyle \\dot{q}_{1}\\hat{a}_x + \\dot{q}_{2}\\hat{a}_y + 2 t\\hat{a}_z$"
      ],
      "text/plain": [
       "q₁̇ a_x + q₂̇ a_y + 2⋅t a_z"
      ]
     },
     "execution_count": 18,
     "metadata": {},
     "output_type": "execute_result"
    }
   ],
   "source": [
    "v.dt(A)"
   ]
  }
 ],
 "metadata": {
  "kernelspec": {
   "display_name": "Python 3 (ipykernel)",
   "language": "python",
   "name": "python3"
  },
  "language_info": {
   "codemirror_mode": {
    "name": "ipython",
    "version": 3
   },
   "file_extension": ".py",
   "mimetype": "text/x-python",
   "name": "python",
   "nbconvert_exporter": "python",
   "pygments_lexer": "ipython3",
   "version": "3.11.13"
  }
 },
 "nbformat": 4,
 "nbformat_minor": 5
}