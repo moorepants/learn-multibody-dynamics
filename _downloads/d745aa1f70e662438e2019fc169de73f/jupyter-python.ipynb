{
 "cells": [
  {
   "cell_type": "code",
   "execution_count": 1,
   "id": "08baccae",
   "metadata": {
    "execution": {
     "iopub.execute_input": "2025-09-11T11:36:26.610424Z",
     "iopub.status.busy": "2025-09-11T11:36:26.610283Z",
     "iopub.status.idle": "2025-09-11T11:36:26.617439Z",
     "shell.execute_reply": "2025-09-11T11:36:26.617016Z"
    }
   },
   "outputs": [
    {
     "data": {
      "application/json": {
       "cell": {
        "!": "OSMagics",
        "HTML": "Other",
        "SVG": "Other",
        "bash": "Other",
        "capture": "ExecutionMagics",
        "code_wrap": "ExecutionMagics",
        "debug": "ExecutionMagics",
        "file": "Other",
        "html": "DisplayMagics",
        "javascript": "DisplayMagics",
        "js": "DisplayMagics",
        "latex": "DisplayMagics",
        "markdown": "DisplayMagics",
        "perl": "Other",
        "prun": "ExecutionMagics",
        "pypy": "Other",
        "python": "Other",
        "python2": "Other",
        "python3": "Other",
        "ruby": "Other",
        "script": "ScriptMagics",
        "sh": "Other",
        "svg": "DisplayMagics",
        "sx": "OSMagics",
        "system": "OSMagics",
        "time": "ExecutionMagics",
        "timeit": "ExecutionMagics",
        "writefile": "OSMagics"
       },
       "line": {
        "alias": "OSMagics",
        "alias_magic": "BasicMagics",
        "autoawait": "AsyncMagics",
        "autocall": "AutoMagics",
        "automagic": "AutoMagics",
        "autosave": "KernelMagics",
        "bookmark": "OSMagics",
        "cat": "Other",
        "cd": "OSMagics",
        "clear": "KernelMagics",
        "code_wrap": "ExecutionMagics",
        "colors": "BasicMagics",
        "conda": "PackagingMagics",
        "config": "ConfigMagics",
        "connect_info": "KernelMagics",
        "cp": "Other",
        "debug": "ExecutionMagics",
        "dhist": "OSMagics",
        "dirs": "OSMagics",
        "doctest_mode": "BasicMagics",
        "ed": "Other",
        "edit": "KernelMagics",
        "env": "OSMagics",
        "gui": "BasicMagics",
        "hist": "Other",
        "history": "HistoryMagics",
        "killbgscripts": "ScriptMagics",
        "ldir": "Other",
        "less": "KernelMagics",
        "lf": "Other",
        "lk": "Other",
        "ll": "Other",
        "load": "CodeMagics",
        "load_ext": "ExtensionMagics",
        "loadpy": "CodeMagics",
        "logoff": "LoggingMagics",
        "logon": "LoggingMagics",
        "logstart": "LoggingMagics",
        "logstate": "LoggingMagics",
        "logstop": "LoggingMagics",
        "ls": "Other",
        "lsmagic": "BasicMagics",
        "lx": "Other",
        "macro": "ExecutionMagics",
        "magic": "BasicMagics",
        "mamba": "PackagingMagics",
        "man": "KernelMagics",
        "matplotlib": "PylabMagics",
        "micromamba": "PackagingMagics",
        "mkdir": "Other",
        "more": "KernelMagics",
        "mv": "Other",
        "notebook": "BasicMagics",
        "page": "BasicMagics",
        "pastebin": "CodeMagics",
        "pdb": "ExecutionMagics",
        "pdef": "NamespaceMagics",
        "pdoc": "NamespaceMagics",
        "pfile": "NamespaceMagics",
        "pinfo": "NamespaceMagics",
        "pinfo2": "NamespaceMagics",
        "pip": "PackagingMagics",
        "popd": "OSMagics",
        "pprint": "BasicMagics",
        "precision": "BasicMagics",
        "prun": "ExecutionMagics",
        "psearch": "NamespaceMagics",
        "psource": "NamespaceMagics",
        "pushd": "OSMagics",
        "pwd": "OSMagics",
        "pycat": "OSMagics",
        "pylab": "PylabMagics",
        "qtconsole": "KernelMagics",
        "quickref": "BasicMagics",
        "recall": "HistoryMagics",
        "rehashx": "OSMagics",
        "reload_ext": "ExtensionMagics",
        "rep": "Other",
        "rerun": "HistoryMagics",
        "reset": "NamespaceMagics",
        "reset_selective": "NamespaceMagics",
        "rm": "Other",
        "rmdir": "Other",
        "run": "ExecutionMagics",
        "save": "CodeMagics",
        "sc": "OSMagics",
        "set_env": "OSMagics",
        "store": "StoreMagics",
        "sx": "OSMagics",
        "system": "OSMagics",
        "tb": "ExecutionMagics",
        "time": "ExecutionMagics",
        "timeit": "ExecutionMagics",
        "unalias": "OSMagics",
        "unload_ext": "ExtensionMagics",
        "who": "NamespaceMagics",
        "who_ls": "NamespaceMagics",
        "whos": "NamespaceMagics",
        "xdel": "NamespaceMagics",
        "xmode": "BasicMagics"
       }
      },
      "text/plain": [
       "Available line magics:\n",
       "%alias  %alias_magic  %autoawait  %autocall  %automagic  %autosave  %bookmark  %cat  %cd  %clear  %code_wrap  %colors  %conda  %config  %connect_info  %cp  %debug  %dhist  %dirs  %doctest_mode  %ed  %edit  %env  %gui  %hist  %history  %killbgscripts  %ldir  %less  %lf  %lk  %ll  %load  %load_ext  %loadpy  %logoff  %logon  %logstart  %logstate  %logstop  %ls  %lsmagic  %lx  %macro  %magic  %mamba  %man  %matplotlib  %micromamba  %mkdir  %more  %mv  %notebook  %page  %pastebin  %pdb  %pdef  %pdoc  %pfile  %pinfo  %pinfo2  %pip  %popd  %pprint  %precision  %prun  %psearch  %psource  %pushd  %pwd  %pycat  %pylab  %qtconsole  %quickref  %recall  %rehashx  %reload_ext  %rep  %rerun  %reset  %reset_selective  %rm  %rmdir  %run  %save  %sc  %set_env  %store  %sx  %system  %tb  %time  %timeit  %unalias  %unload_ext  %who  %who_ls  %whos  %xdel  %xmode\n",
       "\n",
       "Available cell magics:\n",
       "%%!  %%HTML  %%SVG  %%bash  %%capture  %%code_wrap  %%debug  %%file  %%html  %%javascript  %%js  %%latex  %%markdown  %%perl  %%prun  %%pypy  %%python  %%python2  %%python3  %%ruby  %%script  %%sh  %%svg  %%sx  %%system  %%time  %%timeit  %%writefile\n",
       "\n",
       "Automagic is ON, % prefix IS NOT needed for line magics."
      ]
     },
     "execution_count": 1,
     "metadata": {},
     "output_type": "execute_result"
    }
   ],
   "source": [
    "%lsmagic"
   ]
  },
  {
   "cell_type": "code",
   "execution_count": 2,
   "id": "366bdffa",
   "metadata": {
    "execution": {
     "iopub.execute_input": "2025-09-11T11:36:26.618789Z",
     "iopub.status.busy": "2025-09-11T11:36:26.618645Z",
     "iopub.status.idle": "2025-09-11T11:36:26.621216Z",
     "shell.execute_reply": "2025-09-11T11:36:26.620835Z"
    }
   },
   "outputs": [
    {
     "name": "stdout",
     "output_type": "stream",
     "text": [
      "Variable   Type    Data/Info\n",
      "----------------------------\n",
      "a          int     5\n"
     ]
    }
   ],
   "source": [
    "a = 5\n",
    "\n",
    "%whos"
   ]
  },
  {
   "cell_type": "code",
   "execution_count": 3,
   "id": "26585314",
   "metadata": {
    "execution": {
     "iopub.execute_input": "2025-09-11T11:36:26.622445Z",
     "iopub.status.busy": "2025-09-11T11:36:26.622307Z",
     "iopub.status.idle": "2025-09-11T11:36:26.624526Z",
     "shell.execute_reply": "2025-09-11T11:36:26.624059Z"
    }
   },
   "outputs": [],
   "source": [
    "?"
   ]
  },
  {
   "cell_type": "code",
   "execution_count": 4,
   "id": "48744839",
   "metadata": {
    "execution": {
     "iopub.execute_input": "2025-09-11T11:36:26.625756Z",
     "iopub.status.busy": "2025-09-11T11:36:26.625619Z",
     "iopub.status.idle": "2025-09-11T11:36:26.628608Z",
     "shell.execute_reply": "2025-09-11T11:36:26.628128Z"
    }
   },
   "outputs": [],
   "source": [
    "%quickref"
   ]
  },
  {
   "cell_type": "code",
   "execution_count": 5,
   "id": "0943185a",
   "metadata": {
    "execution": {
     "iopub.execute_input": "2025-09-11T11:36:26.629888Z",
     "iopub.status.busy": "2025-09-11T11:36:26.629741Z",
     "iopub.status.idle": "2025-09-11T11:36:26.656321Z",
     "shell.execute_reply": "2025-09-11T11:36:26.655917Z"
    }
   },
   "outputs": [],
   "source": [
    "round?"
   ]
  },
  {
   "cell_type": "code",
   "execution_count": 6,
   "id": "65fd1997",
   "metadata": {
    "execution": {
     "iopub.execute_input": "2025-09-11T11:36:26.657536Z",
     "iopub.status.busy": "2025-09-11T11:36:26.657387Z",
     "iopub.status.idle": "2025-09-11T11:36:26.661299Z",
     "shell.execute_reply": "2025-09-11T11:36:26.660792Z"
    }
   },
   "outputs": [
    {
     "data": {
      "text/plain": [
       "(int, float, float, str, str, complex, bool)"
      ]
     },
     "execution_count": 6,
     "metadata": {},
     "output_type": "execute_result"
    }
   ],
   "source": [
    "a = 5\n",
    "b = 5.0\n",
    "c = float(5)\n",
    "d = 'dee'\n",
    "e = 'e'\n",
    "f = 2+3j\n",
    "g = True\n",
    "\n",
    "type(a), type(b), type(c), type(d), type(e), type(f), type(g)"
   ]
  },
  {
   "cell_type": "code",
   "execution_count": 7,
   "id": "c56616da",
   "metadata": {
    "execution": {
     "iopub.execute_input": "2025-09-11T11:36:26.662478Z",
     "iopub.status.busy": "2025-09-11T11:36:26.662331Z",
     "iopub.status.idle": "2025-09-11T11:36:26.665025Z",
     "shell.execute_reply": "2025-09-11T11:36:26.664645Z"
    }
   },
   "outputs": [],
   "source": [
    "empty_list = []\n",
    "\n",
    "string_list = ['lions', 'tigers', 'bears', 'sharks', 'hamsters']\n",
    "\n",
    "int_list = [0, 1, 2, 3, 4]\n",
    "\n",
    "int_list2 = list(range(5,10))\n",
    "\n",
    "list_from_variables = [a, b, c, d, e]\n",
    "\n",
    "list_of_lists = [empty_list,\n",
    "                 string_list,\n",
    "                 list_from_variables,\n",
    "                 int_list,\n",
    "                 int_list2]"
   ]
  },
  {
   "cell_type": "code",
   "execution_count": 8,
   "id": "811a8798",
   "metadata": {
    "execution": {
     "iopub.execute_input": "2025-09-11T11:36:26.666224Z",
     "iopub.status.busy": "2025-09-11T11:36:26.666081Z",
     "iopub.status.idle": "2025-09-11T11:36:26.669103Z",
     "shell.execute_reply": "2025-09-11T11:36:26.668713Z"
    }
   },
   "outputs": [
    {
     "data": {
      "text/plain": [
       "[]"
      ]
     },
     "execution_count": 8,
     "metadata": {},
     "output_type": "execute_result"
    }
   ],
   "source": [
    "empty_list"
   ]
  },
  {
   "cell_type": "code",
   "execution_count": 9,
   "id": "34a0418e",
   "metadata": {
    "execution": {
     "iopub.execute_input": "2025-09-11T11:36:26.670290Z",
     "iopub.status.busy": "2025-09-11T11:36:26.670130Z",
     "iopub.status.idle": "2025-09-11T11:36:26.673121Z",
     "shell.execute_reply": "2025-09-11T11:36:26.672748Z"
    }
   },
   "outputs": [
    {
     "data": {
      "text/plain": [
       "['lions', 'tigers', 'bears', 'sharks', 'hamsters']"
      ]
     },
     "execution_count": 9,
     "metadata": {},
     "output_type": "execute_result"
    }
   ],
   "source": [
    "string_list"
   ]
  },
  {
   "cell_type": "code",
   "execution_count": 10,
   "id": "9a5af4a3",
   "metadata": {
    "execution": {
     "iopub.execute_input": "2025-09-11T11:36:26.674301Z",
     "iopub.status.busy": "2025-09-11T11:36:26.674151Z",
     "iopub.status.idle": "2025-09-11T11:36:26.677095Z",
     "shell.execute_reply": "2025-09-11T11:36:26.676613Z"
    }
   },
   "outputs": [
    {
     "data": {
      "text/plain": [
       "[0, 1, 2, 3, 4]"
      ]
     },
     "execution_count": 10,
     "metadata": {},
     "output_type": "execute_result"
    }
   ],
   "source": [
    "int_list"
   ]
  },
  {
   "cell_type": "code",
   "execution_count": 11,
   "id": "e0075f5b",
   "metadata": {
    "execution": {
     "iopub.execute_input": "2025-09-11T11:36:26.678298Z",
     "iopub.status.busy": "2025-09-11T11:36:26.678134Z",
     "iopub.status.idle": "2025-09-11T11:36:26.681224Z",
     "shell.execute_reply": "2025-09-11T11:36:26.680747Z"
    }
   },
   "outputs": [
    {
     "data": {
      "text/plain": [
       "[5, 6, 7, 8, 9]"
      ]
     },
     "execution_count": 11,
     "metadata": {},
     "output_type": "execute_result"
    }
   ],
   "source": [
    "int_list2"
   ]
  },
  {
   "cell_type": "code",
   "execution_count": 12,
   "id": "59baa23f",
   "metadata": {
    "execution": {
     "iopub.execute_input": "2025-09-11T11:36:26.682429Z",
     "iopub.status.busy": "2025-09-11T11:36:26.682285Z",
     "iopub.status.idle": "2025-09-11T11:36:26.685341Z",
     "shell.execute_reply": "2025-09-11T11:36:26.684834Z"
    }
   },
   "outputs": [
    {
     "data": {
      "text/plain": [
       "[5, 5.0, 5.0, 'dee', 'e']"
      ]
     },
     "execution_count": 12,
     "metadata": {},
     "output_type": "execute_result"
    }
   ],
   "source": [
    "list_from_variables"
   ]
  },
  {
   "cell_type": "code",
   "execution_count": 13,
   "id": "aab712cf",
   "metadata": {
    "execution": {
     "iopub.execute_input": "2025-09-11T11:36:26.686568Z",
     "iopub.status.busy": "2025-09-11T11:36:26.686429Z",
     "iopub.status.idle": "2025-09-11T11:36:26.689606Z",
     "shell.execute_reply": "2025-09-11T11:36:26.689116Z"
    }
   },
   "outputs": [
    {
     "data": {
      "text/plain": [
       "[[],\n",
       " ['lions', 'tigers', 'bears', 'sharks', 'hamsters'],\n",
       " [5, 5.0, 5.0, 'dee', 'e'],\n",
       " [0, 1, 2, 3, 4],\n",
       " [5, 6, 7, 8, 9]]"
      ]
     },
     "execution_count": 13,
     "metadata": {},
     "output_type": "execute_result"
    }
   ],
   "source": [
    "list_of_lists"
   ]
  },
  {
   "cell_type": "code",
   "execution_count": 14,
   "id": "dee2af58",
   "metadata": {
    "execution": {
     "iopub.execute_input": "2025-09-11T11:36:26.690787Z",
     "iopub.status.busy": "2025-09-11T11:36:26.690646Z",
     "iopub.status.idle": "2025-09-11T11:36:26.693658Z",
     "shell.execute_reply": "2025-09-11T11:36:26.693180Z"
    }
   },
   "outputs": [
    {
     "data": {
      "text/plain": [
       "'lions'"
      ]
     },
     "execution_count": 14,
     "metadata": {},
     "output_type": "execute_result"
    }
   ],
   "source": [
    "string_list[0]"
   ]
  },
  {
   "cell_type": "code",
   "execution_count": 15,
   "id": "6d24cc2d",
   "metadata": {
    "execution": {
     "iopub.execute_input": "2025-09-11T11:36:26.694860Z",
     "iopub.status.busy": "2025-09-11T11:36:26.694721Z",
     "iopub.status.idle": "2025-09-11T11:36:26.697759Z",
     "shell.execute_reply": "2025-09-11T11:36:26.697284Z"
    }
   },
   "outputs": [
    {
     "data": {
      "text/plain": [
       "['tigers', 'bears', 'sharks']"
      ]
     },
     "execution_count": 15,
     "metadata": {},
     "output_type": "execute_result"
    }
   ],
   "source": [
    "string_list[1:4]"
   ]
  },
  {
   "cell_type": "code",
   "execution_count": 16,
   "id": "4c908932",
   "metadata": {
    "execution": {
     "iopub.execute_input": "2025-09-11T11:36:26.699064Z",
     "iopub.status.busy": "2025-09-11T11:36:26.698920Z",
     "iopub.status.idle": "2025-09-11T11:36:26.701955Z",
     "shell.execute_reply": "2025-09-11T11:36:26.701501Z"
    }
   },
   "outputs": [
    {
     "data": {
      "text/plain": [
       "[0, 2, 4]"
      ]
     },
     "execution_count": 16,
     "metadata": {},
     "output_type": "execute_result"
    }
   ],
   "source": [
    "int_list[::2]"
   ]
  },
  {
   "cell_type": "code",
   "execution_count": 17,
   "id": "9436a86c",
   "metadata": {
    "execution": {
     "iopub.execute_input": "2025-09-11T11:36:26.703152Z",
     "iopub.status.busy": "2025-09-11T11:36:26.703012Z",
     "iopub.status.idle": "2025-09-11T11:36:26.705997Z",
     "shell.execute_reply": "2025-09-11T11:36:26.705536Z"
    }
   },
   "outputs": [
    {
     "data": {
      "text/plain": [
       "'hamsters'"
      ]
     },
     "execution_count": 17,
     "metadata": {},
     "output_type": "execute_result"
    }
   ],
   "source": [
    "list_of_lists[1][4]"
   ]
  },
  {
   "cell_type": "code",
   "execution_count": 18,
   "id": "88665675",
   "metadata": {
    "execution": {
     "iopub.execute_input": "2025-09-11T11:36:26.707298Z",
     "iopub.status.busy": "2025-09-11T11:36:26.707130Z",
     "iopub.status.idle": "2025-09-11T11:36:26.709581Z",
     "shell.execute_reply": "2025-09-11T11:36:26.709101Z"
    }
   },
   "outputs": [],
   "source": [
    "int_list[2] = 222\n",
    "\n",
    "int_list.append(5)\n",
    "\n",
    "string_list.remove('lions')\n",
    "\n",
    "list_from_variables.extend(int_list)"
   ]
  },
  {
   "cell_type": "code",
   "execution_count": 19,
   "id": "bda1d31d",
   "metadata": {
    "execution": {
     "iopub.execute_input": "2025-09-11T11:36:26.710796Z",
     "iopub.status.busy": "2025-09-11T11:36:26.710654Z",
     "iopub.status.idle": "2025-09-11T11:36:26.713613Z",
     "shell.execute_reply": "2025-09-11T11:36:26.713121Z"
    }
   },
   "outputs": [
    {
     "data": {
      "text/plain": [
       "[0, 1, 222, 3, 4, 5]"
      ]
     },
     "execution_count": 19,
     "metadata": {},
     "output_type": "execute_result"
    }
   ],
   "source": [
    "int_list"
   ]
  },
  {
   "cell_type": "code",
   "execution_count": 20,
   "id": "7cc00bf0",
   "metadata": {
    "execution": {
     "iopub.execute_input": "2025-09-11T11:36:26.714909Z",
     "iopub.status.busy": "2025-09-11T11:36:26.714762Z",
     "iopub.status.idle": "2025-09-11T11:36:26.717545Z",
     "shell.execute_reply": "2025-09-11T11:36:26.717165Z"
    }
   },
   "outputs": [
    {
     "data": {
      "text/plain": [
       "['tigers', 'bears', 'sharks', 'hamsters']"
      ]
     },
     "execution_count": 20,
     "metadata": {},
     "output_type": "execute_result"
    }
   ],
   "source": [
    "string_list"
   ]
  },
  {
   "cell_type": "code",
   "execution_count": 21,
   "id": "8bf75676",
   "metadata": {
    "execution": {
     "iopub.execute_input": "2025-09-11T11:36:26.718751Z",
     "iopub.status.busy": "2025-09-11T11:36:26.718620Z",
     "iopub.status.idle": "2025-09-11T11:36:26.721624Z",
     "shell.execute_reply": "2025-09-11T11:36:26.721111Z"
    }
   },
   "outputs": [
    {
     "data": {
      "text/plain": [
       "[5, 5.0, 5.0, 'dee', 'e', 0, 1, 222, 3, 4, 5]"
      ]
     },
     "execution_count": 21,
     "metadata": {},
     "output_type": "execute_result"
    }
   ],
   "source": [
    "list_from_variables"
   ]
  },
  {
   "cell_type": "code",
   "execution_count": 22,
   "id": "9385b3ef",
   "metadata": {
    "execution": {
     "iopub.execute_input": "2025-09-11T11:36:26.722796Z",
     "iopub.status.busy": "2025-09-11T11:36:26.722655Z",
     "iopub.status.idle": "2025-09-11T11:36:26.725726Z",
     "shell.execute_reply": "2025-09-11T11:36:26.725258Z"
    }
   },
   "outputs": [
    {
     "data": {
      "text/plain": [
       "(32, 'tall', 'likes hats')"
      ]
     },
     "execution_count": 22,
     "metadata": {},
     "output_type": "execute_result"
    }
   ],
   "source": [
    "joe_blow = (32, 'tall', 'likes hats')\n",
    "joe_blow"
   ]
  },
  {
   "cell_type": "code",
   "execution_count": 23,
   "id": "7c266146",
   "metadata": {
    "execution": {
     "iopub.execute_input": "2025-09-11T11:36:26.726966Z",
     "iopub.status.busy": "2025-09-11T11:36:26.726824Z",
     "iopub.status.idle": "2025-09-11T11:36:26.729850Z",
     "shell.execute_reply": "2025-09-11T11:36:26.729385Z"
    }
   },
   "outputs": [
    {
     "data": {
      "text/plain": [
       "'tall'"
      ]
     },
     "execution_count": 23,
     "metadata": {},
     "output_type": "execute_result"
    }
   ],
   "source": [
    "joe_blow[1]"
   ]
  },
  {
   "cell_type": "code",
   "execution_count": 24,
   "id": "e9415ea3",
   "metadata": {
    "execution": {
     "iopub.execute_input": "2025-09-11T11:36:26.731005Z",
     "iopub.status.busy": "2025-09-11T11:36:26.730865Z",
     "iopub.status.idle": "2025-09-11T11:36:26.827112Z",
     "shell.execute_reply": "2025-09-11T11:36:26.826611Z"
    }
   },
   "outputs": [
    {
     "ename": "AttributeError",
     "evalue": "'tuple' object has no attribute 'append'",
     "output_type": "error",
     "traceback": [
      "\u001b[0;31m---------------------------------------------------------------------------\u001b[0m",
      "\u001b[0;31mAttributeError\u001b[0m                            Traceback (most recent call last)",
      "Cell \u001b[0;32mIn[24], line 1\u001b[0m\n\u001b[0;32m----> 1\u001b[0m \u001b[43mjoe_blow\u001b[49m\u001b[38;5;241;43m.\u001b[39;49m\u001b[43mappend\u001b[49m(\u001b[38;5;124m'\u001b[39m\u001b[38;5;124mmarried\u001b[39m\u001b[38;5;124m'\u001b[39m)\n",
      "\u001b[0;31mAttributeError\u001b[0m: 'tuple' object has no attribute 'append'"
     ]
    }
   ],
   "source": [
    "joe_blow.append('married')"
   ]
  },
  {
   "cell_type": "code",
   "execution_count": 25,
   "id": "fe2a88c3",
   "metadata": {
    "execution": {
     "iopub.execute_input": "2025-09-11T11:36:26.828459Z",
     "iopub.status.busy": "2025-09-11T11:36:26.828307Z",
     "iopub.status.idle": "2025-09-11T11:36:26.837549Z",
     "shell.execute_reply": "2025-09-11T11:36:26.837045Z"
    }
   },
   "outputs": [
    {
     "ename": "TypeError",
     "evalue": "'tuple' object does not support item assignment",
     "output_type": "error",
     "traceback": [
      "\u001b[0;31m---------------------------------------------------------------------------\u001b[0m",
      "\u001b[0;31mTypeError\u001b[0m                                 Traceback (most recent call last)",
      "Cell \u001b[0;32mIn[25], line 1\u001b[0m\n\u001b[0;32m----> 1\u001b[0m \u001b[43mjoe_blow\u001b[49m\u001b[43m[\u001b[49m\u001b[38;5;241;43m2\u001b[39;49m\u001b[43m]\u001b[49m \u001b[38;5;241m=\u001b[39m \u001b[38;5;124m'\u001b[39m\u001b[38;5;124mnot really a fan of hats\u001b[39m\u001b[38;5;124m'\u001b[39m\n",
      "\u001b[0;31mTypeError\u001b[0m: 'tuple' object does not support item assignment"
     ]
    }
   ],
   "source": [
    "joe_blow[2] = 'not really a fan of hats'"
   ]
  },
  {
   "cell_type": "code",
   "execution_count": 26,
   "id": "04afe81e",
   "metadata": {
    "execution": {
     "iopub.execute_input": "2025-09-11T11:36:26.838760Z",
     "iopub.status.busy": "2025-09-11T11:36:26.838625Z",
     "iopub.status.idle": "2025-09-11T11:36:26.841682Z",
     "shell.execute_reply": "2025-09-11T11:36:26.841294Z"
    }
   },
   "outputs": [
    {
     "data": {
      "text/plain": [
       "'elephant'"
      ]
     },
     "execution_count": 26,
     "metadata": {},
     "output_type": "execute_result"
    }
   ],
   "source": [
    "pets = ('elephant', 'cow', 'rock')\n",
    "\n",
    "pet1, pet2, pet3 = pets\n",
    "\n",
    "pet1"
   ]
  },
  {
   "cell_type": "code",
   "execution_count": 27,
   "id": "45c988cb",
   "metadata": {
    "execution": {
     "iopub.execute_input": "2025-09-11T11:36:26.842861Z",
     "iopub.status.busy": "2025-09-11T11:36:26.842717Z",
     "iopub.status.idle": "2025-09-11T11:36:26.845753Z",
     "shell.execute_reply": "2025-09-11T11:36:26.845289Z"
    }
   },
   "outputs": [
    {
     "data": {
      "text/plain": [
       "('elephant',)"
      ]
     },
     "execution_count": 27,
     "metadata": {},
     "output_type": "execute_result"
    }
   ],
   "source": [
    "tuple_with_one_item = pet1,\n",
    "\n",
    "tuple_with_one_item"
   ]
  },
  {
   "cell_type": "code",
   "execution_count": 28,
   "id": "3e35b0b0",
   "metadata": {
    "execution": {
     "iopub.execute_input": "2025-09-11T11:36:26.846909Z",
     "iopub.status.busy": "2025-09-11T11:36:26.846778Z",
     "iopub.status.idle": "2025-09-11T11:36:26.849884Z",
     "shell.execute_reply": "2025-09-11T11:36:26.849391Z"
    }
   },
   "outputs": [
    {
     "data": {
      "text/plain": [
       "{'key1': 'value1', 'key2': 'value2', 'key3': 'value3'}"
      ]
     },
     "execution_count": 28,
     "metadata": {},
     "output_type": "execute_result"
    }
   ],
   "source": [
    "dictionary0 = {'key1': 'value1', 'key2': 'value2', 'key3': 'value3'}\n",
    "dictionary0"
   ]
  },
  {
   "cell_type": "code",
   "execution_count": 29,
   "id": "6c8870bb",
   "metadata": {
    "execution": {
     "iopub.execute_input": "2025-09-11T11:36:26.851193Z",
     "iopub.status.busy": "2025-09-11T11:36:26.851058Z",
     "iopub.status.idle": "2025-09-11T11:36:26.854158Z",
     "shell.execute_reply": "2025-09-11T11:36:26.853685Z"
    }
   },
   "outputs": [
    {
     "data": {
      "text/plain": [
       "{1: 'value1', 2: 'value2', 3: 'value3'}"
      ]
     },
     "execution_count": 29,
     "metadata": {},
     "output_type": "execute_result"
    }
   ],
   "source": [
    "dictionary1 = {1: 'value1', 2: 'value2', 3: 'value3'}\n",
    "dictionary1"
   ]
  },
  {
   "cell_type": "code",
   "execution_count": 30,
   "id": "c96fe274",
   "metadata": {
    "execution": {
     "iopub.execute_input": "2025-09-11T11:36:26.855388Z",
     "iopub.status.busy": "2025-09-11T11:36:26.855223Z",
     "iopub.status.idle": "2025-09-11T11:36:26.858380Z",
     "shell.execute_reply": "2025-09-11T11:36:26.857895Z"
    }
   },
   "outputs": [
    {
     "data": {
      "text/plain": [
       "[1, 2, 3]"
      ]
     },
     "execution_count": 30,
     "metadata": {},
     "output_type": "execute_result"
    }
   ],
   "source": [
    "list(dictionary1.keys())"
   ]
  },
  {
   "cell_type": "code",
   "execution_count": 31,
   "id": "5788fb74",
   "metadata": {
    "execution": {
     "iopub.execute_input": "2025-09-11T11:36:26.859686Z",
     "iopub.status.busy": "2025-09-11T11:36:26.859535Z",
     "iopub.status.idle": "2025-09-11T11:36:26.862601Z",
     "shell.execute_reply": "2025-09-11T11:36:26.862112Z"
    }
   },
   "outputs": [
    {
     "data": {
      "text/plain": [
       "['value1', 'value2', 'value3']"
      ]
     },
     "execution_count": 31,
     "metadata": {},
     "output_type": "execute_result"
    }
   ],
   "source": [
    "list(dictionary1.values())"
   ]
  },
  {
   "cell_type": "code",
   "execution_count": 32,
   "id": "e43c86c6",
   "metadata": {
    "execution": {
     "iopub.execute_input": "2025-09-11T11:36:26.863871Z",
     "iopub.status.busy": "2025-09-11T11:36:26.863733Z",
     "iopub.status.idle": "2025-09-11T11:36:26.866787Z",
     "shell.execute_reply": "2025-09-11T11:36:26.866334Z"
    }
   },
   "outputs": [
    {
     "data": {
      "text/plain": [
       "50"
      ]
     },
     "execution_count": 32,
     "metadata": {},
     "output_type": "execute_result"
    }
   ],
   "source": [
    "cylinder = {'mass': 50, 'base': 10, 'height': 100}\n",
    "cylinder['mass']"
   ]
  },
  {
   "cell_type": "code",
   "execution_count": 33,
   "id": "7616398a",
   "metadata": {
    "execution": {
     "iopub.execute_input": "2025-09-11T11:36:26.868043Z",
     "iopub.status.busy": "2025-09-11T11:36:26.867905Z",
     "iopub.status.idle": "2025-09-11T11:36:26.871299Z",
     "shell.execute_reply": "2025-09-11T11:36:26.870803Z"
    }
   },
   "outputs": [
    {
     "data": {
      "text/plain": [
       "{'mass01': 10, 'inertia01': 1, 'mass02': 50, 'inertia02': 5}"
      ]
     },
     "execution_count": 33,
     "metadata": {},
     "output_type": "execute_result"
    }
   ],
   "source": [
    "keys = ['mass01', 'inertia01', 'mass02', 'inertia02']\n",
    "values = [10, 1, 50, 5]\n",
    "dict(zip(keys, values))"
   ]
  },
  {
   "cell_type": "code",
   "execution_count": 34,
   "id": "2f3c92fc",
   "metadata": {
    "execution": {
     "iopub.execute_input": "2025-09-11T11:36:26.872516Z",
     "iopub.status.busy": "2025-09-11T11:36:26.872377Z",
     "iopub.status.idle": "2025-09-11T11:36:26.875487Z",
     "shell.execute_reply": "2025-09-11T11:36:26.875103Z"
    }
   },
   "outputs": [
    {
     "data": {
      "text/plain": [
       "100"
      ]
     },
     "execution_count": 34,
     "metadata": {},
     "output_type": "execute_result"
    }
   ],
   "source": [
    "def abs_value(A):\n",
    "    if A < 0:\n",
    "        A = -A\n",
    "    return A\n",
    "\n",
    "abs_value(-100)"
   ]
  },
  {
   "cell_type": "code",
   "execution_count": 35,
   "id": "10a6cc60",
   "metadata": {
    "execution": {
     "iopub.execute_input": "2025-09-11T11:36:26.876648Z",
     "iopub.status.busy": "2025-09-11T11:36:26.876516Z",
     "iopub.status.idle": "2025-09-11T11:36:26.879464Z",
     "shell.execute_reply": "2025-09-11T11:36:26.878991Z"
    }
   },
   "outputs": [
    {
     "data": {
      "text/plain": [
       "123"
      ]
     },
     "execution_count": 35,
     "metadata": {},
     "output_type": "execute_result"
    }
   ],
   "source": [
    "abs_value(123)"
   ]
  },
  {
   "cell_type": "code",
   "execution_count": 36,
   "id": "26aca103",
   "metadata": {
    "execution": {
     "iopub.execute_input": "2025-09-11T11:36:26.880640Z",
     "iopub.status.busy": "2025-09-11T11:36:26.880493Z",
     "iopub.status.idle": "2025-09-11T11:36:26.882887Z",
     "shell.execute_reply": "2025-09-11T11:36:26.882490Z"
    }
   },
   "outputs": [],
   "source": [
    "def long_div(dividend, divisor):\n",
    "    quotient = dividend // divisor  # // : floor division\n",
    "    remainder = dividend % divisor  # % : modulo\n",
    "    return quotient, remainder"
   ]
  },
  {
   "cell_type": "code",
   "execution_count": 37,
   "id": "35ab0687",
   "metadata": {
    "execution": {
     "iopub.execute_input": "2025-09-11T11:36:26.884045Z",
     "iopub.status.busy": "2025-09-11T11:36:26.883914Z",
     "iopub.status.idle": "2025-09-11T11:36:26.887175Z",
     "shell.execute_reply": "2025-09-11T11:36:26.886669Z"
    }
   },
   "outputs": [
    {
     "data": {
      "text/plain": [
       "(17, 5)"
      ]
     },
     "execution_count": 37,
     "metadata": {},
     "output_type": "execute_result"
    }
   ],
   "source": [
    "a = 430\n",
    "b = 25\n",
    "\n",
    "quo, rem = long_div(a, b)\n",
    "\n",
    "quo, rem"
   ]
  },
  {
   "cell_type": "code",
   "execution_count": 38,
   "id": "e3248ce1",
   "metadata": {
    "execution": {
     "iopub.execute_input": "2025-09-11T11:36:26.888387Z",
     "iopub.status.busy": "2025-09-11T11:36:26.888223Z",
     "iopub.status.idle": "2025-09-11T11:36:26.890902Z",
     "shell.execute_reply": "2025-09-11T11:36:26.890412Z"
    }
   },
   "outputs": [
    {
     "name": "stdout",
     "output_type": "stream",
     "text": [
      "430 divided 25 is 17 remainder 5\n"
     ]
    }
   ],
   "source": [
    "msg = '{} divided {} is {} remainder {}'.format(a, b, quo, rem)\n",
    "print(msg)"
   ]
  },
  {
   "cell_type": "code",
   "execution_count": 39,
   "id": "5ef48a04",
   "metadata": {
    "execution": {
     "iopub.execute_input": "2025-09-11T11:36:26.892070Z",
     "iopub.status.busy": "2025-09-11T11:36:26.891928Z",
     "iopub.status.idle": "2025-09-11T11:36:26.894297Z",
     "shell.execute_reply": "2025-09-11T11:36:26.893891Z"
    }
   },
   "outputs": [
    {
     "name": "stdout",
     "output_type": "stream",
     "text": [
      "3.11.13 | packaged by conda-forge | (main, Jun  4 2025, 14:48:23) [GCC 13.3.0]\n"
     ]
    }
   ],
   "source": [
    "import sys\n",
    "\n",
    "print(sys.version)"
   ]
  },
  {
   "cell_type": "code",
   "execution_count": 40,
   "id": "0a1ab57d",
   "metadata": {
    "execution": {
     "iopub.execute_input": "2025-09-11T11:36:26.895480Z",
     "iopub.status.busy": "2025-09-11T11:36:26.895337Z",
     "iopub.status.idle": "2025-09-11T11:36:26.897925Z",
     "shell.execute_reply": "2025-09-11T11:36:26.897426Z"
    }
   },
   "outputs": [
    {
     "name": "stdout",
     "output_type": "stream",
     "text": [
      "3.11.13 | packaged by conda-forge | (main, Jun  4 2025, 14:48:23) [GCC 13.3.0]\n"
     ]
    }
   ],
   "source": [
    "from sys import version\n",
    "\n",
    "print(version)"
   ]
  },
  {
   "cell_type": "code",
   "execution_count": 41,
   "id": "81dac3ab",
   "metadata": {
    "execution": {
     "iopub.execute_input": "2025-09-11T11:36:26.899141Z",
     "iopub.status.busy": "2025-09-11T11:36:26.898999Z",
     "iopub.status.idle": "2025-09-11T11:36:27.420035Z",
     "shell.execute_reply": "2025-09-11T11:36:27.419433Z"
    }
   },
   "outputs": [],
   "source": [
    "import sympy as sm\n",
    "import numpy as np\n",
    "import matplotlib.pyplot as plt"
   ]
  },
  {
   "cell_type": "code",
   "execution_count": 42,
   "id": "5a2fe341",
   "metadata": {
    "execution": {
     "iopub.execute_input": "2025-09-11T11:36:27.421729Z",
     "iopub.status.busy": "2025-09-11T11:36:27.421515Z",
     "iopub.status.idle": "2025-09-11T11:36:27.426120Z",
     "shell.execute_reply": "2025-09-11T11:36:27.425726Z"
    }
   },
   "outputs": [
    {
     "data": {
      "text/latex": [
       "$\\displaystyle 0.843853958732492$"
      ],
      "text/plain": [
       "0.843853958732492"
      ]
     },
     "execution_count": 42,
     "metadata": {},
     "output_type": "execute_result"
    }
   ],
   "source": [
    "sm.cos(12.0)"
   ]
  },
  {
   "cell_type": "code",
   "execution_count": 43,
   "id": "b50ee843",
   "metadata": {
    "execution": {
     "iopub.execute_input": "2025-09-11T11:36:27.427374Z",
     "iopub.status.busy": "2025-09-11T11:36:27.427211Z",
     "iopub.status.idle": "2025-09-11T11:36:27.430411Z",
     "shell.execute_reply": "2025-09-11T11:36:27.429990Z"
    }
   },
   "outputs": [
    {
     "data": {
      "text/plain": [
       "0.8438539587324921"
      ]
     },
     "execution_count": 43,
     "metadata": {},
     "output_type": "execute_result"
    }
   ],
   "source": [
    "np.cos(12.0)"
   ]
  }
 ],
 "metadata": {
  "kernelspec": {
   "display_name": "Python 3 (ipykernel)",
   "language": "python",
   "name": "python3"
  },
  "language_info": {
   "codemirror_mode": {
    "name": "ipython",
    "version": 3
   },
   "file_extension": ".py",
   "mimetype": "text/x-python",
   "name": "python",
   "nbconvert_exporter": "python",
   "pygments_lexer": "ipython3",
   "version": "3.11.13"
  }
 },
 "nbformat": 4,
 "nbformat_minor": 5
}