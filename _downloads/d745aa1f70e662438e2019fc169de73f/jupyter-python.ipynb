{
 "cells": [
  {
   "cell_type": "code",
   "execution_count": 1,
   "id": "93de701a",
   "metadata": {
    "execution": {
     "iopub.execute_input": "2025-09-25T05:54:33.009024Z",
     "iopub.status.busy": "2025-09-25T05:54:33.008873Z",
     "iopub.status.idle": "2025-09-25T05:54:33.016368Z",
     "shell.execute_reply": "2025-09-25T05:54:33.015953Z"
    }
   },
   "outputs": [
    {
     "data": {
      "application/json": {
       "cell": {
        "!": "OSMagics",
        "HTML": "Other",
        "SVG": "Other",
        "bash": "Other",
        "capture": "ExecutionMagics",
        "code_wrap": "ExecutionMagics",
        "debug": "ExecutionMagics",
        "file": "Other",
        "html": "DisplayMagics",
        "javascript": "DisplayMagics",
        "js": "DisplayMagics",
        "latex": "DisplayMagics",
        "markdown": "DisplayMagics",
        "perl": "Other",
        "prun": "ExecutionMagics",
        "pypy": "Other",
        "python": "Other",
        "python2": "Other",
        "python3": "Other",
        "ruby": "Other",
        "script": "ScriptMagics",
        "sh": "Other",
        "svg": "DisplayMagics",
        "sx": "OSMagics",
        "system": "OSMagics",
        "time": "ExecutionMagics",
        "timeit": "ExecutionMagics",
        "writefile": "OSMagics"
       },
       "line": {
        "alias": "OSMagics",
        "alias_magic": "BasicMagics",
        "autoawait": "AsyncMagics",
        "autocall": "AutoMagics",
        "automagic": "AutoMagics",
        "autosave": "KernelMagics",
        "bookmark": "OSMagics",
        "cat": "Other",
        "cd": "OSMagics",
        "clear": "KernelMagics",
        "code_wrap": "ExecutionMagics",
        "colors": "BasicMagics",
        "conda": "PackagingMagics",
        "config": "ConfigMagics",
        "connect_info": "KernelMagics",
        "cp": "Other",
        "debug": "ExecutionMagics",
        "dhist": "OSMagics",
        "dirs": "OSMagics",
        "doctest_mode": "BasicMagics",
        "ed": "Other",
        "edit": "KernelMagics",
        "env": "OSMagics",
        "gui": "BasicMagics",
        "hist": "Other",
        "history": "HistoryMagics",
        "killbgscripts": "ScriptMagics",
        "ldir": "Other",
        "less": "KernelMagics",
        "lf": "Other",
        "lk": "Other",
        "ll": "Other",
        "load": "CodeMagics",
        "load_ext": "ExtensionMagics",
        "loadpy": "CodeMagics",
        "logoff": "LoggingMagics",
        "logon": "LoggingMagics",
        "logstart": "LoggingMagics",
        "logstate": "LoggingMagics",
        "logstop": "LoggingMagics",
        "ls": "Other",
        "lsmagic": "BasicMagics",
        "lx": "Other",
        "macro": "ExecutionMagics",
        "magic": "BasicMagics",
        "mamba": "PackagingMagics",
        "man": "KernelMagics",
        "matplotlib": "PylabMagics",
        "micromamba": "PackagingMagics",
        "mkdir": "Other",
        "more": "KernelMagics",
        "mv": "Other",
        "notebook": "BasicMagics",
        "page": "BasicMagics",
        "pastebin": "CodeMagics",
        "pdb": "ExecutionMagics",
        "pdef": "NamespaceMagics",
        "pdoc": "NamespaceMagics",
        "pfile": "NamespaceMagics",
        "pinfo": "NamespaceMagics",
        "pinfo2": "NamespaceMagics",
        "pip": "PackagingMagics",
        "popd": "OSMagics",
        "pprint": "BasicMagics",
        "precision": "BasicMagics",
        "prun": "ExecutionMagics",
        "psearch": "NamespaceMagics",
        "psource": "NamespaceMagics",
        "pushd": "OSMagics",
        "pwd": "OSMagics",
        "pycat": "OSMagics",
        "pylab": "PylabMagics",
        "qtconsole": "KernelMagics",
        "quickref": "BasicMagics",
        "recall": "HistoryMagics",
        "rehashx": "OSMagics",
        "reload_ext": "ExtensionMagics",
        "rep": "Other",
        "rerun": "HistoryMagics",
        "reset": "NamespaceMagics",
        "reset_selective": "NamespaceMagics",
        "rm": "Other",
        "rmdir": "Other",
        "run": "ExecutionMagics",
        "save": "CodeMagics",
        "sc": "OSMagics",
        "set_env": "OSMagics",
        "store": "StoreMagics",
        "sx": "OSMagics",
        "system": "OSMagics",
        "tb": "ExecutionMagics",
        "time": "ExecutionMagics",
        "timeit": "ExecutionMagics",
        "unalias": "OSMagics",
        "unload_ext": "ExtensionMagics",
        "who": "NamespaceMagics",
        "who_ls": "NamespaceMagics",
        "whos": "NamespaceMagics",
        "xdel": "NamespaceMagics",
        "xmode": "BasicMagics"
       }
      },
      "text/plain": [
       "Available line magics:\n",
       "%alias  %alias_magic  %autoawait  %autocall  %automagic  %autosave  %bookmark  %cat  %cd  %clear  %code_wrap  %colors  %conda  %config  %connect_info  %cp  %debug  %dhist  %dirs  %doctest_mode  %ed  %edit  %env  %gui  %hist  %history  %killbgscripts  %ldir  %less  %lf  %lk  %ll  %load  %load_ext  %loadpy  %logoff  %logon  %logstart  %logstate  %logstop  %ls  %lsmagic  %lx  %macro  %magic  %mamba  %man  %matplotlib  %micromamba  %mkdir  %more  %mv  %notebook  %page  %pastebin  %pdb  %pdef  %pdoc  %pfile  %pinfo  %pinfo2  %pip  %popd  %pprint  %precision  %prun  %psearch  %psource  %pushd  %pwd  %pycat  %pylab  %qtconsole  %quickref  %recall  %rehashx  %reload_ext  %rep  %rerun  %reset  %reset_selective  %rm  %rmdir  %run  %save  %sc  %set_env  %store  %sx  %system  %tb  %time  %timeit  %unalias  %unload_ext  %who  %who_ls  %whos  %xdel  %xmode\n",
       "\n",
       "Available cell magics:\n",
       "%%!  %%HTML  %%SVG  %%bash  %%capture  %%code_wrap  %%debug  %%file  %%html  %%javascript  %%js  %%latex  %%markdown  %%perl  %%prun  %%pypy  %%python  %%python2  %%python3  %%ruby  %%script  %%sh  %%svg  %%sx  %%system  %%time  %%timeit  %%writefile\n",
       "\n",
       "Automagic is ON, % prefix IS NOT needed for line magics."
      ]
     },
     "execution_count": 1,
     "metadata": {},
     "output_type": "execute_result"
    }
   ],
   "source": [
    "%lsmagic"
   ]
  },
  {
   "cell_type": "code",
   "execution_count": 2,
   "id": "33b36005",
   "metadata": {
    "execution": {
     "iopub.execute_input": "2025-09-25T05:54:33.017575Z",
     "iopub.status.busy": "2025-09-25T05:54:33.017430Z",
     "iopub.status.idle": "2025-09-25T05:54:33.020301Z",
     "shell.execute_reply": "2025-09-25T05:54:33.019867Z"
    }
   },
   "outputs": [
    {
     "name": "stdout",
     "output_type": "stream",
     "text": [
      "Variable   Type    Data/Info\n",
      "----------------------------\n",
      "a          int     5\n"
     ]
    }
   ],
   "source": [
    "a = 5\n",
    "\n",
    "%whos"
   ]
  },
  {
   "cell_type": "code",
   "execution_count": 3,
   "id": "d52bc52b",
   "metadata": {
    "execution": {
     "iopub.execute_input": "2025-09-25T05:54:33.021482Z",
     "iopub.status.busy": "2025-09-25T05:54:33.021349Z",
     "iopub.status.idle": "2025-09-25T05:54:33.023553Z",
     "shell.execute_reply": "2025-09-25T05:54:33.023091Z"
    }
   },
   "outputs": [],
   "source": [
    "?"
   ]
  },
  {
   "cell_type": "code",
   "execution_count": 4,
   "id": "1edcc710",
   "metadata": {
    "execution": {
     "iopub.execute_input": "2025-09-25T05:54:33.024782Z",
     "iopub.status.busy": "2025-09-25T05:54:33.024639Z",
     "iopub.status.idle": "2025-09-25T05:54:33.027772Z",
     "shell.execute_reply": "2025-09-25T05:54:33.027233Z"
    }
   },
   "outputs": [],
   "source": [
    "%quickref"
   ]
  },
  {
   "cell_type": "code",
   "execution_count": 5,
   "id": "4fdd17e1",
   "metadata": {
    "execution": {
     "iopub.execute_input": "2025-09-25T05:54:33.029068Z",
     "iopub.status.busy": "2025-09-25T05:54:33.028934Z",
     "iopub.status.idle": "2025-09-25T05:54:33.055385Z",
     "shell.execute_reply": "2025-09-25T05:54:33.054989Z"
    }
   },
   "outputs": [],
   "source": [
    "round?"
   ]
  },
  {
   "cell_type": "code",
   "execution_count": 6,
   "id": "08820212",
   "metadata": {
    "execution": {
     "iopub.execute_input": "2025-09-25T05:54:33.056614Z",
     "iopub.status.busy": "2025-09-25T05:54:33.056466Z",
     "iopub.status.idle": "2025-09-25T05:54:33.060422Z",
     "shell.execute_reply": "2025-09-25T05:54:33.059903Z"
    }
   },
   "outputs": [
    {
     "data": {
      "text/plain": [
       "(int, float, float, str, str, complex, bool)"
      ]
     },
     "execution_count": 6,
     "metadata": {},
     "output_type": "execute_result"
    }
   ],
   "source": [
    "a = 5\n",
    "b = 5.0\n",
    "c = float(5)\n",
    "d = 'dee'\n",
    "e = 'e'\n",
    "f = 2+3j\n",
    "g = True\n",
    "\n",
    "type(a), type(b), type(c), type(d), type(e), type(f), type(g)"
   ]
  },
  {
   "cell_type": "code",
   "execution_count": 7,
   "id": "425bc0c0",
   "metadata": {
    "execution": {
     "iopub.execute_input": "2025-09-25T05:54:33.061792Z",
     "iopub.status.busy": "2025-09-25T05:54:33.061640Z",
     "iopub.status.idle": "2025-09-25T05:54:33.064623Z",
     "shell.execute_reply": "2025-09-25T05:54:33.064125Z"
    }
   },
   "outputs": [],
   "source": [
    "empty_list = []\n",
    "\n",
    "string_list = ['lions', 'tigers', 'bears', 'sharks', 'hamsters']\n",
    "\n",
    "int_list = [0, 1, 2, 3, 4]\n",
    "\n",
    "int_list2 = list(range(5,10))\n",
    "\n",
    "list_from_variables = [a, b, c, d, e]\n",
    "\n",
    "list_of_lists = [empty_list,\n",
    "                 string_list,\n",
    "                 list_from_variables,\n",
    "                 int_list,\n",
    "                 int_list2]"
   ]
  },
  {
   "cell_type": "code",
   "execution_count": 8,
   "id": "5d9c3278",
   "metadata": {
    "execution": {
     "iopub.execute_input": "2025-09-25T05:54:33.065838Z",
     "iopub.status.busy": "2025-09-25T05:54:33.065686Z",
     "iopub.status.idle": "2025-09-25T05:54:33.068731Z",
     "shell.execute_reply": "2025-09-25T05:54:33.068241Z"
    }
   },
   "outputs": [
    {
     "data": {
      "text/plain": [
       "[]"
      ]
     },
     "execution_count": 8,
     "metadata": {},
     "output_type": "execute_result"
    }
   ],
   "source": [
    "empty_list"
   ]
  },
  {
   "cell_type": "code",
   "execution_count": 9,
   "id": "a245140d",
   "metadata": {
    "execution": {
     "iopub.execute_input": "2025-09-25T05:54:33.069961Z",
     "iopub.status.busy": "2025-09-25T05:54:33.069826Z",
     "iopub.status.idle": "2025-09-25T05:54:33.072818Z",
     "shell.execute_reply": "2025-09-25T05:54:33.072388Z"
    }
   },
   "outputs": [
    {
     "data": {
      "text/plain": [
       "['lions', 'tigers', 'bears', 'sharks', 'hamsters']"
      ]
     },
     "execution_count": 9,
     "metadata": {},
     "output_type": "execute_result"
    }
   ],
   "source": [
    "string_list"
   ]
  },
  {
   "cell_type": "code",
   "execution_count": 10,
   "id": "0ab56dea",
   "metadata": {
    "execution": {
     "iopub.execute_input": "2025-09-25T05:54:33.074022Z",
     "iopub.status.busy": "2025-09-25T05:54:33.073889Z",
     "iopub.status.idle": "2025-09-25T05:54:33.076880Z",
     "shell.execute_reply": "2025-09-25T05:54:33.076399Z"
    }
   },
   "outputs": [
    {
     "data": {
      "text/plain": [
       "[0, 1, 2, 3, 4]"
      ]
     },
     "execution_count": 10,
     "metadata": {},
     "output_type": "execute_result"
    }
   ],
   "source": [
    "int_list"
   ]
  },
  {
   "cell_type": "code",
   "execution_count": 11,
   "id": "c99da254",
   "metadata": {
    "execution": {
     "iopub.execute_input": "2025-09-25T05:54:33.078220Z",
     "iopub.status.busy": "2025-09-25T05:54:33.078064Z",
     "iopub.status.idle": "2025-09-25T05:54:33.081003Z",
     "shell.execute_reply": "2025-09-25T05:54:33.080538Z"
    }
   },
   "outputs": [
    {
     "data": {
      "text/plain": [
       "[5, 6, 7, 8, 9]"
      ]
     },
     "execution_count": 11,
     "metadata": {},
     "output_type": "execute_result"
    }
   ],
   "source": [
    "int_list2"
   ]
  },
  {
   "cell_type": "code",
   "execution_count": 12,
   "id": "0aaf5863",
   "metadata": {
    "execution": {
     "iopub.execute_input": "2025-09-25T05:54:33.082354Z",
     "iopub.status.busy": "2025-09-25T05:54:33.082206Z",
     "iopub.status.idle": "2025-09-25T05:54:33.085300Z",
     "shell.execute_reply": "2025-09-25T05:54:33.084796Z"
    }
   },
   "outputs": [
    {
     "data": {
      "text/plain": [
       "[5, 5.0, 5.0, 'dee', 'e']"
      ]
     },
     "execution_count": 12,
     "metadata": {},
     "output_type": "execute_result"
    }
   ],
   "source": [
    "list_from_variables"
   ]
  },
  {
   "cell_type": "code",
   "execution_count": 13,
   "id": "efb8b7bc",
   "metadata": {
    "execution": {
     "iopub.execute_input": "2025-09-25T05:54:33.086539Z",
     "iopub.status.busy": "2025-09-25T05:54:33.086400Z",
     "iopub.status.idle": "2025-09-25T05:54:33.089396Z",
     "shell.execute_reply": "2025-09-25T05:54:33.089006Z"
    }
   },
   "outputs": [
    {
     "data": {
      "text/plain": [
       "[[],\n",
       " ['lions', 'tigers', 'bears', 'sharks', 'hamsters'],\n",
       " [5, 5.0, 5.0, 'dee', 'e'],\n",
       " [0, 1, 2, 3, 4],\n",
       " [5, 6, 7, 8, 9]]"
      ]
     },
     "execution_count": 13,
     "metadata": {},
     "output_type": "execute_result"
    }
   ],
   "source": [
    "list_of_lists"
   ]
  },
  {
   "cell_type": "code",
   "execution_count": 14,
   "id": "9b4525be",
   "metadata": {
    "execution": {
     "iopub.execute_input": "2025-09-25T05:54:33.090650Z",
     "iopub.status.busy": "2025-09-25T05:54:33.090507Z",
     "iopub.status.idle": "2025-09-25T05:54:33.093416Z",
     "shell.execute_reply": "2025-09-25T05:54:33.093009Z"
    }
   },
   "outputs": [
    {
     "data": {
      "text/plain": [
       "'lions'"
      ]
     },
     "execution_count": 14,
     "metadata": {},
     "output_type": "execute_result"
    }
   ],
   "source": [
    "string_list[0]"
   ]
  },
  {
   "cell_type": "code",
   "execution_count": 15,
   "id": "68b3aad7",
   "metadata": {
    "execution": {
     "iopub.execute_input": "2025-09-25T05:54:33.094656Z",
     "iopub.status.busy": "2025-09-25T05:54:33.094519Z",
     "iopub.status.idle": "2025-09-25T05:54:33.097544Z",
     "shell.execute_reply": "2025-09-25T05:54:33.097027Z"
    }
   },
   "outputs": [
    {
     "data": {
      "text/plain": [
       "['tigers', 'bears', 'sharks']"
      ]
     },
     "execution_count": 15,
     "metadata": {},
     "output_type": "execute_result"
    }
   ],
   "source": [
    "string_list[1:4]"
   ]
  },
  {
   "cell_type": "code",
   "execution_count": 16,
   "id": "9f351b81",
   "metadata": {
    "execution": {
     "iopub.execute_input": "2025-09-25T05:54:33.098826Z",
     "iopub.status.busy": "2025-09-25T05:54:33.098689Z",
     "iopub.status.idle": "2025-09-25T05:54:33.101536Z",
     "shell.execute_reply": "2025-09-25T05:54:33.101168Z"
    }
   },
   "outputs": [
    {
     "data": {
      "text/plain": [
       "[0, 2, 4]"
      ]
     },
     "execution_count": 16,
     "metadata": {},
     "output_type": "execute_result"
    }
   ],
   "source": [
    "int_list[::2]"
   ]
  },
  {
   "cell_type": "code",
   "execution_count": 17,
   "id": "31bd463b",
   "metadata": {
    "execution": {
     "iopub.execute_input": "2025-09-25T05:54:33.102756Z",
     "iopub.status.busy": "2025-09-25T05:54:33.102613Z",
     "iopub.status.idle": "2025-09-25T05:54:33.105690Z",
     "shell.execute_reply": "2025-09-25T05:54:33.105225Z"
    }
   },
   "outputs": [
    {
     "data": {
      "text/plain": [
       "'hamsters'"
      ]
     },
     "execution_count": 17,
     "metadata": {},
     "output_type": "execute_result"
    }
   ],
   "source": [
    "list_of_lists[1][4]"
   ]
  },
  {
   "cell_type": "code",
   "execution_count": 18,
   "id": "36b51afd",
   "metadata": {
    "execution": {
     "iopub.execute_input": "2025-09-25T05:54:33.107029Z",
     "iopub.status.busy": "2025-09-25T05:54:33.106883Z",
     "iopub.status.idle": "2025-09-25T05:54:33.109386Z",
     "shell.execute_reply": "2025-09-25T05:54:33.108887Z"
    }
   },
   "outputs": [],
   "source": [
    "int_list[2] = 222\n",
    "\n",
    "int_list.append(5)\n",
    "\n",
    "string_list.remove('lions')\n",
    "\n",
    "list_from_variables.extend(int_list)"
   ]
  },
  {
   "cell_type": "code",
   "execution_count": 19,
   "id": "0c3e316e",
   "metadata": {
    "execution": {
     "iopub.execute_input": "2025-09-25T05:54:33.110654Z",
     "iopub.status.busy": "2025-09-25T05:54:33.110508Z",
     "iopub.status.idle": "2025-09-25T05:54:33.113582Z",
     "shell.execute_reply": "2025-09-25T05:54:33.113091Z"
    }
   },
   "outputs": [
    {
     "data": {
      "text/plain": [
       "[0, 1, 222, 3, 4, 5]"
      ]
     },
     "execution_count": 19,
     "metadata": {},
     "output_type": "execute_result"
    }
   ],
   "source": [
    "int_list"
   ]
  },
  {
   "cell_type": "code",
   "execution_count": 20,
   "id": "6b221ec3",
   "metadata": {
    "execution": {
     "iopub.execute_input": "2025-09-25T05:54:33.114767Z",
     "iopub.status.busy": "2025-09-25T05:54:33.114628Z",
     "iopub.status.idle": "2025-09-25T05:54:33.117628Z",
     "shell.execute_reply": "2025-09-25T05:54:33.117164Z"
    }
   },
   "outputs": [
    {
     "data": {
      "text/plain": [
       "['tigers', 'bears', 'sharks', 'hamsters']"
      ]
     },
     "execution_count": 20,
     "metadata": {},
     "output_type": "execute_result"
    }
   ],
   "source": [
    "string_list"
   ]
  },
  {
   "cell_type": "code",
   "execution_count": 21,
   "id": "3f82c7de",
   "metadata": {
    "execution": {
     "iopub.execute_input": "2025-09-25T05:54:33.118989Z",
     "iopub.status.busy": "2025-09-25T05:54:33.118842Z",
     "iopub.status.idle": "2025-09-25T05:54:33.121875Z",
     "shell.execute_reply": "2025-09-25T05:54:33.121413Z"
    }
   },
   "outputs": [
    {
     "data": {
      "text/plain": [
       "[5, 5.0, 5.0, 'dee', 'e', 0, 1, 222, 3, 4, 5]"
      ]
     },
     "execution_count": 21,
     "metadata": {},
     "output_type": "execute_result"
    }
   ],
   "source": [
    "list_from_variables"
   ]
  },
  {
   "cell_type": "code",
   "execution_count": 22,
   "id": "dd0eff58",
   "metadata": {
    "execution": {
     "iopub.execute_input": "2025-09-25T05:54:33.123058Z",
     "iopub.status.busy": "2025-09-25T05:54:33.122917Z",
     "iopub.status.idle": "2025-09-25T05:54:33.126004Z",
     "shell.execute_reply": "2025-09-25T05:54:33.125540Z"
    }
   },
   "outputs": [
    {
     "data": {
      "text/plain": [
       "(32, 'tall', 'likes hats')"
      ]
     },
     "execution_count": 22,
     "metadata": {},
     "output_type": "execute_result"
    }
   ],
   "source": [
    "joe_blow = (32, 'tall', 'likes hats')\n",
    "joe_blow"
   ]
  },
  {
   "cell_type": "code",
   "execution_count": 23,
   "id": "ef1bc517",
   "metadata": {
    "execution": {
     "iopub.execute_input": "2025-09-25T05:54:33.127363Z",
     "iopub.status.busy": "2025-09-25T05:54:33.127217Z",
     "iopub.status.idle": "2025-09-25T05:54:33.130348Z",
     "shell.execute_reply": "2025-09-25T05:54:33.129835Z"
    }
   },
   "outputs": [
    {
     "data": {
      "text/plain": [
       "'tall'"
      ]
     },
     "execution_count": 23,
     "metadata": {},
     "output_type": "execute_result"
    }
   ],
   "source": [
    "joe_blow[1]"
   ]
  },
  {
   "cell_type": "code",
   "execution_count": 24,
   "id": "aa0e9ffb",
   "metadata": {
    "execution": {
     "iopub.execute_input": "2025-09-25T05:54:33.131712Z",
     "iopub.status.busy": "2025-09-25T05:54:33.131554Z",
     "iopub.status.idle": "2025-09-25T05:54:33.228712Z",
     "shell.execute_reply": "2025-09-25T05:54:33.228289Z"
    }
   },
   "outputs": [
    {
     "ename": "AttributeError",
     "evalue": "'tuple' object has no attribute 'append'",
     "output_type": "error",
     "traceback": [
      "\u001b[0;31m---------------------------------------------------------------------------\u001b[0m",
      "\u001b[0;31mAttributeError\u001b[0m                            Traceback (most recent call last)",
      "Cell \u001b[0;32mIn[24], line 1\u001b[0m\n\u001b[0;32m----> 1\u001b[0m \u001b[43mjoe_blow\u001b[49m\u001b[38;5;241;43m.\u001b[39;49m\u001b[43mappend\u001b[49m(\u001b[38;5;124m'\u001b[39m\u001b[38;5;124mmarried\u001b[39m\u001b[38;5;124m'\u001b[39m)\n",
      "\u001b[0;31mAttributeError\u001b[0m: 'tuple' object has no attribute 'append'"
     ]
    }
   ],
   "source": [
    "joe_blow.append('married')"
   ]
  },
  {
   "cell_type": "code",
   "execution_count": 25,
   "id": "327c2e82",
   "metadata": {
    "execution": {
     "iopub.execute_input": "2025-09-25T05:54:33.230188Z",
     "iopub.status.busy": "2025-09-25T05:54:33.230017Z",
     "iopub.status.idle": "2025-09-25T05:54:33.239067Z",
     "shell.execute_reply": "2025-09-25T05:54:33.238670Z"
    }
   },
   "outputs": [
    {
     "ename": "TypeError",
     "evalue": "'tuple' object does not support item assignment",
     "output_type": "error",
     "traceback": [
      "\u001b[0;31m---------------------------------------------------------------------------\u001b[0m",
      "\u001b[0;31mTypeError\u001b[0m                                 Traceback (most recent call last)",
      "Cell \u001b[0;32mIn[25], line 1\u001b[0m\n\u001b[0;32m----> 1\u001b[0m \u001b[43mjoe_blow\u001b[49m\u001b[43m[\u001b[49m\u001b[38;5;241;43m2\u001b[39;49m\u001b[43m]\u001b[49m \u001b[38;5;241m=\u001b[39m \u001b[38;5;124m'\u001b[39m\u001b[38;5;124mnot really a fan of hats\u001b[39m\u001b[38;5;124m'\u001b[39m\n",
      "\u001b[0;31mTypeError\u001b[0m: 'tuple' object does not support item assignment"
     ]
    }
   ],
   "source": [
    "joe_blow[2] = 'not really a fan of hats'"
   ]
  },
  {
   "cell_type": "code",
   "execution_count": 26,
   "id": "dc28cbf7",
   "metadata": {
    "execution": {
     "iopub.execute_input": "2025-09-25T05:54:33.240340Z",
     "iopub.status.busy": "2025-09-25T05:54:33.240205Z",
     "iopub.status.idle": "2025-09-25T05:54:33.243401Z",
     "shell.execute_reply": "2025-09-25T05:54:33.243004Z"
    }
   },
   "outputs": [
    {
     "data": {
      "text/plain": [
       "'elephant'"
      ]
     },
     "execution_count": 26,
     "metadata": {},
     "output_type": "execute_result"
    }
   ],
   "source": [
    "pets = ('elephant', 'cow', 'rock')\n",
    "\n",
    "pet1, pet2, pet3 = pets\n",
    "\n",
    "pet1"
   ]
  },
  {
   "cell_type": "code",
   "execution_count": 27,
   "id": "dbdb0caa",
   "metadata": {
    "execution": {
     "iopub.execute_input": "2025-09-25T05:54:33.244646Z",
     "iopub.status.busy": "2025-09-25T05:54:33.244494Z",
     "iopub.status.idle": "2025-09-25T05:54:33.247639Z",
     "shell.execute_reply": "2025-09-25T05:54:33.247136Z"
    }
   },
   "outputs": [
    {
     "data": {
      "text/plain": [
       "('elephant',)"
      ]
     },
     "execution_count": 27,
     "metadata": {},
     "output_type": "execute_result"
    }
   ],
   "source": [
    "tuple_with_one_item = pet1,\n",
    "\n",
    "tuple_with_one_item"
   ]
  },
  {
   "cell_type": "code",
   "execution_count": 28,
   "id": "031ba5ae",
   "metadata": {
    "execution": {
     "iopub.execute_input": "2025-09-25T05:54:33.248992Z",
     "iopub.status.busy": "2025-09-25T05:54:33.248845Z",
     "iopub.status.idle": "2025-09-25T05:54:33.252050Z",
     "shell.execute_reply": "2025-09-25T05:54:33.251589Z"
    }
   },
   "outputs": [
    {
     "data": {
      "text/plain": [
       "{'key1': 'value1', 'key2': 'value2', 'key3': 'value3'}"
      ]
     },
     "execution_count": 28,
     "metadata": {},
     "output_type": "execute_result"
    }
   ],
   "source": [
    "dictionary0 = {'key1': 'value1', 'key2': 'value2', 'key3': 'value3'}\n",
    "dictionary0"
   ]
  },
  {
   "cell_type": "code",
   "execution_count": 29,
   "id": "d321bb50",
   "metadata": {
    "execution": {
     "iopub.execute_input": "2025-09-25T05:54:33.253329Z",
     "iopub.status.busy": "2025-09-25T05:54:33.253196Z",
     "iopub.status.idle": "2025-09-25T05:54:33.256390Z",
     "shell.execute_reply": "2025-09-25T05:54:33.255868Z"
    }
   },
   "outputs": [
    {
     "data": {
      "text/plain": [
       "{1: 'value1', 2: 'value2', 3: 'value3'}"
      ]
     },
     "execution_count": 29,
     "metadata": {},
     "output_type": "execute_result"
    }
   ],
   "source": [
    "dictionary1 = {1: 'value1', 2: 'value2', 3: 'value3'}\n",
    "dictionary1"
   ]
  },
  {
   "cell_type": "code",
   "execution_count": 30,
   "id": "41e21fc2",
   "metadata": {
    "execution": {
     "iopub.execute_input": "2025-09-25T05:54:33.257661Z",
     "iopub.status.busy": "2025-09-25T05:54:33.257522Z",
     "iopub.status.idle": "2025-09-25T05:54:33.260405Z",
     "shell.execute_reply": "2025-09-25T05:54:33.260009Z"
    }
   },
   "outputs": [
    {
     "data": {
      "text/plain": [
       "[1, 2, 3]"
      ]
     },
     "execution_count": 30,
     "metadata": {},
     "output_type": "execute_result"
    }
   ],
   "source": [
    "list(dictionary1.keys())"
   ]
  },
  {
   "cell_type": "code",
   "execution_count": 31,
   "id": "f312c0ec",
   "metadata": {
    "execution": {
     "iopub.execute_input": "2025-09-25T05:54:33.261626Z",
     "iopub.status.busy": "2025-09-25T05:54:33.261492Z",
     "iopub.status.idle": "2025-09-25T05:54:33.264561Z",
     "shell.execute_reply": "2025-09-25T05:54:33.264051Z"
    }
   },
   "outputs": [
    {
     "data": {
      "text/plain": [
       "['value1', 'value2', 'value3']"
      ]
     },
     "execution_count": 31,
     "metadata": {},
     "output_type": "execute_result"
    }
   ],
   "source": [
    "list(dictionary1.values())"
   ]
  },
  {
   "cell_type": "code",
   "execution_count": 32,
   "id": "777e327d",
   "metadata": {
    "execution": {
     "iopub.execute_input": "2025-09-25T05:54:33.265896Z",
     "iopub.status.busy": "2025-09-25T05:54:33.265760Z",
     "iopub.status.idle": "2025-09-25T05:54:33.268734Z",
     "shell.execute_reply": "2025-09-25T05:54:33.268354Z"
    }
   },
   "outputs": [
    {
     "data": {
      "text/plain": [
       "50"
      ]
     },
     "execution_count": 32,
     "metadata": {},
     "output_type": "execute_result"
    }
   ],
   "source": [
    "cylinder = {'mass': 50, 'base': 10, 'height': 100}\n",
    "cylinder['mass']"
   ]
  },
  {
   "cell_type": "code",
   "execution_count": 33,
   "id": "3eac1894",
   "metadata": {
    "execution": {
     "iopub.execute_input": "2025-09-25T05:54:33.269942Z",
     "iopub.status.busy": "2025-09-25T05:54:33.269809Z",
     "iopub.status.idle": "2025-09-25T05:54:33.273014Z",
     "shell.execute_reply": "2025-09-25T05:54:33.272640Z"
    }
   },
   "outputs": [
    {
     "data": {
      "text/plain": [
       "{'mass01': 10, 'inertia01': 1, 'mass02': 50, 'inertia02': 5}"
      ]
     },
     "execution_count": 33,
     "metadata": {},
     "output_type": "execute_result"
    }
   ],
   "source": [
    "keys = ['mass01', 'inertia01', 'mass02', 'inertia02']\n",
    "values = [10, 1, 50, 5]\n",
    "dict(zip(keys, values))"
   ]
  },
  {
   "cell_type": "code",
   "execution_count": 34,
   "id": "b96c24b4",
   "metadata": {
    "execution": {
     "iopub.execute_input": "2025-09-25T05:54:33.274193Z",
     "iopub.status.busy": "2025-09-25T05:54:33.274036Z",
     "iopub.status.idle": "2025-09-25T05:54:33.277345Z",
     "shell.execute_reply": "2025-09-25T05:54:33.276922Z"
    }
   },
   "outputs": [
    {
     "data": {
      "text/plain": [
       "100"
      ]
     },
     "execution_count": 34,
     "metadata": {},
     "output_type": "execute_result"
    }
   ],
   "source": [
    "def abs_value(A):\n",
    "    if A < 0:\n",
    "        A = -A\n",
    "    return A\n",
    "\n",
    "abs_value(-100)"
   ]
  },
  {
   "cell_type": "code",
   "execution_count": 35,
   "id": "a5e45d56",
   "metadata": {
    "execution": {
     "iopub.execute_input": "2025-09-25T05:54:33.278593Z",
     "iopub.status.busy": "2025-09-25T05:54:33.278454Z",
     "iopub.status.idle": "2025-09-25T05:54:33.281251Z",
     "shell.execute_reply": "2025-09-25T05:54:33.280858Z"
    }
   },
   "outputs": [
    {
     "data": {
      "text/plain": [
       "123"
      ]
     },
     "execution_count": 35,
     "metadata": {},
     "output_type": "execute_result"
    }
   ],
   "source": [
    "abs_value(123)"
   ]
  },
  {
   "cell_type": "code",
   "execution_count": 36,
   "id": "2f7045f1",
   "metadata": {
    "execution": {
     "iopub.execute_input": "2025-09-25T05:54:33.282456Z",
     "iopub.status.busy": "2025-09-25T05:54:33.282322Z",
     "iopub.status.idle": "2025-09-25T05:54:33.284567Z",
     "shell.execute_reply": "2025-09-25T05:54:33.284165Z"
    }
   },
   "outputs": [],
   "source": [
    "def long_div(dividend, divisor):\n",
    "    quotient = dividend // divisor  # // : floor division\n",
    "    remainder = dividend % divisor  # % : modulo\n",
    "    return quotient, remainder"
   ]
  },
  {
   "cell_type": "code",
   "execution_count": 37,
   "id": "079064c2",
   "metadata": {
    "execution": {
     "iopub.execute_input": "2025-09-25T05:54:33.285742Z",
     "iopub.status.busy": "2025-09-25T05:54:33.285599Z",
     "iopub.status.idle": "2025-09-25T05:54:33.288895Z",
     "shell.execute_reply": "2025-09-25T05:54:33.288420Z"
    }
   },
   "outputs": [
    {
     "data": {
      "text/plain": [
       "(17, 5)"
      ]
     },
     "execution_count": 37,
     "metadata": {},
     "output_type": "execute_result"
    }
   ],
   "source": [
    "a = 430\n",
    "b = 25\n",
    "\n",
    "quo, rem = long_div(a, b)\n",
    "\n",
    "quo, rem"
   ]
  },
  {
   "cell_type": "code",
   "execution_count": 38,
   "id": "f3a1f6e7",
   "metadata": {
    "execution": {
     "iopub.execute_input": "2025-09-25T05:54:33.290079Z",
     "iopub.status.busy": "2025-09-25T05:54:33.289945Z",
     "iopub.status.idle": "2025-09-25T05:54:33.292615Z",
     "shell.execute_reply": "2025-09-25T05:54:33.292212Z"
    }
   },
   "outputs": [
    {
     "name": "stdout",
     "output_type": "stream",
     "text": [
      "430 divided 25 is 17 remainder 5\n"
     ]
    }
   ],
   "source": [
    "msg = '{} divided {} is {} remainder {}'.format(a, b, quo, rem)\n",
    "print(msg)"
   ]
  },
  {
   "cell_type": "code",
   "execution_count": 39,
   "id": "e2ba5a19",
   "metadata": {
    "execution": {
     "iopub.execute_input": "2025-09-25T05:54:33.293803Z",
     "iopub.status.busy": "2025-09-25T05:54:33.293673Z",
     "iopub.status.idle": "2025-09-25T05:54:33.296247Z",
     "shell.execute_reply": "2025-09-25T05:54:33.295822Z"
    }
   },
   "outputs": [
    {
     "name": "stdout",
     "output_type": "stream",
     "text": [
      "3.11.13 | packaged by conda-forge | (main, Jun  4 2025, 14:48:23) [GCC 13.3.0]\n"
     ]
    }
   ],
   "source": [
    "import sys\n",
    "\n",
    "print(sys.version)"
   ]
  },
  {
   "cell_type": "code",
   "execution_count": 40,
   "id": "eae4ab4b",
   "metadata": {
    "execution": {
     "iopub.execute_input": "2025-09-25T05:54:33.297401Z",
     "iopub.status.busy": "2025-09-25T05:54:33.297260Z",
     "iopub.status.idle": "2025-09-25T05:54:33.299865Z",
     "shell.execute_reply": "2025-09-25T05:54:33.299455Z"
    }
   },
   "outputs": [
    {
     "name": "stdout",
     "output_type": "stream",
     "text": [
      "3.11.13 | packaged by conda-forge | (main, Jun  4 2025, 14:48:23) [GCC 13.3.0]\n"
     ]
    }
   ],
   "source": [
    "from sys import version\n",
    "\n",
    "print(version)"
   ]
  },
  {
   "cell_type": "code",
   "execution_count": 41,
   "id": "b51f5531",
   "metadata": {
    "execution": {
     "iopub.execute_input": "2025-09-25T05:54:33.301130Z",
     "iopub.status.busy": "2025-09-25T05:54:33.300994Z",
     "iopub.status.idle": "2025-09-25T05:54:33.827830Z",
     "shell.execute_reply": "2025-09-25T05:54:33.827332Z"
    }
   },
   "outputs": [],
   "source": [
    "import sympy as sm\n",
    "import numpy as np\n",
    "import matplotlib.pyplot as plt"
   ]
  },
  {
   "cell_type": "code",
   "execution_count": 42,
   "id": "868a4a0c",
   "metadata": {
    "execution": {
     "iopub.execute_input": "2025-09-25T05:54:33.829532Z",
     "iopub.status.busy": "2025-09-25T05:54:33.829336Z",
     "iopub.status.idle": "2025-09-25T05:54:33.833806Z",
     "shell.execute_reply": "2025-09-25T05:54:33.833323Z"
    }
   },
   "outputs": [
    {
     "data": {
      "text/latex": [
       "$\\displaystyle 0.843853958732492$"
      ],
      "text/plain": [
       "0.843853958732492"
      ]
     },
     "execution_count": 42,
     "metadata": {},
     "output_type": "execute_result"
    }
   ],
   "source": [
    "sm.cos(12.0)"
   ]
  },
  {
   "cell_type": "code",
   "execution_count": 43,
   "id": "25037d60",
   "metadata": {
    "execution": {
     "iopub.execute_input": "2025-09-25T05:54:33.835263Z",
     "iopub.status.busy": "2025-09-25T05:54:33.835102Z",
     "iopub.status.idle": "2025-09-25T05:54:33.837995Z",
     "shell.execute_reply": "2025-09-25T05:54:33.837625Z"
    }
   },
   "outputs": [
    {
     "data": {
      "text/plain": [
       "0.8438539587324921"
      ]
     },
     "execution_count": 43,
     "metadata": {},
     "output_type": "execute_result"
    }
   ],
   "source": [
    "np.cos(12.0)"
   ]
  }
 ],
 "metadata": {
  "kernelspec": {
   "display_name": "Python 3 (ipykernel)",
   "language": "python",
   "name": "python3"
  },
  "language_info": {
   "codemirror_mode": {
    "name": "ipython",
    "version": 3
   },
   "file_extension": ".py",
   "mimetype": "text/x-python",
   "name": "python",
   "nbconvert_exporter": "python",
   "pygments_lexer": "ipython3",
   "version": "3.11.13"
  }
 },
 "nbformat": 4,
 "nbformat_minor": 5
}