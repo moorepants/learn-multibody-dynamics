{
 "cells": [
  {
   "cell_type": "code",
   "execution_count": 1,
   "id": "9716bb7e",
   "metadata": {
    "execution": {
     "iopub.execute_input": "2025-01-22T13:09:15.025439Z",
     "iopub.status.busy": "2025-01-22T13:09:15.025287Z",
     "iopub.status.idle": "2025-01-22T13:09:15.032751Z",
     "shell.execute_reply": "2025-01-22T13:09:15.032301Z"
    }
   },
   "outputs": [
    {
     "data": {
      "application/json": {
       "cell": {
        "!": "OSMagics",
        "HTML": "Other",
        "SVG": "Other",
        "bash": "Other",
        "capture": "ExecutionMagics",
        "code_wrap": "ExecutionMagics",
        "debug": "ExecutionMagics",
        "file": "Other",
        "html": "DisplayMagics",
        "javascript": "DisplayMagics",
        "js": "DisplayMagics",
        "latex": "DisplayMagics",
        "markdown": "DisplayMagics",
        "perl": "Other",
        "prun": "ExecutionMagics",
        "pypy": "Other",
        "python": "Other",
        "python2": "Other",
        "python3": "Other",
        "ruby": "Other",
        "script": "ScriptMagics",
        "sh": "Other",
        "svg": "DisplayMagics",
        "sx": "OSMagics",
        "system": "OSMagics",
        "time": "ExecutionMagics",
        "timeit": "ExecutionMagics",
        "writefile": "OSMagics"
       },
       "line": {
        "alias": "OSMagics",
        "alias_magic": "BasicMagics",
        "autoawait": "AsyncMagics",
        "autocall": "AutoMagics",
        "automagic": "AutoMagics",
        "autosave": "KernelMagics",
        "bookmark": "OSMagics",
        "cat": "Other",
        "cd": "OSMagics",
        "clear": "KernelMagics",
        "code_wrap": "ExecutionMagics",
        "colors": "BasicMagics",
        "conda": "PackagingMagics",
        "config": "ConfigMagics",
        "connect_info": "KernelMagics",
        "cp": "Other",
        "debug": "ExecutionMagics",
        "dhist": "OSMagics",
        "dirs": "OSMagics",
        "doctest_mode": "BasicMagics",
        "ed": "Other",
        "edit": "KernelMagics",
        "env": "OSMagics",
        "gui": "BasicMagics",
        "hist": "Other",
        "history": "HistoryMagics",
        "killbgscripts": "ScriptMagics",
        "ldir": "Other",
        "less": "KernelMagics",
        "lf": "Other",
        "lk": "Other",
        "ll": "Other",
        "load": "CodeMagics",
        "load_ext": "ExtensionMagics",
        "loadpy": "CodeMagics",
        "logoff": "LoggingMagics",
        "logon": "LoggingMagics",
        "logstart": "LoggingMagics",
        "logstate": "LoggingMagics",
        "logstop": "LoggingMagics",
        "ls": "Other",
        "lsmagic": "BasicMagics",
        "lx": "Other",
        "macro": "ExecutionMagics",
        "magic": "BasicMagics",
        "mamba": "PackagingMagics",
        "man": "KernelMagics",
        "matplotlib": "PylabMagics",
        "micromamba": "PackagingMagics",
        "mkdir": "Other",
        "more": "KernelMagics",
        "mv": "Other",
        "notebook": "BasicMagics",
        "page": "BasicMagics",
        "pastebin": "CodeMagics",
        "pdb": "ExecutionMagics",
        "pdef": "NamespaceMagics",
        "pdoc": "NamespaceMagics",
        "pfile": "NamespaceMagics",
        "pinfo": "NamespaceMagics",
        "pinfo2": "NamespaceMagics",
        "pip": "PackagingMagics",
        "popd": "OSMagics",
        "pprint": "BasicMagics",
        "precision": "BasicMagics",
        "prun": "ExecutionMagics",
        "psearch": "NamespaceMagics",
        "psource": "NamespaceMagics",
        "pushd": "OSMagics",
        "pwd": "OSMagics",
        "pycat": "OSMagics",
        "pylab": "PylabMagics",
        "qtconsole": "KernelMagics",
        "quickref": "BasicMagics",
        "recall": "HistoryMagics",
        "rehashx": "OSMagics",
        "reload_ext": "ExtensionMagics",
        "rep": "Other",
        "rerun": "HistoryMagics",
        "reset": "NamespaceMagics",
        "reset_selective": "NamespaceMagics",
        "rm": "Other",
        "rmdir": "Other",
        "run": "ExecutionMagics",
        "save": "CodeMagics",
        "sc": "OSMagics",
        "set_env": "OSMagics",
        "store": "StoreMagics",
        "sx": "OSMagics",
        "system": "OSMagics",
        "tb": "ExecutionMagics",
        "time": "ExecutionMagics",
        "timeit": "ExecutionMagics",
        "unalias": "OSMagics",
        "unload_ext": "ExtensionMagics",
        "who": "NamespaceMagics",
        "who_ls": "NamespaceMagics",
        "whos": "NamespaceMagics",
        "xdel": "NamespaceMagics",
        "xmode": "BasicMagics"
       }
      },
      "text/plain": [
       "Available line magics:\n",
       "%alias  %alias_magic  %autoawait  %autocall  %automagic  %autosave  %bookmark  %cat  %cd  %clear  %code_wrap  %colors  %conda  %config  %connect_info  %cp  %debug  %dhist  %dirs  %doctest_mode  %ed  %edit  %env  %gui  %hist  %history  %killbgscripts  %ldir  %less  %lf  %lk  %ll  %load  %load_ext  %loadpy  %logoff  %logon  %logstart  %logstate  %logstop  %ls  %lsmagic  %lx  %macro  %magic  %mamba  %man  %matplotlib  %micromamba  %mkdir  %more  %mv  %notebook  %page  %pastebin  %pdb  %pdef  %pdoc  %pfile  %pinfo  %pinfo2  %pip  %popd  %pprint  %precision  %prun  %psearch  %psource  %pushd  %pwd  %pycat  %pylab  %qtconsole  %quickref  %recall  %rehashx  %reload_ext  %rep  %rerun  %reset  %reset_selective  %rm  %rmdir  %run  %save  %sc  %set_env  %store  %sx  %system  %tb  %time  %timeit  %unalias  %unload_ext  %who  %who_ls  %whos  %xdel  %xmode\n",
       "\n",
       "Available cell magics:\n",
       "%%!  %%HTML  %%SVG  %%bash  %%capture  %%code_wrap  %%debug  %%file  %%html  %%javascript  %%js  %%latex  %%markdown  %%perl  %%prun  %%pypy  %%python  %%python2  %%python3  %%ruby  %%script  %%sh  %%svg  %%sx  %%system  %%time  %%timeit  %%writefile\n",
       "\n",
       "Automagic is ON, % prefix IS NOT needed for line magics."
      ]
     },
     "execution_count": 1,
     "metadata": {},
     "output_type": "execute_result"
    }
   ],
   "source": [
    "%lsmagic"
   ]
  },
  {
   "cell_type": "code",
   "execution_count": 2,
   "id": "fe622b34",
   "metadata": {
    "execution": {
     "iopub.execute_input": "2025-01-22T13:09:15.034177Z",
     "iopub.status.busy": "2025-01-22T13:09:15.034002Z",
     "iopub.status.idle": "2025-01-22T13:09:15.036783Z",
     "shell.execute_reply": "2025-01-22T13:09:15.036378Z"
    }
   },
   "outputs": [
    {
     "name": "stdout",
     "output_type": "stream",
     "text": [
      "Variable   Type    Data/Info\n",
      "----------------------------\n",
      "a          int     5\n"
     ]
    }
   ],
   "source": [
    "a = 5\n",
    "\n",
    "%whos"
   ]
  },
  {
   "cell_type": "code",
   "execution_count": 3,
   "id": "c7e94462",
   "metadata": {
    "execution": {
     "iopub.execute_input": "2025-01-22T13:09:15.038088Z",
     "iopub.status.busy": "2025-01-22T13:09:15.037925Z",
     "iopub.status.idle": "2025-01-22T13:09:15.040472Z",
     "shell.execute_reply": "2025-01-22T13:09:15.040015Z"
    }
   },
   "outputs": [],
   "source": [
    "?"
   ]
  },
  {
   "cell_type": "code",
   "execution_count": 4,
   "id": "f82b645c",
   "metadata": {
    "execution": {
     "iopub.execute_input": "2025-01-22T13:09:15.041785Z",
     "iopub.status.busy": "2025-01-22T13:09:15.041639Z",
     "iopub.status.idle": "2025-01-22T13:09:15.044853Z",
     "shell.execute_reply": "2025-01-22T13:09:15.044382Z"
    }
   },
   "outputs": [],
   "source": [
    "%quickref"
   ]
  },
  {
   "cell_type": "code",
   "execution_count": 5,
   "id": "e16361c1",
   "metadata": {
    "execution": {
     "iopub.execute_input": "2025-01-22T13:09:15.046194Z",
     "iopub.status.busy": "2025-01-22T13:09:15.046019Z",
     "iopub.status.idle": "2025-01-22T13:09:15.072830Z",
     "shell.execute_reply": "2025-01-22T13:09:15.072309Z"
    }
   },
   "outputs": [],
   "source": [
    "round?"
   ]
  },
  {
   "cell_type": "code",
   "execution_count": 6,
   "id": "e7be9a60",
   "metadata": {
    "execution": {
     "iopub.execute_input": "2025-01-22T13:09:15.074398Z",
     "iopub.status.busy": "2025-01-22T13:09:15.074237Z",
     "iopub.status.idle": "2025-01-22T13:09:15.078433Z",
     "shell.execute_reply": "2025-01-22T13:09:15.078031Z"
    }
   },
   "outputs": [
    {
     "data": {
      "text/plain": [
       "(int, float, float, str, str, complex, bool)"
      ]
     },
     "execution_count": 6,
     "metadata": {},
     "output_type": "execute_result"
    }
   ],
   "source": [
    "a = 5\n",
    "b = 5.0\n",
    "c = float(5)\n",
    "d = 'dee'\n",
    "e = 'e'\n",
    "f = 2+3j\n",
    "g = True\n",
    "\n",
    "type(a), type(b), type(c), type(d), type(e), type(f), type(g)"
   ]
  },
  {
   "cell_type": "code",
   "execution_count": 7,
   "id": "02686bbf",
   "metadata": {
    "execution": {
     "iopub.execute_input": "2025-01-22T13:09:15.079749Z",
     "iopub.status.busy": "2025-01-22T13:09:15.079599Z",
     "iopub.status.idle": "2025-01-22T13:09:15.082650Z",
     "shell.execute_reply": "2025-01-22T13:09:15.082259Z"
    }
   },
   "outputs": [],
   "source": [
    "empty_list = []\n",
    "\n",
    "string_list = ['lions', 'tigers', 'bears', 'sharks', 'hamsters']\n",
    "\n",
    "int_list = [0, 1, 2, 3, 4]\n",
    "\n",
    "int_list2 = list(range(5,10))\n",
    "\n",
    "list_from_variables = [a, b, c, d, e]\n",
    "\n",
    "list_of_lists = [empty_list,\n",
    "                 string_list,\n",
    "                 list_from_variables,\n",
    "                 int_list,\n",
    "                 int_list2]"
   ]
  },
  {
   "cell_type": "code",
   "execution_count": 8,
   "id": "65558ab5",
   "metadata": {
    "execution": {
     "iopub.execute_input": "2025-01-22T13:09:15.083905Z",
     "iopub.status.busy": "2025-01-22T13:09:15.083754Z",
     "iopub.status.idle": "2025-01-22T13:09:15.087014Z",
     "shell.execute_reply": "2025-01-22T13:09:15.086628Z"
    }
   },
   "outputs": [
    {
     "data": {
      "text/plain": [
       "[]"
      ]
     },
     "execution_count": 8,
     "metadata": {},
     "output_type": "execute_result"
    }
   ],
   "source": [
    "empty_list"
   ]
  },
  {
   "cell_type": "code",
   "execution_count": 9,
   "id": "f2112dd6",
   "metadata": {
    "execution": {
     "iopub.execute_input": "2025-01-22T13:09:15.088267Z",
     "iopub.status.busy": "2025-01-22T13:09:15.088125Z",
     "iopub.status.idle": "2025-01-22T13:09:15.091305Z",
     "shell.execute_reply": "2025-01-22T13:09:15.090836Z"
    }
   },
   "outputs": [
    {
     "data": {
      "text/plain": [
       "['lions', 'tigers', 'bears', 'sharks', 'hamsters']"
      ]
     },
     "execution_count": 9,
     "metadata": {},
     "output_type": "execute_result"
    }
   ],
   "source": [
    "string_list"
   ]
  },
  {
   "cell_type": "code",
   "execution_count": 10,
   "id": "629092b3",
   "metadata": {
    "execution": {
     "iopub.execute_input": "2025-01-22T13:09:15.092639Z",
     "iopub.status.busy": "2025-01-22T13:09:15.092495Z",
     "iopub.status.idle": "2025-01-22T13:09:15.095578Z",
     "shell.execute_reply": "2025-01-22T13:09:15.095115Z"
    }
   },
   "outputs": [
    {
     "data": {
      "text/plain": [
       "[0, 1, 2, 3, 4]"
      ]
     },
     "execution_count": 10,
     "metadata": {},
     "output_type": "execute_result"
    }
   ],
   "source": [
    "int_list"
   ]
  },
  {
   "cell_type": "code",
   "execution_count": 11,
   "id": "7749a363",
   "metadata": {
    "execution": {
     "iopub.execute_input": "2025-01-22T13:09:15.096893Z",
     "iopub.status.busy": "2025-01-22T13:09:15.096746Z",
     "iopub.status.idle": "2025-01-22T13:09:15.099940Z",
     "shell.execute_reply": "2025-01-22T13:09:15.099483Z"
    }
   },
   "outputs": [
    {
     "data": {
      "text/plain": [
       "[5, 6, 7, 8, 9]"
      ]
     },
     "execution_count": 11,
     "metadata": {},
     "output_type": "execute_result"
    }
   ],
   "source": [
    "int_list2"
   ]
  },
  {
   "cell_type": "code",
   "execution_count": 12,
   "id": "c3d9e6c2",
   "metadata": {
    "execution": {
     "iopub.execute_input": "2025-01-22T13:09:15.101392Z",
     "iopub.status.busy": "2025-01-22T13:09:15.101090Z",
     "iopub.status.idle": "2025-01-22T13:09:15.104210Z",
     "shell.execute_reply": "2025-01-22T13:09:15.103730Z"
    }
   },
   "outputs": [
    {
     "data": {
      "text/plain": [
       "[5, 5.0, 5.0, 'dee', 'e']"
      ]
     },
     "execution_count": 12,
     "metadata": {},
     "output_type": "execute_result"
    }
   ],
   "source": [
    "list_from_variables"
   ]
  },
  {
   "cell_type": "code",
   "execution_count": 13,
   "id": "49e326f0",
   "metadata": {
    "execution": {
     "iopub.execute_input": "2025-01-22T13:09:15.105532Z",
     "iopub.status.busy": "2025-01-22T13:09:15.105387Z",
     "iopub.status.idle": "2025-01-22T13:09:15.108820Z",
     "shell.execute_reply": "2025-01-22T13:09:15.108348Z"
    }
   },
   "outputs": [
    {
     "data": {
      "text/plain": [
       "[[],\n",
       " ['lions', 'tigers', 'bears', 'sharks', 'hamsters'],\n",
       " [5, 5.0, 5.0, 'dee', 'e'],\n",
       " [0, 1, 2, 3, 4],\n",
       " [5, 6, 7, 8, 9]]"
      ]
     },
     "execution_count": 13,
     "metadata": {},
     "output_type": "execute_result"
    }
   ],
   "source": [
    "list_of_lists"
   ]
  },
  {
   "cell_type": "code",
   "execution_count": 14,
   "id": "f5e779e2",
   "metadata": {
    "execution": {
     "iopub.execute_input": "2025-01-22T13:09:15.110196Z",
     "iopub.status.busy": "2025-01-22T13:09:15.109900Z",
     "iopub.status.idle": "2025-01-22T13:09:15.113072Z",
     "shell.execute_reply": "2025-01-22T13:09:15.112639Z"
    }
   },
   "outputs": [
    {
     "data": {
      "text/plain": [
       "'lions'"
      ]
     },
     "execution_count": 14,
     "metadata": {},
     "output_type": "execute_result"
    }
   ],
   "source": [
    "string_list[0]"
   ]
  },
  {
   "cell_type": "code",
   "execution_count": 15,
   "id": "93adb4e8",
   "metadata": {
    "execution": {
     "iopub.execute_input": "2025-01-22T13:09:15.114464Z",
     "iopub.status.busy": "2025-01-22T13:09:15.114184Z",
     "iopub.status.idle": "2025-01-22T13:09:15.117239Z",
     "shell.execute_reply": "2025-01-22T13:09:15.116841Z"
    }
   },
   "outputs": [
    {
     "data": {
      "text/plain": [
       "['tigers', 'bears', 'sharks']"
      ]
     },
     "execution_count": 15,
     "metadata": {},
     "output_type": "execute_result"
    }
   ],
   "source": [
    "string_list[1:4]"
   ]
  },
  {
   "cell_type": "code",
   "execution_count": 16,
   "id": "e35ab3b2",
   "metadata": {
    "execution": {
     "iopub.execute_input": "2025-01-22T13:09:15.118454Z",
     "iopub.status.busy": "2025-01-22T13:09:15.118307Z",
     "iopub.status.idle": "2025-01-22T13:09:15.121489Z",
     "shell.execute_reply": "2025-01-22T13:09:15.121106Z"
    }
   },
   "outputs": [
    {
     "data": {
      "text/plain": [
       "[0, 2, 4]"
      ]
     },
     "execution_count": 16,
     "metadata": {},
     "output_type": "execute_result"
    }
   ],
   "source": [
    "int_list[::2]"
   ]
  },
  {
   "cell_type": "code",
   "execution_count": 17,
   "id": "4f5d9a39",
   "metadata": {
    "execution": {
     "iopub.execute_input": "2025-01-22T13:09:15.122943Z",
     "iopub.status.busy": "2025-01-22T13:09:15.122563Z",
     "iopub.status.idle": "2025-01-22T13:09:15.125798Z",
     "shell.execute_reply": "2025-01-22T13:09:15.125350Z"
    }
   },
   "outputs": [
    {
     "data": {
      "text/plain": [
       "'hamsters'"
      ]
     },
     "execution_count": 17,
     "metadata": {},
     "output_type": "execute_result"
    }
   ],
   "source": [
    "list_of_lists[1][4]"
   ]
  },
  {
   "cell_type": "code",
   "execution_count": 18,
   "id": "a8ec5e89",
   "metadata": {
    "execution": {
     "iopub.execute_input": "2025-01-22T13:09:15.127268Z",
     "iopub.status.busy": "2025-01-22T13:09:15.126902Z",
     "iopub.status.idle": "2025-01-22T13:09:15.129387Z",
     "shell.execute_reply": "2025-01-22T13:09:15.128999Z"
    }
   },
   "outputs": [],
   "source": [
    "int_list[2] = 222\n",
    "\n",
    "int_list.append(5)\n",
    "\n",
    "string_list.remove('lions')\n",
    "\n",
    "list_from_variables.extend(int_list)"
   ]
  },
  {
   "cell_type": "code",
   "execution_count": 19,
   "id": "4f6a4f30",
   "metadata": {
    "execution": {
     "iopub.execute_input": "2025-01-22T13:09:15.130658Z",
     "iopub.status.busy": "2025-01-22T13:09:15.130510Z",
     "iopub.status.idle": "2025-01-22T13:09:15.133704Z",
     "shell.execute_reply": "2025-01-22T13:09:15.133316Z"
    }
   },
   "outputs": [
    {
     "data": {
      "text/plain": [
       "[0, 1, 222, 3, 4, 5]"
      ]
     },
     "execution_count": 19,
     "metadata": {},
     "output_type": "execute_result"
    }
   ],
   "source": [
    "int_list"
   ]
  },
  {
   "cell_type": "code",
   "execution_count": 20,
   "id": "4a9d3aa4",
   "metadata": {
    "execution": {
     "iopub.execute_input": "2025-01-22T13:09:15.134942Z",
     "iopub.status.busy": "2025-01-22T13:09:15.134807Z",
     "iopub.status.idle": "2025-01-22T13:09:15.137908Z",
     "shell.execute_reply": "2025-01-22T13:09:15.137531Z"
    }
   },
   "outputs": [
    {
     "data": {
      "text/plain": [
       "['tigers', 'bears', 'sharks', 'hamsters']"
      ]
     },
     "execution_count": 20,
     "metadata": {},
     "output_type": "execute_result"
    }
   ],
   "source": [
    "string_list"
   ]
  },
  {
   "cell_type": "code",
   "execution_count": 21,
   "id": "85776411",
   "metadata": {
    "execution": {
     "iopub.execute_input": "2025-01-22T13:09:15.139181Z",
     "iopub.status.busy": "2025-01-22T13:09:15.139031Z",
     "iopub.status.idle": "2025-01-22T13:09:15.142236Z",
     "shell.execute_reply": "2025-01-22T13:09:15.141748Z"
    }
   },
   "outputs": [
    {
     "data": {
      "text/plain": [
       "[5, 5.0, 5.0, 'dee', 'e', 0, 1, 222, 3, 4, 5]"
      ]
     },
     "execution_count": 21,
     "metadata": {},
     "output_type": "execute_result"
    }
   ],
   "source": [
    "list_from_variables"
   ]
  },
  {
   "cell_type": "code",
   "execution_count": 22,
   "id": "2623f5a0",
   "metadata": {
    "execution": {
     "iopub.execute_input": "2025-01-22T13:09:15.143822Z",
     "iopub.status.busy": "2025-01-22T13:09:15.143456Z",
     "iopub.status.idle": "2025-01-22T13:09:15.146792Z",
     "shell.execute_reply": "2025-01-22T13:09:15.146342Z"
    }
   },
   "outputs": [
    {
     "data": {
      "text/plain": [
       "(32, 'tall', 'likes hats')"
      ]
     },
     "execution_count": 22,
     "metadata": {},
     "output_type": "execute_result"
    }
   ],
   "source": [
    "joe_blow = (32, 'tall', 'likes hats')\n",
    "joe_blow"
   ]
  },
  {
   "cell_type": "code",
   "execution_count": 23,
   "id": "eee0bb9c",
   "metadata": {
    "execution": {
     "iopub.execute_input": "2025-01-22T13:09:15.148158Z",
     "iopub.status.busy": "2025-01-22T13:09:15.147865Z",
     "iopub.status.idle": "2025-01-22T13:09:15.150862Z",
     "shell.execute_reply": "2025-01-22T13:09:15.150508Z"
    }
   },
   "outputs": [
    {
     "data": {
      "text/plain": [
       "'tall'"
      ]
     },
     "execution_count": 23,
     "metadata": {},
     "output_type": "execute_result"
    }
   ],
   "source": [
    "joe_blow[1]"
   ]
  },
  {
   "cell_type": "code",
   "execution_count": 24,
   "id": "9dc1042e",
   "metadata": {
    "execution": {
     "iopub.execute_input": "2025-01-22T13:09:15.152116Z",
     "iopub.status.busy": "2025-01-22T13:09:15.151965Z",
     "iopub.status.idle": "2025-01-22T13:09:15.250176Z",
     "shell.execute_reply": "2025-01-22T13:09:15.249664Z"
    }
   },
   "outputs": [
    {
     "ename": "AttributeError",
     "evalue": "'tuple' object has no attribute 'append'",
     "output_type": "error",
     "traceback": [
      "\u001b[0;31m---------------------------------------------------------------------------\u001b[0m",
      "\u001b[0;31mAttributeError\u001b[0m                            Traceback (most recent call last)",
      "Cell \u001b[0;32mIn[24], line 1\u001b[0m\n\u001b[0;32m----> 1\u001b[0m \u001b[43mjoe_blow\u001b[49m\u001b[38;5;241;43m.\u001b[39;49m\u001b[43mappend\u001b[49m(\u001b[38;5;124m'\u001b[39m\u001b[38;5;124mmarried\u001b[39m\u001b[38;5;124m'\u001b[39m)\n",
      "\u001b[0;31mAttributeError\u001b[0m: 'tuple' object has no attribute 'append'"
     ]
    }
   ],
   "source": [
    "joe_blow.append('married')"
   ]
  },
  {
   "cell_type": "code",
   "execution_count": 25,
   "id": "b227720c",
   "metadata": {
    "execution": {
     "iopub.execute_input": "2025-01-22T13:09:15.251791Z",
     "iopub.status.busy": "2025-01-22T13:09:15.251485Z",
     "iopub.status.idle": "2025-01-22T13:09:15.261557Z",
     "shell.execute_reply": "2025-01-22T13:09:15.261060Z"
    }
   },
   "outputs": [
    {
     "ename": "TypeError",
     "evalue": "'tuple' object does not support item assignment",
     "output_type": "error",
     "traceback": [
      "\u001b[0;31m---------------------------------------------------------------------------\u001b[0m",
      "\u001b[0;31mTypeError\u001b[0m                                 Traceback (most recent call last)",
      "Cell \u001b[0;32mIn[25], line 1\u001b[0m\n\u001b[0;32m----> 1\u001b[0m \u001b[43mjoe_blow\u001b[49m\u001b[43m[\u001b[49m\u001b[38;5;241;43m2\u001b[39;49m\u001b[43m]\u001b[49m \u001b[38;5;241m=\u001b[39m \u001b[38;5;124m'\u001b[39m\u001b[38;5;124mnot really a fan of hats\u001b[39m\u001b[38;5;124m'\u001b[39m\n",
      "\u001b[0;31mTypeError\u001b[0m: 'tuple' object does not support item assignment"
     ]
    }
   ],
   "source": [
    "joe_blow[2] = 'not really a fan of hats'"
   ]
  },
  {
   "cell_type": "code",
   "execution_count": 26,
   "id": "5be29740",
   "metadata": {
    "execution": {
     "iopub.execute_input": "2025-01-22T13:09:15.263226Z",
     "iopub.status.busy": "2025-01-22T13:09:15.262831Z",
     "iopub.status.idle": "2025-01-22T13:09:15.266533Z",
     "shell.execute_reply": "2025-01-22T13:09:15.266063Z"
    }
   },
   "outputs": [
    {
     "data": {
      "text/plain": [
       "'elephant'"
      ]
     },
     "execution_count": 26,
     "metadata": {},
     "output_type": "execute_result"
    }
   ],
   "source": [
    "pets = ('elephant', 'cow', 'rock')\n",
    "\n",
    "pet1, pet2, pet3 = pets\n",
    "\n",
    "pet1"
   ]
  },
  {
   "cell_type": "code",
   "execution_count": 27,
   "id": "b0aed7a6",
   "metadata": {
    "execution": {
     "iopub.execute_input": "2025-01-22T13:09:15.268276Z",
     "iopub.status.busy": "2025-01-22T13:09:15.267775Z",
     "iopub.status.idle": "2025-01-22T13:09:15.271169Z",
     "shell.execute_reply": "2025-01-22T13:09:15.270669Z"
    }
   },
   "outputs": [
    {
     "data": {
      "text/plain": [
       "('elephant',)"
      ]
     },
     "execution_count": 27,
     "metadata": {},
     "output_type": "execute_result"
    }
   ],
   "source": [
    "tuple_with_one_item = pet1,\n",
    "\n",
    "tuple_with_one_item"
   ]
  },
  {
   "cell_type": "code",
   "execution_count": 28,
   "id": "ff06f12e",
   "metadata": {
    "execution": {
     "iopub.execute_input": "2025-01-22T13:09:15.272692Z",
     "iopub.status.busy": "2025-01-22T13:09:15.272396Z",
     "iopub.status.idle": "2025-01-22T13:09:15.275786Z",
     "shell.execute_reply": "2025-01-22T13:09:15.275316Z"
    }
   },
   "outputs": [
    {
     "data": {
      "text/plain": [
       "{'key1': 'value1', 'key2': 'value2', 'key3': 'value3'}"
      ]
     },
     "execution_count": 28,
     "metadata": {},
     "output_type": "execute_result"
    }
   ],
   "source": [
    "dictionary0 = {'key1': 'value1', 'key2': 'value2', 'key3': 'value3'}\n",
    "dictionary0"
   ]
  },
  {
   "cell_type": "code",
   "execution_count": 29,
   "id": "aab9dd95",
   "metadata": {
    "execution": {
     "iopub.execute_input": "2025-01-22T13:09:15.277426Z",
     "iopub.status.busy": "2025-01-22T13:09:15.277012Z",
     "iopub.status.idle": "2025-01-22T13:09:15.280618Z",
     "shell.execute_reply": "2025-01-22T13:09:15.280139Z"
    }
   },
   "outputs": [
    {
     "data": {
      "text/plain": [
       "{1: 'value1', 2: 'value2', 3: 'value3'}"
      ]
     },
     "execution_count": 29,
     "metadata": {},
     "output_type": "execute_result"
    }
   ],
   "source": [
    "dictionary1 = {1: 'value1', 2: 'value2', 3: 'value3'}\n",
    "dictionary1"
   ]
  },
  {
   "cell_type": "code",
   "execution_count": 30,
   "id": "2a8ef0f0",
   "metadata": {
    "execution": {
     "iopub.execute_input": "2025-01-22T13:09:15.281952Z",
     "iopub.status.busy": "2025-01-22T13:09:15.281809Z",
     "iopub.status.idle": "2025-01-22T13:09:15.285158Z",
     "shell.execute_reply": "2025-01-22T13:09:15.284670Z"
    }
   },
   "outputs": [
    {
     "data": {
      "text/plain": [
       "[1, 2, 3]"
      ]
     },
     "execution_count": 30,
     "metadata": {},
     "output_type": "execute_result"
    }
   ],
   "source": [
    "list(dictionary1.keys())"
   ]
  },
  {
   "cell_type": "code",
   "execution_count": 31,
   "id": "0389fb5f",
   "metadata": {
    "execution": {
     "iopub.execute_input": "2025-01-22T13:09:15.286555Z",
     "iopub.status.busy": "2025-01-22T13:09:15.286265Z",
     "iopub.status.idle": "2025-01-22T13:09:15.289547Z",
     "shell.execute_reply": "2025-01-22T13:09:15.289064Z"
    }
   },
   "outputs": [
    {
     "data": {
      "text/plain": [
       "['value1', 'value2', 'value3']"
      ]
     },
     "execution_count": 31,
     "metadata": {},
     "output_type": "execute_result"
    }
   ],
   "source": [
    "list(dictionary1.values())"
   ]
  },
  {
   "cell_type": "code",
   "execution_count": 32,
   "id": "1e9ae495",
   "metadata": {
    "execution": {
     "iopub.execute_input": "2025-01-22T13:09:15.290956Z",
     "iopub.status.busy": "2025-01-22T13:09:15.290667Z",
     "iopub.status.idle": "2025-01-22T13:09:15.293971Z",
     "shell.execute_reply": "2025-01-22T13:09:15.293510Z"
    }
   },
   "outputs": [
    {
     "data": {
      "text/plain": [
       "50"
      ]
     },
     "execution_count": 32,
     "metadata": {},
     "output_type": "execute_result"
    }
   ],
   "source": [
    "cylinder = {'mass': 50, 'base': 10, 'height': 100}\n",
    "cylinder['mass']"
   ]
  },
  {
   "cell_type": "code",
   "execution_count": 33,
   "id": "b5d0fae8",
   "metadata": {
    "execution": {
     "iopub.execute_input": "2025-01-22T13:09:15.295523Z",
     "iopub.status.busy": "2025-01-22T13:09:15.295237Z",
     "iopub.status.idle": "2025-01-22T13:09:15.298830Z",
     "shell.execute_reply": "2025-01-22T13:09:15.298378Z"
    }
   },
   "outputs": [
    {
     "data": {
      "text/plain": [
       "{'mass01': 10, 'inertia01': 1, 'mass02': 50, 'inertia02': 5}"
      ]
     },
     "execution_count": 33,
     "metadata": {},
     "output_type": "execute_result"
    }
   ],
   "source": [
    "keys = ['mass01', 'inertia01', 'mass02', 'inertia02']\n",
    "values = [10, 1, 50, 5]\n",
    "dict(zip(keys, values))"
   ]
  },
  {
   "cell_type": "code",
   "execution_count": 34,
   "id": "bf82c720",
   "metadata": {
    "execution": {
     "iopub.execute_input": "2025-01-22T13:09:15.300295Z",
     "iopub.status.busy": "2025-01-22T13:09:15.299921Z",
     "iopub.status.idle": "2025-01-22T13:09:15.303514Z",
     "shell.execute_reply": "2025-01-22T13:09:15.303026Z"
    }
   },
   "outputs": [
    {
     "data": {
      "text/plain": [
       "100"
      ]
     },
     "execution_count": 34,
     "metadata": {},
     "output_type": "execute_result"
    }
   ],
   "source": [
    "def abs_value(A):\n",
    "    if A < 0:\n",
    "        A = -A\n",
    "    return A\n",
    "\n",
    "abs_value(-100)"
   ]
  },
  {
   "cell_type": "code",
   "execution_count": 35,
   "id": "159891df",
   "metadata": {
    "execution": {
     "iopub.execute_input": "2025-01-22T13:09:15.304818Z",
     "iopub.status.busy": "2025-01-22T13:09:15.304675Z",
     "iopub.status.idle": "2025-01-22T13:09:15.307852Z",
     "shell.execute_reply": "2025-01-22T13:09:15.307374Z"
    }
   },
   "outputs": [
    {
     "data": {
      "text/plain": [
       "123"
      ]
     },
     "execution_count": 35,
     "metadata": {},
     "output_type": "execute_result"
    }
   ],
   "source": [
    "abs_value(123)"
   ]
  },
  {
   "cell_type": "code",
   "execution_count": 36,
   "id": "3e673083",
   "metadata": {
    "execution": {
     "iopub.execute_input": "2025-01-22T13:09:15.309332Z",
     "iopub.status.busy": "2025-01-22T13:09:15.308978Z",
     "iopub.status.idle": "2025-01-22T13:09:15.311684Z",
     "shell.execute_reply": "2025-01-22T13:09:15.311191Z"
    }
   },
   "outputs": [],
   "source": [
    "def long_div(dividend, divisor):\n",
    "    quotient = dividend // divisor  # // : floor division\n",
    "    remainder = dividend % divisor  # % : modulo\n",
    "    return quotient, remainder"
   ]
  },
  {
   "cell_type": "code",
   "execution_count": 37,
   "id": "94212ab0",
   "metadata": {
    "execution": {
     "iopub.execute_input": "2025-01-22T13:09:15.312939Z",
     "iopub.status.busy": "2025-01-22T13:09:15.312791Z",
     "iopub.status.idle": "2025-01-22T13:09:15.316278Z",
     "shell.execute_reply": "2025-01-22T13:09:15.315797Z"
    }
   },
   "outputs": [
    {
     "data": {
      "text/plain": [
       "(17, 5)"
      ]
     },
     "execution_count": 37,
     "metadata": {},
     "output_type": "execute_result"
    }
   ],
   "source": [
    "a = 430\n",
    "b = 25\n",
    "\n",
    "quo, rem = long_div(a, b)\n",
    "\n",
    "quo, rem"
   ]
  },
  {
   "cell_type": "code",
   "execution_count": 38,
   "id": "9c71a13c",
   "metadata": {
    "execution": {
     "iopub.execute_input": "2025-01-22T13:09:15.317816Z",
     "iopub.status.busy": "2025-01-22T13:09:15.317518Z",
     "iopub.status.idle": "2025-01-22T13:09:15.320114Z",
     "shell.execute_reply": "2025-01-22T13:09:15.319695Z"
    }
   },
   "outputs": [
    {
     "name": "stdout",
     "output_type": "stream",
     "text": [
      "430 divided 25 is 17 remainder 5\n"
     ]
    }
   ],
   "source": [
    "msg = '{} divided {} is {} remainder {}'.format(a, b, quo, rem)\n",
    "print(msg)"
   ]
  },
  {
   "cell_type": "code",
   "execution_count": 39,
   "id": "fddf7908",
   "metadata": {
    "execution": {
     "iopub.execute_input": "2025-01-22T13:09:15.321420Z",
     "iopub.status.busy": "2025-01-22T13:09:15.321274Z",
     "iopub.status.idle": "2025-01-22T13:09:15.323995Z",
     "shell.execute_reply": "2025-01-22T13:09:15.323502Z"
    }
   },
   "outputs": [
    {
     "name": "stdout",
     "output_type": "stream",
     "text": [
      "3.11.11 | packaged by conda-forge | (main, Dec  5 2024, 14:17:24) [GCC 13.3.0]\n"
     ]
    }
   ],
   "source": [
    "import sys\n",
    "\n",
    "print(sys.version)"
   ]
  },
  {
   "cell_type": "code",
   "execution_count": 40,
   "id": "063689eb",
   "metadata": {
    "execution": {
     "iopub.execute_input": "2025-01-22T13:09:15.325327Z",
     "iopub.status.busy": "2025-01-22T13:09:15.325190Z",
     "iopub.status.idle": "2025-01-22T13:09:15.327945Z",
     "shell.execute_reply": "2025-01-22T13:09:15.327542Z"
    }
   },
   "outputs": [
    {
     "name": "stdout",
     "output_type": "stream",
     "text": [
      "3.11.11 | packaged by conda-forge | (main, Dec  5 2024, 14:17:24) [GCC 13.3.0]\n"
     ]
    }
   ],
   "source": [
    "from sys import version\n",
    "\n",
    "print(version)"
   ]
  },
  {
   "cell_type": "code",
   "execution_count": 41,
   "id": "3ca80c3e",
   "metadata": {
    "execution": {
     "iopub.execute_input": "2025-01-22T13:09:15.329233Z",
     "iopub.status.busy": "2025-01-22T13:09:15.329098Z",
     "iopub.status.idle": "2025-01-22T13:09:15.865745Z",
     "shell.execute_reply": "2025-01-22T13:09:15.865295Z"
    }
   },
   "outputs": [],
   "source": [
    "import sympy as sm\n",
    "import numpy as np\n",
    "import matplotlib.pyplot as plt"
   ]
  },
  {
   "cell_type": "code",
   "execution_count": 42,
   "id": "b017433e",
   "metadata": {
    "execution": {
     "iopub.execute_input": "2025-01-22T13:09:15.867603Z",
     "iopub.status.busy": "2025-01-22T13:09:15.867210Z",
     "iopub.status.idle": "2025-01-22T13:09:15.871620Z",
     "shell.execute_reply": "2025-01-22T13:09:15.871251Z"
    }
   },
   "outputs": [
    {
     "data": {
      "text/latex": [
       "$\\displaystyle 0.843853958732492$"
      ],
      "text/plain": [
       "0.843853958732492"
      ]
     },
     "execution_count": 42,
     "metadata": {},
     "output_type": "execute_result"
    }
   ],
   "source": [
    "sm.cos(12.0)"
   ]
  },
  {
   "cell_type": "code",
   "execution_count": 43,
   "id": "be2d3b3f",
   "metadata": {
    "execution": {
     "iopub.execute_input": "2025-01-22T13:09:15.872895Z",
     "iopub.status.busy": "2025-01-22T13:09:15.872751Z",
     "iopub.status.idle": "2025-01-22T13:09:15.875880Z",
     "shell.execute_reply": "2025-01-22T13:09:15.875511Z"
    }
   },
   "outputs": [
    {
     "data": {
      "text/plain": [
       "0.8438539587324921"
      ]
     },
     "execution_count": 43,
     "metadata": {},
     "output_type": "execute_result"
    }
   ],
   "source": [
    "np.cos(12.0)"
   ]
  }
 ],
 "metadata": {
  "kernelspec": {
   "display_name": "Python 3 (ipykernel)",
   "language": "python",
   "name": "python3"
  },
  "language_info": {
   "codemirror_mode": {
    "name": "ipython",
    "version": 3
   },
   "file_extension": ".py",
   "mimetype": "text/x-python",
   "name": "python",
   "nbconvert_exporter": "python",
   "pygments_lexer": "ipython3",
   "version": "3.11.11"
  }
 },
 "nbformat": 4,
 "nbformat_minor": 5
}